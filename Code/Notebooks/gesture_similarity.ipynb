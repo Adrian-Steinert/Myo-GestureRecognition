{
 "cells": [
  {
   "cell_type": "markdown",
   "metadata": {},
   "source": [
    "# Ähnlichkeitsmaße für Gesten"
   ]
  },
  {
   "cell_type": "code",
   "execution_count": null,
   "metadata": {
    "collapsed": true
   },
   "outputs": [],
   "source": [
    "import os\n",
    "import sys\n",
    "import numpy as np\n",
    "import scipy.spatial.distance as dis\n",
    "import scipy.stats as st\n",
    "import time\n",
    "\n",
    "from glob import glob\n",
    "from gesture_comparison_helper import load_gestures\n",
    "from itertools import combinations, combinations_with_replacement"
   ]
  },
  {
   "cell_type": "code",
   "execution_count": null,
   "metadata": {},
   "outputs": [],
   "source": [
    "module_path = os.path.abspath(os.path.join('..'))\n",
    "if module_path not in sys.path:\n",
    "    sys.path.append(module_path)\n",
    "from Utils.data_preparation_helper import prepare_data"
   ]
  },
  {
   "cell_type": "code",
   "execution_count": null,
   "metadata": {
    "collapsed": true
   },
   "outputs": [],
   "source": [
    "def calculate_similarity(a, b, sim_type):\n",
    "    if sim_type == 'cosine':\n",
    "        return np.dot(a,b)/(np.linalg.norm(a)*np.linalg.norm(b))\n",
    "    elif sim_type == 'euclid':\n",
    "        return 1/(1+dis.euclidean(a, b))\n",
    "    elif sim_type == 'pearson':\n",
    "        return st.pearsonr(a, b)[0]\n",
    "    else:\n",
    "        print('sim_type value \"{}\" is not supported, choose cosine, eucild or pearson instead'.format(sim_type))"
   ]
  },
  {
   "cell_type": "code",
   "execution_count": null,
   "metadata": {
    "collapsed": true
   },
   "outputs": [],
   "source": [
    "FRAME_NUMBER = 3\n",
    "sensors = ['accelerometer', 'gyro', 'emg', 'orientation']\n",
    "sensor_weights = [0.25, 0.25, 0.25, 0.25]\n",
    "\n",
    "own = ['big_stop', 'come_down', 'come_here', 'come_up', 'flip', 'small_stop']\n",
    "paper = ['hcwh', 'hcwv', 'hcws',\n",
    "         'hcch', 'hccv', 'hccs',\n",
    "         'tcwh', 'tcwv', 'tcws',\n",
    "         'tcch', 'tccv', 'tccs',\n",
    "         'lcwh', 'lcwv', 'lcws',\n",
    "         'lcch', 'lccv', 'lccs']"
   ]
  },
  {
   "cell_type": "markdown",
   "metadata": {},
   "source": [
    "## Vergleiche gleiche Gesten"
   ]
  },
  {
   "cell_type": "code",
   "execution_count": null,
   "metadata": {
    "scrolled": true
   },
   "outputs": [],
   "source": [
    "print('Mean values of different similarity measurements\\n')\n",
    "\n",
    "for gesture in own + paper:\n",
    "    gesture_dicts = load_gestures(glob('../Data/converted/*/' + gesture + '/*'))\n",
    "    \n",
    "    print('Gesture: {}'.format(gesture))\n",
    "    print('-'*20)\n",
    "    for sensortype in sensors:\n",
    "        feature_vectors = prepare_data(gesture_dicts, FRAME_NUMBER, sensortype, verbose=False)[0]\n",
    "\n",
    "        cosine_simi = []\n",
    "        euclid_simi = []\n",
    "        pearson_simi = []\n",
    "\n",
    "        for gesture in combinations(feature_vectors, 2):\n",
    "            cosine_simi.append(calculate_similarity(gesture[0], gesture[1], sim_type='cosine'))\n",
    "            euclid_simi.append(calculate_similarity(gesture[0], gesture[1], sim_type='euclid'))\n",
    "            pearson_simi.append(calculate_similarity(gesture[0], gesture[1], sim_type='pearson'))\n",
    "\n",
    "        print('Sensor type: {}'.format(sensortype))\n",
    "        print('Cosine similarity: {}'.format(np.mean(cosine_simi)))\n",
    "        print('Euclid similarity: {}'.format(np.mean(euclid_simi)))\n",
    "        print('Pearson similarity: {}'.format(np.mean(pearson_simi)))\n",
    "        print()\n",
    "    print()"
   ]
  },
  {
   "cell_type": "code",
   "execution_count": null,
   "metadata": {
    "scrolled": true
   },
   "outputs": [],
   "source": [
    "start_time = time.time()\n",
    "gesture_dicts = [load_gestures(glob('../Data/converted/*/' + gesture + '/*')) for gesture in own+paper]\n",
    "\n",
    "prepared_groups = []\n",
    "for gesture_group in gesture_dicts:\n",
    "    gesture = []\n",
    "    gesture.append(prepare_data(gesture_group, FRAME_NUMBER, 'accelerometer', verbose=False)[0])\n",
    "    gesture.append(prepare_data(gesture_group, FRAME_NUMBER, 'gyro', verbose=False)[0])\n",
    "    gesture.append(prepare_data(gesture_group, FRAME_NUMBER, 'emg', verbose=False)[0])\n",
    "    gesture.append(prepare_data(gesture_group, FRAME_NUMBER, 'orientation', verbose=False)[0])\n",
    "    prepared_groups.append(gesture)\n",
    "        \n",
    "print('Duration: {}'.format(time.time() - start_time))"
   ]
  },
  {
   "cell_type": "code",
   "execution_count": null,
   "metadata": {
    "scrolled": true
   },
   "outputs": [],
   "source": [
    "for gesture, gesture_label in zip(combinations_with_replacement(prepared_groups, 2),\n",
    "                                  combinations_with_replacement(own+paper, 2)):\n",
    "    sensor_similarity_cosine = []\n",
    "    sensor_similarity_euclid = []\n",
    "    sensor_similarity_pearson = []\n",
    "    \n",
    "    print('{} to {}'.format(gesture_label[0], gesture_label[1]))\n",
    "    for sensortype_ga, sensortype_gb in zip(gesture[0], gesture[1]):\n",
    "        \n",
    "        mean_a = np.divide(np.sum(sensortype_ga, axis=0), len(sensortype_ga))\n",
    "        mean_b = np.divide(np.sum(sensortype_gb, axis=0), len(sensortype_gb))\n",
    "        \n",
    "        sensor_similarity_cosine.append(calculate_similarity(mean_a, mean_b, sim_type='cosine'))\n",
    "        sensor_similarity_euclid.append(calculate_similarity(mean_a, mean_b, sim_type='euclid'))\n",
    "        sensor_similarity_pearson.append(calculate_similarity(mean_a, mean_b, sim_type='pearson'))\n",
    "        \n",
    "\n",
    "    result_cosine = np.sum(np.multiply(sensor_similarity_cosine, sensor_weights))\n",
    "    result_euclid = np.sum(np.multiply(sensor_similarity_euclid, sensor_weights))\n",
    "    result_pearson = np.sum(np.multiply(sensor_similarity_pearson, sensor_weights))\n",
    "    \n",
    "    print('Weighted Cosine similarity: {}'.format(result_cosine))\n",
    "    print('Weighted Euclid similarity: {}'.format(result_euclid))\n",
    "    print('Weighted Pearson similarity: {}'.format(result_pearson))\n",
    "    print()"
   ]
  },
  {
   "cell_type": "code",
   "execution_count": null,
   "metadata": {
    "collapsed": true
   },
   "outputs": [],
   "source": []
  }
 ],
 "metadata": {
  "kernelspec": {
   "display_name": "Python 3",
   "language": "python",
   "name": "python3"
  },
  "language_info": {
   "codemirror_mode": {
    "name": "ipython",
    "version": 3
   },
   "file_extension": ".py",
   "mimetype": "text/x-python",
   "name": "python",
   "nbconvert_exporter": "python",
   "pygments_lexer": "ipython3",
   "version": "3.6.1"
  }
 },
 "nbformat": 4,
 "nbformat_minor": 2
}
