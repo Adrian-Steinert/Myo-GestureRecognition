{
 "cells": [
  {
   "cell_type": "markdown",
   "metadata": {
    "collapsed": true
   },
   "source": [
    "# Ähnlichkeitsmaße für Gesten"
   ]
  },
  {
   "cell_type": "code",
   "execution_count": 1,
   "metadata": {
    "collapsed": true
   },
   "outputs": [],
   "source": [
    "import os\n",
    "import sys\n",
    "import numpy as np\n",
    "import scipy.spatial.distance as dis\n",
    "import scipy.stats as st\n",
    "import time\n",
    "\n",
    "from glob import glob\n",
    "from gesture_comparison_helper import load_gestures\n",
    "from itertools import combinations, combinations_with_replacement\n",
    "from sklearn.metrics import confusion_matrix, accuracy_score, classification_report\n",
    "from sklearn.model_selection import GridSearchCV\n",
    "from sklearn.neighbors import KNeighborsClassifier"
   ]
  },
  {
   "cell_type": "code",
   "execution_count": 2,
   "metadata": {},
   "outputs": [
    {
     "name": "stderr",
     "output_type": "stream",
     "text": [
      "c:\\python36\\lib\\site-packages\\statsmodels\\compat\\pandas.py:56: FutureWarning: The pandas.core.datetools module is deprecated and will be removed in a future version. Please use the pandas.tseries module instead.\n",
      "  from pandas.core import datetools\n"
     ]
    }
   ],
   "source": [
    "module_path = os.path.abspath(os.path.join('..'))\n",
    "if module_path not in sys.path:\n",
    "    sys.path.append(module_path)\n",
    "from Utils.data_preparation_helper import load_data_for_classification, prepare_data"
   ]
  },
  {
   "cell_type": "code",
   "execution_count": 3,
   "metadata": {
    "collapsed": true
   },
   "outputs": [],
   "source": [
    "def calculate_similarity(a, b, sim_type):\n",
    "    if sim_type == 'cosine':\n",
    "        return np.dot(a,b)/(np.linalg.norm(a)*np.linalg.norm(b))\n",
    "    elif sim_type == 'euclid':\n",
    "        return 1/(1+dis.euclidean(a, b))\n",
    "    elif sim_type == 'pearson':\n",
    "        return st.pearsonr(a, b)[0]\n",
    "    else:\n",
    "        print('sim_type value \"{}\" is not supported, choose cosine, eucild or pearson instead'.format(sim_type))\n",
    "\n",
    "def calculate_distance(a, b, dist_type):\n",
    "    if dist_type == 'cosine':\n",
    "        return 1 - np.dot(a,b)/(np.linalg.norm(a)*np.linalg.norm(b))\n",
    "    elif dist_type == 'euclid':\n",
    "        return dis.euclidean(a, b)\n",
    "    elif dist_type == 'pearson':\n",
    "        return 1 - st.pearsonr(a, b)[0]\n",
    "    else:\n",
    "        print('dist_type value \"{}\" is not supported, choose cosine, eucild or pearson instead'.format(dist_type))"
   ]
  },
  {
   "cell_type": "markdown",
   "metadata": {
    "collapsed": true
   },
   "source": [
    "sensors = ['accelerometer', 'gyro', 'emg', 'orientation']\n",
    "sensor_weights = [0.25, 0.25, 0.25, 0.25]\n",
    "\n",
    "own = ['big_stop', 'come_down', 'come_here', 'come_up', 'flip', 'small_stop']\n",
    "paper = ['hcwh', 'hcwv', 'hcws',\n",
    "         'hcch', 'hccv', 'hccs',\n",
    "         'tcwh', 'tcwv', 'tcws',\n",
    "         'tcch', 'tccv', 'tccs',\n",
    "         'lcwh', 'lcwv', 'lcws',\n",
    "         'lcch', 'lccv', 'lccs']"
   ]
  },
  {
   "cell_type": "code",
   "execution_count": 4,
   "metadata": {
    "collapsed": true
   },
   "outputs": [],
   "source": [
    "start_time = time.time()\n",
    "\n",
    "parameters = [{'n_neighbors':[1,2,3,4,5,6,7,8,9,10],\n",
    "               'metric':[calculate_distance], 'metric_params':[{'dist_type':'cosine'}, {'dist_type':'euclid'},\n",
    "                                                             {'dist_type':'pearson'}]}]\n",
    "frame_numbers = list(range(1,13))\n",
    "cross_valid = 5"
   ]
  },
  {
   "cell_type": "markdown",
   "metadata": {},
   "source": [
    "## Vergleiche gleiche Gesten"
   ]
  },
  {
   "cell_type": "markdown",
   "metadata": {
    "collapsed": true,
    "scrolled": true
   },
   "source": [
    "print('Mean values of different similarity measurements\\n')\n",
    "\n",
    "for gesture in own + paper:\n",
    "    gesture_dicts = load_gestures(glob('../Data/converted/*/' + gesture + '/*'))\n",
    "    \n",
    "    print('Gesture: {}'.format(gesture))\n",
    "    print('-'*20)\n",
    "    for sensortype in sensors:\n",
    "        feature_vectors = prepare_data(gesture_dicts, FRAME_NUMBER, sensortype, verbose=False)[0]\n",
    "\n",
    "        cosine_simi = []\n",
    "        euclid_simi = []\n",
    "        pearson_simi = []\n",
    "\n",
    "        for gesture in combinations(feature_vectors, 2):\n",
    "            cosine_simi.append(calculate_similarity(gesture[0], gesture[1], sim_type='cosine'))\n",
    "            euclid_simi.append(calculate_similarity(gesture[0], gesture[1], sim_type='euclid'))\n",
    "            pearson_simi.append(calculate_similarity(gesture[0], gesture[1], sim_type='pearson'))\n",
    "\n",
    "        print('Sensor type: {}'.format(sensortype))\n",
    "        print('Cosine similarity: {}'.format(np.mean(cosine_simi)))\n",
    "        print('Euclid similarity: {}'.format(np.mean(euclid_simi)))\n",
    "        print('Pearson similarity: {}'.format(np.mean(pearson_simi)))\n",
    "        print()\n",
    "    print()"
   ]
  },
  {
   "cell_type": "markdown",
   "metadata": {
    "collapsed": true,
    "scrolled": true
   },
   "source": [
    "start_time = time.time()\n",
    "gesture_dicts = [load_gestures(glob('../Data/converted/*/' + gesture + '/*')) for gesture in own+paper]\n",
    "\n",
    "prepared_groups = []\n",
    "for gesture_group in gesture_dicts:\n",
    "    gesture = []\n",
    "    gesture.append(prepare_data(gesture_group, FRAME_NUMBER, 'accelerometer', verbose=False)[0])\n",
    "    gesture.append(prepare_data(gesture_group, FRAME_NUMBER, 'gyro', verbose=False)[0])\n",
    "    gesture.append(prepare_data(gesture_group, FRAME_NUMBER, 'emg', verbose=False)[0])\n",
    "    gesture.append(prepare_data(gesture_group, FRAME_NUMBER, 'orientation', verbose=False)[0])\n",
    "    prepared_groups.append(gesture)\n",
    "        \n",
    "print('Duration: {}'.format(time.time() - start_time))"
   ]
  },
  {
   "cell_type": "markdown",
   "metadata": {
    "collapsed": true,
    "scrolled": true
   },
   "source": [
    "for gesture, gesture_label in zip(combinations_with_replacement(prepared_groups, 2),\n",
    "                                  combinations_with_replacement(own+paper, 2)):\n",
    "    sensor_similarity_cosine = []\n",
    "    sensor_similarity_euclid = []\n",
    "    sensor_similarity_pearson = []\n",
    "    \n",
    "    print('{} to {}'.format(gesture_label[0], gesture_label[1]))\n",
    "    for sensortype_ga, sensortype_gb in zip(gesture[0], gesture[1]):\n",
    "        \n",
    "        mean_a = np.divide(np.sum(sensortype_ga, axis=0), len(sensortype_ga))\n",
    "        mean_b = np.divide(np.sum(sensortype_gb, axis=0), len(sensortype_gb))\n",
    "        \n",
    "        sensor_similarity_cosine.append(calculate_similarity(mean_a, mean_b, sim_type='cosine'))\n",
    "        sensor_similarity_euclid.append(calculate_similarity(mean_a, mean_b, sim_type='euclid'))\n",
    "        sensor_similarity_pearson.append(calculate_similarity(mean_a, mean_b, sim_type='pearson'))\n",
    "        \n",
    "\n",
    "    result_cosine = np.sum(np.multiply(sensor_similarity_cosine, sensor_weights))\n",
    "    result_euclid = np.sum(np.multiply(sensor_similarity_euclid, sensor_weights))\n",
    "    result_pearson = np.sum(np.multiply(sensor_similarity_pearson, sensor_weights))\n",
    "    \n",
    "    print('Weighted Cosine similarity: {}'.format(result_cosine))\n",
    "    print('Weighted Euclid similarity: {}'.format(result_euclid))\n",
    "    print('Weighted Pearson similarity: {}'.format(result_pearson))\n",
    "    print()"
   ]
  },
  {
   "cell_type": "markdown",
   "metadata": {},
   "source": [
    "## k Nearest Neighbour - own"
   ]
  },
  {
   "cell_type": "code",
   "execution_count": 5,
   "metadata": {
    "collapsed": true
   },
   "outputs": [],
   "source": [
    "train, valid, test = load_data_for_classification('own')\n",
    "\n",
    "own_acc = []\n",
    "own_gyro = []\n",
    "own_ori = []\n",
    "own_emg = []"
   ]
  },
  {
   "cell_type": "markdown",
   "metadata": {},
   "source": [
    "### Accelerometer"
   ]
  },
  {
   "cell_type": "code",
   "execution_count": 6,
   "metadata": {
    "scrolled": true
   },
   "outputs": [
    {
     "name": "stdout",
     "output_type": "stream",
     "text": [
      "12\r"
     ]
    }
   ],
   "source": [
    "for nr in frame_numbers:\n",
    "    print(nr, end='\\r')\n",
    "    try:\n",
    "        acc_train_input, acc_train_label = prepare_data(train, nr, 'accelerometer', verbose=False)\n",
    "        acc_valid_input, acc_valid_label = prepare_data(valid, nr, 'accelerometer', verbose=False)\n",
    "\n",
    "        kNN = GridSearchCV(KNeighborsClassifier(), parameters, cv=cross_valid, scoring='accuracy').fit(\n",
    "                                                                        np.append(acc_train_input, acc_valid_input, axis=0),\n",
    "                                                                        np.append(acc_train_label, acc_valid_label))\n",
    "        own_acc.append((kNN.best_score_, nr, kNN.best_params_))\n",
    "    except ValueError as err:\n",
    "        own_acc.append((-1,  nr, kNN.best_params_))"
   ]
  },
  {
   "cell_type": "markdown",
   "metadata": {},
   "source": [
    "### Gyroskop"
   ]
  },
  {
   "cell_type": "code",
   "execution_count": 7,
   "metadata": {
    "scrolled": true
   },
   "outputs": [
    {
     "name": "stdout",
     "output_type": "stream",
     "text": [
      "12\r"
     ]
    }
   ],
   "source": [
    "for nr in frame_numbers:\n",
    "    print(nr, end='\\r')\n",
    "    try:\n",
    "        gyro_train_input, gyro_train_label = prepare_data(train, nr, 'gyro', verbose=False)\n",
    "        gyro_valid_input, gyro_valid_label = prepare_data(valid, nr, 'gyro', verbose=False)\n",
    "\n",
    "        kNN = GridSearchCV(KNeighborsClassifier(), parameters, cv=cross_valid, scoring='accuracy').fit(\n",
    "                                                                        np.append(gyro_train_input, gyro_valid_input, axis=0),\n",
    "                                                                        np.append(gyro_train_label, gyro_valid_label))\n",
    "        own_gyro.append((kNN.best_score_, nr, kNN.best_params_))\n",
    "    except ValueError as err:\n",
    "        own_gyro.append((-1,  nr, kNN.best_params_))"
   ]
  },
  {
   "cell_type": "markdown",
   "metadata": {},
   "source": [
    "### Magnetometer"
   ]
  },
  {
   "cell_type": "code",
   "execution_count": 8,
   "metadata": {
    "scrolled": true
   },
   "outputs": [
    {
     "name": "stdout",
     "output_type": "stream",
     "text": [
      "7\r"
     ]
    },
    {
     "name": "stderr",
     "output_type": "stream",
     "text": [
      "c:\\python36\\lib\\site-packages\\scipy\\stats\\stats.py:3021: RuntimeWarning: invalid value encountered in double_scalars\n",
      "  r = r_num / r_den\n",
      "c:\\python36\\lib\\site-packages\\scipy\\stats\\stats.py:5277: RuntimeWarning: invalid value encountered in less\n",
      "  x = np.where(x < 1.0, x, 1.0)  # if x > 1 then return 1.0\n"
     ]
    },
    {
     "name": "stdout",
     "output_type": "stream",
     "text": [
      "12\r"
     ]
    }
   ],
   "source": [
    "for nr in frame_numbers:\n",
    "    print(nr, end='\\r')\n",
    "    try:\n",
    "        ori_train_input, ori_train_label = prepare_data(train, nr, 'orientation', verbose=False)\n",
    "        ori_valid_input, ori_valid_label = prepare_data(valid, nr, 'orientation', verbose=False)\n",
    "\n",
    "        kNN = GridSearchCV(KNeighborsClassifier(), parameters, cv=cross_valid, scoring='accuracy').fit(\n",
    "                                                                        np.append(ori_train_input, ori_valid_input, axis=0),\n",
    "                                                                        np.append(ori_train_label, ori_valid_label))\n",
    "        own_ori.append((kNN.best_score_, nr, kNN.best_params_))\n",
    "    except ValueError as err:\n",
    "        own_ori.append((-1,  nr, kNN.best_params_))"
   ]
  },
  {
   "cell_type": "markdown",
   "metadata": {},
   "source": [
    "### EMG"
   ]
  },
  {
   "cell_type": "code",
   "execution_count": 9,
   "metadata": {
    "scrolled": true
   },
   "outputs": [
    {
     "name": "stdout",
     "output_type": "stream",
     "text": [
      "12\r"
     ]
    }
   ],
   "source": [
    "for nr in frame_numbers:\n",
    "    print(nr, end='\\r')\n",
    "    try:\n",
    "        emg_train_input, emg_train_label = prepare_data(train, nr, 'emg', verbose=False)\n",
    "        emg_valid_input, emg_valid_label = prepare_data(valid, nr, 'emg', verbose=False)\n",
    "\n",
    "        kNN = GridSearchCV(KNeighborsClassifier(), parameters, cv=cross_valid, scoring='accuracy').fit(\n",
    "                                                                        np.append(emg_train_input, emg_valid_input, axis=0),\n",
    "                                                                        np.append(emg_train_label, emg_valid_label))\n",
    "        own_emg.append((kNN.best_score_, nr, kNN.best_params_))\n",
    "    except ValueError as err:\n",
    "        own_acc.append((-1,  nr, kNN.best_params_))"
   ]
  },
  {
   "cell_type": "code",
   "execution_count": 10,
   "metadata": {},
   "outputs": [
    {
     "name": "stdout",
     "output_type": "stream",
     "text": [
      "[(0.8571428571428571, 5, {'metric': <function calculate_distance at 0x000001E2E5DB5BF8>, 'metric_params': {'dist_type': 'pearson'}, 'n_neighbors': 1}), (0.84555984555984554, 6, {'metric': <function calculate_distance at 0x000001E2E5DB5BF8>, 'metric_params': {'dist_type': 'cosine'}, 'n_neighbors': 1}), (0.84108527131782951, 7, {'metric': <function calculate_distance at 0x000001E2E5DB5BF8>, 'metric_params': {'dist_type': 'cosine'}, 'n_neighbors': 1}), (0.82625482625482627, 4, {'metric': <function calculate_distance at 0x000001E2E5DB5BF8>, 'metric_params': {'dist_type': 'euclid'}, 'n_neighbors': 1}), (0.80308880308880304, 3, {'metric': <function calculate_distance at 0x000001E2E5DB5BF8>, 'metric_params': {'dist_type': 'euclid'}, 'n_neighbors': 1}), (0.79457364341085268, 8, {'metric': <function calculate_distance at 0x000001E2E5DB5BF8>, 'metric_params': {'dist_type': 'cosine'}, 'n_neighbors': 1}), (0.72868217054263562, 9, {'metric': <function calculate_distance at 0x000001E2E5DB5BF8>, 'metric_params': {'dist_type': 'cosine'}, 'n_neighbors': 3})]\n",
      "[(0.73643410852713176, 9, {'metric': <function calculate_distance at 0x000001E2E5DB5BF8>, 'metric_params': {'dist_type': 'pearson'}, 'n_neighbors': 9}), (0.72868217054263562, 7, {'metric': <function calculate_distance at 0x000001E2E5DB5BF8>, 'metric_params': {'dist_type': 'cosine'}, 'n_neighbors': 8}), (0.72480620155038755, 8, {'metric': <function calculate_distance at 0x000001E2E5DB5BF8>, 'metric_params': {'dist_type': 'cosine'}, 'n_neighbors': 10}), (0.71814671814671815, 6, {'metric': <function calculate_distance at 0x000001E2E5DB5BF8>, 'metric_params': {'dist_type': 'cosine'}, 'n_neighbors': 1}), (0.7142857142857143, 5, {'metric': <function calculate_distance at 0x000001E2E5DB5BF8>, 'metric_params': {'dist_type': 'euclid'}, 'n_neighbors': 4}), (0.70930232558139539, 11, {'metric': <function calculate_distance at 0x000001E2E5DB5BF8>, 'metric_params': {'dist_type': 'cosine'}, 'n_neighbors': 1}), (0.70930232558139539, 10, {'metric': <function calculate_distance at 0x000001E2E5DB5BF8>, 'metric_params': {'dist_type': 'cosine'}, 'n_neighbors': 8})]\n",
      "[(0.54826254826254828, 3, {'metric': <function calculate_distance at 0x000001E2E5DB5BF8>, 'metric_params': {'dist_type': 'cosine'}, 'n_neighbors': 3}), (0.53281853281853286, 4, {'metric': <function calculate_distance at 0x000001E2E5DB5BF8>, 'metric_params': {'dist_type': 'cosine'}, 'n_neighbors': 1}), (0.49806949806949807, 2, {'metric': <function calculate_distance at 0x000001E2E5DB5BF8>, 'metric_params': {'dist_type': 'cosine'}, 'n_neighbors': 1}), (0.4826254826254826, 5, {'metric': <function calculate_distance at 0x000001E2E5DB5BF8>, 'metric_params': {'dist_type': 'cosine'}, 'n_neighbors': 7}), (0.44787644787644787, 1, {'metric': <function calculate_distance at 0x000001E2E5DB5BF8>, 'metric_params': {'dist_type': 'pearson'}, 'n_neighbors': 1}), (0.41312741312741313, 6, {'metric': <function calculate_distance at 0x000001E2E5DB5BF8>, 'metric_params': {'dist_type': 'cosine'}, 'n_neighbors': 1}), (-1, 12, {'metric': <function calculate_distance at 0x000001E2E5DB5BF8>, 'metric_params': {'dist_type': 'cosine'}, 'n_neighbors': 1})]\n",
      "[(0.64864864864864868, 12, {'metric': <function calculate_distance at 0x000001E2E5DB5BF8>, 'metric_params': {'dist_type': 'euclid'}, 'n_neighbors': 6}), (0.64478764478764483, 10, {'metric': <function calculate_distance at 0x000001E2E5DB5BF8>, 'metric_params': {'dist_type': 'cosine'}, 'n_neighbors': 1}), (0.64478764478764483, 9, {'metric': <function calculate_distance at 0x000001E2E5DB5BF8>, 'metric_params': {'dist_type': 'cosine'}, 'n_neighbors': 1}), (0.64092664092664098, 11, {'metric': <function calculate_distance at 0x000001E2E5DB5BF8>, 'metric_params': {'dist_type': 'cosine'}, 'n_neighbors': 1}), (0.63320463320463316, 8, {'metric': <function calculate_distance at 0x000001E2E5DB5BF8>, 'metric_params': {'dist_type': 'cosine'}, 'n_neighbors': 1}), (0.59845559845559848, 7, {'metric': <function calculate_distance at 0x000001E2E5DB5BF8>, 'metric_params': {'dist_type': 'cosine'}, 'n_neighbors': 9}), (0.59073359073359077, 6, {'metric': <function calculate_distance at 0x000001E2E5DB5BF8>, 'metric_params': {'dist_type': 'pearson'}, 'n_neighbors': 1})]\n"
     ]
    }
   ],
   "source": [
    "print(sorted(own_acc, reverse=True)[:7], end='\\n')\n",
    "print(sorted(own_gyro, reverse=True)[:7], end='\\n')\n",
    "print(sorted(own_ori, reverse=True)[:7], end='\\n')\n",
    "print(sorted(own_emg, reverse=True)[:7], end='\\n')"
   ]
  },
  {
   "cell_type": "markdown",
   "metadata": {},
   "source": [
    "## k Nearest Neighbour - paper"
   ]
  },
  {
   "cell_type": "code",
   "execution_count": 11,
   "metadata": {
    "collapsed": true
   },
   "outputs": [],
   "source": [
    "train, valid, test = load_data_for_classification('paper')\n",
    "\n",
    "paper_acc = []\n",
    "paper_gyro = []\n",
    "paper_ori = []\n",
    "paper_emg = []"
   ]
  },
  {
   "cell_type": "markdown",
   "metadata": {},
   "source": [
    "### Accelerometer"
   ]
  },
  {
   "cell_type": "code",
   "execution_count": 12,
   "metadata": {
    "scrolled": true
   },
   "outputs": [
    {
     "name": "stdout",
     "output_type": "stream",
     "text": [
      "12\r"
     ]
    }
   ],
   "source": [
    "for nr in frame_numbers:\n",
    "    print(nr, end='\\r')\n",
    "    try:\n",
    "        acc_train_input, acc_train_label = prepare_data(train, nr, 'accelerometer', verbose=False)\n",
    "        acc_valid_input, acc_valid_label = prepare_data(valid, nr, 'accelerometer', verbose=False)\n",
    "\n",
    "        kNN = GridSearchCV(KNeighborsClassifier(), parameters, cv=cross_valid, scoring='accuracy').fit(\n",
    "                                                                        np.append(acc_train_input, acc_valid_input, axis=0),\n",
    "                                                                        np.append(acc_train_label, acc_valid_label))\n",
    "        paper_acc.append((kNN.best_score_, nr, kNN.best_params_))\n",
    "    except ValueError as err:\n",
    "        paper_acc.append((-1,  nr, kNN.best_params_))"
   ]
  },
  {
   "cell_type": "markdown",
   "metadata": {},
   "source": [
    "### Gyroskop"
   ]
  },
  {
   "cell_type": "code",
   "execution_count": 13,
   "metadata": {
    "scrolled": true
   },
   "outputs": [
    {
     "name": "stdout",
     "output_type": "stream",
     "text": [
      "12\r"
     ]
    }
   ],
   "source": [
    "for nr in frame_numbers:\n",
    "    print(nr, end='\\r')\n",
    "    try:\n",
    "        gyro_train_input, gyro_train_label = prepare_data(train, nr, 'gyro', verbose=False)\n",
    "        gyro_valid_input, gyro_valid_label = prepare_data(valid, nr, 'gyro', verbose=False)\n",
    "\n",
    "        kNN = GridSearchCV(KNeighborsClassifier(), parameters, cv=cross_valid, scoring='accuracy').fit(\n",
    "                                                                        np.append(gyro_train_input, gyro_valid_input, axis=0),\n",
    "                                                                        np.append(gyro_train_label, gyro_valid_label))\n",
    "        paper_gyro.append((kNN.best_score_, nr, kNN.best_params_))\n",
    "    except ValueError as err:\n",
    "        paper_gyro.append((-1,  nr, kNN.best_params_))"
   ]
  },
  {
   "cell_type": "markdown",
   "metadata": {},
   "source": [
    "### Magnetometer"
   ]
  },
  {
   "cell_type": "code",
   "execution_count": 14,
   "metadata": {
    "scrolled": true
   },
   "outputs": [
    {
     "name": "stdout",
     "output_type": "stream",
     "text": [
      "12\r"
     ]
    },
    {
     "name": "stderr",
     "output_type": "stream",
     "text": [
      "c:\\python36\\lib\\site-packages\\scipy\\stats\\stats.py:3021: RuntimeWarning: invalid value encountered in double_scalars\n",
      "  r = r_num / r_den\n",
      "c:\\python36\\lib\\site-packages\\scipy\\stats\\stats.py:5277: RuntimeWarning: invalid value encountered in less\n",
      "  x = np.where(x < 1.0, x, 1.0)  # if x > 1 then return 1.0\n"
     ]
    }
   ],
   "source": [
    "for nr in frame_numbers:\n",
    "    print(nr, end='\\r')\n",
    "    try:\n",
    "        ori_train_input, ori_train_label = prepare_data(train, nr, 'orientation', verbose=False)\n",
    "        ori_valid_input, ori_valid_label = prepare_data(valid, nr, 'orientation', verbose=False)\n",
    "\n",
    "        kNN = GridSearchCV(KNeighborsClassifier(), parameters, cv=cross_valid, scoring='accuracy').fit(\n",
    "                                                                        np.append(ori_train_input, ori_valid_input, axis=0),\n",
    "                                                                        np.append(ori_train_label, ori_valid_label))\n",
    "        paper_ori.append((kNN.best_score_, nr, kNN.best_params_))\n",
    "    except ValueError as err:\n",
    "        paper_ori.append((-1,  nr, kNN.best_params_))"
   ]
  },
  {
   "cell_type": "markdown",
   "metadata": {},
   "source": [
    "### EMG"
   ]
  },
  {
   "cell_type": "code",
   "execution_count": 15,
   "metadata": {
    "scrolled": true
   },
   "outputs": [
    {
     "name": "stdout",
     "output_type": "stream",
     "text": [
      "12\r"
     ]
    }
   ],
   "source": [
    "for nr in frame_numbers:\n",
    "    print(nr, end='\\r')\n",
    "    try:\n",
    "        emg_train_input, emg_train_label = prepare_data(train, nr, 'emg', verbose=False)\n",
    "        emg_valid_input, emg_valid_label = prepare_data(valid, nr, 'emg', verbose=False)\n",
    "\n",
    "        kNN = GridSearchCV(KNeighborsClassifier(), parameters, cv=cross_valid, scoring='accuracy').fit(\n",
    "                                                                        np.append(emg_train_input, emg_valid_input, axis=0),\n",
    "                                                                        np.append(emg_train_label, emg_valid_label))\n",
    "        paper_emg.append((kNN.best_score_, nr, kNN.best_params_))\n",
    "    except ValueError as err:\n",
    "        paper_emg.append((-1,  nr, kNN.best_params_))"
   ]
  },
  {
   "cell_type": "code",
   "execution_count": 16,
   "metadata": {},
   "outputs": [
    {
     "name": "stdout",
     "output_type": "stream",
     "text": [
      "[(0.23969072164948454, 5, {'metric': <function calculate_distance at 0x000001E2E5DB5BF8>, 'metric_params': {'dist_type': 'euclid'}, 'n_neighbors': 3}), (0.22809278350515463, 7, {'metric': <function calculate_distance at 0x000001E2E5DB5BF8>, 'metric_params': {'dist_type': 'euclid'}, 'n_neighbors': 1}), (0.22422680412371135, 3, {'metric': <function calculate_distance at 0x000001E2E5DB5BF8>, 'metric_params': {'dist_type': 'euclid'}, 'n_neighbors': 7}), (0.22036082474226804, 6, {'metric': <function calculate_distance at 0x000001E2E5DB5BF8>, 'metric_params': {'dist_type': 'euclid'}, 'n_neighbors': 1}), (0.21134020618556701, 8, {'metric': <function calculate_distance at 0x000001E2E5DB5BF8>, 'metric_params': {'dist_type': 'cosine'}, 'n_neighbors': 1}), (0.20360824742268041, 4, {'metric': <function calculate_distance at 0x000001E2E5DB5BF8>, 'metric_params': {'dist_type': 'euclid'}, 'n_neighbors': 1}), (0.19329896907216496, 9, {'metric': <function calculate_distance at 0x000001E2E5DB5BF8>, 'metric_params': {'dist_type': 'pearson'}, 'n_neighbors': 1})]\n",
      "[(0.3079896907216495, 10, {'metric': <function calculate_distance at 0x000001E2E5DB5BF8>, 'metric_params': {'dist_type': 'pearson'}, 'n_neighbors': 9}), (0.30670103092783507, 7, {'metric': <function calculate_distance at 0x000001E2E5DB5BF8>, 'metric_params': {'dist_type': 'cosine'}, 'n_neighbors': 1}), (0.29639175257731959, 4, {'metric': <function calculate_distance at 0x000001E2E5DB5BF8>, 'metric_params': {'dist_type': 'cosine'}, 'n_neighbors': 9}), (0.29123711340206188, 6, {'metric': <function calculate_distance at 0x000001E2E5DB5BF8>, 'metric_params': {'dist_type': 'euclid'}, 'n_neighbors': 10}), (0.29032258064516131, 12, {'metric': <function calculate_distance at 0x000001E2E5DB5BF8>, 'metric_params': {'dist_type': 'cosine'}, 'n_neighbors': 8}), (0.28994845360824745, 8, {'metric': <function calculate_distance at 0x000001E2E5DB5BF8>, 'metric_params': {'dist_type': 'euclid'}, 'n_neighbors': 5}), (0.28737113402061853, 9, {'metric': <function calculate_distance at 0x000001E2E5DB5BF8>, 'metric_params': {'dist_type': 'cosine'}, 'n_neighbors': 1})]\n",
      "[(0.13015463917525774, 4, {'metric': <function calculate_distance at 0x000001E2E5DB5BF8>, 'metric_params': {'dist_type': 'cosine'}, 'n_neighbors': 1}), (0.11984536082474227, 5, {'metric': <function calculate_distance at 0x000001E2E5DB5BF8>, 'metric_params': {'dist_type': 'pearson'}, 'n_neighbors': 1}), (0.1172680412371134, 3, {'metric': <function calculate_distance at 0x000001E2E5DB5BF8>, 'metric_params': {'dist_type': 'cosine'}, 'n_neighbors': 1}), (0.1172680412371134, 2, {'metric': <function calculate_distance at 0x000001E2E5DB5BF8>, 'metric_params': {'dist_type': 'euclid'}, 'n_neighbors': 1}), (0.10296010296010295, 1, {'metric': <function calculate_distance at 0x000001E2E5DB5BF8>, 'metric_params': {'dist_type': 'euclid'}, 'n_neighbors': 1}), (0.10051546391752578, 7, {'metric': <function calculate_distance at 0x000001E2E5DB5BF8>, 'metric_params': {'dist_type': 'cosine'}, 'n_neighbors': 8}), (0.10051546391752578, 6, {'metric': <function calculate_distance at 0x000001E2E5DB5BF8>, 'metric_params': {'dist_type': 'pearson'}, 'n_neighbors': 9})]\n",
      "[(0.16623711340206185, 10, {'metric': <function calculate_distance at 0x000001E2E5DB5BF8>, 'metric_params': {'dist_type': 'cosine'}, 'n_neighbors': 1}), (0.16365979381443299, 11, {'metric': <function calculate_distance at 0x000001E2E5DB5BF8>, 'metric_params': {'dist_type': 'euclid'}, 'n_neighbors': 1}), (0.16216216216216217, 9, {'metric': <function calculate_distance at 0x000001E2E5DB5BF8>, 'metric_params': {'dist_type': 'pearson'}, 'n_neighbors': 3}), (0.16108247422680413, 12, {'metric': <function calculate_distance at 0x000001E2E5DB5BF8>, 'metric_params': {'dist_type': 'euclid'}, 'n_neighbors': 1}), (0.15701415701415702, 8, {'metric': <function calculate_distance at 0x000001E2E5DB5BF8>, 'metric_params': {'dist_type': 'cosine'}, 'n_neighbors': 1}), (0.15444015444015444, 5, {'metric': <function calculate_distance at 0x000001E2E5DB5BF8>, 'metric_params': {'dist_type': 'pearson'}, 'n_neighbors': 1}), (0.15424164524421594, 2, {'metric': <function calculate_distance at 0x000001E2E5DB5BF8>, 'metric_params': {'dist_type': 'euclid'}, 'n_neighbors': 1})]\n"
     ]
    }
   ],
   "source": [
    "print(sorted(paper_acc, reverse=True)[:7], end='\\n')\n",
    "print(sorted(paper_gyro, reverse=True)[:7], end='\\n')\n",
    "print(sorted(paper_ori, reverse=True)[:7], end='\\n')\n",
    "print(sorted(paper_emg, reverse=True)[:7], end='\\n')"
   ]
  },
  {
   "cell_type": "markdown",
   "metadata": {},
   "source": [
    "## k Nearest Neighbour - all"
   ]
  },
  {
   "cell_type": "code",
   "execution_count": 17,
   "metadata": {
    "collapsed": true
   },
   "outputs": [],
   "source": [
    "train, valid, test = load_data_for_classification('all')\n",
    "\n",
    "all_acc = []\n",
    "all_gyro = []\n",
    "all_ori = []\n",
    "all_emg = []"
   ]
  },
  {
   "cell_type": "markdown",
   "metadata": {},
   "source": [
    "### Accelerometer"
   ]
  },
  {
   "cell_type": "code",
   "execution_count": 18,
   "metadata": {
    "scrolled": true
   },
   "outputs": [
    {
     "name": "stdout",
     "output_type": "stream",
     "text": [
      "12\r"
     ]
    }
   ],
   "source": [
    "for nr in frame_numbers:\n",
    "    print(nr, end='\\r')\n",
    "    try:\n",
    "        acc_train_input, acc_train_label = prepare_data(train, nr, 'accelerometer', verbose=False)\n",
    "        acc_valid_input, acc_valid_label = prepare_data(valid, nr, 'accelerometer', verbose=False)\n",
    "\n",
    "        kNN = GridSearchCV(KNeighborsClassifier(), parameters, cv=cross_valid, scoring='accuracy').fit(\n",
    "                                                                        np.append(acc_train_input, acc_valid_input, axis=0),\n",
    "                                                                        np.append(acc_train_label, acc_valid_label))\n",
    "        all_acc.append((kNN.best_score_, nr, kNN.best_params_))\n",
    "    except ValueError as err:\n",
    "        all_acc.append((-1,  nr, kNN.best_params_))"
   ]
  },
  {
   "cell_type": "markdown",
   "metadata": {},
   "source": [
    "### Gyroskop"
   ]
  },
  {
   "cell_type": "code",
   "execution_count": 19,
   "metadata": {
    "scrolled": true
   },
   "outputs": [
    {
     "name": "stdout",
     "output_type": "stream",
     "text": [
      "12\r"
     ]
    }
   ],
   "source": [
    "for nr in frame_numbers:\n",
    "    print(nr, end='\\r')\n",
    "    try:\n",
    "        gyro_train_input, gyro_train_label = prepare_data(train, nr, 'gyro', verbose=False)\n",
    "        gyro_valid_input, gyro_valid_label = prepare_data(valid, nr, 'gyro', verbose=False)\n",
    "\n",
    "        kNN = GridSearchCV(KNeighborsClassifier(), parameters, cv=cross_valid, scoring='accuracy').fit(\n",
    "                                                                        np.append(gyro_train_input, gyro_valid_input, axis=0),\n",
    "                                                                        np.append(gyro_train_label, gyro_valid_label))\n",
    "        all_gyro.append((kNN.best_score_, nr, kNN.best_params_))\n",
    "    except ValueError as err:\n",
    "        all_gyro.append((-1,  nr, kNN.best_params_))"
   ]
  },
  {
   "cell_type": "markdown",
   "metadata": {},
   "source": [
    "### Magnetometer"
   ]
  },
  {
   "cell_type": "code",
   "execution_count": null,
   "metadata": {
    "scrolled": true
   },
   "outputs": [
    {
     "name": "stdout",
     "output_type": "stream",
     "text": [
      "7\r"
     ]
    },
    {
     "name": "stderr",
     "output_type": "stream",
     "text": [
      "c:\\python36\\lib\\site-packages\\scipy\\stats\\stats.py:3021: RuntimeWarning: invalid value encountered in double_scalars\n",
      "  r = r_num / r_den\n",
      "c:\\python36\\lib\\site-packages\\scipy\\stats\\stats.py:5277: RuntimeWarning: invalid value encountered in less\n",
      "  x = np.where(x < 1.0, x, 1.0)  # if x > 1 then return 1.0\n"
     ]
    },
    {
     "name": "stdout",
     "output_type": "stream",
     "text": [
      "12\r"
     ]
    }
   ],
   "source": [
    "for nr in frame_numbers:\n",
    "    print(nr, end='\\r')\n",
    "    try:\n",
    "        ori_train_input, ori_train_label = prepare_data(train, nr, 'orientation', verbose=False)\n",
    "        ori_valid_input, ori_valid_label = prepare_data(valid, nr, 'orientation', verbose=False)\n",
    "\n",
    "        kNN = GridSearchCV(KNeighborsClassifier(), parameters, cv=cross_valid, scoring='accuracy').fit(\n",
    "                                                                        np.append(ori_train_input, ori_valid_input, axis=0),\n",
    "                                                                        np.append(ori_train_label, ori_valid_label))\n",
    "        all_ori.append((kNN.best_score_, nr, kNN.best_params_))\n",
    "    except ValueError as err:\n",
    "        all_ori.append((-1,  nr, kNN.best_params_))"
   ]
  },
  {
   "cell_type": "markdown",
   "metadata": {},
   "source": [
    "### EMG"
   ]
  },
  {
   "cell_type": "code",
   "execution_count": 23,
   "metadata": {
    "scrolled": true
   },
   "outputs": [
    {
     "name": "stdout",
     "output_type": "stream",
     "text": [
      "12\r"
     ]
    }
   ],
   "source": [
    "for nr in frame_numbers:\n",
    "    print(nr, end='\\r')\n",
    "    try:\n",
    "        emg_train_input, emg_train_label = prepare_data(train, nr, 'emg', verbose=False)\n",
    "        emg_valid_input, emg_valid_label = prepare_data(valid, nr, 'emg', verbose=False)\n",
    "\n",
    "        kNN = GridSearchCV(KNeighborsClassifier(), parameters, cv=cross_valid, scoring='accuracy').fit(\n",
    "                                                                        np.append(emg_train_input, emg_valid_input, axis=0),\n",
    "                                                                        np.append(emg_train_label, emg_valid_label))\n",
    "        all_emg.append((kNN.best_score_, nr, kNN.best_params_))\n",
    "    except ValueError as err:\n",
    "        all_emg.append((-1,  nr, kNN.best_params_))"
   ]
  },
  {
   "cell_type": "code",
   "execution_count": 24,
   "metadata": {},
   "outputs": [
    {
     "name": "stdout",
     "output_type": "stream",
     "text": [
      "[(0.36135265700483093, 5, {'metric': <function calculate_distance at 0x000001E2E5DB5BF8>, 'metric_params': {'dist_type': 'euclid'}, 'n_neighbors': 3}), (0.34782608695652173, 6, {'metric': <function calculate_distance at 0x000001E2E5DB5BF8>, 'metric_params': {'dist_type': 'euclid'}, 'n_neighbors': 1}), (0.34719535783365568, 7, {'metric': <function calculate_distance at 0x000001E2E5DB5BF8>, 'metric_params': {'dist_type': 'cosine'}, 'n_neighbors': 1}), (0.33526570048309179, 3, {'metric': <function calculate_distance at 0x000001E2E5DB5BF8>, 'metric_params': {'dist_type': 'euclid'}, 'n_neighbors': 1}), (0.33333333333333331, 4, {'metric': <function calculate_distance at 0x000001E2E5DB5BF8>, 'metric_params': {'dist_type': 'euclid'}, 'n_neighbors': 1}), (0.32108317214700194, 8, {'metric': <function calculate_distance at 0x000001E2E5DB5BF8>, 'metric_params': {'dist_type': 'cosine'}, 'n_neighbors': 1}), (0.2852998065764023, 9, {'metric': <function calculate_distance at 0x000001E2E5DB5BF8>, 'metric_params': {'dist_type': 'cosine'}, 'n_neighbors': 1})]\n",
      "[(0.38201160541586071, 10, {'metric': <function calculate_distance at 0x000001E2E5DB5BF8>, 'metric_params': {'dist_type': 'pearson'}, 'n_neighbors': 9}), (0.37234042553191488, 7, {'metric': <function calculate_distance at 0x000001E2E5DB5BF8>, 'metric_params': {'dist_type': 'cosine'}, 'n_neighbors': 1}), (0.37137330754352033, 9, {'metric': <function calculate_distance at 0x000001E2E5DB5BF8>, 'metric_params': {'dist_type': 'cosine'}, 'n_neighbors': 3}), (0.37004830917874398, 6, {'metric': <function calculate_distance at 0x000001E2E5DB5BF8>, 'metric_params': {'dist_type': 'cosine'}, 'n_neighbors': 1}), (0.36943907156673111, 8, {'metric': <function calculate_distance at 0x000001E2E5DB5BF8>, 'metric_params': {'dist_type': 'cosine'}, 'n_neighbors': 8}), (0.36653771760154741, 11, {'metric': <function calculate_distance at 0x000001E2E5DB5BF8>, 'metric_params': {'dist_type': 'cosine'}, 'n_neighbors': 4}), (0.36618357487922704, 5, {'metric': <function calculate_distance at 0x000001E2E5DB5BF8>, 'metric_params': {'dist_type': 'cosine'}, 'n_neighbors': 6})]\n",
      "[(0.17198067632850242, 4, {'metric': <function calculate_distance at 0x000001E2E5DB5BF8>, 'metric_params': {'dist_type': 'cosine'}, 'n_neighbors': 1}), (0.16521739130434782, 3, {'metric': <function calculate_distance at 0x000001E2E5DB5BF8>, 'metric_params': {'dist_type': 'euclid'}, 'n_neighbors': 1}), (0.16231884057971013, 2, {'metric': <function calculate_distance at 0x000001E2E5DB5BF8>, 'metric_params': {'dist_type': 'cosine'}, 'n_neighbors': 1}), (0.15154440154440155, 1, {'metric': <function calculate_distance at 0x000001E2E5DB5BF8>, 'metric_params': {'dist_type': 'pearson'}, 'n_neighbors': 1}), (0.14685990338164251, 5, {'metric': <function calculate_distance at 0x000001E2E5DB5BF8>, 'metric_params': {'dist_type': 'pearson'}, 'n_neighbors': 1}), (0.11884057971014493, 6, {'metric': <function calculate_distance at 0x000001E2E5DB5BF8>, 'metric_params': {'dist_type': 'pearson'}, 'n_neighbors': 3}), (-1, 12, {'metric': <function calculate_distance at 0x000001E2E5DB5BF8>, 'metric_params': {'dist_type': 'pearson'}, 'n_neighbors': 3})]\n",
      "[(0.24734299516908212, 11, {'metric': <function calculate_distance at 0x000001E2E5DB5BF8>, 'metric_params': {'dist_type': 'cosine'}, 'n_neighbors': 1}), (0.24637681159420291, 10, {'metric': <function calculate_distance at 0x000001E2E5DB5BF8>, 'metric_params': {'dist_type': 'cosine'}, 'n_neighbors': 1}), (0.24541062801932367, 12, {'metric': <function calculate_distance at 0x000001E2E5DB5BF8>, 'metric_params': {'dist_type': 'cosine'}, 'n_neighbors': 1}), (0.24420849420849422, 9, {'metric': <function calculate_distance at 0x000001E2E5DB5BF8>, 'metric_params': {'dist_type': 'cosine'}, 'n_neighbors': 1}), (0.2335907335907336, 8, {'metric': <function calculate_distance at 0x000001E2E5DB5BF8>, 'metric_params': {'dist_type': 'cosine'}, 'n_neighbors': 1}), (0.21621621621621623, 6, {'metric': <function calculate_distance at 0x000001E2E5DB5BF8>, 'metric_params': {'dist_type': 'cosine'}, 'n_neighbors': 1}), (0.21525096525096524, 7, {'metric': <function calculate_distance at 0x000001E2E5DB5BF8>, 'metric_params': {'dist_type': 'cosine'}, 'n_neighbors': 1})]\n"
     ]
    }
   ],
   "source": [
    "print(sorted(all_acc, reverse=True)[:7], end='\\n')\n",
    "print(sorted(all_gyro, reverse=True)[:7], end='\\n')\n",
    "print(sorted(all_ori, reverse=True)[:7], end='\\n')\n",
    "print(sorted(all_emg, reverse=True)[:7], end='\\n')"
   ]
  },
  {
   "cell_type": "code",
   "execution_count": 25,
   "metadata": {},
   "outputs": [
    {
     "name": "stdout",
     "output_type": "stream",
     "text": [
      "Duration: 330205.29078936577\n"
     ]
    }
   ],
   "source": [
    "print('Duration: {}'.format(time.time() - start_time))"
   ]
  },
  {
   "cell_type": "code",
   "execution_count": null,
   "metadata": {
    "collapsed": true
   },
   "outputs": [],
   "source": []
  }
 ],
 "metadata": {
  "kernelspec": {
   "display_name": "Python 3",
   "language": "python",
   "name": "python3"
  },
  "language_info": {
   "codemirror_mode": {
    "name": "ipython",
    "version": 3
   },
   "file_extension": ".py",
   "mimetype": "text/x-python",
   "name": "python",
   "nbconvert_exporter": "python",
   "pygments_lexer": "ipython3",
   "version": "3.6.1"
  }
 },
 "nbformat": 4,
 "nbformat_minor": 2
}
