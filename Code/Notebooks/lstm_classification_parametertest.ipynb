{
 "cells": [
  {
   "cell_type": "markdown",
   "metadata": {},
   "source": [
    "# Klassifikation mit LSTM"
   ]
  },
  {
   "cell_type": "code",
   "execution_count": 1,
   "metadata": {},
   "outputs": [
    {
     "name": "stderr",
     "output_type": "stream",
     "text": [
      "Using TensorFlow backend.\n"
     ]
    }
   ],
   "source": [
    "import os\n",
    "import sys\n",
    "import time\n",
    "import numpy as np\n",
    "from itertools import product\n",
    "\n",
    "from keras import backend as K\n",
    "from keras.models import Sequential\n",
    "from keras.layers import Dense, LSTM\n",
    "from keras.wrappers.scikit_learn import KerasClassifier\n",
    "\n",
    "from sklearn.model_selection import GridSearchCV, ShuffleSplit\n",
    "from sklearn.preprocessing import LabelEncoder\n",
    "from sklearn.metrics import confusion_matrix, accuracy_score, classification_report\n",
    "import tensorflow as tf"
   ]
  },
  {
   "cell_type": "code",
   "execution_count": 2,
   "metadata": {
    "collapsed": true
   },
   "outputs": [],
   "source": [
    "random_seed = 42\n",
    "\n",
    "np.random.seed(random_seed)\n",
    "tf.set_random_seed(random_seed)"
   ]
  },
  {
   "cell_type": "code",
   "execution_count": 3,
   "metadata": {},
   "outputs": [
    {
     "name": "stderr",
     "output_type": "stream",
     "text": [
      "c:\\python36\\lib\\site-packages\\statsmodels\\compat\\pandas.py:56: FutureWarning: The pandas.core.datetools module is deprecated and will be removed in a future version. Please use the pandas.tseries module instead.\n",
      "  from pandas.core import datetools\n"
     ]
    }
   ],
   "source": [
    "from gesture_comparison_helper import load_gestures\n",
    "module_path = os.path.abspath(os.path.join('..'))\n",
    "if module_path not in sys.path:\n",
    "    sys.path.append(module_path)\n",
    "from Utils.data_preparation_helper import load_data_for_classification, prepare_data"
   ]
  },
  {
   "cell_type": "markdown",
   "metadata": {
    "collapsed": true
   },
   "source": [
    "FRAME_NUMBER = 3\n",
    "\n",
    "acc_train_input, acc_train_label = prepare_data(train, FRAME_NUMBER, 'accelerometer')\n",
    "acc_valid_input, acc_valid_label = prepare_data(valid, FRAME_NUMBER, 'accelerometer')"
   ]
  },
  {
   "cell_type": "markdown",
   "metadata": {
    "collapsed": true,
    "scrolled": true
   },
   "source": [
    "encoder = LabelEncoder()\n",
    "\n",
    "X_train = acc_train_input.reshape(acc_train_input.shape[0], 1, acc_train_input.shape[1])\n",
    "#y_train = acc_train_label.reshape(acc_train_label.shape[0], 1)\n",
    "y_train = encoder.fit_transform(acc_train_label)\n",
    "#print(y_train)\n",
    "\n",
    "X_valid = acc_valid_input.reshape(acc_valid_input.shape[0], 1, acc_valid_input.shape[1])\n",
    "y_valid = encoder.fit_transform(acc_valid_label)\n",
    "#print(y_valid)\n",
    "\n",
    "#print(encoder.classes_)\n",
    "\n",
    "model = Sequential()\n",
    "model.add(LSTM(X_train.shape[2], input_shape=(1, X_train.shape[2])))\n",
    "model.add(Dense(len(encoder.classes_), activation='softmax'))\n",
    "model.compile(loss='sparse_categorical_crossentropy', optimizer='adam', metrics=['accuracy'])\n",
    "print(model.summary())\n",
    "history = model.fit(X_train, y_train, epochs=10, batch_size=3) # X_train.shape[2])\n",
    "\n",
    "\n",
    "predictions_proba = model.predict(X_valid)\n",
    "predictions = model.predict_classes(X_valid, verbose=0)\n",
    "#print()\n",
    "#print(predictions_proba)"
   ]
  },
  {
   "cell_type": "markdown",
   "metadata": {
    "collapsed": true
   },
   "source": [
    "loss, accuracy = model.evaluate(X_valid, y_valid)\n",
    "print()\n",
    "print(loss)\n",
    "print(accuracy)\n",
    "print(predictions)"
   ]
  },
  {
   "cell_type": "markdown",
   "metadata": {
    "collapsed": true,
    "scrolled": false
   },
   "source": [
    "print(confusion_matrix(y_valid, predictions))"
   ]
  },
  {
   "cell_type": "markdown",
   "metadata": {
    "collapsed": true
   },
   "source": [
    "print(accuracy_score(y_valid, predictions))"
   ]
  },
  {
   "cell_type": "markdown",
   "metadata": {
    "collapsed": true
   },
   "source": [
    "print(classification_report(y_valid, predictions))"
   ]
  },
  {
   "cell_type": "code",
   "execution_count": 4,
   "metadata": {
    "collapsed": true
   },
   "outputs": [],
   "source": [
    "def create_model(n_classes=1, shape=1, num_units=1, optimizer='adam'):\n",
    "    # create model\n",
    "    model = Sequential()\n",
    "    model.add(LSTM(units=num_units, input_shape=(1, shape)))\n",
    "    model.add(Dense(n_classes, activation='sigmoid'))\n",
    "    # Compile model\n",
    "    model.compile(loss='sparse_categorical_crossentropy', optimizer=optimizer, metrics=['accuracy'])\n",
    "    return model"
   ]
  },
  {
   "cell_type": "code",
   "execution_count": 5,
   "metadata": {
    "collapsed": true
   },
   "outputs": [],
   "source": [
    "start_time = time.time()\n",
    "\n",
    "optimizer = ['Adam']\n",
    "batch_size = [1, 10, 100]\n",
    "epochs = [10, 100, 300]\n",
    "#lstm_units = [1, 10, 30, 50, 70, 100]\n",
    "\n",
    "#parameters = [{'batch_size':batch_size, 'epochs':epochs, 'num_units':lstm_units, 'optimizer':optimizer}]\n",
    "parameters = [{'batch_size':batch_size, 'epochs':epochs, 'optimizer':optimizer}]\n",
    "\n",
    "frame_numbers = list(range(1,13))\n",
    "\n",
    "cross_valid = ShuffleSplit(n_splits=1, test_size=0.2, random_state=random_seed)\n",
    "verbose_level = 3"
   ]
  },
  {
   "cell_type": "markdown",
   "metadata": {},
   "source": [
    "## Parametertest - own"
   ]
  },
  {
   "cell_type": "code",
   "execution_count": 7,
   "metadata": {
    "collapsed": true
   },
   "outputs": [],
   "source": [
    "train, valid, test = load_data_for_classification('own')"
   ]
  },
  {
   "cell_type": "code",
   "execution_count": 6,
   "metadata": {
    "collapsed": true
   },
   "outputs": [],
   "source": [
    "# lists will be filled with (accuracy, frame_number, params)\n",
    "own_acc = (0, 0)\n",
    "own_gyro = (0, 0)\n",
    "own_ori = (0, 0)\n",
    "own_emg = (0, 0)"
   ]
  },
  {
   "cell_type": "markdown",
   "metadata": {},
   "source": [
    "### Accelerometer"
   ]
  },
  {
   "cell_type": "code",
   "execution_count": 7,
   "metadata": {
    "collapsed": true
   },
   "outputs": [],
   "source": [
    "def do_it(X_train, y_train, X_valid, y_valid, n_classes, frames, epochs, batch_size):\n",
    "    lstm_model = create_model(n_classes=n_classes, shape=X_train.shape[2], num_units=X_train.shape[2])\n",
    "    lstm_model.fit(X_train, y_train, epochs=epochs, batch_size=batch_size, verbose=0)\n",
    "\n",
    "    prediction = lstm_model.predict_classes(X_valid, verbose=0)\n",
    "    \n",
    "    result = (accuracy_score(y_valid, prediction), frames, epochs, batch_size)\n",
    "    return result"
   ]
  },
  {
   "cell_type": "code",
   "execution_count": 12,
   "metadata": {},
   "outputs": [
    {
     "name": "stdout",
     "output_type": "stream",
     "text": [
      "1\n",
      "Fitting 1 folds for each of 9 candidates, totalling 9 fits\n",
      "[CV] batch_size=1, epochs=10, n_classes=6, num_units=15, optimizer=Adam, shape=15 \n",
      "[CV]  batch_size=1, epochs=10, n_classes=6, num_units=15, optimizer=Adam, shape=15, score=0.4423076923076923, total=  20.4s\n",
      "[CV] batch_size=1, epochs=100, n_classes=6, num_units=15, optimizer=Adam, shape=15 \n"
     ]
    },
    {
     "name": "stderr",
     "output_type": "stream",
     "text": [
      "[Parallel(n_jobs=1)]: Done   1 out of   1 | elapsed:   20.7s remaining:    0.0s\n"
     ]
    },
    {
     "name": "stdout",
     "output_type": "stream",
     "text": [
      "[CV]  batch_size=1, epochs=100, n_classes=6, num_units=15, optimizer=Adam, shape=15, score=0.75, total= 2.7min\n",
      "[CV] batch_size=1, epochs=300, n_classes=6, num_units=15, optimizer=Adam, shape=15 \n"
     ]
    },
    {
     "name": "stderr",
     "output_type": "stream",
     "text": [
      "[Parallel(n_jobs=1)]: Done   2 out of   2 | elapsed:  3.0min remaining:    0.0s\n"
     ]
    },
    {
     "name": "stdout",
     "output_type": "stream",
     "text": [
      "[CV]  batch_size=1, epochs=300, n_classes=6, num_units=15, optimizer=Adam, shape=15, score=0.8076923076923077, total= 8.1min\n",
      "[CV] batch_size=10, epochs=10, n_classes=6, num_units=15, optimizer=Adam, shape=15 \n",
      "[CV]  batch_size=10, epochs=10, n_classes=6, num_units=15, optimizer=Adam, shape=15, score=0.17307692307692307, total=   4.0s\n",
      "[CV] batch_size=10, epochs=100, n_classes=6, num_units=15, optimizer=Adam, shape=15 \n",
      "[CV]  batch_size=10, epochs=100, n_classes=6, num_units=15, optimizer=Adam, shape=15, score=0.5769230769230769, total=  16.9s\n",
      "[CV] batch_size=10, epochs=300, n_classes=6, num_units=15, optimizer=Adam, shape=15 \n",
      "[CV]  batch_size=10, epochs=300, n_classes=6, num_units=15, optimizer=Adam, shape=15, score=0.7115384615384616, total=  46.9s\n",
      "[CV] batch_size=100, epochs=10, n_classes=6, num_units=15, optimizer=Adam, shape=15 \n",
      "[CV]  batch_size=100, epochs=10, n_classes=6, num_units=15, optimizer=Adam, shape=15, score=0.19230769230769232, total=   3.0s\n",
      "[CV] batch_size=100, epochs=100, n_classes=6, num_units=15, optimizer=Adam, shape=15 \n",
      "[CV]  batch_size=100, epochs=100, n_classes=6, num_units=15, optimizer=Adam, shape=15, score=0.40384615384615385, total=   5.1s\n",
      "[CV] batch_size=100, epochs=300, n_classes=6, num_units=15, optimizer=Adam, shape=15 \n",
      "[CV]  batch_size=100, epochs=300, n_classes=6, num_units=15, optimizer=Adam, shape=15, score=0.5576923076923077, total=   9.6s\n"
     ]
    },
    {
     "name": "stderr",
     "output_type": "stream",
     "text": [
      "[Parallel(n_jobs=1)]: Done   9 out of   9 | elapsed: 12.5min finished\n"
     ]
    },
    {
     "name": "stdout",
     "output_type": "stream",
     "text": [
      "2\n",
      "Fitting 1 folds for each of 9 candidates, totalling 9 fits\n",
      "[CV] batch_size=1, epochs=10, n_classes=6, num_units=30, optimizer=Adam, shape=30 \n",
      "[CV]  batch_size=1, epochs=10, n_classes=6, num_units=30, optimizer=Adam, shape=30, score=0.6346153846153846, total=  18.2s\n",
      "[CV] batch_size=1, epochs=100, n_classes=6, num_units=30, optimizer=Adam, shape=30 \n"
     ]
    },
    {
     "name": "stderr",
     "output_type": "stream",
     "text": [
      "[Parallel(n_jobs=1)]: Done   1 out of   1 | elapsed:   18.5s remaining:    0.0s\n"
     ]
    },
    {
     "name": "stdout",
     "output_type": "stream",
     "text": [
      "[CV]  batch_size=1, epochs=100, n_classes=6, num_units=30, optimizer=Adam, shape=30, score=0.8269230769230769, total= 2.5min\n",
      "[CV] batch_size=1, epochs=300, n_classes=6, num_units=30, optimizer=Adam, shape=30 \n"
     ]
    },
    {
     "name": "stderr",
     "output_type": "stream",
     "text": [
      "[Parallel(n_jobs=1)]: Done   2 out of   2 | elapsed:  2.8min remaining:    0.0s\n"
     ]
    },
    {
     "name": "stdout",
     "output_type": "stream",
     "text": [
      "[CV]  batch_size=1, epochs=300, n_classes=6, num_units=30, optimizer=Adam, shape=30, score=0.8461538461538461, total= 7.6min\n",
      "[CV] batch_size=10, epochs=10, n_classes=6, num_units=30, optimizer=Adam, shape=30 \n",
      "[CV]  batch_size=10, epochs=10, n_classes=6, num_units=30, optimizer=Adam, shape=30, score=0.46153846153846156, total=   4.6s\n",
      "[CV] batch_size=10, epochs=100, n_classes=6, num_units=30, optimizer=Adam, shape=30 \n",
      "[CV]  batch_size=10, epochs=100, n_classes=6, num_units=30, optimizer=Adam, shape=30, score=0.7307692307692307, total=  18.7s\n",
      "[CV] batch_size=10, epochs=300, n_classes=6, num_units=30, optimizer=Adam, shape=30 \n",
      "[CV]  batch_size=10, epochs=300, n_classes=6, num_units=30, optimizer=Adam, shape=30, score=0.7692307692307693, total=  48.5s\n",
      "[CV] batch_size=100, epochs=10, n_classes=6, num_units=30, optimizer=Adam, shape=30 \n",
      "[CV]  batch_size=100, epochs=10, n_classes=6, num_units=30, optimizer=Adam, shape=30, score=0.40384615384615385, total=   3.6s\n",
      "[CV] batch_size=100, epochs=100, n_classes=6, num_units=30, optimizer=Adam, shape=30 \n",
      "[CV]  batch_size=100, epochs=100, n_classes=6, num_units=30, optimizer=Adam, shape=30, score=0.5, total=   6.1s\n",
      "[CV] batch_size=100, epochs=300, n_classes=6, num_units=30, optimizer=Adam, shape=30 \n",
      "[CV]  batch_size=100, epochs=300, n_classes=6, num_units=30, optimizer=Adam, shape=30, score=0.6538461538461539, total=   9.9s\n"
     ]
    },
    {
     "name": "stderr",
     "output_type": "stream",
     "text": [
      "[Parallel(n_jobs=1)]: Done   9 out of   9 | elapsed: 11.9min finished\n"
     ]
    },
    {
     "name": "stdout",
     "output_type": "stream",
     "text": [
      "3\n",
      "Fitting 1 folds for each of 9 candidates, totalling 9 fits\n",
      "[CV] batch_size=1, epochs=10, n_classes=6, num_units=45, optimizer=Adam, shape=45 \n",
      "[CV]  batch_size=1, epochs=10, n_classes=6, num_units=45, optimizer=Adam, shape=45, score=0.6923076923076923, total=  19.0s\n",
      "[CV] batch_size=1, epochs=100, n_classes=6, num_units=45, optimizer=Adam, shape=45 \n"
     ]
    },
    {
     "name": "stderr",
     "output_type": "stream",
     "text": [
      "[Parallel(n_jobs=1)]: Done   1 out of   1 | elapsed:   19.3s remaining:    0.0s\n"
     ]
    },
    {
     "name": "stdout",
     "output_type": "stream",
     "text": [
      "[CV]  batch_size=1, epochs=100, n_classes=6, num_units=45, optimizer=Adam, shape=45, score=0.9615384615384616, total= 2.6min\n",
      "[CV] batch_size=1, epochs=300, n_classes=6, num_units=45, optimizer=Adam, shape=45 \n"
     ]
    },
    {
     "name": "stderr",
     "output_type": "stream",
     "text": [
      "[Parallel(n_jobs=1)]: Done   2 out of   2 | elapsed:  2.9min remaining:    0.0s\n"
     ]
    },
    {
     "name": "stdout",
     "output_type": "stream",
     "text": [
      "[CV]  batch_size=1, epochs=300, n_classes=6, num_units=45, optimizer=Adam, shape=45, score=0.9615384615384616, total= 7.6min\n",
      "[CV] batch_size=10, epochs=10, n_classes=6, num_units=45, optimizer=Adam, shape=45 \n",
      "[CV]  batch_size=10, epochs=10, n_classes=6, num_units=45, optimizer=Adam, shape=45, score=0.6346153846153846, total=   5.3s\n",
      "[CV] batch_size=10, epochs=100, n_classes=6, num_units=45, optimizer=Adam, shape=45 \n",
      "[CV]  batch_size=10, epochs=100, n_classes=6, num_units=45, optimizer=Adam, shape=45, score=0.8846153846153846, total=  19.3s\n",
      "[CV] batch_size=10, epochs=300, n_classes=6, num_units=45, optimizer=Adam, shape=45 \n",
      "[CV]  batch_size=10, epochs=300, n_classes=6, num_units=45, optimizer=Adam, shape=45, score=0.9423076923076923, total=  51.5s\n",
      "[CV] batch_size=100, epochs=10, n_classes=6, num_units=45, optimizer=Adam, shape=45 \n",
      "[CV]  batch_size=100, epochs=10, n_classes=6, num_units=45, optimizer=Adam, shape=45, score=0.36538461538461536, total=   4.3s\n",
      "[CV] batch_size=100, epochs=100, n_classes=6, num_units=45, optimizer=Adam, shape=45 \n",
      "[CV]  batch_size=100, epochs=100, n_classes=6, num_units=45, optimizer=Adam, shape=45, score=0.6346153846153846, total=   6.3s\n",
      "[CV] batch_size=100, epochs=300, n_classes=6, num_units=45, optimizer=Adam, shape=45 \n",
      "[CV]  batch_size=100, epochs=300, n_classes=6, num_units=45, optimizer=Adam, shape=45, score=0.8269230769230769, total=  10.9s\n"
     ]
    },
    {
     "name": "stderr",
     "output_type": "stream",
     "text": [
      "[Parallel(n_jobs=1)]: Done   9 out of   9 | elapsed: 12.2min finished\n"
     ]
    },
    {
     "name": "stdout",
     "output_type": "stream",
     "text": [
      "4\n",
      "Fitting 1 folds for each of 9 candidates, totalling 9 fits\n",
      "[CV] batch_size=1, epochs=10, n_classes=6, num_units=60, optimizer=Adam, shape=60 \n",
      "[CV]  batch_size=1, epochs=10, n_classes=6, num_units=60, optimizer=Adam, shape=60, score=0.8269230769230769, total=  20.1s\n",
      "[CV] batch_size=1, epochs=100, n_classes=6, num_units=60, optimizer=Adam, shape=60 \n"
     ]
    },
    {
     "name": "stderr",
     "output_type": "stream",
     "text": [
      "[Parallel(n_jobs=1)]: Done   1 out of   1 | elapsed:   20.4s remaining:    0.0s\n"
     ]
    },
    {
     "name": "stdout",
     "output_type": "stream",
     "text": [
      "[CV]  batch_size=1, epochs=100, n_classes=6, num_units=60, optimizer=Adam, shape=60, score=0.9807692307692307, total= 2.8min\n",
      "[CV] batch_size=1, epochs=300, n_classes=6, num_units=60, optimizer=Adam, shape=60 \n"
     ]
    },
    {
     "name": "stderr",
     "output_type": "stream",
     "text": [
      "[Parallel(n_jobs=1)]: Done   2 out of   2 | elapsed:  3.1min remaining:    0.0s\n"
     ]
    },
    {
     "name": "stdout",
     "output_type": "stream",
     "text": [
      "[CV]  batch_size=1, epochs=300, n_classes=6, num_units=60, optimizer=Adam, shape=60, score=0.9807692307692307, total= 8.4min\n",
      "[CV] batch_size=10, epochs=10, n_classes=6, num_units=60, optimizer=Adam, shape=60 \n",
      "[CV]  batch_size=10, epochs=10, n_classes=6, num_units=60, optimizer=Adam, shape=60, score=0.6730769230769231, total=   6.1s\n",
      "[CV] batch_size=10, epochs=100, n_classes=6, num_units=60, optimizer=Adam, shape=60 \n",
      "[CV]  batch_size=10, epochs=100, n_classes=6, num_units=60, optimizer=Adam, shape=60, score=0.9230769230769231, total=  20.1s\n",
      "[CV] batch_size=10, epochs=300, n_classes=6, num_units=60, optimizer=Adam, shape=60 \n",
      "[CV]  batch_size=10, epochs=300, n_classes=6, num_units=60, optimizer=Adam, shape=60, score=0.9615384615384616, total=  53.4s\n",
      "[CV] batch_size=100, epochs=10, n_classes=6, num_units=60, optimizer=Adam, shape=60 \n",
      "[CV]  batch_size=100, epochs=10, n_classes=6, num_units=60, optimizer=Adam, shape=60, score=0.36538461538461536, total=   4.8s\n",
      "[CV] batch_size=100, epochs=100, n_classes=6, num_units=60, optimizer=Adam, shape=60 \n",
      "[CV]  batch_size=100, epochs=100, n_classes=6, num_units=60, optimizer=Adam, shape=60, score=0.7692307692307693, total=   7.9s\n",
      "[CV] batch_size=100, epochs=300, n_classes=6, num_units=60, optimizer=Adam, shape=60 \n",
      "[CV]  batch_size=100, epochs=300, n_classes=6, num_units=60, optimizer=Adam, shape=60, score=0.8653846153846154, total=  11.8s\n"
     ]
    },
    {
     "name": "stderr",
     "output_type": "stream",
     "text": [
      "[Parallel(n_jobs=1)]: Done   9 out of   9 | elapsed: 13.3min finished\n"
     ]
    },
    {
     "name": "stdout",
     "output_type": "stream",
     "text": [
      "5\n",
      "Fitting 1 folds for each of 9 candidates, totalling 9 fits\n",
      "[CV] batch_size=1, epochs=10, n_classes=6, num_units=75, optimizer=Adam, shape=75 \n",
      "[CV]  batch_size=1, epochs=10, n_classes=6, num_units=75, optimizer=Adam, shape=75, score=0.8846153846153846, total=  21.2s\n",
      "[CV] batch_size=1, epochs=100, n_classes=6, num_units=75, optimizer=Adam, shape=75 \n"
     ]
    },
    {
     "name": "stderr",
     "output_type": "stream",
     "text": [
      "[Parallel(n_jobs=1)]: Done   1 out of   1 | elapsed:   21.5s remaining:    0.0s\n"
     ]
    },
    {
     "name": "stdout",
     "output_type": "stream",
     "text": [
      "[CV]  batch_size=1, epochs=100, n_classes=6, num_units=75, optimizer=Adam, shape=75, score=0.9807692307692307, total= 2.7min\n",
      "[CV] batch_size=1, epochs=300, n_classes=6, num_units=75, optimizer=Adam, shape=75 \n"
     ]
    },
    {
     "name": "stderr",
     "output_type": "stream",
     "text": [
      "[Parallel(n_jobs=1)]: Done   2 out of   2 | elapsed:  3.0min remaining:    0.0s\n"
     ]
    },
    {
     "name": "stdout",
     "output_type": "stream",
     "text": [
      "[CV]  batch_size=1, epochs=300, n_classes=6, num_units=75, optimizer=Adam, shape=75, score=0.9807692307692307, total= 8.1min\n",
      "[CV] batch_size=10, epochs=10, n_classes=6, num_units=75, optimizer=Adam, shape=75 \n",
      "[CV]  batch_size=10, epochs=10, n_classes=6, num_units=75, optimizer=Adam, shape=75, score=0.8269230769230769, total=   6.9s\n",
      "[CV] batch_size=10, epochs=100, n_classes=6, num_units=75, optimizer=Adam, shape=75 \n",
      "[CV]  batch_size=10, epochs=100, n_classes=6, num_units=75, optimizer=Adam, shape=75, score=0.9807692307692307, total=  22.1s\n",
      "[CV] batch_size=10, epochs=300, n_classes=6, num_units=75, optimizer=Adam, shape=75 \n",
      "[CV]  batch_size=10, epochs=300, n_classes=6, num_units=75, optimizer=Adam, shape=75, score=0.9807692307692307, total=  56.0s\n",
      "[CV] batch_size=100, epochs=10, n_classes=6, num_units=75, optimizer=Adam, shape=75 \n",
      "[CV]  batch_size=100, epochs=10, n_classes=6, num_units=75, optimizer=Adam, shape=75, score=0.7115384615384616, total=   6.0s\n",
      "[CV] batch_size=100, epochs=100, n_classes=6, num_units=75, optimizer=Adam, shape=75 \n",
      "[CV]  batch_size=100, epochs=100, n_classes=6, num_units=75, optimizer=Adam, shape=75, score=0.8653846153846154, total=   9.5s\n",
      "[CV] batch_size=100, epochs=300, n_classes=6, num_units=75, optimizer=Adam, shape=75 \n",
      "[CV]  batch_size=100, epochs=300, n_classes=6, num_units=75, optimizer=Adam, shape=75, score=0.9230769230769231, total=  14.1s\n"
     ]
    },
    {
     "name": "stderr",
     "output_type": "stream",
     "text": [
      "[Parallel(n_jobs=1)]: Done   9 out of   9 | elapsed: 13.0min finished\n"
     ]
    },
    {
     "name": "stdout",
     "output_type": "stream",
     "text": [
      "6\n",
      "Fitting 1 folds for each of 9 candidates, totalling 9 fits\n",
      "[CV] batch_size=1, epochs=10, n_classes=6, num_units=90, optimizer=Adam, shape=90 \n",
      "[CV]  batch_size=1, epochs=10, n_classes=6, num_units=90, optimizer=Adam, shape=90, score=0.8653846153846154, total=  25.2s\n",
      "[CV] batch_size=1, epochs=100, n_classes=6, num_units=90, optimizer=Adam, shape=90 \n"
     ]
    },
    {
     "name": "stderr",
     "output_type": "stream",
     "text": [
      "[Parallel(n_jobs=1)]: Done   1 out of   1 | elapsed:   25.6s remaining:    0.0s\n"
     ]
    },
    {
     "name": "stdout",
     "output_type": "stream",
     "text": [
      "[CV]  batch_size=1, epochs=100, n_classes=6, num_units=90, optimizer=Adam, shape=90, score=0.9423076923076923, total= 3.2min\n",
      "[CV] batch_size=1, epochs=300, n_classes=6, num_units=90, optimizer=Adam, shape=90 \n"
     ]
    },
    {
     "name": "stderr",
     "output_type": "stream",
     "text": [
      "[Parallel(n_jobs=1)]: Done   2 out of   2 | elapsed:  3.6min remaining:    0.0s\n"
     ]
    },
    {
     "name": "stdout",
     "output_type": "stream",
     "text": [
      "[CV]  batch_size=1, epochs=300, n_classes=6, num_units=90, optimizer=Adam, shape=90, score=0.9230769230769231, total= 8.7min\n",
      "[CV] batch_size=10, epochs=10, n_classes=6, num_units=90, optimizer=Adam, shape=90 \n",
      "[CV]  batch_size=10, epochs=10, n_classes=6, num_units=90, optimizer=Adam, shape=90, score=0.8269230769230769, total=  10.2s\n",
      "[CV] batch_size=10, epochs=100, n_classes=6, num_units=90, optimizer=Adam, shape=90 \n",
      "[CV]  batch_size=10, epochs=100, n_classes=6, num_units=90, optimizer=Adam, shape=90, score=0.9230769230769231, total=  28.9s\n",
      "[CV] batch_size=10, epochs=300, n_classes=6, num_units=90, optimizer=Adam, shape=90 \n",
      "[CV]  batch_size=10, epochs=300, n_classes=6, num_units=90, optimizer=Adam, shape=90, score=0.9615384615384616, total= 1.2min\n",
      "[CV] batch_size=100, epochs=10, n_classes=6, num_units=90, optimizer=Adam, shape=90 \n",
      "[CV]  batch_size=100, epochs=10, n_classes=6, num_units=90, optimizer=Adam, shape=90, score=0.38461538461538464, total=   8.0s\n",
      "[CV] batch_size=100, epochs=100, n_classes=6, num_units=90, optimizer=Adam, shape=90 \n",
      "[CV]  batch_size=100, epochs=100, n_classes=6, num_units=90, optimizer=Adam, shape=90, score=0.8653846153846154, total=  10.4s\n",
      "[CV] batch_size=100, epochs=300, n_classes=6, num_units=90, optimizer=Adam, shape=90 \n",
      "[CV]  batch_size=100, epochs=300, n_classes=6, num_units=90, optimizer=Adam, shape=90, score=0.9038461538461539, total=  16.9s\n"
     ]
    },
    {
     "name": "stderr",
     "output_type": "stream",
     "text": [
      "[Parallel(n_jobs=1)]: Done   9 out of   9 | elapsed: 14.8min finished\n"
     ]
    },
    {
     "name": "stdout",
     "output_type": "stream",
     "text": [
      "7\n",
      "Fitting 1 folds for each of 9 candidates, totalling 9 fits\n",
      "[CV] batch_size=1, epochs=10, n_classes=6, num_units=105, optimizer=Adam, shape=105 \n",
      "[CV]  batch_size=1, epochs=10, n_classes=6, num_units=105, optimizer=Adam, shape=105, score=0.8653846153846154, total=  25.7s\n",
      "[CV] batch_size=1, epochs=100, n_classes=6, num_units=105, optimizer=Adam, shape=105 \n"
     ]
    },
    {
     "name": "stderr",
     "output_type": "stream",
     "text": [
      "[Parallel(n_jobs=1)]: Done   1 out of   1 | elapsed:   26.1s remaining:    0.0s\n"
     ]
    },
    {
     "name": "stdout",
     "output_type": "stream",
     "text": [
      "[CV]  batch_size=1, epochs=100, n_classes=6, num_units=105, optimizer=Adam, shape=105, score=0.9423076923076923, total= 3.3min\n",
      "[CV] batch_size=1, epochs=300, n_classes=6, num_units=105, optimizer=Adam, shape=105 \n"
     ]
    },
    {
     "name": "stderr",
     "output_type": "stream",
     "text": [
      "[Parallel(n_jobs=1)]: Done   2 out of   2 | elapsed:  3.7min remaining:    0.0s\n"
     ]
    },
    {
     "name": "stdout",
     "output_type": "stream",
     "text": [
      "[CV]  batch_size=1, epochs=300, n_classes=6, num_units=105, optimizer=Adam, shape=105, score=0.9807692307692307, total=10.4min\n",
      "[CV] batch_size=10, epochs=10, n_classes=6, num_units=105, optimizer=Adam, shape=105 \n",
      "[CV]  batch_size=10, epochs=10, n_classes=6, num_units=105, optimizer=Adam, shape=105, score=0.8653846153846154, total=  12.7s\n",
      "[CV] batch_size=10, epochs=100, n_classes=6, num_units=105, optimizer=Adam, shape=105 \n",
      "[CV]  batch_size=10, epochs=100, n_classes=6, num_units=105, optimizer=Adam, shape=105, score=0.9038461538461539, total=  26.6s\n",
      "[CV] batch_size=10, epochs=300, n_classes=6, num_units=105, optimizer=Adam, shape=105 \n",
      "[CV]  batch_size=10, epochs=300, n_classes=6, num_units=105, optimizer=Adam, shape=105, score=0.9615384615384616, total= 1.1min\n",
      "[CV] batch_size=100, epochs=10, n_classes=6, num_units=105, optimizer=Adam, shape=105 \n",
      "[CV]  batch_size=100, epochs=10, n_classes=6, num_units=105, optimizer=Adam, shape=105, score=0.3076923076923077, total=   7.4s\n",
      "[CV] batch_size=100, epochs=100, n_classes=6, num_units=105, optimizer=Adam, shape=105 \n",
      "[CV]  batch_size=100, epochs=100, n_classes=6, num_units=105, optimizer=Adam, shape=105, score=0.9038461538461539, total=  10.1s\n",
      "[CV] batch_size=100, epochs=300, n_classes=6, num_units=105, optimizer=Adam, shape=105 \n",
      "[CV]  batch_size=100, epochs=300, n_classes=6, num_units=105, optimizer=Adam, shape=105, score=0.8846153846153846, total=  15.7s\n"
     ]
    },
    {
     "name": "stderr",
     "output_type": "stream",
     "text": [
      "[Parallel(n_jobs=1)]: Done   9 out of   9 | elapsed: 16.5min finished\n"
     ]
    },
    {
     "name": "stdout",
     "output_type": "stream",
     "text": [
      "8\n",
      "Fitting 1 folds for each of 9 candidates, totalling 9 fits\n",
      "[CV] batch_size=1, epochs=10, n_classes=6, num_units=120, optimizer=Adam, shape=120 \n",
      "[CV]  batch_size=1, epochs=10, n_classes=6, num_units=120, optimizer=Adam, shape=120, score=0.9230769230769231, total=  30.3s\n",
      "[CV] batch_size=1, epochs=100, n_classes=6, num_units=120, optimizer=Adam, shape=120 \n"
     ]
    },
    {
     "name": "stderr",
     "output_type": "stream",
     "text": [
      "[Parallel(n_jobs=1)]: Done   1 out of   1 | elapsed:   30.7s remaining:    0.0s\n"
     ]
    },
    {
     "name": "stdout",
     "output_type": "stream",
     "text": [
      "[CV]  batch_size=1, epochs=100, n_classes=6, num_units=120, optimizer=Adam, shape=120, score=0.9230769230769231, total= 2.9min\n",
      "[CV] batch_size=1, epochs=300, n_classes=6, num_units=120, optimizer=Adam, shape=120 \n"
     ]
    },
    {
     "name": "stderr",
     "output_type": "stream",
     "text": [
      "[Parallel(n_jobs=1)]: Done   2 out of   2 | elapsed:  3.4min remaining:    0.0s\n"
     ]
    },
    {
     "name": "stdout",
     "output_type": "stream",
     "text": [
      "[CV]  batch_size=1, epochs=300, n_classes=6, num_units=120, optimizer=Adam, shape=120, score=0.8846153846153846, total= 8.7min\n",
      "[CV] batch_size=10, epochs=10, n_classes=6, num_units=120, optimizer=Adam, shape=120 \n",
      "[CV]  batch_size=10, epochs=10, n_classes=6, num_units=120, optimizer=Adam, shape=120, score=0.8076923076923077, total=   9.5s\n",
      "[CV] batch_size=10, epochs=100, n_classes=6, num_units=120, optimizer=Adam, shape=120 \n",
      "[CV]  batch_size=10, epochs=100, n_classes=6, num_units=120, optimizer=Adam, shape=120, score=0.9423076923076923, total=  27.0s\n",
      "[CV] batch_size=10, epochs=300, n_classes=6, num_units=120, optimizer=Adam, shape=120 \n",
      "[CV]  batch_size=10, epochs=300, n_classes=6, num_units=120, optimizer=Adam, shape=120, score=0.9230769230769231, total= 1.1min\n",
      "[CV] batch_size=100, epochs=10, n_classes=6, num_units=120, optimizer=Adam, shape=120 \n",
      "[CV]  batch_size=100, epochs=10, n_classes=6, num_units=120, optimizer=Adam, shape=120, score=0.3076923076923077, total=   8.3s\n",
      "[CV] batch_size=100, epochs=100, n_classes=6, num_units=120, optimizer=Adam, shape=120 \n",
      "[CV]  batch_size=100, epochs=100, n_classes=6, num_units=120, optimizer=Adam, shape=120, score=0.8269230769230769, total=  10.7s\n",
      "[CV] batch_size=100, epochs=300, n_classes=6, num_units=120, optimizer=Adam, shape=120 \n",
      "[CV]  batch_size=100, epochs=300, n_classes=6, num_units=120, optimizer=Adam, shape=120, score=0.9423076923076923, total=  16.4s\n"
     ]
    },
    {
     "name": "stderr",
     "output_type": "stream",
     "text": [
      "[Parallel(n_jobs=1)]: Done   9 out of   9 | elapsed: 14.5min finished\n"
     ]
    },
    {
     "name": "stdout",
     "output_type": "stream",
     "text": [
      "9\n",
      "Fitting 1 folds for each of 9 candidates, totalling 9 fits\n",
      "[CV] batch_size=1, epochs=10, n_classes=6, num_units=135, optimizer=Adam, shape=135 \n",
      "[CV]  batch_size=1, epochs=10, n_classes=6, num_units=135, optimizer=Adam, shape=135, score=0.8653846153846154, total=  25.9s\n",
      "[CV] batch_size=1, epochs=100, n_classes=6, num_units=135, optimizer=Adam, shape=135 \n"
     ]
    },
    {
     "name": "stderr",
     "output_type": "stream",
     "text": [
      "[Parallel(n_jobs=1)]: Done   1 out of   1 | elapsed:   26.2s remaining:    0.0s\n"
     ]
    },
    {
     "name": "stdout",
     "output_type": "stream",
     "text": [
      "[CV]  batch_size=1, epochs=100, n_classes=6, num_units=135, optimizer=Adam, shape=135, score=0.8461538461538461, total= 3.1min\n",
      "[CV] batch_size=1, epochs=300, n_classes=6, num_units=135, optimizer=Adam, shape=135 \n"
     ]
    },
    {
     "name": "stderr",
     "output_type": "stream",
     "text": [
      "[Parallel(n_jobs=1)]: Done   2 out of   2 | elapsed:  3.6min remaining:    0.0s\n"
     ]
    },
    {
     "name": "stdout",
     "output_type": "stream",
     "text": [
      "[CV]  batch_size=1, epochs=300, n_classes=6, num_units=135, optimizer=Adam, shape=135, score=0.8461538461538461, total= 8.6min\n",
      "[CV] batch_size=10, epochs=10, n_classes=6, num_units=135, optimizer=Adam, shape=135 \n",
      "[CV]  batch_size=10, epochs=10, n_classes=6, num_units=135, optimizer=Adam, shape=135, score=0.7884615384615384, total=   9.6s\n",
      "[CV] batch_size=10, epochs=100, n_classes=6, num_units=135, optimizer=Adam, shape=135 \n",
      "[CV]  batch_size=10, epochs=100, n_classes=6, num_units=135, optimizer=Adam, shape=135, score=0.8653846153846154, total=  25.5s\n",
      "[CV] batch_size=10, epochs=300, n_classes=6, num_units=135, optimizer=Adam, shape=135 \n",
      "[CV]  batch_size=10, epochs=300, n_classes=6, num_units=135, optimizer=Adam, shape=135, score=0.8653846153846154, total= 1.1min\n",
      "[CV] batch_size=100, epochs=10, n_classes=6, num_units=135, optimizer=Adam, shape=135 \n",
      "[CV]  batch_size=100, epochs=10, n_classes=6, num_units=135, optimizer=Adam, shape=135, score=0.5961538461538461, total=   8.5s\n",
      "[CV] batch_size=100, epochs=100, n_classes=6, num_units=135, optimizer=Adam, shape=135 \n",
      "[CV]  batch_size=100, epochs=100, n_classes=6, num_units=135, optimizer=Adam, shape=135, score=0.8269230769230769, total=  10.8s\n",
      "[CV] batch_size=100, epochs=300, n_classes=6, num_units=135, optimizer=Adam, shape=135 \n",
      "[CV]  batch_size=100, epochs=300, n_classes=6, num_units=135, optimizer=Adam, shape=135, score=0.8461538461538461, total=  16.3s\n"
     ]
    },
    {
     "name": "stderr",
     "output_type": "stream",
     "text": [
      "[Parallel(n_jobs=1)]: Done   9 out of   9 | elapsed: 14.5min finished\n"
     ]
    },
    {
     "name": "stdout",
     "output_type": "stream",
     "text": [
      "10\n",
      "Fitting 1 folds for each of 9 candidates, totalling 9 fits\n",
      "[CV] batch_size=1, epochs=10, n_classes=6, num_units=150, optimizer=Adam, shape=150 \n",
      "[CV]  batch_size=1, epochs=10, n_classes=6, num_units=150, optimizer=Adam, shape=150, score=0.8653846153846154, total=  26.0s\n",
      "[CV] batch_size=1, epochs=100, n_classes=6, num_units=150, optimizer=Adam, shape=150 \n"
     ]
    },
    {
     "name": "stderr",
     "output_type": "stream",
     "text": [
      "[Parallel(n_jobs=1)]: Done   1 out of   1 | elapsed:   26.4s remaining:    0.0s\n"
     ]
    },
    {
     "name": "stdout",
     "output_type": "stream",
     "text": [
      "[CV]  batch_size=1, epochs=100, n_classes=6, num_units=150, optimizer=Adam, shape=150, score=0.8653846153846154, total= 3.1min\n",
      "[CV] batch_size=1, epochs=300, n_classes=6, num_units=150, optimizer=Adam, shape=150 \n"
     ]
    },
    {
     "name": "stderr",
     "output_type": "stream",
     "text": [
      "[Parallel(n_jobs=1)]: Done   2 out of   2 | elapsed:  3.6min remaining:    0.0s\n"
     ]
    },
    {
     "name": "stdout",
     "output_type": "stream",
     "text": [
      "[CV]  batch_size=1, epochs=300, n_classes=6, num_units=150, optimizer=Adam, shape=150, score=0.9038461538461539, total= 8.5min\n",
      "[CV] batch_size=10, epochs=10, n_classes=6, num_units=150, optimizer=Adam, shape=150 \n",
      "[CV]  batch_size=10, epochs=10, n_classes=6, num_units=150, optimizer=Adam, shape=150, score=0.7884615384615384, total=  10.7s\n",
      "[CV] batch_size=10, epochs=100, n_classes=6, num_units=150, optimizer=Adam, shape=150 \n",
      "[CV]  batch_size=10, epochs=100, n_classes=6, num_units=150, optimizer=Adam, shape=150, score=0.8653846153846154, total=  26.5s\n",
      "[CV] batch_size=10, epochs=300, n_classes=6, num_units=150, optimizer=Adam, shape=150 \n",
      "[CV]  batch_size=10, epochs=300, n_classes=6, num_units=150, optimizer=Adam, shape=150, score=0.8269230769230769, total= 1.0min\n",
      "[CV] batch_size=100, epochs=10, n_classes=6, num_units=150, optimizer=Adam, shape=150 \n",
      "[CV]  batch_size=100, epochs=10, n_classes=6, num_units=150, optimizer=Adam, shape=150, score=0.7115384615384616, total=   9.6s\n",
      "[CV] batch_size=100, epochs=100, n_classes=6, num_units=150, optimizer=Adam, shape=150 \n",
      "[CV]  batch_size=100, epochs=100, n_classes=6, num_units=150, optimizer=Adam, shape=150, score=0.8076923076923077, total=  12.0s\n",
      "[CV] batch_size=100, epochs=300, n_classes=6, num_units=150, optimizer=Adam, shape=150 \n",
      "[CV]  batch_size=100, epochs=300, n_classes=6, num_units=150, optimizer=Adam, shape=150, score=0.8653846153846154, total=  17.0s\n"
     ]
    },
    {
     "name": "stderr",
     "output_type": "stream",
     "text": [
      "[Parallel(n_jobs=1)]: Done   9 out of   9 | elapsed: 14.4min finished\n"
     ]
    },
    {
     "name": "stdout",
     "output_type": "stream",
     "text": [
      "11\n",
      "Fitting 1 folds for each of 9 candidates, totalling 9 fits\n",
      "[CV] batch_size=1, epochs=10, n_classes=6, num_units=165, optimizer=Adam, shape=165 \n",
      "[CV]  batch_size=1, epochs=10, n_classes=6, num_units=165, optimizer=Adam, shape=165, score=0.8653846153846154, total=  26.9s\n",
      "[CV] batch_size=1, epochs=100, n_classes=6, num_units=165, optimizer=Adam, shape=165 \n"
     ]
    },
    {
     "name": "stderr",
     "output_type": "stream",
     "text": [
      "[Parallel(n_jobs=1)]: Done   1 out of   1 | elapsed:   27.3s remaining:    0.0s\n"
     ]
    },
    {
     "name": "stdout",
     "output_type": "stream",
     "text": [
      "[CV]  batch_size=1, epochs=100, n_classes=6, num_units=165, optimizer=Adam, shape=165, score=0.9230769230769231, total= 2.9min\n",
      "[CV] batch_size=1, epochs=300, n_classes=6, num_units=165, optimizer=Adam, shape=165 \n"
     ]
    },
    {
     "name": "stderr",
     "output_type": "stream",
     "text": [
      "[Parallel(n_jobs=1)]: Done   2 out of   2 | elapsed:  3.3min remaining:    0.0s\n"
     ]
    },
    {
     "name": "stdout",
     "output_type": "stream",
     "text": [
      "[CV]  batch_size=1, epochs=300, n_classes=6, num_units=165, optimizer=Adam, shape=165, score=0.9615384615384616, total= 8.3min\n",
      "[CV] batch_size=10, epochs=10, n_classes=6, num_units=165, optimizer=Adam, shape=165 \n",
      "[CV]  batch_size=10, epochs=10, n_classes=6, num_units=165, optimizer=Adam, shape=165, score=0.7884615384615384, total=  11.3s\n",
      "[CV] batch_size=10, epochs=100, n_classes=6, num_units=165, optimizer=Adam, shape=165 \n",
      "[CV]  batch_size=10, epochs=100, n_classes=6, num_units=165, optimizer=Adam, shape=165, score=0.9038461538461539, total=  26.3s\n",
      "[CV] batch_size=10, epochs=300, n_classes=6, num_units=165, optimizer=Adam, shape=165 \n",
      "[CV]  batch_size=10, epochs=300, n_classes=6, num_units=165, optimizer=Adam, shape=165, score=0.9423076923076923, total= 1.1min\n",
      "[CV] batch_size=100, epochs=10, n_classes=6, num_units=165, optimizer=Adam, shape=165 \n",
      "[CV]  batch_size=100, epochs=10, n_classes=6, num_units=165, optimizer=Adam, shape=165, score=0.5, total=  10.0s\n",
      "[CV] batch_size=100, epochs=100, n_classes=6, num_units=165, optimizer=Adam, shape=165 \n",
      "[CV]  batch_size=100, epochs=100, n_classes=6, num_units=165, optimizer=Adam, shape=165, score=0.8846153846153846, total=  12.4s\n",
      "[CV] batch_size=100, epochs=300, n_classes=6, num_units=165, optimizer=Adam, shape=165 \n",
      "[CV]  batch_size=100, epochs=300, n_classes=6, num_units=165, optimizer=Adam, shape=165, score=0.9038461538461539, total=  17.7s\n"
     ]
    },
    {
     "name": "stderr",
     "output_type": "stream",
     "text": [
      "[Parallel(n_jobs=1)]: Done   9 out of   9 | elapsed: 14.1min finished\n"
     ]
    },
    {
     "name": "stdout",
     "output_type": "stream",
     "text": [
      "12\n",
      "Fitting 1 folds for each of 9 candidates, totalling 9 fits\n",
      "[CV] batch_size=1, epochs=10, n_classes=6, num_units=180, optimizer=Adam, shape=180 \n",
      "[CV]  batch_size=1, epochs=10, n_classes=6, num_units=180, optimizer=Adam, shape=180, score=0.8461538461538461, total=  27.2s\n",
      "[CV] batch_size=1, epochs=100, n_classes=6, num_units=180, optimizer=Adam, shape=180 \n"
     ]
    },
    {
     "name": "stderr",
     "output_type": "stream",
     "text": [
      "[Parallel(n_jobs=1)]: Done   1 out of   1 | elapsed:   27.7s remaining:    0.0s\n"
     ]
    },
    {
     "name": "stdout",
     "output_type": "stream",
     "text": [
      "[CV]  batch_size=1, epochs=100, n_classes=6, num_units=180, optimizer=Adam, shape=180, score=0.8846153846153846, total= 3.0min\n",
      "[CV] batch_size=1, epochs=300, n_classes=6, num_units=180, optimizer=Adam, shape=180 \n"
     ]
    },
    {
     "name": "stderr",
     "output_type": "stream",
     "text": [
      "[Parallel(n_jobs=1)]: Done   2 out of   2 | elapsed:  3.4min remaining:    0.0s\n"
     ]
    },
    {
     "name": "stdout",
     "output_type": "stream",
     "text": [
      "[CV]  batch_size=1, epochs=300, n_classes=6, num_units=180, optimizer=Adam, shape=180, score=0.8653846153846154, total= 8.5min\n",
      "[CV] batch_size=10, epochs=10, n_classes=6, num_units=180, optimizer=Adam, shape=180 \n",
      "[CV]  batch_size=10, epochs=10, n_classes=6, num_units=180, optimizer=Adam, shape=180, score=0.7884615384615384, total=  12.6s\n",
      "[CV] batch_size=10, epochs=100, n_classes=6, num_units=180, optimizer=Adam, shape=180 \n",
      "[CV]  batch_size=10, epochs=100, n_classes=6, num_units=180, optimizer=Adam, shape=180, score=0.8846153846153846, total=  27.6s\n",
      "[CV] batch_size=10, epochs=300, n_classes=6, num_units=180, optimizer=Adam, shape=180 \n",
      "[CV]  batch_size=10, epochs=300, n_classes=6, num_units=180, optimizer=Adam, shape=180, score=0.8846153846153846, total= 1.0min\n",
      "[CV] batch_size=100, epochs=10, n_classes=6, num_units=180, optimizer=Adam, shape=180 \n",
      "[CV]  batch_size=100, epochs=10, n_classes=6, num_units=180, optimizer=Adam, shape=180, score=0.40384615384615385, total=  11.0s\n",
      "[CV] batch_size=100, epochs=100, n_classes=6, num_units=180, optimizer=Adam, shape=180 \n",
      "[CV]  batch_size=100, epochs=100, n_classes=6, num_units=180, optimizer=Adam, shape=180, score=0.8653846153846154, total=  13.4s\n",
      "[CV] batch_size=100, epochs=300, n_classes=6, num_units=180, optimizer=Adam, shape=180 \n",
      "[CV]  batch_size=100, epochs=300, n_classes=6, num_units=180, optimizer=Adam, shape=180, score=0.8846153846153846, total=  18.7s\n"
     ]
    },
    {
     "name": "stderr",
     "output_type": "stream",
     "text": [
      "[Parallel(n_jobs=1)]: Done   9 out of   9 | elapsed: 14.3min finished\n"
     ]
    },
    {
     "name": "stdout",
     "output_type": "stream",
     "text": [
      "Duration: 14082.516303777695\n"
     ]
    }
   ],
   "source": [
    "start_time = time.time()\n",
    "\n",
    "for nr in frame_numbers:\n",
    "    print(nr)\n",
    "    try:\n",
    "        acc_train_input, acc_train_label = prepare_data(train, nr, 'accelerometer', verbose=False)\n",
    "        acc_valid_input, acc_valid_label = prepare_data(valid, nr, 'accelerometer', verbose=False)\n",
    "    except ValueError as err:\n",
    "        pass\n",
    "    \n",
    "    encoder = LabelEncoder()\n",
    "    \n",
    "    X_train = acc_train_input.reshape(acc_train_input.shape[0], 1, acc_train_input.shape[1])\n",
    "    y_train = encoder.fit_transform(acc_train_label)\n",
    "    X_valid = acc_valid_input.reshape(acc_valid_input.shape[0], 1, acc_valid_input.shape[1])\n",
    "    y_valid = encoder.fit_transform(acc_valid_label)\n",
    "    \n",
    "    #for parameters in product(epochs, batch_size):\n",
    "        #print('{} -- {}'.format(nr, parameters))\n",
    "        #print(parameters)\n",
    "\n",
    "    parameters[0]['n_classes'] = [len(encoder.classes_)]\n",
    "    parameters[0]['shape'] = [X_train.shape[2]]\n",
    "    parameters[0]['num_units'] = [X_train.shape[2]]\n",
    "\n",
    "        #parameters[0]['batch_size'] = [1, 10, 100]\n",
    "        #parameters[0]['batch_size'].append(X_train.shape[2])\n",
    "\n",
    "    lstm_model = KerasClassifier(create_model, verbose=0)\n",
    "\n",
    "    lstm = GridSearchCV(lstm_model, parameters, scoring='accuracy', cv=cross_valid,\n",
    "                           verbose=verbose_level).fit(np.append(X_train, X_valid, axis=0),np.append(y_train, y_valid))\n",
    "        \n",
    "        #lstm_model = create_model(n_classes=len(encoder.classes_), shape=X_train.shape[2], num_units=X_train.shape[2])\n",
    "        #lstm_model.fit(X_train, y_train, epochs=parameters[0], batch_size=parameters[1], verbose=0)\n",
    "\n",
    "        #prediction = lstm_model.predict_classes(X_valid, verbose=0)\n",
    "\n",
    "        #result = (accuracy_score(y_valid, prediction), nr, epochs, batch_size)\n",
    "    result = (lstm.best_score_, nr, lstm.best_params_)\n",
    "        \n",
    "        #own_acc.append(do_it(X_train, y_train, X_valid, y_valid, len(encoder.classes_), nr, parameters[0], parameters[1]))\n",
    "    if result[0] > own_acc[0]:\n",
    "        own_acc = result\n",
    "\n",
    "    \n",
    "\n",
    "print('Duration: {}'.format(time.time() - start_time))"
   ]
  },
  {
   "cell_type": "code",
   "execution_count": 21,
   "metadata": {},
   "outputs": [
    {
     "name": "stdout",
     "output_type": "stream",
     "text": [
      "(0.98076923076923073, 4, {'batch_size': 1, 'epochs': 100, 'n_classes': 6, 'num_units': 60, 'optimizer': 'Adam', 'shape': 60})\n"
     ]
    }
   ],
   "source": [
    "print(own_acc, end='\\n')"
   ]
  },
  {
   "cell_type": "markdown",
   "metadata": {},
   "source": [
    "### Gyroskop"
   ]
  },
  {
   "cell_type": "code",
   "execution_count": 13,
   "metadata": {},
   "outputs": [
    {
     "name": "stdout",
     "output_type": "stream",
     "text": [
      "1\n",
      "Fitting 1 folds for each of 9 candidates, totalling 9 fits\n",
      "[CV] batch_size=1, epochs=10, n_classes=6, num_units=15, optimizer=Adam, shape=15 \n",
      "[CV]  batch_size=1, epochs=10, n_classes=6, num_units=15, optimizer=Adam, shape=15, score=0.5, total=  28.3s\n",
      "[CV] batch_size=1, epochs=100, n_classes=6, num_units=15, optimizer=Adam, shape=15 \n"
     ]
    },
    {
     "name": "stderr",
     "output_type": "stream",
     "text": [
      "[Parallel(n_jobs=1)]: Done   1 out of   1 | elapsed:   28.7s remaining:    0.0s\n"
     ]
    },
    {
     "name": "stdout",
     "output_type": "stream",
     "text": [
      "[CV]  batch_size=1, epochs=100, n_classes=6, num_units=15, optimizer=Adam, shape=15, score=0.5769230769230769, total= 3.0min\n",
      "[CV] batch_size=1, epochs=300, n_classes=6, num_units=15, optimizer=Adam, shape=15 \n"
     ]
    },
    {
     "name": "stderr",
     "output_type": "stream",
     "text": [
      "[Parallel(n_jobs=1)]: Done   2 out of   2 | elapsed:  3.5min remaining:    0.0s\n"
     ]
    },
    {
     "name": "stdout",
     "output_type": "stream",
     "text": [
      "[CV]  batch_size=1, epochs=300, n_classes=6, num_units=15, optimizer=Adam, shape=15, score=0.5961538461538461, total= 8.6min\n",
      "[CV] batch_size=10, epochs=10, n_classes=6, num_units=15, optimizer=Adam, shape=15 \n",
      "[CV]  batch_size=10, epochs=10, n_classes=6, num_units=15, optimizer=Adam, shape=15, score=0.38461538461538464, total=  13.4s\n",
      "[CV] batch_size=10, epochs=100, n_classes=6, num_units=15, optimizer=Adam, shape=15 \n",
      "[CV]  batch_size=10, epochs=100, n_classes=6, num_units=15, optimizer=Adam, shape=15, score=0.5769230769230769, total=  28.7s\n",
      "[CV] batch_size=10, epochs=300, n_classes=6, num_units=15, optimizer=Adam, shape=15 \n",
      "[CV]  batch_size=10, epochs=300, n_classes=6, num_units=15, optimizer=Adam, shape=15, score=0.5384615384615384, total= 1.3min\n",
      "[CV] batch_size=100, epochs=10, n_classes=6, num_units=15, optimizer=Adam, shape=15 \n",
      "[CV]  batch_size=100, epochs=10, n_classes=6, num_units=15, optimizer=Adam, shape=15, score=0.1346153846153846, total=  13.2s\n",
      "[CV] batch_size=100, epochs=100, n_classes=6, num_units=15, optimizer=Adam, shape=15 \n",
      "[CV]  batch_size=100, epochs=100, n_classes=6, num_units=15, optimizer=Adam, shape=15, score=0.5, total=  14.2s\n",
      "[CV] batch_size=100, epochs=300, n_classes=6, num_units=15, optimizer=Adam, shape=15 \n",
      "[CV]  batch_size=100, epochs=300, n_classes=6, num_units=15, optimizer=Adam, shape=15, score=0.5384615384615384, total=  19.4s\n"
     ]
    },
    {
     "name": "stderr",
     "output_type": "stream",
     "text": [
      "[Parallel(n_jobs=1)]: Done   9 out of   9 | elapsed: 14.9min finished\n"
     ]
    },
    {
     "name": "stdout",
     "output_type": "stream",
     "text": [
      "2\n",
      "Fitting 1 folds for each of 9 candidates, totalling 9 fits\n",
      "[CV] batch_size=1, epochs=10, n_classes=6, num_units=30, optimizer=Adam, shape=30 \n",
      "[CV]  batch_size=1, epochs=10, n_classes=6, num_units=30, optimizer=Adam, shape=30, score=0.5192307692307693, total=  34.6s\n",
      "[CV] batch_size=1, epochs=100, n_classes=6, num_units=30, optimizer=Adam, shape=30 \n"
     ]
    },
    {
     "name": "stderr",
     "output_type": "stream",
     "text": [
      "[Parallel(n_jobs=1)]: Done   1 out of   1 | elapsed:   35.0s remaining:    0.0s\n"
     ]
    },
    {
     "name": "stdout",
     "output_type": "stream",
     "text": [
      "[CV]  batch_size=1, epochs=100, n_classes=6, num_units=30, optimizer=Adam, shape=30, score=0.7115384615384616, total= 3.2min\n",
      "[CV] batch_size=1, epochs=300, n_classes=6, num_units=30, optimizer=Adam, shape=30 \n"
     ]
    },
    {
     "name": "stderr",
     "output_type": "stream",
     "text": [
      "[Parallel(n_jobs=1)]: Done   2 out of   2 | elapsed:  3.8min remaining:    0.0s\n"
     ]
    },
    {
     "name": "stdout",
     "output_type": "stream",
     "text": [
      "[CV]  batch_size=1, epochs=300, n_classes=6, num_units=30, optimizer=Adam, shape=30, score=0.6923076923076923, total= 9.0min\n",
      "[CV] batch_size=10, epochs=10, n_classes=6, num_units=30, optimizer=Adam, shape=30 \n",
      "[CV]  batch_size=10, epochs=10, n_classes=6, num_units=30, optimizer=Adam, shape=30, score=0.5384615384615384, total=  14.3s\n",
      "[CV] batch_size=10, epochs=100, n_classes=6, num_units=30, optimizer=Adam, shape=30 \n",
      "[CV]  batch_size=10, epochs=100, n_classes=6, num_units=30, optimizer=Adam, shape=30, score=0.6538461538461539, total=  30.4s\n",
      "[CV] batch_size=10, epochs=300, n_classes=6, num_units=30, optimizer=Adam, shape=30 \n",
      "[CV]  batch_size=10, epochs=300, n_classes=6, num_units=30, optimizer=Adam, shape=30, score=0.6730769230769231, total= 1.1min\n",
      "[CV] batch_size=100, epochs=10, n_classes=6, num_units=30, optimizer=Adam, shape=30 \n",
      "[CV]  batch_size=100, epochs=10, n_classes=6, num_units=30, optimizer=Adam, shape=30, score=0.23076923076923078, total=  14.1s\n",
      "[CV] batch_size=100, epochs=100, n_classes=6, num_units=30, optimizer=Adam, shape=30 \n",
      "[CV]  batch_size=100, epochs=100, n_classes=6, num_units=30, optimizer=Adam, shape=30, score=0.5384615384615384, total=  16.6s\n",
      "[CV] batch_size=100, epochs=300, n_classes=6, num_units=30, optimizer=Adam, shape=30 \n",
      "[CV]  batch_size=100, epochs=300, n_classes=6, num_units=30, optimizer=Adam, shape=30, score=0.6346153846153846, total=  20.6s\n"
     ]
    },
    {
     "name": "stderr",
     "output_type": "stream",
     "text": [
      "[Parallel(n_jobs=1)]: Done   9 out of   9 | elapsed: 15.5min finished\n"
     ]
    },
    {
     "name": "stdout",
     "output_type": "stream",
     "text": [
      "3\n",
      "Fitting 1 folds for each of 9 candidates, totalling 9 fits\n",
      "[CV] batch_size=1, epochs=10, n_classes=6, num_units=45, optimizer=Adam, shape=45 \n",
      "[CV]  batch_size=1, epochs=10, n_classes=6, num_units=45, optimizer=Adam, shape=45, score=0.7307692307692307, total=  32.6s\n",
      "[CV] batch_size=1, epochs=100, n_classes=6, num_units=45, optimizer=Adam, shape=45 \n"
     ]
    },
    {
     "name": "stderr",
     "output_type": "stream",
     "text": [
      "[Parallel(n_jobs=1)]: Done   1 out of   1 | elapsed:   33.0s remaining:    0.0s\n"
     ]
    },
    {
     "name": "stdout",
     "output_type": "stream",
     "text": [
      "[CV]  batch_size=1, epochs=100, n_classes=6, num_units=45, optimizer=Adam, shape=45, score=0.7692307692307693, total= 3.5min\n",
      "[CV] batch_size=1, epochs=300, n_classes=6, num_units=45, optimizer=Adam, shape=45 \n"
     ]
    },
    {
     "name": "stderr",
     "output_type": "stream",
     "text": [
      "[Parallel(n_jobs=1)]: Done   2 out of   2 | elapsed:  4.1min remaining:    0.0s\n"
     ]
    },
    {
     "name": "stdout",
     "output_type": "stream",
     "text": [
      "[CV]  batch_size=1, epochs=300, n_classes=6, num_units=45, optimizer=Adam, shape=45, score=0.8076923076923077, total= 9.8min\n",
      "[CV] batch_size=10, epochs=10, n_classes=6, num_units=45, optimizer=Adam, shape=45 \n",
      "[CV]  batch_size=10, epochs=10, n_classes=6, num_units=45, optimizer=Adam, shape=45, score=0.6346153846153846, total=  16.2s\n",
      "[CV] batch_size=10, epochs=100, n_classes=6, num_units=45, optimizer=Adam, shape=45 \n",
      "[CV]  batch_size=10, epochs=100, n_classes=6, num_units=45, optimizer=Adam, shape=45, score=0.75, total=  33.0s\n",
      "[CV] batch_size=10, epochs=300, n_classes=6, num_units=45, optimizer=Adam, shape=45 \n",
      "[CV]  batch_size=10, epochs=300, n_classes=6, num_units=45, optimizer=Adam, shape=45, score=0.8269230769230769, total= 1.2min\n",
      "[CV] batch_size=100, epochs=10, n_classes=6, num_units=45, optimizer=Adam, shape=45 \n",
      "[CV]  batch_size=100, epochs=10, n_classes=6, num_units=45, optimizer=Adam, shape=45, score=0.34615384615384615, total=  13.8s\n",
      "[CV] batch_size=100, epochs=100, n_classes=6, num_units=45, optimizer=Adam, shape=45 \n",
      "[CV]  batch_size=100, epochs=100, n_classes=6, num_units=45, optimizer=Adam, shape=45, score=0.6538461538461539, total=  16.6s\n",
      "[CV] batch_size=100, epochs=300, n_classes=6, num_units=45, optimizer=Adam, shape=45 \n",
      "[CV]  batch_size=100, epochs=300, n_classes=6, num_units=45, optimizer=Adam, shape=45, score=0.8076923076923077, total=  22.4s\n"
     ]
    },
    {
     "name": "stderr",
     "output_type": "stream",
     "text": [
      "[Parallel(n_jobs=1)]: Done   9 out of   9 | elapsed: 16.9min finished\n"
     ]
    },
    {
     "name": "stdout",
     "output_type": "stream",
     "text": [
      "4\n",
      "Fitting 1 folds for each of 9 candidates, totalling 9 fits\n",
      "[CV] batch_size=1, epochs=10, n_classes=6, num_units=60, optimizer=Adam, shape=60 \n",
      "[CV]  batch_size=1, epochs=10, n_classes=6, num_units=60, optimizer=Adam, shape=60, score=0.75, total=  34.3s\n",
      "[CV] batch_size=1, epochs=100, n_classes=6, num_units=60, optimizer=Adam, shape=60 \n"
     ]
    },
    {
     "name": "stderr",
     "output_type": "stream",
     "text": [
      "[Parallel(n_jobs=1)]: Done   1 out of   1 | elapsed:   34.8s remaining:    0.0s\n"
     ]
    },
    {
     "name": "stdout",
     "output_type": "stream",
     "text": [
      "[CV]  batch_size=1, epochs=100, n_classes=6, num_units=60, optimizer=Adam, shape=60, score=0.8461538461538461, total= 3.7min\n",
      "[CV] batch_size=1, epochs=300, n_classes=6, num_units=60, optimizer=Adam, shape=60 \n"
     ]
    },
    {
     "name": "stderr",
     "output_type": "stream",
     "text": [
      "[Parallel(n_jobs=1)]: Done   2 out of   2 | elapsed:  4.3min remaining:    0.0s\n"
     ]
    },
    {
     "name": "stdout",
     "output_type": "stream",
     "text": [
      "[CV]  batch_size=1, epochs=300, n_classes=6, num_units=60, optimizer=Adam, shape=60, score=0.8846153846153846, total=10.7min\n",
      "[CV] batch_size=10, epochs=10, n_classes=6, num_units=60, optimizer=Adam, shape=60 \n",
      "[CV]  batch_size=10, epochs=10, n_classes=6, num_units=60, optimizer=Adam, shape=60, score=0.7307692307692307, total=  16.8s\n",
      "[CV] batch_size=10, epochs=100, n_classes=6, num_units=60, optimizer=Adam, shape=60 \n",
      "[CV]  batch_size=10, epochs=100, n_classes=6, num_units=60, optimizer=Adam, shape=60, score=0.8269230769230769, total=  36.2s\n",
      "[CV] batch_size=10, epochs=300, n_classes=6, num_units=60, optimizer=Adam, shape=60 \n",
      "[CV]  batch_size=10, epochs=300, n_classes=6, num_units=60, optimizer=Adam, shape=60, score=0.8653846153846154, total= 1.3min\n",
      "[CV] batch_size=100, epochs=10, n_classes=6, num_units=60, optimizer=Adam, shape=60 \n",
      "[CV]  batch_size=100, epochs=10, n_classes=6, num_units=60, optimizer=Adam, shape=60, score=0.4807692307692308, total=  15.1s\n",
      "[CV] batch_size=100, epochs=100, n_classes=6, num_units=60, optimizer=Adam, shape=60 \n",
      "[CV]  batch_size=100, epochs=100, n_classes=6, num_units=60, optimizer=Adam, shape=60, score=0.7307692307692307, total=  17.8s\n",
      "[CV] batch_size=100, epochs=300, n_classes=6, num_units=60, optimizer=Adam, shape=60 \n",
      "[CV]  batch_size=100, epochs=300, n_classes=6, num_units=60, optimizer=Adam, shape=60, score=0.8269230769230769, total=  24.1s\n"
     ]
    },
    {
     "name": "stderr",
     "output_type": "stream",
     "text": [
      "[Parallel(n_jobs=1)]: Done   9 out of   9 | elapsed: 18.1min finished\n"
     ]
    },
    {
     "name": "stdout",
     "output_type": "stream",
     "text": [
      "5\n",
      "Fitting 1 folds for each of 9 candidates, totalling 9 fits\n",
      "[CV] batch_size=1, epochs=10, n_classes=6, num_units=75, optimizer=Adam, shape=75 \n",
      "[CV]  batch_size=1, epochs=10, n_classes=6, num_units=75, optimizer=Adam, shape=75, score=0.7692307692307693, total=  35.5s\n",
      "[CV] batch_size=1, epochs=100, n_classes=6, num_units=75, optimizer=Adam, shape=75 \n"
     ]
    },
    {
     "name": "stderr",
     "output_type": "stream",
     "text": [
      "[Parallel(n_jobs=1)]: Done   1 out of   1 | elapsed:   36.0s remaining:    0.0s\n"
     ]
    },
    {
     "name": "stdout",
     "output_type": "stream",
     "text": [
      "[CV]  batch_size=1, epochs=100, n_classes=6, num_units=75, optimizer=Adam, shape=75, score=0.8269230769230769, total= 3.6min\n",
      "[CV] batch_size=1, epochs=300, n_classes=6, num_units=75, optimizer=Adam, shape=75 \n"
     ]
    },
    {
     "name": "stderr",
     "output_type": "stream",
     "text": [
      "[Parallel(n_jobs=1)]: Done   2 out of   2 | elapsed:  4.2min remaining:    0.0s\n"
     ]
    },
    {
     "name": "stdout",
     "output_type": "stream",
     "text": [
      "[CV]  batch_size=1, epochs=300, n_classes=6, num_units=75, optimizer=Adam, shape=75, score=0.8269230769230769, total=10.1min\n",
      "[CV] batch_size=10, epochs=10, n_classes=6, num_units=75, optimizer=Adam, shape=75 \n",
      "[CV]  batch_size=10, epochs=10, n_classes=6, num_units=75, optimizer=Adam, shape=75, score=0.7115384615384616, total=  18.7s\n",
      "[CV] batch_size=10, epochs=100, n_classes=6, num_units=75, optimizer=Adam, shape=75 \n",
      "[CV]  batch_size=10, epochs=100, n_classes=6, num_units=75, optimizer=Adam, shape=75, score=0.8269230769230769, total=  40.1s\n",
      "[CV] batch_size=10, epochs=300, n_classes=6, num_units=75, optimizer=Adam, shape=75 \n",
      "[CV]  batch_size=10, epochs=300, n_classes=6, num_units=75, optimizer=Adam, shape=75, score=0.8653846153846154, total= 1.3min\n",
      "[CV] batch_size=100, epochs=10, n_classes=6, num_units=75, optimizer=Adam, shape=75 \n",
      "[CV]  batch_size=100, epochs=10, n_classes=6, num_units=75, optimizer=Adam, shape=75, score=0.5961538461538461, total=  16.6s\n",
      "[CV] batch_size=100, epochs=100, n_classes=6, num_units=75, optimizer=Adam, shape=75 \n",
      "[CV]  batch_size=100, epochs=100, n_classes=6, num_units=75, optimizer=Adam, shape=75, score=0.75, total=  19.4s\n",
      "[CV] batch_size=100, epochs=300, n_classes=6, num_units=75, optimizer=Adam, shape=75 \n",
      "[CV]  batch_size=100, epochs=300, n_classes=6, num_units=75, optimizer=Adam, shape=75, score=0.8269230769230769, total=  26.4s\n"
     ]
    },
    {
     "name": "stderr",
     "output_type": "stream",
     "text": [
      "[Parallel(n_jobs=1)]: Done   9 out of   9 | elapsed: 17.7min finished\n"
     ]
    },
    {
     "name": "stdout",
     "output_type": "stream",
     "text": [
      "6\n",
      "Fitting 1 folds for each of 9 candidates, totalling 9 fits\n",
      "[CV] batch_size=1, epochs=10, n_classes=6, num_units=90, optimizer=Adam, shape=90 \n",
      "[CV]  batch_size=1, epochs=10, n_classes=6, num_units=90, optimizer=Adam, shape=90, score=0.8076923076923077, total=  37.1s\n",
      "[CV] batch_size=1, epochs=100, n_classes=6, num_units=90, optimizer=Adam, shape=90 \n"
     ]
    },
    {
     "name": "stderr",
     "output_type": "stream",
     "text": [
      "[Parallel(n_jobs=1)]: Done   1 out of   1 | elapsed:   37.6s remaining:    0.0s\n"
     ]
    },
    {
     "name": "stdout",
     "output_type": "stream",
     "text": [
      "[CV]  batch_size=1, epochs=100, n_classes=6, num_units=90, optimizer=Adam, shape=90, score=0.8076923076923077, total= 3.8min\n",
      "[CV] batch_size=1, epochs=300, n_classes=6, num_units=90, optimizer=Adam, shape=90 \n"
     ]
    },
    {
     "name": "stderr",
     "output_type": "stream",
     "text": [
      "[Parallel(n_jobs=1)]: Done   2 out of   2 | elapsed:  4.4min remaining:    0.0s\n"
     ]
    },
    {
     "name": "stdout",
     "output_type": "stream",
     "text": [
      "[CV]  batch_size=1, epochs=300, n_classes=6, num_units=90, optimizer=Adam, shape=90, score=0.8653846153846154, total=10.3min\n",
      "[CV] batch_size=10, epochs=10, n_classes=6, num_units=90, optimizer=Adam, shape=90 \n",
      "[CV]  batch_size=10, epochs=10, n_classes=6, num_units=90, optimizer=Adam, shape=90, score=0.7692307692307693, total=  19.0s\n",
      "[CV] batch_size=10, epochs=100, n_classes=6, num_units=90, optimizer=Adam, shape=90 \n",
      "[CV]  batch_size=10, epochs=100, n_classes=6, num_units=90, optimizer=Adam, shape=90, score=0.8076923076923077, total=  38.6s\n",
      "[CV] batch_size=10, epochs=300, n_classes=6, num_units=90, optimizer=Adam, shape=90 \n",
      "[CV]  batch_size=10, epochs=300, n_classes=6, num_units=90, optimizer=Adam, shape=90, score=0.8076923076923077, total= 1.3min\n",
      "[CV] batch_size=100, epochs=10, n_classes=6, num_units=90, optimizer=Adam, shape=90 \n",
      "[CV]  batch_size=100, epochs=10, n_classes=6, num_units=90, optimizer=Adam, shape=90, score=0.5192307692307693, total=  17.4s\n",
      "[CV] batch_size=100, epochs=100, n_classes=6, num_units=90, optimizer=Adam, shape=90 \n",
      "[CV]  batch_size=100, epochs=100, n_classes=6, num_units=90, optimizer=Adam, shape=90, score=0.7884615384615384, total=  50.6s\n",
      "[CV] batch_size=100, epochs=300, n_classes=6, num_units=90, optimizer=Adam, shape=90 \n",
      "[CV]  batch_size=100, epochs=300, n_classes=6, num_units=90, optimizer=Adam, shape=90, score=0.7884615384615384, total=  28.8s\n"
     ]
    },
    {
     "name": "stderr",
     "output_type": "stream",
     "text": [
      "[Parallel(n_jobs=1)]: Done   9 out of   9 | elapsed: 18.7min finished\n"
     ]
    },
    {
     "name": "stdout",
     "output_type": "stream",
     "text": [
      "7\n",
      "Fitting 1 folds for each of 9 candidates, totalling 9 fits\n",
      "[CV] batch_size=1, epochs=10, n_classes=6, num_units=105, optimizer=Adam, shape=105 \n",
      "[CV]  batch_size=1, epochs=10, n_classes=6, num_units=105, optimizer=Adam, shape=105, score=0.8461538461538461, total=  43.8s\n",
      "[CV] batch_size=1, epochs=100, n_classes=6, num_units=105, optimizer=Adam, shape=105 \n"
     ]
    },
    {
     "name": "stderr",
     "output_type": "stream",
     "text": [
      "[Parallel(n_jobs=1)]: Done   1 out of   1 | elapsed:   44.3s remaining:    0.0s\n"
     ]
    },
    {
     "name": "stdout",
     "output_type": "stream",
     "text": [
      "[CV]  batch_size=1, epochs=100, n_classes=6, num_units=105, optimizer=Adam, shape=105, score=0.8653846153846154, total= 3.7min\n",
      "[CV] batch_size=1, epochs=300, n_classes=6, num_units=105, optimizer=Adam, shape=105 \n"
     ]
    },
    {
     "name": "stderr",
     "output_type": "stream",
     "text": [
      "[Parallel(n_jobs=1)]: Done   2 out of   2 | elapsed:  4.5min remaining:    0.0s\n"
     ]
    },
    {
     "name": "stdout",
     "output_type": "stream",
     "text": [
      "[CV]  batch_size=1, epochs=300, n_classes=6, num_units=105, optimizer=Adam, shape=105, score=0.8846153846153846, total=10.4min\n",
      "[CV] batch_size=10, epochs=10, n_classes=6, num_units=105, optimizer=Adam, shape=105 \n",
      "[CV]  batch_size=10, epochs=10, n_classes=6, num_units=105, optimizer=Adam, shape=105, score=0.75, total=  22.2s\n",
      "[CV] batch_size=10, epochs=100, n_classes=6, num_units=105, optimizer=Adam, shape=105 \n",
      "[CV]  batch_size=10, epochs=100, n_classes=6, num_units=105, optimizer=Adam, shape=105, score=0.8846153846153846, total=  39.8s\n",
      "[CV] batch_size=10, epochs=300, n_classes=6, num_units=105, optimizer=Adam, shape=105 \n",
      "[CV]  batch_size=10, epochs=300, n_classes=6, num_units=105, optimizer=Adam, shape=105, score=0.8653846153846154, total= 1.3min\n",
      "[CV] batch_size=100, epochs=10, n_classes=6, num_units=105, optimizer=Adam, shape=105 \n",
      "[CV]  batch_size=100, epochs=10, n_classes=6, num_units=105, optimizer=Adam, shape=105, score=0.5192307692307693, total=  20.5s\n",
      "[CV] batch_size=100, epochs=100, n_classes=6, num_units=105, optimizer=Adam, shape=105 \n",
      "[CV]  batch_size=100, epochs=100, n_classes=6, num_units=105, optimizer=Adam, shape=105, score=0.8269230769230769, total=  25.3s\n",
      "[CV] batch_size=100, epochs=300, n_classes=6, num_units=105, optimizer=Adam, shape=105 \n",
      "[CV]  batch_size=100, epochs=300, n_classes=6, num_units=105, optimizer=Adam, shape=105, score=0.8653846153846154, total=  30.4s\n"
     ]
    },
    {
     "name": "stderr",
     "output_type": "stream",
     "text": [
      "[Parallel(n_jobs=1)]: Done   9 out of   9 | elapsed: 18.5min finished\n"
     ]
    },
    {
     "name": "stdout",
     "output_type": "stream",
     "text": [
      "8\n",
      "Fitting 1 folds for each of 9 candidates, totalling 9 fits\n",
      "[CV] batch_size=1, epochs=10, n_classes=6, num_units=120, optimizer=Adam, shape=120 \n",
      "[CV]  batch_size=1, epochs=10, n_classes=6, num_units=120, optimizer=Adam, shape=120, score=0.9038461538461539, total=  40.6s\n",
      "[CV] batch_size=1, epochs=100, n_classes=6, num_units=120, optimizer=Adam, shape=120 \n"
     ]
    },
    {
     "name": "stderr",
     "output_type": "stream",
     "text": [
      "[Parallel(n_jobs=1)]: Done   1 out of   1 | elapsed:   41.2s remaining:    0.0s\n"
     ]
    },
    {
     "name": "stdout",
     "output_type": "stream",
     "text": [
      "[CV]  batch_size=1, epochs=100, n_classes=6, num_units=120, optimizer=Adam, shape=120, score=0.8653846153846154, total= 3.8min\n",
      "[CV] batch_size=1, epochs=300, n_classes=6, num_units=120, optimizer=Adam, shape=120 \n"
     ]
    },
    {
     "name": "stderr",
     "output_type": "stream",
     "text": [
      "[Parallel(n_jobs=1)]: Done   2 out of   2 | elapsed:  4.5min remaining:    0.0s\n"
     ]
    },
    {
     "name": "stdout",
     "output_type": "stream",
     "text": [
      "[CV]  batch_size=1, epochs=300, n_classes=6, num_units=120, optimizer=Adam, shape=120, score=0.8653846153846154, total=10.7min\n",
      "[CV] batch_size=10, epochs=10, n_classes=6, num_units=120, optimizer=Adam, shape=120 \n",
      "[CV]  batch_size=10, epochs=10, n_classes=6, num_units=120, optimizer=Adam, shape=120, score=0.8076923076923077, total=  23.1s\n",
      "[CV] batch_size=10, epochs=100, n_classes=6, num_units=120, optimizer=Adam, shape=120 \n",
      "[CV]  batch_size=10, epochs=100, n_classes=6, num_units=120, optimizer=Adam, shape=120, score=0.9038461538461539, total=  41.6s\n",
      "[CV] batch_size=10, epochs=300, n_classes=6, num_units=120, optimizer=Adam, shape=120 \n",
      "[CV]  batch_size=10, epochs=300, n_classes=6, num_units=120, optimizer=Adam, shape=120, score=0.8653846153846154, total= 1.4min\n",
      "[CV] batch_size=100, epochs=10, n_classes=6, num_units=120, optimizer=Adam, shape=120 \n",
      "[CV]  batch_size=100, epochs=10, n_classes=6, num_units=120, optimizer=Adam, shape=120, score=0.4807692307692308, total=  21.8s\n",
      "[CV] batch_size=100, epochs=100, n_classes=6, num_units=120, optimizer=Adam, shape=120 \n",
      "[CV]  batch_size=100, epochs=100, n_classes=6, num_units=120, optimizer=Adam, shape=120, score=0.7884615384615384, total=  24.9s\n",
      "[CV] batch_size=100, epochs=300, n_classes=6, num_units=120, optimizer=Adam, shape=120 \n",
      "[CV]  batch_size=100, epochs=300, n_classes=6, num_units=120, optimizer=Adam, shape=120, score=0.8653846153846154, total=  31.8s\n"
     ]
    },
    {
     "name": "stderr",
     "output_type": "stream",
     "text": [
      "[Parallel(n_jobs=1)]: Done   9 out of   9 | elapsed: 19.0min finished\n"
     ]
    },
    {
     "name": "stdout",
     "output_type": "stream",
     "text": [
      "9\n",
      "Fitting 1 folds for each of 9 candidates, totalling 9 fits\n",
      "[CV] batch_size=1, epochs=10, n_classes=6, num_units=135, optimizer=Adam, shape=135 \n",
      "[CV]  batch_size=1, epochs=10, n_classes=6, num_units=135, optimizer=Adam, shape=135, score=0.8653846153846154, total=  43.8s\n",
      "[CV] batch_size=1, epochs=100, n_classes=6, num_units=135, optimizer=Adam, shape=135 \n"
     ]
    },
    {
     "name": "stderr",
     "output_type": "stream",
     "text": [
      "[Parallel(n_jobs=1)]: Done   1 out of   1 | elapsed:   44.5s remaining:    0.0s\n"
     ]
    },
    {
     "name": "stdout",
     "output_type": "stream",
     "text": [
      "[CV]  batch_size=1, epochs=100, n_classes=6, num_units=135, optimizer=Adam, shape=135, score=0.8653846153846154, total= 3.8min\n",
      "[CV] batch_size=1, epochs=300, n_classes=6, num_units=135, optimizer=Adam, shape=135 \n"
     ]
    },
    {
     "name": "stderr",
     "output_type": "stream",
     "text": [
      "[Parallel(n_jobs=1)]: Done   2 out of   2 | elapsed:  4.6min remaining:    0.0s\n"
     ]
    },
    {
     "name": "stdout",
     "output_type": "stream",
     "text": [
      "[CV]  batch_size=1, epochs=300, n_classes=6, num_units=135, optimizer=Adam, shape=135, score=0.8653846153846154, total=11.2min\n",
      "[CV] batch_size=10, epochs=10, n_classes=6, num_units=135, optimizer=Adam, shape=135 \n",
      "[CV]  batch_size=10, epochs=10, n_classes=6, num_units=135, optimizer=Adam, shape=135, score=0.8269230769230769, total=  23.7s\n",
      "[CV] batch_size=10, epochs=100, n_classes=6, num_units=135, optimizer=Adam, shape=135 \n",
      "[CV]  batch_size=10, epochs=100, n_classes=6, num_units=135, optimizer=Adam, shape=135, score=0.8846153846153846, total=  43.5s\n",
      "[CV] batch_size=10, epochs=300, n_classes=6, num_units=135, optimizer=Adam, shape=135 \n",
      "[CV]  batch_size=10, epochs=300, n_classes=6, num_units=135, optimizer=Adam, shape=135, score=0.8461538461538461, total= 1.7min\n",
      "[CV] batch_size=100, epochs=10, n_classes=6, num_units=135, optimizer=Adam, shape=135 \n",
      "[CV]  batch_size=100, epochs=10, n_classes=6, num_units=135, optimizer=Adam, shape=135, score=0.5961538461538461, total=  21.9s\n",
      "[CV] batch_size=100, epochs=100, n_classes=6, num_units=135, optimizer=Adam, shape=135 \n",
      "[CV]  batch_size=100, epochs=100, n_classes=6, num_units=135, optimizer=Adam, shape=135, score=0.8461538461538461, total=  24.9s\n",
      "[CV] batch_size=100, epochs=300, n_classes=6, num_units=135, optimizer=Adam, shape=135 \n",
      "[CV]  batch_size=100, epochs=300, n_classes=6, num_units=135, optimizer=Adam, shape=135, score=0.9038461538461539, total=  31.6s\n"
     ]
    },
    {
     "name": "stderr",
     "output_type": "stream",
     "text": [
      "[Parallel(n_jobs=1)]: Done   9 out of   9 | elapsed: 20.0min finished\n"
     ]
    },
    {
     "name": "stdout",
     "output_type": "stream",
     "text": [
      "10\n",
      "Fitting 1 folds for each of 9 candidates, totalling 9 fits\n",
      "[CV] batch_size=1, epochs=10, n_classes=6, num_units=150, optimizer=Adam, shape=150 \n",
      "[CV]  batch_size=1, epochs=10, n_classes=6, num_units=150, optimizer=Adam, shape=150, score=0.8653846153846154, total= 1.5min\n",
      "[CV] batch_size=1, epochs=100, n_classes=6, num_units=150, optimizer=Adam, shape=150 \n"
     ]
    },
    {
     "name": "stderr",
     "output_type": "stream",
     "text": [
      "[Parallel(n_jobs=1)]: Done   1 out of   1 | elapsed:  1.5min remaining:    0.0s\n"
     ]
    },
    {
     "name": "stdout",
     "output_type": "stream",
     "text": [
      "[CV]  batch_size=1, epochs=100, n_classes=6, num_units=150, optimizer=Adam, shape=150, score=0.9230769230769231, total= 4.0min\n",
      "[CV] batch_size=1, epochs=300, n_classes=6, num_units=150, optimizer=Adam, shape=150 \n"
     ]
    },
    {
     "name": "stderr",
     "output_type": "stream",
     "text": [
      "[Parallel(n_jobs=1)]: Done   2 out of   2 | elapsed:  5.5min remaining:    0.0s\n"
     ]
    },
    {
     "name": "stdout",
     "output_type": "stream",
     "text": [
      "[CV]  batch_size=1, epochs=300, n_classes=6, num_units=150, optimizer=Adam, shape=150, score=0.9230769230769231, total=11.4min\n",
      "[CV] batch_size=10, epochs=10, n_classes=6, num_units=150, optimizer=Adam, shape=150 \n",
      "[CV]  batch_size=10, epochs=10, n_classes=6, num_units=150, optimizer=Adam, shape=150, score=0.8269230769230769, total=  24.8s\n",
      "[CV] batch_size=10, epochs=100, n_classes=6, num_units=150, optimizer=Adam, shape=150 \n",
      "[CV]  batch_size=10, epochs=100, n_classes=6, num_units=150, optimizer=Adam, shape=150, score=0.9038461538461539, total=  46.8s\n",
      "[CV] batch_size=10, epochs=300, n_classes=6, num_units=150, optimizer=Adam, shape=150 \n",
      "[CV]  batch_size=10, epochs=300, n_classes=6, num_units=150, optimizer=Adam, shape=150, score=0.9230769230769231, total= 1.6min\n",
      "[CV] batch_size=100, epochs=10, n_classes=6, num_units=150, optimizer=Adam, shape=150 \n",
      "[CV]  batch_size=100, epochs=10, n_classes=6, num_units=150, optimizer=Adam, shape=150, score=0.5769230769230769, total=  23.1s\n",
      "[CV] batch_size=100, epochs=100, n_classes=6, num_units=150, optimizer=Adam, shape=150 \n",
      "[CV]  batch_size=100, epochs=100, n_classes=6, num_units=150, optimizer=Adam, shape=150, score=0.8653846153846154, total=  27.7s\n",
      "[CV] batch_size=100, epochs=300, n_classes=6, num_units=150, optimizer=Adam, shape=150 \n",
      "[CV]  batch_size=100, epochs=300, n_classes=6, num_units=150, optimizer=Adam, shape=150, score=0.9230769230769231, total=  39.6s\n"
     ]
    },
    {
     "name": "stderr",
     "output_type": "stream",
     "text": [
      "[Parallel(n_jobs=1)]: Done   9 out of   9 | elapsed: 21.3min finished\n"
     ]
    },
    {
     "name": "stdout",
     "output_type": "stream",
     "text": [
      "11\n",
      "Fitting 1 folds for each of 9 candidates, totalling 9 fits\n",
      "[CV] batch_size=1, epochs=10, n_classes=6, num_units=165, optimizer=Adam, shape=165 \n",
      "[CV]  batch_size=1, epochs=10, n_classes=6, num_units=165, optimizer=Adam, shape=165, score=0.8653846153846154, total=  54.0s\n",
      "[CV] batch_size=1, epochs=100, n_classes=6, num_units=165, optimizer=Adam, shape=165 \n"
     ]
    },
    {
     "name": "stderr",
     "output_type": "stream",
     "text": [
      "[Parallel(n_jobs=1)]: Done   1 out of   1 | elapsed:   54.7s remaining:    0.0s\n"
     ]
    },
    {
     "name": "stdout",
     "output_type": "stream",
     "text": [
      "[CV]  batch_size=1, epochs=100, n_classes=6, num_units=165, optimizer=Adam, shape=165, score=0.8269230769230769, total= 4.4min\n",
      "[CV] batch_size=1, epochs=300, n_classes=6, num_units=165, optimizer=Adam, shape=165 \n"
     ]
    },
    {
     "name": "stderr",
     "output_type": "stream",
     "text": [
      "[Parallel(n_jobs=1)]: Done   2 out of   2 | elapsed:  5.3min remaining:    0.0s\n"
     ]
    },
    {
     "name": "stdout",
     "output_type": "stream",
     "text": [
      "[CV]  batch_size=1, epochs=300, n_classes=6, num_units=165, optimizer=Adam, shape=165, score=0.8653846153846154, total=11.6min\n",
      "[CV] batch_size=10, epochs=10, n_classes=6, num_units=165, optimizer=Adam, shape=165 \n",
      "[CV]  batch_size=10, epochs=10, n_classes=6, num_units=165, optimizer=Adam, shape=165, score=0.8653846153846154, total=  25.8s\n",
      "[CV] batch_size=10, epochs=100, n_classes=6, num_units=165, optimizer=Adam, shape=165 \n",
      "[CV]  batch_size=10, epochs=100, n_classes=6, num_units=165, optimizer=Adam, shape=165, score=0.8269230769230769, total=  48.9s\n",
      "[CV] batch_size=10, epochs=300, n_classes=6, num_units=165, optimizer=Adam, shape=165 \n",
      "[CV]  batch_size=10, epochs=300, n_classes=6, num_units=165, optimizer=Adam, shape=165, score=0.8269230769230769, total= 1.5min\n",
      "[CV] batch_size=100, epochs=10, n_classes=6, num_units=165, optimizer=Adam, shape=165 \n",
      "[CV]  batch_size=100, epochs=10, n_classes=6, num_units=165, optimizer=Adam, shape=165, score=0.38461538461538464, total=  28.6s\n",
      "[CV] batch_size=100, epochs=100, n_classes=6, num_units=165, optimizer=Adam, shape=165 \n",
      "[CV]  batch_size=100, epochs=100, n_classes=6, num_units=165, optimizer=Adam, shape=165, score=0.8269230769230769, total=  28.6s\n",
      "[CV] batch_size=100, epochs=300, n_classes=6, num_units=165, optimizer=Adam, shape=165 \n",
      "[CV]  batch_size=100, epochs=300, n_classes=6, num_units=165, optimizer=Adam, shape=165, score=0.8653846153846154, total=  35.8s\n"
     ]
    },
    {
     "name": "stderr",
     "output_type": "stream",
     "text": [
      "[Parallel(n_jobs=1)]: Done   9 out of   9 | elapsed: 21.3min finished\n"
     ]
    },
    {
     "name": "stdout",
     "output_type": "stream",
     "text": [
      "12\n",
      "Fitting 1 folds for each of 9 candidates, totalling 9 fits\n",
      "[CV] batch_size=1, epochs=10, n_classes=6, num_units=180, optimizer=Adam, shape=180 \n",
      "[CV]  batch_size=1, epochs=10, n_classes=6, num_units=180, optimizer=Adam, shape=180, score=0.7692307692307693, total=  48.6s\n",
      "[CV] batch_size=1, epochs=100, n_classes=6, num_units=180, optimizer=Adam, shape=180 \n"
     ]
    },
    {
     "name": "stderr",
     "output_type": "stream",
     "text": [
      "[Parallel(n_jobs=1)]: Done   1 out of   1 | elapsed:   49.4s remaining:    0.0s\n"
     ]
    },
    {
     "name": "stdout",
     "output_type": "stream",
     "text": [
      "[CV]  batch_size=1, epochs=100, n_classes=6, num_units=180, optimizer=Adam, shape=180, score=0.8653846153846154, total= 4.3min\n",
      "[CV] batch_size=1, epochs=300, n_classes=6, num_units=180, optimizer=Adam, shape=180 \n"
     ]
    },
    {
     "name": "stderr",
     "output_type": "stream",
     "text": [
      "[Parallel(n_jobs=1)]: Done   2 out of   2 | elapsed:  5.2min remaining:    0.0s\n"
     ]
    },
    {
     "name": "stdout",
     "output_type": "stream",
     "text": [
      "[CV]  batch_size=1, epochs=300, n_classes=6, num_units=180, optimizer=Adam, shape=180, score=0.9038461538461539, total=12.0min\n",
      "[CV] batch_size=10, epochs=10, n_classes=6, num_units=180, optimizer=Adam, shape=180 \n",
      "[CV]  batch_size=10, epochs=10, n_classes=6, num_units=180, optimizer=Adam, shape=180, score=0.7307692307692307, total=  28.1s\n",
      "[CV] batch_size=10, epochs=100, n_classes=6, num_units=180, optimizer=Adam, shape=180 \n",
      "[CV]  batch_size=10, epochs=100, n_classes=6, num_units=180, optimizer=Adam, shape=180, score=0.8653846153846154, total=  49.5s\n",
      "[CV] batch_size=10, epochs=300, n_classes=6, num_units=180, optimizer=Adam, shape=180 \n",
      "[CV]  batch_size=10, epochs=300, n_classes=6, num_units=180, optimizer=Adam, shape=180, score=0.8846153846153846, total= 1.7min\n",
      "[CV] batch_size=100, epochs=10, n_classes=6, num_units=180, optimizer=Adam, shape=180 \n",
      "[CV]  batch_size=100, epochs=10, n_classes=6, num_units=180, optimizer=Adam, shape=180, score=0.5192307692307693, total=  26.0s\n",
      "[CV] batch_size=100, epochs=100, n_classes=6, num_units=180, optimizer=Adam, shape=180 \n",
      "[CV]  batch_size=100, epochs=100, n_classes=6, num_units=180, optimizer=Adam, shape=180, score=0.7115384615384616, total=  30.1s\n",
      "[CV] batch_size=100, epochs=300, n_classes=6, num_units=180, optimizer=Adam, shape=180 \n",
      "[CV]  batch_size=100, epochs=300, n_classes=6, num_units=180, optimizer=Adam, shape=180, score=0.8076923076923077, total=  38.1s\n"
     ]
    },
    {
     "name": "stderr",
     "output_type": "stream",
     "text": [
      "[Parallel(n_jobs=1)]: Done   9 out of   9 | elapsed: 21.7min finished\n"
     ]
    }
   ],
   "source": [
    "for nr in frame_numbers:\n",
    "    print(nr)\n",
    "    try:\n",
    "        gyro_train_input, gyro_train_label = prepare_data(train, nr, 'gyro', verbose=False)\n",
    "        gyro_valid_input, gyro_valid_label = prepare_data(valid, nr, 'gyro', verbose=False)\n",
    "    except ValueError as err:\n",
    "        pass\n",
    "    \n",
    "    encoder = LabelEncoder()\n",
    "\n",
    "    X_train = gyro_train_input.reshape(gyro_train_input.shape[0], 1, gyro_train_input.shape[1])\n",
    "    y_train = encoder.fit_transform(gyro_train_label)\n",
    "    X_valid = gyro_valid_input.reshape(gyro_valid_input.shape[0], 1, gyro_valid_input.shape[1])\n",
    "    y_valid = encoder.fit_transform(gyro_valid_label)\n",
    "\n",
    "    parameters[0]['n_classes'] = [len(encoder.classes_)]\n",
    "    parameters[0]['shape'] = [X_train.shape[2]]\n",
    "    parameters[0]['num_units'] = [X_train.shape[2]]\n",
    "\n",
    "    #parameters[0]['batch_size'] = [1, 10, 100]\n",
    "    #parameters[0]['batch_size'].append(X_train.shape[2])\n",
    "\n",
    "    lstm_model = KerasClassifier(create_model, verbose=0)\n",
    "\n",
    "    lstm = GridSearchCV(lstm_model, parameters, scoring='accuracy', cv=cross_valid,\n",
    "                       verbose=verbose_level).fit(np.append(X_train, X_valid, axis=0),np.append(y_train, y_valid))\n",
    "\n",
    "    result = (lstm.best_score_, nr, lstm.best_params_)\n",
    "\n",
    "    if result[0] > own_gyro[0]:\n",
    "        own_gyro = result"
   ]
  },
  {
   "cell_type": "code",
   "execution_count": 22,
   "metadata": {},
   "outputs": [
    {
     "name": "stdout",
     "output_type": "stream",
     "text": [
      "(0.92307692307692313, 10, {'batch_size': 1, 'epochs': 100, 'n_classes': 6, 'num_units': 150, 'optimizer': 'Adam', 'shape': 150})\n"
     ]
    }
   ],
   "source": [
    "print(own_gyro, end='\\n')"
   ]
  },
  {
   "cell_type": "markdown",
   "metadata": {},
   "source": [
    "### Magnetometer"
   ]
  },
  {
   "cell_type": "code",
   "execution_count": 13,
   "metadata": {},
   "outputs": [
    {
     "name": "stdout",
     "output_type": "stream",
     "text": [
      "1\n",
      "Fitting 1 folds for each of 9 candidates, totalling 9 fits\n",
      "[CV] batch_size=1, epochs=10, n_classes=6, num_units=22, optimizer=Adam, shape=22 \n",
      "[CV]  batch_size=1, epochs=10, n_classes=6, num_units=22, optimizer=Adam, shape=22, score=0.3269230769230769, total=  18.5s\n",
      "[CV] batch_size=1, epochs=100, n_classes=6, num_units=22, optimizer=Adam, shape=22 \n"
     ]
    },
    {
     "name": "stderr",
     "output_type": "stream",
     "text": [
      "[Parallel(n_jobs=1)]: Done   1 out of   1 | elapsed:   18.7s remaining:    0.0s\n"
     ]
    },
    {
     "name": "stdout",
     "output_type": "stream",
     "text": [
      "[CV]  batch_size=1, epochs=100, n_classes=6, num_units=22, optimizer=Adam, shape=22, score=0.6730769230769231, total= 2.8min\n",
      "[CV] batch_size=1, epochs=300, n_classes=6, num_units=22, optimizer=Adam, shape=22 \n"
     ]
    },
    {
     "name": "stderr",
     "output_type": "stream",
     "text": [
      "[Parallel(n_jobs=1)]: Done   2 out of   2 | elapsed:  3.1min remaining:    0.0s\n"
     ]
    },
    {
     "name": "stdout",
     "output_type": "stream",
     "text": [
      "[CV]  batch_size=1, epochs=300, n_classes=6, num_units=22, optimizer=Adam, shape=22, score=0.75, total= 7.8min\n",
      "[CV] batch_size=10, epochs=10, n_classes=6, num_units=22, optimizer=Adam, shape=22 \n",
      "[CV]  batch_size=10, epochs=10, n_classes=6, num_units=22, optimizer=Adam, shape=22, score=0.2692307692307692, total=   5.8s\n",
      "[CV] batch_size=10, epochs=100, n_classes=6, num_units=22, optimizer=Adam, shape=22 \n",
      "[CV]  batch_size=10, epochs=100, n_classes=6, num_units=22, optimizer=Adam, shape=22, score=0.5769230769230769, total=  15.7s\n",
      "[CV] batch_size=10, epochs=300, n_classes=6, num_units=22, optimizer=Adam, shape=22 \n",
      "[CV]  batch_size=10, epochs=300, n_classes=6, num_units=22, optimizer=Adam, shape=22, score=0.6923076923076923, total=  42.8s\n",
      "[CV] batch_size=100, epochs=10, n_classes=6, num_units=22, optimizer=Adam, shape=22 \n",
      "[CV]  batch_size=100, epochs=10, n_classes=6, num_units=22, optimizer=Adam, shape=22, score=0.1346153846153846, total=   3.2s\n",
      "[CV] batch_size=100, epochs=100, n_classes=6, num_units=22, optimizer=Adam, shape=22 \n",
      "[CV]  batch_size=100, epochs=100, n_classes=6, num_units=22, optimizer=Adam, shape=22, score=0.19230769230769232, total=   4.5s\n",
      "[CV] batch_size=100, epochs=300, n_classes=6, num_units=22, optimizer=Adam, shape=22 \n",
      "[CV]  batch_size=100, epochs=300, n_classes=6, num_units=22, optimizer=Adam, shape=22, score=0.36538461538461536, total=   8.5s\n"
     ]
    },
    {
     "name": "stderr",
     "output_type": "stream",
     "text": [
      "[Parallel(n_jobs=1)]: Done   9 out of   9 | elapsed: 12.3min finished\n"
     ]
    },
    {
     "name": "stdout",
     "output_type": "stream",
     "text": [
      "2\n",
      "Fitting 1 folds for each of 9 candidates, totalling 9 fits\n",
      "[CV] batch_size=1, epochs=10, n_classes=6, num_units=44, optimizer=Adam, shape=44 \n",
      "[CV]  batch_size=1, epochs=10, n_classes=6, num_units=44, optimizer=Adam, shape=44, score=0.5961538461538461, total=  15.6s\n",
      "[CV] batch_size=1, epochs=100, n_classes=6, num_units=44, optimizer=Adam, shape=44 \n"
     ]
    },
    {
     "name": "stderr",
     "output_type": "stream",
     "text": [
      "[Parallel(n_jobs=1)]: Done   1 out of   1 | elapsed:   15.9s remaining:    0.0s\n"
     ]
    },
    {
     "name": "stdout",
     "output_type": "stream",
     "text": [
      "[CV]  batch_size=1, epochs=100, n_classes=6, num_units=44, optimizer=Adam, shape=44, score=0.7692307692307693, total= 2.4min\n",
      "[CV] batch_size=1, epochs=300, n_classes=6, num_units=44, optimizer=Adam, shape=44 \n"
     ]
    },
    {
     "name": "stderr",
     "output_type": "stream",
     "text": [
      "[Parallel(n_jobs=1)]: Done   2 out of   2 | elapsed:  2.6min remaining:    0.0s\n"
     ]
    },
    {
     "name": "stdout",
     "output_type": "stream",
     "text": [
      "[CV]  batch_size=1, epochs=300, n_classes=6, num_units=44, optimizer=Adam, shape=44, score=0.8846153846153846, total= 6.7min\n",
      "[CV] batch_size=10, epochs=10, n_classes=6, num_units=44, optimizer=Adam, shape=44 \n",
      "[CV]  batch_size=10, epochs=10, n_classes=6, num_units=44, optimizer=Adam, shape=44, score=0.3269230769230769, total=   4.9s\n",
      "[CV] batch_size=10, epochs=100, n_classes=6, num_units=44, optimizer=Adam, shape=44 \n",
      "[CV]  batch_size=10, epochs=100, n_classes=6, num_units=44, optimizer=Adam, shape=44, score=0.7692307692307693, total=  17.8s\n",
      "[CV] batch_size=10, epochs=300, n_classes=6, num_units=44, optimizer=Adam, shape=44 \n",
      "[CV]  batch_size=10, epochs=300, n_classes=6, num_units=44, optimizer=Adam, shape=44, score=0.8269230769230769, total=  43.2s\n",
      "[CV] batch_size=100, epochs=10, n_classes=6, num_units=44, optimizer=Adam, shape=44 \n",
      "[CV]  batch_size=100, epochs=10, n_classes=6, num_units=44, optimizer=Adam, shape=44, score=0.25, total=   3.3s\n",
      "[CV] batch_size=100, epochs=100, n_classes=6, num_units=44, optimizer=Adam, shape=44 \n",
      "[CV]  batch_size=100, epochs=100, n_classes=6, num_units=44, optimizer=Adam, shape=44, score=0.28846153846153844, total=   4.5s\n",
      "[CV] batch_size=100, epochs=300, n_classes=6, num_units=44, optimizer=Adam, shape=44 \n",
      "[CV]  batch_size=100, epochs=300, n_classes=6, num_units=44, optimizer=Adam, shape=44, score=0.6730769230769231, total=   8.8s\n"
     ]
    },
    {
     "name": "stderr",
     "output_type": "stream",
     "text": [
      "[Parallel(n_jobs=1)]: Done   9 out of   9 | elapsed: 10.8min finished\n"
     ]
    },
    {
     "name": "stdout",
     "output_type": "stream",
     "text": [
      "3\n",
      "Fitting 1 folds for each of 9 candidates, totalling 9 fits\n",
      "[CV] batch_size=1, epochs=10, n_classes=6, num_units=66, optimizer=Adam, shape=66 \n",
      "[CV]  batch_size=1, epochs=10, n_classes=6, num_units=66, optimizer=Adam, shape=66, score=0.7115384615384616, total=  15.7s\n",
      "[CV] batch_size=1, epochs=100, n_classes=6, num_units=66, optimizer=Adam, shape=66 \n"
     ]
    },
    {
     "name": "stderr",
     "output_type": "stream",
     "text": [
      "[Parallel(n_jobs=1)]: Done   1 out of   1 | elapsed:   15.9s remaining:    0.0s\n"
     ]
    },
    {
     "name": "stdout",
     "output_type": "stream",
     "text": [
      "[CV]  batch_size=1, epochs=100, n_classes=6, num_units=66, optimizer=Adam, shape=66, score=0.8461538461538461, total= 2.3min\n",
      "[CV] batch_size=1, epochs=300, n_classes=6, num_units=66, optimizer=Adam, shape=66 \n"
     ]
    },
    {
     "name": "stderr",
     "output_type": "stream",
     "text": [
      "[Parallel(n_jobs=1)]: Done   2 out of   2 | elapsed:  2.6min remaining:    0.0s\n"
     ]
    },
    {
     "name": "stdout",
     "output_type": "stream",
     "text": [
      "[CV]  batch_size=1, epochs=300, n_classes=6, num_units=66, optimizer=Adam, shape=66, score=0.8461538461538461, total= 6.8min\n",
      "[CV] batch_size=10, epochs=10, n_classes=6, num_units=66, optimizer=Adam, shape=66 \n",
      "[CV]  batch_size=10, epochs=10, n_classes=6, num_units=66, optimizer=Adam, shape=66, score=0.3269230769230769, total=   5.0s\n",
      "[CV] batch_size=10, epochs=100, n_classes=6, num_units=66, optimizer=Adam, shape=66 \n",
      "[CV]  batch_size=10, epochs=100, n_classes=6, num_units=66, optimizer=Adam, shape=66, score=0.8076923076923077, total=  16.0s\n",
      "[CV] batch_size=10, epochs=300, n_classes=6, num_units=66, optimizer=Adam, shape=66 \n",
      "[CV]  batch_size=10, epochs=300, n_classes=6, num_units=66, optimizer=Adam, shape=66, score=0.7884615384615384, total=  44.2s\n",
      "[CV] batch_size=100, epochs=10, n_classes=6, num_units=66, optimizer=Adam, shape=66 \n",
      "[CV]  batch_size=100, epochs=10, n_classes=6, num_units=66, optimizer=Adam, shape=66, score=0.25, total=   3.3s\n",
      "[CV] batch_size=100, epochs=100, n_classes=6, num_units=66, optimizer=Adam, shape=66 \n",
      "[CV]  batch_size=100, epochs=100, n_classes=6, num_units=66, optimizer=Adam, shape=66, score=0.3269230769230769, total=   4.5s\n",
      "[CV] batch_size=100, epochs=300, n_classes=6, num_units=66, optimizer=Adam, shape=66 \n",
      "[CV]  batch_size=100, epochs=300, n_classes=6, num_units=66, optimizer=Adam, shape=66, score=0.8076923076923077, total=   8.4s\n"
     ]
    },
    {
     "name": "stderr",
     "output_type": "stream",
     "text": [
      "[Parallel(n_jobs=1)]: Done   9 out of   9 | elapsed: 10.7min finished\n"
     ]
    },
    {
     "name": "stdout",
     "output_type": "stream",
     "text": [
      "4\n",
      "Fitting 1 folds for each of 9 candidates, totalling 9 fits\n",
      "[CV] batch_size=1, epochs=10, n_classes=6, num_units=88, optimizer=Adam, shape=88 \n",
      "[CV]  batch_size=1, epochs=10, n_classes=6, num_units=88, optimizer=Adam, shape=88, score=0.6730769230769231, total=  17.0s\n",
      "[CV] batch_size=1, epochs=100, n_classes=6, num_units=88, optimizer=Adam, shape=88 \n"
     ]
    },
    {
     "name": "stderr",
     "output_type": "stream",
     "text": [
      "[Parallel(n_jobs=1)]: Done   1 out of   1 | elapsed:   17.3s remaining:    0.0s\n"
     ]
    },
    {
     "name": "stdout",
     "output_type": "stream",
     "text": [
      "[CV]  batch_size=1, epochs=100, n_classes=6, num_units=88, optimizer=Adam, shape=88, score=0.7692307692307693, total= 2.3min\n",
      "[CV] batch_size=1, epochs=300, n_classes=6, num_units=88, optimizer=Adam, shape=88 \n"
     ]
    },
    {
     "name": "stderr",
     "output_type": "stream",
     "text": [
      "[Parallel(n_jobs=1)]: Done   2 out of   2 | elapsed:  2.6min remaining:    0.0s\n"
     ]
    },
    {
     "name": "stdout",
     "output_type": "stream",
     "text": [
      "[CV]  batch_size=1, epochs=300, n_classes=6, num_units=88, optimizer=Adam, shape=88, score=0.75, total= 6.7min\n",
      "[CV] batch_size=10, epochs=10, n_classes=6, num_units=88, optimizer=Adam, shape=88 \n",
      "[CV]  batch_size=10, epochs=10, n_classes=6, num_units=88, optimizer=Adam, shape=88, score=0.3269230769230769, total=   3.7s\n",
      "[CV] batch_size=10, epochs=100, n_classes=6, num_units=88, optimizer=Adam, shape=88 \n",
      "[CV]  batch_size=10, epochs=100, n_classes=6, num_units=88, optimizer=Adam, shape=88, score=0.7692307692307693, total=  16.1s\n",
      "[CV] batch_size=10, epochs=300, n_classes=6, num_units=88, optimizer=Adam, shape=88 \n",
      "[CV]  batch_size=10, epochs=300, n_classes=6, num_units=88, optimizer=Adam, shape=88, score=0.7692307692307693, total=  43.6s\n",
      "[CV] batch_size=100, epochs=10, n_classes=6, num_units=88, optimizer=Adam, shape=88 \n",
      "[CV]  batch_size=100, epochs=10, n_classes=6, num_units=88, optimizer=Adam, shape=88, score=0.3269230769230769, total=   2.7s\n",
      "[CV] batch_size=100, epochs=100, n_classes=6, num_units=88, optimizer=Adam, shape=88 \n",
      "[CV]  batch_size=100, epochs=100, n_classes=6, num_units=88, optimizer=Adam, shape=88, score=0.5192307692307693, total=   4.5s\n",
      "[CV] batch_size=100, epochs=300, n_classes=6, num_units=88, optimizer=Adam, shape=88 \n",
      "[CV]  batch_size=100, epochs=300, n_classes=6, num_units=88, optimizer=Adam, shape=88, score=0.7692307692307693, total=   9.2s\n"
     ]
    },
    {
     "name": "stderr",
     "output_type": "stream",
     "text": [
      "[Parallel(n_jobs=1)]: Done   9 out of   9 | elapsed: 10.7min finished\n"
     ]
    },
    {
     "name": "stdout",
     "output_type": "stream",
     "text": [
      "5\n",
      "Fitting 1 folds for each of 9 candidates, totalling 9 fits\n",
      "[CV] batch_size=1, epochs=10, n_classes=6, num_units=110, optimizer=Adam, shape=110 \n",
      "[CV]  batch_size=1, epochs=10, n_classes=6, num_units=110, optimizer=Adam, shape=110, score=0.6923076923076923, total=  15.9s\n",
      "[CV] batch_size=1, epochs=100, n_classes=6, num_units=110, optimizer=Adam, shape=110 \n"
     ]
    },
    {
     "name": "stderr",
     "output_type": "stream",
     "text": [
      "[Parallel(n_jobs=1)]: Done   1 out of   1 | elapsed:   16.1s remaining:    0.0s\n"
     ]
    },
    {
     "name": "stdout",
     "output_type": "stream",
     "text": [
      "[CV]  batch_size=1, epochs=100, n_classes=6, num_units=110, optimizer=Adam, shape=110, score=0.7884615384615384, total= 2.3min\n",
      "[CV] batch_size=1, epochs=300, n_classes=6, num_units=110, optimizer=Adam, shape=110 \n"
     ]
    },
    {
     "name": "stderr",
     "output_type": "stream",
     "text": [
      "[Parallel(n_jobs=1)]: Done   2 out of   2 | elapsed:  2.6min remaining:    0.0s\n"
     ]
    },
    {
     "name": "stdout",
     "output_type": "stream",
     "text": [
      "[CV]  batch_size=1, epochs=300, n_classes=6, num_units=110, optimizer=Adam, shape=110, score=0.7884615384615384, total= 7.4min\n",
      "[CV] batch_size=10, epochs=10, n_classes=6, num_units=110, optimizer=Adam, shape=110 \n",
      "[CV]  batch_size=10, epochs=10, n_classes=6, num_units=110, optimizer=Adam, shape=110, score=0.4423076923076923, total=   3.8s\n",
      "[CV] batch_size=10, epochs=100, n_classes=6, num_units=110, optimizer=Adam, shape=110 \n",
      "[CV]  batch_size=10, epochs=100, n_classes=6, num_units=110, optimizer=Adam, shape=110, score=0.7884615384615384, total=  17.4s\n",
      "[CV] batch_size=10, epochs=300, n_classes=6, num_units=110, optimizer=Adam, shape=110 \n",
      "[CV]  batch_size=10, epochs=300, n_classes=6, num_units=110, optimizer=Adam, shape=110, score=0.7884615384615384, total=  49.7s\n",
      "[CV] batch_size=100, epochs=10, n_classes=6, num_units=110, optimizer=Adam, shape=110 \n",
      "[CV]  batch_size=100, epochs=10, n_classes=6, num_units=110, optimizer=Adam, shape=110, score=0.23076923076923078, total=   3.4s\n",
      "[CV] batch_size=100, epochs=100, n_classes=6, num_units=110, optimizer=Adam, shape=110 \n",
      "[CV]  batch_size=100, epochs=100, n_classes=6, num_units=110, optimizer=Adam, shape=110, score=0.5384615384615384, total=   5.4s\n",
      "[CV] batch_size=100, epochs=300, n_classes=6, num_units=110, optimizer=Adam, shape=110 \n",
      "[CV]  batch_size=100, epochs=300, n_classes=6, num_units=110, optimizer=Adam, shape=110, score=0.7115384615384616, total=  10.1s\n"
     ]
    },
    {
     "name": "stderr",
     "output_type": "stream",
     "text": [
      "[Parallel(n_jobs=1)]: Done   9 out of   9 | elapsed: 11.5min finished\n"
     ]
    },
    {
     "name": "stdout",
     "output_type": "stream",
     "text": [
      "6\n",
      "Fitting 1 folds for each of 9 candidates, totalling 9 fits\n",
      "[CV] batch_size=1, epochs=10, n_classes=6, num_units=132, optimizer=Adam, shape=132 \n",
      "[CV]  batch_size=1, epochs=10, n_classes=6, num_units=132, optimizer=Adam, shape=132, score=0.6346153846153846, total=  16.9s\n",
      "[CV] batch_size=1, epochs=100, n_classes=6, num_units=132, optimizer=Adam, shape=132 \n"
     ]
    },
    {
     "name": "stderr",
     "output_type": "stream",
     "text": [
      "[Parallel(n_jobs=1)]: Done   1 out of   1 | elapsed:   17.2s remaining:    0.0s\n"
     ]
    },
    {
     "name": "stdout",
     "output_type": "stream",
     "text": [
      "[CV]  batch_size=1, epochs=100, n_classes=6, num_units=132, optimizer=Adam, shape=132, score=0.7307692307692307, total= 2.5min\n",
      "[CV] batch_size=1, epochs=300, n_classes=6, num_units=132, optimizer=Adam, shape=132 \n"
     ]
    },
    {
     "name": "stderr",
     "output_type": "stream",
     "text": [
      "[Parallel(n_jobs=1)]: Done   2 out of   2 | elapsed:  2.8min remaining:    0.0s\n"
     ]
    },
    {
     "name": "stdout",
     "output_type": "stream",
     "text": [
      "[CV]  batch_size=1, epochs=300, n_classes=6, num_units=132, optimizer=Adam, shape=132, score=0.75, total= 7.5min\n",
      "[CV] batch_size=10, epochs=10, n_classes=6, num_units=132, optimizer=Adam, shape=132 \n",
      "[CV]  batch_size=10, epochs=10, n_classes=6, num_units=132, optimizer=Adam, shape=132, score=0.46153846153846156, total=   3.6s\n",
      "[CV] batch_size=10, epochs=100, n_classes=6, num_units=132, optimizer=Adam, shape=132 \n",
      "[CV]  batch_size=10, epochs=100, n_classes=6, num_units=132, optimizer=Adam, shape=132, score=0.7307692307692307, total=  16.3s\n",
      "[CV] batch_size=10, epochs=300, n_classes=6, num_units=132, optimizer=Adam, shape=132 \n",
      "[CV]  batch_size=10, epochs=300, n_classes=6, num_units=132, optimizer=Adam, shape=132, score=0.75, total=  43.7s\n",
      "[CV] batch_size=100, epochs=10, n_classes=6, num_units=132, optimizer=Adam, shape=132 \n",
      "[CV]  batch_size=100, epochs=10, n_classes=6, num_units=132, optimizer=Adam, shape=132, score=0.3076923076923077, total=   2.7s\n",
      "[CV] batch_size=100, epochs=100, n_classes=6, num_units=132, optimizer=Adam, shape=132 \n",
      "[CV]  batch_size=100, epochs=100, n_classes=6, num_units=132, optimizer=Adam, shape=132, score=0.5192307692307693, total=   5.1s\n",
      "[CV] batch_size=100, epochs=300, n_classes=6, num_units=132, optimizer=Adam, shape=132 \n",
      "[CV]  batch_size=100, epochs=300, n_classes=6, num_units=132, optimizer=Adam, shape=132, score=0.6730769230769231, total=   8.7s\n"
     ]
    },
    {
     "name": "stderr",
     "output_type": "stream",
     "text": [
      "[Parallel(n_jobs=1)]: Done   9 out of   9 | elapsed: 11.7min finished\n"
     ]
    },
    {
     "name": "stdout",
     "output_type": "stream",
     "text": [
      "7\n"
     ]
    },
    {
     "name": "stderr",
     "output_type": "stream",
     "text": [
      "c:\\python36\\lib\\site-packages\\scipy\\stats\\stats.py:3021: RuntimeWarning: invalid value encountered in double_scalars\n",
      "  r = r_num / r_den\n",
      "c:\\python36\\lib\\site-packages\\scipy\\stats\\stats.py:5277: RuntimeWarning: invalid value encountered in less\n",
      "  x = np.where(x < 1.0, x, 1.0)  # if x > 1 then return 1.0\n"
     ]
    },
    {
     "name": "stdout",
     "output_type": "stream",
     "text": [
      "8\n",
      "9\n",
      "10\n",
      "11\n",
      "12\n",
      "Duration: 6219.480236053467\n"
     ]
    }
   ],
   "source": [
    "start_time = time.time()\n",
    "\n",
    "for nr in frame_numbers:\n",
    "    print(nr)\n",
    "    try:\n",
    "        ori_train_input, ori_train_label = prepare_data(train, nr, 'orientation', verbose=False)\n",
    "        ori_valid_input, ori_valid_label = prepare_data(valid, nr, 'orientation', verbose=False)\n",
    "    \n",
    "        encoder = LabelEncoder()\n",
    "\n",
    "        X_train = ori_train_input.reshape(ori_train_input.shape[0], 1, ori_train_input.shape[1])\n",
    "        y_train = encoder.fit_transform(ori_train_label)\n",
    "        X_valid = ori_valid_input.reshape(ori_valid_input.shape[0], 1, ori_valid_input.shape[1])\n",
    "        y_valid = encoder.fit_transform(ori_valid_label)\n",
    "\n",
    "        parameters[0]['n_classes'] = [len(encoder.classes_)]\n",
    "        parameters[0]['shape'] = [X_train.shape[2]]\n",
    "        parameters[0]['num_units'] = [X_train.shape[2]]\n",
    "\n",
    "        parameters[0]['batch_size'] = [1, 10, 100]\n",
    "        #parameters[0]['batch_size'].append(X_train.shape[2])\n",
    "\n",
    "        lstm_model = KerasClassifier(create_model, verbose=0)\n",
    "\n",
    "        lstm = GridSearchCV(lstm_model, parameters, scoring='accuracy', cv=cross_valid,\n",
    "                           verbose=verbose_level).fit(np.append(X_train, X_valid, axis=0),np.append(y_train, y_valid))\n",
    "\n",
    "        result = (lstm.best_score_, nr, lstm.best_params_)\n",
    "\n",
    "        if result[0] > own_ori[0]:\n",
    "            own_ori = result\n",
    "\n",
    "        K.clear_session()\n",
    "    \n",
    "    except ValueError as err:\n",
    "        pass\n",
    "\n",
    "print('Duration: {}'.format(time.time() - start_time))"
   ]
  },
  {
   "cell_type": "code",
   "execution_count": 14,
   "metadata": {},
   "outputs": [
    {
     "name": "stdout",
     "output_type": "stream",
     "text": [
      "(0.90384615384615385, 2, {'batch_size': 1, 'epochs': 300, 'n_classes': 6, 'num_units': 44, 'optimizer': 'Adam', 'shape': 44})\n"
     ]
    }
   ],
   "source": [
    "print(own_ori, end='\\n')"
   ]
  },
  {
   "cell_type": "markdown",
   "metadata": {},
   "source": [
    "### EMG"
   ]
  },
  {
   "cell_type": "code",
   "execution_count": 18,
   "metadata": {},
   "outputs": [
    {
     "name": "stdout",
     "output_type": "stream",
     "text": [
      "1\n",
      "Fitting 1 folds for each of 9 candidates, totalling 9 fits\n",
      "[CV] batch_size=1, epochs=10, n_classes=6, num_units=32, optimizer=Adam, shape=32 \n",
      "[CV]  batch_size=1, epochs=10, n_classes=6, num_units=32, optimizer=Adam, shape=32, score=0.5, total=  21.7s\n",
      "[CV] batch_size=1, epochs=100, n_classes=6, num_units=32, optimizer=Adam, shape=32 \n"
     ]
    },
    {
     "name": "stderr",
     "output_type": "stream",
     "text": [
      "[Parallel(n_jobs=1)]: Done   1 out of   1 | elapsed:   22.0s remaining:    0.0s\n"
     ]
    },
    {
     "name": "stdout",
     "output_type": "stream",
     "text": [
      "[CV]  batch_size=1, epochs=100, n_classes=6, num_units=32, optimizer=Adam, shape=32, score=0.5384615384615384, total= 2.9min\n",
      "[CV] batch_size=1, epochs=300, n_classes=6, num_units=32, optimizer=Adam, shape=32 \n"
     ]
    },
    {
     "name": "stderr",
     "output_type": "stream",
     "text": [
      "[Parallel(n_jobs=1)]: Done   2 out of   2 | elapsed:  3.3min remaining:    0.0s\n"
     ]
    },
    {
     "name": "stdout",
     "output_type": "stream",
     "text": [
      "[CV]  batch_size=1, epochs=300, n_classes=6, num_units=32, optimizer=Adam, shape=32, score=0.6923076923076923, total= 9.0min\n",
      "[CV] batch_size=10, epochs=10, n_classes=6, num_units=32, optimizer=Adam, shape=32 \n",
      "[CV]  batch_size=10, epochs=10, n_classes=6, num_units=32, optimizer=Adam, shape=32, score=0.28846153846153844, total=   4.7s\n",
      "[CV] batch_size=10, epochs=100, n_classes=6, num_units=32, optimizer=Adam, shape=32 \n",
      "[CV]  batch_size=10, epochs=100, n_classes=6, num_units=32, optimizer=Adam, shape=32, score=0.5384615384615384, total=  20.5s\n",
      "[CV] batch_size=10, epochs=300, n_classes=6, num_units=32, optimizer=Adam, shape=32 \n",
      "[CV]  batch_size=10, epochs=300, n_classes=6, num_units=32, optimizer=Adam, shape=32, score=0.5961538461538461, total=  53.4s\n",
      "[CV] batch_size=100, epochs=10, n_classes=6, num_units=32, optimizer=Adam, shape=32 \n",
      "[CV]  batch_size=100, epochs=10, n_classes=6, num_units=32, optimizer=Adam, shape=32, score=0.28846153846153844, total=   3.5s\n",
      "[CV] batch_size=100, epochs=100, n_classes=6, num_units=32, optimizer=Adam, shape=32 \n",
      "[CV]  batch_size=100, epochs=100, n_classes=6, num_units=32, optimizer=Adam, shape=32, score=0.4807692307692308, total=   5.9s\n",
      "[CV] batch_size=100, epochs=300, n_classes=6, num_units=32, optimizer=Adam, shape=32 \n",
      "[CV]  batch_size=100, epochs=300, n_classes=6, num_units=32, optimizer=Adam, shape=32, score=0.4807692307692308, total=  11.2s\n"
     ]
    },
    {
     "name": "stderr",
     "output_type": "stream",
     "text": [
      "[Parallel(n_jobs=1)]: Done   9 out of   9 | elapsed: 13.9min finished\n"
     ]
    },
    {
     "name": "stdout",
     "output_type": "stream",
     "text": [
      "2\n",
      "Fitting 1 folds for each of 9 candidates, totalling 9 fits\n",
      "[CV] batch_size=1, epochs=10, n_classes=6, num_units=64, optimizer=Adam, shape=64 \n",
      "[CV]  batch_size=1, epochs=10, n_classes=6, num_units=64, optimizer=Adam, shape=64, score=0.5, total=  17.0s\n",
      "[CV] batch_size=1, epochs=100, n_classes=6, num_units=64, optimizer=Adam, shape=64 \n"
     ]
    },
    {
     "name": "stderr",
     "output_type": "stream",
     "text": [
      "[Parallel(n_jobs=1)]: Done   1 out of   1 | elapsed:   17.3s remaining:    0.0s\n"
     ]
    },
    {
     "name": "stdout",
     "output_type": "stream",
     "text": [
      "[CV]  batch_size=1, epochs=100, n_classes=6, num_units=64, optimizer=Adam, shape=64, score=0.6153846153846154, total= 2.9min\n",
      "[CV] batch_size=1, epochs=300, n_classes=6, num_units=64, optimizer=Adam, shape=64 \n"
     ]
    },
    {
     "name": "stderr",
     "output_type": "stream",
     "text": [
      "[Parallel(n_jobs=1)]: Done   2 out of   2 | elapsed:  3.2min remaining:    0.0s\n"
     ]
    },
    {
     "name": "stdout",
     "output_type": "stream",
     "text": [
      "[CV]  batch_size=1, epochs=300, n_classes=6, num_units=64, optimizer=Adam, shape=64, score=0.7115384615384616, total= 8.6min\n",
      "[CV] batch_size=10, epochs=10, n_classes=6, num_units=64, optimizer=Adam, shape=64 \n",
      "[CV]  batch_size=10, epochs=10, n_classes=6, num_units=64, optimizer=Adam, shape=64, score=0.4807692307692308, total=   4.0s\n",
      "[CV] batch_size=10, epochs=100, n_classes=6, num_units=64, optimizer=Adam, shape=64 \n",
      "[CV]  batch_size=10, epochs=100, n_classes=6, num_units=64, optimizer=Adam, shape=64, score=0.5576923076923077, total=  18.2s\n",
      "[CV] batch_size=10, epochs=300, n_classes=6, num_units=64, optimizer=Adam, shape=64 \n",
      "[CV]  batch_size=10, epochs=300, n_classes=6, num_units=64, optimizer=Adam, shape=64, score=0.6153846153846154, total=  52.3s\n",
      "[CV] batch_size=100, epochs=10, n_classes=6, num_units=64, optimizer=Adam, shape=64 \n",
      "[CV]  batch_size=100, epochs=10, n_classes=6, num_units=64, optimizer=Adam, shape=64, score=0.17307692307692307, total=   2.9s\n",
      "[CV] batch_size=100, epochs=100, n_classes=6, num_units=64, optimizer=Adam, shape=64 \n",
      "[CV]  batch_size=100, epochs=100, n_classes=6, num_units=64, optimizer=Adam, shape=64, score=0.46153846153846156, total=   6.4s\n",
      "[CV] batch_size=100, epochs=300, n_classes=6, num_units=64, optimizer=Adam, shape=64 \n",
      "[CV]  batch_size=100, epochs=300, n_classes=6, num_units=64, optimizer=Adam, shape=64, score=0.5384615384615384, total=  10.7s\n"
     ]
    },
    {
     "name": "stderr",
     "output_type": "stream",
     "text": [
      "[Parallel(n_jobs=1)]: Done   9 out of   9 | elapsed: 13.3min finished\n"
     ]
    },
    {
     "name": "stdout",
     "output_type": "stream",
     "text": [
      "3\n",
      "Fitting 1 folds for each of 9 candidates, totalling 9 fits\n",
      "[CV] batch_size=1, epochs=10, n_classes=6, num_units=96, optimizer=Adam, shape=96 \n",
      "[CV]  batch_size=1, epochs=10, n_classes=6, num_units=96, optimizer=Adam, shape=96, score=0.6346153846153846, total=  19.7s\n",
      "[CV] batch_size=1, epochs=100, n_classes=6, num_units=96, optimizer=Adam, shape=96 \n"
     ]
    },
    {
     "name": "stderr",
     "output_type": "stream",
     "text": [
      "[Parallel(n_jobs=1)]: Done   1 out of   1 | elapsed:   20.0s remaining:    0.0s\n"
     ]
    },
    {
     "name": "stdout",
     "output_type": "stream",
     "text": [
      "[CV]  batch_size=1, epochs=100, n_classes=6, num_units=96, optimizer=Adam, shape=96, score=0.75, total= 2.8min\n",
      "[CV] batch_size=1, epochs=300, n_classes=6, num_units=96, optimizer=Adam, shape=96 \n"
     ]
    },
    {
     "name": "stderr",
     "output_type": "stream",
     "text": [
      "[Parallel(n_jobs=1)]: Done   2 out of   2 | elapsed:  3.1min remaining:    0.0s\n"
     ]
    },
    {
     "name": "stdout",
     "output_type": "stream",
     "text": [
      "[CV]  batch_size=1, epochs=300, n_classes=6, num_units=96, optimizer=Adam, shape=96, score=0.8076923076923077, total= 8.7min\n",
      "[CV] batch_size=10, epochs=10, n_classes=6, num_units=96, optimizer=Adam, shape=96 \n",
      "[CV]  batch_size=10, epochs=10, n_classes=6, num_units=96, optimizer=Adam, shape=96, score=0.5192307692307693, total=   4.1s\n",
      "[CV] batch_size=10, epochs=100, n_classes=6, num_units=96, optimizer=Adam, shape=96 \n",
      "[CV]  batch_size=10, epochs=100, n_classes=6, num_units=96, optimizer=Adam, shape=96, score=0.6730769230769231, total=  20.9s\n",
      "[CV] batch_size=10, epochs=300, n_classes=6, num_units=96, optimizer=Adam, shape=96 \n",
      "[CV]  batch_size=10, epochs=300, n_classes=6, num_units=96, optimizer=Adam, shape=96, score=0.7692307692307693, total=  54.9s\n",
      "[CV] batch_size=100, epochs=10, n_classes=6, num_units=96, optimizer=Adam, shape=96 \n",
      "[CV]  batch_size=100, epochs=10, n_classes=6, num_units=96, optimizer=Adam, shape=96, score=0.1346153846153846, total=   2.9s\n",
      "[CV] batch_size=100, epochs=100, n_classes=6, num_units=96, optimizer=Adam, shape=96 \n",
      "[CV]  batch_size=100, epochs=100, n_classes=6, num_units=96, optimizer=Adam, shape=96, score=0.6153846153846154, total=   5.3s\n",
      "[CV] batch_size=100, epochs=300, n_classes=6, num_units=96, optimizer=Adam, shape=96 \n",
      "[CV]  batch_size=100, epochs=300, n_classes=6, num_units=96, optimizer=Adam, shape=96, score=0.6538461538461539, total=  10.5s\n"
     ]
    },
    {
     "name": "stderr",
     "output_type": "stream",
     "text": [
      "[Parallel(n_jobs=1)]: Done   9 out of   9 | elapsed: 13.5min finished\n"
     ]
    },
    {
     "name": "stdout",
     "output_type": "stream",
     "text": [
      "4\n",
      "Fitting 1 folds for each of 9 candidates, totalling 9 fits\n",
      "[CV] batch_size=1, epochs=10, n_classes=6, num_units=128, optimizer=Adam, shape=128 \n",
      "[CV]  batch_size=1, epochs=10, n_classes=6, num_units=128, optimizer=Adam, shape=128, score=0.5769230769230769, total=  18.4s\n",
      "[CV] batch_size=1, epochs=100, n_classes=6, num_units=128, optimizer=Adam, shape=128 \n"
     ]
    },
    {
     "name": "stderr",
     "output_type": "stream",
     "text": [
      "[Parallel(n_jobs=1)]: Done   1 out of   1 | elapsed:   18.7s remaining:    0.0s\n"
     ]
    },
    {
     "name": "stdout",
     "output_type": "stream",
     "text": [
      "[CV]  batch_size=1, epochs=100, n_classes=6, num_units=128, optimizer=Adam, shape=128, score=0.75, total= 2.8min\n",
      "[CV] batch_size=1, epochs=300, n_classes=6, num_units=128, optimizer=Adam, shape=128 \n"
     ]
    },
    {
     "name": "stderr",
     "output_type": "stream",
     "text": [
      "[Parallel(n_jobs=1)]: Done   2 out of   2 | elapsed:  3.1min remaining:    0.0s\n"
     ]
    },
    {
     "name": "stdout",
     "output_type": "stream",
     "text": [
      "[CV]  batch_size=1, epochs=300, n_classes=6, num_units=128, optimizer=Adam, shape=128, score=0.7692307692307693, total= 8.2min\n",
      "[CV] batch_size=10, epochs=10, n_classes=6, num_units=128, optimizer=Adam, shape=128 \n",
      "[CV]  batch_size=10, epochs=10, n_classes=6, num_units=128, optimizer=Adam, shape=128, score=0.5576923076923077, total=   3.9s\n",
      "[CV] batch_size=10, epochs=100, n_classes=6, num_units=128, optimizer=Adam, shape=128 \n",
      "[CV]  batch_size=10, epochs=100, n_classes=6, num_units=128, optimizer=Adam, shape=128, score=0.6346153846153846, total=  18.4s\n",
      "[CV] batch_size=10, epochs=300, n_classes=6, num_units=128, optimizer=Adam, shape=128 \n",
      "[CV]  batch_size=10, epochs=300, n_classes=6, num_units=128, optimizer=Adam, shape=128, score=0.7307692307692307, total=  51.5s\n",
      "[CV] batch_size=100, epochs=10, n_classes=6, num_units=128, optimizer=Adam, shape=128 \n",
      "[CV]  batch_size=100, epochs=10, n_classes=6, num_units=128, optimizer=Adam, shape=128, score=0.5, total=   2.8s\n",
      "[CV] batch_size=100, epochs=100, n_classes=6, num_units=128, optimizer=Adam, shape=128 \n",
      "[CV]  batch_size=100, epochs=100, n_classes=6, num_units=128, optimizer=Adam, shape=128, score=0.5961538461538461, total=   5.1s\n",
      "[CV] batch_size=100, epochs=300, n_classes=6, num_units=128, optimizer=Adam, shape=128 \n",
      "[CV]  batch_size=100, epochs=300, n_classes=6, num_units=128, optimizer=Adam, shape=128, score=0.6538461538461539, total=  11.0s\n"
     ]
    },
    {
     "name": "stderr",
     "output_type": "stream",
     "text": [
      "[Parallel(n_jobs=1)]: Done   9 out of   9 | elapsed: 12.9min finished\n"
     ]
    },
    {
     "name": "stdout",
     "output_type": "stream",
     "text": [
      "5\n",
      "Fitting 1 folds for each of 9 candidates, totalling 9 fits\n",
      "[CV] batch_size=1, epochs=10, n_classes=6, num_units=160, optimizer=Adam, shape=160 \n",
      "[CV]  batch_size=1, epochs=10, n_classes=6, num_units=160, optimizer=Adam, shape=160, score=0.5384615384615384, total=  18.3s\n",
      "[CV] batch_size=1, epochs=100, n_classes=6, num_units=160, optimizer=Adam, shape=160 \n"
     ]
    },
    {
     "name": "stderr",
     "output_type": "stream",
     "text": [
      "[Parallel(n_jobs=1)]: Done   1 out of   1 | elapsed:   18.6s remaining:    0.0s\n"
     ]
    },
    {
     "name": "stdout",
     "output_type": "stream",
     "text": [
      "[CV]  batch_size=1, epochs=100, n_classes=6, num_units=160, optimizer=Adam, shape=160, score=0.7115384615384616, total= 2.8min\n",
      "[CV] batch_size=1, epochs=300, n_classes=6, num_units=160, optimizer=Adam, shape=160 \n"
     ]
    },
    {
     "name": "stderr",
     "output_type": "stream",
     "text": [
      "[Parallel(n_jobs=1)]: Done   2 out of   2 | elapsed:  3.1min remaining:    0.0s\n"
     ]
    },
    {
     "name": "stdout",
     "output_type": "stream",
     "text": [
      "[CV]  batch_size=1, epochs=300, n_classes=6, num_units=160, optimizer=Adam, shape=160, score=0.7307692307692307, total= 8.1min\n",
      "[CV] batch_size=10, epochs=10, n_classes=6, num_units=160, optimizer=Adam, shape=160 \n",
      "[CV]  batch_size=10, epochs=10, n_classes=6, num_units=160, optimizer=Adam, shape=160, score=0.5576923076923077, total=   4.1s\n",
      "[CV] batch_size=10, epochs=100, n_classes=6, num_units=160, optimizer=Adam, shape=160 \n",
      "[CV]  batch_size=10, epochs=100, n_classes=6, num_units=160, optimizer=Adam, shape=160, score=0.75, total=  19.4s\n",
      "[CV] batch_size=10, epochs=300, n_classes=6, num_units=160, optimizer=Adam, shape=160 \n",
      "[CV]  batch_size=10, epochs=300, n_classes=6, num_units=160, optimizer=Adam, shape=160, score=0.75, total=  57.4s\n",
      "[CV] batch_size=100, epochs=10, n_classes=6, num_units=160, optimizer=Adam, shape=160 \n",
      "[CV]  batch_size=100, epochs=10, n_classes=6, num_units=160, optimizer=Adam, shape=160, score=0.23076923076923078, total=   2.9s\n",
      "[CV] batch_size=100, epochs=100, n_classes=6, num_units=160, optimizer=Adam, shape=160 \n",
      "[CV]  batch_size=100, epochs=100, n_classes=6, num_units=160, optimizer=Adam, shape=160, score=0.6153846153846154, total=   4.9s\n",
      "[CV] batch_size=100, epochs=300, n_classes=6, num_units=160, optimizer=Adam, shape=160 \n",
      "[CV]  batch_size=100, epochs=300, n_classes=6, num_units=160, optimizer=Adam, shape=160, score=0.6730769230769231, total=  10.9s\n"
     ]
    },
    {
     "name": "stderr",
     "output_type": "stream",
     "text": [
      "[Parallel(n_jobs=1)]: Done   9 out of   9 | elapsed: 12.9min finished\n"
     ]
    },
    {
     "name": "stdout",
     "output_type": "stream",
     "text": [
      "6\n",
      "Fitting 1 folds for each of 9 candidates, totalling 9 fits\n",
      "[CV] batch_size=1, epochs=10, n_classes=6, num_units=192, optimizer=Adam, shape=192 \n",
      "[CV]  batch_size=1, epochs=10, n_classes=6, num_units=192, optimizer=Adam, shape=192, score=0.75, total=  19.8s\n",
      "[CV] batch_size=1, epochs=100, n_classes=6, num_units=192, optimizer=Adam, shape=192 \n"
     ]
    },
    {
     "name": "stderr",
     "output_type": "stream",
     "text": [
      "[Parallel(n_jobs=1)]: Done   1 out of   1 | elapsed:   20.1s remaining:    0.0s\n"
     ]
    },
    {
     "name": "stdout",
     "output_type": "stream",
     "text": [
      "[CV]  batch_size=1, epochs=100, n_classes=6, num_units=192, optimizer=Adam, shape=192, score=0.7884615384615384, total= 2.8min\n",
      "[CV] batch_size=1, epochs=300, n_classes=6, num_units=192, optimizer=Adam, shape=192 \n"
     ]
    },
    {
     "name": "stderr",
     "output_type": "stream",
     "text": [
      "[Parallel(n_jobs=1)]: Done   2 out of   2 | elapsed:  3.2min remaining:    0.0s\n"
     ]
    },
    {
     "name": "stdout",
     "output_type": "stream",
     "text": [
      "[CV]  batch_size=1, epochs=300, n_classes=6, num_units=192, optimizer=Adam, shape=192, score=0.7884615384615384, total= 8.5min\n",
      "[CV] batch_size=10, epochs=10, n_classes=6, num_units=192, optimizer=Adam, shape=192 \n",
      "[CV]  batch_size=10, epochs=10, n_classes=6, num_units=192, optimizer=Adam, shape=192, score=0.6153846153846154, total=   3.9s\n",
      "[CV] batch_size=10, epochs=100, n_classes=6, num_units=192, optimizer=Adam, shape=192 \n",
      "[CV]  batch_size=10, epochs=100, n_classes=6, num_units=192, optimizer=Adam, shape=192, score=0.7692307692307693, total=  19.3s\n",
      "[CV] batch_size=10, epochs=300, n_classes=6, num_units=192, optimizer=Adam, shape=192 \n",
      "[CV]  batch_size=10, epochs=300, n_classes=6, num_units=192, optimizer=Adam, shape=192, score=0.7692307692307693, total=  57.3s\n",
      "[CV] batch_size=100, epochs=10, n_classes=6, num_units=192, optimizer=Adam, shape=192 \n",
      "[CV]  batch_size=100, epochs=10, n_classes=6, num_units=192, optimizer=Adam, shape=192, score=0.2692307692307692, total=   3.0s\n",
      "[CV] batch_size=100, epochs=100, n_classes=6, num_units=192, optimizer=Adam, shape=192 \n",
      "[CV]  batch_size=100, epochs=100, n_classes=6, num_units=192, optimizer=Adam, shape=192, score=0.6730769230769231, total=   5.3s\n",
      "[CV] batch_size=100, epochs=300, n_classes=6, num_units=192, optimizer=Adam, shape=192 \n",
      "[CV]  batch_size=100, epochs=300, n_classes=6, num_units=192, optimizer=Adam, shape=192, score=0.7115384615384616, total=  11.2s\n"
     ]
    },
    {
     "name": "stderr",
     "output_type": "stream",
     "text": [
      "[Parallel(n_jobs=1)]: Done   9 out of   9 | elapsed: 13.4min finished\n"
     ]
    },
    {
     "name": "stdout",
     "output_type": "stream",
     "text": [
      "7\n",
      "Fitting 1 folds for each of 9 candidates, totalling 9 fits\n",
      "[CV] batch_size=1, epochs=10, n_classes=6, num_units=224, optimizer=Adam, shape=224 \n",
      "[CV]  batch_size=1, epochs=10, n_classes=6, num_units=224, optimizer=Adam, shape=224, score=0.5384615384615384, total=  19.8s\n",
      "[CV] batch_size=1, epochs=100, n_classes=6, num_units=224, optimizer=Adam, shape=224 \n"
     ]
    },
    {
     "name": "stderr",
     "output_type": "stream",
     "text": [
      "[Parallel(n_jobs=1)]: Done   1 out of   1 | elapsed:   20.1s remaining:    0.0s\n"
     ]
    },
    {
     "name": "stdout",
     "output_type": "stream",
     "text": [
      "[CV]  batch_size=1, epochs=100, n_classes=6, num_units=224, optimizer=Adam, shape=224, score=0.75, total= 2.8min\n",
      "[CV] batch_size=1, epochs=300, n_classes=6, num_units=224, optimizer=Adam, shape=224 \n"
     ]
    },
    {
     "name": "stderr",
     "output_type": "stream",
     "text": [
      "[Parallel(n_jobs=1)]: Done   2 out of   2 | elapsed:  3.1min remaining:    0.0s\n"
     ]
    },
    {
     "name": "stdout",
     "output_type": "stream",
     "text": [
      "[CV]  batch_size=1, epochs=300, n_classes=6, num_units=224, optimizer=Adam, shape=224, score=0.7884615384615384, total= 8.2min\n",
      "[CV] batch_size=10, epochs=10, n_classes=6, num_units=224, optimizer=Adam, shape=224 \n",
      "[CV]  batch_size=10, epochs=10, n_classes=6, num_units=224, optimizer=Adam, shape=224, score=0.6730769230769231, total=   4.3s\n",
      "[CV] batch_size=10, epochs=100, n_classes=6, num_units=224, optimizer=Adam, shape=224 \n",
      "[CV]  batch_size=10, epochs=100, n_classes=6, num_units=224, optimizer=Adam, shape=224, score=0.7884615384615384, total=  19.9s\n",
      "[CV] batch_size=10, epochs=300, n_classes=6, num_units=224, optimizer=Adam, shape=224 \n",
      "[CV]  batch_size=10, epochs=300, n_classes=6, num_units=224, optimizer=Adam, shape=224, score=0.7692307692307693, total=  54.6s\n",
      "[CV] batch_size=100, epochs=10, n_classes=6, num_units=224, optimizer=Adam, shape=224 \n",
      "[CV]  batch_size=100, epochs=10, n_classes=6, num_units=224, optimizer=Adam, shape=224, score=0.3076923076923077, total=   2.9s\n",
      "[CV] batch_size=100, epochs=100, n_classes=6, num_units=224, optimizer=Adam, shape=224 \n",
      "[CV]  batch_size=100, epochs=100, n_classes=6, num_units=224, optimizer=Adam, shape=224, score=0.6153846153846154, total=   5.2s\n",
      "[CV] batch_size=100, epochs=300, n_classes=6, num_units=224, optimizer=Adam, shape=224 \n",
      "[CV]  batch_size=100, epochs=300, n_classes=6, num_units=224, optimizer=Adam, shape=224, score=0.7884615384615384, total=  11.0s\n"
     ]
    },
    {
     "name": "stderr",
     "output_type": "stream",
     "text": [
      "[Parallel(n_jobs=1)]: Done   9 out of   9 | elapsed: 13.0min finished\n"
     ]
    },
    {
     "name": "stdout",
     "output_type": "stream",
     "text": [
      "8\n",
      "Fitting 1 folds for each of 9 candidates, totalling 9 fits\n",
      "[CV] batch_size=1, epochs=10, n_classes=6, num_units=256, optimizer=Adam, shape=256 \n",
      "[CV]  batch_size=1, epochs=10, n_classes=6, num_units=256, optimizer=Adam, shape=256, score=0.6346153846153846, total=  18.6s\n",
      "[CV] batch_size=1, epochs=100, n_classes=6, num_units=256, optimizer=Adam, shape=256 \n"
     ]
    },
    {
     "name": "stderr",
     "output_type": "stream",
     "text": [
      "[Parallel(n_jobs=1)]: Done   1 out of   1 | elapsed:   18.9s remaining:    0.0s\n"
     ]
    },
    {
     "name": "stdout",
     "output_type": "stream",
     "text": [
      "[CV]  batch_size=1, epochs=100, n_classes=6, num_units=256, optimizer=Adam, shape=256, score=0.7307692307692307, total= 2.8min\n",
      "[CV] batch_size=1, epochs=300, n_classes=6, num_units=256, optimizer=Adam, shape=256 \n"
     ]
    },
    {
     "name": "stderr",
     "output_type": "stream",
     "text": [
      "[Parallel(n_jobs=1)]: Done   2 out of   2 | elapsed:  3.1min remaining:    0.0s\n"
     ]
    },
    {
     "name": "stdout",
     "output_type": "stream",
     "text": [
      "[CV]  batch_size=1, epochs=300, n_classes=6, num_units=256, optimizer=Adam, shape=256, score=0.7692307692307693, total= 8.4min\n",
      "[CV] batch_size=10, epochs=10, n_classes=6, num_units=256, optimizer=Adam, shape=256 \n",
      "[CV]  batch_size=10, epochs=10, n_classes=6, num_units=256, optimizer=Adam, shape=256, score=0.6346153846153846, total=   4.3s\n",
      "[CV] batch_size=10, epochs=100, n_classes=6, num_units=256, optimizer=Adam, shape=256 \n",
      "[CV]  batch_size=10, epochs=100, n_classes=6, num_units=256, optimizer=Adam, shape=256, score=0.7307692307692307, total=  20.2s\n",
      "[CV] batch_size=10, epochs=300, n_classes=6, num_units=256, optimizer=Adam, shape=256 \n",
      "[CV]  batch_size=10, epochs=300, n_classes=6, num_units=256, optimizer=Adam, shape=256, score=0.7884615384615384, total=  55.6s\n",
      "[CV] batch_size=100, epochs=10, n_classes=6, num_units=256, optimizer=Adam, shape=256 \n",
      "[CV]  batch_size=100, epochs=10, n_classes=6, num_units=256, optimizer=Adam, shape=256, score=0.23076923076923078, total=   2.8s\n",
      "[CV] batch_size=100, epochs=100, n_classes=6, num_units=256, optimizer=Adam, shape=256 \n",
      "[CV]  batch_size=100, epochs=100, n_classes=6, num_units=256, optimizer=Adam, shape=256, score=0.5961538461538461, total=   5.2s\n",
      "[CV] batch_size=100, epochs=300, n_classes=6, num_units=256, optimizer=Adam, shape=256 \n",
      "[CV]  batch_size=100, epochs=300, n_classes=6, num_units=256, optimizer=Adam, shape=256, score=0.75, total=  10.8s\n"
     ]
    },
    {
     "name": "stderr",
     "output_type": "stream",
     "text": [
      "[Parallel(n_jobs=1)]: Done   9 out of   9 | elapsed: 13.2min finished\n"
     ]
    },
    {
     "name": "stdout",
     "output_type": "stream",
     "text": [
      "9\n",
      "Fitting 1 folds for each of 9 candidates, totalling 9 fits\n",
      "[CV] batch_size=1, epochs=10, n_classes=6, num_units=288, optimizer=Adam, shape=288 \n",
      "[CV]  batch_size=1, epochs=10, n_classes=6, num_units=288, optimizer=Adam, shape=288, score=0.6730769230769231, total=  19.9s\n",
      "[CV] batch_size=1, epochs=100, n_classes=6, num_units=288, optimizer=Adam, shape=288 \n"
     ]
    },
    {
     "name": "stderr",
     "output_type": "stream",
     "text": [
      "[Parallel(n_jobs=1)]: Done   1 out of   1 | elapsed:   20.2s remaining:    0.0s\n"
     ]
    },
    {
     "name": "stdout",
     "output_type": "stream",
     "text": [
      "[CV]  batch_size=1, epochs=100, n_classes=6, num_units=288, optimizer=Adam, shape=288, score=0.7884615384615384, total= 2.9min\n",
      "[CV] batch_size=1, epochs=300, n_classes=6, num_units=288, optimizer=Adam, shape=288 \n"
     ]
    },
    {
     "name": "stderr",
     "output_type": "stream",
     "text": [
      "[Parallel(n_jobs=1)]: Done   2 out of   2 | elapsed:  3.2min remaining:    0.0s\n"
     ]
    },
    {
     "name": "stdout",
     "output_type": "stream",
     "text": [
      "[CV]  batch_size=1, epochs=300, n_classes=6, num_units=288, optimizer=Adam, shape=288, score=0.7307692307692307, total= 9.4min\n",
      "[CV] batch_size=10, epochs=10, n_classes=6, num_units=288, optimizer=Adam, shape=288 \n",
      "[CV]  batch_size=10, epochs=10, n_classes=6, num_units=288, optimizer=Adam, shape=288, score=0.6538461538461539, total=   4.5s\n",
      "[CV] batch_size=10, epochs=100, n_classes=6, num_units=288, optimizer=Adam, shape=288 \n",
      "[CV]  batch_size=10, epochs=100, n_classes=6, num_units=288, optimizer=Adam, shape=288, score=0.75, total=  21.6s\n",
      "[CV] batch_size=10, epochs=300, n_classes=6, num_units=288, optimizer=Adam, shape=288 \n",
      "[CV]  batch_size=10, epochs=300, n_classes=6, num_units=288, optimizer=Adam, shape=288, score=0.7692307692307693, total= 1.1min\n",
      "[CV] batch_size=100, epochs=10, n_classes=6, num_units=288, optimizer=Adam, shape=288 \n",
      "[CV]  batch_size=100, epochs=10, n_classes=6, num_units=288, optimizer=Adam, shape=288, score=0.1346153846153846, total=   4.2s\n",
      "[CV] batch_size=100, epochs=100, n_classes=6, num_units=288, optimizer=Adam, shape=288 \n",
      "[CV]  batch_size=100, epochs=100, n_classes=6, num_units=288, optimizer=Adam, shape=288, score=0.6730769230769231, total=   7.8s\n",
      "[CV] batch_size=100, epochs=300, n_classes=6, num_units=288, optimizer=Adam, shape=288 \n",
      "[CV]  batch_size=100, epochs=300, n_classes=6, num_units=288, optimizer=Adam, shape=288, score=0.75, total=  13.9s\n"
     ]
    },
    {
     "name": "stderr",
     "output_type": "stream",
     "text": [
      "[Parallel(n_jobs=1)]: Done   9 out of   9 | elapsed: 14.5min finished\n"
     ]
    },
    {
     "name": "stdout",
     "output_type": "stream",
     "text": [
      "10\n",
      "Fitting 1 folds for each of 9 candidates, totalling 9 fits\n",
      "[CV] batch_size=1, epochs=10, n_classes=6, num_units=320, optimizer=Adam, shape=320 \n",
      "[CV]  batch_size=1, epochs=10, n_classes=6, num_units=320, optimizer=Adam, shape=320, score=0.7307692307692307, total=  19.8s\n",
      "[CV] batch_size=1, epochs=100, n_classes=6, num_units=320, optimizer=Adam, shape=320 \n"
     ]
    },
    {
     "name": "stderr",
     "output_type": "stream",
     "text": [
      "[Parallel(n_jobs=1)]: Done   1 out of   1 | elapsed:   20.1s remaining:    0.0s\n"
     ]
    },
    {
     "name": "stdout",
     "output_type": "stream",
     "text": [
      "[CV]  batch_size=1, epochs=100, n_classes=6, num_units=320, optimizer=Adam, shape=320, score=0.8269230769230769, total= 3.0min\n",
      "[CV] batch_size=1, epochs=300, n_classes=6, num_units=320, optimizer=Adam, shape=320 \n"
     ]
    },
    {
     "name": "stderr",
     "output_type": "stream",
     "text": [
      "[Parallel(n_jobs=1)]: Done   2 out of   2 | elapsed:  3.3min remaining:    0.0s\n"
     ]
    },
    {
     "name": "stdout",
     "output_type": "stream",
     "text": [
      "[CV]  batch_size=1, epochs=300, n_classes=6, num_units=320, optimizer=Adam, shape=320, score=0.8461538461538461, total= 8.8min\n",
      "[CV] batch_size=10, epochs=10, n_classes=6, num_units=320, optimizer=Adam, shape=320 \n",
      "[CV]  batch_size=10, epochs=10, n_classes=6, num_units=320, optimizer=Adam, shape=320, score=0.6153846153846154, total=   5.6s\n",
      "[CV] batch_size=10, epochs=100, n_classes=6, num_units=320, optimizer=Adam, shape=320 \n",
      "[CV]  batch_size=10, epochs=100, n_classes=6, num_units=320, optimizer=Adam, shape=320, score=0.8076923076923077, total=  23.5s\n",
      "[CV] batch_size=10, epochs=300, n_classes=6, num_units=320, optimizer=Adam, shape=320 \n",
      "[CV]  batch_size=10, epochs=300, n_classes=6, num_units=320, optimizer=Adam, shape=320, score=0.8269230769230769, total= 1.1min\n",
      "[CV] batch_size=100, epochs=10, n_classes=6, num_units=320, optimizer=Adam, shape=320 \n",
      "[CV]  batch_size=100, epochs=10, n_classes=6, num_units=320, optimizer=Adam, shape=320, score=0.36538461538461536, total=   4.0s\n",
      "[CV] batch_size=100, epochs=100, n_classes=6, num_units=320, optimizer=Adam, shape=320 \n",
      "[CV]  batch_size=100, epochs=100, n_classes=6, num_units=320, optimizer=Adam, shape=320, score=0.6923076923076923, total=   5.6s\n",
      "[CV] batch_size=100, epochs=300, n_classes=6, num_units=320, optimizer=Adam, shape=320 \n",
      "[CV]  batch_size=100, epochs=300, n_classes=6, num_units=320, optimizer=Adam, shape=320, score=0.7692307692307693, total=  11.4s\n"
     ]
    },
    {
     "name": "stderr",
     "output_type": "stream",
     "text": [
      "[Parallel(n_jobs=1)]: Done   9 out of   9 | elapsed: 14.0min finished\n"
     ]
    },
    {
     "name": "stdout",
     "output_type": "stream",
     "text": [
      "11\n",
      "Fitting 1 folds for each of 9 candidates, totalling 9 fits\n",
      "[CV] batch_size=1, epochs=10, n_classes=6, num_units=352, optimizer=Adam, shape=352 \n",
      "[CV]  batch_size=1, epochs=10, n_classes=6, num_units=352, optimizer=Adam, shape=352, score=0.7115384615384616, total=  22.1s\n",
      "[CV] batch_size=1, epochs=100, n_classes=6, num_units=352, optimizer=Adam, shape=352 \n"
     ]
    },
    {
     "name": "stderr",
     "output_type": "stream",
     "text": [
      "[Parallel(n_jobs=1)]: Done   1 out of   1 | elapsed:   22.4s remaining:    0.0s\n"
     ]
    },
    {
     "name": "stdout",
     "output_type": "stream",
     "text": [
      "[CV]  batch_size=1, epochs=100, n_classes=6, num_units=352, optimizer=Adam, shape=352, score=0.7884615384615384, total= 3.1min\n",
      "[CV] batch_size=1, epochs=300, n_classes=6, num_units=352, optimizer=Adam, shape=352 \n"
     ]
    },
    {
     "name": "stderr",
     "output_type": "stream",
     "text": [
      "[Parallel(n_jobs=1)]: Done   2 out of   2 | elapsed:  3.5min remaining:    0.0s\n"
     ]
    },
    {
     "name": "stdout",
     "output_type": "stream",
     "text": [
      "[CV]  batch_size=1, epochs=300, n_classes=6, num_units=352, optimizer=Adam, shape=352, score=0.8076923076923077, total= 9.2min\n",
      "[CV] batch_size=10, epochs=10, n_classes=6, num_units=352, optimizer=Adam, shape=352 \n",
      "[CV]  batch_size=10, epochs=10, n_classes=6, num_units=352, optimizer=Adam, shape=352, score=0.6923076923076923, total=   4.7s\n",
      "[CV] batch_size=10, epochs=100, n_classes=6, num_units=352, optimizer=Adam, shape=352 \n",
      "[CV]  batch_size=10, epochs=100, n_classes=6, num_units=352, optimizer=Adam, shape=352, score=0.7692307692307693, total=  24.7s\n",
      "[CV] batch_size=10, epochs=300, n_classes=6, num_units=352, optimizer=Adam, shape=352 \n",
      "[CV]  batch_size=10, epochs=300, n_classes=6, num_units=352, optimizer=Adam, shape=352, score=0.8076923076923077, total= 1.1min\n",
      "[CV] batch_size=100, epochs=10, n_classes=6, num_units=352, optimizer=Adam, shape=352 \n",
      "[CV]  batch_size=100, epochs=10, n_classes=6, num_units=352, optimizer=Adam, shape=352, score=0.34615384615384615, total=   2.8s\n",
      "[CV] batch_size=100, epochs=100, n_classes=6, num_units=352, optimizer=Adam, shape=352 \n",
      "[CV]  batch_size=100, epochs=100, n_classes=6, num_units=352, optimizer=Adam, shape=352, score=0.75, total=   5.4s\n",
      "[CV] batch_size=100, epochs=300, n_classes=6, num_units=352, optimizer=Adam, shape=352 \n",
      "[CV]  batch_size=100, epochs=300, n_classes=6, num_units=352, optimizer=Adam, shape=352, score=0.75, total=  12.1s\n"
     ]
    },
    {
     "name": "stderr",
     "output_type": "stream",
     "text": [
      "[Parallel(n_jobs=1)]: Done   9 out of   9 | elapsed: 14.6min finished\n"
     ]
    },
    {
     "name": "stdout",
     "output_type": "stream",
     "text": [
      "12\n",
      "Fitting 1 folds for each of 9 candidates, totalling 9 fits\n",
      "[CV] batch_size=1, epochs=10, n_classes=6, num_units=384, optimizer=Adam, shape=384 \n",
      "[CV]  batch_size=1, epochs=10, n_classes=6, num_units=384, optimizer=Adam, shape=384, score=0.6730769230769231, total=  21.7s\n",
      "[CV] batch_size=1, epochs=100, n_classes=6, num_units=384, optimizer=Adam, shape=384 \n"
     ]
    },
    {
     "name": "stderr",
     "output_type": "stream",
     "text": [
      "[Parallel(n_jobs=1)]: Done   1 out of   1 | elapsed:   21.9s remaining:    0.0s\n"
     ]
    },
    {
     "name": "stdout",
     "output_type": "stream",
     "text": [
      "[CV]  batch_size=1, epochs=100, n_classes=6, num_units=384, optimizer=Adam, shape=384, score=0.7884615384615384, total= 3.2min\n",
      "[CV] batch_size=1, epochs=300, n_classes=6, num_units=384, optimizer=Adam, shape=384 \n"
     ]
    },
    {
     "name": "stderr",
     "output_type": "stream",
     "text": [
      "[Parallel(n_jobs=1)]: Done   2 out of   2 | elapsed:  3.6min remaining:    0.0s\n"
     ]
    },
    {
     "name": "stdout",
     "output_type": "stream",
     "text": [
      "[CV]  batch_size=1, epochs=300, n_classes=6, num_units=384, optimizer=Adam, shape=384, score=0.8461538461538461, total= 9.6min\n",
      "[CV] batch_size=10, epochs=10, n_classes=6, num_units=384, optimizer=Adam, shape=384 \n",
      "[CV]  batch_size=10, epochs=10, n_classes=6, num_units=384, optimizer=Adam, shape=384, score=0.6538461538461539, total=   4.5s\n",
      "[CV] batch_size=10, epochs=100, n_classes=6, num_units=384, optimizer=Adam, shape=384 \n",
      "[CV]  batch_size=10, epochs=100, n_classes=6, num_units=384, optimizer=Adam, shape=384, score=0.7692307692307693, total=  24.2s\n",
      "[CV] batch_size=10, epochs=300, n_classes=6, num_units=384, optimizer=Adam, shape=384 \n",
      "[CV]  batch_size=10, epochs=300, n_classes=6, num_units=384, optimizer=Adam, shape=384, score=0.7692307692307693, total= 1.1min\n",
      "[CV] batch_size=100, epochs=10, n_classes=6, num_units=384, optimizer=Adam, shape=384 \n",
      "[CV]  batch_size=100, epochs=10, n_classes=6, num_units=384, optimizer=Adam, shape=384, score=0.23076923076923078, total=   3.0s\n",
      "[CV] batch_size=100, epochs=100, n_classes=6, num_units=384, optimizer=Adam, shape=384 \n",
      "[CV]  batch_size=100, epochs=100, n_classes=6, num_units=384, optimizer=Adam, shape=384, score=0.6923076923076923, total=   6.8s\n",
      "[CV] batch_size=100, epochs=300, n_classes=6, num_units=384, optimizer=Adam, shape=384 \n",
      "[CV]  batch_size=100, epochs=300, n_classes=6, num_units=384, optimizer=Adam, shape=384, score=0.75, total=  12.2s\n"
     ]
    },
    {
     "name": "stderr",
     "output_type": "stream",
     "text": [
      "[Parallel(n_jobs=1)]: Done   9 out of   9 | elapsed: 15.2min finished\n"
     ]
    },
    {
     "name": "stdout",
     "output_type": "stream",
     "text": [
      "Duration: 15771.902138471603\n"
     ]
    }
   ],
   "source": [
    "start_time = time.time()\n",
    "\n",
    "for nr in frame_numbers:\n",
    "    print(nr)\n",
    "    try:\n",
    "        emg_train_input, emg_train_label = prepare_data(train, nr, 'emg', verbose=False)\n",
    "        emg_valid_input, emg_valid_label = prepare_data(valid, nr, 'emg', verbose=False)\n",
    "\n",
    "        encoder = LabelEncoder()\n",
    "\n",
    "        X_train = emg_train_input.reshape(emg_train_input.shape[0], 1, emg_train_input.shape[1])\n",
    "        y_train = encoder.fit_transform(emg_train_label)\n",
    "        X_valid = emg_valid_input.reshape(emg_valid_input.shape[0], 1, emg_valid_input.shape[1])\n",
    "        y_valid = encoder.fit_transform(emg_valid_label)\n",
    "\n",
    "        parameters[0]['n_classes'] = [len(encoder.classes_)]\n",
    "        parameters[0]['shape'] = [X_train.shape[2]]\n",
    "        parameters[0]['num_units'] = [X_train.shape[2]]\n",
    "\n",
    "        #parameters[0]['batch_size'] = [1, 10, 100]\n",
    "        #parameters[0]['batch_size'].append(X_train.shape[2])\n",
    "\n",
    "        lstm_model = KerasClassifier(create_model, verbose=0)\n",
    "\n",
    "        lstm = GridSearchCV(lstm_model, parameters, scoring='accuracy', cv=cross_valid,\n",
    "                           verbose=verbose_level).fit(np.append(X_train, X_valid, axis=0),np.append(y_train, y_valid))\n",
    "\n",
    "        result = (lstm.best_score_, nr, lstm.best_params_)\n",
    "\n",
    "        if result[0] > own_emg[0]:\n",
    "            own_emg = result\n",
    "\n",
    "        K.clear_session()\n",
    "    \n",
    "    except ValueError as err:\n",
    "        pass\n",
    "    \n",
    "print('Duration: {}'.format(time.time() - start_time))"
   ]
  },
  {
   "cell_type": "code",
   "execution_count": 19,
   "metadata": {},
   "outputs": [
    {
     "name": "stdout",
     "output_type": "stream",
     "text": [
      "(0.84615384615384615, 10, {'batch_size': 1, 'epochs': 300, 'n_classes': 6, 'num_units': 320, 'optimizer': 'Adam', 'shape': 320})\n"
     ]
    }
   ],
   "source": [
    "print(own_emg, end='\\n')"
   ]
  },
  {
   "cell_type": "markdown",
   "metadata": {},
   "source": [
    "## Parametertest - paper"
   ]
  },
  {
   "cell_type": "code",
   "execution_count": 6,
   "metadata": {
    "collapsed": true
   },
   "outputs": [],
   "source": [
    "train, valid, test = load_data_for_classification('paper')\n",
    "\n",
    "# lists will be filled with (accuracy, frame_number, params)\n",
    "paper_acc = (0, 0)\n",
    "paper_gyro = (0, 0)\n",
    "paper_ori = (0, 0)\n",
    "paper_emg = (0, 0)"
   ]
  },
  {
   "cell_type": "markdown",
   "metadata": {},
   "source": [
    "### Accelerometer"
   ]
  },
  {
   "cell_type": "code",
   "execution_count": 7,
   "metadata": {},
   "outputs": [
    {
     "name": "stdout",
     "output_type": "stream",
     "text": [
      "1\n",
      "Fitting 1 folds for each of 9 candidates, totalling 9 fits\n",
      "[CV] batch_size=1, epochs=10, n_classes=18, num_units=15, optimizer=Adam, shape=15 \n",
      "[CV]  batch_size=1, epochs=10, n_classes=18, num_units=15, optimizer=Adam, shape=15, score=0.08974358974358974, total=  53.4s\n",
      "[CV] batch_size=1, epochs=100, n_classes=18, num_units=15, optimizer=Adam, shape=15 \n"
     ]
    },
    {
     "name": "stderr",
     "output_type": "stream",
     "text": [
      "[Parallel(n_jobs=1)]: Done   1 out of   1 | elapsed:   54.2s remaining:    0.0s\n"
     ]
    },
    {
     "name": "stdout",
     "output_type": "stream",
     "text": [
      "[CV]  batch_size=1, epochs=100, n_classes=18, num_units=15, optimizer=Adam, shape=15, score=0.21794871794871795, total= 8.5min\n",
      "[CV] batch_size=1, epochs=300, n_classes=18, num_units=15, optimizer=Adam, shape=15 \n"
     ]
    },
    {
     "name": "stderr",
     "output_type": "stream",
     "text": [
      "[Parallel(n_jobs=1)]: Done   2 out of   2 | elapsed:  9.4min remaining:    0.0s\n"
     ]
    },
    {
     "name": "stdout",
     "output_type": "stream",
     "text": [
      "[CV]  batch_size=1, epochs=300, n_classes=18, num_units=15, optimizer=Adam, shape=15, score=0.23717948717948717, total=37.3min\n",
      "[CV] batch_size=10, epochs=10, n_classes=18, num_units=15, optimizer=Adam, shape=15 \n",
      "[CV]  batch_size=10, epochs=10, n_classes=18, num_units=15, optimizer=Adam, shape=15, score=0.0641025641025641, total=   9.0s\n",
      "[CV] batch_size=10, epochs=100, n_classes=18, num_units=15, optimizer=Adam, shape=15 \n",
      "[CV]  batch_size=10, epochs=100, n_classes=18, num_units=15, optimizer=Adam, shape=15, score=0.1346153846153846, total=  51.9s\n",
      "[CV] batch_size=10, epochs=300, n_classes=18, num_units=15, optimizer=Adam, shape=15 \n",
      "[CV]  batch_size=10, epochs=300, n_classes=18, num_units=15, optimizer=Adam, shape=15, score=0.21794871794871795, total= 2.5min\n",
      "[CV] batch_size=100, epochs=10, n_classes=18, num_units=15, optimizer=Adam, shape=15 \n",
      "[CV]  batch_size=100, epochs=10, n_classes=18, num_units=15, optimizer=Adam, shape=15, score=0.03205128205128205, total=   3.5s\n",
      "[CV] batch_size=100, epochs=100, n_classes=18, num_units=15, optimizer=Adam, shape=15 \n",
      "[CV]  batch_size=100, epochs=100, n_classes=18, num_units=15, optimizer=Adam, shape=15, score=0.07051282051282051, total=   9.0s\n",
      "[CV] batch_size=100, epochs=300, n_classes=18, num_units=15, optimizer=Adam, shape=15 \n",
      "[CV]  batch_size=100, epochs=300, n_classes=18, num_units=15, optimizer=Adam, shape=15, score=0.11538461538461539, total=  20.4s\n"
     ]
    },
    {
     "name": "stderr",
     "output_type": "stream",
     "text": [
      "[Parallel(n_jobs=1)]: Done   9 out of   9 | elapsed: 50.8min finished\n"
     ]
    },
    {
     "name": "stdout",
     "output_type": "stream",
     "text": [
      "2\n",
      "Fitting 1 folds for each of 9 candidates, totalling 9 fits\n",
      "[CV] batch_size=1, epochs=10, n_classes=18, num_units=30, optimizer=Adam, shape=30 \n",
      "[CV]  batch_size=1, epochs=10, n_classes=18, num_units=30, optimizer=Adam, shape=30, score=0.14743589743589744, total=  54.9s\n",
      "[CV] batch_size=1, epochs=100, n_classes=18, num_units=30, optimizer=Adam, shape=30 \n"
     ]
    },
    {
     "name": "stderr",
     "output_type": "stream",
     "text": [
      "[Parallel(n_jobs=1)]: Done   1 out of   1 | elapsed:   55.7s remaining:    0.0s\n"
     ]
    },
    {
     "name": "stdout",
     "output_type": "stream",
     "text": [
      "[CV]  batch_size=1, epochs=100, n_classes=18, num_units=30, optimizer=Adam, shape=30, score=0.27564102564102566, total= 8.4min\n",
      "[CV] batch_size=1, epochs=300, n_classes=18, num_units=30, optimizer=Adam, shape=30 \n"
     ]
    },
    {
     "name": "stderr",
     "output_type": "stream",
     "text": [
      "[Parallel(n_jobs=1)]: Done   2 out of   2 | elapsed:  9.4min remaining:    0.0s\n"
     ]
    },
    {
     "name": "stdout",
     "output_type": "stream",
     "text": [
      "[CV]  batch_size=1, epochs=300, n_classes=18, num_units=30, optimizer=Adam, shape=30, score=0.38461538461538464, total=25.1min\n",
      "[CV] batch_size=10, epochs=10, n_classes=18, num_units=30, optimizer=Adam, shape=30 \n",
      "[CV]  batch_size=10, epochs=10, n_classes=18, num_units=30, optimizer=Adam, shape=30, score=0.08974358974358974, total=   8.1s\n",
      "[CV] batch_size=10, epochs=100, n_classes=18, num_units=30, optimizer=Adam, shape=30 \n",
      "[CV]  batch_size=10, epochs=100, n_classes=18, num_units=30, optimizer=Adam, shape=30, score=0.22435897435897437, total=  53.3s\n",
      "[CV] batch_size=10, epochs=300, n_classes=18, num_units=30, optimizer=Adam, shape=30 \n",
      "[CV]  batch_size=10, epochs=300, n_classes=18, num_units=30, optimizer=Adam, shape=30, score=0.3076923076923077, total= 2.7min\n",
      "[CV] batch_size=100, epochs=10, n_classes=18, num_units=30, optimizer=Adam, shape=30 \n",
      "[CV]  batch_size=100, epochs=10, n_classes=18, num_units=30, optimizer=Adam, shape=30, score=0.0641025641025641, total=   3.5s\n",
      "[CV] batch_size=100, epochs=100, n_classes=18, num_units=30, optimizer=Adam, shape=30 \n",
      "[CV]  batch_size=100, epochs=100, n_classes=18, num_units=30, optimizer=Adam, shape=30, score=0.1282051282051282, total=   9.6s\n",
      "[CV] batch_size=100, epochs=300, n_classes=18, num_units=30, optimizer=Adam, shape=30 \n",
      "[CV]  batch_size=100, epochs=300, n_classes=18, num_units=30, optimizer=Adam, shape=30, score=0.1987179487179487, total=  25.3s\n"
     ]
    },
    {
     "name": "stderr",
     "output_type": "stream",
     "text": [
      "[Parallel(n_jobs=1)]: Done   9 out of   9 | elapsed: 38.9min finished\n"
     ]
    },
    {
     "name": "stdout",
     "output_type": "stream",
     "text": [
      "3\n",
      "Fitting 1 folds for each of 9 candidates, totalling 9 fits\n",
      "[CV] batch_size=1, epochs=10, n_classes=18, num_units=45, optimizer=Adam, shape=45 \n",
      "[CV]  batch_size=1, epochs=10, n_classes=18, num_units=45, optimizer=Adam, shape=45, score=0.24358974358974358, total=  52.1s\n",
      "[CV] batch_size=1, epochs=100, n_classes=18, num_units=45, optimizer=Adam, shape=45 \n"
     ]
    },
    {
     "name": "stderr",
     "output_type": "stream",
     "text": [
      "[Parallel(n_jobs=1)]: Done   1 out of   1 | elapsed:   52.9s remaining:    0.0s\n"
     ]
    },
    {
     "name": "stdout",
     "output_type": "stream",
     "text": [
      "[CV]  batch_size=1, epochs=100, n_classes=18, num_units=45, optimizer=Adam, shape=45, score=0.4166666666666667, total= 8.1min\n",
      "[CV] batch_size=1, epochs=300, n_classes=18, num_units=45, optimizer=Adam, shape=45 \n"
     ]
    },
    {
     "name": "stderr",
     "output_type": "stream",
     "text": [
      "[Parallel(n_jobs=1)]: Done   2 out of   2 | elapsed:  9.0min remaining:    0.0s\n"
     ]
    },
    {
     "name": "stdout",
     "output_type": "stream",
     "text": [
      "[CV]  batch_size=1, epochs=300, n_classes=18, num_units=45, optimizer=Adam, shape=45, score=0.4807692307692308, total=24.7min\n",
      "[CV] batch_size=10, epochs=10, n_classes=18, num_units=45, optimizer=Adam, shape=45 \n",
      "[CV]  batch_size=10, epochs=10, n_classes=18, num_units=45, optimizer=Adam, shape=45, score=0.14743589743589744, total=   7.3s\n",
      "[CV] batch_size=10, epochs=100, n_classes=18, num_units=45, optimizer=Adam, shape=45 \n",
      "[CV]  batch_size=10, epochs=100, n_classes=18, num_units=45, optimizer=Adam, shape=45, score=0.36538461538461536, total=  51.0s\n",
      "[CV] batch_size=10, epochs=300, n_classes=18, num_units=45, optimizer=Adam, shape=45 \n",
      "[CV]  batch_size=10, epochs=300, n_classes=18, num_units=45, optimizer=Adam, shape=45, score=0.41025641025641024, total= 2.5min\n",
      "[CV] batch_size=100, epochs=10, n_classes=18, num_units=45, optimizer=Adam, shape=45 \n",
      "[CV]  batch_size=100, epochs=10, n_classes=18, num_units=45, optimizer=Adam, shape=45, score=0.0641025641025641, total=   3.2s\n",
      "[CV] batch_size=100, epochs=100, n_classes=18, num_units=45, optimizer=Adam, shape=45 \n",
      "[CV]  batch_size=100, epochs=100, n_classes=18, num_units=45, optimizer=Adam, shape=45, score=0.26282051282051283, total=   9.3s\n",
      "[CV] batch_size=100, epochs=300, n_classes=18, num_units=45, optimizer=Adam, shape=45 \n",
      "[CV]  batch_size=100, epochs=300, n_classes=18, num_units=45, optimizer=Adam, shape=45, score=0.358974358974359, total=  21.2s\n"
     ]
    },
    {
     "name": "stderr",
     "output_type": "stream",
     "text": [
      "[Parallel(n_jobs=1)]: Done   9 out of   9 | elapsed: 37.8min finished\n"
     ]
    },
    {
     "name": "stdout",
     "output_type": "stream",
     "text": [
      "4\n",
      "Fitting 1 folds for each of 9 candidates, totalling 9 fits\n",
      "[CV] batch_size=1, epochs=10, n_classes=18, num_units=60, optimizer=Adam, shape=60 \n",
      "[CV]  batch_size=1, epochs=10, n_classes=18, num_units=60, optimizer=Adam, shape=60, score=0.27564102564102566, total=  49.7s\n",
      "[CV] batch_size=1, epochs=100, n_classes=18, num_units=60, optimizer=Adam, shape=60 \n"
     ]
    },
    {
     "name": "stderr",
     "output_type": "stream",
     "text": [
      "[Parallel(n_jobs=1)]: Done   1 out of   1 | elapsed:   50.5s remaining:    0.0s\n"
     ]
    },
    {
     "name": "stdout",
     "output_type": "stream",
     "text": [
      "[CV]  batch_size=1, epochs=100, n_classes=18, num_units=60, optimizer=Adam, shape=60, score=0.44871794871794873, total= 8.5min\n",
      "[CV] batch_size=1, epochs=300, n_classes=18, num_units=60, optimizer=Adam, shape=60 \n"
     ]
    },
    {
     "name": "stderr",
     "output_type": "stream",
     "text": [
      "[Parallel(n_jobs=1)]: Done   2 out of   2 | elapsed:  9.4min remaining:    0.0s\n"
     ]
    },
    {
     "name": "stdout",
     "output_type": "stream",
     "text": [
      "[CV]  batch_size=1, epochs=300, n_classes=18, num_units=60, optimizer=Adam, shape=60, score=0.5576923076923077, total=24.6min\n",
      "[CV] batch_size=10, epochs=10, n_classes=18, num_units=60, optimizer=Adam, shape=60 \n",
      "[CV]  batch_size=10, epochs=10, n_classes=18, num_units=60, optimizer=Adam, shape=60, score=0.14102564102564102, total=   8.1s\n",
      "[CV] batch_size=10, epochs=100, n_classes=18, num_units=60, optimizer=Adam, shape=60 \n",
      "[CV]  batch_size=10, epochs=100, n_classes=18, num_units=60, optimizer=Adam, shape=60, score=0.3717948717948718, total=  55.5s\n",
      "[CV] batch_size=10, epochs=300, n_classes=18, num_units=60, optimizer=Adam, shape=60 \n",
      "[CV]  batch_size=10, epochs=300, n_classes=18, num_units=60, optimizer=Adam, shape=60, score=0.5128205128205128, total= 2.6min\n",
      "[CV] batch_size=100, epochs=10, n_classes=18, num_units=60, optimizer=Adam, shape=60 \n",
      "[CV]  batch_size=100, epochs=10, n_classes=18, num_units=60, optimizer=Adam, shape=60, score=0.05128205128205128, total=   4.3s\n",
      "[CV] batch_size=100, epochs=100, n_classes=18, num_units=60, optimizer=Adam, shape=60 \n",
      "[CV]  batch_size=100, epochs=100, n_classes=18, num_units=60, optimizer=Adam, shape=60, score=0.30128205128205127, total=   9.6s\n",
      "[CV] batch_size=100, epochs=300, n_classes=18, num_units=60, optimizer=Adam, shape=60 \n",
      "[CV]  batch_size=100, epochs=300, n_classes=18, num_units=60, optimizer=Adam, shape=60, score=0.3717948717948718, total=  21.6s\n"
     ]
    },
    {
     "name": "stderr",
     "output_type": "stream",
     "text": [
      "[Parallel(n_jobs=1)]: Done   9 out of   9 | elapsed: 38.3min finished\n"
     ]
    },
    {
     "name": "stdout",
     "output_type": "stream",
     "text": [
      "5\n",
      "Fitting 1 folds for each of 9 candidates, totalling 9 fits\n",
      "[CV] batch_size=1, epochs=10, n_classes=18, num_units=75, optimizer=Adam, shape=75 \n",
      "[CV]  batch_size=1, epochs=10, n_classes=18, num_units=75, optimizer=Adam, shape=75, score=0.3782051282051282, total=  53.3s\n",
      "[CV] batch_size=1, epochs=100, n_classes=18, num_units=75, optimizer=Adam, shape=75 \n"
     ]
    },
    {
     "name": "stderr",
     "output_type": "stream",
     "text": [
      "[Parallel(n_jobs=1)]: Done   1 out of   1 | elapsed:   54.1s remaining:    0.0s\n"
     ]
    },
    {
     "name": "stdout",
     "output_type": "stream",
     "text": [
      "[CV]  batch_size=1, epochs=100, n_classes=18, num_units=75, optimizer=Adam, shape=75, score=0.4935897435897436, total= 8.4min\n",
      "[CV] batch_size=1, epochs=300, n_classes=18, num_units=75, optimizer=Adam, shape=75 \n"
     ]
    },
    {
     "name": "stderr",
     "output_type": "stream",
     "text": [
      "[Parallel(n_jobs=1)]: Done   2 out of   2 | elapsed:  9.4min remaining:    0.0s\n"
     ]
    },
    {
     "name": "stdout",
     "output_type": "stream",
     "text": [
      "[CV]  batch_size=1, epochs=300, n_classes=18, num_units=75, optimizer=Adam, shape=75, score=0.5961538461538461, total=24.3min\n",
      "[CV] batch_size=10, epochs=10, n_classes=18, num_units=75, optimizer=Adam, shape=75 \n",
      "[CV]  batch_size=10, epochs=10, n_classes=18, num_units=75, optimizer=Adam, shape=75, score=0.20512820512820512, total=   7.5s\n",
      "[CV] batch_size=10, epochs=100, n_classes=18, num_units=75, optimizer=Adam, shape=75 \n",
      "[CV]  batch_size=10, epochs=100, n_classes=18, num_units=75, optimizer=Adam, shape=75, score=0.46794871794871795, total=  49.9s\n",
      "[CV] batch_size=10, epochs=300, n_classes=18, num_units=75, optimizer=Adam, shape=75 \n",
      "[CV]  batch_size=10, epochs=300, n_classes=18, num_units=75, optimizer=Adam, shape=75, score=0.5384615384615384, total= 2.4min\n",
      "[CV] batch_size=100, epochs=10, n_classes=18, num_units=75, optimizer=Adam, shape=75 \n",
      "[CV]  batch_size=100, epochs=10, n_classes=18, num_units=75, optimizer=Adam, shape=75, score=0.0641025641025641, total=   3.0s\n",
      "[CV] batch_size=100, epochs=100, n_classes=18, num_units=75, optimizer=Adam, shape=75 \n",
      "[CV]  batch_size=100, epochs=100, n_classes=18, num_units=75, optimizer=Adam, shape=75, score=0.3525641025641026, total=   8.2s\n",
      "[CV] batch_size=100, epochs=300, n_classes=18, num_units=75, optimizer=Adam, shape=75 \n",
      "[CV]  batch_size=100, epochs=300, n_classes=18, num_units=75, optimizer=Adam, shape=75, score=0.4423076923076923, total=  21.4s\n"
     ]
    },
    {
     "name": "stderr",
     "output_type": "stream",
     "text": [
      "[Parallel(n_jobs=1)]: Done   9 out of   9 | elapsed: 37.7min finished\n"
     ]
    },
    {
     "name": "stdout",
     "output_type": "stream",
     "text": [
      "6\n",
      "Fitting 1 folds for each of 9 candidates, totalling 9 fits\n",
      "[CV] batch_size=1, epochs=10, n_classes=18, num_units=90, optimizer=Adam, shape=90 \n",
      "[CV]  batch_size=1, epochs=10, n_classes=18, num_units=90, optimizer=Adam, shape=90, score=0.34615384615384615, total=  51.4s\n",
      "[CV] batch_size=1, epochs=100, n_classes=18, num_units=90, optimizer=Adam, shape=90 \n"
     ]
    },
    {
     "name": "stderr",
     "output_type": "stream",
     "text": [
      "[Parallel(n_jobs=1)]: Done   1 out of   1 | elapsed:   52.2s remaining:    0.0s\n"
     ]
    },
    {
     "name": "stdout",
     "output_type": "stream",
     "text": [
      "[CV]  batch_size=1, epochs=100, n_classes=18, num_units=90, optimizer=Adam, shape=90, score=0.5256410256410257, total= 9.2min\n",
      "[CV] batch_size=1, epochs=300, n_classes=18, num_units=90, optimizer=Adam, shape=90 \n"
     ]
    },
    {
     "name": "stderr",
     "output_type": "stream",
     "text": [
      "[Parallel(n_jobs=1)]: Done   2 out of   2 | elapsed: 10.0min remaining:    0.0s\n"
     ]
    },
    {
     "name": "stdout",
     "output_type": "stream",
     "text": [
      "[CV]  batch_size=1, epochs=300, n_classes=18, num_units=90, optimizer=Adam, shape=90, score=0.532051282051282, total=25.5min\n",
      "[CV] batch_size=10, epochs=10, n_classes=18, num_units=90, optimizer=Adam, shape=90 \n",
      "[CV]  batch_size=10, epochs=10, n_classes=18, num_units=90, optimizer=Adam, shape=90, score=0.24358974358974358, total=   8.4s\n",
      "[CV] batch_size=10, epochs=100, n_classes=18, num_units=90, optimizer=Adam, shape=90 \n",
      "[CV]  batch_size=10, epochs=100, n_classes=18, num_units=90, optimizer=Adam, shape=90, score=0.48717948717948717, total=  59.8s\n",
      "[CV] batch_size=10, epochs=300, n_classes=18, num_units=90, optimizer=Adam, shape=90 \n",
      "[CV]  batch_size=10, epochs=300, n_classes=18, num_units=90, optimizer=Adam, shape=90, score=0.46153846153846156, total= 2.9min\n",
      "[CV] batch_size=100, epochs=10, n_classes=18, num_units=90, optimizer=Adam, shape=90 \n",
      "[CV]  batch_size=100, epochs=10, n_classes=18, num_units=90, optimizer=Adam, shape=90, score=0.11538461538461539, total=   3.1s\n",
      "[CV] batch_size=100, epochs=100, n_classes=18, num_units=90, optimizer=Adam, shape=90 \n",
      "[CV]  batch_size=100, epochs=100, n_classes=18, num_units=90, optimizer=Adam, shape=90, score=0.34615384615384615, total=   8.9s\n",
      "[CV] batch_size=100, epochs=300, n_classes=18, num_units=90, optimizer=Adam, shape=90 \n",
      "[CV]  batch_size=100, epochs=300, n_classes=18, num_units=90, optimizer=Adam, shape=90, score=0.4551282051282051, total=  22.8s\n"
     ]
    },
    {
     "name": "stderr",
     "output_type": "stream",
     "text": [
      "[Parallel(n_jobs=1)]: Done   9 out of   9 | elapsed: 40.2min finished\n"
     ]
    },
    {
     "name": "stdout",
     "output_type": "stream",
     "text": [
      "7\n",
      "Fitting 1 folds for each of 9 candidates, totalling 9 fits\n",
      "[CV] batch_size=1, epochs=10, n_classes=18, num_units=105, optimizer=Adam, shape=105 \n",
      "[CV]  batch_size=1, epochs=10, n_classes=18, num_units=105, optimizer=Adam, shape=105, score=0.32051282051282054, total=  54.0s\n",
      "[CV] batch_size=1, epochs=100, n_classes=18, num_units=105, optimizer=Adam, shape=105 \n"
     ]
    },
    {
     "name": "stderr",
     "output_type": "stream",
     "text": [
      "[Parallel(n_jobs=1)]: Done   1 out of   1 | elapsed:   54.7s remaining:    0.0s\n"
     ]
    },
    {
     "name": "stdout",
     "output_type": "stream",
     "text": [
      "[CV]  batch_size=1, epochs=100, n_classes=18, num_units=105, optimizer=Adam, shape=105, score=0.47435897435897434, total= 8.5min\n",
      "[CV] batch_size=1, epochs=300, n_classes=18, num_units=105, optimizer=Adam, shape=105 \n"
     ]
    },
    {
     "name": "stderr",
     "output_type": "stream",
     "text": [
      "[Parallel(n_jobs=1)]: Done   2 out of   2 | elapsed:  9.5min remaining:    0.0s\n"
     ]
    },
    {
     "name": "stdout",
     "output_type": "stream",
     "text": [
      "[CV]  batch_size=1, epochs=300, n_classes=18, num_units=105, optimizer=Adam, shape=105, score=0.5, total=27.9min\n",
      "[CV] batch_size=10, epochs=10, n_classes=18, num_units=105, optimizer=Adam, shape=105 \n",
      "[CV]  batch_size=10, epochs=10, n_classes=18, num_units=105, optimizer=Adam, shape=105, score=0.2692307692307692, total=   8.0s\n",
      "[CV] batch_size=10, epochs=100, n_classes=18, num_units=105, optimizer=Adam, shape=105 \n",
      "[CV]  batch_size=10, epochs=100, n_classes=18, num_units=105, optimizer=Adam, shape=105, score=0.44871794871794873, total= 1.1min\n",
      "[CV] batch_size=10, epochs=300, n_classes=18, num_units=105, optimizer=Adam, shape=105 \n",
      "[CV]  batch_size=10, epochs=300, n_classes=18, num_units=105, optimizer=Adam, shape=105, score=0.5064102564102564, total= 2.9min\n",
      "[CV] batch_size=100, epochs=10, n_classes=18, num_units=105, optimizer=Adam, shape=105 \n",
      "[CV]  batch_size=100, epochs=10, n_classes=18, num_units=105, optimizer=Adam, shape=105, score=0.12179487179487179, total=   2.9s\n",
      "[CV] batch_size=100, epochs=100, n_classes=18, num_units=105, optimizer=Adam, shape=105 \n",
      "[CV]  batch_size=100, epochs=100, n_classes=18, num_units=105, optimizer=Adam, shape=105, score=0.3717948717948718, total=   9.4s\n",
      "[CV] batch_size=100, epochs=300, n_classes=18, num_units=105, optimizer=Adam, shape=105 \n",
      "[CV]  batch_size=100, epochs=300, n_classes=18, num_units=105, optimizer=Adam, shape=105, score=0.44871794871794873, total=  22.0s\n"
     ]
    },
    {
     "name": "stderr",
     "output_type": "stream",
     "text": [
      "[Parallel(n_jobs=1)]: Done   9 out of   9 | elapsed: 42.1min finished\n"
     ]
    },
    {
     "name": "stdout",
     "output_type": "stream",
     "text": [
      "8\n",
      "Fitting 1 folds for each of 9 candidates, totalling 9 fits\n",
      "[CV] batch_size=1, epochs=10, n_classes=18, num_units=120, optimizer=Adam, shape=120 \n",
      "[CV]  batch_size=1, epochs=10, n_classes=18, num_units=120, optimizer=Adam, shape=120, score=0.391025641025641, total=  56.9s\n",
      "[CV] batch_size=1, epochs=100, n_classes=18, num_units=120, optimizer=Adam, shape=120 \n"
     ]
    },
    {
     "name": "stderr",
     "output_type": "stream",
     "text": [
      "[Parallel(n_jobs=1)]: Done   1 out of   1 | elapsed:   57.7s remaining:    0.0s\n"
     ]
    },
    {
     "name": "stdout",
     "output_type": "stream",
     "text": [
      "[CV]  batch_size=1, epochs=100, n_classes=18, num_units=120, optimizer=Adam, shape=120, score=0.532051282051282, total= 8.9min\n",
      "[CV] batch_size=1, epochs=300, n_classes=18, num_units=120, optimizer=Adam, shape=120 \n"
     ]
    },
    {
     "name": "stderr",
     "output_type": "stream",
     "text": [
      "[Parallel(n_jobs=1)]: Done   2 out of   2 | elapsed:  9.8min remaining:    0.0s\n"
     ]
    },
    {
     "name": "stdout",
     "output_type": "stream",
     "text": [
      "[CV]  batch_size=1, epochs=300, n_classes=18, num_units=120, optimizer=Adam, shape=120, score=0.532051282051282, total=25.9min\n",
      "[CV] batch_size=10, epochs=10, n_classes=18, num_units=120, optimizer=Adam, shape=120 \n",
      "[CV]  batch_size=10, epochs=10, n_classes=18, num_units=120, optimizer=Adam, shape=120, score=0.2564102564102564, total=   9.3s\n",
      "[CV] batch_size=10, epochs=100, n_classes=18, num_units=120, optimizer=Adam, shape=120 \n",
      "[CV]  batch_size=10, epochs=100, n_classes=18, num_units=120, optimizer=Adam, shape=120, score=0.47435897435897434, total=  50.7s\n",
      "[CV] batch_size=10, epochs=300, n_classes=18, num_units=120, optimizer=Adam, shape=120 \n",
      "[CV]  batch_size=10, epochs=300, n_classes=18, num_units=120, optimizer=Adam, shape=120, score=0.5128205128205128, total= 2.7min\n",
      "[CV] batch_size=100, epochs=10, n_classes=18, num_units=120, optimizer=Adam, shape=120 \n",
      "[CV]  batch_size=100, epochs=10, n_classes=18, num_units=120, optimizer=Adam, shape=120, score=0.09615384615384616, total=   4.0s\n",
      "[CV] batch_size=100, epochs=100, n_classes=18, num_units=120, optimizer=Adam, shape=120 \n",
      "[CV]  batch_size=100, epochs=100, n_classes=18, num_units=120, optimizer=Adam, shape=120, score=0.3782051282051282, total=   8.4s\n",
      "[CV] batch_size=100, epochs=300, n_classes=18, num_units=120, optimizer=Adam, shape=120 \n",
      "[CV]  batch_size=100, epochs=300, n_classes=18, num_units=120, optimizer=Adam, shape=120, score=0.46794871794871795, total=  19.5s\n"
     ]
    },
    {
     "name": "stderr",
     "output_type": "stream",
     "text": [
      "[Parallel(n_jobs=1)]: Done   9 out of   9 | elapsed: 40.0min finished\n"
     ]
    },
    {
     "name": "stdout",
     "output_type": "stream",
     "text": [
      "9\n",
      "Fitting 1 folds for each of 9 candidates, totalling 9 fits\n",
      "[CV] batch_size=1, epochs=10, n_classes=18, num_units=135, optimizer=Adam, shape=135 \n",
      "[CV]  batch_size=1, epochs=10, n_classes=18, num_units=135, optimizer=Adam, shape=135, score=0.28846153846153844, total=  55.6s\n",
      "[CV] batch_size=1, epochs=100, n_classes=18, num_units=135, optimizer=Adam, shape=135 \n"
     ]
    },
    {
     "name": "stderr",
     "output_type": "stream",
     "text": [
      "[Parallel(n_jobs=1)]: Done   1 out of   1 | elapsed:   56.3s remaining:    0.0s\n"
     ]
    },
    {
     "name": "stdout",
     "output_type": "stream",
     "text": [
      "[CV]  batch_size=1, epochs=100, n_classes=18, num_units=135, optimizer=Adam, shape=135, score=0.47435897435897434, total= 9.5min\n",
      "[CV] batch_size=1, epochs=300, n_classes=18, num_units=135, optimizer=Adam, shape=135 \n"
     ]
    },
    {
     "name": "stderr",
     "output_type": "stream",
     "text": [
      "[Parallel(n_jobs=1)]: Done   2 out of   2 | elapsed: 10.5min remaining:    0.0s\n"
     ]
    },
    {
     "name": "stdout",
     "output_type": "stream",
     "text": [
      "[CV]  batch_size=1, epochs=300, n_classes=18, num_units=135, optimizer=Adam, shape=135, score=0.47435897435897434, total=27.1min\n",
      "[CV] batch_size=10, epochs=10, n_classes=18, num_units=135, optimizer=Adam, shape=135 \n",
      "[CV]  batch_size=10, epochs=10, n_classes=18, num_units=135, optimizer=Adam, shape=135, score=0.23717948717948717, total=  10.6s\n",
      "[CV] batch_size=10, epochs=100, n_classes=18, num_units=135, optimizer=Adam, shape=135 \n",
      "[CV]  batch_size=10, epochs=100, n_classes=18, num_units=135, optimizer=Adam, shape=135, score=0.4551282051282051, total=  57.2s\n",
      "[CV] batch_size=10, epochs=300, n_classes=18, num_units=135, optimizer=Adam, shape=135 \n",
      "[CV]  batch_size=10, epochs=300, n_classes=18, num_units=135, optimizer=Adam, shape=135, score=0.5, total= 3.2min\n",
      "[CV] batch_size=100, epochs=10, n_classes=18, num_units=135, optimizer=Adam, shape=135 \n",
      "[CV]  batch_size=100, epochs=10, n_classes=18, num_units=135, optimizer=Adam, shape=135, score=0.07051282051282051, total=   3.6s\n",
      "[CV] batch_size=100, epochs=100, n_classes=18, num_units=135, optimizer=Adam, shape=135 \n",
      "[CV]  batch_size=100, epochs=100, n_classes=18, num_units=135, optimizer=Adam, shape=135, score=0.3333333333333333, total=   9.6s\n",
      "[CV] batch_size=100, epochs=300, n_classes=18, num_units=135, optimizer=Adam, shape=135 \n",
      "[CV]  batch_size=100, epochs=300, n_classes=18, num_units=135, optimizer=Adam, shape=135, score=0.4230769230769231, total=  23.4s\n"
     ]
    },
    {
     "name": "stderr",
     "output_type": "stream",
     "text": [
      "[Parallel(n_jobs=1)]: Done   9 out of   9 | elapsed: 42.5min finished\n"
     ]
    },
    {
     "name": "stdout",
     "output_type": "stream",
     "text": [
      "10\n",
      "Fitting 1 folds for each of 9 candidates, totalling 9 fits\n",
      "[CV] batch_size=1, epochs=10, n_classes=18, num_units=150, optimizer=Adam, shape=150 \n",
      "[CV]  batch_size=1, epochs=10, n_classes=18, num_units=150, optimizer=Adam, shape=150, score=0.36538461538461536, total=  57.9s\n",
      "[CV] batch_size=1, epochs=100, n_classes=18, num_units=150, optimizer=Adam, shape=150 \n"
     ]
    },
    {
     "name": "stderr",
     "output_type": "stream",
     "text": [
      "[Parallel(n_jobs=1)]: Done   1 out of   1 | elapsed:   58.7s remaining:    0.0s\n"
     ]
    },
    {
     "name": "stdout",
     "output_type": "stream",
     "text": [
      "[CV]  batch_size=1, epochs=100, n_classes=18, num_units=150, optimizer=Adam, shape=150, score=0.44871794871794873, total= 7.6min\n",
      "[CV] batch_size=1, epochs=300, n_classes=18, num_units=150, optimizer=Adam, shape=150 \n"
     ]
    },
    {
     "name": "stderr",
     "output_type": "stream",
     "text": [
      "[Parallel(n_jobs=1)]: Done   2 out of   2 | elapsed:  8.6min remaining:    0.0s\n"
     ]
    },
    {
     "name": "stdout",
     "output_type": "stream",
     "text": [
      "[CV]  batch_size=1, epochs=300, n_classes=18, num_units=150, optimizer=Adam, shape=150, score=0.42948717948717946, total=24.6min\n",
      "[CV] batch_size=10, epochs=10, n_classes=18, num_units=150, optimizer=Adam, shape=150 \n",
      "[CV]  batch_size=10, epochs=10, n_classes=18, num_units=150, optimizer=Adam, shape=150, score=0.25, total=   9.2s\n",
      "[CV] batch_size=10, epochs=100, n_classes=18, num_units=150, optimizer=Adam, shape=150 \n",
      "[CV]  batch_size=10, epochs=100, n_classes=18, num_units=150, optimizer=Adam, shape=150, score=0.42948717948717946, total= 1.0min\n",
      "[CV] batch_size=10, epochs=300, n_classes=18, num_units=150, optimizer=Adam, shape=150 \n",
      "[CV]  batch_size=10, epochs=300, n_classes=18, num_units=150, optimizer=Adam, shape=150, score=0.44871794871794873, total= 2.6min\n",
      "[CV] batch_size=100, epochs=10, n_classes=18, num_units=150, optimizer=Adam, shape=150 \n",
      "[CV]  batch_size=100, epochs=10, n_classes=18, num_units=150, optimizer=Adam, shape=150, score=0.05128205128205128, total=   3.9s\n",
      "[CV] batch_size=100, epochs=100, n_classes=18, num_units=150, optimizer=Adam, shape=150 \n",
      "[CV]  batch_size=100, epochs=100, n_classes=18, num_units=150, optimizer=Adam, shape=150, score=0.34615384615384615, total=   9.1s\n",
      "[CV] batch_size=100, epochs=300, n_classes=18, num_units=150, optimizer=Adam, shape=150 \n",
      "[CV]  batch_size=100, epochs=300, n_classes=18, num_units=150, optimizer=Adam, shape=150, score=0.4551282051282051, total=  23.6s\n"
     ]
    },
    {
     "name": "stderr",
     "output_type": "stream",
     "text": [
      "[Parallel(n_jobs=1)]: Done   9 out of   9 | elapsed: 37.5min finished\n"
     ]
    },
    {
     "name": "stdout",
     "output_type": "stream",
     "text": [
      "11\n",
      "Fitting 1 folds for each of 9 candidates, totalling 9 fits\n",
      "[CV] batch_size=1, epochs=10, n_classes=18, num_units=165, optimizer=Adam, shape=165 \n",
      "[CV]  batch_size=1, epochs=10, n_classes=18, num_units=165, optimizer=Adam, shape=165, score=0.3076923076923077, total=  56.1s\n",
      "[CV] batch_size=1, epochs=100, n_classes=18, num_units=165, optimizer=Adam, shape=165 \n"
     ]
    },
    {
     "name": "stderr",
     "output_type": "stream",
     "text": [
      "[Parallel(n_jobs=1)]: Done   1 out of   1 | elapsed:   56.9s remaining:    0.0s\n"
     ]
    },
    {
     "name": "stdout",
     "output_type": "stream",
     "text": [
      "[CV]  batch_size=1, epochs=100, n_classes=18, num_units=165, optimizer=Adam, shape=165, score=0.4166666666666667, total= 7.9min\n",
      "[CV] batch_size=1, epochs=300, n_classes=18, num_units=165, optimizer=Adam, shape=165 \n"
     ]
    },
    {
     "name": "stderr",
     "output_type": "stream",
     "text": [
      "[Parallel(n_jobs=1)]: Done   2 out of   2 | elapsed:  8.9min remaining:    0.0s\n"
     ]
    },
    {
     "name": "stdout",
     "output_type": "stream",
     "text": [
      "[CV]  batch_size=1, epochs=300, n_classes=18, num_units=165, optimizer=Adam, shape=165, score=0.41025641025641024, total=22.5min\n",
      "[CV] batch_size=10, epochs=10, n_classes=18, num_units=165, optimizer=Adam, shape=165 \n",
      "[CV]  batch_size=10, epochs=10, n_classes=18, num_units=165, optimizer=Adam, shape=165, score=0.23717948717948717, total=   6.5s\n",
      "[CV] batch_size=10, epochs=100, n_classes=18, num_units=165, optimizer=Adam, shape=165 \n",
      "[CV]  batch_size=10, epochs=100, n_classes=18, num_units=165, optimizer=Adam, shape=165, score=0.3782051282051282, total=  55.4s\n",
      "[CV] batch_size=10, epochs=300, n_classes=18, num_units=165, optimizer=Adam, shape=165 \n",
      "[CV]  batch_size=10, epochs=300, n_classes=18, num_units=165, optimizer=Adam, shape=165, score=0.391025641025641, total= 2.7min\n",
      "[CV] batch_size=100, epochs=10, n_classes=18, num_units=165, optimizer=Adam, shape=165 \n",
      "[CV]  batch_size=100, epochs=10, n_classes=18, num_units=165, optimizer=Adam, shape=165, score=0.10256410256410256, total=   3.0s\n",
      "[CV] batch_size=100, epochs=100, n_classes=18, num_units=165, optimizer=Adam, shape=165 \n",
      "[CV]  batch_size=100, epochs=100, n_classes=18, num_units=165, optimizer=Adam, shape=165, score=0.33974358974358976, total=   9.1s\n",
      "[CV] batch_size=100, epochs=300, n_classes=18, num_units=165, optimizer=Adam, shape=165 \n",
      "[CV]  batch_size=100, epochs=300, n_classes=18, num_units=165, optimizer=Adam, shape=165, score=0.3782051282051282, total=  20.3s\n"
     ]
    },
    {
     "name": "stderr",
     "output_type": "stream",
     "text": [
      "[Parallel(n_jobs=1)]: Done   9 out of   9 | elapsed: 35.7min finished\n"
     ]
    },
    {
     "name": "stdout",
     "output_type": "stream",
     "text": [
      "12\n",
      "Fitting 1 folds for each of 9 candidates, totalling 9 fits\n",
      "[CV] batch_size=1, epochs=10, n_classes=18, num_units=180, optimizer=Adam, shape=180 \n",
      "[CV]  batch_size=1, epochs=10, n_classes=18, num_units=180, optimizer=Adam, shape=180, score=0.2903225806451613, total=  42.4s\n",
      "[CV] batch_size=1, epochs=100, n_classes=18, num_units=180, optimizer=Adam, shape=180 \n"
     ]
    },
    {
     "name": "stderr",
     "output_type": "stream",
     "text": [
      "[Parallel(n_jobs=1)]: Done   1 out of   1 | elapsed:   43.2s remaining:    0.0s\n"
     ]
    },
    {
     "name": "stdout",
     "output_type": "stream",
     "text": [
      "[CV]  batch_size=1, epochs=100, n_classes=18, num_units=180, optimizer=Adam, shape=180, score=0.38064516129032255, total= 6.8min\n",
      "[CV] batch_size=1, epochs=300, n_classes=18, num_units=180, optimizer=Adam, shape=180 \n"
     ]
    },
    {
     "name": "stderr",
     "output_type": "stream",
     "text": [
      "[Parallel(n_jobs=1)]: Done   2 out of   2 | elapsed:  7.5min remaining:    0.0s\n"
     ]
    },
    {
     "name": "stdout",
     "output_type": "stream",
     "text": [
      "[CV]  batch_size=1, epochs=300, n_classes=18, num_units=180, optimizer=Adam, shape=180, score=0.33548387096774196, total=21.7min\n",
      "[CV] batch_size=10, epochs=10, n_classes=18, num_units=180, optimizer=Adam, shape=180 \n",
      "[CV]  batch_size=10, epochs=10, n_classes=18, num_units=180, optimizer=Adam, shape=180, score=0.24516129032258063, total=   7.3s\n",
      "[CV] batch_size=10, epochs=100, n_classes=18, num_units=180, optimizer=Adam, shape=180 \n",
      "[CV]  batch_size=10, epochs=100, n_classes=18, num_units=180, optimizer=Adam, shape=180, score=0.3935483870967742, total=  53.0s\n",
      "[CV] batch_size=10, epochs=300, n_classes=18, num_units=180, optimizer=Adam, shape=180 \n",
      "[CV]  batch_size=10, epochs=300, n_classes=18, num_units=180, optimizer=Adam, shape=180, score=0.3548387096774194, total= 2.8min\n",
      "[CV] batch_size=100, epochs=10, n_classes=18, num_units=180, optimizer=Adam, shape=180 \n",
      "[CV]  batch_size=100, epochs=10, n_classes=18, num_units=180, optimizer=Adam, shape=180, score=0.1032258064516129, total=   2.9s\n",
      "[CV] batch_size=100, epochs=100, n_classes=18, num_units=180, optimizer=Adam, shape=180 \n",
      "[CV]  batch_size=100, epochs=100, n_classes=18, num_units=180, optimizer=Adam, shape=180, score=0.3096774193548387, total=   9.3s\n",
      "[CV] batch_size=100, epochs=300, n_classes=18, num_units=180, optimizer=Adam, shape=180 \n",
      "[CV]  batch_size=100, epochs=300, n_classes=18, num_units=180, optimizer=Adam, shape=180, score=0.3870967741935484, total=  24.4s\n"
     ]
    },
    {
     "name": "stderr",
     "output_type": "stream",
     "text": [
      "[Parallel(n_jobs=1)]: Done   9 out of   9 | elapsed: 33.7min finished\n"
     ]
    }
   ],
   "source": [
    "for nr in frame_numbers:\n",
    "    print(nr)\n",
    "    try:\n",
    "        acc_train_input, acc_train_label = prepare_data(train, nr, 'accelerometer', verbose=False)\n",
    "        acc_valid_input, acc_valid_label = prepare_data(valid, nr, 'accelerometer', verbose=False)\n",
    "\n",
    "        encoder = LabelEncoder()\n",
    "\n",
    "        X_train = acc_train_input.reshape(acc_train_input.shape[0], 1, acc_train_input.shape[1])\n",
    "        y_train = encoder.fit_transform(acc_train_label)\n",
    "        X_valid = acc_valid_input.reshape(acc_valid_input.shape[0], 1, acc_valid_input.shape[1])\n",
    "        y_valid = encoder.fit_transform(acc_valid_label)\n",
    "\n",
    "        parameters[0]['n_classes'] = [len(encoder.classes_)]\n",
    "        parameters[0]['shape'] = [X_train.shape[2]]\n",
    "        parameters[0]['num_units'] = [X_train.shape[2]]\n",
    "\n",
    "        #parameters[0]['batch_size'] = [1, 10, 100]\n",
    "        #parameters[0]['batch_size'].append(X_train.shape[2])\n",
    "\n",
    "        lstm_model = KerasClassifier(create_model, verbose=0)\n",
    "\n",
    "        lstm = GridSearchCV(lstm_model, parameters, scoring='accuracy', cv=cross_valid,\n",
    "                           verbose=verbose_level).fit(np.append(X_train, X_valid, axis=0),np.append(y_train, y_valid))\n",
    "\n",
    "        result = (lstm.best_score_, nr, lstm.best_params_)\n",
    "\n",
    "        if result[0] > paper_acc[0]:\n",
    "            paper_acc = result\n",
    "\n",
    "        K.clear_session()\n",
    "    \n",
    "    except ValueError as err:\n",
    "        pass"
   ]
  },
  {
   "cell_type": "code",
   "execution_count": 8,
   "metadata": {},
   "outputs": [
    {
     "name": "stdout",
     "output_type": "stream",
     "text": [
      "(0.59615384615384615, 5, {'batch_size': 1, 'epochs': 300, 'n_classes': 18, 'num_units': 75, 'optimizer': 'Adam', 'shape': 75})\n"
     ]
    }
   ],
   "source": [
    "print(paper_acc, end='\\n')"
   ]
  },
  {
   "cell_type": "markdown",
   "metadata": {},
   "source": [
    "### Gyroskop"
   ]
  },
  {
   "cell_type": "code",
   "execution_count": 8,
   "metadata": {},
   "outputs": [
    {
     "name": "stdout",
     "output_type": "stream",
     "text": [
      "1\n",
      "Fitting 1 folds for each of 9 candidates, totalling 9 fits\n",
      "[CV] batch_size=1, epochs=10, n_classes=18, num_units=15, optimizer=Adam, shape=15 \n",
      "[CV]  batch_size=1, epochs=10, n_classes=18, num_units=15, optimizer=Adam, shape=15, score=0.1282051282051282, total=  12.6s\n",
      "[CV] batch_size=1, epochs=100, n_classes=18, num_units=15, optimizer=Adam, shape=15 \n"
     ]
    },
    {
     "name": "stderr",
     "output_type": "stream",
     "text": [
      "[Parallel(n_jobs=1)]: Done   1 out of   1 | elapsed:   12.8s remaining:    0.0s\n"
     ]
    },
    {
     "name": "stdout",
     "output_type": "stream",
     "text": [
      "[CV]  batch_size=1, epochs=100, n_classes=18, num_units=15, optimizer=Adam, shape=15, score=0.11538461538461539, total= 1.8min\n",
      "[CV] batch_size=1, epochs=300, n_classes=18, num_units=15, optimizer=Adam, shape=15 \n"
     ]
    },
    {
     "name": "stderr",
     "output_type": "stream",
     "text": [
      "[Parallel(n_jobs=1)]: Done   2 out of   2 | elapsed:  2.0min remaining:    0.0s\n"
     ]
    },
    {
     "name": "stdout",
     "output_type": "stream",
     "text": [
      "[CV]  batch_size=1, epochs=300, n_classes=18, num_units=15, optimizer=Adam, shape=15, score=0.16025641025641027, total= 5.4min\n",
      "[CV] batch_size=10, epochs=10, n_classes=18, num_units=15, optimizer=Adam, shape=15 \n",
      "[CV]  batch_size=10, epochs=10, n_classes=18, num_units=15, optimizer=Adam, shape=15, score=0.14102564102564102, total=   3.7s\n",
      "[CV] batch_size=10, epochs=100, n_classes=18, num_units=15, optimizer=Adam, shape=15 \n",
      "[CV]  batch_size=10, epochs=100, n_classes=18, num_units=15, optimizer=Adam, shape=15, score=0.1346153846153846, total=  13.4s\n",
      "[CV] batch_size=10, epochs=300, n_classes=18, num_units=15, optimizer=Adam, shape=15 \n",
      "[CV]  batch_size=10, epochs=300, n_classes=18, num_units=15, optimizer=Adam, shape=15, score=0.17307692307692307, total=  35.8s\n",
      "[CV] batch_size=100, epochs=10, n_classes=18, num_units=15, optimizer=Adam, shape=15 \n",
      "[CV]  batch_size=100, epochs=10, n_classes=18, num_units=15, optimizer=Adam, shape=15, score=0.05128205128205128, total=   2.8s\n",
      "[CV] batch_size=100, epochs=100, n_classes=18, num_units=15, optimizer=Adam, shape=15 \n",
      "[CV]  batch_size=100, epochs=100, n_classes=18, num_units=15, optimizer=Adam, shape=15, score=0.10897435897435898, total=   4.1s\n",
      "[CV] batch_size=100, epochs=300, n_classes=18, num_units=15, optimizer=Adam, shape=15 \n",
      "[CV]  batch_size=100, epochs=300, n_classes=18, num_units=15, optimizer=Adam, shape=15, score=0.14743589743589744, total=   6.8s\n"
     ]
    },
    {
     "name": "stderr",
     "output_type": "stream",
     "text": [
      "[Parallel(n_jobs=1)]: Done   9 out of   9 | elapsed:  8.5min finished\n"
     ]
    },
    {
     "name": "stdout",
     "output_type": "stream",
     "text": [
      "2\n",
      "Fitting 1 folds for each of 9 candidates, totalling 9 fits\n",
      "[CV] batch_size=1, epochs=10, n_classes=18, num_units=30, optimizer=Adam, shape=30 \n",
      "[CV]  batch_size=1, epochs=10, n_classes=18, num_units=30, optimizer=Adam, shape=30, score=0.1346153846153846, total=  14.3s\n",
      "[CV] batch_size=1, epochs=100, n_classes=18, num_units=30, optimizer=Adam, shape=30 \n"
     ]
    },
    {
     "name": "stderr",
     "output_type": "stream",
     "text": [
      "[Parallel(n_jobs=1)]: Done   1 out of   1 | elapsed:   14.6s remaining:    0.0s\n"
     ]
    },
    {
     "name": "stdout",
     "output_type": "stream",
     "text": [
      "[CV]  batch_size=1, epochs=100, n_classes=18, num_units=30, optimizer=Adam, shape=30, score=0.30128205128205127, total= 1.8min\n",
      "[CV] batch_size=1, epochs=300, n_classes=18, num_units=30, optimizer=Adam, shape=30 \n"
     ]
    },
    {
     "name": "stderr",
     "output_type": "stream",
     "text": [
      "[Parallel(n_jobs=1)]: Done   2 out of   2 | elapsed:  2.1min remaining:    0.0s\n"
     ]
    },
    {
     "name": "stdout",
     "output_type": "stream",
     "text": [
      "[CV]  batch_size=1, epochs=300, n_classes=18, num_units=30, optimizer=Adam, shape=30, score=0.3525641025641026, total= 5.3min\n",
      "[CV] batch_size=10, epochs=10, n_classes=18, num_units=30, optimizer=Adam, shape=30 \n",
      "[CV]  batch_size=10, epochs=10, n_classes=18, num_units=30, optimizer=Adam, shape=30, score=0.17307692307692307, total=   4.2s\n",
      "[CV] batch_size=10, epochs=100, n_classes=18, num_units=30, optimizer=Adam, shape=30 \n",
      "[CV]  batch_size=10, epochs=100, n_classes=18, num_units=30, optimizer=Adam, shape=30, score=0.20512820512820512, total=  13.4s\n",
      "[CV] batch_size=10, epochs=300, n_classes=18, num_units=30, optimizer=Adam, shape=30 \n",
      "[CV]  batch_size=10, epochs=300, n_classes=18, num_units=30, optimizer=Adam, shape=30, score=0.3076923076923077, total=  35.4s\n",
      "[CV] batch_size=100, epochs=10, n_classes=18, num_units=30, optimizer=Adam, shape=30 \n",
      "[CV]  batch_size=100, epochs=10, n_classes=18, num_units=30, optimizer=Adam, shape=30, score=0.12179487179487179, total=   2.5s\n",
      "[CV] batch_size=100, epochs=100, n_classes=18, num_units=30, optimizer=Adam, shape=30 \n",
      "[CV]  batch_size=100, epochs=100, n_classes=18, num_units=30, optimizer=Adam, shape=30, score=0.14743589743589744, total=   4.8s\n",
      "[CV] batch_size=100, epochs=300, n_classes=18, num_units=30, optimizer=Adam, shape=30 \n",
      "[CV]  batch_size=100, epochs=300, n_classes=18, num_units=30, optimizer=Adam, shape=30, score=0.21153846153846154, total=   6.9s\n"
     ]
    },
    {
     "name": "stderr",
     "output_type": "stream",
     "text": [
      "[Parallel(n_jobs=1)]: Done   9 out of   9 | elapsed:  8.5min finished\n"
     ]
    },
    {
     "name": "stdout",
     "output_type": "stream",
     "text": [
      "3\n",
      "Fitting 1 folds for each of 9 candidates, totalling 9 fits\n",
      "[CV] batch_size=1, epochs=10, n_classes=18, num_units=45, optimizer=Adam, shape=45 \n",
      "[CV]  batch_size=1, epochs=10, n_classes=18, num_units=45, optimizer=Adam, shape=45, score=0.23717948717948717, total=  13.5s\n",
      "[CV] batch_size=1, epochs=100, n_classes=18, num_units=45, optimizer=Adam, shape=45 \n"
     ]
    },
    {
     "name": "stderr",
     "output_type": "stream",
     "text": [
      "[Parallel(n_jobs=1)]: Done   1 out of   1 | elapsed:   13.7s remaining:    0.0s\n"
     ]
    },
    {
     "name": "stdout",
     "output_type": "stream",
     "text": [
      "[CV]  batch_size=1, epochs=100, n_classes=18, num_units=45, optimizer=Adam, shape=45, score=0.30128205128205127, total= 1.9min\n",
      "[CV] batch_size=1, epochs=300, n_classes=18, num_units=45, optimizer=Adam, shape=45 \n"
     ]
    },
    {
     "name": "stderr",
     "output_type": "stream",
     "text": [
      "[Parallel(n_jobs=1)]: Done   2 out of   2 | elapsed:  2.1min remaining:    0.0s\n"
     ]
    },
    {
     "name": "stdout",
     "output_type": "stream",
     "text": [
      "[CV]  batch_size=1, epochs=300, n_classes=18, num_units=45, optimizer=Adam, shape=45, score=0.3974358974358974, total= 5.6min\n",
      "[CV] batch_size=10, epochs=10, n_classes=18, num_units=45, optimizer=Adam, shape=45 \n",
      "[CV]  batch_size=10, epochs=10, n_classes=18, num_units=45, optimizer=Adam, shape=45, score=0.21153846153846154, total=   3.3s\n",
      "[CV] batch_size=10, epochs=100, n_classes=18, num_units=45, optimizer=Adam, shape=45 \n",
      "[CV]  batch_size=10, epochs=100, n_classes=18, num_units=45, optimizer=Adam, shape=45, score=0.28205128205128205, total=  13.7s\n",
      "[CV] batch_size=10, epochs=300, n_classes=18, num_units=45, optimizer=Adam, shape=45 \n",
      "[CV]  batch_size=10, epochs=300, n_classes=18, num_units=45, optimizer=Adam, shape=45, score=0.3076923076923077, total=  37.5s\n",
      "[CV] batch_size=100, epochs=10, n_classes=18, num_units=45, optimizer=Adam, shape=45 \n",
      "[CV]  batch_size=100, epochs=10, n_classes=18, num_units=45, optimizer=Adam, shape=45, score=0.0641025641025641, total=   2.6s\n",
      "[CV] batch_size=100, epochs=100, n_classes=18, num_units=45, optimizer=Adam, shape=45 \n",
      "[CV]  batch_size=100, epochs=100, n_classes=18, num_units=45, optimizer=Adam, shape=45, score=0.20512820512820512, total=   4.2s\n",
      "[CV] batch_size=100, epochs=300, n_classes=18, num_units=45, optimizer=Adam, shape=45 \n",
      "[CV]  batch_size=100, epochs=300, n_classes=18, num_units=45, optimizer=Adam, shape=45, score=0.2948717948717949, total=   8.9s\n"
     ]
    },
    {
     "name": "stderr",
     "output_type": "stream",
     "text": [
      "[Parallel(n_jobs=1)]: Done   9 out of   9 | elapsed:  9.0min finished\n"
     ]
    },
    {
     "name": "stdout",
     "output_type": "stream",
     "text": [
      "4\n",
      "Fitting 1 folds for each of 9 candidates, totalling 9 fits\n",
      "[CV] batch_size=1, epochs=10, n_classes=18, num_units=60, optimizer=Adam, shape=60 \n",
      "[CV]  batch_size=1, epochs=10, n_classes=18, num_units=60, optimizer=Adam, shape=60, score=0.28846153846153844, total=  14.1s\n",
      "[CV] batch_size=1, epochs=100, n_classes=18, num_units=60, optimizer=Adam, shape=60 \n"
     ]
    },
    {
     "name": "stderr",
     "output_type": "stream",
     "text": [
      "[Parallel(n_jobs=1)]: Done   1 out of   1 | elapsed:   14.3s remaining:    0.0s\n"
     ]
    },
    {
     "name": "stdout",
     "output_type": "stream",
     "text": [
      "[CV]  batch_size=1, epochs=100, n_classes=18, num_units=60, optimizer=Adam, shape=60, score=0.3974358974358974, total= 2.0min\n",
      "[CV] batch_size=1, epochs=300, n_classes=18, num_units=60, optimizer=Adam, shape=60 \n"
     ]
    },
    {
     "name": "stderr",
     "output_type": "stream",
     "text": [
      "[Parallel(n_jobs=1)]: Done   2 out of   2 | elapsed:  2.3min remaining:    0.0s\n"
     ]
    },
    {
     "name": "stdout",
     "output_type": "stream",
     "text": [
      "[CV]  batch_size=1, epochs=300, n_classes=18, num_units=60, optimizer=Adam, shape=60, score=0.46794871794871795, total= 6.3min\n",
      "[CV] batch_size=10, epochs=10, n_classes=18, num_units=60, optimizer=Adam, shape=60 \n",
      "[CV]  batch_size=10, epochs=10, n_classes=18, num_units=60, optimizer=Adam, shape=60, score=0.19230769230769232, total=   3.5s\n",
      "[CV] batch_size=10, epochs=100, n_classes=18, num_units=60, optimizer=Adam, shape=60 \n",
      "[CV]  batch_size=10, epochs=100, n_classes=18, num_units=60, optimizer=Adam, shape=60, score=0.358974358974359, total=  16.4s\n",
      "[CV] batch_size=10, epochs=300, n_classes=18, num_units=60, optimizer=Adam, shape=60 \n",
      "[CV]  batch_size=10, epochs=300, n_classes=18, num_units=60, optimizer=Adam, shape=60, score=0.41025641025641024, total=  39.4s\n",
      "[CV] batch_size=100, epochs=10, n_classes=18, num_units=60, optimizer=Adam, shape=60 \n",
      "[CV]  batch_size=100, epochs=10, n_classes=18, num_units=60, optimizer=Adam, shape=60, score=0.10256410256410256, total=   2.5s\n",
      "[CV] batch_size=100, epochs=100, n_classes=18, num_units=60, optimizer=Adam, shape=60 \n",
      "[CV]  batch_size=100, epochs=100, n_classes=18, num_units=60, optimizer=Adam, shape=60, score=0.22435897435897437, total=   4.2s\n",
      "[CV] batch_size=100, epochs=300, n_classes=18, num_units=60, optimizer=Adam, shape=60 \n",
      "[CV]  batch_size=100, epochs=300, n_classes=18, num_units=60, optimizer=Adam, shape=60, score=0.36538461538461536, total=   8.2s\n"
     ]
    },
    {
     "name": "stderr",
     "output_type": "stream",
     "text": [
      "[Parallel(n_jobs=1)]: Done   9 out of   9 | elapsed:  9.8min finished\n"
     ]
    },
    {
     "name": "stdout",
     "output_type": "stream",
     "text": [
      "5\n",
      "Fitting 1 folds for each of 9 candidates, totalling 9 fits\n",
      "[CV] batch_size=1, epochs=10, n_classes=18, num_units=75, optimizer=Adam, shape=75 \n",
      "[CV]  batch_size=1, epochs=10, n_classes=18, num_units=75, optimizer=Adam, shape=75, score=0.2564102564102564, total=  17.8s\n",
      "[CV] batch_size=1, epochs=100, n_classes=18, num_units=75, optimizer=Adam, shape=75 \n"
     ]
    },
    {
     "name": "stderr",
     "output_type": "stream",
     "text": [
      "[Parallel(n_jobs=1)]: Done   1 out of   1 | elapsed:   18.1s remaining:    0.0s\n"
     ]
    },
    {
     "name": "stdout",
     "output_type": "stream",
     "text": [
      "[CV]  batch_size=1, epochs=100, n_classes=18, num_units=75, optimizer=Adam, shape=75, score=0.41025641025641024, total= 2.5min\n",
      "[CV] batch_size=1, epochs=300, n_classes=18, num_units=75, optimizer=Adam, shape=75 \n"
     ]
    },
    {
     "name": "stderr",
     "output_type": "stream",
     "text": [
      "[Parallel(n_jobs=1)]: Done   2 out of   2 | elapsed:  2.8min remaining:    0.0s\n"
     ]
    },
    {
     "name": "stdout",
     "output_type": "stream",
     "text": [
      "[CV]  batch_size=1, epochs=300, n_classes=18, num_units=75, optimizer=Adam, shape=75, score=0.4935897435897436, total= 7.3min\n",
      "[CV] batch_size=10, epochs=10, n_classes=18, num_units=75, optimizer=Adam, shape=75 \n",
      "[CV]  batch_size=10, epochs=10, n_classes=18, num_units=75, optimizer=Adam, shape=75, score=0.24358974358974358, total=   3.6s\n",
      "[CV] batch_size=10, epochs=100, n_classes=18, num_units=75, optimizer=Adam, shape=75 \n",
      "[CV]  batch_size=10, epochs=100, n_classes=18, num_units=75, optimizer=Adam, shape=75, score=0.38461538461538464, total=  17.2s\n",
      "[CV] batch_size=10, epochs=300, n_classes=18, num_units=75, optimizer=Adam, shape=75 \n",
      "[CV]  batch_size=10, epochs=300, n_classes=18, num_units=75, optimizer=Adam, shape=75, score=0.4230769230769231, total=  48.5s\n",
      "[CV] batch_size=100, epochs=10, n_classes=18, num_units=75, optimizer=Adam, shape=75 \n",
      "[CV]  batch_size=100, epochs=10, n_classes=18, num_units=75, optimizer=Adam, shape=75, score=0.16025641025641027, total=   3.8s\n",
      "[CV] batch_size=100, epochs=100, n_classes=18, num_units=75, optimizer=Adam, shape=75 \n",
      "[CV]  batch_size=100, epochs=100, n_classes=18, num_units=75, optimizer=Adam, shape=75, score=0.28846153846153844, total=   4.7s\n",
      "[CV] batch_size=100, epochs=300, n_classes=18, num_units=75, optimizer=Adam, shape=75 \n",
      "[CV]  batch_size=100, epochs=300, n_classes=18, num_units=75, optimizer=Adam, shape=75, score=0.3782051282051282, total=   9.6s\n"
     ]
    },
    {
     "name": "stderr",
     "output_type": "stream",
     "text": [
      "[Parallel(n_jobs=1)]: Done   9 out of   9 | elapsed: 11.5min finished\n"
     ]
    },
    {
     "name": "stdout",
     "output_type": "stream",
     "text": [
      "6\n",
      "Fitting 1 folds for each of 9 candidates, totalling 9 fits\n",
      "[CV] batch_size=1, epochs=10, n_classes=18, num_units=90, optimizer=Adam, shape=90 \n",
      "[CV]  batch_size=1, epochs=10, n_classes=18, num_units=90, optimizer=Adam, shape=90, score=0.28205128205128205, total=  17.5s\n",
      "[CV] batch_size=1, epochs=100, n_classes=18, num_units=90, optimizer=Adam, shape=90 \n"
     ]
    },
    {
     "name": "stderr",
     "output_type": "stream",
     "text": [
      "[Parallel(n_jobs=1)]: Done   1 out of   1 | elapsed:   17.7s remaining:    0.0s\n"
     ]
    },
    {
     "name": "stdout",
     "output_type": "stream",
     "text": [
      "[CV]  batch_size=1, epochs=100, n_classes=18, num_units=90, optimizer=Adam, shape=90, score=0.46153846153846156, total= 2.9min\n",
      "[CV] batch_size=1, epochs=300, n_classes=18, num_units=90, optimizer=Adam, shape=90 \n"
     ]
    },
    {
     "name": "stderr",
     "output_type": "stream",
     "text": [
      "[Parallel(n_jobs=1)]: Done   2 out of   2 | elapsed:  3.2min remaining:    0.0s\n"
     ]
    },
    {
     "name": "stdout",
     "output_type": "stream",
     "text": [
      "[CV]  batch_size=1, epochs=300, n_classes=18, num_units=90, optimizer=Adam, shape=90, score=0.48717948717948717, total= 9.3min\n",
      "[CV] batch_size=10, epochs=10, n_classes=18, num_units=90, optimizer=Adam, shape=90 \n",
      "[CV]  batch_size=10, epochs=10, n_classes=18, num_units=90, optimizer=Adam, shape=90, score=0.3076923076923077, total=   7.5s\n",
      "[CV] batch_size=10, epochs=100, n_classes=18, num_units=90, optimizer=Adam, shape=90 \n",
      "[CV]  batch_size=10, epochs=100, n_classes=18, num_units=90, optimizer=Adam, shape=90, score=0.3717948717948718, total=  30.7s\n",
      "[CV] batch_size=10, epochs=300, n_classes=18, num_units=90, optimizer=Adam, shape=90 \n",
      "[CV]  batch_size=10, epochs=300, n_classes=18, num_units=90, optimizer=Adam, shape=90, score=0.4166666666666667, total= 1.1min\n",
      "[CV] batch_size=100, epochs=10, n_classes=18, num_units=90, optimizer=Adam, shape=90 \n",
      "[CV]  batch_size=100, epochs=10, n_classes=18, num_units=90, optimizer=Adam, shape=90, score=0.12179487179487179, total=   4.3s\n",
      "[CV] batch_size=100, epochs=100, n_classes=18, num_units=90, optimizer=Adam, shape=90 \n",
      "[CV]  batch_size=100, epochs=100, n_classes=18, num_units=90, optimizer=Adam, shape=90, score=0.27564102564102566, total=   7.5s\n",
      "[CV] batch_size=100, epochs=300, n_classes=18, num_units=90, optimizer=Adam, shape=90 \n",
      "[CV]  batch_size=100, epochs=300, n_classes=18, num_units=90, optimizer=Adam, shape=90, score=0.391025641025641, total=  16.9s\n"
     ]
    },
    {
     "name": "stderr",
     "output_type": "stream",
     "text": [
      "[Parallel(n_jobs=1)]: Done   9 out of   9 | elapsed: 14.8min finished\n"
     ]
    },
    {
     "name": "stdout",
     "output_type": "stream",
     "text": [
      "7\n",
      "Fitting 1 folds for each of 9 candidates, totalling 9 fits\n",
      "[CV] batch_size=1, epochs=10, n_classes=18, num_units=105, optimizer=Adam, shape=105 \n",
      "[CV]  batch_size=1, epochs=10, n_classes=18, num_units=105, optimizer=Adam, shape=105, score=0.3269230769230769, total=  19.6s\n",
      "[CV] batch_size=1, epochs=100, n_classes=18, num_units=105, optimizer=Adam, shape=105 \n"
     ]
    },
    {
     "name": "stderr",
     "output_type": "stream",
     "text": [
      "[Parallel(n_jobs=1)]: Done   1 out of   1 | elapsed:   19.9s remaining:    0.0s\n"
     ]
    },
    {
     "name": "stdout",
     "output_type": "stream",
     "text": [
      "[CV]  batch_size=1, epochs=100, n_classes=18, num_units=105, optimizer=Adam, shape=105, score=0.4358974358974359, total= 3.0min\n",
      "[CV] batch_size=1, epochs=300, n_classes=18, num_units=105, optimizer=Adam, shape=105 \n"
     ]
    },
    {
     "name": "stderr",
     "output_type": "stream",
     "text": [
      "[Parallel(n_jobs=1)]: Done   2 out of   2 | elapsed:  3.3min remaining:    0.0s\n"
     ]
    },
    {
     "name": "stdout",
     "output_type": "stream",
     "text": [
      "[CV]  batch_size=1, epochs=300, n_classes=18, num_units=105, optimizer=Adam, shape=105, score=0.47435897435897434, total= 8.8min\n",
      "[CV] batch_size=10, epochs=10, n_classes=18, num_units=105, optimizer=Adam, shape=105 \n",
      "[CV]  batch_size=10, epochs=10, n_classes=18, num_units=105, optimizer=Adam, shape=105, score=0.21794871794871795, total=   4.1s\n",
      "[CV] batch_size=10, epochs=100, n_classes=18, num_units=105, optimizer=Adam, shape=105 \n",
      "[CV]  batch_size=10, epochs=100, n_classes=18, num_units=105, optimizer=Adam, shape=105, score=0.40384615384615385, total=  23.5s\n",
      "[CV] batch_size=10, epochs=300, n_classes=18, num_units=105, optimizer=Adam, shape=105 \n",
      "[CV]  batch_size=10, epochs=300, n_classes=18, num_units=105, optimizer=Adam, shape=105, score=0.4423076923076923, total= 1.0min\n",
      "[CV] batch_size=100, epochs=10, n_classes=18, num_units=105, optimizer=Adam, shape=105 \n",
      "[CV]  batch_size=100, epochs=10, n_classes=18, num_units=105, optimizer=Adam, shape=105, score=0.11538461538461539, total=   2.6s\n",
      "[CV] batch_size=100, epochs=100, n_classes=18, num_units=105, optimizer=Adam, shape=105 \n",
      "[CV]  batch_size=100, epochs=100, n_classes=18, num_units=105, optimizer=Adam, shape=105, score=0.3141025641025641, total=   5.8s\n",
      "[CV] batch_size=100, epochs=300, n_classes=18, num_units=105, optimizer=Adam, shape=105 \n",
      "[CV]  batch_size=100, epochs=300, n_classes=18, num_units=105, optimizer=Adam, shape=105, score=0.38461538461538464, total=  12.7s\n"
     ]
    },
    {
     "name": "stderr",
     "output_type": "stream",
     "text": [
      "[Parallel(n_jobs=1)]: Done   9 out of   9 | elapsed: 14.0min finished\n"
     ]
    },
    {
     "name": "stdout",
     "output_type": "stream",
     "text": [
      "8\n",
      "Fitting 1 folds for each of 9 candidates, totalling 9 fits\n",
      "[CV] batch_size=1, epochs=10, n_classes=18, num_units=120, optimizer=Adam, shape=120 \n",
      "[CV]  batch_size=1, epochs=10, n_classes=18, num_units=120, optimizer=Adam, shape=120, score=0.3525641025641026, total=  22.5s\n",
      "[CV] batch_size=1, epochs=100, n_classes=18, num_units=120, optimizer=Adam, shape=120 \n"
     ]
    },
    {
     "name": "stderr",
     "output_type": "stream",
     "text": [
      "[Parallel(n_jobs=1)]: Done   1 out of   1 | elapsed:   22.8s remaining:    0.0s\n"
     ]
    },
    {
     "name": "stdout",
     "output_type": "stream",
     "text": [
      "[CV]  batch_size=1, epochs=100, n_classes=18, num_units=120, optimizer=Adam, shape=120, score=0.46794871794871795, total= 3.5min\n",
      "[CV] batch_size=1, epochs=300, n_classes=18, num_units=120, optimizer=Adam, shape=120 \n"
     ]
    },
    {
     "name": "stderr",
     "output_type": "stream",
     "text": [
      "[Parallel(n_jobs=1)]: Done   2 out of   2 | elapsed:  3.9min remaining:    0.0s\n"
     ]
    },
    {
     "name": "stdout",
     "output_type": "stream",
     "text": [
      "[CV]  batch_size=1, epochs=300, n_classes=18, num_units=120, optimizer=Adam, shape=120, score=0.46153846153846156, total=10.3min\n",
      "[CV] batch_size=10, epochs=10, n_classes=18, num_units=120, optimizer=Adam, shape=120 \n",
      "[CV]  batch_size=10, epochs=10, n_classes=18, num_units=120, optimizer=Adam, shape=120, score=0.26282051282051283, total=   4.3s\n",
      "[CV] batch_size=10, epochs=100, n_classes=18, num_units=120, optimizer=Adam, shape=120 \n",
      "[CV]  batch_size=10, epochs=100, n_classes=18, num_units=120, optimizer=Adam, shape=120, score=0.38461538461538464, total=  23.9s\n",
      "[CV] batch_size=10, epochs=300, n_classes=18, num_units=120, optimizer=Adam, shape=120 \n",
      "[CV]  batch_size=10, epochs=300, n_classes=18, num_units=120, optimizer=Adam, shape=120, score=0.46153846153846156, total= 1.2min\n",
      "[CV] batch_size=100, epochs=10, n_classes=18, num_units=120, optimizer=Adam, shape=120 \n",
      "[CV]  batch_size=100, epochs=10, n_classes=18, num_units=120, optimizer=Adam, shape=120, score=0.23717948717948717, total=   4.1s\n",
      "[CV] batch_size=100, epochs=100, n_classes=18, num_units=120, optimizer=Adam, shape=120 \n",
      "[CV]  batch_size=100, epochs=100, n_classes=18, num_units=120, optimizer=Adam, shape=120, score=0.34615384615384615, total=   6.6s\n",
      "[CV] batch_size=100, epochs=300, n_classes=18, num_units=120, optimizer=Adam, shape=120 \n",
      "[CV]  batch_size=100, epochs=300, n_classes=18, num_units=120, optimizer=Adam, shape=120, score=0.391025641025641, total=  14.5s\n"
     ]
    },
    {
     "name": "stderr",
     "output_type": "stream",
     "text": [
      "[Parallel(n_jobs=1)]: Done   9 out of   9 | elapsed: 16.3min finished\n"
     ]
    },
    {
     "name": "stdout",
     "output_type": "stream",
     "text": [
      "9\n",
      "Fitting 1 folds for each of 9 candidates, totalling 9 fits\n",
      "[CV] batch_size=1, epochs=10, n_classes=18, num_units=135, optimizer=Adam, shape=135 \n",
      "[CV]  batch_size=1, epochs=10, n_classes=18, num_units=135, optimizer=Adam, shape=135, score=0.36538461538461536, total=  24.8s\n",
      "[CV] batch_size=1, epochs=100, n_classes=18, num_units=135, optimizer=Adam, shape=135 \n"
     ]
    },
    {
     "name": "stderr",
     "output_type": "stream",
     "text": [
      "[Parallel(n_jobs=1)]: Done   1 out of   1 | elapsed:   25.2s remaining:    0.0s\n"
     ]
    },
    {
     "name": "stdout",
     "output_type": "stream",
     "text": [
      "[CV]  batch_size=1, epochs=100, n_classes=18, num_units=135, optimizer=Adam, shape=135, score=0.46153846153846156, total= 3.9min\n",
      "[CV] batch_size=1, epochs=300, n_classes=18, num_units=135, optimizer=Adam, shape=135 \n"
     ]
    },
    {
     "name": "stderr",
     "output_type": "stream",
     "text": [
      "[Parallel(n_jobs=1)]: Done   2 out of   2 | elapsed:  4.3min remaining:    0.0s\n"
     ]
    },
    {
     "name": "stdout",
     "output_type": "stream",
     "text": [
      "[CV]  batch_size=1, epochs=300, n_classes=18, num_units=135, optimizer=Adam, shape=135, score=0.5, total=12.4min\n",
      "[CV] batch_size=10, epochs=10, n_classes=18, num_units=135, optimizer=Adam, shape=135 \n",
      "[CV]  batch_size=10, epochs=10, n_classes=18, num_units=135, optimizer=Adam, shape=135, score=0.2948717948717949, total=   5.5s\n",
      "[CV] batch_size=10, epochs=100, n_classes=18, num_units=135, optimizer=Adam, shape=135 \n",
      "[CV]  batch_size=10, epochs=100, n_classes=18, num_units=135, optimizer=Adam, shape=135, score=0.4807692307692308, total=  27.2s\n",
      "[CV] batch_size=10, epochs=300, n_classes=18, num_units=135, optimizer=Adam, shape=135 \n",
      "[CV]  batch_size=10, epochs=300, n_classes=18, num_units=135, optimizer=Adam, shape=135, score=0.47435897435897434, total= 1.3min\n",
      "[CV] batch_size=100, epochs=10, n_classes=18, num_units=135, optimizer=Adam, shape=135 \n",
      "[CV]  batch_size=100, epochs=10, n_classes=18, num_units=135, optimizer=Adam, shape=135, score=0.16025641025641027, total=   2.8s\n",
      "[CV] batch_size=100, epochs=100, n_classes=18, num_units=135, optimizer=Adam, shape=135 \n",
      "[CV]  batch_size=100, epochs=100, n_classes=18, num_units=135, optimizer=Adam, shape=135, score=0.391025641025641, total=   6.6s\n",
      "[CV] batch_size=100, epochs=300, n_classes=18, num_units=135, optimizer=Adam, shape=135 \n",
      "[CV]  batch_size=100, epochs=300, n_classes=18, num_units=135, optimizer=Adam, shape=135, score=0.4358974358974359, total=  17.0s\n"
     ]
    },
    {
     "name": "stderr",
     "output_type": "stream",
     "text": [
      "[Parallel(n_jobs=1)]: Done   9 out of   9 | elapsed: 19.1min finished\n"
     ]
    },
    {
     "name": "stdout",
     "output_type": "stream",
     "text": [
      "10\n",
      "Fitting 1 folds for each of 9 candidates, totalling 9 fits\n",
      "[CV] batch_size=1, epochs=10, n_classes=18, num_units=150, optimizer=Adam, shape=150 \n",
      "[CV]  batch_size=1, epochs=10, n_classes=18, num_units=150, optimizer=Adam, shape=150, score=0.33974358974358976, total=  25.8s\n",
      "[CV] batch_size=1, epochs=100, n_classes=18, num_units=150, optimizer=Adam, shape=150 \n"
     ]
    },
    {
     "name": "stderr",
     "output_type": "stream",
     "text": [
      "[Parallel(n_jobs=1)]: Done   1 out of   1 | elapsed:   26.3s remaining:    0.0s\n"
     ]
    },
    {
     "name": "stdout",
     "output_type": "stream",
     "text": [
      "[CV]  batch_size=1, epochs=100, n_classes=18, num_units=150, optimizer=Adam, shape=150, score=0.4807692307692308, total= 4.2min\n",
      "[CV] batch_size=1, epochs=300, n_classes=18, num_units=150, optimizer=Adam, shape=150 \n"
     ]
    },
    {
     "name": "stderr",
     "output_type": "stream",
     "text": [
      "[Parallel(n_jobs=1)]: Done   2 out of   2 | elapsed:  4.7min remaining:    0.0s\n"
     ]
    },
    {
     "name": "stdout",
     "output_type": "stream",
     "text": [
      "[CV]  batch_size=1, epochs=300, n_classes=18, num_units=150, optimizer=Adam, shape=150, score=0.5256410256410257, total=12.7min\n",
      "[CV] batch_size=10, epochs=10, n_classes=18, num_units=150, optimizer=Adam, shape=150 \n",
      "[CV]  batch_size=10, epochs=10, n_classes=18, num_units=150, optimizer=Adam, shape=150, score=0.33974358974358976, total=   5.3s\n",
      "[CV] batch_size=10, epochs=100, n_classes=18, num_units=150, optimizer=Adam, shape=150 \n",
      "[CV]  batch_size=10, epochs=100, n_classes=18, num_units=150, optimizer=Adam, shape=150, score=0.41025641025641024, total=  30.1s\n",
      "[CV] batch_size=10, epochs=300, n_classes=18, num_units=150, optimizer=Adam, shape=150 \n",
      "[CV]  batch_size=10, epochs=300, n_classes=18, num_units=150, optimizer=Adam, shape=150, score=0.4423076923076923, total= 1.5min\n",
      "[CV] batch_size=100, epochs=10, n_classes=18, num_units=150, optimizer=Adam, shape=150 \n",
      "[CV]  batch_size=100, epochs=10, n_classes=18, num_units=150, optimizer=Adam, shape=150, score=0.17307692307692307, total=   2.9s\n",
      "[CV] batch_size=100, epochs=100, n_classes=18, num_units=150, optimizer=Adam, shape=150 \n",
      "[CV]  batch_size=100, epochs=100, n_classes=18, num_units=150, optimizer=Adam, shape=150, score=0.358974358974359, total=   7.1s\n",
      "[CV] batch_size=100, epochs=300, n_classes=18, num_units=150, optimizer=Adam, shape=150 \n",
      "[CV]  batch_size=100, epochs=300, n_classes=18, num_units=150, optimizer=Adam, shape=150, score=0.4423076923076923, total=  18.0s\n"
     ]
    },
    {
     "name": "stderr",
     "output_type": "stream",
     "text": [
      "[Parallel(n_jobs=1)]: Done   9 out of   9 | elapsed: 20.0min finished\n"
     ]
    },
    {
     "name": "stdout",
     "output_type": "stream",
     "text": [
      "11\n",
      "Fitting 1 folds for each of 9 candidates, totalling 9 fits\n",
      "[CV] batch_size=1, epochs=10, n_classes=18, num_units=165, optimizer=Adam, shape=165 \n",
      "[CV]  batch_size=1, epochs=10, n_classes=18, num_units=165, optimizer=Adam, shape=165, score=0.34615384615384615, total=  30.6s\n",
      "[CV] batch_size=1, epochs=100, n_classes=18, num_units=165, optimizer=Adam, shape=165 \n"
     ]
    },
    {
     "name": "stderr",
     "output_type": "stream",
     "text": [
      "[Parallel(n_jobs=1)]: Done   1 out of   1 | elapsed:   31.0s remaining:    0.0s\n"
     ]
    },
    {
     "name": "stdout",
     "output_type": "stream",
     "text": [
      "[CV]  batch_size=1, epochs=100, n_classes=18, num_units=165, optimizer=Adam, shape=165, score=0.46794871794871795, total= 4.6min\n",
      "[CV] batch_size=1, epochs=300, n_classes=18, num_units=165, optimizer=Adam, shape=165 \n"
     ]
    },
    {
     "name": "stderr",
     "output_type": "stream",
     "text": [
      "[Parallel(n_jobs=1)]: Done   2 out of   2 | elapsed:  5.1min remaining:    0.0s\n"
     ]
    },
    {
     "name": "stdout",
     "output_type": "stream",
     "text": [
      "[CV]  batch_size=1, epochs=300, n_classes=18, num_units=165, optimizer=Adam, shape=165, score=0.42948717948717946, total=14.7min\n",
      "[CV] batch_size=10, epochs=10, n_classes=18, num_units=165, optimizer=Adam, shape=165 \n",
      "[CV]  batch_size=10, epochs=10, n_classes=18, num_units=165, optimizer=Adam, shape=165, score=0.27564102564102566, total=   5.2s\n",
      "[CV] batch_size=10, epochs=100, n_classes=18, num_units=165, optimizer=Adam, shape=165 \n",
      "[CV]  batch_size=10, epochs=100, n_classes=18, num_units=165, optimizer=Adam, shape=165, score=0.3717948717948718, total=  32.6s\n",
      "[CV] batch_size=10, epochs=300, n_classes=18, num_units=165, optimizer=Adam, shape=165 \n",
      "[CV]  batch_size=10, epochs=300, n_classes=18, num_units=165, optimizer=Adam, shape=165, score=0.4551282051282051, total= 1.5min\n",
      "[CV] batch_size=100, epochs=10, n_classes=18, num_units=165, optimizer=Adam, shape=165 \n",
      "[CV]  batch_size=100, epochs=10, n_classes=18, num_units=165, optimizer=Adam, shape=165, score=0.1282051282051282, total=   4.1s\n",
      "[CV] batch_size=100, epochs=100, n_classes=18, num_units=165, optimizer=Adam, shape=165 \n",
      "[CV]  batch_size=100, epochs=100, n_classes=18, num_units=165, optimizer=Adam, shape=165, score=0.358974358974359, total=   8.1s\n",
      "[CV] batch_size=100, epochs=300, n_classes=18, num_units=165, optimizer=Adam, shape=165 \n",
      "[CV]  batch_size=100, epochs=300, n_classes=18, num_units=165, optimizer=Adam, shape=165, score=0.38461538461538464, total=  19.4s\n"
     ]
    },
    {
     "name": "stderr",
     "output_type": "stream",
     "text": [
      "[Parallel(n_jobs=1)]: Done   9 out of   9 | elapsed: 22.5min finished\n"
     ]
    },
    {
     "name": "stdout",
     "output_type": "stream",
     "text": [
      "12\n",
      "Fitting 1 folds for each of 9 candidates, totalling 9 fits\n",
      "[CV] batch_size=1, epochs=10, n_classes=18, num_units=180, optimizer=Adam, shape=180 \n",
      "[CV]  batch_size=1, epochs=10, n_classes=18, num_units=180, optimizer=Adam, shape=180, score=0.3096774193548387, total=  34.5s\n",
      "[CV] batch_size=1, epochs=100, n_classes=18, num_units=180, optimizer=Adam, shape=180 \n"
     ]
    },
    {
     "name": "stderr",
     "output_type": "stream",
     "text": [
      "[Parallel(n_jobs=1)]: Done   1 out of   1 | elapsed:   34.9s remaining:    0.0s\n"
     ]
    },
    {
     "name": "stdout",
     "output_type": "stream",
     "text": [
      "[CV]  batch_size=1, epochs=100, n_classes=18, num_units=180, optimizer=Adam, shape=180, score=0.4064516129032258, total= 5.4min\n",
      "[CV] batch_size=1, epochs=300, n_classes=18, num_units=180, optimizer=Adam, shape=180 \n"
     ]
    },
    {
     "name": "stderr",
     "output_type": "stream",
     "text": [
      "[Parallel(n_jobs=1)]: Done   2 out of   2 | elapsed:  6.0min remaining:    0.0s\n"
     ]
    },
    {
     "name": "stdout",
     "output_type": "stream",
     "text": [
      "[CV]  batch_size=1, epochs=300, n_classes=18, num_units=180, optimizer=Adam, shape=180, score=0.4258064516129032, total=16.9min\n",
      "[CV] batch_size=10, epochs=10, n_classes=18, num_units=180, optimizer=Adam, shape=180 \n",
      "[CV]  batch_size=10, epochs=10, n_classes=18, num_units=180, optimizer=Adam, shape=180, score=0.24516129032258063, total=   8.7s\n",
      "[CV] batch_size=10, epochs=100, n_classes=18, num_units=180, optimizer=Adam, shape=180 \n",
      "[CV]  batch_size=10, epochs=100, n_classes=18, num_units=180, optimizer=Adam, shape=180, score=0.34838709677419355, total=  35.5s\n",
      "[CV] batch_size=10, epochs=300, n_classes=18, num_units=180, optimizer=Adam, shape=180 \n",
      "[CV]  batch_size=10, epochs=300, n_classes=18, num_units=180, optimizer=Adam, shape=180, score=0.3870967741935484, total= 1.8min\n",
      "[CV] batch_size=100, epochs=10, n_classes=18, num_units=180, optimizer=Adam, shape=180 \n",
      "[CV]  batch_size=100, epochs=10, n_classes=18, num_units=180, optimizer=Adam, shape=180, score=0.14838709677419354, total=   3.0s\n",
      "[CV] batch_size=100, epochs=100, n_classes=18, num_units=180, optimizer=Adam, shape=180 \n",
      "[CV]  batch_size=100, epochs=100, n_classes=18, num_units=180, optimizer=Adam, shape=180, score=0.3870967741935484, total=   8.3s\n",
      "[CV] batch_size=100, epochs=300, n_classes=18, num_units=180, optimizer=Adam, shape=180 \n",
      "[CV]  batch_size=100, epochs=300, n_classes=18, num_units=180, optimizer=Adam, shape=180, score=0.4129032258064516, total=  22.3s\n"
     ]
    },
    {
     "name": "stderr",
     "output_type": "stream",
     "text": [
      "[Parallel(n_jobs=1)]: Done   9 out of   9 | elapsed: 26.0min finished\n"
     ]
    }
   ],
   "source": [
    "for nr in frame_numbers:\n",
    "    print(nr)\n",
    "    try:\n",
    "        gyro_train_input, gyro_train_label = prepare_data(train, nr, 'gyro', verbose=False)\n",
    "        gyro_valid_input, gyro_valid_label = prepare_data(valid, nr, 'gyro', verbose=False)\n",
    "\n",
    "        encoder = LabelEncoder()\n",
    "\n",
    "        X_train = gyro_train_input.reshape(gyro_train_input.shape[0], 1, gyro_train_input.shape[1])\n",
    "        y_train = encoder.fit_transform(gyro_train_label)\n",
    "        X_valid = gyro_valid_input.reshape(gyro_valid_input.shape[0], 1, gyro_valid_input.shape[1])\n",
    "        y_valid = encoder.fit_transform(gyro_valid_label)\n",
    "\n",
    "        parameters[0]['n_classes'] = [len(encoder.classes_)]\n",
    "        parameters[0]['shape'] = [X_train.shape[2]]\n",
    "        parameters[0]['num_units'] = [X_train.shape[2]]\n",
    "\n",
    "        #parameters[0]['batch_size'] = [1, 10, 100]\n",
    "        #parameters[0]['batch_size'].append(X_train.shape[2])\n",
    "\n",
    "        lstm_model = KerasClassifier(create_model, verbose=0)\n",
    "\n",
    "        lstm = GridSearchCV(lstm_model, parameters, scoring='accuracy', cv=cross_valid,\n",
    "                           verbose=verbose_level).fit(np.append(X_train, X_valid, axis=0),np.append(y_train, y_valid))\n",
    "\n",
    "        result = (lstm.best_score_, nr, lstm.best_params_)\n",
    "\n",
    "        if result[0] > paper_gyro[0]:\n",
    "            paper_gyro = result\n",
    "\n",
    "        K.clear_session()\n",
    "    \n",
    "    except ValueError as err:\n",
    "        pass"
   ]
  },
  {
   "cell_type": "code",
   "execution_count": 9,
   "metadata": {},
   "outputs": [
    {
     "name": "stdout",
     "output_type": "stream",
     "text": [
      "(0.52564102564102566, 10, {'batch_size': 1, 'epochs': 300, 'n_classes': 18, 'num_units': 150, 'optimizer': 'Adam', 'shape': 150})\n"
     ]
    }
   ],
   "source": [
    "print(paper_gyro, end='\\n')"
   ]
  },
  {
   "cell_type": "markdown",
   "metadata": {},
   "source": [
    "### Magnetometer"
   ]
  },
  {
   "cell_type": "code",
   "execution_count": 10,
   "metadata": {},
   "outputs": [
    {
     "name": "stdout",
     "output_type": "stream",
     "text": [
      "1\n",
      "Fitting 1 folds for each of 9 candidates, totalling 9 fits\n",
      "[CV] batch_size=1, epochs=10, n_classes=18, num_units=22, optimizer=Adam, shape=22 \n",
      "[CV]  batch_size=1, epochs=10, n_classes=18, num_units=22, optimizer=Adam, shape=22, score=0.07692307692307693, total=  12.8s\n",
      "[CV] batch_size=1, epochs=100, n_classes=18, num_units=22, optimizer=Adam, shape=22 \n"
     ]
    },
    {
     "name": "stderr",
     "output_type": "stream",
     "text": [
      "[Parallel(n_jobs=1)]: Done   1 out of   1 | elapsed:   13.0s remaining:    0.0s\n"
     ]
    },
    {
     "name": "stdout",
     "output_type": "stream",
     "text": [
      "[CV]  batch_size=1, epochs=100, n_classes=18, num_units=22, optimizer=Adam, shape=22, score=0.23717948717948717, total= 1.8min\n",
      "[CV] batch_size=1, epochs=300, n_classes=18, num_units=22, optimizer=Adam, shape=22 \n"
     ]
    },
    {
     "name": "stderr",
     "output_type": "stream",
     "text": [
      "[Parallel(n_jobs=1)]: Done   2 out of   2 | elapsed:  2.0min remaining:    0.0s\n"
     ]
    },
    {
     "name": "stdout",
     "output_type": "stream",
     "text": [
      "[CV]  batch_size=1, epochs=300, n_classes=18, num_units=22, optimizer=Adam, shape=22, score=0.3076923076923077, total= 5.3min\n",
      "[CV] batch_size=10, epochs=10, n_classes=18, num_units=22, optimizer=Adam, shape=22 \n",
      "[CV]  batch_size=10, epochs=10, n_classes=18, num_units=22, optimizer=Adam, shape=22, score=0.03205128205128205, total=   3.3s\n",
      "[CV] batch_size=10, epochs=100, n_classes=18, num_units=22, optimizer=Adam, shape=22 \n",
      "[CV]  batch_size=10, epochs=100, n_classes=18, num_units=22, optimizer=Adam, shape=22, score=0.17307692307692307, total=  13.2s\n",
      "[CV] batch_size=10, epochs=300, n_classes=18, num_units=22, optimizer=Adam, shape=22 \n",
      "[CV]  batch_size=10, epochs=300, n_classes=18, num_units=22, optimizer=Adam, shape=22, score=0.2564102564102564, total=  38.2s\n",
      "[CV] batch_size=100, epochs=10, n_classes=18, num_units=22, optimizer=Adam, shape=22 \n",
      "[CV]  batch_size=100, epochs=10, n_classes=18, num_units=22, optimizer=Adam, shape=22, score=0.03205128205128205, total=   2.4s\n",
      "[CV] batch_size=100, epochs=100, n_classes=18, num_units=22, optimizer=Adam, shape=22 \n",
      "[CV]  batch_size=100, epochs=100, n_classes=18, num_units=22, optimizer=Adam, shape=22, score=0.05128205128205128, total=   3.8s\n",
      "[CV] batch_size=100, epochs=300, n_classes=18, num_units=22, optimizer=Adam, shape=22 \n",
      "[CV]  batch_size=100, epochs=300, n_classes=18, num_units=22, optimizer=Adam, shape=22, score=0.1858974358974359, total=   6.6s\n"
     ]
    },
    {
     "name": "stderr",
     "output_type": "stream",
     "text": [
      "[Parallel(n_jobs=1)]: Done   9 out of   9 | elapsed:  8.5min finished\n"
     ]
    },
    {
     "name": "stdout",
     "output_type": "stream",
     "text": [
      "2\n",
      "Fitting 1 folds for each of 9 candidates, totalling 9 fits\n",
      "[CV] batch_size=1, epochs=10, n_classes=18, num_units=44, optimizer=Adam, shape=44 \n",
      "[CV]  batch_size=1, epochs=10, n_classes=18, num_units=44, optimizer=Adam, shape=44, score=0.16025641025641027, total=  12.9s\n",
      "[CV] batch_size=1, epochs=100, n_classes=18, num_units=44, optimizer=Adam, shape=44 \n"
     ]
    },
    {
     "name": "stderr",
     "output_type": "stream",
     "text": [
      "[Parallel(n_jobs=1)]: Done   1 out of   1 | elapsed:   13.1s remaining:    0.0s\n"
     ]
    },
    {
     "name": "stdout",
     "output_type": "stream",
     "text": [
      "[CV]  batch_size=1, epochs=100, n_classes=18, num_units=44, optimizer=Adam, shape=44, score=0.26282051282051283, total= 1.9min\n",
      "[CV] batch_size=1, epochs=300, n_classes=18, num_units=44, optimizer=Adam, shape=44 \n"
     ]
    },
    {
     "name": "stderr",
     "output_type": "stream",
     "text": [
      "[Parallel(n_jobs=1)]: Done   2 out of   2 | elapsed:  2.1min remaining:    0.0s\n"
     ]
    },
    {
     "name": "stdout",
     "output_type": "stream",
     "text": [
      "[CV]  batch_size=1, epochs=300, n_classes=18, num_units=44, optimizer=Adam, shape=44, score=0.4423076923076923, total= 5.8min\n",
      "[CV] batch_size=10, epochs=10, n_classes=18, num_units=44, optimizer=Adam, shape=44 \n",
      "[CV]  batch_size=10, epochs=10, n_classes=18, num_units=44, optimizer=Adam, shape=44, score=0.08333333333333333, total=   3.4s\n",
      "[CV] batch_size=10, epochs=100, n_classes=18, num_units=44, optimizer=Adam, shape=44 \n",
      "[CV]  batch_size=10, epochs=100, n_classes=18, num_units=44, optimizer=Adam, shape=44, score=0.22435897435897437, total=  14.0s\n",
      "[CV] batch_size=10, epochs=300, n_classes=18, num_units=44, optimizer=Adam, shape=44 \n",
      "[CV]  batch_size=10, epochs=300, n_classes=18, num_units=44, optimizer=Adam, shape=44, score=0.2564102564102564, total=  36.7s\n",
      "[CV] batch_size=100, epochs=10, n_classes=18, num_units=44, optimizer=Adam, shape=44 \n",
      "[CV]  batch_size=100, epochs=10, n_classes=18, num_units=44, optimizer=Adam, shape=44, score=0.057692307692307696, total=   2.5s\n",
      "[CV] batch_size=100, epochs=100, n_classes=18, num_units=44, optimizer=Adam, shape=44 \n",
      "[CV]  batch_size=100, epochs=100, n_classes=18, num_units=44, optimizer=Adam, shape=44, score=0.14743589743589744, total=   5.3s\n",
      "[CV] batch_size=100, epochs=300, n_classes=18, num_units=44, optimizer=Adam, shape=44 \n",
      "[CV]  batch_size=100, epochs=300, n_classes=18, num_units=44, optimizer=Adam, shape=44, score=0.21153846153846154, total=   7.5s\n"
     ]
    },
    {
     "name": "stderr",
     "output_type": "stream",
     "text": [
      "[Parallel(n_jobs=1)]: Done   9 out of   9 | elapsed:  9.0min finished\n"
     ]
    },
    {
     "name": "stdout",
     "output_type": "stream",
     "text": [
      "3\n",
      "Fitting 1 folds for each of 9 candidates, totalling 9 fits\n",
      "[CV] batch_size=1, epochs=10, n_classes=18, num_units=66, optimizer=Adam, shape=66 \n",
      "[CV]  batch_size=1, epochs=10, n_classes=18, num_units=66, optimizer=Adam, shape=66, score=0.20512820512820512, total=  16.0s\n",
      "[CV] batch_size=1, epochs=100, n_classes=18, num_units=66, optimizer=Adam, shape=66 \n"
     ]
    },
    {
     "name": "stderr",
     "output_type": "stream",
     "text": [
      "[Parallel(n_jobs=1)]: Done   1 out of   1 | elapsed:   16.2s remaining:    0.0s\n"
     ]
    },
    {
     "name": "stdout",
     "output_type": "stream",
     "text": [
      "[CV]  batch_size=1, epochs=100, n_classes=18, num_units=66, optimizer=Adam, shape=66, score=0.4230769230769231, total= 2.3min\n",
      "[CV] batch_size=1, epochs=300, n_classes=18, num_units=66, optimizer=Adam, shape=66 \n"
     ]
    },
    {
     "name": "stderr",
     "output_type": "stream",
     "text": [
      "[Parallel(n_jobs=1)]: Done   2 out of   2 | elapsed:  2.6min remaining:    0.0s\n"
     ]
    },
    {
     "name": "stdout",
     "output_type": "stream",
     "text": [
      "[CV]  batch_size=1, epochs=300, n_classes=18, num_units=66, optimizer=Adam, shape=66, score=0.5769230769230769, total= 6.8min\n",
      "[CV] batch_size=10, epochs=10, n_classes=18, num_units=66, optimizer=Adam, shape=66 \n",
      "[CV]  batch_size=10, epochs=10, n_classes=18, num_units=66, optimizer=Adam, shape=66, score=0.1282051282051282, total=   3.5s\n",
      "[CV] batch_size=10, epochs=100, n_classes=18, num_units=66, optimizer=Adam, shape=66 \n",
      "[CV]  batch_size=10, epochs=100, n_classes=18, num_units=66, optimizer=Adam, shape=66, score=0.3076923076923077, total=  18.3s\n",
      "[CV] batch_size=10, epochs=300, n_classes=18, num_units=66, optimizer=Adam, shape=66 \n",
      "[CV]  batch_size=10, epochs=300, n_classes=18, num_units=66, optimizer=Adam, shape=66, score=0.40384615384615385, total=  48.2s\n",
      "[CV] batch_size=100, epochs=10, n_classes=18, num_units=66, optimizer=Adam, shape=66 \n",
      "[CV]  batch_size=100, epochs=10, n_classes=18, num_units=66, optimizer=Adam, shape=66, score=0.08974358974358974, total=   2.5s\n",
      "[CV] batch_size=100, epochs=100, n_classes=18, num_units=66, optimizer=Adam, shape=66 \n",
      "[CV]  batch_size=100, epochs=100, n_classes=18, num_units=66, optimizer=Adam, shape=66, score=0.19230769230769232, total=   4.5s\n",
      "[CV] batch_size=100, epochs=300, n_classes=18, num_units=66, optimizer=Adam, shape=66 \n",
      "[CV]  batch_size=100, epochs=300, n_classes=18, num_units=66, optimizer=Adam, shape=66, score=0.27564102564102566, total=   8.6s\n"
     ]
    },
    {
     "name": "stderr",
     "output_type": "stream",
     "text": [
      "[Parallel(n_jobs=1)]: Done   9 out of   9 | elapsed: 10.8min finished\n"
     ]
    },
    {
     "name": "stdout",
     "output_type": "stream",
     "text": [
      "4\n",
      "Fitting 1 folds for each of 9 candidates, totalling 9 fits\n",
      "[CV] batch_size=1, epochs=10, n_classes=18, num_units=88, optimizer=Adam, shape=88 \n",
      "[CV]  batch_size=1, epochs=10, n_classes=18, num_units=88, optimizer=Adam, shape=88, score=0.1987179487179487, total=  20.1s\n",
      "[CV] batch_size=1, epochs=100, n_classes=18, num_units=88, optimizer=Adam, shape=88 \n"
     ]
    },
    {
     "name": "stderr",
     "output_type": "stream",
     "text": [
      "[Parallel(n_jobs=1)]: Done   1 out of   1 | elapsed:   20.4s remaining:    0.0s\n"
     ]
    },
    {
     "name": "stdout",
     "output_type": "stream",
     "text": [
      "[CV]  batch_size=1, epochs=100, n_classes=18, num_units=88, optimizer=Adam, shape=88, score=0.48717948717948717, total= 2.7min\n",
      "[CV] batch_size=1, epochs=300, n_classes=18, num_units=88, optimizer=Adam, shape=88 \n"
     ]
    },
    {
     "name": "stderr",
     "output_type": "stream",
     "text": [
      "[Parallel(n_jobs=1)]: Done   2 out of   2 | elapsed:  3.1min remaining:    0.0s\n"
     ]
    },
    {
     "name": "stdout",
     "output_type": "stream",
     "text": [
      "[CV]  batch_size=1, epochs=300, n_classes=18, num_units=88, optimizer=Adam, shape=88, score=0.532051282051282, total= 8.2min\n",
      "[CV] batch_size=10, epochs=10, n_classes=18, num_units=88, optimizer=Adam, shape=88 \n",
      "[CV]  batch_size=10, epochs=10, n_classes=18, num_units=88, optimizer=Adam, shape=88, score=0.10897435897435898, total=   3.9s\n",
      "[CV] batch_size=10, epochs=100, n_classes=18, num_units=88, optimizer=Adam, shape=88 \n",
      "[CV]  batch_size=10, epochs=100, n_classes=18, num_units=88, optimizer=Adam, shape=88, score=0.34615384615384615, total=  18.9s\n",
      "[CV] batch_size=10, epochs=300, n_classes=18, num_units=88, optimizer=Adam, shape=88 \n",
      "[CV]  batch_size=10, epochs=300, n_classes=18, num_units=88, optimizer=Adam, shape=88, score=0.4358974358974359, total=  57.5s\n",
      "[CV] batch_size=100, epochs=10, n_classes=18, num_units=88, optimizer=Adam, shape=88 \n",
      "[CV]  batch_size=100, epochs=10, n_classes=18, num_units=88, optimizer=Adam, shape=88, score=0.07051282051282051, total=   2.6s\n",
      "[CV] batch_size=100, epochs=100, n_classes=18, num_units=88, optimizer=Adam, shape=88 \n",
      "[CV]  batch_size=100, epochs=100, n_classes=18, num_units=88, optimizer=Adam, shape=88, score=0.1858974358974359, total=   5.1s\n",
      "[CV] batch_size=100, epochs=300, n_classes=18, num_units=88, optimizer=Adam, shape=88 \n",
      "[CV]  batch_size=100, epochs=300, n_classes=18, num_units=88, optimizer=Adam, shape=88, score=0.28846153846153844, total=  11.0s\n"
     ]
    },
    {
     "name": "stderr",
     "output_type": "stream",
     "text": [
      "[Parallel(n_jobs=1)]: Done   9 out of   9 | elapsed: 13.0min finished\n"
     ]
    },
    {
     "name": "stdout",
     "output_type": "stream",
     "text": [
      "5\n",
      "Fitting 1 folds for each of 9 candidates, totalling 9 fits\n",
      "[CV] batch_size=1, epochs=10, n_classes=18, num_units=110, optimizer=Adam, shape=110 \n",
      "[CV]  batch_size=1, epochs=10, n_classes=18, num_units=110, optimizer=Adam, shape=110, score=0.20512820512820512, total=  21.0s\n",
      "[CV] batch_size=1, epochs=100, n_classes=18, num_units=110, optimizer=Adam, shape=110 \n"
     ]
    },
    {
     "name": "stderr",
     "output_type": "stream",
     "text": [
      "[Parallel(n_jobs=1)]: Done   1 out of   1 | elapsed:   21.3s remaining:    0.0s\n"
     ]
    },
    {
     "name": "stdout",
     "output_type": "stream",
     "text": [
      "[CV]  batch_size=1, epochs=100, n_classes=18, num_units=110, optimizer=Adam, shape=110, score=0.3782051282051282, total= 3.4min\n",
      "[CV] batch_size=1, epochs=300, n_classes=18, num_units=110, optimizer=Adam, shape=110 \n"
     ]
    },
    {
     "name": "stderr",
     "output_type": "stream",
     "text": [
      "[Parallel(n_jobs=1)]: Done   2 out of   2 | elapsed:  3.8min remaining:    0.0s\n"
     ]
    },
    {
     "name": "stdout",
     "output_type": "stream",
     "text": [
      "[CV]  batch_size=1, epochs=300, n_classes=18, num_units=110, optimizer=Adam, shape=110, score=0.4166666666666667, total=10.0min\n",
      "[CV] batch_size=10, epochs=10, n_classes=18, num_units=110, optimizer=Adam, shape=110 \n",
      "[CV]  batch_size=10, epochs=10, n_classes=18, num_units=110, optimizer=Adam, shape=110, score=0.12179487179487179, total=   4.5s\n",
      "[CV] batch_size=10, epochs=100, n_classes=18, num_units=110, optimizer=Adam, shape=110 \n",
      "[CV]  batch_size=10, epochs=100, n_classes=18, num_units=110, optimizer=Adam, shape=110, score=0.28846153846153844, total=  23.3s\n",
      "[CV] batch_size=10, epochs=300, n_classes=18, num_units=110, optimizer=Adam, shape=110 \n",
      "[CV]  batch_size=10, epochs=300, n_classes=18, num_units=110, optimizer=Adam, shape=110, score=0.40384615384615385, total= 1.0min\n",
      "[CV] batch_size=100, epochs=10, n_classes=18, num_units=110, optimizer=Adam, shape=110 \n",
      "[CV]  batch_size=100, epochs=10, n_classes=18, num_units=110, optimizer=Adam, shape=110, score=0.07051282051282051, total=   4.0s\n",
      "[CV] batch_size=100, epochs=100, n_classes=18, num_units=110, optimizer=Adam, shape=110 \n",
      "[CV]  batch_size=100, epochs=100, n_classes=18, num_units=110, optimizer=Adam, shape=110, score=0.1858974358974359, total=   6.1s\n",
      "[CV] batch_size=100, epochs=300, n_classes=18, num_units=110, optimizer=Adam, shape=110 \n",
      "[CV]  batch_size=100, epochs=300, n_classes=18, num_units=110, optimizer=Adam, shape=110, score=0.27564102564102566, total=  13.7s\n"
     ]
    },
    {
     "name": "stderr",
     "output_type": "stream",
     "text": [
      "[Parallel(n_jobs=1)]: Done   9 out of   9 | elapsed: 15.7min finished\n"
     ]
    },
    {
     "name": "stdout",
     "output_type": "stream",
     "text": [
      "6\n",
      "Fitting 1 folds for each of 9 candidates, totalling 9 fits\n",
      "[CV] batch_size=1, epochs=10, n_classes=18, num_units=132, optimizer=Adam, shape=132 \n",
      "[CV]  batch_size=1, epochs=10, n_classes=18, num_units=132, optimizer=Adam, shape=132, score=0.14743589743589744, total=  24.7s\n",
      "[CV] batch_size=1, epochs=100, n_classes=18, num_units=132, optimizer=Adam, shape=132 \n"
     ]
    },
    {
     "name": "stderr",
     "output_type": "stream",
     "text": [
      "[Parallel(n_jobs=1)]: Done   1 out of   1 | elapsed:   25.0s remaining:    0.0s\n"
     ]
    },
    {
     "name": "stdout",
     "output_type": "stream",
     "text": [
      "[CV]  batch_size=1, epochs=100, n_classes=18, num_units=132, optimizer=Adam, shape=132, score=0.28205128205128205, total= 3.9min\n",
      "[CV] batch_size=1, epochs=300, n_classes=18, num_units=132, optimizer=Adam, shape=132 \n"
     ]
    },
    {
     "name": "stderr",
     "output_type": "stream",
     "text": [
      "[Parallel(n_jobs=1)]: Done   2 out of   2 | elapsed:  4.3min remaining:    0.0s\n"
     ]
    },
    {
     "name": "stdout",
     "output_type": "stream",
     "text": [
      "[CV]  batch_size=1, epochs=300, n_classes=18, num_units=132, optimizer=Adam, shape=132, score=0.3525641025641026, total=12.1min\n",
      "[CV] batch_size=10, epochs=10, n_classes=18, num_units=132, optimizer=Adam, shape=132 \n",
      "[CV]  batch_size=10, epochs=10, n_classes=18, num_units=132, optimizer=Adam, shape=132, score=0.10256410256410256, total=   6.7s\n",
      "[CV] batch_size=10, epochs=100, n_classes=18, num_units=132, optimizer=Adam, shape=132 \n",
      "[CV]  batch_size=10, epochs=100, n_classes=18, num_units=132, optimizer=Adam, shape=132, score=0.24358974358974358, total=  26.5s\n",
      "[CV] batch_size=10, epochs=300, n_classes=18, num_units=132, optimizer=Adam, shape=132 \n",
      "[CV]  batch_size=10, epochs=300, n_classes=18, num_units=132, optimizer=Adam, shape=132, score=0.3076923076923077, total= 1.3min\n",
      "[CV] batch_size=100, epochs=10, n_classes=18, num_units=132, optimizer=Adam, shape=132 \n",
      "[CV]  batch_size=100, epochs=10, n_classes=18, num_units=132, optimizer=Adam, shape=132, score=0.057692307692307696, total=   2.8s\n",
      "[CV] batch_size=100, epochs=100, n_classes=18, num_units=132, optimizer=Adam, shape=132 \n",
      "[CV]  batch_size=100, epochs=100, n_classes=18, num_units=132, optimizer=Adam, shape=132, score=0.16025641025641027, total=   6.7s\n",
      "[CV] batch_size=100, epochs=300, n_classes=18, num_units=132, optimizer=Adam, shape=132 \n",
      "[CV]  batch_size=100, epochs=300, n_classes=18, num_units=132, optimizer=Adam, shape=132, score=0.23717948717948717, total=  15.6s\n"
     ]
    },
    {
     "name": "stderr",
     "output_type": "stream",
     "text": [
      "[Parallel(n_jobs=1)]: Done   9 out of   9 | elapsed: 18.7min finished\n"
     ]
    },
    {
     "name": "stdout",
     "output_type": "stream",
     "text": [
      "7\n",
      "Fitting 1 folds for each of 9 candidates, totalling 9 fits\n",
      "[CV] batch_size=1, epochs=10, n_classes=18, num_units=154, optimizer=Adam, shape=154 \n",
      "[CV]  batch_size=1, epochs=10, n_classes=18, num_units=154, optimizer=Adam, shape=154, score=0.1346153846153846, total=  30.8s\n",
      "[CV] batch_size=1, epochs=100, n_classes=18, num_units=154, optimizer=Adam, shape=154 \n"
     ]
    },
    {
     "name": "stderr",
     "output_type": "stream",
     "text": [
      "[Parallel(n_jobs=1)]: Done   1 out of   1 | elapsed:   31.2s remaining:    0.0s\n"
     ]
    },
    {
     "name": "stdout",
     "output_type": "stream",
     "text": [
      "[CV]  batch_size=1, epochs=100, n_classes=18, num_units=154, optimizer=Adam, shape=154, score=0.2692307692307692, total= 4.8min\n",
      "[CV] batch_size=1, epochs=300, n_classes=18, num_units=154, optimizer=Adam, shape=154 \n"
     ]
    },
    {
     "name": "stderr",
     "output_type": "stream",
     "text": [
      "[Parallel(n_jobs=1)]: Done   2 out of   2 | elapsed:  5.3min remaining:    0.0s\n"
     ]
    },
    {
     "name": "stdout",
     "output_type": "stream",
     "text": [
      "[CV]  batch_size=1, epochs=300, n_classes=18, num_units=154, optimizer=Adam, shape=154, score=0.2948717948717949, total=14.1min\n",
      "[CV] batch_size=10, epochs=10, n_classes=18, num_units=154, optimizer=Adam, shape=154 \n",
      "[CV]  batch_size=10, epochs=10, n_classes=18, num_units=154, optimizer=Adam, shape=154, score=0.12179487179487179, total=   5.1s\n",
      "[CV] batch_size=10, epochs=100, n_classes=18, num_units=154, optimizer=Adam, shape=154 \n",
      "[CV]  batch_size=10, epochs=100, n_classes=18, num_units=154, optimizer=Adam, shape=154, score=0.23076923076923078, total=  30.9s\n",
      "[CV] batch_size=10, epochs=300, n_classes=18, num_units=154, optimizer=Adam, shape=154 \n",
      "[CV]  batch_size=10, epochs=300, n_classes=18, num_units=154, optimizer=Adam, shape=154, score=0.32051282051282054, total= 1.4min\n",
      "[CV] batch_size=100, epochs=10, n_classes=18, num_units=154, optimizer=Adam, shape=154 \n",
      "[CV]  batch_size=100, epochs=10, n_classes=18, num_units=154, optimizer=Adam, shape=154, score=0.08974358974358974, total=   5.9s\n",
      "[CV] batch_size=100, epochs=100, n_classes=18, num_units=154, optimizer=Adam, shape=154 \n",
      "[CV]  batch_size=100, epochs=100, n_classes=18, num_units=154, optimizer=Adam, shape=154, score=0.15384615384615385, total=   7.5s\n",
      "[CV] batch_size=100, epochs=300, n_classes=18, num_units=154, optimizer=Adam, shape=154 \n",
      "[CV]  batch_size=100, epochs=300, n_classes=18, num_units=154, optimizer=Adam, shape=154, score=0.23717948717948717, total=  18.4s\n"
     ]
    },
    {
     "name": "stderr",
     "output_type": "stream",
     "text": [
      "[Parallel(n_jobs=1)]: Done   9 out of   9 | elapsed: 22.0min finished\n"
     ]
    },
    {
     "name": "stdout",
     "output_type": "stream",
     "text": [
      "8\n",
      "Fitting 1 folds for each of 9 candidates, totalling 9 fits\n",
      "[CV] batch_size=1, epochs=10, n_classes=18, num_units=176, optimizer=Adam, shape=176 \n",
      "[CV]  batch_size=1, epochs=10, n_classes=18, num_units=176, optimizer=Adam, shape=176, score=0.14743589743589744, total=  33.3s\n",
      "[CV] batch_size=1, epochs=100, n_classes=18, num_units=176, optimizer=Adam, shape=176 \n"
     ]
    },
    {
     "name": "stderr",
     "output_type": "stream",
     "text": [
      "[Parallel(n_jobs=1)]: Done   1 out of   1 | elapsed:   33.7s remaining:    0.0s\n"
     ]
    },
    {
     "name": "stdout",
     "output_type": "stream",
     "text": [
      "[CV]  batch_size=1, epochs=100, n_classes=18, num_units=176, optimizer=Adam, shape=176, score=0.2692307692307692, total= 5.3min\n",
      "[CV] batch_size=1, epochs=300, n_classes=18, num_units=176, optimizer=Adam, shape=176 \n"
     ]
    },
    {
     "name": "stderr",
     "output_type": "stream",
     "text": [
      "[Parallel(n_jobs=1)]: Done   2 out of   2 | elapsed:  5.9min remaining:    0.0s\n"
     ]
    },
    {
     "name": "stdout",
     "output_type": "stream",
     "text": [
      "[CV]  batch_size=1, epochs=300, n_classes=18, num_units=176, optimizer=Adam, shape=176, score=0.2692307692307692, total=15.8min\n",
      "[CV] batch_size=10, epochs=10, n_classes=18, num_units=176, optimizer=Adam, shape=176 \n",
      "[CV]  batch_size=10, epochs=10, n_classes=18, num_units=176, optimizer=Adam, shape=176, score=0.10256410256410256, total=   5.6s\n",
      "[CV] batch_size=10, epochs=100, n_classes=18, num_units=176, optimizer=Adam, shape=176 \n",
      "[CV]  batch_size=10, epochs=100, n_classes=18, num_units=176, optimizer=Adam, shape=176, score=0.22435897435897437, total=  34.3s\n",
      "[CV] batch_size=10, epochs=300, n_classes=18, num_units=176, optimizer=Adam, shape=176 \n",
      "[CV]  batch_size=10, epochs=300, n_classes=18, num_units=176, optimizer=Adam, shape=176, score=0.2692307692307692, total= 1.7min\n",
      "[CV] batch_size=100, epochs=10, n_classes=18, num_units=176, optimizer=Adam, shape=176 \n",
      "[CV]  batch_size=100, epochs=10, n_classes=18, num_units=176, optimizer=Adam, shape=176, score=0.07051282051282051, total=   2.9s\n",
      "[CV] batch_size=100, epochs=100, n_classes=18, num_units=176, optimizer=Adam, shape=176 \n",
      "[CV]  batch_size=100, epochs=100, n_classes=18, num_units=176, optimizer=Adam, shape=176, score=0.16666666666666666, total=   8.3s\n",
      "[CV] batch_size=100, epochs=300, n_classes=18, num_units=176, optimizer=Adam, shape=176 \n",
      "[CV]  batch_size=100, epochs=300, n_classes=18, num_units=176, optimizer=Adam, shape=176, score=0.23076923076923078, total=  21.8s\n"
     ]
    },
    {
     "name": "stderr",
     "output_type": "stream",
     "text": [
      "[Parallel(n_jobs=1)]: Done   9 out of   9 | elapsed: 24.6min finished\n"
     ]
    },
    {
     "name": "stdout",
     "output_type": "stream",
     "text": [
      "9\n",
      "Fitting 1 folds for each of 9 candidates, totalling 9 fits\n",
      "[CV] batch_size=1, epochs=10, n_classes=18, num_units=198, optimizer=Adam, shape=198 \n",
      "[CV]  batch_size=1, epochs=10, n_classes=18, num_units=198, optimizer=Adam, shape=198, score=0.1282051282051282, total=  39.6s\n",
      "[CV] batch_size=1, epochs=100, n_classes=18, num_units=198, optimizer=Adam, shape=198 \n"
     ]
    },
    {
     "name": "stderr",
     "output_type": "stream",
     "text": [
      "[Parallel(n_jobs=1)]: Done   1 out of   1 | elapsed:   40.1s remaining:    0.0s\n"
     ]
    },
    {
     "name": "stdout",
     "output_type": "stream",
     "text": [
      "[CV]  batch_size=1, epochs=100, n_classes=18, num_units=198, optimizer=Adam, shape=198, score=0.24358974358974358, total= 6.4min\n",
      "[CV] batch_size=1, epochs=300, n_classes=18, num_units=198, optimizer=Adam, shape=198 \n"
     ]
    },
    {
     "name": "stderr",
     "output_type": "stream",
     "text": [
      "[Parallel(n_jobs=1)]: Done   2 out of   2 | elapsed:  7.1min remaining:    0.0s\n"
     ]
    },
    {
     "name": "stdout",
     "output_type": "stream",
     "text": [
      "[CV]  batch_size=1, epochs=300, n_classes=18, num_units=198, optimizer=Adam, shape=198, score=0.23076923076923078, total=18.1min\n",
      "[CV] batch_size=10, epochs=10, n_classes=18, num_units=198, optimizer=Adam, shape=198 \n",
      "[CV]  batch_size=10, epochs=10, n_classes=18, num_units=198, optimizer=Adam, shape=198, score=0.09615384615384616, total=   6.1s\n",
      "[CV] batch_size=10, epochs=100, n_classes=18, num_units=198, optimizer=Adam, shape=198 \n",
      "[CV]  batch_size=10, epochs=100, n_classes=18, num_units=198, optimizer=Adam, shape=198, score=0.21153846153846154, total=  43.6s\n",
      "[CV] batch_size=10, epochs=300, n_classes=18, num_units=198, optimizer=Adam, shape=198 \n",
      "[CV]  batch_size=10, epochs=300, n_classes=18, num_units=198, optimizer=Adam, shape=198, score=0.2564102564102564, total= 2.0min\n",
      "[CV] batch_size=100, epochs=10, n_classes=18, num_units=198, optimizer=Adam, shape=198 \n",
      "[CV]  batch_size=100, epochs=10, n_classes=18, num_units=198, optimizer=Adam, shape=198, score=0.07051282051282051, total=   3.1s\n",
      "[CV] batch_size=100, epochs=100, n_classes=18, num_units=198, optimizer=Adam, shape=198 \n",
      "[CV]  batch_size=100, epochs=100, n_classes=18, num_units=198, optimizer=Adam, shape=198, score=0.12179487179487179, total=   9.6s\n",
      "[CV] batch_size=100, epochs=300, n_classes=18, num_units=198, optimizer=Adam, shape=198 \n",
      "[CV]  batch_size=100, epochs=300, n_classes=18, num_units=198, optimizer=Adam, shape=198, score=0.19230769230769232, total=  24.4s\n"
     ]
    },
    {
     "name": "stderr",
     "output_type": "stream",
     "text": [
      "[Parallel(n_jobs=1)]: Done   9 out of   9 | elapsed: 28.6min finished\n"
     ]
    },
    {
     "name": "stdout",
     "output_type": "stream",
     "text": [
      "10\n",
      "Fitting 1 folds for each of 9 candidates, totalling 9 fits\n",
      "[CV] batch_size=1, epochs=10, n_classes=18, num_units=220, optimizer=Adam, shape=220 \n",
      "[CV]  batch_size=1, epochs=10, n_classes=18, num_units=220, optimizer=Adam, shape=220, score=0.14102564102564102, total=  46.9s\n",
      "[CV] batch_size=1, epochs=100, n_classes=18, num_units=220, optimizer=Adam, shape=220 \n"
     ]
    },
    {
     "name": "stderr",
     "output_type": "stream",
     "text": [
      "[Parallel(n_jobs=1)]: Done   1 out of   1 | elapsed:   47.4s remaining:    0.0s\n"
     ]
    },
    {
     "name": "stdout",
     "output_type": "stream",
     "text": [
      "[CV]  batch_size=1, epochs=100, n_classes=18, num_units=220, optimizer=Adam, shape=220, score=0.25, total= 7.7min\n",
      "[CV] batch_size=1, epochs=300, n_classes=18, num_units=220, optimizer=Adam, shape=220 \n"
     ]
    },
    {
     "name": "stderr",
     "output_type": "stream",
     "text": [
      "[Parallel(n_jobs=1)]: Done   2 out of   2 | elapsed:  8.5min remaining:    0.0s\n"
     ]
    },
    {
     "name": "stdout",
     "output_type": "stream",
     "text": [
      "[CV]  batch_size=1, epochs=300, n_classes=18, num_units=220, optimizer=Adam, shape=220, score=0.24358974358974358, total=22.1min\n",
      "[CV] batch_size=10, epochs=10, n_classes=18, num_units=220, optimizer=Adam, shape=220 \n",
      "[CV]  batch_size=10, epochs=10, n_classes=18, num_units=220, optimizer=Adam, shape=220, score=0.09615384615384616, total=   6.8s\n",
      "[CV] batch_size=10, epochs=100, n_classes=18, num_units=220, optimizer=Adam, shape=220 \n",
      "[CV]  batch_size=10, epochs=100, n_classes=18, num_units=220, optimizer=Adam, shape=220, score=0.1858974358974359, total=  49.6s\n",
      "[CV] batch_size=10, epochs=300, n_classes=18, num_units=220, optimizer=Adam, shape=220 \n",
      "[CV]  batch_size=10, epochs=300, n_classes=18, num_units=220, optimizer=Adam, shape=220, score=0.25, total= 2.4min\n",
      "[CV] batch_size=100, epochs=10, n_classes=18, num_units=220, optimizer=Adam, shape=220 \n",
      "[CV]  batch_size=100, epochs=10, n_classes=18, num_units=220, optimizer=Adam, shape=220, score=0.07692307692307693, total=   5.1s\n",
      "[CV] batch_size=100, epochs=100, n_classes=18, num_units=220, optimizer=Adam, shape=220 \n",
      "[CV]  batch_size=100, epochs=100, n_classes=18, num_units=220, optimizer=Adam, shape=220, score=0.15384615384615385, total=  10.6s\n",
      "[CV] batch_size=100, epochs=300, n_classes=18, num_units=220, optimizer=Adam, shape=220 \n",
      "[CV]  batch_size=100, epochs=300, n_classes=18, num_units=220, optimizer=Adam, shape=220, score=0.16666666666666666, total=  27.7s\n"
     ]
    },
    {
     "name": "stderr",
     "output_type": "stream",
     "text": [
      "[Parallel(n_jobs=1)]: Done   9 out of   9 | elapsed: 34.7min finished\n"
     ]
    },
    {
     "name": "stdout",
     "output_type": "stream",
     "text": [
      "11\n",
      "Fitting 1 folds for each of 9 candidates, totalling 9 fits\n",
      "[CV] batch_size=1, epochs=10, n_classes=18, num_units=242, optimizer=Adam, shape=242 \n",
      "[CV]  batch_size=1, epochs=10, n_classes=18, num_units=242, optimizer=Adam, shape=242, score=0.10897435897435898, total=  59.6s\n",
      "[CV] batch_size=1, epochs=100, n_classes=18, num_units=242, optimizer=Adam, shape=242 \n"
     ]
    },
    {
     "name": "stderr",
     "output_type": "stream",
     "text": [
      "[Parallel(n_jobs=1)]: Done   1 out of   1 | elapsed:  1.0min remaining:    0.0s\n"
     ]
    },
    {
     "name": "stdout",
     "output_type": "stream",
     "text": [
      "[CV]  batch_size=1, epochs=100, n_classes=18, num_units=242, optimizer=Adam, shape=242, score=0.2692307692307692, total= 9.9min\n",
      "[CV] batch_size=1, epochs=300, n_classes=18, num_units=242, optimizer=Adam, shape=242 \n"
     ]
    },
    {
     "name": "stderr",
     "output_type": "stream",
     "text": [
      "[Parallel(n_jobs=1)]: Done   2 out of   2 | elapsed: 10.9min remaining:    0.0s\n"
     ]
    },
    {
     "name": "stdout",
     "output_type": "stream",
     "text": [
      "[CV]  batch_size=1, epochs=300, n_classes=18, num_units=242, optimizer=Adam, shape=242, score=0.23076923076923078, total=27.5min\n",
      "[CV] batch_size=10, epochs=10, n_classes=18, num_units=242, optimizer=Adam, shape=242 \n",
      "[CV]  batch_size=10, epochs=10, n_classes=18, num_units=242, optimizer=Adam, shape=242, score=0.10256410256410256, total=   7.9s\n",
      "[CV] batch_size=10, epochs=100, n_classes=18, num_units=242, optimizer=Adam, shape=242 \n",
      "[CV]  batch_size=10, epochs=100, n_classes=18, num_units=242, optimizer=Adam, shape=242, score=0.22435897435897437, total=  57.9s\n",
      "[CV] batch_size=10, epochs=300, n_classes=18, num_units=242, optimizer=Adam, shape=242 \n",
      "[CV]  batch_size=10, epochs=300, n_classes=18, num_units=242, optimizer=Adam, shape=242, score=0.24358974358974358, total= 2.8min\n",
      "[CV] batch_size=100, epochs=10, n_classes=18, num_units=242, optimizer=Adam, shape=242 \n",
      "[CV]  batch_size=100, epochs=10, n_classes=18, num_units=242, optimizer=Adam, shape=242, score=0.05128205128205128, total=   3.5s\n",
      "[CV] batch_size=100, epochs=100, n_classes=18, num_units=242, optimizer=Adam, shape=242 \n",
      "[CV]  batch_size=100, epochs=100, n_classes=18, num_units=242, optimizer=Adam, shape=242, score=0.10256410256410256, total=  12.1s\n",
      "[CV] batch_size=100, epochs=300, n_classes=18, num_units=242, optimizer=Adam, shape=242 \n",
      "[CV]  batch_size=100, epochs=300, n_classes=18, num_units=242, optimizer=Adam, shape=242, score=0.23076923076923078, total=  33.8s\n"
     ]
    },
    {
     "name": "stderr",
     "output_type": "stream",
     "text": [
      "[Parallel(n_jobs=1)]: Done   9 out of   9 | elapsed: 43.1min finished\n"
     ]
    },
    {
     "name": "stdout",
     "output_type": "stream",
     "text": [
      "12\n"
     ]
    },
    {
     "name": "stderr",
     "output_type": "stream",
     "text": [
      "c:\\python36\\lib\\site-packages\\scipy\\stats\\stats.py:3021: RuntimeWarning: invalid value encountered in double_scalars\n",
      "  r = r_num / r_den\n",
      "c:\\python36\\lib\\site-packages\\scipy\\stats\\stats.py:5277: RuntimeWarning: invalid value encountered in less\n",
      "  x = np.where(x < 1.0, x, 1.0)  # if x > 1 then return 1.0\n"
     ]
    }
   ],
   "source": [
    "for nr in frame_numbers:\n",
    "    print(nr)\n",
    "    try:\n",
    "        ori_train_input, ori_train_label = prepare_data(train, nr, 'orientation', verbose=False)\n",
    "        ori_valid_input, ori_valid_label = prepare_data(valid, nr, 'orientation', verbose=False)\n",
    "\n",
    "        encoder = LabelEncoder()\n",
    "\n",
    "        X_train = ori_train_input.reshape(ori_train_input.shape[0], 1, ori_train_input.shape[1])\n",
    "        y_train = encoder.fit_transform(ori_train_label)\n",
    "        X_valid = ori_valid_input.reshape(ori_valid_input.shape[0], 1, ori_valid_input.shape[1])\n",
    "        y_valid = encoder.fit_transform(ori_valid_label)\n",
    "\n",
    "        parameters[0]['n_classes'] = [len(encoder.classes_)]\n",
    "        parameters[0]['shape'] = [X_train.shape[2]]\n",
    "        parameters[0]['num_units'] = [X_train.shape[2]]\n",
    "\n",
    "        #parameters[0]['batch_size'] = [1, 10, 100]\n",
    "        #parameters[0]['batch_size'].append(X_train.shape[2])\n",
    "\n",
    "        lstm_model = KerasClassifier(create_model, verbose=0)\n",
    "\n",
    "        lstm = GridSearchCV(lstm_model, parameters, scoring='accuracy', cv=cross_valid,\n",
    "                           verbose=verbose_level).fit(np.append(X_train, X_valid, axis=0),np.append(y_train, y_valid))\n",
    "\n",
    "        result = (lstm.best_score_, nr, lstm.best_params_)\n",
    "\n",
    "        if result[0] > paper_ori[0]:\n",
    "            paper_ori = result\n",
    "\n",
    "        K.clear_session()\n",
    "    \n",
    "    except ValueError as err:\n",
    "        pass"
   ]
  },
  {
   "cell_type": "code",
   "execution_count": 11,
   "metadata": {},
   "outputs": [
    {
     "name": "stdout",
     "output_type": "stream",
     "text": [
      "(0.57692307692307687, 3, {'batch_size': 1, 'epochs': 300, 'n_classes': 18, 'num_units': 66, 'optimizer': 'Adam', 'shape': 66})\n"
     ]
    }
   ],
   "source": [
    "print(paper_ori, end='\\n')"
   ]
  },
  {
   "cell_type": "markdown",
   "metadata": {},
   "source": [
    "### EMG"
   ]
  },
  {
   "cell_type": "code",
   "execution_count": 12,
   "metadata": {},
   "outputs": [
    {
     "name": "stdout",
     "output_type": "stream",
     "text": [
      "1\n",
      "Fitting 1 folds for each of 9 candidates, totalling 9 fits\n",
      "[CV] batch_size=1, epochs=10, n_classes=18, num_units=32, optimizer=Adam, shape=32 \n",
      "[CV]  batch_size=1, epochs=10, n_classes=18, num_units=32, optimizer=Adam, shape=32, score=0.12179487179487179, total=  13.3s\n",
      "[CV] batch_size=1, epochs=100, n_classes=18, num_units=32, optimizer=Adam, shape=32 \n"
     ]
    },
    {
     "name": "stderr",
     "output_type": "stream",
     "text": [
      "[Parallel(n_jobs=1)]: Done   1 out of   1 | elapsed:   13.6s remaining:    0.0s\n"
     ]
    },
    {
     "name": "stdout",
     "output_type": "stream",
     "text": [
      "[CV]  batch_size=1, epochs=100, n_classes=18, num_units=32, optimizer=Adam, shape=32, score=0.08333333333333333, total= 1.9min\n",
      "[CV] batch_size=1, epochs=300, n_classes=18, num_units=32, optimizer=Adam, shape=32 \n"
     ]
    },
    {
     "name": "stderr",
     "output_type": "stream",
     "text": [
      "[Parallel(n_jobs=1)]: Done   2 out of   2 | elapsed:  2.1min remaining:    0.0s\n"
     ]
    },
    {
     "name": "stdout",
     "output_type": "stream",
     "text": [
      "[CV]  batch_size=1, epochs=300, n_classes=18, num_units=32, optimizer=Adam, shape=32, score=0.15384615384615385, total= 5.6min\n",
      "[CV] batch_size=10, epochs=10, n_classes=18, num_units=32, optimizer=Adam, shape=32 \n",
      "[CV]  batch_size=10, epochs=10, n_classes=18, num_units=32, optimizer=Adam, shape=32, score=0.0641025641025641, total=   3.5s\n",
      "[CV] batch_size=10, epochs=100, n_classes=18, num_units=32, optimizer=Adam, shape=32 \n",
      "[CV]  batch_size=10, epochs=100, n_classes=18, num_units=32, optimizer=Adam, shape=32, score=0.11538461538461539, total=  15.9s\n",
      "[CV] batch_size=10, epochs=300, n_classes=18, num_units=32, optimizer=Adam, shape=32 \n",
      "[CV]  batch_size=10, epochs=300, n_classes=18, num_units=32, optimizer=Adam, shape=32, score=0.1282051282051282, total=  37.2s\n",
      "[CV] batch_size=100, epochs=10, n_classes=18, num_units=32, optimizer=Adam, shape=32 \n",
      "[CV]  batch_size=100, epochs=10, n_classes=18, num_units=32, optimizer=Adam, shape=32, score=0.03205128205128205, total=   2.6s\n",
      "[CV] batch_size=100, epochs=100, n_classes=18, num_units=32, optimizer=Adam, shape=32 \n",
      "[CV]  batch_size=100, epochs=100, n_classes=18, num_units=32, optimizer=Adam, shape=32, score=0.08974358974358974, total=   4.0s\n",
      "[CV] batch_size=100, epochs=300, n_classes=18, num_units=32, optimizer=Adam, shape=32 \n",
      "[CV]  batch_size=100, epochs=300, n_classes=18, num_units=32, optimizer=Adam, shape=32, score=0.10256410256410256, total=   6.9s\n"
     ]
    },
    {
     "name": "stderr",
     "output_type": "stream",
     "text": [
      "[Parallel(n_jobs=1)]: Done   9 out of   9 | elapsed:  8.9min finished\n"
     ]
    },
    {
     "name": "stdout",
     "output_type": "stream",
     "text": [
      "2\n",
      "Fitting 1 folds for each of 9 candidates, totalling 9 fits\n",
      "[CV] batch_size=1, epochs=10, n_classes=18, num_units=64, optimizer=Adam, shape=64 \n",
      "[CV]  batch_size=1, epochs=10, n_classes=18, num_units=64, optimizer=Adam, shape=64, score=0.10256410256410256, total=  17.7s\n",
      "[CV] batch_size=1, epochs=100, n_classes=18, num_units=64, optimizer=Adam, shape=64 \n"
     ]
    },
    {
     "name": "stderr",
     "output_type": "stream",
     "text": [
      "[Parallel(n_jobs=1)]: Done   1 out of   1 | elapsed:   18.0s remaining:    0.0s\n"
     ]
    },
    {
     "name": "stdout",
     "output_type": "stream",
     "text": [
      "[CV]  batch_size=1, epochs=100, n_classes=18, num_units=64, optimizer=Adam, shape=64, score=0.1987179487179487, total= 2.4min\n",
      "[CV] batch_size=1, epochs=300, n_classes=18, num_units=64, optimizer=Adam, shape=64 \n"
     ]
    },
    {
     "name": "stderr",
     "output_type": "stream",
     "text": [
      "[Parallel(n_jobs=1)]: Done   2 out of   2 | elapsed:  2.7min remaining:    0.0s\n"
     ]
    },
    {
     "name": "stdout",
     "output_type": "stream",
     "text": [
      "[CV]  batch_size=1, epochs=300, n_classes=18, num_units=64, optimizer=Adam, shape=64, score=0.23717948717948717, total= 6.9min\n",
      "[CV] batch_size=10, epochs=10, n_classes=18, num_units=64, optimizer=Adam, shape=64 \n",
      "[CV]  batch_size=10, epochs=10, n_classes=18, num_units=64, optimizer=Adam, shape=64, score=0.11538461538461539, total=   3.8s\n",
      "[CV] batch_size=10, epochs=100, n_classes=18, num_units=64, optimizer=Adam, shape=64 \n",
      "[CV]  batch_size=10, epochs=100, n_classes=18, num_units=64, optimizer=Adam, shape=64, score=0.1282051282051282, total=  16.9s\n",
      "[CV] batch_size=10, epochs=300, n_classes=18, num_units=64, optimizer=Adam, shape=64 \n",
      "[CV]  batch_size=10, epochs=300, n_classes=18, num_units=64, optimizer=Adam, shape=64, score=0.21153846153846154, total=  46.0s\n",
      "[CV] batch_size=100, epochs=10, n_classes=18, num_units=64, optimizer=Adam, shape=64 \n",
      "[CV]  batch_size=100, epochs=10, n_classes=18, num_units=64, optimizer=Adam, shape=64, score=0.04487179487179487, total=   3.9s\n",
      "[CV] batch_size=100, epochs=100, n_classes=18, num_units=64, optimizer=Adam, shape=64 \n",
      "[CV]  batch_size=100, epochs=100, n_classes=18, num_units=64, optimizer=Adam, shape=64, score=0.10256410256410256, total=   4.7s\n",
      "[CV] batch_size=100, epochs=300, n_classes=18, num_units=64, optimizer=Adam, shape=64 \n",
      "[CV]  batch_size=100, epochs=300, n_classes=18, num_units=64, optimizer=Adam, shape=64, score=0.11538461538461539, total=   9.3s\n"
     ]
    },
    {
     "name": "stderr",
     "output_type": "stream",
     "text": [
      "[Parallel(n_jobs=1)]: Done   9 out of   9 | elapsed: 11.1min finished\n"
     ]
    },
    {
     "name": "stdout",
     "output_type": "stream",
     "text": [
      "3\n",
      "Fitting 1 folds for each of 9 candidates, totalling 9 fits\n",
      "[CV] batch_size=1, epochs=10, n_classes=18, num_units=96, optimizer=Adam, shape=96 \n",
      "[CV]  batch_size=1, epochs=10, n_classes=18, num_units=96, optimizer=Adam, shape=96, score=0.15384615384615385, total=  19.8s\n",
      "[CV] batch_size=1, epochs=100, n_classes=18, num_units=96, optimizer=Adam, shape=96 \n"
     ]
    },
    {
     "name": "stderr",
     "output_type": "stream",
     "text": [
      "[Parallel(n_jobs=1)]: Done   1 out of   1 | elapsed:   20.1s remaining:    0.0s\n"
     ]
    },
    {
     "name": "stdout",
     "output_type": "stream",
     "text": [
      "[CV]  batch_size=1, epochs=100, n_classes=18, num_units=96, optimizer=Adam, shape=96, score=0.30128205128205127, total= 3.1min\n",
      "[CV] batch_size=1, epochs=300, n_classes=18, num_units=96, optimizer=Adam, shape=96 \n"
     ]
    },
    {
     "name": "stderr",
     "output_type": "stream",
     "text": [
      "[Parallel(n_jobs=1)]: Done   2 out of   2 | elapsed:  3.4min remaining:    0.0s\n"
     ]
    },
    {
     "name": "stdout",
     "output_type": "stream",
     "text": [
      "[CV]  batch_size=1, epochs=300, n_classes=18, num_units=96, optimizer=Adam, shape=96, score=0.3782051282051282, total=10.0min\n",
      "[CV] batch_size=10, epochs=10, n_classes=18, num_units=96, optimizer=Adam, shape=96 \n",
      "[CV]  batch_size=10, epochs=10, n_classes=18, num_units=96, optimizer=Adam, shape=96, score=0.09615384615384616, total=   4.2s\n",
      "[CV] batch_size=10, epochs=100, n_classes=18, num_units=96, optimizer=Adam, shape=96 \n",
      "[CV]  batch_size=10, epochs=100, n_classes=18, num_units=96, optimizer=Adam, shape=96, score=0.19230769230769232, total=  21.7s\n",
      "[CV] batch_size=10, epochs=300, n_classes=18, num_units=96, optimizer=Adam, shape=96 \n",
      "[CV]  batch_size=10, epochs=300, n_classes=18, num_units=96, optimizer=Adam, shape=96, score=0.32051282051282054, total= 1.1min\n",
      "[CV] batch_size=100, epochs=10, n_classes=18, num_units=96, optimizer=Adam, shape=96 \n",
      "[CV]  batch_size=100, epochs=10, n_classes=18, num_units=96, optimizer=Adam, shape=96, score=0.04487179487179487, total=   2.7s\n",
      "[CV] batch_size=100, epochs=100, n_classes=18, num_units=96, optimizer=Adam, shape=96 \n",
      "[CV]  batch_size=100, epochs=100, n_classes=18, num_units=96, optimizer=Adam, shape=96, score=0.11538461538461539, total=   5.6s\n",
      "[CV] batch_size=100, epochs=300, n_classes=18, num_units=96, optimizer=Adam, shape=96 \n",
      "[CV]  batch_size=100, epochs=300, n_classes=18, num_units=96, optimizer=Adam, shape=96, score=0.1858974358974359, total=  13.6s\n"
     ]
    },
    {
     "name": "stderr",
     "output_type": "stream",
     "text": [
      "[Parallel(n_jobs=1)]: Done   9 out of   9 | elapsed: 15.2min finished\n"
     ]
    },
    {
     "name": "stdout",
     "output_type": "stream",
     "text": [
      "4\n",
      "Fitting 1 folds for each of 9 candidates, totalling 9 fits\n",
      "[CV] batch_size=1, epochs=10, n_classes=18, num_units=128, optimizer=Adam, shape=128 \n",
      "[CV]  batch_size=1, epochs=10, n_classes=18, num_units=128, optimizer=Adam, shape=128, score=0.10897435897435898, total=  24.9s\n",
      "[CV] batch_size=1, epochs=100, n_classes=18, num_units=128, optimizer=Adam, shape=128 \n"
     ]
    },
    {
     "name": "stderr",
     "output_type": "stream",
     "text": [
      "[Parallel(n_jobs=1)]: Done   1 out of   1 | elapsed:   25.2s remaining:    0.0s\n"
     ]
    },
    {
     "name": "stdout",
     "output_type": "stream",
     "text": [
      "[CV]  batch_size=1, epochs=100, n_classes=18, num_units=128, optimizer=Adam, shape=128, score=0.3525641025641026, total= 3.7min\n",
      "[CV] batch_size=1, epochs=300, n_classes=18, num_units=128, optimizer=Adam, shape=128 \n"
     ]
    },
    {
     "name": "stderr",
     "output_type": "stream",
     "text": [
      "[Parallel(n_jobs=1)]: Done   2 out of   2 | elapsed:  4.2min remaining:    0.0s\n"
     ]
    },
    {
     "name": "stdout",
     "output_type": "stream",
     "text": [
      "[CV]  batch_size=1, epochs=300, n_classes=18, num_units=128, optimizer=Adam, shape=128, score=0.4423076923076923, total=11.3min\n",
      "[CV] batch_size=10, epochs=10, n_classes=18, num_units=128, optimizer=Adam, shape=128 \n",
      "[CV]  batch_size=10, epochs=10, n_classes=18, num_units=128, optimizer=Adam, shape=128, score=0.08333333333333333, total=   5.2s\n",
      "[CV] batch_size=10, epochs=100, n_classes=18, num_units=128, optimizer=Adam, shape=128 \n",
      "[CV]  batch_size=10, epochs=100, n_classes=18, num_units=128, optimizer=Adam, shape=128, score=0.22435897435897437, total=  31.0s\n",
      "[CV] batch_size=10, epochs=300, n_classes=18, num_units=128, optimizer=Adam, shape=128 \n",
      "[CV]  batch_size=10, epochs=300, n_classes=18, num_units=128, optimizer=Adam, shape=128, score=0.358974358974359, total= 1.3min\n",
      "[CV] batch_size=100, epochs=10, n_classes=18, num_units=128, optimizer=Adam, shape=128 \n",
      "[CV]  batch_size=100, epochs=10, n_classes=18, num_units=128, optimizer=Adam, shape=128, score=0.07051282051282051, total=   2.8s\n",
      "[CV] batch_size=100, epochs=100, n_classes=18, num_units=128, optimizer=Adam, shape=128 \n",
      "[CV]  batch_size=100, epochs=100, n_classes=18, num_units=128, optimizer=Adam, shape=128, score=0.15384615384615385, total=   6.6s\n",
      "[CV] batch_size=100, epochs=300, n_classes=18, num_units=128, optimizer=Adam, shape=128 \n",
      "[CV]  batch_size=100, epochs=300, n_classes=18, num_units=128, optimizer=Adam, shape=128, score=0.23076923076923078, total=  15.3s\n"
     ]
    },
    {
     "name": "stderr",
     "output_type": "stream",
     "text": [
      "[Parallel(n_jobs=1)]: Done   9 out of   9 | elapsed: 17.8min finished\n"
     ]
    },
    {
     "name": "stdout",
     "output_type": "stream",
     "text": [
      "5\n",
      "Fitting 1 folds for each of 9 candidates, totalling 9 fits\n",
      "[CV] batch_size=1, epochs=10, n_classes=18, num_units=160, optimizer=Adam, shape=160 \n",
      "[CV]  batch_size=1, epochs=10, n_classes=18, num_units=160, optimizer=Adam, shape=160, score=0.1346153846153846, total=  33.5s\n",
      "[CV] batch_size=1, epochs=100, n_classes=18, num_units=160, optimizer=Adam, shape=160 \n"
     ]
    },
    {
     "name": "stderr",
     "output_type": "stream",
     "text": [
      "[Parallel(n_jobs=1)]: Done   1 out of   1 | elapsed:   33.9s remaining:    0.0s\n"
     ]
    },
    {
     "name": "stdout",
     "output_type": "stream",
     "text": [
      "[CV]  batch_size=1, epochs=100, n_classes=18, num_units=160, optimizer=Adam, shape=160, score=0.3974358974358974, total= 4.9min\n",
      "[CV] batch_size=1, epochs=300, n_classes=18, num_units=160, optimizer=Adam, shape=160 \n"
     ]
    },
    {
     "name": "stderr",
     "output_type": "stream",
     "text": [
      "[Parallel(n_jobs=1)]: Done   2 out of   2 | elapsed:  5.5min remaining:    0.0s\n"
     ]
    },
    {
     "name": "stdout",
     "output_type": "stream",
     "text": [
      "[CV]  batch_size=1, epochs=300, n_classes=18, num_units=160, optimizer=Adam, shape=160, score=0.4358974358974359, total=15.2min\n",
      "[CV] batch_size=10, epochs=10, n_classes=18, num_units=160, optimizer=Adam, shape=160 \n",
      "[CV]  batch_size=10, epochs=10, n_classes=18, num_units=160, optimizer=Adam, shape=160, score=0.07051282051282051, total=   5.4s\n",
      "[CV] batch_size=10, epochs=100, n_classes=18, num_units=160, optimizer=Adam, shape=160 \n",
      "[CV]  batch_size=10, epochs=100, n_classes=18, num_units=160, optimizer=Adam, shape=160, score=0.23717948717948717, total=  33.2s\n",
      "[CV] batch_size=10, epochs=300, n_classes=18, num_units=160, optimizer=Adam, shape=160 \n",
      "[CV]  batch_size=10, epochs=300, n_classes=18, num_units=160, optimizer=Adam, shape=160, score=0.358974358974359, total= 1.6min\n",
      "[CV] batch_size=100, epochs=10, n_classes=18, num_units=160, optimizer=Adam, shape=160 \n",
      "[CV]  batch_size=100, epochs=10, n_classes=18, num_units=160, optimizer=Adam, shape=160, score=0.04487179487179487, total=   4.4s\n",
      "[CV] batch_size=100, epochs=100, n_classes=18, num_units=160, optimizer=Adam, shape=160 \n",
      "[CV]  batch_size=100, epochs=100, n_classes=18, num_units=160, optimizer=Adam, shape=160, score=0.16666666666666666, total=   8.1s\n",
      "[CV] batch_size=100, epochs=300, n_classes=18, num_units=160, optimizer=Adam, shape=160 \n",
      "[CV]  batch_size=100, epochs=300, n_classes=18, num_units=160, optimizer=Adam, shape=160, score=0.26282051282051283, total=  19.7s\n"
     ]
    },
    {
     "name": "stderr",
     "output_type": "stream",
     "text": [
      "[Parallel(n_jobs=1)]: Done   9 out of   9 | elapsed: 23.5min finished\n"
     ]
    },
    {
     "name": "stdout",
     "output_type": "stream",
     "text": [
      "6\n",
      "Fitting 1 folds for each of 9 candidates, totalling 9 fits\n",
      "[CV] batch_size=1, epochs=10, n_classes=18, num_units=192, optimizer=Adam, shape=192 \n",
      "[CV]  batch_size=1, epochs=10, n_classes=18, num_units=192, optimizer=Adam, shape=192, score=0.11538461538461539, total=  37.0s\n",
      "[CV] batch_size=1, epochs=100, n_classes=18, num_units=192, optimizer=Adam, shape=192 \n"
     ]
    },
    {
     "name": "stderr",
     "output_type": "stream",
     "text": [
      "[Parallel(n_jobs=1)]: Done   1 out of   1 | elapsed:   37.4s remaining:    0.0s\n"
     ]
    },
    {
     "name": "stdout",
     "output_type": "stream",
     "text": [
      "[CV]  batch_size=1, epochs=100, n_classes=18, num_units=192, optimizer=Adam, shape=192, score=0.38461538461538464, total= 6.0min\n",
      "[CV] batch_size=1, epochs=300, n_classes=18, num_units=192, optimizer=Adam, shape=192 \n"
     ]
    },
    {
     "name": "stderr",
     "output_type": "stream",
     "text": [
      "[Parallel(n_jobs=1)]: Done   2 out of   2 | elapsed:  6.6min remaining:    0.0s\n"
     ]
    },
    {
     "name": "stdout",
     "output_type": "stream",
     "text": [
      "[CV]  batch_size=1, epochs=300, n_classes=18, num_units=192, optimizer=Adam, shape=192, score=0.41025641025641024, total=18.6min\n",
      "[CV] batch_size=10, epochs=10, n_classes=18, num_units=192, optimizer=Adam, shape=192 \n",
      "[CV]  batch_size=10, epochs=10, n_classes=18, num_units=192, optimizer=Adam, shape=192, score=0.1282051282051282, total=   6.3s\n",
      "[CV] batch_size=10, epochs=100, n_classes=18, num_units=192, optimizer=Adam, shape=192 \n",
      "[CV]  batch_size=10, epochs=100, n_classes=18, num_units=192, optimizer=Adam, shape=192, score=0.2948717948717949, total=  42.9s\n",
      "[CV] batch_size=10, epochs=300, n_classes=18, num_units=192, optimizer=Adam, shape=192 \n",
      "[CV]  batch_size=10, epochs=300, n_classes=18, num_units=192, optimizer=Adam, shape=192, score=0.33974358974358976, total= 2.0min\n",
      "[CV] batch_size=100, epochs=10, n_classes=18, num_units=192, optimizer=Adam, shape=192 \n",
      "[CV]  batch_size=100, epochs=10, n_classes=18, num_units=192, optimizer=Adam, shape=192, score=0.02564102564102564, total=   3.2s\n",
      "[CV] batch_size=100, epochs=100, n_classes=18, num_units=192, optimizer=Adam, shape=192 \n",
      "[CV]  batch_size=100, epochs=100, n_classes=18, num_units=192, optimizer=Adam, shape=192, score=0.16025641025641027, total=  10.9s\n",
      "[CV] batch_size=100, epochs=300, n_classes=18, num_units=192, optimizer=Adam, shape=192 \n",
      "[CV]  batch_size=100, epochs=300, n_classes=18, num_units=192, optimizer=Adam, shape=192, score=0.3076923076923077, total=  24.3s\n"
     ]
    },
    {
     "name": "stderr",
     "output_type": "stream",
     "text": [
      "[Parallel(n_jobs=1)]: Done   9 out of   9 | elapsed: 28.7min finished\n"
     ]
    },
    {
     "name": "stdout",
     "output_type": "stream",
     "text": [
      "7\n",
      "Fitting 1 folds for each of 9 candidates, totalling 9 fits\n",
      "[CV] batch_size=1, epochs=10, n_classes=18, num_units=224, optimizer=Adam, shape=224 \n",
      "[CV]  batch_size=1, epochs=10, n_classes=18, num_units=224, optimizer=Adam, shape=224, score=0.12179487179487179, total=  47.7s\n",
      "[CV] batch_size=1, epochs=100, n_classes=18, num_units=224, optimizer=Adam, shape=224 \n"
     ]
    },
    {
     "name": "stderr",
     "output_type": "stream",
     "text": [
      "[Parallel(n_jobs=1)]: Done   1 out of   1 | elapsed:   48.3s remaining:    0.0s\n"
     ]
    },
    {
     "name": "stdout",
     "output_type": "stream",
     "text": [
      "[CV]  batch_size=1, epochs=100, n_classes=18, num_units=224, optimizer=Adam, shape=224, score=0.42948717948717946, total= 7.7min\n",
      "[CV] batch_size=1, epochs=300, n_classes=18, num_units=224, optimizer=Adam, shape=224 \n"
     ]
    },
    {
     "name": "stderr",
     "output_type": "stream",
     "text": [
      "[Parallel(n_jobs=1)]: Done   2 out of   2 | elapsed:  8.5min remaining:    0.0s\n"
     ]
    },
    {
     "name": "stdout",
     "output_type": "stream",
     "text": [
      "[CV]  batch_size=1, epochs=300, n_classes=18, num_units=224, optimizer=Adam, shape=224, score=0.40384615384615385, total=23.5min\n",
      "[CV] batch_size=10, epochs=10, n_classes=18, num_units=224, optimizer=Adam, shape=224 \n",
      "[CV]  batch_size=10, epochs=10, n_classes=18, num_units=224, optimizer=Adam, shape=224, score=0.12179487179487179, total=   6.8s\n",
      "[CV] batch_size=10, epochs=100, n_classes=18, num_units=224, optimizer=Adam, shape=224 \n",
      "[CV]  batch_size=10, epochs=100, n_classes=18, num_units=224, optimizer=Adam, shape=224, score=0.3269230769230769, total=  52.2s\n",
      "[CV] batch_size=10, epochs=300, n_classes=18, num_units=224, optimizer=Adam, shape=224 \n",
      "[CV]  batch_size=10, epochs=300, n_classes=18, num_units=224, optimizer=Adam, shape=224, score=0.40384615384615385, total= 2.3min\n",
      "[CV] batch_size=100, epochs=10, n_classes=18, num_units=224, optimizer=Adam, shape=224 \n",
      "[CV]  batch_size=100, epochs=10, n_classes=18, num_units=224, optimizer=Adam, shape=224, score=0.05128205128205128, total=   3.2s\n",
      "[CV] batch_size=100, epochs=100, n_classes=18, num_units=224, optimizer=Adam, shape=224 \n",
      "[CV]  batch_size=100, epochs=100, n_classes=18, num_units=224, optimizer=Adam, shape=224, score=0.1794871794871795, total=  10.6s\n",
      "[CV] batch_size=100, epochs=300, n_classes=18, num_units=224, optimizer=Adam, shape=224 \n",
      "[CV]  batch_size=100, epochs=300, n_classes=18, num_units=224, optimizer=Adam, shape=224, score=0.3269230769230769, total=  28.6s\n"
     ]
    },
    {
     "name": "stderr",
     "output_type": "stream",
     "text": [
      "[Parallel(n_jobs=1)]: Done   9 out of   9 | elapsed: 36.0min finished\n"
     ]
    },
    {
     "name": "stdout",
     "output_type": "stream",
     "text": [
      "8\n",
      "Fitting 1 folds for each of 9 candidates, totalling 9 fits\n",
      "[CV] batch_size=1, epochs=10, n_classes=18, num_units=256, optimizer=Adam, shape=256 \n",
      "[CV]  batch_size=1, epochs=10, n_classes=18, num_units=256, optimizer=Adam, shape=256, score=0.16025641025641027, total= 1.3min\n",
      "[CV] batch_size=1, epochs=100, n_classes=18, num_units=256, optimizer=Adam, shape=256 \n"
     ]
    },
    {
     "name": "stderr",
     "output_type": "stream",
     "text": [
      "[Parallel(n_jobs=1)]: Done   1 out of   1 | elapsed:  1.3min remaining:    0.0s\n"
     ]
    },
    {
     "name": "stdout",
     "output_type": "stream",
     "text": [
      "[CV]  batch_size=1, epochs=100, n_classes=18, num_units=256, optimizer=Adam, shape=256, score=0.3525641025641026, total=12.1min\n",
      "[CV] batch_size=1, epochs=300, n_classes=18, num_units=256, optimizer=Adam, shape=256 \n"
     ]
    },
    {
     "name": "stderr",
     "output_type": "stream",
     "text": [
      "[Parallel(n_jobs=1)]: Done   2 out of   2 | elapsed: 13.4min remaining:    0.0s\n"
     ]
    },
    {
     "name": "stdout",
     "output_type": "stream",
     "text": [
      "[CV]  batch_size=1, epochs=300, n_classes=18, num_units=256, optimizer=Adam, shape=256, score=0.36538461538461536, total=36.0min\n",
      "[CV] batch_size=10, epochs=10, n_classes=18, num_units=256, optimizer=Adam, shape=256 \n",
      "[CV]  batch_size=10, epochs=10, n_classes=18, num_units=256, optimizer=Adam, shape=256, score=0.10897435897435898, total=  10.2s\n",
      "[CV] batch_size=10, epochs=100, n_classes=18, num_units=256, optimizer=Adam, shape=256 \n",
      "[CV]  batch_size=10, epochs=100, n_classes=18, num_units=256, optimizer=Adam, shape=256, score=0.33974358974358976, total= 1.3min\n",
      "[CV] batch_size=10, epochs=300, n_classes=18, num_units=256, optimizer=Adam, shape=256 \n",
      "[CV]  batch_size=10, epochs=300, n_classes=18, num_units=256, optimizer=Adam, shape=256, score=0.33974358974358976, total= 4.0min\n",
      "[CV] batch_size=100, epochs=10, n_classes=18, num_units=256, optimizer=Adam, shape=256 \n",
      "[CV]  batch_size=100, epochs=10, n_classes=18, num_units=256, optimizer=Adam, shape=256, score=0.09615384615384616, total=   3.6s\n",
      "[CV] batch_size=100, epochs=100, n_classes=18, num_units=256, optimizer=Adam, shape=256 \n",
      "[CV]  batch_size=100, epochs=100, n_classes=18, num_units=256, optimizer=Adam, shape=256, score=0.20512820512820512, total=  14.0s\n",
      "[CV] batch_size=100, epochs=300, n_classes=18, num_units=256, optimizer=Adam, shape=256 \n",
      "[CV]  batch_size=100, epochs=300, n_classes=18, num_units=256, optimizer=Adam, shape=256, score=0.2948717948717949, total=  37.3s\n"
     ]
    },
    {
     "name": "stderr",
     "output_type": "stream",
     "text": [
      "[Parallel(n_jobs=1)]: Done   9 out of   9 | elapsed: 55.8min finished\n"
     ]
    },
    {
     "name": "stdout",
     "output_type": "stream",
     "text": [
      "9\n",
      "Fitting 1 folds for each of 9 candidates, totalling 9 fits\n",
      "[CV] batch_size=1, epochs=10, n_classes=18, num_units=288, optimizer=Adam, shape=288 \n",
      "[CV]  batch_size=1, epochs=10, n_classes=18, num_units=288, optimizer=Adam, shape=288, score=0.19230769230769232, total= 1.6min\n",
      "[CV] batch_size=1, epochs=100, n_classes=18, num_units=288, optimizer=Adam, shape=288 \n"
     ]
    },
    {
     "name": "stderr",
     "output_type": "stream",
     "text": [
      "[Parallel(n_jobs=1)]: Done   1 out of   1 | elapsed:  1.6min remaining:    0.0s\n"
     ]
    },
    {
     "name": "stdout",
     "output_type": "stream",
     "text": [
      "[CV]  batch_size=1, epochs=100, n_classes=18, num_units=288, optimizer=Adam, shape=288, score=0.3717948717948718, total=15.5min\n",
      "[CV] batch_size=1, epochs=300, n_classes=18, num_units=288, optimizer=Adam, shape=288 \n"
     ]
    },
    {
     "name": "stderr",
     "output_type": "stream",
     "text": [
      "[Parallel(n_jobs=1)]: Done   2 out of   2 | elapsed: 17.0min remaining:    0.0s\n"
     ]
    },
    {
     "name": "stdout",
     "output_type": "stream",
     "text": [
      "[CV]  batch_size=1, epochs=300, n_classes=18, num_units=288, optimizer=Adam, shape=288, score=0.3782051282051282, total=46.4min\n",
      "[CV] batch_size=10, epochs=10, n_classes=18, num_units=288, optimizer=Adam, shape=288 \n",
      "[CV]  batch_size=10, epochs=10, n_classes=18, num_units=288, optimizer=Adam, shape=288, score=0.10256410256410256, total=  12.2s\n",
      "[CV] batch_size=10, epochs=100, n_classes=18, num_units=288, optimizer=Adam, shape=288 \n",
      "[CV]  batch_size=10, epochs=100, n_classes=18, num_units=288, optimizer=Adam, shape=288, score=0.36538461538461536, total= 1.7min\n",
      "[CV] batch_size=10, epochs=300, n_classes=18, num_units=288, optimizer=Adam, shape=288 \n",
      "[CV]  batch_size=10, epochs=300, n_classes=18, num_units=288, optimizer=Adam, shape=288, score=0.4166666666666667, total= 5.0min\n",
      "[CV] batch_size=100, epochs=10, n_classes=18, num_units=288, optimizer=Adam, shape=288 \n",
      "[CV]  batch_size=100, epochs=10, n_classes=18, num_units=288, optimizer=Adam, shape=288, score=0.04487179487179487, total=   3.9s\n",
      "[CV] batch_size=100, epochs=100, n_classes=18, num_units=288, optimizer=Adam, shape=288 \n",
      "[CV]  batch_size=100, epochs=100, n_classes=18, num_units=288, optimizer=Adam, shape=288, score=0.2564102564102564, total=  18.4s\n",
      "[CV] batch_size=100, epochs=300, n_classes=18, num_units=288, optimizer=Adam, shape=288 \n",
      "[CV]  batch_size=100, epochs=300, n_classes=18, num_units=288, optimizer=Adam, shape=288, score=0.38461538461538464, total=  44.7s\n"
     ]
    },
    {
     "name": "stderr",
     "output_type": "stream",
     "text": [
      "[Parallel(n_jobs=1)]: Done   9 out of   9 | elapsed: 71.5min finished\n"
     ]
    },
    {
     "name": "stdout",
     "output_type": "stream",
     "text": [
      "10\n",
      "Fitting 1 folds for each of 9 candidates, totalling 9 fits\n",
      "[CV] batch_size=1, epochs=10, n_classes=18, num_units=320, optimizer=Adam, shape=320 \n",
      "[CV]  batch_size=1, epochs=10, n_classes=18, num_units=320, optimizer=Adam, shape=320, score=0.16025641025641027, total= 1.9min\n",
      "[CV] batch_size=1, epochs=100, n_classes=18, num_units=320, optimizer=Adam, shape=320 \n"
     ]
    },
    {
     "name": "stderr",
     "output_type": "stream",
     "text": [
      "[Parallel(n_jobs=1)]: Done   1 out of   1 | elapsed:  2.0min remaining:    0.0s\n"
     ]
    },
    {
     "name": "stdout",
     "output_type": "stream",
     "text": [
      "[CV]  batch_size=1, epochs=100, n_classes=18, num_units=320, optimizer=Adam, shape=320, score=0.46153846153846156, total=19.1min\n",
      "[CV] batch_size=1, epochs=300, n_classes=18, num_units=320, optimizer=Adam, shape=320 \n"
     ]
    },
    {
     "name": "stderr",
     "output_type": "stream",
     "text": [
      "[Parallel(n_jobs=1)]: Done   2 out of   2 | elapsed: 21.1min remaining:    0.0s\n"
     ]
    },
    {
     "name": "stdout",
     "output_type": "stream",
     "text": [
      "[CV]  batch_size=1, epochs=300, n_classes=18, num_units=320, optimizer=Adam, shape=320, score=0.4551282051282051, total=57.3min\n",
      "[CV] batch_size=10, epochs=10, n_classes=18, num_units=320, optimizer=Adam, shape=320 \n",
      "[CV]  batch_size=10, epochs=10, n_classes=18, num_units=320, optimizer=Adam, shape=320, score=0.15384615384615385, total=  14.5s\n",
      "[CV] batch_size=10, epochs=100, n_classes=18, num_units=320, optimizer=Adam, shape=320 \n",
      "[CV]  batch_size=10, epochs=100, n_classes=18, num_units=320, optimizer=Adam, shape=320, score=0.3782051282051282, total= 2.1min\n",
      "[CV] batch_size=10, epochs=300, n_classes=18, num_units=320, optimizer=Adam, shape=320 \n",
      "[CV]  batch_size=10, epochs=300, n_classes=18, num_units=320, optimizer=Adam, shape=320, score=0.40384615384615385, total= 6.1min\n",
      "[CV] batch_size=100, epochs=10, n_classes=18, num_units=320, optimizer=Adam, shape=320 \n",
      "[CV]  batch_size=100, epochs=10, n_classes=18, num_units=320, optimizer=Adam, shape=320, score=0.11538461538461539, total=   4.1s\n",
      "[CV] batch_size=100, epochs=100, n_classes=18, num_units=320, optimizer=Adam, shape=320 \n",
      "[CV]  batch_size=100, epochs=100, n_classes=18, num_units=320, optimizer=Adam, shape=320, score=0.2948717948717949, total=  19.6s\n",
      "[CV] batch_size=100, epochs=300, n_classes=18, num_units=320, optimizer=Adam, shape=320 \n",
      "[CV]  batch_size=100, epochs=300, n_classes=18, num_units=320, optimizer=Adam, shape=320, score=0.40384615384615385, total=  55.1s\n"
     ]
    },
    {
     "name": "stderr",
     "output_type": "stream",
     "text": [
      "[Parallel(n_jobs=1)]: Done   9 out of   9 | elapsed: 88.2min finished\n"
     ]
    },
    {
     "name": "stdout",
     "output_type": "stream",
     "text": [
      "11\n",
      "Fitting 1 folds for each of 9 candidates, totalling 9 fits\n",
      "[CV] batch_size=1, epochs=10, n_classes=18, num_units=352, optimizer=Adam, shape=352 \n",
      "[CV]  batch_size=1, epochs=10, n_classes=18, num_units=352, optimizer=Adam, shape=352, score=0.24358974358974358, total= 2.4min\n",
      "[CV] batch_size=1, epochs=100, n_classes=18, num_units=352, optimizer=Adam, shape=352 \n"
     ]
    },
    {
     "name": "stderr",
     "output_type": "stream",
     "text": [
      "[Parallel(n_jobs=1)]: Done   1 out of   1 | elapsed:  2.4min remaining:    0.0s\n"
     ]
    },
    {
     "name": "stdout",
     "output_type": "stream",
     "text": [
      "[CV]  batch_size=1, epochs=100, n_classes=18, num_units=352, optimizer=Adam, shape=352, score=0.40384615384615385, total=23.4min\n",
      "[CV] batch_size=1, epochs=300, n_classes=18, num_units=352, optimizer=Adam, shape=352 \n"
     ]
    },
    {
     "name": "stderr",
     "output_type": "stream",
     "text": [
      "[Parallel(n_jobs=1)]: Done   2 out of   2 | elapsed: 25.9min remaining:    0.0s\n"
     ]
    },
    {
     "name": "stdout",
     "output_type": "stream",
     "text": [
      "[CV]  batch_size=1, epochs=300, n_classes=18, num_units=352, optimizer=Adam, shape=352, score=0.3717948717948718, total=72.6min\n",
      "[CV] batch_size=10, epochs=10, n_classes=18, num_units=352, optimizer=Adam, shape=352 \n",
      "[CV]  batch_size=10, epochs=10, n_classes=18, num_units=352, optimizer=Adam, shape=352, score=0.1858974358974359, total=  17.5s\n",
      "[CV] batch_size=10, epochs=100, n_classes=18, num_units=352, optimizer=Adam, shape=352 \n",
      "[CV]  batch_size=10, epochs=100, n_classes=18, num_units=352, optimizer=Adam, shape=352, score=0.3782051282051282, total= 2.6min\n",
      "[CV] batch_size=10, epochs=300, n_classes=18, num_units=352, optimizer=Adam, shape=352 \n",
      "[CV]  batch_size=10, epochs=300, n_classes=18, num_units=352, optimizer=Adam, shape=352, score=0.4166666666666667, total= 7.5min\n",
      "[CV] batch_size=100, epochs=10, n_classes=18, num_units=352, optimizer=Adam, shape=352 \n",
      "[CV]  batch_size=100, epochs=10, n_classes=18, num_units=352, optimizer=Adam, shape=352, score=0.10897435897435898, total=   4.6s\n",
      "[CV] batch_size=100, epochs=100, n_classes=18, num_units=352, optimizer=Adam, shape=352 \n",
      "[CV]  batch_size=100, epochs=100, n_classes=18, num_units=352, optimizer=Adam, shape=352, score=0.28205128205128205, total=  23.6s\n",
      "[CV] batch_size=100, epochs=300, n_classes=18, num_units=352, optimizer=Adam, shape=352 \n",
      "[CV]  batch_size=100, epochs=300, n_classes=18, num_units=352, optimizer=Adam, shape=352, score=0.358974358974359, total= 1.1min\n"
     ]
    },
    {
     "name": "stderr",
     "output_type": "stream",
     "text": [
      "[Parallel(n_jobs=1)]: Done   9 out of   9 | elapsed: 110.5min finished\n"
     ]
    },
    {
     "name": "stdout",
     "output_type": "stream",
     "text": [
      "12\n",
      "Fitting 1 folds for each of 9 candidates, totalling 9 fits\n",
      "[CV] batch_size=1, epochs=10, n_classes=18, num_units=384, optimizer=Adam, shape=384 \n",
      "[CV]  batch_size=1, epochs=10, n_classes=18, num_units=384, optimizer=Adam, shape=384, score=0.28846153846153844, total= 2.9min\n",
      "[CV] batch_size=1, epochs=100, n_classes=18, num_units=384, optimizer=Adam, shape=384 \n"
     ]
    },
    {
     "name": "stderr",
     "output_type": "stream",
     "text": [
      "[Parallel(n_jobs=1)]: Done   1 out of   1 | elapsed:  2.9min remaining:    0.0s\n"
     ]
    },
    {
     "name": "stdout",
     "output_type": "stream",
     "text": [
      "[CV]  batch_size=1, epochs=100, n_classes=18, num_units=384, optimizer=Adam, shape=384, score=0.358974358974359, total=28.5min\n",
      "[CV] batch_size=1, epochs=300, n_classes=18, num_units=384, optimizer=Adam, shape=384 \n"
     ]
    },
    {
     "name": "stderr",
     "output_type": "stream",
     "text": [
      "[Parallel(n_jobs=1)]: Done   2 out of   2 | elapsed: 31.4min remaining:    0.0s\n"
     ]
    },
    {
     "name": "stdout",
     "output_type": "stream",
     "text": [
      "[CV]  batch_size=1, epochs=300, n_classes=18, num_units=384, optimizer=Adam, shape=384, score=0.358974358974359, total=86.3min\n",
      "[CV] batch_size=10, epochs=10, n_classes=18, num_units=384, optimizer=Adam, shape=384 \n",
      "[CV]  batch_size=10, epochs=10, n_classes=18, num_units=384, optimizer=Adam, shape=384, score=0.19230769230769232, total=  22.3s\n",
      "[CV] batch_size=10, epochs=100, n_classes=18, num_units=384, optimizer=Adam, shape=384 \n",
      "[CV]  batch_size=10, epochs=100, n_classes=18, num_units=384, optimizer=Adam, shape=384, score=0.3333333333333333, total= 3.3min\n",
      "[CV] batch_size=10, epochs=300, n_classes=18, num_units=384, optimizer=Adam, shape=384 \n",
      "[CV]  batch_size=10, epochs=300, n_classes=18, num_units=384, optimizer=Adam, shape=384, score=0.34615384615384615, total= 9.5min\n",
      "[CV] batch_size=100, epochs=10, n_classes=18, num_units=384, optimizer=Adam, shape=384 \n",
      "[CV]  batch_size=100, epochs=10, n_classes=18, num_units=384, optimizer=Adam, shape=384, score=0.14102564102564102, total=   5.1s\n",
      "[CV] batch_size=100, epochs=100, n_classes=18, num_units=384, optimizer=Adam, shape=384 \n",
      "[CV]  batch_size=100, epochs=100, n_classes=18, num_units=384, optimizer=Adam, shape=384, score=0.28205128205128205, total=  31.1s\n",
      "[CV] batch_size=100, epochs=300, n_classes=18, num_units=384, optimizer=Adam, shape=384 \n",
      "[CV]  batch_size=100, epochs=300, n_classes=18, num_units=384, optimizer=Adam, shape=384, score=0.3525641025641026, total= 1.3min\n"
     ]
    },
    {
     "name": "stderr",
     "output_type": "stream",
     "text": [
      "[Parallel(n_jobs=1)]: Done   9 out of   9 | elapsed: 132.8min finished\n"
     ]
    }
   ],
   "source": [
    "for nr in frame_numbers:\n",
    "    print(nr)\n",
    "    try:\n",
    "        emg_train_input, emg_train_label = prepare_data(train, nr, 'emg', verbose=False)\n",
    "        emg_valid_input, emg_valid_label = prepare_data(valid, nr, 'emg', verbose=False)\n",
    "\n",
    "        encoder = LabelEncoder()\n",
    "\n",
    "        X_train = emg_train_input.reshape(emg_train_input.shape[0], 1, emg_train_input.shape[1])\n",
    "        y_train = encoder.fit_transform(emg_train_label)\n",
    "        X_valid = emg_valid_input.reshape(emg_valid_input.shape[0], 1, emg_valid_input.shape[1])\n",
    "        y_valid = encoder.fit_transform(emg_valid_label)\n",
    "\n",
    "        parameters[0]['n_classes'] = [len(encoder.classes_)]\n",
    "        parameters[0]['shape'] = [X_train.shape[2]]\n",
    "        parameters[0]['num_units'] = [X_train.shape[2]]\n",
    "\n",
    "        #parameters[0]['batch_size'] = [1, 10, 100]\n",
    "        #parameters[0]['batch_size'].append(X_train.shape[2])\n",
    "\n",
    "        lstm_model = KerasClassifier(create_model, verbose=0)\n",
    "\n",
    "        lstm = GridSearchCV(lstm_model, parameters, scoring='accuracy', cv=cross_valid,\n",
    "                           verbose=verbose_level).fit(np.append(X_train, X_valid, axis=0),np.append(y_train, y_valid))\n",
    "\n",
    "        result = (lstm.best_score_, nr, lstm.best_params_)\n",
    "\n",
    "        if result[0] > paper_emg[0]:\n",
    "            paper_emg = result\n",
    "\n",
    "        K.clear_session()\n",
    "    \n",
    "    except ValueError as err:\n",
    "        pass"
   ]
  },
  {
   "cell_type": "code",
   "execution_count": 13,
   "metadata": {},
   "outputs": [
    {
     "name": "stdout",
     "output_type": "stream",
     "text": [
      "(0.46153846153846156, 10, {'batch_size': 1, 'epochs': 100, 'n_classes': 18, 'num_units': 320, 'optimizer': 'Adam', 'shape': 320})\n"
     ]
    }
   ],
   "source": [
    "print(paper_emg, end='\\n')"
   ]
  },
  {
   "cell_type": "markdown",
   "metadata": {},
   "source": [
    "## Parametertest - all"
   ]
  },
  {
   "cell_type": "code",
   "execution_count": 6,
   "metadata": {
    "collapsed": true
   },
   "outputs": [],
   "source": [
    "train, valid, test = load_data_for_classification('all')\n",
    "\n",
    "# lists will be filled with (accuracy, frame_number, params)\n",
    "all_acc = (0, 0)\n",
    "all_gyro = (0, 0)\n",
    "all_ori = (0, 0)\n",
    "all_emg = (0, 0)"
   ]
  },
  {
   "cell_type": "markdown",
   "metadata": {},
   "source": [
    "### Accelerometer"
   ]
  },
  {
   "cell_type": "code",
   "execution_count": 7,
   "metadata": {},
   "outputs": [
    {
     "name": "stdout",
     "output_type": "stream",
     "text": [
      "1\n",
      "Fitting 1 folds for each of 9 candidates, totalling 9 fits\n",
      "[CV] batch_size=1, epochs=10, n_classes=24, num_units=15, optimizer=Adam, shape=15 \n",
      "[CV]  batch_size=1, epochs=10, n_classes=24, num_units=15, optimizer=Adam, shape=15, score=0.125, total=  17.1s\n",
      "[CV] batch_size=1, epochs=100, n_classes=24, num_units=15, optimizer=Adam, shape=15 \n"
     ]
    },
    {
     "name": "stderr",
     "output_type": "stream",
     "text": [
      "[Parallel(n_jobs=1)]: Done   1 out of   1 | elapsed:   17.5s remaining:    0.0s\n"
     ]
    },
    {
     "name": "stdout",
     "output_type": "stream",
     "text": [
      "[CV]  batch_size=1, epochs=100, n_classes=24, num_units=15, optimizer=Adam, shape=15, score=0.27884615384615385, total= 2.4min\n",
      "[CV] batch_size=1, epochs=300, n_classes=24, num_units=15, optimizer=Adam, shape=15 \n"
     ]
    },
    {
     "name": "stderr",
     "output_type": "stream",
     "text": [
      "[Parallel(n_jobs=1)]: Done   2 out of   2 | elapsed:  2.7min remaining:    0.0s\n"
     ]
    },
    {
     "name": "stdout",
     "output_type": "stream",
     "text": [
      "[CV]  batch_size=1, epochs=300, n_classes=24, num_units=15, optimizer=Adam, shape=15, score=0.30288461538461536, total= 7.4min\n",
      "[CV] batch_size=10, epochs=10, n_classes=24, num_units=15, optimizer=Adam, shape=15 \n",
      "[CV]  batch_size=10, epochs=10, n_classes=24, num_units=15, optimizer=Adam, shape=15, score=0.1201923076923077, total=   3.9s\n",
      "[CV] batch_size=10, epochs=100, n_classes=24, num_units=15, optimizer=Adam, shape=15 \n",
      "[CV]  batch_size=10, epochs=100, n_classes=24, num_units=15, optimizer=Adam, shape=15, score=0.1778846153846154, total=  16.8s\n",
      "[CV] batch_size=10, epochs=300, n_classes=24, num_units=15, optimizer=Adam, shape=15 \n",
      "[CV]  batch_size=10, epochs=300, n_classes=24, num_units=15, optimizer=Adam, shape=15, score=0.28846153846153844, total=  46.1s\n",
      "[CV] batch_size=100, epochs=10, n_classes=24, num_units=15, optimizer=Adam, shape=15 \n",
      "[CV]  batch_size=100, epochs=10, n_classes=24, num_units=15, optimizer=Adam, shape=15, score=0.04807692307692308, total=   2.9s\n",
      "[CV] batch_size=100, epochs=100, n_classes=24, num_units=15, optimizer=Adam, shape=15 \n",
      "[CV]  batch_size=100, epochs=100, n_classes=24, num_units=15, optimizer=Adam, shape=15, score=0.1201923076923077, total=   4.2s\n",
      "[CV] batch_size=100, epochs=300, n_classes=24, num_units=15, optimizer=Adam, shape=15 \n",
      "[CV]  batch_size=100, epochs=300, n_classes=24, num_units=15, optimizer=Adam, shape=15, score=0.20192307692307693, total=   8.4s\n"
     ]
    },
    {
     "name": "stderr",
     "output_type": "stream",
     "text": [
      "[Parallel(n_jobs=1)]: Done   9 out of   9 | elapsed: 11.5min finished\n"
     ]
    },
    {
     "name": "stdout",
     "output_type": "stream",
     "text": [
      "2\n",
      "Fitting 1 folds for each of 9 candidates, totalling 9 fits\n",
      "[CV] batch_size=1, epochs=10, n_classes=24, num_units=30, optimizer=Adam, shape=30 \n",
      "[CV]  batch_size=1, epochs=10, n_classes=24, num_units=30, optimizer=Adam, shape=30, score=0.19806763285024154, total=  17.3s\n",
      "[CV] batch_size=1, epochs=100, n_classes=24, num_units=30, optimizer=Adam, shape=30 \n"
     ]
    },
    {
     "name": "stderr",
     "output_type": "stream",
     "text": [
      "[Parallel(n_jobs=1)]: Done   1 out of   1 | elapsed:   17.6s remaining:    0.0s\n"
     ]
    },
    {
     "name": "stdout",
     "output_type": "stream",
     "text": [
      "[CV]  batch_size=1, epochs=100, n_classes=24, num_units=30, optimizer=Adam, shape=30, score=0.3188405797101449, total= 2.5min\n",
      "[CV] batch_size=1, epochs=300, n_classes=24, num_units=30, optimizer=Adam, shape=30 \n"
     ]
    },
    {
     "name": "stderr",
     "output_type": "stream",
     "text": [
      "[Parallel(n_jobs=1)]: Done   2 out of   2 | elapsed:  2.8min remaining:    0.0s\n"
     ]
    },
    {
     "name": "stdout",
     "output_type": "stream",
     "text": [
      "[CV]  batch_size=1, epochs=300, n_classes=24, num_units=30, optimizer=Adam, shape=30, score=0.45410628019323673, total= 7.1min\n",
      "[CV] batch_size=10, epochs=10, n_classes=24, num_units=30, optimizer=Adam, shape=30 \n",
      "[CV]  batch_size=10, epochs=10, n_classes=24, num_units=30, optimizer=Adam, shape=30, score=0.17391304347826086, total=   4.3s\n",
      "[CV] batch_size=10, epochs=100, n_classes=24, num_units=30, optimizer=Adam, shape=30 \n",
      "[CV]  batch_size=10, epochs=100, n_classes=24, num_units=30, optimizer=Adam, shape=30, score=0.23671497584541062, total=  17.4s\n",
      "[CV] batch_size=10, epochs=300, n_classes=24, num_units=30, optimizer=Adam, shape=30 \n",
      "[CV]  batch_size=10, epochs=300, n_classes=24, num_units=30, optimizer=Adam, shape=30, score=0.3285024154589372, total=  48.0s\n",
      "[CV] batch_size=100, epochs=10, n_classes=24, num_units=30, optimizer=Adam, shape=30 \n",
      "[CV]  batch_size=100, epochs=10, n_classes=24, num_units=30, optimizer=Adam, shape=30, score=0.08695652173913043, total=   2.6s\n",
      "[CV] batch_size=100, epochs=100, n_classes=24, num_units=30, optimizer=Adam, shape=30 \n",
      "[CV]  batch_size=100, epochs=100, n_classes=24, num_units=30, optimizer=Adam, shape=30, score=0.2028985507246377, total=   4.3s\n",
      "[CV] batch_size=100, epochs=300, n_classes=24, num_units=30, optimizer=Adam, shape=30 \n",
      "[CV]  batch_size=100, epochs=300, n_classes=24, num_units=30, optimizer=Adam, shape=30, score=0.2560386473429952, total=   8.2s\n"
     ]
    },
    {
     "name": "stderr",
     "output_type": "stream",
     "text": [
      "[Parallel(n_jobs=1)]: Done   9 out of   9 | elapsed: 11.3min finished\n"
     ]
    },
    {
     "name": "stdout",
     "output_type": "stream",
     "text": [
      "3\n",
      "Fitting 1 folds for each of 9 candidates, totalling 9 fits\n",
      "[CV] batch_size=1, epochs=10, n_classes=24, num_units=45, optimizer=Adam, shape=45 \n",
      "[CV]  batch_size=1, epochs=10, n_classes=24, num_units=45, optimizer=Adam, shape=45, score=0.32367149758454106, total=  23.3s\n",
      "[CV] batch_size=1, epochs=100, n_classes=24, num_units=45, optimizer=Adam, shape=45 \n"
     ]
    },
    {
     "name": "stderr",
     "output_type": "stream",
     "text": [
      "[Parallel(n_jobs=1)]: Done   1 out of   1 | elapsed:   23.8s remaining:    0.0s\n"
     ]
    },
    {
     "name": "stdout",
     "output_type": "stream",
     "text": [
      "[CV]  batch_size=1, epochs=100, n_classes=24, num_units=45, optimizer=Adam, shape=45, score=0.4975845410628019, total= 3.3min\n",
      "[CV] batch_size=1, epochs=300, n_classes=24, num_units=45, optimizer=Adam, shape=45 \n"
     ]
    },
    {
     "name": "stderr",
     "output_type": "stream",
     "text": [
      "[Parallel(n_jobs=1)]: Done   2 out of   2 | elapsed:  3.7min remaining:    0.0s\n"
     ]
    },
    {
     "name": "stdout",
     "output_type": "stream",
     "text": [
      "[CV]  batch_size=1, epochs=300, n_classes=24, num_units=45, optimizer=Adam, shape=45, score=0.5845410628019324, total= 9.6min\n",
      "[CV] batch_size=10, epochs=10, n_classes=24, num_units=45, optimizer=Adam, shape=45 \n",
      "[CV]  batch_size=10, epochs=10, n_classes=24, num_units=45, optimizer=Adam, shape=45, score=0.178743961352657, total=   7.6s\n",
      "[CV] batch_size=10, epochs=100, n_classes=24, num_units=45, optimizer=Adam, shape=45 \n",
      "[CV]  batch_size=10, epochs=100, n_classes=24, num_units=45, optimizer=Adam, shape=45, score=0.4396135265700483, total=  23.6s\n",
      "[CV] batch_size=10, epochs=300, n_classes=24, num_units=45, optimizer=Adam, shape=45 \n",
      "[CV]  batch_size=10, epochs=300, n_classes=24, num_units=45, optimizer=Adam, shape=45, score=0.45893719806763283, total= 1.1min\n",
      "[CV] batch_size=100, epochs=10, n_classes=24, num_units=45, optimizer=Adam, shape=45 \n",
      "[CV]  batch_size=100, epochs=10, n_classes=24, num_units=45, optimizer=Adam, shape=45, score=0.11594202898550725, total=   5.1s\n",
      "[CV] batch_size=100, epochs=100, n_classes=24, num_units=45, optimizer=Adam, shape=45 \n",
      "[CV]  batch_size=100, epochs=100, n_classes=24, num_units=45, optimizer=Adam, shape=45, score=0.3188405797101449, total=   6.8s\n",
      "[CV] batch_size=100, epochs=300, n_classes=24, num_units=45, optimizer=Adam, shape=45 \n",
      "[CV]  batch_size=100, epochs=300, n_classes=24, num_units=45, optimizer=Adam, shape=45, score=0.42995169082125606, total=  12.6s\n"
     ]
    },
    {
     "name": "stderr",
     "output_type": "stream",
     "text": [
      "[Parallel(n_jobs=1)]: Done   9 out of   9 | elapsed: 15.3min finished\n"
     ]
    },
    {
     "name": "stdout",
     "output_type": "stream",
     "text": [
      "4\n",
      "Fitting 1 folds for each of 9 candidates, totalling 9 fits\n",
      "[CV] batch_size=1, epochs=10, n_classes=24, num_units=60, optimizer=Adam, shape=60 \n",
      "[CV]  batch_size=1, epochs=10, n_classes=24, num_units=60, optimizer=Adam, shape=60, score=0.3188405797101449, total=  24.3s\n",
      "[CV] batch_size=1, epochs=100, n_classes=24, num_units=60, optimizer=Adam, shape=60 \n"
     ]
    },
    {
     "name": "stderr",
     "output_type": "stream",
     "text": [
      "[Parallel(n_jobs=1)]: Done   1 out of   1 | elapsed:   24.7s remaining:    0.0s\n"
     ]
    },
    {
     "name": "stdout",
     "output_type": "stream",
     "text": [
      "[CV]  batch_size=1, epochs=100, n_classes=24, num_units=60, optimizer=Adam, shape=60, score=0.5217391304347826, total= 3.5min\n",
      "[CV] batch_size=1, epochs=300, n_classes=24, num_units=60, optimizer=Adam, shape=60 \n"
     ]
    },
    {
     "name": "stderr",
     "output_type": "stream",
     "text": [
      "[Parallel(n_jobs=1)]: Done   2 out of   2 | elapsed:  3.9min remaining:    0.0s\n"
     ]
    },
    {
     "name": "stdout",
     "output_type": "stream",
     "text": [
      "[CV]  batch_size=1, epochs=300, n_classes=24, num_units=60, optimizer=Adam, shape=60, score=0.642512077294686, total=10.5min\n",
      "[CV] batch_size=10, epochs=10, n_classes=24, num_units=60, optimizer=Adam, shape=60 \n",
      "[CV]  batch_size=10, epochs=10, n_classes=24, num_units=60, optimizer=Adam, shape=60, score=0.2560386473429952, total=   7.8s\n",
      "[CV] batch_size=10, epochs=100, n_classes=24, num_units=60, optimizer=Adam, shape=60 \n",
      "[CV]  batch_size=10, epochs=100, n_classes=24, num_units=60, optimizer=Adam, shape=60, score=0.463768115942029, total=  26.1s\n",
      "[CV] batch_size=10, epochs=300, n_classes=24, num_units=60, optimizer=Adam, shape=60 \n",
      "[CV]  batch_size=10, epochs=300, n_classes=24, num_units=60, optimizer=Adam, shape=60, score=0.5024154589371981, total= 1.2min\n",
      "[CV] batch_size=100, epochs=10, n_classes=24, num_units=60, optimizer=Adam, shape=60 \n",
      "[CV]  batch_size=100, epochs=10, n_classes=24, num_units=60, optimizer=Adam, shape=60, score=0.1497584541062802, total=   5.4s\n",
      "[CV] batch_size=100, epochs=100, n_classes=24, num_units=60, optimizer=Adam, shape=60 \n",
      "[CV]  batch_size=100, epochs=100, n_classes=24, num_units=60, optimizer=Adam, shape=60, score=0.3285024154589372, total=   7.5s\n",
      "[CV] batch_size=100, epochs=300, n_classes=24, num_units=60, optimizer=Adam, shape=60 \n",
      "[CV]  batch_size=100, epochs=300, n_classes=24, num_units=60, optimizer=Adam, shape=60, score=0.46859903381642515, total=  14.3s\n"
     ]
    },
    {
     "name": "stderr",
     "output_type": "stream",
     "text": [
      "[Parallel(n_jobs=1)]: Done   9 out of   9 | elapsed: 16.6min finished\n"
     ]
    },
    {
     "name": "stdout",
     "output_type": "stream",
     "text": [
      "5\n",
      "Fitting 1 folds for each of 9 candidates, totalling 9 fits\n",
      "[CV] batch_size=1, epochs=10, n_classes=24, num_units=75, optimizer=Adam, shape=75 \n",
      "[CV]  batch_size=1, epochs=10, n_classes=24, num_units=75, optimizer=Adam, shape=75, score=0.4057971014492754, total=  27.7s\n",
      "[CV] batch_size=1, epochs=100, n_classes=24, num_units=75, optimizer=Adam, shape=75 \n"
     ]
    },
    {
     "name": "stderr",
     "output_type": "stream",
     "text": [
      "[Parallel(n_jobs=1)]: Done   1 out of   1 | elapsed:   28.2s remaining:    0.0s\n"
     ]
    },
    {
     "name": "stdout",
     "output_type": "stream",
     "text": [
      "[CV]  batch_size=1, epochs=100, n_classes=24, num_units=75, optimizer=Adam, shape=75, score=0.5265700483091788, total= 4.1min\n",
      "[CV] batch_size=1, epochs=300, n_classes=24, num_units=75, optimizer=Adam, shape=75 \n"
     ]
    },
    {
     "name": "stderr",
     "output_type": "stream",
     "text": [
      "[Parallel(n_jobs=1)]: Done   2 out of   2 | elapsed:  4.5min remaining:    0.0s\n"
     ]
    },
    {
     "name": "stdout",
     "output_type": "stream",
     "text": [
      "[CV]  batch_size=1, epochs=300, n_classes=24, num_units=75, optimizer=Adam, shape=75, score=0.6280193236714976, total=12.0min\n",
      "[CV] batch_size=10, epochs=10, n_classes=24, num_units=75, optimizer=Adam, shape=75 \n",
      "[CV]  batch_size=10, epochs=10, n_classes=24, num_units=75, optimizer=Adam, shape=75, score=0.27053140096618356, total=   8.5s\n",
      "[CV] batch_size=10, epochs=100, n_classes=24, num_units=75, optimizer=Adam, shape=75 \n",
      "[CV]  batch_size=10, epochs=100, n_classes=24, num_units=75, optimizer=Adam, shape=75, score=0.4782608695652174, total=  28.7s\n",
      "[CV] batch_size=10, epochs=300, n_classes=24, num_units=75, optimizer=Adam, shape=75 \n",
      "[CV]  batch_size=10, epochs=300, n_classes=24, num_units=75, optimizer=Adam, shape=75, score=0.5603864734299517, total= 1.3min\n",
      "[CV] batch_size=100, epochs=10, n_classes=24, num_units=75, optimizer=Adam, shape=75 \n",
      "[CV]  batch_size=100, epochs=10, n_classes=24, num_units=75, optimizer=Adam, shape=75, score=0.18357487922705315, total=   5.5s\n",
      "[CV] batch_size=100, epochs=100, n_classes=24, num_units=75, optimizer=Adam, shape=75 \n",
      "[CV]  batch_size=100, epochs=100, n_classes=24, num_units=75, optimizer=Adam, shape=75, score=0.3864734299516908, total=   7.9s\n",
      "[CV] batch_size=100, epochs=300, n_classes=24, num_units=75, optimizer=Adam, shape=75 \n",
      "[CV]  batch_size=100, epochs=300, n_classes=24, num_units=75, optimizer=Adam, shape=75, score=0.4830917874396135, total=  15.5s\n"
     ]
    },
    {
     "name": "stderr",
     "output_type": "stream",
     "text": [
      "[Parallel(n_jobs=1)]: Done   9 out of   9 | elapsed: 18.9min finished\n"
     ]
    },
    {
     "name": "stdout",
     "output_type": "stream",
     "text": [
      "6\n",
      "Fitting 1 folds for each of 9 candidates, totalling 9 fits\n",
      "[CV] batch_size=1, epochs=10, n_classes=24, num_units=90, optimizer=Adam, shape=90 \n",
      "[CV]  batch_size=1, epochs=10, n_classes=24, num_units=90, optimizer=Adam, shape=90, score=0.38164251207729466, total=  32.3s\n",
      "[CV] batch_size=1, epochs=100, n_classes=24, num_units=90, optimizer=Adam, shape=90 \n"
     ]
    },
    {
     "name": "stderr",
     "output_type": "stream",
     "text": [
      "[Parallel(n_jobs=1)]: Done   1 out of   1 | elapsed:   32.8s remaining:    0.0s\n"
     ]
    },
    {
     "name": "stdout",
     "output_type": "stream",
     "text": [
      "[CV]  batch_size=1, epochs=100, n_classes=24, num_units=90, optimizer=Adam, shape=90, score=0.5845410628019324, total= 4.5min\n",
      "[CV] batch_size=1, epochs=300, n_classes=24, num_units=90, optimizer=Adam, shape=90 \n"
     ]
    },
    {
     "name": "stderr",
     "output_type": "stream",
     "text": [
      "[Parallel(n_jobs=1)]: Done   2 out of   2 | elapsed:  5.1min remaining:    0.0s\n"
     ]
    },
    {
     "name": "stdout",
     "output_type": "stream",
     "text": [
      "[CV]  batch_size=1, epochs=300, n_classes=24, num_units=90, optimizer=Adam, shape=90, score=0.5893719806763285, total=13.3min\n",
      "[CV] batch_size=10, epochs=10, n_classes=24, num_units=90, optimizer=Adam, shape=90 \n",
      "[CV]  batch_size=10, epochs=10, n_classes=24, num_units=90, optimizer=Adam, shape=90, score=0.3285024154589372, total=   6.7s\n",
      "[CV] batch_size=10, epochs=100, n_classes=24, num_units=90, optimizer=Adam, shape=90 \n",
      "[CV]  batch_size=10, epochs=100, n_classes=24, num_units=90, optimizer=Adam, shape=90, score=0.463768115942029, total=  32.0s\n",
      "[CV] batch_size=10, epochs=300, n_classes=24, num_units=90, optimizer=Adam, shape=90 \n",
      "[CV]  batch_size=10, epochs=300, n_classes=24, num_units=90, optimizer=Adam, shape=90, score=0.5700483091787439, total= 1.5min\n",
      "[CV] batch_size=100, epochs=10, n_classes=24, num_units=90, optimizer=Adam, shape=90 \n",
      "[CV]  batch_size=100, epochs=10, n_classes=24, num_units=90, optimizer=Adam, shape=90, score=0.18840579710144928, total=   4.7s\n",
      "[CV] batch_size=100, epochs=100, n_classes=24, num_units=90, optimizer=Adam, shape=90 \n",
      "[CV]  batch_size=100, epochs=100, n_classes=24, num_units=90, optimizer=Adam, shape=90, score=0.4057971014492754, total=   8.8s\n",
      "[CV] batch_size=100, epochs=300, n_classes=24, num_units=90, optimizer=Adam, shape=90 \n",
      "[CV]  batch_size=100, epochs=300, n_classes=24, num_units=90, optimizer=Adam, shape=90, score=0.46859903381642515, total=  19.5s\n"
     ]
    },
    {
     "name": "stderr",
     "output_type": "stream",
     "text": [
      "[Parallel(n_jobs=1)]: Done   9 out of   9 | elapsed: 21.1min finished\n"
     ]
    },
    {
     "name": "stdout",
     "output_type": "stream",
     "text": [
      "7\n",
      "Fitting 1 folds for each of 9 candidates, totalling 9 fits\n",
      "[CV] batch_size=1, epochs=10, n_classes=24, num_units=105, optimizer=Adam, shape=105 \n",
      "[CV]  batch_size=1, epochs=10, n_classes=24, num_units=105, optimizer=Adam, shape=105, score=0.3961352657004831, total=  33.8s\n",
      "[CV] batch_size=1, epochs=100, n_classes=24, num_units=105, optimizer=Adam, shape=105 \n"
     ]
    },
    {
     "name": "stderr",
     "output_type": "stream",
     "text": [
      "[Parallel(n_jobs=1)]: Done   1 out of   1 | elapsed:   34.3s remaining:    0.0s\n"
     ]
    },
    {
     "name": "stdout",
     "output_type": "stream",
     "text": [
      "[CV]  batch_size=1, epochs=100, n_classes=24, num_units=105, optimizer=Adam, shape=105, score=0.5845410628019324, total= 5.1min\n",
      "[CV] batch_size=1, epochs=300, n_classes=24, num_units=105, optimizer=Adam, shape=105 \n"
     ]
    },
    {
     "name": "stderr",
     "output_type": "stream",
     "text": [
      "[Parallel(n_jobs=1)]: Done   2 out of   2 | elapsed:  5.6min remaining:    0.0s\n"
     ]
    },
    {
     "name": "stdout",
     "output_type": "stream",
     "text": [
      "[CV]  batch_size=1, epochs=300, n_classes=24, num_units=105, optimizer=Adam, shape=105, score=0.5893719806763285, total=15.5min\n",
      "[CV] batch_size=10, epochs=10, n_classes=24, num_units=105, optimizer=Adam, shape=105 \n",
      "[CV]  batch_size=10, epochs=10, n_classes=24, num_units=105, optimizer=Adam, shape=105, score=0.28019323671497587, total=   7.4s\n",
      "[CV] batch_size=10, epochs=100, n_classes=24, num_units=105, optimizer=Adam, shape=105 \n",
      "[CV]  batch_size=10, epochs=100, n_classes=24, num_units=105, optimizer=Adam, shape=105, score=0.4975845410628019, total=  40.2s\n",
      "[CV] batch_size=10, epochs=300, n_classes=24, num_units=105, optimizer=Adam, shape=105 \n",
      "[CV]  batch_size=10, epochs=300, n_classes=24, num_units=105, optimizer=Adam, shape=105, score=0.5555555555555556, total= 1.8min\n",
      "[CV] batch_size=100, epochs=10, n_classes=24, num_units=105, optimizer=Adam, shape=105 \n",
      "[CV]  batch_size=100, epochs=10, n_classes=24, num_units=105, optimizer=Adam, shape=105, score=0.21739130434782608, total=   4.9s\n",
      "[CV] batch_size=100, epochs=100, n_classes=24, num_units=105, optimizer=Adam, shape=105 \n",
      "[CV]  batch_size=100, epochs=100, n_classes=24, num_units=105, optimizer=Adam, shape=105, score=0.37681159420289856, total=   9.9s\n",
      "[CV] batch_size=100, epochs=300, n_classes=24, num_units=105, optimizer=Adam, shape=105 \n",
      "[CV]  batch_size=100, epochs=300, n_classes=24, num_units=105, optimizer=Adam, shape=105, score=0.47342995169082125, total=  22.8s\n"
     ]
    },
    {
     "name": "stderr",
     "output_type": "stream",
     "text": [
      "[Parallel(n_jobs=1)]: Done   9 out of   9 | elapsed: 24.5min finished\n"
     ]
    },
    {
     "name": "stdout",
     "output_type": "stream",
     "text": [
      "8\n",
      "Fitting 1 folds for each of 9 candidates, totalling 9 fits\n",
      "[CV] batch_size=1, epochs=10, n_classes=24, num_units=120, optimizer=Adam, shape=120 \n",
      "[CV]  batch_size=1, epochs=10, n_classes=24, num_units=120, optimizer=Adam, shape=120, score=0.4396135265700483, total=  43.7s\n",
      "[CV] batch_size=1, epochs=100, n_classes=24, num_units=120, optimizer=Adam, shape=120 \n"
     ]
    },
    {
     "name": "stderr",
     "output_type": "stream",
     "text": [
      "[Parallel(n_jobs=1)]: Done   1 out of   1 | elapsed:   44.3s remaining:    0.0s\n"
     ]
    },
    {
     "name": "stdout",
     "output_type": "stream",
     "text": [
      "[CV]  batch_size=1, epochs=100, n_classes=24, num_units=120, optimizer=Adam, shape=120, score=0.5507246376811594, total= 6.5min\n",
      "[CV] batch_size=1, epochs=300, n_classes=24, num_units=120, optimizer=Adam, shape=120 \n"
     ]
    },
    {
     "name": "stderr",
     "output_type": "stream",
     "text": [
      "[Parallel(n_jobs=1)]: Done   2 out of   2 | elapsed:  7.2min remaining:    0.0s\n"
     ]
    },
    {
     "name": "stdout",
     "output_type": "stream",
     "text": [
      "[CV]  batch_size=1, epochs=300, n_classes=24, num_units=120, optimizer=Adam, shape=120, score=0.4975845410628019, total=18.9min\n",
      "[CV] batch_size=10, epochs=10, n_classes=24, num_units=120, optimizer=Adam, shape=120 \n",
      "[CV]  batch_size=10, epochs=10, n_classes=24, num_units=120, optimizer=Adam, shape=120, score=0.30434782608695654, total=   8.5s\n",
      "[CV] batch_size=10, epochs=100, n_classes=24, num_units=120, optimizer=Adam, shape=120 \n",
      "[CV]  batch_size=10, epochs=100, n_classes=24, num_units=120, optimizer=Adam, shape=120, score=0.42995169082125606, total=  44.6s\n",
      "[CV] batch_size=10, epochs=300, n_classes=24, num_units=120, optimizer=Adam, shape=120 \n",
      "[CV]  batch_size=10, epochs=300, n_classes=24, num_units=120, optimizer=Adam, shape=120, score=0.5507246376811594, total= 2.1min\n",
      "[CV] batch_size=100, epochs=10, n_classes=24, num_units=120, optimizer=Adam, shape=120 \n",
      "[CV]  batch_size=100, epochs=10, n_classes=24, num_units=120, optimizer=Adam, shape=120, score=0.13043478260869565, total=   5.5s\n",
      "[CV] batch_size=100, epochs=100, n_classes=24, num_units=120, optimizer=Adam, shape=120 \n",
      "[CV]  batch_size=100, epochs=100, n_classes=24, num_units=120, optimizer=Adam, shape=120, score=0.391304347826087, total=  11.1s\n",
      "[CV] batch_size=100, epochs=300, n_classes=24, num_units=120, optimizer=Adam, shape=120 \n",
      "[CV]  batch_size=100, epochs=300, n_classes=24, num_units=120, optimizer=Adam, shape=120, score=0.45893719806763283, total=  25.7s\n"
     ]
    },
    {
     "name": "stderr",
     "output_type": "stream",
     "text": [
      "[Parallel(n_jobs=1)]: Done   9 out of   9 | elapsed: 29.9min finished\n"
     ]
    },
    {
     "name": "stdout",
     "output_type": "stream",
     "text": [
      "9\n",
      "Fitting 1 folds for each of 9 candidates, totalling 9 fits\n",
      "[CV] batch_size=1, epochs=10, n_classes=24, num_units=135, optimizer=Adam, shape=135 \n",
      "[CV]  batch_size=1, epochs=10, n_classes=24, num_units=135, optimizer=Adam, shape=135, score=0.34299516908212563, total=  45.9s\n",
      "[CV] batch_size=1, epochs=100, n_classes=24, num_units=135, optimizer=Adam, shape=135 \n"
     ]
    },
    {
     "name": "stderr",
     "output_type": "stream",
     "text": [
      "[Parallel(n_jobs=1)]: Done   1 out of   1 | elapsed:   46.5s remaining:    0.0s\n"
     ]
    },
    {
     "name": "stdout",
     "output_type": "stream",
     "text": [
      "[CV]  batch_size=1, epochs=100, n_classes=24, num_units=135, optimizer=Adam, shape=135, score=0.4975845410628019, total= 6.4min\n",
      "[CV] batch_size=1, epochs=300, n_classes=24, num_units=135, optimizer=Adam, shape=135 \n"
     ]
    },
    {
     "name": "stderr",
     "output_type": "stream",
     "text": [
      "[Parallel(n_jobs=1)]: Done   2 out of   2 | elapsed:  7.2min remaining:    0.0s\n"
     ]
    },
    {
     "name": "stdout",
     "output_type": "stream",
     "text": [
      "[CV]  batch_size=1, epochs=300, n_classes=24, num_units=135, optimizer=Adam, shape=135, score=0.48792270531400966, total=13.6min\n",
      "[CV] batch_size=10, epochs=10, n_classes=24, num_units=135, optimizer=Adam, shape=135 \n",
      "[CV]  batch_size=10, epochs=10, n_classes=24, num_units=135, optimizer=Adam, shape=135, score=0.30917874396135264, total=   5.1s\n",
      "[CV] batch_size=10, epochs=100, n_classes=24, num_units=135, optimizer=Adam, shape=135 \n",
      "[CV]  batch_size=10, epochs=100, n_classes=24, num_units=135, optimizer=Adam, shape=135, score=0.4492753623188406, total=  29.1s\n",
      "[CV] batch_size=10, epochs=300, n_classes=24, num_units=135, optimizer=Adam, shape=135 \n",
      "[CV]  batch_size=10, epochs=300, n_classes=24, num_units=135, optimizer=Adam, shape=135, score=0.46859903381642515, total= 1.5min\n",
      "[CV] batch_size=100, epochs=10, n_classes=24, num_units=135, optimizer=Adam, shape=135 \n",
      "[CV]  batch_size=100, epochs=10, n_classes=24, num_units=135, optimizer=Adam, shape=135, score=0.12560386473429952, total=   2.9s\n",
      "[CV] batch_size=100, epochs=100, n_classes=24, num_units=135, optimizer=Adam, shape=135 \n",
      "[CV]  batch_size=100, epochs=100, n_classes=24, num_units=135, optimizer=Adam, shape=135, score=0.37681159420289856, total=   7.2s\n",
      "[CV] batch_size=100, epochs=300, n_classes=24, num_units=135, optimizer=Adam, shape=135 \n",
      "[CV]  batch_size=100, epochs=300, n_classes=24, num_units=135, optimizer=Adam, shape=135, score=0.43478260869565216, total=  17.9s\n"
     ]
    },
    {
     "name": "stderr",
     "output_type": "stream",
     "text": [
      "[Parallel(n_jobs=1)]: Done   9 out of   9 | elapsed: 23.3min finished\n"
     ]
    },
    {
     "name": "stdout",
     "output_type": "stream",
     "text": [
      "10\n",
      "Fitting 1 folds for each of 9 candidates, totalling 9 fits\n",
      "[CV] batch_size=1, epochs=10, n_classes=24, num_units=150, optimizer=Adam, shape=150 \n",
      "[CV]  batch_size=1, epochs=10, n_classes=24, num_units=150, optimizer=Adam, shape=150, score=0.3333333333333333, total=  32.5s\n",
      "[CV] batch_size=1, epochs=100, n_classes=24, num_units=150, optimizer=Adam, shape=150 \n"
     ]
    },
    {
     "name": "stderr",
     "output_type": "stream",
     "text": [
      "[Parallel(n_jobs=1)]: Done   1 out of   1 | elapsed:   32.9s remaining:    0.0s\n"
     ]
    },
    {
     "name": "stdout",
     "output_type": "stream",
     "text": [
      "[CV]  batch_size=1, epochs=100, n_classes=24, num_units=150, optimizer=Adam, shape=150, score=0.47342995169082125, total= 5.5min\n",
      "[CV] batch_size=1, epochs=300, n_classes=24, num_units=150, optimizer=Adam, shape=150 \n"
     ]
    },
    {
     "name": "stderr",
     "output_type": "stream",
     "text": [
      "[Parallel(n_jobs=1)]: Done   2 out of   2 | elapsed:  6.0min remaining:    0.0s\n"
     ]
    },
    {
     "name": "stdout",
     "output_type": "stream",
     "text": [
      "[CV]  batch_size=1, epochs=300, n_classes=24, num_units=150, optimizer=Adam, shape=150, score=0.5217391304347826, total=18.3min\n",
      "[CV] batch_size=10, epochs=10, n_classes=24, num_units=150, optimizer=Adam, shape=150 \n",
      "[CV]  batch_size=10, epochs=10, n_classes=24, num_units=150, optimizer=Adam, shape=150, score=0.32367149758454106, total=   8.1s\n",
      "[CV] batch_size=10, epochs=100, n_classes=24, num_units=150, optimizer=Adam, shape=150 \n",
      "[CV]  batch_size=10, epochs=100, n_classes=24, num_units=150, optimizer=Adam, shape=150, score=0.45893719806763283, total=  44.3s\n",
      "[CV] batch_size=10, epochs=300, n_classes=24, num_units=150, optimizer=Adam, shape=150 \n",
      "[CV]  batch_size=10, epochs=300, n_classes=24, num_units=150, optimizer=Adam, shape=150, score=0.4927536231884058, total= 2.0min\n",
      "[CV] batch_size=100, epochs=10, n_classes=24, num_units=150, optimizer=Adam, shape=150 \n",
      "[CV]  batch_size=100, epochs=10, n_classes=24, num_units=150, optimizer=Adam, shape=150, score=0.178743961352657, total=   5.1s\n",
      "[CV] batch_size=100, epochs=100, n_classes=24, num_units=150, optimizer=Adam, shape=150 \n",
      "[CV]  batch_size=100, epochs=100, n_classes=24, num_units=150, optimizer=Adam, shape=150, score=0.3671497584541063, total=  12.1s\n",
      "[CV] batch_size=100, epochs=300, n_classes=24, num_units=150, optimizer=Adam, shape=150 \n",
      "[CV]  batch_size=100, epochs=300, n_classes=24, num_units=150, optimizer=Adam, shape=150, score=0.42995169082125606, total=  25.3s\n"
     ]
    },
    {
     "name": "stderr",
     "output_type": "stream",
     "text": [
      "[Parallel(n_jobs=1)]: Done   9 out of   9 | elapsed: 28.0min finished\n"
     ]
    },
    {
     "name": "stdout",
     "output_type": "stream",
     "text": [
      "11\n",
      "Fitting 1 folds for each of 9 candidates, totalling 9 fits\n",
      "[CV] batch_size=1, epochs=10, n_classes=24, num_units=165, optimizer=Adam, shape=165 \n",
      "[CV]  batch_size=1, epochs=10, n_classes=24, num_units=165, optimizer=Adam, shape=165, score=0.36231884057971014, total=  47.7s\n",
      "[CV] batch_size=1, epochs=100, n_classes=24, num_units=165, optimizer=Adam, shape=165 \n"
     ]
    },
    {
     "name": "stderr",
     "output_type": "stream",
     "text": [
      "[Parallel(n_jobs=1)]: Done   1 out of   1 | elapsed:   48.3s remaining:    0.0s\n"
     ]
    },
    {
     "name": "stdout",
     "output_type": "stream",
     "text": [
      "[CV]  batch_size=1, epochs=100, n_classes=24, num_units=165, optimizer=Adam, shape=165, score=0.45893719806763283, total= 7.4min\n",
      "[CV] batch_size=1, epochs=300, n_classes=24, num_units=165, optimizer=Adam, shape=165 \n"
     ]
    },
    {
     "name": "stderr",
     "output_type": "stream",
     "text": [
      "[Parallel(n_jobs=1)]: Done   2 out of   2 | elapsed:  8.3min remaining:    0.0s\n"
     ]
    },
    {
     "name": "stdout",
     "output_type": "stream",
     "text": [
      "[CV]  batch_size=1, epochs=300, n_classes=24, num_units=165, optimizer=Adam, shape=165, score=0.4492753623188406, total=21.7min\n",
      "[CV] batch_size=10, epochs=10, n_classes=24, num_units=165, optimizer=Adam, shape=165 \n",
      "[CV]  batch_size=10, epochs=10, n_classes=24, num_units=165, optimizer=Adam, shape=165, score=0.30434782608695654, total=   9.5s\n",
      "[CV] batch_size=10, epochs=100, n_classes=24, num_units=165, optimizer=Adam, shape=165 \n",
      "[CV]  batch_size=10, epochs=100, n_classes=24, num_units=165, optimizer=Adam, shape=165, score=0.42028985507246375, total=  49.6s\n",
      "[CV] batch_size=10, epochs=300, n_classes=24, num_units=165, optimizer=Adam, shape=165 \n",
      "[CV]  batch_size=10, epochs=300, n_classes=24, num_units=165, optimizer=Adam, shape=165, score=0.48792270531400966, total= 2.4min\n",
      "[CV] batch_size=100, epochs=10, n_classes=24, num_units=165, optimizer=Adam, shape=165 \n",
      "[CV]  batch_size=100, epochs=10, n_classes=24, num_units=165, optimizer=Adam, shape=165, score=0.15458937198067632, total=   6.1s\n",
      "[CV] batch_size=100, epochs=100, n_classes=24, num_units=165, optimizer=Adam, shape=165 \n",
      "[CV]  batch_size=100, epochs=100, n_classes=24, num_units=165, optimizer=Adam, shape=165, score=0.3719806763285024, total=  12.5s\n",
      "[CV] batch_size=100, epochs=300, n_classes=24, num_units=165, optimizer=Adam, shape=165 \n",
      "[CV]  batch_size=100, epochs=300, n_classes=24, num_units=165, optimizer=Adam, shape=165, score=0.41545893719806765, total=  29.2s\n"
     ]
    },
    {
     "name": "stderr",
     "output_type": "stream",
     "text": [
      "[Parallel(n_jobs=1)]: Done   9 out of   9 | elapsed: 34.1min finished\n"
     ]
    },
    {
     "name": "stdout",
     "output_type": "stream",
     "text": [
      "12\n",
      "Fitting 1 folds for each of 9 candidates, totalling 9 fits\n",
      "[CV] batch_size=1, epochs=10, n_classes=24, num_units=180, optimizer=Adam, shape=180 \n",
      "[CV]  batch_size=1, epochs=10, n_classes=24, num_units=180, optimizer=Adam, shape=180, score=0.38164251207729466, total=  55.0s\n",
      "[CV] batch_size=1, epochs=100, n_classes=24, num_units=180, optimizer=Adam, shape=180 \n"
     ]
    },
    {
     "name": "stderr",
     "output_type": "stream",
     "text": [
      "[Parallel(n_jobs=1)]: Done   1 out of   1 | elapsed:   55.6s remaining:    0.0s\n"
     ]
    },
    {
     "name": "stdout",
     "output_type": "stream",
     "text": [
      "[CV]  batch_size=1, epochs=100, n_classes=24, num_units=180, optimizer=Adam, shape=180, score=0.4927536231884058, total= 8.1min\n",
      "[CV] batch_size=1, epochs=300, n_classes=24, num_units=180, optimizer=Adam, shape=180 \n"
     ]
    },
    {
     "name": "stderr",
     "output_type": "stream",
     "text": [
      "[Parallel(n_jobs=1)]: Done   2 out of   2 | elapsed:  9.1min remaining:    0.0s\n"
     ]
    },
    {
     "name": "stdout",
     "output_type": "stream",
     "text": [
      "[CV]  batch_size=1, epochs=300, n_classes=24, num_units=180, optimizer=Adam, shape=180, score=0.5458937198067633, total=25.7min\n",
      "[CV] batch_size=10, epochs=10, n_classes=24, num_units=180, optimizer=Adam, shape=180 \n",
      "[CV]  batch_size=10, epochs=10, n_classes=24, num_units=180, optimizer=Adam, shape=180, score=0.3333333333333333, total=   9.7s\n",
      "[CV] batch_size=10, epochs=100, n_classes=24, num_units=180, optimizer=Adam, shape=180 \n",
      "[CV]  batch_size=10, epochs=100, n_classes=24, num_units=180, optimizer=Adam, shape=180, score=0.45893719806763283, total=  58.9s\n",
      "[CV] batch_size=10, epochs=300, n_classes=24, num_units=180, optimizer=Adam, shape=180 \n",
      "[CV]  batch_size=10, epochs=300, n_classes=24, num_units=180, optimizer=Adam, shape=180, score=0.4927536231884058, total= 2.9min\n",
      "[CV] batch_size=100, epochs=10, n_classes=24, num_units=180, optimizer=Adam, shape=180 \n",
      "[CV]  batch_size=100, epochs=10, n_classes=24, num_units=180, optimizer=Adam, shape=180, score=0.15458937198067632, total=   5.6s\n",
      "[CV] batch_size=100, epochs=100, n_classes=24, num_units=180, optimizer=Adam, shape=180 \n",
      "[CV]  batch_size=100, epochs=100, n_classes=24, num_units=180, optimizer=Adam, shape=180, score=0.4251207729468599, total=  13.2s\n",
      "[CV] batch_size=100, epochs=300, n_classes=24, num_units=180, optimizer=Adam, shape=180 \n",
      "[CV]  batch_size=100, epochs=300, n_classes=24, num_units=180, optimizer=Adam, shape=180, score=0.463768115942029, total=  32.1s\n"
     ]
    },
    {
     "name": "stderr",
     "output_type": "stream",
     "text": [
      "[Parallel(n_jobs=1)]: Done   9 out of   9 | elapsed: 39.6min finished\n"
     ]
    }
   ],
   "source": [
    "for nr in frame_numbers:\n",
    "    print(nr)\n",
    "    try:\n",
    "        acc_train_input, acc_train_label = prepare_data(train, nr, 'accelerometer', verbose=False)\n",
    "        acc_valid_input, acc_valid_label = prepare_data(valid, nr, 'accelerometer', verbose=False)\n",
    "\n",
    "        encoder = LabelEncoder()\n",
    "\n",
    "        X_train = acc_train_input.reshape(acc_train_input.shape[0], 1, acc_train_input.shape[1])\n",
    "        y_train = encoder.fit_transform(acc_train_label)\n",
    "        X_valid = acc_valid_input.reshape(acc_valid_input.shape[0], 1, acc_valid_input.shape[1])\n",
    "        y_valid = encoder.fit_transform(acc_valid_label)\n",
    "\n",
    "        parameters[0]['n_classes'] = [len(encoder.classes_)]\n",
    "        parameters[0]['shape'] = [X_train.shape[2]]\n",
    "        parameters[0]['num_units'] = [X_train.shape[2]]\n",
    "\n",
    "        #parameters[0]['batch_size'] = [1, 10, 100]\n",
    "        #parameters[0]['batch_size'].append(X_train.shape[2])\n",
    "\n",
    "        lstm_model = KerasClassifier(create_model, verbose=0)\n",
    "\n",
    "        lstm = GridSearchCV(lstm_model, parameters, scoring='accuracy', cv=cross_valid,\n",
    "                           verbose=verbose_level).fit(np.append(X_train, X_valid, axis=0),np.append(y_train, y_valid))\n",
    "\n",
    "        result = (lstm.best_score_, nr, lstm.best_params_)\n",
    "\n",
    "        if result[0] > all_acc[0]:\n",
    "            all_acc = result\n",
    "\n",
    "        K.clear_session()\n",
    "    \n",
    "    except ValueError as err:\n",
    "        pass"
   ]
  },
  {
   "cell_type": "code",
   "execution_count": 8,
   "metadata": {},
   "outputs": [
    {
     "name": "stdout",
     "output_type": "stream",
     "text": [
      "(0.64251207729468596, 4, {'batch_size': 1, 'epochs': 300, 'n_classes': 24, 'num_units': 60, 'optimizer': 'Adam', 'shape': 60})\n"
     ]
    }
   ],
   "source": [
    "print(all_acc, end='\\n')"
   ]
  },
  {
   "cell_type": "markdown",
   "metadata": {},
   "source": [
    "### Gyroskop"
   ]
  },
  {
   "cell_type": "code",
   "execution_count": 9,
   "metadata": {},
   "outputs": [
    {
     "name": "stdout",
     "output_type": "stream",
     "text": [
      "1\n",
      "Fitting 1 folds for each of 9 candidates, totalling 9 fits\n",
      "[CV] batch_size=1, epochs=10, n_classes=24, num_units=15, optimizer=Adam, shape=15 \n",
      "[CV]  batch_size=1, epochs=10, n_classes=24, num_units=15, optimizer=Adam, shape=15, score=0.17307692307692307, total=  22.4s\n",
      "[CV] batch_size=1, epochs=100, n_classes=24, num_units=15, optimizer=Adam, shape=15 \n"
     ]
    },
    {
     "name": "stderr",
     "output_type": "stream",
     "text": [
      "[Parallel(n_jobs=1)]: Done   1 out of   1 | elapsed:   22.9s remaining:    0.0s\n"
     ]
    },
    {
     "name": "stdout",
     "output_type": "stream",
     "text": [
      "[CV]  batch_size=1, epochs=100, n_classes=24, num_units=15, optimizer=Adam, shape=15, score=0.21634615384615385, total= 3.2min\n",
      "[CV] batch_size=1, epochs=300, n_classes=24, num_units=15, optimizer=Adam, shape=15 \n"
     ]
    },
    {
     "name": "stderr",
     "output_type": "stream",
     "text": [
      "[Parallel(n_jobs=1)]: Done   2 out of   2 | elapsed:  3.6min remaining:    0.0s\n"
     ]
    },
    {
     "name": "stdout",
     "output_type": "stream",
     "text": [
      "[CV]  batch_size=1, epochs=300, n_classes=24, num_units=15, optimizer=Adam, shape=15, score=0.21153846153846154, total= 9.9min\n",
      "[CV] batch_size=10, epochs=10, n_classes=24, num_units=15, optimizer=Adam, shape=15 \n",
      "[CV]  batch_size=10, epochs=10, n_classes=24, num_units=15, optimizer=Adam, shape=15, score=0.12980769230769232, total=   5.9s\n",
      "[CV] batch_size=10, epochs=100, n_classes=24, num_units=15, optimizer=Adam, shape=15 \n",
      "[CV]  batch_size=10, epochs=100, n_classes=24, num_units=15, optimizer=Adam, shape=15, score=0.16826923076923078, total=  25.6s\n",
      "[CV] batch_size=10, epochs=300, n_classes=24, num_units=15, optimizer=Adam, shape=15 \n",
      "[CV]  batch_size=10, epochs=300, n_classes=24, num_units=15, optimizer=Adam, shape=15, score=0.21153846153846154, total= 1.1min\n",
      "[CV] batch_size=100, epochs=10, n_classes=24, num_units=15, optimizer=Adam, shape=15 \n",
      "[CV]  batch_size=100, epochs=10, n_classes=24, num_units=15, optimizer=Adam, shape=15, score=0.0673076923076923, total=   4.8s\n",
      "[CV] batch_size=100, epochs=100, n_classes=24, num_units=15, optimizer=Adam, shape=15 \n",
      "[CV]  batch_size=100, epochs=100, n_classes=24, num_units=15, optimizer=Adam, shape=15, score=0.17307692307692307, total=   7.0s\n",
      "[CV] batch_size=100, epochs=300, n_classes=24, num_units=15, optimizer=Adam, shape=15 \n",
      "[CV]  batch_size=100, epochs=300, n_classes=24, num_units=15, optimizer=Adam, shape=15, score=0.16826923076923078, total=  14.0s\n"
     ]
    },
    {
     "name": "stderr",
     "output_type": "stream",
     "text": [
      "[Parallel(n_jobs=1)]: Done   9 out of   9 | elapsed: 15.6min finished\n"
     ]
    },
    {
     "ename": "KeyboardInterrupt",
     "evalue": "",
     "output_type": "error",
     "traceback": [
      "\u001b[1;31m---------------------------------------------------------------------------\u001b[0m",
      "\u001b[1;31mKeyboardInterrupt\u001b[0m                         Traceback (most recent call last)",
      "\u001b[1;32m<ipython-input-9-91ab5a641e9e>\u001b[0m in \u001b[0;36m<module>\u001b[1;34m()\u001b[0m\n\u001b[0;32m     22\u001b[0m \u001b[1;33m\u001b[0m\u001b[0m\n\u001b[0;32m     23\u001b[0m         lstm = GridSearchCV(lstm_model, parameters, scoring='accuracy', cv=cross_valid,\n\u001b[1;32m---> 24\u001b[1;33m                            verbose=verbose_level).fit(np.append(X_train, X_valid, axis=0),np.append(y_train, y_valid))\n\u001b[0m\u001b[0;32m     25\u001b[0m \u001b[1;33m\u001b[0m\u001b[0m\n\u001b[0;32m     26\u001b[0m         \u001b[0mresult\u001b[0m \u001b[1;33m=\u001b[0m \u001b[1;33m(\u001b[0m\u001b[0mlstm\u001b[0m\u001b[1;33m.\u001b[0m\u001b[0mbest_score_\u001b[0m\u001b[1;33m,\u001b[0m \u001b[0mnr\u001b[0m\u001b[1;33m,\u001b[0m \u001b[0mlstm\u001b[0m\u001b[1;33m.\u001b[0m\u001b[0mbest_params_\u001b[0m\u001b[1;33m)\u001b[0m\u001b[1;33m\u001b[0m\u001b[0m\n",
      "\u001b[1;32mc:\\python36\\lib\\site-packages\\sklearn\\model_selection\\_search.py\u001b[0m in \u001b[0;36mfit\u001b[1;34m(self, X, y, groups, **fit_params)\u001b[0m\n\u001b[0;32m    723\u001b[0m                 **self.best_params_)\n\u001b[0;32m    724\u001b[0m             \u001b[1;32mif\u001b[0m \u001b[0my\u001b[0m \u001b[1;32mis\u001b[0m \u001b[1;32mnot\u001b[0m \u001b[1;32mNone\u001b[0m\u001b[1;33m:\u001b[0m\u001b[1;33m\u001b[0m\u001b[0m\n\u001b[1;32m--> 725\u001b[1;33m                 \u001b[0mself\u001b[0m\u001b[1;33m.\u001b[0m\u001b[0mbest_estimator_\u001b[0m\u001b[1;33m.\u001b[0m\u001b[0mfit\u001b[0m\u001b[1;33m(\u001b[0m\u001b[0mX\u001b[0m\u001b[1;33m,\u001b[0m \u001b[0my\u001b[0m\u001b[1;33m,\u001b[0m \u001b[1;33m**\u001b[0m\u001b[0mfit_params\u001b[0m\u001b[1;33m)\u001b[0m\u001b[1;33m\u001b[0m\u001b[0m\n\u001b[0m\u001b[0;32m    726\u001b[0m             \u001b[1;32melse\u001b[0m\u001b[1;33m:\u001b[0m\u001b[1;33m\u001b[0m\u001b[0m\n\u001b[0;32m    727\u001b[0m                 \u001b[0mself\u001b[0m\u001b[1;33m.\u001b[0m\u001b[0mbest_estimator_\u001b[0m\u001b[1;33m.\u001b[0m\u001b[0mfit\u001b[0m\u001b[1;33m(\u001b[0m\u001b[0mX\u001b[0m\u001b[1;33m,\u001b[0m \u001b[1;33m**\u001b[0m\u001b[0mfit_params\u001b[0m\u001b[1;33m)\u001b[0m\u001b[1;33m\u001b[0m\u001b[0m\n",
      "\u001b[1;32mc:\\python36\\lib\\site-packages\\keras\\wrappers\\scikit_learn.py\u001b[0m in \u001b[0;36mfit\u001b[1;34m(self, x, y, **kwargs)\u001b[0m\n\u001b[0;32m    201\u001b[0m             \u001b[1;32mraise\u001b[0m \u001b[0mValueError\u001b[0m\u001b[1;33m(\u001b[0m\u001b[1;34m'Invalid shape for y: '\u001b[0m \u001b[1;33m+\u001b[0m \u001b[0mstr\u001b[0m\u001b[1;33m(\u001b[0m\u001b[0my\u001b[0m\u001b[1;33m.\u001b[0m\u001b[0mshape\u001b[0m\u001b[1;33m)\u001b[0m\u001b[1;33m)\u001b[0m\u001b[1;33m\u001b[0m\u001b[0m\n\u001b[0;32m    202\u001b[0m         \u001b[0mself\u001b[0m\u001b[1;33m.\u001b[0m\u001b[0mn_classes_\u001b[0m \u001b[1;33m=\u001b[0m \u001b[0mlen\u001b[0m\u001b[1;33m(\u001b[0m\u001b[0mself\u001b[0m\u001b[1;33m.\u001b[0m\u001b[0mclasses_\u001b[0m\u001b[1;33m)\u001b[0m\u001b[1;33m\u001b[0m\u001b[0m\n\u001b[1;32m--> 203\u001b[1;33m         \u001b[1;32mreturn\u001b[0m \u001b[0msuper\u001b[0m\u001b[1;33m(\u001b[0m\u001b[0mKerasClassifier\u001b[0m\u001b[1;33m,\u001b[0m \u001b[0mself\u001b[0m\u001b[1;33m)\u001b[0m\u001b[1;33m.\u001b[0m\u001b[0mfit\u001b[0m\u001b[1;33m(\u001b[0m\u001b[0mx\u001b[0m\u001b[1;33m,\u001b[0m \u001b[0my\u001b[0m\u001b[1;33m,\u001b[0m \u001b[1;33m**\u001b[0m\u001b[0mkwargs\u001b[0m\u001b[1;33m)\u001b[0m\u001b[1;33m\u001b[0m\u001b[0m\n\u001b[0m\u001b[0;32m    204\u001b[0m \u001b[1;33m\u001b[0m\u001b[0m\n\u001b[0;32m    205\u001b[0m     \u001b[1;32mdef\u001b[0m \u001b[0mpredict\u001b[0m\u001b[1;33m(\u001b[0m\u001b[0mself\u001b[0m\u001b[1;33m,\u001b[0m \u001b[0mx\u001b[0m\u001b[1;33m,\u001b[0m \u001b[1;33m**\u001b[0m\u001b[0mkwargs\u001b[0m\u001b[1;33m)\u001b[0m\u001b[1;33m:\u001b[0m\u001b[1;33m\u001b[0m\u001b[0m\n",
      "\u001b[1;32mc:\\python36\\lib\\site-packages\\keras\\wrappers\\scikit_learn.py\u001b[0m in \u001b[0;36mfit\u001b[1;34m(self, x, y, **kwargs)\u001b[0m\n\u001b[0;32m    145\u001b[0m         \u001b[0mfit_args\u001b[0m\u001b[1;33m.\u001b[0m\u001b[0mupdate\u001b[0m\u001b[1;33m(\u001b[0m\u001b[0mkwargs\u001b[0m\u001b[1;33m)\u001b[0m\u001b[1;33m\u001b[0m\u001b[0m\n\u001b[0;32m    146\u001b[0m \u001b[1;33m\u001b[0m\u001b[0m\n\u001b[1;32m--> 147\u001b[1;33m         \u001b[0mhistory\u001b[0m \u001b[1;33m=\u001b[0m \u001b[0mself\u001b[0m\u001b[1;33m.\u001b[0m\u001b[0mmodel\u001b[0m\u001b[1;33m.\u001b[0m\u001b[0mfit\u001b[0m\u001b[1;33m(\u001b[0m\u001b[0mx\u001b[0m\u001b[1;33m,\u001b[0m \u001b[0my\u001b[0m\u001b[1;33m,\u001b[0m \u001b[1;33m**\u001b[0m\u001b[0mfit_args\u001b[0m\u001b[1;33m)\u001b[0m\u001b[1;33m\u001b[0m\u001b[0m\n\u001b[0m\u001b[0;32m    148\u001b[0m \u001b[1;33m\u001b[0m\u001b[0m\n\u001b[0;32m    149\u001b[0m         \u001b[1;32mreturn\u001b[0m \u001b[0mhistory\u001b[0m\u001b[1;33m\u001b[0m\u001b[0m\n",
      "\u001b[1;32mc:\\python36\\lib\\site-packages\\keras\\models.py\u001b[0m in \u001b[0;36mfit\u001b[1;34m(self, x, y, batch_size, epochs, verbose, callbacks, validation_split, validation_data, shuffle, class_weight, sample_weight, initial_epoch, **kwargs)\u001b[0m\n\u001b[0;32m    861\u001b[0m                               \u001b[0mclass_weight\u001b[0m\u001b[1;33m=\u001b[0m\u001b[0mclass_weight\u001b[0m\u001b[1;33m,\u001b[0m\u001b[1;33m\u001b[0m\u001b[0m\n\u001b[0;32m    862\u001b[0m                               \u001b[0msample_weight\u001b[0m\u001b[1;33m=\u001b[0m\u001b[0msample_weight\u001b[0m\u001b[1;33m,\u001b[0m\u001b[1;33m\u001b[0m\u001b[0m\n\u001b[1;32m--> 863\u001b[1;33m                               initial_epoch=initial_epoch)\n\u001b[0m\u001b[0;32m    864\u001b[0m \u001b[1;33m\u001b[0m\u001b[0m\n\u001b[0;32m    865\u001b[0m     def evaluate(self, x, y, batch_size=32, verbose=1,\n",
      "\u001b[1;32mc:\\python36\\lib\\site-packages\\keras\\engine\\training.py\u001b[0m in \u001b[0;36mfit\u001b[1;34m(self, x, y, batch_size, epochs, verbose, callbacks, validation_split, validation_data, shuffle, class_weight, sample_weight, initial_epoch, **kwargs)\u001b[0m\n\u001b[0;32m   1428\u001b[0m                               \u001b[0mval_f\u001b[0m\u001b[1;33m=\u001b[0m\u001b[0mval_f\u001b[0m\u001b[1;33m,\u001b[0m \u001b[0mval_ins\u001b[0m\u001b[1;33m=\u001b[0m\u001b[0mval_ins\u001b[0m\u001b[1;33m,\u001b[0m \u001b[0mshuffle\u001b[0m\u001b[1;33m=\u001b[0m\u001b[0mshuffle\u001b[0m\u001b[1;33m,\u001b[0m\u001b[1;33m\u001b[0m\u001b[0m\n\u001b[0;32m   1429\u001b[0m                               \u001b[0mcallback_metrics\u001b[0m\u001b[1;33m=\u001b[0m\u001b[0mcallback_metrics\u001b[0m\u001b[1;33m,\u001b[0m\u001b[1;33m\u001b[0m\u001b[0m\n\u001b[1;32m-> 1430\u001b[1;33m                               initial_epoch=initial_epoch)\n\u001b[0m\u001b[0;32m   1431\u001b[0m \u001b[1;33m\u001b[0m\u001b[0m\n\u001b[0;32m   1432\u001b[0m     \u001b[1;32mdef\u001b[0m \u001b[0mevaluate\u001b[0m\u001b[1;33m(\u001b[0m\u001b[0mself\u001b[0m\u001b[1;33m,\u001b[0m \u001b[0mx\u001b[0m\u001b[1;33m,\u001b[0m \u001b[0my\u001b[0m\u001b[1;33m,\u001b[0m \u001b[0mbatch_size\u001b[0m\u001b[1;33m=\u001b[0m\u001b[1;36m32\u001b[0m\u001b[1;33m,\u001b[0m \u001b[0mverbose\u001b[0m\u001b[1;33m=\u001b[0m\u001b[1;36m1\u001b[0m\u001b[1;33m,\u001b[0m \u001b[0msample_weight\u001b[0m\u001b[1;33m=\u001b[0m\u001b[1;32mNone\u001b[0m\u001b[1;33m)\u001b[0m\u001b[1;33m:\u001b[0m\u001b[1;33m\u001b[0m\u001b[0m\n",
      "\u001b[1;32mc:\\python36\\lib\\site-packages\\keras\\engine\\training.py\u001b[0m in \u001b[0;36m_fit_loop\u001b[1;34m(self, f, ins, out_labels, batch_size, epochs, verbose, callbacks, val_f, val_ins, shuffle, callback_metrics, initial_epoch)\u001b[0m\n\u001b[0;32m   1077\u001b[0m                 \u001b[0mbatch_logs\u001b[0m\u001b[1;33m[\u001b[0m\u001b[1;34m'size'\u001b[0m\u001b[1;33m]\u001b[0m \u001b[1;33m=\u001b[0m \u001b[0mlen\u001b[0m\u001b[1;33m(\u001b[0m\u001b[0mbatch_ids\u001b[0m\u001b[1;33m)\u001b[0m\u001b[1;33m\u001b[0m\u001b[0m\n\u001b[0;32m   1078\u001b[0m                 \u001b[0mcallbacks\u001b[0m\u001b[1;33m.\u001b[0m\u001b[0mon_batch_begin\u001b[0m\u001b[1;33m(\u001b[0m\u001b[0mbatch_index\u001b[0m\u001b[1;33m,\u001b[0m \u001b[0mbatch_logs\u001b[0m\u001b[1;33m)\u001b[0m\u001b[1;33m\u001b[0m\u001b[0m\n\u001b[1;32m-> 1079\u001b[1;33m                 \u001b[0mouts\u001b[0m \u001b[1;33m=\u001b[0m \u001b[0mf\u001b[0m\u001b[1;33m(\u001b[0m\u001b[0mins_batch\u001b[0m\u001b[1;33m)\u001b[0m\u001b[1;33m\u001b[0m\u001b[0m\n\u001b[0m\u001b[0;32m   1080\u001b[0m                 \u001b[1;32mif\u001b[0m \u001b[1;32mnot\u001b[0m \u001b[0misinstance\u001b[0m\u001b[1;33m(\u001b[0m\u001b[0mouts\u001b[0m\u001b[1;33m,\u001b[0m \u001b[0mlist\u001b[0m\u001b[1;33m)\u001b[0m\u001b[1;33m:\u001b[0m\u001b[1;33m\u001b[0m\u001b[0m\n\u001b[0;32m   1081\u001b[0m                     \u001b[0mouts\u001b[0m \u001b[1;33m=\u001b[0m \u001b[1;33m[\u001b[0m\u001b[0mouts\u001b[0m\u001b[1;33m]\u001b[0m\u001b[1;33m\u001b[0m\u001b[0m\n",
      "\u001b[1;32mc:\\python36\\lib\\site-packages\\keras\\backend\\tensorflow_backend.py\u001b[0m in \u001b[0;36m__call__\u001b[1;34m(self, inputs)\u001b[0m\n\u001b[0;32m   2266\u001b[0m         updated = session.run(self.outputs + [self.updates_op],\n\u001b[0;32m   2267\u001b[0m                               \u001b[0mfeed_dict\u001b[0m\u001b[1;33m=\u001b[0m\u001b[0mfeed_dict\u001b[0m\u001b[1;33m,\u001b[0m\u001b[1;33m\u001b[0m\u001b[0m\n\u001b[1;32m-> 2268\u001b[1;33m                               **self.session_kwargs)\n\u001b[0m\u001b[0;32m   2269\u001b[0m         \u001b[1;32mreturn\u001b[0m \u001b[0mupdated\u001b[0m\u001b[1;33m[\u001b[0m\u001b[1;33m:\u001b[0m\u001b[0mlen\u001b[0m\u001b[1;33m(\u001b[0m\u001b[0mself\u001b[0m\u001b[1;33m.\u001b[0m\u001b[0moutputs\u001b[0m\u001b[1;33m)\u001b[0m\u001b[1;33m]\u001b[0m\u001b[1;33m\u001b[0m\u001b[0m\n\u001b[0;32m   2270\u001b[0m \u001b[1;33m\u001b[0m\u001b[0m\n",
      "\u001b[1;32mc:\\python36\\lib\\site-packages\\tensorflow\\python\\client\\session.py\u001b[0m in \u001b[0;36mrun\u001b[1;34m(self, fetches, feed_dict, options, run_metadata)\u001b[0m\n\u001b[0;32m    893\u001b[0m     \u001b[1;32mtry\u001b[0m\u001b[1;33m:\u001b[0m\u001b[1;33m\u001b[0m\u001b[0m\n\u001b[0;32m    894\u001b[0m       result = self._run(None, fetches, feed_dict, options_ptr,\n\u001b[1;32m--> 895\u001b[1;33m                          run_metadata_ptr)\n\u001b[0m\u001b[0;32m    896\u001b[0m       \u001b[1;32mif\u001b[0m \u001b[0mrun_metadata\u001b[0m\u001b[1;33m:\u001b[0m\u001b[1;33m\u001b[0m\u001b[0m\n\u001b[0;32m    897\u001b[0m         \u001b[0mproto_data\u001b[0m \u001b[1;33m=\u001b[0m \u001b[0mtf_session\u001b[0m\u001b[1;33m.\u001b[0m\u001b[0mTF_GetBuffer\u001b[0m\u001b[1;33m(\u001b[0m\u001b[0mrun_metadata_ptr\u001b[0m\u001b[1;33m)\u001b[0m\u001b[1;33m\u001b[0m\u001b[0m\n",
      "\u001b[1;32mc:\\python36\\lib\\site-packages\\tensorflow\\python\\client\\session.py\u001b[0m in \u001b[0;36m_run\u001b[1;34m(self, handle, fetches, feed_dict, options, run_metadata)\u001b[0m\n\u001b[0;32m   1122\u001b[0m     \u001b[1;32mif\u001b[0m \u001b[0mfinal_fetches\u001b[0m \u001b[1;32mor\u001b[0m \u001b[0mfinal_targets\u001b[0m \u001b[1;32mor\u001b[0m \u001b[1;33m(\u001b[0m\u001b[0mhandle\u001b[0m \u001b[1;32mand\u001b[0m \u001b[0mfeed_dict_tensor\u001b[0m\u001b[1;33m)\u001b[0m\u001b[1;33m:\u001b[0m\u001b[1;33m\u001b[0m\u001b[0m\n\u001b[0;32m   1123\u001b[0m       results = self._do_run(handle, final_targets, final_fetches,\n\u001b[1;32m-> 1124\u001b[1;33m                              feed_dict_tensor, options, run_metadata)\n\u001b[0m\u001b[0;32m   1125\u001b[0m     \u001b[1;32melse\u001b[0m\u001b[1;33m:\u001b[0m\u001b[1;33m\u001b[0m\u001b[0m\n\u001b[0;32m   1126\u001b[0m       \u001b[0mresults\u001b[0m \u001b[1;33m=\u001b[0m \u001b[1;33m[\u001b[0m\u001b[1;33m]\u001b[0m\u001b[1;33m\u001b[0m\u001b[0m\n",
      "\u001b[1;32mc:\\python36\\lib\\site-packages\\tensorflow\\python\\client\\session.py\u001b[0m in \u001b[0;36m_do_run\u001b[1;34m(self, handle, target_list, fetch_list, feed_dict, options, run_metadata)\u001b[0m\n\u001b[0;32m   1319\u001b[0m     \u001b[1;32mif\u001b[0m \u001b[0mhandle\u001b[0m \u001b[1;32mis\u001b[0m \u001b[1;32mNone\u001b[0m\u001b[1;33m:\u001b[0m\u001b[1;33m\u001b[0m\u001b[0m\n\u001b[0;32m   1320\u001b[0m       return self._do_call(_run_fn, self._session, feeds, fetches, targets,\n\u001b[1;32m-> 1321\u001b[1;33m                            options, run_metadata)\n\u001b[0m\u001b[0;32m   1322\u001b[0m     \u001b[1;32melse\u001b[0m\u001b[1;33m:\u001b[0m\u001b[1;33m\u001b[0m\u001b[0m\n\u001b[0;32m   1323\u001b[0m       \u001b[1;32mreturn\u001b[0m \u001b[0mself\u001b[0m\u001b[1;33m.\u001b[0m\u001b[0m_do_call\u001b[0m\u001b[1;33m(\u001b[0m\u001b[0m_prun_fn\u001b[0m\u001b[1;33m,\u001b[0m \u001b[0mself\u001b[0m\u001b[1;33m.\u001b[0m\u001b[0m_session\u001b[0m\u001b[1;33m,\u001b[0m \u001b[0mhandle\u001b[0m\u001b[1;33m,\u001b[0m \u001b[0mfeeds\u001b[0m\u001b[1;33m,\u001b[0m \u001b[0mfetches\u001b[0m\u001b[1;33m)\u001b[0m\u001b[1;33m\u001b[0m\u001b[0m\n",
      "\u001b[1;32mc:\\python36\\lib\\site-packages\\tensorflow\\python\\client\\session.py\u001b[0m in \u001b[0;36m_do_call\u001b[1;34m(self, fn, *args)\u001b[0m\n\u001b[0;32m   1325\u001b[0m   \u001b[1;32mdef\u001b[0m \u001b[0m_do_call\u001b[0m\u001b[1;33m(\u001b[0m\u001b[0mself\u001b[0m\u001b[1;33m,\u001b[0m \u001b[0mfn\u001b[0m\u001b[1;33m,\u001b[0m \u001b[1;33m*\u001b[0m\u001b[0margs\u001b[0m\u001b[1;33m)\u001b[0m\u001b[1;33m:\u001b[0m\u001b[1;33m\u001b[0m\u001b[0m\n\u001b[0;32m   1326\u001b[0m     \u001b[1;32mtry\u001b[0m\u001b[1;33m:\u001b[0m\u001b[1;33m\u001b[0m\u001b[0m\n\u001b[1;32m-> 1327\u001b[1;33m       \u001b[1;32mreturn\u001b[0m \u001b[0mfn\u001b[0m\u001b[1;33m(\u001b[0m\u001b[1;33m*\u001b[0m\u001b[0margs\u001b[0m\u001b[1;33m)\u001b[0m\u001b[1;33m\u001b[0m\u001b[0m\n\u001b[0m\u001b[0;32m   1328\u001b[0m     \u001b[1;32mexcept\u001b[0m \u001b[0merrors\u001b[0m\u001b[1;33m.\u001b[0m\u001b[0mOpError\u001b[0m \u001b[1;32mas\u001b[0m \u001b[0me\u001b[0m\u001b[1;33m:\u001b[0m\u001b[1;33m\u001b[0m\u001b[0m\n\u001b[0;32m   1329\u001b[0m       \u001b[0mmessage\u001b[0m \u001b[1;33m=\u001b[0m \u001b[0mcompat\u001b[0m\u001b[1;33m.\u001b[0m\u001b[0mas_text\u001b[0m\u001b[1;33m(\u001b[0m\u001b[0me\u001b[0m\u001b[1;33m.\u001b[0m\u001b[0mmessage\u001b[0m\u001b[1;33m)\u001b[0m\u001b[1;33m\u001b[0m\u001b[0m\n",
      "\u001b[1;32mc:\\python36\\lib\\site-packages\\tensorflow\\python\\client\\session.py\u001b[0m in \u001b[0;36m_run_fn\u001b[1;34m(session, feed_dict, fetch_list, target_list, options, run_metadata)\u001b[0m\n\u001b[0;32m   1304\u001b[0m           return tf_session.TF_Run(session, options,\n\u001b[0;32m   1305\u001b[0m                                    \u001b[0mfeed_dict\u001b[0m\u001b[1;33m,\u001b[0m \u001b[0mfetch_list\u001b[0m\u001b[1;33m,\u001b[0m \u001b[0mtarget_list\u001b[0m\u001b[1;33m,\u001b[0m\u001b[1;33m\u001b[0m\u001b[0m\n\u001b[1;32m-> 1306\u001b[1;33m                                    status, run_metadata)\n\u001b[0m\u001b[0;32m   1307\u001b[0m \u001b[1;33m\u001b[0m\u001b[0m\n\u001b[0;32m   1308\u001b[0m     \u001b[1;32mdef\u001b[0m \u001b[0m_prun_fn\u001b[0m\u001b[1;33m(\u001b[0m\u001b[0msession\u001b[0m\u001b[1;33m,\u001b[0m \u001b[0mhandle\u001b[0m\u001b[1;33m,\u001b[0m \u001b[0mfeed_dict\u001b[0m\u001b[1;33m,\u001b[0m \u001b[0mfetch_list\u001b[0m\u001b[1;33m)\u001b[0m\u001b[1;33m:\u001b[0m\u001b[1;33m\u001b[0m\u001b[0m\n",
      "\u001b[1;31mKeyboardInterrupt\u001b[0m: "
     ]
    }
   ],
   "source": [
    "for nr in frame_numbers:\n",
    "    print(nr)\n",
    "    try:\n",
    "        gyro_train_input, gyro_train_label = prepare_data(train, nr, 'gyro', verbose=False)\n",
    "        gyro_valid_input, gyro_valid_label = prepare_data(valid, nr, 'gyro', verbose=False)\n",
    "\n",
    "        encoder = LabelEncoder()\n",
    "\n",
    "        X_train = gyro_train_input.reshape(gyro_train_input.shape[0], 1, gyro_train_input.shape[1])\n",
    "        y_train = encoder.fit_transform(gyro_train_label)\n",
    "        X_valid = gyro_valid_input.reshape(gyro_valid_input.shape[0], 1, gyro_valid_input.shape[1])\n",
    "        y_valid = encoder.fit_transform(gyro_valid_label)\n",
    "\n",
    "        parameters[0]['n_classes'] = [len(encoder.classes_)]\n",
    "        parameters[0]['shape'] = [X_train.shape[2]]\n",
    "        parameters[0]['num_units'] = [X_train.shape[2]]\n",
    "\n",
    "        #parameters[0]['batch_size'] = [1, 10, 100]\n",
    "        #parameters[0]['batch_size'].append(X_train.shape[2])\n",
    "\n",
    "        lstm_model = KerasClassifier(create_model, verbose=0)\n",
    "\n",
    "        lstm = GridSearchCV(lstm_model, parameters, scoring='accuracy', cv=cross_valid,\n",
    "                           verbose=verbose_level).fit(np.append(X_train, X_valid, axis=0),np.append(y_train, y_valid))\n",
    "\n",
    "        result = (lstm.best_score_, nr, lstm.best_params_)\n",
    "\n",
    "        if result[0] > all_gyro[0]:\n",
    "            all_gyro = result\n",
    "\n",
    "        K.clear_session()\n",
    "    \n",
    "    except ValueError as err:\n",
    "        pass"
   ]
  },
  {
   "cell_type": "code",
   "execution_count": null,
   "metadata": {
    "collapsed": true
   },
   "outputs": [],
   "source": [
    "print(all_gyro, end='\\n')"
   ]
  },
  {
   "cell_type": "markdown",
   "metadata": {},
   "source": [
    "### Magnetometer"
   ]
  },
  {
   "cell_type": "code",
   "execution_count": null,
   "metadata": {
    "collapsed": true
   },
   "outputs": [],
   "source": [
    "for nr in frame_numbers:\n",
    "    print(nr)\n",
    "    try:\n",
    "        ori_train_input, ori_train_label = prepare_data(train, nr, 'orientation', verbose=False)\n",
    "        ori_valid_input, ori_valid_label = prepare_data(valid, nr, 'orientation', verbose=False)\n",
    "\n",
    "        encoder = LabelEncoder()\n",
    "\n",
    "        X_train = ori_train_input.reshape(ori_train_input.shape[0], 1, ori_train_input.shape[1])\n",
    "        y_train = encoder.fit_transform(ori_train_label)\n",
    "        X_valid = ori_valid_input.reshape(ori_valid_input.shape[0], 1, ori_valid_input.shape[1])\n",
    "        y_valid = encoder.fit_transform(ori_valid_label)\n",
    "\n",
    "        parameters[0]['n_classes'] = [len(encoder.classes_)]\n",
    "        parameters[0]['shape'] = [X_train.shape[2]]\n",
    "        parameters[0]['num_units'] = [X_train.shape[2]]\n",
    "\n",
    "        #parameters[0]['batch_size'] = [1, 10, 100]\n",
    "        #parameters[0]['batch_size'].append(X_train.shape[2])\n",
    "\n",
    "        lstm_model = KerasClassifier(create_model, verbose=0)\n",
    "\n",
    "        lstm = GridSearchCV(lstm_model, parameters, scoring='accuracy', cv=cross_valid,\n",
    "                           verbose=verbose_level).fit(np.append(X_train, X_valid, axis=0),np.append(y_train, y_valid))\n",
    "\n",
    "        result = (lstm.best_score_, nr, lstm.best_params_)\n",
    "\n",
    "        if result[0] > all_ori[0]:\n",
    "            all_ori = result\n",
    "\n",
    "        K.clear_session()\n",
    "    \n",
    "    except ValueError as err:\n",
    "        pass"
   ]
  },
  {
   "cell_type": "code",
   "execution_count": null,
   "metadata": {
    "collapsed": true
   },
   "outputs": [],
   "source": [
    "print(all_ori, end='\\n')"
   ]
  },
  {
   "cell_type": "markdown",
   "metadata": {},
   "source": [
    "### EMG"
   ]
  },
  {
   "cell_type": "code",
   "execution_count": 10,
   "metadata": {},
   "outputs": [
    {
     "name": "stdout",
     "output_type": "stream",
     "text": [
      "1\n",
      "Fitting 1 folds for each of 9 candidates, totalling 9 fits\n",
      "[CV] batch_size=1, epochs=10, n_classes=24, num_units=32, optimizer=Adam, shape=32 \n",
      "[CV]  batch_size=1, epochs=10, n_classes=24, num_units=32, optimizer=Adam, shape=32, score=0.13942307692307693, total=  26.5s\n",
      "[CV] batch_size=1, epochs=100, n_classes=24, num_units=32, optimizer=Adam, shape=32 \n"
     ]
    },
    {
     "name": "stderr",
     "output_type": "stream",
     "text": [
      "[Parallel(n_jobs=1)]: Done   1 out of   1 | elapsed:   27.0s remaining:    0.0s\n"
     ]
    },
    {
     "name": "stdout",
     "output_type": "stream",
     "text": [
      "[CV]  batch_size=1, epochs=100, n_classes=24, num_units=32, optimizer=Adam, shape=32, score=0.19230769230769232, total= 3.6min\n",
      "[CV] batch_size=1, epochs=300, n_classes=24, num_units=32, optimizer=Adam, shape=32 \n"
     ]
    },
    {
     "name": "stderr",
     "output_type": "stream",
     "text": [
      "[Parallel(n_jobs=1)]: Done   2 out of   2 | elapsed:  4.1min remaining:    0.0s\n"
     ]
    },
    {
     "name": "stdout",
     "output_type": "stream",
     "text": [
      "[CV]  batch_size=1, epochs=300, n_classes=24, num_units=32, optimizer=Adam, shape=32, score=0.2692307692307692, total=10.7min\n",
      "[CV] batch_size=10, epochs=10, n_classes=24, num_units=32, optimizer=Adam, shape=32 \n",
      "[CV]  batch_size=10, epochs=10, n_classes=24, num_units=32, optimizer=Adam, shape=32, score=0.09615384615384616, total=   7.1s\n",
      "[CV] batch_size=10, epochs=100, n_classes=24, num_units=32, optimizer=Adam, shape=32 \n",
      "[CV]  batch_size=10, epochs=100, n_classes=24, num_units=32, optimizer=Adam, shape=32, score=0.16346153846153846, total=  26.1s\n",
      "[CV] batch_size=10, epochs=300, n_classes=24, num_units=32, optimizer=Adam, shape=32 \n",
      "[CV]  batch_size=10, epochs=300, n_classes=24, num_units=32, optimizer=Adam, shape=32, score=0.2403846153846154, total= 1.2min\n",
      "[CV] batch_size=100, epochs=10, n_classes=24, num_units=32, optimizer=Adam, shape=32 \n",
      "[CV]  batch_size=100, epochs=10, n_classes=24, num_units=32, optimizer=Adam, shape=32, score=0.038461538461538464, total=   6.7s\n",
      "[CV] batch_size=100, epochs=100, n_classes=24, num_units=32, optimizer=Adam, shape=32 \n",
      "[CV]  batch_size=100, epochs=100, n_classes=24, num_units=32, optimizer=Adam, shape=32, score=0.11538461538461539, total=   7.8s\n",
      "[CV] batch_size=100, epochs=300, n_classes=24, num_units=32, optimizer=Adam, shape=32 \n",
      "[CV]  batch_size=100, epochs=300, n_classes=24, num_units=32, optimizer=Adam, shape=32, score=0.16826923076923078, total=  13.5s\n"
     ]
    },
    {
     "name": "stderr",
     "output_type": "stream",
     "text": [
      "[Parallel(n_jobs=1)]: Done   9 out of   9 | elapsed: 17.0min finished\n"
     ]
    },
    {
     "name": "stdout",
     "output_type": "stream",
     "text": [
      "2\n",
      "Fitting 1 folds for each of 9 candidates, totalling 9 fits\n",
      "[CV] batch_size=1, epochs=10, n_classes=24, num_units=64, optimizer=Adam, shape=64 \n",
      "[CV]  batch_size=1, epochs=10, n_classes=24, num_units=64, optimizer=Adam, shape=64, score=0.17307692307692307, total=  29.1s\n",
      "[CV] batch_size=1, epochs=100, n_classes=24, num_units=64, optimizer=Adam, shape=64 \n"
     ]
    },
    {
     "name": "stderr",
     "output_type": "stream",
     "text": [
      "[Parallel(n_jobs=1)]: Done   1 out of   1 | elapsed:   29.6s remaining:    0.0s\n"
     ]
    },
    {
     "name": "stdout",
     "output_type": "stream",
     "text": [
      "[CV]  batch_size=1, epochs=100, n_classes=24, num_units=64, optimizer=Adam, shape=64, score=0.3076923076923077, total= 4.4min\n",
      "[CV] batch_size=1, epochs=300, n_classes=24, num_units=64, optimizer=Adam, shape=64 \n"
     ]
    },
    {
     "name": "stderr",
     "output_type": "stream",
     "text": [
      "[Parallel(n_jobs=1)]: Done   2 out of   2 | elapsed:  4.9min remaining:    0.0s\n"
     ]
    },
    {
     "name": "stdout",
     "output_type": "stream",
     "text": [
      "[CV]  batch_size=1, epochs=300, n_classes=24, num_units=64, optimizer=Adam, shape=64, score=0.4326923076923077, total=13.2min\n",
      "[CV] batch_size=10, epochs=10, n_classes=24, num_units=64, optimizer=Adam, shape=64 \n",
      "[CV]  batch_size=10, epochs=10, n_classes=24, num_units=64, optimizer=Adam, shape=64, score=0.11057692307692307, total=   8.1s\n",
      "[CV] batch_size=10, epochs=100, n_classes=24, num_units=64, optimizer=Adam, shape=64 \n",
      "[CV]  batch_size=10, epochs=100, n_classes=24, num_units=64, optimizer=Adam, shape=64, score=0.21634615384615385, total=  33.6s\n",
      "[CV] batch_size=10, epochs=300, n_classes=24, num_units=64, optimizer=Adam, shape=64 \n",
      "[CV]  batch_size=10, epochs=300, n_classes=24, num_units=64, optimizer=Adam, shape=64, score=0.3076923076923077, total= 1.5min\n",
      "[CV] batch_size=100, epochs=10, n_classes=24, num_units=64, optimizer=Adam, shape=64 \n",
      "[CV]  batch_size=100, epochs=10, n_classes=24, num_units=64, optimizer=Adam, shape=64, score=0.09615384615384616, total=   6.8s\n",
      "[CV] batch_size=100, epochs=100, n_classes=24, num_units=64, optimizer=Adam, shape=64 \n",
      "[CV]  batch_size=100, epochs=100, n_classes=24, num_units=64, optimizer=Adam, shape=64, score=0.16826923076923078, total=   8.8s\n",
      "[CV] batch_size=100, epochs=300, n_classes=24, num_units=64, optimizer=Adam, shape=64 \n",
      "[CV]  batch_size=100, epochs=300, n_classes=24, num_units=64, optimizer=Adam, shape=64, score=0.21634615384615385, total=  16.6s\n"
     ]
    },
    {
     "name": "stderr",
     "output_type": "stream",
     "text": [
      "[Parallel(n_jobs=1)]: Done   9 out of   9 | elapsed: 20.8min finished\n"
     ]
    },
    {
     "name": "stdout",
     "output_type": "stream",
     "text": [
      "3\n",
      "Fitting 1 folds for each of 9 candidates, totalling 9 fits\n",
      "[CV] batch_size=1, epochs=10, n_classes=24, num_units=96, optimizer=Adam, shape=96 \n",
      "[CV]  batch_size=1, epochs=10, n_classes=24, num_units=96, optimizer=Adam, shape=96, score=0.23076923076923078, total=  41.3s\n",
      "[CV] batch_size=1, epochs=100, n_classes=24, num_units=96, optimizer=Adam, shape=96 \n"
     ]
    },
    {
     "name": "stderr",
     "output_type": "stream",
     "text": [
      "[Parallel(n_jobs=1)]: Done   1 out of   1 | elapsed:   41.8s remaining:    0.0s\n"
     ]
    },
    {
     "name": "stdout",
     "output_type": "stream",
     "text": [
      "[CV]  batch_size=1, epochs=100, n_classes=24, num_units=96, optimizer=Adam, shape=96, score=0.34134615384615385, total= 6.2min\n",
      "[CV] batch_size=1, epochs=300, n_classes=24, num_units=96, optimizer=Adam, shape=96 \n"
     ]
    },
    {
     "name": "stderr",
     "output_type": "stream",
     "text": [
      "[Parallel(n_jobs=1)]: Done   2 out of   2 | elapsed:  6.9min remaining:    0.0s\n"
     ]
    },
    {
     "name": "stdout",
     "output_type": "stream",
     "text": [
      "[CV]  batch_size=1, epochs=300, n_classes=24, num_units=96, optimizer=Adam, shape=96, score=0.4182692307692308, total=17.4min\n",
      "[CV] batch_size=10, epochs=10, n_classes=24, num_units=96, optimizer=Adam, shape=96 \n",
      "[CV]  batch_size=10, epochs=10, n_classes=24, num_units=96, optimizer=Adam, shape=96, score=0.20673076923076922, total=   8.1s\n",
      "[CV] batch_size=10, epochs=100, n_classes=24, num_units=96, optimizer=Adam, shape=96 \n",
      "[CV]  batch_size=10, epochs=100, n_classes=24, num_units=96, optimizer=Adam, shape=96, score=0.2932692307692308, total=  39.8s\n",
      "[CV] batch_size=10, epochs=300, n_classes=24, num_units=96, optimizer=Adam, shape=96 \n",
      "[CV]  batch_size=10, epochs=300, n_classes=24, num_units=96, optimizer=Adam, shape=96, score=0.34615384615384615, total= 1.9min\n",
      "[CV] batch_size=100, epochs=10, n_classes=24, num_units=96, optimizer=Adam, shape=96 \n",
      "[CV]  batch_size=100, epochs=10, n_classes=24, num_units=96, optimizer=Adam, shape=96, score=0.07211538461538461, total=   5.8s\n",
      "[CV] batch_size=100, epochs=100, n_classes=24, num_units=96, optimizer=Adam, shape=96 \n",
      "[CV]  batch_size=100, epochs=100, n_classes=24, num_units=96, optimizer=Adam, shape=96, score=0.22596153846153846, total=  14.8s\n",
      "[CV] batch_size=100, epochs=300, n_classes=24, num_units=96, optimizer=Adam, shape=96 \n",
      "[CV]  batch_size=100, epochs=300, n_classes=24, num_units=96, optimizer=Adam, shape=96, score=0.27403846153846156, total=  23.6s\n"
     ]
    },
    {
     "name": "stderr",
     "output_type": "stream",
     "text": [
      "[Parallel(n_jobs=1)]: Done   9 out of   9 | elapsed: 27.7min finished\n"
     ]
    },
    {
     "name": "stdout",
     "output_type": "stream",
     "text": [
      "4\n",
      "Fitting 1 folds for each of 9 candidates, totalling 9 fits\n",
      "[CV] batch_size=1, epochs=10, n_classes=24, num_units=128, optimizer=Adam, shape=128 \n",
      "[CV]  batch_size=1, epochs=10, n_classes=24, num_units=128, optimizer=Adam, shape=128, score=0.22115384615384615, total=  43.6s\n",
      "[CV] batch_size=1, epochs=100, n_classes=24, num_units=128, optimizer=Adam, shape=128 \n"
     ]
    },
    {
     "name": "stderr",
     "output_type": "stream",
     "text": [
      "[Parallel(n_jobs=1)]: Done   1 out of   1 | elapsed:   44.2s remaining:    0.0s\n"
     ]
    },
    {
     "name": "stdout",
     "output_type": "stream",
     "text": [
      "[CV]  batch_size=1, epochs=100, n_classes=24, num_units=128, optimizer=Adam, shape=128, score=0.3894230769230769, total= 6.9min\n",
      "[CV] batch_size=1, epochs=300, n_classes=24, num_units=128, optimizer=Adam, shape=128 \n"
     ]
    },
    {
     "name": "stderr",
     "output_type": "stream",
     "text": [
      "[Parallel(n_jobs=1)]: Done   2 out of   2 | elapsed:  7.7min remaining:    0.0s\n"
     ]
    },
    {
     "name": "stdout",
     "output_type": "stream",
     "text": [
      "[CV]  batch_size=1, epochs=300, n_classes=24, num_units=128, optimizer=Adam, shape=128, score=0.42788461538461536, total=21.5min\n",
      "[CV] batch_size=10, epochs=10, n_classes=24, num_units=128, optimizer=Adam, shape=128 \n",
      "[CV]  batch_size=10, epochs=10, n_classes=24, num_units=128, optimizer=Adam, shape=128, score=0.20192307692307693, total=   9.3s\n",
      "[CV] batch_size=10, epochs=100, n_classes=24, num_units=128, optimizer=Adam, shape=128 \n",
      "[CV]  batch_size=10, epochs=100, n_classes=24, num_units=128, optimizer=Adam, shape=128, score=0.32211538461538464, total=  59.5s\n",
      "[CV] batch_size=10, epochs=300, n_classes=24, num_units=128, optimizer=Adam, shape=128 \n",
      "[CV]  batch_size=10, epochs=300, n_classes=24, num_units=128, optimizer=Adam, shape=128, score=0.40865384615384615, total= 2.6min\n",
      "[CV] batch_size=100, epochs=10, n_classes=24, num_units=128, optimizer=Adam, shape=128 \n",
      "[CV]  batch_size=100, epochs=10, n_classes=24, num_units=128, optimizer=Adam, shape=128, score=0.0673076923076923, total=   5.6s\n",
      "[CV] batch_size=100, epochs=100, n_classes=24, num_units=128, optimizer=Adam, shape=128 \n",
      "[CV]  batch_size=100, epochs=100, n_classes=24, num_units=128, optimizer=Adam, shape=128, score=0.2403846153846154, total=  12.6s\n",
      "[CV] batch_size=100, epochs=300, n_classes=24, num_units=128, optimizer=Adam, shape=128 \n",
      "[CV]  batch_size=100, epochs=300, n_classes=24, num_units=128, optimizer=Adam, shape=128, score=0.2980769230769231, total=  27.0s\n"
     ]
    },
    {
     "name": "stderr",
     "output_type": "stream",
     "text": [
      "[Parallel(n_jobs=1)]: Done   9 out of   9 | elapsed: 33.7min finished\n"
     ]
    },
    {
     "name": "stdout",
     "output_type": "stream",
     "text": [
      "5\n",
      "Fitting 1 folds for each of 9 candidates, totalling 9 fits\n",
      "[CV] batch_size=1, epochs=10, n_classes=24, num_units=160, optimizer=Adam, shape=160 \n",
      "[CV]  batch_size=1, epochs=10, n_classes=24, num_units=160, optimizer=Adam, shape=160, score=0.25, total= 1.0min\n",
      "[CV] batch_size=1, epochs=100, n_classes=24, num_units=160, optimizer=Adam, shape=160 \n"
     ]
    },
    {
     "name": "stderr",
     "output_type": "stream",
     "text": [
      "[Parallel(n_jobs=1)]: Done   1 out of   1 | elapsed:  1.0min remaining:    0.0s\n"
     ]
    },
    {
     "name": "stdout",
     "output_type": "stream",
     "text": [
      "[CV]  batch_size=1, epochs=100, n_classes=24, num_units=160, optimizer=Adam, shape=160, score=0.4230769230769231, total= 9.8min\n",
      "[CV] batch_size=1, epochs=300, n_classes=24, num_units=160, optimizer=Adam, shape=160 \n"
     ]
    },
    {
     "name": "stderr",
     "output_type": "stream",
     "text": [
      "[Parallel(n_jobs=1)]: Done   2 out of   2 | elapsed: 10.9min remaining:    0.0s\n"
     ]
    },
    {
     "name": "stdout",
     "output_type": "stream",
     "text": [
      "[CV]  batch_size=1, epochs=300, n_classes=24, num_units=160, optimizer=Adam, shape=160, score=0.4855769230769231, total=29.6min\n",
      "[CV] batch_size=10, epochs=10, n_classes=24, num_units=160, optimizer=Adam, shape=160 \n",
      "[CV]  batch_size=10, epochs=10, n_classes=24, num_units=160, optimizer=Adam, shape=160, score=0.1971153846153846, total=  11.0s\n",
      "[CV] batch_size=10, epochs=100, n_classes=24, num_units=160, optimizer=Adam, shape=160 \n",
      "[CV]  batch_size=10, epochs=100, n_classes=24, num_units=160, optimizer=Adam, shape=160, score=0.3317307692307692, total= 1.1min\n",
      "[CV] batch_size=10, epochs=300, n_classes=24, num_units=160, optimizer=Adam, shape=160 \n",
      "[CV]  batch_size=10, epochs=300, n_classes=24, num_units=160, optimizer=Adam, shape=160, score=0.4326923076923077, total= 3.2min\n",
      "[CV] batch_size=100, epochs=10, n_classes=24, num_units=160, optimizer=Adam, shape=160 \n",
      "[CV]  batch_size=100, epochs=10, n_classes=24, num_units=160, optimizer=Adam, shape=160, score=0.10576923076923077, total=   8.4s\n",
      "[CV] batch_size=100, epochs=100, n_classes=24, num_units=160, optimizer=Adam, shape=160 \n",
      "[CV]  batch_size=100, epochs=100, n_classes=24, num_units=160, optimizer=Adam, shape=160, score=0.22115384615384615, total=  26.8s\n",
      "[CV] batch_size=100, epochs=300, n_classes=24, num_units=160, optimizer=Adam, shape=160 \n",
      "[CV]  batch_size=100, epochs=300, n_classes=24, num_units=160, optimizer=Adam, shape=160, score=0.3125, total=  38.7s\n"
     ]
    },
    {
     "name": "stderr",
     "output_type": "stream",
     "text": [
      "[Parallel(n_jobs=1)]: Done   9 out of   9 | elapsed: 46.2min finished\n"
     ]
    },
    {
     "name": "stdout",
     "output_type": "stream",
     "text": [
      "6\n",
      "Fitting 1 folds for each of 9 candidates, totalling 9 fits\n",
      "[CV] batch_size=1, epochs=10, n_classes=24, num_units=192, optimizer=Adam, shape=192 \n",
      "[CV]  batch_size=1, epochs=10, n_classes=24, num_units=192, optimizer=Adam, shape=192, score=0.23076923076923078, total= 1.3min\n",
      "[CV] batch_size=1, epochs=100, n_classes=24, num_units=192, optimizer=Adam, shape=192 \n"
     ]
    },
    {
     "name": "stderr",
     "output_type": "stream",
     "text": [
      "[Parallel(n_jobs=1)]: Done   1 out of   1 | elapsed:  1.3min remaining:    0.0s\n"
     ]
    },
    {
     "name": "stdout",
     "output_type": "stream",
     "text": [
      "[CV]  batch_size=1, epochs=100, n_classes=24, num_units=192, optimizer=Adam, shape=192, score=0.4519230769230769, total=12.8min\n",
      "[CV] batch_size=1, epochs=300, n_classes=24, num_units=192, optimizer=Adam, shape=192 \n"
     ]
    },
    {
     "name": "stderr",
     "output_type": "stream",
     "text": [
      "[Parallel(n_jobs=1)]: Done   2 out of   2 | elapsed: 14.2min remaining:    0.0s\n"
     ]
    },
    {
     "name": "stdout",
     "output_type": "stream",
     "text": [
      "[CV]  batch_size=1, epochs=300, n_classes=24, num_units=192, optimizer=Adam, shape=192, score=0.46634615384615385, total=40.9min\n",
      "[CV] batch_size=10, epochs=10, n_classes=24, num_units=192, optimizer=Adam, shape=192 \n",
      "[CV]  batch_size=10, epochs=10, n_classes=24, num_units=192, optimizer=Adam, shape=192, score=0.20192307692307693, total=  10.3s\n",
      "[CV] batch_size=10, epochs=100, n_classes=24, num_units=192, optimizer=Adam, shape=192 \n",
      "[CV]  batch_size=10, epochs=100, n_classes=24, num_units=192, optimizer=Adam, shape=192, score=0.3701923076923077, total= 1.6min\n",
      "[CV] batch_size=10, epochs=300, n_classes=24, num_units=192, optimizer=Adam, shape=192 \n",
      "[CV]  batch_size=10, epochs=300, n_classes=24, num_units=192, optimizer=Adam, shape=192, score=0.4326923076923077, total= 4.1min\n",
      "[CV] batch_size=100, epochs=10, n_classes=24, num_units=192, optimizer=Adam, shape=192 \n",
      "[CV]  batch_size=100, epochs=10, n_classes=24, num_units=192, optimizer=Adam, shape=192, score=0.1201923076923077, total=   3.3s\n",
      "[CV] batch_size=100, epochs=100, n_classes=24, num_units=192, optimizer=Adam, shape=192 \n",
      "[CV]  batch_size=100, epochs=100, n_classes=24, num_units=192, optimizer=Adam, shape=192, score=0.25, total=  11.2s\n",
      "[CV] batch_size=100, epochs=300, n_classes=24, num_units=192, optimizer=Adam, shape=192 \n",
      "[CV]  batch_size=100, epochs=300, n_classes=24, num_units=192, optimizer=Adam, shape=192, score=0.34615384615384615, total=  27.9s\n"
     ]
    },
    {
     "name": "stderr",
     "output_type": "stream",
     "text": [
      "[Parallel(n_jobs=1)]: Done   9 out of   9 | elapsed: 61.7min finished\n"
     ]
    },
    {
     "name": "stdout",
     "output_type": "stream",
     "text": [
      "7\n",
      "Fitting 1 folds for each of 9 candidates, totalling 9 fits\n",
      "[CV] batch_size=1, epochs=10, n_classes=24, num_units=224, optimizer=Adam, shape=224 \n",
      "[CV]  batch_size=1, epochs=10, n_classes=24, num_units=224, optimizer=Adam, shape=224, score=0.2644230769230769, total= 1.1min\n",
      "[CV] batch_size=1, epochs=100, n_classes=24, num_units=224, optimizer=Adam, shape=224 \n"
     ]
    },
    {
     "name": "stderr",
     "output_type": "stream",
     "text": [
      "[Parallel(n_jobs=1)]: Done   1 out of   1 | elapsed:  1.1min remaining:    0.0s\n"
     ]
    },
    {
     "name": "stdout",
     "output_type": "stream",
     "text": [
      "[CV]  batch_size=1, epochs=100, n_classes=24, num_units=224, optimizer=Adam, shape=224, score=0.39903846153846156, total=10.3min\n",
      "[CV] batch_size=1, epochs=300, n_classes=24, num_units=224, optimizer=Adam, shape=224 \n"
     ]
    },
    {
     "name": "stderr",
     "output_type": "stream",
     "text": [
      "[Parallel(n_jobs=1)]: Done   2 out of   2 | elapsed: 11.5min remaining:    0.0s\n"
     ]
    },
    {
     "name": "stdout",
     "output_type": "stream",
     "text": [
      "[CV]  batch_size=1, epochs=300, n_classes=24, num_units=224, optimizer=Adam, shape=224, score=0.4230769230769231, total=31.2min\n",
      "[CV] batch_size=10, epochs=10, n_classes=24, num_units=224, optimizer=Adam, shape=224 \n",
      "[CV]  batch_size=10, epochs=10, n_classes=24, num_units=224, optimizer=Adam, shape=224, score=0.22596153846153846, total=   8.3s\n",
      "[CV] batch_size=10, epochs=100, n_classes=24, num_units=224, optimizer=Adam, shape=224 \n",
      "[CV]  batch_size=10, epochs=100, n_classes=24, num_units=224, optimizer=Adam, shape=224, score=0.38461538461538464, total= 1.1min\n",
      "[CV] batch_size=10, epochs=300, n_classes=24, num_units=224, optimizer=Adam, shape=224 \n",
      "[CV]  batch_size=10, epochs=300, n_classes=24, num_units=224, optimizer=Adam, shape=224, score=0.41346153846153844, total= 3.1min\n",
      "[CV] batch_size=100, epochs=10, n_classes=24, num_units=224, optimizer=Adam, shape=224 \n",
      "[CV]  batch_size=100, epochs=10, n_classes=24, num_units=224, optimizer=Adam, shape=224, score=0.19230769230769232, total=   3.5s\n",
      "[CV] batch_size=100, epochs=100, n_classes=24, num_units=224, optimizer=Adam, shape=224 \n",
      "[CV]  batch_size=100, epochs=100, n_classes=24, num_units=224, optimizer=Adam, shape=224, score=0.2932692307692308, total=  13.2s\n",
      "[CV] batch_size=100, epochs=300, n_classes=24, num_units=224, optimizer=Adam, shape=224 \n",
      "[CV]  batch_size=100, epochs=300, n_classes=24, num_units=224, optimizer=Adam, shape=224, score=0.40865384615384615, total=  35.3s\n"
     ]
    },
    {
     "name": "stderr",
     "output_type": "stream",
     "text": [
      "[Parallel(n_jobs=1)]: Done   9 out of   9 | elapsed: 47.8min finished\n"
     ]
    },
    {
     "name": "stdout",
     "output_type": "stream",
     "text": [
      "8\n",
      "Fitting 1 folds for each of 9 candidates, totalling 9 fits\n",
      "[CV] batch_size=1, epochs=10, n_classes=24, num_units=256, optimizer=Adam, shape=256 \n",
      "[CV]  batch_size=1, epochs=10, n_classes=24, num_units=256, optimizer=Adam, shape=256, score=0.2644230769230769, total= 1.7min\n",
      "[CV] batch_size=1, epochs=100, n_classes=24, num_units=256, optimizer=Adam, shape=256 \n"
     ]
    },
    {
     "name": "stderr",
     "output_type": "stream",
     "text": [
      "[Parallel(n_jobs=1)]: Done   1 out of   1 | elapsed:  1.7min remaining:    0.0s\n"
     ]
    },
    {
     "name": "stdout",
     "output_type": "stream",
     "text": [
      "[CV]  batch_size=1, epochs=100, n_classes=24, num_units=256, optimizer=Adam, shape=256, score=0.4567307692307692, total=16.5min\n",
      "[CV] batch_size=1, epochs=300, n_classes=24, num_units=256, optimizer=Adam, shape=256 \n"
     ]
    },
    {
     "name": "stderr",
     "output_type": "stream",
     "text": [
      "[Parallel(n_jobs=1)]: Done   2 out of   2 | elapsed: 18.2min remaining:    0.0s\n"
     ]
    },
    {
     "name": "stdout",
     "output_type": "stream",
     "text": [
      "[CV]  batch_size=1, epochs=300, n_classes=24, num_units=256, optimizer=Adam, shape=256, score=0.4423076923076923, total=49.4min\n",
      "[CV] batch_size=10, epochs=10, n_classes=24, num_units=256, optimizer=Adam, shape=256 \n",
      "[CV]  batch_size=10, epochs=10, n_classes=24, num_units=256, optimizer=Adam, shape=256, score=0.23557692307692307, total=  12.9s\n",
      "[CV] batch_size=10, epochs=100, n_classes=24, num_units=256, optimizer=Adam, shape=256 \n",
      "[CV]  batch_size=10, epochs=100, n_classes=24, num_units=256, optimizer=Adam, shape=256, score=0.3942307692307692, total= 1.8min\n",
      "[CV] batch_size=10, epochs=300, n_classes=24, num_units=256, optimizer=Adam, shape=256 \n",
      "[CV]  batch_size=10, epochs=300, n_classes=24, num_units=256, optimizer=Adam, shape=256, score=0.4230769230769231, total= 5.4min\n",
      "[CV] batch_size=100, epochs=10, n_classes=24, num_units=256, optimizer=Adam, shape=256 \n",
      "[CV]  batch_size=100, epochs=10, n_classes=24, num_units=256, optimizer=Adam, shape=256, score=0.16826923076923078, total=   4.1s\n",
      "[CV] batch_size=100, epochs=100, n_classes=24, num_units=256, optimizer=Adam, shape=256 \n",
      "[CV]  batch_size=100, epochs=100, n_classes=24, num_units=256, optimizer=Adam, shape=256, score=0.28846153846153844, total=  17.9s\n",
      "[CV] batch_size=100, epochs=300, n_classes=24, num_units=256, optimizer=Adam, shape=256 \n",
      "[CV]  batch_size=100, epochs=300, n_classes=24, num_units=256, optimizer=Adam, shape=256, score=0.3798076923076923, total=  48.1s\n"
     ]
    },
    {
     "name": "stderr",
     "output_type": "stream",
     "text": [
      "[Parallel(n_jobs=1)]: Done   9 out of   9 | elapsed: 76.2min finished\n"
     ]
    },
    {
     "name": "stdout",
     "output_type": "stream",
     "text": [
      "9\n",
      "Fitting 1 folds for each of 9 candidates, totalling 9 fits\n",
      "[CV] batch_size=1, epochs=10, n_classes=24, num_units=288, optimizer=Adam, shape=288 \n",
      "[CV]  batch_size=1, epochs=10, n_classes=24, num_units=288, optimizer=Adam, shape=288, score=0.25961538461538464, total= 2.1min\n",
      "[CV] batch_size=1, epochs=100, n_classes=24, num_units=288, optimizer=Adam, shape=288 \n"
     ]
    },
    {
     "name": "stderr",
     "output_type": "stream",
     "text": [
      "[Parallel(n_jobs=1)]: Done   1 out of   1 | elapsed:  2.1min remaining:    0.0s\n"
     ]
    },
    {
     "name": "stdout",
     "output_type": "stream",
     "text": [
      "[CV]  batch_size=1, epochs=100, n_classes=24, num_units=288, optimizer=Adam, shape=288, score=0.47596153846153844, total=21.1min\n",
      "[CV] batch_size=1, epochs=300, n_classes=24, num_units=288, optimizer=Adam, shape=288 \n"
     ]
    },
    {
     "name": "stderr",
     "output_type": "stream",
     "text": [
      "[Parallel(n_jobs=1)]: Done   2 out of   2 | elapsed: 23.2min remaining:    0.0s\n"
     ]
    },
    {
     "name": "stdout",
     "output_type": "stream",
     "text": [
      "[CV]  batch_size=1, epochs=300, n_classes=24, num_units=288, optimizer=Adam, shape=288, score=0.46153846153846156, total=63.2min\n",
      "[CV] batch_size=10, epochs=10, n_classes=24, num_units=288, optimizer=Adam, shape=288 \n",
      "[CV]  batch_size=10, epochs=10, n_classes=24, num_units=288, optimizer=Adam, shape=288, score=0.22596153846153846, total=  16.0s\n",
      "[CV] batch_size=10, epochs=100, n_classes=24, num_units=288, optimizer=Adam, shape=288 \n",
      "[CV]  batch_size=10, epochs=100, n_classes=24, num_units=288, optimizer=Adam, shape=288, score=0.4423076923076923, total= 2.3min\n",
      "[CV] batch_size=10, epochs=300, n_classes=24, num_units=288, optimizer=Adam, shape=288 \n",
      "[CV]  batch_size=10, epochs=300, n_classes=24, num_units=288, optimizer=Adam, shape=288, score=0.4519230769230769, total= 6.8min\n",
      "[CV] batch_size=100, epochs=10, n_classes=24, num_units=288, optimizer=Adam, shape=288 \n",
      "[CV]  batch_size=100, epochs=10, n_classes=24, num_units=288, optimizer=Adam, shape=288, score=0.1778846153846154, total=   4.5s\n",
      "[CV] batch_size=100, epochs=100, n_classes=24, num_units=288, optimizer=Adam, shape=288 \n",
      "[CV]  batch_size=100, epochs=100, n_classes=24, num_units=288, optimizer=Adam, shape=288, score=0.30288461538461536, total=  21.6s\n",
      "[CV] batch_size=100, epochs=300, n_classes=24, num_units=288, optimizer=Adam, shape=288 \n",
      "[CV]  batch_size=100, epochs=300, n_classes=24, num_units=288, optimizer=Adam, shape=288, score=0.41346153846153844, total= 1.0min\n"
     ]
    },
    {
     "name": "stderr",
     "output_type": "stream",
     "text": [
      "[Parallel(n_jobs=1)]: Done   9 out of   9 | elapsed: 97.3min finished\n"
     ]
    },
    {
     "name": "stdout",
     "output_type": "stream",
     "text": [
      "10\n",
      "Fitting 1 folds for each of 9 candidates, totalling 9 fits\n",
      "[CV] batch_size=1, epochs=10, n_classes=24, num_units=320, optimizer=Adam, shape=320 \n",
      "[CV]  batch_size=1, epochs=10, n_classes=24, num_units=320, optimizer=Adam, shape=320, score=0.30917874396135264, total= 3.2min\n",
      "[CV] batch_size=1, epochs=100, n_classes=24, num_units=320, optimizer=Adam, shape=320 \n"
     ]
    },
    {
     "name": "stderr",
     "output_type": "stream",
     "text": [
      "[Parallel(n_jobs=1)]: Done   1 out of   1 | elapsed:  3.2min remaining:    0.0s\n"
     ]
    },
    {
     "name": "stdout",
     "output_type": "stream",
     "text": [
      "[CV]  batch_size=1, epochs=100, n_classes=24, num_units=320, optimizer=Adam, shape=320, score=0.5314009661835749, total=32.1min\n",
      "[CV] batch_size=1, epochs=300, n_classes=24, num_units=320, optimizer=Adam, shape=320 \n"
     ]
    },
    {
     "name": "stderr",
     "output_type": "stream",
     "text": [
      "[Parallel(n_jobs=1)]: Done   2 out of   2 | elapsed: 35.3min remaining:    0.0s\n"
     ]
    },
    {
     "ename": "KeyboardInterrupt",
     "evalue": "",
     "output_type": "error",
     "traceback": [
      "\u001b[1;31m---------------------------------------------------------------------------\u001b[0m",
      "\u001b[1;31mKeyboardInterrupt\u001b[0m                         Traceback (most recent call last)",
      "\u001b[1;32m<ipython-input-10-2e3346f623ac>\u001b[0m in \u001b[0;36m<module>\u001b[1;34m()\u001b[0m\n\u001b[0;32m     22\u001b[0m \u001b[1;33m\u001b[0m\u001b[0m\n\u001b[0;32m     23\u001b[0m         lstm = GridSearchCV(lstm_model, parameters, scoring='accuracy', cv=cross_valid,\n\u001b[1;32m---> 24\u001b[1;33m                            verbose=verbose_level).fit(np.append(X_train, X_valid, axis=0),np.append(y_train, y_valid))\n\u001b[0m\u001b[0;32m     25\u001b[0m \u001b[1;33m\u001b[0m\u001b[0m\n\u001b[0;32m     26\u001b[0m         \u001b[0mresult\u001b[0m \u001b[1;33m=\u001b[0m \u001b[1;33m(\u001b[0m\u001b[0mlstm\u001b[0m\u001b[1;33m.\u001b[0m\u001b[0mbest_score_\u001b[0m\u001b[1;33m,\u001b[0m \u001b[0mnr\u001b[0m\u001b[1;33m,\u001b[0m \u001b[0mlstm\u001b[0m\u001b[1;33m.\u001b[0m\u001b[0mbest_params_\u001b[0m\u001b[1;33m)\u001b[0m\u001b[1;33m\u001b[0m\u001b[0m\n",
      "\u001b[1;32mc:\\python36\\lib\\site-packages\\sklearn\\model_selection\\_search.py\u001b[0m in \u001b[0;36mfit\u001b[1;34m(self, X, y, groups, **fit_params)\u001b[0m\n\u001b[0;32m    636\u001b[0m                                   error_score=self.error_score)\n\u001b[0;32m    637\u001b[0m           for parameters, (train, test) in product(candidate_params,\n\u001b[1;32m--> 638\u001b[1;33m                                                    cv.split(X, y, groups)))\n\u001b[0m\u001b[0;32m    639\u001b[0m \u001b[1;33m\u001b[0m\u001b[0m\n\u001b[0;32m    640\u001b[0m         \u001b[1;31m# if one choose to see train score, \"out\" will contain train score info\u001b[0m\u001b[1;33m\u001b[0m\u001b[1;33m\u001b[0m\u001b[0m\n",
      "\u001b[1;32mc:\\python36\\lib\\site-packages\\sklearn\\externals\\joblib\\parallel.py\u001b[0m in \u001b[0;36m__call__\u001b[1;34m(self, iterable)\u001b[0m\n\u001b[0;32m    777\u001b[0m             \u001b[1;31m# was dispatched. In particular this covers the edge\u001b[0m\u001b[1;33m\u001b[0m\u001b[1;33m\u001b[0m\u001b[0m\n\u001b[0;32m    778\u001b[0m             \u001b[1;31m# case of Parallel used with an exhausted iterator.\u001b[0m\u001b[1;33m\u001b[0m\u001b[1;33m\u001b[0m\u001b[0m\n\u001b[1;32m--> 779\u001b[1;33m             \u001b[1;32mwhile\u001b[0m \u001b[0mself\u001b[0m\u001b[1;33m.\u001b[0m\u001b[0mdispatch_one_batch\u001b[0m\u001b[1;33m(\u001b[0m\u001b[0miterator\u001b[0m\u001b[1;33m)\u001b[0m\u001b[1;33m:\u001b[0m\u001b[1;33m\u001b[0m\u001b[0m\n\u001b[0m\u001b[0;32m    780\u001b[0m                 \u001b[0mself\u001b[0m\u001b[1;33m.\u001b[0m\u001b[0m_iterating\u001b[0m \u001b[1;33m=\u001b[0m \u001b[1;32mTrue\u001b[0m\u001b[1;33m\u001b[0m\u001b[0m\n\u001b[0;32m    781\u001b[0m             \u001b[1;32melse\u001b[0m\u001b[1;33m:\u001b[0m\u001b[1;33m\u001b[0m\u001b[0m\n",
      "\u001b[1;32mc:\\python36\\lib\\site-packages\\sklearn\\externals\\joblib\\parallel.py\u001b[0m in \u001b[0;36mdispatch_one_batch\u001b[1;34m(self, iterator)\u001b[0m\n\u001b[0;32m    623\u001b[0m                 \u001b[1;32mreturn\u001b[0m \u001b[1;32mFalse\u001b[0m\u001b[1;33m\u001b[0m\u001b[0m\n\u001b[0;32m    624\u001b[0m             \u001b[1;32melse\u001b[0m\u001b[1;33m:\u001b[0m\u001b[1;33m\u001b[0m\u001b[0m\n\u001b[1;32m--> 625\u001b[1;33m                 \u001b[0mself\u001b[0m\u001b[1;33m.\u001b[0m\u001b[0m_dispatch\u001b[0m\u001b[1;33m(\u001b[0m\u001b[0mtasks\u001b[0m\u001b[1;33m)\u001b[0m\u001b[1;33m\u001b[0m\u001b[0m\n\u001b[0m\u001b[0;32m    626\u001b[0m                 \u001b[1;32mreturn\u001b[0m \u001b[1;32mTrue\u001b[0m\u001b[1;33m\u001b[0m\u001b[0m\n\u001b[0;32m    627\u001b[0m \u001b[1;33m\u001b[0m\u001b[0m\n",
      "\u001b[1;32mc:\\python36\\lib\\site-packages\\sklearn\\externals\\joblib\\parallel.py\u001b[0m in \u001b[0;36m_dispatch\u001b[1;34m(self, batch)\u001b[0m\n\u001b[0;32m    586\u001b[0m         \u001b[0mdispatch_timestamp\u001b[0m \u001b[1;33m=\u001b[0m \u001b[0mtime\u001b[0m\u001b[1;33m.\u001b[0m\u001b[0mtime\u001b[0m\u001b[1;33m(\u001b[0m\u001b[1;33m)\u001b[0m\u001b[1;33m\u001b[0m\u001b[0m\n\u001b[0;32m    587\u001b[0m         \u001b[0mcb\u001b[0m \u001b[1;33m=\u001b[0m \u001b[0mBatchCompletionCallBack\u001b[0m\u001b[1;33m(\u001b[0m\u001b[0mdispatch_timestamp\u001b[0m\u001b[1;33m,\u001b[0m \u001b[0mlen\u001b[0m\u001b[1;33m(\u001b[0m\u001b[0mbatch\u001b[0m\u001b[1;33m)\u001b[0m\u001b[1;33m,\u001b[0m \u001b[0mself\u001b[0m\u001b[1;33m)\u001b[0m\u001b[1;33m\u001b[0m\u001b[0m\n\u001b[1;32m--> 588\u001b[1;33m         \u001b[0mjob\u001b[0m \u001b[1;33m=\u001b[0m \u001b[0mself\u001b[0m\u001b[1;33m.\u001b[0m\u001b[0m_backend\u001b[0m\u001b[1;33m.\u001b[0m\u001b[0mapply_async\u001b[0m\u001b[1;33m(\u001b[0m\u001b[0mbatch\u001b[0m\u001b[1;33m,\u001b[0m \u001b[0mcallback\u001b[0m\u001b[1;33m=\u001b[0m\u001b[0mcb\u001b[0m\u001b[1;33m)\u001b[0m\u001b[1;33m\u001b[0m\u001b[0m\n\u001b[0m\u001b[0;32m    589\u001b[0m         \u001b[0mself\u001b[0m\u001b[1;33m.\u001b[0m\u001b[0m_jobs\u001b[0m\u001b[1;33m.\u001b[0m\u001b[0mappend\u001b[0m\u001b[1;33m(\u001b[0m\u001b[0mjob\u001b[0m\u001b[1;33m)\u001b[0m\u001b[1;33m\u001b[0m\u001b[0m\n\u001b[0;32m    590\u001b[0m \u001b[1;33m\u001b[0m\u001b[0m\n",
      "\u001b[1;32mc:\\python36\\lib\\site-packages\\sklearn\\externals\\joblib\\_parallel_backends.py\u001b[0m in \u001b[0;36mapply_async\u001b[1;34m(self, func, callback)\u001b[0m\n\u001b[0;32m    109\u001b[0m     \u001b[1;32mdef\u001b[0m \u001b[0mapply_async\u001b[0m\u001b[1;33m(\u001b[0m\u001b[0mself\u001b[0m\u001b[1;33m,\u001b[0m \u001b[0mfunc\u001b[0m\u001b[1;33m,\u001b[0m \u001b[0mcallback\u001b[0m\u001b[1;33m=\u001b[0m\u001b[1;32mNone\u001b[0m\u001b[1;33m)\u001b[0m\u001b[1;33m:\u001b[0m\u001b[1;33m\u001b[0m\u001b[0m\n\u001b[0;32m    110\u001b[0m         \u001b[1;34m\"\"\"Schedule a func to be run\"\"\"\u001b[0m\u001b[1;33m\u001b[0m\u001b[0m\n\u001b[1;32m--> 111\u001b[1;33m         \u001b[0mresult\u001b[0m \u001b[1;33m=\u001b[0m \u001b[0mImmediateResult\u001b[0m\u001b[1;33m(\u001b[0m\u001b[0mfunc\u001b[0m\u001b[1;33m)\u001b[0m\u001b[1;33m\u001b[0m\u001b[0m\n\u001b[0m\u001b[0;32m    112\u001b[0m         \u001b[1;32mif\u001b[0m \u001b[0mcallback\u001b[0m\u001b[1;33m:\u001b[0m\u001b[1;33m\u001b[0m\u001b[0m\n\u001b[0;32m    113\u001b[0m             \u001b[0mcallback\u001b[0m\u001b[1;33m(\u001b[0m\u001b[0mresult\u001b[0m\u001b[1;33m)\u001b[0m\u001b[1;33m\u001b[0m\u001b[0m\n",
      "\u001b[1;32mc:\\python36\\lib\\site-packages\\sklearn\\externals\\joblib\\_parallel_backends.py\u001b[0m in \u001b[0;36m__init__\u001b[1;34m(self, batch)\u001b[0m\n\u001b[0;32m    330\u001b[0m         \u001b[1;31m# Don't delay the application, to avoid keeping the input\u001b[0m\u001b[1;33m\u001b[0m\u001b[1;33m\u001b[0m\u001b[0m\n\u001b[0;32m    331\u001b[0m         \u001b[1;31m# arguments in memory\u001b[0m\u001b[1;33m\u001b[0m\u001b[1;33m\u001b[0m\u001b[0m\n\u001b[1;32m--> 332\u001b[1;33m         \u001b[0mself\u001b[0m\u001b[1;33m.\u001b[0m\u001b[0mresults\u001b[0m \u001b[1;33m=\u001b[0m \u001b[0mbatch\u001b[0m\u001b[1;33m(\u001b[0m\u001b[1;33m)\u001b[0m\u001b[1;33m\u001b[0m\u001b[0m\n\u001b[0m\u001b[0;32m    333\u001b[0m \u001b[1;33m\u001b[0m\u001b[0m\n\u001b[0;32m    334\u001b[0m     \u001b[1;32mdef\u001b[0m \u001b[0mget\u001b[0m\u001b[1;33m(\u001b[0m\u001b[0mself\u001b[0m\u001b[1;33m)\u001b[0m\u001b[1;33m:\u001b[0m\u001b[1;33m\u001b[0m\u001b[0m\n",
      "\u001b[1;32mc:\\python36\\lib\\site-packages\\sklearn\\externals\\joblib\\parallel.py\u001b[0m in \u001b[0;36m__call__\u001b[1;34m(self)\u001b[0m\n\u001b[0;32m    129\u001b[0m \u001b[1;33m\u001b[0m\u001b[0m\n\u001b[0;32m    130\u001b[0m     \u001b[1;32mdef\u001b[0m \u001b[0m__call__\u001b[0m\u001b[1;33m(\u001b[0m\u001b[0mself\u001b[0m\u001b[1;33m)\u001b[0m\u001b[1;33m:\u001b[0m\u001b[1;33m\u001b[0m\u001b[0m\n\u001b[1;32m--> 131\u001b[1;33m         \u001b[1;32mreturn\u001b[0m \u001b[1;33m[\u001b[0m\u001b[0mfunc\u001b[0m\u001b[1;33m(\u001b[0m\u001b[1;33m*\u001b[0m\u001b[0margs\u001b[0m\u001b[1;33m,\u001b[0m \u001b[1;33m**\u001b[0m\u001b[0mkwargs\u001b[0m\u001b[1;33m)\u001b[0m \u001b[1;32mfor\u001b[0m \u001b[0mfunc\u001b[0m\u001b[1;33m,\u001b[0m \u001b[0margs\u001b[0m\u001b[1;33m,\u001b[0m \u001b[0mkwargs\u001b[0m \u001b[1;32min\u001b[0m \u001b[0mself\u001b[0m\u001b[1;33m.\u001b[0m\u001b[0mitems\u001b[0m\u001b[1;33m]\u001b[0m\u001b[1;33m\u001b[0m\u001b[0m\n\u001b[0m\u001b[0;32m    132\u001b[0m \u001b[1;33m\u001b[0m\u001b[0m\n\u001b[0;32m    133\u001b[0m     \u001b[1;32mdef\u001b[0m \u001b[0m__len__\u001b[0m\u001b[1;33m(\u001b[0m\u001b[0mself\u001b[0m\u001b[1;33m)\u001b[0m\u001b[1;33m:\u001b[0m\u001b[1;33m\u001b[0m\u001b[0m\n",
      "\u001b[1;32mc:\\python36\\lib\\site-packages\\sklearn\\externals\\joblib\\parallel.py\u001b[0m in \u001b[0;36m<listcomp>\u001b[1;34m(.0)\u001b[0m\n\u001b[0;32m    129\u001b[0m \u001b[1;33m\u001b[0m\u001b[0m\n\u001b[0;32m    130\u001b[0m     \u001b[1;32mdef\u001b[0m \u001b[0m__call__\u001b[0m\u001b[1;33m(\u001b[0m\u001b[0mself\u001b[0m\u001b[1;33m)\u001b[0m\u001b[1;33m:\u001b[0m\u001b[1;33m\u001b[0m\u001b[0m\n\u001b[1;32m--> 131\u001b[1;33m         \u001b[1;32mreturn\u001b[0m \u001b[1;33m[\u001b[0m\u001b[0mfunc\u001b[0m\u001b[1;33m(\u001b[0m\u001b[1;33m*\u001b[0m\u001b[0margs\u001b[0m\u001b[1;33m,\u001b[0m \u001b[1;33m**\u001b[0m\u001b[0mkwargs\u001b[0m\u001b[1;33m)\u001b[0m \u001b[1;32mfor\u001b[0m \u001b[0mfunc\u001b[0m\u001b[1;33m,\u001b[0m \u001b[0margs\u001b[0m\u001b[1;33m,\u001b[0m \u001b[0mkwargs\u001b[0m \u001b[1;32min\u001b[0m \u001b[0mself\u001b[0m\u001b[1;33m.\u001b[0m\u001b[0mitems\u001b[0m\u001b[1;33m]\u001b[0m\u001b[1;33m\u001b[0m\u001b[0m\n\u001b[0m\u001b[0;32m    132\u001b[0m \u001b[1;33m\u001b[0m\u001b[0m\n\u001b[0;32m    133\u001b[0m     \u001b[1;32mdef\u001b[0m \u001b[0m__len__\u001b[0m\u001b[1;33m(\u001b[0m\u001b[0mself\u001b[0m\u001b[1;33m)\u001b[0m\u001b[1;33m:\u001b[0m\u001b[1;33m\u001b[0m\u001b[0m\n",
      "\u001b[1;32mc:\\python36\\lib\\site-packages\\sklearn\\model_selection\\_validation.py\u001b[0m in \u001b[0;36m_fit_and_score\u001b[1;34m(estimator, X, y, scorer, train, test, verbose, parameters, fit_params, return_train_score, return_parameters, return_n_test_samples, return_times, error_score)\u001b[0m\n\u001b[0;32m    435\u001b[0m             \u001b[0mestimator\u001b[0m\u001b[1;33m.\u001b[0m\u001b[0mfit\u001b[0m\u001b[1;33m(\u001b[0m\u001b[0mX_train\u001b[0m\u001b[1;33m,\u001b[0m \u001b[1;33m**\u001b[0m\u001b[0mfit_params\u001b[0m\u001b[1;33m)\u001b[0m\u001b[1;33m\u001b[0m\u001b[0m\n\u001b[0;32m    436\u001b[0m         \u001b[1;32melse\u001b[0m\u001b[1;33m:\u001b[0m\u001b[1;33m\u001b[0m\u001b[0m\n\u001b[1;32m--> 437\u001b[1;33m             \u001b[0mestimator\u001b[0m\u001b[1;33m.\u001b[0m\u001b[0mfit\u001b[0m\u001b[1;33m(\u001b[0m\u001b[0mX_train\u001b[0m\u001b[1;33m,\u001b[0m \u001b[0my_train\u001b[0m\u001b[1;33m,\u001b[0m \u001b[1;33m**\u001b[0m\u001b[0mfit_params\u001b[0m\u001b[1;33m)\u001b[0m\u001b[1;33m\u001b[0m\u001b[0m\n\u001b[0m\u001b[0;32m    438\u001b[0m \u001b[1;33m\u001b[0m\u001b[0m\n\u001b[0;32m    439\u001b[0m     \u001b[1;32mexcept\u001b[0m \u001b[0mException\u001b[0m \u001b[1;32mas\u001b[0m \u001b[0me\u001b[0m\u001b[1;33m:\u001b[0m\u001b[1;33m\u001b[0m\u001b[0m\n",
      "\u001b[1;32mc:\\python36\\lib\\site-packages\\keras\\wrappers\\scikit_learn.py\u001b[0m in \u001b[0;36mfit\u001b[1;34m(self, x, y, **kwargs)\u001b[0m\n\u001b[0;32m    201\u001b[0m             \u001b[1;32mraise\u001b[0m \u001b[0mValueError\u001b[0m\u001b[1;33m(\u001b[0m\u001b[1;34m'Invalid shape for y: '\u001b[0m \u001b[1;33m+\u001b[0m \u001b[0mstr\u001b[0m\u001b[1;33m(\u001b[0m\u001b[0my\u001b[0m\u001b[1;33m.\u001b[0m\u001b[0mshape\u001b[0m\u001b[1;33m)\u001b[0m\u001b[1;33m)\u001b[0m\u001b[1;33m\u001b[0m\u001b[0m\n\u001b[0;32m    202\u001b[0m         \u001b[0mself\u001b[0m\u001b[1;33m.\u001b[0m\u001b[0mn_classes_\u001b[0m \u001b[1;33m=\u001b[0m \u001b[0mlen\u001b[0m\u001b[1;33m(\u001b[0m\u001b[0mself\u001b[0m\u001b[1;33m.\u001b[0m\u001b[0mclasses_\u001b[0m\u001b[1;33m)\u001b[0m\u001b[1;33m\u001b[0m\u001b[0m\n\u001b[1;32m--> 203\u001b[1;33m         \u001b[1;32mreturn\u001b[0m \u001b[0msuper\u001b[0m\u001b[1;33m(\u001b[0m\u001b[0mKerasClassifier\u001b[0m\u001b[1;33m,\u001b[0m \u001b[0mself\u001b[0m\u001b[1;33m)\u001b[0m\u001b[1;33m.\u001b[0m\u001b[0mfit\u001b[0m\u001b[1;33m(\u001b[0m\u001b[0mx\u001b[0m\u001b[1;33m,\u001b[0m \u001b[0my\u001b[0m\u001b[1;33m,\u001b[0m \u001b[1;33m**\u001b[0m\u001b[0mkwargs\u001b[0m\u001b[1;33m)\u001b[0m\u001b[1;33m\u001b[0m\u001b[0m\n\u001b[0m\u001b[0;32m    204\u001b[0m \u001b[1;33m\u001b[0m\u001b[0m\n\u001b[0;32m    205\u001b[0m     \u001b[1;32mdef\u001b[0m \u001b[0mpredict\u001b[0m\u001b[1;33m(\u001b[0m\u001b[0mself\u001b[0m\u001b[1;33m,\u001b[0m \u001b[0mx\u001b[0m\u001b[1;33m,\u001b[0m \u001b[1;33m**\u001b[0m\u001b[0mkwargs\u001b[0m\u001b[1;33m)\u001b[0m\u001b[1;33m:\u001b[0m\u001b[1;33m\u001b[0m\u001b[0m\n",
      "\u001b[1;32mc:\\python36\\lib\\site-packages\\keras\\wrappers\\scikit_learn.py\u001b[0m in \u001b[0;36mfit\u001b[1;34m(self, x, y, **kwargs)\u001b[0m\n\u001b[0;32m    145\u001b[0m         \u001b[0mfit_args\u001b[0m\u001b[1;33m.\u001b[0m\u001b[0mupdate\u001b[0m\u001b[1;33m(\u001b[0m\u001b[0mkwargs\u001b[0m\u001b[1;33m)\u001b[0m\u001b[1;33m\u001b[0m\u001b[0m\n\u001b[0;32m    146\u001b[0m \u001b[1;33m\u001b[0m\u001b[0m\n\u001b[1;32m--> 147\u001b[1;33m         \u001b[0mhistory\u001b[0m \u001b[1;33m=\u001b[0m \u001b[0mself\u001b[0m\u001b[1;33m.\u001b[0m\u001b[0mmodel\u001b[0m\u001b[1;33m.\u001b[0m\u001b[0mfit\u001b[0m\u001b[1;33m(\u001b[0m\u001b[0mx\u001b[0m\u001b[1;33m,\u001b[0m \u001b[0my\u001b[0m\u001b[1;33m,\u001b[0m \u001b[1;33m**\u001b[0m\u001b[0mfit_args\u001b[0m\u001b[1;33m)\u001b[0m\u001b[1;33m\u001b[0m\u001b[0m\n\u001b[0m\u001b[0;32m    148\u001b[0m \u001b[1;33m\u001b[0m\u001b[0m\n\u001b[0;32m    149\u001b[0m         \u001b[1;32mreturn\u001b[0m \u001b[0mhistory\u001b[0m\u001b[1;33m\u001b[0m\u001b[0m\n",
      "\u001b[1;32mc:\\python36\\lib\\site-packages\\keras\\models.py\u001b[0m in \u001b[0;36mfit\u001b[1;34m(self, x, y, batch_size, epochs, verbose, callbacks, validation_split, validation_data, shuffle, class_weight, sample_weight, initial_epoch, **kwargs)\u001b[0m\n\u001b[0;32m    861\u001b[0m                               \u001b[0mclass_weight\u001b[0m\u001b[1;33m=\u001b[0m\u001b[0mclass_weight\u001b[0m\u001b[1;33m,\u001b[0m\u001b[1;33m\u001b[0m\u001b[0m\n\u001b[0;32m    862\u001b[0m                               \u001b[0msample_weight\u001b[0m\u001b[1;33m=\u001b[0m\u001b[0msample_weight\u001b[0m\u001b[1;33m,\u001b[0m\u001b[1;33m\u001b[0m\u001b[0m\n\u001b[1;32m--> 863\u001b[1;33m                               initial_epoch=initial_epoch)\n\u001b[0m\u001b[0;32m    864\u001b[0m \u001b[1;33m\u001b[0m\u001b[0m\n\u001b[0;32m    865\u001b[0m     def evaluate(self, x, y, batch_size=32, verbose=1,\n",
      "\u001b[1;32mc:\\python36\\lib\\site-packages\\keras\\engine\\training.py\u001b[0m in \u001b[0;36mfit\u001b[1;34m(self, x, y, batch_size, epochs, verbose, callbacks, validation_split, validation_data, shuffle, class_weight, sample_weight, initial_epoch, **kwargs)\u001b[0m\n\u001b[0;32m   1428\u001b[0m                               \u001b[0mval_f\u001b[0m\u001b[1;33m=\u001b[0m\u001b[0mval_f\u001b[0m\u001b[1;33m,\u001b[0m \u001b[0mval_ins\u001b[0m\u001b[1;33m=\u001b[0m\u001b[0mval_ins\u001b[0m\u001b[1;33m,\u001b[0m \u001b[0mshuffle\u001b[0m\u001b[1;33m=\u001b[0m\u001b[0mshuffle\u001b[0m\u001b[1;33m,\u001b[0m\u001b[1;33m\u001b[0m\u001b[0m\n\u001b[0;32m   1429\u001b[0m                               \u001b[0mcallback_metrics\u001b[0m\u001b[1;33m=\u001b[0m\u001b[0mcallback_metrics\u001b[0m\u001b[1;33m,\u001b[0m\u001b[1;33m\u001b[0m\u001b[0m\n\u001b[1;32m-> 1430\u001b[1;33m                               initial_epoch=initial_epoch)\n\u001b[0m\u001b[0;32m   1431\u001b[0m \u001b[1;33m\u001b[0m\u001b[0m\n\u001b[0;32m   1432\u001b[0m     \u001b[1;32mdef\u001b[0m \u001b[0mevaluate\u001b[0m\u001b[1;33m(\u001b[0m\u001b[0mself\u001b[0m\u001b[1;33m,\u001b[0m \u001b[0mx\u001b[0m\u001b[1;33m,\u001b[0m \u001b[0my\u001b[0m\u001b[1;33m,\u001b[0m \u001b[0mbatch_size\u001b[0m\u001b[1;33m=\u001b[0m\u001b[1;36m32\u001b[0m\u001b[1;33m,\u001b[0m \u001b[0mverbose\u001b[0m\u001b[1;33m=\u001b[0m\u001b[1;36m1\u001b[0m\u001b[1;33m,\u001b[0m \u001b[0msample_weight\u001b[0m\u001b[1;33m=\u001b[0m\u001b[1;32mNone\u001b[0m\u001b[1;33m)\u001b[0m\u001b[1;33m:\u001b[0m\u001b[1;33m\u001b[0m\u001b[0m\n",
      "\u001b[1;32mc:\\python36\\lib\\site-packages\\keras\\engine\\training.py\u001b[0m in \u001b[0;36m_fit_loop\u001b[1;34m(self, f, ins, out_labels, batch_size, epochs, verbose, callbacks, val_f, val_ins, shuffle, callback_metrics, initial_epoch)\u001b[0m\n\u001b[0;32m   1077\u001b[0m                 \u001b[0mbatch_logs\u001b[0m\u001b[1;33m[\u001b[0m\u001b[1;34m'size'\u001b[0m\u001b[1;33m]\u001b[0m \u001b[1;33m=\u001b[0m \u001b[0mlen\u001b[0m\u001b[1;33m(\u001b[0m\u001b[0mbatch_ids\u001b[0m\u001b[1;33m)\u001b[0m\u001b[1;33m\u001b[0m\u001b[0m\n\u001b[0;32m   1078\u001b[0m                 \u001b[0mcallbacks\u001b[0m\u001b[1;33m.\u001b[0m\u001b[0mon_batch_begin\u001b[0m\u001b[1;33m(\u001b[0m\u001b[0mbatch_index\u001b[0m\u001b[1;33m,\u001b[0m \u001b[0mbatch_logs\u001b[0m\u001b[1;33m)\u001b[0m\u001b[1;33m\u001b[0m\u001b[0m\n\u001b[1;32m-> 1079\u001b[1;33m                 \u001b[0mouts\u001b[0m \u001b[1;33m=\u001b[0m \u001b[0mf\u001b[0m\u001b[1;33m(\u001b[0m\u001b[0mins_batch\u001b[0m\u001b[1;33m)\u001b[0m\u001b[1;33m\u001b[0m\u001b[0m\n\u001b[0m\u001b[0;32m   1080\u001b[0m                 \u001b[1;32mif\u001b[0m \u001b[1;32mnot\u001b[0m \u001b[0misinstance\u001b[0m\u001b[1;33m(\u001b[0m\u001b[0mouts\u001b[0m\u001b[1;33m,\u001b[0m \u001b[0mlist\u001b[0m\u001b[1;33m)\u001b[0m\u001b[1;33m:\u001b[0m\u001b[1;33m\u001b[0m\u001b[0m\n\u001b[0;32m   1081\u001b[0m                     \u001b[0mouts\u001b[0m \u001b[1;33m=\u001b[0m \u001b[1;33m[\u001b[0m\u001b[0mouts\u001b[0m\u001b[1;33m]\u001b[0m\u001b[1;33m\u001b[0m\u001b[0m\n",
      "\u001b[1;32mc:\\python36\\lib\\site-packages\\keras\\backend\\tensorflow_backend.py\u001b[0m in \u001b[0;36m__call__\u001b[1;34m(self, inputs)\u001b[0m\n\u001b[0;32m   2266\u001b[0m         updated = session.run(self.outputs + [self.updates_op],\n\u001b[0;32m   2267\u001b[0m                               \u001b[0mfeed_dict\u001b[0m\u001b[1;33m=\u001b[0m\u001b[0mfeed_dict\u001b[0m\u001b[1;33m,\u001b[0m\u001b[1;33m\u001b[0m\u001b[0m\n\u001b[1;32m-> 2268\u001b[1;33m                               **self.session_kwargs)\n\u001b[0m\u001b[0;32m   2269\u001b[0m         \u001b[1;32mreturn\u001b[0m \u001b[0mupdated\u001b[0m\u001b[1;33m[\u001b[0m\u001b[1;33m:\u001b[0m\u001b[0mlen\u001b[0m\u001b[1;33m(\u001b[0m\u001b[0mself\u001b[0m\u001b[1;33m.\u001b[0m\u001b[0moutputs\u001b[0m\u001b[1;33m)\u001b[0m\u001b[1;33m]\u001b[0m\u001b[1;33m\u001b[0m\u001b[0m\n\u001b[0;32m   2270\u001b[0m \u001b[1;33m\u001b[0m\u001b[0m\n",
      "\u001b[1;32mc:\\python36\\lib\\site-packages\\tensorflow\\python\\client\\session.py\u001b[0m in \u001b[0;36mrun\u001b[1;34m(self, fetches, feed_dict, options, run_metadata)\u001b[0m\n\u001b[0;32m    893\u001b[0m     \u001b[1;32mtry\u001b[0m\u001b[1;33m:\u001b[0m\u001b[1;33m\u001b[0m\u001b[0m\n\u001b[0;32m    894\u001b[0m       result = self._run(None, fetches, feed_dict, options_ptr,\n\u001b[1;32m--> 895\u001b[1;33m                          run_metadata_ptr)\n\u001b[0m\u001b[0;32m    896\u001b[0m       \u001b[1;32mif\u001b[0m \u001b[0mrun_metadata\u001b[0m\u001b[1;33m:\u001b[0m\u001b[1;33m\u001b[0m\u001b[0m\n\u001b[0;32m    897\u001b[0m         \u001b[0mproto_data\u001b[0m \u001b[1;33m=\u001b[0m \u001b[0mtf_session\u001b[0m\u001b[1;33m.\u001b[0m\u001b[0mTF_GetBuffer\u001b[0m\u001b[1;33m(\u001b[0m\u001b[0mrun_metadata_ptr\u001b[0m\u001b[1;33m)\u001b[0m\u001b[1;33m\u001b[0m\u001b[0m\n",
      "\u001b[1;32mc:\\python36\\lib\\site-packages\\tensorflow\\python\\client\\session.py\u001b[0m in \u001b[0;36m_run\u001b[1;34m(self, handle, fetches, feed_dict, options, run_metadata)\u001b[0m\n\u001b[0;32m   1122\u001b[0m     \u001b[1;32mif\u001b[0m \u001b[0mfinal_fetches\u001b[0m \u001b[1;32mor\u001b[0m \u001b[0mfinal_targets\u001b[0m \u001b[1;32mor\u001b[0m \u001b[1;33m(\u001b[0m\u001b[0mhandle\u001b[0m \u001b[1;32mand\u001b[0m \u001b[0mfeed_dict_tensor\u001b[0m\u001b[1;33m)\u001b[0m\u001b[1;33m:\u001b[0m\u001b[1;33m\u001b[0m\u001b[0m\n\u001b[0;32m   1123\u001b[0m       results = self._do_run(handle, final_targets, final_fetches,\n\u001b[1;32m-> 1124\u001b[1;33m                              feed_dict_tensor, options, run_metadata)\n\u001b[0m\u001b[0;32m   1125\u001b[0m     \u001b[1;32melse\u001b[0m\u001b[1;33m:\u001b[0m\u001b[1;33m\u001b[0m\u001b[0m\n\u001b[0;32m   1126\u001b[0m       \u001b[0mresults\u001b[0m \u001b[1;33m=\u001b[0m \u001b[1;33m[\u001b[0m\u001b[1;33m]\u001b[0m\u001b[1;33m\u001b[0m\u001b[0m\n",
      "\u001b[1;32mc:\\python36\\lib\\site-packages\\tensorflow\\python\\client\\session.py\u001b[0m in \u001b[0;36m_do_run\u001b[1;34m(self, handle, target_list, fetch_list, feed_dict, options, run_metadata)\u001b[0m\n\u001b[0;32m   1319\u001b[0m     \u001b[1;32mif\u001b[0m \u001b[0mhandle\u001b[0m \u001b[1;32mis\u001b[0m \u001b[1;32mNone\u001b[0m\u001b[1;33m:\u001b[0m\u001b[1;33m\u001b[0m\u001b[0m\n\u001b[0;32m   1320\u001b[0m       return self._do_call(_run_fn, self._session, feeds, fetches, targets,\n\u001b[1;32m-> 1321\u001b[1;33m                            options, run_metadata)\n\u001b[0m\u001b[0;32m   1322\u001b[0m     \u001b[1;32melse\u001b[0m\u001b[1;33m:\u001b[0m\u001b[1;33m\u001b[0m\u001b[0m\n\u001b[0;32m   1323\u001b[0m       \u001b[1;32mreturn\u001b[0m \u001b[0mself\u001b[0m\u001b[1;33m.\u001b[0m\u001b[0m_do_call\u001b[0m\u001b[1;33m(\u001b[0m\u001b[0m_prun_fn\u001b[0m\u001b[1;33m,\u001b[0m \u001b[0mself\u001b[0m\u001b[1;33m.\u001b[0m\u001b[0m_session\u001b[0m\u001b[1;33m,\u001b[0m \u001b[0mhandle\u001b[0m\u001b[1;33m,\u001b[0m \u001b[0mfeeds\u001b[0m\u001b[1;33m,\u001b[0m \u001b[0mfetches\u001b[0m\u001b[1;33m)\u001b[0m\u001b[1;33m\u001b[0m\u001b[0m\n",
      "\u001b[1;32mc:\\python36\\lib\\site-packages\\tensorflow\\python\\client\\session.py\u001b[0m in \u001b[0;36m_do_call\u001b[1;34m(self, fn, *args)\u001b[0m\n\u001b[0;32m   1325\u001b[0m   \u001b[1;32mdef\u001b[0m \u001b[0m_do_call\u001b[0m\u001b[1;33m(\u001b[0m\u001b[0mself\u001b[0m\u001b[1;33m,\u001b[0m \u001b[0mfn\u001b[0m\u001b[1;33m,\u001b[0m \u001b[1;33m*\u001b[0m\u001b[0margs\u001b[0m\u001b[1;33m)\u001b[0m\u001b[1;33m:\u001b[0m\u001b[1;33m\u001b[0m\u001b[0m\n\u001b[0;32m   1326\u001b[0m     \u001b[1;32mtry\u001b[0m\u001b[1;33m:\u001b[0m\u001b[1;33m\u001b[0m\u001b[0m\n\u001b[1;32m-> 1327\u001b[1;33m       \u001b[1;32mreturn\u001b[0m \u001b[0mfn\u001b[0m\u001b[1;33m(\u001b[0m\u001b[1;33m*\u001b[0m\u001b[0margs\u001b[0m\u001b[1;33m)\u001b[0m\u001b[1;33m\u001b[0m\u001b[0m\n\u001b[0m\u001b[0;32m   1328\u001b[0m     \u001b[1;32mexcept\u001b[0m \u001b[0merrors\u001b[0m\u001b[1;33m.\u001b[0m\u001b[0mOpError\u001b[0m \u001b[1;32mas\u001b[0m \u001b[0me\u001b[0m\u001b[1;33m:\u001b[0m\u001b[1;33m\u001b[0m\u001b[0m\n\u001b[0;32m   1329\u001b[0m       \u001b[0mmessage\u001b[0m \u001b[1;33m=\u001b[0m \u001b[0mcompat\u001b[0m\u001b[1;33m.\u001b[0m\u001b[0mas_text\u001b[0m\u001b[1;33m(\u001b[0m\u001b[0me\u001b[0m\u001b[1;33m.\u001b[0m\u001b[0mmessage\u001b[0m\u001b[1;33m)\u001b[0m\u001b[1;33m\u001b[0m\u001b[0m\n",
      "\u001b[1;32mc:\\python36\\lib\\site-packages\\tensorflow\\python\\client\\session.py\u001b[0m in \u001b[0;36m_run_fn\u001b[1;34m(session, feed_dict, fetch_list, target_list, options, run_metadata)\u001b[0m\n\u001b[0;32m   1304\u001b[0m           return tf_session.TF_Run(session, options,\n\u001b[0;32m   1305\u001b[0m                                    \u001b[0mfeed_dict\u001b[0m\u001b[1;33m,\u001b[0m \u001b[0mfetch_list\u001b[0m\u001b[1;33m,\u001b[0m \u001b[0mtarget_list\u001b[0m\u001b[1;33m,\u001b[0m\u001b[1;33m\u001b[0m\u001b[0m\n\u001b[1;32m-> 1306\u001b[1;33m                                    status, run_metadata)\n\u001b[0m\u001b[0;32m   1307\u001b[0m \u001b[1;33m\u001b[0m\u001b[0m\n\u001b[0;32m   1308\u001b[0m     \u001b[1;32mdef\u001b[0m \u001b[0m_prun_fn\u001b[0m\u001b[1;33m(\u001b[0m\u001b[0msession\u001b[0m\u001b[1;33m,\u001b[0m \u001b[0mhandle\u001b[0m\u001b[1;33m,\u001b[0m \u001b[0mfeed_dict\u001b[0m\u001b[1;33m,\u001b[0m \u001b[0mfetch_list\u001b[0m\u001b[1;33m)\u001b[0m\u001b[1;33m:\u001b[0m\u001b[1;33m\u001b[0m\u001b[0m\n",
      "\u001b[1;31mKeyboardInterrupt\u001b[0m: "
     ]
    }
   ],
   "source": [
    "for nr in frame_numbers:\n",
    "    print(nr)\n",
    "    try:\n",
    "        emg_train_input, emg_train_label = prepare_data(train, nr, 'emg', verbose=False)\n",
    "        emg_valid_input, emg_valid_label = prepare_data(valid, nr, 'emg', verbose=False)\n",
    "\n",
    "        encoder = LabelEncoder()\n",
    "\n",
    "        X_train = emg_train_input.reshape(emg_train_input.shape[0], 1, emg_train_input.shape[1])\n",
    "        y_train = encoder.fit_transform(emg_train_label)\n",
    "        X_valid = emg_valid_input.reshape(emg_valid_input.shape[0], 1, emg_valid_input.shape[1])\n",
    "        y_valid = encoder.fit_transform(emg_valid_label)\n",
    "\n",
    "        parameters[0]['n_classes'] = [len(encoder.classes_)]\n",
    "        parameters[0]['shape'] = [X_train.shape[2]]\n",
    "        parameters[0]['num_units'] = [X_train.shape[2]]\n",
    "\n",
    "        #parameters[0]['batch_size'] = [1, 10, 100]\n",
    "        #parameters[0]['batch_size'].append(X_train.shape[2])\n",
    "\n",
    "        lstm_model = KerasClassifier(create_model, verbose=0)\n",
    "\n",
    "        lstm = GridSearchCV(lstm_model, parameters, scoring='accuracy', cv=cross_valid,\n",
    "                           verbose=verbose_level).fit(np.append(X_train, X_valid, axis=0),np.append(y_train, y_valid))\n",
    "\n",
    "        result = (lstm.best_score_, nr, lstm.best_params_)\n",
    "\n",
    "        if result[0] > all_emg[0]:\n",
    "            all_emg = result\n",
    "\n",
    "        K.clear_session()\n",
    "    \n",
    "    except ValueError as err:\n",
    "        pass"
   ]
  },
  {
   "cell_type": "code",
   "execution_count": null,
   "metadata": {
    "collapsed": true
   },
   "outputs": [],
   "source": [
    "print(all_acc, end='\\n')\n",
    "print(all_gyro, end='\\n')\n",
    "print(all_ori, end='\\n')\n",
    "print(all_emg, end='\\n')"
   ]
  },
  {
   "cell_type": "code",
   "execution_count": null,
   "metadata": {
    "collapsed": true
   },
   "outputs": [],
   "source": [
    "print('Duration: {}'.format(time.time() - start_time))"
   ]
  },
  {
   "cell_type": "code",
   "execution_count": null,
   "metadata": {
    "collapsed": true
   },
   "outputs": [],
   "source": []
  }
 ],
 "metadata": {
  "kernelspec": {
   "display_name": "Python 3",
   "language": "python",
   "name": "python3"
  },
  "language_info": {
   "codemirror_mode": {
    "name": "ipython",
    "version": 3
   },
   "file_extension": ".py",
   "mimetype": "text/x-python",
   "name": "python",
   "nbconvert_exporter": "python",
   "pygments_lexer": "ipython3",
   "version": "3.6.1"
  }
 },
 "nbformat": 4,
 "nbformat_minor": 2
}
