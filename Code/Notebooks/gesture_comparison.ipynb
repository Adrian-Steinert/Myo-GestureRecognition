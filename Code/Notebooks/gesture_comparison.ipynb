{
 "cells": [
  {
   "cell_type": "code",
   "execution_count": null,
   "metadata": {
    "collapsed": true
   },
   "outputs": [],
   "source": [
    "%matplotlib inline\n",
    "\n",
    "import pickle\n",
    "import matplotlib.pyplot as plt\n",
    "\n",
    "from glob import glob\n",
    "from gesture_comparison_helper import acc_print, emg_print, gyro_print, orientation_print\n",
    "from gesture_comparison_helper import orientation_euler_print, all_print, load_gestures\n",
    "\n",
    "plt.rcParams['figure.figsize'] = (30.0, 30.0)\n",
    "font = {\n",
    "    'weight': 'bold',\n",
    "    'size': 25\n",
    "}\n",
    "plt.rc('font', **font)"
   ]
  },
  {
   "cell_type": "markdown",
   "metadata": {},
   "source": [
    "# Visualisierung der Gesten\n",
    "\n",
    "Jede Geste wurde so durchgeführt, dass sie in der selben Haltung endet in, in der sie begonnen hat. Diese Ausgangs- und Endposition ist wie folgt definiert: Der Oberarm hängt locker herab, während der Unterarm im rechten Winkel zu ihm stehend vom Körper weg zeigt. Die Hand selbst ist komplett entspannt, während die Handinnenfläche im rechten Winkel zur Richtung des Unterarms zeigt."
   ]
  },
  {
   "cell_type": "markdown",
   "metadata": {},
   "source": [
    "## Selbst definierte Gesten\n",
    "\n",
    "* big_stop - Hand gerade nach vorn gestreckt (IMU), Handfläche zeigt vom Körper weg (EMG -- Wave Out)\n",
    "\n",
    "* come_up - Hand flach ausgestreckt (als Verlängerung des Unterarms) mit Handlfäche nach oben, Unterarm bewegt sich nach oben (ca. 45°)\n",
    "\n",
    "* come_down - Hand flach ausgestreckt (als Verlängerung des Unterarms) mit Handlfäche nach unten, Unterarm bewegt sich nach unten (ca. 45°)\n",
    "\n",
    "* small_stop -- Hand flach nach unten, dann Wave Out\n",
    "\n",
    "* come_here - Hand flach nach oben, dann Wave In\n",
    "\n",
    "* flip - Hand entspannt, schnipsen, Hand wieder entspannt (keine größere Bewegung des Arms)\n",
    "\n",
    "## Gesten aus \"Hand gesture recognition and virtual game control based on 3D accelerometer and EMG sensors.\", Zhang, Xu, et al., 2009\n",
    "\n",
    "|Finger Aktion|Richtung|Ebene|\n",
    "|:-----------|:-------|:----|\n",
    "|H - Faust (Hand grasp)                         |CW - im Uhrzeigersinn (Clockwise)               |H - x-y-Ebene (Kochtopf)|\n",
    "|T - Daumen ausgestreckt (Thumb)                |CC - gegen den Uhrzeigersinn (Counter-Clockwise)|V - y-z-Ebene (Scheibe putzen)|\n",
    "|L - Kleiner Finger ausgestreckt (Little finger)|                                                |S - x-z-Ebene (Lokführer)|\n",
    "\n",
    "Für eine Geste wird eine Finger Aktion mit einer Richtung für die Kreisbewegung und einer Ebene kombiniert (bspw. entspricht tcch einem umrühren des Kochtopfes gegen den Uhrzeigersinn mit ausgestrecktem Daumen). Hieraus ergeben sich 18 mögliche Gesten."
   ]
  },
  {
   "cell_type": "code",
   "execution_count": null,
   "metadata": {
    "scrolled": false
   },
   "outputs": [],
   "source": [
    "# the string should look like this:\n",
    "# 'user/gesture_name/pickle_file'\n",
    "#\n",
    "# you can also use wild cards (*) to print multiple gestures in the same plots e.g.:\n",
    "# 'user/gesture_name/*' #plot all recordings of gesture_name for user \n",
    "\n",
    "#gesture_string = 'ruben/small_stop/*'\n",
    "\n",
    "\n",
    "####### Do not change below here #######\n",
    "\n",
    "#gestures = load_gestures(glob('../Data/converted/' + gesture_string))\n",
    "gestures = load_gestures(glob('../Data/converted/flo/big_stop/*'))\n",
    "all_print(gestures)"
   ]
  },
  {
   "cell_type": "code",
   "execution_count": null,
   "metadata": {
    "collapsed": true
   },
   "outputs": [],
   "source": []
  }
 ],
 "metadata": {
  "kernelspec": {
   "display_name": "Python 3",
   "language": "python",
   "name": "python3"
  },
  "language_info": {
   "codemirror_mode": {
    "name": "ipython",
    "version": 3
   },
   "file_extension": ".py",
   "mimetype": "text/x-python",
   "name": "python",
   "nbconvert_exporter": "python",
   "pygments_lexer": "ipython3",
   "version": "3.6.1"
  }
 },
 "nbformat": 4,
 "nbformat_minor": 2
}
