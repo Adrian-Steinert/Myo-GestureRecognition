{
 "cells": [
  {
   "cell_type": "markdown",
   "metadata": {},
   "source": [
    "# Klassifikation mit Hidden Markov Modellen"
   ]
  },
  {
   "cell_type": "code",
   "execution_count": 3,
   "metadata": {
    "collapsed": true
   },
   "outputs": [],
   "source": [
    "import os\n",
    "import sys\n",
    "import time\n",
    "import numpy as np\n",
    "\n",
    "from itertools import combinations, product\n",
    "# from sklearn.externals import joblib\n",
    "from sklearn.model_selection import GridSearchCV\n",
    "from sklearn.metrics import confusion_matrix, accuracy_score, classification_report\n",
    "\n",
    "import warnings\n",
    "warnings.filterwarnings('ignore')"
   ]
  },
  {
   "cell_type": "code",
   "execution_count": 4,
   "metadata": {
    "collapsed": true
   },
   "outputs": [],
   "source": [
    "module_path = os.path.abspath(os.path.join('..'))\n",
    "if module_path not in sys.path:\n",
    "    sys.path.append(module_path)\n",
    "from Utils.data_preparation_helper import load_data_for_classification, prepare_data\n",
    "from Utils.classification_helper import MyoHmmClassifier"
   ]
  },
  {
   "cell_type": "code",
   "execution_count": 5,
   "metadata": {
    "collapsed": true
   },
   "outputs": [],
   "source": [
    "random_seed = 42"
   ]
  },
  {
   "cell_type": "code",
   "execution_count": 6,
   "metadata": {
    "collapsed": true
   },
   "outputs": [],
   "source": [
    "start_time = time.time()\n",
    "\n",
    "frame_numbers = list(range(1,13))\n",
    "states = list(range(1,7))"
   ]
  },
  {
   "cell_type": "markdown",
   "metadata": {},
   "source": [
    "## Parametertest - own"
   ]
  },
  {
   "cell_type": "code",
   "execution_count": 7,
   "metadata": {},
   "outputs": [],
   "source": [
    "train, valid, test = load_data_for_classification('own')"
   ]
  },
  {
   "cell_type": "code",
   "execution_count": 8,
   "metadata": {
    "collapsed": true
   },
   "outputs": [],
   "source": [
    "# lists will be filled with (accuracy, frame_number, states)\n",
    "own_acc = (0, 0)\n",
    "own_gyro = (0, 0)\n",
    "own_ori = (0, 0)\n",
    "own_emg = (0, 0)"
   ]
  },
  {
   "cell_type": "markdown",
   "metadata": {},
   "source": [
    "### Accelerometer"
   ]
  },
  {
   "cell_type": "code",
   "execution_count": 9,
   "metadata": {
    "scrolled": true
   },
   "outputs": [
    {
     "name": "stdout",
     "output_type": "stream",
     "text": [
      "(12, 2)\n",
      "Done\n"
     ]
    }
   ],
   "source": [
    "for nr in frame_numbers:\n",
    "    try:\n",
    "        acc_train_input, acc_train_label = prepare_data(train, nr, 'accelerometer', verbose=False)\n",
    "        acc_valid_input, acc_valid_label = prepare_data(valid, nr, 'accelerometer', verbose=False)\n",
    "        for state in states:\n",
    "            print((nr, state), end='\\r')\n",
    "            acc_classifier = MyoHmmClassifier(sensor_type='accelerometer', n_states_per_hmm=state, random_state=random_seed)\n",
    "            acc_classifier.fit(acc_train_input, acc_train_label)\n",
    "\n",
    "            #acc_score_list = acc_classifier.score(acc_valid_input)\n",
    "            acc_predictions = acc_classifier.predict(acc_valid_input)\n",
    "            score = accuracy_score(acc_valid_label, acc_predictions)\n",
    "            if score > own_acc[0]:\n",
    "                own_acc = (score, nr, state)\n",
    "            \n",
    "    except ValueError as err:\n",
    "        pass\n",
    "print('\\nDone')"
   ]
  },
  {
   "cell_type": "markdown",
   "metadata": {
    "collapsed": true
   },
   "source": [
    "### Gyroskop"
   ]
  },
  {
   "cell_type": "code",
   "execution_count": 10,
   "metadata": {
    "scrolled": true
   },
   "outputs": [
    {
     "name": "stdout",
     "output_type": "stream",
     "text": [
      "(12, 2)\n",
      "Done\n"
     ]
    }
   ],
   "source": [
    "for nr in frame_numbers:\n",
    "    try:\n",
    "        gyro_train_input, gyro_train_label = prepare_data(train, nr, 'gyro', verbose=False)\n",
    "        gyro_valid_input, gyro_valid_label = prepare_data(valid, nr, 'gyro', verbose=False)\n",
    "        for state in states:\n",
    "            print((nr, state), end='\\r')\n",
    "            gyro_classifier = MyoHmmClassifier(sensor_type='gyro', n_states_per_hmm=state, random_state=random_seed)\n",
    "            gyro_classifier.fit(gyro_train_input, gyro_train_label)\n",
    "\n",
    "            #gyro_score_list = gyro_classifier.score(gyro_valid_input)\n",
    "            gyro_predictions = gyro_classifier.predict(gyro_valid_input)\n",
    "            score = accuracy_score(gyro_valid_label, gyro_predictions)\n",
    "            if score > own_gyro[0]:\n",
    "                own_gyro = (score, nr, state)\n",
    "            \n",
    "    except ValueError as err:\n",
    "        pass\n",
    "print('\\nDone')"
   ]
  },
  {
   "cell_type": "markdown",
   "metadata": {},
   "source": [
    "### Magnetometer"
   ]
  },
  {
   "cell_type": "code",
   "execution_count": 11,
   "metadata": {
    "scrolled": true
   },
   "outputs": [
    {
     "name": "stdout",
     "output_type": "stream",
     "text": [
      "(6, 2)\n",
      "Done\n"
     ]
    }
   ],
   "source": [
    "for nr in frame_numbers:\n",
    "    try:\n",
    "        ori_train_input, ori_train_label = prepare_data(train, nr, 'orientation', verbose=False)\n",
    "        ori_valid_input, ori_valid_label = prepare_data(valid, nr, 'orientation', verbose=False)\n",
    "        for state in states:\n",
    "            print((nr, state), end='\\r')\n",
    "            ori_classifier = MyoHmmClassifier(sensor_type='orientation', n_states_per_hmm=state, random_state=random_seed)\n",
    "            ori_classifier.fit(ori_train_input, ori_train_label)\n",
    "\n",
    "            #ori_score_list = ori_classifier.score(ori_valid_input)\n",
    "            ori_predictions = ori_classifier.predict(ori_valid_input)\n",
    "            score = accuracy_score(ori_valid_label, ori_predictions)\n",
    "            if score > own_ori[0]:\n",
    "                own_ori = (score, nr, state)\n",
    "            \n",
    "    except ValueError as err:\n",
    "        pass\n",
    "print('\\nDone')"
   ]
  },
  {
   "cell_type": "markdown",
   "metadata": {},
   "source": [
    "### EMG"
   ]
  },
  {
   "cell_type": "code",
   "execution_count": 16,
   "metadata": {
    "scrolled": true
   },
   "outputs": [
    {
     "name": "stdout",
     "output_type": "stream",
     "text": [
      "(0.5, 3, 5)\n",
      "(0.5, 6, 1)\n",
      "(0.5, 7, 1)\n",
      "(12, 2)\n",
      "Done\n"
     ]
    }
   ],
   "source": [
    "for nr in frame_numbers:\n",
    "    try:\n",
    "        emg_train_input, emg_train_label = prepare_data(train, nr, 'emg', verbose=False)\n",
    "        emg_valid_input, emg_valid_label = prepare_data(valid, nr, 'emg', verbose=False)\n",
    "        for state in states:\n",
    "            print((nr, state), end='\\r')\n",
    "            emg_classifier = MyoHmmClassifier(sensor_type='emg', n_states_per_hmm=state, random_state=random_seed)\n",
    "            emg_classifier.fit(emg_train_input, emg_train_label)\n",
    "\n",
    "            #emg_score_list = emg_classifier.score(emg_valid_input)\n",
    "            emg_predictions = emg_classifier.predict(emg_valid_input)\n",
    "            score = accuracy_score(emg_valid_label, emg_predictions)\n",
    "            \n",
    "            if score >= own_emg[0]:\n",
    "                print((score, nr, state), end='\\n')\n",
    "                own_emg = (score, nr, state)\n",
    "            \n",
    "    except ValueError as err:\n",
    "        pass\n",
    "print('\\nDone')"
   ]
  },
  {
   "cell_type": "code",
   "execution_count": 17,
   "metadata": {},
   "outputs": [
    {
     "name": "stdout",
     "output_type": "stream",
     "text": [
      "(0.734375, 3, 1)\n",
      "(0.6875, 6, 1)\n",
      "(0.5625, 1, 1)\n",
      "(0.5, 7, 1)\n"
     ]
    }
   ],
   "source": [
    "print(own_acc, end='\\n')\n",
    "print(own_gyro, end='\\n')\n",
    "print(own_ori, end='\\n')\n",
    "print(own_emg, end='\\n')"
   ]
  },
  {
   "cell_type": "markdown",
   "metadata": {},
   "source": [
    "## Parametertest - paper"
   ]
  },
  {
   "cell_type": "code",
   "execution_count": 12,
   "metadata": {
    "collapsed": true
   },
   "outputs": [],
   "source": [
    "train, valid, test = load_data_for_classification('paper')"
   ]
  },
  {
   "cell_type": "code",
   "execution_count": 13,
   "metadata": {
    "collapsed": true
   },
   "outputs": [],
   "source": [
    "# lists will be filled with (accuracy, frame_number, states)\n",
    "paper_acc = (0, 0)\n",
    "paper_gyro = (0, 0)\n",
    "paper_ori = (0, 0)\n",
    "paper_emg = (0, 0)"
   ]
  },
  {
   "cell_type": "markdown",
   "metadata": {},
   "source": [
    "### Accelerometer"
   ]
  },
  {
   "cell_type": "code",
   "execution_count": 14,
   "metadata": {
    "scrolled": true
   },
   "outputs": [
    {
     "name": "stdout",
     "output_type": "stream",
     "text": [
      "(12, 4)\n",
      "Done\n"
     ]
    }
   ],
   "source": [
    "for nr in frame_numbers:\n",
    "    try:\n",
    "        acc_train_input, acc_train_label = prepare_data(train, nr, 'accelerometer', verbose=False)\n",
    "        acc_valid_input, acc_valid_label = prepare_data(valid, nr, 'accelerometer', verbose=False)\n",
    "        for state in states:\n",
    "            print((nr, state), end='\\r')\n",
    "            acc_classifier = MyoHmmClassifier(sensor_type='accelerometer', n_states_per_hmm=state, random_state=random_seed)\n",
    "            acc_classifier.fit(acc_train_input, acc_train_label)\n",
    "\n",
    "            #acc_score_list = acc_classifier.score(acc_valid_input)\n",
    "            acc_predictions = acc_classifier.predict(acc_valid_input)\n",
    "            score = accuracy_score(acc_valid_label, acc_predictions)\n",
    "            if score > paper_acc[0]:\n",
    "                paper_acc = (score, nr, state)\n",
    "            \n",
    "    except ValueError as err:\n",
    "        pass\n",
    "print('\\nDone')"
   ]
  },
  {
   "cell_type": "markdown",
   "metadata": {
    "collapsed": true
   },
   "source": [
    "### Gyroskop"
   ]
  },
  {
   "cell_type": "code",
   "execution_count": 15,
   "metadata": {
    "scrolled": true
   },
   "outputs": [
    {
     "name": "stdout",
     "output_type": "stream",
     "text": [
      "(12, 2)\n",
      "Done\n"
     ]
    }
   ],
   "source": [
    "for nr in frame_numbers:\n",
    "    try:\n",
    "        gyro_train_input, gyro_train_label = prepare_data(train, nr, 'gyro', verbose=False)\n",
    "        gyro_valid_input, gyro_valid_label = prepare_data(valid, nr, 'gyro', verbose=False)\n",
    "        for state in states:\n",
    "            print((nr, state), end='\\r')\n",
    "            gyro_classifier = MyoHmmClassifier(sensor_type='gyro', n_states_per_hmm=state, random_state=random_seed)\n",
    "            gyro_classifier.fit(gyro_train_input, gyro_train_label)\n",
    "\n",
    "            #gyro_score_list = gyro_classifier.score(gyro_valid_input)\n",
    "            gyro_predictions = gyro_classifier.predict(gyro_valid_input)\n",
    "            score = accuracy_score(gyro_valid_label, gyro_predictions)\n",
    "            if score > paper_gyro[0]:\n",
    "                paper_gyro = (score, nr, state)\n",
    "            \n",
    "    except ValueError as err:\n",
    "        pass\n",
    "print('\\nDone')"
   ]
  },
  {
   "cell_type": "markdown",
   "metadata": {},
   "source": [
    "### Magnetometer"
   ]
  },
  {
   "cell_type": "code",
   "execution_count": 16,
   "metadata": {
    "scrolled": true
   },
   "outputs": [
    {
     "name": "stdout",
     "output_type": "stream",
     "text": [
      "(11, 2)\n",
      "Done\n"
     ]
    }
   ],
   "source": [
    "for nr in frame_numbers:\n",
    "    try:\n",
    "        ori_train_input, ori_train_label = prepare_data(train, nr, 'orientation', verbose=False)\n",
    "        ori_valid_input, ori_valid_label = prepare_data(valid, nr, 'orientation', verbose=False)\n",
    "        for state in states:\n",
    "            print((nr, state), end='\\r')\n",
    "            ori_classifier = MyoHmmClassifier(sensor_type='orientation', n_states_per_hmm=state, random_state=random_seed)\n",
    "            ori_classifier.fit(ori_train_input, ori_train_label)\n",
    "\n",
    "            #ori_score_list = ori_classifier.score(ori_valid_input)\n",
    "            ori_predictions = ori_classifier.predict(ori_valid_input)\n",
    "            score = accuracy_score(ori_valid_label, ori_predictions)\n",
    "            if score > paper_ori[0]:\n",
    "                paper_ori = (score, nr, state)\n",
    "            \n",
    "    except ValueError as err:\n",
    "        pass\n",
    "print('\\nDone')"
   ]
  },
  {
   "cell_type": "markdown",
   "metadata": {},
   "source": [
    "### EMG"
   ]
  },
  {
   "cell_type": "code",
   "execution_count": 17,
   "metadata": {
    "scrolled": true
   },
   "outputs": [
    {
     "name": "stdout",
     "output_type": "stream",
     "text": [
      "(12, 2)\n",
      "Done\n"
     ]
    }
   ],
   "source": [
    "for nr in frame_numbers:\n",
    "    try:\n",
    "        emg_train_input, emg_train_label = prepare_data(train, nr, 'emg', verbose=False)\n",
    "        emg_valid_input, emg_valid_label = prepare_data(valid, nr, 'emg', verbose=False)\n",
    "        for state in states:\n",
    "            print((nr, state), end='\\r')\n",
    "            emg_classifier = MyoHmmClassifier(sensor_type='emg', n_states_per_hmm=state, random_state=random_seed)\n",
    "            emg_classifier.fit(emg_train_input, emg_train_label)\n",
    "\n",
    "            #emg_score_list = emg_classifier.score(emg_valid_input)\n",
    "            emg_predictions = emg_classifier.predict(emg_valid_input)\n",
    "            score = accuracy_score(emg_valid_label, emg_predictions)\n",
    "            if score > paper_emg[0]:\n",
    "                paper_emg = (score, nr, state)\n",
    "            \n",
    "    except ValueError as err:\n",
    "        pass\n",
    "print('\\nDone')"
   ]
  },
  {
   "cell_type": "code",
   "execution_count": 18,
   "metadata": {},
   "outputs": [
    {
     "name": "stdout",
     "output_type": "stream",
     "text": [
      "(0.20618556701030927, 6, 2)\n",
      "(0.25257731958762886, 2, 2)\n",
      "(0.11855670103092783, 3, 1)\n",
      "(0.14432989690721648, 11, 1)\n"
     ]
    }
   ],
   "source": [
    "print(paper_acc, end='\\n')\n",
    "print(paper_gyro, end='\\n')\n",
    "print(paper_ori, end='\\n')\n",
    "print(paper_emg, end='\\n')"
   ]
  },
  {
   "cell_type": "markdown",
   "metadata": {},
   "source": [
    "## Parametertest - all"
   ]
  },
  {
   "cell_type": "code",
   "execution_count": 19,
   "metadata": {
    "collapsed": true
   },
   "outputs": [],
   "source": [
    "train, valid, test = load_data_for_classification('all')"
   ]
  },
  {
   "cell_type": "code",
   "execution_count": 20,
   "metadata": {
    "collapsed": true
   },
   "outputs": [],
   "source": [
    "# lists will be filled with (accuracy, frame_number, states)\n",
    "all_acc = (0, 0)\n",
    "all_gyro = (0, 0)\n",
    "all_ori = (0, 0)\n",
    "all_emg = (0, 0)"
   ]
  },
  {
   "cell_type": "markdown",
   "metadata": {},
   "source": [
    "### Accelerometer"
   ]
  },
  {
   "cell_type": "code",
   "execution_count": 21,
   "metadata": {
    "scrolled": true
   },
   "outputs": [
    {
     "name": "stdout",
     "output_type": "stream",
     "text": [
      "(12, 2)\n",
      "Done\n"
     ]
    }
   ],
   "source": [
    "for nr in frame_numbers:\n",
    "    try:\n",
    "        acc_train_input, acc_train_label = prepare_data(train, nr, 'accelerometer', verbose=False)\n",
    "        acc_valid_input, acc_valid_label = prepare_data(valid, nr, 'accelerometer', verbose=False)\n",
    "        for state in states:\n",
    "            print((nr, state), end='\\r')\n",
    "            acc_classifier = MyoHmmClassifier(sensor_type='accelerometer', n_states_per_hmm=state, random_state=random_seed)\n",
    "            acc_classifier.fit(acc_train_input, acc_train_label)\n",
    "\n",
    "            #acc_score_list = acc_classifier.score(acc_valid_input)\n",
    "            acc_predictions = acc_classifier.predict(acc_valid_input)\n",
    "            score = accuracy_score(acc_valid_label, acc_predictions)\n",
    "            if score > all_acc[0]:\n",
    "                all_acc = (score, nr, state)\n",
    "            \n",
    "    except ValueError as err:\n",
    "        pass\n",
    "print('\\nDone')"
   ]
  },
  {
   "cell_type": "markdown",
   "metadata": {
    "collapsed": true
   },
   "source": [
    "### Gyroskop"
   ]
  },
  {
   "cell_type": "code",
   "execution_count": 22,
   "metadata": {
    "scrolled": true
   },
   "outputs": [
    {
     "name": "stdout",
     "output_type": "stream",
     "text": [
      "(12, 2)\n",
      "Done\n"
     ]
    }
   ],
   "source": [
    "for nr in frame_numbers:\n",
    "    try:\n",
    "        gyro_train_input, gyro_train_label = prepare_data(train, nr, 'gyro', verbose=False)\n",
    "        gyro_valid_input, gyro_valid_label = prepare_data(valid, nr, 'gyro', verbose=False)\n",
    "        for state in states:\n",
    "            print((nr, state), end='\\r')\n",
    "            gyro_classifier = MyoHmmClassifier(sensor_type='gyro', n_states_per_hmm=state, random_state=random_seed)\n",
    "            gyro_classifier.fit(gyro_train_input, gyro_train_label)\n",
    "\n",
    "            #gyro_score_list = gyro_classifier.score(gyro_valid_input)\n",
    "            gyro_predictions = gyro_classifier.predict(gyro_valid_input)\n",
    "            score = accuracy_score(gyro_valid_label, gyro_predictions)\n",
    "            if score > all_gyro[0]:\n",
    "                all_gyro = (score, nr, state)\n",
    "            \n",
    "    except ValueError as err:\n",
    "        pass\n",
    "print('\\nDone')"
   ]
  },
  {
   "cell_type": "markdown",
   "metadata": {},
   "source": [
    "### Magnetometer"
   ]
  },
  {
   "cell_type": "code",
   "execution_count": 23,
   "metadata": {
    "scrolled": true
   },
   "outputs": [
    {
     "name": "stdout",
     "output_type": "stream",
     "text": [
      "(6, 2)\n",
      "Done\n"
     ]
    }
   ],
   "source": [
    "for nr in frame_numbers:\n",
    "    try:\n",
    "        ori_train_input, ori_train_label = prepare_data(train, nr, 'orientation', verbose=False)\n",
    "        ori_valid_input, ori_valid_label = prepare_data(valid, nr, 'orientation', verbose=False)\n",
    "        for state in states:\n",
    "            print((nr, state), end='\\r')\n",
    "            ori_classifier = MyoHmmClassifier(sensor_type='orientation', n_states_per_hmm=state, random_state=random_seed)\n",
    "            ori_classifier.fit(ori_train_input, ori_train_label)\n",
    "\n",
    "            #ori_score_list = ori_classifier.score(ori_valid_input)\n",
    "            ori_predictions = ori_classifier.predict(ori_valid_input)\n",
    "            score = accuracy_score(ori_valid_label, ori_predictions)\n",
    "            if score > all_ori[0]:\n",
    "                all_ori = (score, nr, state)\n",
    "            \n",
    "    except ValueError as err:\n",
    "        pass\n",
    "print('\\nDone')"
   ]
  },
  {
   "cell_type": "markdown",
   "metadata": {},
   "source": [
    "### EMG"
   ]
  },
  {
   "cell_type": "code",
   "execution_count": 24,
   "metadata": {
    "scrolled": true
   },
   "outputs": [
    {
     "name": "stdout",
     "output_type": "stream",
     "text": [
      "(12, 2)\n",
      "Done\n"
     ]
    }
   ],
   "source": [
    "for nr in frame_numbers:\n",
    "    try:\n",
    "        emg_train_input, emg_train_label = prepare_data(train, nr, 'emg', verbose=False)\n",
    "        emg_valid_input, emg_valid_label = prepare_data(valid, nr, 'emg', verbose=False)\n",
    "        for state in states:\n",
    "            print((nr, state), end='\\r')\n",
    "            emg_classifier = MyoHmmClassifier(sensor_type='emg', n_states_per_hmm=state, random_state=random_seed)\n",
    "            emg_classifier.fit(emg_train_input, emg_train_label)\n",
    "\n",
    "            #emg_score_list = emg_classifier.score(emg_valid_input)\n",
    "            emg_predictions = emg_classifier.predict(emg_valid_input)\n",
    "            score = accuracy_score(emg_valid_label, emg_predictions)\n",
    "            if score > all_emg[0]:\n",
    "                all_emg = (score, nr, state)\n",
    "            \n",
    "    except ValueError as err:\n",
    "        pass\n",
    "print('\\nDone')"
   ]
  },
  {
   "cell_type": "code",
   "execution_count": 25,
   "metadata": {},
   "outputs": [
    {
     "name": "stdout",
     "output_type": "stream",
     "text": [
      "(0.28185328185328185, 4, 1)\n",
      "(0.30888030888030887, 8, 1)\n",
      "(0.15444015444015444, 3, 1)\n",
      "(0.20077220077220076, 11, 1)\n"
     ]
    }
   ],
   "source": [
    "print(all_acc, end='\\n')\n",
    "print(all_gyro, end='\\n')\n",
    "print(all_ori, end='\\n')\n",
    "print(all_emg, end='\\n')"
   ]
  },
  {
   "cell_type": "code",
   "execution_count": 26,
   "metadata": {},
   "outputs": [
    {
     "name": "stdout",
     "output_type": "stream",
     "text": [
      "Duration: 2194.200239419937\n"
     ]
    }
   ],
   "source": [
    "print('Duration: {}'.format(time.time() - start_time))"
   ]
  }
 ],
 "metadata": {
  "kernelspec": {
   "display_name": "Python 3",
   "language": "python",
   "name": "python3"
  },
  "language_info": {
   "codemirror_mode": {
    "name": "ipython",
    "version": 3
   },
   "file_extension": ".py",
   "mimetype": "text/x-python",
   "name": "python",
   "nbconvert_exporter": "python",
   "pygments_lexer": "ipython3",
   "version": "3.6.1"
  }
 },
 "nbformat": 4,
 "nbformat_minor": 2
}
