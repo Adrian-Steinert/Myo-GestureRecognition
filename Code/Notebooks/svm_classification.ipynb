{
 "cells": [
  {
   "cell_type": "markdown",
   "metadata": {},
   "source": [
    "# Klassifikation mit Support Vektor Maschinen"
   ]
  },
  {
   "cell_type": "code",
   "execution_count": null,
   "metadata": {
    "collapsed": true
   },
   "outputs": [],
   "source": [
    "import os\n",
    "import sys\n",
    "import math\n",
    "import time\n",
    "import numpy as np\n",
    "\n",
    "from glob import glob\n",
    "from gesture_comparison_helper import load_gestures\n",
    "from scipy.fftpack import fft\n",
    "from scipy import signal\n",
    "from sklearn import svm\n",
    "from sklearn.model_selection import GridSearchCV\n",
    "from sklearn.metrics import confusion_matrix, accuracy_score, classification_report\n",
    "from sklearn.preprocessing import MinMaxScaler"
   ]
  },
  {
   "cell_type": "code",
   "execution_count": null,
   "metadata": {},
   "outputs": [],
   "source": [
    "module_path = os.path.abspath(os.path.join('..'))\n",
    "if module_path not in sys.path:\n",
    "    sys.path.append(module_path)\n",
    "from Utils.data_preparation_helper import load_data_for_classification, prepare_data"
   ]
  },
  {
   "cell_type": "code",
   "execution_count": null,
   "metadata": {
    "collapsed": true
   },
   "outputs": [],
   "source": [
    "np.random.seed(42)"
   ]
  },
  {
   "cell_type": "markdown",
   "metadata": {},
   "source": [
    "## SVM Parameter"
   ]
  },
  {
   "cell_type": "code",
   "execution_count": null,
   "metadata": {
    "collapsed": true
   },
   "outputs": [],
   "source": [
    "SVM_KERNEL = 'linear'\n",
    "DECISION_FUNCTION = 'ovo'\n",
    "PROB = True"
   ]
  },
  {
   "cell_type": "code",
   "execution_count": null,
   "metadata": {
    "collapsed": true
   },
   "outputs": [],
   "source": [
    "train, valid, test = load_data_for_classification('own')"
   ]
  },
  {
   "cell_type": "markdown",
   "metadata": {},
   "source": [
    "## Accelerometer feature extraction"
   ]
  },
  {
   "cell_type": "code",
   "execution_count": null,
   "metadata": {
    "collapsed": true,
    "scrolled": true
   },
   "outputs": [],
   "source": [
    "frame_count = 0\n",
    "best_params = {}\n",
    "best_score = 0\n",
    "\n",
    "for nr in range(2, 21):\n",
    "    print(nr)\n",
    "    # needs to be greater than 0\n",
    "    FRAME_NUMBER = nr\n",
    "\n",
    "    acc_train_input, acc_train_label = prepare_data(train, FRAME_NUMBER, 'accelerometer')\n",
    "    acc_valid_input, acc_valid_label = prepare_data(valid, FRAME_NUMBER, 'accelerometer')\n",
    "\n",
    "    #print(acc_valid_input)\n",
    "\n",
    "    parameters = [{'C': [1, 10, 100, 1000], 'kernel': ['rbf', 'linear', 'poly', 'sigmoid']\n",
    "                   , 'decision_function_shape': ['ovo', 'ovr'], 'degree': [3, 4, 5, 6]}]\n",
    "\n",
    "    svc = GridSearchCV(svm.SVC(), parameters, cv=7).fit(acc_train_input + acc_valid_input, acc_train_label + acc_valid_label)\n",
    "\n",
    "    #print(svc.best_params_)\n",
    "    #print(svc.best_score_)\n",
    "    if svc.best_score_ > best_score:\n",
    "        frame_count = nr\n",
    "        best_params = svc.best_params_\n",
    "        best_score = svc.best_score_\n",
    "\n",
    "print(frame_count)\n",
    "print(best_params)\n",
    "print(best_score)\n",
    "\n",
    "#classifier = svm.SVC(kernel= SVM_KERNEL\n",
    "#                     , decision_function_shape= DECISION_FUNCTION\n",
    "#                     , probability= PROB)\n",
    "\n",
    "#classifier.fit(acc_train_input, acc_train_label)\n",
    "#print(label)\n",
    "#acc_predictions = classifier.predict(acc_valid_input)\n",
    "#print(predictions)\n",
    "#print(acc_valid_label == predictions)\n",
    "#prob_preds = classifier.predict_proba(acc_valid_input)\n",
    "#print(prob_preds)"
   ]
  },
  {
   "cell_type": "code",
   "execution_count": null,
   "metadata": {},
   "outputs": [],
   "source": [
    "#{'C': 100, 'decision_function_shape': 'ovo', 'kernel': 'rbf'}\n",
    "FRAME_NUMBER = 3\n",
    "\n",
    "acc_train_input, acc_train_label = prepare_data(train, FRAME_NUMBER, 'accelerometer')\n",
    "acc_valid_input, acc_valid_label = prepare_data(valid, FRAME_NUMBER, 'accelerometer')\n",
    "\n",
    "classifier = svm.SVC(C=1000\n",
    "                     , kernel= 'linear'\n",
    "                     , decision_function_shape= 'ovo'\n",
    "                     , probability= True\n",
    "                    )\n",
    "\n",
    "classifier.fit(acc_train_input, acc_train_label)\n",
    "#print(label)\n",
    "acc_predictions = classifier.predict(acc_valid_input)\n",
    "#print(acc_predictions)\n",
    "#print(acc_valid_label == predictions)\n",
    "#prob_preds = classifier.predict_proba(acc_valid_input)\n",
    "#print(prob_preds)"
   ]
  },
  {
   "cell_type": "code",
   "execution_count": null,
   "metadata": {},
   "outputs": [],
   "source": [
    "print(confusion_matrix(acc_valid_label, acc_predictions))"
   ]
  },
  {
   "cell_type": "code",
   "execution_count": null,
   "metadata": {},
   "outputs": [],
   "source": [
    "print(accuracy_score(acc_valid_label, acc_predictions))\n",
    "#print(classifier.score(valid_label, predictions))"
   ]
  },
  {
   "cell_type": "code",
   "execution_count": null,
   "metadata": {},
   "outputs": [],
   "source": [
    "print(classification_report(acc_valid_label, acc_predictions))"
   ]
  },
  {
   "cell_type": "markdown",
   "metadata": {},
   "source": [
    "## Gyroscope feature extraction"
   ]
  },
  {
   "cell_type": "code",
   "execution_count": null,
   "metadata": {},
   "outputs": [],
   "source": [
    "# needs to be greater than 0\n",
    "FRAME_NUMBER = 4\n",
    "\n",
    "classifier = svm.SVC(kernel= SVM_KERNEL\n",
    "                     , decision_function_shape= DECISION_FUNCTION\n",
    "                     , probability= PROB)\n",
    "\n",
    "gyro_train_input, gyro_train_label = prepare_data(train, FRAME_NUMBER, 'gyro')\n",
    "gyro_valid_input, gyro_valid_label = prepare_data(valid, FRAME_NUMBER, 'gyro')\n",
    "\n",
    "#print(gyro_valid_input)\n",
    "\n",
    "classifier.fit(gyro_train_input, gyro_train_label)\n",
    "#print(label)\n",
    "gyro_predictions = classifier.predict(gyro_valid_input)\n",
    "#print(predictions)\n",
    "#print(gyro_valid_label == predictions)\n",
    "prob_preds = classifier.predict_proba(gyro_valid_input)\n",
    "#print(prob_preds)"
   ]
  },
  {
   "cell_type": "code",
   "execution_count": null,
   "metadata": {},
   "outputs": [],
   "source": [
    "print(confusion_matrix(gyro_valid_label, gyro_predictions))"
   ]
  },
  {
   "cell_type": "code",
   "execution_count": null,
   "metadata": {},
   "outputs": [],
   "source": [
    "print(accuracy_score(gyro_valid_label, gyro_predictions))"
   ]
  },
  {
   "cell_type": "code",
   "execution_count": null,
   "metadata": {},
   "outputs": [],
   "source": [
    "print(classification_report(gyro_valid_label, gyro_predictions))"
   ]
  },
  {
   "cell_type": "markdown",
   "metadata": {},
   "source": [
    "## Magnetometer feature extraction"
   ]
  },
  {
   "cell_type": "code",
   "execution_count": null,
   "metadata": {
    "collapsed": true
   },
   "outputs": [],
   "source": [
    "# needs to be greater than 0\n",
    "FRAME_NUMBER = 3\n",
    "\n",
    "classifier = svm.SVC(kernel= SVM_KERNEL\n",
    "                     , decision_function_shape= DECISION_FUNCTION\n",
    "                     , probability= PROB)\n",
    "\n",
    "ori_train_input, ori_train_label = prepare_data(train, FRAME_NUMBER, 'orientation')\n",
    "ori_valid_input, ori_valid_label = prepare_data(valid, FRAME_NUMBER, 'orientation')\n",
    "\n",
    "#print(ori_valid_input)\n",
    "\n",
    "classifier.fit(ori_train_input, ori_train_label)\n",
    "#print(label)\n",
    "ori_predictions = classifier.predict(ori_valid_input)\n",
    "#print(predictions)\n",
    "#print(ori_valid_label == predictions)\n",
    "prob_preds = classifier.predict_proba(ori_valid_input)\n",
    "#print(prob_preds)"
   ]
  },
  {
   "cell_type": "code",
   "execution_count": null,
   "metadata": {},
   "outputs": [],
   "source": [
    "print(confusion_matrix(ori_valid_label, ori_predictions))"
   ]
  },
  {
   "cell_type": "code",
   "execution_count": null,
   "metadata": {},
   "outputs": [],
   "source": [
    "print(accuracy_score(ori_valid_label, ori_predictions))"
   ]
  },
  {
   "cell_type": "code",
   "execution_count": null,
   "metadata": {},
   "outputs": [],
   "source": [
    "print(classification_report(ori_valid_label, ori_predictions))"
   ]
  },
  {
   "cell_type": "markdown",
   "metadata": {
    "collapsed": true
   },
   "source": [
    "## EMG feature extraction"
   ]
  },
  {
   "cell_type": "code",
   "execution_count": null,
   "metadata": {
    "collapsed": true
   },
   "outputs": [],
   "source": [
    "# needs to be greater than 0\n",
    "FRAME_NUMBER = 3\n",
    "\n",
    "classifier = svm.SVC(kernel= SVM_KERNEL\n",
    "                     , decision_function_shape= DECISION_FUNCTION\n",
    "                     , probability= PROB)\n",
    "\n",
    "emg_train_input, emg_train_label = prepare_data(train, FRAME_NUMBER, 'emg')\n",
    "emg_valid_input, emg_valid_label = prepare_data(valid, FRAME_NUMBER, 'emg')\n",
    "\n",
    "#print(emg_valid_input)\n",
    "\n",
    "classifier.fit(emg_train_input, emg_train_label)\n",
    "#print(label)\n",
    "emg_predictions = classifier.predict(emg_valid_input)\n",
    "#print(predictions)\n",
    "#print(emg_valid_label == predictions)\n",
    "prob_preds = classifier.predict_proba(emg_valid_input)\n",
    "#print(prob_preds)"
   ]
  },
  {
   "cell_type": "code",
   "execution_count": null,
   "metadata": {},
   "outputs": [],
   "source": [
    "print(confusion_matrix(emg_valid_label, emg_predictions))"
   ]
  },
  {
   "cell_type": "code",
   "execution_count": null,
   "metadata": {},
   "outputs": [],
   "source": [
    "print(accuracy_score(emg_valid_label, emg_predictions))"
   ]
  },
  {
   "cell_type": "code",
   "execution_count": null,
   "metadata": {},
   "outputs": [],
   "source": [
    "print(classification_report(emg_valid_label, emg_predictions))"
   ]
  },
  {
   "cell_type": "code",
   "execution_count": null,
   "metadata": {
    "collapsed": true
   },
   "outputs": [],
   "source": []
  }
 ],
 "metadata": {
  "kernelspec": {
   "display_name": "Python 3",
   "language": "python",
   "name": "python3"
  },
  "language_info": {
   "codemirror_mode": {
    "name": "ipython",
    "version": 3
   },
   "file_extension": ".py",
   "mimetype": "text/x-python",
   "name": "python",
   "nbconvert_exporter": "python",
   "pygments_lexer": "ipython3",
   "version": "3.6.1"
  }
 },
 "nbformat": 4,
 "nbformat_minor": 2
}
