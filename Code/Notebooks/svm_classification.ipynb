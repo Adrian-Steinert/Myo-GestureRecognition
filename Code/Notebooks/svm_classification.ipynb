{
 "cells": [
  {
   "cell_type": "markdown",
   "metadata": {},
   "source": [
    "# Klassifikation mit Support Vektor Maschinen"
   ]
  },
  {
   "cell_type": "code",
   "execution_count": null,
   "metadata": {
    "collapsed": true
   },
   "outputs": [],
   "source": [
    "import os\n",
    "import sys\n",
    "import math\n",
    "import time\n",
    "import numpy as np\n",
    "\n",
    "from glob import glob\n",
    "from gesture_comparison_helper import load_gestures\n",
    "from scipy.fftpack import fft\n",
    "from scipy import signal\n",
    "from sklearn import svm\n",
    "from sklearn.metrics import confusion_matrix, accuracy_score, classification_report\n",
    "from sklearn.preprocessing import MinMaxScaler"
   ]
  },
  {
   "cell_type": "code",
   "execution_count": null,
   "metadata": {
    "collapsed": true
   },
   "outputs": [],
   "source": [
    "module_path = os.path.abspath(os.path.join('..'))\n",
    "if module_path not in sys.path:\n",
    "    sys.path.append(module_path)\n",
    "from Utils.data_preparation_helper import prepare_data"
   ]
  },
  {
   "cell_type": "markdown",
   "metadata": {},
   "source": [
    "## SVM Parameter"
   ]
  },
  {
   "cell_type": "code",
   "execution_count": null,
   "metadata": {
    "collapsed": true
   },
   "outputs": [],
   "source": [
    "SVM_KERNEL = 'linear'\n",
    "DECISION_FUNCTION = 'ovo'\n",
    "PROB = True"
   ]
  },
  {
   "cell_type": "markdown",
   "metadata": {},
   "source": [
    "## Accelerometer feature extraction"
   ]
  },
  {
   "cell_type": "code",
   "execution_count": null,
   "metadata": {
    "collapsed": true
   },
   "outputs": [],
   "source": [
    "train = load_gestures(glob('../Data/converted/a*/b*/*'))\n",
    "train += load_gestures(glob('../Data/converted/a*/c*/*'))\n",
    "train += load_gestures(glob('../Data/converted/a*/f*/*'))\n",
    "train += load_gestures(glob('../Data/converted/a*/s*/*'))\n",
    "#train += load_gestures(glob('../Data/converted/cynthia/*/*'))\n",
    "#train += load_gestures(glob('../Data/converted/flo/*/*'))\n",
    "#train += load_gestures(glob('../Data/converted/kai/*/*'))\n",
    "#train += load_gestures(glob('../Data/converted/lisa/*/*'))\n",
    "#train += load_gestures(glob('../Data/converted/m*/*/*'))\n",
    "#train += load_gestures(glob('../Data/converted/nina_v/*/*'))\n",
    "#train += load_gestures(glob('../Data/converted/oli/*/*'))\n",
    "#train += load_gestures(glob('../Data/converted/paul/*/*'))\n",
    "\n",
    "#test = load_gestures(glob('../Data/converted/cynthia/*/*'))\n",
    "#test += load_gestures(glob('../Data/converted/flo/*/*'))\n",
    "#test += load_gestures(glob('../Data/converted/kai/*/*'))\n",
    "#test += load_gestures(glob('../Data/converted/lisa/*/*'))\n",
    "#test += load_gestures(glob('../Data/converted/m*/*/*'))\n",
    "#test += load_gestures(glob('../Data/converted/nina_v/*/*'))\n",
    "#test += load_gestures(glob('../Data/converted/oli/*/*'))\n",
    "#test += load_gestures(glob('../Data/converted/paul/*/*'))\n",
    "test = load_gestures(glob('../Data/converted/ruben/b*/*'))\n",
    "test += load_gestures(glob('../Data/converted/ruben/c*/*'))\n",
    "test += load_gestures(glob('../Data/converted/ruben/f*/*'))\n",
    "test += load_gestures(glob('../Data/converted/ruben/s*/*'))\n",
    "test += load_gestures(glob('../Data/converted/s*/b*/*'))\n",
    "test += load_gestures(glob('../Data/converted/s*/c*/*'))\n",
    "test += load_gestures(glob('../Data/converted/s*/f*/*'))\n",
    "test += load_gestures(glob('../Data/converted/s*/s*/*'))"
   ]
  },
  {
   "cell_type": "code",
   "execution_count": null,
   "metadata": {
    "scrolled": true
   },
   "outputs": [],
   "source": [
    "# needs to be greater than 0\n",
    "FRAME_NUMBER = 3\n",
    "\n",
    "classifier = svm.SVC(kernel= SVM_KERNEL\n",
    "                     , decision_function_shape= DECISION_FUNCTION\n",
    "                     , probability= PROB)\n",
    "\n",
    "acc_train_input, acc_train_label = prepare_data(train, FRAME_NUMBER, 'accelerometer')\n",
    "acc_test_input, acc_test_label = prepare_data(test, FRAME_NUMBER, 'accelerometer')\n",
    "\n",
    "#print(acc_test_input)\n",
    "\n",
    "classifier.fit(acc_train_input, acc_train_label)\n",
    "#print(label)\n",
    "predictions = classifier.predict(acc_test_input)\n",
    "#print(predictions)\n",
    "#print(acc_test_label == predictions)\n",
    "prob_preds = classifier.predict_proba(acc_test_input)\n",
    "#print(prob_preds)"
   ]
  },
  {
   "cell_type": "code",
   "execution_count": null,
   "metadata": {},
   "outputs": [],
   "source": [
    "print(confusion_matrix(test_label, predictions))"
   ]
  },
  {
   "cell_type": "code",
   "execution_count": null,
   "metadata": {},
   "outputs": [],
   "source": [
    "print(accuracy_score(test_label, predictions))\n",
    "#print(classifier.score(test_label, predictions))"
   ]
  },
  {
   "cell_type": "code",
   "execution_count": null,
   "metadata": {},
   "outputs": [],
   "source": [
    "print(classification_report(test_label, predictions))"
   ]
  },
  {
   "cell_type": "markdown",
   "metadata": {},
   "source": [
    "## Gyroscope feature extraction"
   ]
  },
  {
   "cell_type": "code",
   "execution_count": null,
   "metadata": {
    "collapsed": true
   },
   "outputs": [],
   "source": [
    "# needs to be greater than 0\n",
    "FRAME_NUMBER = 9\n",
    "\n",
    "classifier = svm.SVC(kernel= SVM_KERNEL\n",
    "                     , decision_function_shape= DECISION_FUNCTION\n",
    "                     , probability= PROB)\n",
    "\n",
    "gyro_train_input, gyro_train_label = prepare_data(train, FRAME_NUMBER, 'gyro')\n",
    "gyro_test_input, gyro_test_label = prepare_data(test, FRAME_NUMBER, 'gyro')\n",
    "\n",
    "#print(gyro_test_input)\n",
    "\n",
    "classifier.fit(gyro_train_input, gyro_train_label)\n",
    "#print(label)\n",
    "predictions = classifier.predict(gyro_test_input)\n",
    "#print(predictions)\n",
    "#print(gyro_test_label == predictions)\n",
    "prob_preds = classifier.predict_proba(gyro_test_input)\n",
    "#print(prob_preds)"
   ]
  },
  {
   "cell_type": "code",
   "execution_count": null,
   "metadata": {},
   "outputs": [],
   "source": [
    "print(confusion_matrix(test_label, predictions))"
   ]
  },
  {
   "cell_type": "code",
   "execution_count": null,
   "metadata": {},
   "outputs": [],
   "source": [
    "print(accuracy_score(test_label, predictions))"
   ]
  },
  {
   "cell_type": "code",
   "execution_count": null,
   "metadata": {},
   "outputs": [],
   "source": [
    "print(classification_report(test_label, predictions))"
   ]
  },
  {
   "cell_type": "markdown",
   "metadata": {},
   "source": [
    "## Magnetometer feature extraction"
   ]
  },
  {
   "cell_type": "code",
   "execution_count": null,
   "metadata": {
    "collapsed": true
   },
   "outputs": [],
   "source": [
    "# needs to be greater than 0\n",
    "FRAME_NUMBER = 3\n",
    "\n",
    "classifier = svm.SVC(kernel= SVM_KERNEL\n",
    "                     , decision_function_shape= DECISION_FUNCTION\n",
    "                     , probability= PROB)\n",
    "\n",
    "ori_train_input, ori_train_label = prepare_data(train, FRAME_NUMBER, 'orientation')\n",
    "ori_test_input, ori_test_label = prepare_data(test, FRAME_NUMBER, 'orientation')\n",
    "\n",
    "#print(ori_test_input)\n",
    "\n",
    "classifier.fit(ori_train_input, ori_train_label)\n",
    "#print(label)\n",
    "predictions = classifier.predict(ori_test_input)\n",
    "#print(predictions)\n",
    "#print(ori_test_label == predictions)\n",
    "prob_preds = classifier.predict_proba(ori_test_input)\n",
    "#print(prob_preds)"
   ]
  },
  {
   "cell_type": "code",
   "execution_count": null,
   "metadata": {},
   "outputs": [],
   "source": [
    "print(confusion_matrix(test_label, predictions))"
   ]
  },
  {
   "cell_type": "code",
   "execution_count": null,
   "metadata": {},
   "outputs": [],
   "source": [
    "print(accuracy_score(test_label, predictions))"
   ]
  },
  {
   "cell_type": "code",
   "execution_count": null,
   "metadata": {},
   "outputs": [],
   "source": [
    "print(classification_report(test_label, predictions))"
   ]
  },
  {
   "cell_type": "markdown",
   "metadata": {
    "collapsed": true
   },
   "source": [
    "## EMG feature extraction"
   ]
  },
  {
   "cell_type": "code",
   "execution_count": null,
   "metadata": {
    "collapsed": true
   },
   "outputs": [],
   "source": []
  }
 ],
 "metadata": {
  "kernelspec": {
   "display_name": "Python 3",
   "language": "python",
   "name": "python3"
  },
  "language_info": {
   "codemirror_mode": {
    "name": "ipython",
    "version": 3
   },
   "file_extension": ".py",
   "mimetype": "text/x-python",
   "name": "python",
   "nbconvert_exporter": "python",
   "pygments_lexer": "ipython3",
   "version": "3.6.1"
  }
 },
 "nbformat": 4,
 "nbformat_minor": 2
}
