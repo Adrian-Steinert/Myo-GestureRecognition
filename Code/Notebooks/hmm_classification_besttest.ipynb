{
 "cells": [
  {
   "cell_type": "markdown",
   "metadata": {},
   "source": [
    "# Klassifikation mit Hidden Markov Modellen"
   ]
  },
  {
   "cell_type": "code",
   "execution_count": 1,
   "metadata": {
    "collapsed": true
   },
   "outputs": [],
   "source": [
    "import os\n",
    "import sys\n",
    "import time\n",
    "import numpy as np\n",
    "\n",
    "from itertools import combinations, product\n",
    "from sklearn.externals import joblib\n",
    "from sklearn.metrics import confusion_matrix, accuracy_score, classification_report\n",
    "\n",
    "import matplotlib.pyplot as plt\n",
    "\n",
    "import warnings\n",
    "warnings.filterwarnings('ignore')"
   ]
  },
  {
   "cell_type": "code",
   "execution_count": 2,
   "metadata": {
    "collapsed": true
   },
   "outputs": [],
   "source": [
    "module_path = os.path.abspath(os.path.join('..'))\n",
    "if module_path not in sys.path:\n",
    "    sys.path.append(module_path)\n",
    "from Utils.classification_helper import MyoHmmClassifier\n",
    "from Utils.data_preparation_helper import load_data_for_classification, prepare_data\n",
    "from Utils.data_evaluation_helper import parse_classification_report, report_to_latex_table"
   ]
  },
  {
   "cell_type": "code",
   "execution_count": 3,
   "metadata": {
    "collapsed": true
   },
   "outputs": [],
   "source": [
    "random_seed = 42"
   ]
  },
  {
   "cell_type": "code",
   "execution_count": 4,
   "metadata": {
    "collapsed": true
   },
   "outputs": [],
   "source": [
    "def print_confusion_matrix_colored(confusion_matrix, c_labels, xy_labelsize, c_labelsize, save=None):\n",
    "    fig = plt.figure(figsize=(10,10))\n",
    "    ax  = fig.add_subplot(111)\n",
    "    #ax.set_title('Classification report')\n",
    "    ax.set_xlabel('prädizierte Klasse', fontsize=xy_labelsize, labelpad=12)\n",
    "    ax.xaxis.tick_top()\n",
    "    ax.set_xticks(list(range(len(c_labels))))\n",
    "    ax.xaxis.set_label_position('top')\n",
    "    ax.xaxis.set_ticklabels(c_labels, fontsize=c_labelsize, rotation=90)\n",
    "\n",
    "    ax.set_ylabel('tatsächliche Klasse', fontsize=xy_labelsize)\n",
    "    ax.yaxis.set_ticklabels(c_labels, fontsize=c_labelsize)\n",
    "    ax.set_yticks(list(range(len(c_labels))))\n",
    "\n",
    "    img = ax.imshow(confusion_matrix, cmap='gray')\n",
    "    cbar = fig.colorbar(img)\n",
    "    cbar.ax.tick_params(labelsize=c_labelsize)\n",
    "    fig.tight_layout()\n",
    "    if save != None:\n",
    "        fig.savefig(save)\n",
    "    plt.show()"
   ]
  },
  {
   "cell_type": "markdown",
   "metadata": {},
   "source": [
    "## Auswertung der optimalen Parameter - own"
   ]
  },
  {
   "cell_type": "code",
   "execution_count": 5,
   "metadata": {
    "collapsed": true
   },
   "outputs": [],
   "source": [
    "##### own #####\n",
    "#(0.734375, 3, 1)\n",
    "#(0.6875, 6, 1)\n",
    "#(0.5625, 1, 1)\n",
    "#(0.5, 7, 1)\n",
    "\n",
    "acc_frames = 3\n",
    "acc_states = 1\n",
    "\n",
    "gyro_frames = 6\n",
    "gyro_states = 1\n",
    "\n",
    "ori_frames = 1\n",
    "ori_states = 1\n",
    "\n",
    "emg_frames = 7\n",
    "emg_states = 1"
   ]
  },
  {
   "cell_type": "code",
   "execution_count": 6,
   "metadata": {},
   "outputs": [
    {
     "name": "stdout",
     "output_type": "stream",
     "text": [
      "Accelerometer data prepared\n",
      "Gyroscope data prepared\n",
      "Orientation data prepared\n",
      "EMG data prepared\n",
      "\n",
      "Duration: 15.871142387390137\n"
     ]
    }
   ],
   "source": [
    "start_time = time.time()\n",
    "\n",
    "train, valid, test = load_data_for_classification('own')\n",
    "\n",
    "acc_train_input, acc_train_label = prepare_data(train, acc_frames, 'accelerometer', verbose=False)\n",
    "acc_valid_input, acc_valid_label = prepare_data(valid, acc_frames, 'accelerometer', verbose=False)\n",
    "acc_test_input, acc_test_label = prepare_data(test, acc_frames, 'accelerometer', verbose=False)\n",
    "print('Accelerometer data prepared')\n",
    "\n",
    "gyro_train_input, gyro_train_label = prepare_data(train, gyro_frames, 'gyro', verbose=False)\n",
    "gyro_valid_input, gyro_valid_label = prepare_data(valid, gyro_frames, 'gyro', verbose=False)\n",
    "gyro_test_input, gyro_test_label = prepare_data(test, gyro_frames, 'gyro', verbose=False)\n",
    "print('Gyroscope data prepared')\n",
    "\n",
    "ori_train_input, ori_train_label = prepare_data(train, ori_frames, 'orientation', verbose=False)\n",
    "ori_valid_input, ori_valid_label = prepare_data(valid, ori_frames, 'orientation', verbose=False)\n",
    "ori_test_input, ori_test_label = prepare_data(test, ori_frames, 'orientation', verbose=False)\n",
    "print('Orientation data prepared')\n",
    "\n",
    "emg_train_input, emg_train_label = prepare_data(train, emg_frames, 'emg', verbose=False)\n",
    "emg_valid_input, emg_valid_label = prepare_data(valid, emg_frames, 'emg', verbose=False)\n",
    "emg_test_input, emg_test_label = prepare_data(test, emg_frames, 'emg', verbose=False)\n",
    "print('EMG data prepared')\n",
    "\n",
    "print('\\nDuration: {}'.format(time.time() - start_time))"
   ]
  },
  {
   "cell_type": "code",
   "execution_count": 7,
   "metadata": {},
   "outputs": [
    {
     "name": "stdout",
     "output_type": "stream",
     "text": [
      "Accelerometer classifier fitted\n",
      "Gyroscope classifier fitted\n",
      "Orientation classifier fitted\n",
      "EMG classifier fitted\n",
      "\n",
      "Duration: 0.2235579490661621\n"
     ]
    }
   ],
   "source": [
    "start_time = time.time()\n",
    "\n",
    "acc_hmm = MyoHmmClassifier(sensor_type='accelerometer', n_states_per_hmm=acc_states, random_state=random_seed)\n",
    "acc_hmm.fit(np.append(acc_train_input, acc_valid_input, axis=0), np.append(acc_train_label, acc_valid_label))\n",
    "print('Accelerometer classifier fitted')\n",
    "\n",
    "gyro_hmm = MyoHmmClassifier(sensor_type='gyro', n_states_per_hmm=gyro_states, random_state=random_seed)\n",
    "gyro_hmm.fit(np.append(gyro_train_input, gyro_valid_input, axis=0), np.append(gyro_train_label, gyro_valid_label))\n",
    "print('Gyroscope classifier fitted')\n",
    "\n",
    "ori_hmm = MyoHmmClassifier(sensor_type='orientation', n_states_per_hmm=ori_states, random_state=random_seed)\n",
    "ori_hmm.fit(np.append(ori_train_input, ori_valid_input, axis=0), np.append(ori_train_label, ori_valid_label))\n",
    "print('Orientation classifier fitted')\n",
    "\n",
    "emg_hmm = MyoHmmClassifier(sensor_type='emg', n_states_per_hmm=emg_states, random_state=random_seed)\n",
    "emg_hmm.fit(np.append(emg_train_input, emg_valid_input, axis=0), np.append(emg_train_label, emg_valid_label))\n",
    "print('EMG classifier fitted')\n",
    "\n",
    "print('\\nDuration: {}'.format(time.time() - start_time))"
   ]
  },
  {
   "cell_type": "code",
   "execution_count": 8,
   "metadata": {},
   "outputs": [],
   "source": [
    "frame_config ={'acc_frames':acc_frames, 'gyro_frames':gyro_frames, 'ori_frames':ori_frames, 'emg_frames':emg_frames}\n",
    "\n",
    "save_path = '../Data/models/hmm/'\n",
    "os.makedirs(save_path, exist_ok=True)\n",
    "\n",
    "joblib.dump(acc_hmm, save_path + 'own_acc_hmm.p')\n",
    "joblib.dump(gyro_hmm, save_path + 'own_gyro_hmm.p')\n",
    "joblib.dump(ori_hmm, save_path + 'own_ori_hmm.p')\n",
    "joblib.dump(emg_hmm, save_path + 'own_emg_hmm.p')\n",
    "\n",
    "joblib.dump(frame_config, save_path + 'own_frame_config.p')\n",
    "\n",
    "acc_hmm = joblib.load(save_path + 'own_acc_hmm.p')\n",
    "gyro_hmm = joblib.load(save_path + 'own_gyro_hmm.p')\n",
    "ori_hmm = joblib.load(save_path + 'own_ori_hmm.p')\n",
    "emg_hmm = joblib.load(save_path + 'own_emg_hmm.p')\n",
    "\n",
    "frame_config = joblib.load(save_path + 'own_frame_config.p')"
   ]
  },
  {
   "cell_type": "code",
   "execution_count": 9,
   "metadata": {},
   "outputs": [
    {
     "name": "stdout",
     "output_type": "stream",
     "text": [
      "\n",
      "Duration: 0.49207091331481934\n"
     ]
    }
   ],
   "source": [
    "start_time = time.time()\n",
    "\n",
    "acc_pred_score = acc_hmm.score(acc_test_input)\n",
    "gyro_pred_score = gyro_hmm.score(gyro_test_input)\n",
    "ori_pred_score = ori_hmm.score(ori_test_input)\n",
    "emg_pred_score = emg_hmm.score(emg_test_input)\n",
    "\n",
    "#print(acc_pred_score)\n",
    "\n",
    "result = []\n",
    "\n",
    "for prediction in range(len(acc_pred_score)):\n",
    "    \n",
    "    interim_result = []\n",
    "    \n",
    "    for class_ in range(len(acc_pred_score[prediction])):\n",
    "        \n",
    "        if (acc_pred_score[prediction][class_][1] == gyro_pred_score[prediction][class_][1] and\n",
    "            gyro_pred_score[prediction][class_][1] == ori_pred_score[prediction][class_][1] and\n",
    "            ori_pred_score[prediction][class_][1] == emg_pred_score[prediction][class_][1]):\n",
    "            \n",
    "            acc_gyro = np.add(acc_pred_score[prediction][class_][0], gyro_pred_score[prediction][class_][0])\n",
    "            ori_emg = np.add(ori_pred_score[prediction][class_][0], emg_pred_score[prediction][class_][0])\n",
    "            final = np.divide(np.add(acc_gyro, ori_emg), 4)\n",
    "            interim_result.append((final, acc_pred_score[prediction][class_][1]))\n",
    "        \n",
    "        else:\n",
    "            print('Something went wrong!')\n",
    "    \n",
    "    result.append(max(interim_result)[1])\n",
    "    \n",
    "#print(result)\n",
    "\n",
    "print('\\nDuration: {}'.format(time.time() - start_time))"
   ]
  },
  {
   "cell_type": "code",
   "execution_count": 10,
   "metadata": {},
   "outputs": [
    {
     "name": "stdout",
     "output_type": "stream",
     "text": [
      "0.815384615385\n"
     ]
    }
   ],
   "source": [
    "print(accuracy_score(acc_test_label, result))"
   ]
  },
  {
   "cell_type": "code",
   "execution_count": 11,
   "metadata": {},
   "outputs": [
    {
     "name": "stdout",
     "output_type": "stream",
     "text": [
      "[[ 9  0  0  0  0  0]\n",
      " [ 0  9  0  0  0  0]\n",
      " [ 0  0  9  0  0  2]\n",
      " [ 2  2  0  8  0  0]\n",
      " [ 0  1  1  0 10  0]\n",
      " [ 4  0  0  0  0  8]]\n"
     ]
    },
    {
     "data": {
      "image/png": "[encoded data removed]",
      "text/plain": [
       "<matplotlib.figure.Figure at 0x23124fe4f60>"
      ]
     },
     "metadata": {},
     "output_type": "display_data"
    }
   ],
   "source": [
    "cm = confusion_matrix(acc_test_label, result)\n",
    "\n",
    "labels = list(acc_hmm._class_mapping.keys())\n",
    "\n",
    "print(cm)\n",
    "   \n",
    "print_confusion_matrix_colored(cm, labels, 20, 15)"
   ]
  },
  {
   "cell_type": "code",
   "execution_count": 12,
   "metadata": {},
   "outputs": [
    {
     "name": "stdout",
     "output_type": "stream",
     "text": [
      "             precision    recall  f1-score   support\n",
      "\n",
      "   big_stop       0.60      1.00      0.75         9\n",
      "  come_down       0.75      1.00      0.86         9\n",
      "  come_here       0.90      0.82      0.86        11\n",
      "    come_up       1.00      0.67      0.80        12\n",
      "       flip       1.00      0.83      0.91        12\n",
      " small_stop       0.80      0.67      0.73        12\n",
      "\n",
      "avg / total       0.86      0.82      0.82        65\n",
      "\n"
     ]
    }
   ],
   "source": [
    "clf_repo = classification_report(acc_test_label, result)\n",
    "\n",
    "print(clf_repo)\n",
    "\n",
    "parsed = parse_classification_report(clf_repo)\n",
    "output = report_to_latex_table(parsed)\n",
    "#print(output)"
   ]
  },
  {
   "cell_type": "markdown",
   "metadata": {},
   "source": [
    "## Auswertung der optimalen Parameter - paper"
   ]
  },
  {
   "cell_type": "code",
   "execution_count": 13,
   "metadata": {
    "collapsed": true
   },
   "outputs": [],
   "source": [
    "##### paper #####\n",
    "#(0.20618556701030927, 6, 2)\n",
    "#(0.25257731958762886, 2, 2)\n",
    "#(0.11855670103092783, 3, 1)\n",
    "#(0.14432989690721648, 11, 1)\n",
    "\n",
    "acc_frames = 6\n",
    "acc_states = 2\n",
    "\n",
    "gyro_frames = 2\n",
    "gyro_states = 2\n",
    "\n",
    "ori_frames = 3\n",
    "ori_states = 1\n",
    "\n",
    "emg_frames = 11\n",
    "emg_states = 1"
   ]
  },
  {
   "cell_type": "code",
   "execution_count": 14,
   "metadata": {},
   "outputs": [
    {
     "name": "stdout",
     "output_type": "stream",
     "text": [
      "Accelerometer data prepared\n",
      "Gyroscope data prepared\n",
      "Orientation data prepared\n",
      "EMG data prepared\n",
      "\n",
      "Duration: 77.91993761062622\n"
     ]
    }
   ],
   "source": [
    "start_time = time.time()\n",
    "\n",
    "train, valid, test = load_data_for_classification('paper')\n",
    "\n",
    "acc_train_input, acc_train_label = prepare_data(train, acc_frames, 'accelerometer', verbose=False)\n",
    "acc_valid_input, acc_valid_label = prepare_data(valid, acc_frames, 'accelerometer', verbose=False)\n",
    "acc_test_input, acc_test_label = prepare_data(test, acc_frames, 'accelerometer', verbose=False)\n",
    "print('Accelerometer data prepared')\n",
    "\n",
    "gyro_train_input, gyro_train_label = prepare_data(train, gyro_frames, 'gyro', verbose=False)\n",
    "gyro_valid_input, gyro_valid_label = prepare_data(valid, gyro_frames, 'gyro', verbose=False)\n",
    "gyro_test_input, gyro_test_label = prepare_data(test, gyro_frames, 'gyro', verbose=False)\n",
    "print('Gyroscope data prepared')\n",
    "\n",
    "ori_train_input, ori_train_label = prepare_data(train, ori_frames, 'orientation', verbose=False)\n",
    "ori_valid_input, ori_valid_label = prepare_data(valid, ori_frames, 'orientation', verbose=False)\n",
    "ori_test_input, ori_test_label = prepare_data(test, ori_frames, 'orientation', verbose=False)\n",
    "print('Orientation data prepared')\n",
    "\n",
    "emg_train_input, emg_train_label = prepare_data(train, emg_frames, 'emg', verbose=False)\n",
    "emg_valid_input, emg_valid_label = prepare_data(valid, emg_frames, 'emg', verbose=False)\n",
    "emg_test_input, emg_test_label = prepare_data(test, emg_frames, 'emg', verbose=False)\n",
    "print('EMG data prepared')\n",
    "\n",
    "print('\\nDuration: {}'.format(time.time() - start_time))"
   ]
  },
  {
   "cell_type": "code",
   "execution_count": 15,
   "metadata": {},
   "outputs": [
    {
     "name": "stdout",
     "output_type": "stream",
     "text": [
      "Accelerometer classifier fitted\n",
      "Gyroscope classifier fitted\n",
      "Orientation classifier fitted\n",
      "EMG classifier fitted\n",
      "\n",
      "Duration: 0.969733476638794\n"
     ]
    }
   ],
   "source": [
    "start_time = time.time()\n",
    "\n",
    "acc_hmm = MyoHmmClassifier(sensor_type='accelerometer', n_states_per_hmm=acc_states, random_state=random_seed)\n",
    "acc_hmm.fit(np.append(acc_train_input, acc_valid_input, axis=0), np.append(acc_train_label, acc_valid_label))\n",
    "print('Accelerometer classifier fitted')\n",
    "\n",
    "gyro_hmm = MyoHmmClassifier(sensor_type='gyro', n_states_per_hmm=gyro_states, random_state=random_seed)\n",
    "gyro_hmm.fit(np.append(gyro_train_input, gyro_valid_input, axis=0), np.append(gyro_train_label, gyro_valid_label))\n",
    "print('Gyroscope classifier fitted')\n",
    "\n",
    "ori_hmm = MyoHmmClassifier(sensor_type='orientation', n_states_per_hmm=ori_states, random_state=random_seed)\n",
    "ori_hmm.fit(np.append(ori_train_input, ori_valid_input, axis=0), np.append(ori_train_label, ori_valid_label))\n",
    "print('Orientation classifier fitted')\n",
    "\n",
    "emg_hmm = MyoHmmClassifier(sensor_type='emg', n_states_per_hmm=emg_states, random_state=random_seed)\n",
    "emg_hmm.fit(np.append(emg_train_input, emg_valid_input, axis=0), np.append(emg_train_label, emg_valid_label))\n",
    "print('EMG classifier fitted')\n",
    "\n",
    "print('\\nDuration: {}'.format(time.time() - start_time))"
   ]
  },
  {
   "cell_type": "code",
   "execution_count": 16,
   "metadata": {
    "collapsed": true
   },
   "outputs": [],
   "source": [
    "frame_config ={'acc_frames':acc_frames, 'gyro_frames':gyro_frames, 'ori_frames':ori_frames, 'emg_frames':emg_frames}\n",
    "\n",
    "save_path = '../Data/models/hmm/'\n",
    "os.makedirs(save_path, exist_ok=True)\n",
    "\n",
    "joblib.dump(acc_hmm, save_path + 'paper_acc_hmm.p')\n",
    "joblib.dump(gyro_hmm, save_path + 'paper_gyro_hmm.p')\n",
    "joblib.dump(ori_hmm, save_path + 'paper_ori_hmm.p')\n",
    "joblib.dump(emg_hmm, save_path + 'paper_emg_hmm.p')\n",
    "\n",
    "joblib.dump(frame_config, save_path + 'paper_frame_config.p')\n",
    "\n",
    "acc_hmm = joblib.load(save_path + 'paper_acc_hmm.p')\n",
    "gyro_hmm = joblib.load(save_path + 'paper_gyro_hmm.p')\n",
    "ori_hmm = joblib.load(save_path + 'paper_ori_hmm.p')\n",
    "emg_hmm = joblib.load(save_path + 'paper_emg_hmm.p')\n",
    "\n",
    "frame_config = joblib.load(save_path + 'paper_frame_config.p')"
   ]
  },
  {
   "cell_type": "code",
   "execution_count": 17,
   "metadata": {},
   "outputs": [
    {
     "name": "stdout",
     "output_type": "stream",
     "text": [
      "\n",
      "Duration: 4.546392440795898\n"
     ]
    }
   ],
   "source": [
    "start_time = time.time()\n",
    "\n",
    "acc_pred_score = acc_hmm.score(acc_test_input)\n",
    "gyro_pred_score = gyro_hmm.score(gyro_test_input)\n",
    "ori_pred_score = ori_hmm.score(ori_test_input)\n",
    "emg_pred_score = emg_hmm.score(emg_test_input)\n",
    "\n",
    "#print(acc_pred_score)\n",
    "\n",
    "result = []\n",
    "\n",
    "for prediction in range(len(acc_pred_score)):\n",
    "    \n",
    "    interim_result = []\n",
    "    \n",
    "    for class_ in range(len(acc_pred_score[prediction])):\n",
    "        \n",
    "        if (acc_pred_score[prediction][class_][1] == gyro_pred_score[prediction][class_][1] and\n",
    "            gyro_pred_score[prediction][class_][1] == ori_pred_score[prediction][class_][1] and\n",
    "            ori_pred_score[prediction][class_][1] == emg_pred_score[prediction][class_][1]):\n",
    "            \n",
    "            acc_gyro = np.add(acc_pred_score[prediction][class_][0], gyro_pred_score[prediction][class_][0])\n",
    "            ori_emg = np.add(ori_pred_score[prediction][class_][0], emg_pred_score[prediction][class_][0])\n",
    "            final = np.divide(np.add(acc_gyro, ori_emg), 4)\n",
    "            interim_result.append((final, acc_pred_score[prediction][class_][1]))\n",
    "        \n",
    "        else:\n",
    "            print('Something went wrong!')\n",
    "    \n",
    "    result.append(max(interim_result)[1])\n",
    "    \n",
    "#print(result)\n",
    "\n",
    "print('\\nDuration: {}'.format(time.time() - start_time))"
   ]
  },
  {
   "cell_type": "code",
   "execution_count": 18,
   "metadata": {},
   "outputs": [
    {
     "name": "stdout",
     "output_type": "stream",
     "text": [
      "0.288659793814\n"
     ]
    }
   ],
   "source": [
    "print(accuracy_score(acc_test_label, result))"
   ]
  },
  {
   "cell_type": "code",
   "execution_count": 19,
   "metadata": {},
   "outputs": [
    {
     "name": "stdout",
     "output_type": "stream",
     "text": [
      "[[1 0 2 6 0 0 0 0 0 0 0 0 0 0 0 0 0 0]\n",
      " [0 5 1 0 1 0 0 1 0 0 0 0 0 0 0 0 0 1]\n",
      " [0 0 4 0 0 1 0 0 0 0 0 0 0 0 4 0 0 0]\n",
      " [0 0 4 4 0 0 0 0 0 0 0 0 0 0 1 0 0 0]\n",
      " [0 0 0 0 7 0 0 1 0 0 0 0 0 0 1 0 0 0]\n",
      " [0 0 6 0 0 1 0 0 0 0 0 0 0 0 2 0 0 0]\n",
      " [0 0 0 2 0 0 3 0 0 1 0 0 2 0 0 0 0 1]\n",
      " [0 1 0 0 0 0 0 5 0 0 1 0 0 0 2 0 1 1]\n",
      " [0 0 0 0 0 0 3 0 1 2 0 0 0 0 6 0 0 0]\n",
      " [0 0 1 3 0 0 0 0 0 3 0 0 0 0 2 0 0 3]\n",
      " [0 1 0 0 0 0 0 3 0 0 3 0 0 0 1 0 2 2]\n",
      " [0 0 0 0 0 0 0 1 4 0 0 1 0 0 3 0 0 3]\n",
      " [0 0 1 6 0 0 1 0 0 1 0 0 2 0 0 0 0 1]\n",
      " [0 3 0 0 0 0 0 1 0 0 1 0 0 2 1 0 1 3]\n",
      " [0 0 4 0 0 0 0 0 0 0 0 0 0 0 6 0 0 2]\n",
      " [0 0 2 7 0 0 0 0 0 1 0 0 1 0 0 0 0 1]\n",
      " [0 1 0 0 2 0 0 0 0 0 1 0 0 0 0 0 6 2]\n",
      " [0 0 3 0 0 0 0 0 0 0 0 0 0 0 7 0 0 2]]\n"
     ]
    },
    {
     "data": {
      "image/png": "[encoded data removed]",
      "text/plain": [
       "<matplotlib.figure.Figure at 0x23125b80128>"
      ]
     },
     "metadata": {},
     "output_type": "display_data"
    }
   ],
   "source": [
    "cm = confusion_matrix(acc_test_label, result)\n",
    "labels = list(acc_hmm._class_mapping.keys())\n",
    "\n",
    "print(cm)\n",
    "\n",
    "print_confusion_matrix_colored(cm, labels, 20, 15)"
   ]
  },
  {
   "cell_type": "code",
   "execution_count": 20,
   "metadata": {},
   "outputs": [
    {
     "name": "stdout",
     "output_type": "stream",
     "text": [
      "             precision    recall  f1-score   support\n",
      "\n",
      "       hcch       1.00      0.11      0.20         9\n",
      "       hccs       0.45      0.56      0.50         9\n",
      "       hccv       0.14      0.44      0.22         9\n",
      "       hcwh       0.14      0.44      0.22         9\n",
      "       hcws       0.70      0.78      0.74         9\n",
      "       hcwv       0.50      0.11      0.18         9\n",
      "       lcch       0.43      0.33      0.38         9\n",
      "       lccs       0.42      0.45      0.43        11\n",
      "       lccv       0.20      0.08      0.12        12\n",
      "       lcwh       0.38      0.25      0.30        12\n",
      "       lcws       0.50      0.25      0.33        12\n",
      "       lcwv       1.00      0.08      0.15        12\n",
      "       tcch       0.40      0.17      0.24        12\n",
      "       tccs       1.00      0.17      0.29        12\n",
      "       tccv       0.17      0.50      0.25        12\n",
      "       tcwh       0.00      0.00      0.00        12\n",
      "       tcws       0.60      0.50      0.55        12\n",
      "       tcwv       0.09      0.17      0.12        12\n",
      "\n",
      "avg / total       0.45      0.29      0.28       194\n",
      "\n"
     ]
    }
   ],
   "source": [
    "clf_repo = classification_report(acc_test_label, result)\n",
    "\n",
    "print(clf_repo)\n",
    "\n",
    "parsed = parse_classification_report(clf_repo)\n",
    "output = report_to_latex_table(parsed)\n",
    "#print(output)"
   ]
  },
  {
   "cell_type": "markdown",
   "metadata": {},
   "source": [
    "## Auswertung der optimalen Parameter - all"
   ]
  },
  {
   "cell_type": "code",
   "execution_count": 21,
   "metadata": {
    "collapsed": true
   },
   "outputs": [],
   "source": [
    "##### all #####\n",
    "#(0.28185328185328185, 4, 1)\n",
    "#(0.30888030888030887, 8, 1)\n",
    "#(0.15444015444015444, 3, 1)\n",
    "#(0.20077220077220076, 11, 1)\n",
    "\n",
    "acc_frames = 4\n",
    "acc_states = 1\n",
    "\n",
    "gyro_frames = 6\n",
    "gyro_states = 1\n",
    "\n",
    "ori_frames = 3\n",
    "ori_states = 1\n",
    "\n",
    "emg_frames = 11\n",
    "emg_states = 1"
   ]
  },
  {
   "cell_type": "code",
   "execution_count": 22,
   "metadata": {},
   "outputs": [
    {
     "name": "stdout",
     "output_type": "stream",
     "text": [
      "Accelerometer data prepared\n",
      "Gyroscope data prepared\n",
      "Orientation data prepared\n",
      "EMG data prepared\n",
      "\n",
      "Duration: 94.34784531593323\n"
     ]
    }
   ],
   "source": [
    "start_time = time.time()\n",
    "\n",
    "train, valid, test = load_data_for_classification('all')\n",
    "\n",
    "acc_train_input, acc_train_label = prepare_data(train, acc_frames, 'accelerometer', verbose=False)\n",
    "acc_valid_input, acc_valid_label = prepare_data(valid, acc_frames, 'accelerometer', verbose=False)\n",
    "acc_test_input, acc_test_label = prepare_data(test, acc_frames, 'accelerometer', verbose=False)\n",
    "print('Accelerometer data prepared')\n",
    "\n",
    "gyro_train_input, gyro_train_label = prepare_data(train, gyro_frames, 'gyro', verbose=False)\n",
    "gyro_valid_input, gyro_valid_label = prepare_data(valid, gyro_frames, 'gyro', verbose=False)\n",
    "gyro_test_input, gyro_test_label = prepare_data(test, gyro_frames, 'gyro', verbose=False)\n",
    "print('Gyroscope data prepared')\n",
    "\n",
    "ori_train_input, ori_train_label = prepare_data(train, ori_frames, 'orientation', verbose=False)\n",
    "ori_valid_input, ori_valid_label = prepare_data(valid, ori_frames, 'orientation', verbose=False)\n",
    "ori_test_input, ori_test_label = prepare_data(test, ori_frames, 'orientation', verbose=False)\n",
    "print('Orientation data prepared')\n",
    "\n",
    "emg_train_input, emg_train_label = prepare_data(train, emg_frames, 'emg', verbose=False)\n",
    "emg_valid_input, emg_valid_label = prepare_data(valid, emg_frames, 'emg', verbose=False)\n",
    "emg_test_input, emg_test_label = prepare_data(test, emg_frames, 'emg', verbose=False)\n",
    "print('EMG data prepared')\n",
    "\n",
    "print('\\nDuration: {}'.format(time.time() - start_time))"
   ]
  },
  {
   "cell_type": "code",
   "execution_count": 23,
   "metadata": {},
   "outputs": [
    {
     "name": "stdout",
     "output_type": "stream",
     "text": [
      "Accelerometer classifier fitted\n",
      "Gyroscope classifier fitted\n",
      "Orientation classifier fitted\n",
      "EMG classifier fitted\n",
      "\n",
      "Duration: 0.9009068012237549\n"
     ]
    }
   ],
   "source": [
    "start_time = time.time()\n",
    "\n",
    "acc_hmm = MyoHmmClassifier(sensor_type='accelerometer', n_states_per_hmm=acc_states, random_state=random_seed)\n",
    "acc_hmm.fit(np.append(acc_train_input, acc_valid_input, axis=0), np.append(acc_train_label, acc_valid_label))\n",
    "print('Accelerometer classifier fitted')\n",
    "\n",
    "gyro_hmm = MyoHmmClassifier(sensor_type='gyro', n_states_per_hmm=gyro_states, random_state=random_seed)\n",
    "gyro_hmm.fit(np.append(gyro_train_input, gyro_valid_input, axis=0), np.append(gyro_train_label, gyro_valid_label))\n",
    "print('Gyroscope classifier fitted')\n",
    "\n",
    "ori_hmm = MyoHmmClassifier(sensor_type='orientation', n_states_per_hmm=ori_states, random_state=random_seed)\n",
    "ori_hmm.fit(np.append(ori_train_input, ori_valid_input, axis=0), np.append(ori_train_label, ori_valid_label))\n",
    "print('Orientation classifier fitted')\n",
    "\n",
    "emg_hmm = MyoHmmClassifier(sensor_type='emg', n_states_per_hmm=emg_states, random_state=random_seed)\n",
    "emg_hmm.fit(np.append(emg_train_input, emg_valid_input, axis=0), np.append(emg_train_label, emg_valid_label))\n",
    "print('EMG classifier fitted')\n",
    "\n",
    "print('\\nDuration: {}'.format(time.time() - start_time))"
   ]
  },
  {
   "cell_type": "code",
   "execution_count": 24,
   "metadata": {
    "collapsed": true
   },
   "outputs": [],
   "source": [
    "frame_config ={'acc_frames':acc_frames, 'gyro_frames':gyro_frames, 'ori_frames':ori_frames, 'emg_frames':emg_frames}\n",
    "\n",
    "save_path = '../Data/models/hmm/'\n",
    "os.makedirs(save_path, exist_ok=True)\n",
    "\n",
    "joblib.dump(acc_hmm, save_path + 'all_acc_hmm.p')\n",
    "joblib.dump(gyro_hmm, save_path + 'all_gyro_hmm.p')\n",
    "joblib.dump(ori_hmm, save_path + 'all_ori_hmm.p')\n",
    "joblib.dump(emg_hmm, save_path + 'all_emg_hmm.p')\n",
    "\n",
    "joblib.dump(frame_config, save_path + 'all_frame_config.p')\n",
    "\n",
    "acc_hmm = joblib.load(save_path + 'all_acc_hmm.p')\n",
    "gyro_hmm = joblib.load(save_path + 'all_gyro_hmm.p')\n",
    "ori_hmm = joblib.load(save_path + 'all_ori_hmm.p')\n",
    "emg_hmm = joblib.load(save_path + 'all_emg_hmm.p')\n",
    "\n",
    "frame_config = joblib.load(save_path + 'all_frame_config.p')"
   ]
  },
  {
   "cell_type": "code",
   "execution_count": 25,
   "metadata": {},
   "outputs": [
    {
     "name": "stdout",
     "output_type": "stream",
     "text": [
      "\n",
      "Duration: 7.537582159042358\n"
     ]
    }
   ],
   "source": [
    "start_time = time.time()\n",
    "\n",
    "acc_pred_score = acc_hmm.score(acc_test_input)\n",
    "gyro_pred_score = gyro_hmm.score(gyro_test_input)\n",
    "ori_pred_score = ori_hmm.score(ori_test_input)\n",
    "emg_pred_score = emg_hmm.score(emg_test_input)\n",
    "\n",
    "#print(acc_pred_score)\n",
    "\n",
    "result = []\n",
    "\n",
    "for prediction in range(len(acc_pred_score)):\n",
    "    \n",
    "    interim_result = []\n",
    "    \n",
    "    for class_ in range(len(acc_pred_score[prediction])):\n",
    "        \n",
    "        if (acc_pred_score[prediction][class_][1] == gyro_pred_score[prediction][class_][1] and\n",
    "            gyro_pred_score[prediction][class_][1] == ori_pred_score[prediction][class_][1] and\n",
    "            ori_pred_score[prediction][class_][1] == emg_pred_score[prediction][class_][1]):\n",
    "            \n",
    "            acc_gyro = np.add(acc_pred_score[prediction][class_][0], gyro_pred_score[prediction][class_][0])\n",
    "            ori_emg = np.add(ori_pred_score[prediction][class_][0], emg_pred_score[prediction][class_][0])\n",
    "            final = np.divide(np.add(acc_gyro, ori_emg), 4)\n",
    "            interim_result.append((final, acc_pred_score[prediction][class_][1]))\n",
    "        \n",
    "        else:\n",
    "            print('Something went wrong!')\n",
    "    \n",
    "    result.append(max(interim_result)[1])\n",
    "    \n",
    "#print(result)\n",
    "\n",
    "print('\\nDuration: {}'.format(time.time() - start_time))"
   ]
  },
  {
   "cell_type": "code",
   "execution_count": 26,
   "metadata": {},
   "outputs": [
    {
     "name": "stdout",
     "output_type": "stream",
     "text": [
      "0.416988416988\n"
     ]
    }
   ],
   "source": [
    "print(accuracy_score(acc_test_label, result))"
   ]
  },
  {
   "cell_type": "code",
   "execution_count": 27,
   "metadata": {},
   "outputs": [
    {
     "name": "stdout",
     "output_type": "stream",
     "text": [
      "[[ 8  0  0  0  0  0  0  0  0  0  0  0  0  0  0  0  0  0  0  0  0  0  1  0]\n",
      " [ 0  7  0  1  0  0  0  0  0  0  0  0  0  0  0  0  0  0  0  0  0  0  1  0]\n",
      " [ 0  0  7  0  0  0  0  0  0  0  0  0  0  0  0  0  0  2  0  0  0  0  0  0]\n",
      " [ 1  1  0  4  0  0  0  0  1  0  0  0  2  0  0  0  0  0  0  0  0  0  0  0]\n",
      " [ 0  0  2  1  6  0  0  0  0  0  0  0  0  0  0  0  0  0  0  0  0  0  0  0]\n",
      " [ 0  0  0  0  0  2  0  1  3  0  0  0  0  0  0  0  0  0  0  0  1  0  0  2]\n",
      " [ 0  0  0  0  0  0  5  1  0  1  0  0  0  0  0  0  0  0  0  0  0  0  2  0]\n",
      " [ 0  0  0  0  0  0  0  5  0  0  0  0  0  0  0  0  0  0  0  0  3  0  0  1]\n",
      " [ 0  0  0  0  0  2  0  3  2  0  0  0  0  0  0  0  0  0  0  0  2  0  0  0]\n",
      " [ 0  0  0  0  0  0  4  0  0  4  0  0  0  0  0  0  0  0  0  0  2  0  0  0]\n",
      " [ 0  0  0  0  0  0  0  5  1  0  1  0  0  0  0  0  0  0  0  0  3  0  0  2]\n",
      " [ 0  0  0  0  0  4  0  0  1  0  0  5  0  0  0  0  0  0  1  0  0  0  0  1]\n",
      " [ 0  0  0  0  0  0  0  0  0  0  0  0  7  0  0  1  0  0  0  0  2  0  1  1]\n",
      " [ 0  0  0  0  0  0  0  0  0  0  0  0  0  4  1  0  0  0  0  0  7  0  0  0]\n",
      " [ 0  0  0  0  0  0  0  0  3  0  0  1  0  1  4  0  0  0  0  0  2  0  0  1]\n",
      " [ 0  0  0  0  0  0  2  0  0  0  0  0  3  0  0  5  0  0  0  0  0  0  2  0]\n",
      " [ 0  0  0  0  0  0  0  0  0  0  0  0  0  5  1  0  0  0  0  0  3  0  0  3]\n",
      " [ 2  0  0  0  0  0  0  0  0  0  0  0  0  0  0  0  0 10  0  0  0  0  0  0]\n",
      " [ 0  0  0  0  0  5  0  0  4  0  0  0  0  1  1  0  0  0  1  0  0  0  0  0]\n",
      " [ 0  0  0  0  0  0  1  0  0  0  1  0  2  0  0  0  0  0  0  5  2  0  1  0]\n",
      " [ 0  0  0  0  0  0  0  4  0  0  0  0  0  0  0  0  0  0  0  0  6  0  0  2]\n",
      " [ 0  0  0  0  0  1  0  0  7  0  0  0  0  0  2  0  0  0  0  0  2  0  0  0]\n",
      " [ 0  0  0  0  0  0  2  0  0  0  0  0  0  0  0  1  0  0  0  2  0  0  7  0]\n",
      " [ 0  0  0  0  0  0  0  6  0  0  0  0  0  0  0  0  0  0  0  0  3  0  0  3]]\n"
     ]
    },
    {
     "data": {
      "image/png": "[encoded data removed]",
      "text/plain": [
       "<matplotlib.figure.Figure at 0x23123be4f98>"
      ]
     },
     "metadata": {},
     "output_type": "display_data"
    }
   ],
   "source": [
    "cm = confusion_matrix(acc_test_label, result)\n",
    "labels = list(acc_hmm._class_mapping.keys())\n",
    "\n",
    "print(cm)\n",
    "\n",
    "print_confusion_matrix_colored(cm, labels, 20, 15)"
   ]
  },
  {
   "cell_type": "code",
   "execution_count": 28,
   "metadata": {},
   "outputs": [
    {
     "name": "stdout",
     "output_type": "stream",
     "text": [
      "             precision    recall  f1-score   support\n",
      "\n",
      "   big_stop       0.73      0.89      0.80         9\n",
      "  come_down       0.88      0.78      0.82         9\n",
      "  come_here       0.78      0.78      0.78         9\n",
      "    come_up       0.67      0.44      0.53         9\n",
      "       flip       1.00      0.67      0.80         9\n",
      "       hcch       0.14      0.22      0.17         9\n",
      "       hccs       0.36      0.56      0.43         9\n",
      "       hccv       0.20      0.56      0.29         9\n",
      "       hcwh       0.09      0.22      0.13         9\n",
      "       hcws       0.80      0.40      0.53        10\n",
      "       hcwv       0.50      0.08      0.14        12\n",
      "       lcch       0.83      0.42      0.56        12\n",
      "       lccs       0.50      0.58      0.54        12\n",
      "       lccv       0.36      0.33      0.35        12\n",
      "       lcwh       0.44      0.33      0.38        12\n",
      "       lcws       0.71      0.42      0.53        12\n",
      "       lcwv       0.00      0.00      0.00        12\n",
      " small_stop       0.83      0.83      0.83        12\n",
      "       tcch       0.50      0.08      0.14        12\n",
      "       tccs       0.71      0.42      0.53        12\n",
      "       tccv       0.16      0.50      0.24        12\n",
      "       tcwh       0.00      0.00      0.00        12\n",
      "       tcws       0.47      0.58      0.52        12\n",
      "       tcwv       0.19      0.25      0.21        12\n",
      "\n",
      "avg / total       0.49      0.42      0.42       259\n",
      "\n"
     ]
    }
   ],
   "source": [
    "clf_repo = classification_report(acc_test_label, result)\n",
    "\n",
    "print(clf_repo)\n",
    "\n",
    "parsed = parse_classification_report(clf_repo)\n",
    "output = report_to_latex_table(parsed)\n",
    "#print(output)"
   ]
  },
  {
   "cell_type": "code",
   "execution_count": null,
   "metadata": {
    "collapsed": true
   },
   "outputs": [],
   "source": []
  }
 ],
 "metadata": {
  "kernelspec": {
   "display_name": "Python 3",
   "language": "python",
   "name": "python3"
  },
  "language_info": {
   "codemirror_mode": {
    "name": "ipython",
    "version": 3
   },
   "file_extension": ".py",
   "mimetype": "text/x-python",
   "name": "python",
   "nbconvert_exporter": "python",
   "pygments_lexer": "ipython3",
   "version": "3.6.1"
  }
 },
 "nbformat": 4,
 "nbformat_minor": 2
}
