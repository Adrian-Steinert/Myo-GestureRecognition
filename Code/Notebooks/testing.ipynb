{
 "cells": [
  {
   "cell_type": "code",
   "execution_count": null,
   "metadata": {
    "collapsed": true
   },
   "outputs": [],
   "source": [
    "import scipy.stats as st\n",
    "st.pearsonr(fragment_x, fragment_y)"
   ]
  },
  {
   "cell_type": "code",
   "execution_count": null,
   "metadata": {
    "collapsed": true
   },
   "outputs": [],
   "source": [
    "50Hz\n",
    "segement count = Frame count + 1\n",
    "-> varying segment length\n",
    "\n",
    "frame length = 2 * segment length\n",
    "segment length = sample size / segment count\n",
    "cut off = sample size % segment count\n",
    "\n",
    "segment length should be at least 5\n",
    "2,5sec -> 125 samples\n",
    "5 = 125 / segment count <=> framecount + 1 = 125 / 5 <=> framecount = 25 - 1 = 24\n",
    "10 = 125 / segment count <=> framecount + 1 = 125 / 10 <=> framecount = 12.5 - 1 = 11.5"
   ]
  },
  {
   "cell_type": "code",
   "execution_count": 2,
   "metadata": {
    "scrolled": false
   },
   "outputs": [
    {
     "name": "stdout",
     "output_type": "stream",
     "text": [
      "11\n",
      "12\n"
     ]
    }
   ],
   "source": [
    "18\n",
    "\n",
    "3 3 3 3 3 3\n",
    "\n",
    "33 33 33 33 33"
   ]
  },
  {
   "cell_type": "code",
   "execution_count": 8,
   "metadata": {},
   "outputs": [
    {
     "name": "stdout",
     "output_type": "stream",
     "text": [
      "[1, 2, 3, 4, 5, 6, 7, 8, 9, 10, 11, 12, 13, 14, 15, 16, 17, 18, 19, 20]\n",
      "3\n",
      "[1, 2, 3, 4, 5, 6, 7, 8, 9, 10, 11, 12, 13, 14, 15, 16, 17, 18]\n",
      "[1, 2, 3, 4, 5, 6]\n",
      "[4, 5, 6, 7, 8, 9]\n",
      "[7, 8, 9, 10, 11, 12]\n",
      "[10, 11, 12, 13, 14, 15]\n",
      "[13, 14, 15, 16, 17, 18]\n"
     ]
    }
   ],
   "source": [
    "x = list(range(1,21))\n",
    "print(x)\n",
    "segment_count = 5 + 1\n",
    "segment_length = len(x) // segment_count\n",
    "print(segment_length)\n",
    "cut_off = len(x) % segment_count\n",
    "print(x[:-cut_off])\n",
    "x = x[:-cut_off]\n",
    "frame_length = 2 * segment_length\n",
    "\n",
    "for segment in range(0, len(x) - segment_length, segment_length):\n",
    "    step_size = segment + frame_length\n",
    "    print(x[segment:step_size])"
   ]
  },
  {
   "cell_type": "code",
   "execution_count": null,
   "metadata": {
    "collapsed": true
   },
   "outputs": [],
   "source": [
    "x, y, z => xy xz yz\n",
    "x, y, z, w => xy xz xw yz yw zw"
   ]
  },
  {
   "cell_type": "code",
   "execution_count": 1,
   "metadata": {
    "collapsed": true
   },
   "outputs": [],
   "source": [
    "import numpy as np\n",
    "import scipy.spatial.distance as dis\n",
    "import scipy.stats as st\n",
    "\n",
    "def calculate_similarity(a, b, sim_type):\n",
    "    if sim_type == 'cosine':\n",
    "        return np.dot(a,b)/(np.linalg.norm(a)*np.linalg.norm(b))\n",
    "    elif sim_type == 'euclid':\n",
    "        return 1/(1+dis.euclidean(a, b))\n",
    "    elif sim_type == 'pearson':\n",
    "        return st.pearsonr(a, b)[0]\n",
    "    else:\n",
    "        print('sim_type value \"{}\" is not supported, choose cosine, eucild or pearson instead'.format(sim_type))\n",
    "\n",
    "def calculate_distance(a, b, dist_type):\n",
    "    if dist_type == 'cosine':\n",
    "        return 1 - np.dot(a,b)/(np.linalg.norm(a)*np.linalg.norm(b))\n",
    "    elif dist_type == 'euclid':\n",
    "        return dis.euclidean(a, b)\n",
    "    elif dist_type == 'pearson':\n",
    "        return 1 - st.pearsonr(a, b)[0]\n",
    "    else:\n",
    "        print('sim_type value \"{}\" is not supported, choose cosine, eucild or pearson instead'.format(sim_type))"
   ]
  },
  {
   "cell_type": "code",
   "execution_count": 14,
   "metadata": {},
   "outputs": [
    {
     "name": "stdout",
     "output_type": "stream",
     "text": [
      "cosine: 0.7071067811865475\n",
      "euclid: 0.5\n",
      "pearson: nan\n"
     ]
    },
    {
     "name": "stderr",
     "output_type": "stream",
     "text": [
      "c:\\python36\\lib\\site-packages\\scipy\\stats\\stats.py:3021: RuntimeWarning: invalid value encountered in double_scalars\n",
      "  r = r_num / r_den\n",
      "c:\\python36\\lib\\site-packages\\scipy\\stats\\stats.py:5277: RuntimeWarning: invalid value encountered in less\n",
      "  x = np.where(x < 1.0, x, 1.0)  # if x > 1 then return 1.0\n"
     ]
    }
   ],
   "source": [
    "x = [1,0]\n",
    "y = [1,1]\n",
    "\n",
    "print('cosine: {}'.format(calculate_similarity(x,y, 'cosine')))\n",
    "print('euclid: {}'.format(calculate_similarity(x,y, 'euclid')))\n",
    "print('pearson: {}'.format(calculate_similarity(x,y, 'pearson')))"
   ]
  },
  {
   "cell_type": "code",
   "execution_count": null,
   "metadata": {
    "collapsed": true
   },
   "outputs": [],
   "source": []
  }
 ],
 "metadata": {
  "kernelspec": {
   "display_name": "Python 3",
   "language": "python",
   "name": "python3"
  },
  "language_info": {
   "codemirror_mode": {
    "name": "ipython",
    "version": 3
   },
   "file_extension": ".py",
   "mimetype": "text/x-python",
   "name": "python",
   "nbconvert_exporter": "python",
   "pygments_lexer": "ipython3",
   "version": "3.6.1"
  }
 },
 "nbformat": 4,
 "nbformat_minor": 2
}
