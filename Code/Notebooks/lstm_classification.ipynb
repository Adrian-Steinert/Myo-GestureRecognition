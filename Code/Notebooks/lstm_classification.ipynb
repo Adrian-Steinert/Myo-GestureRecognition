{
 "cells": [
  {
   "cell_type": "markdown",
   "metadata": {},
   "source": [
    "# Klassifikation mit LSTM"
   ]
  },
  {
   "cell_type": "code",
   "execution_count": null,
   "metadata": {},
   "outputs": [],
   "source": [
    "import numpy as np\n",
    "from keras.models import Sequential\n",
    "from keras.layers import Dense, LSTM\n",
    "\n",
    "from sklearn.preprocessing import LabelBinarizer, LabelEncoder\n",
    "from sklearn.metrics import confusion_matrix, accuracy_score, classification_report"
   ]
  },
  {
   "cell_type": "code",
   "execution_count": null,
   "metadata": {
    "collapsed": true
   },
   "outputs": [],
   "source": [
    "np.random.seed(42)"
   ]
  },
  {
   "cell_type": "code",
   "execution_count": null,
   "metadata": {},
   "outputs": [],
   "source": [
    "import os\n",
    "import sys\n",
    "from glob import glob\n",
    "from gesture_comparison_helper import load_gestures\n",
    "module_path = os.path.abspath(os.path.join('..'))\n",
    "if module_path not in sys.path:\n",
    "    sys.path.append(module_path)\n",
    "from Utils.data_preparation_helper import prepare_data"
   ]
  },
  {
   "cell_type": "code",
   "execution_count": null,
   "metadata": {},
   "outputs": [],
   "source": [
    "train = load_gestures(glob('../Data/converted/a*/b*/*'))\n",
    "train += load_gestures(glob('../Data/converted/a*/c*/*'))\n",
    "train += load_gestures(glob('../Data/converted/a*/f*/*'))\n",
    "train += load_gestures(glob('../Data/converted/a*/s*/*'))\n",
    "#train += load_gestures(glob('../Data/converted/cynthia/*/*'))\n",
    "#train += load_gestures(glob('../Data/converted/flo/*/*'))\n",
    "#train += load_gestures(glob('../Data/converted/kai/*/*'))\n",
    "#train += load_gestures(glob('../Data/converted/lisa/*/*'))\n",
    "#train += load_gestures(glob('../Data/converted/m*/*/*'))\n",
    "#train += load_gestures(glob('../Data/converted/nina_v/*/*'))\n",
    "#train += load_gestures(glob('../Data/converted/oli/*/*'))\n",
    "#train += load_gestures(glob('../Data/converted/paul/*/*'))\n",
    "\n",
    "#test = load_gestures(glob('../Data/converted/cynthia/*/*'))\n",
    "#test += load_gestures(glob('../Data/converted/flo/*/*'))\n",
    "#test += load_gestures(glob('../Data/converted/kai/*/*'))\n",
    "#test += load_gestures(glob('../Data/converted/lisa/*/*'))\n",
    "#test += load_gestures(glob('../Data/converted/m*/*/*'))\n",
    "#test += load_gestures(glob('../Data/converted/nina_v/*/*'))\n",
    "#test += load_gestures(glob('../Data/converted/oli/*/*'))\n",
    "#test += load_gestures(glob('../Data/converted/paul/*/*'))\n",
    "test = load_gestures(glob('../Data/converted/ruben/b*/*'))\n",
    "test += load_gestures(glob('../Data/converted/ruben/c*/*'))\n",
    "test += load_gestures(glob('../Data/converted/ruben/f*/*'))\n",
    "test += load_gestures(glob('../Data/converted/ruben/s*/*'))\n",
    "test += load_gestures(glob('../Data/converted/s*/b*/*'))\n",
    "test += load_gestures(glob('../Data/converted/s*/c*/*'))\n",
    "test += load_gestures(glob('../Data/converted/s*/f*/*'))\n",
    "test += load_gestures(glob('../Data/converted/s*/s*/*'))"
   ]
  },
  {
   "cell_type": "code",
   "execution_count": null,
   "metadata": {},
   "outputs": [],
   "source": [
    "FRAME_NUMBER = 3\n",
    "\n",
    "acc_train_input, acc_train_label = prepare_data(train, FRAME_NUMBER, 'accelerometer')\n",
    "acc_test_input, acc_test_label = prepare_data(test, FRAME_NUMBER, 'accelerometer')\n",
    "\n",
    "acc_train_input = np.array(acc_train_input)\n",
    "acc_train_label = np.array(acc_train_label)\n",
    "acc_test_input = np.array(acc_test_input)\n",
    "acc_test_label = np.array(acc_test_label)"
   ]
  },
  {
   "cell_type": "code",
   "execution_count": null,
   "metadata": {
    "scrolled": true
   },
   "outputs": [],
   "source": [
    "encoder = LabelEncoder()\n",
    "\n",
    "X_train = acc_train_input.reshape(acc_train_input.shape[0], 1, acc_train_input.shape[1])\n",
    "#y_train = acc_train_label.reshape(acc_train_label.shape[0], 1)\n",
    "y_train = encoder.fit_transform(acc_train_label)\n",
    "#print(y_train)\n",
    "\n",
    "X_test = acc_test_input.reshape(acc_test_input.shape[0], 1, acc_test_input.shape[1])\n",
    "y_test = encoder.fit_transform(acc_test_label)\n",
    "#print(y_test)\n",
    "\n",
    "#print(encoder.classes_)\n",
    "\n",
    "model = Sequential()\n",
    "model.add(LSTM(X_train.shape[2], input_shape=(1, X_train.shape[2])))\n",
    "model.add(Dense(len(encoder.classes_), activation='softmax'))\n",
    "model.compile(loss='sparse_categorical_crossentropy', optimizer='adam', metrics=['accuracy'])\n",
    "print(model.summary())\n",
    "history = model.fit(X_train, y_train, epochs=300, batch_size=X_train.shape[2])\n",
    "\n",
    "\n",
    "predictions_proba = model.predict(X_test)\n",
    "predictions = model.predict_classes(X_test, verbose=0)\n",
    "#print()\n",
    "#print(predictions)"
   ]
  },
  {
   "cell_type": "code",
   "execution_count": null,
   "metadata": {},
   "outputs": [],
   "source": [
    "loss, accuracy = model.evaluate(X_test, y_test)\n",
    "print()\n",
    "print(loss)\n",
    "print(accuracy)\n",
    "print(predictions)"
   ]
  },
  {
   "cell_type": "code",
   "execution_count": null,
   "metadata": {
    "scrolled": false
   },
   "outputs": [],
   "source": [
    "print(confusion_matrix(y_test, predictions))"
   ]
  },
  {
   "cell_type": "code",
   "execution_count": null,
   "metadata": {},
   "outputs": [],
   "source": [
    "print(accuracy_score(y_test, predictions))"
   ]
  },
  {
   "cell_type": "code",
   "execution_count": null,
   "metadata": {},
   "outputs": [],
   "source": [
    "print(classification_report(y_test, predictions))"
   ]
  },
  {
   "cell_type": "code",
   "execution_count": null,
   "metadata": {
    "collapsed": true
   },
   "outputs": [],
   "source": []
  },
  {
   "cell_type": "code",
   "execution_count": null,
   "metadata": {},
   "outputs": [],
   "source": [
    "a = [[0.0, 0.1, 0.2, 0.3, 0.4, 0.5, 0.6, 0.7, 0.8, 0.9],\n",
    "      [-0.0, -0.1, -0.2, -0.3, -0.4, -0.5, -0.6, -0.7, -0.8, -0.9]]\n",
    "a = np.array(a)\n",
    "print(a.shape, a)\n",
    "print()\n",
    "b = a.reshape(a.shape[0], 1, a.shape[1])\n",
    "print(b)\n",
    "print()\n",
    "c = a.reshape(a.shape[0], a.shape[1], 1)\n",
    "print(c)"
   ]
  }
 ],
 "metadata": {
  "kernelspec": {
   "display_name": "Python 3",
   "language": "python",
   "name": "python3"
  },
  "language_info": {
   "codemirror_mode": {
    "name": "ipython",
    "version": 3
   },
   "file_extension": ".py",
   "mimetype": "text/x-python",
   "name": "python",
   "nbconvert_exporter": "python",
   "pygments_lexer": "ipython3",
   "version": "3.6.1"
  }
 },
 "nbformat": 4,
 "nbformat_minor": 2
}
