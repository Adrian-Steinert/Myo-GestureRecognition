{
 "cells": [
  {
   "cell_type": "markdown",
   "metadata": {
    "collapsed": true
   },
   "source": [
    "# Ähnlichkeitsmaße für Gesten"
   ]
  },
  {
   "cell_type": "code",
   "execution_count": 1,
   "metadata": {
    "collapsed": true
   },
   "outputs": [],
   "source": [
    "import os\n",
    "import sys\n",
    "import numpy as np\n",
    "import scipy.spatial.distance as dis\n",
    "import scipy.stats as st\n",
    "import time\n",
    "\n",
    "from glob import glob\n",
    "from gesture_comparison_helper import load_gestures\n",
    "from itertools import combinations, combinations_with_replacement\n",
    "from sklearn.metrics import confusion_matrix, accuracy_score, classification_report\n",
    "from sklearn.model_selection import GridSearchCV, ShuffleSplit\n",
    "from sklearn.neighbors import KNeighborsClassifier"
   ]
  },
  {
   "cell_type": "code",
   "execution_count": 2,
   "metadata": {},
   "outputs": [
    {
     "name": "stderr",
     "output_type": "stream",
     "text": [
      "c:\\python36\\lib\\site-packages\\statsmodels\\compat\\pandas.py:56: FutureWarning: The pandas.core.datetools module is deprecated and will be removed in a future version. Please use the pandas.tseries module instead.\n",
      "  from pandas.core import datetools\n"
     ]
    }
   ],
   "source": [
    "module_path = os.path.abspath(os.path.join('..'))\n",
    "if module_path not in sys.path:\n",
    "    sys.path.append(module_path)\n",
    "from Utils.data_preparation_helper import load_data_for_classification, prepare_data"
   ]
  },
  {
   "cell_type": "code",
   "execution_count": 3,
   "metadata": {
    "collapsed": true
   },
   "outputs": [],
   "source": [
    "random_seed = 42\n",
    "\n",
    "np.random.seed(random_seed)"
   ]
  },
  {
   "cell_type": "code",
   "execution_count": 4,
   "metadata": {
    "collapsed": true
   },
   "outputs": [],
   "source": [
    "def calculate_similarity(a, b, sim_type):\n",
    "    if sim_type == 'cosine':\n",
    "        return np.dot(a,b)/(np.linalg.norm(a)*np.linalg.norm(b))\n",
    "    elif sim_type == 'euclid':\n",
    "        return 1/(1+dis.euclidean(a, b))\n",
    "    elif sim_type == 'pearson':\n",
    "        return st.pearsonr(a, b)[0]\n",
    "    else:\n",
    "        print('sim_type value \"{}\" is not supported, choose cosine, eucild or pearson instead'.format(sim_type))\n",
    "\n",
    "def calculate_distance(a, b, dist_type):\n",
    "    if dist_type == 'cosine':\n",
    "        return 1 - np.dot(a,b)/(np.linalg.norm(a)*np.linalg.norm(b))\n",
    "    elif dist_type == 'euclid':\n",
    "        return dis.euclidean(a, b)\n",
    "    elif dist_type == 'pearson':\n",
    "        return 1 - st.pearsonr(a, b)[0]\n",
    "    else:\n",
    "        print('dist_type value \"{}\" is not supported, choose cosine, eucild or pearson instead'.format(dist_type))"
   ]
  },
  {
   "cell_type": "markdown",
   "metadata": {
    "collapsed": true
   },
   "source": [
    "sensors = ['accelerometer', 'gyro', 'emg', 'orientation']\n",
    "sensor_weights = [0.25, 0.25, 0.25, 0.25]\n",
    "\n",
    "own = ['big_stop', 'come_down', 'come_here', 'come_up', 'flip', 'small_stop']\n",
    "paper = ['hcwh', 'hcwv', 'hcws',\n",
    "         'hcch', 'hccv', 'hccs',\n",
    "         'tcwh', 'tcwv', 'tcws',\n",
    "         'tcch', 'tccv', 'tccs',\n",
    "         'lcwh', 'lcwv', 'lcws',\n",
    "         'lcch', 'lccv', 'lccs']"
   ]
  },
  {
   "cell_type": "markdown",
   "metadata": {},
   "source": [
    "## Vergleiche gleiche Gesten"
   ]
  },
  {
   "cell_type": "markdown",
   "metadata": {
    "collapsed": true,
    "scrolled": true
   },
   "source": [
    "print('Mean values of different similarity measurements\\n')\n",
    "\n",
    "for gesture in own + paper:\n",
    "    gesture_dicts = load_gestures(glob('../Data/converted/*/' + gesture + '/*'))\n",
    "    \n",
    "    print('Gesture: {}'.format(gesture))\n",
    "    print('-'*20)\n",
    "    for sensortype in sensors:\n",
    "        feature_vectors = prepare_data(gesture_dicts, FRAME_NUMBER, sensortype, verbose=False)[0]\n",
    "\n",
    "        cosine_simi = []\n",
    "        euclid_simi = []\n",
    "        pearson_simi = []\n",
    "\n",
    "        for gesture in combinations(feature_vectors, 2):\n",
    "            cosine_simi.append(calculate_similarity(gesture[0], gesture[1], sim_type='cosine'))\n",
    "            euclid_simi.append(calculate_similarity(gesture[0], gesture[1], sim_type='euclid'))\n",
    "            pearson_simi.append(calculate_similarity(gesture[0], gesture[1], sim_type='pearson'))\n",
    "\n",
    "        print('Sensor type: {}'.format(sensortype))\n",
    "        print('Cosine similarity: {}'.format(np.mean(cosine_simi)))\n",
    "        print('Euclid similarity: {}'.format(np.mean(euclid_simi)))\n",
    "        print('Pearson similarity: {}'.format(np.mean(pearson_simi)))\n",
    "        print()\n",
    "    print()"
   ]
  },
  {
   "cell_type": "markdown",
   "metadata": {
    "collapsed": true,
    "scrolled": true
   },
   "source": [
    "start_time = time.time()\n",
    "gesture_dicts = [load_gestures(glob('../Data/converted/*/' + gesture + '/*')) for gesture in own+paper]\n",
    "\n",
    "prepared_groups = []\n",
    "for gesture_group in gesture_dicts:\n",
    "    gesture = []\n",
    "    gesture.append(prepare_data(gesture_group, FRAME_NUMBER, 'accelerometer', verbose=False)[0])\n",
    "    gesture.append(prepare_data(gesture_group, FRAME_NUMBER, 'gyro', verbose=False)[0])\n",
    "    gesture.append(prepare_data(gesture_group, FRAME_NUMBER, 'emg', verbose=False)[0])\n",
    "    gesture.append(prepare_data(gesture_group, FRAME_NUMBER, 'orientation', verbose=False)[0])\n",
    "    prepared_groups.append(gesture)\n",
    "        \n",
    "print('Duration: {}'.format(time.time() - start_time))"
   ]
  },
  {
   "cell_type": "markdown",
   "metadata": {
    "collapsed": true,
    "scrolled": true
   },
   "source": [
    "for gesture, gesture_label in zip(combinations_with_replacement(prepared_groups, 2),\n",
    "                                  combinations_with_replacement(own+paper, 2)):\n",
    "    sensor_similarity_cosine = []\n",
    "    sensor_similarity_euclid = []\n",
    "    sensor_similarity_pearson = []\n",
    "    \n",
    "    print('{} to {}'.format(gesture_label[0], gesture_label[1]))\n",
    "    for sensortype_ga, sensortype_gb in zip(gesture[0], gesture[1]):\n",
    "        \n",
    "        mean_a = np.divide(np.sum(sensortype_ga, axis=0), len(sensortype_ga))\n",
    "        mean_b = np.divide(np.sum(sensortype_gb, axis=0), len(sensortype_gb))\n",
    "        \n",
    "        sensor_similarity_cosine.append(calculate_similarity(mean_a, mean_b, sim_type='cosine'))\n",
    "        sensor_similarity_euclid.append(calculate_similarity(mean_a, mean_b, sim_type='euclid'))\n",
    "        sensor_similarity_pearson.append(calculate_similarity(mean_a, mean_b, sim_type='pearson'))\n",
    "        \n",
    "\n",
    "    result_cosine = np.sum(np.multiply(sensor_similarity_cosine, sensor_weights))\n",
    "    result_euclid = np.sum(np.multiply(sensor_similarity_euclid, sensor_weights))\n",
    "    result_pearson = np.sum(np.multiply(sensor_similarity_pearson, sensor_weights))\n",
    "    \n",
    "    print('Weighted Cosine similarity: {}'.format(result_cosine))\n",
    "    print('Weighted Euclid similarity: {}'.format(result_euclid))\n",
    "    print('Weighted Pearson similarity: {}'.format(result_pearson))\n",
    "    print()"
   ]
  },
  {
   "cell_type": "code",
   "execution_count": 18,
   "metadata": {
    "collapsed": true
   },
   "outputs": [],
   "source": [
    "train, valid, test = load_data_for_classification('all')"
   ]
  },
  {
   "cell_type": "markdown",
   "metadata": {},
   "source": [
    "## k Nearest Neighbour - cosine"
   ]
  },
  {
   "cell_type": "code",
   "execution_count": 19,
   "metadata": {
    "collapsed": true
   },
   "outputs": [],
   "source": [
    "start_time = time.time()\n",
    "\n",
    "parameters = [{'n_neighbors':[1,2,3,4,5,6,7,8,9,10],\n",
    "               'metric':[calculate_distance], 'metric_params':[{'dist_type':'cosine'}]}]\n",
    "frame_numbers = list(range(1,13))\n",
    "cross_valid = ShuffleSplit(n_splits=1, test_size=0.2, random_state=random_seed)\n",
    "\n",
    "parallel_jobs = 1\n",
    "verbose_level = 3"
   ]
  },
  {
   "cell_type": "code",
   "execution_count": 20,
   "metadata": {
    "collapsed": true
   },
   "outputs": [],
   "source": [
    "cosine_acc = (0, 0)\n",
    "cosine_gyro = (0, 0)\n",
    "cosine_ori = (0, 0)\n",
    "cosine_emg = (0, 0)"
   ]
  },
  {
   "cell_type": "markdown",
   "metadata": {},
   "source": [
    "### Accelerometer"
   ]
  },
  {
   "cell_type": "code",
   "execution_count": 21,
   "metadata": {
    "scrolled": true
   },
   "outputs": [
    {
     "name": "stdout",
     "output_type": "stream",
     "text": [
      "1\n",
      "Fitting 1 folds for each of 10 candidates, totalling 10 fits\n",
      "[CV] metric=<function calculate_distance at 0x000002C8A5544EA0>, metric_params={'dist_type': 'cosine'}, n_neighbors=1 \n",
      "[CV]  metric=<function calculate_distance at 0x000002C8A5544EA0>, metric_params={'dist_type': 'cosine'}, n_neighbors=1, score=0.46634615384615385, total=   1.7s\n",
      "[CV] metric=<function calculate_distance at 0x000002C8A5544EA0>, metric_params={'dist_type': 'cosine'}, n_neighbors=2 \n"
     ]
    },
    {
     "name": "stderr",
     "output_type": "stream",
     "text": [
      "[Parallel(n_jobs=1)]: Done   1 out of   1 | elapsed:    7.7s remaining:    0.0s\n"
     ]
    },
    {
     "name": "stdout",
     "output_type": "stream",
     "text": [
      "[CV]  metric=<function calculate_distance at 0x000002C8A5544EA0>, metric_params={'dist_type': 'cosine'}, n_neighbors=2, score=0.4326923076923077, total=   1.7s\n",
      "[CV] metric=<function calculate_distance at 0x000002C8A5544EA0>, metric_params={'dist_type': 'cosine'}, n_neighbors=3 \n"
     ]
    },
    {
     "name": "stderr",
     "output_type": "stream",
     "text": [
      "[Parallel(n_jobs=1)]: Done   2 out of   2 | elapsed:   16.4s remaining:    0.0s\n"
     ]
    },
    {
     "name": "stdout",
     "output_type": "stream",
     "text": [
      "[CV]  metric=<function calculate_distance at 0x000002C8A5544EA0>, metric_params={'dist_type': 'cosine'}, n_neighbors=3, score=0.40384615384615385, total=   1.8s\n",
      "[CV] metric=<function calculate_distance at 0x000002C8A5544EA0>, metric_params={'dist_type': 'cosine'}, n_neighbors=4 \n",
      "[CV]  metric=<function calculate_distance at 0x000002C8A5544EA0>, metric_params={'dist_type': 'cosine'}, n_neighbors=4, score=0.375, total=   1.8s\n",
      "[CV] metric=<function calculate_distance at 0x000002C8A5544EA0>, metric_params={'dist_type': 'cosine'}, n_neighbors=5 \n",
      "[CV]  metric=<function calculate_distance at 0x000002C8A5544EA0>, metric_params={'dist_type': 'cosine'}, n_neighbors=5, score=0.3317307692307692, total=   1.9s\n",
      "[CV] metric=<function calculate_distance at 0x000002C8A5544EA0>, metric_params={'dist_type': 'cosine'}, n_neighbors=6 \n",
      "[CV]  metric=<function calculate_distance at 0x000002C8A5544EA0>, metric_params={'dist_type': 'cosine'}, n_neighbors=6, score=0.3317307692307692, total=   1.8s\n",
      "[CV] metric=<function calculate_distance at 0x000002C8A5544EA0>, metric_params={'dist_type': 'cosine'}, n_neighbors=7 \n",
      "[CV]  metric=<function calculate_distance at 0x000002C8A5544EA0>, metric_params={'dist_type': 'cosine'}, n_neighbors=7, score=0.2980769230769231, total=   1.9s\n",
      "[CV] metric=<function calculate_distance at 0x000002C8A5544EA0>, metric_params={'dist_type': 'cosine'}, n_neighbors=8 \n",
      "[CV]  metric=<function calculate_distance at 0x000002C8A5544EA0>, metric_params={'dist_type': 'cosine'}, n_neighbors=8, score=0.2932692307692308, total=   1.8s\n",
      "[CV] metric=<function calculate_distance at 0x000002C8A5544EA0>, metric_params={'dist_type': 'cosine'}, n_neighbors=9 \n",
      "[CV]  metric=<function calculate_distance at 0x000002C8A5544EA0>, metric_params={'dist_type': 'cosine'}, n_neighbors=9, score=0.27403846153846156, total=   1.9s\n",
      "[CV] metric=<function calculate_distance at 0x000002C8A5544EA0>, metric_params={'dist_type': 'cosine'}, n_neighbors=10 \n",
      "[CV]  metric=<function calculate_distance at 0x000002C8A5544EA0>, metric_params={'dist_type': 'cosine'}, n_neighbors=10, score=0.24519230769230768, total=   1.8s\n",
      "2\n"
     ]
    },
    {
     "name": "stderr",
     "output_type": "stream",
     "text": [
      "[Parallel(n_jobs=1)]: Done  10 out of  10 | elapsed:  1.5min finished\n"
     ]
    },
    {
     "name": "stdout",
     "output_type": "stream",
     "text": [
      "Fitting 1 folds for each of 10 candidates, totalling 10 fits\n",
      "[CV] metric=<function calculate_distance at 0x000002C8A5544EA0>, metric_params={'dist_type': 'cosine'}, n_neighbors=1 \n",
      "[CV]  metric=<function calculate_distance at 0x000002C8A5544EA0>, metric_params={'dist_type': 'cosine'}, n_neighbors=1, score=0.5555555555555556, total=   1.9s\n",
      "[CV] metric=<function calculate_distance at 0x000002C8A5544EA0>, metric_params={'dist_type': 'cosine'}, n_neighbors=2 \n"
     ]
    },
    {
     "name": "stderr",
     "output_type": "stream",
     "text": [
      "[Parallel(n_jobs=1)]: Done   1 out of   1 | elapsed:    8.5s remaining:    0.0s\n"
     ]
    },
    {
     "name": "stdout",
     "output_type": "stream",
     "text": [
      "[CV]  metric=<function calculate_distance at 0x000002C8A5544EA0>, metric_params={'dist_type': 'cosine'}, n_neighbors=2, score=0.4782608695652174, total=   1.9s\n",
      "[CV] metric=<function calculate_distance at 0x000002C8A5544EA0>, metric_params={'dist_type': 'cosine'}, n_neighbors=3 \n"
     ]
    },
    {
     "name": "stderr",
     "output_type": "stream",
     "text": [
      "[Parallel(n_jobs=1)]: Done   2 out of   2 | elapsed:   17.9s remaining:    0.0s\n"
     ]
    },
    {
     "name": "stdout",
     "output_type": "stream",
     "text": [
      "[CV]  metric=<function calculate_distance at 0x000002C8A5544EA0>, metric_params={'dist_type': 'cosine'}, n_neighbors=3, score=0.43478260869565216, total=   1.9s\n",
      "[CV] metric=<function calculate_distance at 0x000002C8A5544EA0>, metric_params={'dist_type': 'cosine'}, n_neighbors=4 \n",
      "[CV]  metric=<function calculate_distance at 0x000002C8A5544EA0>, metric_params={'dist_type': 'cosine'}, n_neighbors=4, score=0.4251207729468599, total=   2.0s\n",
      "[CV] metric=<function calculate_distance at 0x000002C8A5544EA0>, metric_params={'dist_type': 'cosine'}, n_neighbors=5 \n",
      "[CV]  metric=<function calculate_distance at 0x000002C8A5544EA0>, metric_params={'dist_type': 'cosine'}, n_neighbors=5, score=0.41545893719806765, total=   2.1s\n",
      "[CV] metric=<function calculate_distance at 0x000002C8A5544EA0>, metric_params={'dist_type': 'cosine'}, n_neighbors=6 \n",
      "[CV]  metric=<function calculate_distance at 0x000002C8A5544EA0>, metric_params={'dist_type': 'cosine'}, n_neighbors=6, score=0.3671497584541063, total=   2.0s\n",
      "[CV] metric=<function calculate_distance at 0x000002C8A5544EA0>, metric_params={'dist_type': 'cosine'}, n_neighbors=7 \n",
      "[CV]  metric=<function calculate_distance at 0x000002C8A5544EA0>, metric_params={'dist_type': 'cosine'}, n_neighbors=7, score=0.2995169082125604, total=   2.1s\n",
      "[CV] metric=<function calculate_distance at 0x000002C8A5544EA0>, metric_params={'dist_type': 'cosine'}, n_neighbors=8 \n",
      "[CV]  metric=<function calculate_distance at 0x000002C8A5544EA0>, metric_params={'dist_type': 'cosine'}, n_neighbors=8, score=0.2995169082125604, total=   2.0s\n",
      "[CV] metric=<function calculate_distance at 0x000002C8A5544EA0>, metric_params={'dist_type': 'cosine'}, n_neighbors=9 \n",
      "[CV]  metric=<function calculate_distance at 0x000002C8A5544EA0>, metric_params={'dist_type': 'cosine'}, n_neighbors=9, score=0.27053140096618356, total=   2.1s\n",
      "[CV] metric=<function calculate_distance at 0x000002C8A5544EA0>, metric_params={'dist_type': 'cosine'}, n_neighbors=10 \n",
      "[CV]  metric=<function calculate_distance at 0x000002C8A5544EA0>, metric_params={'dist_type': 'cosine'}, n_neighbors=10, score=0.26570048309178745, total=   2.1s\n",
      "3\n"
     ]
    },
    {
     "name": "stderr",
     "output_type": "stream",
     "text": [
      "[Parallel(n_jobs=1)]: Done  10 out of  10 | elapsed:  1.6min finished\n"
     ]
    },
    {
     "name": "stdout",
     "output_type": "stream",
     "text": [
      "Fitting 1 folds for each of 10 candidates, totalling 10 fits\n",
      "[CV] metric=<function calculate_distance at 0x000002C8A5544EA0>, metric_params={'dist_type': 'cosine'}, n_neighbors=1 \n",
      "[CV]  metric=<function calculate_distance at 0x000002C8A5544EA0>, metric_params={'dist_type': 'cosine'}, n_neighbors=1, score=0.6666666666666666, total=   2.4s\n",
      "[CV] metric=<function calculate_distance at 0x000002C8A5544EA0>, metric_params={'dist_type': 'cosine'}, n_neighbors=2 \n"
     ]
    },
    {
     "name": "stderr",
     "output_type": "stream",
     "text": [
      "[Parallel(n_jobs=1)]: Done   1 out of   1 | elapsed:   10.8s remaining:    0.0s\n"
     ]
    },
    {
     "name": "stdout",
     "output_type": "stream",
     "text": [
      "[CV]  metric=<function calculate_distance at 0x000002C8A5544EA0>, metric_params={'dist_type': 'cosine'}, n_neighbors=2, score=0.5797101449275363, total=   2.5s\n",
      "[CV] metric=<function calculate_distance at 0x000002C8A5544EA0>, metric_params={'dist_type': 'cosine'}, n_neighbors=3 \n"
     ]
    },
    {
     "name": "stderr",
     "output_type": "stream",
     "text": [
      "[Parallel(n_jobs=1)]: Done   2 out of   2 | elapsed:   23.0s remaining:    0.0s\n"
     ]
    },
    {
     "name": "stdout",
     "output_type": "stream",
     "text": [
      "[CV]  metric=<function calculate_distance at 0x000002C8A5544EA0>, metric_params={'dist_type': 'cosine'}, n_neighbors=3, score=0.5652173913043478, total=   2.5s\n",
      "[CV] metric=<function calculate_distance at 0x000002C8A5544EA0>, metric_params={'dist_type': 'cosine'}, n_neighbors=4 \n",
      "[CV]  metric=<function calculate_distance at 0x000002C8A5544EA0>, metric_params={'dist_type': 'cosine'}, n_neighbors=4, score=0.5169082125603864, total=   3.0s\n",
      "[CV] metric=<function calculate_distance at 0x000002C8A5544EA0>, metric_params={'dist_type': 'cosine'}, n_neighbors=5 \n",
      "[CV]  metric=<function calculate_distance at 0x000002C8A5544EA0>, metric_params={'dist_type': 'cosine'}, n_neighbors=5, score=0.4492753623188406, total=   2.6s\n",
      "[CV] metric=<function calculate_distance at 0x000002C8A5544EA0>, metric_params={'dist_type': 'cosine'}, n_neighbors=6 \n",
      "[CV]  metric=<function calculate_distance at 0x000002C8A5544EA0>, metric_params={'dist_type': 'cosine'}, n_neighbors=6, score=0.36231884057971014, total=   2.7s\n",
      "[CV] metric=<function calculate_distance at 0x000002C8A5544EA0>, metric_params={'dist_type': 'cosine'}, n_neighbors=7 \n",
      "[CV]  metric=<function calculate_distance at 0x000002C8A5544EA0>, metric_params={'dist_type': 'cosine'}, n_neighbors=7, score=0.36231884057971014, total=   2.6s\n",
      "[CV] metric=<function calculate_distance at 0x000002C8A5544EA0>, metric_params={'dist_type': 'cosine'}, n_neighbors=8 \n",
      "[CV]  metric=<function calculate_distance at 0x000002C8A5544EA0>, metric_params={'dist_type': 'cosine'}, n_neighbors=8, score=0.3333333333333333, total=   2.7s\n",
      "[CV] metric=<function calculate_distance at 0x000002C8A5544EA0>, metric_params={'dist_type': 'cosine'}, n_neighbors=9 \n",
      "[CV]  metric=<function calculate_distance at 0x000002C8A5544EA0>, metric_params={'dist_type': 'cosine'}, n_neighbors=9, score=0.34782608695652173, total=   2.8s\n",
      "[CV] metric=<function calculate_distance at 0x000002C8A5544EA0>, metric_params={'dist_type': 'cosine'}, n_neighbors=10 \n",
      "[CV]  metric=<function calculate_distance at 0x000002C8A5544EA0>, metric_params={'dist_type': 'cosine'}, n_neighbors=10, score=0.3526570048309179, total=   2.7s\n",
      "4\n"
     ]
    },
    {
     "name": "stderr",
     "output_type": "stream",
     "text": [
      "[Parallel(n_jobs=1)]: Done  10 out of  10 | elapsed:  2.2min finished\n"
     ]
    },
    {
     "name": "stdout",
     "output_type": "stream",
     "text": [
      "Fitting 1 folds for each of 10 candidates, totalling 10 fits\n",
      "[CV] metric=<function calculate_distance at 0x000002C8A5544EA0>, metric_params={'dist_type': 'cosine'}, n_neighbors=1 \n",
      "[CV]  metric=<function calculate_distance at 0x000002C8A5544EA0>, metric_params={'dist_type': 'cosine'}, n_neighbors=1, score=0.6666666666666666, total=   2.9s\n",
      "[CV] metric=<function calculate_distance at 0x000002C8A5544EA0>, metric_params={'dist_type': 'cosine'}, n_neighbors=2 \n"
     ]
    },
    {
     "name": "stderr",
     "output_type": "stream",
     "text": [
      "[Parallel(n_jobs=1)]: Done   1 out of   1 | elapsed:   12.4s remaining:    0.0s\n"
     ]
    },
    {
     "name": "stdout",
     "output_type": "stream",
     "text": [
      "[CV]  metric=<function calculate_distance at 0x000002C8A5544EA0>, metric_params={'dist_type': 'cosine'}, n_neighbors=2, score=0.5990338164251208, total=   2.8s\n",
      "[CV] metric=<function calculate_distance at 0x000002C8A5544EA0>, metric_params={'dist_type': 'cosine'}, n_neighbors=3 \n"
     ]
    },
    {
     "name": "stderr",
     "output_type": "stream",
     "text": [
      "[Parallel(n_jobs=1)]: Done   2 out of   2 | elapsed:   26.5s remaining:    0.0s\n"
     ]
    },
    {
     "name": "stdout",
     "output_type": "stream",
     "text": [
      "[CV]  metric=<function calculate_distance at 0x000002C8A5544EA0>, metric_params={'dist_type': 'cosine'}, n_neighbors=3, score=0.5410628019323671, total=   3.4s\n",
      "[CV] metric=<function calculate_distance at 0x000002C8A5544EA0>, metric_params={'dist_type': 'cosine'}, n_neighbors=4 \n",
      "[CV]  metric=<function calculate_distance at 0x000002C8A5544EA0>, metric_params={'dist_type': 'cosine'}, n_neighbors=4, score=0.4830917874396135, total=   2.9s\n",
      "[CV] metric=<function calculate_distance at 0x000002C8A5544EA0>, metric_params={'dist_type': 'cosine'}, n_neighbors=5 \n",
      "[CV]  metric=<function calculate_distance at 0x000002C8A5544EA0>, metric_params={'dist_type': 'cosine'}, n_neighbors=5, score=0.45893719806763283, total=   2.9s\n",
      "[CV] metric=<function calculate_distance at 0x000002C8A5544EA0>, metric_params={'dist_type': 'cosine'}, n_neighbors=6 \n",
      "[CV]  metric=<function calculate_distance at 0x000002C8A5544EA0>, metric_params={'dist_type': 'cosine'}, n_neighbors=6, score=0.38164251207729466, total=   3.1s\n",
      "[CV] metric=<function calculate_distance at 0x000002C8A5544EA0>, metric_params={'dist_type': 'cosine'}, n_neighbors=7 \n",
      "[CV]  metric=<function calculate_distance at 0x000002C8A5544EA0>, metric_params={'dist_type': 'cosine'}, n_neighbors=7, score=0.357487922705314, total=   2.9s\n",
      "[CV] metric=<function calculate_distance at 0x000002C8A5544EA0>, metric_params={'dist_type': 'cosine'}, n_neighbors=8 \n",
      "[CV]  metric=<function calculate_distance at 0x000002C8A5544EA0>, metric_params={'dist_type': 'cosine'}, n_neighbors=8, score=0.3333333333333333, total=   2.9s\n",
      "[CV] metric=<function calculate_distance at 0x000002C8A5544EA0>, metric_params={'dist_type': 'cosine'}, n_neighbors=9 \n",
      "[CV]  metric=<function calculate_distance at 0x000002C8A5544EA0>, metric_params={'dist_type': 'cosine'}, n_neighbors=9, score=0.2995169082125604, total=   2.9s\n",
      "[CV] metric=<function calculate_distance at 0x000002C8A5544EA0>, metric_params={'dist_type': 'cosine'}, n_neighbors=10 \n",
      "[CV]  metric=<function calculate_distance at 0x000002C8A5544EA0>, metric_params={'dist_type': 'cosine'}, n_neighbors=10, score=0.2898550724637681, total=   2.9s\n",
      "5\n"
     ]
    },
    {
     "name": "stderr",
     "output_type": "stream",
     "text": [
      "[Parallel(n_jobs=1)]: Done  10 out of  10 | elapsed:  2.4min finished\n"
     ]
    },
    {
     "name": "stdout",
     "output_type": "stream",
     "text": [
      "Fitting 1 folds for each of 10 candidates, totalling 10 fits\n",
      "[CV] metric=<function calculate_distance at 0x000002C8A5544EA0>, metric_params={'dist_type': 'cosine'}, n_neighbors=1 \n",
      "[CV]  metric=<function calculate_distance at 0x000002C8A5544EA0>, metric_params={'dist_type': 'cosine'}, n_neighbors=1, score=0.6570048309178744, total=   3.1s\n",
      "[CV] metric=<function calculate_distance at 0x000002C8A5544EA0>, metric_params={'dist_type': 'cosine'}, n_neighbors=2 \n"
     ]
    },
    {
     "name": "stderr",
     "output_type": "stream",
     "text": [
      "[Parallel(n_jobs=1)]: Done   1 out of   1 | elapsed:   13.5s remaining:    0.0s\n"
     ]
    },
    {
     "name": "stdout",
     "output_type": "stream",
     "text": [
      "[CV]  metric=<function calculate_distance at 0x000002C8A5544EA0>, metric_params={'dist_type': 'cosine'}, n_neighbors=2, score=0.5893719806763285, total=   3.1s\n",
      "[CV] metric=<function calculate_distance at 0x000002C8A5544EA0>, metric_params={'dist_type': 'cosine'}, n_neighbors=3 \n"
     ]
    },
    {
     "name": "stderr",
     "output_type": "stream",
     "text": [
      "[Parallel(n_jobs=1)]: Done   2 out of   2 | elapsed:   28.3s remaining:    0.0s\n"
     ]
    },
    {
     "name": "stdout",
     "output_type": "stream",
     "text": [
      "[CV]  metric=<function calculate_distance at 0x000002C8A5544EA0>, metric_params={'dist_type': 'cosine'}, n_neighbors=3, score=0.5700483091787439, total=   2.7s\n",
      "[CV] metric=<function calculate_distance at 0x000002C8A5544EA0>, metric_params={'dist_type': 'cosine'}, n_neighbors=4 \n",
      "[CV]  metric=<function calculate_distance at 0x000002C8A5544EA0>, metric_params={'dist_type': 'cosine'}, n_neighbors=4, score=0.4975845410628019, total=   2.7s\n",
      "[CV] metric=<function calculate_distance at 0x000002C8A5544EA0>, metric_params={'dist_type': 'cosine'}, n_neighbors=5 \n",
      "[CV]  metric=<function calculate_distance at 0x000002C8A5544EA0>, metric_params={'dist_type': 'cosine'}, n_neighbors=5, score=0.463768115942029, total=   2.7s\n",
      "[CV] metric=<function calculate_distance at 0x000002C8A5544EA0>, metric_params={'dist_type': 'cosine'}, n_neighbors=6 \n",
      "[CV]  metric=<function calculate_distance at 0x000002C8A5544EA0>, metric_params={'dist_type': 'cosine'}, n_neighbors=6, score=0.4057971014492754, total=   2.7s\n",
      "[CV] metric=<function calculate_distance at 0x000002C8A5544EA0>, metric_params={'dist_type': 'cosine'}, n_neighbors=7 \n",
      "[CV]  metric=<function calculate_distance at 0x000002C8A5544EA0>, metric_params={'dist_type': 'cosine'}, n_neighbors=7, score=0.40096618357487923, total=   2.7s\n",
      "[CV] metric=<function calculate_distance at 0x000002C8A5544EA0>, metric_params={'dist_type': 'cosine'}, n_neighbors=8 \n",
      "[CV]  metric=<function calculate_distance at 0x000002C8A5544EA0>, metric_params={'dist_type': 'cosine'}, n_neighbors=8, score=0.3526570048309179, total=   2.7s\n",
      "[CV] metric=<function calculate_distance at 0x000002C8A5544EA0>, metric_params={'dist_type': 'cosine'}, n_neighbors=9 \n",
      "[CV]  metric=<function calculate_distance at 0x000002C8A5544EA0>, metric_params={'dist_type': 'cosine'}, n_neighbors=9, score=0.34782608695652173, total=   2.7s\n",
      "[CV] metric=<function calculate_distance at 0x000002C8A5544EA0>, metric_params={'dist_type': 'cosine'}, n_neighbors=10 \n",
      "[CV]  metric=<function calculate_distance at 0x000002C8A5544EA0>, metric_params={'dist_type': 'cosine'}, n_neighbors=10, score=0.34782608695652173, total=   2.7s\n",
      "6\n"
     ]
    },
    {
     "name": "stderr",
     "output_type": "stream",
     "text": [
      "[Parallel(n_jobs=1)]: Done  10 out of  10 | elapsed:  2.3min finished\n"
     ]
    },
    {
     "name": "stdout",
     "output_type": "stream",
     "text": [
      "Fitting 1 folds for each of 10 candidates, totalling 10 fits\n",
      "[CV] metric=<function calculate_distance at 0x000002C8A5544EA0>, metric_params={'dist_type': 'cosine'}, n_neighbors=1 \n",
      "[CV]  metric=<function calculate_distance at 0x000002C8A5544EA0>, metric_params={'dist_type': 'cosine'}, n_neighbors=1, score=0.6231884057971014, total=   2.8s\n",
      "[CV] metric=<function calculate_distance at 0x000002C8A5544EA0>, metric_params={'dist_type': 'cosine'}, n_neighbors=2 \n"
     ]
    },
    {
     "name": "stderr",
     "output_type": "stream",
     "text": [
      "[Parallel(n_jobs=1)]: Done   1 out of   1 | elapsed:   12.1s remaining:    0.0s\n"
     ]
    },
    {
     "name": "stdout",
     "output_type": "stream",
     "text": [
      "[CV]  metric=<function calculate_distance at 0x000002C8A5544EA0>, metric_params={'dist_type': 'cosine'}, n_neighbors=2, score=0.5942028985507246, total=   2.8s\n",
      "[CV] metric=<function calculate_distance at 0x000002C8A5544EA0>, metric_params={'dist_type': 'cosine'}, n_neighbors=3 \n"
     ]
    },
    {
     "name": "stderr",
     "output_type": "stream",
     "text": [
      "[Parallel(n_jobs=1)]: Done   2 out of   2 | elapsed:   26.0s remaining:    0.0s\n"
     ]
    },
    {
     "name": "stdout",
     "output_type": "stream",
     "text": [
      "[CV]  metric=<function calculate_distance at 0x000002C8A5544EA0>, metric_params={'dist_type': 'cosine'}, n_neighbors=3, score=0.4782608695652174, total=   2.8s\n",
      "[CV] metric=<function calculate_distance at 0x000002C8A5544EA0>, metric_params={'dist_type': 'cosine'}, n_neighbors=4 \n",
      "[CV]  metric=<function calculate_distance at 0x000002C8A5544EA0>, metric_params={'dist_type': 'cosine'}, n_neighbors=4, score=0.45893719806763283, total=   2.8s\n",
      "[CV] metric=<function calculate_distance at 0x000002C8A5544EA0>, metric_params={'dist_type': 'cosine'}, n_neighbors=5 \n",
      "[CV]  metric=<function calculate_distance at 0x000002C8A5544EA0>, metric_params={'dist_type': 'cosine'}, n_neighbors=5, score=0.3961352657004831, total=   2.8s\n",
      "[CV] metric=<function calculate_distance at 0x000002C8A5544EA0>, metric_params={'dist_type': 'cosine'}, n_neighbors=6 \n",
      "[CV]  metric=<function calculate_distance at 0x000002C8A5544EA0>, metric_params={'dist_type': 'cosine'}, n_neighbors=6, score=0.34782608695652173, total=   2.8s\n",
      "[CV] metric=<function calculate_distance at 0x000002C8A5544EA0>, metric_params={'dist_type': 'cosine'}, n_neighbors=7 \n",
      "[CV]  metric=<function calculate_distance at 0x000002C8A5544EA0>, metric_params={'dist_type': 'cosine'}, n_neighbors=7, score=0.32367149758454106, total=   2.8s\n",
      "[CV] metric=<function calculate_distance at 0x000002C8A5544EA0>, metric_params={'dist_type': 'cosine'}, n_neighbors=8 \n",
      "[CV]  metric=<function calculate_distance at 0x000002C8A5544EA0>, metric_params={'dist_type': 'cosine'}, n_neighbors=8, score=0.32367149758454106, total=   2.8s\n",
      "[CV] metric=<function calculate_distance at 0x000002C8A5544EA0>, metric_params={'dist_type': 'cosine'}, n_neighbors=9 \n",
      "[CV]  metric=<function calculate_distance at 0x000002C8A5544EA0>, metric_params={'dist_type': 'cosine'}, n_neighbors=9, score=0.34782608695652173, total=   2.8s\n",
      "[CV] metric=<function calculate_distance at 0x000002C8A5544EA0>, metric_params={'dist_type': 'cosine'}, n_neighbors=10 \n",
      "[CV]  metric=<function calculate_distance at 0x000002C8A5544EA0>, metric_params={'dist_type': 'cosine'}, n_neighbors=10, score=0.3333333333333333, total=   2.9s\n",
      "7\n"
     ]
    },
    {
     "name": "stderr",
     "output_type": "stream",
     "text": [
      "[Parallel(n_jobs=1)]: Done  10 out of  10 | elapsed:  2.3min finished\n"
     ]
    },
    {
     "name": "stdout",
     "output_type": "stream",
     "text": [
      "Fitting 1 folds for each of 10 candidates, totalling 10 fits\n",
      "[CV] metric=<function calculate_distance at 0x000002C8A5544EA0>, metric_params={'dist_type': 'cosine'}, n_neighbors=1 \n",
      "[CV]  metric=<function calculate_distance at 0x000002C8A5544EA0>, metric_params={'dist_type': 'cosine'}, n_neighbors=1, score=0.5169082125603864, total=   3.1s\n",
      "[CV] metric=<function calculate_distance at 0x000002C8A5544EA0>, metric_params={'dist_type': 'cosine'}, n_neighbors=2 \n"
     ]
    },
    {
     "name": "stderr",
     "output_type": "stream",
     "text": [
      "[Parallel(n_jobs=1)]: Done   1 out of   1 | elapsed:   13.7s remaining:    0.0s\n"
     ]
    },
    {
     "name": "stdout",
     "output_type": "stream",
     "text": [
      "[CV]  metric=<function calculate_distance at 0x000002C8A5544EA0>, metric_params={'dist_type': 'cosine'}, n_neighbors=2, score=0.45410628019323673, total=   3.0s\n",
      "[CV] metric=<function calculate_distance at 0x000002C8A5544EA0>, metric_params={'dist_type': 'cosine'}, n_neighbors=3 \n"
     ]
    },
    {
     "name": "stderr",
     "output_type": "stream",
     "text": [
      "[Parallel(n_jobs=1)]: Done   2 out of   2 | elapsed:   28.5s remaining:    0.0s\n"
     ]
    },
    {
     "name": "stdout",
     "output_type": "stream",
     "text": [
      "[CV]  metric=<function calculate_distance at 0x000002C8A5544EA0>, metric_params={'dist_type': 'cosine'}, n_neighbors=3, score=0.42028985507246375, total=   3.2s\n",
      "[CV] metric=<function calculate_distance at 0x000002C8A5544EA0>, metric_params={'dist_type': 'cosine'}, n_neighbors=4 \n",
      "[CV]  metric=<function calculate_distance at 0x000002C8A5544EA0>, metric_params={'dist_type': 'cosine'}, n_neighbors=4, score=0.42995169082125606, total=   3.1s\n",
      "[CV] metric=<function calculate_distance at 0x000002C8A5544EA0>, metric_params={'dist_type': 'cosine'}, n_neighbors=5 \n",
      "[CV]  metric=<function calculate_distance at 0x000002C8A5544EA0>, metric_params={'dist_type': 'cosine'}, n_neighbors=5, score=0.40096618357487923, total=   3.1s\n",
      "[CV] metric=<function calculate_distance at 0x000002C8A5544EA0>, metric_params={'dist_type': 'cosine'}, n_neighbors=6 \n",
      "[CV]  metric=<function calculate_distance at 0x000002C8A5544EA0>, metric_params={'dist_type': 'cosine'}, n_neighbors=6, score=0.40096618357487923, total=   3.1s\n",
      "[CV] metric=<function calculate_distance at 0x000002C8A5544EA0>, metric_params={'dist_type': 'cosine'}, n_neighbors=7 \n",
      "[CV]  metric=<function calculate_distance at 0x000002C8A5544EA0>, metric_params={'dist_type': 'cosine'}, n_neighbors=7, score=0.3526570048309179, total=   3.2s\n",
      "[CV] metric=<function calculate_distance at 0x000002C8A5544EA0>, metric_params={'dist_type': 'cosine'}, n_neighbors=8 \n",
      "[CV]  metric=<function calculate_distance at 0x000002C8A5544EA0>, metric_params={'dist_type': 'cosine'}, n_neighbors=8, score=0.3333333333333333, total=   3.1s\n",
      "[CV] metric=<function calculate_distance at 0x000002C8A5544EA0>, metric_params={'dist_type': 'cosine'}, n_neighbors=9 \n",
      "[CV]  metric=<function calculate_distance at 0x000002C8A5544EA0>, metric_params={'dist_type': 'cosine'}, n_neighbors=9, score=0.32367149758454106, total=   3.1s\n",
      "[CV] metric=<function calculate_distance at 0x000002C8A5544EA0>, metric_params={'dist_type': 'cosine'}, n_neighbors=10 \n",
      "[CV]  metric=<function calculate_distance at 0x000002C8A5544EA0>, metric_params={'dist_type': 'cosine'}, n_neighbors=10, score=0.3285024154589372, total=   3.2s\n",
      "8\n"
     ]
    },
    {
     "name": "stderr",
     "output_type": "stream",
     "text": [
      "[Parallel(n_jobs=1)]: Done  10 out of  10 | elapsed:  2.5min finished\n"
     ]
    },
    {
     "name": "stdout",
     "output_type": "stream",
     "text": [
      "Fitting 1 folds for each of 10 candidates, totalling 10 fits\n",
      "[CV] metric=<function calculate_distance at 0x000002C8A5544EA0>, metric_params={'dist_type': 'cosine'}, n_neighbors=1 \n",
      "[CV]  metric=<function calculate_distance at 0x000002C8A5544EA0>, metric_params={'dist_type': 'cosine'}, n_neighbors=1, score=0.463768115942029, total=   3.0s\n",
      "[CV] metric=<function calculate_distance at 0x000002C8A5544EA0>, metric_params={'dist_type': 'cosine'}, n_neighbors=2 \n"
     ]
    },
    {
     "name": "stderr",
     "output_type": "stream",
     "text": [
      "[Parallel(n_jobs=1)]: Done   1 out of   1 | elapsed:   13.5s remaining:    0.0s\n"
     ]
    },
    {
     "name": "stdout",
     "output_type": "stream",
     "text": [
      "[CV]  metric=<function calculate_distance at 0x000002C8A5544EA0>, metric_params={'dist_type': 'cosine'}, n_neighbors=2, score=0.42028985507246375, total=   3.1s\n",
      "[CV] metric=<function calculate_distance at 0x000002C8A5544EA0>, metric_params={'dist_type': 'cosine'}, n_neighbors=3 \n"
     ]
    },
    {
     "name": "stderr",
     "output_type": "stream",
     "text": [
      "[Parallel(n_jobs=1)]: Done   2 out of   2 | elapsed:   28.4s remaining:    0.0s\n"
     ]
    },
    {
     "name": "stdout",
     "output_type": "stream",
     "text": [
      "[CV]  metric=<function calculate_distance at 0x000002C8A5544EA0>, metric_params={'dist_type': 'cosine'}, n_neighbors=3, score=0.391304347826087, total=   3.1s\n",
      "[CV] metric=<function calculate_distance at 0x000002C8A5544EA0>, metric_params={'dist_type': 'cosine'}, n_neighbors=4 \n",
      "[CV]  metric=<function calculate_distance at 0x000002C8A5544EA0>, metric_params={'dist_type': 'cosine'}, n_neighbors=4, score=0.3526570048309179, total=   3.1s\n",
      "[CV] metric=<function calculate_distance at 0x000002C8A5544EA0>, metric_params={'dist_type': 'cosine'}, n_neighbors=5 \n",
      "[CV]  metric=<function calculate_distance at 0x000002C8A5544EA0>, metric_params={'dist_type': 'cosine'}, n_neighbors=5, score=0.32367149758454106, total=   3.3s\n",
      "[CV] metric=<function calculate_distance at 0x000002C8A5544EA0>, metric_params={'dist_type': 'cosine'}, n_neighbors=6 \n",
      "[CV]  metric=<function calculate_distance at 0x000002C8A5544EA0>, metric_params={'dist_type': 'cosine'}, n_neighbors=6, score=0.30917874396135264, total=   3.3s\n",
      "[CV] metric=<function calculate_distance at 0x000002C8A5544EA0>, metric_params={'dist_type': 'cosine'}, n_neighbors=7 \n",
      "[CV]  metric=<function calculate_distance at 0x000002C8A5544EA0>, metric_params={'dist_type': 'cosine'}, n_neighbors=7, score=0.3188405797101449, total=   3.1s\n",
      "[CV] metric=<function calculate_distance at 0x000002C8A5544EA0>, metric_params={'dist_type': 'cosine'}, n_neighbors=8 \n",
      "[CV]  metric=<function calculate_distance at 0x000002C8A5544EA0>, metric_params={'dist_type': 'cosine'}, n_neighbors=8, score=0.3140096618357488, total=   3.1s\n",
      "[CV] metric=<function calculate_distance at 0x000002C8A5544EA0>, metric_params={'dist_type': 'cosine'}, n_neighbors=9 \n",
      "[CV]  metric=<function calculate_distance at 0x000002C8A5544EA0>, metric_params={'dist_type': 'cosine'}, n_neighbors=9, score=0.30434782608695654, total=   3.7s\n",
      "[CV] metric=<function calculate_distance at 0x000002C8A5544EA0>, metric_params={'dist_type': 'cosine'}, n_neighbors=10 \n",
      "[CV]  metric=<function calculate_distance at 0x000002C8A5544EA0>, metric_params={'dist_type': 'cosine'}, n_neighbors=10, score=0.28019323671497587, total=   3.1s\n",
      "9\n"
     ]
    },
    {
     "name": "stderr",
     "output_type": "stream",
     "text": [
      "[Parallel(n_jobs=1)]: Done  10 out of  10 | elapsed:  2.6min finished\n"
     ]
    },
    {
     "name": "stdout",
     "output_type": "stream",
     "text": [
      "Fitting 1 folds for each of 10 candidates, totalling 10 fits\n",
      "[CV] metric=<function calculate_distance at 0x000002C8A5544EA0>, metric_params={'dist_type': 'cosine'}, n_neighbors=1 \n",
      "[CV]  metric=<function calculate_distance at 0x000002C8A5544EA0>, metric_params={'dist_type': 'cosine'}, n_neighbors=1, score=0.37681159420289856, total=   2.9s\n",
      "[CV] metric=<function calculate_distance at 0x000002C8A5544EA0>, metric_params={'dist_type': 'cosine'}, n_neighbors=2 \n"
     ]
    },
    {
     "name": "stderr",
     "output_type": "stream",
     "text": [
      "[Parallel(n_jobs=1)]: Done   1 out of   1 | elapsed:   12.8s remaining:    0.0s\n"
     ]
    },
    {
     "name": "stdout",
     "output_type": "stream",
     "text": [
      "[CV]  metric=<function calculate_distance at 0x000002C8A5544EA0>, metric_params={'dist_type': 'cosine'}, n_neighbors=2, score=0.34299516908212563, total=   2.9s\n",
      "[CV] metric=<function calculate_distance at 0x000002C8A5544EA0>, metric_params={'dist_type': 'cosine'}, n_neighbors=3 \n"
     ]
    },
    {
     "name": "stderr",
     "output_type": "stream",
     "text": [
      "[Parallel(n_jobs=1)]: Done   2 out of   2 | elapsed:   29.1s remaining:    0.0s\n"
     ]
    },
    {
     "name": "stdout",
     "output_type": "stream",
     "text": [
      "[CV]  metric=<function calculate_distance at 0x000002C8A5544EA0>, metric_params={'dist_type': 'cosine'}, n_neighbors=3, score=0.28019323671497587, total=   3.2s\n",
      "[CV] metric=<function calculate_distance at 0x000002C8A5544EA0>, metric_params={'dist_type': 'cosine'}, n_neighbors=4 \n",
      "[CV]  metric=<function calculate_distance at 0x000002C8A5544EA0>, metric_params={'dist_type': 'cosine'}, n_neighbors=4, score=0.27053140096618356, total=   3.0s\n",
      "[CV] metric=<function calculate_distance at 0x000002C8A5544EA0>, metric_params={'dist_type': 'cosine'}, n_neighbors=5 \n",
      "[CV]  metric=<function calculate_distance at 0x000002C8A5544EA0>, metric_params={'dist_type': 'cosine'}, n_neighbors=5, score=0.28019323671497587, total=   3.3s\n",
      "[CV] metric=<function calculate_distance at 0x000002C8A5544EA0>, metric_params={'dist_type': 'cosine'}, n_neighbors=6 \n",
      "[CV]  metric=<function calculate_distance at 0x000002C8A5544EA0>, metric_params={'dist_type': 'cosine'}, n_neighbors=6, score=0.2560386473429952, total=   3.1s\n",
      "[CV] metric=<function calculate_distance at 0x000002C8A5544EA0>, metric_params={'dist_type': 'cosine'}, n_neighbors=7 \n",
      "[CV]  metric=<function calculate_distance at 0x000002C8A5544EA0>, metric_params={'dist_type': 'cosine'}, n_neighbors=7, score=0.24154589371980675, total=   3.3s\n",
      "[CV] metric=<function calculate_distance at 0x000002C8A5544EA0>, metric_params={'dist_type': 'cosine'}, n_neighbors=8 \n",
      "[CV]  metric=<function calculate_distance at 0x000002C8A5544EA0>, metric_params={'dist_type': 'cosine'}, n_neighbors=8, score=0.25120772946859904, total=   3.0s\n",
      "[CV] metric=<function calculate_distance at 0x000002C8A5544EA0>, metric_params={'dist_type': 'cosine'}, n_neighbors=9 \n",
      "[CV]  metric=<function calculate_distance at 0x000002C8A5544EA0>, metric_params={'dist_type': 'cosine'}, n_neighbors=9, score=0.2560386473429952, total=   2.9s\n",
      "[CV] metric=<function calculate_distance at 0x000002C8A5544EA0>, metric_params={'dist_type': 'cosine'}, n_neighbors=10 \n",
      "[CV]  metric=<function calculate_distance at 0x000002C8A5544EA0>, metric_params={'dist_type': 'cosine'}, n_neighbors=10, score=0.24154589371980675, total=   3.0s\n",
      "10\n"
     ]
    },
    {
     "name": "stderr",
     "output_type": "stream",
     "text": [
      "[Parallel(n_jobs=1)]: Done  10 out of  10 | elapsed:  2.5min finished\n"
     ]
    },
    {
     "name": "stdout",
     "output_type": "stream",
     "text": [
      "Fitting 1 folds for each of 10 candidates, totalling 10 fits\n",
      "[CV] metric=<function calculate_distance at 0x000002C8A5544EA0>, metric_params={'dist_type': 'cosine'}, n_neighbors=1 \n",
      "[CV]  metric=<function calculate_distance at 0x000002C8A5544EA0>, metric_params={'dist_type': 'cosine'}, n_neighbors=1, score=0.34299516908212563, total=   2.7s\n",
      "[CV] metric=<function calculate_distance at 0x000002C8A5544EA0>, metric_params={'dist_type': 'cosine'}, n_neighbors=2 \n"
     ]
    },
    {
     "name": "stderr",
     "output_type": "stream",
     "text": [
      "[Parallel(n_jobs=1)]: Done   1 out of   1 | elapsed:   12.9s remaining:    0.0s\n"
     ]
    },
    {
     "name": "stdout",
     "output_type": "stream",
     "text": [
      "[CV]  metric=<function calculate_distance at 0x000002C8A5544EA0>, metric_params={'dist_type': 'cosine'}, n_neighbors=2, score=0.28502415458937197, total=   3.7s\n",
      "[CV] metric=<function calculate_distance at 0x000002C8A5544EA0>, metric_params={'dist_type': 'cosine'}, n_neighbors=3 \n"
     ]
    },
    {
     "name": "stderr",
     "output_type": "stream",
     "text": [
      "[Parallel(n_jobs=1)]: Done   2 out of   2 | elapsed:   28.1s remaining:    0.0s\n"
     ]
    },
    {
     "name": "stdout",
     "output_type": "stream",
     "text": [
      "[CV]  metric=<function calculate_distance at 0x000002C8A5544EA0>, metric_params={'dist_type': 'cosine'}, n_neighbors=3, score=0.26570048309178745, total=   2.7s\n",
      "[CV] metric=<function calculate_distance at 0x000002C8A5544EA0>, metric_params={'dist_type': 'cosine'}, n_neighbors=4 \n",
      "[CV]  metric=<function calculate_distance at 0x000002C8A5544EA0>, metric_params={'dist_type': 'cosine'}, n_neighbors=4, score=0.27053140096618356, total=   2.9s\n",
      "[CV] metric=<function calculate_distance at 0x000002C8A5544EA0>, metric_params={'dist_type': 'cosine'}, n_neighbors=5 \n",
      "[CV]  metric=<function calculate_distance at 0x000002C8A5544EA0>, metric_params={'dist_type': 'cosine'}, n_neighbors=5, score=0.26570048309178745, total=   2.9s\n",
      "[CV] metric=<function calculate_distance at 0x000002C8A5544EA0>, metric_params={'dist_type': 'cosine'}, n_neighbors=6 \n",
      "[CV]  metric=<function calculate_distance at 0x000002C8A5544EA0>, metric_params={'dist_type': 'cosine'}, n_neighbors=6, score=0.2560386473429952, total=   2.8s\n",
      "[CV] metric=<function calculate_distance at 0x000002C8A5544EA0>, metric_params={'dist_type': 'cosine'}, n_neighbors=7 \n",
      "[CV]  metric=<function calculate_distance at 0x000002C8A5544EA0>, metric_params={'dist_type': 'cosine'}, n_neighbors=7, score=0.2560386473429952, total=   2.8s\n",
      "[CV] metric=<function calculate_distance at 0x000002C8A5544EA0>, metric_params={'dist_type': 'cosine'}, n_neighbors=8 \n",
      "[CV]  metric=<function calculate_distance at 0x000002C8A5544EA0>, metric_params={'dist_type': 'cosine'}, n_neighbors=8, score=0.24154589371980675, total=   2.8s\n",
      "[CV] metric=<function calculate_distance at 0x000002C8A5544EA0>, metric_params={'dist_type': 'cosine'}, n_neighbors=9 \n",
      "[CV]  metric=<function calculate_distance at 0x000002C8A5544EA0>, metric_params={'dist_type': 'cosine'}, n_neighbors=9, score=0.2463768115942029, total=   2.8s\n",
      "[CV] metric=<function calculate_distance at 0x000002C8A5544EA0>, metric_params={'dist_type': 'cosine'}, n_neighbors=10 \n",
      "[CV]  metric=<function calculate_distance at 0x000002C8A5544EA0>, metric_params={'dist_type': 'cosine'}, n_neighbors=10, score=0.25120772946859904, total=   2.8s\n",
      "11\n"
     ]
    },
    {
     "name": "stderr",
     "output_type": "stream",
     "text": [
      "[Parallel(n_jobs=1)]: Done  10 out of  10 | elapsed:  2.3min finished\n"
     ]
    },
    {
     "name": "stdout",
     "output_type": "stream",
     "text": [
      "Fitting 1 folds for each of 10 candidates, totalling 10 fits\n",
      "[CV] metric=<function calculate_distance at 0x000002C8A5544EA0>, metric_params={'dist_type': 'cosine'}, n_neighbors=1 \n",
      "[CV]  metric=<function calculate_distance at 0x000002C8A5544EA0>, metric_params={'dist_type': 'cosine'}, n_neighbors=1, score=0.2898550724637681, total=   2.6s\n",
      "[CV] metric=<function calculate_distance at 0x000002C8A5544EA0>, metric_params={'dist_type': 'cosine'}, n_neighbors=2 \n"
     ]
    },
    {
     "name": "stderr",
     "output_type": "stream",
     "text": [
      "[Parallel(n_jobs=1)]: Done   1 out of   1 | elapsed:   11.7s remaining:    0.0s\n"
     ]
    },
    {
     "name": "stdout",
     "output_type": "stream",
     "text": [
      "[CV]  metric=<function calculate_distance at 0x000002C8A5544EA0>, metric_params={'dist_type': 'cosine'}, n_neighbors=2, score=0.26570048309178745, total=   2.8s\n",
      "[CV] metric=<function calculate_distance at 0x000002C8A5544EA0>, metric_params={'dist_type': 'cosine'}, n_neighbors=3 \n"
     ]
    },
    {
     "name": "stderr",
     "output_type": "stream",
     "text": [
      "[Parallel(n_jobs=1)]: Done   2 out of   2 | elapsed:   24.9s remaining:    0.0s\n"
     ]
    },
    {
     "name": "stdout",
     "output_type": "stream",
     "text": [
      "[CV]  metric=<function calculate_distance at 0x000002C8A5544EA0>, metric_params={'dist_type': 'cosine'}, n_neighbors=3, score=0.2560386473429952, total=   2.7s\n",
      "[CV] metric=<function calculate_distance at 0x000002C8A5544EA0>, metric_params={'dist_type': 'cosine'}, n_neighbors=4 \n",
      "[CV]  metric=<function calculate_distance at 0x000002C8A5544EA0>, metric_params={'dist_type': 'cosine'}, n_neighbors=4, score=0.23671497584541062, total=   2.7s\n",
      "[CV] metric=<function calculate_distance at 0x000002C8A5544EA0>, metric_params={'dist_type': 'cosine'}, n_neighbors=5 \n",
      "[CV]  metric=<function calculate_distance at 0x000002C8A5544EA0>, metric_params={'dist_type': 'cosine'}, n_neighbors=5, score=0.2318840579710145, total=   2.7s\n",
      "[CV] metric=<function calculate_distance at 0x000002C8A5544EA0>, metric_params={'dist_type': 'cosine'}, n_neighbors=6 \n",
      "[CV]  metric=<function calculate_distance at 0x000002C8A5544EA0>, metric_params={'dist_type': 'cosine'}, n_neighbors=6, score=0.21256038647342995, total=   3.1s\n",
      "[CV] metric=<function calculate_distance at 0x000002C8A5544EA0>, metric_params={'dist_type': 'cosine'}, n_neighbors=7 \n",
      "[CV]  metric=<function calculate_distance at 0x000002C8A5544EA0>, metric_params={'dist_type': 'cosine'}, n_neighbors=7, score=0.21739130434782608, total=   2.7s\n",
      "[CV] metric=<function calculate_distance at 0x000002C8A5544EA0>, metric_params={'dist_type': 'cosine'}, n_neighbors=8 \n",
      "[CV]  metric=<function calculate_distance at 0x000002C8A5544EA0>, metric_params={'dist_type': 'cosine'}, n_neighbors=8, score=0.2318840579710145, total=   2.4s\n",
      "[CV] metric=<function calculate_distance at 0x000002C8A5544EA0>, metric_params={'dist_type': 'cosine'}, n_neighbors=9 \n",
      "[CV]  metric=<function calculate_distance at 0x000002C8A5544EA0>, metric_params={'dist_type': 'cosine'}, n_neighbors=9, score=0.2222222222222222, total=   2.8s\n",
      "[CV] metric=<function calculate_distance at 0x000002C8A5544EA0>, metric_params={'dist_type': 'cosine'}, n_neighbors=10 \n",
      "[CV]  metric=<function calculate_distance at 0x000002C8A5544EA0>, metric_params={'dist_type': 'cosine'}, n_neighbors=10, score=0.21739130434782608, total=   2.8s\n",
      "12\n"
     ]
    },
    {
     "name": "stderr",
     "output_type": "stream",
     "text": [
      "[Parallel(n_jobs=1)]: Done  10 out of  10 | elapsed:  2.3min finished\n"
     ]
    },
    {
     "name": "stdout",
     "output_type": "stream",
     "text": [
      "Fitting 1 folds for each of 10 candidates, totalling 10 fits\n",
      "[CV] metric=<function calculate_distance at 0x000002C8A5544EA0>, metric_params={'dist_type': 'cosine'}, n_neighbors=1 \n",
      "[CV]  metric=<function calculate_distance at 0x000002C8A5544EA0>, metric_params={'dist_type': 'cosine'}, n_neighbors=1, score=0.3285024154589372, total=   2.7s\n",
      "[CV] metric=<function calculate_distance at 0x000002C8A5544EA0>, metric_params={'dist_type': 'cosine'}, n_neighbors=2 \n"
     ]
    },
    {
     "name": "stderr",
     "output_type": "stream",
     "text": [
      "[Parallel(n_jobs=1)]: Done   1 out of   1 | elapsed:   12.2s remaining:    0.0s\n"
     ]
    },
    {
     "name": "stdout",
     "output_type": "stream",
     "text": [
      "[CV]  metric=<function calculate_distance at 0x000002C8A5544EA0>, metric_params={'dist_type': 'cosine'}, n_neighbors=2, score=0.30434782608695654, total=   2.8s\n",
      "[CV] metric=<function calculate_distance at 0x000002C8A5544EA0>, metric_params={'dist_type': 'cosine'}, n_neighbors=3 \n"
     ]
    },
    {
     "name": "stderr",
     "output_type": "stream",
     "text": [
      "[Parallel(n_jobs=1)]: Done   2 out of   2 | elapsed:   25.6s remaining:    0.0s\n"
     ]
    },
    {
     "name": "stdout",
     "output_type": "stream",
     "text": [
      "[CV]  metric=<function calculate_distance at 0x000002C8A5544EA0>, metric_params={'dist_type': 'cosine'}, n_neighbors=3, score=0.28019323671497587, total=   2.7s\n",
      "[CV] metric=<function calculate_distance at 0x000002C8A5544EA0>, metric_params={'dist_type': 'cosine'}, n_neighbors=4 \n",
      "[CV]  metric=<function calculate_distance at 0x000002C8A5544EA0>, metric_params={'dist_type': 'cosine'}, n_neighbors=4, score=0.27053140096618356, total=   2.7s\n",
      "[CV] metric=<function calculate_distance at 0x000002C8A5544EA0>, metric_params={'dist_type': 'cosine'}, n_neighbors=5 \n",
      "[CV]  metric=<function calculate_distance at 0x000002C8A5544EA0>, metric_params={'dist_type': 'cosine'}, n_neighbors=5, score=0.28502415458937197, total=   2.9s\n",
      "[CV] metric=<function calculate_distance at 0x000002C8A5544EA0>, metric_params={'dist_type': 'cosine'}, n_neighbors=6 \n",
      "[CV]  metric=<function calculate_distance at 0x000002C8A5544EA0>, metric_params={'dist_type': 'cosine'}, n_neighbors=6, score=0.28019323671497587, total=   2.9s\n",
      "[CV] metric=<function calculate_distance at 0x000002C8A5544EA0>, metric_params={'dist_type': 'cosine'}, n_neighbors=7 \n",
      "[CV]  metric=<function calculate_distance at 0x000002C8A5544EA0>, metric_params={'dist_type': 'cosine'}, n_neighbors=7, score=0.2995169082125604, total=   2.9s\n",
      "[CV] metric=<function calculate_distance at 0x000002C8A5544EA0>, metric_params={'dist_type': 'cosine'}, n_neighbors=8 \n",
      "[CV]  metric=<function calculate_distance at 0x000002C8A5544EA0>, metric_params={'dist_type': 'cosine'}, n_neighbors=8, score=0.28502415458937197, total=   3.0s\n",
      "[CV] metric=<function calculate_distance at 0x000002C8A5544EA0>, metric_params={'dist_type': 'cosine'}, n_neighbors=9 \n",
      "[CV]  metric=<function calculate_distance at 0x000002C8A5544EA0>, metric_params={'dist_type': 'cosine'}, n_neighbors=9, score=0.2608695652173913, total=   3.0s\n",
      "[CV] metric=<function calculate_distance at 0x000002C8A5544EA0>, metric_params={'dist_type': 'cosine'}, n_neighbors=10 \n",
      "[CV]  metric=<function calculate_distance at 0x000002C8A5544EA0>, metric_params={'dist_type': 'cosine'}, n_neighbors=10, score=0.2560386473429952, total=   3.1s\n"
     ]
    },
    {
     "name": "stderr",
     "output_type": "stream",
     "text": [
      "[Parallel(n_jobs=1)]: Done  10 out of  10 | elapsed:  2.4min finished\n"
     ]
    }
   ],
   "source": [
    "for nr in frame_numbers:\n",
    "    print(nr)\n",
    "    try:\n",
    "        acc_train_input, acc_train_label = prepare_data(train, nr, 'accelerometer', verbose=False)\n",
    "        acc_valid_input, acc_valid_label = prepare_data(valid, nr, 'accelerometer', verbose=False)\n",
    "\n",
    "        kNN = GridSearchCV(KNeighborsClassifier(), parameters, cv=cross_valid, scoring='accuracy', n_jobs=parallel_jobs,\n",
    "                           verbose=verbose_level).fit(np.append(acc_train_input, acc_valid_input, axis=0),\n",
    "                                                      np.append(acc_train_label, acc_valid_label))\n",
    "        result = (kNN.best_score_, nr, kNN.best_params_)\n",
    "        \n",
    "        if result[0] > cosine_acc[0]:\n",
    "            cosine_acc = result\n",
    "        \n",
    "    except ValueError as err:\n",
    "        pass"
   ]
  },
  {
   "cell_type": "markdown",
   "metadata": {},
   "source": [
    "### Gyroskop"
   ]
  },
  {
   "cell_type": "code",
   "execution_count": 22,
   "metadata": {
    "scrolled": true
   },
   "outputs": [
    {
     "name": "stdout",
     "output_type": "stream",
     "text": [
      "1\n",
      "Fitting 1 folds for each of 10 candidates, totalling 10 fits\n",
      "[CV] metric=<function calculate_distance at 0x000002C8A5544EA0>, metric_params={'dist_type': 'cosine'}, n_neighbors=1 \n",
      "[CV]  metric=<function calculate_distance at 0x000002C8A5544EA0>, metric_params={'dist_type': 'cosine'}, n_neighbors=1, score=0.22596153846153846, total=   1.6s\n",
      "[CV] metric=<function calculate_distance at 0x000002C8A5544EA0>, metric_params={'dist_type': 'cosine'}, n_neighbors=2 \n"
     ]
    },
    {
     "name": "stderr",
     "output_type": "stream",
     "text": [
      "[Parallel(n_jobs=1)]: Done   1 out of   1 | elapsed:    7.2s remaining:    0.0s\n"
     ]
    },
    {
     "name": "stdout",
     "output_type": "stream",
     "text": [
      "[CV]  metric=<function calculate_distance at 0x000002C8A5544EA0>, metric_params={'dist_type': 'cosine'}, n_neighbors=2, score=0.22115384615384615, total=   2.0s\n",
      "[CV] metric=<function calculate_distance at 0x000002C8A5544EA0>, metric_params={'dist_type': 'cosine'}, n_neighbors=3 \n"
     ]
    },
    {
     "name": "stderr",
     "output_type": "stream",
     "text": [
      "[Parallel(n_jobs=1)]: Done   2 out of   2 | elapsed:   16.6s remaining:    0.0s\n"
     ]
    },
    {
     "name": "stdout",
     "output_type": "stream",
     "text": [
      "[CV]  metric=<function calculate_distance at 0x000002C8A5544EA0>, metric_params={'dist_type': 'cosine'}, n_neighbors=3, score=0.22115384615384615, total=   1.7s\n",
      "[CV] metric=<function calculate_distance at 0x000002C8A5544EA0>, metric_params={'dist_type': 'cosine'}, n_neighbors=4 \n",
      "[CV]  metric=<function calculate_distance at 0x000002C8A5544EA0>, metric_params={'dist_type': 'cosine'}, n_neighbors=4, score=0.24519230769230768, total=   1.7s\n",
      "[CV] metric=<function calculate_distance at 0x000002C8A5544EA0>, metric_params={'dist_type': 'cosine'}, n_neighbors=5 \n",
      "[CV]  metric=<function calculate_distance at 0x000002C8A5544EA0>, metric_params={'dist_type': 'cosine'}, n_neighbors=5, score=0.2548076923076923, total=   1.8s\n",
      "[CV] metric=<function calculate_distance at 0x000002C8A5544EA0>, metric_params={'dist_type': 'cosine'}, n_neighbors=6 \n",
      "[CV]  metric=<function calculate_distance at 0x000002C8A5544EA0>, metric_params={'dist_type': 'cosine'}, n_neighbors=6, score=0.25, total=   1.7s\n",
      "[CV] metric=<function calculate_distance at 0x000002C8A5544EA0>, metric_params={'dist_type': 'cosine'}, n_neighbors=7 \n",
      "[CV]  metric=<function calculate_distance at 0x000002C8A5544EA0>, metric_params={'dist_type': 'cosine'}, n_neighbors=7, score=0.2403846153846154, total=   1.7s\n",
      "[CV] metric=<function calculate_distance at 0x000002C8A5544EA0>, metric_params={'dist_type': 'cosine'}, n_neighbors=8 \n",
      "[CV]  metric=<function calculate_distance at 0x000002C8A5544EA0>, metric_params={'dist_type': 'cosine'}, n_neighbors=8, score=0.2403846153846154, total=   1.7s\n",
      "[CV] metric=<function calculate_distance at 0x000002C8A5544EA0>, metric_params={'dist_type': 'cosine'}, n_neighbors=9 \n",
      "[CV]  metric=<function calculate_distance at 0x000002C8A5544EA0>, metric_params={'dist_type': 'cosine'}, n_neighbors=9, score=0.2548076923076923, total=   1.8s\n",
      "[CV] metric=<function calculate_distance at 0x000002C8A5544EA0>, metric_params={'dist_type': 'cosine'}, n_neighbors=10 \n",
      "[CV]  metric=<function calculate_distance at 0x000002C8A5544EA0>, metric_params={'dist_type': 'cosine'}, n_neighbors=10, score=0.2548076923076923, total=   2.1s\n",
      "2\n"
     ]
    },
    {
     "name": "stderr",
     "output_type": "stream",
     "text": [
      "[Parallel(n_jobs=1)]: Done  10 out of  10 | elapsed:  1.5min finished\n"
     ]
    },
    {
     "name": "stdout",
     "output_type": "stream",
     "text": [
      "Fitting 1 folds for each of 10 candidates, totalling 10 fits\n",
      "[CV] metric=<function calculate_distance at 0x000002C8A5544EA0>, metric_params={'dist_type': 'cosine'}, n_neighbors=1 \n",
      "[CV]  metric=<function calculate_distance at 0x000002C8A5544EA0>, metric_params={'dist_type': 'cosine'}, n_neighbors=1, score=0.3671497584541063, total=   1.5s\n",
      "[CV] metric=<function calculate_distance at 0x000002C8A5544EA0>, metric_params={'dist_type': 'cosine'}, n_neighbors=2 \n"
     ]
    },
    {
     "name": "stderr",
     "output_type": "stream",
     "text": [
      "[Parallel(n_jobs=1)]: Done   1 out of   1 | elapsed:    6.8s remaining:    0.0s\n"
     ]
    },
    {
     "name": "stdout",
     "output_type": "stream",
     "text": [
      "[CV]  metric=<function calculate_distance at 0x000002C8A5544EA0>, metric_params={'dist_type': 'cosine'}, n_neighbors=2, score=0.34299516908212563, total=   1.4s\n",
      "[CV] metric=<function calculate_distance at 0x000002C8A5544EA0>, metric_params={'dist_type': 'cosine'}, n_neighbors=3 \n"
     ]
    },
    {
     "name": "stderr",
     "output_type": "stream",
     "text": [
      "[Parallel(n_jobs=1)]: Done   2 out of   2 | elapsed:   14.1s remaining:    0.0s\n"
     ]
    },
    {
     "name": "stdout",
     "output_type": "stream",
     "text": [
      "[CV]  metric=<function calculate_distance at 0x000002C8A5544EA0>, metric_params={'dist_type': 'cosine'}, n_neighbors=3, score=0.3333333333333333, total=   1.5s\n",
      "[CV] metric=<function calculate_distance at 0x000002C8A5544EA0>, metric_params={'dist_type': 'cosine'}, n_neighbors=4 \n",
      "[CV]  metric=<function calculate_distance at 0x000002C8A5544EA0>, metric_params={'dist_type': 'cosine'}, n_neighbors=4, score=0.32367149758454106, total=   1.5s\n",
      "[CV] metric=<function calculate_distance at 0x000002C8A5544EA0>, metric_params={'dist_type': 'cosine'}, n_neighbors=5 \n",
      "[CV]  metric=<function calculate_distance at 0x000002C8A5544EA0>, metric_params={'dist_type': 'cosine'}, n_neighbors=5, score=0.3333333333333333, total=   1.5s\n",
      "[CV] metric=<function calculate_distance at 0x000002C8A5544EA0>, metric_params={'dist_type': 'cosine'}, n_neighbors=6 \n",
      "[CV]  metric=<function calculate_distance at 0x000002C8A5544EA0>, metric_params={'dist_type': 'cosine'}, n_neighbors=6, score=0.36231884057971014, total=   1.6s\n",
      "[CV] metric=<function calculate_distance at 0x000002C8A5544EA0>, metric_params={'dist_type': 'cosine'}, n_neighbors=7 \n",
      "[CV]  metric=<function calculate_distance at 0x000002C8A5544EA0>, metric_params={'dist_type': 'cosine'}, n_neighbors=7, score=0.3526570048309179, total=   1.9s\n",
      "[CV] metric=<function calculate_distance at 0x000002C8A5544EA0>, metric_params={'dist_type': 'cosine'}, n_neighbors=8 \n",
      "[CV]  metric=<function calculate_distance at 0x000002C8A5544EA0>, metric_params={'dist_type': 'cosine'}, n_neighbors=8, score=0.34299516908212563, total=   1.7s\n",
      "[CV] metric=<function calculate_distance at 0x000002C8A5544EA0>, metric_params={'dist_type': 'cosine'}, n_neighbors=9 \n",
      "[CV]  metric=<function calculate_distance at 0x000002C8A5544EA0>, metric_params={'dist_type': 'cosine'}, n_neighbors=9, score=0.3526570048309179, total=   1.7s\n",
      "[CV] metric=<function calculate_distance at 0x000002C8A5544EA0>, metric_params={'dist_type': 'cosine'}, n_neighbors=10 \n",
      "[CV]  metric=<function calculate_distance at 0x000002C8A5544EA0>, metric_params={'dist_type': 'cosine'}, n_neighbors=10, score=0.33816425120772947, total=   1.5s\n",
      "3\n"
     ]
    },
    {
     "name": "stderr",
     "output_type": "stream",
     "text": [
      "[Parallel(n_jobs=1)]: Done  10 out of  10 | elapsed:  1.3min finished\n"
     ]
    },
    {
     "name": "stdout",
     "output_type": "stream",
     "text": [
      "Fitting 1 folds for each of 10 candidates, totalling 10 fits\n",
      "[CV] metric=<function calculate_distance at 0x000002C8A5544EA0>, metric_params={'dist_type': 'cosine'}, n_neighbors=1 \n",
      "[CV]  metric=<function calculate_distance at 0x000002C8A5544EA0>, metric_params={'dist_type': 'cosine'}, n_neighbors=1, score=0.43478260869565216, total=   1.9s\n",
      "[CV] metric=<function calculate_distance at 0x000002C8A5544EA0>, metric_params={'dist_type': 'cosine'}, n_neighbors=2 \n"
     ]
    },
    {
     "name": "stderr",
     "output_type": "stream",
     "text": [
      "[Parallel(n_jobs=1)]: Done   1 out of   1 | elapsed:    8.4s remaining:    0.0s\n"
     ]
    },
    {
     "name": "stdout",
     "output_type": "stream",
     "text": [
      "[CV]  metric=<function calculate_distance at 0x000002C8A5544EA0>, metric_params={'dist_type': 'cosine'}, n_neighbors=2, score=0.40096618357487923, total=   1.9s\n",
      "[CV] metric=<function calculate_distance at 0x000002C8A5544EA0>, metric_params={'dist_type': 'cosine'}, n_neighbors=3 \n"
     ]
    },
    {
     "name": "stderr",
     "output_type": "stream",
     "text": [
      "[Parallel(n_jobs=1)]: Done   2 out of   2 | elapsed:   17.7s remaining:    0.0s\n"
     ]
    },
    {
     "name": "stdout",
     "output_type": "stream",
     "text": [
      "[CV]  metric=<function calculate_distance at 0x000002C8A5544EA0>, metric_params={'dist_type': 'cosine'}, n_neighbors=3, score=0.34299516908212563, total=   2.0s\n",
      "[CV] metric=<function calculate_distance at 0x000002C8A5544EA0>, metric_params={'dist_type': 'cosine'}, n_neighbors=4 \n",
      "[CV]  metric=<function calculate_distance at 0x000002C8A5544EA0>, metric_params={'dist_type': 'cosine'}, n_neighbors=4, score=0.3285024154589372, total=   1.9s\n",
      "[CV] metric=<function calculate_distance at 0x000002C8A5544EA0>, metric_params={'dist_type': 'cosine'}, n_neighbors=5 \n",
      "[CV]  metric=<function calculate_distance at 0x000002C8A5544EA0>, metric_params={'dist_type': 'cosine'}, n_neighbors=5, score=0.3526570048309179, total=   2.1s\n",
      "[CV] metric=<function calculate_distance at 0x000002C8A5544EA0>, metric_params={'dist_type': 'cosine'}, n_neighbors=6 \n",
      "[CV]  metric=<function calculate_distance at 0x000002C8A5544EA0>, metric_params={'dist_type': 'cosine'}, n_neighbors=6, score=0.36231884057971014, total=   2.0s\n",
      "[CV] metric=<function calculate_distance at 0x000002C8A5544EA0>, metric_params={'dist_type': 'cosine'}, n_neighbors=7 \n",
      "[CV]  metric=<function calculate_distance at 0x000002C8A5544EA0>, metric_params={'dist_type': 'cosine'}, n_neighbors=7, score=0.3526570048309179, total=   1.9s\n",
      "[CV] metric=<function calculate_distance at 0x000002C8A5544EA0>, metric_params={'dist_type': 'cosine'}, n_neighbors=8 \n",
      "[CV]  metric=<function calculate_distance at 0x000002C8A5544EA0>, metric_params={'dist_type': 'cosine'}, n_neighbors=8, score=0.37681159420289856, total=   2.0s\n",
      "[CV] metric=<function calculate_distance at 0x000002C8A5544EA0>, metric_params={'dist_type': 'cosine'}, n_neighbors=9 \n",
      "[CV]  metric=<function calculate_distance at 0x000002C8A5544EA0>, metric_params={'dist_type': 'cosine'}, n_neighbors=9, score=0.357487922705314, total=   2.0s\n",
      "[CV] metric=<function calculate_distance at 0x000002C8A5544EA0>, metric_params={'dist_type': 'cosine'}, n_neighbors=10 \n",
      "[CV]  metric=<function calculate_distance at 0x000002C8A5544EA0>, metric_params={'dist_type': 'cosine'}, n_neighbors=10, score=0.3333333333333333, total=   2.0s\n",
      "4\n"
     ]
    },
    {
     "name": "stderr",
     "output_type": "stream",
     "text": [
      "[Parallel(n_jobs=1)]: Done  10 out of  10 | elapsed:  1.6min finished\n"
     ]
    },
    {
     "name": "stdout",
     "output_type": "stream",
     "text": [
      "Fitting 1 folds for each of 10 candidates, totalling 10 fits\n",
      "[CV] metric=<function calculate_distance at 0x000002C8A5544EA0>, metric_params={'dist_type': 'cosine'}, n_neighbors=1 \n",
      "[CV]  metric=<function calculate_distance at 0x000002C8A5544EA0>, metric_params={'dist_type': 'cosine'}, n_neighbors=1, score=0.4975845410628019, total=   2.0s\n",
      "[CV] metric=<function calculate_distance at 0x000002C8A5544EA0>, metric_params={'dist_type': 'cosine'}, n_neighbors=2 \n"
     ]
    },
    {
     "name": "stderr",
     "output_type": "stream",
     "text": [
      "[Parallel(n_jobs=1)]: Done   1 out of   1 | elapsed:    9.2s remaining:    0.0s\n"
     ]
    },
    {
     "name": "stdout",
     "output_type": "stream",
     "text": [
      "[CV]  metric=<function calculate_distance at 0x000002C8A5544EA0>, metric_params={'dist_type': 'cosine'}, n_neighbors=2, score=0.4444444444444444, total=   2.1s\n",
      "[CV] metric=<function calculate_distance at 0x000002C8A5544EA0>, metric_params={'dist_type': 'cosine'}, n_neighbors=3 \n"
     ]
    },
    {
     "name": "stderr",
     "output_type": "stream",
     "text": [
      "[Parallel(n_jobs=1)]: Done   2 out of   2 | elapsed:   19.4s remaining:    0.0s\n"
     ]
    },
    {
     "name": "stdout",
     "output_type": "stream",
     "text": [
      "[CV]  metric=<function calculate_distance at 0x000002C8A5544EA0>, metric_params={'dist_type': 'cosine'}, n_neighbors=3, score=0.41545893719806765, total=   2.1s\n",
      "[CV] metric=<function calculate_distance at 0x000002C8A5544EA0>, metric_params={'dist_type': 'cosine'}, n_neighbors=4 \n",
      "[CV]  metric=<function calculate_distance at 0x000002C8A5544EA0>, metric_params={'dist_type': 'cosine'}, n_neighbors=4, score=0.45410628019323673, total=   2.1s\n",
      "[CV] metric=<function calculate_distance at 0x000002C8A5544EA0>, metric_params={'dist_type': 'cosine'}, n_neighbors=5 \n",
      "[CV]  metric=<function calculate_distance at 0x000002C8A5544EA0>, metric_params={'dist_type': 'cosine'}, n_neighbors=5, score=0.4057971014492754, total=   2.1s\n",
      "[CV] metric=<function calculate_distance at 0x000002C8A5544EA0>, metric_params={'dist_type': 'cosine'}, n_neighbors=6 \n",
      "[CV]  metric=<function calculate_distance at 0x000002C8A5544EA0>, metric_params={'dist_type': 'cosine'}, n_neighbors=6, score=0.4057971014492754, total=   2.1s\n",
      "[CV] metric=<function calculate_distance at 0x000002C8A5544EA0>, metric_params={'dist_type': 'cosine'}, n_neighbors=7 \n",
      "[CV]  metric=<function calculate_distance at 0x000002C8A5544EA0>, metric_params={'dist_type': 'cosine'}, n_neighbors=7, score=0.4057971014492754, total=   2.2s\n",
      "[CV] metric=<function calculate_distance at 0x000002C8A5544EA0>, metric_params={'dist_type': 'cosine'}, n_neighbors=8 \n",
      "[CV]  metric=<function calculate_distance at 0x000002C8A5544EA0>, metric_params={'dist_type': 'cosine'}, n_neighbors=8, score=0.3719806763285024, total=   2.2s\n",
      "[CV] metric=<function calculate_distance at 0x000002C8A5544EA0>, metric_params={'dist_type': 'cosine'}, n_neighbors=9 \n",
      "[CV]  metric=<function calculate_distance at 0x000002C8A5544EA0>, metric_params={'dist_type': 'cosine'}, n_neighbors=9, score=0.3526570048309179, total=   2.2s\n",
      "[CV] metric=<function calculate_distance at 0x000002C8A5544EA0>, metric_params={'dist_type': 'cosine'}, n_neighbors=10 \n",
      "[CV]  metric=<function calculate_distance at 0x000002C8A5544EA0>, metric_params={'dist_type': 'cosine'}, n_neighbors=10, score=0.33816425120772947, total=   2.8s\n",
      "5\n"
     ]
    },
    {
     "name": "stderr",
     "output_type": "stream",
     "text": [
      "[Parallel(n_jobs=1)]: Done  10 out of  10 | elapsed:  1.8min finished\n"
     ]
    },
    {
     "name": "stdout",
     "output_type": "stream",
     "text": [
      "Fitting 1 folds for each of 10 candidates, totalling 10 fits\n",
      "[CV] metric=<function calculate_distance at 0x000002C8A5544EA0>, metric_params={'dist_type': 'cosine'}, n_neighbors=1 \n",
      "[CV]  metric=<function calculate_distance at 0x000002C8A5544EA0>, metric_params={'dist_type': 'cosine'}, n_neighbors=1, score=0.45410628019323673, total=   2.6s\n",
      "[CV] metric=<function calculate_distance at 0x000002C8A5544EA0>, metric_params={'dist_type': 'cosine'}, n_neighbors=2 \n"
     ]
    },
    {
     "name": "stderr",
     "output_type": "stream",
     "text": [
      "[Parallel(n_jobs=1)]: Done   1 out of   1 | elapsed:   13.1s remaining:    0.0s\n"
     ]
    },
    {
     "name": "stdout",
     "output_type": "stream",
     "text": [
      "[CV]  metric=<function calculate_distance at 0x000002C8A5544EA0>, metric_params={'dist_type': 'cosine'}, n_neighbors=2, score=0.4396135265700483, total=   3.0s\n",
      "[CV] metric=<function calculate_distance at 0x000002C8A5544EA0>, metric_params={'dist_type': 'cosine'}, n_neighbors=3 \n"
     ]
    },
    {
     "name": "stderr",
     "output_type": "stream",
     "text": [
      "[Parallel(n_jobs=1)]: Done   2 out of   2 | elapsed:   26.0s remaining:    0.0s\n"
     ]
    },
    {
     "name": "stdout",
     "output_type": "stream",
     "text": [
      "[CV]  metric=<function calculate_distance at 0x000002C8A5544EA0>, metric_params={'dist_type': 'cosine'}, n_neighbors=3, score=0.3864734299516908, total=   2.5s\n",
      "[CV] metric=<function calculate_distance at 0x000002C8A5544EA0>, metric_params={'dist_type': 'cosine'}, n_neighbors=4 \n",
      "[CV]  metric=<function calculate_distance at 0x000002C8A5544EA0>, metric_params={'dist_type': 'cosine'}, n_neighbors=4, score=0.3864734299516908, total=   2.5s\n",
      "[CV] metric=<function calculate_distance at 0x000002C8A5544EA0>, metric_params={'dist_type': 'cosine'}, n_neighbors=5 \n",
      "[CV]  metric=<function calculate_distance at 0x000002C8A5544EA0>, metric_params={'dist_type': 'cosine'}, n_neighbors=5, score=0.3671497584541063, total=   2.6s\n",
      "[CV] metric=<function calculate_distance at 0x000002C8A5544EA0>, metric_params={'dist_type': 'cosine'}, n_neighbors=6 \n",
      "[CV]  metric=<function calculate_distance at 0x000002C8A5544EA0>, metric_params={'dist_type': 'cosine'}, n_neighbors=6, score=0.36231884057971014, total=   2.5s\n",
      "[CV] metric=<function calculate_distance at 0x000002C8A5544EA0>, metric_params={'dist_type': 'cosine'}, n_neighbors=7 \n",
      "[CV]  metric=<function calculate_distance at 0x000002C8A5544EA0>, metric_params={'dist_type': 'cosine'}, n_neighbors=7, score=0.34782608695652173, total=   2.6s\n",
      "[CV] metric=<function calculate_distance at 0x000002C8A5544EA0>, metric_params={'dist_type': 'cosine'}, n_neighbors=8 \n",
      "[CV]  metric=<function calculate_distance at 0x000002C8A5544EA0>, metric_params={'dist_type': 'cosine'}, n_neighbors=8, score=0.34782608695652173, total=   2.6s\n",
      "[CV] metric=<function calculate_distance at 0x000002C8A5544EA0>, metric_params={'dist_type': 'cosine'}, n_neighbors=9 \n",
      "[CV]  metric=<function calculate_distance at 0x000002C8A5544EA0>, metric_params={'dist_type': 'cosine'}, n_neighbors=9, score=0.3333333333333333, total=   2.6s\n",
      "[CV] metric=<function calculate_distance at 0x000002C8A5544EA0>, metric_params={'dist_type': 'cosine'}, n_neighbors=10 \n",
      "[CV]  metric=<function calculate_distance at 0x000002C8A5544EA0>, metric_params={'dist_type': 'cosine'}, n_neighbors=10, score=0.30917874396135264, total=   3.1s\n",
      "6\n"
     ]
    },
    {
     "name": "stderr",
     "output_type": "stream",
     "text": [
      "[Parallel(n_jobs=1)]: Done  10 out of  10 | elapsed:  2.2min finished\n"
     ]
    },
    {
     "name": "stdout",
     "output_type": "stream",
     "text": [
      "Fitting 1 folds for each of 10 candidates, totalling 10 fits\n",
      "[CV] metric=<function calculate_distance at 0x000002C8A5544EA0>, metric_params={'dist_type': 'cosine'}, n_neighbors=1 \n",
      "[CV]  metric=<function calculate_distance at 0x000002C8A5544EA0>, metric_params={'dist_type': 'cosine'}, n_neighbors=1, score=0.4830917874396135, total=   2.3s\n",
      "[CV] metric=<function calculate_distance at 0x000002C8A5544EA0>, metric_params={'dist_type': 'cosine'}, n_neighbors=2 \n"
     ]
    },
    {
     "name": "stderr",
     "output_type": "stream",
     "text": [
      "[Parallel(n_jobs=1)]: Done   1 out of   1 | elapsed:   10.0s remaining:    0.0s\n"
     ]
    },
    {
     "name": "stdout",
     "output_type": "stream",
     "text": [
      "[CV]  metric=<function calculate_distance at 0x000002C8A5544EA0>, metric_params={'dist_type': 'cosine'}, n_neighbors=2, score=0.4251207729468599, total=   2.3s\n",
      "[CV] metric=<function calculate_distance at 0x000002C8A5544EA0>, metric_params={'dist_type': 'cosine'}, n_neighbors=3 \n"
     ]
    },
    {
     "name": "stderr",
     "output_type": "stream",
     "text": [
      "[Parallel(n_jobs=1)]: Done   2 out of   2 | elapsed:   21.1s remaining:    0.0s\n"
     ]
    },
    {
     "name": "stdout",
     "output_type": "stream",
     "text": [
      "[CV]  metric=<function calculate_distance at 0x000002C8A5544EA0>, metric_params={'dist_type': 'cosine'}, n_neighbors=3, score=0.37681159420289856, total=   2.3s\n",
      "[CV] metric=<function calculate_distance at 0x000002C8A5544EA0>, metric_params={'dist_type': 'cosine'}, n_neighbors=4 \n",
      "[CV]  metric=<function calculate_distance at 0x000002C8A5544EA0>, metric_params={'dist_type': 'cosine'}, n_neighbors=4, score=0.41545893719806765, total=   2.4s\n",
      "[CV] metric=<function calculate_distance at 0x000002C8A5544EA0>, metric_params={'dist_type': 'cosine'}, n_neighbors=5 \n",
      "[CV]  metric=<function calculate_distance at 0x000002C8A5544EA0>, metric_params={'dist_type': 'cosine'}, n_neighbors=5, score=0.3961352657004831, total=   2.3s\n",
      "[CV] metric=<function calculate_distance at 0x000002C8A5544EA0>, metric_params={'dist_type': 'cosine'}, n_neighbors=6 \n",
      "[CV]  metric=<function calculate_distance at 0x000002C8A5544EA0>, metric_params={'dist_type': 'cosine'}, n_neighbors=6, score=0.3719806763285024, total=   2.3s\n",
      "[CV] metric=<function calculate_distance at 0x000002C8A5544EA0>, metric_params={'dist_type': 'cosine'}, n_neighbors=7 \n",
      "[CV]  metric=<function calculate_distance at 0x000002C8A5544EA0>, metric_params={'dist_type': 'cosine'}, n_neighbors=7, score=0.3864734299516908, total=   2.5s\n",
      "[CV] metric=<function calculate_distance at 0x000002C8A5544EA0>, metric_params={'dist_type': 'cosine'}, n_neighbors=8 \n",
      "[CV]  metric=<function calculate_distance at 0x000002C8A5544EA0>, metric_params={'dist_type': 'cosine'}, n_neighbors=8, score=0.3671497584541063, total=   2.7s\n",
      "[CV] metric=<function calculate_distance at 0x000002C8A5544EA0>, metric_params={'dist_type': 'cosine'}, n_neighbors=9 \n",
      "[CV]  metric=<function calculate_distance at 0x000002C8A5544EA0>, metric_params={'dist_type': 'cosine'}, n_neighbors=9, score=0.357487922705314, total=   2.4s\n",
      "[CV] metric=<function calculate_distance at 0x000002C8A5544EA0>, metric_params={'dist_type': 'cosine'}, n_neighbors=10 \n",
      "[CV]  metric=<function calculate_distance at 0x000002C8A5544EA0>, metric_params={'dist_type': 'cosine'}, n_neighbors=10, score=0.3285024154589372, total=   2.4s\n",
      "7\n"
     ]
    },
    {
     "name": "stderr",
     "output_type": "stream",
     "text": [
      "[Parallel(n_jobs=1)]: Done  10 out of  10 | elapsed:  2.0min finished\n"
     ]
    },
    {
     "name": "stdout",
     "output_type": "stream",
     "text": [
      "Fitting 1 folds for each of 10 candidates, totalling 10 fits\n",
      "[CV] metric=<function calculate_distance at 0x000002C8A5544EA0>, metric_params={'dist_type': 'cosine'}, n_neighbors=1 \n",
      "[CV]  metric=<function calculate_distance at 0x000002C8A5544EA0>, metric_params={'dist_type': 'cosine'}, n_neighbors=1, score=0.4782608695652174, total=   2.3s\n",
      "[CV] metric=<function calculate_distance at 0x000002C8A5544EA0>, metric_params={'dist_type': 'cosine'}, n_neighbors=2 \n"
     ]
    },
    {
     "name": "stderr",
     "output_type": "stream",
     "text": [
      "[Parallel(n_jobs=1)]: Done   1 out of   1 | elapsed:   10.1s remaining:    0.0s\n"
     ]
    },
    {
     "name": "stdout",
     "output_type": "stream",
     "text": [
      "[CV]  metric=<function calculate_distance at 0x000002C8A5544EA0>, metric_params={'dist_type': 'cosine'}, n_neighbors=2, score=0.4251207729468599, total=   2.3s\n",
      "[CV] metric=<function calculate_distance at 0x000002C8A5544EA0>, metric_params={'dist_type': 'cosine'}, n_neighbors=3 \n"
     ]
    },
    {
     "name": "stderr",
     "output_type": "stream",
     "text": [
      "[Parallel(n_jobs=1)]: Done   2 out of   2 | elapsed:   21.2s remaining:    0.0s\n"
     ]
    },
    {
     "name": "stdout",
     "output_type": "stream",
     "text": [
      "[CV]  metric=<function calculate_distance at 0x000002C8A5544EA0>, metric_params={'dist_type': 'cosine'}, n_neighbors=3, score=0.3719806763285024, total=   2.3s\n",
      "[CV] metric=<function calculate_distance at 0x000002C8A5544EA0>, metric_params={'dist_type': 'cosine'}, n_neighbors=4 \n",
      "[CV]  metric=<function calculate_distance at 0x000002C8A5544EA0>, metric_params={'dist_type': 'cosine'}, n_neighbors=4, score=0.391304347826087, total=   2.3s\n",
      "[CV] metric=<function calculate_distance at 0x000002C8A5544EA0>, metric_params={'dist_type': 'cosine'}, n_neighbors=5 \n",
      "[CV]  metric=<function calculate_distance at 0x000002C8A5544EA0>, metric_params={'dist_type': 'cosine'}, n_neighbors=5, score=0.38164251207729466, total=   2.3s\n",
      "[CV] metric=<function calculate_distance at 0x000002C8A5544EA0>, metric_params={'dist_type': 'cosine'}, n_neighbors=6 \n",
      "[CV]  metric=<function calculate_distance at 0x000002C8A5544EA0>, metric_params={'dist_type': 'cosine'}, n_neighbors=6, score=0.3864734299516908, total=   2.6s\n",
      "[CV] metric=<function calculate_distance at 0x000002C8A5544EA0>, metric_params={'dist_type': 'cosine'}, n_neighbors=7 \n",
      "[CV]  metric=<function calculate_distance at 0x000002C8A5544EA0>, metric_params={'dist_type': 'cosine'}, n_neighbors=7, score=0.391304347826087, total=   2.3s\n",
      "[CV] metric=<function calculate_distance at 0x000002C8A5544EA0>, metric_params={'dist_type': 'cosine'}, n_neighbors=8 \n",
      "[CV]  metric=<function calculate_distance at 0x000002C8A5544EA0>, metric_params={'dist_type': 'cosine'}, n_neighbors=8, score=0.4057971014492754, total=   2.4s\n",
      "[CV] metric=<function calculate_distance at 0x000002C8A5544EA0>, metric_params={'dist_type': 'cosine'}, n_neighbors=9 \n",
      "[CV]  metric=<function calculate_distance at 0x000002C8A5544EA0>, metric_params={'dist_type': 'cosine'}, n_neighbors=9, score=0.391304347826087, total=   2.4s\n",
      "[CV] metric=<function calculate_distance at 0x000002C8A5544EA0>, metric_params={'dist_type': 'cosine'}, n_neighbors=10 \n",
      "[CV]  metric=<function calculate_distance at 0x000002C8A5544EA0>, metric_params={'dist_type': 'cosine'}, n_neighbors=10, score=0.37681159420289856, total=   2.4s\n",
      "8\n"
     ]
    },
    {
     "name": "stderr",
     "output_type": "stream",
     "text": [
      "[Parallel(n_jobs=1)]: Done  10 out of  10 | elapsed:  1.9min finished\n"
     ]
    },
    {
     "name": "stdout",
     "output_type": "stream",
     "text": [
      "Fitting 1 folds for each of 10 candidates, totalling 10 fits\n",
      "[CV] metric=<function calculate_distance at 0x000002C8A5544EA0>, metric_params={'dist_type': 'cosine'}, n_neighbors=1 \n",
      "[CV]  metric=<function calculate_distance at 0x000002C8A5544EA0>, metric_params={'dist_type': 'cosine'}, n_neighbors=1, score=0.4251207729468599, total=   2.3s\n",
      "[CV] metric=<function calculate_distance at 0x000002C8A5544EA0>, metric_params={'dist_type': 'cosine'}, n_neighbors=2 \n"
     ]
    },
    {
     "name": "stderr",
     "output_type": "stream",
     "text": [
      "[Parallel(n_jobs=1)]: Done   1 out of   1 | elapsed:   11.4s remaining:    0.0s\n"
     ]
    },
    {
     "name": "stdout",
     "output_type": "stream",
     "text": [
      "[CV]  metric=<function calculate_distance at 0x000002C8A5544EA0>, metric_params={'dist_type': 'cosine'}, n_neighbors=2, score=0.3719806763285024, total=   2.6s\n",
      "[CV] metric=<function calculate_distance at 0x000002C8A5544EA0>, metric_params={'dist_type': 'cosine'}, n_neighbors=3 \n"
     ]
    },
    {
     "name": "stderr",
     "output_type": "stream",
     "text": [
      "[Parallel(n_jobs=1)]: Done   2 out of   2 | elapsed:   23.7s remaining:    0.0s\n"
     ]
    },
    {
     "name": "stdout",
     "output_type": "stream",
     "text": [
      "[CV]  metric=<function calculate_distance at 0x000002C8A5544EA0>, metric_params={'dist_type': 'cosine'}, n_neighbors=3, score=0.3526570048309179, total=   2.4s\n",
      "[CV] metric=<function calculate_distance at 0x000002C8A5544EA0>, metric_params={'dist_type': 'cosine'}, n_neighbors=4 \n",
      "[CV]  metric=<function calculate_distance at 0x000002C8A5544EA0>, metric_params={'dist_type': 'cosine'}, n_neighbors=4, score=0.3961352657004831, total=   2.6s\n",
      "[CV] metric=<function calculate_distance at 0x000002C8A5544EA0>, metric_params={'dist_type': 'cosine'}, n_neighbors=5 \n",
      "[CV]  metric=<function calculate_distance at 0x000002C8A5544EA0>, metric_params={'dist_type': 'cosine'}, n_neighbors=5, score=0.3961352657004831, total=   2.4s\n",
      "[CV] metric=<function calculate_distance at 0x000002C8A5544EA0>, metric_params={'dist_type': 'cosine'}, n_neighbors=6 \n",
      "[CV]  metric=<function calculate_distance at 0x000002C8A5544EA0>, metric_params={'dist_type': 'cosine'}, n_neighbors=6, score=0.36231884057971014, total=   2.5s\n",
      "[CV] metric=<function calculate_distance at 0x000002C8A5544EA0>, metric_params={'dist_type': 'cosine'}, n_neighbors=7 \n",
      "[CV]  metric=<function calculate_distance at 0x000002C8A5544EA0>, metric_params={'dist_type': 'cosine'}, n_neighbors=7, score=0.357487922705314, total=   2.6s\n",
      "[CV] metric=<function calculate_distance at 0x000002C8A5544EA0>, metric_params={'dist_type': 'cosine'}, n_neighbors=8 \n",
      "[CV]  metric=<function calculate_distance at 0x000002C8A5544EA0>, metric_params={'dist_type': 'cosine'}, n_neighbors=8, score=0.36231884057971014, total=   2.6s\n",
      "[CV] metric=<function calculate_distance at 0x000002C8A5544EA0>, metric_params={'dist_type': 'cosine'}, n_neighbors=9 \n",
      "[CV]  metric=<function calculate_distance at 0x000002C8A5544EA0>, metric_params={'dist_type': 'cosine'}, n_neighbors=9, score=0.3671497584541063, total=   2.5s\n",
      "[CV] metric=<function calculate_distance at 0x000002C8A5544EA0>, metric_params={'dist_type': 'cosine'}, n_neighbors=10 \n",
      "[CV]  metric=<function calculate_distance at 0x000002C8A5544EA0>, metric_params={'dist_type': 'cosine'}, n_neighbors=10, score=0.34299516908212563, total=   2.5s\n",
      "9\n"
     ]
    },
    {
     "name": "stderr",
     "output_type": "stream",
     "text": [
      "[Parallel(n_jobs=1)]: Done  10 out of  10 | elapsed:  2.1min finished\n"
     ]
    },
    {
     "name": "stdout",
     "output_type": "stream",
     "text": [
      "Fitting 1 folds for each of 10 candidates, totalling 10 fits\n",
      "[CV] metric=<function calculate_distance at 0x000002C8A5544EA0>, metric_params={'dist_type': 'cosine'}, n_neighbors=1 \n",
      "[CV]  metric=<function calculate_distance at 0x000002C8A5544EA0>, metric_params={'dist_type': 'cosine'}, n_neighbors=1, score=0.4492753623188406, total=   3.0s\n",
      "[CV] metric=<function calculate_distance at 0x000002C8A5544EA0>, metric_params={'dist_type': 'cosine'}, n_neighbors=2 \n"
     ]
    },
    {
     "name": "stderr",
     "output_type": "stream",
     "text": [
      "[Parallel(n_jobs=1)]: Done   1 out of   1 | elapsed:   13.2s remaining:    0.0s\n"
     ]
    },
    {
     "name": "stdout",
     "output_type": "stream",
     "text": [
      "[CV]  metric=<function calculate_distance at 0x000002C8A5544EA0>, metric_params={'dist_type': 'cosine'}, n_neighbors=2, score=0.41545893719806765, total=   2.9s\n",
      "[CV] metric=<function calculate_distance at 0x000002C8A5544EA0>, metric_params={'dist_type': 'cosine'}, n_neighbors=3 \n"
     ]
    },
    {
     "name": "stderr",
     "output_type": "stream",
     "text": [
      "[Parallel(n_jobs=1)]: Done   2 out of   2 | elapsed:   28.2s remaining:    0.0s\n"
     ]
    },
    {
     "name": "stdout",
     "output_type": "stream",
     "text": [
      "[CV]  metric=<function calculate_distance at 0x000002C8A5544EA0>, metric_params={'dist_type': 'cosine'}, n_neighbors=3, score=0.38164251207729466, total=   3.1s\n",
      "[CV] metric=<function calculate_distance at 0x000002C8A5544EA0>, metric_params={'dist_type': 'cosine'}, n_neighbors=4 \n",
      "[CV]  metric=<function calculate_distance at 0x000002C8A5544EA0>, metric_params={'dist_type': 'cosine'}, n_neighbors=4, score=0.4057971014492754, total=   3.0s\n",
      "[CV] metric=<function calculate_distance at 0x000002C8A5544EA0>, metric_params={'dist_type': 'cosine'}, n_neighbors=5 \n",
      "[CV]  metric=<function calculate_distance at 0x000002C8A5544EA0>, metric_params={'dist_type': 'cosine'}, n_neighbors=5, score=0.4106280193236715, total=   3.0s\n",
      "[CV] metric=<function calculate_distance at 0x000002C8A5544EA0>, metric_params={'dist_type': 'cosine'}, n_neighbors=6 \n",
      "[CV]  metric=<function calculate_distance at 0x000002C8A5544EA0>, metric_params={'dist_type': 'cosine'}, n_neighbors=6, score=0.38164251207729466, total=   3.1s\n",
      "[CV] metric=<function calculate_distance at 0x000002C8A5544EA0>, metric_params={'dist_type': 'cosine'}, n_neighbors=7 \n",
      "[CV]  metric=<function calculate_distance at 0x000002C8A5544EA0>, metric_params={'dist_type': 'cosine'}, n_neighbors=7, score=0.36231884057971014, total=   3.0s\n",
      "[CV] metric=<function calculate_distance at 0x000002C8A5544EA0>, metric_params={'dist_type': 'cosine'}, n_neighbors=8 \n",
      "[CV]  metric=<function calculate_distance at 0x000002C8A5544EA0>, metric_params={'dist_type': 'cosine'}, n_neighbors=8, score=0.33816425120772947, total=   3.2s\n",
      "[CV] metric=<function calculate_distance at 0x000002C8A5544EA0>, metric_params={'dist_type': 'cosine'}, n_neighbors=9 \n",
      "[CV]  metric=<function calculate_distance at 0x000002C8A5544EA0>, metric_params={'dist_type': 'cosine'}, n_neighbors=9, score=0.33816425120772947, total=   3.1s\n",
      "[CV] metric=<function calculate_distance at 0x000002C8A5544EA0>, metric_params={'dist_type': 'cosine'}, n_neighbors=10 \n",
      "[CV]  metric=<function calculate_distance at 0x000002C8A5544EA0>, metric_params={'dist_type': 'cosine'}, n_neighbors=10, score=0.34782608695652173, total=   3.2s\n",
      "10\n"
     ]
    },
    {
     "name": "stderr",
     "output_type": "stream",
     "text": [
      "[Parallel(n_jobs=1)]: Done  10 out of  10 | elapsed:  2.5min finished\n"
     ]
    },
    {
     "name": "stdout",
     "output_type": "stream",
     "text": [
      "Fitting 1 folds for each of 10 candidates, totalling 10 fits\n",
      "[CV] metric=<function calculate_distance at 0x000002C8A5544EA0>, metric_params={'dist_type': 'cosine'}, n_neighbors=1 \n",
      "[CV]  metric=<function calculate_distance at 0x000002C8A5544EA0>, metric_params={'dist_type': 'cosine'}, n_neighbors=1, score=0.38164251207729466, total=   2.9s\n",
      "[CV] metric=<function calculate_distance at 0x000002C8A5544EA0>, metric_params={'dist_type': 'cosine'}, n_neighbors=2 \n"
     ]
    },
    {
     "name": "stderr",
     "output_type": "stream",
     "text": [
      "[Parallel(n_jobs=1)]: Done   1 out of   1 | elapsed:   13.2s remaining:    0.0s\n"
     ]
    },
    {
     "name": "stdout",
     "output_type": "stream",
     "text": [
      "[CV]  metric=<function calculate_distance at 0x000002C8A5544EA0>, metric_params={'dist_type': 'cosine'}, n_neighbors=2, score=0.34782608695652173, total=   3.0s\n",
      "[CV] metric=<function calculate_distance at 0x000002C8A5544EA0>, metric_params={'dist_type': 'cosine'}, n_neighbors=3 \n"
     ]
    },
    {
     "name": "stderr",
     "output_type": "stream",
     "text": [
      "[Parallel(n_jobs=1)]: Done   2 out of   2 | elapsed:   27.7s remaining:    0.0s\n"
     ]
    },
    {
     "name": "stdout",
     "output_type": "stream",
     "text": [
      "[CV]  metric=<function calculate_distance at 0x000002C8A5544EA0>, metric_params={'dist_type': 'cosine'}, n_neighbors=3, score=0.3526570048309179, total=   2.7s\n",
      "[CV] metric=<function calculate_distance at 0x000002C8A5544EA0>, metric_params={'dist_type': 'cosine'}, n_neighbors=4 \n",
      "[CV]  metric=<function calculate_distance at 0x000002C8A5544EA0>, metric_params={'dist_type': 'cosine'}, n_neighbors=4, score=0.3671497584541063, total=   3.0s\n",
      "[CV] metric=<function calculate_distance at 0x000002C8A5544EA0>, metric_params={'dist_type': 'cosine'}, n_neighbors=5 \n",
      "[CV]  metric=<function calculate_distance at 0x000002C8A5544EA0>, metric_params={'dist_type': 'cosine'}, n_neighbors=5, score=0.38164251207729466, total=   3.6s\n",
      "[CV] metric=<function calculate_distance at 0x000002C8A5544EA0>, metric_params={'dist_type': 'cosine'}, n_neighbors=6 \n",
      "[CV]  metric=<function calculate_distance at 0x000002C8A5544EA0>, metric_params={'dist_type': 'cosine'}, n_neighbors=6, score=0.3671497584541063, total=   3.0s\n",
      "[CV] metric=<function calculate_distance at 0x000002C8A5544EA0>, metric_params={'dist_type': 'cosine'}, n_neighbors=7 \n",
      "[CV]  metric=<function calculate_distance at 0x000002C8A5544EA0>, metric_params={'dist_type': 'cosine'}, n_neighbors=7, score=0.357487922705314, total=   3.1s\n",
      "[CV] metric=<function calculate_distance at 0x000002C8A5544EA0>, metric_params={'dist_type': 'cosine'}, n_neighbors=8 \n",
      "[CV]  metric=<function calculate_distance at 0x000002C8A5544EA0>, metric_params={'dist_type': 'cosine'}, n_neighbors=8, score=0.3140096618357488, total=   3.1s\n",
      "[CV] metric=<function calculate_distance at 0x000002C8A5544EA0>, metric_params={'dist_type': 'cosine'}, n_neighbors=9 \n",
      "[CV]  metric=<function calculate_distance at 0x000002C8A5544EA0>, metric_params={'dist_type': 'cosine'}, n_neighbors=9, score=0.3188405797101449, total=   3.1s\n",
      "[CV] metric=<function calculate_distance at 0x000002C8A5544EA0>, metric_params={'dist_type': 'cosine'}, n_neighbors=10 \n",
      "[CV]  metric=<function calculate_distance at 0x000002C8A5544EA0>, metric_params={'dist_type': 'cosine'}, n_neighbors=10, score=0.32367149758454106, total=   3.1s\n",
      "11\n"
     ]
    },
    {
     "name": "stderr",
     "output_type": "stream",
     "text": [
      "[Parallel(n_jobs=1)]: Done  10 out of  10 | elapsed:  2.5min finished\n"
     ]
    },
    {
     "name": "stdout",
     "output_type": "stream",
     "text": [
      "Fitting 1 folds for each of 10 candidates, totalling 10 fits\n",
      "[CV] metric=<function calculate_distance at 0x000002C8A5544EA0>, metric_params={'dist_type': 'cosine'}, n_neighbors=1 \n",
      "[CV]  metric=<function calculate_distance at 0x000002C8A5544EA0>, metric_params={'dist_type': 'cosine'}, n_neighbors=1, score=0.42995169082125606, total=   3.2s\n",
      "[CV] metric=<function calculate_distance at 0x000002C8A5544EA0>, metric_params={'dist_type': 'cosine'}, n_neighbors=2 \n"
     ]
    },
    {
     "name": "stderr",
     "output_type": "stream",
     "text": [
      "[Parallel(n_jobs=1)]: Done   1 out of   1 | elapsed:   13.6s remaining:    0.0s\n"
     ]
    },
    {
     "name": "stdout",
     "output_type": "stream",
     "text": [
      "[CV]  metric=<function calculate_distance at 0x000002C8A5544EA0>, metric_params={'dist_type': 'cosine'}, n_neighbors=2, score=0.37681159420289856, total=   3.1s\n",
      "[CV] metric=<function calculate_distance at 0x000002C8A5544EA0>, metric_params={'dist_type': 'cosine'}, n_neighbors=3 \n"
     ]
    },
    {
     "name": "stderr",
     "output_type": "stream",
     "text": [
      "[Parallel(n_jobs=1)]: Done   2 out of   2 | elapsed:   28.9s remaining:    0.0s\n"
     ]
    },
    {
     "name": "stdout",
     "output_type": "stream",
     "text": [
      "[CV]  metric=<function calculate_distance at 0x000002C8A5544EA0>, metric_params={'dist_type': 'cosine'}, n_neighbors=3, score=0.3719806763285024, total=   3.1s\n",
      "[CV] metric=<function calculate_distance at 0x000002C8A5544EA0>, metric_params={'dist_type': 'cosine'}, n_neighbors=4 \n",
      "[CV]  metric=<function calculate_distance at 0x000002C8A5544EA0>, metric_params={'dist_type': 'cosine'}, n_neighbors=4, score=0.38164251207729466, total=   3.4s\n",
      "[CV] metric=<function calculate_distance at 0x000002C8A5544EA0>, metric_params={'dist_type': 'cosine'}, n_neighbors=5 \n",
      "[CV]  metric=<function calculate_distance at 0x000002C8A5544EA0>, metric_params={'dist_type': 'cosine'}, n_neighbors=5, score=0.3671497584541063, total=   3.1s\n",
      "[CV] metric=<function calculate_distance at 0x000002C8A5544EA0>, metric_params={'dist_type': 'cosine'}, n_neighbors=6 \n",
      "[CV]  metric=<function calculate_distance at 0x000002C8A5544EA0>, metric_params={'dist_type': 'cosine'}, n_neighbors=6, score=0.34299516908212563, total=   3.1s\n",
      "[CV] metric=<function calculate_distance at 0x000002C8A5544EA0>, metric_params={'dist_type': 'cosine'}, n_neighbors=7 \n",
      "[CV]  metric=<function calculate_distance at 0x000002C8A5544EA0>, metric_params={'dist_type': 'cosine'}, n_neighbors=7, score=0.34299516908212563, total=   3.2s\n",
      "[CV] metric=<function calculate_distance at 0x000002C8A5544EA0>, metric_params={'dist_type': 'cosine'}, n_neighbors=8 \n",
      "[CV]  metric=<function calculate_distance at 0x000002C8A5544EA0>, metric_params={'dist_type': 'cosine'}, n_neighbors=8, score=0.33816425120772947, total=   3.6s\n",
      "[CV] metric=<function calculate_distance at 0x000002C8A5544EA0>, metric_params={'dist_type': 'cosine'}, n_neighbors=9 \n",
      "[CV]  metric=<function calculate_distance at 0x000002C8A5544EA0>, metric_params={'dist_type': 'cosine'}, n_neighbors=9, score=0.3719806763285024, total=   3.2s\n",
      "[CV] metric=<function calculate_distance at 0x000002C8A5544EA0>, metric_params={'dist_type': 'cosine'}, n_neighbors=10 \n",
      "[CV]  metric=<function calculate_distance at 0x000002C8A5544EA0>, metric_params={'dist_type': 'cosine'}, n_neighbors=10, score=0.357487922705314, total=   3.1s\n",
      "12\n"
     ]
    },
    {
     "name": "stderr",
     "output_type": "stream",
     "text": [
      "[Parallel(n_jobs=1)]: Done  10 out of  10 | elapsed:  2.7min finished\n"
     ]
    },
    {
     "name": "stdout",
     "output_type": "stream",
     "text": [
      "Fitting 1 folds for each of 10 candidates, totalling 10 fits\n",
      "[CV] metric=<function calculate_distance at 0x000002C8A5544EA0>, metric_params={'dist_type': 'cosine'}, n_neighbors=1 \n",
      "[CV]  metric=<function calculate_distance at 0x000002C8A5544EA0>, metric_params={'dist_type': 'cosine'}, n_neighbors=1, score=0.5169082125603864, total=   3.0s\n",
      "[CV] metric=<function calculate_distance at 0x000002C8A5544EA0>, metric_params={'dist_type': 'cosine'}, n_neighbors=2 \n"
     ]
    },
    {
     "name": "stderr",
     "output_type": "stream",
     "text": [
      "[Parallel(n_jobs=1)]: Done   1 out of   1 | elapsed:   13.4s remaining:    0.0s\n"
     ]
    },
    {
     "name": "stdout",
     "output_type": "stream",
     "text": [
      "[CV]  metric=<function calculate_distance at 0x000002C8A5544EA0>, metric_params={'dist_type': 'cosine'}, n_neighbors=2, score=0.4782608695652174, total=   3.1s\n",
      "[CV] metric=<function calculate_distance at 0x000002C8A5544EA0>, metric_params={'dist_type': 'cosine'}, n_neighbors=3 \n"
     ]
    },
    {
     "name": "stderr",
     "output_type": "stream",
     "text": [
      "[Parallel(n_jobs=1)]: Done   2 out of   2 | elapsed:   28.7s remaining:    0.0s\n"
     ]
    },
    {
     "name": "stdout",
     "output_type": "stream",
     "text": [
      "[CV]  metric=<function calculate_distance at 0x000002C8A5544EA0>, metric_params={'dist_type': 'cosine'}, n_neighbors=3, score=0.4106280193236715, total=   3.1s\n",
      "[CV] metric=<function calculate_distance at 0x000002C8A5544EA0>, metric_params={'dist_type': 'cosine'}, n_neighbors=4 \n",
      "[CV]  metric=<function calculate_distance at 0x000002C8A5544EA0>, metric_params={'dist_type': 'cosine'}, n_neighbors=4, score=0.42028985507246375, total=   3.0s\n",
      "[CV] metric=<function calculate_distance at 0x000002C8A5544EA0>, metric_params={'dist_type': 'cosine'}, n_neighbors=5 \n",
      "[CV]  metric=<function calculate_distance at 0x000002C8A5544EA0>, metric_params={'dist_type': 'cosine'}, n_neighbors=5, score=0.3961352657004831, total=   3.1s\n",
      "[CV] metric=<function calculate_distance at 0x000002C8A5544EA0>, metric_params={'dist_type': 'cosine'}, n_neighbors=6 \n",
      "[CV]  metric=<function calculate_distance at 0x000002C8A5544EA0>, metric_params={'dist_type': 'cosine'}, n_neighbors=6, score=0.41545893719806765, total=   3.1s\n",
      "[CV] metric=<function calculate_distance at 0x000002C8A5544EA0>, metric_params={'dist_type': 'cosine'}, n_neighbors=7 \n",
      "[CV]  metric=<function calculate_distance at 0x000002C8A5544EA0>, metric_params={'dist_type': 'cosine'}, n_neighbors=7, score=0.40096618357487923, total=   3.1s\n",
      "[CV] metric=<function calculate_distance at 0x000002C8A5544EA0>, metric_params={'dist_type': 'cosine'}, n_neighbors=8 \n",
      "[CV]  metric=<function calculate_distance at 0x000002C8A5544EA0>, metric_params={'dist_type': 'cosine'}, n_neighbors=8, score=0.41545893719806765, total=   3.1s\n",
      "[CV] metric=<function calculate_distance at 0x000002C8A5544EA0>, metric_params={'dist_type': 'cosine'}, n_neighbors=9 \n",
      "[CV]  metric=<function calculate_distance at 0x000002C8A5544EA0>, metric_params={'dist_type': 'cosine'}, n_neighbors=9, score=0.43478260869565216, total=   3.1s\n",
      "[CV] metric=<function calculate_distance at 0x000002C8A5544EA0>, metric_params={'dist_type': 'cosine'}, n_neighbors=10 \n",
      "[CV]  metric=<function calculate_distance at 0x000002C8A5544EA0>, metric_params={'dist_type': 'cosine'}, n_neighbors=10, score=0.3864734299516908, total=   3.1s\n"
     ]
    },
    {
     "name": "stderr",
     "output_type": "stream",
     "text": [
      "[Parallel(n_jobs=1)]: Done  10 out of  10 | elapsed:  2.6min finished\n"
     ]
    }
   ],
   "source": [
    "for nr in frame_numbers:\n",
    "    print(nr)\n",
    "    try:\n",
    "        gyro_train_input, gyro_train_label = prepare_data(train, nr, 'gyro', verbose=False)\n",
    "        gyro_valid_input, gyro_valid_label = prepare_data(valid, nr, 'gyro', verbose=False)\n",
    "\n",
    "        kNN = GridSearchCV(KNeighborsClassifier(), parameters, cv=cross_valid, scoring='accuracy', n_jobs=parallel_jobs,\n",
    "                           verbose=verbose_level).fit(np.append(gyro_train_input, gyro_valid_input, axis=0),\n",
    "                                                      np.append(gyro_train_label, gyro_valid_label))\n",
    "        \n",
    "        result = (kNN.best_score_, nr, kNN.best_params_)\n",
    "        \n",
    "        if result[0] > cosine_gyro[0]:\n",
    "            cosine_gyro = result\n",
    "        \n",
    "    except ValueError as err:\n",
    "        pass"
   ]
  },
  {
   "cell_type": "markdown",
   "metadata": {},
   "source": [
    "### Magnetometer"
   ]
  },
  {
   "cell_type": "code",
   "execution_count": 23,
   "metadata": {
    "scrolled": true
   },
   "outputs": [
    {
     "name": "stdout",
     "output_type": "stream",
     "text": [
      "1\n",
      "Fitting 1 folds for each of 10 candidates, totalling 10 fits\n",
      "[CV] metric=<function calculate_distance at 0x000002C8A5544EA0>, metric_params={'dist_type': 'cosine'}, n_neighbors=1 \n",
      "[CV]  metric=<function calculate_distance at 0x000002C8A5544EA0>, metric_params={'dist_type': 'cosine'}, n_neighbors=1, score=0.4807692307692308, total=   1.4s\n",
      "[CV] metric=<function calculate_distance at 0x000002C8A5544EA0>, metric_params={'dist_type': 'cosine'}, n_neighbors=2 \n"
     ]
    },
    {
     "name": "stderr",
     "output_type": "stream",
     "text": [
      "[Parallel(n_jobs=1)]: Done   1 out of   1 | elapsed:    6.6s remaining:    0.0s\n"
     ]
    },
    {
     "name": "stdout",
     "output_type": "stream",
     "text": [
      "[CV]  metric=<function calculate_distance at 0x000002C8A5544EA0>, metric_params={'dist_type': 'cosine'}, n_neighbors=2, score=0.4423076923076923, total=   1.5s\n",
      "[CV] metric=<function calculate_distance at 0x000002C8A5544EA0>, metric_params={'dist_type': 'cosine'}, n_neighbors=3 \n"
     ]
    },
    {
     "name": "stderr",
     "output_type": "stream",
     "text": [
      "[Parallel(n_jobs=1)]: Done   2 out of   2 | elapsed:   13.9s remaining:    0.0s\n"
     ]
    },
    {
     "name": "stdout",
     "output_type": "stream",
     "text": [
      "[CV]  metric=<function calculate_distance at 0x000002C8A5544EA0>, metric_params={'dist_type': 'cosine'}, n_neighbors=3, score=0.3942307692307692, total=   1.5s\n",
      "[CV] metric=<function calculate_distance at 0x000002C8A5544EA0>, metric_params={'dist_type': 'cosine'}, n_neighbors=4 \n",
      "[CV]  metric=<function calculate_distance at 0x000002C8A5544EA0>, metric_params={'dist_type': 'cosine'}, n_neighbors=4, score=0.34615384615384615, total=   1.5s\n",
      "[CV] metric=<function calculate_distance at 0x000002C8A5544EA0>, metric_params={'dist_type': 'cosine'}, n_neighbors=5 \n",
      "[CV]  metric=<function calculate_distance at 0x000002C8A5544EA0>, metric_params={'dist_type': 'cosine'}, n_neighbors=5, score=0.2932692307692308, total=   1.5s\n",
      "[CV] metric=<function calculate_distance at 0x000002C8A5544EA0>, metric_params={'dist_type': 'cosine'}, n_neighbors=6 \n",
      "[CV]  metric=<function calculate_distance at 0x000002C8A5544EA0>, metric_params={'dist_type': 'cosine'}, n_neighbors=6, score=0.25961538461538464, total=   1.5s\n",
      "[CV] metric=<function calculate_distance at 0x000002C8A5544EA0>, metric_params={'dist_type': 'cosine'}, n_neighbors=7 \n",
      "[CV]  metric=<function calculate_distance at 0x000002C8A5544EA0>, metric_params={'dist_type': 'cosine'}, n_neighbors=7, score=0.22596153846153846, total=   1.5s\n",
      "[CV] metric=<function calculate_distance at 0x000002C8A5544EA0>, metric_params={'dist_type': 'cosine'}, n_neighbors=8 \n",
      "[CV]  metric=<function calculate_distance at 0x000002C8A5544EA0>, metric_params={'dist_type': 'cosine'}, n_neighbors=8, score=0.20673076923076922, total=   1.6s\n",
      "[CV] metric=<function calculate_distance at 0x000002C8A5544EA0>, metric_params={'dist_type': 'cosine'}, n_neighbors=9 \n",
      "[CV]  metric=<function calculate_distance at 0x000002C8A5544EA0>, metric_params={'dist_type': 'cosine'}, n_neighbors=9, score=0.1971153846153846, total=   1.5s\n",
      "[CV] metric=<function calculate_distance at 0x000002C8A5544EA0>, metric_params={'dist_type': 'cosine'}, n_neighbors=10 \n",
      "[CV]  metric=<function calculate_distance at 0x000002C8A5544EA0>, metric_params={'dist_type': 'cosine'}, n_neighbors=10, score=0.1971153846153846, total=   1.6s\n",
      "2\n"
     ]
    },
    {
     "name": "stderr",
     "output_type": "stream",
     "text": [
      "[Parallel(n_jobs=1)]: Done  10 out of  10 | elapsed:  1.2min finished\n"
     ]
    },
    {
     "name": "stdout",
     "output_type": "stream",
     "text": [
      "Fitting 1 folds for each of 10 candidates, totalling 10 fits\n",
      "[CV] metric=<function calculate_distance at 0x000002C8A5544EA0>, metric_params={'dist_type': 'cosine'}, n_neighbors=1 \n",
      "[CV]  metric=<function calculate_distance at 0x000002C8A5544EA0>, metric_params={'dist_type': 'cosine'}, n_neighbors=1, score=0.5169082125603864, total=   1.3s\n",
      "[CV] metric=<function calculate_distance at 0x000002C8A5544EA0>, metric_params={'dist_type': 'cosine'}, n_neighbors=2 \n"
     ]
    },
    {
     "name": "stderr",
     "output_type": "stream",
     "text": [
      "[Parallel(n_jobs=1)]: Done   1 out of   1 | elapsed:    6.4s remaining:    0.0s\n"
     ]
    },
    {
     "name": "stdout",
     "output_type": "stream",
     "text": [
      "[CV]  metric=<function calculate_distance at 0x000002C8A5544EA0>, metric_params={'dist_type': 'cosine'}, n_neighbors=2, score=0.42995169082125606, total=   1.4s\n",
      "[CV] metric=<function calculate_distance at 0x000002C8A5544EA0>, metric_params={'dist_type': 'cosine'}, n_neighbors=3 \n"
     ]
    },
    {
     "name": "stderr",
     "output_type": "stream",
     "text": [
      "[Parallel(n_jobs=1)]: Done   2 out of   2 | elapsed:   13.6s remaining:    0.0s\n"
     ]
    },
    {
     "name": "stdout",
     "output_type": "stream",
     "text": [
      "[CV]  metric=<function calculate_distance at 0x000002C8A5544EA0>, metric_params={'dist_type': 'cosine'}, n_neighbors=3, score=0.4057971014492754, total=   1.4s\n",
      "[CV] metric=<function calculate_distance at 0x000002C8A5544EA0>, metric_params={'dist_type': 'cosine'}, n_neighbors=4 \n",
      "[CV]  metric=<function calculate_distance at 0x000002C8A5544EA0>, metric_params={'dist_type': 'cosine'}, n_neighbors=4, score=0.3671497584541063, total=   1.3s\n",
      "[CV] metric=<function calculate_distance at 0x000002C8A5544EA0>, metric_params={'dist_type': 'cosine'}, n_neighbors=5 \n",
      "[CV]  metric=<function calculate_distance at 0x000002C8A5544EA0>, metric_params={'dist_type': 'cosine'}, n_neighbors=5, score=0.34782608695652173, total=   1.5s\n",
      "[CV] metric=<function calculate_distance at 0x000002C8A5544EA0>, metric_params={'dist_type': 'cosine'}, n_neighbors=6 \n",
      "[CV]  metric=<function calculate_distance at 0x000002C8A5544EA0>, metric_params={'dist_type': 'cosine'}, n_neighbors=6, score=0.3285024154589372, total=   1.6s\n",
      "[CV] metric=<function calculate_distance at 0x000002C8A5544EA0>, metric_params={'dist_type': 'cosine'}, n_neighbors=7 \n",
      "[CV]  metric=<function calculate_distance at 0x000002C8A5544EA0>, metric_params={'dist_type': 'cosine'}, n_neighbors=7, score=0.2898550724637681, total=   1.4s\n",
      "[CV] metric=<function calculate_distance at 0x000002C8A5544EA0>, metric_params={'dist_type': 'cosine'}, n_neighbors=8 \n",
      "[CV]  metric=<function calculate_distance at 0x000002C8A5544EA0>, metric_params={'dist_type': 'cosine'}, n_neighbors=8, score=0.27053140096618356, total=   1.5s\n",
      "[CV] metric=<function calculate_distance at 0x000002C8A5544EA0>, metric_params={'dist_type': 'cosine'}, n_neighbors=9 \n",
      "[CV]  metric=<function calculate_distance at 0x000002C8A5544EA0>, metric_params={'dist_type': 'cosine'}, n_neighbors=9, score=0.2608695652173913, total=   1.5s\n",
      "[CV] metric=<function calculate_distance at 0x000002C8A5544EA0>, metric_params={'dist_type': 'cosine'}, n_neighbors=10 \n",
      "[CV]  metric=<function calculate_distance at 0x000002C8A5544EA0>, metric_params={'dist_type': 'cosine'}, n_neighbors=10, score=0.25120772946859904, total=   1.5s\n",
      "3\n"
     ]
    },
    {
     "name": "stderr",
     "output_type": "stream",
     "text": [
      "[Parallel(n_jobs=1)]: Done  10 out of  10 | elapsed:  1.2min finished\n"
     ]
    },
    {
     "name": "stdout",
     "output_type": "stream",
     "text": [
      "Fitting 1 folds for each of 10 candidates, totalling 10 fits\n",
      "[CV] metric=<function calculate_distance at 0x000002C8A5544EA0>, metric_params={'dist_type': 'cosine'}, n_neighbors=1 \n",
      "[CV]  metric=<function calculate_distance at 0x000002C8A5544EA0>, metric_params={'dist_type': 'cosine'}, n_neighbors=1, score=0.5120772946859904, total=   1.6s\n",
      "[CV] metric=<function calculate_distance at 0x000002C8A5544EA0>, metric_params={'dist_type': 'cosine'}, n_neighbors=2 \n"
     ]
    },
    {
     "name": "stderr",
     "output_type": "stream",
     "text": [
      "[Parallel(n_jobs=1)]: Done   1 out of   1 | elapsed:    7.6s remaining:    0.0s\n"
     ]
    },
    {
     "name": "stdout",
     "output_type": "stream",
     "text": [
      "[CV]  metric=<function calculate_distance at 0x000002C8A5544EA0>, metric_params={'dist_type': 'cosine'}, n_neighbors=2, score=0.42995169082125606, total=   1.6s\n",
      "[CV] metric=<function calculate_distance at 0x000002C8A5544EA0>, metric_params={'dist_type': 'cosine'}, n_neighbors=3 \n"
     ]
    },
    {
     "name": "stderr",
     "output_type": "stream",
     "text": [
      "[Parallel(n_jobs=1)]: Done   2 out of   2 | elapsed:   16.5s remaining:    0.0s\n"
     ]
    },
    {
     "name": "stdout",
     "output_type": "stream",
     "text": [
      "[CV]  metric=<function calculate_distance at 0x000002C8A5544EA0>, metric_params={'dist_type': 'cosine'}, n_neighbors=3, score=0.3864734299516908, total=   1.7s\n",
      "[CV] metric=<function calculate_distance at 0x000002C8A5544EA0>, metric_params={'dist_type': 'cosine'}, n_neighbors=4 \n",
      "[CV]  metric=<function calculate_distance at 0x000002C8A5544EA0>, metric_params={'dist_type': 'cosine'}, n_neighbors=4, score=0.3864734299516908, total=   1.9s\n",
      "[CV] metric=<function calculate_distance at 0x000002C8A5544EA0>, metric_params={'dist_type': 'cosine'}, n_neighbors=5 \n",
      "[CV]  metric=<function calculate_distance at 0x000002C8A5544EA0>, metric_params={'dist_type': 'cosine'}, n_neighbors=5, score=0.34299516908212563, total=   2.0s\n",
      "[CV] metric=<function calculate_distance at 0x000002C8A5544EA0>, metric_params={'dist_type': 'cosine'}, n_neighbors=6 \n",
      "[CV]  metric=<function calculate_distance at 0x000002C8A5544EA0>, metric_params={'dist_type': 'cosine'}, n_neighbors=6, score=0.28019323671497587, total=   2.0s\n",
      "[CV] metric=<function calculate_distance at 0x000002C8A5544EA0>, metric_params={'dist_type': 'cosine'}, n_neighbors=7 \n",
      "[CV]  metric=<function calculate_distance at 0x000002C8A5544EA0>, metric_params={'dist_type': 'cosine'}, n_neighbors=7, score=0.28502415458937197, total=   2.0s\n",
      "[CV] metric=<function calculate_distance at 0x000002C8A5544EA0>, metric_params={'dist_type': 'cosine'}, n_neighbors=8 \n",
      "[CV]  metric=<function calculate_distance at 0x000002C8A5544EA0>, metric_params={'dist_type': 'cosine'}, n_neighbors=8, score=0.2463768115942029, total=   2.0s\n",
      "[CV] metric=<function calculate_distance at 0x000002C8A5544EA0>, metric_params={'dist_type': 'cosine'}, n_neighbors=9 \n",
      "[CV]  metric=<function calculate_distance at 0x000002C8A5544EA0>, metric_params={'dist_type': 'cosine'}, n_neighbors=9, score=0.24154589371980675, total=   2.0s\n",
      "[CV] metric=<function calculate_distance at 0x000002C8A5544EA0>, metric_params={'dist_type': 'cosine'}, n_neighbors=10 \n",
      "[CV]  metric=<function calculate_distance at 0x000002C8A5544EA0>, metric_params={'dist_type': 'cosine'}, n_neighbors=10, score=0.21256038647342995, total=   2.0s\n",
      "4\n"
     ]
    },
    {
     "name": "stderr",
     "output_type": "stream",
     "text": [
      "[Parallel(n_jobs=1)]: Done  10 out of  10 | elapsed:  1.6min finished\n"
     ]
    },
    {
     "name": "stdout",
     "output_type": "stream",
     "text": [
      "Fitting 1 folds for each of 10 candidates, totalling 10 fits\n",
      "[CV] metric=<function calculate_distance at 0x000002C8A5544EA0>, metric_params={'dist_type': 'cosine'}, n_neighbors=1 \n",
      "[CV]  metric=<function calculate_distance at 0x000002C8A5544EA0>, metric_params={'dist_type': 'cosine'}, n_neighbors=1, score=0.3671497584541063, total=   2.0s\n",
      "[CV] metric=<function calculate_distance at 0x000002C8A5544EA0>, metric_params={'dist_type': 'cosine'}, n_neighbors=2 \n"
     ]
    },
    {
     "name": "stderr",
     "output_type": "stream",
     "text": [
      "[Parallel(n_jobs=1)]: Done   1 out of   1 | elapsed:    9.2s remaining:    0.0s\n"
     ]
    },
    {
     "name": "stdout",
     "output_type": "stream",
     "text": [
      "[CV]  metric=<function calculate_distance at 0x000002C8A5544EA0>, metric_params={'dist_type': 'cosine'}, n_neighbors=2, score=0.32367149758454106, total=   2.0s\n",
      "[CV] metric=<function calculate_distance at 0x000002C8A5544EA0>, metric_params={'dist_type': 'cosine'}, n_neighbors=3 \n"
     ]
    },
    {
     "name": "stderr",
     "output_type": "stream",
     "text": [
      "[Parallel(n_jobs=1)]: Done   2 out of   2 | elapsed:   19.7s remaining:    0.0s\n"
     ]
    },
    {
     "name": "stdout",
     "output_type": "stream",
     "text": [
      "[CV]  metric=<function calculate_distance at 0x000002C8A5544EA0>, metric_params={'dist_type': 'cosine'}, n_neighbors=3, score=0.30434782608695654, total=   2.1s\n",
      "[CV] metric=<function calculate_distance at 0x000002C8A5544EA0>, metric_params={'dist_type': 'cosine'}, n_neighbors=4 \n",
      "[CV]  metric=<function calculate_distance at 0x000002C8A5544EA0>, metric_params={'dist_type': 'cosine'}, n_neighbors=4, score=0.2946859903381642, total=   2.0s\n",
      "[CV] metric=<function calculate_distance at 0x000002C8A5544EA0>, metric_params={'dist_type': 'cosine'}, n_neighbors=5 \n",
      "[CV]  metric=<function calculate_distance at 0x000002C8A5544EA0>, metric_params={'dist_type': 'cosine'}, n_neighbors=5, score=0.2560386473429952, total=   2.0s\n",
      "[CV] metric=<function calculate_distance at 0x000002C8A5544EA0>, metric_params={'dist_type': 'cosine'}, n_neighbors=6 \n",
      "[CV]  metric=<function calculate_distance at 0x000002C8A5544EA0>, metric_params={'dist_type': 'cosine'}, n_neighbors=6, score=0.2463768115942029, total=   2.1s\n",
      "[CV] metric=<function calculate_distance at 0x000002C8A5544EA0>, metric_params={'dist_type': 'cosine'}, n_neighbors=7 \n",
      "[CV]  metric=<function calculate_distance at 0x000002C8A5544EA0>, metric_params={'dist_type': 'cosine'}, n_neighbors=7, score=0.2222222222222222, total=   2.2s\n",
      "[CV] metric=<function calculate_distance at 0x000002C8A5544EA0>, metric_params={'dist_type': 'cosine'}, n_neighbors=8 \n",
      "[CV]  metric=<function calculate_distance at 0x000002C8A5544EA0>, metric_params={'dist_type': 'cosine'}, n_neighbors=8, score=0.21739130434782608, total=   2.0s\n",
      "[CV] metric=<function calculate_distance at 0x000002C8A5544EA0>, metric_params={'dist_type': 'cosine'}, n_neighbors=9 \n",
      "[CV]  metric=<function calculate_distance at 0x000002C8A5544EA0>, metric_params={'dist_type': 'cosine'}, n_neighbors=9, score=0.23671497584541062, total=   2.1s\n",
      "[CV] metric=<function calculate_distance at 0x000002C8A5544EA0>, metric_params={'dist_type': 'cosine'}, n_neighbors=10 \n",
      "[CV]  metric=<function calculate_distance at 0x000002C8A5544EA0>, metric_params={'dist_type': 'cosine'}, n_neighbors=10, score=0.24154589371980675, total=   2.1s\n",
      "5\n"
     ]
    },
    {
     "name": "stderr",
     "output_type": "stream",
     "text": [
      "[Parallel(n_jobs=1)]: Done  10 out of  10 | elapsed:  1.8min finished\n"
     ]
    },
    {
     "name": "stdout",
     "output_type": "stream",
     "text": [
      "Fitting 1 folds for each of 10 candidates, totalling 10 fits\n",
      "[CV] metric=<function calculate_distance at 0x000002C8A5544EA0>, metric_params={'dist_type': 'cosine'}, n_neighbors=1 \n",
      "[CV]  metric=<function calculate_distance at 0x000002C8A5544EA0>, metric_params={'dist_type': 'cosine'}, n_neighbors=1, score=0.27053140096618356, total=   2.0s\n",
      "[CV] metric=<function calculate_distance at 0x000002C8A5544EA0>, metric_params={'dist_type': 'cosine'}, n_neighbors=2 \n"
     ]
    },
    {
     "name": "stderr",
     "output_type": "stream",
     "text": [
      "[Parallel(n_jobs=1)]: Done   1 out of   1 | elapsed:   10.2s remaining:    0.0s\n"
     ]
    },
    {
     "name": "stdout",
     "output_type": "stream",
     "text": [
      "[CV]  metric=<function calculate_distance at 0x000002C8A5544EA0>, metric_params={'dist_type': 'cosine'}, n_neighbors=2, score=0.28502415458937197, total=   2.3s\n",
      "[CV] metric=<function calculate_distance at 0x000002C8A5544EA0>, metric_params={'dist_type': 'cosine'}, n_neighbors=3 \n"
     ]
    },
    {
     "name": "stderr",
     "output_type": "stream",
     "text": [
      "[Parallel(n_jobs=1)]: Done   2 out of   2 | elapsed:   21.7s remaining:    0.0s\n"
     ]
    },
    {
     "name": "stdout",
     "output_type": "stream",
     "text": [
      "[CV]  metric=<function calculate_distance at 0x000002C8A5544EA0>, metric_params={'dist_type': 'cosine'}, n_neighbors=3, score=0.24154589371980675, total=   2.3s\n",
      "[CV] metric=<function calculate_distance at 0x000002C8A5544EA0>, metric_params={'dist_type': 'cosine'}, n_neighbors=4 \n",
      "[CV]  metric=<function calculate_distance at 0x000002C8A5544EA0>, metric_params={'dist_type': 'cosine'}, n_neighbors=4, score=0.19806763285024154, total=   2.2s\n",
      "[CV] metric=<function calculate_distance at 0x000002C8A5544EA0>, metric_params={'dist_type': 'cosine'}, n_neighbors=5 \n",
      "[CV]  metric=<function calculate_distance at 0x000002C8A5544EA0>, metric_params={'dist_type': 'cosine'}, n_neighbors=5, score=0.2222222222222222, total=   2.2s\n",
      "[CV] metric=<function calculate_distance at 0x000002C8A5544EA0>, metric_params={'dist_type': 'cosine'}, n_neighbors=6 \n",
      "[CV]  metric=<function calculate_distance at 0x000002C8A5544EA0>, metric_params={'dist_type': 'cosine'}, n_neighbors=6, score=0.20772946859903382, total=   2.2s\n",
      "[CV] metric=<function calculate_distance at 0x000002C8A5544EA0>, metric_params={'dist_type': 'cosine'}, n_neighbors=7 \n",
      "[CV]  metric=<function calculate_distance at 0x000002C8A5544EA0>, metric_params={'dist_type': 'cosine'}, n_neighbors=7, score=0.2222222222222222, total=   2.3s\n",
      "[CV] metric=<function calculate_distance at 0x000002C8A5544EA0>, metric_params={'dist_type': 'cosine'}, n_neighbors=8 \n",
      "[CV]  metric=<function calculate_distance at 0x000002C8A5544EA0>, metric_params={'dist_type': 'cosine'}, n_neighbors=8, score=0.18357487922705315, total=   2.3s\n",
      "[CV] metric=<function calculate_distance at 0x000002C8A5544EA0>, metric_params={'dist_type': 'cosine'}, n_neighbors=9 \n",
      "[CV]  metric=<function calculate_distance at 0x000002C8A5544EA0>, metric_params={'dist_type': 'cosine'}, n_neighbors=9, score=0.14492753623188406, total=   2.3s\n",
      "[CV] metric=<function calculate_distance at 0x000002C8A5544EA0>, metric_params={'dist_type': 'cosine'}, n_neighbors=10 \n",
      "[CV]  metric=<function calculate_distance at 0x000002C8A5544EA0>, metric_params={'dist_type': 'cosine'}, n_neighbors=10, score=0.15458937198067632, total=   3.2s\n",
      "6\n"
     ]
    },
    {
     "name": "stderr",
     "output_type": "stream",
     "text": [
      "[Parallel(n_jobs=1)]: Done  10 out of  10 | elapsed:  2.0min finished\n"
     ]
    },
    {
     "name": "stdout",
     "output_type": "stream",
     "text": [
      "Fitting 1 folds for each of 10 candidates, totalling 10 fits\n",
      "[CV] metric=<function calculate_distance at 0x000002C8A5544EA0>, metric_params={'dist_type': 'cosine'}, n_neighbors=1 \n",
      "[CV]  metric=<function calculate_distance at 0x000002C8A5544EA0>, metric_params={'dist_type': 'cosine'}, n_neighbors=1, score=0.22705314009661837, total=   2.6s\n",
      "[CV] metric=<function calculate_distance at 0x000002C8A5544EA0>, metric_params={'dist_type': 'cosine'}, n_neighbors=2 \n"
     ]
    },
    {
     "name": "stderr",
     "output_type": "stream",
     "text": [
      "[Parallel(n_jobs=1)]: Done   1 out of   1 | elapsed:   12.0s remaining:    0.0s\n"
     ]
    },
    {
     "name": "stdout",
     "output_type": "stream",
     "text": [
      "[CV]  metric=<function calculate_distance at 0x000002C8A5544EA0>, metric_params={'dist_type': 'cosine'}, n_neighbors=2, score=0.2028985507246377, total=   2.8s\n",
      "[CV] metric=<function calculate_distance at 0x000002C8A5544EA0>, metric_params={'dist_type': 'cosine'}, n_neighbors=3 \n"
     ]
    },
    {
     "name": "stderr",
     "output_type": "stream",
     "text": [
      "[Parallel(n_jobs=1)]: Done   2 out of   2 | elapsed:   25.8s remaining:    0.0s\n"
     ]
    },
    {
     "name": "stdout",
     "output_type": "stream",
     "text": [
      "[CV]  metric=<function calculate_distance at 0x000002C8A5544EA0>, metric_params={'dist_type': 'cosine'}, n_neighbors=3, score=0.16908212560386474, total=   2.7s\n",
      "[CV] metric=<function calculate_distance at 0x000002C8A5544EA0>, metric_params={'dist_type': 'cosine'}, n_neighbors=4 \n",
      "[CV]  metric=<function calculate_distance at 0x000002C8A5544EA0>, metric_params={'dist_type': 'cosine'}, n_neighbors=4, score=0.14009661835748793, total=   2.6s\n",
      "[CV] metric=<function calculate_distance at 0x000002C8A5544EA0>, metric_params={'dist_type': 'cosine'}, n_neighbors=5 \n",
      "[CV]  metric=<function calculate_distance at 0x000002C8A5544EA0>, metric_params={'dist_type': 'cosine'}, n_neighbors=5, score=0.14009661835748793, total=   2.6s\n",
      "[CV] metric=<function calculate_distance at 0x000002C8A5544EA0>, metric_params={'dist_type': 'cosine'}, n_neighbors=6 \n",
      "[CV]  metric=<function calculate_distance at 0x000002C8A5544EA0>, metric_params={'dist_type': 'cosine'}, n_neighbors=6, score=0.178743961352657, total=   2.7s\n",
      "[CV] metric=<function calculate_distance at 0x000002C8A5544EA0>, metric_params={'dist_type': 'cosine'}, n_neighbors=7 \n",
      "[CV]  metric=<function calculate_distance at 0x000002C8A5544EA0>, metric_params={'dist_type': 'cosine'}, n_neighbors=7, score=0.17391304347826086, total=   2.8s\n",
      "[CV] metric=<function calculate_distance at 0x000002C8A5544EA0>, metric_params={'dist_type': 'cosine'}, n_neighbors=8 \n",
      "[CV]  metric=<function calculate_distance at 0x000002C8A5544EA0>, metric_params={'dist_type': 'cosine'}, n_neighbors=8, score=0.178743961352657, total=   2.7s\n",
      "[CV] metric=<function calculate_distance at 0x000002C8A5544EA0>, metric_params={'dist_type': 'cosine'}, n_neighbors=9 \n",
      "[CV]  metric=<function calculate_distance at 0x000002C8A5544EA0>, metric_params={'dist_type': 'cosine'}, n_neighbors=9, score=0.14492753623188406, total=   2.9s\n",
      "[CV] metric=<function calculate_distance at 0x000002C8A5544EA0>, metric_params={'dist_type': 'cosine'}, n_neighbors=10 \n",
      "[CV]  metric=<function calculate_distance at 0x000002C8A5544EA0>, metric_params={'dist_type': 'cosine'}, n_neighbors=10, score=0.15942028985507245, total=   2.9s\n",
      "7\n"
     ]
    },
    {
     "name": "stderr",
     "output_type": "stream",
     "text": [
      "[Parallel(n_jobs=1)]: Done  10 out of  10 | elapsed:  2.3min finished\n",
      "c:\\python36\\lib\\site-packages\\scipy\\stats\\stats.py:3021: RuntimeWarning: invalid value encountered in double_scalars\n",
      "  r = r_num / r_den\n",
      "c:\\python36\\lib\\site-packages\\scipy\\stats\\stats.py:5277: RuntimeWarning: invalid value encountered in less\n",
      "  x = np.where(x < 1.0, x, 1.0)  # if x > 1 then return 1.0\n"
     ]
    },
    {
     "name": "stdout",
     "output_type": "stream",
     "text": [
      "8\n",
      "9\n",
      "10\n",
      "11\n",
      "12\n"
     ]
    }
   ],
   "source": [
    "for nr in frame_numbers:\n",
    "    print(nr)\n",
    "    try:\n",
    "        ori_train_input, ori_train_label = prepare_data(train, nr, 'orientation', verbose=False)\n",
    "        ori_valid_input, ori_valid_label = prepare_data(valid, nr, 'orientation', verbose=False)\n",
    "\n",
    "        kNN = GridSearchCV(KNeighborsClassifier(), parameters, cv=cross_valid, scoring='accuracy', n_jobs=parallel_jobs,\n",
    "                           verbose=verbose_level).fit(np.append(ori_train_input, ori_valid_input, axis=0),\n",
    "                                                      np.append(ori_train_label, ori_valid_label))\n",
    "        \n",
    "        result = (kNN.best_score_, nr, kNN.best_params_)\n",
    "        \n",
    "        if result[0] > cosine_ori[0]:\n",
    "            cosine_ori = result\n",
    "        \n",
    "    except ValueError as err:\n",
    "        pass"
   ]
  },
  {
   "cell_type": "markdown",
   "metadata": {},
   "source": [
    "### EMG"
   ]
  },
  {
   "cell_type": "code",
   "execution_count": 24,
   "metadata": {
    "scrolled": true
   },
   "outputs": [
    {
     "name": "stdout",
     "output_type": "stream",
     "text": [
      "1\n",
      "Fitting 1 folds for each of 10 candidates, totalling 10 fits\n",
      "[CV] metric=<function calculate_distance at 0x000002C8A5544EA0>, metric_params={'dist_type': 'cosine'}, n_neighbors=1 \n",
      "[CV]  metric=<function calculate_distance at 0x000002C8A5544EA0>, metric_params={'dist_type': 'cosine'}, n_neighbors=1, score=0.5240384615384616, total=   1.9s\n",
      "[CV] metric=<function calculate_distance at 0x000002C8A5544EA0>, metric_params={'dist_type': 'cosine'}, n_neighbors=2 \n"
     ]
    },
    {
     "name": "stderr",
     "output_type": "stream",
     "text": [
      "[Parallel(n_jobs=1)]: Done   1 out of   1 | elapsed:    8.7s remaining:    0.0s\n"
     ]
    },
    {
     "name": "stdout",
     "output_type": "stream",
     "text": [
      "[CV]  metric=<function calculate_distance at 0x000002C8A5544EA0>, metric_params={'dist_type': 'cosine'}, n_neighbors=2, score=0.4326923076923077, total=   1.9s\n",
      "[CV] metric=<function calculate_distance at 0x000002C8A5544EA0>, metric_params={'dist_type': 'cosine'}, n_neighbors=3 \n"
     ]
    },
    {
     "name": "stderr",
     "output_type": "stream",
     "text": [
      "[Parallel(n_jobs=1)]: Done   2 out of   2 | elapsed:   18.0s remaining:    0.0s\n"
     ]
    },
    {
     "name": "stdout",
     "output_type": "stream",
     "text": [
      "[CV]  metric=<function calculate_distance at 0x000002C8A5544EA0>, metric_params={'dist_type': 'cosine'}, n_neighbors=3, score=0.3942307692307692, total=   2.0s\n",
      "[CV] metric=<function calculate_distance at 0x000002C8A5544EA0>, metric_params={'dist_type': 'cosine'}, n_neighbors=4 \n",
      "[CV]  metric=<function calculate_distance at 0x000002C8A5544EA0>, metric_params={'dist_type': 'cosine'}, n_neighbors=4, score=0.375, total=   2.0s\n",
      "[CV] metric=<function calculate_distance at 0x000002C8A5544EA0>, metric_params={'dist_type': 'cosine'}, n_neighbors=5 \n",
      "[CV]  metric=<function calculate_distance at 0x000002C8A5544EA0>, metric_params={'dist_type': 'cosine'}, n_neighbors=5, score=0.3269230769230769, total=   2.1s\n",
      "[CV] metric=<function calculate_distance at 0x000002C8A5544EA0>, metric_params={'dist_type': 'cosine'}, n_neighbors=6 \n",
      "[CV]  metric=<function calculate_distance at 0x000002C8A5544EA0>, metric_params={'dist_type': 'cosine'}, n_neighbors=6, score=0.2932692307692308, total=   2.1s\n",
      "[CV] metric=<function calculate_distance at 0x000002C8A5544EA0>, metric_params={'dist_type': 'cosine'}, n_neighbors=7 \n",
      "[CV]  metric=<function calculate_distance at 0x000002C8A5544EA0>, metric_params={'dist_type': 'cosine'}, n_neighbors=7, score=0.25961538461538464, total=   2.1s\n",
      "[CV] metric=<function calculate_distance at 0x000002C8A5544EA0>, metric_params={'dist_type': 'cosine'}, n_neighbors=8 \n",
      "[CV]  metric=<function calculate_distance at 0x000002C8A5544EA0>, metric_params={'dist_type': 'cosine'}, n_neighbors=8, score=0.22115384615384615, total=   2.1s\n",
      "[CV] metric=<function calculate_distance at 0x000002C8A5544EA0>, metric_params={'dist_type': 'cosine'}, n_neighbors=9 \n",
      "[CV]  metric=<function calculate_distance at 0x000002C8A5544EA0>, metric_params={'dist_type': 'cosine'}, n_neighbors=9, score=0.1971153846153846, total=   2.2s\n",
      "[CV] metric=<function calculate_distance at 0x000002C8A5544EA0>, metric_params={'dist_type': 'cosine'}, n_neighbors=10 \n",
      "[CV]  metric=<function calculate_distance at 0x000002C8A5544EA0>, metric_params={'dist_type': 'cosine'}, n_neighbors=10, score=0.1971153846153846, total=   2.1s\n",
      "2\n"
     ]
    },
    {
     "name": "stderr",
     "output_type": "stream",
     "text": [
      "[Parallel(n_jobs=1)]: Done  10 out of  10 | elapsed:  1.7min finished\n"
     ]
    },
    {
     "name": "stdout",
     "output_type": "stream",
     "text": [
      "Fitting 1 folds for each of 10 candidates, totalling 10 fits\n",
      "[CV] metric=<function calculate_distance at 0x000002C8A5544EA0>, metric_params={'dist_type': 'cosine'}, n_neighbors=1 \n",
      "[CV]  metric=<function calculate_distance at 0x000002C8A5544EA0>, metric_params={'dist_type': 'cosine'}, n_neighbors=1, score=0.5336538461538461, total=   2.4s\n",
      "[CV] metric=<function calculate_distance at 0x000002C8A5544EA0>, metric_params={'dist_type': 'cosine'}, n_neighbors=2 \n"
     ]
    },
    {
     "name": "stderr",
     "output_type": "stream",
     "text": [
      "[Parallel(n_jobs=1)]: Done   1 out of   1 | elapsed:   10.2s remaining:    0.0s\n"
     ]
    },
    {
     "name": "stdout",
     "output_type": "stream",
     "text": [
      "[CV]  metric=<function calculate_distance at 0x000002C8A5544EA0>, metric_params={'dist_type': 'cosine'}, n_neighbors=2, score=0.44711538461538464, total=   2.4s\n",
      "[CV] metric=<function calculate_distance at 0x000002C8A5544EA0>, metric_params={'dist_type': 'cosine'}, n_neighbors=3 \n"
     ]
    },
    {
     "name": "stderr",
     "output_type": "stream",
     "text": [
      "[Parallel(n_jobs=1)]: Done   2 out of   2 | elapsed:   21.7s remaining:    0.0s\n"
     ]
    },
    {
     "name": "stdout",
     "output_type": "stream",
     "text": [
      "[CV]  metric=<function calculate_distance at 0x000002C8A5544EA0>, metric_params={'dist_type': 'cosine'}, n_neighbors=3, score=0.41346153846153844, total=   2.4s\n",
      "[CV] metric=<function calculate_distance at 0x000002C8A5544EA0>, metric_params={'dist_type': 'cosine'}, n_neighbors=4 \n",
      "[CV]  metric=<function calculate_distance at 0x000002C8A5544EA0>, metric_params={'dist_type': 'cosine'}, n_neighbors=4, score=0.36538461538461536, total=   2.5s\n",
      "[CV] metric=<function calculate_distance at 0x000002C8A5544EA0>, metric_params={'dist_type': 'cosine'}, n_neighbors=5 \n",
      "[CV]  metric=<function calculate_distance at 0x000002C8A5544EA0>, metric_params={'dist_type': 'cosine'}, n_neighbors=5, score=0.32211538461538464, total=   2.5s\n",
      "[CV] metric=<function calculate_distance at 0x000002C8A5544EA0>, metric_params={'dist_type': 'cosine'}, n_neighbors=6 \n",
      "[CV]  metric=<function calculate_distance at 0x000002C8A5544EA0>, metric_params={'dist_type': 'cosine'}, n_neighbors=6, score=0.28365384615384615, total=   2.5s\n",
      "[CV] metric=<function calculate_distance at 0x000002C8A5544EA0>, metric_params={'dist_type': 'cosine'}, n_neighbors=7 \n",
      "[CV]  metric=<function calculate_distance at 0x000002C8A5544EA0>, metric_params={'dist_type': 'cosine'}, n_neighbors=7, score=0.27884615384615385, total=   2.6s\n",
      "[CV] metric=<function calculate_distance at 0x000002C8A5544EA0>, metric_params={'dist_type': 'cosine'}, n_neighbors=8 \n",
      "[CV]  metric=<function calculate_distance at 0x000002C8A5544EA0>, metric_params={'dist_type': 'cosine'}, n_neighbors=8, score=0.23557692307692307, total=   2.5s\n",
      "[CV] metric=<function calculate_distance at 0x000002C8A5544EA0>, metric_params={'dist_type': 'cosine'}, n_neighbors=9 \n",
      "[CV]  metric=<function calculate_distance at 0x000002C8A5544EA0>, metric_params={'dist_type': 'cosine'}, n_neighbors=9, score=0.22115384615384615, total=   2.6s\n",
      "[CV] metric=<function calculate_distance at 0x000002C8A5544EA0>, metric_params={'dist_type': 'cosine'}, n_neighbors=10 \n",
      "[CV]  metric=<function calculate_distance at 0x000002C8A5544EA0>, metric_params={'dist_type': 'cosine'}, n_neighbors=10, score=0.21634615384615385, total=   2.6s\n",
      "3\n"
     ]
    },
    {
     "name": "stderr",
     "output_type": "stream",
     "text": [
      "[Parallel(n_jobs=1)]: Done  10 out of  10 | elapsed:  2.0min finished\n"
     ]
    },
    {
     "name": "stdout",
     "output_type": "stream",
     "text": [
      "Fitting 1 folds for each of 10 candidates, totalling 10 fits\n",
      "[CV] metric=<function calculate_distance at 0x000002C8A5544EA0>, metric_params={'dist_type': 'cosine'}, n_neighbors=1 \n",
      "[CV]  metric=<function calculate_distance at 0x000002C8A5544EA0>, metric_params={'dist_type': 'cosine'}, n_neighbors=1, score=0.5721153846153846, total=   2.4s\n",
      "[CV] metric=<function calculate_distance at 0x000002C8A5544EA0>, metric_params={'dist_type': 'cosine'}, n_neighbors=2 \n"
     ]
    },
    {
     "name": "stderr",
     "output_type": "stream",
     "text": [
      "[Parallel(n_jobs=1)]: Done   1 out of   1 | elapsed:   10.1s remaining:    0.0s\n"
     ]
    },
    {
     "name": "stdout",
     "output_type": "stream",
     "text": [
      "[CV]  metric=<function calculate_distance at 0x000002C8A5544EA0>, metric_params={'dist_type': 'cosine'}, n_neighbors=2, score=0.47596153846153844, total=   2.1s\n",
      "[CV] metric=<function calculate_distance at 0x000002C8A5544EA0>, metric_params={'dist_type': 'cosine'}, n_neighbors=3 \n"
     ]
    },
    {
     "name": "stderr",
     "output_type": "stream",
     "text": [
      "[Parallel(n_jobs=1)]: Done   2 out of   2 | elapsed:   21.3s remaining:    0.0s\n"
     ]
    },
    {
     "name": "stdout",
     "output_type": "stream",
     "text": [
      "[CV]  metric=<function calculate_distance at 0x000002C8A5544EA0>, metric_params={'dist_type': 'cosine'}, n_neighbors=3, score=0.4423076923076923, total=   2.5s\n",
      "[CV] metric=<function calculate_distance at 0x000002C8A5544EA0>, metric_params={'dist_type': 'cosine'}, n_neighbors=4 \n",
      "[CV]  metric=<function calculate_distance at 0x000002C8A5544EA0>, metric_params={'dist_type': 'cosine'}, n_neighbors=4, score=0.3701923076923077, total=   2.5s\n",
      "[CV] metric=<function calculate_distance at 0x000002C8A5544EA0>, metric_params={'dist_type': 'cosine'}, n_neighbors=5 \n",
      "[CV]  metric=<function calculate_distance at 0x000002C8A5544EA0>, metric_params={'dist_type': 'cosine'}, n_neighbors=5, score=0.32211538461538464, total=   2.5s\n",
      "[CV] metric=<function calculate_distance at 0x000002C8A5544EA0>, metric_params={'dist_type': 'cosine'}, n_neighbors=6 \n",
      "[CV]  metric=<function calculate_distance at 0x000002C8A5544EA0>, metric_params={'dist_type': 'cosine'}, n_neighbors=6, score=0.3173076923076923, total=   2.6s\n",
      "[CV] metric=<function calculate_distance at 0x000002C8A5544EA0>, metric_params={'dist_type': 'cosine'}, n_neighbors=7 \n",
      "[CV]  metric=<function calculate_distance at 0x000002C8A5544EA0>, metric_params={'dist_type': 'cosine'}, n_neighbors=7, score=0.2644230769230769, total=   2.6s\n",
      "[CV] metric=<function calculate_distance at 0x000002C8A5544EA0>, metric_params={'dist_type': 'cosine'}, n_neighbors=8 \n",
      "[CV]  metric=<function calculate_distance at 0x000002C8A5544EA0>, metric_params={'dist_type': 'cosine'}, n_neighbors=8, score=0.24519230769230768, total=   2.6s\n",
      "[CV] metric=<function calculate_distance at 0x000002C8A5544EA0>, metric_params={'dist_type': 'cosine'}, n_neighbors=9 \n",
      "[CV]  metric=<function calculate_distance at 0x000002C8A5544EA0>, metric_params={'dist_type': 'cosine'}, n_neighbors=9, score=0.20192307692307693, total=   2.6s\n",
      "[CV] metric=<function calculate_distance at 0x000002C8A5544EA0>, metric_params={'dist_type': 'cosine'}, n_neighbors=10 \n",
      "[CV]  metric=<function calculate_distance at 0x000002C8A5544EA0>, metric_params={'dist_type': 'cosine'}, n_neighbors=10, score=0.21634615384615385, total=   2.6s\n",
      "4\n"
     ]
    },
    {
     "name": "stderr",
     "output_type": "stream",
     "text": [
      "[Parallel(n_jobs=1)]: Done  10 out of  10 | elapsed:  2.0min finished\n"
     ]
    },
    {
     "name": "stdout",
     "output_type": "stream",
     "text": [
      "Fitting 1 folds for each of 10 candidates, totalling 10 fits\n",
      "[CV] metric=<function calculate_distance at 0x000002C8A5544EA0>, metric_params={'dist_type': 'cosine'}, n_neighbors=1 \n",
      "[CV]  metric=<function calculate_distance at 0x000002C8A5544EA0>, metric_params={'dist_type': 'cosine'}, n_neighbors=1, score=0.5336538461538461, total=   2.8s\n",
      "[CV] metric=<function calculate_distance at 0x000002C8A5544EA0>, metric_params={'dist_type': 'cosine'}, n_neighbors=2 \n"
     ]
    },
    {
     "name": "stderr",
     "output_type": "stream",
     "text": [
      "[Parallel(n_jobs=1)]: Done   1 out of   1 | elapsed:   11.8s remaining:    0.0s\n"
     ]
    },
    {
     "name": "stdout",
     "output_type": "stream",
     "text": [
      "[CV]  metric=<function calculate_distance at 0x000002C8A5544EA0>, metric_params={'dist_type': 'cosine'}, n_neighbors=2, score=0.47596153846153844, total=   2.8s\n",
      "[CV] metric=<function calculate_distance at 0x000002C8A5544EA0>, metric_params={'dist_type': 'cosine'}, n_neighbors=3 \n"
     ]
    },
    {
     "name": "stderr",
     "output_type": "stream",
     "text": [
      "[Parallel(n_jobs=1)]: Done   2 out of   2 | elapsed:   24.9s remaining:    0.0s\n"
     ]
    },
    {
     "name": "stdout",
     "output_type": "stream",
     "text": [
      "[CV]  metric=<function calculate_distance at 0x000002C8A5544EA0>, metric_params={'dist_type': 'cosine'}, n_neighbors=3, score=0.4423076923076923, total=   2.8s\n",
      "[CV] metric=<function calculate_distance at 0x000002C8A5544EA0>, metric_params={'dist_type': 'cosine'}, n_neighbors=4 \n",
      "[CV]  metric=<function calculate_distance at 0x000002C8A5544EA0>, metric_params={'dist_type': 'cosine'}, n_neighbors=4, score=0.3701923076923077, total=   2.8s\n",
      "[CV] metric=<function calculate_distance at 0x000002C8A5544EA0>, metric_params={'dist_type': 'cosine'}, n_neighbors=5 \n",
      "[CV]  metric=<function calculate_distance at 0x000002C8A5544EA0>, metric_params={'dist_type': 'cosine'}, n_neighbors=5, score=0.28846153846153844, total=   2.8s\n",
      "[CV] metric=<function calculate_distance at 0x000002C8A5544EA0>, metric_params={'dist_type': 'cosine'}, n_neighbors=6 \n",
      "[CV]  metric=<function calculate_distance at 0x000002C8A5544EA0>, metric_params={'dist_type': 'cosine'}, n_neighbors=6, score=0.27884615384615385, total=   2.8s\n",
      "[CV] metric=<function calculate_distance at 0x000002C8A5544EA0>, metric_params={'dist_type': 'cosine'}, n_neighbors=7 \n",
      "[CV]  metric=<function calculate_distance at 0x000002C8A5544EA0>, metric_params={'dist_type': 'cosine'}, n_neighbors=7, score=0.2548076923076923, total=   2.9s\n",
      "[CV] metric=<function calculate_distance at 0x000002C8A5544EA0>, metric_params={'dist_type': 'cosine'}, n_neighbors=8 \n",
      "[CV]  metric=<function calculate_distance at 0x000002C8A5544EA0>, metric_params={'dist_type': 'cosine'}, n_neighbors=8, score=0.23557692307692307, total=   2.9s\n",
      "[CV] metric=<function calculate_distance at 0x000002C8A5544EA0>, metric_params={'dist_type': 'cosine'}, n_neighbors=9 \n",
      "[CV]  metric=<function calculate_distance at 0x000002C8A5544EA0>, metric_params={'dist_type': 'cosine'}, n_neighbors=9, score=0.21634615384615385, total=   3.1s\n",
      "[CV] metric=<function calculate_distance at 0x000002C8A5544EA0>, metric_params={'dist_type': 'cosine'}, n_neighbors=10 \n",
      "[CV]  metric=<function calculate_distance at 0x000002C8A5544EA0>, metric_params={'dist_type': 'cosine'}, n_neighbors=10, score=0.20673076923076922, total=   3.0s\n",
      "5\n"
     ]
    },
    {
     "name": "stderr",
     "output_type": "stream",
     "text": [
      "[Parallel(n_jobs=1)]: Done  10 out of  10 | elapsed:  2.3min finished\n"
     ]
    },
    {
     "name": "stdout",
     "output_type": "stream",
     "text": [
      "Fitting 1 folds for each of 10 candidates, totalling 10 fits\n",
      "[CV] metric=<function calculate_distance at 0x000002C8A5544EA0>, metric_params={'dist_type': 'cosine'}, n_neighbors=1 \n",
      "[CV]  metric=<function calculate_distance at 0x000002C8A5544EA0>, metric_params={'dist_type': 'cosine'}, n_neighbors=1, score=0.5528846153846154, total=   2.8s\n",
      "[CV] metric=<function calculate_distance at 0x000002C8A5544EA0>, metric_params={'dist_type': 'cosine'}, n_neighbors=2 \n"
     ]
    },
    {
     "name": "stderr",
     "output_type": "stream",
     "text": [
      "[Parallel(n_jobs=1)]: Done   1 out of   1 | elapsed:   11.7s remaining:    0.0s\n"
     ]
    },
    {
     "name": "stdout",
     "output_type": "stream",
     "text": [
      "[CV]  metric=<function calculate_distance at 0x000002C8A5544EA0>, metric_params={'dist_type': 'cosine'}, n_neighbors=2, score=0.4807692307692308, total=   2.8s\n",
      "[CV] metric=<function calculate_distance at 0x000002C8A5544EA0>, metric_params={'dist_type': 'cosine'}, n_neighbors=3 \n"
     ]
    },
    {
     "name": "stderr",
     "output_type": "stream",
     "text": [
      "[Parallel(n_jobs=1)]: Done   2 out of   2 | elapsed:   25.2s remaining:    0.0s\n"
     ]
    },
    {
     "name": "stdout",
     "output_type": "stream",
     "text": [
      "[CV]  metric=<function calculate_distance at 0x000002C8A5544EA0>, metric_params={'dist_type': 'cosine'}, n_neighbors=3, score=0.4375, total=   2.9s\n",
      "[CV] metric=<function calculate_distance at 0x000002C8A5544EA0>, metric_params={'dist_type': 'cosine'}, n_neighbors=4 \n",
      "[CV]  metric=<function calculate_distance at 0x000002C8A5544EA0>, metric_params={'dist_type': 'cosine'}, n_neighbors=4, score=0.3605769230769231, total=   2.9s\n",
      "[CV] metric=<function calculate_distance at 0x000002C8A5544EA0>, metric_params={'dist_type': 'cosine'}, n_neighbors=5 \n",
      "[CV]  metric=<function calculate_distance at 0x000002C8A5544EA0>, metric_params={'dist_type': 'cosine'}, n_neighbors=5, score=0.32211538461538464, total=   2.9s\n",
      "[CV] metric=<function calculate_distance at 0x000002C8A5544EA0>, metric_params={'dist_type': 'cosine'}, n_neighbors=6 \n",
      "[CV]  metric=<function calculate_distance at 0x000002C8A5544EA0>, metric_params={'dist_type': 'cosine'}, n_neighbors=6, score=0.3076923076923077, total=   3.1s\n",
      "[CV] metric=<function calculate_distance at 0x000002C8A5544EA0>, metric_params={'dist_type': 'cosine'}, n_neighbors=7 \n",
      "[CV]  metric=<function calculate_distance at 0x000002C8A5544EA0>, metric_params={'dist_type': 'cosine'}, n_neighbors=7, score=0.27403846153846156, total=   2.9s\n",
      "[CV] metric=<function calculate_distance at 0x000002C8A5544EA0>, metric_params={'dist_type': 'cosine'}, n_neighbors=8 \n",
      "[CV]  metric=<function calculate_distance at 0x000002C8A5544EA0>, metric_params={'dist_type': 'cosine'}, n_neighbors=8, score=0.25961538461538464, total=   2.9s\n",
      "[CV] metric=<function calculate_distance at 0x000002C8A5544EA0>, metric_params={'dist_type': 'cosine'}, n_neighbors=9 \n",
      "[CV]  metric=<function calculate_distance at 0x000002C8A5544EA0>, metric_params={'dist_type': 'cosine'}, n_neighbors=9, score=0.2403846153846154, total=   3.0s\n",
      "[CV] metric=<function calculate_distance at 0x000002C8A5544EA0>, metric_params={'dist_type': 'cosine'}, n_neighbors=10 \n",
      "[CV]  metric=<function calculate_distance at 0x000002C8A5544EA0>, metric_params={'dist_type': 'cosine'}, n_neighbors=10, score=0.21153846153846154, total=   4.2s\n",
      "6\n"
     ]
    },
    {
     "name": "stderr",
     "output_type": "stream",
     "text": [
      "[Parallel(n_jobs=1)]: Done  10 out of  10 | elapsed:  2.4min finished\n"
     ]
    },
    {
     "name": "stdout",
     "output_type": "stream",
     "text": [
      "Fitting 1 folds for each of 10 candidates, totalling 10 fits\n",
      "[CV] metric=<function calculate_distance at 0x000002C8A5544EA0>, metric_params={'dist_type': 'cosine'}, n_neighbors=1 \n",
      "[CV]  metric=<function calculate_distance at 0x000002C8A5544EA0>, metric_params={'dist_type': 'cosine'}, n_neighbors=1, score=0.5625, total=   2.7s\n",
      "[CV] metric=<function calculate_distance at 0x000002C8A5544EA0>, metric_params={'dist_type': 'cosine'}, n_neighbors=2 \n"
     ]
    },
    {
     "name": "stderr",
     "output_type": "stream",
     "text": [
      "[Parallel(n_jobs=1)]: Done   1 out of   1 | elapsed:   11.8s remaining:    0.0s\n"
     ]
    },
    {
     "name": "stdout",
     "output_type": "stream",
     "text": [
      "[CV]  metric=<function calculate_distance at 0x000002C8A5544EA0>, metric_params={'dist_type': 'cosine'}, n_neighbors=2, score=0.5048076923076923, total=   2.8s\n",
      "[CV] metric=<function calculate_distance at 0x000002C8A5544EA0>, metric_params={'dist_type': 'cosine'}, n_neighbors=3 \n"
     ]
    },
    {
     "name": "stderr",
     "output_type": "stream",
     "text": [
      "[Parallel(n_jobs=1)]: Done   2 out of   2 | elapsed:   24.7s remaining:    0.0s\n"
     ]
    },
    {
     "name": "stdout",
     "output_type": "stream",
     "text": [
      "[CV]  metric=<function calculate_distance at 0x000002C8A5544EA0>, metric_params={'dist_type': 'cosine'}, n_neighbors=3, score=0.4326923076923077, total=   2.7s\n",
      "[CV] metric=<function calculate_distance at 0x000002C8A5544EA0>, metric_params={'dist_type': 'cosine'}, n_neighbors=4 \n",
      "[CV]  metric=<function calculate_distance at 0x000002C8A5544EA0>, metric_params={'dist_type': 'cosine'}, n_neighbors=4, score=0.3605769230769231, total=   2.9s\n",
      "[CV] metric=<function calculate_distance at 0x000002C8A5544EA0>, metric_params={'dist_type': 'cosine'}, n_neighbors=5 \n",
      "[CV]  metric=<function calculate_distance at 0x000002C8A5544EA0>, metric_params={'dist_type': 'cosine'}, n_neighbors=5, score=0.3269230769230769, total=   2.8s\n",
      "[CV] metric=<function calculate_distance at 0x000002C8A5544EA0>, metric_params={'dist_type': 'cosine'}, n_neighbors=6 \n",
      "[CV]  metric=<function calculate_distance at 0x000002C8A5544EA0>, metric_params={'dist_type': 'cosine'}, n_neighbors=6, score=0.28846153846153844, total=   3.0s\n",
      "[CV] metric=<function calculate_distance at 0x000002C8A5544EA0>, metric_params={'dist_type': 'cosine'}, n_neighbors=7 \n",
      "[CV]  metric=<function calculate_distance at 0x000002C8A5544EA0>, metric_params={'dist_type': 'cosine'}, n_neighbors=7, score=0.25, total=   3.0s\n",
      "[CV] metric=<function calculate_distance at 0x000002C8A5544EA0>, metric_params={'dist_type': 'cosine'}, n_neighbors=8 \n",
      "[CV]  metric=<function calculate_distance at 0x000002C8A5544EA0>, metric_params={'dist_type': 'cosine'}, n_neighbors=8, score=0.25961538461538464, total=   2.8s\n",
      "[CV] metric=<function calculate_distance at 0x000002C8A5544EA0>, metric_params={'dist_type': 'cosine'}, n_neighbors=9 \n",
      "[CV]  metric=<function calculate_distance at 0x000002C8A5544EA0>, metric_params={'dist_type': 'cosine'}, n_neighbors=9, score=0.1971153846153846, total=   2.9s\n",
      "[CV] metric=<function calculate_distance at 0x000002C8A5544EA0>, metric_params={'dist_type': 'cosine'}, n_neighbors=10 \n",
      "[CV]  metric=<function calculate_distance at 0x000002C8A5544EA0>, metric_params={'dist_type': 'cosine'}, n_neighbors=10, score=0.1778846153846154, total=   3.1s\n",
      "7\n"
     ]
    },
    {
     "name": "stderr",
     "output_type": "stream",
     "text": [
      "[Parallel(n_jobs=1)]: Done  10 out of  10 | elapsed:  2.3min finished\n"
     ]
    },
    {
     "name": "stdout",
     "output_type": "stream",
     "text": [
      "Fitting 1 folds for each of 10 candidates, totalling 10 fits\n",
      "[CV] metric=<function calculate_distance at 0x000002C8A5544EA0>, metric_params={'dist_type': 'cosine'}, n_neighbors=1 \n",
      "[CV]  metric=<function calculate_distance at 0x000002C8A5544EA0>, metric_params={'dist_type': 'cosine'}, n_neighbors=1, score=0.5721153846153846, total=   2.7s\n",
      "[CV] metric=<function calculate_distance at 0x000002C8A5544EA0>, metric_params={'dist_type': 'cosine'}, n_neighbors=2 \n"
     ]
    },
    {
     "name": "stderr",
     "output_type": "stream",
     "text": [
      "[Parallel(n_jobs=1)]: Done   1 out of   1 | elapsed:   11.2s remaining:    0.0s\n"
     ]
    },
    {
     "name": "stdout",
     "output_type": "stream",
     "text": [
      "[CV]  metric=<function calculate_distance at 0x000002C8A5544EA0>, metric_params={'dist_type': 'cosine'}, n_neighbors=2, score=0.5048076923076923, total=   2.7s\n",
      "[CV] metric=<function calculate_distance at 0x000002C8A5544EA0>, metric_params={'dist_type': 'cosine'}, n_neighbors=3 \n"
     ]
    },
    {
     "name": "stderr",
     "output_type": "stream",
     "text": [
      "[Parallel(n_jobs=1)]: Done   2 out of   2 | elapsed:   24.1s remaining:    0.0s\n"
     ]
    },
    {
     "name": "stdout",
     "output_type": "stream",
     "text": [
      "[CV]  metric=<function calculate_distance at 0x000002C8A5544EA0>, metric_params={'dist_type': 'cosine'}, n_neighbors=3, score=0.4375, total=   2.9s\n",
      "[CV] metric=<function calculate_distance at 0x000002C8A5544EA0>, metric_params={'dist_type': 'cosine'}, n_neighbors=4 \n",
      "[CV]  metric=<function calculate_distance at 0x000002C8A5544EA0>, metric_params={'dist_type': 'cosine'}, n_neighbors=4, score=0.375, total=   2.8s\n",
      "[CV] metric=<function calculate_distance at 0x000002C8A5544EA0>, metric_params={'dist_type': 'cosine'}, n_neighbors=5 \n",
      "[CV]  metric=<function calculate_distance at 0x000002C8A5544EA0>, metric_params={'dist_type': 'cosine'}, n_neighbors=5, score=0.34615384615384615, total=   3.5s\n",
      "[CV] metric=<function calculate_distance at 0x000002C8A5544EA0>, metric_params={'dist_type': 'cosine'}, n_neighbors=6 \n",
      "[CV]  metric=<function calculate_distance at 0x000002C8A5544EA0>, metric_params={'dist_type': 'cosine'}, n_neighbors=6, score=0.3125, total=   3.0s\n",
      "[CV] metric=<function calculate_distance at 0x000002C8A5544EA0>, metric_params={'dist_type': 'cosine'}, n_neighbors=7 \n",
      "[CV]  metric=<function calculate_distance at 0x000002C8A5544EA0>, metric_params={'dist_type': 'cosine'}, n_neighbors=7, score=0.2692307692307692, total=   2.9s\n",
      "[CV] metric=<function calculate_distance at 0x000002C8A5544EA0>, metric_params={'dist_type': 'cosine'}, n_neighbors=8 \n",
      "[CV]  metric=<function calculate_distance at 0x000002C8A5544EA0>, metric_params={'dist_type': 'cosine'}, n_neighbors=8, score=0.23076923076923078, total=   2.9s\n",
      "[CV] metric=<function calculate_distance at 0x000002C8A5544EA0>, metric_params={'dist_type': 'cosine'}, n_neighbors=9 \n",
      "[CV]  metric=<function calculate_distance at 0x000002C8A5544EA0>, metric_params={'dist_type': 'cosine'}, n_neighbors=9, score=0.1971153846153846, total=   2.9s\n",
      "[CV] metric=<function calculate_distance at 0x000002C8A5544EA0>, metric_params={'dist_type': 'cosine'}, n_neighbors=10 \n",
      "[CV]  metric=<function calculate_distance at 0x000002C8A5544EA0>, metric_params={'dist_type': 'cosine'}, n_neighbors=10, score=0.18269230769230768, total=   2.9s\n",
      "8\n"
     ]
    },
    {
     "name": "stderr",
     "output_type": "stream",
     "text": [
      "[Parallel(n_jobs=1)]: Done  10 out of  10 | elapsed:  2.3min finished\n"
     ]
    },
    {
     "name": "stdout",
     "output_type": "stream",
     "text": [
      "Fitting 1 folds for each of 10 candidates, totalling 10 fits\n",
      "[CV] metric=<function calculate_distance at 0x000002C8A5544EA0>, metric_params={'dist_type': 'cosine'}, n_neighbors=1 \n",
      "[CV]  metric=<function calculate_distance at 0x000002C8A5544EA0>, metric_params={'dist_type': 'cosine'}, n_neighbors=1, score=0.5673076923076923, total=   2.8s\n",
      "[CV] metric=<function calculate_distance at 0x000002C8A5544EA0>, metric_params={'dist_type': 'cosine'}, n_neighbors=2 \n"
     ]
    },
    {
     "name": "stderr",
     "output_type": "stream",
     "text": [
      "[Parallel(n_jobs=1)]: Done   1 out of   1 | elapsed:   11.9s remaining:    0.0s\n"
     ]
    },
    {
     "name": "stdout",
     "output_type": "stream",
     "text": [
      "[CV]  metric=<function calculate_distance at 0x000002C8A5544EA0>, metric_params={'dist_type': 'cosine'}, n_neighbors=2, score=0.47596153846153844, total=   2.9s\n",
      "[CV] metric=<function calculate_distance at 0x000002C8A5544EA0>, metric_params={'dist_type': 'cosine'}, n_neighbors=3 \n"
     ]
    },
    {
     "name": "stderr",
     "output_type": "stream",
     "text": [
      "[Parallel(n_jobs=1)]: Done   2 out of   2 | elapsed:   25.6s remaining:    0.0s\n"
     ]
    },
    {
     "name": "stdout",
     "output_type": "stream",
     "text": [
      "[CV]  metric=<function calculate_distance at 0x000002C8A5544EA0>, metric_params={'dist_type': 'cosine'}, n_neighbors=3, score=0.4326923076923077, total=   2.9s\n",
      "[CV] metric=<function calculate_distance at 0x000002C8A5544EA0>, metric_params={'dist_type': 'cosine'}, n_neighbors=4 \n",
      "[CV]  metric=<function calculate_distance at 0x000002C8A5544EA0>, metric_params={'dist_type': 'cosine'}, n_neighbors=4, score=0.3894230769230769, total=   2.8s\n",
      "[CV] metric=<function calculate_distance at 0x000002C8A5544EA0>, metric_params={'dist_type': 'cosine'}, n_neighbors=5 \n",
      "[CV]  metric=<function calculate_distance at 0x000002C8A5544EA0>, metric_params={'dist_type': 'cosine'}, n_neighbors=5, score=0.34134615384615385, total=   2.9s\n",
      "[CV] metric=<function calculate_distance at 0x000002C8A5544EA0>, metric_params={'dist_type': 'cosine'}, n_neighbors=6 \n",
      "[CV]  metric=<function calculate_distance at 0x000002C8A5544EA0>, metric_params={'dist_type': 'cosine'}, n_neighbors=6, score=0.28846153846153844, total=   3.0s\n",
      "[CV] metric=<function calculate_distance at 0x000002C8A5544EA0>, metric_params={'dist_type': 'cosine'}, n_neighbors=7 \n",
      "[CV]  metric=<function calculate_distance at 0x000002C8A5544EA0>, metric_params={'dist_type': 'cosine'}, n_neighbors=7, score=0.2644230769230769, total=   3.0s\n",
      "[CV] metric=<function calculate_distance at 0x000002C8A5544EA0>, metric_params={'dist_type': 'cosine'}, n_neighbors=8 \n",
      "[CV]  metric=<function calculate_distance at 0x000002C8A5544EA0>, metric_params={'dist_type': 'cosine'}, n_neighbors=8, score=0.23557692307692307, total=   3.1s\n",
      "[CV] metric=<function calculate_distance at 0x000002C8A5544EA0>, metric_params={'dist_type': 'cosine'}, n_neighbors=9 \n",
      "[CV]  metric=<function calculate_distance at 0x000002C8A5544EA0>, metric_params={'dist_type': 'cosine'}, n_neighbors=9, score=0.19230769230769232, total=   3.2s\n",
      "[CV] metric=<function calculate_distance at 0x000002C8A5544EA0>, metric_params={'dist_type': 'cosine'}, n_neighbors=10 \n",
      "[CV]  metric=<function calculate_distance at 0x000002C8A5544EA0>, metric_params={'dist_type': 'cosine'}, n_neighbors=10, score=0.1778846153846154, total=   3.0s\n",
      "9\n"
     ]
    },
    {
     "name": "stderr",
     "output_type": "stream",
     "text": [
      "[Parallel(n_jobs=1)]: Done  10 out of  10 | elapsed:  2.4min finished\n"
     ]
    },
    {
     "name": "stdout",
     "output_type": "stream",
     "text": [
      "Fitting 1 folds for each of 10 candidates, totalling 10 fits\n",
      "[CV] metric=<function calculate_distance at 0x000002C8A5544EA0>, metric_params={'dist_type': 'cosine'}, n_neighbors=1 \n",
      "[CV]  metric=<function calculate_distance at 0x000002C8A5544EA0>, metric_params={'dist_type': 'cosine'}, n_neighbors=1, score=0.5625, total=   2.9s\n",
      "[CV] metric=<function calculate_distance at 0x000002C8A5544EA0>, metric_params={'dist_type': 'cosine'}, n_neighbors=2 \n"
     ]
    },
    {
     "name": "stderr",
     "output_type": "stream",
     "text": [
      "[Parallel(n_jobs=1)]: Done   1 out of   1 | elapsed:   12.7s remaining:    0.0s\n"
     ]
    },
    {
     "name": "stdout",
     "output_type": "stream",
     "text": [
      "[CV]  metric=<function calculate_distance at 0x000002C8A5544EA0>, metric_params={'dist_type': 'cosine'}, n_neighbors=2, score=0.4951923076923077, total=   3.0s\n",
      "[CV] metric=<function calculate_distance at 0x000002C8A5544EA0>, metric_params={'dist_type': 'cosine'}, n_neighbors=3 \n"
     ]
    },
    {
     "name": "stderr",
     "output_type": "stream",
     "text": [
      "[Parallel(n_jobs=1)]: Done   2 out of   2 | elapsed:   26.8s remaining:    0.0s\n"
     ]
    },
    {
     "name": "stdout",
     "output_type": "stream",
     "text": [
      "[CV]  metric=<function calculate_distance at 0x000002C8A5544EA0>, metric_params={'dist_type': 'cosine'}, n_neighbors=3, score=0.4423076923076923, total=   3.3s\n",
      "[CV] metric=<function calculate_distance at 0x000002C8A5544EA0>, metric_params={'dist_type': 'cosine'}, n_neighbors=4 \n",
      "[CV]  metric=<function calculate_distance at 0x000002C8A5544EA0>, metric_params={'dist_type': 'cosine'}, n_neighbors=4, score=0.3894230769230769, total=   3.0s\n",
      "[CV] metric=<function calculate_distance at 0x000002C8A5544EA0>, metric_params={'dist_type': 'cosine'}, n_neighbors=5 \n",
      "[CV]  metric=<function calculate_distance at 0x000002C8A5544EA0>, metric_params={'dist_type': 'cosine'}, n_neighbors=5, score=0.3317307692307692, total=   3.0s\n",
      "[CV] metric=<function calculate_distance at 0x000002C8A5544EA0>, metric_params={'dist_type': 'cosine'}, n_neighbors=6 \n",
      "[CV]  metric=<function calculate_distance at 0x000002C8A5544EA0>, metric_params={'dist_type': 'cosine'}, n_neighbors=6, score=0.2692307692307692, total=   3.0s\n",
      "[CV] metric=<function calculate_distance at 0x000002C8A5544EA0>, metric_params={'dist_type': 'cosine'}, n_neighbors=7 \n",
      "[CV]  metric=<function calculate_distance at 0x000002C8A5544EA0>, metric_params={'dist_type': 'cosine'}, n_neighbors=7, score=0.22596153846153846, total=   3.1s\n",
      "[CV] metric=<function calculate_distance at 0x000002C8A5544EA0>, metric_params={'dist_type': 'cosine'}, n_neighbors=8 \n",
      "[CV]  metric=<function calculate_distance at 0x000002C8A5544EA0>, metric_params={'dist_type': 'cosine'}, n_neighbors=8, score=0.21634615384615385, total=   3.2s\n",
      "[CV] metric=<function calculate_distance at 0x000002C8A5544EA0>, metric_params={'dist_type': 'cosine'}, n_neighbors=9 \n",
      "[CV]  metric=<function calculate_distance at 0x000002C8A5544EA0>, metric_params={'dist_type': 'cosine'}, n_neighbors=9, score=0.20673076923076922, total=   3.2s\n",
      "[CV] metric=<function calculate_distance at 0x000002C8A5544EA0>, metric_params={'dist_type': 'cosine'}, n_neighbors=10 \n",
      "[CV]  metric=<function calculate_distance at 0x000002C8A5544EA0>, metric_params={'dist_type': 'cosine'}, n_neighbors=10, score=0.1875, total=   3.2s\n",
      "10\n"
     ]
    },
    {
     "name": "stderr",
     "output_type": "stream",
     "text": [
      "[Parallel(n_jobs=1)]: Done  10 out of  10 | elapsed:  2.5min finished\n"
     ]
    },
    {
     "name": "stdout",
     "output_type": "stream",
     "text": [
      "Fitting 1 folds for each of 10 candidates, totalling 10 fits\n",
      "[CV] metric=<function calculate_distance at 0x000002C8A5544EA0>, metric_params={'dist_type': 'cosine'}, n_neighbors=1 \n",
      "[CV]  metric=<function calculate_distance at 0x000002C8A5544EA0>, metric_params={'dist_type': 'cosine'}, n_neighbors=1, score=0.6086956521739131, total=   3.0s\n",
      "[CV] metric=<function calculate_distance at 0x000002C8A5544EA0>, metric_params={'dist_type': 'cosine'}, n_neighbors=2 \n"
     ]
    },
    {
     "name": "stderr",
     "output_type": "stream",
     "text": [
      "[Parallel(n_jobs=1)]: Done   1 out of   1 | elapsed:   13.1s remaining:    0.0s\n"
     ]
    },
    {
     "name": "stdout",
     "output_type": "stream",
     "text": [
      "[CV]  metric=<function calculate_distance at 0x000002C8A5544EA0>, metric_params={'dist_type': 'cosine'}, n_neighbors=2, score=0.5024154589371981, total=   3.1s\n",
      "[CV] metric=<function calculate_distance at 0x000002C8A5544EA0>, metric_params={'dist_type': 'cosine'}, n_neighbors=3 \n"
     ]
    },
    {
     "name": "stderr",
     "output_type": "stream",
     "text": [
      "[Parallel(n_jobs=1)]: Done   2 out of   2 | elapsed:   27.9s remaining:    0.0s\n"
     ]
    },
    {
     "name": "stdout",
     "output_type": "stream",
     "text": [
      "[CV]  metric=<function calculate_distance at 0x000002C8A5544EA0>, metric_params={'dist_type': 'cosine'}, n_neighbors=3, score=0.4396135265700483, total=   3.2s\n",
      "[CV] metric=<function calculate_distance at 0x000002C8A5544EA0>, metric_params={'dist_type': 'cosine'}, n_neighbors=4 \n",
      "[CV]  metric=<function calculate_distance at 0x000002C8A5544EA0>, metric_params={'dist_type': 'cosine'}, n_neighbors=4, score=0.391304347826087, total=   3.0s\n",
      "[CV] metric=<function calculate_distance at 0x000002C8A5544EA0>, metric_params={'dist_type': 'cosine'}, n_neighbors=5 \n",
      "[CV]  metric=<function calculate_distance at 0x000002C8A5544EA0>, metric_params={'dist_type': 'cosine'}, n_neighbors=5, score=0.33816425120772947, total=   3.0s\n",
      "[CV] metric=<function calculate_distance at 0x000002C8A5544EA0>, metric_params={'dist_type': 'cosine'}, n_neighbors=6 \n",
      "[CV]  metric=<function calculate_distance at 0x000002C8A5544EA0>, metric_params={'dist_type': 'cosine'}, n_neighbors=6, score=0.28502415458937197, total=   3.0s\n",
      "[CV] metric=<function calculate_distance at 0x000002C8A5544EA0>, metric_params={'dist_type': 'cosine'}, n_neighbors=7 \n",
      "[CV]  metric=<function calculate_distance at 0x000002C8A5544EA0>, metric_params={'dist_type': 'cosine'}, n_neighbors=7, score=0.25120772946859904, total=   3.1s\n",
      "[CV] metric=<function calculate_distance at 0x000002C8A5544EA0>, metric_params={'dist_type': 'cosine'}, n_neighbors=8 \n",
      "[CV]  metric=<function calculate_distance at 0x000002C8A5544EA0>, metric_params={'dist_type': 'cosine'}, n_neighbors=8, score=0.23671497584541062, total=   3.1s\n",
      "[CV] metric=<function calculate_distance at 0x000002C8A5544EA0>, metric_params={'dist_type': 'cosine'}, n_neighbors=9 \n",
      "[CV]  metric=<function calculate_distance at 0x000002C8A5544EA0>, metric_params={'dist_type': 'cosine'}, n_neighbors=9, score=0.22705314009661837, total=   3.0s\n",
      "[CV] metric=<function calculate_distance at 0x000002C8A5544EA0>, metric_params={'dist_type': 'cosine'}, n_neighbors=10 \n",
      "[CV]  metric=<function calculate_distance at 0x000002C8A5544EA0>, metric_params={'dist_type': 'cosine'}, n_neighbors=10, score=0.2028985507246377, total=   3.6s\n",
      "11\n"
     ]
    },
    {
     "name": "stderr",
     "output_type": "stream",
     "text": [
      "[Parallel(n_jobs=1)]: Done  10 out of  10 | elapsed:  2.5min finished\n"
     ]
    },
    {
     "name": "stdout",
     "output_type": "stream",
     "text": [
      "Fitting 1 folds for each of 10 candidates, totalling 10 fits\n",
      "[CV] metric=<function calculate_distance at 0x000002C8A5544EA0>, metric_params={'dist_type': 'cosine'}, n_neighbors=1 \n",
      "[CV]  metric=<function calculate_distance at 0x000002C8A5544EA0>, metric_params={'dist_type': 'cosine'}, n_neighbors=1, score=0.6183574879227053, total=   2.9s\n",
      "[CV] metric=<function calculate_distance at 0x000002C8A5544EA0>, metric_params={'dist_type': 'cosine'}, n_neighbors=2 \n"
     ]
    },
    {
     "name": "stderr",
     "output_type": "stream",
     "text": [
      "[Parallel(n_jobs=1)]: Done   1 out of   1 | elapsed:   12.4s remaining:    0.0s\n"
     ]
    },
    {
     "name": "stdout",
     "output_type": "stream",
     "text": [
      "[CV]  metric=<function calculate_distance at 0x000002C8A5544EA0>, metric_params={'dist_type': 'cosine'}, n_neighbors=2, score=0.5120772946859904, total=   3.0s\n",
      "[CV] metric=<function calculate_distance at 0x000002C8A5544EA0>, metric_params={'dist_type': 'cosine'}, n_neighbors=3 \n"
     ]
    },
    {
     "name": "stderr",
     "output_type": "stream",
     "text": [
      "[Parallel(n_jobs=1)]: Done   2 out of   2 | elapsed:   26.9s remaining:    0.0s\n"
     ]
    },
    {
     "name": "stdout",
     "output_type": "stream",
     "text": [
      "[CV]  metric=<function calculate_distance at 0x000002C8A5544EA0>, metric_params={'dist_type': 'cosine'}, n_neighbors=3, score=0.4444444444444444, total=   3.0s\n",
      "[CV] metric=<function calculate_distance at 0x000002C8A5544EA0>, metric_params={'dist_type': 'cosine'}, n_neighbors=4 \n",
      "[CV]  metric=<function calculate_distance at 0x000002C8A5544EA0>, metric_params={'dist_type': 'cosine'}, n_neighbors=4, score=0.3719806763285024, total=   3.2s\n",
      "[CV] metric=<function calculate_distance at 0x000002C8A5544EA0>, metric_params={'dist_type': 'cosine'}, n_neighbors=5 \n",
      "[CV]  metric=<function calculate_distance at 0x000002C8A5544EA0>, metric_params={'dist_type': 'cosine'}, n_neighbors=5, score=0.3333333333333333, total=   3.1s\n",
      "[CV] metric=<function calculate_distance at 0x000002C8A5544EA0>, metric_params={'dist_type': 'cosine'}, n_neighbors=6 \n",
      "[CV]  metric=<function calculate_distance at 0x000002C8A5544EA0>, metric_params={'dist_type': 'cosine'}, n_neighbors=6, score=0.27053140096618356, total=   3.1s\n",
      "[CV] metric=<function calculate_distance at 0x000002C8A5544EA0>, metric_params={'dist_type': 'cosine'}, n_neighbors=7 \n",
      "[CV]  metric=<function calculate_distance at 0x000002C8A5544EA0>, metric_params={'dist_type': 'cosine'}, n_neighbors=7, score=0.25120772946859904, total=   3.1s\n",
      "[CV] metric=<function calculate_distance at 0x000002C8A5544EA0>, metric_params={'dist_type': 'cosine'}, n_neighbors=8 \n",
      "[CV]  metric=<function calculate_distance at 0x000002C8A5544EA0>, metric_params={'dist_type': 'cosine'}, n_neighbors=8, score=0.2463768115942029, total=   3.1s\n",
      "[CV] metric=<function calculate_distance at 0x000002C8A5544EA0>, metric_params={'dist_type': 'cosine'}, n_neighbors=9 \n",
      "[CV]  metric=<function calculate_distance at 0x000002C8A5544EA0>, metric_params={'dist_type': 'cosine'}, n_neighbors=9, score=0.20772946859903382, total=   3.1s\n",
      "[CV] metric=<function calculate_distance at 0x000002C8A5544EA0>, metric_params={'dist_type': 'cosine'}, n_neighbors=10 \n",
      "[CV]  metric=<function calculate_distance at 0x000002C8A5544EA0>, metric_params={'dist_type': 'cosine'}, n_neighbors=10, score=0.21256038647342995, total=   3.1s\n",
      "12\n"
     ]
    },
    {
     "name": "stderr",
     "output_type": "stream",
     "text": [
      "[Parallel(n_jobs=1)]: Done  10 out of  10 | elapsed:  2.5min finished\n"
     ]
    },
    {
     "name": "stdout",
     "output_type": "stream",
     "text": [
      "Fitting 1 folds for each of 10 candidates, totalling 10 fits\n",
      "[CV] metric=<function calculate_distance at 0x000002C8A5544EA0>, metric_params={'dist_type': 'cosine'}, n_neighbors=1 \n",
      "[CV]  metric=<function calculate_distance at 0x000002C8A5544EA0>, metric_params={'dist_type': 'cosine'}, n_neighbors=1, score=0.6135265700483091, total=   3.0s\n",
      "[CV] metric=<function calculate_distance at 0x000002C8A5544EA0>, metric_params={'dist_type': 'cosine'}, n_neighbors=2 \n"
     ]
    },
    {
     "name": "stderr",
     "output_type": "stream",
     "text": [
      "[Parallel(n_jobs=1)]: Done   1 out of   1 | elapsed:   12.6s remaining:    0.0s\n"
     ]
    },
    {
     "name": "stdout",
     "output_type": "stream",
     "text": [
      "[CV]  metric=<function calculate_distance at 0x000002C8A5544EA0>, metric_params={'dist_type': 'cosine'}, n_neighbors=2, score=0.5217391304347826, total=   3.0s\n",
      "[CV] metric=<function calculate_distance at 0x000002C8A5544EA0>, metric_params={'dist_type': 'cosine'}, n_neighbors=3 \n"
     ]
    },
    {
     "name": "stderr",
     "output_type": "stream",
     "text": [
      "[Parallel(n_jobs=1)]: Done   2 out of   2 | elapsed:   27.2s remaining:    0.0s\n"
     ]
    },
    {
     "name": "stdout",
     "output_type": "stream",
     "text": [
      "[CV]  metric=<function calculate_distance at 0x000002C8A5544EA0>, metric_params={'dist_type': 'cosine'}, n_neighbors=3, score=0.4251207729468599, total=   3.1s\n",
      "[CV] metric=<function calculate_distance at 0x000002C8A5544EA0>, metric_params={'dist_type': 'cosine'}, n_neighbors=4 \n",
      "[CV]  metric=<function calculate_distance at 0x000002C8A5544EA0>, metric_params={'dist_type': 'cosine'}, n_neighbors=4, score=0.3671497584541063, total=   3.0s\n",
      "[CV] metric=<function calculate_distance at 0x000002C8A5544EA0>, metric_params={'dist_type': 'cosine'}, n_neighbors=5 \n",
      "[CV]  metric=<function calculate_distance at 0x000002C8A5544EA0>, metric_params={'dist_type': 'cosine'}, n_neighbors=5, score=0.33816425120772947, total=   3.1s\n",
      "[CV] metric=<function calculate_distance at 0x000002C8A5544EA0>, metric_params={'dist_type': 'cosine'}, n_neighbors=6 \n",
      "[CV]  metric=<function calculate_distance at 0x000002C8A5544EA0>, metric_params={'dist_type': 'cosine'}, n_neighbors=6, score=0.2753623188405797, total=   3.3s\n",
      "[CV] metric=<function calculate_distance at 0x000002C8A5544EA0>, metric_params={'dist_type': 'cosine'}, n_neighbors=7 \n",
      "[CV]  metric=<function calculate_distance at 0x000002C8A5544EA0>, metric_params={'dist_type': 'cosine'}, n_neighbors=7, score=0.2463768115942029, total=   3.1s\n",
      "[CV] metric=<function calculate_distance at 0x000002C8A5544EA0>, metric_params={'dist_type': 'cosine'}, n_neighbors=8 \n",
      "[CV]  metric=<function calculate_distance at 0x000002C8A5544EA0>, metric_params={'dist_type': 'cosine'}, n_neighbors=8, score=0.24154589371980675, total=   3.2s\n",
      "[CV] metric=<function calculate_distance at 0x000002C8A5544EA0>, metric_params={'dist_type': 'cosine'}, n_neighbors=9 \n",
      "[CV]  metric=<function calculate_distance at 0x000002C8A5544EA0>, metric_params={'dist_type': 'cosine'}, n_neighbors=9, score=0.2028985507246377, total=   3.1s\n",
      "[CV] metric=<function calculate_distance at 0x000002C8A5544EA0>, metric_params={'dist_type': 'cosine'}, n_neighbors=10 \n",
      "[CV]  metric=<function calculate_distance at 0x000002C8A5544EA0>, metric_params={'dist_type': 'cosine'}, n_neighbors=10, score=0.2028985507246377, total=   4.4s\n"
     ]
    },
    {
     "name": "stderr",
     "output_type": "stream",
     "text": [
      "[Parallel(n_jobs=1)]: Done  10 out of  10 | elapsed:  2.6min finished\n"
     ]
    }
   ],
   "source": [
    "for nr in frame_numbers:\n",
    "    print(nr)\n",
    "    try:\n",
    "        emg_train_input, emg_train_label = prepare_data(train, nr, 'emg', verbose=False)\n",
    "        emg_valid_input, emg_valid_label = prepare_data(valid, nr, 'emg', verbose=False)\n",
    "\n",
    "        kNN = GridSearchCV(KNeighborsClassifier(), parameters, cv=cross_valid, scoring='accuracy', n_jobs=parallel_jobs,\n",
    "                           verbose=verbose_level).fit(np.append(emg_train_input, emg_valid_input, axis=0),\n",
    "                                                      np.append(emg_train_label, emg_valid_label))\n",
    "        \n",
    "        result = (kNN.best_score_, nr, kNN.best_params_)\n",
    "        \n",
    "        if result[0] > cosine_emg[0]:\n",
    "            cosine_emg = result\n",
    "        \n",
    "    except ValueError as err:\n",
    "        pass"
   ]
  },
  {
   "cell_type": "code",
   "execution_count": 25,
   "metadata": {},
   "outputs": [
    {
     "name": "stdout",
     "output_type": "stream",
     "text": [
      "(0.66666666666666663, 3, {'metric': <function calculate_distance at 0x000002C8A5544EA0>, 'metric_params': {'dist_type': 'cosine'}, 'n_neighbors': 1})\n",
      "(0.51690821256038644, 12, {'metric': <function calculate_distance at 0x000002C8A5544EA0>, 'metric_params': {'dist_type': 'cosine'}, 'n_neighbors': 1})\n",
      "(0.51690821256038644, 2, {'metric': <function calculate_distance at 0x000002C8A5544EA0>, 'metric_params': {'dist_type': 'cosine'}, 'n_neighbors': 1})\n",
      "(0.61835748792270528, 11, {'metric': <function calculate_distance at 0x000002C8A5544EA0>, 'metric_params': {'dist_type': 'cosine'}, 'n_neighbors': 1})\n"
     ]
    }
   ],
   "source": [
    "print(cosine_acc, end='\\n')\n",
    "print(cosine_gyro, end='\\n')\n",
    "print(cosine_ori, end='\\n')\n",
    "print(cosine_emg, end='\\n')"
   ]
  },
  {
   "cell_type": "markdown",
   "metadata": {},
   "source": [
    "## k Nearest Neighbour - euclid"
   ]
  },
  {
   "cell_type": "code",
   "execution_count": 38,
   "metadata": {
    "collapsed": true
   },
   "outputs": [],
   "source": [
    "parameters = [{'n_neighbors':[1,2,3,4,5,6,7,8,9,10],\n",
    "               'metric':[calculate_distance], 'metric_params':[{'dist_type':'euclid'}]}]\n",
    "frame_numbers = list(range(1,13))\n",
    "cross_valid = ShuffleSplit(n_splits=1, test_size=0.2, random_state=random_seed)\n",
    "\n",
    "parallel_jobs = 1\n",
    "verbose_level = 3"
   ]
  },
  {
   "cell_type": "code",
   "execution_count": 36,
   "metadata": {
    "collapsed": true
   },
   "outputs": [],
   "source": [
    "euclid_acc = (0, 0)\n",
    "euclid_gyro = (0, 0)\n",
    "euclid_ori = (0, 0)\n",
    "euclid_emg = (0, 0)"
   ]
  },
  {
   "cell_type": "markdown",
   "metadata": {},
   "source": [
    "### Accelerometer"
   ]
  },
  {
   "cell_type": "code",
   "execution_count": 39,
   "metadata": {
    "scrolled": true
   },
   "outputs": [
    {
     "name": "stdout",
     "output_type": "stream",
     "text": [
      "1\n",
      "Fitting 1 folds for each of 10 candidates, totalling 10 fits\n",
      "[CV] metric=<function calculate_distance at 0x000002C8A5544EA0>, metric_params={'dist_type': 'euclid'}, n_neighbors=1 \n",
      "[CV]  metric=<function calculate_distance at 0x000002C8A5544EA0>, metric_params={'dist_type': 'euclid'}, n_neighbors=1, score=0.4567307692307692, total=   3.0s\n",
      "[CV] metric=<function calculate_distance at 0x000002C8A5544EA0>, metric_params={'dist_type': 'euclid'}, n_neighbors=2 \n"
     ]
    },
    {
     "name": "stderr",
     "output_type": "stream",
     "text": [
      "[Parallel(n_jobs=1)]: Done   1 out of   1 | elapsed:   14.1s remaining:    0.0s\n"
     ]
    },
    {
     "name": "stdout",
     "output_type": "stream",
     "text": [
      "[CV]  metric=<function calculate_distance at 0x000002C8A5544EA0>, metric_params={'dist_type': 'euclid'}, n_neighbors=2, score=0.4230769230769231, total=   3.1s\n",
      "[CV] metric=<function calculate_distance at 0x000002C8A5544EA0>, metric_params={'dist_type': 'euclid'}, n_neighbors=3 \n"
     ]
    },
    {
     "name": "stderr",
     "output_type": "stream",
     "text": [
      "[Parallel(n_jobs=1)]: Done   2 out of   2 | elapsed:   29.4s remaining:    0.0s\n"
     ]
    },
    {
     "name": "stdout",
     "output_type": "stream",
     "text": [
      "[CV]  metric=<function calculate_distance at 0x000002C8A5544EA0>, metric_params={'dist_type': 'euclid'}, n_neighbors=3, score=0.3942307692307692, total=   3.1s\n",
      "[CV] metric=<function calculate_distance at 0x000002C8A5544EA0>, metric_params={'dist_type': 'euclid'}, n_neighbors=4 \n",
      "[CV]  metric=<function calculate_distance at 0x000002C8A5544EA0>, metric_params={'dist_type': 'euclid'}, n_neighbors=4, score=0.3557692307692308, total=   3.1s\n",
      "[CV] metric=<function calculate_distance at 0x000002C8A5544EA0>, metric_params={'dist_type': 'euclid'}, n_neighbors=5 \n",
      "[CV]  metric=<function calculate_distance at 0x000002C8A5544EA0>, metric_params={'dist_type': 'euclid'}, n_neighbors=5, score=0.3269230769230769, total=   3.2s\n",
      "[CV] metric=<function calculate_distance at 0x000002C8A5544EA0>, metric_params={'dist_type': 'euclid'}, n_neighbors=6 \n",
      "[CV]  metric=<function calculate_distance at 0x000002C8A5544EA0>, metric_params={'dist_type': 'euclid'}, n_neighbors=6, score=0.30288461538461536, total=   3.3s\n",
      "[CV] metric=<function calculate_distance at 0x000002C8A5544EA0>, metric_params={'dist_type': 'euclid'}, n_neighbors=7 \n",
      "[CV]  metric=<function calculate_distance at 0x000002C8A5544EA0>, metric_params={'dist_type': 'euclid'}, n_neighbors=7, score=0.30288461538461536, total=   3.3s\n",
      "[CV] metric=<function calculate_distance at 0x000002C8A5544EA0>, metric_params={'dist_type': 'euclid'}, n_neighbors=8 \n",
      "[CV]  metric=<function calculate_distance at 0x000002C8A5544EA0>, metric_params={'dist_type': 'euclid'}, n_neighbors=8, score=0.2692307692307692, total=   3.3s\n",
      "[CV] metric=<function calculate_distance at 0x000002C8A5544EA0>, metric_params={'dist_type': 'euclid'}, n_neighbors=9 \n",
      "[CV]  metric=<function calculate_distance at 0x000002C8A5544EA0>, metric_params={'dist_type': 'euclid'}, n_neighbors=9, score=0.27403846153846156, total=   3.3s\n",
      "[CV] metric=<function calculate_distance at 0x000002C8A5544EA0>, metric_params={'dist_type': 'euclid'}, n_neighbors=10 \n",
      "[CV]  metric=<function calculate_distance at 0x000002C8A5544EA0>, metric_params={'dist_type': 'euclid'}, n_neighbors=10, score=0.25, total=   3.3s\n",
      "2\n"
     ]
    },
    {
     "name": "stderr",
     "output_type": "stream",
     "text": [
      "[Parallel(n_jobs=1)]: Done  10 out of  10 | elapsed:  2.6min finished\n"
     ]
    },
    {
     "name": "stdout",
     "output_type": "stream",
     "text": [
      "Fitting 1 folds for each of 10 candidates, totalling 10 fits\n",
      "[CV] metric=<function calculate_distance at 0x000002C8A5544EA0>, metric_params={'dist_type': 'euclid'}, n_neighbors=1 \n",
      "[CV]  metric=<function calculate_distance at 0x000002C8A5544EA0>, metric_params={'dist_type': 'euclid'}, n_neighbors=1, score=0.5362318840579711, total=   3.6s\n",
      "[CV] metric=<function calculate_distance at 0x000002C8A5544EA0>, metric_params={'dist_type': 'euclid'}, n_neighbors=2 \n"
     ]
    },
    {
     "name": "stderr",
     "output_type": "stream",
     "text": [
      "[Parallel(n_jobs=1)]: Done   1 out of   1 | elapsed:   16.7s remaining:    0.0s\n"
     ]
    },
    {
     "name": "stdout",
     "output_type": "stream",
     "text": [
      "[CV]  metric=<function calculate_distance at 0x000002C8A5544EA0>, metric_params={'dist_type': 'euclid'}, n_neighbors=2, score=0.46859903381642515, total=   3.6s\n",
      "[CV] metric=<function calculate_distance at 0x000002C8A5544EA0>, metric_params={'dist_type': 'euclid'}, n_neighbors=3 \n"
     ]
    },
    {
     "name": "stderr",
     "output_type": "stream",
     "text": [
      "[Parallel(n_jobs=1)]: Done   2 out of   2 | elapsed:   34.7s remaining:    0.0s\n"
     ]
    },
    {
     "name": "stdout",
     "output_type": "stream",
     "text": [
      "[CV]  metric=<function calculate_distance at 0x000002C8A5544EA0>, metric_params={'dist_type': 'euclid'}, n_neighbors=3, score=0.4396135265700483, total=   3.7s\n",
      "[CV] metric=<function calculate_distance at 0x000002C8A5544EA0>, metric_params={'dist_type': 'euclid'}, n_neighbors=4 \n",
      "[CV]  metric=<function calculate_distance at 0x000002C8A5544EA0>, metric_params={'dist_type': 'euclid'}, n_neighbors=4, score=0.4251207729468599, total=   3.8s\n",
      "[CV] metric=<function calculate_distance at 0x000002C8A5544EA0>, metric_params={'dist_type': 'euclid'}, n_neighbors=5 \n",
      "[CV]  metric=<function calculate_distance at 0x000002C8A5544EA0>, metric_params={'dist_type': 'euclid'}, n_neighbors=5, score=0.3961352657004831, total=   3.7s\n",
      "[CV] metric=<function calculate_distance at 0x000002C8A5544EA0>, metric_params={'dist_type': 'euclid'}, n_neighbors=6 \n",
      "[CV]  metric=<function calculate_distance at 0x000002C8A5544EA0>, metric_params={'dist_type': 'euclid'}, n_neighbors=6, score=0.3333333333333333, total=   3.8s\n",
      "[CV] metric=<function calculate_distance at 0x000002C8A5544EA0>, metric_params={'dist_type': 'euclid'}, n_neighbors=7 \n",
      "[CV]  metric=<function calculate_distance at 0x000002C8A5544EA0>, metric_params={'dist_type': 'euclid'}, n_neighbors=7, score=0.2898550724637681, total=   3.9s\n",
      "[CV] metric=<function calculate_distance at 0x000002C8A5544EA0>, metric_params={'dist_type': 'euclid'}, n_neighbors=8 \n",
      "[CV]  metric=<function calculate_distance at 0x000002C8A5544EA0>, metric_params={'dist_type': 'euclid'}, n_neighbors=8, score=0.28502415458937197, total=   3.8s\n",
      "[CV] metric=<function calculate_distance at 0x000002C8A5544EA0>, metric_params={'dist_type': 'euclid'}, n_neighbors=9 \n",
      "[CV]  metric=<function calculate_distance at 0x000002C8A5544EA0>, metric_params={'dist_type': 'euclid'}, n_neighbors=9, score=0.27053140096618356, total=   4.0s\n",
      "[CV] metric=<function calculate_distance at 0x000002C8A5544EA0>, metric_params={'dist_type': 'euclid'}, n_neighbors=10 \n",
      "[CV]  metric=<function calculate_distance at 0x000002C8A5544EA0>, metric_params={'dist_type': 'euclid'}, n_neighbors=10, score=0.2608695652173913, total=   3.8s\n",
      "3\n"
     ]
    },
    {
     "name": "stderr",
     "output_type": "stream",
     "text": [
      "[Parallel(n_jobs=1)]: Done  10 out of  10 | elapsed:  3.1min finished\n"
     ]
    },
    {
     "name": "stdout",
     "output_type": "stream",
     "text": [
      "Fitting 1 folds for each of 10 candidates, totalling 10 fits\n",
      "[CV] metric=<function calculate_distance at 0x000002C8A5544EA0>, metric_params={'dist_type': 'euclid'}, n_neighbors=1 \n",
      "[CV]  metric=<function calculate_distance at 0x000002C8A5544EA0>, metric_params={'dist_type': 'euclid'}, n_neighbors=1, score=0.6473429951690821, total=   4.3s\n",
      "[CV] metric=<function calculate_distance at 0x000002C8A5544EA0>, metric_params={'dist_type': 'euclid'}, n_neighbors=2 \n"
     ]
    },
    {
     "name": "stderr",
     "output_type": "stream",
     "text": [
      "[Parallel(n_jobs=1)]: Done   1 out of   1 | elapsed:   20.6s remaining:    0.0s\n"
     ]
    },
    {
     "name": "stdout",
     "output_type": "stream",
     "text": [
      "[CV]  metric=<function calculate_distance at 0x000002C8A5544EA0>, metric_params={'dist_type': 'euclid'}, n_neighbors=2, score=0.5990338164251208, total=   4.0s\n",
      "[CV] metric=<function calculate_distance at 0x000002C8A5544EA0>, metric_params={'dist_type': 'euclid'}, n_neighbors=3 \n"
     ]
    },
    {
     "name": "stderr",
     "output_type": "stream",
     "text": [
      "[Parallel(n_jobs=1)]: Done   2 out of   2 | elapsed:   40.7s remaining:    0.0s\n"
     ]
    },
    {
     "name": "stdout",
     "output_type": "stream",
     "text": [
      "[CV]  metric=<function calculate_distance at 0x000002C8A5544EA0>, metric_params={'dist_type': 'euclid'}, n_neighbors=3, score=0.5555555555555556, total=   4.0s\n",
      "[CV] metric=<function calculate_distance at 0x000002C8A5544EA0>, metric_params={'dist_type': 'euclid'}, n_neighbors=4 \n",
      "[CV]  metric=<function calculate_distance at 0x000002C8A5544EA0>, metric_params={'dist_type': 'euclid'}, n_neighbors=4, score=0.5265700483091788, total=   4.1s\n",
      "[CV] metric=<function calculate_distance at 0x000002C8A5544EA0>, metric_params={'dist_type': 'euclid'}, n_neighbors=5 \n",
      "[CV]  metric=<function calculate_distance at 0x000002C8A5544EA0>, metric_params={'dist_type': 'euclid'}, n_neighbors=5, score=0.45893719806763283, total=   4.1s\n",
      "[CV] metric=<function calculate_distance at 0x000002C8A5544EA0>, metric_params={'dist_type': 'euclid'}, n_neighbors=6 \n",
      "[CV]  metric=<function calculate_distance at 0x000002C8A5544EA0>, metric_params={'dist_type': 'euclid'}, n_neighbors=6, score=0.4106280193236715, total=   4.1s\n",
      "[CV] metric=<function calculate_distance at 0x000002C8A5544EA0>, metric_params={'dist_type': 'euclid'}, n_neighbors=7 \n",
      "[CV]  metric=<function calculate_distance at 0x000002C8A5544EA0>, metric_params={'dist_type': 'euclid'}, n_neighbors=7, score=0.40096618357487923, total=   4.1s\n",
      "[CV] metric=<function calculate_distance at 0x000002C8A5544EA0>, metric_params={'dist_type': 'euclid'}, n_neighbors=8 \n",
      "[CV]  metric=<function calculate_distance at 0x000002C8A5544EA0>, metric_params={'dist_type': 'euclid'}, n_neighbors=8, score=0.37681159420289856, total=   4.2s\n",
      "[CV] metric=<function calculate_distance at 0x000002C8A5544EA0>, metric_params={'dist_type': 'euclid'}, n_neighbors=9 \n",
      "[CV]  metric=<function calculate_distance at 0x000002C8A5544EA0>, metric_params={'dist_type': 'euclid'}, n_neighbors=9, score=0.36231884057971014, total=   4.1s\n",
      "[CV] metric=<function calculate_distance at 0x000002C8A5544EA0>, metric_params={'dist_type': 'euclid'}, n_neighbors=10 \n",
      "[CV]  metric=<function calculate_distance at 0x000002C8A5544EA0>, metric_params={'dist_type': 'euclid'}, n_neighbors=10, score=0.36231884057971014, total=   4.2s\n",
      "4\n"
     ]
    },
    {
     "name": "stderr",
     "output_type": "stream",
     "text": [
      "[Parallel(n_jobs=1)]: Done  10 out of  10 | elapsed:  3.4min finished\n"
     ]
    },
    {
     "name": "stdout",
     "output_type": "stream",
     "text": [
      "Fitting 1 folds for each of 10 candidates, totalling 10 fits\n",
      "[CV] metric=<function calculate_distance at 0x000002C8A5544EA0>, metric_params={'dist_type': 'euclid'}, n_neighbors=1 \n",
      "[CV]  metric=<function calculate_distance at 0x000002C8A5544EA0>, metric_params={'dist_type': 'euclid'}, n_neighbors=1, score=0.6666666666666666, total=   4.2s\n",
      "[CV] metric=<function calculate_distance at 0x000002C8A5544EA0>, metric_params={'dist_type': 'euclid'}, n_neighbors=2 \n"
     ]
    },
    {
     "name": "stderr",
     "output_type": "stream",
     "text": [
      "[Parallel(n_jobs=1)]: Done   1 out of   1 | elapsed:   19.8s remaining:    0.0s\n"
     ]
    },
    {
     "name": "stdout",
     "output_type": "stream",
     "text": [
      "[CV]  metric=<function calculate_distance at 0x000002C8A5544EA0>, metric_params={'dist_type': 'euclid'}, n_neighbors=2, score=0.5893719806763285, total=   4.1s\n",
      "[CV] metric=<function calculate_distance at 0x000002C8A5544EA0>, metric_params={'dist_type': 'euclid'}, n_neighbors=3 \n"
     ]
    },
    {
     "name": "stderr",
     "output_type": "stream",
     "text": [
      "[Parallel(n_jobs=1)]: Done   2 out of   2 | elapsed:   40.4s remaining:    0.0s\n"
     ]
    },
    {
     "name": "stdout",
     "output_type": "stream",
     "text": [
      "[CV]  metric=<function calculate_distance at 0x000002C8A5544EA0>, metric_params={'dist_type': 'euclid'}, n_neighbors=3, score=0.5314009661835749, total=   4.3s\n",
      "[CV] metric=<function calculate_distance at 0x000002C8A5544EA0>, metric_params={'dist_type': 'euclid'}, n_neighbors=4 \n",
      "[CV]  metric=<function calculate_distance at 0x000002C8A5544EA0>, metric_params={'dist_type': 'euclid'}, n_neighbors=4, score=0.48792270531400966, total=   4.3s\n",
      "[CV] metric=<function calculate_distance at 0x000002C8A5544EA0>, metric_params={'dist_type': 'euclid'}, n_neighbors=5 \n",
      "[CV]  metric=<function calculate_distance at 0x000002C8A5544EA0>, metric_params={'dist_type': 'euclid'}, n_neighbors=5, score=0.45410628019323673, total=   4.3s\n",
      "[CV] metric=<function calculate_distance at 0x000002C8A5544EA0>, metric_params={'dist_type': 'euclid'}, n_neighbors=6 \n",
      "[CV]  metric=<function calculate_distance at 0x000002C8A5544EA0>, metric_params={'dist_type': 'euclid'}, n_neighbors=6, score=0.391304347826087, total=   4.3s\n",
      "[CV] metric=<function calculate_distance at 0x000002C8A5544EA0>, metric_params={'dist_type': 'euclid'}, n_neighbors=7 \n",
      "[CV]  metric=<function calculate_distance at 0x000002C8A5544EA0>, metric_params={'dist_type': 'euclid'}, n_neighbors=7, score=0.33816425120772947, total=   4.4s\n",
      "[CV] metric=<function calculate_distance at 0x000002C8A5544EA0>, metric_params={'dist_type': 'euclid'}, n_neighbors=8 \n",
      "[CV]  metric=<function calculate_distance at 0x000002C8A5544EA0>, metric_params={'dist_type': 'euclid'}, n_neighbors=8, score=0.3188405797101449, total=   4.3s\n",
      "[CV] metric=<function calculate_distance at 0x000002C8A5544EA0>, metric_params={'dist_type': 'euclid'}, n_neighbors=9 \n",
      "[CV]  metric=<function calculate_distance at 0x000002C8A5544EA0>, metric_params={'dist_type': 'euclid'}, n_neighbors=9, score=0.30917874396135264, total=   4.3s\n",
      "[CV] metric=<function calculate_distance at 0x000002C8A5544EA0>, metric_params={'dist_type': 'euclid'}, n_neighbors=10 \n",
      "[CV]  metric=<function calculate_distance at 0x000002C8A5544EA0>, metric_params={'dist_type': 'euclid'}, n_neighbors=10, score=0.28019323671497587, total=   4.4s\n",
      "5\n"
     ]
    },
    {
     "name": "stderr",
     "output_type": "stream",
     "text": [
      "[Parallel(n_jobs=1)]: Done  10 out of  10 | elapsed:  3.5min finished\n"
     ]
    },
    {
     "name": "stdout",
     "output_type": "stream",
     "text": [
      "Fitting 1 folds for each of 10 candidates, totalling 10 fits\n",
      "[CV] metric=<function calculate_distance at 0x000002C8A5544EA0>, metric_params={'dist_type': 'euclid'}, n_neighbors=1 \n",
      "[CV]  metric=<function calculate_distance at 0x000002C8A5544EA0>, metric_params={'dist_type': 'euclid'}, n_neighbors=1, score=0.6280193236714976, total=   4.4s\n",
      "[CV] metric=<function calculate_distance at 0x000002C8A5544EA0>, metric_params={'dist_type': 'euclid'}, n_neighbors=2 \n"
     ]
    },
    {
     "name": "stderr",
     "output_type": "stream",
     "text": [
      "[Parallel(n_jobs=1)]: Done   1 out of   1 | elapsed:   21.3s remaining:    0.0s\n"
     ]
    },
    {
     "name": "stdout",
     "output_type": "stream",
     "text": [
      "[CV]  metric=<function calculate_distance at 0x000002C8A5544EA0>, metric_params={'dist_type': 'euclid'}, n_neighbors=2, score=0.5603864734299517, total=   4.4s\n",
      "[CV] metric=<function calculate_distance at 0x000002C8A5544EA0>, metric_params={'dist_type': 'euclid'}, n_neighbors=3 \n"
     ]
    },
    {
     "name": "stderr",
     "output_type": "stream",
     "text": [
      "[Parallel(n_jobs=1)]: Done   2 out of   2 | elapsed:   43.2s remaining:    0.0s\n"
     ]
    },
    {
     "name": "stdout",
     "output_type": "stream",
     "text": [
      "[CV]  metric=<function calculate_distance at 0x000002C8A5544EA0>, metric_params={'dist_type': 'euclid'}, n_neighbors=3, score=0.5700483091787439, total=   4.4s\n",
      "[CV] metric=<function calculate_distance at 0x000002C8A5544EA0>, metric_params={'dist_type': 'euclid'}, n_neighbors=4 \n",
      "[CV]  metric=<function calculate_distance at 0x000002C8A5544EA0>, metric_params={'dist_type': 'euclid'}, n_neighbors=4, score=0.4927536231884058, total=   4.4s\n",
      "[CV] metric=<function calculate_distance at 0x000002C8A5544EA0>, metric_params={'dist_type': 'euclid'}, n_neighbors=5 \n",
      "[CV]  metric=<function calculate_distance at 0x000002C8A5544EA0>, metric_params={'dist_type': 'euclid'}, n_neighbors=5, score=0.4492753623188406, total=   4.6s\n",
      "[CV] metric=<function calculate_distance at 0x000002C8A5544EA0>, metric_params={'dist_type': 'euclid'}, n_neighbors=6 \n",
      "[CV]  metric=<function calculate_distance at 0x000002C8A5544EA0>, metric_params={'dist_type': 'euclid'}, n_neighbors=6, score=0.4106280193236715, total=   5.3s\n",
      "[CV] metric=<function calculate_distance at 0x000002C8A5544EA0>, metric_params={'dist_type': 'euclid'}, n_neighbors=7 \n",
      "[CV]  metric=<function calculate_distance at 0x000002C8A5544EA0>, metric_params={'dist_type': 'euclid'}, n_neighbors=7, score=0.3864734299516908, total=   4.4s\n",
      "[CV] metric=<function calculate_distance at 0x000002C8A5544EA0>, metric_params={'dist_type': 'euclid'}, n_neighbors=8 \n",
      "[CV]  metric=<function calculate_distance at 0x000002C8A5544EA0>, metric_params={'dist_type': 'euclid'}, n_neighbors=8, score=0.357487922705314, total=   4.4s\n",
      "[CV] metric=<function calculate_distance at 0x000002C8A5544EA0>, metric_params={'dist_type': 'euclid'}, n_neighbors=9 \n",
      "[CV]  metric=<function calculate_distance at 0x000002C8A5544EA0>, metric_params={'dist_type': 'euclid'}, n_neighbors=9, score=0.36231884057971014, total=   4.4s\n",
      "[CV] metric=<function calculate_distance at 0x000002C8A5544EA0>, metric_params={'dist_type': 'euclid'}, n_neighbors=10 \n",
      "[CV]  metric=<function calculate_distance at 0x000002C8A5544EA0>, metric_params={'dist_type': 'euclid'}, n_neighbors=10, score=0.34299516908212563, total=   4.6s\n",
      "6\n"
     ]
    },
    {
     "name": "stderr",
     "output_type": "stream",
     "text": [
      "[Parallel(n_jobs=1)]: Done  10 out of  10 | elapsed:  3.7min finished\n"
     ]
    },
    {
     "name": "stdout",
     "output_type": "stream",
     "text": [
      "Fitting 1 folds for each of 10 candidates, totalling 10 fits\n",
      "[CV] metric=<function calculate_distance at 0x000002C8A5544EA0>, metric_params={'dist_type': 'euclid'}, n_neighbors=1 \n",
      "[CV]  metric=<function calculate_distance at 0x000002C8A5544EA0>, metric_params={'dist_type': 'euclid'}, n_neighbors=1, score=0.6280193236714976, total=   4.6s\n",
      "[CV] metric=<function calculate_distance at 0x000002C8A5544EA0>, metric_params={'dist_type': 'euclid'}, n_neighbors=2 \n"
     ]
    },
    {
     "name": "stderr",
     "output_type": "stream",
     "text": [
      "[Parallel(n_jobs=1)]: Done   1 out of   1 | elapsed:   22.3s remaining:    0.0s\n"
     ]
    },
    {
     "name": "stdout",
     "output_type": "stream",
     "text": [
      "[CV]  metric=<function calculate_distance at 0x000002C8A5544EA0>, metric_params={'dist_type': 'euclid'}, n_neighbors=2, score=0.5797101449275363, total=   4.7s\n",
      "[CV] metric=<function calculate_distance at 0x000002C8A5544EA0>, metric_params={'dist_type': 'euclid'}, n_neighbors=3 \n"
     ]
    },
    {
     "name": "stderr",
     "output_type": "stream",
     "text": [
      "[Parallel(n_jobs=1)]: Done   2 out of   2 | elapsed:   44.9s remaining:    0.0s\n"
     ]
    },
    {
     "name": "stdout",
     "output_type": "stream",
     "text": [
      "[CV]  metric=<function calculate_distance at 0x000002C8A5544EA0>, metric_params={'dist_type': 'euclid'}, n_neighbors=3, score=0.46859903381642515, total=   4.5s\n",
      "[CV] metric=<function calculate_distance at 0x000002C8A5544EA0>, metric_params={'dist_type': 'euclid'}, n_neighbors=4 \n",
      "[CV]  metric=<function calculate_distance at 0x000002C8A5544EA0>, metric_params={'dist_type': 'euclid'}, n_neighbors=4, score=0.463768115942029, total=   4.4s\n",
      "[CV] metric=<function calculate_distance at 0x000002C8A5544EA0>, metric_params={'dist_type': 'euclid'}, n_neighbors=5 \n",
      "[CV]  metric=<function calculate_distance at 0x000002C8A5544EA0>, metric_params={'dist_type': 'euclid'}, n_neighbors=5, score=0.40096618357487923, total=   4.4s\n",
      "[CV] metric=<function calculate_distance at 0x000002C8A5544EA0>, metric_params={'dist_type': 'euclid'}, n_neighbors=6 \n",
      "[CV]  metric=<function calculate_distance at 0x000002C8A5544EA0>, metric_params={'dist_type': 'euclid'}, n_neighbors=6, score=0.3864734299516908, total=   4.4s\n",
      "[CV] metric=<function calculate_distance at 0x000002C8A5544EA0>, metric_params={'dist_type': 'euclid'}, n_neighbors=7 \n",
      "[CV]  metric=<function calculate_distance at 0x000002C8A5544EA0>, metric_params={'dist_type': 'euclid'}, n_neighbors=7, score=0.3285024154589372, total=   4.4s\n",
      "[CV] metric=<function calculate_distance at 0x000002C8A5544EA0>, metric_params={'dist_type': 'euclid'}, n_neighbors=8 \n",
      "[CV]  metric=<function calculate_distance at 0x000002C8A5544EA0>, metric_params={'dist_type': 'euclid'}, n_neighbors=8, score=0.34299516908212563, total=   4.3s\n",
      "[CV] metric=<function calculate_distance at 0x000002C8A5544EA0>, metric_params={'dist_type': 'euclid'}, n_neighbors=9 \n",
      "[CV]  metric=<function calculate_distance at 0x000002C8A5544EA0>, metric_params={'dist_type': 'euclid'}, n_neighbors=9, score=0.34782608695652173, total=   4.4s\n",
      "[CV] metric=<function calculate_distance at 0x000002C8A5544EA0>, metric_params={'dist_type': 'euclid'}, n_neighbors=10 \n",
      "[CV]  metric=<function calculate_distance at 0x000002C8A5544EA0>, metric_params={'dist_type': 'euclid'}, n_neighbors=10, score=0.33816425120772947, total=   4.4s\n",
      "7\n"
     ]
    },
    {
     "name": "stderr",
     "output_type": "stream",
     "text": [
      "[Parallel(n_jobs=1)]: Done  10 out of  10 | elapsed:  3.7min finished\n"
     ]
    },
    {
     "name": "stdout",
     "output_type": "stream",
     "text": [
      "Fitting 1 folds for each of 10 candidates, totalling 10 fits\n",
      "[CV] metric=<function calculate_distance at 0x000002C8A5544EA0>, metric_params={'dist_type': 'euclid'}, n_neighbors=1 \n",
      "[CV]  metric=<function calculate_distance at 0x000002C8A5544EA0>, metric_params={'dist_type': 'euclid'}, n_neighbors=1, score=0.5217391304347826, total=   4.2s\n",
      "[CV] metric=<function calculate_distance at 0x000002C8A5544EA0>, metric_params={'dist_type': 'euclid'}, n_neighbors=2 \n"
     ]
    },
    {
     "name": "stderr",
     "output_type": "stream",
     "text": [
      "[Parallel(n_jobs=1)]: Done   1 out of   1 | elapsed:   20.5s remaining:    0.0s\n"
     ]
    },
    {
     "name": "stdout",
     "output_type": "stream",
     "text": [
      "[CV]  metric=<function calculate_distance at 0x000002C8A5544EA0>, metric_params={'dist_type': 'euclid'}, n_neighbors=2, score=0.4396135265700483, total=   4.3s\n",
      "[CV] metric=<function calculate_distance at 0x000002C8A5544EA0>, metric_params={'dist_type': 'euclid'}, n_neighbors=3 \n"
     ]
    },
    {
     "name": "stderr",
     "output_type": "stream",
     "text": [
      "[Parallel(n_jobs=1)]: Done   2 out of   2 | elapsed:   41.8s remaining:    0.0s\n"
     ]
    },
    {
     "name": "stdout",
     "output_type": "stream",
     "text": [
      "[CV]  metric=<function calculate_distance at 0x000002C8A5544EA0>, metric_params={'dist_type': 'euclid'}, n_neighbors=3, score=0.4106280193236715, total=   4.4s\n",
      "[CV] metric=<function calculate_distance at 0x000002C8A5544EA0>, metric_params={'dist_type': 'euclid'}, n_neighbors=4 \n",
      "[CV]  metric=<function calculate_distance at 0x000002C8A5544EA0>, metric_params={'dist_type': 'euclid'}, n_neighbors=4, score=0.42028985507246375, total=   4.4s\n",
      "[CV] metric=<function calculate_distance at 0x000002C8A5544EA0>, metric_params={'dist_type': 'euclid'}, n_neighbors=5 \n",
      "[CV]  metric=<function calculate_distance at 0x000002C8A5544EA0>, metric_params={'dist_type': 'euclid'}, n_neighbors=5, score=0.38164251207729466, total=   4.5s\n",
      "[CV] metric=<function calculate_distance at 0x000002C8A5544EA0>, metric_params={'dist_type': 'euclid'}, n_neighbors=6 \n",
      "[CV]  metric=<function calculate_distance at 0x000002C8A5544EA0>, metric_params={'dist_type': 'euclid'}, n_neighbors=6, score=0.3671497584541063, total=   4.4s\n",
      "[CV] metric=<function calculate_distance at 0x000002C8A5544EA0>, metric_params={'dist_type': 'euclid'}, n_neighbors=7 \n",
      "[CV]  metric=<function calculate_distance at 0x000002C8A5544EA0>, metric_params={'dist_type': 'euclid'}, n_neighbors=7, score=0.33816425120772947, total=   4.5s\n",
      "[CV] metric=<function calculate_distance at 0x000002C8A5544EA0>, metric_params={'dist_type': 'euclid'}, n_neighbors=8 \n",
      "[CV]  metric=<function calculate_distance at 0x000002C8A5544EA0>, metric_params={'dist_type': 'euclid'}, n_neighbors=8, score=0.32367149758454106, total=   4.3s\n",
      "[CV] metric=<function calculate_distance at 0x000002C8A5544EA0>, metric_params={'dist_type': 'euclid'}, n_neighbors=9 \n",
      "[CV]  metric=<function calculate_distance at 0x000002C8A5544EA0>, metric_params={'dist_type': 'euclid'}, n_neighbors=9, score=0.3285024154589372, total=   4.4s\n",
      "[CV] metric=<function calculate_distance at 0x000002C8A5544EA0>, metric_params={'dist_type': 'euclid'}, n_neighbors=10 \n",
      "[CV]  metric=<function calculate_distance at 0x000002C8A5544EA0>, metric_params={'dist_type': 'euclid'}, n_neighbors=10, score=0.3333333333333333, total=   4.5s\n",
      "8\n"
     ]
    },
    {
     "name": "stderr",
     "output_type": "stream",
     "text": [
      "[Parallel(n_jobs=1)]: Done  10 out of  10 | elapsed:  3.6min finished\n"
     ]
    },
    {
     "name": "stdout",
     "output_type": "stream",
     "text": [
      "Fitting 1 folds for each of 10 candidates, totalling 10 fits\n",
      "[CV] metric=<function calculate_distance at 0x000002C8A5544EA0>, metric_params={'dist_type': 'euclid'}, n_neighbors=1 \n",
      "[CV]  metric=<function calculate_distance at 0x000002C8A5544EA0>, metric_params={'dist_type': 'euclid'}, n_neighbors=1, score=0.45410628019323673, total=   4.3s\n",
      "[CV] metric=<function calculate_distance at 0x000002C8A5544EA0>, metric_params={'dist_type': 'euclid'}, n_neighbors=2 \n"
     ]
    },
    {
     "name": "stderr",
     "output_type": "stream",
     "text": [
      "[Parallel(n_jobs=1)]: Done   1 out of   1 | elapsed:   20.9s remaining:    0.0s\n"
     ]
    },
    {
     "name": "stdout",
     "output_type": "stream",
     "text": [
      "[CV]  metric=<function calculate_distance at 0x000002C8A5544EA0>, metric_params={'dist_type': 'euclid'}, n_neighbors=2, score=0.42028985507246375, total=   4.4s\n",
      "[CV] metric=<function calculate_distance at 0x000002C8A5544EA0>, metric_params={'dist_type': 'euclid'}, n_neighbors=3 \n"
     ]
    },
    {
     "name": "stderr",
     "output_type": "stream",
     "text": [
      "[Parallel(n_jobs=1)]: Done   2 out of   2 | elapsed:   42.6s remaining:    0.0s\n"
     ]
    },
    {
     "name": "stdout",
     "output_type": "stream",
     "text": [
      "[CV]  metric=<function calculate_distance at 0x000002C8A5544EA0>, metric_params={'dist_type': 'euclid'}, n_neighbors=3, score=0.3864734299516908, total=   4.4s\n",
      "[CV] metric=<function calculate_distance at 0x000002C8A5544EA0>, metric_params={'dist_type': 'euclid'}, n_neighbors=4 \n",
      "[CV]  metric=<function calculate_distance at 0x000002C8A5544EA0>, metric_params={'dist_type': 'euclid'}, n_neighbors=4, score=0.3285024154589372, total=   4.4s\n",
      "[CV] metric=<function calculate_distance at 0x000002C8A5544EA0>, metric_params={'dist_type': 'euclid'}, n_neighbors=5 \n",
      "[CV]  metric=<function calculate_distance at 0x000002C8A5544EA0>, metric_params={'dist_type': 'euclid'}, n_neighbors=5, score=0.32367149758454106, total=   4.3s\n",
      "[CV] metric=<function calculate_distance at 0x000002C8A5544EA0>, metric_params={'dist_type': 'euclid'}, n_neighbors=6 \n",
      "[CV]  metric=<function calculate_distance at 0x000002C8A5544EA0>, metric_params={'dist_type': 'euclid'}, n_neighbors=6, score=0.30434782608695654, total=   4.3s\n",
      "[CV] metric=<function calculate_distance at 0x000002C8A5544EA0>, metric_params={'dist_type': 'euclid'}, n_neighbors=7 \n",
      "[CV]  metric=<function calculate_distance at 0x000002C8A5544EA0>, metric_params={'dist_type': 'euclid'}, n_neighbors=7, score=0.2898550724637681, total=   4.4s\n",
      "[CV] metric=<function calculate_distance at 0x000002C8A5544EA0>, metric_params={'dist_type': 'euclid'}, n_neighbors=8 \n",
      "[CV]  metric=<function calculate_distance at 0x000002C8A5544EA0>, metric_params={'dist_type': 'euclid'}, n_neighbors=8, score=0.27053140096618356, total=   4.4s\n",
      "[CV] metric=<function calculate_distance at 0x000002C8A5544EA0>, metric_params={'dist_type': 'euclid'}, n_neighbors=9 \n",
      "[CV]  metric=<function calculate_distance at 0x000002C8A5544EA0>, metric_params={'dist_type': 'euclid'}, n_neighbors=9, score=0.28019323671497587, total=   4.4s\n",
      "[CV] metric=<function calculate_distance at 0x000002C8A5544EA0>, metric_params={'dist_type': 'euclid'}, n_neighbors=10 \n",
      "[CV]  metric=<function calculate_distance at 0x000002C8A5544EA0>, metric_params={'dist_type': 'euclid'}, n_neighbors=10, score=0.26570048309178745, total=   4.4s\n",
      "9\n"
     ]
    },
    {
     "name": "stderr",
     "output_type": "stream",
     "text": [
      "[Parallel(n_jobs=1)]: Done  10 out of  10 | elapsed:  3.6min finished\n"
     ]
    },
    {
     "name": "stdout",
     "output_type": "stream",
     "text": [
      "Fitting 1 folds for each of 10 candidates, totalling 10 fits\n",
      "[CV] metric=<function calculate_distance at 0x000002C8A5544EA0>, metric_params={'dist_type': 'euclid'}, n_neighbors=1 \n",
      "[CV]  metric=<function calculate_distance at 0x000002C8A5544EA0>, metric_params={'dist_type': 'euclid'}, n_neighbors=1, score=0.32367149758454106, total=   4.4s\n",
      "[CV] metric=<function calculate_distance at 0x000002C8A5544EA0>, metric_params={'dist_type': 'euclid'}, n_neighbors=2 \n"
     ]
    },
    {
     "name": "stderr",
     "output_type": "stream",
     "text": [
      "[Parallel(n_jobs=1)]: Done   1 out of   1 | elapsed:   20.8s remaining:    0.0s\n"
     ]
    },
    {
     "name": "stdout",
     "output_type": "stream",
     "text": [
      "[CV]  metric=<function calculate_distance at 0x000002C8A5544EA0>, metric_params={'dist_type': 'euclid'}, n_neighbors=2, score=0.30917874396135264, total=   4.4s\n",
      "[CV] metric=<function calculate_distance at 0x000002C8A5544EA0>, metric_params={'dist_type': 'euclid'}, n_neighbors=3 \n"
     ]
    },
    {
     "name": "stderr",
     "output_type": "stream",
     "text": [
      "[Parallel(n_jobs=1)]: Done   2 out of   2 | elapsed:   42.9s remaining:    0.0s\n"
     ]
    },
    {
     "name": "stdout",
     "output_type": "stream",
     "text": [
      "[CV]  metric=<function calculate_distance at 0x000002C8A5544EA0>, metric_params={'dist_type': 'euclid'}, n_neighbors=3, score=0.2560386473429952, total=   4.4s\n",
      "[CV] metric=<function calculate_distance at 0x000002C8A5544EA0>, metric_params={'dist_type': 'euclid'}, n_neighbors=4 \n",
      "[CV]  metric=<function calculate_distance at 0x000002C8A5544EA0>, metric_params={'dist_type': 'euclid'}, n_neighbors=4, score=0.25120772946859904, total=   4.8s\n",
      "[CV] metric=<function calculate_distance at 0x000002C8A5544EA0>, metric_params={'dist_type': 'euclid'}, n_neighbors=5 \n",
      "[CV]  metric=<function calculate_distance at 0x000002C8A5544EA0>, metric_params={'dist_type': 'euclid'}, n_neighbors=5, score=0.2318840579710145, total=   4.5s\n",
      "[CV] metric=<function calculate_distance at 0x000002C8A5544EA0>, metric_params={'dist_type': 'euclid'}, n_neighbors=6 \n",
      "[CV]  metric=<function calculate_distance at 0x000002C8A5544EA0>, metric_params={'dist_type': 'euclid'}, n_neighbors=6, score=0.21739130434782608, total=   4.4s\n",
      "[CV] metric=<function calculate_distance at 0x000002C8A5544EA0>, metric_params={'dist_type': 'euclid'}, n_neighbors=7 \n",
      "[CV]  metric=<function calculate_distance at 0x000002C8A5544EA0>, metric_params={'dist_type': 'euclid'}, n_neighbors=7, score=0.21256038647342995, total=   4.4s\n",
      "[CV] metric=<function calculate_distance at 0x000002C8A5544EA0>, metric_params={'dist_type': 'euclid'}, n_neighbors=8 \n",
      "[CV]  metric=<function calculate_distance at 0x000002C8A5544EA0>, metric_params={'dist_type': 'euclid'}, n_neighbors=8, score=0.21739130434782608, total=   4.6s\n",
      "[CV] metric=<function calculate_distance at 0x000002C8A5544EA0>, metric_params={'dist_type': 'euclid'}, n_neighbors=9 \n",
      "[CV]  metric=<function calculate_distance at 0x000002C8A5544EA0>, metric_params={'dist_type': 'euclid'}, n_neighbors=9, score=0.2222222222222222, total=   4.6s\n",
      "[CV] metric=<function calculate_distance at 0x000002C8A5544EA0>, metric_params={'dist_type': 'euclid'}, n_neighbors=10 \n",
      "[CV]  metric=<function calculate_distance at 0x000002C8A5544EA0>, metric_params={'dist_type': 'euclid'}, n_neighbors=10, score=0.22705314009661837, total=   4.5s\n",
      "10\n"
     ]
    },
    {
     "name": "stderr",
     "output_type": "stream",
     "text": [
      "[Parallel(n_jobs=1)]: Done  10 out of  10 | elapsed:  3.7min finished\n"
     ]
    },
    {
     "name": "stdout",
     "output_type": "stream",
     "text": [
      "Fitting 1 folds for each of 10 candidates, totalling 10 fits\n",
      "[CV] metric=<function calculate_distance at 0x000002C8A5544EA0>, metric_params={'dist_type': 'euclid'}, n_neighbors=1 \n",
      "[CV]  metric=<function calculate_distance at 0x000002C8A5544EA0>, metric_params={'dist_type': 'euclid'}, n_neighbors=1, score=0.3188405797101449, total=   4.6s\n",
      "[CV] metric=<function calculate_distance at 0x000002C8A5544EA0>, metric_params={'dist_type': 'euclid'}, n_neighbors=2 \n"
     ]
    },
    {
     "name": "stderr",
     "output_type": "stream",
     "text": [
      "[Parallel(n_jobs=1)]: Done   1 out of   1 | elapsed:   21.6s remaining:    0.0s\n"
     ]
    },
    {
     "name": "stdout",
     "output_type": "stream",
     "text": [
      "[CV]  metric=<function calculate_distance at 0x000002C8A5544EA0>, metric_params={'dist_type': 'euclid'}, n_neighbors=2, score=0.26570048309178745, total=   4.6s\n",
      "[CV] metric=<function calculate_distance at 0x000002C8A5544EA0>, metric_params={'dist_type': 'euclid'}, n_neighbors=3 \n"
     ]
    },
    {
     "name": "stderr",
     "output_type": "stream",
     "text": [
      "[Parallel(n_jobs=1)]: Done   2 out of   2 | elapsed:   44.5s remaining:    0.0s\n"
     ]
    },
    {
     "name": "stdout",
     "output_type": "stream",
     "text": [
      "[CV]  metric=<function calculate_distance at 0x000002C8A5544EA0>, metric_params={'dist_type': 'euclid'}, n_neighbors=3, score=0.23671497584541062, total=   4.6s\n",
      "[CV] metric=<function calculate_distance at 0x000002C8A5544EA0>, metric_params={'dist_type': 'euclid'}, n_neighbors=4 \n",
      "[CV]  metric=<function calculate_distance at 0x000002C8A5544EA0>, metric_params={'dist_type': 'euclid'}, n_neighbors=4, score=0.25120772946859904, total=   4.6s\n",
      "[CV] metric=<function calculate_distance at 0x000002C8A5544EA0>, metric_params={'dist_type': 'euclid'}, n_neighbors=5 \n",
      "[CV]  metric=<function calculate_distance at 0x000002C8A5544EA0>, metric_params={'dist_type': 'euclid'}, n_neighbors=5, score=0.2222222222222222, total=   4.6s\n",
      "[CV] metric=<function calculate_distance at 0x000002C8A5544EA0>, metric_params={'dist_type': 'euclid'}, n_neighbors=6 \n",
      "[CV]  metric=<function calculate_distance at 0x000002C8A5544EA0>, metric_params={'dist_type': 'euclid'}, n_neighbors=6, score=0.2028985507246377, total=   4.8s\n",
      "[CV] metric=<function calculate_distance at 0x000002C8A5544EA0>, metric_params={'dist_type': 'euclid'}, n_neighbors=7 \n",
      "[CV]  metric=<function calculate_distance at 0x000002C8A5544EA0>, metric_params={'dist_type': 'euclid'}, n_neighbors=7, score=0.21739130434782608, total=   4.5s\n",
      "[CV] metric=<function calculate_distance at 0x000002C8A5544EA0>, metric_params={'dist_type': 'euclid'}, n_neighbors=8 \n",
      "[CV]  metric=<function calculate_distance at 0x000002C8A5544EA0>, metric_params={'dist_type': 'euclid'}, n_neighbors=8, score=0.21739130434782608, total=   4.7s\n",
      "[CV] metric=<function calculate_distance at 0x000002C8A5544EA0>, metric_params={'dist_type': 'euclid'}, n_neighbors=9 \n",
      "[CV]  metric=<function calculate_distance at 0x000002C8A5544EA0>, metric_params={'dist_type': 'euclid'}, n_neighbors=9, score=0.22705314009661837, total=   4.7s\n",
      "[CV] metric=<function calculate_distance at 0x000002C8A5544EA0>, metric_params={'dist_type': 'euclid'}, n_neighbors=10 \n",
      "[CV]  metric=<function calculate_distance at 0x000002C8A5544EA0>, metric_params={'dist_type': 'euclid'}, n_neighbors=10, score=0.2318840579710145, total=   4.8s\n",
      "11\n"
     ]
    },
    {
     "name": "stderr",
     "output_type": "stream",
     "text": [
      "[Parallel(n_jobs=1)]: Done  10 out of  10 | elapsed:  3.9min finished\n"
     ]
    },
    {
     "name": "stdout",
     "output_type": "stream",
     "text": [
      "Fitting 1 folds for each of 10 candidates, totalling 10 fits\n",
      "[CV] metric=<function calculate_distance at 0x000002C8A5544EA0>, metric_params={'dist_type': 'euclid'}, n_neighbors=1 \n",
      "[CV]  metric=<function calculate_distance at 0x000002C8A5544EA0>, metric_params={'dist_type': 'euclid'}, n_neighbors=1, score=0.26570048309178745, total=   4.6s\n",
      "[CV] metric=<function calculate_distance at 0x000002C8A5544EA0>, metric_params={'dist_type': 'euclid'}, n_neighbors=2 \n"
     ]
    },
    {
     "name": "stderr",
     "output_type": "stream",
     "text": [
      "[Parallel(n_jobs=1)]: Done   1 out of   1 | elapsed:   21.1s remaining:    0.0s\n"
     ]
    },
    {
     "name": "stdout",
     "output_type": "stream",
     "text": [
      "[CV]  metric=<function calculate_distance at 0x000002C8A5544EA0>, metric_params={'dist_type': 'euclid'}, n_neighbors=2, score=0.2318840579710145, total=   4.6s\n",
      "[CV] metric=<function calculate_distance at 0x000002C8A5544EA0>, metric_params={'dist_type': 'euclid'}, n_neighbors=3 \n"
     ]
    },
    {
     "name": "stderr",
     "output_type": "stream",
     "text": [
      "[Parallel(n_jobs=1)]: Done   2 out of   2 | elapsed:   44.5s remaining:    0.0s\n"
     ]
    },
    {
     "name": "stdout",
     "output_type": "stream",
     "text": [
      "[CV]  metric=<function calculate_distance at 0x000002C8A5544EA0>, metric_params={'dist_type': 'euclid'}, n_neighbors=3, score=0.2222222222222222, total=   4.6s\n",
      "[CV] metric=<function calculate_distance at 0x000002C8A5544EA0>, metric_params={'dist_type': 'euclid'}, n_neighbors=4 \n",
      "[CV]  metric=<function calculate_distance at 0x000002C8A5544EA0>, metric_params={'dist_type': 'euclid'}, n_neighbors=4, score=0.2222222222222222, total=   4.6s\n",
      "[CV] metric=<function calculate_distance at 0x000002C8A5544EA0>, metric_params={'dist_type': 'euclid'}, n_neighbors=5 \n",
      "[CV]  metric=<function calculate_distance at 0x000002C8A5544EA0>, metric_params={'dist_type': 'euclid'}, n_neighbors=5, score=0.24154589371980675, total=   4.6s\n",
      "[CV] metric=<function calculate_distance at 0x000002C8A5544EA0>, metric_params={'dist_type': 'euclid'}, n_neighbors=6 \n",
      "[CV]  metric=<function calculate_distance at 0x000002C8A5544EA0>, metric_params={'dist_type': 'euclid'}, n_neighbors=6, score=0.21739130434782608, total=   4.6s\n",
      "[CV] metric=<function calculate_distance at 0x000002C8A5544EA0>, metric_params={'dist_type': 'euclid'}, n_neighbors=7 \n",
      "[CV]  metric=<function calculate_distance at 0x000002C8A5544EA0>, metric_params={'dist_type': 'euclid'}, n_neighbors=7, score=0.21256038647342995, total=   4.6s\n",
      "[CV] metric=<function calculate_distance at 0x000002C8A5544EA0>, metric_params={'dist_type': 'euclid'}, n_neighbors=8 \n",
      "[CV]  metric=<function calculate_distance at 0x000002C8A5544EA0>, metric_params={'dist_type': 'euclid'}, n_neighbors=8, score=0.21256038647342995, total=   4.6s\n",
      "[CV] metric=<function calculate_distance at 0x000002C8A5544EA0>, metric_params={'dist_type': 'euclid'}, n_neighbors=9 \n",
      "[CV]  metric=<function calculate_distance at 0x000002C8A5544EA0>, metric_params={'dist_type': 'euclid'}, n_neighbors=9, score=0.20772946859903382, total=   4.5s\n",
      "[CV] metric=<function calculate_distance at 0x000002C8A5544EA0>, metric_params={'dist_type': 'euclid'}, n_neighbors=10 \n",
      "[CV]  metric=<function calculate_distance at 0x000002C8A5544EA0>, metric_params={'dist_type': 'euclid'}, n_neighbors=10, score=0.21256038647342995, total=   4.7s\n",
      "12\n"
     ]
    },
    {
     "name": "stderr",
     "output_type": "stream",
     "text": [
      "[Parallel(n_jobs=1)]: Done  10 out of  10 | elapsed:  3.8min finished\n"
     ]
    },
    {
     "name": "stdout",
     "output_type": "stream",
     "text": [
      "Fitting 1 folds for each of 10 candidates, totalling 10 fits\n",
      "[CV] metric=<function calculate_distance at 0x000002C8A5544EA0>, metric_params={'dist_type': 'euclid'}, n_neighbors=1 \n",
      "[CV]  metric=<function calculate_distance at 0x000002C8A5544EA0>, metric_params={'dist_type': 'euclid'}, n_neighbors=1, score=0.2898550724637681, total=   4.6s\n",
      "[CV] metric=<function calculate_distance at 0x000002C8A5544EA0>, metric_params={'dist_type': 'euclid'}, n_neighbors=2 \n"
     ]
    },
    {
     "name": "stderr",
     "output_type": "stream",
     "text": [
      "[Parallel(n_jobs=1)]: Done   1 out of   1 | elapsed:   22.3s remaining:    0.0s\n"
     ]
    },
    {
     "name": "stdout",
     "output_type": "stream",
     "text": [
      "[CV]  metric=<function calculate_distance at 0x000002C8A5544EA0>, metric_params={'dist_type': 'euclid'}, n_neighbors=2, score=0.2753623188405797, total=   4.6s\n",
      "[CV] metric=<function calculate_distance at 0x000002C8A5544EA0>, metric_params={'dist_type': 'euclid'}, n_neighbors=3 \n"
     ]
    },
    {
     "name": "stderr",
     "output_type": "stream",
     "text": [
      "[Parallel(n_jobs=1)]: Done   2 out of   2 | elapsed:   45.5s remaining:    0.0s\n"
     ]
    },
    {
     "name": "stdout",
     "output_type": "stream",
     "text": [
      "[CV]  metric=<function calculate_distance at 0x000002C8A5544EA0>, metric_params={'dist_type': 'euclid'}, n_neighbors=3, score=0.2463768115942029, total=   4.6s\n",
      "[CV] metric=<function calculate_distance at 0x000002C8A5544EA0>, metric_params={'dist_type': 'euclid'}, n_neighbors=4 \n",
      "[CV]  metric=<function calculate_distance at 0x000002C8A5544EA0>, metric_params={'dist_type': 'euclid'}, n_neighbors=4, score=0.25120772946859904, total=   4.7s\n",
      "[CV] metric=<function calculate_distance at 0x000002C8A5544EA0>, metric_params={'dist_type': 'euclid'}, n_neighbors=5 \n",
      "[CV]  metric=<function calculate_distance at 0x000002C8A5544EA0>, metric_params={'dist_type': 'euclid'}, n_neighbors=5, score=0.2318840579710145, total=   4.7s\n",
      "[CV] metric=<function calculate_distance at 0x000002C8A5544EA0>, metric_params={'dist_type': 'euclid'}, n_neighbors=6 \n",
      "[CV]  metric=<function calculate_distance at 0x000002C8A5544EA0>, metric_params={'dist_type': 'euclid'}, n_neighbors=6, score=0.23671497584541062, total=   4.7s\n",
      "[CV] metric=<function calculate_distance at 0x000002C8A5544EA0>, metric_params={'dist_type': 'euclid'}, n_neighbors=7 \n",
      "[CV]  metric=<function calculate_distance at 0x000002C8A5544EA0>, metric_params={'dist_type': 'euclid'}, n_neighbors=7, score=0.24154589371980675, total=   4.7s\n",
      "[CV] metric=<function calculate_distance at 0x000002C8A5544EA0>, metric_params={'dist_type': 'euclid'}, n_neighbors=8 \n",
      "[CV]  metric=<function calculate_distance at 0x000002C8A5544EA0>, metric_params={'dist_type': 'euclid'}, n_neighbors=8, score=0.24154589371980675, total=   4.7s\n",
      "[CV] metric=<function calculate_distance at 0x000002C8A5544EA0>, metric_params={'dist_type': 'euclid'}, n_neighbors=9 \n",
      "[CV]  metric=<function calculate_distance at 0x000002C8A5544EA0>, metric_params={'dist_type': 'euclid'}, n_neighbors=9, score=0.22705314009661837, total=   4.6s\n",
      "[CV] metric=<function calculate_distance at 0x000002C8A5544EA0>, metric_params={'dist_type': 'euclid'}, n_neighbors=10 \n",
      "[CV]  metric=<function calculate_distance at 0x000002C8A5544EA0>, metric_params={'dist_type': 'euclid'}, n_neighbors=10, score=0.2222222222222222, total=   4.7s\n"
     ]
    },
    {
     "name": "stderr",
     "output_type": "stream",
     "text": [
      "[Parallel(n_jobs=1)]: Done  10 out of  10 | elapsed:  3.9min finished\n"
     ]
    }
   ],
   "source": [
    "for nr in frame_numbers:\n",
    "    print(nr)\n",
    "    try:\n",
    "        acc_train_input, acc_train_label = prepare_data(train, nr, 'accelerometer', verbose=False)\n",
    "        acc_valid_input, acc_valid_label = prepare_data(valid, nr, 'accelerometer', verbose=False)\n",
    "\n",
    "        kNN = GridSearchCV(KNeighborsClassifier(), parameters, cv=cross_valid, scoring='accuracy', n_jobs=parallel_jobs,\n",
    "                           verbose=verbose_level).fit(np.append(acc_train_input, acc_valid_input, axis=0),\n",
    "                                                      np.append(acc_train_label, acc_valid_label))\n",
    "        result = (kNN.best_score_, nr, kNN.best_params_)\n",
    "        \n",
    "        if result[0] > euclid_acc[0]:\n",
    "            euclid_acc = result\n",
    "        \n",
    "    except ValueError as err:\n",
    "        pass"
   ]
  },
  {
   "cell_type": "markdown",
   "metadata": {},
   "source": [
    "### Gyroskop"
   ]
  },
  {
   "cell_type": "code",
   "execution_count": 40,
   "metadata": {
    "scrolled": true
   },
   "outputs": [
    {
     "name": "stdout",
     "output_type": "stream",
     "text": [
      "1\n",
      "Fitting 1 folds for each of 10 candidates, totalling 10 fits\n",
      "[CV] metric=<function calculate_distance at 0x000002C8A5544EA0>, metric_params={'dist_type': 'euclid'}, n_neighbors=1 \n",
      "[CV]  metric=<function calculate_distance at 0x000002C8A5544EA0>, metric_params={'dist_type': 'euclid'}, n_neighbors=1, score=0.23557692307692307, total=   2.5s\n",
      "[CV] metric=<function calculate_distance at 0x000002C8A5544EA0>, metric_params={'dist_type': 'euclid'}, n_neighbors=2 \n"
     ]
    },
    {
     "name": "stderr",
     "output_type": "stream",
     "text": [
      "[Parallel(n_jobs=1)]: Done   1 out of   1 | elapsed:   12.0s remaining:    0.0s\n"
     ]
    },
    {
     "name": "stdout",
     "output_type": "stream",
     "text": [
      "[CV]  metric=<function calculate_distance at 0x000002C8A5544EA0>, metric_params={'dist_type': 'euclid'}, n_neighbors=2, score=0.20673076923076922, total=   2.6s\n",
      "[CV] metric=<function calculate_distance at 0x000002C8A5544EA0>, metric_params={'dist_type': 'euclid'}, n_neighbors=3 \n"
     ]
    },
    {
     "name": "stderr",
     "output_type": "stream",
     "text": [
      "[Parallel(n_jobs=1)]: Done   2 out of   2 | elapsed:   24.6s remaining:    0.0s\n"
     ]
    },
    {
     "name": "stdout",
     "output_type": "stream",
     "text": [
      "[CV]  metric=<function calculate_distance at 0x000002C8A5544EA0>, metric_params={'dist_type': 'euclid'}, n_neighbors=3, score=0.22115384615384615, total=   2.7s\n",
      "[CV] metric=<function calculate_distance at 0x000002C8A5544EA0>, metric_params={'dist_type': 'euclid'}, n_neighbors=4 \n",
      "[CV]  metric=<function calculate_distance at 0x000002C8A5544EA0>, metric_params={'dist_type': 'euclid'}, n_neighbors=4, score=0.25, total=   2.7s\n",
      "[CV] metric=<function calculate_distance at 0x000002C8A5544EA0>, metric_params={'dist_type': 'euclid'}, n_neighbors=5 \n",
      "[CV]  metric=<function calculate_distance at 0x000002C8A5544EA0>, metric_params={'dist_type': 'euclid'}, n_neighbors=5, score=0.2403846153846154, total=   2.7s\n",
      "[CV] metric=<function calculate_distance at 0x000002C8A5544EA0>, metric_params={'dist_type': 'euclid'}, n_neighbors=6 \n",
      "[CV]  metric=<function calculate_distance at 0x000002C8A5544EA0>, metric_params={'dist_type': 'euclid'}, n_neighbors=6, score=0.2403846153846154, total=   2.7s\n",
      "[CV] metric=<function calculate_distance at 0x000002C8A5544EA0>, metric_params={'dist_type': 'euclid'}, n_neighbors=7 \n",
      "[CV]  metric=<function calculate_distance at 0x000002C8A5544EA0>, metric_params={'dist_type': 'euclid'}, n_neighbors=7, score=0.25, total=   2.7s\n",
      "[CV] metric=<function calculate_distance at 0x000002C8A5544EA0>, metric_params={'dist_type': 'euclid'}, n_neighbors=8 \n",
      "[CV]  metric=<function calculate_distance at 0x000002C8A5544EA0>, metric_params={'dist_type': 'euclid'}, n_neighbors=8, score=0.23557692307692307, total=   2.7s\n",
      "[CV] metric=<function calculate_distance at 0x000002C8A5544EA0>, metric_params={'dist_type': 'euclid'}, n_neighbors=9 \n",
      "[CV]  metric=<function calculate_distance at 0x000002C8A5544EA0>, metric_params={'dist_type': 'euclid'}, n_neighbors=9, score=0.24519230769230768, total=   2.7s\n",
      "[CV] metric=<function calculate_distance at 0x000002C8A5544EA0>, metric_params={'dist_type': 'euclid'}, n_neighbors=10 \n",
      "[CV]  metric=<function calculate_distance at 0x000002C8A5544EA0>, metric_params={'dist_type': 'euclid'}, n_neighbors=10, score=0.24519230769230768, total=   2.7s\n",
      "2\n"
     ]
    },
    {
     "name": "stderr",
     "output_type": "stream",
     "text": [
      "[Parallel(n_jobs=1)]: Done  10 out of  10 | elapsed:  2.2min finished\n"
     ]
    },
    {
     "name": "stdout",
     "output_type": "stream",
     "text": [
      "Fitting 1 folds for each of 10 candidates, totalling 10 fits\n",
      "[CV] metric=<function calculate_distance at 0x000002C8A5544EA0>, metric_params={'dist_type': 'euclid'}, n_neighbors=1 \n",
      "[CV]  metric=<function calculate_distance at 0x000002C8A5544EA0>, metric_params={'dist_type': 'euclid'}, n_neighbors=1, score=0.33816425120772947, total=   2.4s\n",
      "[CV] metric=<function calculate_distance at 0x000002C8A5544EA0>, metric_params={'dist_type': 'euclid'}, n_neighbors=2 \n"
     ]
    },
    {
     "name": "stderr",
     "output_type": "stream",
     "text": [
      "[Parallel(n_jobs=1)]: Done   1 out of   1 | elapsed:   11.0s remaining:    0.0s\n"
     ]
    },
    {
     "name": "stdout",
     "output_type": "stream",
     "text": [
      "[CV]  metric=<function calculate_distance at 0x000002C8A5544EA0>, metric_params={'dist_type': 'euclid'}, n_neighbors=2, score=0.3333333333333333, total=   2.5s\n",
      "[CV] metric=<function calculate_distance at 0x000002C8A5544EA0>, metric_params={'dist_type': 'euclid'}, n_neighbors=3 \n"
     ]
    },
    {
     "name": "stderr",
     "output_type": "stream",
     "text": [
      "[Parallel(n_jobs=1)]: Done   2 out of   2 | elapsed:   23.6s remaining:    0.0s\n"
     ]
    },
    {
     "name": "stdout",
     "output_type": "stream",
     "text": [
      "[CV]  metric=<function calculate_distance at 0x000002C8A5544EA0>, metric_params={'dist_type': 'euclid'}, n_neighbors=3, score=0.36231884057971014, total=   2.6s\n",
      "[CV] metric=<function calculate_distance at 0x000002C8A5544EA0>, metric_params={'dist_type': 'euclid'}, n_neighbors=4 \n",
      "[CV]  metric=<function calculate_distance at 0x000002C8A5544EA0>, metric_params={'dist_type': 'euclid'}, n_neighbors=4, score=0.34782608695652173, total=   2.7s\n",
      "[CV] metric=<function calculate_distance at 0x000002C8A5544EA0>, metric_params={'dist_type': 'euclid'}, n_neighbors=5 \n",
      "[CV]  metric=<function calculate_distance at 0x000002C8A5544EA0>, metric_params={'dist_type': 'euclid'}, n_neighbors=5, score=0.3188405797101449, total=   2.9s\n",
      "[CV] metric=<function calculate_distance at 0x000002C8A5544EA0>, metric_params={'dist_type': 'euclid'}, n_neighbors=6 \n",
      "[CV]  metric=<function calculate_distance at 0x000002C8A5544EA0>, metric_params={'dist_type': 'euclid'}, n_neighbors=6, score=0.3285024154589372, total=   2.7s\n",
      "[CV] metric=<function calculate_distance at 0x000002C8A5544EA0>, metric_params={'dist_type': 'euclid'}, n_neighbors=7 \n",
      "[CV]  metric=<function calculate_distance at 0x000002C8A5544EA0>, metric_params={'dist_type': 'euclid'}, n_neighbors=7, score=0.34299516908212563, total=   2.8s\n",
      "[CV] metric=<function calculate_distance at 0x000002C8A5544EA0>, metric_params={'dist_type': 'euclid'}, n_neighbors=8 \n",
      "[CV]  metric=<function calculate_distance at 0x000002C8A5544EA0>, metric_params={'dist_type': 'euclid'}, n_neighbors=8, score=0.33816425120772947, total=   2.8s\n",
      "[CV] metric=<function calculate_distance at 0x000002C8A5544EA0>, metric_params={'dist_type': 'euclid'}, n_neighbors=9 \n",
      "[CV]  metric=<function calculate_distance at 0x000002C8A5544EA0>, metric_params={'dist_type': 'euclid'}, n_neighbors=9, score=0.32367149758454106, total=   3.0s\n",
      "[CV] metric=<function calculate_distance at 0x000002C8A5544EA0>, metric_params={'dist_type': 'euclid'}, n_neighbors=10 \n",
      "[CV]  metric=<function calculate_distance at 0x000002C8A5544EA0>, metric_params={'dist_type': 'euclid'}, n_neighbors=10, score=0.3526570048309179, total=   2.9s\n",
      "3\n"
     ]
    },
    {
     "name": "stderr",
     "output_type": "stream",
     "text": [
      "[Parallel(n_jobs=1)]: Done  10 out of  10 | elapsed:  2.2min finished\n"
     ]
    },
    {
     "name": "stdout",
     "output_type": "stream",
     "text": [
      "Fitting 1 folds for each of 10 candidates, totalling 10 fits\n",
      "[CV] metric=<function calculate_distance at 0x000002C8A5544EA0>, metric_params={'dist_type': 'euclid'}, n_neighbors=1 \n",
      "[CV]  metric=<function calculate_distance at 0x000002C8A5544EA0>, metric_params={'dist_type': 'euclid'}, n_neighbors=1, score=0.43478260869565216, total=   3.3s\n",
      "[CV] metric=<function calculate_distance at 0x000002C8A5544EA0>, metric_params={'dist_type': 'euclid'}, n_neighbors=2 \n"
     ]
    },
    {
     "name": "stderr",
     "output_type": "stream",
     "text": [
      "[Parallel(n_jobs=1)]: Done   1 out of   1 | elapsed:   14.9s remaining:    0.0s\n"
     ]
    },
    {
     "name": "stdout",
     "output_type": "stream",
     "text": [
      "[CV]  metric=<function calculate_distance at 0x000002C8A5544EA0>, metric_params={'dist_type': 'euclid'}, n_neighbors=2, score=0.42028985507246375, total=   3.5s\n",
      "[CV] metric=<function calculate_distance at 0x000002C8A5544EA0>, metric_params={'dist_type': 'euclid'}, n_neighbors=3 \n"
     ]
    },
    {
     "name": "stderr",
     "output_type": "stream",
     "text": [
      "[Parallel(n_jobs=1)]: Done   2 out of   2 | elapsed:   32.1s remaining:    0.0s\n"
     ]
    },
    {
     "name": "stdout",
     "output_type": "stream",
     "text": [
      "[CV]  metric=<function calculate_distance at 0x000002C8A5544EA0>, metric_params={'dist_type': 'euclid'}, n_neighbors=3, score=0.37681159420289856, total=   3.9s\n",
      "[CV] metric=<function calculate_distance at 0x000002C8A5544EA0>, metric_params={'dist_type': 'euclid'}, n_neighbors=4 \n",
      "[CV]  metric=<function calculate_distance at 0x000002C8A5544EA0>, metric_params={'dist_type': 'euclid'}, n_neighbors=4, score=0.36231884057971014, total=   3.6s\n",
      "[CV] metric=<function calculate_distance at 0x000002C8A5544EA0>, metric_params={'dist_type': 'euclid'}, n_neighbors=5 \n",
      "[CV]  metric=<function calculate_distance at 0x000002C8A5544EA0>, metric_params={'dist_type': 'euclid'}, n_neighbors=5, score=0.3526570048309179, total=   3.8s\n",
      "[CV] metric=<function calculate_distance at 0x000002C8A5544EA0>, metric_params={'dist_type': 'euclid'}, n_neighbors=6 \n",
      "[CV]  metric=<function calculate_distance at 0x000002C8A5544EA0>, metric_params={'dist_type': 'euclid'}, n_neighbors=6, score=0.36231884057971014, total=   3.8s\n",
      "[CV] metric=<function calculate_distance at 0x000002C8A5544EA0>, metric_params={'dist_type': 'euclid'}, n_neighbors=7 \n",
      "[CV]  metric=<function calculate_distance at 0x000002C8A5544EA0>, metric_params={'dist_type': 'euclid'}, n_neighbors=7, score=0.3671497584541063, total=   3.7s\n",
      "[CV] metric=<function calculate_distance at 0x000002C8A5544EA0>, metric_params={'dist_type': 'euclid'}, n_neighbors=8 \n",
      "[CV]  metric=<function calculate_distance at 0x000002C8A5544EA0>, metric_params={'dist_type': 'euclid'}, n_neighbors=8, score=0.34299516908212563, total=   3.7s\n",
      "[CV] metric=<function calculate_distance at 0x000002C8A5544EA0>, metric_params={'dist_type': 'euclid'}, n_neighbors=9 \n",
      "[CV]  metric=<function calculate_distance at 0x000002C8A5544EA0>, metric_params={'dist_type': 'euclid'}, n_neighbors=9, score=0.36231884057971014, total=   3.7s\n",
      "[CV] metric=<function calculate_distance at 0x000002C8A5544EA0>, metric_params={'dist_type': 'euclid'}, n_neighbors=10 \n",
      "[CV]  metric=<function calculate_distance at 0x000002C8A5544EA0>, metric_params={'dist_type': 'euclid'}, n_neighbors=10, score=0.3285024154589372, total=   3.9s\n",
      "4\n"
     ]
    },
    {
     "name": "stderr",
     "output_type": "stream",
     "text": [
      "[Parallel(n_jobs=1)]: Done  10 out of  10 | elapsed:  3.0min finished\n"
     ]
    },
    {
     "name": "stdout",
     "output_type": "stream",
     "text": [
      "Fitting 1 folds for each of 10 candidates, totalling 10 fits\n",
      "[CV] metric=<function calculate_distance at 0x000002C8A5544EA0>, metric_params={'dist_type': 'euclid'}, n_neighbors=1 \n",
      "[CV]  metric=<function calculate_distance at 0x000002C8A5544EA0>, metric_params={'dist_type': 'euclid'}, n_neighbors=1, score=0.4975845410628019, total=   4.1s\n",
      "[CV] metric=<function calculate_distance at 0x000002C8A5544EA0>, metric_params={'dist_type': 'euclid'}, n_neighbors=2 \n"
     ]
    },
    {
     "name": "stderr",
     "output_type": "stream",
     "text": [
      "[Parallel(n_jobs=1)]: Done   1 out of   1 | elapsed:   16.9s remaining:    0.0s\n"
     ]
    },
    {
     "name": "stdout",
     "output_type": "stream",
     "text": [
      "[CV]  metric=<function calculate_distance at 0x000002C8A5544EA0>, metric_params={'dist_type': 'euclid'}, n_neighbors=2, score=0.41545893719806765, total=   4.0s\n",
      "[CV] metric=<function calculate_distance at 0x000002C8A5544EA0>, metric_params={'dist_type': 'euclid'}, n_neighbors=3 \n"
     ]
    },
    {
     "name": "stderr",
     "output_type": "stream",
     "text": [
      "[Parallel(n_jobs=1)]: Done   2 out of   2 | elapsed:   35.9s remaining:    0.0s\n"
     ]
    },
    {
     "name": "stdout",
     "output_type": "stream",
     "text": [
      "[CV]  metric=<function calculate_distance at 0x000002C8A5544EA0>, metric_params={'dist_type': 'euclid'}, n_neighbors=3, score=0.3961352657004831, total=   4.0s\n",
      "[CV] metric=<function calculate_distance at 0x000002C8A5544EA0>, metric_params={'dist_type': 'euclid'}, n_neighbors=4 \n",
      "[CV]  metric=<function calculate_distance at 0x000002C8A5544EA0>, metric_params={'dist_type': 'euclid'}, n_neighbors=4, score=0.391304347826087, total=   4.0s\n",
      "[CV] metric=<function calculate_distance at 0x000002C8A5544EA0>, metric_params={'dist_type': 'euclid'}, n_neighbors=5 \n",
      "[CV]  metric=<function calculate_distance at 0x000002C8A5544EA0>, metric_params={'dist_type': 'euclid'}, n_neighbors=5, score=0.391304347826087, total=   4.1s\n",
      "[CV] metric=<function calculate_distance at 0x000002C8A5544EA0>, metric_params={'dist_type': 'euclid'}, n_neighbors=6 \n",
      "[CV]  metric=<function calculate_distance at 0x000002C8A5544EA0>, metric_params={'dist_type': 'euclid'}, n_neighbors=6, score=0.3864734299516908, total=   4.2s\n",
      "[CV] metric=<function calculate_distance at 0x000002C8A5544EA0>, metric_params={'dist_type': 'euclid'}, n_neighbors=7 \n",
      "[CV]  metric=<function calculate_distance at 0x000002C8A5544EA0>, metric_params={'dist_type': 'euclid'}, n_neighbors=7, score=0.3671497584541063, total=   4.1s\n",
      "[CV] metric=<function calculate_distance at 0x000002C8A5544EA0>, metric_params={'dist_type': 'euclid'}, n_neighbors=8 \n",
      "[CV]  metric=<function calculate_distance at 0x000002C8A5544EA0>, metric_params={'dist_type': 'euclid'}, n_neighbors=8, score=0.3526570048309179, total=   4.1s\n",
      "[CV] metric=<function calculate_distance at 0x000002C8A5544EA0>, metric_params={'dist_type': 'euclid'}, n_neighbors=9 \n",
      "[CV]  metric=<function calculate_distance at 0x000002C8A5544EA0>, metric_params={'dist_type': 'euclid'}, n_neighbors=9, score=0.3526570048309179, total=   4.1s\n",
      "[CV] metric=<function calculate_distance at 0x000002C8A5544EA0>, metric_params={'dist_type': 'euclid'}, n_neighbors=10 \n",
      "[CV]  metric=<function calculate_distance at 0x000002C8A5544EA0>, metric_params={'dist_type': 'euclid'}, n_neighbors=10, score=0.3671497584541063, total=   4.1s\n",
      "5\n"
     ]
    },
    {
     "name": "stderr",
     "output_type": "stream",
     "text": [
      "[Parallel(n_jobs=1)]: Done  10 out of  10 | elapsed:  3.3min finished\n"
     ]
    },
    {
     "name": "stdout",
     "output_type": "stream",
     "text": [
      "Fitting 1 folds for each of 10 candidates, totalling 10 fits\n",
      "[CV] metric=<function calculate_distance at 0x000002C8A5544EA0>, metric_params={'dist_type': 'euclid'}, n_neighbors=1 \n",
      "[CV]  metric=<function calculate_distance at 0x000002C8A5544EA0>, metric_params={'dist_type': 'euclid'}, n_neighbors=1, score=0.463768115942029, total=   4.2s\n",
      "[CV] metric=<function calculate_distance at 0x000002C8A5544EA0>, metric_params={'dist_type': 'euclid'}, n_neighbors=2 \n"
     ]
    },
    {
     "name": "stderr",
     "output_type": "stream",
     "text": [
      "[Parallel(n_jobs=1)]: Done   1 out of   1 | elapsed:   19.3s remaining:    0.0s\n"
     ]
    },
    {
     "name": "stdout",
     "output_type": "stream",
     "text": [
      "[CV]  metric=<function calculate_distance at 0x000002C8A5544EA0>, metric_params={'dist_type': 'euclid'}, n_neighbors=2, score=0.41545893719806765, total=   4.4s\n",
      "[CV] metric=<function calculate_distance at 0x000002C8A5544EA0>, metric_params={'dist_type': 'euclid'}, n_neighbors=3 \n"
     ]
    },
    {
     "name": "stderr",
     "output_type": "stream",
     "text": [
      "[Parallel(n_jobs=1)]: Done   2 out of   2 | elapsed:   40.3s remaining:    0.0s\n"
     ]
    },
    {
     "name": "stdout",
     "output_type": "stream",
     "text": [
      "[CV]  metric=<function calculate_distance at 0x000002C8A5544EA0>, metric_params={'dist_type': 'euclid'}, n_neighbors=3, score=0.3719806763285024, total=   4.3s\n",
      "[CV] metric=<function calculate_distance at 0x000002C8A5544EA0>, metric_params={'dist_type': 'euclid'}, n_neighbors=4 \n",
      "[CV]  metric=<function calculate_distance at 0x000002C8A5544EA0>, metric_params={'dist_type': 'euclid'}, n_neighbors=4, score=0.3864734299516908, total=   4.3s\n",
      "[CV] metric=<function calculate_distance at 0x000002C8A5544EA0>, metric_params={'dist_type': 'euclid'}, n_neighbors=5 \n",
      "[CV]  metric=<function calculate_distance at 0x000002C8A5544EA0>, metric_params={'dist_type': 'euclid'}, n_neighbors=5, score=0.3526570048309179, total=   4.3s\n",
      "[CV] metric=<function calculate_distance at 0x000002C8A5544EA0>, metric_params={'dist_type': 'euclid'}, n_neighbors=6 \n",
      "[CV]  metric=<function calculate_distance at 0x000002C8A5544EA0>, metric_params={'dist_type': 'euclid'}, n_neighbors=6, score=0.34782608695652173, total=   4.3s\n",
      "[CV] metric=<function calculate_distance at 0x000002C8A5544EA0>, metric_params={'dist_type': 'euclid'}, n_neighbors=7 \n",
      "[CV]  metric=<function calculate_distance at 0x000002C8A5544EA0>, metric_params={'dist_type': 'euclid'}, n_neighbors=7, score=0.34782608695652173, total=   4.4s\n",
      "[CV] metric=<function calculate_distance at 0x000002C8A5544EA0>, metric_params={'dist_type': 'euclid'}, n_neighbors=8 \n",
      "[CV]  metric=<function calculate_distance at 0x000002C8A5544EA0>, metric_params={'dist_type': 'euclid'}, n_neighbors=8, score=0.2995169082125604, total=   4.4s\n",
      "[CV] metric=<function calculate_distance at 0x000002C8A5544EA0>, metric_params={'dist_type': 'euclid'}, n_neighbors=9 \n",
      "[CV]  metric=<function calculate_distance at 0x000002C8A5544EA0>, metric_params={'dist_type': 'euclid'}, n_neighbors=9, score=0.3188405797101449, total=   4.4s\n",
      "[CV] metric=<function calculate_distance at 0x000002C8A5544EA0>, metric_params={'dist_type': 'euclid'}, n_neighbors=10 \n",
      "[CV]  metric=<function calculate_distance at 0x000002C8A5544EA0>, metric_params={'dist_type': 'euclid'}, n_neighbors=10, score=0.2898550724637681, total=   4.4s\n",
      "6\n"
     ]
    },
    {
     "name": "stderr",
     "output_type": "stream",
     "text": [
      "[Parallel(n_jobs=1)]: Done  10 out of  10 | elapsed:  3.6min finished\n"
     ]
    },
    {
     "name": "stdout",
     "output_type": "stream",
     "text": [
      "Fitting 1 folds for each of 10 candidates, totalling 10 fits\n",
      "[CV] metric=<function calculate_distance at 0x000002C8A5544EA0>, metric_params={'dist_type': 'euclid'}, n_neighbors=1 \n",
      "[CV]  metric=<function calculate_distance at 0x000002C8A5544EA0>, metric_params={'dist_type': 'euclid'}, n_neighbors=1, score=0.45893719806763283, total=   4.6s\n",
      "[CV] metric=<function calculate_distance at 0x000002C8A5544EA0>, metric_params={'dist_type': 'euclid'}, n_neighbors=2 \n"
     ]
    },
    {
     "name": "stderr",
     "output_type": "stream",
     "text": [
      "[Parallel(n_jobs=1)]: Done   1 out of   1 | elapsed:   21.4s remaining:    0.0s\n"
     ]
    },
    {
     "name": "stdout",
     "output_type": "stream",
     "text": [
      "[CV]  metric=<function calculate_distance at 0x000002C8A5544EA0>, metric_params={'dist_type': 'euclid'}, n_neighbors=2, score=0.4106280193236715, total=   4.6s\n",
      "[CV] metric=<function calculate_distance at 0x000002C8A5544EA0>, metric_params={'dist_type': 'euclid'}, n_neighbors=3 \n"
     ]
    },
    {
     "name": "stderr",
     "output_type": "stream",
     "text": [
      "[Parallel(n_jobs=1)]: Done   2 out of   2 | elapsed:   44.3s remaining:    0.0s\n"
     ]
    },
    {
     "name": "stdout",
     "output_type": "stream",
     "text": [
      "[CV]  metric=<function calculate_distance at 0x000002C8A5544EA0>, metric_params={'dist_type': 'euclid'}, n_neighbors=3, score=0.357487922705314, total=   4.5s\n",
      "[CV] metric=<function calculate_distance at 0x000002C8A5544EA0>, metric_params={'dist_type': 'euclid'}, n_neighbors=4 \n",
      "[CV]  metric=<function calculate_distance at 0x000002C8A5544EA0>, metric_params={'dist_type': 'euclid'}, n_neighbors=4, score=0.3719806763285024, total=   4.6s\n",
      "[CV] metric=<function calculate_distance at 0x000002C8A5544EA0>, metric_params={'dist_type': 'euclid'}, n_neighbors=5 \n",
      "[CV]  metric=<function calculate_distance at 0x000002C8A5544EA0>, metric_params={'dist_type': 'euclid'}, n_neighbors=5, score=0.3526570048309179, total=   4.8s\n",
      "[CV] metric=<function calculate_distance at 0x000002C8A5544EA0>, metric_params={'dist_type': 'euclid'}, n_neighbors=6 \n",
      "[CV]  metric=<function calculate_distance at 0x000002C8A5544EA0>, metric_params={'dist_type': 'euclid'}, n_neighbors=6, score=0.34299516908212563, total=   4.6s\n",
      "[CV] metric=<function calculate_distance at 0x000002C8A5544EA0>, metric_params={'dist_type': 'euclid'}, n_neighbors=7 \n",
      "[CV]  metric=<function calculate_distance at 0x000002C8A5544EA0>, metric_params={'dist_type': 'euclid'}, n_neighbors=7, score=0.33816425120772947, total=   4.6s\n",
      "[CV] metric=<function calculate_distance at 0x000002C8A5544EA0>, metric_params={'dist_type': 'euclid'}, n_neighbors=8 \n",
      "[CV]  metric=<function calculate_distance at 0x000002C8A5544EA0>, metric_params={'dist_type': 'euclid'}, n_neighbors=8, score=0.3333333333333333, total=   4.7s\n",
      "[CV] metric=<function calculate_distance at 0x000002C8A5544EA0>, metric_params={'dist_type': 'euclid'}, n_neighbors=9 \n",
      "[CV]  metric=<function calculate_distance at 0x000002C8A5544EA0>, metric_params={'dist_type': 'euclid'}, n_neighbors=9, score=0.34782608695652173, total=   4.6s\n",
      "[CV] metric=<function calculate_distance at 0x000002C8A5544EA0>, metric_params={'dist_type': 'euclid'}, n_neighbors=10 \n",
      "[CV]  metric=<function calculate_distance at 0x000002C8A5544EA0>, metric_params={'dist_type': 'euclid'}, n_neighbors=10, score=0.3285024154589372, total=   4.6s\n",
      "7"
     ]
    },
    {
     "name": "stderr",
     "output_type": "stream",
     "text": [
      "[Parallel(n_jobs=1)]: Done  10 out of  10 | elapsed:  3.8min finished\n"
     ]
    },
    {
     "name": "stdout",
     "output_type": "stream",
     "text": [
      "\n",
      "Fitting 1 folds for each of 10 candidates, totalling 10 fits\n",
      "[CV] metric=<function calculate_distance at 0x000002C8A5544EA0>, metric_params={'dist_type': 'euclid'}, n_neighbors=1 \n",
      "[CV]  metric=<function calculate_distance at 0x000002C8A5544EA0>, metric_params={'dist_type': 'euclid'}, n_neighbors=1, score=0.45893719806763283, total=   4.6s\n",
      "[CV] metric=<function calculate_distance at 0x000002C8A5544EA0>, metric_params={'dist_type': 'euclid'}, n_neighbors=2 \n"
     ]
    },
    {
     "name": "stderr",
     "output_type": "stream",
     "text": [
      "[Parallel(n_jobs=1)]: Done   1 out of   1 | elapsed:   21.5s remaining:    0.0s\n"
     ]
    },
    {
     "name": "stdout",
     "output_type": "stream",
     "text": [
      "[CV]  metric=<function calculate_distance at 0x000002C8A5544EA0>, metric_params={'dist_type': 'euclid'}, n_neighbors=2, score=0.3961352657004831, total=   4.6s\n",
      "[CV] metric=<function calculate_distance at 0x000002C8A5544EA0>, metric_params={'dist_type': 'euclid'}, n_neighbors=3 \n"
     ]
    },
    {
     "name": "stderr",
     "output_type": "stream",
     "text": [
      "[Parallel(n_jobs=1)]: Done   2 out of   2 | elapsed:   44.4s remaining:    0.0s\n"
     ]
    },
    {
     "name": "stdout",
     "output_type": "stream",
     "text": [
      "[CV]  metric=<function calculate_distance at 0x000002C8A5544EA0>, metric_params={'dist_type': 'euclid'}, n_neighbors=3, score=0.391304347826087, total=   4.6s\n",
      "[CV] metric=<function calculate_distance at 0x000002C8A5544EA0>, metric_params={'dist_type': 'euclid'}, n_neighbors=4 \n",
      "[CV]  metric=<function calculate_distance at 0x000002C8A5544EA0>, metric_params={'dist_type': 'euclid'}, n_neighbors=4, score=0.3961352657004831, total=   4.6s\n",
      "[CV] metric=<function calculate_distance at 0x000002C8A5544EA0>, metric_params={'dist_type': 'euclid'}, n_neighbors=5 \n",
      "[CV]  metric=<function calculate_distance at 0x000002C8A5544EA0>, metric_params={'dist_type': 'euclid'}, n_neighbors=5, score=0.3961352657004831, total=   5.2s\n",
      "[CV] metric=<function calculate_distance at 0x000002C8A5544EA0>, metric_params={'dist_type': 'euclid'}, n_neighbors=6 \n",
      "[CV]  metric=<function calculate_distance at 0x000002C8A5544EA0>, metric_params={'dist_type': 'euclid'}, n_neighbors=6, score=0.3719806763285024, total=   4.7s\n",
      "[CV] metric=<function calculate_distance at 0x000002C8A5544EA0>, metric_params={'dist_type': 'euclid'}, n_neighbors=7 \n",
      "[CV]  metric=<function calculate_distance at 0x000002C8A5544EA0>, metric_params={'dist_type': 'euclid'}, n_neighbors=7, score=0.37681159420289856, total=   4.6s\n",
      "[CV] metric=<function calculate_distance at 0x000002C8A5544EA0>, metric_params={'dist_type': 'euclid'}, n_neighbors=8 \n",
      "[CV]  metric=<function calculate_distance at 0x000002C8A5544EA0>, metric_params={'dist_type': 'euclid'}, n_neighbors=8, score=0.3961352657004831, total=   4.6s\n",
      "[CV] metric=<function calculate_distance at 0x000002C8A5544EA0>, metric_params={'dist_type': 'euclid'}, n_neighbors=9 \n",
      "[CV]  metric=<function calculate_distance at 0x000002C8A5544EA0>, metric_params={'dist_type': 'euclid'}, n_neighbors=9, score=0.3961352657004831, total=   4.6s\n",
      "[CV] metric=<function calculate_distance at 0x000002C8A5544EA0>, metric_params={'dist_type': 'euclid'}, n_neighbors=10 \n",
      "[CV]  metric=<function calculate_distance at 0x000002C8A5544EA0>, metric_params={'dist_type': 'euclid'}, n_neighbors=10, score=0.38164251207729466, total=   4.6s\n",
      "8\n"
     ]
    },
    {
     "name": "stderr",
     "output_type": "stream",
     "text": [
      "[Parallel(n_jobs=1)]: Done  10 out of  10 | elapsed:  3.8min finished\n"
     ]
    },
    {
     "name": "stdout",
     "output_type": "stream",
     "text": [
      "Fitting 1 folds for each of 10 candidates, totalling 10 fits\n",
      "[CV] metric=<function calculate_distance at 0x000002C8A5544EA0>, metric_params={'dist_type': 'euclid'}, n_neighbors=1 \n",
      "[CV]  metric=<function calculate_distance at 0x000002C8A5544EA0>, metric_params={'dist_type': 'euclid'}, n_neighbors=1, score=0.4057971014492754, total=   4.6s\n",
      "[CV] metric=<function calculate_distance at 0x000002C8A5544EA0>, metric_params={'dist_type': 'euclid'}, n_neighbors=2 \n"
     ]
    },
    {
     "name": "stderr",
     "output_type": "stream",
     "text": [
      "[Parallel(n_jobs=1)]: Done   1 out of   1 | elapsed:   21.8s remaining:    0.0s\n"
     ]
    },
    {
     "name": "stdout",
     "output_type": "stream",
     "text": [
      "[CV]  metric=<function calculate_distance at 0x000002C8A5544EA0>, metric_params={'dist_type': 'euclid'}, n_neighbors=2, score=0.38164251207729466, total=   4.6s\n",
      "[CV] metric=<function calculate_distance at 0x000002C8A5544EA0>, metric_params={'dist_type': 'euclid'}, n_neighbors=3 \n"
     ]
    },
    {
     "name": "stderr",
     "output_type": "stream",
     "text": [
      "[Parallel(n_jobs=1)]: Done   2 out of   2 | elapsed:   44.5s remaining:    0.0s\n"
     ]
    },
    {
     "name": "stdout",
     "output_type": "stream",
     "text": [
      "[CV]  metric=<function calculate_distance at 0x000002C8A5544EA0>, metric_params={'dist_type': 'euclid'}, n_neighbors=3, score=0.38164251207729466, total=   4.6s\n",
      "[CV] metric=<function calculate_distance at 0x000002C8A5544EA0>, metric_params={'dist_type': 'euclid'}, n_neighbors=4 \n",
      "[CV]  metric=<function calculate_distance at 0x000002C8A5544EA0>, metric_params={'dist_type': 'euclid'}, n_neighbors=4, score=0.391304347826087, total=   4.6s\n",
      "[CV] metric=<function calculate_distance at 0x000002C8A5544EA0>, metric_params={'dist_type': 'euclid'}, n_neighbors=5 \n",
      "[CV]  metric=<function calculate_distance at 0x000002C8A5544EA0>, metric_params={'dist_type': 'euclid'}, n_neighbors=5, score=0.40096618357487923, total=   4.5s\n",
      "[CV] metric=<function calculate_distance at 0x000002C8A5544EA0>, metric_params={'dist_type': 'euclid'}, n_neighbors=6 \n",
      "[CV]  metric=<function calculate_distance at 0x000002C8A5544EA0>, metric_params={'dist_type': 'euclid'}, n_neighbors=6, score=0.33816425120772947, total=   4.5s\n",
      "[CV] metric=<function calculate_distance at 0x000002C8A5544EA0>, metric_params={'dist_type': 'euclid'}, n_neighbors=7 \n",
      "[CV]  metric=<function calculate_distance at 0x000002C8A5544EA0>, metric_params={'dist_type': 'euclid'}, n_neighbors=7, score=0.36231884057971014, total=   4.4s\n",
      "[CV] metric=<function calculate_distance at 0x000002C8A5544EA0>, metric_params={'dist_type': 'euclid'}, n_neighbors=8 \n",
      "[CV]  metric=<function calculate_distance at 0x000002C8A5544EA0>, metric_params={'dist_type': 'euclid'}, n_neighbors=8, score=0.34782608695652173, total=   4.4s\n",
      "[CV] metric=<function calculate_distance at 0x000002C8A5544EA0>, metric_params={'dist_type': 'euclid'}, n_neighbors=9 \n",
      "[CV]  metric=<function calculate_distance at 0x000002C8A5544EA0>, metric_params={'dist_type': 'euclid'}, n_neighbors=9, score=0.3526570048309179, total=   4.5s\n",
      "[CV] metric=<function calculate_distance at 0x000002C8A5544EA0>, metric_params={'dist_type': 'euclid'}, n_neighbors=10 \n",
      "[CV]  metric=<function calculate_distance at 0x000002C8A5544EA0>, metric_params={'dist_type': 'euclid'}, n_neighbors=10, score=0.30917874396135264, total=   4.3s\n",
      "9"
     ]
    },
    {
     "name": "stderr",
     "output_type": "stream",
     "text": [
      "[Parallel(n_jobs=1)]: Done  10 out of  10 | elapsed:  3.7min finished\n"
     ]
    },
    {
     "name": "stdout",
     "output_type": "stream",
     "text": [
      "\n",
      "Fitting 1 folds for each of 10 candidates, totalling 10 fits\n",
      "[CV] metric=<function calculate_distance at 0x000002C8A5544EA0>, metric_params={'dist_type': 'euclid'}, n_neighbors=1 \n",
      "[CV]  metric=<function calculate_distance at 0x000002C8A5544EA0>, metric_params={'dist_type': 'euclid'}, n_neighbors=1, score=0.4251207729468599, total=   5.0s\n",
      "[CV] metric=<function calculate_distance at 0x000002C8A5544EA0>, metric_params={'dist_type': 'euclid'}, n_neighbors=2 \n"
     ]
    },
    {
     "name": "stderr",
     "output_type": "stream",
     "text": [
      "[Parallel(n_jobs=1)]: Done   1 out of   1 | elapsed:   23.3s remaining:    0.0s\n"
     ]
    },
    {
     "name": "stdout",
     "output_type": "stream",
     "text": [
      "[CV]  metric=<function calculate_distance at 0x000002C8A5544EA0>, metric_params={'dist_type': 'euclid'}, n_neighbors=2, score=0.391304347826087, total=   4.9s\n",
      "[CV] metric=<function calculate_distance at 0x000002C8A5544EA0>, metric_params={'dist_type': 'euclid'}, n_neighbors=3 \n"
     ]
    },
    {
     "name": "stderr",
     "output_type": "stream",
     "text": [
      "[Parallel(n_jobs=1)]: Done   2 out of   2 | elapsed:   47.7s remaining:    0.0s\n"
     ]
    },
    {
     "name": "stdout",
     "output_type": "stream",
     "text": [
      "[CV]  metric=<function calculate_distance at 0x000002C8A5544EA0>, metric_params={'dist_type': 'euclid'}, n_neighbors=3, score=0.3671497584541063, total=   4.9s\n",
      "[CV] metric=<function calculate_distance at 0x000002C8A5544EA0>, metric_params={'dist_type': 'euclid'}, n_neighbors=4 \n",
      "[CV]  metric=<function calculate_distance at 0x000002C8A5544EA0>, metric_params={'dist_type': 'euclid'}, n_neighbors=4, score=0.3719806763285024, total=   4.9s\n",
      "[CV] metric=<function calculate_distance at 0x000002C8A5544EA0>, metric_params={'dist_type': 'euclid'}, n_neighbors=5 \n",
      "[CV]  metric=<function calculate_distance at 0x000002C8A5544EA0>, metric_params={'dist_type': 'euclid'}, n_neighbors=5, score=0.3671497584541063, total=   4.7s\n",
      "[CV] metric=<function calculate_distance at 0x000002C8A5544EA0>, metric_params={'dist_type': 'euclid'}, n_neighbors=6 \n",
      "[CV]  metric=<function calculate_distance at 0x000002C8A5544EA0>, metric_params={'dist_type': 'euclid'}, n_neighbors=6, score=0.33816425120772947, total=   4.8s\n",
      "[CV] metric=<function calculate_distance at 0x000002C8A5544EA0>, metric_params={'dist_type': 'euclid'}, n_neighbors=7 \n",
      "[CV]  metric=<function calculate_distance at 0x000002C8A5544EA0>, metric_params={'dist_type': 'euclid'}, n_neighbors=7, score=0.34299516908212563, total=   4.9s\n",
      "[CV] metric=<function calculate_distance at 0x000002C8A5544EA0>, metric_params={'dist_type': 'euclid'}, n_neighbors=8 \n",
      "[CV]  metric=<function calculate_distance at 0x000002C8A5544EA0>, metric_params={'dist_type': 'euclid'}, n_neighbors=8, score=0.34299516908212563, total=   4.7s\n",
      "[CV] metric=<function calculate_distance at 0x000002C8A5544EA0>, metric_params={'dist_type': 'euclid'}, n_neighbors=9 \n",
      "[CV]  metric=<function calculate_distance at 0x000002C8A5544EA0>, metric_params={'dist_type': 'euclid'}, n_neighbors=9, score=0.3333333333333333, total=   5.2s\n",
      "[CV] metric=<function calculate_distance at 0x000002C8A5544EA0>, metric_params={'dist_type': 'euclid'}, n_neighbors=10 \n",
      "[CV]  metric=<function calculate_distance at 0x000002C8A5544EA0>, metric_params={'dist_type': 'euclid'}, n_neighbors=10, score=0.3285024154589372, total=   5.8s\n",
      "10\n"
     ]
    },
    {
     "name": "stderr",
     "output_type": "stream",
     "text": [
      "[Parallel(n_jobs=1)]: Done  10 out of  10 | elapsed:  4.0min finished\n"
     ]
    },
    {
     "name": "stdout",
     "output_type": "stream",
     "text": [
      "Fitting 1 folds for each of 10 candidates, totalling 10 fits\n",
      "[CV] metric=<function calculate_distance at 0x000002C8A5544EA0>, metric_params={'dist_type': 'euclid'}, n_neighbors=1 \n",
      "[CV]  metric=<function calculate_distance at 0x000002C8A5544EA0>, metric_params={'dist_type': 'euclid'}, n_neighbors=1, score=0.38164251207729466, total=   4.7s\n",
      "[CV] metric=<function calculate_distance at 0x000002C8A5544EA0>, metric_params={'dist_type': 'euclid'}, n_neighbors=2 \n"
     ]
    },
    {
     "name": "stderr",
     "output_type": "stream",
     "text": [
      "[Parallel(n_jobs=1)]: Done   1 out of   1 | elapsed:   22.4s remaining:    0.0s\n"
     ]
    },
    {
     "name": "stdout",
     "output_type": "stream",
     "text": [
      "[CV]  metric=<function calculate_distance at 0x000002C8A5544EA0>, metric_params={'dist_type': 'euclid'}, n_neighbors=2, score=0.34299516908212563, total=   4.7s\n",
      "[CV] metric=<function calculate_distance at 0x000002C8A5544EA0>, metric_params={'dist_type': 'euclid'}, n_neighbors=3 \n"
     ]
    },
    {
     "name": "stderr",
     "output_type": "stream",
     "text": [
      "[Parallel(n_jobs=1)]: Done   2 out of   2 | elapsed:   45.8s remaining:    0.0s\n"
     ]
    },
    {
     "name": "stdout",
     "output_type": "stream",
     "text": [
      "[CV]  metric=<function calculate_distance at 0x000002C8A5544EA0>, metric_params={'dist_type': 'euclid'}, n_neighbors=3, score=0.3719806763285024, total=   4.7s\n",
      "[CV] metric=<function calculate_distance at 0x000002C8A5544EA0>, metric_params={'dist_type': 'euclid'}, n_neighbors=4 \n",
      "[CV]  metric=<function calculate_distance at 0x000002C8A5544EA0>, metric_params={'dist_type': 'euclid'}, n_neighbors=4, score=0.3671497584541063, total=   4.7s\n",
      "[CV] metric=<function calculate_distance at 0x000002C8A5544EA0>, metric_params={'dist_type': 'euclid'}, n_neighbors=5 \n",
      "[CV]  metric=<function calculate_distance at 0x000002C8A5544EA0>, metric_params={'dist_type': 'euclid'}, n_neighbors=5, score=0.38164251207729466, total=   5.0s\n",
      "[CV] metric=<function calculate_distance at 0x000002C8A5544EA0>, metric_params={'dist_type': 'euclid'}, n_neighbors=6 \n",
      "[CV]  metric=<function calculate_distance at 0x000002C8A5544EA0>, metric_params={'dist_type': 'euclid'}, n_neighbors=6, score=0.3526570048309179, total=   4.7s\n",
      "[CV] metric=<function calculate_distance at 0x000002C8A5544EA0>, metric_params={'dist_type': 'euclid'}, n_neighbors=7 \n",
      "[CV]  metric=<function calculate_distance at 0x000002C8A5544EA0>, metric_params={'dist_type': 'euclid'}, n_neighbors=7, score=0.32367149758454106, total=   4.8s\n",
      "[CV] metric=<function calculate_distance at 0x000002C8A5544EA0>, metric_params={'dist_type': 'euclid'}, n_neighbors=8 \n",
      "[CV]  metric=<function calculate_distance at 0x000002C8A5544EA0>, metric_params={'dist_type': 'euclid'}, n_neighbors=8, score=0.33816425120772947, total=   4.7s\n",
      "[CV] metric=<function calculate_distance at 0x000002C8A5544EA0>, metric_params={'dist_type': 'euclid'}, n_neighbors=9 \n",
      "[CV]  metric=<function calculate_distance at 0x000002C8A5544EA0>, metric_params={'dist_type': 'euclid'}, n_neighbors=9, score=0.34299516908212563, total=   4.8s\n",
      "[CV] metric=<function calculate_distance at 0x000002C8A5544EA0>, metric_params={'dist_type': 'euclid'}, n_neighbors=10 \n",
      "[CV]  metric=<function calculate_distance at 0x000002C8A5544EA0>, metric_params={'dist_type': 'euclid'}, n_neighbors=10, score=0.34299516908212563, total=   4.7s\n",
      "11\n"
     ]
    },
    {
     "name": "stderr",
     "output_type": "stream",
     "text": [
      "[Parallel(n_jobs=1)]: Done  10 out of  10 | elapsed:  4.0min finished\n"
     ]
    },
    {
     "name": "stdout",
     "output_type": "stream",
     "text": [
      "Fitting 1 folds for each of 10 candidates, totalling 10 fits\n",
      "[CV] metric=<function calculate_distance at 0x000002C8A5544EA0>, metric_params={'dist_type': 'euclid'}, n_neighbors=1 \n",
      "[CV]  metric=<function calculate_distance at 0x000002C8A5544EA0>, metric_params={'dist_type': 'euclid'}, n_neighbors=1, score=0.3961352657004831, total=   4.8s\n",
      "[CV] metric=<function calculate_distance at 0x000002C8A5544EA0>, metric_params={'dist_type': 'euclid'}, n_neighbors=2 \n"
     ]
    },
    {
     "name": "stderr",
     "output_type": "stream",
     "text": [
      "[Parallel(n_jobs=1)]: Done   1 out of   1 | elapsed:   22.8s remaining:    0.0s\n"
     ]
    },
    {
     "name": "stdout",
     "output_type": "stream",
     "text": [
      "[CV]  metric=<function calculate_distance at 0x000002C8A5544EA0>, metric_params={'dist_type': 'euclid'}, n_neighbors=2, score=0.37681159420289856, total=   4.7s\n",
      "[CV] metric=<function calculate_distance at 0x000002C8A5544EA0>, metric_params={'dist_type': 'euclid'}, n_neighbors=3 \n"
     ]
    },
    {
     "name": "stderr",
     "output_type": "stream",
     "text": [
      "[Parallel(n_jobs=1)]: Done   2 out of   2 | elapsed:   46.5s remaining:    0.0s\n"
     ]
    },
    {
     "name": "stdout",
     "output_type": "stream",
     "text": [
      "[CV]  metric=<function calculate_distance at 0x000002C8A5544EA0>, metric_params={'dist_type': 'euclid'}, n_neighbors=3, score=0.36231884057971014, total=   4.8s\n",
      "[CV] metric=<function calculate_distance at 0x000002C8A5544EA0>, metric_params={'dist_type': 'euclid'}, n_neighbors=4 \n",
      "[CV]  metric=<function calculate_distance at 0x000002C8A5544EA0>, metric_params={'dist_type': 'euclid'}, n_neighbors=4, score=0.3719806763285024, total=   4.7s\n",
      "[CV] metric=<function calculate_distance at 0x000002C8A5544EA0>, metric_params={'dist_type': 'euclid'}, n_neighbors=5 \n",
      "[CV]  metric=<function calculate_distance at 0x000002C8A5544EA0>, metric_params={'dist_type': 'euclid'}, n_neighbors=5, score=0.34782608695652173, total=   4.9s\n",
      "[CV] metric=<function calculate_distance at 0x000002C8A5544EA0>, metric_params={'dist_type': 'euclid'}, n_neighbors=6 \n",
      "[CV]  metric=<function calculate_distance at 0x000002C8A5544EA0>, metric_params={'dist_type': 'euclid'}, n_neighbors=6, score=0.34782608695652173, total=   4.7s\n",
      "[CV] metric=<function calculate_distance at 0x000002C8A5544EA0>, metric_params={'dist_type': 'euclid'}, n_neighbors=7 \n",
      "[CV]  metric=<function calculate_distance at 0x000002C8A5544EA0>, metric_params={'dist_type': 'euclid'}, n_neighbors=7, score=0.33816425120772947, total=   4.8s\n",
      "[CV] metric=<function calculate_distance at 0x000002C8A5544EA0>, metric_params={'dist_type': 'euclid'}, n_neighbors=8 \n",
      "[CV]  metric=<function calculate_distance at 0x000002C8A5544EA0>, metric_params={'dist_type': 'euclid'}, n_neighbors=8, score=0.3333333333333333, total=   4.8s\n",
      "[CV] metric=<function calculate_distance at 0x000002C8A5544EA0>, metric_params={'dist_type': 'euclid'}, n_neighbors=9 \n",
      "[CV]  metric=<function calculate_distance at 0x000002C8A5544EA0>, metric_params={'dist_type': 'euclid'}, n_neighbors=9, score=0.34299516908212563, total=   4.8s\n",
      "[CV] metric=<function calculate_distance at 0x000002C8A5544EA0>, metric_params={'dist_type': 'euclid'}, n_neighbors=10 \n",
      "[CV]  metric=<function calculate_distance at 0x000002C8A5544EA0>, metric_params={'dist_type': 'euclid'}, n_neighbors=10, score=0.32367149758454106, total=   4.7s\n",
      "12\n"
     ]
    },
    {
     "name": "stderr",
     "output_type": "stream",
     "text": [
      "[Parallel(n_jobs=1)]: Done  10 out of  10 | elapsed:  4.0min finished\n"
     ]
    },
    {
     "name": "stdout",
     "output_type": "stream",
     "text": [
      "Fitting 1 folds for each of 10 candidates, totalling 10 fits\n",
      "[CV] metric=<function calculate_distance at 0x000002C8A5544EA0>, metric_params={'dist_type': 'euclid'}, n_neighbors=1 \n",
      "[CV]  metric=<function calculate_distance at 0x000002C8A5544EA0>, metric_params={'dist_type': 'euclid'}, n_neighbors=1, score=0.45893719806763283, total=   4.8s\n",
      "[CV] metric=<function calculate_distance at 0x000002C8A5544EA0>, metric_params={'dist_type': 'euclid'}, n_neighbors=2 \n"
     ]
    },
    {
     "name": "stderr",
     "output_type": "stream",
     "text": [
      "[Parallel(n_jobs=1)]: Done   1 out of   1 | elapsed:   23.6s remaining:    0.0s\n"
     ]
    },
    {
     "name": "stdout",
     "output_type": "stream",
     "text": [
      "[CV]  metric=<function calculate_distance at 0x000002C8A5544EA0>, metric_params={'dist_type': 'euclid'}, n_neighbors=2, score=0.42995169082125606, total=   4.9s\n",
      "[CV] metric=<function calculate_distance at 0x000002C8A5544EA0>, metric_params={'dist_type': 'euclid'}, n_neighbors=3 \n"
     ]
    },
    {
     "name": "stderr",
     "output_type": "stream",
     "text": [
      "[Parallel(n_jobs=1)]: Done   2 out of   2 | elapsed:   47.5s remaining:    0.0s\n"
     ]
    },
    {
     "name": "stdout",
     "output_type": "stream",
     "text": [
      "[CV]  metric=<function calculate_distance at 0x000002C8A5544EA0>, metric_params={'dist_type': 'euclid'}, n_neighbors=3, score=0.40096618357487923, total=   4.9s\n",
      "[CV] metric=<function calculate_distance at 0x000002C8A5544EA0>, metric_params={'dist_type': 'euclid'}, n_neighbors=4 \n",
      "[CV]  metric=<function calculate_distance at 0x000002C8A5544EA0>, metric_params={'dist_type': 'euclid'}, n_neighbors=4, score=0.4057971014492754, total=   4.7s\n",
      "[CV] metric=<function calculate_distance at 0x000002C8A5544EA0>, metric_params={'dist_type': 'euclid'}, n_neighbors=5 \n",
      "[CV]  metric=<function calculate_distance at 0x000002C8A5544EA0>, metric_params={'dist_type': 'euclid'}, n_neighbors=5, score=0.3961352657004831, total=   4.7s\n",
      "[CV] metric=<function calculate_distance at 0x000002C8A5544EA0>, metric_params={'dist_type': 'euclid'}, n_neighbors=6 \n",
      "[CV]  metric=<function calculate_distance at 0x000002C8A5544EA0>, metric_params={'dist_type': 'euclid'}, n_neighbors=6, score=0.3864734299516908, total=   4.8s\n",
      "[CV] metric=<function calculate_distance at 0x000002C8A5544EA0>, metric_params={'dist_type': 'euclid'}, n_neighbors=7 \n",
      "[CV]  metric=<function calculate_distance at 0x000002C8A5544EA0>, metric_params={'dist_type': 'euclid'}, n_neighbors=7, score=0.357487922705314, total=   4.8s\n",
      "[CV] metric=<function calculate_distance at 0x000002C8A5544EA0>, metric_params={'dist_type': 'euclid'}, n_neighbors=8 \n",
      "[CV]  metric=<function calculate_distance at 0x000002C8A5544EA0>, metric_params={'dist_type': 'euclid'}, n_neighbors=8, score=0.3719806763285024, total=   4.7s\n",
      "[CV] metric=<function calculate_distance at 0x000002C8A5544EA0>, metric_params={'dist_type': 'euclid'}, n_neighbors=9 \n",
      "[CV]  metric=<function calculate_distance at 0x000002C8A5544EA0>, metric_params={'dist_type': 'euclid'}, n_neighbors=9, score=0.391304347826087, total=   4.8s\n",
      "[CV] metric=<function calculate_distance at 0x000002C8A5544EA0>, metric_params={'dist_type': 'euclid'}, n_neighbors=10 \n",
      "[CV]  metric=<function calculate_distance at 0x000002C8A5544EA0>, metric_params={'dist_type': 'euclid'}, n_neighbors=10, score=0.3864734299516908, total=   4.9s\n"
     ]
    },
    {
     "name": "stderr",
     "output_type": "stream",
     "text": [
      "[Parallel(n_jobs=1)]: Done  10 out of  10 | elapsed:  3.9min finished\n"
     ]
    }
   ],
   "source": [
    "for nr in frame_numbers:\n",
    "    print(nr)\n",
    "    try:\n",
    "        gyro_train_input, gyro_train_label = prepare_data(train, nr, 'gyro', verbose=False)\n",
    "        gyro_valid_input, gyro_valid_label = prepare_data(valid, nr, 'gyro', verbose=False)\n",
    "\n",
    "        kNN = GridSearchCV(KNeighborsClassifier(), parameters, cv=cross_valid, scoring='accuracy', n_jobs=parallel_jobs,\n",
    "                           verbose=verbose_level).fit(np.append(gyro_train_input, gyro_valid_input, axis=0),\n",
    "                                                      np.append(gyro_train_label, gyro_valid_label))\n",
    "        result = (kNN.best_score_, nr, kNN.best_params_)\n",
    "        \n",
    "        if result[0] > euclid_gyro[0]:\n",
    "            euclid_gyro = result\n",
    "        \n",
    "    except ValueError as err:\n",
    "        pass"
   ]
  },
  {
   "cell_type": "markdown",
   "metadata": {},
   "source": [
    "### Magnetometer"
   ]
  },
  {
   "cell_type": "code",
   "execution_count": 30,
   "metadata": {
    "scrolled": true
   },
   "outputs": [
    {
     "name": "stdout",
     "output_type": "stream",
     "text": [
      "1\n",
      "Fitting 1 folds for each of 10 candidates, totalling 10 fits\n",
      "[CV] metric=<function calculate_distance at 0x000002C8A5544EA0>, metric_params={'dist_type': 'euclid'}, n_neighbors=1 \n",
      "[CV]  metric=<function calculate_distance at 0x000002C8A5544EA0>, metric_params={'dist_type': 'euclid'}, n_neighbors=1, score=0.4855769230769231, total=   2.6s\n",
      "[CV] metric=<function calculate_distance at 0x000002C8A5544EA0>, metric_params={'dist_type': 'euclid'}, n_neighbors=2 \n"
     ]
    },
    {
     "name": "stderr",
     "output_type": "stream",
     "text": [
      "[Parallel(n_jobs=1)]: Done   1 out of   1 | elapsed:   12.5s remaining:    0.0s\n"
     ]
    },
    {
     "name": "stdout",
     "output_type": "stream",
     "text": [
      "[CV]  metric=<function calculate_distance at 0x000002C8A5544EA0>, metric_params={'dist_type': 'euclid'}, n_neighbors=2, score=0.4375, total=   2.8s\n",
      "[CV] metric=<function calculate_distance at 0x000002C8A5544EA0>, metric_params={'dist_type': 'euclid'}, n_neighbors=3 \n"
     ]
    },
    {
     "name": "stderr",
     "output_type": "stream",
     "text": [
      "[Parallel(n_jobs=1)]: Done   2 out of   2 | elapsed:   25.8s remaining:    0.0s\n"
     ]
    },
    {
     "name": "stdout",
     "output_type": "stream",
     "text": [
      "[CV]  metric=<function calculate_distance at 0x000002C8A5544EA0>, metric_params={'dist_type': 'euclid'}, n_neighbors=3, score=0.3798076923076923, total=   2.8s\n",
      "[CV] metric=<function calculate_distance at 0x000002C8A5544EA0>, metric_params={'dist_type': 'euclid'}, n_neighbors=4 \n",
      "[CV]  metric=<function calculate_distance at 0x000002C8A5544EA0>, metric_params={'dist_type': 'euclid'}, n_neighbors=4, score=0.3317307692307692, total=   2.8s\n",
      "[CV] metric=<function calculate_distance at 0x000002C8A5544EA0>, metric_params={'dist_type': 'euclid'}, n_neighbors=5 \n",
      "[CV]  metric=<function calculate_distance at 0x000002C8A5544EA0>, metric_params={'dist_type': 'euclid'}, n_neighbors=5, score=0.2932692307692308, total=   2.8s\n",
      "[CV] metric=<function calculate_distance at 0x000002C8A5544EA0>, metric_params={'dist_type': 'euclid'}, n_neighbors=6 \n",
      "[CV]  metric=<function calculate_distance at 0x000002C8A5544EA0>, metric_params={'dist_type': 'euclid'}, n_neighbors=6, score=0.25961538461538464, total=   2.9s\n",
      "[CV] metric=<function calculate_distance at 0x000002C8A5544EA0>, metric_params={'dist_type': 'euclid'}, n_neighbors=7 \n",
      "[CV]  metric=<function calculate_distance at 0x000002C8A5544EA0>, metric_params={'dist_type': 'euclid'}, n_neighbors=7, score=0.23076923076923078, total=   2.9s\n",
      "[CV] metric=<function calculate_distance at 0x000002C8A5544EA0>, metric_params={'dist_type': 'euclid'}, n_neighbors=8 \n",
      "[CV]  metric=<function calculate_distance at 0x000002C8A5544EA0>, metric_params={'dist_type': 'euclid'}, n_neighbors=8, score=0.22115384615384615, total=   3.0s\n",
      "[CV] metric=<function calculate_distance at 0x000002C8A5544EA0>, metric_params={'dist_type': 'euclid'}, n_neighbors=9 \n",
      "[CV]  metric=<function calculate_distance at 0x000002C8A5544EA0>, metric_params={'dist_type': 'euclid'}, n_neighbors=9, score=0.21153846153846154, total=   3.0s\n",
      "[CV] metric=<function calculate_distance at 0x000002C8A5544EA0>, metric_params={'dist_type': 'euclid'}, n_neighbors=10 \n",
      "[CV]  metric=<function calculate_distance at 0x000002C8A5544EA0>, metric_params={'dist_type': 'euclid'}, n_neighbors=10, score=0.19230769230769232, total=   3.0s\n",
      "2\n"
     ]
    },
    {
     "name": "stderr",
     "output_type": "stream",
     "text": [
      "[Parallel(n_jobs=1)]: Done  10 out of  10 | elapsed:  2.3min finished\n"
     ]
    },
    {
     "name": "stdout",
     "output_type": "stream",
     "text": [
      "Fitting 1 folds for each of 10 candidates, totalling 10 fits\n",
      "[CV] metric=<function calculate_distance at 0x000002C8A5544EA0>, metric_params={'dist_type': 'euclid'}, n_neighbors=1 \n",
      "[CV]  metric=<function calculate_distance at 0x000002C8A5544EA0>, metric_params={'dist_type': 'euclid'}, n_neighbors=1, score=0.4927536231884058, total=   2.6s\n",
      "[CV] metric=<function calculate_distance at 0x000002C8A5544EA0>, metric_params={'dist_type': 'euclid'}, n_neighbors=2 \n"
     ]
    },
    {
     "name": "stderr",
     "output_type": "stream",
     "text": [
      "[Parallel(n_jobs=1)]: Done   1 out of   1 | elapsed:   12.3s remaining:    0.0s\n"
     ]
    },
    {
     "name": "stdout",
     "output_type": "stream",
     "text": [
      "[CV]  metric=<function calculate_distance at 0x000002C8A5544EA0>, metric_params={'dist_type': 'euclid'}, n_neighbors=2, score=0.4106280193236715, total=   2.7s\n",
      "[CV] metric=<function calculate_distance at 0x000002C8A5544EA0>, metric_params={'dist_type': 'euclid'}, n_neighbors=3 \n"
     ]
    },
    {
     "name": "stderr",
     "output_type": "stream",
     "text": [
      "[Parallel(n_jobs=1)]: Done   2 out of   2 | elapsed:   25.5s remaining:    0.0s\n"
     ]
    },
    {
     "name": "stdout",
     "output_type": "stream",
     "text": [
      "[CV]  metric=<function calculate_distance at 0x000002C8A5544EA0>, metric_params={'dist_type': 'euclid'}, n_neighbors=3, score=0.391304347826087, total=   2.7s\n",
      "[CV] metric=<function calculate_distance at 0x000002C8A5544EA0>, metric_params={'dist_type': 'euclid'}, n_neighbors=4 \n",
      "[CV]  metric=<function calculate_distance at 0x000002C8A5544EA0>, metric_params={'dist_type': 'euclid'}, n_neighbors=4, score=0.3671497584541063, total=   2.8s\n",
      "[CV] metric=<function calculate_distance at 0x000002C8A5544EA0>, metric_params={'dist_type': 'euclid'}, n_neighbors=5 \n",
      "[CV]  metric=<function calculate_distance at 0x000002C8A5544EA0>, metric_params={'dist_type': 'euclid'}, n_neighbors=5, score=0.3333333333333333, total=   2.9s\n",
      "[CV] metric=<function calculate_distance at 0x000002C8A5544EA0>, metric_params={'dist_type': 'euclid'}, n_neighbors=6 \n",
      "[CV]  metric=<function calculate_distance at 0x000002C8A5544EA0>, metric_params={'dist_type': 'euclid'}, n_neighbors=6, score=0.3140096618357488, total=   2.8s\n",
      "[CV] metric=<function calculate_distance at 0x000002C8A5544EA0>, metric_params={'dist_type': 'euclid'}, n_neighbors=7 \n",
      "[CV]  metric=<function calculate_distance at 0x000002C8A5544EA0>, metric_params={'dist_type': 'euclid'}, n_neighbors=7, score=0.28019323671497587, total=   2.9s\n",
      "[CV] metric=<function calculate_distance at 0x000002C8A5544EA0>, metric_params={'dist_type': 'euclid'}, n_neighbors=8 \n",
      "[CV]  metric=<function calculate_distance at 0x000002C8A5544EA0>, metric_params={'dist_type': 'euclid'}, n_neighbors=8, score=0.27053140096618356, total=   2.8s\n",
      "[CV] metric=<function calculate_distance at 0x000002C8A5544EA0>, metric_params={'dist_type': 'euclid'}, n_neighbors=9 \n",
      "[CV]  metric=<function calculate_distance at 0x000002C8A5544EA0>, metric_params={'dist_type': 'euclid'}, n_neighbors=9, score=0.26570048309178745, total=   2.9s\n",
      "[CV] metric=<function calculate_distance at 0x000002C8A5544EA0>, metric_params={'dist_type': 'euclid'}, n_neighbors=10 \n",
      "[CV]  metric=<function calculate_distance at 0x000002C8A5544EA0>, metric_params={'dist_type': 'euclid'}, n_neighbors=10, score=0.23671497584541062, total=   2.8s\n",
      "3\n"
     ]
    },
    {
     "name": "stderr",
     "output_type": "stream",
     "text": [
      "[Parallel(n_jobs=1)]: Done  10 out of  10 | elapsed:  2.3min finished\n"
     ]
    },
    {
     "name": "stdout",
     "output_type": "stream",
     "text": [
      "Fitting 1 folds for each of 10 candidates, totalling 10 fits\n",
      "[CV] metric=<function calculate_distance at 0x000002C8A5544EA0>, metric_params={'dist_type': 'euclid'}, n_neighbors=1 \n",
      "[CV]  metric=<function calculate_distance at 0x000002C8A5544EA0>, metric_params={'dist_type': 'euclid'}, n_neighbors=1, score=0.5072463768115942, total=   3.0s\n",
      "[CV] metric=<function calculate_distance at 0x000002C8A5544EA0>, metric_params={'dist_type': 'euclid'}, n_neighbors=2 \n"
     ]
    },
    {
     "name": "stderr",
     "output_type": "stream",
     "text": [
      "[Parallel(n_jobs=1)]: Done   1 out of   1 | elapsed:   13.2s remaining:    0.0s\n"
     ]
    },
    {
     "name": "stdout",
     "output_type": "stream",
     "text": [
      "[CV]  metric=<function calculate_distance at 0x000002C8A5544EA0>, metric_params={'dist_type': 'euclid'}, n_neighbors=2, score=0.42028985507246375, total=   3.1s\n",
      "[CV] metric=<function calculate_distance at 0x000002C8A5544EA0>, metric_params={'dist_type': 'euclid'}, n_neighbors=3 \n"
     ]
    },
    {
     "name": "stderr",
     "output_type": "stream",
     "text": [
      "[Parallel(n_jobs=1)]: Done   2 out of   2 | elapsed:   28.3s remaining:    0.0s\n"
     ]
    },
    {
     "name": "stdout",
     "output_type": "stream",
     "text": [
      "[CV]  metric=<function calculate_distance at 0x000002C8A5544EA0>, metric_params={'dist_type': 'euclid'}, n_neighbors=3, score=0.3526570048309179, total=   3.2s\n",
      "[CV] metric=<function calculate_distance at 0x000002C8A5544EA0>, metric_params={'dist_type': 'euclid'}, n_neighbors=4 \n",
      "[CV]  metric=<function calculate_distance at 0x000002C8A5544EA0>, metric_params={'dist_type': 'euclid'}, n_neighbors=4, score=0.3526570048309179, total=   3.2s\n",
      "[CV] metric=<function calculate_distance at 0x000002C8A5544EA0>, metric_params={'dist_type': 'euclid'}, n_neighbors=5 \n",
      "[CV]  metric=<function calculate_distance at 0x000002C8A5544EA0>, metric_params={'dist_type': 'euclid'}, n_neighbors=5, score=0.34299516908212563, total=   3.2s\n",
      "[CV] metric=<function calculate_distance at 0x000002C8A5544EA0>, metric_params={'dist_type': 'euclid'}, n_neighbors=6 \n",
      "[CV]  metric=<function calculate_distance at 0x000002C8A5544EA0>, metric_params={'dist_type': 'euclid'}, n_neighbors=6, score=0.28502415458937197, total=   3.3s\n",
      "[CV] metric=<function calculate_distance at 0x000002C8A5544EA0>, metric_params={'dist_type': 'euclid'}, n_neighbors=7 \n",
      "[CV]  metric=<function calculate_distance at 0x000002C8A5544EA0>, metric_params={'dist_type': 'euclid'}, n_neighbors=7, score=0.25120772946859904, total=   3.3s\n",
      "[CV] metric=<function calculate_distance at 0x000002C8A5544EA0>, metric_params={'dist_type': 'euclid'}, n_neighbors=8 \n",
      "[CV]  metric=<function calculate_distance at 0x000002C8A5544EA0>, metric_params={'dist_type': 'euclid'}, n_neighbors=8, score=0.2318840579710145, total=   3.3s\n",
      "[CV] metric=<function calculate_distance at 0x000002C8A5544EA0>, metric_params={'dist_type': 'euclid'}, n_neighbors=9 \n",
      "[CV]  metric=<function calculate_distance at 0x000002C8A5544EA0>, metric_params={'dist_type': 'euclid'}, n_neighbors=9, score=0.2318840579710145, total=   3.4s\n",
      "[CV] metric=<function calculate_distance at 0x000002C8A5544EA0>, metric_params={'dist_type': 'euclid'}, n_neighbors=10 \n",
      "[CV]  metric=<function calculate_distance at 0x000002C8A5544EA0>, metric_params={'dist_type': 'euclid'}, n_neighbors=10, score=0.21256038647342995, total=   3.4s\n",
      "4\n"
     ]
    },
    {
     "name": "stderr",
     "output_type": "stream",
     "text": [
      "[Parallel(n_jobs=1)]: Done  10 out of  10 | elapsed:  2.7min finished\n"
     ]
    },
    {
     "name": "stdout",
     "output_type": "stream",
     "text": [
      "Fitting 1 folds for each of 10 candidates, totalling 10 fits\n",
      "[CV] metric=<function calculate_distance at 0x000002C8A5544EA0>, metric_params={'dist_type': 'euclid'}, n_neighbors=1 \n",
      "[CV]  metric=<function calculate_distance at 0x000002C8A5544EA0>, metric_params={'dist_type': 'euclid'}, n_neighbors=1, score=0.3526570048309179, total=   3.0s\n",
      "[CV] metric=<function calculate_distance at 0x000002C8A5544EA0>, metric_params={'dist_type': 'euclid'}, n_neighbors=2 \n"
     ]
    },
    {
     "name": "stderr",
     "output_type": "stream",
     "text": [
      "[Parallel(n_jobs=1)]: Done   1 out of   1 | elapsed:   13.1s remaining:    0.0s\n"
     ]
    },
    {
     "name": "stdout",
     "output_type": "stream",
     "text": [
      "[CV]  metric=<function calculate_distance at 0x000002C8A5544EA0>, metric_params={'dist_type': 'euclid'}, n_neighbors=2, score=0.3140096618357488, total=   3.3s\n",
      "[CV] metric=<function calculate_distance at 0x000002C8A5544EA0>, metric_params={'dist_type': 'euclid'}, n_neighbors=3 \n"
     ]
    },
    {
     "name": "stderr",
     "output_type": "stream",
     "text": [
      "[Parallel(n_jobs=1)]: Done   2 out of   2 | elapsed:   28.9s remaining:    0.0s\n"
     ]
    },
    {
     "name": "stdout",
     "output_type": "stream",
     "text": [
      "[CV]  metric=<function calculate_distance at 0x000002C8A5544EA0>, metric_params={'dist_type': 'euclid'}, n_neighbors=3, score=0.30434782608695654, total=   3.3s\n",
      "[CV] metric=<function calculate_distance at 0x000002C8A5544EA0>, metric_params={'dist_type': 'euclid'}, n_neighbors=4 \n",
      "[CV]  metric=<function calculate_distance at 0x000002C8A5544EA0>, metric_params={'dist_type': 'euclid'}, n_neighbors=4, score=0.30917874396135264, total=   3.4s\n",
      "[CV] metric=<function calculate_distance at 0x000002C8A5544EA0>, metric_params={'dist_type': 'euclid'}, n_neighbors=5 \n",
      "[CV]  metric=<function calculate_distance at 0x000002C8A5544EA0>, metric_params={'dist_type': 'euclid'}, n_neighbors=5, score=0.27053140096618356, total=   3.4s\n",
      "[CV] metric=<function calculate_distance at 0x000002C8A5544EA0>, metric_params={'dist_type': 'euclid'}, n_neighbors=6 \n",
      "[CV]  metric=<function calculate_distance at 0x000002C8A5544EA0>, metric_params={'dist_type': 'euclid'}, n_neighbors=6, score=0.2608695652173913, total=   3.5s\n",
      "[CV] metric=<function calculate_distance at 0x000002C8A5544EA0>, metric_params={'dist_type': 'euclid'}, n_neighbors=7 \n",
      "[CV]  metric=<function calculate_distance at 0x000002C8A5544EA0>, metric_params={'dist_type': 'euclid'}, n_neighbors=7, score=0.21739130434782608, total=   3.5s\n",
      "[CV] metric=<function calculate_distance at 0x000002C8A5544EA0>, metric_params={'dist_type': 'euclid'}, n_neighbors=8 \n",
      "[CV]  metric=<function calculate_distance at 0x000002C8A5544EA0>, metric_params={'dist_type': 'euclid'}, n_neighbors=8, score=0.22705314009661837, total=   3.6s\n",
      "[CV] metric=<function calculate_distance at 0x000002C8A5544EA0>, metric_params={'dist_type': 'euclid'}, n_neighbors=9 \n",
      "[CV]  metric=<function calculate_distance at 0x000002C8A5544EA0>, metric_params={'dist_type': 'euclid'}, n_neighbors=9, score=0.23671497584541062, total=   3.6s\n",
      "[CV] metric=<function calculate_distance at 0x000002C8A5544EA0>, metric_params={'dist_type': 'euclid'}, n_neighbors=10 \n",
      "[CV]  metric=<function calculate_distance at 0x000002C8A5544EA0>, metric_params={'dist_type': 'euclid'}, n_neighbors=10, score=0.2222222222222222, total=   4.3s\n",
      "5\n"
     ]
    },
    {
     "name": "stderr",
     "output_type": "stream",
     "text": [
      "[Parallel(n_jobs=1)]: Done  10 out of  10 | elapsed:  2.9min finished\n"
     ]
    },
    {
     "name": "stdout",
     "output_type": "stream",
     "text": [
      "Fitting 1 folds for each of 10 candidates, totalling 10 fits\n",
      "[CV] metric=<function calculate_distance at 0x000002C8A5544EA0>, metric_params={'dist_type': 'euclid'}, n_neighbors=1 \n",
      "[CV]  metric=<function calculate_distance at 0x000002C8A5544EA0>, metric_params={'dist_type': 'euclid'}, n_neighbors=1, score=0.28019323671497587, total=   3.7s\n",
      "[CV] metric=<function calculate_distance at 0x000002C8A5544EA0>, metric_params={'dist_type': 'euclid'}, n_neighbors=2 \n"
     ]
    },
    {
     "name": "stderr",
     "output_type": "stream",
     "text": [
      "[Parallel(n_jobs=1)]: Done   1 out of   1 | elapsed:   16.8s remaining:    0.0s\n"
     ]
    },
    {
     "name": "stdout",
     "output_type": "stream",
     "text": [
      "[CV]  metric=<function calculate_distance at 0x000002C8A5544EA0>, metric_params={'dist_type': 'euclid'}, n_neighbors=2, score=0.27053140096618356, total=   3.8s\n",
      "[CV] metric=<function calculate_distance at 0x000002C8A5544EA0>, metric_params={'dist_type': 'euclid'}, n_neighbors=3 \n"
     ]
    },
    {
     "name": "stderr",
     "output_type": "stream",
     "text": [
      "[Parallel(n_jobs=1)]: Done   2 out of   2 | elapsed:   36.0s remaining:    0.0s\n"
     ]
    },
    {
     "name": "stdout",
     "output_type": "stream",
     "text": [
      "[CV]  metric=<function calculate_distance at 0x000002C8A5544EA0>, metric_params={'dist_type': 'euclid'}, n_neighbors=3, score=0.23671497584541062, total=   3.9s\n",
      "[CV] metric=<function calculate_distance at 0x000002C8A5544EA0>, metric_params={'dist_type': 'euclid'}, n_neighbors=4 \n",
      "[CV]  metric=<function calculate_distance at 0x000002C8A5544EA0>, metric_params={'dist_type': 'euclid'}, n_neighbors=4, score=0.178743961352657, total=   4.0s\n",
      "[CV] metric=<function calculate_distance at 0x000002C8A5544EA0>, metric_params={'dist_type': 'euclid'}, n_neighbors=5 \n",
      "[CV]  metric=<function calculate_distance at 0x000002C8A5544EA0>, metric_params={'dist_type': 'euclid'}, n_neighbors=5, score=0.19806763285024154, total=   4.1s\n",
      "[CV] metric=<function calculate_distance at 0x000002C8A5544EA0>, metric_params={'dist_type': 'euclid'}, n_neighbors=6 \n",
      "[CV]  metric=<function calculate_distance at 0x000002C8A5544EA0>, metric_params={'dist_type': 'euclid'}, n_neighbors=6, score=0.19806763285024154, total=   4.4s\n",
      "[CV] metric=<function calculate_distance at 0x000002C8A5544EA0>, metric_params={'dist_type': 'euclid'}, n_neighbors=7 \n",
      "[CV]  metric=<function calculate_distance at 0x000002C8A5544EA0>, metric_params={'dist_type': 'euclid'}, n_neighbors=7, score=0.21256038647342995, total=   4.0s\n",
      "[CV] metric=<function calculate_distance at 0x000002C8A5544EA0>, metric_params={'dist_type': 'euclid'}, n_neighbors=8 \n",
      "[CV]  metric=<function calculate_distance at 0x000002C8A5544EA0>, metric_params={'dist_type': 'euclid'}, n_neighbors=8, score=0.17391304347826086, total=   4.0s\n",
      "[CV] metric=<function calculate_distance at 0x000002C8A5544EA0>, metric_params={'dist_type': 'euclid'}, n_neighbors=9 \n",
      "[CV]  metric=<function calculate_distance at 0x000002C8A5544EA0>, metric_params={'dist_type': 'euclid'}, n_neighbors=9, score=0.15942028985507245, total=   4.1s\n",
      "[CV] metric=<function calculate_distance at 0x000002C8A5544EA0>, metric_params={'dist_type': 'euclid'}, n_neighbors=10 \n",
      "[CV]  metric=<function calculate_distance at 0x000002C8A5544EA0>, metric_params={'dist_type': 'euclid'}, n_neighbors=10, score=0.13043478260869565, total=   4.1s\n",
      "6\n"
     ]
    },
    {
     "name": "stderr",
     "output_type": "stream",
     "text": [
      "[Parallel(n_jobs=1)]: Done  10 out of  10 | elapsed:  3.4min finished\n"
     ]
    },
    {
     "name": "stdout",
     "output_type": "stream",
     "text": [
      "Fitting 1 folds for each of 10 candidates, totalling 10 fits\n",
      "[CV] metric=<function calculate_distance at 0x000002C8A5544EA0>, metric_params={'dist_type': 'euclid'}, n_neighbors=1 \n",
      "[CV]  metric=<function calculate_distance at 0x000002C8A5544EA0>, metric_params={'dist_type': 'euclid'}, n_neighbors=1, score=0.19806763285024154, total=   4.4s\n",
      "[CV] metric=<function calculate_distance at 0x000002C8A5544EA0>, metric_params={'dist_type': 'euclid'}, n_neighbors=2 \n"
     ]
    },
    {
     "name": "stderr",
     "output_type": "stream",
     "text": [
      "[Parallel(n_jobs=1)]: Done   1 out of   1 | elapsed:   20.9s remaining:    0.0s\n"
     ]
    },
    {
     "name": "stdout",
     "output_type": "stream",
     "text": [
      "[CV]  metric=<function calculate_distance at 0x000002C8A5544EA0>, metric_params={'dist_type': 'euclid'}, n_neighbors=2, score=0.1642512077294686, total=   4.4s\n",
      "[CV] metric=<function calculate_distance at 0x000002C8A5544EA0>, metric_params={'dist_type': 'euclid'}, n_neighbors=3 \n"
     ]
    },
    {
     "name": "stderr",
     "output_type": "stream",
     "text": [
      "[Parallel(n_jobs=1)]: Done   2 out of   2 | elapsed:   43.0s remaining:    0.0s\n"
     ]
    },
    {
     "name": "stdout",
     "output_type": "stream",
     "text": [
      "[CV]  metric=<function calculate_distance at 0x000002C8A5544EA0>, metric_params={'dist_type': 'euclid'}, n_neighbors=3, score=0.15942028985507245, total=   4.4s\n",
      "[CV] metric=<function calculate_distance at 0x000002C8A5544EA0>, metric_params={'dist_type': 'euclid'}, n_neighbors=4 \n",
      "[CV]  metric=<function calculate_distance at 0x000002C8A5544EA0>, metric_params={'dist_type': 'euclid'}, n_neighbors=4, score=0.14492753623188406, total=   4.4s\n",
      "[CV] metric=<function calculate_distance at 0x000002C8A5544EA0>, metric_params={'dist_type': 'euclid'}, n_neighbors=5 \n",
      "[CV]  metric=<function calculate_distance at 0x000002C8A5544EA0>, metric_params={'dist_type': 'euclid'}, n_neighbors=5, score=0.1497584541062802, total=   4.5s\n",
      "[CV] metric=<function calculate_distance at 0x000002C8A5544EA0>, metric_params={'dist_type': 'euclid'}, n_neighbors=6 \n",
      "[CV]  metric=<function calculate_distance at 0x000002C8A5544EA0>, metric_params={'dist_type': 'euclid'}, n_neighbors=6, score=0.14492753623188406, total=   4.4s\n",
      "[CV] metric=<function calculate_distance at 0x000002C8A5544EA0>, metric_params={'dist_type': 'euclid'}, n_neighbors=7 \n",
      "[CV]  metric=<function calculate_distance at 0x000002C8A5544EA0>, metric_params={'dist_type': 'euclid'}, n_neighbors=7, score=0.14009661835748793, total=   4.6s\n",
      "[CV] metric=<function calculate_distance at 0x000002C8A5544EA0>, metric_params={'dist_type': 'euclid'}, n_neighbors=8 \n",
      "[CV]  metric=<function calculate_distance at 0x000002C8A5544EA0>, metric_params={'dist_type': 'euclid'}, n_neighbors=8, score=0.15458937198067632, total=   4.7s\n",
      "[CV] metric=<function calculate_distance at 0x000002C8A5544EA0>, metric_params={'dist_type': 'euclid'}, n_neighbors=9 \n",
      "[CV]  metric=<function calculate_distance at 0x000002C8A5544EA0>, metric_params={'dist_type': 'euclid'}, n_neighbors=9, score=0.1497584541062802, total=   4.6s\n",
      "[CV] metric=<function calculate_distance at 0x000002C8A5544EA0>, metric_params={'dist_type': 'euclid'}, n_neighbors=10 \n",
      "[CV]  metric=<function calculate_distance at 0x000002C8A5544EA0>, metric_params={'dist_type': 'euclid'}, n_neighbors=10, score=0.16908212560386474, total=   4.5s\n",
      "7\n"
     ]
    },
    {
     "name": "stderr",
     "output_type": "stream",
     "text": [
      "[Parallel(n_jobs=1)]: Done  10 out of  10 | elapsed:  3.7min finished\n",
      "c:\\python36\\lib\\site-packages\\scipy\\stats\\stats.py:3021: RuntimeWarning: invalid value encountered in double_scalars\n",
      "  r = r_num / r_den\n",
      "c:\\python36\\lib\\site-packages\\scipy\\stats\\stats.py:5277: RuntimeWarning: invalid value encountered in less\n",
      "  x = np.where(x < 1.0, x, 1.0)  # if x > 1 then return 1.0\n"
     ]
    },
    {
     "name": "stdout",
     "output_type": "stream",
     "text": [
      "8\n",
      "9\n",
      "10\n",
      "11\n",
      "12\n"
     ]
    }
   ],
   "source": [
    "for nr in frame_numbers:\n",
    "    print(nr)\n",
    "    try:\n",
    "        ori_train_input, ori_train_label = prepare_data(train, nr, 'orientation', verbose=False)\n",
    "        ori_valid_input, ori_valid_label = prepare_data(valid, nr, 'orientation', verbose=False)\n",
    "\n",
    "        kNN = GridSearchCV(KNeighborsClassifier(), parameters, cv=cross_valid, scoring='accuracy', n_jobs=parallel_jobs,\n",
    "                           verbose=verbose_level).fit(np.append(ori_train_input, ori_valid_input, axis=0),\n",
    "                                                      np.append(ori_train_label, ori_valid_label))\n",
    "        if result[0] > euclid_ori[0]:\n",
    "            euclid_ori = result\n",
    "        \n",
    "    except ValueError as err:\n",
    "        pass"
   ]
  },
  {
   "cell_type": "markdown",
   "metadata": {},
   "source": [
    "### EMG"
   ]
  },
  {
   "cell_type": "code",
   "execution_count": 31,
   "metadata": {
    "scrolled": true
   },
   "outputs": [
    {
     "name": "stdout",
     "output_type": "stream",
     "text": [
      "1\n",
      "Fitting 1 folds for each of 10 candidates, totalling 10 fits\n",
      "[CV] metric=<function calculate_distance at 0x000002C8A5544EA0>, metric_params={'dist_type': 'euclid'}, n_neighbors=1 \n",
      "[CV]  metric=<function calculate_distance at 0x000002C8A5544EA0>, metric_params={'dist_type': 'euclid'}, n_neighbors=1, score=0.49038461538461536, total=   3.5s\n",
      "[CV] metric=<function calculate_distance at 0x000002C8A5544EA0>, metric_params={'dist_type': 'euclid'}, n_neighbors=2 \n"
     ]
    },
    {
     "name": "stderr",
     "output_type": "stream",
     "text": [
      "[Parallel(n_jobs=1)]: Done   1 out of   1 | elapsed:   14.5s remaining:    0.0s\n"
     ]
    },
    {
     "name": "stdout",
     "output_type": "stream",
     "text": [
      "[CV]  metric=<function calculate_distance at 0x000002C8A5544EA0>, metric_params={'dist_type': 'euclid'}, n_neighbors=2, score=0.40384615384615385, total=   3.5s\n",
      "[CV] metric=<function calculate_distance at 0x000002C8A5544EA0>, metric_params={'dist_type': 'euclid'}, n_neighbors=3 \n"
     ]
    },
    {
     "name": "stderr",
     "output_type": "stream",
     "text": [
      "[Parallel(n_jobs=1)]: Done   2 out of   2 | elapsed:   31.1s remaining:    0.0s\n"
     ]
    },
    {
     "name": "stdout",
     "output_type": "stream",
     "text": [
      "[CV]  metric=<function calculate_distance at 0x000002C8A5544EA0>, metric_params={'dist_type': 'euclid'}, n_neighbors=3, score=0.3605769230769231, total=   3.7s\n",
      "[CV] metric=<function calculate_distance at 0x000002C8A5544EA0>, metric_params={'dist_type': 'euclid'}, n_neighbors=4 \n",
      "[CV]  metric=<function calculate_distance at 0x000002C8A5544EA0>, metric_params={'dist_type': 'euclid'}, n_neighbors=4, score=0.33653846153846156, total=   3.7s\n",
      "[CV] metric=<function calculate_distance at 0x000002C8A5544EA0>, metric_params={'dist_type': 'euclid'}, n_neighbors=5 \n",
      "[CV]  metric=<function calculate_distance at 0x000002C8A5544EA0>, metric_params={'dist_type': 'euclid'}, n_neighbors=5, score=0.28846153846153844, total=   3.8s\n",
      "[CV] metric=<function calculate_distance at 0x000002C8A5544EA0>, metric_params={'dist_type': 'euclid'}, n_neighbors=6 \n",
      "[CV]  metric=<function calculate_distance at 0x000002C8A5544EA0>, metric_params={'dist_type': 'euclid'}, n_neighbors=6, score=0.25961538461538464, total=   3.8s\n",
      "[CV] metric=<function calculate_distance at 0x000002C8A5544EA0>, metric_params={'dist_type': 'euclid'}, n_neighbors=7 \n",
      "[CV]  metric=<function calculate_distance at 0x000002C8A5544EA0>, metric_params={'dist_type': 'euclid'}, n_neighbors=7, score=0.2403846153846154, total=   3.8s\n",
      "[CV] metric=<function calculate_distance at 0x000002C8A5544EA0>, metric_params={'dist_type': 'euclid'}, n_neighbors=8 \n",
      "[CV]  metric=<function calculate_distance at 0x000002C8A5544EA0>, metric_params={'dist_type': 'euclid'}, n_neighbors=8, score=0.20673076923076922, total=   3.9s\n",
      "[CV] metric=<function calculate_distance at 0x000002C8A5544EA0>, metric_params={'dist_type': 'euclid'}, n_neighbors=9 \n",
      "[CV]  metric=<function calculate_distance at 0x000002C8A5544EA0>, metric_params={'dist_type': 'euclid'}, n_neighbors=9, score=0.1875, total=   3.8s\n",
      "[CV] metric=<function calculate_distance at 0x000002C8A5544EA0>, metric_params={'dist_type': 'euclid'}, n_neighbors=10 \n",
      "[CV]  metric=<function calculate_distance at 0x000002C8A5544EA0>, metric_params={'dist_type': 'euclid'}, n_neighbors=10, score=0.1778846153846154, total=   3.9s\n",
      "2\n"
     ]
    },
    {
     "name": "stderr",
     "output_type": "stream",
     "text": [
      "[Parallel(n_jobs=1)]: Done  10 out of  10 | elapsed:  3.0min finished\n"
     ]
    },
    {
     "name": "stdout",
     "output_type": "stream",
     "text": [
      "Fitting 1 folds for each of 10 candidates, totalling 10 fits\n",
      "[CV] metric=<function calculate_distance at 0x000002C8A5544EA0>, metric_params={'dist_type': 'euclid'}, n_neighbors=1 \n",
      "[CV]  metric=<function calculate_distance at 0x000002C8A5544EA0>, metric_params={'dist_type': 'euclid'}, n_neighbors=1, score=0.49038461538461536, total=   3.9s\n",
      "[CV] metric=<function calculate_distance at 0x000002C8A5544EA0>, metric_params={'dist_type': 'euclid'}, n_neighbors=2 \n"
     ]
    },
    {
     "name": "stderr",
     "output_type": "stream",
     "text": [
      "[Parallel(n_jobs=1)]: Done   1 out of   1 | elapsed:   16.4s remaining:    0.0s\n"
     ]
    },
    {
     "name": "stdout",
     "output_type": "stream",
     "text": [
      "[CV]  metric=<function calculate_distance at 0x000002C8A5544EA0>, metric_params={'dist_type': 'euclid'}, n_neighbors=2, score=0.3894230769230769, total=   4.1s\n",
      "[CV] metric=<function calculate_distance at 0x000002C8A5544EA0>, metric_params={'dist_type': 'euclid'}, n_neighbors=3 \n"
     ]
    },
    {
     "name": "stderr",
     "output_type": "stream",
     "text": [
      "[Parallel(n_jobs=1)]: Done   2 out of   2 | elapsed:   36.0s remaining:    0.0s\n"
     ]
    },
    {
     "name": "stdout",
     "output_type": "stream",
     "text": [
      "[CV]  metric=<function calculate_distance at 0x000002C8A5544EA0>, metric_params={'dist_type': 'euclid'}, n_neighbors=3, score=0.3557692307692308, total=   4.1s\n",
      "[CV] metric=<function calculate_distance at 0x000002C8A5544EA0>, metric_params={'dist_type': 'euclid'}, n_neighbors=4 \n",
      "[CV]  metric=<function calculate_distance at 0x000002C8A5544EA0>, metric_params={'dist_type': 'euclid'}, n_neighbors=4, score=0.3798076923076923, total=   4.2s\n",
      "[CV] metric=<function calculate_distance at 0x000002C8A5544EA0>, metric_params={'dist_type': 'euclid'}, n_neighbors=5 \n",
      "[CV]  metric=<function calculate_distance at 0x000002C8A5544EA0>, metric_params={'dist_type': 'euclid'}, n_neighbors=5, score=0.3173076923076923, total=   4.3s\n",
      "[CV] metric=<function calculate_distance at 0x000002C8A5544EA0>, metric_params={'dist_type': 'euclid'}, n_neighbors=6 \n",
      "[CV]  metric=<function calculate_distance at 0x000002C8A5544EA0>, metric_params={'dist_type': 'euclid'}, n_neighbors=6, score=0.2980769230769231, total=   4.2s\n",
      "[CV] metric=<function calculate_distance at 0x000002C8A5544EA0>, metric_params={'dist_type': 'euclid'}, n_neighbors=7 \n",
      "[CV]  metric=<function calculate_distance at 0x000002C8A5544EA0>, metric_params={'dist_type': 'euclid'}, n_neighbors=7, score=0.2644230769230769, total=   4.3s\n",
      "[CV] metric=<function calculate_distance at 0x000002C8A5544EA0>, metric_params={'dist_type': 'euclid'}, n_neighbors=8 \n",
      "[CV]  metric=<function calculate_distance at 0x000002C8A5544EA0>, metric_params={'dist_type': 'euclid'}, n_neighbors=8, score=0.2692307692307692, total=   4.3s\n",
      "[CV] metric=<function calculate_distance at 0x000002C8A5544EA0>, metric_params={'dist_type': 'euclid'}, n_neighbors=9 \n",
      "[CV]  metric=<function calculate_distance at 0x000002C8A5544EA0>, metric_params={'dist_type': 'euclid'}, n_neighbors=9, score=0.23076923076923078, total=   5.8s\n",
      "[CV] metric=<function calculate_distance at 0x000002C8A5544EA0>, metric_params={'dist_type': 'euclid'}, n_neighbors=10 \n",
      "[CV]  metric=<function calculate_distance at 0x000002C8A5544EA0>, metric_params={'dist_type': 'euclid'}, n_neighbors=10, score=0.21153846153846154, total=   4.4s\n",
      "3\n"
     ]
    },
    {
     "name": "stderr",
     "output_type": "stream",
     "text": [
      "[Parallel(n_jobs=1)]: Done  10 out of  10 | elapsed:  3.5min finished\n"
     ]
    },
    {
     "name": "stdout",
     "output_type": "stream",
     "text": [
      "Fitting 1 folds for each of 10 candidates, totalling 10 fits\n",
      "[CV] metric=<function calculate_distance at 0x000002C8A5544EA0>, metric_params={'dist_type': 'euclid'}, n_neighbors=1 \n",
      "[CV]  metric=<function calculate_distance at 0x000002C8A5544EA0>, metric_params={'dist_type': 'euclid'}, n_neighbors=1, score=0.5048076923076923, total=   4.6s\n",
      "[CV] metric=<function calculate_distance at 0x000002C8A5544EA0>, metric_params={'dist_type': 'euclid'}, n_neighbors=2 \n"
     ]
    },
    {
     "name": "stderr",
     "output_type": "stream",
     "text": [
      "[Parallel(n_jobs=1)]: Done   1 out of   1 | elapsed:   22.9s remaining:    0.0s\n"
     ]
    },
    {
     "name": "stdout",
     "output_type": "stream",
     "text": [
      "[CV]  metric=<function calculate_distance at 0x000002C8A5544EA0>, metric_params={'dist_type': 'euclid'}, n_neighbors=2, score=0.4519230769230769, total=   5.7s\n",
      "[CV] metric=<function calculate_distance at 0x000002C8A5544EA0>, metric_params={'dist_type': 'euclid'}, n_neighbors=3 \n"
     ]
    },
    {
     "name": "stderr",
     "output_type": "stream",
     "text": [
      "[Parallel(n_jobs=1)]: Done   2 out of   2 | elapsed:   50.2s remaining:    0.0s\n"
     ]
    },
    {
     "name": "stdout",
     "output_type": "stream",
     "text": [
      "[CV]  metric=<function calculate_distance at 0x000002C8A5544EA0>, metric_params={'dist_type': 'euclid'}, n_neighbors=3, score=0.4326923076923077, total=   5.8s\n",
      "[CV] metric=<function calculate_distance at 0x000002C8A5544EA0>, metric_params={'dist_type': 'euclid'}, n_neighbors=4 \n",
      "[CV]  metric=<function calculate_distance at 0x000002C8A5544EA0>, metric_params={'dist_type': 'euclid'}, n_neighbors=4, score=0.40384615384615385, total=   4.6s\n",
      "[CV] metric=<function calculate_distance at 0x000002C8A5544EA0>, metric_params={'dist_type': 'euclid'}, n_neighbors=5 \n",
      "[CV]  metric=<function calculate_distance at 0x000002C8A5544EA0>, metric_params={'dist_type': 'euclid'}, n_neighbors=5, score=0.33653846153846156, total=   4.8s\n",
      "[CV] metric=<function calculate_distance at 0x000002C8A5544EA0>, metric_params={'dist_type': 'euclid'}, n_neighbors=6 \n",
      "[CV]  metric=<function calculate_distance at 0x000002C8A5544EA0>, metric_params={'dist_type': 'euclid'}, n_neighbors=6, score=0.3125, total=   5.6s\n",
      "[CV] metric=<function calculate_distance at 0x000002C8A5544EA0>, metric_params={'dist_type': 'euclid'}, n_neighbors=7 \n",
      "[CV]  metric=<function calculate_distance at 0x000002C8A5544EA0>, metric_params={'dist_type': 'euclid'}, n_neighbors=7, score=0.28365384615384615, total=   5.9s\n",
      "[CV] metric=<function calculate_distance at 0x000002C8A5544EA0>, metric_params={'dist_type': 'euclid'}, n_neighbors=8 \n",
      "[CV]  metric=<function calculate_distance at 0x000002C8A5544EA0>, metric_params={'dist_type': 'euclid'}, n_neighbors=8, score=0.25961538461538464, total=   5.9s\n",
      "[CV] metric=<function calculate_distance at 0x000002C8A5544EA0>, metric_params={'dist_type': 'euclid'}, n_neighbors=9 \n",
      "[CV]  metric=<function calculate_distance at 0x000002C8A5544EA0>, metric_params={'dist_type': 'euclid'}, n_neighbors=9, score=0.23076923076923078, total=   5.0s\n",
      "[CV] metric=<function calculate_distance at 0x000002C8A5544EA0>, metric_params={'dist_type': 'euclid'}, n_neighbors=10 \n",
      "[CV]  metric=<function calculate_distance at 0x000002C8A5544EA0>, metric_params={'dist_type': 'euclid'}, n_neighbors=10, score=0.23557692307692307, total=   4.3s\n",
      "4\n"
     ]
    },
    {
     "name": "stderr",
     "output_type": "stream",
     "text": [
      "[Parallel(n_jobs=1)]: Done  10 out of  10 | elapsed:  4.3min finished\n"
     ]
    },
    {
     "name": "stdout",
     "output_type": "stream",
     "text": [
      "Fitting 1 folds for each of 10 candidates, totalling 10 fits\n",
      "[CV] metric=<function calculate_distance at 0x000002C8A5544EA0>, metric_params={'dist_type': 'euclid'}, n_neighbors=1 \n",
      "[CV]  metric=<function calculate_distance at 0x000002C8A5544EA0>, metric_params={'dist_type': 'euclid'}, n_neighbors=1, score=0.5144230769230769, total=   4.5s\n",
      "[CV] metric=<function calculate_distance at 0x000002C8A5544EA0>, metric_params={'dist_type': 'euclid'}, n_neighbors=2 \n"
     ]
    },
    {
     "name": "stderr",
     "output_type": "stream",
     "text": [
      "[Parallel(n_jobs=1)]: Done   1 out of   1 | elapsed:   19.0s remaining:    0.0s\n"
     ]
    },
    {
     "name": "stdout",
     "output_type": "stream",
     "text": [
      "[CV]  metric=<function calculate_distance at 0x000002C8A5544EA0>, metric_params={'dist_type': 'euclid'}, n_neighbors=2, score=0.42788461538461536, total=   4.2s\n",
      "[CV] metric=<function calculate_distance at 0x000002C8A5544EA0>, metric_params={'dist_type': 'euclid'}, n_neighbors=3 \n"
     ]
    },
    {
     "name": "stderr",
     "output_type": "stream",
     "text": [
      "[Parallel(n_jobs=1)]: Done   2 out of   2 | elapsed:   40.7s remaining:    0.0s\n"
     ]
    },
    {
     "name": "stdout",
     "output_type": "stream",
     "text": [
      "[CV]  metric=<function calculate_distance at 0x000002C8A5544EA0>, metric_params={'dist_type': 'euclid'}, n_neighbors=3, score=0.3798076923076923, total=   4.3s\n",
      "[CV] metric=<function calculate_distance at 0x000002C8A5544EA0>, metric_params={'dist_type': 'euclid'}, n_neighbors=4 \n",
      "[CV]  metric=<function calculate_distance at 0x000002C8A5544EA0>, metric_params={'dist_type': 'euclid'}, n_neighbors=4, score=0.35096153846153844, total=   5.1s\n",
      "[CV] metric=<function calculate_distance at 0x000002C8A5544EA0>, metric_params={'dist_type': 'euclid'}, n_neighbors=5 \n",
      "[CV]  metric=<function calculate_distance at 0x000002C8A5544EA0>, metric_params={'dist_type': 'euclid'}, n_neighbors=5, score=0.27403846153846156, total=   5.2s\n",
      "[CV] metric=<function calculate_distance at 0x000002C8A5544EA0>, metric_params={'dist_type': 'euclid'}, n_neighbors=6 \n",
      "[CV]  metric=<function calculate_distance at 0x000002C8A5544EA0>, metric_params={'dist_type': 'euclid'}, n_neighbors=6, score=0.2644230769230769, total=   6.1s\n",
      "[CV] metric=<function calculate_distance at 0x000002C8A5544EA0>, metric_params={'dist_type': 'euclid'}, n_neighbors=7 \n",
      "[CV]  metric=<function calculate_distance at 0x000002C8A5544EA0>, metric_params={'dist_type': 'euclid'}, n_neighbors=7, score=0.2692307692307692, total=   6.4s\n",
      "[CV] metric=<function calculate_distance at 0x000002C8A5544EA0>, metric_params={'dist_type': 'euclid'}, n_neighbors=8 \n",
      "[CV]  metric=<function calculate_distance at 0x000002C8A5544EA0>, metric_params={'dist_type': 'euclid'}, n_neighbors=8, score=0.2644230769230769, total=   5.1s\n",
      "[CV] metric=<function calculate_distance at 0x000002C8A5544EA0>, metric_params={'dist_type': 'euclid'}, n_neighbors=9 \n",
      "[CV]  metric=<function calculate_distance at 0x000002C8A5544EA0>, metric_params={'dist_type': 'euclid'}, n_neighbors=9, score=0.23076923076923078, total=   6.2s\n",
      "[CV] metric=<function calculate_distance at 0x000002C8A5544EA0>, metric_params={'dist_type': 'euclid'}, n_neighbors=10 \n",
      "[CV]  metric=<function calculate_distance at 0x000002C8A5544EA0>, metric_params={'dist_type': 'euclid'}, n_neighbors=10, score=0.21153846153846154, total=   6.3s\n"
     ]
    },
    {
     "name": "stderr",
     "output_type": "stream",
     "text": [
      "[Parallel(n_jobs=1)]: Done  10 out of  10 | elapsed:  4.5min finished\n"
     ]
    },
    {
     "name": "stdout",
     "output_type": "stream",
     "text": [
      "5\n",
      "Fitting 1 folds for each of 10 candidates, totalling 10 fits\n",
      "[CV] metric=<function calculate_distance at 0x000002C8A5544EA0>, metric_params={'dist_type': 'euclid'}, n_neighbors=1 \n",
      "[CV]  metric=<function calculate_distance at 0x000002C8A5544EA0>, metric_params={'dist_type': 'euclid'}, n_neighbors=1, score=0.49038461538461536, total=   5.1s\n",
      "[CV] metric=<function calculate_distance at 0x000002C8A5544EA0>, metric_params={'dist_type': 'euclid'}, n_neighbors=2 \n"
     ]
    },
    {
     "name": "stderr",
     "output_type": "stream",
     "text": [
      "[Parallel(n_jobs=1)]: Done   1 out of   1 | elapsed:   20.6s remaining:    0.0s\n"
     ]
    },
    {
     "name": "stdout",
     "output_type": "stream",
     "text": [
      "[CV]  metric=<function calculate_distance at 0x000002C8A5544EA0>, metric_params={'dist_type': 'euclid'}, n_neighbors=2, score=0.44711538461538464, total=   4.6s\n",
      "[CV] metric=<function calculate_distance at 0x000002C8A5544EA0>, metric_params={'dist_type': 'euclid'}, n_neighbors=3 \n"
     ]
    },
    {
     "name": "stderr",
     "output_type": "stream",
     "text": [
      "[Parallel(n_jobs=1)]: Done   2 out of   2 | elapsed:   43.2s remaining:    0.0s\n"
     ]
    },
    {
     "name": "stdout",
     "output_type": "stream",
     "text": [
      "[CV]  metric=<function calculate_distance at 0x000002C8A5544EA0>, metric_params={'dist_type': 'euclid'}, n_neighbors=3, score=0.4182692307692308, total=   4.7s\n",
      "[CV] metric=<function calculate_distance at 0x000002C8A5544EA0>, metric_params={'dist_type': 'euclid'}, n_neighbors=4 \n",
      "[CV]  metric=<function calculate_distance at 0x000002C8A5544EA0>, metric_params={'dist_type': 'euclid'}, n_neighbors=4, score=0.3605769230769231, total=   5.1s\n",
      "[CV] metric=<function calculate_distance at 0x000002C8A5544EA0>, metric_params={'dist_type': 'euclid'}, n_neighbors=5 \n",
      "[CV]  metric=<function calculate_distance at 0x000002C8A5544EA0>, metric_params={'dist_type': 'euclid'}, n_neighbors=5, score=0.3125, total=   4.6s\n",
      "[CV] metric=<function calculate_distance at 0x000002C8A5544EA0>, metric_params={'dist_type': 'euclid'}, n_neighbors=6 \n",
      "[CV]  metric=<function calculate_distance at 0x000002C8A5544EA0>, metric_params={'dist_type': 'euclid'}, n_neighbors=6, score=0.25961538461538464, total=   4.6s\n",
      "[CV] metric=<function calculate_distance at 0x000002C8A5544EA0>, metric_params={'dist_type': 'euclid'}, n_neighbors=7 \n",
      "[CV]  metric=<function calculate_distance at 0x000002C8A5544EA0>, metric_params={'dist_type': 'euclid'}, n_neighbors=7, score=0.23557692307692307, total=   4.6s\n",
      "[CV] metric=<function calculate_distance at 0x000002C8A5544EA0>, metric_params={'dist_type': 'euclid'}, n_neighbors=8 \n",
      "[CV]  metric=<function calculate_distance at 0x000002C8A5544EA0>, metric_params={'dist_type': 'euclid'}, n_neighbors=8, score=0.21634615384615385, total=   4.7s\n",
      "[CV] metric=<function calculate_distance at 0x000002C8A5544EA0>, metric_params={'dist_type': 'euclid'}, n_neighbors=9 \n",
      "[CV]  metric=<function calculate_distance at 0x000002C8A5544EA0>, metric_params={'dist_type': 'euclid'}, n_neighbors=9, score=0.21634615384615385, total=   4.8s\n",
      "[CV] metric=<function calculate_distance at 0x000002C8A5544EA0>, metric_params={'dist_type': 'euclid'}, n_neighbors=10 \n",
      "[CV]  metric=<function calculate_distance at 0x000002C8A5544EA0>, metric_params={'dist_type': 'euclid'}, n_neighbors=10, score=0.20192307692307693, total=   4.7s\n",
      "6\n"
     ]
    },
    {
     "name": "stderr",
     "output_type": "stream",
     "text": [
      "[Parallel(n_jobs=1)]: Done  10 out of  10 | elapsed:  3.8min finished\n"
     ]
    },
    {
     "name": "stdout",
     "output_type": "stream",
     "text": [
      "Fitting 1 folds for each of 10 candidates, totalling 10 fits\n",
      "[CV] metric=<function calculate_distance at 0x000002C8A5544EA0>, metric_params={'dist_type': 'euclid'}, n_neighbors=1 \n",
      "[CV]  metric=<function calculate_distance at 0x000002C8A5544EA0>, metric_params={'dist_type': 'euclid'}, n_neighbors=1, score=0.5144230769230769, total=   4.6s\n",
      "[CV] metric=<function calculate_distance at 0x000002C8A5544EA0>, metric_params={'dist_type': 'euclid'}, n_neighbors=2 \n"
     ]
    },
    {
     "name": "stderr",
     "output_type": "stream",
     "text": [
      "[Parallel(n_jobs=1)]: Done   1 out of   1 | elapsed:   19.6s remaining:    0.0s\n"
     ]
    },
    {
     "name": "stdout",
     "output_type": "stream",
     "text": [
      "[CV]  metric=<function calculate_distance at 0x000002C8A5544EA0>, metric_params={'dist_type': 'euclid'}, n_neighbors=2, score=0.47115384615384615, total=   4.5s\n",
      "[CV] metric=<function calculate_distance at 0x000002C8A5544EA0>, metric_params={'dist_type': 'euclid'}, n_neighbors=3 \n"
     ]
    },
    {
     "name": "stderr",
     "output_type": "stream",
     "text": [
      "[Parallel(n_jobs=1)]: Done   2 out of   2 | elapsed:   41.8s remaining:    0.0s\n"
     ]
    },
    {
     "name": "stdout",
     "output_type": "stream",
     "text": [
      "[CV]  metric=<function calculate_distance at 0x000002C8A5544EA0>, metric_params={'dist_type': 'euclid'}, n_neighbors=3, score=0.41346153846153844, total=   4.5s\n",
      "[CV] metric=<function calculate_distance at 0x000002C8A5544EA0>, metric_params={'dist_type': 'euclid'}, n_neighbors=4 \n",
      "[CV]  metric=<function calculate_distance at 0x000002C8A5544EA0>, metric_params={'dist_type': 'euclid'}, n_neighbors=4, score=0.33653846153846156, total=   4.7s\n",
      "[CV] metric=<function calculate_distance at 0x000002C8A5544EA0>, metric_params={'dist_type': 'euclid'}, n_neighbors=5 \n",
      "[CV]  metric=<function calculate_distance at 0x000002C8A5544EA0>, metric_params={'dist_type': 'euclid'}, n_neighbors=5, score=0.28846153846153844, total=   4.7s\n",
      "[CV] metric=<function calculate_distance at 0x000002C8A5544EA0>, metric_params={'dist_type': 'euclid'}, n_neighbors=6 \n",
      "[CV]  metric=<function calculate_distance at 0x000002C8A5544EA0>, metric_params={'dist_type': 'euclid'}, n_neighbors=6, score=0.27403846153846156, total=   4.6s\n",
      "[CV] metric=<function calculate_distance at 0x000002C8A5544EA0>, metric_params={'dist_type': 'euclid'}, n_neighbors=7 \n",
      "[CV]  metric=<function calculate_distance at 0x000002C8A5544EA0>, metric_params={'dist_type': 'euclid'}, n_neighbors=7, score=0.24519230769230768, total=   4.6s\n",
      "[CV] metric=<function calculate_distance at 0x000002C8A5544EA0>, metric_params={'dist_type': 'euclid'}, n_neighbors=8 \n",
      "[CV]  metric=<function calculate_distance at 0x000002C8A5544EA0>, metric_params={'dist_type': 'euclid'}, n_neighbors=8, score=0.20192307692307693, total=   4.6s\n",
      "[CV] metric=<function calculate_distance at 0x000002C8A5544EA0>, metric_params={'dist_type': 'euclid'}, n_neighbors=9 \n",
      "[CV]  metric=<function calculate_distance at 0x000002C8A5544EA0>, metric_params={'dist_type': 'euclid'}, n_neighbors=9, score=0.1875, total=   4.6s\n",
      "[CV] metric=<function calculate_distance at 0x000002C8A5544EA0>, metric_params={'dist_type': 'euclid'}, n_neighbors=10 \n",
      "[CV]  metric=<function calculate_distance at 0x000002C8A5544EA0>, metric_params={'dist_type': 'euclid'}, n_neighbors=10, score=0.1875, total=   4.6s\n",
      "7\n"
     ]
    },
    {
     "name": "stderr",
     "output_type": "stream",
     "text": [
      "[Parallel(n_jobs=1)]: Done  10 out of  10 | elapsed:  3.7min finished\n"
     ]
    },
    {
     "name": "stdout",
     "output_type": "stream",
     "text": [
      "Fitting 1 folds for each of 10 candidates, totalling 10 fits\n",
      "[CV] metric=<function calculate_distance at 0x000002C8A5544EA0>, metric_params={'dist_type': 'euclid'}, n_neighbors=1 \n",
      "[CV]  metric=<function calculate_distance at 0x000002C8A5544EA0>, metric_params={'dist_type': 'euclid'}, n_neighbors=1, score=0.5673076923076923, total=   4.6s\n",
      "[CV] metric=<function calculate_distance at 0x000002C8A5544EA0>, metric_params={'dist_type': 'euclid'}, n_neighbors=2 \n"
     ]
    },
    {
     "name": "stderr",
     "output_type": "stream",
     "text": [
      "[Parallel(n_jobs=1)]: Done   1 out of   1 | elapsed:   20.0s remaining:    0.0s\n"
     ]
    },
    {
     "name": "stdout",
     "output_type": "stream",
     "text": [
      "[CV]  metric=<function calculate_distance at 0x000002C8A5544EA0>, metric_params={'dist_type': 'euclid'}, n_neighbors=2, score=0.44711538461538464, total=   4.7s\n",
      "[CV] metric=<function calculate_distance at 0x000002C8A5544EA0>, metric_params={'dist_type': 'euclid'}, n_neighbors=3 \n"
     ]
    },
    {
     "name": "stderr",
     "output_type": "stream",
     "text": [
      "[Parallel(n_jobs=1)]: Done   2 out of   2 | elapsed:   43.3s remaining:    0.0s\n"
     ]
    },
    {
     "name": "stdout",
     "output_type": "stream",
     "text": [
      "[CV]  metric=<function calculate_distance at 0x000002C8A5544EA0>, metric_params={'dist_type': 'euclid'}, n_neighbors=3, score=0.36538461538461536, total=   4.7s\n",
      "[CV] metric=<function calculate_distance at 0x000002C8A5544EA0>, metric_params={'dist_type': 'euclid'}, n_neighbors=4 \n",
      "[CV]  metric=<function calculate_distance at 0x000002C8A5544EA0>, metric_params={'dist_type': 'euclid'}, n_neighbors=4, score=0.3317307692307692, total=   4.6s\n",
      "[CV] metric=<function calculate_distance at 0x000002C8A5544EA0>, metric_params={'dist_type': 'euclid'}, n_neighbors=5 \n",
      "[CV]  metric=<function calculate_distance at 0x000002C8A5544EA0>, metric_params={'dist_type': 'euclid'}, n_neighbors=5, score=0.3076923076923077, total=   5.4s\n",
      "[CV] metric=<function calculate_distance at 0x000002C8A5544EA0>, metric_params={'dist_type': 'euclid'}, n_neighbors=6 \n",
      "[CV]  metric=<function calculate_distance at 0x000002C8A5544EA0>, metric_params={'dist_type': 'euclid'}, n_neighbors=6, score=0.2548076923076923, total=   4.6s\n",
      "[CV] metric=<function calculate_distance at 0x000002C8A5544EA0>, metric_params={'dist_type': 'euclid'}, n_neighbors=7 \n",
      "[CV]  metric=<function calculate_distance at 0x000002C8A5544EA0>, metric_params={'dist_type': 'euclid'}, n_neighbors=7, score=0.2403846153846154, total=   4.6s\n",
      "[CV] metric=<function calculate_distance at 0x000002C8A5544EA0>, metric_params={'dist_type': 'euclid'}, n_neighbors=8 \n",
      "[CV]  metric=<function calculate_distance at 0x000002C8A5544EA0>, metric_params={'dist_type': 'euclid'}, n_neighbors=8, score=0.21634615384615385, total=   5.9s\n",
      "[CV] metric=<function calculate_distance at 0x000002C8A5544EA0>, metric_params={'dist_type': 'euclid'}, n_neighbors=9 \n",
      "[CV]  metric=<function calculate_distance at 0x000002C8A5544EA0>, metric_params={'dist_type': 'euclid'}, n_neighbors=9, score=0.21153846153846154, total=   4.9s\n",
      "[CV] metric=<function calculate_distance at 0x000002C8A5544EA0>, metric_params={'dist_type': 'euclid'}, n_neighbors=10 \n",
      "[CV]  metric=<function calculate_distance at 0x000002C8A5544EA0>, metric_params={'dist_type': 'euclid'}, n_neighbors=10, score=0.20192307692307693, total=   5.4s\n",
      "8\n"
     ]
    },
    {
     "name": "stderr",
     "output_type": "stream",
     "text": [
      "[Parallel(n_jobs=1)]: Done  10 out of  10 | elapsed:  4.0min finished\n"
     ]
    },
    {
     "name": "stdout",
     "output_type": "stream",
     "text": [
      "Fitting 1 folds for each of 10 candidates, totalling 10 fits\n",
      "[CV] metric=<function calculate_distance at 0x000002C8A5544EA0>, metric_params={'dist_type': 'euclid'}, n_neighbors=1 \n",
      "[CV]  metric=<function calculate_distance at 0x000002C8A5544EA0>, metric_params={'dist_type': 'euclid'}, n_neighbors=1, score=0.5192307692307693, total=   4.6s\n",
      "[CV] metric=<function calculate_distance at 0x000002C8A5544EA0>, metric_params={'dist_type': 'euclid'}, n_neighbors=2 \n"
     ]
    },
    {
     "name": "stderr",
     "output_type": "stream",
     "text": [
      "[Parallel(n_jobs=1)]: Done   1 out of   1 | elapsed:   19.4s remaining:    0.0s\n"
     ]
    },
    {
     "name": "stdout",
     "output_type": "stream",
     "text": [
      "[CV]  metric=<function calculate_distance at 0x000002C8A5544EA0>, metric_params={'dist_type': 'euclid'}, n_neighbors=2, score=0.4375, total=   4.6s\n",
      "[CV] metric=<function calculate_distance at 0x000002C8A5544EA0>, metric_params={'dist_type': 'euclid'}, n_neighbors=3 \n"
     ]
    },
    {
     "name": "stderr",
     "output_type": "stream",
     "text": [
      "[Parallel(n_jobs=1)]: Done   2 out of   2 | elapsed:   42.8s remaining:    0.0s\n"
     ]
    },
    {
     "name": "stdout",
     "output_type": "stream",
     "text": [
      "[CV]  metric=<function calculate_distance at 0x000002C8A5544EA0>, metric_params={'dist_type': 'euclid'}, n_neighbors=3, score=0.40384615384615385, total=   4.8s\n",
      "[CV] metric=<function calculate_distance at 0x000002C8A5544EA0>, metric_params={'dist_type': 'euclid'}, n_neighbors=4 \n",
      "[CV]  metric=<function calculate_distance at 0x000002C8A5544EA0>, metric_params={'dist_type': 'euclid'}, n_neighbors=4, score=0.32211538461538464, total=   4.4s\n",
      "[CV] metric=<function calculate_distance at 0x000002C8A5544EA0>, metric_params={'dist_type': 'euclid'}, n_neighbors=5 \n",
      "[CV]  metric=<function calculate_distance at 0x000002C8A5544EA0>, metric_params={'dist_type': 'euclid'}, n_neighbors=5, score=0.2932692307692308, total=   4.8s\n",
      "[CV] metric=<function calculate_distance at 0x000002C8A5544EA0>, metric_params={'dist_type': 'euclid'}, n_neighbors=6 \n",
      "[CV]  metric=<function calculate_distance at 0x000002C8A5544EA0>, metric_params={'dist_type': 'euclid'}, n_neighbors=6, score=0.25, total=   4.7s\n",
      "[CV] metric=<function calculate_distance at 0x000002C8A5544EA0>, metric_params={'dist_type': 'euclid'}, n_neighbors=7 \n",
      "[CV]  metric=<function calculate_distance at 0x000002C8A5544EA0>, metric_params={'dist_type': 'euclid'}, n_neighbors=7, score=0.24519230769230768, total=   4.7s\n",
      "[CV] metric=<function calculate_distance at 0x000002C8A5544EA0>, metric_params={'dist_type': 'euclid'}, n_neighbors=8 \n",
      "[CV]  metric=<function calculate_distance at 0x000002C8A5544EA0>, metric_params={'dist_type': 'euclid'}, n_neighbors=8, score=0.21634615384615385, total=   4.7s\n",
      "[CV] metric=<function calculate_distance at 0x000002C8A5544EA0>, metric_params={'dist_type': 'euclid'}, n_neighbors=9 \n",
      "[CV]  metric=<function calculate_distance at 0x000002C8A5544EA0>, metric_params={'dist_type': 'euclid'}, n_neighbors=9, score=0.20192307692307693, total=   4.7s\n",
      "[CV] metric=<function calculate_distance at 0x000002C8A5544EA0>, metric_params={'dist_type': 'euclid'}, n_neighbors=10 \n",
      "[CV]  metric=<function calculate_distance at 0x000002C8A5544EA0>, metric_params={'dist_type': 'euclid'}, n_neighbors=10, score=0.19230769230769232, total=   4.7s\n",
      "9\n"
     ]
    },
    {
     "name": "stderr",
     "output_type": "stream",
     "text": [
      "[Parallel(n_jobs=1)]: Done  10 out of  10 | elapsed:  3.8min finished\n"
     ]
    },
    {
     "name": "stdout",
     "output_type": "stream",
     "text": [
      "Fitting 1 folds for each of 10 candidates, totalling 10 fits\n",
      "[CV] metric=<function calculate_distance at 0x000002C8A5544EA0>, metric_params={'dist_type': 'euclid'}, n_neighbors=1 \n",
      "[CV]  metric=<function calculate_distance at 0x000002C8A5544EA0>, metric_params={'dist_type': 'euclid'}, n_neighbors=1, score=0.5336538461538461, total=   4.7s\n",
      "[CV] metric=<function calculate_distance at 0x000002C8A5544EA0>, metric_params={'dist_type': 'euclid'}, n_neighbors=2 \n"
     ]
    },
    {
     "name": "stderr",
     "output_type": "stream",
     "text": [
      "[Parallel(n_jobs=1)]: Done   1 out of   1 | elapsed:   21.6s remaining:    0.0s\n"
     ]
    },
    {
     "name": "stdout",
     "output_type": "stream",
     "text": [
      "[CV]  metric=<function calculate_distance at 0x000002C8A5544EA0>, metric_params={'dist_type': 'euclid'}, n_neighbors=2, score=0.4519230769230769, total=   4.7s\n",
      "[CV] metric=<function calculate_distance at 0x000002C8A5544EA0>, metric_params={'dist_type': 'euclid'}, n_neighbors=3 \n"
     ]
    },
    {
     "name": "stderr",
     "output_type": "stream",
     "text": [
      "[Parallel(n_jobs=1)]: Done   2 out of   2 | elapsed:   44.9s remaining:    0.0s\n"
     ]
    },
    {
     "name": "stdout",
     "output_type": "stream",
     "text": [
      "[CV]  metric=<function calculate_distance at 0x000002C8A5544EA0>, metric_params={'dist_type': 'euclid'}, n_neighbors=3, score=0.40865384615384615, total=   4.7s\n",
      "[CV] metric=<function calculate_distance at 0x000002C8A5544EA0>, metric_params={'dist_type': 'euclid'}, n_neighbors=4 \n",
      "[CV]  metric=<function calculate_distance at 0x000002C8A5544EA0>, metric_params={'dist_type': 'euclid'}, n_neighbors=4, score=0.34134615384615385, total=   4.7s\n",
      "[CV] metric=<function calculate_distance at 0x000002C8A5544EA0>, metric_params={'dist_type': 'euclid'}, n_neighbors=5 \n",
      "[CV]  metric=<function calculate_distance at 0x000002C8A5544EA0>, metric_params={'dist_type': 'euclid'}, n_neighbors=5, score=0.33653846153846156, total=   4.7s\n",
      "[CV] metric=<function calculate_distance at 0x000002C8A5544EA0>, metric_params={'dist_type': 'euclid'}, n_neighbors=6 \n",
      "[CV]  metric=<function calculate_distance at 0x000002C8A5544EA0>, metric_params={'dist_type': 'euclid'}, n_neighbors=6, score=0.2692307692307692, total=   4.8s\n",
      "[CV] metric=<function calculate_distance at 0x000002C8A5544EA0>, metric_params={'dist_type': 'euclid'}, n_neighbors=7 \n",
      "[CV]  metric=<function calculate_distance at 0x000002C8A5544EA0>, metric_params={'dist_type': 'euclid'}, n_neighbors=7, score=0.23557692307692307, total=   4.7s\n",
      "[CV] metric=<function calculate_distance at 0x000002C8A5544EA0>, metric_params={'dist_type': 'euclid'}, n_neighbors=8 \n",
      "[CV]  metric=<function calculate_distance at 0x000002C8A5544EA0>, metric_params={'dist_type': 'euclid'}, n_neighbors=8, score=0.21634615384615385, total=   4.7s\n",
      "[CV] metric=<function calculate_distance at 0x000002C8A5544EA0>, metric_params={'dist_type': 'euclid'}, n_neighbors=9 \n",
      "[CV]  metric=<function calculate_distance at 0x000002C8A5544EA0>, metric_params={'dist_type': 'euclid'}, n_neighbors=9, score=0.20192307692307693, total=   4.7s\n",
      "[CV] metric=<function calculate_distance at 0x000002C8A5544EA0>, metric_params={'dist_type': 'euclid'}, n_neighbors=10 \n",
      "[CV]  metric=<function calculate_distance at 0x000002C8A5544EA0>, metric_params={'dist_type': 'euclid'}, n_neighbors=10, score=0.19230769230769232, total=   4.7s\n",
      "10\n"
     ]
    },
    {
     "name": "stderr",
     "output_type": "stream",
     "text": [
      "[Parallel(n_jobs=1)]: Done  10 out of  10 | elapsed:  3.9min finished\n"
     ]
    },
    {
     "name": "stdout",
     "output_type": "stream",
     "text": [
      "Fitting 1 folds for each of 10 candidates, totalling 10 fits\n",
      "[CV] metric=<function calculate_distance at 0x000002C8A5544EA0>, metric_params={'dist_type': 'euclid'}, n_neighbors=1 \n",
      "[CV]  metric=<function calculate_distance at 0x000002C8A5544EA0>, metric_params={'dist_type': 'euclid'}, n_neighbors=1, score=0.5748792270531401, total=   4.8s\n",
      "[CV] metric=<function calculate_distance at 0x000002C8A5544EA0>, metric_params={'dist_type': 'euclid'}, n_neighbors=2 \n"
     ]
    },
    {
     "name": "stderr",
     "output_type": "stream",
     "text": [
      "[Parallel(n_jobs=1)]: Done   1 out of   1 | elapsed:   21.4s remaining:    0.0s\n"
     ]
    },
    {
     "name": "stdout",
     "output_type": "stream",
     "text": [
      "[CV]  metric=<function calculate_distance at 0x000002C8A5544EA0>, metric_params={'dist_type': 'euclid'}, n_neighbors=2, score=0.5072463768115942, total=   4.8s\n",
      "[CV] metric=<function calculate_distance at 0x000002C8A5544EA0>, metric_params={'dist_type': 'euclid'}, n_neighbors=3 \n"
     ]
    },
    {
     "name": "stderr",
     "output_type": "stream",
     "text": [
      "[Parallel(n_jobs=1)]: Done   2 out of   2 | elapsed:   45.2s remaining:    0.0s\n"
     ]
    },
    {
     "name": "stdout",
     "output_type": "stream",
     "text": [
      "[CV]  metric=<function calculate_distance at 0x000002C8A5544EA0>, metric_params={'dist_type': 'euclid'}, n_neighbors=3, score=0.41545893719806765, total=   5.0s\n",
      "[CV] metric=<function calculate_distance at 0x000002C8A5544EA0>, metric_params={'dist_type': 'euclid'}, n_neighbors=4 \n",
      "[CV]  metric=<function calculate_distance at 0x000002C8A5544EA0>, metric_params={'dist_type': 'euclid'}, n_neighbors=4, score=0.3719806763285024, total=   4.7s\n",
      "[CV] metric=<function calculate_distance at 0x000002C8A5544EA0>, metric_params={'dist_type': 'euclid'}, n_neighbors=5 \n",
      "[CV]  metric=<function calculate_distance at 0x000002C8A5544EA0>, metric_params={'dist_type': 'euclid'}, n_neighbors=5, score=0.34782608695652173, total=   4.7s\n",
      "[CV] metric=<function calculate_distance at 0x000002C8A5544EA0>, metric_params={'dist_type': 'euclid'}, n_neighbors=6 \n",
      "[CV]  metric=<function calculate_distance at 0x000002C8A5544EA0>, metric_params={'dist_type': 'euclid'}, n_neighbors=6, score=0.2898550724637681, total=   4.7s\n",
      "[CV] metric=<function calculate_distance at 0x000002C8A5544EA0>, metric_params={'dist_type': 'euclid'}, n_neighbors=7 \n",
      "[CV]  metric=<function calculate_distance at 0x000002C8A5544EA0>, metric_params={'dist_type': 'euclid'}, n_neighbors=7, score=0.2560386473429952, total=   4.7s\n",
      "[CV] metric=<function calculate_distance at 0x000002C8A5544EA0>, metric_params={'dist_type': 'euclid'}, n_neighbors=8 \n",
      "[CV]  metric=<function calculate_distance at 0x000002C8A5544EA0>, metric_params={'dist_type': 'euclid'}, n_neighbors=8, score=0.21739130434782608, total=   4.8s\n",
      "[CV] metric=<function calculate_distance at 0x000002C8A5544EA0>, metric_params={'dist_type': 'euclid'}, n_neighbors=9 \n",
      "[CV]  metric=<function calculate_distance at 0x000002C8A5544EA0>, metric_params={'dist_type': 'euclid'}, n_neighbors=9, score=0.21256038647342995, total=   4.7s\n",
      "[CV] metric=<function calculate_distance at 0x000002C8A5544EA0>, metric_params={'dist_type': 'euclid'}, n_neighbors=10 \n",
      "[CV]  metric=<function calculate_distance at 0x000002C8A5544EA0>, metric_params={'dist_type': 'euclid'}, n_neighbors=10, score=0.19806763285024154, total=   4.8s\n",
      "11\n"
     ]
    },
    {
     "name": "stderr",
     "output_type": "stream",
     "text": [
      "[Parallel(n_jobs=1)]: Done  10 out of  10 | elapsed:  3.9min finished\n"
     ]
    },
    {
     "name": "stdout",
     "output_type": "stream",
     "text": [
      "Fitting 1 folds for each of 10 candidates, totalling 10 fits\n",
      "[CV] metric=<function calculate_distance at 0x000002C8A5544EA0>, metric_params={'dist_type': 'euclid'}, n_neighbors=1 \n",
      "[CV]  metric=<function calculate_distance at 0x000002C8A5544EA0>, metric_params={'dist_type': 'euclid'}, n_neighbors=1, score=0.5652173913043478, total=   4.7s\n",
      "[CV] metric=<function calculate_distance at 0x000002C8A5544EA0>, metric_params={'dist_type': 'euclid'}, n_neighbors=2 \n"
     ]
    },
    {
     "name": "stderr",
     "output_type": "stream",
     "text": [
      "[Parallel(n_jobs=1)]: Done   1 out of   1 | elapsed:   21.3s remaining:    0.0s\n"
     ]
    },
    {
     "name": "stdout",
     "output_type": "stream",
     "text": [
      "[CV]  metric=<function calculate_distance at 0x000002C8A5544EA0>, metric_params={'dist_type': 'euclid'}, n_neighbors=2, score=0.47342995169082125, total=   4.7s\n",
      "[CV] metric=<function calculate_distance at 0x000002C8A5544EA0>, metric_params={'dist_type': 'euclid'}, n_neighbors=3 \n"
     ]
    },
    {
     "name": "stderr",
     "output_type": "stream",
     "text": [
      "[Parallel(n_jobs=1)]: Done   2 out of   2 | elapsed:   44.8s remaining:    0.0s\n"
     ]
    },
    {
     "name": "stdout",
     "output_type": "stream",
     "text": [
      "[CV]  metric=<function calculate_distance at 0x000002C8A5544EA0>, metric_params={'dist_type': 'euclid'}, n_neighbors=3, score=0.40096618357487923, total=   4.7s\n",
      "[CV] metric=<function calculate_distance at 0x000002C8A5544EA0>, metric_params={'dist_type': 'euclid'}, n_neighbors=4 \n",
      "[CV]  metric=<function calculate_distance at 0x000002C8A5544EA0>, metric_params={'dist_type': 'euclid'}, n_neighbors=4, score=0.3671497584541063, total=   4.6s\n",
      "[CV] metric=<function calculate_distance at 0x000002C8A5544EA0>, metric_params={'dist_type': 'euclid'}, n_neighbors=5 \n",
      "[CV]  metric=<function calculate_distance at 0x000002C8A5544EA0>, metric_params={'dist_type': 'euclid'}, n_neighbors=5, score=0.3719806763285024, total=   4.7s\n",
      "[CV] metric=<function calculate_distance at 0x000002C8A5544EA0>, metric_params={'dist_type': 'euclid'}, n_neighbors=6 \n",
      "[CV]  metric=<function calculate_distance at 0x000002C8A5544EA0>, metric_params={'dist_type': 'euclid'}, n_neighbors=6, score=0.28502415458937197, total=   4.8s\n",
      "[CV] metric=<function calculate_distance at 0x000002C8A5544EA0>, metric_params={'dist_type': 'euclid'}, n_neighbors=7 \n",
      "[CV]  metric=<function calculate_distance at 0x000002C8A5544EA0>, metric_params={'dist_type': 'euclid'}, n_neighbors=7, score=0.2463768115942029, total=   4.9s\n",
      "[CV] metric=<function calculate_distance at 0x000002C8A5544EA0>, metric_params={'dist_type': 'euclid'}, n_neighbors=8 \n",
      "[CV]  metric=<function calculate_distance at 0x000002C8A5544EA0>, metric_params={'dist_type': 'euclid'}, n_neighbors=8, score=0.2028985507246377, total=   4.8s\n",
      "[CV] metric=<function calculate_distance at 0x000002C8A5544EA0>, metric_params={'dist_type': 'euclid'}, n_neighbors=9 \n",
      "[CV]  metric=<function calculate_distance at 0x000002C8A5544EA0>, metric_params={'dist_type': 'euclid'}, n_neighbors=9, score=0.2028985507246377, total=   4.8s\n",
      "[CV] metric=<function calculate_distance at 0x000002C8A5544EA0>, metric_params={'dist_type': 'euclid'}, n_neighbors=10 \n",
      "[CV]  metric=<function calculate_distance at 0x000002C8A5544EA0>, metric_params={'dist_type': 'euclid'}, n_neighbors=10, score=0.19806763285024154, total=   4.7s\n",
      "12\n"
     ]
    },
    {
     "name": "stderr",
     "output_type": "stream",
     "text": [
      "[Parallel(n_jobs=1)]: Done  10 out of  10 | elapsed:  3.9min finished\n"
     ]
    },
    {
     "name": "stdout",
     "output_type": "stream",
     "text": [
      "Fitting 1 folds for each of 10 candidates, totalling 10 fits\n",
      "[CV] metric=<function calculate_distance at 0x000002C8A5544EA0>, metric_params={'dist_type': 'euclid'}, n_neighbors=1 \n",
      "[CV]  metric=<function calculate_distance at 0x000002C8A5544EA0>, metric_params={'dist_type': 'euclid'}, n_neighbors=1, score=0.5797101449275363, total=   4.9s\n",
      "[CV] metric=<function calculate_distance at 0x000002C8A5544EA0>, metric_params={'dist_type': 'euclid'}, n_neighbors=2 \n"
     ]
    },
    {
     "name": "stderr",
     "output_type": "stream",
     "text": [
      "[Parallel(n_jobs=1)]: Done   1 out of   1 | elapsed:   21.5s remaining:    0.0s\n"
     ]
    },
    {
     "name": "stdout",
     "output_type": "stream",
     "text": [
      "[CV]  metric=<function calculate_distance at 0x000002C8A5544EA0>, metric_params={'dist_type': 'euclid'}, n_neighbors=2, score=0.5120772946859904, total=   5.0s\n",
      "[CV] metric=<function calculate_distance at 0x000002C8A5544EA0>, metric_params={'dist_type': 'euclid'}, n_neighbors=3 \n"
     ]
    },
    {
     "name": "stderr",
     "output_type": "stream",
     "text": [
      "[Parallel(n_jobs=1)]: Done   2 out of   2 | elapsed:   46.3s remaining:    0.0s\n"
     ]
    },
    {
     "name": "stdout",
     "output_type": "stream",
     "text": [
      "[CV]  metric=<function calculate_distance at 0x000002C8A5544EA0>, metric_params={'dist_type': 'euclid'}, n_neighbors=3, score=0.4444444444444444, total=   5.0s\n",
      "[CV] metric=<function calculate_distance at 0x000002C8A5544EA0>, metric_params={'dist_type': 'euclid'}, n_neighbors=4 \n",
      "[CV]  metric=<function calculate_distance at 0x000002C8A5544EA0>, metric_params={'dist_type': 'euclid'}, n_neighbors=4, score=0.38164251207729466, total=   5.0s\n",
      "[CV] metric=<function calculate_distance at 0x000002C8A5544EA0>, metric_params={'dist_type': 'euclid'}, n_neighbors=5 \n",
      "[CV]  metric=<function calculate_distance at 0x000002C8A5544EA0>, metric_params={'dist_type': 'euclid'}, n_neighbors=5, score=0.33816425120772947, total=   5.0s\n",
      "[CV] metric=<function calculate_distance at 0x000002C8A5544EA0>, metric_params={'dist_type': 'euclid'}, n_neighbors=6 \n",
      "[CV]  metric=<function calculate_distance at 0x000002C8A5544EA0>, metric_params={'dist_type': 'euclid'}, n_neighbors=6, score=0.28019323671497587, total=   5.1s\n",
      "[CV] metric=<function calculate_distance at 0x000002C8A5544EA0>, metric_params={'dist_type': 'euclid'}, n_neighbors=7 \n",
      "[CV]  metric=<function calculate_distance at 0x000002C8A5544EA0>, metric_params={'dist_type': 'euclid'}, n_neighbors=7, score=0.24154589371980675, total=   5.0s\n",
      "[CV] metric=<function calculate_distance at 0x000002C8A5544EA0>, metric_params={'dist_type': 'euclid'}, n_neighbors=8 \n",
      "[CV]  metric=<function calculate_distance at 0x000002C8A5544EA0>, metric_params={'dist_type': 'euclid'}, n_neighbors=8, score=0.21256038647342995, total=   5.0s\n",
      "[CV] metric=<function calculate_distance at 0x000002C8A5544EA0>, metric_params={'dist_type': 'euclid'}, n_neighbors=9 \n",
      "[CV]  metric=<function calculate_distance at 0x000002C8A5544EA0>, metric_params={'dist_type': 'euclid'}, n_neighbors=9, score=0.20772946859903382, total=   4.9s\n",
      "[CV] metric=<function calculate_distance at 0x000002C8A5544EA0>, metric_params={'dist_type': 'euclid'}, n_neighbors=10 \n",
      "[CV]  metric=<function calculate_distance at 0x000002C8A5544EA0>, metric_params={'dist_type': 'euclid'}, n_neighbors=10, score=0.22705314009661837, total=   5.0s\n"
     ]
    },
    {
     "name": "stderr",
     "output_type": "stream",
     "text": [
      "[Parallel(n_jobs=1)]: Done  10 out of  10 | elapsed:  4.1min finished\n"
     ]
    }
   ],
   "source": [
    "for nr in frame_numbers:\n",
    "    print(nr)\n",
    "    try:\n",
    "        emg_train_input, emg_train_label = prepare_data(train, nr, 'emg', verbose=False)\n",
    "        emg_valid_input, emg_valid_label = prepare_data(valid, nr, 'emg', verbose=False)\n",
    "\n",
    "        kNN = GridSearchCV(KNeighborsClassifier(), parameters, cv=cross_valid, scoring='accuracy', n_jobs=parallel_jobs,\n",
    "                           verbose=verbose_level).fit(np.append(emg_train_input, emg_valid_input, axis=0),\n",
    "                                                      np.append(emg_train_label, emg_valid_label))\n",
    "        result = (kNN.best_score_, nr, kNN.best_params_)\n",
    "        \n",
    "        if result[0] > euclid_emg[0]:\n",
    "            euclid_emg = result\n",
    "        \n",
    "    except ValueError as err:\n",
    "        pass"
   ]
  },
  {
   "cell_type": "code",
   "execution_count": 41,
   "metadata": {},
   "outputs": [
    {
     "name": "stdout",
     "output_type": "stream",
     "text": [
      "(0.66666666666666663, 4, {'metric': <function calculate_distance at 0x000002C8A5544EA0>, 'metric_params': {'dist_type': 'euclid'}, 'n_neighbors': 1})\n",
      "(0.49758454106280192, 4, {'metric': <function calculate_distance at 0x000002C8A5544EA0>, 'metric_params': {'dist_type': 'euclid'}, 'n_neighbors': 1})\n",
      "(0.45893719806763283, 12, {'metric': <function calculate_distance at 0x000002C8A5544EA0>, 'metric_params': {'dist_type': 'euclid'}, 'n_neighbors': 1})\n",
      "(0.57971014492753625, 12, {'metric': <function calculate_distance at 0x000002C8A5544EA0>, 'metric_params': {'dist_type': 'euclid'}, 'n_neighbors': 1})\n"
     ]
    }
   ],
   "source": [
    "print(euclid_acc, end='\\n')\n",
    "print(euclid_gyro, end='\\n')\n",
    "print(euclid_ori, end='\\n')\n",
    "print(euclid_emg, end='\\n')"
   ]
  },
  {
   "cell_type": "markdown",
   "metadata": {},
   "source": [
    "## k Nearest Neighbour - pearson"
   ]
  },
  {
   "cell_type": "code",
   "execution_count": 42,
   "metadata": {
    "collapsed": true
   },
   "outputs": [],
   "source": [
    "parameters = [{'n_neighbors':[1,2,3,4,5,6,7,8,9,10],\n",
    "               'metric':[calculate_distance], 'metric_params':[{'dist_type':'pearson'}]}]\n",
    "frame_numbers = list(range(1,13))\n",
    "cross_valid = ShuffleSplit(n_splits=1, test_size=0.2, random_state=random_seed)\n",
    "\n",
    "parallel_jobs = 1\n",
    "verbose_level = 3"
   ]
  },
  {
   "cell_type": "code",
   "execution_count": 43,
   "metadata": {
    "collapsed": true
   },
   "outputs": [],
   "source": [
    "pearson_acc = (0, 0)\n",
    "pearson_gyro = (0, 0)\n",
    "pearson_ori = (0, 0)\n",
    "pearson_emg = (0, 0)"
   ]
  },
  {
   "cell_type": "markdown",
   "metadata": {},
   "source": [
    "### Accelerometer"
   ]
  },
  {
   "cell_type": "code",
   "execution_count": 44,
   "metadata": {
    "scrolled": true
   },
   "outputs": [
    {
     "name": "stdout",
     "output_type": "stream",
     "text": [
      "1\n",
      "Fitting 1 folds for each of 10 candidates, totalling 10 fits\n",
      "[CV] metric=<function calculate_distance at 0x000002C8A5544EA0>, metric_params={'dist_type': 'pearson'}, n_neighbors=1 \n",
      "[CV]  metric=<function calculate_distance at 0x000002C8A5544EA0>, metric_params={'dist_type': 'pearson'}, n_neighbors=1, score=0.47115384615384615, total=   7.6s\n",
      "[CV] metric=<function calculate_distance at 0x000002C8A5544EA0>, metric_params={'dist_type': 'pearson'}, n_neighbors=2 \n"
     ]
    },
    {
     "name": "stderr",
     "output_type": "stream",
     "text": [
      "[Parallel(n_jobs=1)]: Done   1 out of   1 | elapsed:   36.7s remaining:    0.0s\n"
     ]
    },
    {
     "name": "stdout",
     "output_type": "stream",
     "text": [
      "[CV]  metric=<function calculate_distance at 0x000002C8A5544EA0>, metric_params={'dist_type': 'pearson'}, n_neighbors=2, score=0.4423076923076923, total=   8.0s\n",
      "[CV] metric=<function calculate_distance at 0x000002C8A5544EA0>, metric_params={'dist_type': 'pearson'}, n_neighbors=3 \n"
     ]
    },
    {
     "name": "stderr",
     "output_type": "stream",
     "text": [
      "[Parallel(n_jobs=1)]: Done   2 out of   2 | elapsed:  1.3min remaining:    0.0s\n"
     ]
    },
    {
     "name": "stdout",
     "output_type": "stream",
     "text": [
      "[CV]  metric=<function calculate_distance at 0x000002C8A5544EA0>, metric_params={'dist_type': 'pearson'}, n_neighbors=3, score=0.40865384615384615, total=   8.0s\n",
      "[CV] metric=<function calculate_distance at 0x000002C8A5544EA0>, metric_params={'dist_type': 'pearson'}, n_neighbors=4 \n",
      "[CV]  metric=<function calculate_distance at 0x000002C8A5544EA0>, metric_params={'dist_type': 'pearson'}, n_neighbors=4, score=0.3701923076923077, total=   8.0s\n",
      "[CV] metric=<function calculate_distance at 0x000002C8A5544EA0>, metric_params={'dist_type': 'pearson'}, n_neighbors=5 \n",
      "[CV]  metric=<function calculate_distance at 0x000002C8A5544EA0>, metric_params={'dist_type': 'pearson'}, n_neighbors=5, score=0.32211538461538464, total=   8.1s\n",
      "[CV] metric=<function calculate_distance at 0x000002C8A5544EA0>, metric_params={'dist_type': 'pearson'}, n_neighbors=6 \n",
      "[CV]  metric=<function calculate_distance at 0x000002C8A5544EA0>, metric_params={'dist_type': 'pearson'}, n_neighbors=6, score=0.32211538461538464, total=   8.1s\n",
      "[CV] metric=<function calculate_distance at 0x000002C8A5544EA0>, metric_params={'dist_type': 'pearson'}, n_neighbors=7 \n",
      "[CV]  metric=<function calculate_distance at 0x000002C8A5544EA0>, metric_params={'dist_type': 'pearson'}, n_neighbors=7, score=0.2980769230769231, total=   8.5s\n",
      "[CV] metric=<function calculate_distance at 0x000002C8A5544EA0>, metric_params={'dist_type': 'pearson'}, n_neighbors=8 \n",
      "[CV]  metric=<function calculate_distance at 0x000002C8A5544EA0>, metric_params={'dist_type': 'pearson'}, n_neighbors=8, score=0.2644230769230769, total=   8.3s\n",
      "[CV] metric=<function calculate_distance at 0x000002C8A5544EA0>, metric_params={'dist_type': 'pearson'}, n_neighbors=9 \n",
      "[CV]  metric=<function calculate_distance at 0x000002C8A5544EA0>, metric_params={'dist_type': 'pearson'}, n_neighbors=9, score=0.2692307692307692, total=   8.4s\n",
      "[CV] metric=<function calculate_distance at 0x000002C8A5544EA0>, metric_params={'dist_type': 'pearson'}, n_neighbors=10 \n",
      "[CV]  metric=<function calculate_distance at 0x000002C8A5544EA0>, metric_params={'dist_type': 'pearson'}, n_neighbors=10, score=0.25, total=   8.2s\n"
     ]
    },
    {
     "name": "stderr",
     "output_type": "stream",
     "text": [
      "[Parallel(n_jobs=1)]: Done  10 out of  10 | elapsed:  6.6min finished\n"
     ]
    },
    {
     "name": "stdout",
     "output_type": "stream",
     "text": [
      "2\n",
      "Fitting 1 folds for each of 10 candidates, totalling 10 fits\n",
      "[CV] metric=<function calculate_distance at 0x000002C8A5544EA0>, metric_params={'dist_type': 'pearson'}, n_neighbors=1 \n",
      "[CV]  metric=<function calculate_distance at 0x000002C8A5544EA0>, metric_params={'dist_type': 'pearson'}, n_neighbors=1, score=0.5458937198067633, total=   8.5s\n",
      "[CV] metric=<function calculate_distance at 0x000002C8A5544EA0>, metric_params={'dist_type': 'pearson'}, n_neighbors=2 \n"
     ]
    },
    {
     "name": "stderr",
     "output_type": "stream",
     "text": [
      "[Parallel(n_jobs=1)]: Done   1 out of   1 | elapsed:   40.7s remaining:    0.0s\n"
     ]
    },
    {
     "name": "stdout",
     "output_type": "stream",
     "text": [
      "[CV]  metric=<function calculate_distance at 0x000002C8A5544EA0>, metric_params={'dist_type': 'pearson'}, n_neighbors=2, score=0.4782608695652174, total=   8.5s\n",
      "[CV] metric=<function calculate_distance at 0x000002C8A5544EA0>, metric_params={'dist_type': 'pearson'}, n_neighbors=3 \n"
     ]
    },
    {
     "name": "stderr",
     "output_type": "stream",
     "text": [
      "[Parallel(n_jobs=1)]: Done   2 out of   2 | elapsed:  1.4min remaining:    0.0s\n"
     ]
    },
    {
     "name": "stdout",
     "output_type": "stream",
     "text": [
      "[CV]  metric=<function calculate_distance at 0x000002C8A5544EA0>, metric_params={'dist_type': 'pearson'}, n_neighbors=3, score=0.4492753623188406, total=   8.7s\n",
      "[CV] metric=<function calculate_distance at 0x000002C8A5544EA0>, metric_params={'dist_type': 'pearson'}, n_neighbors=4 \n",
      "[CV]  metric=<function calculate_distance at 0x000002C8A5544EA0>, metric_params={'dist_type': 'pearson'}, n_neighbors=4, score=0.42028985507246375, total=   8.9s\n",
      "[CV] metric=<function calculate_distance at 0x000002C8A5544EA0>, metric_params={'dist_type': 'pearson'}, n_neighbors=5 \n",
      "[CV]  metric=<function calculate_distance at 0x000002C8A5544EA0>, metric_params={'dist_type': 'pearson'}, n_neighbors=5, score=0.3864734299516908, total=   9.0s\n",
      "[CV] metric=<function calculate_distance at 0x000002C8A5544EA0>, metric_params={'dist_type': 'pearson'}, n_neighbors=6 \n",
      "[CV]  metric=<function calculate_distance at 0x000002C8A5544EA0>, metric_params={'dist_type': 'pearson'}, n_neighbors=6, score=0.3140096618357488, total=   8.9s\n",
      "[CV] metric=<function calculate_distance at 0x000002C8A5544EA0>, metric_params={'dist_type': 'pearson'}, n_neighbors=7 \n",
      "[CV]  metric=<function calculate_distance at 0x000002C8A5544EA0>, metric_params={'dist_type': 'pearson'}, n_neighbors=7, score=0.2995169082125604, total=   8.9s\n",
      "[CV] metric=<function calculate_distance at 0x000002C8A5544EA0>, metric_params={'dist_type': 'pearson'}, n_neighbors=8 \n",
      "[CV]  metric=<function calculate_distance at 0x000002C8A5544EA0>, metric_params={'dist_type': 'pearson'}, n_neighbors=8, score=0.28019323671497587, total=   9.3s\n",
      "[CV] metric=<function calculate_distance at 0x000002C8A5544EA0>, metric_params={'dist_type': 'pearson'}, n_neighbors=9 \n",
      "[CV]  metric=<function calculate_distance at 0x000002C8A5544EA0>, metric_params={'dist_type': 'pearson'}, n_neighbors=9, score=0.26570048309178745, total=   9.2s\n",
      "[CV] metric=<function calculate_distance at 0x000002C8A5544EA0>, metric_params={'dist_type': 'pearson'}, n_neighbors=10 \n",
      "[CV]  metric=<function calculate_distance at 0x000002C8A5544EA0>, metric_params={'dist_type': 'pearson'}, n_neighbors=10, score=0.2463768115942029, total=   9.2s\n"
     ]
    },
    {
     "name": "stderr",
     "output_type": "stream",
     "text": [
      "[Parallel(n_jobs=1)]: Done  10 out of  10 | elapsed:  7.2min finished\n"
     ]
    },
    {
     "name": "stdout",
     "output_type": "stream",
     "text": [
      "3\n",
      "Fitting 1 folds for each of 10 candidates, totalling 10 fits\n",
      "[CV] metric=<function calculate_distance at 0x000002C8A5544EA0>, metric_params={'dist_type': 'pearson'}, n_neighbors=1 \n",
      "[CV]  metric=<function calculate_distance at 0x000002C8A5544EA0>, metric_params={'dist_type': 'pearson'}, n_neighbors=1, score=0.6473429951690821, total=  10.5s\n",
      "[CV] metric=<function calculate_distance at 0x000002C8A5544EA0>, metric_params={'dist_type': 'pearson'}, n_neighbors=2 \n"
     ]
    },
    {
     "name": "stderr",
     "output_type": "stream",
     "text": [
      "[Parallel(n_jobs=1)]: Done   1 out of   1 | elapsed:   51.7s remaining:    0.0s\n"
     ]
    },
    {
     "name": "stdout",
     "output_type": "stream",
     "text": [
      "[CV]  metric=<function calculate_distance at 0x000002C8A5544EA0>, metric_params={'dist_type': 'pearson'}, n_neighbors=2, score=0.5845410628019324, total=  10.9s\n",
      "[CV] metric=<function calculate_distance at 0x000002C8A5544EA0>, metric_params={'dist_type': 'pearson'}, n_neighbors=3 \n"
     ]
    },
    {
     "name": "stderr",
     "output_type": "stream",
     "text": [
      "[Parallel(n_jobs=1)]: Done   2 out of   2 | elapsed:  1.7min remaining:    0.0s\n"
     ]
    },
    {
     "name": "stdout",
     "output_type": "stream",
     "text": [
      "[CV]  metric=<function calculate_distance at 0x000002C8A5544EA0>, metric_params={'dist_type': 'pearson'}, n_neighbors=3, score=0.5652173913043478, total=  10.9s\n",
      "[CV] metric=<function calculate_distance at 0x000002C8A5544EA0>, metric_params={'dist_type': 'pearson'}, n_neighbors=4 \n",
      "[CV]  metric=<function calculate_distance at 0x000002C8A5544EA0>, metric_params={'dist_type': 'pearson'}, n_neighbors=4, score=0.5217391304347826, total=  12.2s\n",
      "[CV] metric=<function calculate_distance at 0x000002C8A5544EA0>, metric_params={'dist_type': 'pearson'}, n_neighbors=5 \n",
      "[CV]  metric=<function calculate_distance at 0x000002C8A5544EA0>, metric_params={'dist_type': 'pearson'}, n_neighbors=5, score=0.4492753623188406, total=  11.6s\n",
      "[CV] metric=<function calculate_distance at 0x000002C8A5544EA0>, metric_params={'dist_type': 'pearson'}, n_neighbors=6 \n",
      "[CV]  metric=<function calculate_distance at 0x000002C8A5544EA0>, metric_params={'dist_type': 'pearson'}, n_neighbors=6, score=0.42995169082125606, total=  11.1s\n",
      "[CV] metric=<function calculate_distance at 0x000002C8A5544EA0>, metric_params={'dist_type': 'pearson'}, n_neighbors=7 \n",
      "[CV]  metric=<function calculate_distance at 0x000002C8A5544EA0>, metric_params={'dist_type': 'pearson'}, n_neighbors=7, score=0.3864734299516908, total=  11.2s\n",
      "[CV] metric=<function calculate_distance at 0x000002C8A5544EA0>, metric_params={'dist_type': 'pearson'}, n_neighbors=8 \n",
      "[CV]  metric=<function calculate_distance at 0x000002C8A5544EA0>, metric_params={'dist_type': 'pearson'}, n_neighbors=8, score=0.33816425120772947, total=  11.1s\n",
      "[CV] metric=<function calculate_distance at 0x000002C8A5544EA0>, metric_params={'dist_type': 'pearson'}, n_neighbors=9 \n",
      "[CV]  metric=<function calculate_distance at 0x000002C8A5544EA0>, metric_params={'dist_type': 'pearson'}, n_neighbors=9, score=0.3285024154589372, total=  11.7s\n",
      "[CV] metric=<function calculate_distance at 0x000002C8A5544EA0>, metric_params={'dist_type': 'pearson'}, n_neighbors=10 \n",
      "[CV]  metric=<function calculate_distance at 0x000002C8A5544EA0>, metric_params={'dist_type': 'pearson'}, n_neighbors=10, score=0.30434782608695654, total=  11.3s\n"
     ]
    },
    {
     "name": "stderr",
     "output_type": "stream",
     "text": [
      "[Parallel(n_jobs=1)]: Done  10 out of  10 | elapsed:  9.2min finished\n"
     ]
    },
    {
     "name": "stdout",
     "output_type": "stream",
     "text": [
      "4\n",
      "Fitting 1 folds for each of 10 candidates, totalling 10 fits\n",
      "[CV] metric=<function calculate_distance at 0x000002C8A5544EA0>, metric_params={'dist_type': 'pearson'}, n_neighbors=1 \n",
      "[CV]  metric=<function calculate_distance at 0x000002C8A5544EA0>, metric_params={'dist_type': 'pearson'}, n_neighbors=1, score=0.6666666666666666, total=  12.5s\n",
      "[CV] metric=<function calculate_distance at 0x000002C8A5544EA0>, metric_params={'dist_type': 'pearson'}, n_neighbors=2 \n"
     ]
    },
    {
     "name": "stderr",
     "output_type": "stream",
     "text": [
      "[Parallel(n_jobs=1)]: Done   1 out of   1 | elapsed:   58.8s remaining:    0.0s\n"
     ]
    },
    {
     "name": "stdout",
     "output_type": "stream",
     "text": [
      "[CV]  metric=<function calculate_distance at 0x000002C8A5544EA0>, metric_params={'dist_type': 'pearson'}, n_neighbors=2, score=0.5845410628019324, total=  12.1s\n",
      "[CV] metric=<function calculate_distance at 0x000002C8A5544EA0>, metric_params={'dist_type': 'pearson'}, n_neighbors=3 \n"
     ]
    },
    {
     "name": "stderr",
     "output_type": "stream",
     "text": [
      "[Parallel(n_jobs=1)]: Done   2 out of   2 | elapsed:  2.0min remaining:    0.0s\n"
     ]
    },
    {
     "name": "stdout",
     "output_type": "stream",
     "text": [
      "[CV]  metric=<function calculate_distance at 0x000002C8A5544EA0>, metric_params={'dist_type': 'pearson'}, n_neighbors=3, score=0.5362318840579711, total=  12.4s\n",
      "[CV] metric=<function calculate_distance at 0x000002C8A5544EA0>, metric_params={'dist_type': 'pearson'}, n_neighbors=4 \n",
      "[CV]  metric=<function calculate_distance at 0x000002C8A5544EA0>, metric_params={'dist_type': 'pearson'}, n_neighbors=4, score=0.47342995169082125, total=  12.2s\n",
      "[CV] metric=<function calculate_distance at 0x000002C8A5544EA0>, metric_params={'dist_type': 'pearson'}, n_neighbors=5 \n",
      "[CV]  metric=<function calculate_distance at 0x000002C8A5544EA0>, metric_params={'dist_type': 'pearson'}, n_neighbors=5, score=0.463768115942029, total=  12.6s\n",
      "[CV] metric=<function calculate_distance at 0x000002C8A5544EA0>, metric_params={'dist_type': 'pearson'}, n_neighbors=6 \n",
      "[CV]  metric=<function calculate_distance at 0x000002C8A5544EA0>, metric_params={'dist_type': 'pearson'}, n_neighbors=6, score=0.3961352657004831, total=  12.8s\n",
      "[CV] metric=<function calculate_distance at 0x000002C8A5544EA0>, metric_params={'dist_type': 'pearson'}, n_neighbors=7 \n",
      "[CV]  metric=<function calculate_distance at 0x000002C8A5544EA0>, metric_params={'dist_type': 'pearson'}, n_neighbors=7, score=0.357487922705314, total=  12.4s\n",
      "[CV] metric=<function calculate_distance at 0x000002C8A5544EA0>, metric_params={'dist_type': 'pearson'}, n_neighbors=8 \n",
      "[CV]  metric=<function calculate_distance at 0x000002C8A5544EA0>, metric_params={'dist_type': 'pearson'}, n_neighbors=8, score=0.34299516908212563, total=  12.5s\n",
      "[CV] metric=<function calculate_distance at 0x000002C8A5544EA0>, metric_params={'dist_type': 'pearson'}, n_neighbors=9 \n",
      "[CV]  metric=<function calculate_distance at 0x000002C8A5544EA0>, metric_params={'dist_type': 'pearson'}, n_neighbors=9, score=0.30434782608695654, total=  12.7s\n",
      "[CV] metric=<function calculate_distance at 0x000002C8A5544EA0>, metric_params={'dist_type': 'pearson'}, n_neighbors=10 \n",
      "[CV]  metric=<function calculate_distance at 0x000002C8A5544EA0>, metric_params={'dist_type': 'pearson'}, n_neighbors=10, score=0.2946859903381642, total=  12.6s\n"
     ]
    },
    {
     "name": "stderr",
     "output_type": "stream",
     "text": [
      "[Parallel(n_jobs=1)]: Done  10 out of  10 | elapsed: 10.1min finished\n"
     ]
    },
    {
     "name": "stdout",
     "output_type": "stream",
     "text": [
      "5\n",
      "Fitting 1 folds for each of 10 candidates, totalling 10 fits\n",
      "[CV] metric=<function calculate_distance at 0x000002C8A5544EA0>, metric_params={'dist_type': 'pearson'}, n_neighbors=1 \n",
      "[CV]  metric=<function calculate_distance at 0x000002C8A5544EA0>, metric_params={'dist_type': 'pearson'}, n_neighbors=1, score=0.6618357487922706, total=  13.3s\n",
      "[CV] metric=<function calculate_distance at 0x000002C8A5544EA0>, metric_params={'dist_type': 'pearson'}, n_neighbors=2 \n"
     ]
    },
    {
     "name": "stderr",
     "output_type": "stream",
     "text": [
      "[Parallel(n_jobs=1)]: Done   1 out of   1 | elapsed:  1.1min remaining:    0.0s\n"
     ]
    },
    {
     "name": "stdout",
     "output_type": "stream",
     "text": [
      "[CV]  metric=<function calculate_distance at 0x000002C8A5544EA0>, metric_params={'dist_type': 'pearson'}, n_neighbors=2, score=0.5700483091787439, total=  13.8s\n",
      "[CV] metric=<function calculate_distance at 0x000002C8A5544EA0>, metric_params={'dist_type': 'pearson'}, n_neighbors=3 \n"
     ]
    },
    {
     "name": "stderr",
     "output_type": "stream",
     "text": [
      "[Parallel(n_jobs=1)]: Done   2 out of   2 | elapsed:  2.2min remaining:    0.0s\n"
     ]
    },
    {
     "name": "stdout",
     "output_type": "stream",
     "text": [
      "[CV]  metric=<function calculate_distance at 0x000002C8A5544EA0>, metric_params={'dist_type': 'pearson'}, n_neighbors=3, score=0.5748792270531401, total=  13.4s\n",
      "[CV] metric=<function calculate_distance at 0x000002C8A5544EA0>, metric_params={'dist_type': 'pearson'}, n_neighbors=4 \n",
      "[CV]  metric=<function calculate_distance at 0x000002C8A5544EA0>, metric_params={'dist_type': 'pearson'}, n_neighbors=4, score=0.4927536231884058, total=  13.5s\n",
      "[CV] metric=<function calculate_distance at 0x000002C8A5544EA0>, metric_params={'dist_type': 'pearson'}, n_neighbors=5 \n",
      "[CV]  metric=<function calculate_distance at 0x000002C8A5544EA0>, metric_params={'dist_type': 'pearson'}, n_neighbors=5, score=0.43478260869565216, total=  13.5s\n",
      "[CV] metric=<function calculate_distance at 0x000002C8A5544EA0>, metric_params={'dist_type': 'pearson'}, n_neighbors=6 \n",
      "[CV]  metric=<function calculate_distance at 0x000002C8A5544EA0>, metric_params={'dist_type': 'pearson'}, n_neighbors=6, score=0.3961352657004831, total=  13.4s\n",
      "[CV] metric=<function calculate_distance at 0x000002C8A5544EA0>, metric_params={'dist_type': 'pearson'}, n_neighbors=7 \n",
      "[CV]  metric=<function calculate_distance at 0x000002C8A5544EA0>, metric_params={'dist_type': 'pearson'}, n_neighbors=7, score=0.3864734299516908, total=  13.6s\n",
      "[CV] metric=<function calculate_distance at 0x000002C8A5544EA0>, metric_params={'dist_type': 'pearson'}, n_neighbors=8 \n",
      "[CV]  metric=<function calculate_distance at 0x000002C8A5544EA0>, metric_params={'dist_type': 'pearson'}, n_neighbors=8, score=0.34299516908212563, total=  13.7s\n",
      "[CV] metric=<function calculate_distance at 0x000002C8A5544EA0>, metric_params={'dist_type': 'pearson'}, n_neighbors=9 \n",
      "[CV]  metric=<function calculate_distance at 0x000002C8A5544EA0>, metric_params={'dist_type': 'pearson'}, n_neighbors=9, score=0.33816425120772947, total=  13.9s\n",
      "[CV] metric=<function calculate_distance at 0x000002C8A5544EA0>, metric_params={'dist_type': 'pearson'}, n_neighbors=10 \n",
      "[CV]  metric=<function calculate_distance at 0x000002C8A5544EA0>, metric_params={'dist_type': 'pearson'}, n_neighbors=10, score=0.34782608695652173, total=  13.7s\n"
     ]
    },
    {
     "name": "stderr",
     "output_type": "stream",
     "text": [
      "[Parallel(n_jobs=1)]: Done  10 out of  10 | elapsed: 11.0min finished\n"
     ]
    },
    {
     "name": "stdout",
     "output_type": "stream",
     "text": [
      "6\n",
      "Fitting 1 folds for each of 10 candidates, totalling 10 fits\n",
      "[CV] metric=<function calculate_distance at 0x000002C8A5544EA0>, metric_params={'dist_type': 'pearson'}, n_neighbors=1 \n",
      "[CV]  metric=<function calculate_distance at 0x000002C8A5544EA0>, metric_params={'dist_type': 'pearson'}, n_neighbors=1, score=0.6231884057971014, total=  13.8s\n",
      "[CV] metric=<function calculate_distance at 0x000002C8A5544EA0>, metric_params={'dist_type': 'pearson'}, n_neighbors=2 \n"
     ]
    },
    {
     "name": "stderr",
     "output_type": "stream",
     "text": [
      "[Parallel(n_jobs=1)]: Done   1 out of   1 | elapsed:  1.1min remaining:    0.0s\n"
     ]
    },
    {
     "name": "stdout",
     "output_type": "stream",
     "text": [
      "[CV]  metric=<function calculate_distance at 0x000002C8A5544EA0>, metric_params={'dist_type': 'pearson'}, n_neighbors=2, score=0.5845410628019324, total=  14.1s\n",
      "[CV] metric=<function calculate_distance at 0x000002C8A5544EA0>, metric_params={'dist_type': 'pearson'}, n_neighbors=3 \n"
     ]
    },
    {
     "name": "stderr",
     "output_type": "stream",
     "text": [
      "[Parallel(n_jobs=1)]: Done   2 out of   2 | elapsed:  2.2min remaining:    0.0s\n"
     ]
    },
    {
     "name": "stdout",
     "output_type": "stream",
     "text": [
      "[CV]  metric=<function calculate_distance at 0x000002C8A5544EA0>, metric_params={'dist_type': 'pearson'}, n_neighbors=3, score=0.4975845410628019, total=  13.8s\n",
      "[CV] metric=<function calculate_distance at 0x000002C8A5544EA0>, metric_params={'dist_type': 'pearson'}, n_neighbors=4 \n",
      "[CV]  metric=<function calculate_distance at 0x000002C8A5544EA0>, metric_params={'dist_type': 'pearson'}, n_neighbors=4, score=0.4396135265700483, total=  14.2s\n",
      "[CV] metric=<function calculate_distance at 0x000002C8A5544EA0>, metric_params={'dist_type': 'pearson'}, n_neighbors=5 \n",
      "[CV]  metric=<function calculate_distance at 0x000002C8A5544EA0>, metric_params={'dist_type': 'pearson'}, n_neighbors=5, score=0.391304347826087, total=  14.4s\n",
      "[CV] metric=<function calculate_distance at 0x000002C8A5544EA0>, metric_params={'dist_type': 'pearson'}, n_neighbors=6 \n",
      "[CV]  metric=<function calculate_distance at 0x000002C8A5544EA0>, metric_params={'dist_type': 'pearson'}, n_neighbors=6, score=0.36231884057971014, total=  14.8s\n",
      "[CV] metric=<function calculate_distance at 0x000002C8A5544EA0>, metric_params={'dist_type': 'pearson'}, n_neighbors=7 \n",
      "[CV]  metric=<function calculate_distance at 0x000002C8A5544EA0>, metric_params={'dist_type': 'pearson'}, n_neighbors=7, score=0.3188405797101449, total=  14.2s\n",
      "[CV] metric=<function calculate_distance at 0x000002C8A5544EA0>, metric_params={'dist_type': 'pearson'}, n_neighbors=8 \n",
      "[CV]  metric=<function calculate_distance at 0x000002C8A5544EA0>, metric_params={'dist_type': 'pearson'}, n_neighbors=8, score=0.2995169082125604, total=  14.3s\n",
      "[CV] metric=<function calculate_distance at 0x000002C8A5544EA0>, metric_params={'dist_type': 'pearson'}, n_neighbors=9 \n",
      "[CV]  metric=<function calculate_distance at 0x000002C8A5544EA0>, metric_params={'dist_type': 'pearson'}, n_neighbors=9, score=0.3140096618357488, total=  14.8s\n",
      "[CV] metric=<function calculate_distance at 0x000002C8A5544EA0>, metric_params={'dist_type': 'pearson'}, n_neighbors=10 \n",
      "[CV]  metric=<function calculate_distance at 0x000002C8A5544EA0>, metric_params={'dist_type': 'pearson'}, n_neighbors=10, score=0.30917874396135264, total=  14.1s\n"
     ]
    },
    {
     "name": "stderr",
     "output_type": "stream",
     "text": [
      "[Parallel(n_jobs=1)]: Done  10 out of  10 | elapsed: 11.6min finished\n"
     ]
    },
    {
     "name": "stdout",
     "output_type": "stream",
     "text": [
      "7\n",
      "Fitting 1 folds for each of 10 candidates, totalling 10 fits\n",
      "[CV] metric=<function calculate_distance at 0x000002C8A5544EA0>, metric_params={'dist_type': 'pearson'}, n_neighbors=1 \n",
      "[CV]  metric=<function calculate_distance at 0x000002C8A5544EA0>, metric_params={'dist_type': 'pearson'}, n_neighbors=1, score=0.5362318840579711, total=  13.6s\n",
      "[CV] metric=<function calculate_distance at 0x000002C8A5544EA0>, metric_params={'dist_type': 'pearson'}, n_neighbors=2 \n"
     ]
    },
    {
     "name": "stderr",
     "output_type": "stream",
     "text": [
      "[Parallel(n_jobs=1)]: Done   1 out of   1 | elapsed:  1.1min remaining:    0.0s\n"
     ]
    },
    {
     "name": "stdout",
     "output_type": "stream",
     "text": [
      "[CV]  metric=<function calculate_distance at 0x000002C8A5544EA0>, metric_params={'dist_type': 'pearson'}, n_neighbors=2, score=0.45410628019323673, total=  13.8s\n",
      "[CV] metric=<function calculate_distance at 0x000002C8A5544EA0>, metric_params={'dist_type': 'pearson'}, n_neighbors=3 \n"
     ]
    },
    {
     "name": "stderr",
     "output_type": "stream",
     "text": [
      "[Parallel(n_jobs=1)]: Done   2 out of   2 | elapsed:  2.2min remaining:    0.0s\n"
     ]
    },
    {
     "name": "stdout",
     "output_type": "stream",
     "text": [
      "[CV]  metric=<function calculate_distance at 0x000002C8A5544EA0>, metric_params={'dist_type': 'pearson'}, n_neighbors=3, score=0.41545893719806765, total=  14.3s\n",
      "[CV] metric=<function calculate_distance at 0x000002C8A5544EA0>, metric_params={'dist_type': 'pearson'}, n_neighbors=4 \n",
      "[CV]  metric=<function calculate_distance at 0x000002C8A5544EA0>, metric_params={'dist_type': 'pearson'}, n_neighbors=4, score=0.43478260869565216, total=  13.7s\n",
      "[CV] metric=<function calculate_distance at 0x000002C8A5544EA0>, metric_params={'dist_type': 'pearson'}, n_neighbors=5 \n",
      "[CV]  metric=<function calculate_distance at 0x000002C8A5544EA0>, metric_params={'dist_type': 'pearson'}, n_neighbors=5, score=0.4106280193236715, total=  13.8s\n",
      "[CV] metric=<function calculate_distance at 0x000002C8A5544EA0>, metric_params={'dist_type': 'pearson'}, n_neighbors=6 \n",
      "[CV]  metric=<function calculate_distance at 0x000002C8A5544EA0>, metric_params={'dist_type': 'pearson'}, n_neighbors=6, score=0.3961352657004831, total=  13.8s\n",
      "[CV] metric=<function calculate_distance at 0x000002C8A5544EA0>, metric_params={'dist_type': 'pearson'}, n_neighbors=7 \n",
      "[CV]  metric=<function calculate_distance at 0x000002C8A5544EA0>, metric_params={'dist_type': 'pearson'}, n_neighbors=7, score=0.3526570048309179, total=  14.0s\n",
      "[CV] metric=<function calculate_distance at 0x000002C8A5544EA0>, metric_params={'dist_type': 'pearson'}, n_neighbors=8 \n",
      "[CV]  metric=<function calculate_distance at 0x000002C8A5544EA0>, metric_params={'dist_type': 'pearson'}, n_neighbors=8, score=0.33816425120772947, total=  14.0s\n",
      "[CV] metric=<function calculate_distance at 0x000002C8A5544EA0>, metric_params={'dist_type': 'pearson'}, n_neighbors=9 \n",
      "[CV]  metric=<function calculate_distance at 0x000002C8A5544EA0>, metric_params={'dist_type': 'pearson'}, n_neighbors=9, score=0.3188405797101449, total=  13.8s\n",
      "[CV] metric=<function calculate_distance at 0x000002C8A5544EA0>, metric_params={'dist_type': 'pearson'}, n_neighbors=10 \n",
      "[CV]  metric=<function calculate_distance at 0x000002C8A5544EA0>, metric_params={'dist_type': 'pearson'}, n_neighbors=10, score=0.3188405797101449, total=  12.4s\n"
     ]
    },
    {
     "name": "stderr",
     "output_type": "stream",
     "text": [
      "[Parallel(n_jobs=1)]: Done  10 out of  10 | elapsed: 11.1min finished\n"
     ]
    },
    {
     "name": "stdout",
     "output_type": "stream",
     "text": [
      "8\n",
      "Fitting 1 folds for each of 10 candidates, totalling 10 fits\n",
      "[CV] metric=<function calculate_distance at 0x000002C8A5544EA0>, metric_params={'dist_type': 'pearson'}, n_neighbors=1 \n",
      "[CV]  metric=<function calculate_distance at 0x000002C8A5544EA0>, metric_params={'dist_type': 'pearson'}, n_neighbors=1, score=0.4492753623188406, total=  11.5s\n",
      "[CV] metric=<function calculate_distance at 0x000002C8A5544EA0>, metric_params={'dist_type': 'pearson'}, n_neighbors=2 \n"
     ]
    },
    {
     "name": "stderr",
     "output_type": "stream",
     "text": [
      "[Parallel(n_jobs=1)]: Done   1 out of   1 | elapsed:  1.0min remaining:    0.0s\n"
     ]
    },
    {
     "name": "stdout",
     "output_type": "stream",
     "text": [
      "[CV]  metric=<function calculate_distance at 0x000002C8A5544EA0>, metric_params={'dist_type': 'pearson'}, n_neighbors=2, score=0.42028985507246375, total=  12.8s\n",
      "[CV] metric=<function calculate_distance at 0x000002C8A5544EA0>, metric_params={'dist_type': 'pearson'}, n_neighbors=3 \n"
     ]
    },
    {
     "name": "stderr",
     "output_type": "stream",
     "text": [
      "[Parallel(n_jobs=1)]: Done   2 out of   2 | elapsed:  2.0min remaining:    0.0s\n"
     ]
    },
    {
     "name": "stdout",
     "output_type": "stream",
     "text": [
      "[CV]  metric=<function calculate_distance at 0x000002C8A5544EA0>, metric_params={'dist_type': 'pearson'}, n_neighbors=3, score=0.38164251207729466, total=  13.0s\n",
      "[CV] metric=<function calculate_distance at 0x000002C8A5544EA0>, metric_params={'dist_type': 'pearson'}, n_neighbors=4 \n",
      "[CV]  metric=<function calculate_distance at 0x000002C8A5544EA0>, metric_params={'dist_type': 'pearson'}, n_neighbors=4, score=0.34299516908212563, total=  13.1s\n",
      "[CV] metric=<function calculate_distance at 0x000002C8A5544EA0>, metric_params={'dist_type': 'pearson'}, n_neighbors=5 \n",
      "[CV]  metric=<function calculate_distance at 0x000002C8A5544EA0>, metric_params={'dist_type': 'pearson'}, n_neighbors=5, score=0.3285024154589372, total=  13.2s\n",
      "[CV] metric=<function calculate_distance at 0x000002C8A5544EA0>, metric_params={'dist_type': 'pearson'}, n_neighbors=6 \n",
      "[CV]  metric=<function calculate_distance at 0x000002C8A5544EA0>, metric_params={'dist_type': 'pearson'}, n_neighbors=6, score=0.32367149758454106, total=  13.4s\n",
      "[CV] metric=<function calculate_distance at 0x000002C8A5544EA0>, metric_params={'dist_type': 'pearson'}, n_neighbors=7 \n",
      "[CV]  metric=<function calculate_distance at 0x000002C8A5544EA0>, metric_params={'dist_type': 'pearson'}, n_neighbors=7, score=0.3188405797101449, total=  13.3s\n",
      "[CV] metric=<function calculate_distance at 0x000002C8A5544EA0>, metric_params={'dist_type': 'pearson'}, n_neighbors=8 \n",
      "[CV]  metric=<function calculate_distance at 0x000002C8A5544EA0>, metric_params={'dist_type': 'pearson'}, n_neighbors=8, score=0.30917874396135264, total=  13.2s\n",
      "[CV] metric=<function calculate_distance at 0x000002C8A5544EA0>, metric_params={'dist_type': 'pearson'}, n_neighbors=9 \n",
      "[CV]  metric=<function calculate_distance at 0x000002C8A5544EA0>, metric_params={'dist_type': 'pearson'}, n_neighbors=9, score=0.28019323671497587, total=  13.3s\n",
      "[CV] metric=<function calculate_distance at 0x000002C8A5544EA0>, metric_params={'dist_type': 'pearson'}, n_neighbors=10 \n",
      "[CV]  metric=<function calculate_distance at 0x000002C8A5544EA0>, metric_params={'dist_type': 'pearson'}, n_neighbors=10, score=0.28019323671497587, total=  13.3s\n"
     ]
    },
    {
     "name": "stderr",
     "output_type": "stream",
     "text": [
      "[Parallel(n_jobs=1)]: Done  10 out of  10 | elapsed: 10.6min finished\n"
     ]
    },
    {
     "name": "stdout",
     "output_type": "stream",
     "text": [
      "9\n",
      "Fitting 1 folds for each of 10 candidates, totalling 10 fits\n",
      "[CV] metric=<function calculate_distance at 0x000002C8A5544EA0>, metric_params={'dist_type': 'pearson'}, n_neighbors=1 \n",
      "[CV]  metric=<function calculate_distance at 0x000002C8A5544EA0>, metric_params={'dist_type': 'pearson'}, n_neighbors=1, score=0.3671497584541063, total=  13.1s\n",
      "[CV] metric=<function calculate_distance at 0x000002C8A5544EA0>, metric_params={'dist_type': 'pearson'}, n_neighbors=2 \n"
     ]
    },
    {
     "name": "stderr",
     "output_type": "stream",
     "text": [
      "[Parallel(n_jobs=1)]: Done   1 out of   1 | elapsed:  1.0min remaining:    0.0s\n"
     ]
    },
    {
     "name": "stdout",
     "output_type": "stream",
     "text": [
      "[CV]  metric=<function calculate_distance at 0x000002C8A5544EA0>, metric_params={'dist_type': 'pearson'}, n_neighbors=2, score=0.3285024154589372, total=  13.5s\n",
      "[CV] metric=<function calculate_distance at 0x000002C8A5544EA0>, metric_params={'dist_type': 'pearson'}, n_neighbors=3 \n"
     ]
    },
    {
     "name": "stderr",
     "output_type": "stream",
     "text": [
      "[Parallel(n_jobs=1)]: Done   2 out of   2 | elapsed:  2.1min remaining:    0.0s\n"
     ]
    },
    {
     "name": "stdout",
     "output_type": "stream",
     "text": [
      "[CV]  metric=<function calculate_distance at 0x000002C8A5544EA0>, metric_params={'dist_type': 'pearson'}, n_neighbors=3, score=0.27053140096618356, total=  15.3s\n",
      "[CV] metric=<function calculate_distance at 0x000002C8A5544EA0>, metric_params={'dist_type': 'pearson'}, n_neighbors=4 \n",
      "[CV]  metric=<function calculate_distance at 0x000002C8A5544EA0>, metric_params={'dist_type': 'pearson'}, n_neighbors=4, score=0.28019323671497587, total=  13.2s\n",
      "[CV] metric=<function calculate_distance at 0x000002C8A5544EA0>, metric_params={'dist_type': 'pearson'}, n_neighbors=5 \n",
      "[CV]  metric=<function calculate_distance at 0x000002C8A5544EA0>, metric_params={'dist_type': 'pearson'}, n_neighbors=5, score=0.26570048309178745, total=  13.4s\n",
      "[CV] metric=<function calculate_distance at 0x000002C8A5544EA0>, metric_params={'dist_type': 'pearson'}, n_neighbors=6 \n",
      "[CV]  metric=<function calculate_distance at 0x000002C8A5544EA0>, metric_params={'dist_type': 'pearson'}, n_neighbors=6, score=0.24154589371980675, total=  13.4s\n",
      "[CV] metric=<function calculate_distance at 0x000002C8A5544EA0>, metric_params={'dist_type': 'pearson'}, n_neighbors=7 \n",
      "[CV]  metric=<function calculate_distance at 0x000002C8A5544EA0>, metric_params={'dist_type': 'pearson'}, n_neighbors=7, score=0.24154589371980675, total=  13.5s\n",
      "[CV] metric=<function calculate_distance at 0x000002C8A5544EA0>, metric_params={'dist_type': 'pearson'}, n_neighbors=8 \n",
      "[CV]  metric=<function calculate_distance at 0x000002C8A5544EA0>, metric_params={'dist_type': 'pearson'}, n_neighbors=8, score=0.2318840579710145, total=  13.5s\n",
      "[CV] metric=<function calculate_distance at 0x000002C8A5544EA0>, metric_params={'dist_type': 'pearson'}, n_neighbors=9 \n",
      "[CV]  metric=<function calculate_distance at 0x000002C8A5544EA0>, metric_params={'dist_type': 'pearson'}, n_neighbors=9, score=0.2560386473429952, total=  13.6s\n",
      "[CV] metric=<function calculate_distance at 0x000002C8A5544EA0>, metric_params={'dist_type': 'pearson'}, n_neighbors=10 \n",
      "[CV]  metric=<function calculate_distance at 0x000002C8A5544EA0>, metric_params={'dist_type': 'pearson'}, n_neighbors=10, score=0.24154589371980675, total=  13.5s\n"
     ]
    },
    {
     "name": "stderr",
     "output_type": "stream",
     "text": [
      "[Parallel(n_jobs=1)]: Done  10 out of  10 | elapsed: 11.0min finished\n"
     ]
    },
    {
     "name": "stdout",
     "output_type": "stream",
     "text": [
      "10\n",
      "Fitting 1 folds for each of 10 candidates, totalling 10 fits\n",
      "[CV] metric=<function calculate_distance at 0x000002C8A5544EA0>, metric_params={'dist_type': 'pearson'}, n_neighbors=1 \n",
      "[CV]  metric=<function calculate_distance at 0x000002C8A5544EA0>, metric_params={'dist_type': 'pearson'}, n_neighbors=1, score=0.33816425120772947, total=  12.4s\n",
      "[CV] metric=<function calculate_distance at 0x000002C8A5544EA0>, metric_params={'dist_type': 'pearson'}, n_neighbors=2 \n"
     ]
    },
    {
     "name": "stderr",
     "output_type": "stream",
     "text": [
      "[Parallel(n_jobs=1)]: Done   1 out of   1 | elapsed:   58.2s remaining:    0.0s\n"
     ]
    },
    {
     "name": "stdout",
     "output_type": "stream",
     "text": [
      "[CV]  metric=<function calculate_distance at 0x000002C8A5544EA0>, metric_params={'dist_type': 'pearson'}, n_neighbors=2, score=0.2898550724637681, total=  15.1s\n",
      "[CV] metric=<function calculate_distance at 0x000002C8A5544EA0>, metric_params={'dist_type': 'pearson'}, n_neighbors=3 \n"
     ]
    },
    {
     "name": "stderr",
     "output_type": "stream",
     "text": [
      "[Parallel(n_jobs=1)]: Done   2 out of   2 | elapsed:  2.2min remaining:    0.0s\n"
     ]
    },
    {
     "name": "stdout",
     "output_type": "stream",
     "text": [
      "[CV]  metric=<function calculate_distance at 0x000002C8A5544EA0>, metric_params={'dist_type': 'pearson'}, n_neighbors=3, score=0.26570048309178745, total=  15.2s\n",
      "[CV] metric=<function calculate_distance at 0x000002C8A5544EA0>, metric_params={'dist_type': 'pearson'}, n_neighbors=4 \n",
      "[CV]  metric=<function calculate_distance at 0x000002C8A5544EA0>, metric_params={'dist_type': 'pearson'}, n_neighbors=4, score=0.2608695652173913, total=  15.1s\n",
      "[CV] metric=<function calculate_distance at 0x000002C8A5544EA0>, metric_params={'dist_type': 'pearson'}, n_neighbors=5 \n",
      "[CV]  metric=<function calculate_distance at 0x000002C8A5544EA0>, metric_params={'dist_type': 'pearson'}, n_neighbors=5, score=0.26570048309178745, total=  15.0s\n",
      "[CV] metric=<function calculate_distance at 0x000002C8A5544EA0>, metric_params={'dist_type': 'pearson'}, n_neighbors=6 \n",
      "[CV]  metric=<function calculate_distance at 0x000002C8A5544EA0>, metric_params={'dist_type': 'pearson'}, n_neighbors=6, score=0.2463768115942029, total=  13.9s\n",
      "[CV] metric=<function calculate_distance at 0x000002C8A5544EA0>, metric_params={'dist_type': 'pearson'}, n_neighbors=7 \n",
      "[CV]  metric=<function calculate_distance at 0x000002C8A5544EA0>, metric_params={'dist_type': 'pearson'}, n_neighbors=7, score=0.26570048309178745, total=  14.7s\n",
      "[CV] metric=<function calculate_distance at 0x000002C8A5544EA0>, metric_params={'dist_type': 'pearson'}, n_neighbors=8 \n",
      "[CV]  metric=<function calculate_distance at 0x000002C8A5544EA0>, metric_params={'dist_type': 'pearson'}, n_neighbors=8, score=0.2463768115942029, total=  13.7s\n",
      "[CV] metric=<function calculate_distance at 0x000002C8A5544EA0>, metric_params={'dist_type': 'pearson'}, n_neighbors=9 \n",
      "[CV]  metric=<function calculate_distance at 0x000002C8A5544EA0>, metric_params={'dist_type': 'pearson'}, n_neighbors=9, score=0.2318840579710145, total=  15.3s\n",
      "[CV] metric=<function calculate_distance at 0x000002C8A5544EA0>, metric_params={'dist_type': 'pearson'}, n_neighbors=10 \n",
      "[CV]  metric=<function calculate_distance at 0x000002C8A5544EA0>, metric_params={'dist_type': 'pearson'}, n_neighbors=10, score=0.2608695652173913, total=  13.9s\n"
     ]
    },
    {
     "name": "stderr",
     "output_type": "stream",
     "text": [
      "[Parallel(n_jobs=1)]: Done  10 out of  10 | elapsed: 11.6min finished\n"
     ]
    },
    {
     "name": "stdout",
     "output_type": "stream",
     "text": [
      "11\n",
      "Fitting 1 folds for each of 10 candidates, totalling 10 fits\n",
      "[CV] metric=<function calculate_distance at 0x000002C8A5544EA0>, metric_params={'dist_type': 'pearson'}, n_neighbors=1 \n",
      "[CV]  metric=<function calculate_distance at 0x000002C8A5544EA0>, metric_params={'dist_type': 'pearson'}, n_neighbors=1, score=0.2898550724637681, total=  14.3s\n",
      "[CV] metric=<function calculate_distance at 0x000002C8A5544EA0>, metric_params={'dist_type': 'pearson'}, n_neighbors=2 \n"
     ]
    },
    {
     "name": "stderr",
     "output_type": "stream",
     "text": [
      "[Parallel(n_jobs=1)]: Done   1 out of   1 | elapsed:  1.1min remaining:    0.0s\n"
     ]
    },
    {
     "name": "stdout",
     "output_type": "stream",
     "text": [
      "[CV]  metric=<function calculate_distance at 0x000002C8A5544EA0>, metric_params={'dist_type': 'pearson'}, n_neighbors=2, score=0.28019323671497587, total=  15.4s\n",
      "[CV] metric=<function calculate_distance at 0x000002C8A5544EA0>, metric_params={'dist_type': 'pearson'}, n_neighbors=3 \n"
     ]
    },
    {
     "name": "stderr",
     "output_type": "stream",
     "text": [
      "[Parallel(n_jobs=1)]: Done   2 out of   2 | elapsed:  2.3min remaining:    0.0s\n"
     ]
    },
    {
     "name": "stdout",
     "output_type": "stream",
     "text": [
      "[CV]  metric=<function calculate_distance at 0x000002C8A5544EA0>, metric_params={'dist_type': 'pearson'}, n_neighbors=3, score=0.2608695652173913, total=  14.5s\n",
      "[CV] metric=<function calculate_distance at 0x000002C8A5544EA0>, metric_params={'dist_type': 'pearson'}, n_neighbors=4 \n",
      "[CV]  metric=<function calculate_distance at 0x000002C8A5544EA0>, metric_params={'dist_type': 'pearson'}, n_neighbors=4, score=0.24154589371980675, total=  14.4s\n",
      "[CV] metric=<function calculate_distance at 0x000002C8A5544EA0>, metric_params={'dist_type': 'pearson'}, n_neighbors=5 \n",
      "[CV]  metric=<function calculate_distance at 0x000002C8A5544EA0>, metric_params={'dist_type': 'pearson'}, n_neighbors=5, score=0.22705314009661837, total=  14.4s\n",
      "[CV] metric=<function calculate_distance at 0x000002C8A5544EA0>, metric_params={'dist_type': 'pearson'}, n_neighbors=6 \n",
      "[CV]  metric=<function calculate_distance at 0x000002C8A5544EA0>, metric_params={'dist_type': 'pearson'}, n_neighbors=6, score=0.21256038647342995, total=  12.5s\n",
      "[CV] metric=<function calculate_distance at 0x000002C8A5544EA0>, metric_params={'dist_type': 'pearson'}, n_neighbors=7 \n",
      "[CV]  metric=<function calculate_distance at 0x000002C8A5544EA0>, metric_params={'dist_type': 'pearson'}, n_neighbors=7, score=0.2222222222222222, total=  12.9s\n",
      "[CV] metric=<function calculate_distance at 0x000002C8A5544EA0>, metric_params={'dist_type': 'pearson'}, n_neighbors=8 \n",
      "[CV]  metric=<function calculate_distance at 0x000002C8A5544EA0>, metric_params={'dist_type': 'pearson'}, n_neighbors=8, score=0.21739130434782608, total=  12.5s\n",
      "[CV] metric=<function calculate_distance at 0x000002C8A5544EA0>, metric_params={'dist_type': 'pearson'}, n_neighbors=9 \n",
      "[CV]  metric=<function calculate_distance at 0x000002C8A5544EA0>, metric_params={'dist_type': 'pearson'}, n_neighbors=9, score=0.20772946859903382, total=  12.6s\n",
      "[CV] metric=<function calculate_distance at 0x000002C8A5544EA0>, metric_params={'dist_type': 'pearson'}, n_neighbors=10 \n",
      "[CV]  metric=<function calculate_distance at 0x000002C8A5544EA0>, metric_params={'dist_type': 'pearson'}, n_neighbors=10, score=0.21739130434782608, total=  12.6s\n"
     ]
    },
    {
     "name": "stderr",
     "output_type": "stream",
     "text": [
      "[Parallel(n_jobs=1)]: Done  10 out of  10 | elapsed: 10.9min finished\n"
     ]
    },
    {
     "name": "stdout",
     "output_type": "stream",
     "text": [
      "12\n",
      "Fitting 1 folds for each of 10 candidates, totalling 10 fits\n",
      "[CV] metric=<function calculate_distance at 0x000002C8A5544EA0>, metric_params={'dist_type': 'pearson'}, n_neighbors=1 \n",
      "[CV]  metric=<function calculate_distance at 0x000002C8A5544EA0>, metric_params={'dist_type': 'pearson'}, n_neighbors=1, score=0.32367149758454106, total=  12.7s\n",
      "[CV] metric=<function calculate_distance at 0x000002C8A5544EA0>, metric_params={'dist_type': 'pearson'}, n_neighbors=2 \n"
     ]
    },
    {
     "name": "stderr",
     "output_type": "stream",
     "text": [
      "[Parallel(n_jobs=1)]: Done   1 out of   1 | elapsed:  1.0min remaining:    0.0s\n"
     ]
    },
    {
     "name": "stdout",
     "output_type": "stream",
     "text": [
      "[CV]  metric=<function calculate_distance at 0x000002C8A5544EA0>, metric_params={'dist_type': 'pearson'}, n_neighbors=2, score=0.30434782608695654, total=  12.9s\n",
      "[CV] metric=<function calculate_distance at 0x000002C8A5544EA0>, metric_params={'dist_type': 'pearson'}, n_neighbors=3 \n"
     ]
    },
    {
     "name": "stderr",
     "output_type": "stream",
     "text": [
      "[Parallel(n_jobs=1)]: Done   2 out of   2 | elapsed:  2.1min remaining:    0.0s\n"
     ]
    },
    {
     "name": "stdout",
     "output_type": "stream",
     "text": [
      "[CV]  metric=<function calculate_distance at 0x000002C8A5544EA0>, metric_params={'dist_type': 'pearson'}, n_neighbors=3, score=0.26570048309178745, total=  12.5s\n",
      "[CV] metric=<function calculate_distance at 0x000002C8A5544EA0>, metric_params={'dist_type': 'pearson'}, n_neighbors=4 \n",
      "[CV]  metric=<function calculate_distance at 0x000002C8A5544EA0>, metric_params={'dist_type': 'pearson'}, n_neighbors=4, score=0.26570048309178745, total=  13.3s\n",
      "[CV] metric=<function calculate_distance at 0x000002C8A5544EA0>, metric_params={'dist_type': 'pearson'}, n_neighbors=5 \n",
      "[CV]  metric=<function calculate_distance at 0x000002C8A5544EA0>, metric_params={'dist_type': 'pearson'}, n_neighbors=5, score=0.28502415458937197, total=  13.4s\n",
      "[CV] metric=<function calculate_distance at 0x000002C8A5544EA0>, metric_params={'dist_type': 'pearson'}, n_neighbors=6 \n",
      "[CV]  metric=<function calculate_distance at 0x000002C8A5544EA0>, metric_params={'dist_type': 'pearson'}, n_neighbors=6, score=0.27053140096618356, total=  13.8s\n",
      "[CV] metric=<function calculate_distance at 0x000002C8A5544EA0>, metric_params={'dist_type': 'pearson'}, n_neighbors=7 \n",
      "[CV]  metric=<function calculate_distance at 0x000002C8A5544EA0>, metric_params={'dist_type': 'pearson'}, n_neighbors=7, score=0.28502415458937197, total=  13.4s\n",
      "[CV] metric=<function calculate_distance at 0x000002C8A5544EA0>, metric_params={'dist_type': 'pearson'}, n_neighbors=8 \n",
      "[CV]  metric=<function calculate_distance at 0x000002C8A5544EA0>, metric_params={'dist_type': 'pearson'}, n_neighbors=8, score=0.28019323671497587, total=  13.3s\n",
      "[CV] metric=<function calculate_distance at 0x000002C8A5544EA0>, metric_params={'dist_type': 'pearson'}, n_neighbors=9 \n",
      "[CV]  metric=<function calculate_distance at 0x000002C8A5544EA0>, metric_params={'dist_type': 'pearson'}, n_neighbors=9, score=0.2463768115942029, total=  13.3s\n",
      "[CV] metric=<function calculate_distance at 0x000002C8A5544EA0>, metric_params={'dist_type': 'pearson'}, n_neighbors=10 \n",
      "[CV]  metric=<function calculate_distance at 0x000002C8A5544EA0>, metric_params={'dist_type': 'pearson'}, n_neighbors=10, score=0.25120772946859904, total=  13.4s\n"
     ]
    },
    {
     "name": "stderr",
     "output_type": "stream",
     "text": [
      "[Parallel(n_jobs=1)]: Done  10 out of  10 | elapsed: 10.8min finished\n"
     ]
    }
   ],
   "source": [
    "for nr in frame_numbers:\n",
    "    print(nr)\n",
    "    try:\n",
    "        acc_train_input, acc_train_label = prepare_data(train, nr, 'accelerometer', verbose=False)\n",
    "        acc_valid_input, acc_valid_label = prepare_data(valid, nr, 'accelerometer', verbose=False)\n",
    "\n",
    "        kNN = GridSearchCV(KNeighborsClassifier(), parameters, cv=cross_valid, scoring='accuracy', n_jobs=parallel_jobs,\n",
    "                           verbose=verbose_level).fit(np.append(acc_train_input, acc_valid_input, axis=0),\n",
    "                                                      np.append(acc_train_label, acc_valid_label))\n",
    "        result = (kNN.best_score_, nr, kNN.best_params_)\n",
    "        \n",
    "        if result[0] > pearson_acc[0]:\n",
    "            pearson_acc = result\n",
    "        \n",
    "    except ValueError as err:\n",
    "        pass"
   ]
  },
  {
   "cell_type": "markdown",
   "metadata": {},
   "source": [
    "### Gyroskop"
   ]
  },
  {
   "cell_type": "code",
   "execution_count": 45,
   "metadata": {
    "scrolled": true
   },
   "outputs": [
    {
     "name": "stdout",
     "output_type": "stream",
     "text": [
      "1\n",
      "Fitting 1 folds for each of 10 candidates, totalling 10 fits\n",
      "[CV] metric=<function calculate_distance at 0x000002C8A5544EA0>, metric_params={'dist_type': 'pearson'}, n_neighbors=1 \n",
      "[CV]  metric=<function calculate_distance at 0x000002C8A5544EA0>, metric_params={'dist_type': 'pearson'}, n_neighbors=1, score=0.22596153846153846, total=   7.0s\n",
      "[CV] metric=<function calculate_distance at 0x000002C8A5544EA0>, metric_params={'dist_type': 'pearson'}, n_neighbors=2 \n"
     ]
    },
    {
     "name": "stderr",
     "output_type": "stream",
     "text": [
      "[Parallel(n_jobs=1)]: Done   1 out of   1 | elapsed:   33.9s remaining:    0.0s\n"
     ]
    },
    {
     "name": "stdout",
     "output_type": "stream",
     "text": [
      "[CV]  metric=<function calculate_distance at 0x000002C8A5544EA0>, metric_params={'dist_type': 'pearson'}, n_neighbors=2, score=0.22115384615384615, total=   7.1s\n",
      "[CV] metric=<function calculate_distance at 0x000002C8A5544EA0>, metric_params={'dist_type': 'pearson'}, n_neighbors=3 \n"
     ]
    },
    {
     "name": "stderr",
     "output_type": "stream",
     "text": [
      "[Parallel(n_jobs=1)]: Done   2 out of   2 | elapsed:  1.1min remaining:    0.0s\n"
     ]
    },
    {
     "name": "stdout",
     "output_type": "stream",
     "text": [
      "[CV]  metric=<function calculate_distance at 0x000002C8A5544EA0>, metric_params={'dist_type': 'pearson'}, n_neighbors=3, score=0.22596153846153846, total=   7.1s\n",
      "[CV] metric=<function calculate_distance at 0x000002C8A5544EA0>, metric_params={'dist_type': 'pearson'}, n_neighbors=4 \n",
      "[CV]  metric=<function calculate_distance at 0x000002C8A5544EA0>, metric_params={'dist_type': 'pearson'}, n_neighbors=4, score=0.21634615384615385, total=   7.7s\n",
      "[CV] metric=<function calculate_distance at 0x000002C8A5544EA0>, metric_params={'dist_type': 'pearson'}, n_neighbors=5 \n",
      "[CV]  metric=<function calculate_distance at 0x000002C8A5544EA0>, metric_params={'dist_type': 'pearson'}, n_neighbors=5, score=0.23557692307692307, total=   7.1s\n",
      "[CV] metric=<function calculate_distance at 0x000002C8A5544EA0>, metric_params={'dist_type': 'pearson'}, n_neighbors=6 \n",
      "[CV]  metric=<function calculate_distance at 0x000002C8A5544EA0>, metric_params={'dist_type': 'pearson'}, n_neighbors=6, score=0.24519230769230768, total=   7.2s\n",
      "[CV] metric=<function calculate_distance at 0x000002C8A5544EA0>, metric_params={'dist_type': 'pearson'}, n_neighbors=7 \n",
      "[CV]  metric=<function calculate_distance at 0x000002C8A5544EA0>, metric_params={'dist_type': 'pearson'}, n_neighbors=7, score=0.2403846153846154, total=   7.4s\n",
      "[CV] metric=<function calculate_distance at 0x000002C8A5544EA0>, metric_params={'dist_type': 'pearson'}, n_neighbors=8 \n",
      "[CV]  metric=<function calculate_distance at 0x000002C8A5544EA0>, metric_params={'dist_type': 'pearson'}, n_neighbors=8, score=0.2403846153846154, total=   7.6s\n",
      "[CV] metric=<function calculate_distance at 0x000002C8A5544EA0>, metric_params={'dist_type': 'pearson'}, n_neighbors=9 \n",
      "[CV]  metric=<function calculate_distance at 0x000002C8A5544EA0>, metric_params={'dist_type': 'pearson'}, n_neighbors=9, score=0.2548076923076923, total=   7.6s\n",
      "[CV] metric=<function calculate_distance at 0x000002C8A5544EA0>, metric_params={'dist_type': 'pearson'}, n_neighbors=10 \n",
      "[CV]  metric=<function calculate_distance at 0x000002C8A5544EA0>, metric_params={'dist_type': 'pearson'}, n_neighbors=10, score=0.24519230769230768, total=   9.1s\n"
     ]
    },
    {
     "name": "stderr",
     "output_type": "stream",
     "text": [
      "[Parallel(n_jobs=1)]: Done  10 out of  10 | elapsed:  6.1min finished\n"
     ]
    },
    {
     "name": "stdout",
     "output_type": "stream",
     "text": [
      "2\n",
      "Fitting 1 folds for each of 10 candidates, totalling 10 fits\n",
      "[CV] metric=<function calculate_distance at 0x000002C8A5544EA0>, metric_params={'dist_type': 'pearson'}, n_neighbors=1 \n",
      "[CV]  metric=<function calculate_distance at 0x000002C8A5544EA0>, metric_params={'dist_type': 'pearson'}, n_neighbors=1, score=0.3719806763285024, total=   6.2s\n",
      "[CV] metric=<function calculate_distance at 0x000002C8A5544EA0>, metric_params={'dist_type': 'pearson'}, n_neighbors=2 \n"
     ]
    },
    {
     "name": "stderr",
     "output_type": "stream",
     "text": [
      "[Parallel(n_jobs=1)]: Done   1 out of   1 | elapsed:   29.0s remaining:    0.0s\n"
     ]
    },
    {
     "name": "stdout",
     "output_type": "stream",
     "text": [
      "[CV]  metric=<function calculate_distance at 0x000002C8A5544EA0>, metric_params={'dist_type': 'pearson'}, n_neighbors=2, score=0.34782608695652173, total=   6.3s\n",
      "[CV] metric=<function calculate_distance at 0x000002C8A5544EA0>, metric_params={'dist_type': 'pearson'}, n_neighbors=3 \n"
     ]
    },
    {
     "name": "stderr",
     "output_type": "stream",
     "text": [
      "[Parallel(n_jobs=1)]: Done   2 out of   2 | elapsed:   59.0s remaining:    0.0s\n"
     ]
    },
    {
     "name": "stdout",
     "output_type": "stream",
     "text": [
      "[CV]  metric=<function calculate_distance at 0x000002C8A5544EA0>, metric_params={'dist_type': 'pearson'}, n_neighbors=3, score=0.3333333333333333, total=   6.4s\n",
      "[CV] metric=<function calculate_distance at 0x000002C8A5544EA0>, metric_params={'dist_type': 'pearson'}, n_neighbors=4 \n",
      "[CV]  metric=<function calculate_distance at 0x000002C8A5544EA0>, metric_params={'dist_type': 'pearson'}, n_neighbors=4, score=0.3188405797101449, total=   6.5s\n",
      "[CV] metric=<function calculate_distance at 0x000002C8A5544EA0>, metric_params={'dist_type': 'pearson'}, n_neighbors=5 \n",
      "[CV]  metric=<function calculate_distance at 0x000002C8A5544EA0>, metric_params={'dist_type': 'pearson'}, n_neighbors=5, score=0.3333333333333333, total=   6.5s\n",
      "[CV] metric=<function calculate_distance at 0x000002C8A5544EA0>, metric_params={'dist_type': 'pearson'}, n_neighbors=6 \n",
      "[CV]  metric=<function calculate_distance at 0x000002C8A5544EA0>, metric_params={'dist_type': 'pearson'}, n_neighbors=6, score=0.3671497584541063, total=   6.5s\n",
      "[CV] metric=<function calculate_distance at 0x000002C8A5544EA0>, metric_params={'dist_type': 'pearson'}, n_neighbors=7 \n",
      "[CV]  metric=<function calculate_distance at 0x000002C8A5544EA0>, metric_params={'dist_type': 'pearson'}, n_neighbors=7, score=0.3526570048309179, total=   6.6s\n",
      "[CV] metric=<function calculate_distance at 0x000002C8A5544EA0>, metric_params={'dist_type': 'pearson'}, n_neighbors=8 \n",
      "[CV]  metric=<function calculate_distance at 0x000002C8A5544EA0>, metric_params={'dist_type': 'pearson'}, n_neighbors=8, score=0.34782608695652173, total=   6.5s\n",
      "[CV] metric=<function calculate_distance at 0x000002C8A5544EA0>, metric_params={'dist_type': 'pearson'}, n_neighbors=9 \n",
      "[CV]  metric=<function calculate_distance at 0x000002C8A5544EA0>, metric_params={'dist_type': 'pearson'}, n_neighbors=9, score=0.3671497584541063, total=   6.6s\n",
      "[CV] metric=<function calculate_distance at 0x000002C8A5544EA0>, metric_params={'dist_type': 'pearson'}, n_neighbors=10 \n",
      "[CV]  metric=<function calculate_distance at 0x000002C8A5544EA0>, metric_params={'dist_type': 'pearson'}, n_neighbors=10, score=0.3526570048309179, total=   6.9s\n"
     ]
    },
    {
     "name": "stderr",
     "output_type": "stream",
     "text": [
      "[Parallel(n_jobs=1)]: Done  10 out of  10 | elapsed:  5.2min finished\n"
     ]
    },
    {
     "name": "stdout",
     "output_type": "stream",
     "text": [
      "3\n",
      "Fitting 1 folds for each of 10 candidates, totalling 10 fits\n",
      "[CV] metric=<function calculate_distance at 0x000002C8A5544EA0>, metric_params={'dist_type': 'pearson'}, n_neighbors=1 \n",
      "[CV]  metric=<function calculate_distance at 0x000002C8A5544EA0>, metric_params={'dist_type': 'pearson'}, n_neighbors=1, score=0.4444444444444444, total=   8.0s\n",
      "[CV] metric=<function calculate_distance at 0x000002C8A5544EA0>, metric_params={'dist_type': 'pearson'}, n_neighbors=2 \n"
     ]
    },
    {
     "name": "stderr",
     "output_type": "stream",
     "text": [
      "[Parallel(n_jobs=1)]: Done   1 out of   1 | elapsed:   37.7s remaining:    0.0s\n"
     ]
    },
    {
     "name": "stdout",
     "output_type": "stream",
     "text": [
      "[CV]  metric=<function calculate_distance at 0x000002C8A5544EA0>, metric_params={'dist_type': 'pearson'}, n_neighbors=2, score=0.3961352657004831, total=   8.3s\n",
      "[CV] metric=<function calculate_distance at 0x000002C8A5544EA0>, metric_params={'dist_type': 'pearson'}, n_neighbors=3 \n"
     ]
    },
    {
     "name": "stderr",
     "output_type": "stream",
     "text": [
      "[Parallel(n_jobs=1)]: Done   2 out of   2 | elapsed:  1.3min remaining:    0.0s\n"
     ]
    },
    {
     "name": "stdout",
     "output_type": "stream",
     "text": [
      "[CV]  metric=<function calculate_distance at 0x000002C8A5544EA0>, metric_params={'dist_type': 'pearson'}, n_neighbors=3, score=0.34299516908212563, total=   8.2s\n",
      "[CV] metric=<function calculate_distance at 0x000002C8A5544EA0>, metric_params={'dist_type': 'pearson'}, n_neighbors=4 \n",
      "[CV]  metric=<function calculate_distance at 0x000002C8A5544EA0>, metric_params={'dist_type': 'pearson'}, n_neighbors=4, score=0.3285024154589372, total=   8.9s\n",
      "[CV] metric=<function calculate_distance at 0x000002C8A5544EA0>, metric_params={'dist_type': 'pearson'}, n_neighbors=5 \n",
      "[CV]  metric=<function calculate_distance at 0x000002C8A5544EA0>, metric_params={'dist_type': 'pearson'}, n_neighbors=5, score=0.357487922705314, total=   8.5s\n",
      "[CV] metric=<function calculate_distance at 0x000002C8A5544EA0>, metric_params={'dist_type': 'pearson'}, n_neighbors=6 \n",
      "[CV]  metric=<function calculate_distance at 0x000002C8A5544EA0>, metric_params={'dist_type': 'pearson'}, n_neighbors=6, score=0.36231884057971014, total=   8.4s\n",
      "[CV] metric=<function calculate_distance at 0x000002C8A5544EA0>, metric_params={'dist_type': 'pearson'}, n_neighbors=7 \n",
      "[CV]  metric=<function calculate_distance at 0x000002C8A5544EA0>, metric_params={'dist_type': 'pearson'}, n_neighbors=7, score=0.357487922705314, total=   8.5s\n",
      "[CV] metric=<function calculate_distance at 0x000002C8A5544EA0>, metric_params={'dist_type': 'pearson'}, n_neighbors=8 \n",
      "[CV]  metric=<function calculate_distance at 0x000002C8A5544EA0>, metric_params={'dist_type': 'pearson'}, n_neighbors=8, score=0.3719806763285024, total=   8.5s\n",
      "[CV] metric=<function calculate_distance at 0x000002C8A5544EA0>, metric_params={'dist_type': 'pearson'}, n_neighbors=9 \n",
      "[CV]  metric=<function calculate_distance at 0x000002C8A5544EA0>, metric_params={'dist_type': 'pearson'}, n_neighbors=9, score=0.3671497584541063, total=   8.5s\n",
      "[CV] metric=<function calculate_distance at 0x000002C8A5544EA0>, metric_params={'dist_type': 'pearson'}, n_neighbors=10 \n",
      "[CV]  metric=<function calculate_distance at 0x000002C8A5544EA0>, metric_params={'dist_type': 'pearson'}, n_neighbors=10, score=0.34299516908212563, total=   8.8s\n"
     ]
    },
    {
     "name": "stderr",
     "output_type": "stream",
     "text": [
      "[Parallel(n_jobs=1)]: Done  10 out of  10 | elapsed:  6.7min finished\n"
     ]
    },
    {
     "name": "stdout",
     "output_type": "stream",
     "text": [
      "4\n",
      "Fitting 1 folds for each of 10 candidates, totalling 10 fits\n",
      "[CV] metric=<function calculate_distance at 0x000002C8A5544EA0>, metric_params={'dist_type': 'pearson'}, n_neighbors=1 \n",
      "[CV]  metric=<function calculate_distance at 0x000002C8A5544EA0>, metric_params={'dist_type': 'pearson'}, n_neighbors=1, score=0.5024154589371981, total=   8.7s\n",
      "[CV] metric=<function calculate_distance at 0x000002C8A5544EA0>, metric_params={'dist_type': 'pearson'}, n_neighbors=2 \n"
     ]
    },
    {
     "name": "stderr",
     "output_type": "stream",
     "text": [
      "[Parallel(n_jobs=1)]: Done   1 out of   1 | elapsed:   41.2s remaining:    0.0s\n"
     ]
    },
    {
     "name": "stdout",
     "output_type": "stream",
     "text": [
      "[CV]  metric=<function calculate_distance at 0x000002C8A5544EA0>, metric_params={'dist_type': 'pearson'}, n_neighbors=2, score=0.4444444444444444, total=   9.3s\n",
      "[CV] metric=<function calculate_distance at 0x000002C8A5544EA0>, metric_params={'dist_type': 'pearson'}, n_neighbors=3 \n"
     ]
    },
    {
     "name": "stderr",
     "output_type": "stream",
     "text": [
      "[Parallel(n_jobs=1)]: Done   2 out of   2 | elapsed:  1.4min remaining:    0.0s\n"
     ]
    },
    {
     "name": "stdout",
     "output_type": "stream",
     "text": [
      "[CV]  metric=<function calculate_distance at 0x000002C8A5544EA0>, metric_params={'dist_type': 'pearson'}, n_neighbors=3, score=0.40096618357487923, total=   9.1s\n",
      "[CV] metric=<function calculate_distance at 0x000002C8A5544EA0>, metric_params={'dist_type': 'pearson'}, n_neighbors=4 \n",
      "[CV]  metric=<function calculate_distance at 0x000002C8A5544EA0>, metric_params={'dist_type': 'pearson'}, n_neighbors=4, score=0.4444444444444444, total=   9.2s\n",
      "[CV] metric=<function calculate_distance at 0x000002C8A5544EA0>, metric_params={'dist_type': 'pearson'}, n_neighbors=5 \n",
      "[CV]  metric=<function calculate_distance at 0x000002C8A5544EA0>, metric_params={'dist_type': 'pearson'}, n_neighbors=5, score=0.4057971014492754, total=   9.2s\n",
      "[CV] metric=<function calculate_distance at 0x000002C8A5544EA0>, metric_params={'dist_type': 'pearson'}, n_neighbors=6 \n",
      "[CV]  metric=<function calculate_distance at 0x000002C8A5544EA0>, metric_params={'dist_type': 'pearson'}, n_neighbors=6, score=0.4057971014492754, total=   9.3s\n",
      "[CV] metric=<function calculate_distance at 0x000002C8A5544EA0>, metric_params={'dist_type': 'pearson'}, n_neighbors=7 \n",
      "[CV]  metric=<function calculate_distance at 0x000002C8A5544EA0>, metric_params={'dist_type': 'pearson'}, n_neighbors=7, score=0.40096618357487923, total=   9.2s\n",
      "[CV] metric=<function calculate_distance at 0x000002C8A5544EA0>, metric_params={'dist_type': 'pearson'}, n_neighbors=8 \n",
      "[CV]  metric=<function calculate_distance at 0x000002C8A5544EA0>, metric_params={'dist_type': 'pearson'}, n_neighbors=8, score=0.37681159420289856, total=   9.8s\n",
      "[CV] metric=<function calculate_distance at 0x000002C8A5544EA0>, metric_params={'dist_type': 'pearson'}, n_neighbors=9 \n",
      "[CV]  metric=<function calculate_distance at 0x000002C8A5544EA0>, metric_params={'dist_type': 'pearson'}, n_neighbors=9, score=0.34782608695652173, total=   9.7s\n",
      "[CV] metric=<function calculate_distance at 0x000002C8A5544EA0>, metric_params={'dist_type': 'pearson'}, n_neighbors=10 \n",
      "[CV]  metric=<function calculate_distance at 0x000002C8A5544EA0>, metric_params={'dist_type': 'pearson'}, n_neighbors=10, score=0.34299516908212563, total=   9.6s\n"
     ]
    },
    {
     "name": "stderr",
     "output_type": "stream",
     "text": [
      "[Parallel(n_jobs=1)]: Done  10 out of  10 | elapsed:  7.5min finished\n"
     ]
    },
    {
     "name": "stdout",
     "output_type": "stream",
     "text": [
      "5\n",
      "Fitting 1 folds for each of 10 candidates, totalling 10 fits\n",
      "[CV] metric=<function calculate_distance at 0x000002C8A5544EA0>, metric_params={'dist_type': 'pearson'}, n_neighbors=1 \n",
      "[CV]  metric=<function calculate_distance at 0x000002C8A5544EA0>, metric_params={'dist_type': 'pearson'}, n_neighbors=1, score=0.4444444444444444, total=  10.7s\n",
      "[CV] metric=<function calculate_distance at 0x000002C8A5544EA0>, metric_params={'dist_type': 'pearson'}, n_neighbors=2 \n"
     ]
    },
    {
     "name": "stderr",
     "output_type": "stream",
     "text": [
      "[Parallel(n_jobs=1)]: Done   1 out of   1 | elapsed:   52.4s remaining:    0.0s\n"
     ]
    },
    {
     "name": "stdout",
     "output_type": "stream",
     "text": [
      "[CV]  metric=<function calculate_distance at 0x000002C8A5544EA0>, metric_params={'dist_type': 'pearson'}, n_neighbors=2, score=0.4492753623188406, total=  10.7s\n",
      "[CV] metric=<function calculate_distance at 0x000002C8A5544EA0>, metric_params={'dist_type': 'pearson'}, n_neighbors=3 \n"
     ]
    },
    {
     "name": "stderr",
     "output_type": "stream",
     "text": [
      "[Parallel(n_jobs=1)]: Done   2 out of   2 | elapsed:  1.7min remaining:    0.0s\n"
     ]
    },
    {
     "name": "stdout",
     "output_type": "stream",
     "text": [
      "[CV]  metric=<function calculate_distance at 0x000002C8A5544EA0>, metric_params={'dist_type': 'pearson'}, n_neighbors=3, score=0.38164251207729466, total=  12.2s\n",
      "[CV] metric=<function calculate_distance at 0x000002C8A5544EA0>, metric_params={'dist_type': 'pearson'}, n_neighbors=4 \n",
      "[CV]  metric=<function calculate_distance at 0x000002C8A5544EA0>, metric_params={'dist_type': 'pearson'}, n_neighbors=4, score=0.3864734299516908, total=  11.3s\n",
      "[CV] metric=<function calculate_distance at 0x000002C8A5544EA0>, metric_params={'dist_type': 'pearson'}, n_neighbors=5 \n",
      "[CV]  metric=<function calculate_distance at 0x000002C8A5544EA0>, metric_params={'dist_type': 'pearson'}, n_neighbors=5, score=0.3671497584541063, total=  11.3s\n",
      "[CV] metric=<function calculate_distance at 0x000002C8A5544EA0>, metric_params={'dist_type': 'pearson'}, n_neighbors=6 \n",
      "[CV]  metric=<function calculate_distance at 0x000002C8A5544EA0>, metric_params={'dist_type': 'pearson'}, n_neighbors=6, score=0.36231884057971014, total=  11.5s\n",
      "[CV] metric=<function calculate_distance at 0x000002C8A5544EA0>, metric_params={'dist_type': 'pearson'}, n_neighbors=7 \n",
      "[CV]  metric=<function calculate_distance at 0x000002C8A5544EA0>, metric_params={'dist_type': 'pearson'}, n_neighbors=7, score=0.34782608695652173, total=  13.2s\n",
      "[CV] metric=<function calculate_distance at 0x000002C8A5544EA0>, metric_params={'dist_type': 'pearson'}, n_neighbors=8 \n",
      "[CV]  metric=<function calculate_distance at 0x000002C8A5544EA0>, metric_params={'dist_type': 'pearson'}, n_neighbors=8, score=0.34782608695652173, total=  12.8s\n",
      "[CV] metric=<function calculate_distance at 0x000002C8A5544EA0>, metric_params={'dist_type': 'pearson'}, n_neighbors=9 \n",
      "[CV]  metric=<function calculate_distance at 0x000002C8A5544EA0>, metric_params={'dist_type': 'pearson'}, n_neighbors=9, score=0.3333333333333333, total=  11.8s\n",
      "[CV] metric=<function calculate_distance at 0x000002C8A5544EA0>, metric_params={'dist_type': 'pearson'}, n_neighbors=10 \n",
      "[CV]  metric=<function calculate_distance at 0x000002C8A5544EA0>, metric_params={'dist_type': 'pearson'}, n_neighbors=10, score=0.3140096618357488, total=  11.8s\n"
     ]
    },
    {
     "name": "stderr",
     "output_type": "stream",
     "text": [
      "[Parallel(n_jobs=1)]: Done  10 out of  10 | elapsed:  9.3min finished\n"
     ]
    },
    {
     "name": "stdout",
     "output_type": "stream",
     "text": [
      "6\n",
      "Fitting 1 folds for each of 10 candidates, totalling 10 fits\n",
      "[CV] metric=<function calculate_distance at 0x000002C8A5544EA0>, metric_params={'dist_type': 'pearson'}, n_neighbors=1 \n",
      "[CV]  metric=<function calculate_distance at 0x000002C8A5544EA0>, metric_params={'dist_type': 'pearson'}, n_neighbors=1, score=0.4782608695652174, total=  11.7s\n",
      "[CV] metric=<function calculate_distance at 0x000002C8A5544EA0>, metric_params={'dist_type': 'pearson'}, n_neighbors=2 \n"
     ]
    },
    {
     "name": "stderr",
     "output_type": "stream",
     "text": [
      "[Parallel(n_jobs=1)]: Done   1 out of   1 | elapsed:   55.5s remaining:    0.0s\n"
     ]
    },
    {
     "name": "stdout",
     "output_type": "stream",
     "text": [
      "[CV]  metric=<function calculate_distance at 0x000002C8A5544EA0>, metric_params={'dist_type': 'pearson'}, n_neighbors=2, score=0.4251207729468599, total=  12.2s\n",
      "[CV] metric=<function calculate_distance at 0x000002C8A5544EA0>, metric_params={'dist_type': 'pearson'}, n_neighbors=3 \n"
     ]
    },
    {
     "name": "stderr",
     "output_type": "stream",
     "text": [
      "[Parallel(n_jobs=1)]: Done   2 out of   2 | elapsed:  1.9min remaining:    0.0s\n"
     ]
    },
    {
     "name": "stdout",
     "output_type": "stream",
     "text": [
      "[CV]  metric=<function calculate_distance at 0x000002C8A5544EA0>, metric_params={'dist_type': 'pearson'}, n_neighbors=3, score=0.3719806763285024, total=  12.1s\n",
      "[CV] metric=<function calculate_distance at 0x000002C8A5544EA0>, metric_params={'dist_type': 'pearson'}, n_neighbors=4 \n",
      "[CV]  metric=<function calculate_distance at 0x000002C8A5544EA0>, metric_params={'dist_type': 'pearson'}, n_neighbors=4, score=0.4106280193236715, total=  12.4s\n",
      "[CV] metric=<function calculate_distance at 0x000002C8A5544EA0>, metric_params={'dist_type': 'pearson'}, n_neighbors=5 \n",
      "[CV]  metric=<function calculate_distance at 0x000002C8A5544EA0>, metric_params={'dist_type': 'pearson'}, n_neighbors=5, score=0.391304347826087, total=  12.3s\n",
      "[CV] metric=<function calculate_distance at 0x000002C8A5544EA0>, metric_params={'dist_type': 'pearson'}, n_neighbors=6 \n",
      "[CV]  metric=<function calculate_distance at 0x000002C8A5544EA0>, metric_params={'dist_type': 'pearson'}, n_neighbors=6, score=0.3526570048309179, total=  12.4s\n",
      "[CV] metric=<function calculate_distance at 0x000002C8A5544EA0>, metric_params={'dist_type': 'pearson'}, n_neighbors=7 \n",
      "[CV]  metric=<function calculate_distance at 0x000002C8A5544EA0>, metric_params={'dist_type': 'pearson'}, n_neighbors=7, score=0.357487922705314, total=  12.6s\n",
      "[CV] metric=<function calculate_distance at 0x000002C8A5544EA0>, metric_params={'dist_type': 'pearson'}, n_neighbors=8 \n",
      "[CV]  metric=<function calculate_distance at 0x000002C8A5544EA0>, metric_params={'dist_type': 'pearson'}, n_neighbors=8, score=0.357487922705314, total=  13.9s\n",
      "[CV] metric=<function calculate_distance at 0x000002C8A5544EA0>, metric_params={'dist_type': 'pearson'}, n_neighbors=9 \n",
      "[CV]  metric=<function calculate_distance at 0x000002C8A5544EA0>, metric_params={'dist_type': 'pearson'}, n_neighbors=9, score=0.3526570048309179, total=  16.8s\n",
      "[CV] metric=<function calculate_distance at 0x000002C8A5544EA0>, metric_params={'dist_type': 'pearson'}, n_neighbors=10 \n",
      "[CV]  metric=<function calculate_distance at 0x000002C8A5544EA0>, metric_params={'dist_type': 'pearson'}, n_neighbors=10, score=0.32367149758454106, total=  12.7s\n"
     ]
    },
    {
     "name": "stderr",
     "output_type": "stream",
     "text": [
      "[Parallel(n_jobs=1)]: Done  10 out of  10 | elapsed: 10.3min finished\n"
     ]
    },
    {
     "name": "stdout",
     "output_type": "stream",
     "text": [
      "7\n",
      "Fitting 1 folds for each of 10 candidates, totalling 10 fits\n",
      "[CV] metric=<function calculate_distance at 0x000002C8A5544EA0>, metric_params={'dist_type': 'pearson'}, n_neighbors=1 \n",
      "[CV]  metric=<function calculate_distance at 0x000002C8A5544EA0>, metric_params={'dist_type': 'pearson'}, n_neighbors=1, score=0.4782608695652174, total=  13.1s\n",
      "[CV] metric=<function calculate_distance at 0x000002C8A5544EA0>, metric_params={'dist_type': 'pearson'}, n_neighbors=2 \n"
     ]
    },
    {
     "name": "stderr",
     "output_type": "stream",
     "text": [
      "[Parallel(n_jobs=1)]: Done   1 out of   1 | elapsed:  1.1min remaining:    0.0s\n"
     ]
    },
    {
     "name": "stdout",
     "output_type": "stream",
     "text": [
      "[CV]  metric=<function calculate_distance at 0x000002C8A5544EA0>, metric_params={'dist_type': 'pearson'}, n_neighbors=2, score=0.4251207729468599, total=  16.4s\n",
      "[CV] metric=<function calculate_distance at 0x000002C8A5544EA0>, metric_params={'dist_type': 'pearson'}, n_neighbors=3 \n"
     ]
    },
    {
     "name": "stderr",
     "output_type": "stream",
     "text": [
      "[Parallel(n_jobs=1)]: Done   2 out of   2 | elapsed:  2.4min remaining:    0.0s\n"
     ]
    },
    {
     "name": "stdout",
     "output_type": "stream",
     "text": [
      "[CV]  metric=<function calculate_distance at 0x000002C8A5544EA0>, metric_params={'dist_type': 'pearson'}, n_neighbors=3, score=0.3864734299516908, total=  12.3s\n",
      "[CV] metric=<function calculate_distance at 0x000002C8A5544EA0>, metric_params={'dist_type': 'pearson'}, n_neighbors=4 \n",
      "[CV]  metric=<function calculate_distance at 0x000002C8A5544EA0>, metric_params={'dist_type': 'pearson'}, n_neighbors=4, score=0.3961352657004831, total=  12.2s\n",
      "[CV] metric=<function calculate_distance at 0x000002C8A5544EA0>, metric_params={'dist_type': 'pearson'}, n_neighbors=5 \n",
      "[CV]  metric=<function calculate_distance at 0x000002C8A5544EA0>, metric_params={'dist_type': 'pearson'}, n_neighbors=5, score=0.37681159420289856, total=  12.6s\n",
      "[CV] metric=<function calculate_distance at 0x000002C8A5544EA0>, metric_params={'dist_type': 'pearson'}, n_neighbors=6 \n",
      "[CV]  metric=<function calculate_distance at 0x000002C8A5544EA0>, metric_params={'dist_type': 'pearson'}, n_neighbors=6, score=0.3864734299516908, total=  12.5s\n",
      "[CV] metric=<function calculate_distance at 0x000002C8A5544EA0>, metric_params={'dist_type': 'pearson'}, n_neighbors=7 \n",
      "[CV]  metric=<function calculate_distance at 0x000002C8A5544EA0>, metric_params={'dist_type': 'pearson'}, n_neighbors=7, score=0.391304347826087, total=  12.6s\n",
      "[CV] metric=<function calculate_distance at 0x000002C8A5544EA0>, metric_params={'dist_type': 'pearson'}, n_neighbors=8 \n",
      "[CV]  metric=<function calculate_distance at 0x000002C8A5544EA0>, metric_params={'dist_type': 'pearson'}, n_neighbors=8, score=0.40096618357487923, total=  14.0s\n",
      "[CV] metric=<function calculate_distance at 0x000002C8A5544EA0>, metric_params={'dist_type': 'pearson'}, n_neighbors=9 \n",
      "[CV]  metric=<function calculate_distance at 0x000002C8A5544EA0>, metric_params={'dist_type': 'pearson'}, n_neighbors=9, score=0.40096618357487923, total=  12.6s\n",
      "[CV] metric=<function calculate_distance at 0x000002C8A5544EA0>, metric_params={'dist_type': 'pearson'}, n_neighbors=10 \n",
      "[CV]  metric=<function calculate_distance at 0x000002C8A5544EA0>, metric_params={'dist_type': 'pearson'}, n_neighbors=10, score=0.3719806763285024, total=  13.5s\n"
     ]
    },
    {
     "name": "stderr",
     "output_type": "stream",
     "text": [
      "[Parallel(n_jobs=1)]: Done  10 out of  10 | elapsed: 10.6min finished\n"
     ]
    },
    {
     "name": "stdout",
     "output_type": "stream",
     "text": [
      "8\n",
      "Fitting 1 folds for each of 10 candidates, totalling 10 fits\n",
      "[CV] metric=<function calculate_distance at 0x000002C8A5544EA0>, metric_params={'dist_type': 'pearson'}, n_neighbors=1 \n",
      "[CV]  metric=<function calculate_distance at 0x000002C8A5544EA0>, metric_params={'dist_type': 'pearson'}, n_neighbors=1, score=0.42028985507246375, total=  12.5s\n",
      "[CV] metric=<function calculate_distance at 0x000002C8A5544EA0>, metric_params={'dist_type': 'pearson'}, n_neighbors=2 \n"
     ]
    },
    {
     "name": "stderr",
     "output_type": "stream",
     "text": [
      "[Parallel(n_jobs=1)]: Done   1 out of   1 | elapsed:   58.4s remaining:    0.0s\n"
     ]
    },
    {
     "name": "stdout",
     "output_type": "stream",
     "text": [
      "[CV]  metric=<function calculate_distance at 0x000002C8A5544EA0>, metric_params={'dist_type': 'pearson'}, n_neighbors=2, score=0.3671497584541063, total=  13.8s\n",
      "[CV] metric=<function calculate_distance at 0x000002C8A5544EA0>, metric_params={'dist_type': 'pearson'}, n_neighbors=3 \n"
     ]
    },
    {
     "name": "stderr",
     "output_type": "stream",
     "text": [
      "[Parallel(n_jobs=1)]: Done   2 out of   2 | elapsed:  2.0min remaining:    0.0s\n"
     ]
    },
    {
     "name": "stdout",
     "output_type": "stream",
     "text": [
      "[CV]  metric=<function calculate_distance at 0x000002C8A5544EA0>, metric_params={'dist_type': 'pearson'}, n_neighbors=3, score=0.36231884057971014, total=  12.7s\n",
      "[CV] metric=<function calculate_distance at 0x000002C8A5544EA0>, metric_params={'dist_type': 'pearson'}, n_neighbors=4 \n",
      "[CV]  metric=<function calculate_distance at 0x000002C8A5544EA0>, metric_params={'dist_type': 'pearson'}, n_neighbors=4, score=0.40096618357487923, total=  13.0s\n",
      "[CV] metric=<function calculate_distance at 0x000002C8A5544EA0>, metric_params={'dist_type': 'pearson'}, n_neighbors=5 \n",
      "[CV]  metric=<function calculate_distance at 0x000002C8A5544EA0>, metric_params={'dist_type': 'pearson'}, n_neighbors=5, score=0.3961352657004831, total=  13.2s\n",
      "[CV] metric=<function calculate_distance at 0x000002C8A5544EA0>, metric_params={'dist_type': 'pearson'}, n_neighbors=6 \n",
      "[CV]  metric=<function calculate_distance at 0x000002C8A5544EA0>, metric_params={'dist_type': 'pearson'}, n_neighbors=6, score=0.357487922705314, total=  13.1s\n",
      "[CV] metric=<function calculate_distance at 0x000002C8A5544EA0>, metric_params={'dist_type': 'pearson'}, n_neighbors=7 \n",
      "[CV]  metric=<function calculate_distance at 0x000002C8A5544EA0>, metric_params={'dist_type': 'pearson'}, n_neighbors=7, score=0.3671497584541063, total=  13.6s\n",
      "[CV] metric=<function calculate_distance at 0x000002C8A5544EA0>, metric_params={'dist_type': 'pearson'}, n_neighbors=8 \n",
      "[CV]  metric=<function calculate_distance at 0x000002C8A5544EA0>, metric_params={'dist_type': 'pearson'}, n_neighbors=8, score=0.37681159420289856, total=  13.4s\n",
      "[CV] metric=<function calculate_distance at 0x000002C8A5544EA0>, metric_params={'dist_type': 'pearson'}, n_neighbors=9 \n",
      "[CV]  metric=<function calculate_distance at 0x000002C8A5544EA0>, metric_params={'dist_type': 'pearson'}, n_neighbors=9, score=0.36231884057971014, total=  13.4s\n",
      "[CV] metric=<function calculate_distance at 0x000002C8A5544EA0>, metric_params={'dist_type': 'pearson'}, n_neighbors=10 \n",
      "[CV]  metric=<function calculate_distance at 0x000002C8A5544EA0>, metric_params={'dist_type': 'pearson'}, n_neighbors=10, score=0.33816425120772947, total=  13.7s\n"
     ]
    },
    {
     "name": "stderr",
     "output_type": "stream",
     "text": [
      "[Parallel(n_jobs=1)]: Done  10 out of  10 | elapsed: 11.0min finished\n"
     ]
    },
    {
     "name": "stdout",
     "output_type": "stream",
     "text": [
      "9\n",
      "Fitting 1 folds for each of 10 candidates, totalling 10 fits\n",
      "[CV] metric=<function calculate_distance at 0x000002C8A5544EA0>, metric_params={'dist_type': 'pearson'}, n_neighbors=1 \n",
      "[CV]  metric=<function calculate_distance at 0x000002C8A5544EA0>, metric_params={'dist_type': 'pearson'}, n_neighbors=1, score=0.45410628019323673, total=  15.1s\n",
      "[CV] metric=<function calculate_distance at 0x000002C8A5544EA0>, metric_params={'dist_type': 'pearson'}, n_neighbors=2 \n"
     ]
    },
    {
     "name": "stderr",
     "output_type": "stream",
     "text": [
      "[Parallel(n_jobs=1)]: Done   1 out of   1 | elapsed:  1.4min remaining:    0.0s\n"
     ]
    },
    {
     "name": "stdout",
     "output_type": "stream",
     "text": [
      "[CV]  metric=<function calculate_distance at 0x000002C8A5544EA0>, metric_params={'dist_type': 'pearson'}, n_neighbors=2, score=0.40096618357487923, total=  18.8s\n",
      "[CV] metric=<function calculate_distance at 0x000002C8A5544EA0>, metric_params={'dist_type': 'pearson'}, n_neighbors=3 \n"
     ]
    },
    {
     "name": "stderr",
     "output_type": "stream",
     "text": [
      "[Parallel(n_jobs=1)]: Done   2 out of   2 | elapsed:  2.7min remaining:    0.0s\n"
     ]
    },
    {
     "name": "stdout",
     "output_type": "stream",
     "text": [
      "[CV]  metric=<function calculate_distance at 0x000002C8A5544EA0>, metric_params={'dist_type': 'pearson'}, n_neighbors=3, score=0.3671497584541063, total=  15.6s\n",
      "[CV] metric=<function calculate_distance at 0x000002C8A5544EA0>, metric_params={'dist_type': 'pearson'}, n_neighbors=4 \n",
      "[CV]  metric=<function calculate_distance at 0x000002C8A5544EA0>, metric_params={'dist_type': 'pearson'}, n_neighbors=4, score=0.40096618357487923, total=  13.8s\n",
      "[CV] metric=<function calculate_distance at 0x000002C8A5544EA0>, metric_params={'dist_type': 'pearson'}, n_neighbors=5 \n",
      "[CV]  metric=<function calculate_distance at 0x000002C8A5544EA0>, metric_params={'dist_type': 'pearson'}, n_neighbors=5, score=0.41545893719806765, total=  14.1s\n",
      "[CV] metric=<function calculate_distance at 0x000002C8A5544EA0>, metric_params={'dist_type': 'pearson'}, n_neighbors=6 \n",
      "[CV]  metric=<function calculate_distance at 0x000002C8A5544EA0>, metric_params={'dist_type': 'pearson'}, n_neighbors=6, score=0.37681159420289856, total=  14.1s\n",
      "[CV] metric=<function calculate_distance at 0x000002C8A5544EA0>, metric_params={'dist_type': 'pearson'}, n_neighbors=7 \n",
      "[CV]  metric=<function calculate_distance at 0x000002C8A5544EA0>, metric_params={'dist_type': 'pearson'}, n_neighbors=7, score=0.357487922705314, total=  13.9s\n",
      "[CV] metric=<function calculate_distance at 0x000002C8A5544EA0>, metric_params={'dist_type': 'pearson'}, n_neighbors=8 \n",
      "[CV]  metric=<function calculate_distance at 0x000002C8A5544EA0>, metric_params={'dist_type': 'pearson'}, n_neighbors=8, score=0.33816425120772947, total=  13.9s\n",
      "[CV] metric=<function calculate_distance at 0x000002C8A5544EA0>, metric_params={'dist_type': 'pearson'}, n_neighbors=9 \n",
      "[CV]  metric=<function calculate_distance at 0x000002C8A5544EA0>, metric_params={'dist_type': 'pearson'}, n_neighbors=9, score=0.34299516908212563, total=  13.8s\n",
      "[CV] metric=<function calculate_distance at 0x000002C8A5544EA0>, metric_params={'dist_type': 'pearson'}, n_neighbors=10 \n",
      "[CV]  metric=<function calculate_distance at 0x000002C8A5544EA0>, metric_params={'dist_type': 'pearson'}, n_neighbors=10, score=0.34782608695652173, total=  13.9s\n"
     ]
    },
    {
     "name": "stderr",
     "output_type": "stream",
     "text": [
      "[Parallel(n_jobs=1)]: Done  10 out of  10 | elapsed: 11.9min finished\n"
     ]
    },
    {
     "name": "stdout",
     "output_type": "stream",
     "text": [
      "10\n",
      "Fitting 1 folds for each of 10 candidates, totalling 10 fits\n",
      "[CV] metric=<function calculate_distance at 0x000002C8A5544EA0>, metric_params={'dist_type': 'pearson'}, n_neighbors=1 \n",
      "[CV]  metric=<function calculate_distance at 0x000002C8A5544EA0>, metric_params={'dist_type': 'pearson'}, n_neighbors=1, score=0.38164251207729466, total=  12.9s\n",
      "[CV] metric=<function calculate_distance at 0x000002C8A5544EA0>, metric_params={'dist_type': 'pearson'}, n_neighbors=2 \n"
     ]
    },
    {
     "name": "stderr",
     "output_type": "stream",
     "text": [
      "[Parallel(n_jobs=1)]: Done   1 out of   1 | elapsed:   59.9s remaining:    0.0s\n"
     ]
    },
    {
     "name": "stdout",
     "output_type": "stream",
     "text": [
      "[CV]  metric=<function calculate_distance at 0x000002C8A5544EA0>, metric_params={'dist_type': 'pearson'}, n_neighbors=2, score=0.3526570048309179, total=  13.2s\n",
      "[CV] metric=<function calculate_distance at 0x000002C8A5544EA0>, metric_params={'dist_type': 'pearson'}, n_neighbors=3 \n"
     ]
    },
    {
     "name": "stderr",
     "output_type": "stream",
     "text": [
      "[Parallel(n_jobs=1)]: Done   2 out of   2 | elapsed:  2.1min remaining:    0.0s\n"
     ]
    },
    {
     "name": "stdout",
     "output_type": "stream",
     "text": [
      "[CV]  metric=<function calculate_distance at 0x000002C8A5544EA0>, metric_params={'dist_type': 'pearson'}, n_neighbors=3, score=0.3526570048309179, total=  13.3s\n",
      "[CV] metric=<function calculate_distance at 0x000002C8A5544EA0>, metric_params={'dist_type': 'pearson'}, n_neighbors=4 \n",
      "[CV]  metric=<function calculate_distance at 0x000002C8A5544EA0>, metric_params={'dist_type': 'pearson'}, n_neighbors=4, score=0.36231884057971014, total=  13.4s\n",
      "[CV] metric=<function calculate_distance at 0x000002C8A5544EA0>, metric_params={'dist_type': 'pearson'}, n_neighbors=5 \n",
      "[CV]  metric=<function calculate_distance at 0x000002C8A5544EA0>, metric_params={'dist_type': 'pearson'}, n_neighbors=5, score=0.37681159420289856, total=  13.5s\n",
      "[CV] metric=<function calculate_distance at 0x000002C8A5544EA0>, metric_params={'dist_type': 'pearson'}, n_neighbors=6 \n",
      "[CV]  metric=<function calculate_distance at 0x000002C8A5544EA0>, metric_params={'dist_type': 'pearson'}, n_neighbors=6, score=0.3719806763285024, total=  13.5s\n",
      "[CV] metric=<function calculate_distance at 0x000002C8A5544EA0>, metric_params={'dist_type': 'pearson'}, n_neighbors=7 \n",
      "[CV]  metric=<function calculate_distance at 0x000002C8A5544EA0>, metric_params={'dist_type': 'pearson'}, n_neighbors=7, score=0.34299516908212563, total=  13.5s\n",
      "[CV] metric=<function calculate_distance at 0x000002C8A5544EA0>, metric_params={'dist_type': 'pearson'}, n_neighbors=8 \n",
      "[CV]  metric=<function calculate_distance at 0x000002C8A5544EA0>, metric_params={'dist_type': 'pearson'}, n_neighbors=8, score=0.3285024154589372, total=  13.6s\n",
      "[CV] metric=<function calculate_distance at 0x000002C8A5544EA0>, metric_params={'dist_type': 'pearson'}, n_neighbors=9 \n",
      "[CV]  metric=<function calculate_distance at 0x000002C8A5544EA0>, metric_params={'dist_type': 'pearson'}, n_neighbors=9, score=0.30434782608695654, total=  14.2s\n",
      "[CV] metric=<function calculate_distance at 0x000002C8A5544EA0>, metric_params={'dist_type': 'pearson'}, n_neighbors=10 \n",
      "[CV]  metric=<function calculate_distance at 0x000002C8A5544EA0>, metric_params={'dist_type': 'pearson'}, n_neighbors=10, score=0.3188405797101449, total=  13.7s\n"
     ]
    },
    {
     "name": "stderr",
     "output_type": "stream",
     "text": [
      "[Parallel(n_jobs=1)]: Done  10 out of  10 | elapsed: 10.9min finished\n"
     ]
    },
    {
     "name": "stdout",
     "output_type": "stream",
     "text": [
      "11\n",
      "Fitting 1 folds for each of 10 candidates, totalling 10 fits\n",
      "[CV] metric=<function calculate_distance at 0x000002C8A5544EA0>, metric_params={'dist_type': 'pearson'}, n_neighbors=1 \n",
      "[CV]  metric=<function calculate_distance at 0x000002C8A5544EA0>, metric_params={'dist_type': 'pearson'}, n_neighbors=1, score=0.4251207729468599, total=  13.7s\n",
      "[CV] metric=<function calculate_distance at 0x000002C8A5544EA0>, metric_params={'dist_type': 'pearson'}, n_neighbors=2 \n"
     ]
    },
    {
     "name": "stderr",
     "output_type": "stream",
     "text": [
      "[Parallel(n_jobs=1)]: Done   1 out of   1 | elapsed:  1.1min remaining:    0.0s\n"
     ]
    },
    {
     "name": "stdout",
     "output_type": "stream",
     "text": [
      "[CV]  metric=<function calculate_distance at 0x000002C8A5544EA0>, metric_params={'dist_type': 'pearson'}, n_neighbors=2, score=0.38164251207729466, total=  13.8s\n",
      "[CV] metric=<function calculate_distance at 0x000002C8A5544EA0>, metric_params={'dist_type': 'pearson'}, n_neighbors=3 \n"
     ]
    },
    {
     "name": "stderr",
     "output_type": "stream",
     "text": [
      "[Parallel(n_jobs=1)]: Done   2 out of   2 | elapsed:  2.2min remaining:    0.0s\n"
     ]
    },
    {
     "name": "stdout",
     "output_type": "stream",
     "text": [
      "[CV]  metric=<function calculate_distance at 0x000002C8A5544EA0>, metric_params={'dist_type': 'pearson'}, n_neighbors=3, score=0.37681159420289856, total=  13.9s\n",
      "[CV] metric=<function calculate_distance at 0x000002C8A5544EA0>, metric_params={'dist_type': 'pearson'}, n_neighbors=4 \n",
      "[CV]  metric=<function calculate_distance at 0x000002C8A5544EA0>, metric_params={'dist_type': 'pearson'}, n_neighbors=4, score=0.38164251207729466, total=  14.0s\n",
      "[CV] metric=<function calculate_distance at 0x000002C8A5544EA0>, metric_params={'dist_type': 'pearson'}, n_neighbors=5 \n",
      "[CV]  metric=<function calculate_distance at 0x000002C8A5544EA0>, metric_params={'dist_type': 'pearson'}, n_neighbors=5, score=0.357487922705314, total=  14.0s\n",
      "[CV] metric=<function calculate_distance at 0x000002C8A5544EA0>, metric_params={'dist_type': 'pearson'}, n_neighbors=6 \n",
      "[CV]  metric=<function calculate_distance at 0x000002C8A5544EA0>, metric_params={'dist_type': 'pearson'}, n_neighbors=6, score=0.34299516908212563, total=  14.5s\n",
      "[CV] metric=<function calculate_distance at 0x000002C8A5544EA0>, metric_params={'dist_type': 'pearson'}, n_neighbors=7 \n",
      "[CV]  metric=<function calculate_distance at 0x000002C8A5544EA0>, metric_params={'dist_type': 'pearson'}, n_neighbors=7, score=0.34782608695652173, total=  14.2s\n",
      "[CV] metric=<function calculate_distance at 0x000002C8A5544EA0>, metric_params={'dist_type': 'pearson'}, n_neighbors=8 \n",
      "[CV]  metric=<function calculate_distance at 0x000002C8A5544EA0>, metric_params={'dist_type': 'pearson'}, n_neighbors=8, score=0.34299516908212563, total=  14.0s\n",
      "[CV] metric=<function calculate_distance at 0x000002C8A5544EA0>, metric_params={'dist_type': 'pearson'}, n_neighbors=9 \n",
      "[CV]  metric=<function calculate_distance at 0x000002C8A5544EA0>, metric_params={'dist_type': 'pearson'}, n_neighbors=9, score=0.3719806763285024, total=  14.6s\n",
      "[CV] metric=<function calculate_distance at 0x000002C8A5544EA0>, metric_params={'dist_type': 'pearson'}, n_neighbors=10 \n",
      "[CV]  metric=<function calculate_distance at 0x000002C8A5544EA0>, metric_params={'dist_type': 'pearson'}, n_neighbors=10, score=0.3526570048309179, total=  14.6s\n"
     ]
    },
    {
     "name": "stderr",
     "output_type": "stream",
     "text": [
      "[Parallel(n_jobs=1)]: Done  10 out of  10 | elapsed: 11.5min finished\n"
     ]
    },
    {
     "name": "stdout",
     "output_type": "stream",
     "text": [
      "12\n",
      "Fitting 1 folds for each of 10 candidates, totalling 10 fits\n",
      "[CV] metric=<function calculate_distance at 0x000002C8A5544EA0>, metric_params={'dist_type': 'pearson'}, n_neighbors=1 \n",
      "[CV]  metric=<function calculate_distance at 0x000002C8A5544EA0>, metric_params={'dist_type': 'pearson'}, n_neighbors=1, score=0.5169082125603864, total=  13.9s\n",
      "[CV] metric=<function calculate_distance at 0x000002C8A5544EA0>, metric_params={'dist_type': 'pearson'}, n_neighbors=2 \n"
     ]
    },
    {
     "name": "stderr",
     "output_type": "stream",
     "text": [
      "[Parallel(n_jobs=1)]: Done   1 out of   1 | elapsed:  1.1min remaining:    0.0s\n"
     ]
    },
    {
     "name": "stdout",
     "output_type": "stream",
     "text": [
      "[CV]  metric=<function calculate_distance at 0x000002C8A5544EA0>, metric_params={'dist_type': 'pearson'}, n_neighbors=2, score=0.4830917874396135, total=  14.1s\n",
      "[CV] metric=<function calculate_distance at 0x000002C8A5544EA0>, metric_params={'dist_type': 'pearson'}, n_neighbors=3 \n"
     ]
    },
    {
     "name": "stderr",
     "output_type": "stream",
     "text": [
      "[Parallel(n_jobs=1)]: Done   2 out of   2 | elapsed:  2.3min remaining:    0.0s\n"
     ]
    },
    {
     "name": "stdout",
     "output_type": "stream",
     "text": [
      "[CV]  metric=<function calculate_distance at 0x000002C8A5544EA0>, metric_params={'dist_type': 'pearson'}, n_neighbors=3, score=0.41545893719806765, total=  14.3s\n",
      "[CV] metric=<function calculate_distance at 0x000002C8A5544EA0>, metric_params={'dist_type': 'pearson'}, n_neighbors=4 \n",
      "[CV]  metric=<function calculate_distance at 0x000002C8A5544EA0>, metric_params={'dist_type': 'pearson'}, n_neighbors=4, score=0.41545893719806765, total=  14.2s\n",
      "[CV] metric=<function calculate_distance at 0x000002C8A5544EA0>, metric_params={'dist_type': 'pearson'}, n_neighbors=5 \n",
      "[CV]  metric=<function calculate_distance at 0x000002C8A5544EA0>, metric_params={'dist_type': 'pearson'}, n_neighbors=5, score=0.3961352657004831, total=  14.3s\n",
      "[CV] metric=<function calculate_distance at 0x000002C8A5544EA0>, metric_params={'dist_type': 'pearson'}, n_neighbors=6 \n",
      "[CV]  metric=<function calculate_distance at 0x000002C8A5544EA0>, metric_params={'dist_type': 'pearson'}, n_neighbors=6, score=0.4057971014492754, total=  14.5s\n",
      "[CV] metric=<function calculate_distance at 0x000002C8A5544EA0>, metric_params={'dist_type': 'pearson'}, n_neighbors=7 \n",
      "[CV]  metric=<function calculate_distance at 0x000002C8A5544EA0>, metric_params={'dist_type': 'pearson'}, n_neighbors=7, score=0.4057971014492754, total=  14.6s\n",
      "[CV] metric=<function calculate_distance at 0x000002C8A5544EA0>, metric_params={'dist_type': 'pearson'}, n_neighbors=8 \n",
      "[CV]  metric=<function calculate_distance at 0x000002C8A5544EA0>, metric_params={'dist_type': 'pearson'}, n_neighbors=8, score=0.4057971014492754, total=  14.6s\n",
      "[CV] metric=<function calculate_distance at 0x000002C8A5544EA0>, metric_params={'dist_type': 'pearson'}, n_neighbors=9 \n",
      "[CV]  metric=<function calculate_distance at 0x000002C8A5544EA0>, metric_params={'dist_type': 'pearson'}, n_neighbors=9, score=0.4396135265700483, total=  14.8s\n",
      "[CV] metric=<function calculate_distance at 0x000002C8A5544EA0>, metric_params={'dist_type': 'pearson'}, n_neighbors=10 \n",
      "[CV]  metric=<function calculate_distance at 0x000002C8A5544EA0>, metric_params={'dist_type': 'pearson'}, n_neighbors=10, score=0.4057971014492754, total=  14.9s\n"
     ]
    },
    {
     "name": "stderr",
     "output_type": "stream",
     "text": [
      "[Parallel(n_jobs=1)]: Done  10 out of  10 | elapsed: 11.8min finished\n"
     ]
    }
   ],
   "source": [
    "for nr in frame_numbers:\n",
    "    print(nr)\n",
    "    try:\n",
    "        gyro_train_input, gyro_train_label = prepare_data(train, nr, 'gyro', verbose=False)\n",
    "        gyro_valid_input, gyro_valid_label = prepare_data(valid, nr, 'gyro', verbose=False)\n",
    "\n",
    "        kNN = GridSearchCV(KNeighborsClassifier(), parameters, cv=cross_valid, scoring='accuracy', n_jobs=parallel_jobs,\n",
    "                           verbose=verbose_level).fit(np.append(gyro_train_input, gyro_valid_input, axis=0),\n",
    "                                                      np.append(gyro_train_label, gyro_valid_label))\n",
    "        result = (kNN.best_score_, nr, kNN.best_params_)\n",
    "        \n",
    "        if result[0] > pearson_gyro[0]:\n",
    "            pearson_gyro = result\n",
    "        \n",
    "    except ValueError as err:\n",
    "        pass"
   ]
  },
  {
   "cell_type": "markdown",
   "metadata": {},
   "source": [
    "### Magnetometer"
   ]
  },
  {
   "cell_type": "code",
   "execution_count": 46,
   "metadata": {
    "scrolled": true
   },
   "outputs": [
    {
     "name": "stdout",
     "output_type": "stream",
     "text": [
      "1\n",
      "Fitting 1 folds for each of 10 candidates, totalling 10 fits\n",
      "[CV] metric=<function calculate_distance at 0x000002C8A5544EA0>, metric_params={'dist_type': 'pearson'}, n_neighbors=1 \n",
      "[CV]  metric=<function calculate_distance at 0x000002C8A5544EA0>, metric_params={'dist_type': 'pearson'}, n_neighbors=1, score=0.47596153846153844, total=   6.6s\n",
      "[CV] metric=<function calculate_distance at 0x000002C8A5544EA0>, metric_params={'dist_type': 'pearson'}, n_neighbors=2 \n"
     ]
    },
    {
     "name": "stderr",
     "output_type": "stream",
     "text": [
      "[Parallel(n_jobs=1)]: Done   1 out of   1 | elapsed:   31.3s remaining:    0.0s\n"
     ]
    },
    {
     "name": "stdout",
     "output_type": "stream",
     "text": [
      "[CV]  metric=<function calculate_distance at 0x000002C8A5544EA0>, metric_params={'dist_type': 'pearson'}, n_neighbors=2, score=0.4375, total=   6.8s\n",
      "[CV] metric=<function calculate_distance at 0x000002C8A5544EA0>, metric_params={'dist_type': 'pearson'}, n_neighbors=3 \n"
     ]
    },
    {
     "name": "stderr",
     "output_type": "stream",
     "text": [
      "[Parallel(n_jobs=1)]: Done   2 out of   2 | elapsed:  1.1min remaining:    0.0s\n"
     ]
    },
    {
     "name": "stdout",
     "output_type": "stream",
     "text": [
      "[CV]  metric=<function calculate_distance at 0x000002C8A5544EA0>, metric_params={'dist_type': 'pearson'}, n_neighbors=3, score=0.39903846153846156, total=   6.8s\n",
      "[CV] metric=<function calculate_distance at 0x000002C8A5544EA0>, metric_params={'dist_type': 'pearson'}, n_neighbors=4 \n",
      "[CV]  metric=<function calculate_distance at 0x000002C8A5544EA0>, metric_params={'dist_type': 'pearson'}, n_neighbors=4, score=0.3557692307692308, total=   6.8s\n",
      "[CV] metric=<function calculate_distance at 0x000002C8A5544EA0>, metric_params={'dist_type': 'pearson'}, n_neighbors=5 \n",
      "[CV]  metric=<function calculate_distance at 0x000002C8A5544EA0>, metric_params={'dist_type': 'pearson'}, n_neighbors=5, score=0.28365384615384615, total=   6.8s\n",
      "[CV] metric=<function calculate_distance at 0x000002C8A5544EA0>, metric_params={'dist_type': 'pearson'}, n_neighbors=6 \n",
      "[CV]  metric=<function calculate_distance at 0x000002C8A5544EA0>, metric_params={'dist_type': 'pearson'}, n_neighbors=6, score=0.25961538461538464, total=   6.8s\n",
      "[CV] metric=<function calculate_distance at 0x000002C8A5544EA0>, metric_params={'dist_type': 'pearson'}, n_neighbors=7 \n",
      "[CV]  metric=<function calculate_distance at 0x000002C8A5544EA0>, metric_params={'dist_type': 'pearson'}, n_neighbors=7, score=0.2403846153846154, total=   6.8s\n",
      "[CV] metric=<function calculate_distance at 0x000002C8A5544EA0>, metric_params={'dist_type': 'pearson'}, n_neighbors=8 \n",
      "[CV]  metric=<function calculate_distance at 0x000002C8A5544EA0>, metric_params={'dist_type': 'pearson'}, n_neighbors=8, score=0.21153846153846154, total=   6.9s\n",
      "[CV] metric=<function calculate_distance at 0x000002C8A5544EA0>, metric_params={'dist_type': 'pearson'}, n_neighbors=9 \n",
      "[CV]  metric=<function calculate_distance at 0x000002C8A5544EA0>, metric_params={'dist_type': 'pearson'}, n_neighbors=9, score=0.1971153846153846, total=   6.9s\n",
      "[CV] metric=<function calculate_distance at 0x000002C8A5544EA0>, metric_params={'dist_type': 'pearson'}, n_neighbors=10 \n",
      "[CV]  metric=<function calculate_distance at 0x000002C8A5544EA0>, metric_params={'dist_type': 'pearson'}, n_neighbors=10, score=0.20192307692307693, total=   7.1s\n"
     ]
    },
    {
     "name": "stderr",
     "output_type": "stream",
     "text": [
      "[Parallel(n_jobs=1)]: Done  10 out of  10 | elapsed:  5.5min finished\n"
     ]
    },
    {
     "name": "stdout",
     "output_type": "stream",
     "text": [
      "2\n",
      "Fitting 1 folds for each of 10 candidates, totalling 10 fits\n",
      "[CV] metric=<function calculate_distance at 0x000002C8A5544EA0>, metric_params={'dist_type': 'pearson'}, n_neighbors=1 \n",
      "[CV]  metric=<function calculate_distance at 0x000002C8A5544EA0>, metric_params={'dist_type': 'pearson'}, n_neighbors=1, score=0.5072463768115942, total=   6.0s\n",
      "[CV] metric=<function calculate_distance at 0x000002C8A5544EA0>, metric_params={'dist_type': 'pearson'}, n_neighbors=2 \n"
     ]
    },
    {
     "name": "stderr",
     "output_type": "stream",
     "text": [
      "[Parallel(n_jobs=1)]: Done   1 out of   1 | elapsed:   29.2s remaining:    0.0s\n"
     ]
    },
    {
     "name": "stdout",
     "output_type": "stream",
     "text": [
      "[CV]  metric=<function calculate_distance at 0x000002C8A5544EA0>, metric_params={'dist_type': 'pearson'}, n_neighbors=2, score=0.42995169082125606, total=   6.1s\n",
      "[CV] metric=<function calculate_distance at 0x000002C8A5544EA0>, metric_params={'dist_type': 'pearson'}, n_neighbors=3 \n"
     ]
    },
    {
     "name": "stderr",
     "output_type": "stream",
     "text": [
      "[Parallel(n_jobs=1)]: Done   2 out of   2 | elapsed:   59.1s remaining:    0.0s\n"
     ]
    },
    {
     "name": "stdout",
     "output_type": "stream",
     "text": [
      "[CV]  metric=<function calculate_distance at 0x000002C8A5544EA0>, metric_params={'dist_type': 'pearson'}, n_neighbors=3, score=0.40096618357487923, total=   6.2s\n",
      "[CV] metric=<function calculate_distance at 0x000002C8A5544EA0>, metric_params={'dist_type': 'pearson'}, n_neighbors=4 \n",
      "[CV]  metric=<function calculate_distance at 0x000002C8A5544EA0>, metric_params={'dist_type': 'pearson'}, n_neighbors=4, score=0.3671497584541063, total=   6.2s\n",
      "[CV] metric=<function calculate_distance at 0x000002C8A5544EA0>, metric_params={'dist_type': 'pearson'}, n_neighbors=5 \n",
      "[CV]  metric=<function calculate_distance at 0x000002C8A5544EA0>, metric_params={'dist_type': 'pearson'}, n_neighbors=5, score=0.34782608695652173, total=   6.4s\n",
      "[CV] metric=<function calculate_distance at 0x000002C8A5544EA0>, metric_params={'dist_type': 'pearson'}, n_neighbors=6 \n",
      "[CV]  metric=<function calculate_distance at 0x000002C8A5544EA0>, metric_params={'dist_type': 'pearson'}, n_neighbors=6, score=0.3285024154589372, total=   6.3s\n",
      "[CV] metric=<function calculate_distance at 0x000002C8A5544EA0>, metric_params={'dist_type': 'pearson'}, n_neighbors=7 \n",
      "[CV]  metric=<function calculate_distance at 0x000002C8A5544EA0>, metric_params={'dist_type': 'pearson'}, n_neighbors=7, score=0.2898550724637681, total=   6.4s\n",
      "[CV] metric=<function calculate_distance at 0x000002C8A5544EA0>, metric_params={'dist_type': 'pearson'}, n_neighbors=8 \n",
      "[CV]  metric=<function calculate_distance at 0x000002C8A5544EA0>, metric_params={'dist_type': 'pearson'}, n_neighbors=8, score=0.27053140096618356, total=   6.4s\n",
      "[CV] metric=<function calculate_distance at 0x000002C8A5544EA0>, metric_params={'dist_type': 'pearson'}, n_neighbors=9 \n",
      "[CV]  metric=<function calculate_distance at 0x000002C8A5544EA0>, metric_params={'dist_type': 'pearson'}, n_neighbors=9, score=0.27053140096618356, total=   6.4s\n",
      "[CV] metric=<function calculate_distance at 0x000002C8A5544EA0>, metric_params={'dist_type': 'pearson'}, n_neighbors=10 \n",
      "[CV]  metric=<function calculate_distance at 0x000002C8A5544EA0>, metric_params={'dist_type': 'pearson'}, n_neighbors=10, score=0.2222222222222222, total=   6.5s\n"
     ]
    },
    {
     "name": "stderr",
     "output_type": "stream",
     "text": [
      "[Parallel(n_jobs=1)]: Done  10 out of  10 | elapsed:  5.1min finished\n"
     ]
    },
    {
     "name": "stdout",
     "output_type": "stream",
     "text": [
      "3\n",
      "Fitting 1 folds for each of 10 candidates, totalling 10 fits\n",
      "[CV] metric=<function calculate_distance at 0x000002C8A5544EA0>, metric_params={'dist_type': 'pearson'}, n_neighbors=1 \n",
      "[CV]  metric=<function calculate_distance at 0x000002C8A5544EA0>, metric_params={'dist_type': 'pearson'}, n_neighbors=1, score=0.5072463768115942, total=   7.9s\n",
      "[CV] metric=<function calculate_distance at 0x000002C8A5544EA0>, metric_params={'dist_type': 'pearson'}, n_neighbors=2 \n"
     ]
    },
    {
     "name": "stderr",
     "output_type": "stream",
     "text": [
      "[Parallel(n_jobs=1)]: Done   1 out of   1 | elapsed:   38.0s remaining:    0.0s\n"
     ]
    },
    {
     "name": "stdout",
     "output_type": "stream",
     "text": [
      "[CV]  metric=<function calculate_distance at 0x000002C8A5544EA0>, metric_params={'dist_type': 'pearson'}, n_neighbors=2, score=0.4251207729468599, total=   8.0s\n",
      "[CV] metric=<function calculate_distance at 0x000002C8A5544EA0>, metric_params={'dist_type': 'pearson'}, n_neighbors=3 \n"
     ]
    },
    {
     "name": "stderr",
     "output_type": "stream",
     "text": [
      "[Parallel(n_jobs=1)]: Done   2 out of   2 | elapsed:  1.3min remaining:    0.0s\n"
     ]
    },
    {
     "name": "stdout",
     "output_type": "stream",
     "text": [
      "[CV]  metric=<function calculate_distance at 0x000002C8A5544EA0>, metric_params={'dist_type': 'pearson'}, n_neighbors=3, score=0.391304347826087, total=   8.0s\n",
      "[CV] metric=<function calculate_distance at 0x000002C8A5544EA0>, metric_params={'dist_type': 'pearson'}, n_neighbors=4 \n",
      "[CV]  metric=<function calculate_distance at 0x000002C8A5544EA0>, metric_params={'dist_type': 'pearson'}, n_neighbors=4, score=0.37681159420289856, total=   8.1s\n",
      "[CV] metric=<function calculate_distance at 0x000002C8A5544EA0>, metric_params={'dist_type': 'pearson'}, n_neighbors=5 \n",
      "[CV]  metric=<function calculate_distance at 0x000002C8A5544EA0>, metric_params={'dist_type': 'pearson'}, n_neighbors=5, score=0.34299516908212563, total=   8.2s\n",
      "[CV] metric=<function calculate_distance at 0x000002C8A5544EA0>, metric_params={'dist_type': 'pearson'}, n_neighbors=6 \n",
      "[CV]  metric=<function calculate_distance at 0x000002C8A5544EA0>, metric_params={'dist_type': 'pearson'}, n_neighbors=6, score=0.2753623188405797, total=   8.3s\n",
      "[CV] metric=<function calculate_distance at 0x000002C8A5544EA0>, metric_params={'dist_type': 'pearson'}, n_neighbors=7 \n",
      "[CV]  metric=<function calculate_distance at 0x000002C8A5544EA0>, metric_params={'dist_type': 'pearson'}, n_neighbors=7, score=0.27053140096618356, total=   8.5s\n",
      "[CV] metric=<function calculate_distance at 0x000002C8A5544EA0>, metric_params={'dist_type': 'pearson'}, n_neighbors=8 \n",
      "[CV]  metric=<function calculate_distance at 0x000002C8A5544EA0>, metric_params={'dist_type': 'pearson'}, n_neighbors=8, score=0.2463768115942029, total=   8.4s\n",
      "[CV] metric=<function calculate_distance at 0x000002C8A5544EA0>, metric_params={'dist_type': 'pearson'}, n_neighbors=9 \n",
      "[CV]  metric=<function calculate_distance at 0x000002C8A5544EA0>, metric_params={'dist_type': 'pearson'}, n_neighbors=9, score=0.2318840579710145, total=   8.5s\n",
      "[CV] metric=<function calculate_distance at 0x000002C8A5544EA0>, metric_params={'dist_type': 'pearson'}, n_neighbors=10 \n",
      "[CV]  metric=<function calculate_distance at 0x000002C8A5544EA0>, metric_params={'dist_type': 'pearson'}, n_neighbors=10, score=0.21739130434782608, total=   8.5s\n"
     ]
    },
    {
     "name": "stderr",
     "output_type": "stream",
     "text": [
      "[Parallel(n_jobs=1)]: Done  10 out of  10 | elapsed:  6.8min finished\n"
     ]
    },
    {
     "name": "stdout",
     "output_type": "stream",
     "text": [
      "4\n",
      "Fitting 1 folds for each of 10 candidates, totalling 10 fits\n",
      "[CV] metric=<function calculate_distance at 0x000002C8A5544EA0>, metric_params={'dist_type': 'pearson'}, n_neighbors=1 \n",
      "[CV]  metric=<function calculate_distance at 0x000002C8A5544EA0>, metric_params={'dist_type': 'pearson'}, n_neighbors=1, score=0.3671497584541063, total=   8.3s\n",
      "[CV] metric=<function calculate_distance at 0x000002C8A5544EA0>, metric_params={'dist_type': 'pearson'}, n_neighbors=2 \n"
     ]
    },
    {
     "name": "stderr",
     "output_type": "stream",
     "text": [
      "[Parallel(n_jobs=1)]: Done   1 out of   1 | elapsed:   39.8s remaining:    0.0s\n"
     ]
    },
    {
     "name": "stdout",
     "output_type": "stream",
     "text": [
      "[CV]  metric=<function calculate_distance at 0x000002C8A5544EA0>, metric_params={'dist_type': 'pearson'}, n_neighbors=2, score=0.3333333333333333, total=   8.4s\n",
      "[CV] metric=<function calculate_distance at 0x000002C8A5544EA0>, metric_params={'dist_type': 'pearson'}, n_neighbors=3 \n"
     ]
    },
    {
     "name": "stderr",
     "output_type": "stream",
     "text": [
      "[Parallel(n_jobs=1)]: Done   2 out of   2 | elapsed:  1.4min remaining:    0.0s\n"
     ]
    },
    {
     "name": "stdout",
     "output_type": "stream",
     "text": [
      "[CV]  metric=<function calculate_distance at 0x000002C8A5544EA0>, metric_params={'dist_type': 'pearson'}, n_neighbors=3, score=0.2898550724637681, total=   8.6s\n",
      "[CV] metric=<function calculate_distance at 0x000002C8A5544EA0>, metric_params={'dist_type': 'pearson'}, n_neighbors=4 \n",
      "[CV]  metric=<function calculate_distance at 0x000002C8A5544EA0>, metric_params={'dist_type': 'pearson'}, n_neighbors=4, score=0.30434782608695654, total=   8.4s\n",
      "[CV] metric=<function calculate_distance at 0x000002C8A5544EA0>, metric_params={'dist_type': 'pearson'}, n_neighbors=5 \n",
      "[CV]  metric=<function calculate_distance at 0x000002C8A5544EA0>, metric_params={'dist_type': 'pearson'}, n_neighbors=5, score=0.27053140096618356, total=   8.5s\n",
      "[CV] metric=<function calculate_distance at 0x000002C8A5544EA0>, metric_params={'dist_type': 'pearson'}, n_neighbors=6 \n",
      "[CV]  metric=<function calculate_distance at 0x000002C8A5544EA0>, metric_params={'dist_type': 'pearson'}, n_neighbors=6, score=0.24154589371980675, total=   8.8s\n",
      "[CV] metric=<function calculate_distance at 0x000002C8A5544EA0>, metric_params={'dist_type': 'pearson'}, n_neighbors=7 \n",
      "[CV]  metric=<function calculate_distance at 0x000002C8A5544EA0>, metric_params={'dist_type': 'pearson'}, n_neighbors=7, score=0.2222222222222222, total=   8.4s\n",
      "[CV] metric=<function calculate_distance at 0x000002C8A5544EA0>, metric_params={'dist_type': 'pearson'}, n_neighbors=8 \n",
      "[CV]  metric=<function calculate_distance at 0x000002C8A5544EA0>, metric_params={'dist_type': 'pearson'}, n_neighbors=8, score=0.24154589371980675, total=   9.0s\n",
      "[CV] metric=<function calculate_distance at 0x000002C8A5544EA0>, metric_params={'dist_type': 'pearson'}, n_neighbors=9 \n",
      "[CV]  metric=<function calculate_distance at 0x000002C8A5544EA0>, metric_params={'dist_type': 'pearson'}, n_neighbors=9, score=0.23671497584541062, total=   9.0s\n",
      "[CV] metric=<function calculate_distance at 0x000002C8A5544EA0>, metric_params={'dist_type': 'pearson'}, n_neighbors=10 \n",
      "[CV]  metric=<function calculate_distance at 0x000002C8A5544EA0>, metric_params={'dist_type': 'pearson'}, n_neighbors=10, score=0.24154589371980675, total=   9.0s\n"
     ]
    },
    {
     "name": "stderr",
     "output_type": "stream",
     "text": [
      "[Parallel(n_jobs=1)]: Done  10 out of  10 | elapsed:  7.1min finished\n"
     ]
    },
    {
     "name": "stdout",
     "output_type": "stream",
     "text": [
      "5\n",
      "Fitting 1 folds for each of 10 candidates, totalling 10 fits\n",
      "[CV] metric=<function calculate_distance at 0x000002C8A5544EA0>, metric_params={'dist_type': 'pearson'}, n_neighbors=1 \n",
      "[CV]  metric=<function calculate_distance at 0x000002C8A5544EA0>, metric_params={'dist_type': 'pearson'}, n_neighbors=1, score=0.28019323671497587, total=   9.0s\n",
      "[CV] metric=<function calculate_distance at 0x000002C8A5544EA0>, metric_params={'dist_type': 'pearson'}, n_neighbors=2 \n"
     ]
    },
    {
     "name": "stderr",
     "output_type": "stream",
     "text": [
      "[Parallel(n_jobs=1)]: Done   1 out of   1 | elapsed:   44.2s remaining:    0.0s\n"
     ]
    },
    {
     "name": "stdout",
     "output_type": "stream",
     "text": [
      "[CV]  metric=<function calculate_distance at 0x000002C8A5544EA0>, metric_params={'dist_type': 'pearson'}, n_neighbors=2, score=0.28502415458937197, total=   9.2s\n",
      "[CV] metric=<function calculate_distance at 0x000002C8A5544EA0>, metric_params={'dist_type': 'pearson'}, n_neighbors=3 \n"
     ]
    },
    {
     "name": "stderr",
     "output_type": "stream",
     "text": [
      "[Parallel(n_jobs=1)]: Done   2 out of   2 | elapsed:  1.5min remaining:    0.0s\n"
     ]
    },
    {
     "name": "stdout",
     "output_type": "stream",
     "text": [
      "[CV]  metric=<function calculate_distance at 0x000002C8A5544EA0>, metric_params={'dist_type': 'pearson'}, n_neighbors=3, score=0.24154589371980675, total=   9.4s\n",
      "[CV] metric=<function calculate_distance at 0x000002C8A5544EA0>, metric_params={'dist_type': 'pearson'}, n_neighbors=4 \n",
      "[CV]  metric=<function calculate_distance at 0x000002C8A5544EA0>, metric_params={'dist_type': 'pearson'}, n_neighbors=4, score=0.2028985507246377, total=   9.6s\n",
      "[CV] metric=<function calculate_distance at 0x000002C8A5544EA0>, metric_params={'dist_type': 'pearson'}, n_neighbors=5 \n",
      "[CV]  metric=<function calculate_distance at 0x000002C8A5544EA0>, metric_params={'dist_type': 'pearson'}, n_neighbors=5, score=0.2222222222222222, total=   9.7s\n",
      "[CV] metric=<function calculate_distance at 0x000002C8A5544EA0>, metric_params={'dist_type': 'pearson'}, n_neighbors=6 \n",
      "[CV]  metric=<function calculate_distance at 0x000002C8A5544EA0>, metric_params={'dist_type': 'pearson'}, n_neighbors=6, score=0.21256038647342995, total=   9.9s\n",
      "[CV] metric=<function calculate_distance at 0x000002C8A5544EA0>, metric_params={'dist_type': 'pearson'}, n_neighbors=7 \n",
      "[CV]  metric=<function calculate_distance at 0x000002C8A5544EA0>, metric_params={'dist_type': 'pearson'}, n_neighbors=7, score=0.2222222222222222, total=  10.0s\n",
      "[CV] metric=<function calculate_distance at 0x000002C8A5544EA0>, metric_params={'dist_type': 'pearson'}, n_neighbors=8 \n",
      "[CV]  metric=<function calculate_distance at 0x000002C8A5544EA0>, metric_params={'dist_type': 'pearson'}, n_neighbors=8, score=0.178743961352657, total=  10.2s\n",
      "[CV] metric=<function calculate_distance at 0x000002C8A5544EA0>, metric_params={'dist_type': 'pearson'}, n_neighbors=9 \n",
      "[CV]  metric=<function calculate_distance at 0x000002C8A5544EA0>, metric_params={'dist_type': 'pearson'}, n_neighbors=9, score=0.14492753623188406, total=  10.3s\n",
      "[CV] metric=<function calculate_distance at 0x000002C8A5544EA0>, metric_params={'dist_type': 'pearson'}, n_neighbors=10 \n",
      "[CV]  metric=<function calculate_distance at 0x000002C8A5544EA0>, metric_params={'dist_type': 'pearson'}, n_neighbors=10, score=0.15458937198067632, total=  10.4s\n"
     ]
    },
    {
     "name": "stderr",
     "output_type": "stream",
     "text": [
      "[Parallel(n_jobs=1)]: Done  10 out of  10 | elapsed:  8.2min finished\n"
     ]
    },
    {
     "name": "stdout",
     "output_type": "stream",
     "text": [
      "6\n",
      "Fitting 1 folds for each of 10 candidates, totalling 10 fits\n",
      "[CV] metric=<function calculate_distance at 0x000002C8A5544EA0>, metric_params={'dist_type': 'pearson'}, n_neighbors=1 \n",
      "[CV]  metric=<function calculate_distance at 0x000002C8A5544EA0>, metric_params={'dist_type': 'pearson'}, n_neighbors=1, score=0.2318840579710145, total=  11.6s\n",
      "[CV] metric=<function calculate_distance at 0x000002C8A5544EA0>, metric_params={'dist_type': 'pearson'}, n_neighbors=2 \n"
     ]
    },
    {
     "name": "stderr",
     "output_type": "stream",
     "text": [
      "[Parallel(n_jobs=1)]: Done   1 out of   1 | elapsed:   56.3s remaining:    0.0s\n"
     ]
    },
    {
     "name": "stdout",
     "output_type": "stream",
     "text": [
      "[CV]  metric=<function calculate_distance at 0x000002C8A5544EA0>, metric_params={'dist_type': 'pearson'}, n_neighbors=2, score=0.18840579710144928, total=  11.8s\n",
      "[CV] metric=<function calculate_distance at 0x000002C8A5544EA0>, metric_params={'dist_type': 'pearson'}, n_neighbors=3 \n"
     ]
    },
    {
     "name": "stderr",
     "output_type": "stream",
     "text": [
      "[Parallel(n_jobs=1)]: Done   2 out of   2 | elapsed:  1.9min remaining:    0.0s\n"
     ]
    },
    {
     "name": "stdout",
     "output_type": "stream",
     "text": [
      "[CV]  metric=<function calculate_distance at 0x000002C8A5544EA0>, metric_params={'dist_type': 'pearson'}, n_neighbors=3, score=0.17391304347826086, total=  12.0s\n",
      "[CV] metric=<function calculate_distance at 0x000002C8A5544EA0>, metric_params={'dist_type': 'pearson'}, n_neighbors=4 \n",
      "[CV]  metric=<function calculate_distance at 0x000002C8A5544EA0>, metric_params={'dist_type': 'pearson'}, n_neighbors=4, score=0.13526570048309178, total=  11.9s\n",
      "[CV] metric=<function calculate_distance at 0x000002C8A5544EA0>, metric_params={'dist_type': 'pearson'}, n_neighbors=5 \n",
      "[CV]  metric=<function calculate_distance at 0x000002C8A5544EA0>, metric_params={'dist_type': 'pearson'}, n_neighbors=5, score=0.13526570048309178, total=  12.4s\n",
      "[CV] metric=<function calculate_distance at 0x000002C8A5544EA0>, metric_params={'dist_type': 'pearson'}, n_neighbors=6 \n",
      "[CV]  metric=<function calculate_distance at 0x000002C8A5544EA0>, metric_params={'dist_type': 'pearson'}, n_neighbors=6, score=0.16908212560386474, total=  12.3s\n",
      "[CV] metric=<function calculate_distance at 0x000002C8A5544EA0>, metric_params={'dist_type': 'pearson'}, n_neighbors=7 \n",
      "[CV]  metric=<function calculate_distance at 0x000002C8A5544EA0>, metric_params={'dist_type': 'pearson'}, n_neighbors=7, score=0.1932367149758454, total=  12.3s\n",
      "[CV] metric=<function calculate_distance at 0x000002C8A5544EA0>, metric_params={'dist_type': 'pearson'}, n_neighbors=8 \n",
      "[CV]  metric=<function calculate_distance at 0x000002C8A5544EA0>, metric_params={'dist_type': 'pearson'}, n_neighbors=8, score=0.178743961352657, total=  12.5s\n",
      "[CV] metric=<function calculate_distance at 0x000002C8A5544EA0>, metric_params={'dist_type': 'pearson'}, n_neighbors=9 \n",
      "[CV]  metric=<function calculate_distance at 0x000002C8A5544EA0>, metric_params={'dist_type': 'pearson'}, n_neighbors=9, score=0.178743961352657, total=  12.6s\n",
      "[CV] metric=<function calculate_distance at 0x000002C8A5544EA0>, metric_params={'dist_type': 'pearson'}, n_neighbors=10 \n",
      "[CV]  metric=<function calculate_distance at 0x000002C8A5544EA0>, metric_params={'dist_type': 'pearson'}, n_neighbors=10, score=0.15458937198067632, total=  12.6s\n"
     ]
    },
    {
     "name": "stderr",
     "output_type": "stream",
     "text": [
      "[Parallel(n_jobs=1)]: Done  10 out of  10 | elapsed: 10.1min finished\n"
     ]
    },
    {
     "name": "stdout",
     "output_type": "stream",
     "text": [
      "7\n"
     ]
    },
    {
     "name": "stderr",
     "output_type": "stream",
     "text": [
      "c:\\python36\\lib\\site-packages\\scipy\\stats\\stats.py:3021: RuntimeWarning: invalid value encountered in double_scalars\n",
      "  r = r_num / r_den\n",
      "c:\\python36\\lib\\site-packages\\scipy\\stats\\stats.py:5277: RuntimeWarning: invalid value encountered in less\n",
      "  x = np.where(x < 1.0, x, 1.0)  # if x > 1 then return 1.0\n"
     ]
    },
    {
     "name": "stdout",
     "output_type": "stream",
     "text": [
      "8\n",
      "9\n",
      "10\n",
      "11\n",
      "12\n"
     ]
    }
   ],
   "source": [
    "for nr in frame_numbers:\n",
    "    print(nr)\n",
    "    try:\n",
    "        ori_train_input, ori_train_label = prepare_data(train, nr, 'orientation', verbose=False)\n",
    "        ori_valid_input, ori_valid_label = prepare_data(valid, nr, 'orientation', verbose=False)\n",
    "\n",
    "        kNN = GridSearchCV(KNeighborsClassifier(), parameters, cv=cross_valid, scoring='accuracy', n_jobs=parallel_jobs,\n",
    "                           verbose=verbose_level).fit(np.append(ori_train_input, ori_valid_input, axis=0),\n",
    "                                                      np.append(ori_train_label, ori_valid_label))\n",
    "        result = (kNN.best_score_, nr, kNN.best_params_)\n",
    "        \n",
    "        if result[0] > pearson_ori[0]:\n",
    "            pearson_ori = result\n",
    "        \n",
    "    except ValueError as err:\n",
    "        pass"
   ]
  },
  {
   "cell_type": "markdown",
   "metadata": {},
   "source": [
    "### EMG"
   ]
  },
  {
   "cell_type": "code",
   "execution_count": 47,
   "metadata": {
    "scrolled": true
   },
   "outputs": [
    {
     "name": "stdout",
     "output_type": "stream",
     "text": [
      "1\n",
      "Fitting 1 folds for each of 10 candidates, totalling 10 fits\n",
      "[CV] metric=<function calculate_distance at 0x000002C8A5544EA0>, metric_params={'dist_type': 'pearson'}, n_neighbors=1 \n",
      "[CV]  metric=<function calculate_distance at 0x000002C8A5544EA0>, metric_params={'dist_type': 'pearson'}, n_neighbors=1, score=0.5288461538461539, total=   8.2s\n",
      "[CV] metric=<function calculate_distance at 0x000002C8A5544EA0>, metric_params={'dist_type': 'pearson'}, n_neighbors=2 \n"
     ]
    },
    {
     "name": "stderr",
     "output_type": "stream",
     "text": [
      "[Parallel(n_jobs=1)]: Done   1 out of   1 | elapsed:   37.6s remaining:    0.0s\n"
     ]
    },
    {
     "name": "stdout",
     "output_type": "stream",
     "text": [
      "[CV]  metric=<function calculate_distance at 0x000002C8A5544EA0>, metric_params={'dist_type': 'pearson'}, n_neighbors=2, score=0.42788461538461536, total=   8.6s\n",
      "[CV] metric=<function calculate_distance at 0x000002C8A5544EA0>, metric_params={'dist_type': 'pearson'}, n_neighbors=3 \n"
     ]
    },
    {
     "name": "stderr",
     "output_type": "stream",
     "text": [
      "[Parallel(n_jobs=1)]: Done   2 out of   2 | elapsed:  1.3min remaining:    0.0s\n"
     ]
    },
    {
     "name": "stdout",
     "output_type": "stream",
     "text": [
      "[CV]  metric=<function calculate_distance at 0x000002C8A5544EA0>, metric_params={'dist_type': 'pearson'}, n_neighbors=3, score=0.3798076923076923, total=   8.8s\n",
      "[CV] metric=<function calculate_distance at 0x000002C8A5544EA0>, metric_params={'dist_type': 'pearson'}, n_neighbors=4 \n",
      "[CV]  metric=<function calculate_distance at 0x000002C8A5544EA0>, metric_params={'dist_type': 'pearson'}, n_neighbors=4, score=0.3557692307692308, total=   8.9s\n",
      "[CV] metric=<function calculate_distance at 0x000002C8A5544EA0>, metric_params={'dist_type': 'pearson'}, n_neighbors=5 \n",
      "[CV]  metric=<function calculate_distance at 0x000002C8A5544EA0>, metric_params={'dist_type': 'pearson'}, n_neighbors=5, score=0.3125, total=   9.0s\n",
      "[CV] metric=<function calculate_distance at 0x000002C8A5544EA0>, metric_params={'dist_type': 'pearson'}, n_neighbors=6 \n",
      "[CV]  metric=<function calculate_distance at 0x000002C8A5544EA0>, metric_params={'dist_type': 'pearson'}, n_neighbors=6, score=0.2932692307692308, total=   9.1s\n",
      "[CV] metric=<function calculate_distance at 0x000002C8A5544EA0>, metric_params={'dist_type': 'pearson'}, n_neighbors=7 \n",
      "[CV]  metric=<function calculate_distance at 0x000002C8A5544EA0>, metric_params={'dist_type': 'pearson'}, n_neighbors=7, score=0.2403846153846154, total=   9.0s\n",
      "[CV] metric=<function calculate_distance at 0x000002C8A5544EA0>, metric_params={'dist_type': 'pearson'}, n_neighbors=8 \n",
      "[CV]  metric=<function calculate_distance at 0x000002C8A5544EA0>, metric_params={'dist_type': 'pearson'}, n_neighbors=8, score=0.21153846153846154, total=   9.3s\n",
      "[CV] metric=<function calculate_distance at 0x000002C8A5544EA0>, metric_params={'dist_type': 'pearson'}, n_neighbors=9 \n",
      "[CV]  metric=<function calculate_distance at 0x000002C8A5544EA0>, metric_params={'dist_type': 'pearson'}, n_neighbors=9, score=0.20673076923076922, total=   9.3s\n",
      "[CV] metric=<function calculate_distance at 0x000002C8A5544EA0>, metric_params={'dist_type': 'pearson'}, n_neighbors=10 \n",
      "[CV]  metric=<function calculate_distance at 0x000002C8A5544EA0>, metric_params={'dist_type': 'pearson'}, n_neighbors=10, score=0.20192307692307693, total=   9.5s\n"
     ]
    },
    {
     "name": "stderr",
     "output_type": "stream",
     "text": [
      "[Parallel(n_jobs=1)]: Done  10 out of  10 | elapsed:  6.9min finished\n"
     ]
    },
    {
     "name": "stdout",
     "output_type": "stream",
     "text": [
      "2\n",
      "Fitting 1 folds for each of 10 candidates, totalling 10 fits\n",
      "[CV] metric=<function calculate_distance at 0x000002C8A5544EA0>, metric_params={'dist_type': 'pearson'}, n_neighbors=1 \n",
      "[CV]  metric=<function calculate_distance at 0x000002C8A5544EA0>, metric_params={'dist_type': 'pearson'}, n_neighbors=1, score=0.5240384615384616, total=  10.2s\n",
      "[CV] metric=<function calculate_distance at 0x000002C8A5544EA0>, metric_params={'dist_type': 'pearson'}, n_neighbors=2 \n"
     ]
    },
    {
     "name": "stderr",
     "output_type": "stream",
     "text": [
      "[Parallel(n_jobs=1)]: Done   1 out of   1 | elapsed:   46.7s remaining:    0.0s\n"
     ]
    },
    {
     "name": "stdout",
     "output_type": "stream",
     "text": [
      "[CV]  metric=<function calculate_distance at 0x000002C8A5544EA0>, metric_params={'dist_type': 'pearson'}, n_neighbors=2, score=0.4423076923076923, total=  10.1s\n",
      "[CV] metric=<function calculate_distance at 0x000002C8A5544EA0>, metric_params={'dist_type': 'pearson'}, n_neighbors=3 \n"
     ]
    },
    {
     "name": "stderr",
     "output_type": "stream",
     "text": [
      "[Parallel(n_jobs=1)]: Done   2 out of   2 | elapsed:  1.6min remaining:    0.0s\n"
     ]
    },
    {
     "name": "stdout",
     "output_type": "stream",
     "text": [
      "[CV]  metric=<function calculate_distance at 0x000002C8A5544EA0>, metric_params={'dist_type': 'pearson'}, n_neighbors=3, score=0.40865384615384615, total=  10.1s\n",
      "[CV] metric=<function calculate_distance at 0x000002C8A5544EA0>, metric_params={'dist_type': 'pearson'}, n_neighbors=4 \n",
      "[CV]  metric=<function calculate_distance at 0x000002C8A5544EA0>, metric_params={'dist_type': 'pearson'}, n_neighbors=4, score=0.36538461538461536, total=  10.4s\n",
      "[CV] metric=<function calculate_distance at 0x000002C8A5544EA0>, metric_params={'dist_type': 'pearson'}, n_neighbors=5 \n",
      "[CV]  metric=<function calculate_distance at 0x000002C8A5544EA0>, metric_params={'dist_type': 'pearson'}, n_neighbors=5, score=0.32211538461538464, total=  10.7s\n",
      "[CV] metric=<function calculate_distance at 0x000002C8A5544EA0>, metric_params={'dist_type': 'pearson'}, n_neighbors=6 \n",
      "[CV]  metric=<function calculate_distance at 0x000002C8A5544EA0>, metric_params={'dist_type': 'pearson'}, n_neighbors=6, score=0.27884615384615385, total=  10.7s\n",
      "[CV] metric=<function calculate_distance at 0x000002C8A5544EA0>, metric_params={'dist_type': 'pearson'}, n_neighbors=7 \n",
      "[CV]  metric=<function calculate_distance at 0x000002C8A5544EA0>, metric_params={'dist_type': 'pearson'}, n_neighbors=7, score=0.2644230769230769, total=  10.8s\n",
      "[CV] metric=<function calculate_distance at 0x000002C8A5544EA0>, metric_params={'dist_type': 'pearson'}, n_neighbors=8 \n",
      "[CV]  metric=<function calculate_distance at 0x000002C8A5544EA0>, metric_params={'dist_type': 'pearson'}, n_neighbors=8, score=0.22115384615384615, total=  10.8s\n",
      "[CV] metric=<function calculate_distance at 0x000002C8A5544EA0>, metric_params={'dist_type': 'pearson'}, n_neighbors=9 \n",
      "[CV]  metric=<function calculate_distance at 0x000002C8A5544EA0>, metric_params={'dist_type': 'pearson'}, n_neighbors=9, score=0.22115384615384615, total=  10.9s\n",
      "[CV] metric=<function calculate_distance at 0x000002C8A5544EA0>, metric_params={'dist_type': 'pearson'}, n_neighbors=10 \n",
      "[CV]  metric=<function calculate_distance at 0x000002C8A5544EA0>, metric_params={'dist_type': 'pearson'}, n_neighbors=10, score=0.22115384615384615, total=  10.9s\n"
     ]
    },
    {
     "name": "stderr",
     "output_type": "stream",
     "text": [
      "[Parallel(n_jobs=1)]: Done  10 out of  10 | elapsed:  8.3min finished\n"
     ]
    },
    {
     "name": "stdout",
     "output_type": "stream",
     "text": [
      "3\n",
      "Fitting 1 folds for each of 10 candidates, totalling 10 fits\n",
      "[CV] metric=<function calculate_distance at 0x000002C8A5544EA0>, metric_params={'dist_type': 'pearson'}, n_neighbors=1 \n",
      "[CV]  metric=<function calculate_distance at 0x000002C8A5544EA0>, metric_params={'dist_type': 'pearson'}, n_neighbors=1, score=0.5721153846153846, total=  10.3s\n",
      "[CV] metric=<function calculate_distance at 0x000002C8A5544EA0>, metric_params={'dist_type': 'pearson'}, n_neighbors=2 \n"
     ]
    },
    {
     "name": "stderr",
     "output_type": "stream",
     "text": [
      "[Parallel(n_jobs=1)]: Done   1 out of   1 | elapsed:   45.9s remaining:    0.0s\n"
     ]
    },
    {
     "name": "stdout",
     "output_type": "stream",
     "text": [
      "[CV]  metric=<function calculate_distance at 0x000002C8A5544EA0>, metric_params={'dist_type': 'pearson'}, n_neighbors=2, score=0.47596153846153844, total=  10.3s\n",
      "[CV] metric=<function calculate_distance at 0x000002C8A5544EA0>, metric_params={'dist_type': 'pearson'}, n_neighbors=3 \n"
     ]
    },
    {
     "name": "stderr",
     "output_type": "stream",
     "text": [
      "[Parallel(n_jobs=1)]: Done   2 out of   2 | elapsed:  1.6min remaining:    0.0s\n"
     ]
    },
    {
     "name": "stdout",
     "output_type": "stream",
     "text": [
      "[CV]  metric=<function calculate_distance at 0x000002C8A5544EA0>, metric_params={'dist_type': 'pearson'}, n_neighbors=3, score=0.41346153846153844, total=  10.6s\n",
      "[CV] metric=<function calculate_distance at 0x000002C8A5544EA0>, metric_params={'dist_type': 'pearson'}, n_neighbors=4 \n",
      "[CV]  metric=<function calculate_distance at 0x000002C8A5544EA0>, metric_params={'dist_type': 'pearson'}, n_neighbors=4, score=0.375, total=  10.8s\n",
      "[CV] metric=<function calculate_distance at 0x000002C8A5544EA0>, metric_params={'dist_type': 'pearson'}, n_neighbors=5 \n",
      "[CV]  metric=<function calculate_distance at 0x000002C8A5544EA0>, metric_params={'dist_type': 'pearson'}, n_neighbors=5, score=0.3317307692307692, total=  10.8s\n",
      "[CV] metric=<function calculate_distance at 0x000002C8A5544EA0>, metric_params={'dist_type': 'pearson'}, n_neighbors=6 \n",
      "[CV]  metric=<function calculate_distance at 0x000002C8A5544EA0>, metric_params={'dist_type': 'pearson'}, n_neighbors=6, score=0.3173076923076923, total=  11.0s\n",
      "[CV] metric=<function calculate_distance at 0x000002C8A5544EA0>, metric_params={'dist_type': 'pearson'}, n_neighbors=7 \n",
      "[CV]  metric=<function calculate_distance at 0x000002C8A5544EA0>, metric_params={'dist_type': 'pearson'}, n_neighbors=7, score=0.27884615384615385, total=  11.0s\n",
      "[CV] metric=<function calculate_distance at 0x000002C8A5544EA0>, metric_params={'dist_type': 'pearson'}, n_neighbors=8 \n",
      "[CV]  metric=<function calculate_distance at 0x000002C8A5544EA0>, metric_params={'dist_type': 'pearson'}, n_neighbors=8, score=0.24519230769230768, total=  11.1s\n",
      "[CV] metric=<function calculate_distance at 0x000002C8A5544EA0>, metric_params={'dist_type': 'pearson'}, n_neighbors=9 \n",
      "[CV]  metric=<function calculate_distance at 0x000002C8A5544EA0>, metric_params={'dist_type': 'pearson'}, n_neighbors=9, score=0.20673076923076922, total=  11.2s\n",
      "[CV] metric=<function calculate_distance at 0x000002C8A5544EA0>, metric_params={'dist_type': 'pearson'}, n_neighbors=10 \n",
      "[CV]  metric=<function calculate_distance at 0x000002C8A5544EA0>, metric_params={'dist_type': 'pearson'}, n_neighbors=10, score=0.22596153846153846, total=  11.2s\n"
     ]
    },
    {
     "name": "stderr",
     "output_type": "stream",
     "text": [
      "[Parallel(n_jobs=1)]: Done  10 out of  10 | elapsed:  8.4min finished\n"
     ]
    },
    {
     "name": "stdout",
     "output_type": "stream",
     "text": [
      "4\n",
      "Fitting 1 folds for each of 10 candidates, totalling 10 fits\n",
      "[CV] metric=<function calculate_distance at 0x000002C8A5544EA0>, metric_params={'dist_type': 'pearson'}, n_neighbors=1 \n",
      "[CV]  metric=<function calculate_distance at 0x000002C8A5544EA0>, metric_params={'dist_type': 'pearson'}, n_neighbors=1, score=0.5288461538461539, total=  12.0s\n",
      "[CV] metric=<function calculate_distance at 0x000002C8A5544EA0>, metric_params={'dist_type': 'pearson'}, n_neighbors=2 \n"
     ]
    },
    {
     "name": "stderr",
     "output_type": "stream",
     "text": [
      "[Parallel(n_jobs=1)]: Done   1 out of   1 | elapsed:   54.6s remaining:    0.0s\n"
     ]
    },
    {
     "name": "stdout",
     "output_type": "stream",
     "text": [
      "[CV]  metric=<function calculate_distance at 0x000002C8A5544EA0>, metric_params={'dist_type': 'pearson'}, n_neighbors=2, score=0.46634615384615385, total=  12.3s\n",
      "[CV] metric=<function calculate_distance at 0x000002C8A5544EA0>, metric_params={'dist_type': 'pearson'}, n_neighbors=3 \n"
     ]
    },
    {
     "name": "stderr",
     "output_type": "stream",
     "text": [
      "[Parallel(n_jobs=1)]: Done   2 out of   2 | elapsed:  1.9min remaining:    0.0s\n"
     ]
    },
    {
     "name": "stdout",
     "output_type": "stream",
     "text": [
      "[CV]  metric=<function calculate_distance at 0x000002C8A5544EA0>, metric_params={'dist_type': 'pearson'}, n_neighbors=3, score=0.4375, total=  12.3s\n",
      "[CV] metric=<function calculate_distance at 0x000002C8A5544EA0>, metric_params={'dist_type': 'pearson'}, n_neighbors=4 \n",
      "[CV]  metric=<function calculate_distance at 0x000002C8A5544EA0>, metric_params={'dist_type': 'pearson'}, n_neighbors=4, score=0.3605769230769231, total=  12.3s\n",
      "[CV] metric=<function calculate_distance at 0x000002C8A5544EA0>, metric_params={'dist_type': 'pearson'}, n_neighbors=5 \n",
      "[CV]  metric=<function calculate_distance at 0x000002C8A5544EA0>, metric_params={'dist_type': 'pearson'}, n_neighbors=5, score=0.28846153846153844, total=  12.5s\n",
      "[CV] metric=<function calculate_distance at 0x000002C8A5544EA0>, metric_params={'dist_type': 'pearson'}, n_neighbors=6 \n",
      "[CV]  metric=<function calculate_distance at 0x000002C8A5544EA0>, metric_params={'dist_type': 'pearson'}, n_neighbors=6, score=0.27403846153846156, total=  12.5s\n",
      "[CV] metric=<function calculate_distance at 0x000002C8A5544EA0>, metric_params={'dist_type': 'pearson'}, n_neighbors=7 \n",
      "[CV]  metric=<function calculate_distance at 0x000002C8A5544EA0>, metric_params={'dist_type': 'pearson'}, n_neighbors=7, score=0.2644230769230769, total=  12.7s\n",
      "[CV] metric=<function calculate_distance at 0x000002C8A5544EA0>, metric_params={'dist_type': 'pearson'}, n_neighbors=8 \n",
      "[CV]  metric=<function calculate_distance at 0x000002C8A5544EA0>, metric_params={'dist_type': 'pearson'}, n_neighbors=8, score=0.23557692307692307, total=  12.7s\n",
      "[CV] metric=<function calculate_distance at 0x000002C8A5544EA0>, metric_params={'dist_type': 'pearson'}, n_neighbors=9 \n",
      "[CV]  metric=<function calculate_distance at 0x000002C8A5544EA0>, metric_params={'dist_type': 'pearson'}, n_neighbors=9, score=0.22115384615384615, total=  12.7s\n",
      "[CV] metric=<function calculate_distance at 0x000002C8A5544EA0>, metric_params={'dist_type': 'pearson'}, n_neighbors=10 \n",
      "[CV]  metric=<function calculate_distance at 0x000002C8A5544EA0>, metric_params={'dist_type': 'pearson'}, n_neighbors=10, score=0.20673076923076922, total=  13.0s\n"
     ]
    },
    {
     "name": "stderr",
     "output_type": "stream",
     "text": [
      "[Parallel(n_jobs=1)]: Done  10 out of  10 | elapsed:  9.9min finished\n"
     ]
    },
    {
     "name": "stdout",
     "output_type": "stream",
     "text": [
      "5\n",
      "Fitting 1 folds for each of 10 candidates, totalling 10 fits\n",
      "[CV] metric=<function calculate_distance at 0x000002C8A5544EA0>, metric_params={'dist_type': 'pearson'}, n_neighbors=1 \n",
      "[CV]  metric=<function calculate_distance at 0x000002C8A5544EA0>, metric_params={'dist_type': 'pearson'}, n_neighbors=1, score=0.5673076923076923, total=  12.5s\n",
      "[CV] metric=<function calculate_distance at 0x000002C8A5544EA0>, metric_params={'dist_type': 'pearson'}, n_neighbors=2 \n"
     ]
    },
    {
     "name": "stderr",
     "output_type": "stream",
     "text": [
      "[Parallel(n_jobs=1)]: Done   1 out of   1 | elapsed:   55.7s remaining:    0.0s\n"
     ]
    },
    {
     "name": "stdout",
     "output_type": "stream",
     "text": [
      "[CV]  metric=<function calculate_distance at 0x000002C8A5544EA0>, metric_params={'dist_type': 'pearson'}, n_neighbors=2, score=0.4807692307692308, total=  12.6s\n",
      "[CV] metric=<function calculate_distance at 0x000002C8A5544EA0>, metric_params={'dist_type': 'pearson'}, n_neighbors=3 \n"
     ]
    },
    {
     "name": "stderr",
     "output_type": "stream",
     "text": [
      "[Parallel(n_jobs=1)]: Done   2 out of   2 | elapsed:  1.9min remaining:    0.0s\n"
     ]
    },
    {
     "name": "stdout",
     "output_type": "stream",
     "text": [
      "[CV]  metric=<function calculate_distance at 0x000002C8A5544EA0>, metric_params={'dist_type': 'pearson'}, n_neighbors=3, score=0.42788461538461536, total=  12.7s\n",
      "[CV] metric=<function calculate_distance at 0x000002C8A5544EA0>, metric_params={'dist_type': 'pearson'}, n_neighbors=4 \n",
      "[CV]  metric=<function calculate_distance at 0x000002C8A5544EA0>, metric_params={'dist_type': 'pearson'}, n_neighbors=4, score=0.35096153846153844, total=  12.8s\n",
      "[CV] metric=<function calculate_distance at 0x000002C8A5544EA0>, metric_params={'dist_type': 'pearson'}, n_neighbors=5 \n",
      "[CV]  metric=<function calculate_distance at 0x000002C8A5544EA0>, metric_params={'dist_type': 'pearson'}, n_neighbors=5, score=0.3269230769230769, total=  12.9s\n",
      "[CV] metric=<function calculate_distance at 0x000002C8A5544EA0>, metric_params={'dist_type': 'pearson'}, n_neighbors=6 \n",
      "[CV]  metric=<function calculate_distance at 0x000002C8A5544EA0>, metric_params={'dist_type': 'pearson'}, n_neighbors=6, score=0.3076923076923077, total=  13.0s\n",
      "[CV] metric=<function calculate_distance at 0x000002C8A5544EA0>, metric_params={'dist_type': 'pearson'}, n_neighbors=7 \n",
      "[CV]  metric=<function calculate_distance at 0x000002C8A5544EA0>, metric_params={'dist_type': 'pearson'}, n_neighbors=7, score=0.27884615384615385, total=  13.1s\n",
      "[CV] metric=<function calculate_distance at 0x000002C8A5544EA0>, metric_params={'dist_type': 'pearson'}, n_neighbors=8 \n",
      "[CV]  metric=<function calculate_distance at 0x000002C8A5544EA0>, metric_params={'dist_type': 'pearson'}, n_neighbors=8, score=0.2644230769230769, total=  13.2s\n",
      "[CV] metric=<function calculate_distance at 0x000002C8A5544EA0>, metric_params={'dist_type': 'pearson'}, n_neighbors=9 \n",
      "[CV]  metric=<function calculate_distance at 0x000002C8A5544EA0>, metric_params={'dist_type': 'pearson'}, n_neighbors=9, score=0.22596153846153846, total=  13.3s\n",
      "[CV] metric=<function calculate_distance at 0x000002C8A5544EA0>, metric_params={'dist_type': 'pearson'}, n_neighbors=10 \n",
      "[CV]  metric=<function calculate_distance at 0x000002C8A5544EA0>, metric_params={'dist_type': 'pearson'}, n_neighbors=10, score=0.22115384615384615, total=  13.4s\n"
     ]
    },
    {
     "name": "stderr",
     "output_type": "stream",
     "text": [
      "[Parallel(n_jobs=1)]: Done  10 out of  10 | elapsed: 10.1min finished\n"
     ]
    },
    {
     "name": "stdout",
     "output_type": "stream",
     "text": [
      "6\n",
      "Fitting 1 folds for each of 10 candidates, totalling 10 fits\n",
      "[CV] metric=<function calculate_distance at 0x000002C8A5544EA0>, metric_params={'dist_type': 'pearson'}, n_neighbors=1 \n",
      "[CV]  metric=<function calculate_distance at 0x000002C8A5544EA0>, metric_params={'dist_type': 'pearson'}, n_neighbors=1, score=0.5673076923076923, total=  11.9s\n",
      "[CV] metric=<function calculate_distance at 0x000002C8A5544EA0>, metric_params={'dist_type': 'pearson'}, n_neighbors=2 \n"
     ]
    },
    {
     "name": "stderr",
     "output_type": "stream",
     "text": [
      "[Parallel(n_jobs=1)]: Done   1 out of   1 | elapsed:   53.3s remaining:    0.0s\n"
     ]
    },
    {
     "name": "stdout",
     "output_type": "stream",
     "text": [
      "[CV]  metric=<function calculate_distance at 0x000002C8A5544EA0>, metric_params={'dist_type': 'pearson'}, n_neighbors=2, score=0.5048076923076923, total=  12.3s\n",
      "[CV] metric=<function calculate_distance at 0x000002C8A5544EA0>, metric_params={'dist_type': 'pearson'}, n_neighbors=3 \n"
     ]
    },
    {
     "name": "stderr",
     "output_type": "stream",
     "text": [
      "[Parallel(n_jobs=1)]: Done   2 out of   2 | elapsed:  1.8min remaining:    0.0s\n"
     ]
    },
    {
     "name": "stdout",
     "output_type": "stream",
     "text": [
      "[CV]  metric=<function calculate_distance at 0x000002C8A5544EA0>, metric_params={'dist_type': 'pearson'}, n_neighbors=3, score=0.4375, total=  12.5s\n",
      "[CV] metric=<function calculate_distance at 0x000002C8A5544EA0>, metric_params={'dist_type': 'pearson'}, n_neighbors=4 \n",
      "[CV]  metric=<function calculate_distance at 0x000002C8A5544EA0>, metric_params={'dist_type': 'pearson'}, n_neighbors=4, score=0.3701923076923077, total=  12.6s\n",
      "[CV] metric=<function calculate_distance at 0x000002C8A5544EA0>, metric_params={'dist_type': 'pearson'}, n_neighbors=5 \n",
      "[CV]  metric=<function calculate_distance at 0x000002C8A5544EA0>, metric_params={'dist_type': 'pearson'}, n_neighbors=5, score=0.32211538461538464, total=  12.9s\n",
      "[CV] metric=<function calculate_distance at 0x000002C8A5544EA0>, metric_params={'dist_type': 'pearson'}, n_neighbors=6 \n",
      "[CV]  metric=<function calculate_distance at 0x000002C8A5544EA0>, metric_params={'dist_type': 'pearson'}, n_neighbors=6, score=0.28365384615384615, total=  12.9s\n",
      "[CV] metric=<function calculate_distance at 0x000002C8A5544EA0>, metric_params={'dist_type': 'pearson'}, n_neighbors=7 \n",
      "[CV]  metric=<function calculate_distance at 0x000002C8A5544EA0>, metric_params={'dist_type': 'pearson'}, n_neighbors=7, score=0.24519230769230768, total=  12.8s\n",
      "[CV] metric=<function calculate_distance at 0x000002C8A5544EA0>, metric_params={'dist_type': 'pearson'}, n_neighbors=8 \n",
      "[CV]  metric=<function calculate_distance at 0x000002C8A5544EA0>, metric_params={'dist_type': 'pearson'}, n_neighbors=8, score=0.25, total=  13.0s\n",
      "[CV] metric=<function calculate_distance at 0x000002C8A5544EA0>, metric_params={'dist_type': 'pearson'}, n_neighbors=9 \n",
      "[CV]  metric=<function calculate_distance at 0x000002C8A5544EA0>, metric_params={'dist_type': 'pearson'}, n_neighbors=9, score=0.22115384615384615, total=  13.0s\n",
      "[CV] metric=<function calculate_distance at 0x000002C8A5544EA0>, metric_params={'dist_type': 'pearson'}, n_neighbors=10 \n",
      "[CV]  metric=<function calculate_distance at 0x000002C8A5544EA0>, metric_params={'dist_type': 'pearson'}, n_neighbors=10, score=0.1875, total=  13.0s\n"
     ]
    },
    {
     "name": "stderr",
     "output_type": "stream",
     "text": [
      "[Parallel(n_jobs=1)]: Done  10 out of  10 | elapsed: 10.0min finished\n"
     ]
    },
    {
     "name": "stdout",
     "output_type": "stream",
     "text": [
      "7\n",
      "Fitting 1 folds for each of 10 candidates, totalling 10 fits\n",
      "[CV] metric=<function calculate_distance at 0x000002C8A5544EA0>, metric_params={'dist_type': 'pearson'}, n_neighbors=1 \n",
      "[CV]  metric=<function calculate_distance at 0x000002C8A5544EA0>, metric_params={'dist_type': 'pearson'}, n_neighbors=1, score=0.5625, total=  11.8s\n",
      "[CV] metric=<function calculate_distance at 0x000002C8A5544EA0>, metric_params={'dist_type': 'pearson'}, n_neighbors=2 \n"
     ]
    },
    {
     "name": "stderr",
     "output_type": "stream",
     "text": [
      "[Parallel(n_jobs=1)]: Done   1 out of   1 | elapsed:   52.5s remaining:    0.0s\n"
     ]
    },
    {
     "name": "stdout",
     "output_type": "stream",
     "text": [
      "[CV]  metric=<function calculate_distance at 0x000002C8A5544EA0>, metric_params={'dist_type': 'pearson'}, n_neighbors=2, score=0.5, total=  12.2s\n",
      "[CV] metric=<function calculate_distance at 0x000002C8A5544EA0>, metric_params={'dist_type': 'pearson'}, n_neighbors=3 \n"
     ]
    },
    {
     "name": "stderr",
     "output_type": "stream",
     "text": [
      "[Parallel(n_jobs=1)]: Done   2 out of   2 | elapsed:  1.8min remaining:    0.0s\n"
     ]
    },
    {
     "name": "stdout",
     "output_type": "stream",
     "text": [
      "[CV]  metric=<function calculate_distance at 0x000002C8A5544EA0>, metric_params={'dist_type': 'pearson'}, n_neighbors=3, score=0.4375, total=  12.3s\n",
      "[CV] metric=<function calculate_distance at 0x000002C8A5544EA0>, metric_params={'dist_type': 'pearson'}, n_neighbors=4 \n",
      "[CV]  metric=<function calculate_distance at 0x000002C8A5544EA0>, metric_params={'dist_type': 'pearson'}, n_neighbors=4, score=0.3942307692307692, total=  12.4s\n",
      "[CV] metric=<function calculate_distance at 0x000002C8A5544EA0>, metric_params={'dist_type': 'pearson'}, n_neighbors=5 \n",
      "[CV]  metric=<function calculate_distance at 0x000002C8A5544EA0>, metric_params={'dist_type': 'pearson'}, n_neighbors=5, score=0.35096153846153844, total=  12.6s\n",
      "[CV] metric=<function calculate_distance at 0x000002C8A5544EA0>, metric_params={'dist_type': 'pearson'}, n_neighbors=6 \n",
      "[CV]  metric=<function calculate_distance at 0x000002C8A5544EA0>, metric_params={'dist_type': 'pearson'}, n_neighbors=6, score=0.3076923076923077, total=  12.8s\n",
      "[CV] metric=<function calculate_distance at 0x000002C8A5544EA0>, metric_params={'dist_type': 'pearson'}, n_neighbors=7 \n",
      "[CV]  metric=<function calculate_distance at 0x000002C8A5544EA0>, metric_params={'dist_type': 'pearson'}, n_neighbors=7, score=0.2692307692307692, total=  12.8s\n",
      "[CV] metric=<function calculate_distance at 0x000002C8A5544EA0>, metric_params={'dist_type': 'pearson'}, n_neighbors=8 \n",
      "[CV]  metric=<function calculate_distance at 0x000002C8A5544EA0>, metric_params={'dist_type': 'pearson'}, n_neighbors=8, score=0.23076923076923078, total=  12.9s\n",
      "[CV] metric=<function calculate_distance at 0x000002C8A5544EA0>, metric_params={'dist_type': 'pearson'}, n_neighbors=9 \n",
      "[CV]  metric=<function calculate_distance at 0x000002C8A5544EA0>, metric_params={'dist_type': 'pearson'}, n_neighbors=9, score=0.1875, total=  13.0s\n",
      "[CV] metric=<function calculate_distance at 0x000002C8A5544EA0>, metric_params={'dist_type': 'pearson'}, n_neighbors=10 \n",
      "[CV]  metric=<function calculate_distance at 0x000002C8A5544EA0>, metric_params={'dist_type': 'pearson'}, n_neighbors=10, score=0.1778846153846154, total=  13.0s\n"
     ]
    },
    {
     "name": "stderr",
     "output_type": "stream",
     "text": [
      "[Parallel(n_jobs=1)]: Done  10 out of  10 | elapsed:  9.9min finished\n"
     ]
    },
    {
     "name": "stdout",
     "output_type": "stream",
     "text": [
      "8\n",
      "Fitting 1 folds for each of 10 candidates, totalling 10 fits\n",
      "[CV] metric=<function calculate_distance at 0x000002C8A5544EA0>, metric_params={'dist_type': 'pearson'}, n_neighbors=1 \n",
      "[CV]  metric=<function calculate_distance at 0x000002C8A5544EA0>, metric_params={'dist_type': 'pearson'}, n_neighbors=1, score=0.5673076923076923, total=  12.3s\n",
      "[CV] metric=<function calculate_distance at 0x000002C8A5544EA0>, metric_params={'dist_type': 'pearson'}, n_neighbors=2 \n"
     ]
    },
    {
     "name": "stderr",
     "output_type": "stream",
     "text": [
      "[Parallel(n_jobs=1)]: Done   1 out of   1 | elapsed:   55.4s remaining:    0.0s\n"
     ]
    },
    {
     "name": "stdout",
     "output_type": "stream",
     "text": [
      "[CV]  metric=<function calculate_distance at 0x000002C8A5544EA0>, metric_params={'dist_type': 'pearson'}, n_neighbors=2, score=0.47596153846153844, total=  12.9s\n",
      "[CV] metric=<function calculate_distance at 0x000002C8A5544EA0>, metric_params={'dist_type': 'pearson'}, n_neighbors=3 \n"
     ]
    },
    {
     "name": "stderr",
     "output_type": "stream",
     "text": [
      "[Parallel(n_jobs=1)]: Done   2 out of   2 | elapsed:  1.9min remaining:    0.0s\n"
     ]
    },
    {
     "name": "stdout",
     "output_type": "stream",
     "text": [
      "[CV]  metric=<function calculate_distance at 0x000002C8A5544EA0>, metric_params={'dist_type': 'pearson'}, n_neighbors=3, score=0.4375, total=  12.8s\n",
      "[CV] metric=<function calculate_distance at 0x000002C8A5544EA0>, metric_params={'dist_type': 'pearson'}, n_neighbors=4 \n",
      "[CV]  metric=<function calculate_distance at 0x000002C8A5544EA0>, metric_params={'dist_type': 'pearson'}, n_neighbors=4, score=0.3894230769230769, total=  13.0s\n",
      "[CV] metric=<function calculate_distance at 0x000002C8A5544EA0>, metric_params={'dist_type': 'pearson'}, n_neighbors=5 \n",
      "[CV]  metric=<function calculate_distance at 0x000002C8A5544EA0>, metric_params={'dist_type': 'pearson'}, n_neighbors=5, score=0.34134615384615385, total=  13.0s\n",
      "[CV] metric=<function calculate_distance at 0x000002C8A5544EA0>, metric_params={'dist_type': 'pearson'}, n_neighbors=6 \n",
      "[CV]  metric=<function calculate_distance at 0x000002C8A5544EA0>, metric_params={'dist_type': 'pearson'}, n_neighbors=6, score=0.30288461538461536, total=  13.2s\n",
      "[CV] metric=<function calculate_distance at 0x000002C8A5544EA0>, metric_params={'dist_type': 'pearson'}, n_neighbors=7 \n",
      "[CV]  metric=<function calculate_distance at 0x000002C8A5544EA0>, metric_params={'dist_type': 'pearson'}, n_neighbors=7, score=0.25961538461538464, total=  13.2s\n",
      "[CV] metric=<function calculate_distance at 0x000002C8A5544EA0>, metric_params={'dist_type': 'pearson'}, n_neighbors=8 \n",
      "[CV]  metric=<function calculate_distance at 0x000002C8A5544EA0>, metric_params={'dist_type': 'pearson'}, n_neighbors=8, score=0.22596153846153846, total=  13.3s\n",
      "[CV] metric=<function calculate_distance at 0x000002C8A5544EA0>, metric_params={'dist_type': 'pearson'}, n_neighbors=9 \n",
      "[CV]  metric=<function calculate_distance at 0x000002C8A5544EA0>, metric_params={'dist_type': 'pearson'}, n_neighbors=9, score=0.1971153846153846, total=  13.4s\n",
      "[CV] metric=<function calculate_distance at 0x000002C8A5544EA0>, metric_params={'dist_type': 'pearson'}, n_neighbors=10 \n",
      "[CV]  metric=<function calculate_distance at 0x000002C8A5544EA0>, metric_params={'dist_type': 'pearson'}, n_neighbors=10, score=0.17307692307692307, total=  13.7s\n"
     ]
    },
    {
     "name": "stderr",
     "output_type": "stream",
     "text": [
      "[Parallel(n_jobs=1)]: Done  10 out of  10 | elapsed: 10.3min finished\n"
     ]
    },
    {
     "name": "stdout",
     "output_type": "stream",
     "text": [
      "9\n",
      "Fitting 1 folds for each of 10 candidates, totalling 10 fits\n",
      "[CV] metric=<function calculate_distance at 0x000002C8A5544EA0>, metric_params={'dist_type': 'pearson'}, n_neighbors=1 \n",
      "[CV]  metric=<function calculate_distance at 0x000002C8A5544EA0>, metric_params={'dist_type': 'pearson'}, n_neighbors=1, score=0.5673076923076923, total=  13.3s\n",
      "[CV] metric=<function calculate_distance at 0x000002C8A5544EA0>, metric_params={'dist_type': 'pearson'}, n_neighbors=2 \n"
     ]
    },
    {
     "name": "stderr",
     "output_type": "stream",
     "text": [
      "[Parallel(n_jobs=1)]: Done   1 out of   1 | elapsed:   59.7s remaining:    0.0s\n"
     ]
    },
    {
     "name": "stdout",
     "output_type": "stream",
     "text": [
      "[CV]  metric=<function calculate_distance at 0x000002C8A5544EA0>, metric_params={'dist_type': 'pearson'}, n_neighbors=2, score=0.49038461538461536, total=  13.6s\n",
      "[CV] metric=<function calculate_distance at 0x000002C8A5544EA0>, metric_params={'dist_type': 'pearson'}, n_neighbors=3 \n"
     ]
    },
    {
     "name": "stderr",
     "output_type": "stream",
     "text": [
      "[Parallel(n_jobs=1)]: Done   2 out of   2 | elapsed:  2.1min remaining:    0.0s\n"
     ]
    },
    {
     "name": "stdout",
     "output_type": "stream",
     "text": [
      "[CV]  metric=<function calculate_distance at 0x000002C8A5544EA0>, metric_params={'dist_type': 'pearson'}, n_neighbors=3, score=0.4423076923076923, total=  13.6s\n",
      "[CV] metric=<function calculate_distance at 0x000002C8A5544EA0>, metric_params={'dist_type': 'pearson'}, n_neighbors=4 \n",
      "[CV]  metric=<function calculate_distance at 0x000002C8A5544EA0>, metric_params={'dist_type': 'pearson'}, n_neighbors=4, score=0.39903846153846156, total=  14.4s\n",
      "[CV] metric=<function calculate_distance at 0x000002C8A5544EA0>, metric_params={'dist_type': 'pearson'}, n_neighbors=5 \n",
      "[CV]  metric=<function calculate_distance at 0x000002C8A5544EA0>, metric_params={'dist_type': 'pearson'}, n_neighbors=5, score=0.33653846153846156, total=  14.4s\n",
      "[CV] metric=<function calculate_distance at 0x000002C8A5544EA0>, metric_params={'dist_type': 'pearson'}, n_neighbors=6 \n",
      "[CV]  metric=<function calculate_distance at 0x000002C8A5544EA0>, metric_params={'dist_type': 'pearson'}, n_neighbors=6, score=0.28365384615384615, total=  13.9s\n",
      "[CV] metric=<function calculate_distance at 0x000002C8A5544EA0>, metric_params={'dist_type': 'pearson'}, n_neighbors=7 \n",
      "[CV]  metric=<function calculate_distance at 0x000002C8A5544EA0>, metric_params={'dist_type': 'pearson'}, n_neighbors=7, score=0.23076923076923078, total=  14.0s\n",
      "[CV] metric=<function calculate_distance at 0x000002C8A5544EA0>, metric_params={'dist_type': 'pearson'}, n_neighbors=8 \n",
      "[CV]  metric=<function calculate_distance at 0x000002C8A5544EA0>, metric_params={'dist_type': 'pearson'}, n_neighbors=8, score=0.21634615384615385, total=  14.0s\n",
      "[CV] metric=<function calculate_distance at 0x000002C8A5544EA0>, metric_params={'dist_type': 'pearson'}, n_neighbors=9 \n",
      "[CV]  metric=<function calculate_distance at 0x000002C8A5544EA0>, metric_params={'dist_type': 'pearson'}, n_neighbors=9, score=0.20673076923076922, total=  14.1s\n",
      "[CV] metric=<function calculate_distance at 0x000002C8A5544EA0>, metric_params={'dist_type': 'pearson'}, n_neighbors=10 \n",
      "[CV]  metric=<function calculate_distance at 0x000002C8A5544EA0>, metric_params={'dist_type': 'pearson'}, n_neighbors=10, score=0.1875, total=  14.1s\n"
     ]
    },
    {
     "name": "stderr",
     "output_type": "stream",
     "text": [
      "[Parallel(n_jobs=1)]: Done  10 out of  10 | elapsed: 11.1min finished\n"
     ]
    },
    {
     "name": "stdout",
     "output_type": "stream",
     "text": [
      "10\n",
      "Fitting 1 folds for each of 10 candidates, totalling 10 fits\n",
      "[CV] metric=<function calculate_distance at 0x000002C8A5544EA0>, metric_params={'dist_type': 'pearson'}, n_neighbors=1 \n",
      "[CV]  metric=<function calculate_distance at 0x000002C8A5544EA0>, metric_params={'dist_type': 'pearson'}, n_neighbors=1, score=0.6086956521739131, total=  13.1s\n",
      "[CV] metric=<function calculate_distance at 0x000002C8A5544EA0>, metric_params={'dist_type': 'pearson'}, n_neighbors=2 \n"
     ]
    },
    {
     "name": "stderr",
     "output_type": "stream",
     "text": [
      "[Parallel(n_jobs=1)]: Done   1 out of   1 | elapsed:   59.6s remaining:    0.0s\n"
     ]
    },
    {
     "name": "stdout",
     "output_type": "stream",
     "text": [
      "[CV]  metric=<function calculate_distance at 0x000002C8A5544EA0>, metric_params={'dist_type': 'pearson'}, n_neighbors=2, score=0.4975845410628019, total=  13.5s\n",
      "[CV] metric=<function calculate_distance at 0x000002C8A5544EA0>, metric_params={'dist_type': 'pearson'}, n_neighbors=3 \n"
     ]
    },
    {
     "name": "stderr",
     "output_type": "stream",
     "text": [
      "[Parallel(n_jobs=1)]: Done   2 out of   2 | elapsed:  2.1min remaining:    0.0s\n"
     ]
    },
    {
     "name": "stdout",
     "output_type": "stream",
     "text": [
      "[CV]  metric=<function calculate_distance at 0x000002C8A5544EA0>, metric_params={'dist_type': 'pearson'}, n_neighbors=3, score=0.43478260869565216, total=  13.5s\n",
      "[CV] metric=<function calculate_distance at 0x000002C8A5544EA0>, metric_params={'dist_type': 'pearson'}, n_neighbors=4 \n",
      "[CV]  metric=<function calculate_distance at 0x000002C8A5544EA0>, metric_params={'dist_type': 'pearson'}, n_neighbors=4, score=0.3864734299516908, total=  13.8s\n",
      "[CV] metric=<function calculate_distance at 0x000002C8A5544EA0>, metric_params={'dist_type': 'pearson'}, n_neighbors=5 \n",
      "[CV]  metric=<function calculate_distance at 0x000002C8A5544EA0>, metric_params={'dist_type': 'pearson'}, n_neighbors=5, score=0.33816425120772947, total=  13.7s\n",
      "[CV] metric=<function calculate_distance at 0x000002C8A5544EA0>, metric_params={'dist_type': 'pearson'}, n_neighbors=6 \n",
      "[CV]  metric=<function calculate_distance at 0x000002C8A5544EA0>, metric_params={'dist_type': 'pearson'}, n_neighbors=6, score=0.2753623188405797, total=  13.8s\n",
      "[CV] metric=<function calculate_distance at 0x000002C8A5544EA0>, metric_params={'dist_type': 'pearson'}, n_neighbors=7 \n",
      "[CV]  metric=<function calculate_distance at 0x000002C8A5544EA0>, metric_params={'dist_type': 'pearson'}, n_neighbors=7, score=0.24154589371980675, total=  14.0s\n",
      "[CV] metric=<function calculate_distance at 0x000002C8A5544EA0>, metric_params={'dist_type': 'pearson'}, n_neighbors=8 \n",
      "[CV]  metric=<function calculate_distance at 0x000002C8A5544EA0>, metric_params={'dist_type': 'pearson'}, n_neighbors=8, score=0.22705314009661837, total=  14.1s\n",
      "[CV] metric=<function calculate_distance at 0x000002C8A5544EA0>, metric_params={'dist_type': 'pearson'}, n_neighbors=9 \n",
      "[CV]  metric=<function calculate_distance at 0x000002C8A5544EA0>, metric_params={'dist_type': 'pearson'}, n_neighbors=9, score=0.2028985507246377, total=  14.1s\n",
      "[CV] metric=<function calculate_distance at 0x000002C8A5544EA0>, metric_params={'dist_type': 'pearson'}, n_neighbors=10 \n",
      "[CV]  metric=<function calculate_distance at 0x000002C8A5544EA0>, metric_params={'dist_type': 'pearson'}, n_neighbors=10, score=0.1932367149758454, total=  14.0s\n"
     ]
    },
    {
     "name": "stderr",
     "output_type": "stream",
     "text": [
      "[Parallel(n_jobs=1)]: Done  10 out of  10 | elapsed: 11.0min finished\n"
     ]
    },
    {
     "name": "stdout",
     "output_type": "stream",
     "text": [
      "11\n",
      "Fitting 1 folds for each of 10 candidates, totalling 10 fits\n",
      "[CV] metric=<function calculate_distance at 0x000002C8A5544EA0>, metric_params={'dist_type': 'pearson'}, n_neighbors=1 \n",
      "[CV]  metric=<function calculate_distance at 0x000002C8A5544EA0>, metric_params={'dist_type': 'pearson'}, n_neighbors=1, score=0.6135265700483091, total=  13.0s\n",
      "[CV] metric=<function calculate_distance at 0x000002C8A5544EA0>, metric_params={'dist_type': 'pearson'}, n_neighbors=2 \n"
     ]
    },
    {
     "name": "stderr",
     "output_type": "stream",
     "text": [
      "[Parallel(n_jobs=1)]: Done   1 out of   1 | elapsed:   59.3s remaining:    0.0s\n"
     ]
    },
    {
     "name": "stdout",
     "output_type": "stream",
     "text": [
      "[CV]  metric=<function calculate_distance at 0x000002C8A5544EA0>, metric_params={'dist_type': 'pearson'}, n_neighbors=2, score=0.5217391304347826, total=  13.3s\n",
      "[CV] metric=<function calculate_distance at 0x000002C8A5544EA0>, metric_params={'dist_type': 'pearson'}, n_neighbors=3 \n"
     ]
    },
    {
     "name": "stderr",
     "output_type": "stream",
     "text": [
      "[Parallel(n_jobs=1)]: Done   2 out of   2 | elapsed:  2.1min remaining:    0.0s\n"
     ]
    },
    {
     "name": "stdout",
     "output_type": "stream",
     "text": [
      "[CV]  metric=<function calculate_distance at 0x000002C8A5544EA0>, metric_params={'dist_type': 'pearson'}, n_neighbors=3, score=0.4444444444444444, total=  13.6s\n",
      "[CV] metric=<function calculate_distance at 0x000002C8A5544EA0>, metric_params={'dist_type': 'pearson'}, n_neighbors=4 \n",
      "[CV]  metric=<function calculate_distance at 0x000002C8A5544EA0>, metric_params={'dist_type': 'pearson'}, n_neighbors=4, score=0.3719806763285024, total=  13.5s\n",
      "[CV] metric=<function calculate_distance at 0x000002C8A5544EA0>, metric_params={'dist_type': 'pearson'}, n_neighbors=5 \n",
      "[CV]  metric=<function calculate_distance at 0x000002C8A5544EA0>, metric_params={'dist_type': 'pearson'}, n_neighbors=5, score=0.33816425120772947, total=  13.8s\n",
      "[CV] metric=<function calculate_distance at 0x000002C8A5544EA0>, metric_params={'dist_type': 'pearson'}, n_neighbors=6 \n",
      "[CV]  metric=<function calculate_distance at 0x000002C8A5544EA0>, metric_params={'dist_type': 'pearson'}, n_neighbors=6, score=0.27053140096618356, total=  13.8s\n",
      "[CV] metric=<function calculate_distance at 0x000002C8A5544EA0>, metric_params={'dist_type': 'pearson'}, n_neighbors=7 \n",
      "[CV]  metric=<function calculate_distance at 0x000002C8A5544EA0>, metric_params={'dist_type': 'pearson'}, n_neighbors=7, score=0.2318840579710145, total=  13.9s\n",
      "[CV] metric=<function calculate_distance at 0x000002C8A5544EA0>, metric_params={'dist_type': 'pearson'}, n_neighbors=8 \n",
      "[CV]  metric=<function calculate_distance at 0x000002C8A5544EA0>, metric_params={'dist_type': 'pearson'}, n_neighbors=8, score=0.24154589371980675, total=  14.1s\n",
      "[CV] metric=<function calculate_distance at 0x000002C8A5544EA0>, metric_params={'dist_type': 'pearson'}, n_neighbors=9 \n",
      "[CV]  metric=<function calculate_distance at 0x000002C8A5544EA0>, metric_params={'dist_type': 'pearson'}, n_neighbors=9, score=0.19806763285024154, total=  14.2s\n",
      "[CV] metric=<function calculate_distance at 0x000002C8A5544EA0>, metric_params={'dist_type': 'pearson'}, n_neighbors=10 \n",
      "[CV]  metric=<function calculate_distance at 0x000002C8A5544EA0>, metric_params={'dist_type': 'pearson'}, n_neighbors=10, score=0.21739130434782608, total=  14.2s\n"
     ]
    },
    {
     "name": "stderr",
     "output_type": "stream",
     "text": [
      "[Parallel(n_jobs=1)]: Done  10 out of  10 | elapsed: 11.0min finished\n"
     ]
    },
    {
     "name": "stdout",
     "output_type": "stream",
     "text": [
      "12\n",
      "Fitting 1 folds for each of 10 candidates, totalling 10 fits\n",
      "[CV] metric=<function calculate_distance at 0x000002C8A5544EA0>, metric_params={'dist_type': 'pearson'}, n_neighbors=1 \n",
      "[CV]  metric=<function calculate_distance at 0x000002C8A5544EA0>, metric_params={'dist_type': 'pearson'}, n_neighbors=1, score=0.6135265700483091, total=  13.1s\n",
      "[CV] metric=<function calculate_distance at 0x000002C8A5544EA0>, metric_params={'dist_type': 'pearson'}, n_neighbors=2 \n"
     ]
    },
    {
     "name": "stderr",
     "output_type": "stream",
     "text": [
      "[Parallel(n_jobs=1)]: Done   1 out of   1 | elapsed:   59.1s remaining:    0.0s\n"
     ]
    },
    {
     "name": "stdout",
     "output_type": "stream",
     "text": [
      "[CV]  metric=<function calculate_distance at 0x000002C8A5544EA0>, metric_params={'dist_type': 'pearson'}, n_neighbors=2, score=0.5120772946859904, total=  13.5s\n",
      "[CV] metric=<function calculate_distance at 0x000002C8A5544EA0>, metric_params={'dist_type': 'pearson'}, n_neighbors=3 \n"
     ]
    },
    {
     "name": "stderr",
     "output_type": "stream",
     "text": [
      "[Parallel(n_jobs=1)]: Done   2 out of   2 | elapsed:  2.1min remaining:    0.0s\n"
     ]
    },
    {
     "name": "stdout",
     "output_type": "stream",
     "text": [
      "[CV]  metric=<function calculate_distance at 0x000002C8A5544EA0>, metric_params={'dist_type': 'pearson'}, n_neighbors=3, score=0.42995169082125606, total=  13.6s\n",
      "[CV] metric=<function calculate_distance at 0x000002C8A5544EA0>, metric_params={'dist_type': 'pearson'}, n_neighbors=4 \n",
      "[CV]  metric=<function calculate_distance at 0x000002C8A5544EA0>, metric_params={'dist_type': 'pearson'}, n_neighbors=4, score=0.34299516908212563, total=  13.6s\n",
      "[CV] metric=<function calculate_distance at 0x000002C8A5544EA0>, metric_params={'dist_type': 'pearson'}, n_neighbors=5 \n",
      "[CV]  metric=<function calculate_distance at 0x000002C8A5544EA0>, metric_params={'dist_type': 'pearson'}, n_neighbors=5, score=0.3285024154589372, total=  13.9s\n",
      "[CV] metric=<function calculate_distance at 0x000002C8A5544EA0>, metric_params={'dist_type': 'pearson'}, n_neighbors=6 \n",
      "[CV]  metric=<function calculate_distance at 0x000002C8A5544EA0>, metric_params={'dist_type': 'pearson'}, n_neighbors=6, score=0.26570048309178745, total=  13.9s\n",
      "[CV] metric=<function calculate_distance at 0x000002C8A5544EA0>, metric_params={'dist_type': 'pearson'}, n_neighbors=7 \n",
      "[CV]  metric=<function calculate_distance at 0x000002C8A5544EA0>, metric_params={'dist_type': 'pearson'}, n_neighbors=7, score=0.2560386473429952, total=  14.0s\n",
      "[CV] metric=<function calculate_distance at 0x000002C8A5544EA0>, metric_params={'dist_type': 'pearson'}, n_neighbors=8 \n",
      "[CV]  metric=<function calculate_distance at 0x000002C8A5544EA0>, metric_params={'dist_type': 'pearson'}, n_neighbors=8, score=0.23671497584541062, total=  14.0s\n",
      "[CV] metric=<function calculate_distance at 0x000002C8A5544EA0>, metric_params={'dist_type': 'pearson'}, n_neighbors=9 \n",
      "[CV]  metric=<function calculate_distance at 0x000002C8A5544EA0>, metric_params={'dist_type': 'pearson'}, n_neighbors=9, score=0.1932367149758454, total=  14.0s\n",
      "[CV] metric=<function calculate_distance at 0x000002C8A5544EA0>, metric_params={'dist_type': 'pearson'}, n_neighbors=10 \n",
      "[CV]  metric=<function calculate_distance at 0x000002C8A5544EA0>, metric_params={'dist_type': 'pearson'}, n_neighbors=10, score=0.19806763285024154, total=  14.1s\n"
     ]
    },
    {
     "name": "stderr",
     "output_type": "stream",
     "text": [
      "[Parallel(n_jobs=1)]: Done  10 out of  10 | elapsed: 11.1min finished\n"
     ]
    }
   ],
   "source": [
    "for nr in frame_numbers:\n",
    "    print(nr)\n",
    "    try:\n",
    "        emg_train_input, emg_train_label = prepare_data(train, nr, 'emg', verbose=False)\n",
    "        emg_valid_input, emg_valid_label = prepare_data(valid, nr, 'emg', verbose=False)\n",
    "\n",
    "        kNN = GridSearchCV(KNeighborsClassifier(), parameters, cv=cross_valid, scoring='accuracy', n_jobs=parallel_jobs,\n",
    "                           verbose=verbose_level).fit(np.append(emg_train_input, emg_valid_input, axis=0),\n",
    "                                                      np.append(emg_train_label, emg_valid_label))\n",
    "        result = (kNN.best_score_, nr, kNN.best_params_)\n",
    "        \n",
    "        if result[0] > pearson_emg[0]:\n",
    "            pearson_emg = result\n",
    "        \n",
    "    except ValueError as err:\n",
    "        pass"
   ]
  },
  {
   "cell_type": "code",
   "execution_count": 48,
   "metadata": {},
   "outputs": [
    {
     "name": "stdout",
     "output_type": "stream",
     "text": [
      "(0.66666666666666663, 4, {'metric': <function calculate_distance at 0x000002C8A5544EA0>, 'metric_params': {'dist_type': 'pearson'}, 'n_neighbors': 1})\n",
      "(0.51690821256038644, 12, {'metric': <function calculate_distance at 0x000002C8A5544EA0>, 'metric_params': {'dist_type': 'pearson'}, 'n_neighbors': 1})\n",
      "(0.50724637681159424, 2, {'metric': <function calculate_distance at 0x000002C8A5544EA0>, 'metric_params': {'dist_type': 'pearson'}, 'n_neighbors': 1})\n",
      "(0.61352657004830913, 11, {'metric': <function calculate_distance at 0x000002C8A5544EA0>, 'metric_params': {'dist_type': 'pearson'}, 'n_neighbors': 1})\n"
     ]
    }
   ],
   "source": [
    "print(pearson_acc, end='\\n')\n",
    "print(pearson_gyro, end='\\n')\n",
    "print(pearson_ori, end='\\n')\n",
    "print(pearson_emg, end='\\n')"
   ]
  },
  {
   "cell_type": "code",
   "execution_count": 49,
   "metadata": {},
   "outputs": [
    {
     "name": "stdout",
     "output_type": "stream",
     "text": [
      "Duration: 46434.982236623764\n"
     ]
    }
   ],
   "source": [
    "print('Duration: {}'.format(time.time() - start_time))"
   ]
  },
  {
   "cell_type": "code",
   "execution_count": null,
   "metadata": {
    "collapsed": true
   },
   "outputs": [],
   "source": []
  }
 ],
 "metadata": {
  "kernelspec": {
   "display_name": "Python 3",
   "language": "python",
   "name": "python3"
  },
  "language_info": {
   "codemirror_mode": {
    "name": "ipython",
    "version": 3
   },
   "file_extension": ".py",
   "mimetype": "text/x-python",
   "name": "python",
   "nbconvert_exporter": "python",
   "pygments_lexer": "ipython3",
   "version": "3.6.1"
  }
 },
 "nbformat": 4,
 "nbformat_minor": 2
}
