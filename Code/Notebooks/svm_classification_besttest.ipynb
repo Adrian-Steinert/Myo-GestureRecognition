{
 "cells": [
  {
   "cell_type": "markdown",
   "metadata": {},
   "source": [
    "# Klassifikation mit Support Vektor Maschinen"
   ]
  },
  {
   "cell_type": "code",
   "execution_count": 1,
   "metadata": {
    "collapsed": true
   },
   "outputs": [],
   "source": [
    "import os\n",
    "import sys\n",
    "import math\n",
    "import time\n",
    "import numpy as np\n",
    "\n",
    "import matplotlib.pyplot as plt\n",
    "\n",
    "from sklearn import svm\n",
    "from sklearn.externals import joblib\n",
    "from sklearn.metrics import confusion_matrix, accuracy_score, classification_report"
   ]
  },
  {
   "cell_type": "code",
   "execution_count": 2,
   "metadata": {},
   "outputs": [
    {
     "name": "stderr",
     "output_type": "stream",
     "text": [
      "c:\\python36\\lib\\site-packages\\statsmodels\\compat\\pandas.py:56: FutureWarning: The pandas.core.datetools module is deprecated and will be removed in a future version. Please use the pandas.tseries module instead.\n",
      "  from pandas.core import datetools\n"
     ]
    }
   ],
   "source": [
    "module_path = os.path.abspath(os.path.join('..'))\n",
    "if module_path not in sys.path:\n",
    "    sys.path.append(module_path)\n",
    "from Utils.data_preparation_helper import load_data_for_classification, prepare_data\n",
    "from Utils.data_evaluation_helper import parse_classification_report, report_to_latex_table"
   ]
  },
  {
   "cell_type": "code",
   "execution_count": 3,
   "metadata": {
    "collapsed": true
   },
   "outputs": [],
   "source": [
    "random_seed = 42"
   ]
  },
  {
   "cell_type": "code",
   "execution_count": 4,
   "metadata": {
    "collapsed": true
   },
   "outputs": [],
   "source": [
    "def print_confusion_matrix_colored(confusion_matrix, c_labels, xy_labelsize, c_labelsize, save=None):\n",
    "    fig = plt.figure(figsize=(10,10))\n",
    "    ax  = fig.add_subplot(111)\n",
    "    #ax.set_title('Classification report')\n",
    "    ax.set_xlabel('prädizierte Klasse', fontsize=xy_labelsize, labelpad=12)\n",
    "    ax.xaxis.tick_top()\n",
    "    ax.set_xticks(list(range(len(c_labels))))\n",
    "    ax.xaxis.set_label_position('top')\n",
    "    ax.xaxis.set_ticklabels(c_labels, fontsize=c_labelsize, rotation=90)\n",
    "\n",
    "    ax.set_ylabel('tatsächliche Klasse', fontsize=xy_labelsize)\n",
    "    ax.yaxis.set_ticklabels(c_labels, fontsize=c_labelsize)\n",
    "    ax.set_yticks(list(range(len(c_labels))))\n",
    "\n",
    "    img = ax.imshow(confusion_matrix, cmap='gray')\n",
    "    cbar = fig.colorbar(img)\n",
    "    cbar.ax.tick_params(labelsize=c_labelsize)\n",
    "    fig.tight_layout()\n",
    "    if save != None:\n",
    "        fig.savefig(save)\n",
    "    plt.show()"
   ]
  },
  {
   "cell_type": "markdown",
   "metadata": {},
   "source": [
    "## Auswertung der optimalen Parameter - own"
   ]
  },
  {
   "cell_type": "code",
   "execution_count": 33,
   "metadata": {
    "collapsed": true
   },
   "outputs": [],
   "source": [
    "#(1.0, 5, {'C': 1000, 'decision_function_shape': 'ovo', 'kernel': 'rbf'})\n",
    "#(0.92307692307692313, 10, {'C': 100, 'decision_function_shape': 'ovo', 'kernel': 'linear'})\n",
    "#(0.86538461538461542, 3, {'C': 100, 'decision_function_shape': 'ovo', 'kernel': 'linear'})\n",
    "#(0.78846153846153844, 11, {'C': 1000, 'decision_function_shape': 'ovo', 'kernel': 'rbf'})\n",
    "\n",
    "acc_frames = 5\n",
    "acc_C = 1000\n",
    "acc_kernel = 'rbf'\n",
    "acc_decfunc = 'ovo'\n",
    "\n",
    "gyro_frames = 10\n",
    "gyro_C = 100\n",
    "gyro_kernel = 'linear'\n",
    "gyro_decfunc = 'ovo'\n",
    "\n",
    "ori_frames = 3\n",
    "ori_C = 100\n",
    "ori_kernel = 'linear'\n",
    "ori_decfunc = 'ovo'\n",
    "\n",
    "emg_frames = 11\n",
    "emg_C = 1000\n",
    "emg_kernel = 'rbf'\n",
    "emg_decfunc = 'ovo'"
   ]
  },
  {
   "cell_type": "code",
   "execution_count": 6,
   "metadata": {},
   "outputs": [
    {
     "name": "stdout",
     "output_type": "stream",
     "text": [
      "Accelerometer data prepared\n",
      "Gyroscope data prepared\n",
      "Orientation data prepared\n",
      "EMG data prepared\n",
      "\n",
      "Duration: 26.17411494255066\n"
     ]
    }
   ],
   "source": [
    "start_time = time.time()\n",
    "\n",
    "train, valid, test = load_data_for_classification('own')\n",
    "\n",
    "acc_train_input, acc_train_label = prepare_data(train, acc_frames, 'accelerometer', verbose=False)\n",
    "acc_valid_input, acc_valid_label = prepare_data(valid, acc_frames, 'accelerometer', verbose=False)\n",
    "acc_test_input, acc_test_label = prepare_data(test, acc_frames, 'accelerometer', verbose=False)\n",
    "print('Accelerometer data prepared')\n",
    "\n",
    "gyro_train_input, gyro_train_label = prepare_data(train, gyro_frames, 'gyro', verbose=False)\n",
    "gyro_valid_input, gyro_valid_label = prepare_data(valid, gyro_frames, 'gyro', verbose=False)\n",
    "gyro_test_input, gyro_test_label = prepare_data(test, gyro_frames, 'gyro', verbose=False)\n",
    "print('Gyroscope data prepared')\n",
    "\n",
    "ori_train_input, ori_train_label = prepare_data(train, ori_frames, 'orientation', verbose=False)\n",
    "ori_valid_input, ori_valid_label = prepare_data(valid, ori_frames, 'orientation', verbose=False)\n",
    "ori_test_input, ori_test_label = prepare_data(test, ori_frames, 'orientation', verbose=False)\n",
    "print('Orientation data prepared')\n",
    "\n",
    "emg_train_input, emg_train_label = prepare_data(train, emg_frames, 'emg', verbose=False)\n",
    "emg_valid_input, emg_valid_label = prepare_data(valid, emg_frames, 'emg', verbose=False)\n",
    "emg_test_input, emg_test_label = prepare_data(test, emg_frames, 'emg', verbose=False)\n",
    "print('EMG data prepared')\n",
    "\n",
    "print('\\nDuration: {}'.format(time.time() - start_time))"
   ]
  },
  {
   "cell_type": "code",
   "execution_count": 7,
   "metadata": {},
   "outputs": [
    {
     "name": "stdout",
     "output_type": "stream",
     "text": [
      "Accelerometer classifier fitted\n",
      "Gyroscope classifier fitted\n",
      "Orientation classifier fitted\n",
      "EMG classifier fitted\n",
      "\n",
      "Duration: 0.23606109619140625\n"
     ]
    }
   ],
   "source": [
    "start_time = time.time()\n",
    "\n",
    "acc_svm = svm.SVC(C=acc_C, kernel=acc_kernel, decision_function_shape=acc_decfunc, random_state=random_seed, probability=True)\n",
    "acc_svm.fit(np.append(acc_train_input, acc_valid_input, axis=0), np.append(acc_train_label, acc_valid_label))\n",
    "print('Accelerometer classifier fitted')\n",
    "\n",
    "gyro_svm = svm.SVC(C=gyro_C, kernel=gyro_kernel, decision_function_shape=gyro_decfunc, random_state=random_seed, probability=True)\n",
    "gyro_svm.fit(np.append(gyro_train_input, gyro_valid_input, axis=0), np.append(gyro_train_label, gyro_valid_label))\n",
    "print('Gyroscope classifier fitted')\n",
    "\n",
    "ori_svm = svm.SVC(C=ori_C, kernel=ori_kernel, decision_function_shape=ori_decfunc, random_state=random_seed, probability=True)\n",
    "ori_svm.fit(np.append(ori_train_input, ori_valid_input, axis=0), np.append(ori_train_label, ori_valid_label))\n",
    "print('Orientation classifier fitted')\n",
    "\n",
    "emg_svm = svm.SVC(C=emg_C, kernel=emg_kernel, decision_function_shape=emg_decfunc, random_state=random_seed, probability=True)\n",
    "emg_svm.fit(np.append(emg_train_input, emg_valid_input, axis=0), np.append(emg_train_label, emg_valid_label))\n",
    "print('EMG classifier fitted')\n",
    "\n",
    "print('\\nDuration: {}'.format(time.time() - start_time))"
   ]
  },
  {
   "cell_type": "code",
   "execution_count": 35,
   "metadata": {},
   "outputs": [
    {
     "name": "stdout",
     "output_type": "stream",
     "text": [
      "{'acc_frames': 5, 'gyro_frames': 10, 'ori_frames': 3, 'emg_frames': 11}\n"
     ]
    }
   ],
   "source": [
    "frame_config ={'acc_frames':acc_frames, 'gyro_frames':gyro_frames, 'ori_frames':ori_frames, 'emg_frames':emg_frames}\n",
    "\n",
    "save_path = '../Data/models/svm/'\n",
    "os.makedirs(save_path, exist_ok=True)\n",
    "\n",
    "#joblib.dump(acc_svm, save_path + 'own_acc_svm.p')\n",
    "#joblib.dump(gyro_svm, save_path + 'own_gyro_svm.p')\n",
    "#joblib.dump(ori_svm, save_path + 'own_ori_svm.p')\n",
    "#joblib.dump(emg_svm, save_path + 'own_emg_svm.p')\n",
    "\n",
    "joblib.dump(frame_config, save_path + 'own_frame_config.p')\n",
    "\n",
    "acc_svm = joblib.load(save_path + 'own_acc_svm.p')\n",
    "gyro_svm = joblib.load(save_path + 'own_gyro_svm.p')\n",
    "ori_svm = joblib.load(save_path + 'own_ori_svm.p')\n",
    "emg_svm = joblib.load(save_path + 'own_emg_svm.p')\n",
    "\n",
    "frame_config = joblib.load(save_path + 'own_frame_config.p')"
   ]
  },
  {
   "cell_type": "code",
   "execution_count": 11,
   "metadata": {},
   "outputs": [
    {
     "name": "stdout",
     "output_type": "stream",
     "text": [
      "\n",
      "Duration: 0.012320280075073242\n"
     ]
    }
   ],
   "source": [
    "start_time = time.time()\n",
    "\n",
    "acc_pred_probs = acc_svm.predict_proba(acc_test_input)\n",
    "gyro_pred_probs = gyro_svm.predict_proba(gyro_test_input)\n",
    "ori_pred_probs = ori_svm.predict_proba(ori_test_input)\n",
    "emg_pred_probs = emg_svm.predict_proba(emg_test_input)\n",
    "\n",
    "if (np.array_equal(acc_svm.classes_, gyro_svm.classes_) and \n",
    "    np.array_equal(gyro_svm.classes_, ori_svm.classes_) and\n",
    "    np.array_equal(ori_svm.classes_, emg_svm.classes_)):\n",
    "    \n",
    "    result = []\n",
    "    \n",
    "    for prediction in range(len(acc_pred_probs)):\n",
    "        acc_gyro = np.add(acc_pred_probs[prediction], gyro_pred_probs[prediction])\n",
    "        ori_emg = np.add(ori_pred_probs[prediction], emg_pred_probs[prediction])\n",
    "        final = np.divide(np.add(acc_gyro, ori_emg), 4)\n",
    "        result.append(acc_svm.classes_[np.argmax(final)])\n",
    "    \n",
    "    #print(result)\n",
    "    \n",
    "else:\n",
    "    print('Something went wrong!')\n",
    "    \n",
    "print('\\nDuration: {}'.format(time.time() - start_time))"
   ]
  },
  {
   "cell_type": "code",
   "execution_count": 12,
   "metadata": {},
   "outputs": [
    {
     "name": "stdout",
     "output_type": "stream",
     "text": [
      "0.830769230769\n"
     ]
    }
   ],
   "source": [
    "print(accuracy_score(acc_test_label, result))"
   ]
  },
  {
   "cell_type": "code",
   "execution_count": 13,
   "metadata": {},
   "outputs": [
    {
     "name": "stdout",
     "output_type": "stream",
     "text": [
      "[[ 9  0  0  0  0  0]\n",
      " [ 0  6  1  2  0  0]\n",
      " [ 0  0 10  0  0  1]\n",
      " [ 1  0  0  9  0  2]\n",
      " [ 0  0  0  0 11  1]\n",
      " [ 3  0  0  0  0  9]]\n"
     ]
    },
    {
     "data": {
      "image/png": "[encoded data removed]",
      "text/plain": [
       "<matplotlib.figure.Figure at 0x16d55e66898>"
      ]
     },
     "metadata": {},
     "output_type": "display_data"
    }
   ],
   "source": [
    "cm = confusion_matrix(acc_test_label, result)\n",
    "labels = list(acc_svm.classes_)\n",
    "\n",
    "print(cm)\n",
    "\n",
    "print_confusion_matrix_colored(cm, labels, 20, 15)"
   ]
  },
  {
   "cell_type": "code",
   "execution_count": 15,
   "metadata": {},
   "outputs": [
    {
     "name": "stdout",
     "output_type": "stream",
     "text": [
      "             precision    recall  f1-score   support\n",
      "\n",
      "   big_stop       0.69      1.00      0.82         9\n",
      "  come_down       1.00      0.67      0.80         9\n",
      "  come_here       0.91      0.91      0.91        11\n",
      "    come_up       0.82      0.75      0.78        12\n",
      "       flip       1.00      0.92      0.96        12\n",
      " small_stop       0.69      0.75      0.72        12\n",
      "\n",
      "avg / total       0.85      0.83      0.83        65\n",
      "\n"
     ]
    }
   ],
   "source": [
    "clf_repo = classification_report(acc_test_label, result)\n",
    "\n",
    "print(clf_repo)\n",
    "\n",
    "parsed = parse_classification_report(clf_repo)\n",
    "output = report_to_latex_table(parsed)\n",
    "#print(output)"
   ]
  },
  {
   "cell_type": "markdown",
   "metadata": {},
   "source": [
    "## Auswertung der optimalen Parameter - paper"
   ]
  },
  {
   "cell_type": "code",
   "execution_count": 36,
   "metadata": {
    "collapsed": true
   },
   "outputs": [],
   "source": [
    "#(0.53846153846153844, 5, {'C': 1000, 'decision_function_shape': 'ovo', 'kernel': 'linear'})\n",
    "#(0.44230769230769229, 7, {'C': 100, 'decision_function_shape': 'ovo', 'kernel': 'linear'})\n",
    "#(0.37820512820512819, 3, {'C': 1000, 'decision_function_shape': 'ovo', 'kernel': 'linear'})\n",
    "#(0.39743589743589741, 10, {'C': 1000, 'decision_function_shape': 'ovo', 'kernel': 'rbf'})\n",
    "\n",
    "acc_frames = 5\n",
    "acc_C = 1000\n",
    "acc_kernel = 'linear'\n",
    "acc_decfunc = 'ovo'\n",
    "\n",
    "gyro_frames = 7\n",
    "gyro_C = 100\n",
    "gyro_kernel = 'linear'\n",
    "gyro_decfunc = 'ovo'\n",
    "\n",
    "ori_frames = 3\n",
    "ori_C = 1000\n",
    "ori_kernel = 'linear'\n",
    "ori_decfunc = 'ovo'\n",
    "\n",
    "emg_frames = 10\n",
    "emg_C = 1000\n",
    "emg_kernel = 'rbf'\n",
    "emg_decfunc = 'ovo'"
   ]
  },
  {
   "cell_type": "code",
   "execution_count": 17,
   "metadata": {},
   "outputs": [
    {
     "name": "stdout",
     "output_type": "stream",
     "text": [
      "Accelerometer data prepared\n",
      "Gyroscope data prepared\n",
      "Orientation data prepared\n",
      "EMG data prepared\n",
      "\n",
      "Duration: 73.4923460483551\n"
     ]
    }
   ],
   "source": [
    "start_time = time.time()\n",
    "\n",
    "train, valid, test = load_data_for_classification('paper')\n",
    "\n",
    "acc_train_input, acc_train_label = prepare_data(train, acc_frames, 'accelerometer', verbose=False)\n",
    "acc_valid_input, acc_valid_label = prepare_data(valid, acc_frames, 'accelerometer', verbose=False)\n",
    "acc_test_input, acc_test_label = prepare_data(test, acc_frames, 'accelerometer', verbose=False)\n",
    "print('Accelerometer data prepared')\n",
    "\n",
    "gyro_train_input, gyro_train_label = prepare_data(train, gyro_frames, 'gyro', verbose=False)\n",
    "gyro_valid_input, gyro_valid_label = prepare_data(valid, gyro_frames, 'gyro', verbose=False)\n",
    "gyro_test_input, gyro_test_label = prepare_data(test, gyro_frames, 'gyro', verbose=False)\n",
    "print('Gyroscope data prepared')\n",
    "\n",
    "ori_train_input, ori_train_label = prepare_data(train, ori_frames, 'orientation', verbose=False)\n",
    "ori_valid_input, ori_valid_label = prepare_data(valid, ori_frames, 'orientation', verbose=False)\n",
    "ori_test_input, ori_test_label = prepare_data(test, ori_frames, 'orientation', verbose=False)\n",
    "print('Orientation data prepared')\n",
    "\n",
    "emg_train_input, emg_train_label = prepare_data(train, emg_frames, 'emg', verbose=False)\n",
    "emg_valid_input, emg_valid_label = prepare_data(valid, emg_frames, 'emg', verbose=False)\n",
    "emg_test_input, emg_test_label = prepare_data(test, emg_frames, 'emg', verbose=False)\n",
    "print('EMG data prepared')\n",
    "\n",
    "print('\\nDuration: {}'.format(time.time() - start_time))"
   ]
  },
  {
   "cell_type": "code",
   "execution_count": 18,
   "metadata": {},
   "outputs": [
    {
     "name": "stdout",
     "output_type": "stream",
     "text": [
      "Accelerometer classifier fitted\n",
      "Gyroscope classifier fitted\n",
      "Orientation classifier fitted\n",
      "EMG classifier fitted\n",
      "\n",
      "Duration: 8.536446809768677\n"
     ]
    }
   ],
   "source": [
    "start_time = time.time()\n",
    "\n",
    "acc_svm = svm.SVC(C=acc_C, kernel=acc_kernel, decision_function_shape=acc_decfunc, random_state=random_seed, probability=True)\n",
    "acc_svm.fit(np.append(acc_train_input, acc_valid_input, axis=0), np.append(acc_train_label, acc_valid_label))\n",
    "print('Accelerometer classifier fitted')\n",
    "\n",
    "gyro_svm = svm.SVC(C=gyro_C, kernel=gyro_kernel, decision_function_shape=gyro_decfunc, random_state=random_seed, probability=True)\n",
    "gyro_svm.fit(np.append(gyro_train_input, gyro_valid_input, axis=0), np.append(gyro_train_label, gyro_valid_label))\n",
    "print('Gyroscope classifier fitted')\n",
    "\n",
    "ori_svm = svm.SVC(C=ori_C, kernel=ori_kernel, decision_function_shape=ori_decfunc, random_state=random_seed, probability=True)\n",
    "ori_svm.fit(np.append(ori_train_input, ori_valid_input, axis=0), np.append(ori_train_label, ori_valid_label))\n",
    "print('Orientation classifier fitted')\n",
    "\n",
    "emg_svm = svm.SVC(C=emg_C, kernel=emg_kernel, decision_function_shape=emg_decfunc, random_state=random_seed, probability=True)\n",
    "emg_svm.fit(np.append(emg_train_input, emg_valid_input, axis=0), np.append(emg_train_label, emg_valid_label))\n",
    "print('EMG classifier fitted')\n",
    "\n",
    "print('\\nDuration: {}'.format(time.time() - start_time))"
   ]
  },
  {
   "cell_type": "code",
   "execution_count": 37,
   "metadata": {},
   "outputs": [
    {
     "name": "stdout",
     "output_type": "stream",
     "text": [
      "{'acc_frames': 5, 'gyro_frames': 7, 'ori_frames': 3, 'emg_frames': 10}\n"
     ]
    }
   ],
   "source": [
    "frame_config ={'acc_frames':acc_frames, 'gyro_frames':gyro_frames, 'ori_frames':ori_frames, 'emg_frames':emg_frames}\n",
    "\n",
    "save_path = '../Data/models/svm/'\n",
    "os.makedirs(save_path, exist_ok=True)\n",
    "\n",
    "#joblib.dump(acc_svm, save_path + 'paper_acc_svm.p')\n",
    "#joblib.dump(gyro_svm, save_path + 'paper_gyro_svm.p')\n",
    "#joblib.dump(ori_svm, save_path + 'paper_ori_svm.p')\n",
    "#joblib.dump(emg_svm, save_path + 'paper_emg_svm.p')\n",
    "\n",
    "joblib.dump(frame_config, save_path + 'paper_frame_config.p')\n",
    "\n",
    "acc_svm = joblib.load(save_path + 'paper_acc_svm.p')\n",
    "gyro_svm = joblib.load(save_path + 'paper_gyro_svm.p')\n",
    "ori_svm = joblib.load(save_path + 'paper_ori_svm.p')\n",
    "emg_svm = joblib.load(save_path + 'paper_emg_svm.p')\n",
    "\n",
    "frame_config = joblib.load(save_path + 'paper_frame_config.p')"
   ]
  },
  {
   "cell_type": "code",
   "execution_count": 20,
   "metadata": {},
   "outputs": [
    {
     "name": "stdout",
     "output_type": "stream",
     "text": [
      "\n",
      "Duration: 0.09821772575378418\n"
     ]
    }
   ],
   "source": [
    "start_time = time.time()\n",
    "\n",
    "acc_pred_probs = acc_svm.predict_proba(acc_test_input)\n",
    "gyro_pred_probs = gyro_svm.predict_proba(gyro_test_input)\n",
    "ori_pred_probs = ori_svm.predict_proba(ori_test_input)\n",
    "emg_pred_probs = emg_svm.predict_proba(emg_test_input)\n",
    "\n",
    "if (np.array_equal(acc_svm.classes_, gyro_svm.classes_) and \n",
    "    np.array_equal(gyro_svm.classes_, ori_svm.classes_) and\n",
    "    np.array_equal(ori_svm.classes_, emg_svm.classes_)):\n",
    "    \n",
    "    result = []\n",
    "    \n",
    "    for prediction in range(len(acc_pred_probs)):\n",
    "        acc_gyro = np.add(acc_pred_probs[prediction], gyro_pred_probs[prediction])\n",
    "        ori_emg = np.add(ori_pred_probs[prediction], emg_pred_probs[prediction])\n",
    "        final = np.divide(np.add(acc_gyro, ori_emg), 4)\n",
    "        result.append(acc_svm.classes_[np.argmax(final)])\n",
    "    \n",
    "    #print(result)\n",
    "    \n",
    "else:\n",
    "    print('Something went wrong!')\n",
    "\n",
    "print('\\nDuration: {}'.format(time.time() - start_time))"
   ]
  },
  {
   "cell_type": "code",
   "execution_count": 21,
   "metadata": {},
   "outputs": [
    {
     "name": "stdout",
     "output_type": "stream",
     "text": [
      "0.324742268041\n"
     ]
    }
   ],
   "source": [
    "print(accuracy_score(acc_test_label, result))"
   ]
  },
  {
   "cell_type": "code",
   "execution_count": 22,
   "metadata": {},
   "outputs": [
    {
     "name": "stdout",
     "output_type": "stream",
     "text": [
      "[[3 0 0 1 0 0 0 0 0 0 0 0 2 0 0 2 0 1]\n",
      " [0 5 0 0 1 0 0 2 0 0 0 0 0 0 0 0 1 0]\n",
      " [0 0 0 0 0 4 0 0 2 0 0 1 0 0 0 0 0 2]\n",
      " [0 0 0 1 3 0 0 0 0 1 0 0 1 0 0 1 1 1]\n",
      " [0 3 0 0 4 0 0 0 0 0 2 0 0 0 0 0 0 0]\n",
      " [0 2 0 0 0 4 0 0 0 0 0 0 0 0 0 0 0 3]\n",
      " [0 0 0 0 0 0 3 0 0 2 0 0 3 0 0 1 0 0]\n",
      " [0 1 0 0 2 0 0 3 0 0 0 1 0 2 0 0 0 2]\n",
      " [0 0 0 0 0 0 2 0 3 1 0 1 1 0 4 0 0 0]\n",
      " [0 0 0 3 0 0 3 0 0 2 0 0 3 0 0 1 0 0]\n",
      " [0 2 0 0 0 0 0 2 0 0 6 0 0 2 0 0 0 0]\n",
      " [0 0 0 0 0 0 1 0 2 0 0 3 0 0 0 0 0 6]\n",
      " [0 0 0 1 0 0 3 0 0 1 0 0 4 0 0 3 0 0]\n",
      " [0 0 0 0 0 0 0 2 0 0 0 0 0 7 1 0 0 2]\n",
      " [0 0 0 0 0 3 1 0 0 0 0 0 0 0 5 0 0 3]\n",
      " [0 0 0 5 0 0 2 0 0 1 0 0 2 0 0 2 0 0]\n",
      " [0 3 0 0 1 0 0 1 0 0 5 0 0 0 0 0 2 0]\n",
      " [0 0 1 0 0 1 0 0 1 0 0 2 0 0 1 0 0 6]]\n"
     ]
    },
    {
     "data": {
      "image/png": "[encoded data removed]",
      "text/plain": [
       "<matplotlib.figure.Figure at 0x16d5612d748>"
      ]
     },
     "metadata": {},
     "output_type": "display_data"
    }
   ],
   "source": [
    "cm = confusion_matrix(acc_test_label, result)\n",
    "labels = list(acc_svm.classes_)\n",
    "\n",
    "print(cm)\n",
    "\n",
    "print_confusion_matrix_colored(cm, labels, 20, 15)"
   ]
  },
  {
   "cell_type": "code",
   "execution_count": 23,
   "metadata": {},
   "outputs": [
    {
     "name": "stdout",
     "output_type": "stream",
     "text": [
      "             precision    recall  f1-score   support\n",
      "\n",
      "       hcch       1.00      0.33      0.50         9\n",
      "       hccs       0.31      0.56      0.40         9\n",
      "       hccv       0.00      0.00      0.00         9\n",
      "       hcwh       0.09      0.11      0.10         9\n",
      "       hcws       0.36      0.44      0.40         9\n",
      "       hcwv       0.33      0.44      0.38         9\n",
      "       lcch       0.20      0.33      0.25         9\n",
      "       lccs       0.30      0.27      0.29        11\n",
      "       lccv       0.38      0.25      0.30        12\n",
      "       lcwh       0.25      0.17      0.20        12\n",
      "       lcws       0.46      0.50      0.48        12\n",
      "       lcwv       0.38      0.25      0.30        12\n",
      "       tcch       0.25      0.33      0.29        12\n",
      "       tccs       0.64      0.58      0.61        12\n",
      "       tccv       0.45      0.42      0.43        12\n",
      "       tcwh       0.20      0.17      0.18        12\n",
      "       tcws       0.50      0.17      0.25        12\n",
      "       tcwv       0.23      0.50      0.32        12\n",
      "\n",
      "avg / total       0.35      0.32      0.32       194\n",
      "\n"
     ]
    }
   ],
   "source": [
    "clf_repo = classification_report(acc_test_label, result)\n",
    "\n",
    "print(clf_repo)\n",
    "\n",
    "parsed = parse_classification_report(clf_repo)\n",
    "output = report_to_latex_table(parsed)\n",
    "#print(output)"
   ]
  },
  {
   "cell_type": "markdown",
   "metadata": {},
   "source": [
    "## Auswertung der optimalen Parameter - all"
   ]
  },
  {
   "cell_type": "code",
   "execution_count": 38,
   "metadata": {
    "collapsed": true
   },
   "outputs": [],
   "source": [
    "#(0.57004830917874394, 6, {'C': 1000, 'decision_function_shape': 'ovo', 'kernel': 'linear'})\n",
    "#(0.46859903381642515, 12, {'C': 1000, 'decision_function_shape': 'ovo', 'kernel': 'linear'})\n",
    "#(0.46859903381642515, 3, {'C': 1000, 'decision_function_shape': 'ovo', 'kernel': 'linear'})\n",
    "#(0.46859903381642515, 11, {'C': 100, 'decision_function_shape': 'ovo', 'kernel': 'linear'})\n",
    "\n",
    "acc_frames = 6\n",
    "acc_C = 1000\n",
    "acc_kernel = 'linear'\n",
    "acc_decfunc = 'ovo'\n",
    "\n",
    "gyro_frames = 12\n",
    "gyro_C = 1000\n",
    "gyro_kernel = 'linear'\n",
    "gyro_decfunc = 'ovo'\n",
    "\n",
    "ori_frames = 3\n",
    "ori_C = 1000\n",
    "ori_kernel = 'linear'\n",
    "ori_decfunc = 'ovo'\n",
    "\n",
    "emg_frames = 11\n",
    "emg_C = 100\n",
    "emg_kernel = 'linear'\n",
    "emg_decfunc = 'ovo'"
   ]
  },
  {
   "cell_type": "code",
   "execution_count": 25,
   "metadata": {},
   "outputs": [
    {
     "name": "stdout",
     "output_type": "stream",
     "text": [
      "Accelerometer data prepared\n",
      "Gyroscope data prepared\n",
      "Orientation data prepared\n",
      "EMG data prepared\n",
      "\n",
      "Duration: 98.56366395950317\n"
     ]
    }
   ],
   "source": [
    "start_time = time.time()\n",
    "\n",
    "train, valid, test = load_data_for_classification('all')\n",
    "\n",
    "acc_train_input, acc_train_label = prepare_data(train, acc_frames, 'accelerometer', verbose=False)\n",
    "acc_valid_input, acc_valid_label = prepare_data(valid, acc_frames, 'accelerometer', verbose=False)\n",
    "acc_test_input, acc_test_label = prepare_data(test, acc_frames, 'accelerometer', verbose=False)\n",
    "print('Accelerometer data prepared')\n",
    "\n",
    "gyro_train_input, gyro_train_label = prepare_data(train, gyro_frames, 'gyro', verbose=False)\n",
    "gyro_valid_input, gyro_valid_label = prepare_data(valid, gyro_frames, 'gyro', verbose=False)\n",
    "gyro_test_input, gyro_test_label = prepare_data(test, gyro_frames, 'gyro', verbose=False)\n",
    "print('Gyroscope data prepared')\n",
    "\n",
    "ori_train_input, ori_train_label = prepare_data(train, ori_frames, 'orientation', verbose=False)\n",
    "ori_valid_input, ori_valid_label = prepare_data(valid, ori_frames, 'orientation', verbose=False)\n",
    "ori_test_input, ori_test_label = prepare_data(test, ori_frames, 'orientation', verbose=False)\n",
    "print('Orientation data prepared')\n",
    "\n",
    "emg_train_input, emg_train_label = prepare_data(train, emg_frames, 'emg', verbose=False)\n",
    "emg_valid_input, emg_valid_label = prepare_data(valid, emg_frames, 'emg', verbose=False)\n",
    "emg_test_input, emg_test_label = prepare_data(test, emg_frames, 'emg', verbose=False)\n",
    "print('EMG data prepared')\n",
    "\n",
    "print('\\nDuration: {}'.format(time.time() - start_time))"
   ]
  },
  {
   "cell_type": "code",
   "execution_count": 26,
   "metadata": {},
   "outputs": [
    {
     "name": "stdout",
     "output_type": "stream",
     "text": [
      "Accelerometer classifier fitted\n",
      "Gyroscope classifier fitted\n",
      "Orientation classifier fitted\n",
      "EMG classifier fitted\n",
      "\n",
      "Duration: 13.430511236190796\n"
     ]
    }
   ],
   "source": [
    "start_time = time.time()\n",
    "\n",
    "acc_svm = svm.SVC(C=acc_C, kernel=acc_kernel, decision_function_shape=acc_decfunc, random_state=random_seed, probability=True)\n",
    "acc_svm.fit(np.append(acc_train_input, acc_valid_input, axis=0), np.append(acc_train_label, acc_valid_label))\n",
    "print('Accelerometer classifier fitted')\n",
    "\n",
    "gyro_svm = svm.SVC(C=gyro_C, kernel=gyro_kernel, decision_function_shape=gyro_decfunc, random_state=random_seed, probability=True)\n",
    "gyro_svm.fit(np.append(gyro_train_input, gyro_valid_input, axis=0), np.append(gyro_train_label, gyro_valid_label))\n",
    "print('Gyroscope classifier fitted')\n",
    "\n",
    "ori_svm = svm.SVC(C=ori_C, kernel=ori_kernel, decision_function_shape=ori_decfunc, random_state=random_seed, probability=True)\n",
    "ori_svm.fit(np.append(ori_train_input, ori_valid_input, axis=0), np.append(ori_train_label, ori_valid_label))\n",
    "print('Orientation classifier fitted')\n",
    "\n",
    "emg_svm = svm.SVC(C=emg_C, kernel=emg_kernel, decision_function_shape=emg_decfunc, random_state=random_seed, probability=True)\n",
    "emg_svm.fit(np.append(emg_train_input, emg_valid_input, axis=0), np.append(emg_train_label, emg_valid_label))\n",
    "print('EMG classifier fitted')\n",
    "\n",
    "print('\\nDuration: {}'.format(time.time() - start_time))"
   ]
  },
  {
   "cell_type": "code",
   "execution_count": 39,
   "metadata": {},
   "outputs": [
    {
     "name": "stdout",
     "output_type": "stream",
     "text": [
      "{'acc_frames': 6, 'gyro_frames': 12, 'ori_frames': 3, 'emg_frames': 11}\n"
     ]
    }
   ],
   "source": [
    "frame_config ={'acc_frames':acc_frames, 'gyro_frames':gyro_frames, 'ori_frames':ori_frames, 'emg_frames':emg_frames}\n",
    "\n",
    "save_path = '../Data/models/svm/'\n",
    "os.makedirs(save_path, exist_ok=True)\n",
    "\n",
    "#joblib.dump(acc_svm, save_path + 'all_acc_svm.p')\n",
    "#joblib.dump(gyro_svm, save_path + 'all_gyro_svm.p')\n",
    "#joblib.dump(ori_svm, save_path + 'all_ori_svm.p')\n",
    "#joblib.dump(emg_svm, save_path + 'all_emg_svm.p')\n",
    "\n",
    "joblib.dump(frame_config, save_path + 'all_frame_config.p')\n",
    "\n",
    "acc_svm = joblib.load(save_path + 'all_acc_svm.p')\n",
    "gyro_svm = joblib.load(save_path + 'all_gyro_svm.p')\n",
    "ori_svm = joblib.load(save_path + 'all_ori_svm.p')\n",
    "emg_svm = joblib.load(save_path + 'all_emg_svm.p')\n",
    "\n",
    "frame_config = joblib.load(save_path + 'all_frame_config.p')"
   ]
  },
  {
   "cell_type": "code",
   "execution_count": 28,
   "metadata": {},
   "outputs": [
    {
     "name": "stdout",
     "output_type": "stream",
     "text": [
      "\n",
      "Duration: 0.20405793190002441\n"
     ]
    }
   ],
   "source": [
    "start_time = time.time()\n",
    "\n",
    "acc_pred_probs = acc_svm.predict_proba(acc_test_input)\n",
    "gyro_pred_probs = gyro_svm.predict_proba(gyro_test_input)\n",
    "ori_pred_probs = ori_svm.predict_proba(ori_test_input)\n",
    "emg_pred_probs = emg_svm.predict_proba(emg_test_input)\n",
    "\n",
    "if (np.array_equal(acc_svm.classes_, gyro_svm.classes_) and \n",
    "    np.array_equal(gyro_svm.classes_, ori_svm.classes_) and\n",
    "    np.array_equal(ori_svm.classes_, emg_svm.classes_)):\n",
    "    \n",
    "    result = []\n",
    "    \n",
    "    for prediction in range(len(acc_pred_probs)):\n",
    "        acc_gyro = np.add(acc_pred_probs[prediction], gyro_pred_probs[prediction])\n",
    "        ori_emg = np.add(ori_pred_probs[prediction], emg_pred_probs[prediction])\n",
    "        final = np.divide(np.add(acc_gyro, ori_emg), 4)\n",
    "        result.append(acc_svm.classes_[np.argmax(final)])\n",
    "    \n",
    "    #print(result)\n",
    "    \n",
    "else:\n",
    "    print('Something went wrong!')\n",
    "\n",
    "print('\\nDuration: {}'.format(time.time() - start_time))"
   ]
  },
  {
   "cell_type": "code",
   "execution_count": 29,
   "metadata": {},
   "outputs": [
    {
     "name": "stdout",
     "output_type": "stream",
     "text": [
      "0.467181467181\n"
     ]
    }
   ],
   "source": [
    "print(accuracy_score(acc_test_label, result))"
   ]
  },
  {
   "cell_type": "code",
   "execution_count": 30,
   "metadata": {},
   "outputs": [
    {
     "name": "stdout",
     "output_type": "stream",
     "text": [
      "[[7 0 0 0 1 0 0 0 0 0 0 0 0 0 0 0 0 0 0 0 0 0 1 0]\n",
      " [0 7 0 2 0 0 0 0 0 0 0 0 0 0 0 0 0 0 0 0 0 0 0 0]\n",
      " [0 0 8 0 0 0 0 0 0 0 0 0 0 0 0 0 0 1 0 0 0 0 0 0]\n",
      " [0 1 0 5 0 0 0 0 0 0 0 0 0 0 0 1 0 0 0 0 0 0 2 0]\n",
      " [0 0 0 0 9 0 0 0 0 0 0 0 0 0 0 0 0 0 0 0 0 0 0 0]\n",
      " [0 0 0 0 0 3 0 0 2 0 0 1 1 0 0 0 0 0 1 0 0 0 0 1]\n",
      " [0 0 0 0 0 0 4 0 0 2 0 0 1 0 0 0 0 0 0 0 0 0 2 0]\n",
      " [0 0 0 0 0 0 0 1 0 0 3 0 0 2 0 0 2 0 0 0 0 0 0 1]\n",
      " [0 0 0 0 0 0 0 0 3 2 0 1 0 0 0 0 0 0 1 0 0 0 1 1]\n",
      " [0 0 0 0 0 0 2 0 0 6 0 0 1 0 0 1 0 0 0 0 0 0 0 0]\n",
      " [0 0 0 0 0 0 2 3 0 0 2 0 0 0 0 0 0 0 0 0 0 0 0 5]\n",
      " [0 0 0 0 0 1 0 0 1 0 0 7 0 0 0 0 0 0 3 0 0 0 0 0]\n",
      " [0 0 0 1 0 0 0 0 0 0 0 0 8 0 0 0 0 0 0 1 0 0 0 2]\n",
      " [0 0 0 0 0 0 0 0 0 0 0 1 0 0 0 0 5 0 1 0 2 0 0 3]\n",
      " [0 0 0 0 0 0 0 0 3 0 0 4 0 0 0 0 0 0 3 0 1 1 0 0]\n",
      " [0 0 0 0 0 0 2 0 0 1 0 0 1 0 0 4 0 0 0 1 0 0 2 1]\n",
      " [0 0 0 0 0 0 0 0 0 0 0 1 0 1 0 0 5 0 0 0 0 0 0 5]\n",
      " [1 0 2 0 0 0 0 0 0 0 0 0 0 0 0 0 0 9 0 0 0 0 0 0]\n",
      " [0 0 0 0 0 2 0 0 2 0 0 2 0 0 0 0 0 0 3 0 0 3 0 0]\n",
      " [0 2 0 0 0 0 1 0 0 0 0 0 1 0 0 0 0 0 0 7 0 0 0 1]\n",
      " [0 0 0 0 0 0 0 2 0 0 0 0 0 0 0 0 0 0 0 0 7 0 0 3]\n",
      " [0 0 0 0 0 1 0 0 2 0 0 4 1 0 0 0 0 0 1 0 0 3 0 0]\n",
      " [0 0 0 0 0 0 2 0 0 1 0 0 1 0 0 4 0 0 0 0 0 0 4 0]\n",
      " [0 0 0 0 0 0 0 0 0 0 1 0 0 0 0 0 1 0 0 0 1 0 0 9]]\n"
     ]
    },
    {
     "data": {
      "image/png": "[encoded data removed]",
      "text/plain": [
       "<matplotlib.figure.Figure at 0x16d5578be80>"
      ]
     },
     "metadata": {},
     "output_type": "display_data"
    }
   ],
   "source": [
    "cm = confusion_matrix(acc_test_label, result)\n",
    "labels = list(acc_svm.classes_)\n",
    "\n",
    "print(cm)\n",
    "\n",
    "print_confusion_matrix_colored(cm, labels, 20, 15)"
   ]
  },
  {
   "cell_type": "code",
   "execution_count": 31,
   "metadata": {},
   "outputs": [
    {
     "name": "stdout",
     "output_type": "stream",
     "text": [
      "             precision    recall  f1-score   support\n",
      "\n",
      "   big_stop       0.88      0.78      0.82         9\n",
      "  come_down       0.70      0.78      0.74         9\n",
      "  come_here       0.80      0.89      0.84         9\n",
      "    come_up       0.62      0.56      0.59         9\n",
      "       flip       0.90      1.00      0.95         9\n",
      "       hcch       0.43      0.33      0.38         9\n",
      "       hccs       0.31      0.44      0.36         9\n",
      "       hccv       0.17      0.11      0.13         9\n",
      "       hcwh       0.23      0.33      0.27         9\n",
      "       hcws       0.50      0.60      0.55        10\n",
      "       hcwv       0.33      0.17      0.22        12\n",
      "       lcch       0.33      0.58      0.42        12\n",
      "       lccs       0.53      0.67      0.59        12\n",
      "       lccv       0.00      0.00      0.00        12\n",
      "       lcwh       0.00      0.00      0.00        12\n",
      "       lcws       0.40      0.33      0.36        12\n",
      "       lcwv       0.38      0.42      0.40        12\n",
      " small_stop       0.90      0.75      0.82        12\n",
      "       tcch       0.23      0.25      0.24        12\n",
      "       tccs       0.78      0.58      0.67        12\n",
      "       tccv       0.64      0.58      0.61        12\n",
      "       tcwh       0.43      0.25      0.32        12\n",
      "       tcws       0.33      0.33      0.33        12\n",
      "       tcwv       0.28      0.75      0.41        12\n",
      "\n",
      "avg / total       0.45      0.47      0.45       259\n",
      "\n"
     ]
    },
    {
     "name": "stderr",
     "output_type": "stream",
     "text": [
      "c:\\python36\\lib\\site-packages\\sklearn\\metrics\\classification.py:1135: UndefinedMetricWarning: Precision and F-score are ill-defined and being set to 0.0 in labels with no predicted samples.\n",
      "  'precision', 'predicted', average, warn_for)\n"
     ]
    }
   ],
   "source": [
    "clf_repo = classification_report(acc_test_label, result)\n",
    "\n",
    "print(clf_repo)\n",
    "\n",
    "parsed = parse_classification_report(clf_repo)\n",
    "output = report_to_latex_table(parsed)\n",
    "#print(output)"
   ]
  },
  {
   "cell_type": "code",
   "execution_count": null,
   "metadata": {
    "collapsed": true
   },
   "outputs": [],
   "source": []
  }
 ],
 "metadata": {
  "kernelspec": {
   "display_name": "Python 3",
   "language": "python",
   "name": "python3"
  },
  "language_info": {
   "codemirror_mode": {
    "name": "ipython",
    "version": 3
   },
   "file_extension": ".py",
   "mimetype": "text/x-python",
   "name": "python",
   "nbconvert_exporter": "python",
   "pygments_lexer": "ipython3",
   "version": "3.6.1"
  }
 },
 "nbformat": 4,
 "nbformat_minor": 2
}
