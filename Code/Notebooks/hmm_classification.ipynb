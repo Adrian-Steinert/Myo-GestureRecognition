{
 "cells": [
  {
   "cell_type": "markdown",
   "metadata": {},
   "source": [
    "# Klassifikation mit Hidden Markov Modellen"
   ]
  },
  {
   "cell_type": "code",
   "execution_count": null,
   "metadata": {
    "collapsed": true
   },
   "outputs": [],
   "source": [
    "import os\n",
    "import sys\n",
    "import numpy as np\n",
    "\n",
    "from glob import glob\n",
    "from gesture_comparison_helper import load_gestures\n",
    "# from sklearn.externals import joblib\n",
    "from sklearn.metrics import confusion_matrix, accuracy_score, classification_report\n",
    "\n",
    "import warnings\n",
    "warnings.filterwarnings('ignore')"
   ]
  },
  {
   "cell_type": "code",
   "execution_count": null,
   "metadata": {
    "collapsed": true
   },
   "outputs": [],
   "source": [
    "module_path = os.path.abspath(os.path.join('..'))\n",
    "if module_path not in sys.path:\n",
    "    sys.path.append(module_path)\n",
    "from Utils.data_preparation_helper import prepare_data\n",
    "from Utils.classification_helper import MyoHmmClassifier"
   ]
  },
  {
   "cell_type": "code",
   "execution_count": null,
   "metadata": {},
   "outputs": [],
   "source": [
    "np.random.seed(42)"
   ]
  },
  {
   "cell_type": "code",
   "execution_count": null,
   "metadata": {
    "collapsed": true
   },
   "outputs": [],
   "source": [
    "train = load_gestures(glob('../Data/converted/a*/b*/*'))\n",
    "train += load_gestures(glob('../Data/converted/a*/c*/*'))\n",
    "train += load_gestures(glob('../Data/converted/a*/f*/*'))\n",
    "train += load_gestures(glob('../Data/converted/a*/s*/*'))\n",
    "#train += load_gestures(glob('../Data/converted/cynthia/*/*'))\n",
    "#train += load_gestures(glob('../Data/converted/flo/*/*'))\n",
    "#train += load_gestures(glob('../Data/converted/kai/*/*'))\n",
    "#train += load_gestures(glob('../Data/converted/lisa/*/*'))\n",
    "#train += load_gestures(glob('../Data/converted/m*/*/*'))\n",
    "#train += load_gestures(glob('../Data/converted/nina_v/*/*'))\n",
    "#train += load_gestures(glob('../Data/converted/oli/*/*'))\n",
    "#train += load_gestures(glob('../Data/converted/paul/*/*'))\n",
    "\n",
    "test = load_gestures(glob('../Data/converted/ruben/b*/*'))\n",
    "test += load_gestures(glob('../Data/converted/ruben/c*/*'))\n",
    "test += load_gestures(glob('../Data/converted/ruben/f*/*'))\n",
    "test += load_gestures(glob('../Data/converted/ruben/s*/*'))\n",
    "test += load_gestures(glob('../Data/converted/s*/b*/*'))\n",
    "test += load_gestures(glob('../Data/converted/s*/c*/*'))\n",
    "test += load_gestures(glob('../Data/converted/s*/f*/*'))\n",
    "test += load_gestures(glob('../Data/converted/s*/s*/*'))\n",
    "#test = load_gestures(glob('../Data/converted/ruben/f*/*'))\n",
    "#test += load_gestures(glob('../Data/converted/s*/*/*'))"
   ]
  },
  {
   "cell_type": "markdown",
   "metadata": {},
   "source": [
    "## Accelerometer Klassifikation"
   ]
  },
  {
   "cell_type": "code",
   "execution_count": null,
   "metadata": {},
   "outputs": [],
   "source": [
    "FRAME_NUMBER = 3\n",
    "\n",
    "acc_train_input, acc_train_label = prepare_data(train, FRAME_NUMBER, 'accelerometer')\n",
    "acc_test_input, acc_test_label = prepare_data(test, FRAME_NUMBER, 'accelerometer')\n",
    "\n",
    "acc_classifier = MyoHmmClassifier(sensor_type='accelerometer', n_classes=6, n_states_per_hmm=1)\n",
    "acc_classifier.fit(acc_train_input, acc_train_label)"
   ]
  },
  {
   "cell_type": "code",
   "execution_count": null,
   "metadata": {},
   "outputs": [],
   "source": [
    "acc_classifier.monitor()"
   ]
  },
  {
   "cell_type": "code",
   "execution_count": null,
   "metadata": {
    "scrolled": true
   },
   "outputs": [],
   "source": [
    "acc_score_list = acc_classifier.score(acc_test_input)\n",
    "acc_predictions = acc_classifier.predict(acc_test_input)\n",
    "print(acc_predictions)"
   ]
  },
  {
   "cell_type": "code",
   "execution_count": null,
   "metadata": {
    "scrolled": true
   },
   "outputs": [],
   "source": [
    "print(confusion_matrix(acc_test_label, acc_predictions))"
   ]
  },
  {
   "cell_type": "code",
   "execution_count": null,
   "metadata": {},
   "outputs": [],
   "source": [
    "print(accuracy_score(acc_test_label, acc_predictions))"
   ]
  },
  {
   "cell_type": "code",
   "execution_count": null,
   "metadata": {},
   "outputs": [],
   "source": [
    "print(classification_report(acc_test_label, acc_predictions))"
   ]
  },
  {
   "cell_type": "markdown",
   "metadata": {
    "collapsed": true
   },
   "source": [
    "## Gyroscope Klassifikation"
   ]
  },
  {
   "cell_type": "code",
   "execution_count": null,
   "metadata": {},
   "outputs": [],
   "source": [
    "FRAME_NUMBER = 3\n",
    "\n",
    "gyro_train_input, gyro_train_label = prepare_data(train, FRAME_NUMBER, 'gyro')\n",
    "gyro_test_input, gyro_test_label = prepare_data(test, FRAME_NUMBER, 'gyro')\n",
    "\n",
    "gyro_classifier = MyoHmmClassifier(sensor_type='gyro', n_classes=6, n_states_per_hmm=1)\n",
    "gyro_classifier.fit(gyro_train_input, gyro_train_label)"
   ]
  },
  {
   "cell_type": "code",
   "execution_count": null,
   "metadata": {},
   "outputs": [],
   "source": [
    "gyro_classifier.monitor()"
   ]
  },
  {
   "cell_type": "code",
   "execution_count": null,
   "metadata": {
    "scrolled": true
   },
   "outputs": [],
   "source": [
    "gyro_score_list = gyro_classifier.score(gyro_test_input)\n",
    "gyro_predictions = gyro_classifier.predict(gyro_test_input)\n",
    "print(gyro_predictions)"
   ]
  },
  {
   "cell_type": "code",
   "execution_count": null,
   "metadata": {
    "scrolled": true
   },
   "outputs": [],
   "source": [
    "print(confusion_matrix(gyro_test_label, gyro_predictions))"
   ]
  },
  {
   "cell_type": "code",
   "execution_count": null,
   "metadata": {},
   "outputs": [],
   "source": [
    "print(accuracy_score(gyro_test_label, gyro_predictions))"
   ]
  },
  {
   "cell_type": "code",
   "execution_count": null,
   "metadata": {},
   "outputs": [],
   "source": [
    "print(classification_report(gyro_test_label, gyro_predictions))"
   ]
  },
  {
   "cell_type": "markdown",
   "metadata": {},
   "source": [
    "## Magnetometer Klassifikation"
   ]
  },
  {
   "cell_type": "code",
   "execution_count": null,
   "metadata": {
    "collapsed": true
   },
   "outputs": [],
   "source": [
    "FRAME_NUMBER = 3\n",
    "\n",
    "ori_train_input, ori_train_label = prepare_data(train, FRAME_NUMBER, 'orientation')\n",
    "ori_test_input, ori_test_label = prepare_data(test, FRAME_NUMBER, 'orientation')\n",
    "\n",
    "ori_classifier = MyoHmmClassifier(sensor_type='orientation', n_classes=6, n_states_per_hmm=1)\n",
    "ori_classifier.fit(ori_train_input, ori_train_label)"
   ]
  },
  {
   "cell_type": "code",
   "execution_count": null,
   "metadata": {},
   "outputs": [],
   "source": [
    "ori_classifier.monitor()"
   ]
  },
  {
   "cell_type": "code",
   "execution_count": null,
   "metadata": {
    "scrolled": true
   },
   "outputs": [],
   "source": [
    "ori_score_list = ori_classifier.score(ori_test_input)\n",
    "ori_predictions = ori_classifier.predict(ori_test_input)\n",
    "print(ori_predictions)"
   ]
  },
  {
   "cell_type": "code",
   "execution_count": null,
   "metadata": {
    "scrolled": true
   },
   "outputs": [],
   "source": [
    "print(confusion_matrix(ori_test_label, ori_predictions))"
   ]
  },
  {
   "cell_type": "code",
   "execution_count": null,
   "metadata": {},
   "outputs": [],
   "source": [
    "print(accuracy_score(ori_test_label, ori_predictions))"
   ]
  },
  {
   "cell_type": "code",
   "execution_count": null,
   "metadata": {},
   "outputs": [],
   "source": [
    "print(classification_report(ori_test_label, ori_predictions))"
   ]
  },
  {
   "cell_type": "markdown",
   "metadata": {},
   "source": [
    "## EMG Klassifikation"
   ]
  },
  {
   "cell_type": "code",
   "execution_count": null,
   "metadata": {
    "collapsed": true
   },
   "outputs": [],
   "source": [
    "FRAME_NUMBER = 3\n",
    "\n",
    "emg_train_input, emg_train_label = prepare_data(train, FRAME_NUMBER, 'emg')\n",
    "emg_test_input, emg_test_label = prepare_data(test, FRAME_NUMBER, 'emg')\n",
    "\n",
    "emg_classifier = MyoHmmClassifier(sensor_type='emg', n_classes=6, n_states_per_hmm=1)\n",
    "emg_classifier.fit(emg_train_input, emg_train_label)"
   ]
  },
  {
   "cell_type": "code",
   "execution_count": null,
   "metadata": {},
   "outputs": [],
   "source": [
    "emg_classifier.monitor()"
   ]
  },
  {
   "cell_type": "code",
   "execution_count": null,
   "metadata": {
    "scrolled": true
   },
   "outputs": [],
   "source": [
    "emg_score_list = emg_classifier.score(emg_test_input)\n",
    "emg_predictions = emg_classifier.predict(emg_test_input)\n",
    "print(emg_predictions)"
   ]
  },
  {
   "cell_type": "code",
   "execution_count": null,
   "metadata": {
    "scrolled": true
   },
   "outputs": [],
   "source": [
    "print(confusion_matrix(emg_test_label, emg_predictions))"
   ]
  },
  {
   "cell_type": "code",
   "execution_count": null,
   "metadata": {},
   "outputs": [],
   "source": [
    "print(accuracy_score(emg_test_label, emg_predictions))"
   ]
  },
  {
   "cell_type": "code",
   "execution_count": null,
   "metadata": {},
   "outputs": [],
   "source": [
    "print(classification_report(emg_test_label, emg_predictions))"
   ]
  },
  {
   "cell_type": "code",
   "execution_count": null,
   "metadata": {
    "collapsed": true
   },
   "outputs": [],
   "source": []
  }
 ],
 "metadata": {
  "kernelspec": {
   "display_name": "Python 3",
   "language": "python",
   "name": "python3"
  },
  "language_info": {
   "codemirror_mode": {
    "name": "ipython",
    "version": 3
   },
   "file_extension": ".py",
   "mimetype": "text/x-python",
   "name": "python",
   "nbconvert_exporter": "python",
   "pygments_lexer": "ipython3",
   "version": "3.6.1"
  }
 },
 "nbformat": 4,
 "nbformat_minor": 2
}
