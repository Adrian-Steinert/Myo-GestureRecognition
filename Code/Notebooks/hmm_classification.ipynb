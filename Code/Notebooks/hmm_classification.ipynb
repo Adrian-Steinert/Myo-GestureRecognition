{
 "cells": [
  {
   "cell_type": "markdown",
   "metadata": {},
   "source": [
    "# Klassifikation mit Hidden Markov Modellen"
   ]
  },
  {
   "cell_type": "code",
   "execution_count": null,
   "metadata": {
    "collapsed": true
   },
   "outputs": [],
   "source": [
    "import os\n",
    "import sys\n",
    "import numpy as np\n",
    "\n",
    "from glob import glob\n",
    "from gesture_comparison_helper import load_gestures\n",
    "# from sklearn.externals import joblib\n",
    "from sklearn.metrics import confusion_matrix, accuracy_score, classification_report\n",
    "\n",
    "import warnings\n",
    "warnings.filterwarnings('ignore')"
   ]
  },
  {
   "cell_type": "code",
   "execution_count": null,
   "metadata": {
    "collapsed": true
   },
   "outputs": [],
   "source": [
    "module_path = os.path.abspath(os.path.join('..'))\n",
    "if module_path not in sys.path:\n",
    "    sys.path.append(module_path)\n",
    "from Utils.data_preparation_helper import load_data_for_classification, prepare_data\n",
    "from Utils.classification_helper import MyoHmmClassifier"
   ]
  },
  {
   "cell_type": "code",
   "execution_count": null,
   "metadata": {
    "collapsed": true
   },
   "outputs": [],
   "source": [
    "np.random.seed(42)"
   ]
  },
  {
   "cell_type": "code",
   "execution_count": null,
   "metadata": {},
   "outputs": [],
   "source": [
    "train, valid, test = load_data_for_classification('own')"
   ]
  },
  {
   "cell_type": "markdown",
   "metadata": {},
   "source": [
    "## Accelerometer Klassifikation"
   ]
  },
  {
   "cell_type": "code",
   "execution_count": null,
   "metadata": {
    "scrolled": true
   },
   "outputs": [],
   "source": [
    "FRAME_NUMBER = 3\n",
    "\n",
    "acc_train_input, acc_train_label = prepare_data(train, FRAME_NUMBER, 'accelerometer')\n",
    "acc_valid_input, acc_valid_label = prepare_data(valid, FRAME_NUMBER, 'accelerometer')\n",
    "\n",
    "acc_classifier = MyoHmmClassifier(sensor_type='accelerometer', n_states_per_hmm=1)\n",
    "acc_classifier.fit(acc_train_input, acc_train_label)\n",
    "\n",
    "acc_score_list = acc_classifier.score(acc_valid_input)\n",
    "acc_predictions = acc_classifier.predict(acc_valid_input)\n",
    "\n",
    "# print(acc_classifier.monitor())\n",
    "# print(acc_score_list)"
   ]
  },
  {
   "cell_type": "code",
   "execution_count": null,
   "metadata": {
    "scrolled": true
   },
   "outputs": [],
   "source": [
    "print(confusion_matrix(acc_valid_label, acc_predictions))"
   ]
  },
  {
   "cell_type": "code",
   "execution_count": null,
   "metadata": {},
   "outputs": [],
   "source": [
    "print(accuracy_score(acc_valid_label, acc_predictions))"
   ]
  },
  {
   "cell_type": "code",
   "execution_count": null,
   "metadata": {},
   "outputs": [],
   "source": [
    "print(classification_report(acc_valid_label, acc_predictions))"
   ]
  },
  {
   "cell_type": "markdown",
   "metadata": {
    "collapsed": true
   },
   "source": [
    "## Gyroscope Klassifikation"
   ]
  },
  {
   "cell_type": "code",
   "execution_count": null,
   "metadata": {
    "scrolled": true
   },
   "outputs": [],
   "source": [
    "FRAME_NUMBER = 3\n",
    "\n",
    "gyro_train_input, gyro_train_label = prepare_data(train, FRAME_NUMBER, 'gyro')\n",
    "gyro_valid_input, gyro_valid_label = prepare_data(valid, FRAME_NUMBER, 'gyro')\n",
    "\n",
    "gyro_classifier = MyoHmmClassifier(sensor_type='gyro', n_states_per_hmm=1)\n",
    "gyro_classifier.fit(gyro_train_input, gyro_train_label)\n",
    "\n",
    "gyro_score_list = gyro_classifier.score(gyro_valid_input)\n",
    "gyro_predictions = gyro_classifier.predict(gyro_valid_input)\n",
    "\n",
    "# print(gyro_classifier.monitor())\n",
    "# print(gyro_score_list)"
   ]
  },
  {
   "cell_type": "code",
   "execution_count": null,
   "metadata": {
    "scrolled": true
   },
   "outputs": [],
   "source": [
    "print(confusion_matrix(gyro_valid_label, gyro_predictions))"
   ]
  },
  {
   "cell_type": "code",
   "execution_count": null,
   "metadata": {},
   "outputs": [],
   "source": [
    "print(accuracy_score(gyro_valid_label, gyro_predictions))"
   ]
  },
  {
   "cell_type": "code",
   "execution_count": null,
   "metadata": {},
   "outputs": [],
   "source": [
    "print(classification_report(gyro_valid_label, gyro_predictions))"
   ]
  },
  {
   "cell_type": "markdown",
   "metadata": {},
   "source": [
    "## Magnetometer Klassifikation"
   ]
  },
  {
   "cell_type": "code",
   "execution_count": null,
   "metadata": {
    "scrolled": true
   },
   "outputs": [],
   "source": [
    "FRAME_NUMBER = 3\n",
    "\n",
    "ori_train_input, ori_train_label = prepare_data(train, FRAME_NUMBER, 'orientation')\n",
    "ori_valid_input, ori_valid_label = prepare_data(valid, FRAME_NUMBER, 'orientation')\n",
    "\n",
    "ori_classifier = MyoHmmClassifier(sensor_type='orientation', n_states_per_hmm=1)\n",
    "ori_classifier.fit(ori_train_input, ori_train_label)\n",
    "\n",
    "ori_score_list = ori_classifier.score(ori_valid_input)\n",
    "ori_predictions = ori_classifier.predict(ori_valid_input)\n",
    "\n",
    "# ori_classifier.monitor()\n",
    "# print(ori_score_list)"
   ]
  },
  {
   "cell_type": "code",
   "execution_count": null,
   "metadata": {
    "scrolled": true
   },
   "outputs": [],
   "source": [
    "print(confusion_matrix(ori_valid_label, ori_predictions))"
   ]
  },
  {
   "cell_type": "code",
   "execution_count": null,
   "metadata": {},
   "outputs": [],
   "source": [
    "print(accuracy_score(ori_valid_label, ori_predictions))"
   ]
  },
  {
   "cell_type": "code",
   "execution_count": null,
   "metadata": {},
   "outputs": [],
   "source": [
    "print(classification_report(ori_valid_label, ori_predictions))"
   ]
  },
  {
   "cell_type": "markdown",
   "metadata": {},
   "source": [
    "## EMG Klassifikation"
   ]
  },
  {
   "cell_type": "code",
   "execution_count": null,
   "metadata": {
    "scrolled": true
   },
   "outputs": [],
   "source": [
    "FRAME_NUMBER = 3\n",
    "\n",
    "emg_train_input, emg_train_label = prepare_data(train, FRAME_NUMBER, 'emg')\n",
    "emg_valid_input, emg_valid_label = prepare_data(valid, FRAME_NUMBER, 'emg')\n",
    "\n",
    "emg_classifier = MyoHmmClassifier(sensor_type='emg', n_states_per_hmm=1)\n",
    "emg_classifier.fit(emg_train_input, emg_train_label)\n",
    "\n",
    "emg_score_list = emg_classifier.score(emg_valid_input)\n",
    "emg_predictions = emg_classifier.predict(emg_valid_input)\n",
    "\n",
    "# emg_classifier.monitor()\n",
    "# print(emg_score_list)"
   ]
  },
  {
   "cell_type": "code",
   "execution_count": null,
   "metadata": {
    "scrolled": true
   },
   "outputs": [],
   "source": [
    "print(confusion_matrix(emg_valid_label, emg_predictions))"
   ]
  },
  {
   "cell_type": "code",
   "execution_count": null,
   "metadata": {},
   "outputs": [],
   "source": [
    "print(accuracy_score(emg_valid_label, emg_predictions))"
   ]
  },
  {
   "cell_type": "code",
   "execution_count": null,
   "metadata": {
    "scrolled": true
   },
   "outputs": [],
   "source": [
    "print(classification_report(emg_valid_label, emg_predictions))"
   ]
  },
  {
   "cell_type": "code",
   "execution_count": null,
   "metadata": {
    "collapsed": true
   },
   "outputs": [],
   "source": []
  },
  {
   "cell_type": "code",
   "execution_count": null,
   "metadata": {
    "collapsed": true
   },
   "outputs": [],
   "source": []
  }
 ],
 "metadata": {
  "kernelspec": {
   "display_name": "Python 3",
   "language": "python",
   "name": "python3"
  },
  "language_info": {
   "codemirror_mode": {
    "name": "ipython",
    "version": 3
   },
   "file_extension": ".py",
   "mimetype": "text/x-python",
   "name": "python",
   "nbconvert_exporter": "python",
   "pygments_lexer": "ipython3",
   "version": "3.6.1"
  }
 },
 "nbformat": 4,
 "nbformat_minor": 2
}
