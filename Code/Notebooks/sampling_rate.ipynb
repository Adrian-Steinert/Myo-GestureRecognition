{
 "cells": [
  {
   "cell_type": "markdown",
   "metadata": {},
   "source": [
    "# Test der Abtastrate\n",
    "Nach Angaben des Herstellers wird\n",
    "* das EMG mit einer Abtastrate von 200Hz\n",
    "* das IMU mit einer Abtastrate von 50Hz\n",
    "\n",
    "abgetastet. Das Armband selbst besitzt keinen internen Zeitgeber, weshalb timestamps durch den Empfänger vergeben werden. Da die Daten drahtlos übertragen werden, hat dies zur Folge, dass der Abstand zwischen zwei timestamps nicht konstant ist und es auch vorkommen kann, dass für den selben timestamp mehrere verschiedene Werte gemessen werden.\n",
    "\n",
    "Dieses Notebook soll Anhand der gemessenen Daten die vom Hersteller angegebenen Werte für die Abtastrate prüfen. Im Fall einer Übereinstimmung kann davon ausgegangen werden, dass der zeitliche Abstand zwischen zwei gemessenen Werten konstant ist.\n",
    "\n",
    "**Ergebnis:**\n",
    "Die berechnete durchschnittliche Abtastrate weist eine unerhebliche Abweichung gegenüber den vom Hersteller spezifizierten Angaben auf. Aus diesem Grund wird der zeitliche Abstand zwischen zwei Messwerten als konstant angesehen."
   ]
  },
  {
   "cell_type": "code",
   "execution_count": null,
   "metadata": {
    "collapsed": true
   },
   "outputs": [],
   "source": [
    "import numpy as np\n",
    "\n",
    "from glob import glob\n",
    "from gesture_comparison_helper import load_gestures, find_gesture_start_end"
   ]
  },
  {
   "cell_type": "markdown",
   "metadata": {},
   "source": [
    "## Durchschnittliche Abtastrate aller gesammelten Daten"
   ]
  },
  {
   "cell_type": "code",
   "execution_count": null,
   "metadata": {
    "collapsed": true
   },
   "outputs": [],
   "source": [
    "gesture_data = load_gestures(glob('../Data/converted/*/*/*'))\n",
    "\n",
    "duration = []\n",
    "acc_samplecount = []\n",
    "emg_samplecount = []\n",
    "gyro_samplecount = []\n",
    "ori_samplecount = []\n",
    "\n",
    "\n",
    "for gesture in gesture_data:\n",
    "    duration.append(find_gesture_start_end(gesture)[2])\n",
    "    acc_samplecount.append(len(gesture['accelerometer']['timestamps']))\n",
    "    emg_samplecount.append(len(gesture['emg']['timestamps']))\n",
    "    gyro_samplecount.append(len(gesture['gyro']['timestamps']))\n",
    "    ori_samplecount.append(len(gesture['orientation']['timestamps']))\n",
    "\n",
    "mean_duration = np.mean((duration)) / 1000000 # convert from µs to s\n",
    "mean_emg = np.mean((emg_samplecount))\n",
    "mean_acc = np.mean((acc_samplecount))\n",
    "mean_gyro = np.mean((gyro_samplecount))\n",
    "mean_ori = np.mean((ori_samplecount))\n",
    "    \n",
    "print('Mean values per gesture (all collected data):')\n",
    "print('Duration[s]:                {:>8.4f}'.format(mean_duration)) # convert from µs to s\n",
    "print('Sample count EMG:           {:>8.4f}'.format(mean_emg))\n",
    "print('Sample count accelerometer: {:>8.4f}'.format(mean_acc))\n",
    "print('Sample count gyroscope:     {:>8.4f}'.format(mean_gyro))\n",
    "print('Sample count orientation:   {:>8.4f}'.format(mean_ori))\n",
    "print()\n",
    "print('Sample rate according to mean:')\n",
    "print('Sample rate EMG:            {:>8.4f}'.format(np.mean(mean_emg / mean_duration)))\n",
    "print('Sample rate accelerometer:  {:>8.4f}'.format(np.mean(mean_acc / mean_duration)))\n",
    "print('Sample rate gyroscope:      {:>8.4f}'.format(np.mean(mean_gyro / mean_duration)))\n",
    "print('Sample rate orientation:    {:>8.4f}'.format(np.mean(mean_ori / mean_duration)))"
   ]
  },
  {
   "cell_type": "markdown",
   "metadata": {
    "collapsed": true
   },
   "source": [
    "## Abtastrate pro Geste"
   ]
  },
  {
   "cell_type": "code",
   "execution_count": null,
   "metadata": {
    "collapsed": true,
    "scrolled": false
   },
   "outputs": [],
   "source": [
    "for gesture in gesture_data:\n",
    "    duration = find_gesture_start_end(gesture)[2] / 1000000 # convert from µs to s\n",
    "    emg_len = len(gesture['emg']['timestamps'])\n",
    "    acc_len = len(gesture['accelerometer']['timestamps'])\n",
    "    gyro_len = len(gesture['gyro']['timestamps'])\n",
    "    ori_len = len(gesture['orientation']['timestamps'])\n",
    "    \n",
    "    print('Performed by: {} | Gesture: {}'.format(gesture['performed_by'], gesture['gesture']))\n",
    "    print('Datetime: {}'.format(gesture['datetime']))\n",
    "    print('-'*45)\n",
    "    print('Duration[s]:                {:.4f}'.format(duration))\n",
    "    print('Sample count EMG:           {}'.format(emg_len))\n",
    "    print('Sample count accelerometer: {}'.format(acc_len))\n",
    "    print('Sample count gyroscope:     {}'.format(gyro_len))\n",
    "    print('Sample count orientation:   {}'.format(ori_len))\n",
    "    print('-'*45)\n",
    "    print('Sample rate EMG:            {:>8.4f}'.format(emg_len / duration))\n",
    "    print('Sample rate accelerometer:  {:>8.4f}'.format(acc_len / duration))\n",
    "    print('Sample rate gyroscope:      {:>8.4f}'.format(gyro_len / duration))\n",
    "    print('Sample rate orientation:    {:>8.4f}'.format(ori_len / duration))\n",
    "    print('\\n')"
   ]
  },
  {
   "cell_type": "code",
   "execution_count": null,
   "metadata": {
    "collapsed": true
   },
   "outputs": [],
   "source": []
  }
 ],
 "metadata": {
  "kernelspec": {
   "display_name": "Python 3",
   "language": "python",
   "name": "python3"
  },
  "language_info": {
   "codemirror_mode": {
    "name": "ipython",
    "version": 3
   },
   "file_extension": ".py",
   "mimetype": "text/x-python",
   "name": "python",
   "nbconvert_exporter": "python",
   "pygments_lexer": "ipython3",
   "version": "3.6.1"
  }
 },
 "nbformat": 4,
 "nbformat_minor": 2
}
