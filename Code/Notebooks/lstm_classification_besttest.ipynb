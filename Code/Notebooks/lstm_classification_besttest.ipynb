{
 "cells": [
  {
   "cell_type": "code",
   "execution_count": 13,
   "metadata": {},
   "outputs": [],
   "source": [
    "import os\n",
    "import sys\n",
    "import time\n",
    "import numpy as np\n",
    "from itertools import product\n",
    "from keras import backend as K\n",
    "from keras.models import Sequential, model_from_json\n",
    "from keras.layers import Dense, LSTM\n",
    "from keras.wrappers.scikit_learn import KerasClassifier\n",
    "\n",
    "from sklearn.model_selection import GridSearchCV, ShuffleSplit\n",
    "from sklearn.preprocessing import LabelEncoder\n",
    "from sklearn.metrics import confusion_matrix, accuracy_score, classification_report\n",
    "from sklearn.externals import joblib\n",
    "import tensorflow as tf\n",
    "\n",
    "import matplotlib.pyplot as plt"
   ]
  },
  {
   "cell_type": "code",
   "execution_count": 2,
   "metadata": {
    "collapsed": true
   },
   "outputs": [],
   "source": [
    "random_seed = 42\n",
    "\n",
    "np.random.seed(random_seed)\n",
    "tf.set_random_seed(random_seed)"
   ]
  },
  {
   "cell_type": "code",
   "execution_count": 3,
   "metadata": {},
   "outputs": [
    {
     "name": "stderr",
     "output_type": "stream",
     "text": [
      "c:\\python36\\lib\\site-packages\\statsmodels\\compat\\pandas.py:56: FutureWarning: The pandas.core.datetools module is deprecated and will be removed in a future version. Please use the pandas.tseries module instead.\n",
      "  from pandas.core import datetools\n"
     ]
    }
   ],
   "source": [
    "from gesture_comparison_helper import load_gestures\n",
    "module_path = os.path.abspath(os.path.join('..'))\n",
    "if module_path not in sys.path:\n",
    "    sys.path.append(module_path)\n",
    "from Utils.data_preparation_helper import load_data_for_classification, prepare_data\n",
    "from Utils.data_evaluation_helper import parse_classification_report, report_to_latex_table"
   ]
  },
  {
   "cell_type": "code",
   "execution_count": 4,
   "metadata": {
    "collapsed": true
   },
   "outputs": [],
   "source": [
    "def create_model(n_classes=1, shape=1, num_units=1, loss='sparse_categorical_crossentropy', optimizer='adam', metrics=['accuracy']):\n",
    "    # create model\n",
    "    model = Sequential()\n",
    "    model.add(LSTM(units=num_units, input_shape=(1, shape)))\n",
    "    model.add(Dense(n_classes, activation='sigmoid'))\n",
    "    # Compile model\n",
    "    model.compile(loss=loss, optimizer=optimizer, metrics=metrics)\n",
    "    return model\n",
    "\n",
    "def print_confusion_matrix_colored(confusion_matrix, c_labels, xy_labelsize, c_labelsize, save=None):\n",
    "    fig = plt.figure(figsize=(10,10))\n",
    "    ax  = fig.add_subplot(111)\n",
    "    #ax.set_title('Classification report')\n",
    "    ax.set_xlabel('prädizierte Klasse', fontsize=xy_labelsize, labelpad=12)\n",
    "    ax.xaxis.tick_top()\n",
    "    ax.set_xticks(list(range(len(c_labels))))\n",
    "    ax.xaxis.set_label_position('top')\n",
    "    ax.xaxis.set_ticklabels(c_labels, fontsize=c_labelsize, rotation=90)\n",
    "\n",
    "    ax.set_ylabel('tatsächliche Klasse', fontsize=xy_labelsize)\n",
    "    ax.yaxis.set_ticklabels(c_labels, fontsize=c_labelsize)\n",
    "    ax.set_yticks(list(range(len(c_labels))))\n",
    "\n",
    "    img = ax.imshow(confusion_matrix, cmap='gray')\n",
    "    cbar = fig.colorbar(img)\n",
    "    cbar.ax.tick_params(labelsize=c_labelsize)\n",
    "    fig.tight_layout()\n",
    "    if save != None:\n",
    "        fig.savefig(save)\n",
    "    plt.show()"
   ]
  },
  {
   "cell_type": "markdown",
   "metadata": {},
   "source": [
    "## Auswertung der optimalen Parameter - own"
   ]
  },
  {
   "cell_type": "code",
   "execution_count": 5,
   "metadata": {
    "collapsed": true
   },
   "outputs": [],
   "source": [
    "#(0.98076923076923073, 4, {'batch_size': 1, 'epochs': 100, 'n_classes': 6, 'num_units': 60, 'optimizer': 'Adam', 'shape': 60})\n",
    "#(0.92307692307692313, 10, {'batch_size': 1, 'epochs': 100, 'n_classes': 6, 'num_units': 150, 'optimizer': 'Adam', 'shape': 150})\n",
    "#(0.90384615384615385, 2, {'batch_size': 1, 'epochs': 300, 'n_classes': 6, 'num_units': 44, 'optimizer': 'Adam', 'shape': 44})\n",
    "#(0.84615384615384615, 10, {'batch_size': 1, 'epochs': 300, 'n_classes': 6, 'num_units': 320, 'optimizer': 'Adam', 'shape': 320})\n",
    "\n",
    "acc_frames = 4\n",
    "acc_batch = 1\n",
    "acc_epochs = 100\n",
    "\n",
    "gyro_frames = 10\n",
    "gyro_batch = 1\n",
    "gyro_epochs = 100\n",
    "\n",
    "ori_frames = 2\n",
    "ori_batch = 1\n",
    "ori_epochs = 300\n",
    "\n",
    "emg_frames = 10\n",
    "emg_batch = 1\n",
    "emg_epochs = 300"
   ]
  },
  {
   "cell_type": "code",
   "execution_count": 31,
   "metadata": {},
   "outputs": [
    {
     "name": "stdout",
     "output_type": "stream",
     "text": [
      "Accelerometer data prepared\n",
      "Gyroscope data prepared\n",
      "Orientation data prepared\n",
      "EMG data prepared\n",
      "\n",
      "Duration: 25.537904500961304\n"
     ]
    }
   ],
   "source": [
    "start_time = time.time()\n",
    "\n",
    "train, valid, test = load_data_for_classification('own')\n",
    "\n",
    "encoder = LabelEncoder()\n",
    "\n",
    "acc_train_input, acc_train_label = prepare_data(train, acc_frames, 'accelerometer', verbose=False)\n",
    "acc_valid_input, acc_valid_label = prepare_data(valid, acc_frames, 'accelerometer', verbose=False)\n",
    "acc_test_input, acc_test_label = prepare_data(test, acc_frames, 'accelerometer', verbose=False)\n",
    "acc_X_train = acc_train_input.reshape(acc_train_input.shape[0], 1, acc_train_input.shape[1])\n",
    "acc_y_train = encoder.fit_transform(acc_train_label)\n",
    "acc_X_valid = acc_valid_input.reshape(acc_valid_input.shape[0], 1, acc_valid_input.shape[1])\n",
    "acc_y_valid = encoder.fit_transform(acc_valid_label)\n",
    "acc_X_test = acc_test_input.reshape(acc_test_input.shape[0], 1, acc_test_input.shape[1])\n",
    "acc_y_test = encoder.fit_transform(acc_test_label)\n",
    "print('Accelerometer data prepared')\n",
    "\n",
    "gyro_train_input, gyro_train_label = prepare_data(train, gyro_frames, 'gyro', verbose=False)\n",
    "gyro_valid_input, gyro_valid_label = prepare_data(valid, gyro_frames, 'gyro', verbose=False)\n",
    "gyro_test_input, gyro_test_label = prepare_data(test, gyro_frames, 'gyro', verbose=False)\n",
    "gyro_X_train = gyro_train_input.reshape(gyro_train_input.shape[0], 1, gyro_train_input.shape[1])\n",
    "gyro_y_train = encoder.fit_transform(gyro_train_label)\n",
    "gyro_X_valid = gyro_valid_input.reshape(gyro_valid_input.shape[0], 1, gyro_valid_input.shape[1])\n",
    "gyro_y_valid = encoder.fit_transform(gyro_valid_label)\n",
    "gyro_X_test = gyro_test_input.reshape(gyro_test_input.shape[0], 1, gyro_test_input.shape[1])\n",
    "gyro_y_test = encoder.fit_transform(gyro_test_label)\n",
    "print('Gyroscope data prepared')\n",
    "\n",
    "ori_train_input, ori_train_label = prepare_data(train, ori_frames, 'orientation', verbose=False)\n",
    "ori_valid_input, ori_valid_label = prepare_data(valid, ori_frames, 'orientation', verbose=False)\n",
    "ori_test_input, ori_test_label = prepare_data(test, ori_frames, 'orientation', verbose=False)\n",
    "ori_X_train = ori_train_input.reshape(ori_train_input.shape[0], 1, ori_train_input.shape[1])\n",
    "ori_y_train = encoder.fit_transform(ori_train_label)\n",
    "ori_X_valid = ori_valid_input.reshape(ori_valid_input.shape[0], 1, ori_valid_input.shape[1])\n",
    "ori_y_valid = encoder.fit_transform(ori_valid_label)\n",
    "ori_X_test = ori_test_input.reshape(ori_test_input.shape[0], 1, ori_test_input.shape[1])\n",
    "ori_y_test = encoder.fit_transform(ori_test_label)\n",
    "print('Orientation data prepared')\n",
    "\n",
    "emg_train_input, emg_train_label = prepare_data(train, emg_frames, 'emg', verbose=False)\n",
    "emg_valid_input, emg_valid_label = prepare_data(valid, emg_frames, 'emg', verbose=False)\n",
    "emg_test_input, emg_test_label = prepare_data(test, emg_frames, 'emg', verbose=False)\n",
    "emg_X_train = emg_train_input.reshape(emg_train_input.shape[0], 1, emg_train_input.shape[1])\n",
    "emg_y_train = encoder.fit_transform(emg_train_label)\n",
    "emg_X_valid = emg_valid_input.reshape(emg_valid_input.shape[0], 1, emg_valid_input.shape[1])\n",
    "emg_y_valid = encoder.fit_transform(emg_valid_label)\n",
    "emg_X_test = emg_test_input.reshape(emg_test_input.shape[0], 1, emg_test_input.shape[1])\n",
    "emg_y_test = encoder.fit_transform(emg_test_label)\n",
    "print('EMG data prepared')\n",
    "\n",
    "print('\\nDuration: {}'.format(time.time() - start_time))"
   ]
  },
  {
   "cell_type": "code",
   "execution_count": 7,
   "metadata": {},
   "outputs": [
    {
     "name": "stdout",
     "output_type": "stream",
     "text": [
      "Accelerometer classifier fitted\n",
      "Gyroscope classifier fitted\n",
      "Orientation classifier fitted\n",
      "EMG classifier fitted\n",
      "\n",
      "Duration: 1906.6218099594116\n"
     ]
    }
   ],
   "source": [
    "start_time = time.time()\n",
    "\n",
    "acc_lstm = create_model(n_classes=len(encoder.classes_), num_units=acc_X_train.shape[2], shape=acc_X_train.shape[2])\n",
    "acc_lstm.fit(np.append(acc_X_train, acc_X_valid, axis=0),np.append(acc_y_train, acc_y_valid), epochs=acc_epochs, batch_size=acc_batch, verbose=0)\n",
    "print('Accelerometer classifier fitted')\n",
    "\n",
    "gyro_lstm = create_model(n_classes=len(encoder.classes_), num_units=gyro_X_train.shape[2], shape=gyro_X_train.shape[2])\n",
    "gyro_lstm.fit(np.append(gyro_X_train, gyro_X_valid, axis=0),np.append(gyro_y_train, gyro_y_valid), epochs=gyro_epochs, batch_size=gyro_batch, verbose=0)\n",
    "print('Gyroscope classifier fitted')\n",
    "\n",
    "ori_lstm = create_model(n_classes=len(encoder.classes_), num_units=ori_X_train.shape[2], shape=ori_X_train.shape[2])\n",
    "ori_lstm.fit(np.append(ori_X_train, ori_X_valid, axis=0),np.append(ori_y_train, ori_y_valid), epochs=ori_epochs, batch_size=ori_batch, verbose=0)\n",
    "print('Orientation classifier fitted')\n",
    "\n",
    "emg_lstm = create_model(n_classes=len(encoder.classes_), num_units=emg_X_train.shape[2], shape=emg_X_train.shape[2])\n",
    "emg_lstm.fit(np.append(emg_X_train, emg_X_valid, axis=0),np.append(emg_y_train, emg_y_valid), epochs=emg_epochs, batch_size=emg_batch, verbose=0)\n",
    "print('EMG classifier fitted')\n",
    "\n",
    "print('\\nDuration: {}'.format(time.time() - start_time))"
   ]
  },
  {
   "cell_type": "code",
   "execution_count": 32,
   "metadata": {
    "collapsed": true
   },
   "outputs": [],
   "source": [
    "config ={'acc_frames':acc_frames, 'gyro_frames':gyro_frames, 'ori_frames':ori_frames, 'emg_frames':emg_frames,\n",
    "         'loss':'sparse_categorical_crossentropy', 'optimizer':'adam', 'metrics':['accuracy']}\n",
    "\n",
    "save_path = '../Data/models/lstm/'\n",
    "os.makedirs(save_path, exist_ok=True)\n",
    "\n",
    "acc_model_json = acc_lstm.to_json()\n",
    "with open(save_path + 'own_acc_lstm.json', 'w') as json_file:\n",
    "    json_file.write(acc_model_json)\n",
    "acc_lstm.save_weights(save_path + 'own_acc_lstm_weights.h5')\n",
    "\n",
    "gyro_model_json = gyro_lstm.to_json()\n",
    "with open(save_path + 'own_gyro_lstm.json', 'w') as json_file:\n",
    "    json_file.write(gyro_model_json)\n",
    "gyro_lstm.save_weights(save_path + 'own_gyro_lstm_weights.h5')\n",
    "\n",
    "ori_model_json = ori_lstm.to_json()\n",
    "with open(save_path + 'own_ori_lstm.json', 'w') as json_file:\n",
    "    json_file.write(ori_model_json)\n",
    "ori_lstm.save_weights(save_path + 'own_ori_lstm_weights.h5')\n",
    "\n",
    "emg_model_json = emg_lstm.to_json()\n",
    "with open(save_path + 'own_emg_lstm.json', 'w') as json_file:\n",
    "    json_file.write(emg_model_json)\n",
    "emg_lstm.save_weights(save_path + 'own_emg_lstm_weights.h5')\n",
    "\n",
    "joblib.dump(config, save_path + 'own_config.p')\n",
    "joblib.dump(encoder, save_path + 'own_encoder.p')\n",
    "\n",
    "config = joblib.load(save_path + 'own_config.p')\n",
    "encoder = joblib.load(save_path + 'own_encoder.p')\n",
    "\n",
    "json_file = open(save_path + 'own_acc_lstm.json', 'r')\n",
    "acc_lstm_json = json_file.read()\n",
    "json_file.close()\n",
    "acc_lstm = model_from_json(acc_lstm_json)\n",
    "acc_lstm.load_weights(save_path + 'own_acc_lstm_weights.h5')\n",
    "acc_lstm.compile(loss=config['loss'], optimizer=config['optimizer'], metrics=config['metrics'])\n",
    "\n",
    "json_file = open(save_path + 'own_gyro_lstm.json', 'r')\n",
    "gyro_lstm_json = json_file.read()\n",
    "json_file.close()\n",
    "gyro_lstm = model_from_json(gyro_lstm_json)\n",
    "gyro_lstm.load_weights(save_path + 'own_gyro_lstm_weights.h5')\n",
    "gyro_lstm.compile(loss=config['loss'], optimizer=config['optimizer'], metrics=config['metrics'])\n",
    "\n",
    "json_file = open(save_path + 'own_ori_lstm.json', 'r')\n",
    "ori_lstm_json = json_file.read()\n",
    "json_file.close()\n",
    "ori_lstm = model_from_json(ori_lstm_json)\n",
    "ori_lstm.load_weights(save_path + 'own_ori_lstm_weights.h5')\n",
    "ori_lstm.compile(loss=config['loss'], optimizer=config['optimizer'], metrics=config['metrics'])\n",
    "\n",
    "json_file = open(save_path + 'own_emg_lstm.json', 'r')\n",
    "emg_lstm_json = json_file.read()\n",
    "json_file.close()\n",
    "emg_lstm = model_from_json(emg_lstm_json)\n",
    "emg_lstm.load_weights(save_path + 'own_emg_lstm_weights.h5')\n",
    "emg_lstm.compile(loss=config['loss'], optimizer=config['optimizer'], metrics=config['metrics'])"
   ]
  },
  {
   "cell_type": "code",
   "execution_count": 15,
   "metadata": {},
   "outputs": [
    {
     "name": "stdout",
     "output_type": "stream",
     "text": [
      "\n",
      "Duration: 0.7143669128417969\n"
     ]
    }
   ],
   "source": [
    "start_time = time.time()\n",
    "\n",
    "acc_pred_probs = acc_lstm.predict(acc_X_test)\n",
    "gyro_pred_probs = gyro_lstm.predict(gyro_X_test)\n",
    "ori_pred_probs = ori_lstm.predict(ori_X_test)\n",
    "emg_pred_probs = emg_lstm.predict(emg_X_test)\n",
    "\n",
    "result = []\n",
    "    \n",
    "for prediction in range(len(acc_pred_probs)):\n",
    "    acc_gyro = np.add(acc_pred_probs[prediction], gyro_pred_probs[prediction])\n",
    "    ori_emg = np.add(ori_pred_probs[prediction], emg_pred_probs[prediction])\n",
    "    final = np.divide(np.add(acc_gyro, ori_emg), 4)\n",
    "    result.append(encoder.classes_[np.argmax(final)])\n",
    "    \n",
    "print('\\nDuration: {}'.format(time.time() - start_time))"
   ]
  },
  {
   "cell_type": "code",
   "execution_count": 16,
   "metadata": {},
   "outputs": [
    {
     "name": "stdout",
     "output_type": "stream",
     "text": [
      "0.846153846154\n"
     ]
    }
   ],
   "source": [
    "print(accuracy_score(acc_test_label, result))"
   ]
  },
  {
   "cell_type": "code",
   "execution_count": 17,
   "metadata": {},
   "outputs": [
    {
     "name": "stdout",
     "output_type": "stream",
     "text": [
      "[[ 9  0  0  0  0  0]\n",
      " [ 0  6  3  0  0  0]\n",
      " [ 0  0 11  0  0  0]\n",
      " [ 0  3  0  9  0  0]\n",
      " [ 0  0  0  0 12  0]\n",
      " [ 1  2  1  0  0  8]]\n"
     ]
    },
    {
     "data": {
      "image/png": "[encoded data removed]",
      "text/plain": [
       "<matplotlib.figure.Figure at 0x22cdf6b7fd0>"
      ]
     },
     "metadata": {},
     "output_type": "display_data"
    }
   ],
   "source": [
    "cm = confusion_matrix(acc_test_label, result)\n",
    "labels = list(encoder.classes_)\n",
    "\n",
    "print(cm)\n",
    "\n",
    "print_confusion_matrix_colored(cm, labels, 20, 15)"
   ]
  },
  {
   "cell_type": "code",
   "execution_count": 18,
   "metadata": {},
   "outputs": [
    {
     "name": "stdout",
     "output_type": "stream",
     "text": [
      "             precision    recall  f1-score   support\n",
      "\n",
      "   big_stop       0.90      1.00      0.95         9\n",
      "  come_down       0.55      0.67      0.60         9\n",
      "  come_here       0.73      1.00      0.85        11\n",
      "    come_up       1.00      0.75      0.86        12\n",
      "       flip       1.00      1.00      1.00        12\n",
      " small_stop       1.00      0.67      0.80        12\n",
      "\n",
      "avg / total       0.88      0.85      0.85        65\n",
      "\n"
     ]
    }
   ],
   "source": [
    "clf_repo = classification_report(acc_test_label, result)\n",
    "\n",
    "print(clf_repo)\n",
    "\n",
    "parsed = parse_classification_report(clf_repo)\n",
    "output = report_to_latex_table(parsed)\n",
    "#print(output)"
   ]
  },
  {
   "cell_type": "markdown",
   "metadata": {},
   "source": [
    "## Auswertung der optimalen Parameter - paper"
   ]
  },
  {
   "cell_type": "code",
   "execution_count": 43,
   "metadata": {
    "collapsed": true
   },
   "outputs": [],
   "source": [
    "#(0.59615384615384615, 5, {'batch_size': 1, 'epochs': 300, 'n_classes': 18, 'num_units': 75, 'optimizer': 'Adam', 'shape': 75})\n",
    "#(0.52564102564102566, 10, {'batch_size': 1, 'epochs': 300, 'n_classes': 18, 'num_units': 150, 'optimizer': 'Adam', 'shape': 150})\n",
    "#(0.57692307692307687, 3, {'batch_size': 1, 'epochs': 300, 'n_classes': 18, 'num_units': 66, 'optimizer': 'Adam', 'shape': 66})\n",
    "#(0.46153846153846156, 10, {'batch_size': 1, 'epochs': 100, 'n_classes': 18, 'num_units': 320, 'optimizer': 'Adam', 'shape': 320})\n",
    "\n",
    "acc_frames = 5\n",
    "acc_batch = 1\n",
    "acc_epochs = 300\n",
    "\n",
    "gyro_frames = 10\n",
    "gyro_batch = 1\n",
    "gyro_epochs = 300\n",
    "\n",
    "ori_frames = 3\n",
    "ori_batch = 1\n",
    "ori_epochs = 300\n",
    "\n",
    "emg_frames = 10\n",
    "emg_batch = 1\n",
    "emg_epochs = 100"
   ]
  },
  {
   "cell_type": "code",
   "execution_count": 44,
   "metadata": {},
   "outputs": [
    {
     "name": "stdout",
     "output_type": "stream",
     "text": [
      "Accelerometer data prepared\n",
      "Gyroscope data prepared\n",
      "Orientation data prepared\n",
      "EMG data prepared\n",
      "\n",
      "Duration: 79.67390418052673\n"
     ]
    }
   ],
   "source": [
    "start_time = time.time()\n",
    "\n",
    "train, valid, test = load_data_for_classification('paper')\n",
    "\n",
    "encoder = LabelEncoder()\n",
    "\n",
    "acc_train_input, acc_train_label = prepare_data(train, acc_frames, 'accelerometer', verbose=False)\n",
    "acc_valid_input, acc_valid_label = prepare_data(valid, acc_frames, 'accelerometer', verbose=False)\n",
    "acc_test_input, acc_test_label = prepare_data(test, acc_frames, 'accelerometer', verbose=False)\n",
    "acc_X_train = acc_train_input.reshape(acc_train_input.shape[0], 1, acc_train_input.shape[1])\n",
    "acc_y_train = encoder.fit_transform(acc_train_label)\n",
    "acc_X_valid = acc_valid_input.reshape(acc_valid_input.shape[0], 1, acc_valid_input.shape[1])\n",
    "acc_y_valid = encoder.fit_transform(acc_valid_label)\n",
    "acc_X_test = acc_test_input.reshape(acc_test_input.shape[0], 1, acc_test_input.shape[1])\n",
    "acc_y_test = encoder.fit_transform(acc_test_label)\n",
    "print('Accelerometer data prepared')\n",
    "\n",
    "gyro_train_input, gyro_train_label = prepare_data(train, gyro_frames, 'gyro', verbose=False)\n",
    "gyro_valid_input, gyro_valid_label = prepare_data(valid, gyro_frames, 'gyro', verbose=False)\n",
    "gyro_test_input, gyro_test_label = prepare_data(test, gyro_frames, 'gyro', verbose=False)\n",
    "gyro_X_train = gyro_train_input.reshape(gyro_train_input.shape[0], 1, gyro_train_input.shape[1])\n",
    "gyro_y_train = encoder.fit_transform(gyro_train_label)\n",
    "gyro_X_valid = gyro_valid_input.reshape(gyro_valid_input.shape[0], 1, gyro_valid_input.shape[1])\n",
    "gyro_y_valid = encoder.fit_transform(gyro_valid_label)\n",
    "gyro_X_test = gyro_test_input.reshape(gyro_test_input.shape[0], 1, gyro_test_input.shape[1])\n",
    "gyro_y_test = encoder.fit_transform(gyro_test_label)\n",
    "print('Gyroscope data prepared')\n",
    "\n",
    "ori_train_input, ori_train_label = prepare_data(train, ori_frames, 'orientation', verbose=False)\n",
    "ori_valid_input, ori_valid_label = prepare_data(valid, ori_frames, 'orientation', verbose=False)\n",
    "ori_test_input, ori_test_label = prepare_data(test, ori_frames, 'orientation', verbose=False)\n",
    "ori_X_train = ori_train_input.reshape(ori_train_input.shape[0], 1, ori_train_input.shape[1])\n",
    "ori_y_train = encoder.fit_transform(ori_train_label)\n",
    "ori_X_valid = ori_valid_input.reshape(ori_valid_input.shape[0], 1, ori_valid_input.shape[1])\n",
    "ori_y_valid = encoder.fit_transform(ori_valid_label)\n",
    "ori_X_test = ori_test_input.reshape(ori_test_input.shape[0], 1, ori_test_input.shape[1])\n",
    "ori_y_test = encoder.fit_transform(ori_test_label)\n",
    "print('Orientation data prepared')\n",
    "\n",
    "emg_train_input, emg_train_label = prepare_data(train, emg_frames, 'emg', verbose=False)\n",
    "emg_valid_input, emg_valid_label = prepare_data(valid, emg_frames, 'emg', verbose=False)\n",
    "emg_test_input, emg_test_label = prepare_data(test, emg_frames, 'emg', verbose=False)\n",
    "emg_X_train = emg_train_input.reshape(emg_train_input.shape[0], 1, emg_train_input.shape[1])\n",
    "emg_y_train = encoder.fit_transform(emg_train_label)\n",
    "emg_X_valid = emg_valid_input.reshape(emg_valid_input.shape[0], 1, emg_valid_input.shape[1])\n",
    "emg_y_valid = encoder.fit_transform(emg_valid_label)\n",
    "emg_X_test = emg_test_input.reshape(emg_test_input.shape[0], 1, emg_test_input.shape[1])\n",
    "emg_y_test = encoder.fit_transform(emg_test_label)\n",
    "print('EMG data prepared')\n",
    "\n",
    "print('\\nDuration: {}'.format(time.time() - start_time))"
   ]
  },
  {
   "cell_type": "code",
   "execution_count": 45,
   "metadata": {},
   "outputs": [
    {
     "name": "stdout",
     "output_type": "stream",
     "text": [
      "Accelerometer classifier fitted\n",
      "Gyroscope classifier fitted\n",
      "Orientation classifier fitted\n",
      "EMG classifier fitted\n",
      "\n",
      "Duration: 10962.828613996506\n"
     ]
    }
   ],
   "source": [
    "start_time = time.time()\n",
    "\n",
    "acc_lstm = create_model(n_classes=len(encoder.classes_), num_units=acc_X_train.shape[2], shape=acc_X_train.shape[2])\n",
    "acc_lstm.fit(np.append(acc_X_train, acc_X_valid, axis=0),np.append(acc_y_train, acc_y_valid), epochs=acc_epochs, batch_size=acc_batch, verbose=0)\n",
    "print('Accelerometer classifier fitted')\n",
    "\n",
    "gyro_lstm = create_model(n_classes=len(encoder.classes_), num_units=gyro_X_train.shape[2], shape=gyro_X_train.shape[2])\n",
    "gyro_lstm.fit(np.append(gyro_X_train, gyro_X_valid, axis=0),np.append(gyro_y_train, gyro_y_valid), epochs=gyro_epochs, batch_size=gyro_batch, verbose=0)\n",
    "print('Gyroscope classifier fitted')\n",
    "\n",
    "ori_lstm = create_model(n_classes=len(encoder.classes_), num_units=ori_X_train.shape[2], shape=ori_X_train.shape[2])\n",
    "ori_lstm.fit(np.append(ori_X_train, ori_X_valid, axis=0),np.append(ori_y_train, ori_y_valid), epochs=ori_epochs, batch_size=ori_batch, verbose=0)\n",
    "print('Orientation classifier fitted')\n",
    "\n",
    "emg_lstm = create_model(n_classes=len(encoder.classes_), num_units=emg_X_train.shape[2], shape=emg_X_train.shape[2])\n",
    "emg_lstm.fit(np.append(emg_X_train, emg_X_valid, axis=0),np.append(emg_y_train, emg_y_valid), epochs=emg_epochs, batch_size=emg_batch, verbose=0)\n",
    "print('EMG classifier fitted')\n",
    "\n",
    "print('\\nDuration: {}'.format(time.time() - start_time))"
   ]
  },
  {
   "cell_type": "code",
   "execution_count": 28,
   "metadata": {},
   "outputs": [],
   "source": [
    "config ={'acc_frames':acc_frames, 'gyro_frames':gyro_frames, 'ori_frames':ori_frames, 'emg_frames':emg_frames,\n",
    "         'loss':'sparse_categorical_crossentropy', 'optimizer':'adam', 'metrics':['accuracy']}\n",
    "\n",
    "save_path = '../Data/models/lstm/'\n",
    "os.makedirs(save_path, exist_ok=True)\n",
    "\n",
    "acc_model_json = acc_lstm.to_json()\n",
    "with open(save_path + 'paper_acc_lstm.json', 'w') as json_file:\n",
    "    json_file.write(acc_model_json)\n",
    "acc_lstm.save_weights(save_path + 'paper_acc_lstm_weights.h5')\n",
    "\n",
    "gyro_model_json = gyro_lstm.to_json()\n",
    "with open(save_path + 'paper_gyro_lstm.json', 'w') as json_file:\n",
    "    json_file.write(gyro_model_json)\n",
    "gyro_lstm.save_weights(save_path + 'paper_gyro_lstm_weights.h5')\n",
    "\n",
    "ori_model_json = ori_lstm.to_json()\n",
    "with open(save_path + 'paper_ori_lstm.json', 'w') as json_file:\n",
    "    json_file.write(ori_model_json)\n",
    "ori_lstm.save_weights(save_path + 'paper_ori_lstm_weights.h5')\n",
    "\n",
    "emg_model_json = emg_lstm.to_json()\n",
    "with open(save_path + 'paper_emg_lstm.json', 'w') as json_file:\n",
    "    json_file.write(emg_model_json)\n",
    "emg_lstm.save_weights(save_path + 'paper_emg_lstm_weights.h5')\n",
    "\n",
    "joblib.dump(config, save_path + 'paper_config.p')\n",
    "joblib.dump(encoder, save_path + 'paper_encoder.p')\n",
    "\n",
    "config = joblib.load(save_path + 'paper_config.p')\n",
    "encoder = joblib.load(save_path + 'paper_encoder.p')\n",
    "\n",
    "json_file = open(save_path + 'paper_acc_lstm.json', 'r')\n",
    "acc_lstm_json = json_file.read()\n",
    "json_file.close()\n",
    "acc_lstm = model_from_json(acc_lstm_json)\n",
    "acc_lstm.load_weights(save_path + 'paper_acc_lstm_weights.h5')\n",
    "acc_lstm.compile(loss=config['loss'], optimizer=config['optimizer'], metrics=config['metrics'])\n",
    "\n",
    "json_file = open(save_path + 'paper_gyro_lstm.json', 'r')\n",
    "gyro_lstm_json = json_file.read()\n",
    "json_file.close()\n",
    "gyro_lstm = model_from_json(gyro_lstm_json)\n",
    "gyro_lstm.load_weights(save_path + 'paper_gyro_lstm_weights.h5')\n",
    "gyro_lstm.compile(loss=config['loss'], optimizer=config['optimizer'], metrics=config['metrics'])\n",
    "\n",
    "json_file = open(save_path + 'paper_ori_lstm.json', 'r')\n",
    "ori_lstm_json = json_file.read()\n",
    "json_file.close()\n",
    "ori_lstm = model_from_json(ori_lstm_json)\n",
    "ori_lstm.load_weights(save_path + 'paper_ori_lstm_weights.h5')\n",
    "ori_lstm.compile(loss=config['loss'], optimizer=config['optimizer'], metrics=config['metrics'])\n",
    "\n",
    "json_file = open(save_path + 'paper_emg_lstm.json', 'r')\n",
    "emg_lstm_json = json_file.read()\n",
    "json_file.close()\n",
    "emg_lstm = model_from_json(emg_lstm_json)\n",
    "emg_lstm.load_weights(save_path + 'paper_emg_lstm_weights.h5')\n",
    "emg_lstm.compile(loss=config['loss'], optimizer=config['optimizer'], metrics=config['metrics'])"
   ]
  },
  {
   "cell_type": "code",
   "execution_count": 29,
   "metadata": {},
   "outputs": [
    {
     "name": "stdout",
     "output_type": "stream",
     "text": [
      "\n",
      "Duration: 1.4360237121582031\n"
     ]
    }
   ],
   "source": [
    "start_time = time.time()\n",
    "\n",
    "acc_pred_probs = acc_lstm.predict(acc_X_test)\n",
    "gyro_pred_probs = gyro_lstm.predict(gyro_X_test)\n",
    "ori_pred_probs = ori_lstm.predict(ori_X_test)\n",
    "emg_pred_probs = emg_lstm.predict(emg_X_test)\n",
    "\n",
    "result = []\n",
    "    \n",
    "for prediction in range(len(acc_pred_probs)):\n",
    "    acc_gyro = np.add(acc_pred_probs[prediction], gyro_pred_probs[prediction])\n",
    "    ori_emg = np.add(ori_pred_probs[prediction], emg_pred_probs[prediction])\n",
    "    final = np.divide(np.add(acc_gyro, ori_emg), 4)\n",
    "    result.append(encoder.classes_[np.argmax(final)])\n",
    "    \n",
    "print('\\nDuration: {}'.format(time.time() - start_time))"
   ]
  },
  {
   "cell_type": "code",
   "execution_count": 30,
   "metadata": {},
   "outputs": [
    {
     "name": "stdout",
     "output_type": "stream",
     "text": [
      "0.288659793814\n"
     ]
    }
   ],
   "source": [
    "print(accuracy_score(acc_test_label, result))"
   ]
  },
  {
   "cell_type": "code",
   "execution_count": 26,
   "metadata": {},
   "outputs": [
    {
     "name": "stdout",
     "output_type": "stream",
     "text": [
      "[[3 0 0 3 1 0 1 0 0 0 0 0 1 0 0 0 0 0]\n",
      " [0 3 0 0 0 0 0 3 0 0 0 0 0 3 0 0 0 0]\n",
      " [0 0 1 0 0 0 0 0 3 0 0 1 0 2 2 0 0 0]\n",
      " [0 1 0 3 0 0 0 0 0 0 0 1 2 1 0 0 0 1]\n",
      " [0 2 0 0 6 0 0 0 0 0 1 0 0 0 0 0 0 0]\n",
      " [0 2 0 0 0 4 0 0 0 0 0 3 0 0 0 0 0 0]\n",
      " [0 0 0 2 0 0 4 0 0 1 0 0 2 0 0 0 0 0]\n",
      " [0 1 0 0 0 0 0 2 0 0 0 0 1 6 0 0 0 1]\n",
      " [0 0 0 0 0 0 0 0 6 0 0 2 1 0 3 0 0 0]\n",
      " [0 0 0 1 0 0 3 0 1 0 0 1 2 0 0 3 0 1]\n",
      " [0 0 0 0 2 0 0 3 0 0 5 0 0 0 0 0 2 0]\n",
      " [0 0 0 2 0 1 0 0 5 0 0 1 0 0 2 0 0 1]\n",
      " [2 0 0 0 0 0 1 0 0 0 0 1 0 0 2 6 0 0]\n",
      " [0 0 0 0 0 0 0 6 0 0 0 0 0 6 0 0 0 0]\n",
      " [0 0 0 0 0 1 0 0 2 0 0 2 0 0 7 0 0 0]\n",
      " [1 0 0 1 1 0 2 0 1 0 0 2 1 0 1 2 0 0]\n",
      " [0 2 0 0 2 0 0 1 0 0 5 0 0 0 0 0 2 0]\n",
      " [0 2 0 0 0 2 0 0 1 0 0 5 0 0 1 0 0 1]]\n"
     ]
    },
    {
     "data": {
      "image/png": "[encoded data removed]",
      "text/plain": [
       "<matplotlib.figure.Figure at 0x22cf721fe10>"
      ]
     },
     "metadata": {},
     "output_type": "display_data"
    }
   ],
   "source": [
    "cm = confusion_matrix(acc_test_label, result)\n",
    "labels = list(encoder.classes_)\n",
    "\n",
    "print(cm)\n",
    "\n",
    "print_confusion_matrix_colored(cm, labels, 20, 15)"
   ]
  },
  {
   "cell_type": "code",
   "execution_count": 27,
   "metadata": {},
   "outputs": [
    {
     "name": "stdout",
     "output_type": "stream",
     "text": [
      "             precision    recall  f1-score   support\n",
      "\n",
      "       hcch       0.50      0.33      0.40         9\n",
      "       hccs       0.23      0.33      0.27         9\n",
      "       hccv       1.00      0.11      0.20         9\n",
      "       hcwh       0.25      0.33      0.29         9\n",
      "       hcws       0.50      0.67      0.57         9\n",
      "       hcwv       0.50      0.44      0.47         9\n",
      "       lcch       0.36      0.44      0.40         9\n",
      "       lccs       0.13      0.18      0.15        11\n",
      "       lccv       0.32      0.50      0.39        12\n",
      "       lcwh       0.00      0.00      0.00        12\n",
      "       lcws       0.45      0.42      0.43        12\n",
      "       lcwv       0.05      0.08      0.06        12\n",
      "       tcch       0.00      0.00      0.00        12\n",
      "       tccs       0.33      0.50      0.40        12\n",
      "       tccv       0.39      0.58      0.47        12\n",
      "       tcwh       0.18      0.17      0.17        12\n",
      "       tcws       0.50      0.17      0.25        12\n",
      "       tcwv       0.20      0.08      0.12        12\n",
      "\n",
      "avg / total       0.31      0.29      0.27       194\n",
      "\n"
     ]
    }
   ],
   "source": [
    "clf_repo = classification_report(acc_test_label, result)\n",
    "\n",
    "print(clf_repo)\n",
    "\n",
    "parsed = parse_classification_report(clf_repo)\n",
    "output = report_to_latex_table(parsed)\n",
    "#print(output)"
   ]
  },
  {
   "cell_type": "markdown",
   "metadata": {},
   "source": [
    "## Auswertung der optimalen Parameter - all"
   ]
  },
  {
   "cell_type": "code",
   "execution_count": 33,
   "metadata": {
    "collapsed": true
   },
   "outputs": [],
   "source": [
    "#(0.64251207729468596, 4, {'batch_size': 1, 'epochs': 300, 'n_classes': 24, 'num_units': 60, 'optimizer': 'Adam', 'shape': 60})\n",
    "#(0.53623188405797106, 12, {'batch_size': 10, 'epochs': 300, 'n_classes': 24, 'num_units': 180, 'optimizer': 'Adam', 'shape': 180})\n",
    "#(0.61352657004830913, 3, {'batch_size': 1, 'epochs': 300, 'n_classes': 24, 'num_units': 66, 'optimizer': 'Adam', 'shape': 66})\n",
    "### emg ###\n",
    "#(0.59134615384615385, 8, {'shape': 256, 'batch_size': 1, 'n_classes': 24, 'optimizer': 'Adam', 'num_units': 256, 'epochs': 300})\n",
    "\n",
    "acc_frames = 4\n",
    "acc_batch = 1\n",
    "acc_epochs = 300\n",
    "\n",
    "gyro_frames = 12\n",
    "gyro_batch = 10\n",
    "gyro_epochs = 300\n",
    "\n",
    "ori_frames = 3\n",
    "ori_batch = 1\n",
    "ori_epochs = 300\n",
    "\n",
    "emg_frames = 8\n",
    "emg_batch = 1\n",
    "emg_epochs = 300"
   ]
  },
  {
   "cell_type": "code",
   "execution_count": 34,
   "metadata": {},
   "outputs": [
    {
     "name": "stdout",
     "output_type": "stream",
     "text": [
      "Accelerometer data prepared\n",
      "Gyroscope data prepared\n",
      "Orientation data prepared\n",
      "EMG data prepared\n",
      "\n",
      "Duration: 82.41763257980347\n"
     ]
    }
   ],
   "source": [
    "start_time = time.time()\n",
    "\n",
    "train, valid, test = load_data_for_classification('all')\n",
    "\n",
    "encoder = LabelEncoder()\n",
    "\n",
    "acc_train_input, acc_train_label = prepare_data(train, acc_frames, 'accelerometer', verbose=False)\n",
    "acc_valid_input, acc_valid_label = prepare_data(valid, acc_frames, 'accelerometer', verbose=False)\n",
    "acc_test_input, acc_test_label = prepare_data(test, acc_frames, 'accelerometer', verbose=False)\n",
    "acc_X_train = acc_train_input.reshape(acc_train_input.shape[0], 1, acc_train_input.shape[1])\n",
    "acc_y_train = encoder.fit_transform(acc_train_label)\n",
    "acc_X_valid = acc_valid_input.reshape(acc_valid_input.shape[0], 1, acc_valid_input.shape[1])\n",
    "acc_y_valid = encoder.fit_transform(acc_valid_label)\n",
    "acc_X_test = acc_test_input.reshape(acc_test_input.shape[0], 1, acc_test_input.shape[1])\n",
    "acc_y_test = encoder.fit_transform(acc_test_label)\n",
    "print('Accelerometer data prepared')\n",
    "\n",
    "gyro_train_input, gyro_train_label = prepare_data(train, gyro_frames, 'gyro', verbose=False)\n",
    "gyro_valid_input, gyro_valid_label = prepare_data(valid, gyro_frames, 'gyro', verbose=False)\n",
    "gyro_test_input, gyro_test_label = prepare_data(test, gyro_frames, 'gyro', verbose=False)\n",
    "gyro_X_train = gyro_train_input.reshape(gyro_train_input.shape[0], 1, gyro_train_input.shape[1])\n",
    "gyro_y_train = encoder.fit_transform(gyro_train_label)\n",
    "gyro_X_valid = gyro_valid_input.reshape(gyro_valid_input.shape[0], 1, gyro_valid_input.shape[1])\n",
    "gyro_y_valid = encoder.fit_transform(gyro_valid_label)\n",
    "gyro_X_test = gyro_test_input.reshape(gyro_test_input.shape[0], 1, gyro_test_input.shape[1])\n",
    "gyro_y_test = encoder.fit_transform(gyro_test_label)\n",
    "print('Gyroscope data prepared')\n",
    "\n",
    "ori_train_input, ori_train_label = prepare_data(train, ori_frames, 'orientation', verbose=False)\n",
    "ori_valid_input, ori_valid_label = prepare_data(valid, ori_frames, 'orientation', verbose=False)\n",
    "ori_test_input, ori_test_label = prepare_data(test, ori_frames, 'orientation', verbose=False)\n",
    "ori_X_train = ori_train_input.reshape(ori_train_input.shape[0], 1, ori_train_input.shape[1])\n",
    "ori_y_train = encoder.fit_transform(ori_train_label)\n",
    "ori_X_valid = ori_valid_input.reshape(ori_valid_input.shape[0], 1, ori_valid_input.shape[1])\n",
    "ori_y_valid = encoder.fit_transform(ori_valid_label)\n",
    "ori_X_test = ori_test_input.reshape(ori_test_input.shape[0], 1, ori_test_input.shape[1])\n",
    "ori_y_test = encoder.fit_transform(ori_test_label)\n",
    "print('Orientation data prepared')\n",
    "\n",
    "emg_train_input, emg_train_label = prepare_data(train, emg_frames, 'emg', verbose=False)\n",
    "emg_valid_input, emg_valid_label = prepare_data(valid, emg_frames, 'emg', verbose=False)\n",
    "emg_test_input, emg_test_label = prepare_data(test, emg_frames, 'emg', verbose=False)\n",
    "emg_X_train = emg_train_input.reshape(emg_train_input.shape[0], 1, emg_train_input.shape[1])\n",
    "emg_y_train = encoder.fit_transform(emg_train_label)\n",
    "emg_X_valid = emg_valid_input.reshape(emg_valid_input.shape[0], 1, emg_valid_input.shape[1])\n",
    "emg_y_valid = encoder.fit_transform(emg_valid_label)\n",
    "emg_X_test = emg_test_input.reshape(emg_test_input.shape[0], 1, emg_test_input.shape[1])\n",
    "emg_y_test = encoder.fit_transform(emg_test_label)\n",
    "print('EMG data prepared')\n",
    "\n",
    "print('\\nDuration: {}'.format(time.time() - start_time))"
   ]
  },
  {
   "cell_type": "code",
   "execution_count": 35,
   "metadata": {},
   "outputs": [
    {
     "name": "stdout",
     "output_type": "stream",
     "text": [
      "Accelerometer classifier fitted\n",
      "Gyroscope classifier fitted\n",
      "Orientation classifier fitted\n",
      "EMG classifier fitted\n",
      "\n",
      "Duration: 5552.620501995087\n"
     ]
    }
   ],
   "source": [
    "start_time = time.time()\n",
    "\n",
    "acc_lstm = create_model(n_classes=len(encoder.classes_), num_units=acc_X_train.shape[2], shape=acc_X_train.shape[2])\n",
    "acc_lstm.fit(np.append(acc_X_train, acc_X_valid, axis=0),np.append(acc_y_train, acc_y_valid), epochs=acc_epochs, batch_size=acc_batch, verbose=0)\n",
    "print('Accelerometer classifier fitted')\n",
    "\n",
    "gyro_lstm = create_model(n_classes=len(encoder.classes_), num_units=gyro_X_train.shape[2], shape=gyro_X_train.shape[2])\n",
    "gyro_lstm.fit(np.append(gyro_X_train, gyro_X_valid, axis=0),np.append(gyro_y_train, gyro_y_valid), epochs=gyro_epochs, batch_size=gyro_batch, verbose=0)\n",
    "print('Gyroscope classifier fitted')\n",
    "\n",
    "ori_lstm = create_model(n_classes=len(encoder.classes_), num_units=ori_X_train.shape[2], shape=ori_X_train.shape[2])\n",
    "ori_lstm.fit(np.append(ori_X_train, ori_X_valid, axis=0),np.append(ori_y_train, ori_y_valid), epochs=ori_epochs, batch_size=ori_batch, verbose=0)\n",
    "print('Orientation classifier fitted')\n",
    "\n",
    "emg_lstm = create_model(n_classes=len(encoder.classes_), num_units=emg_X_train.shape[2], shape=emg_X_train.shape[2])\n",
    "emg_lstm.fit(np.append(emg_X_train, emg_X_valid, axis=0),np.append(emg_y_train, emg_y_valid), epochs=emg_epochs, batch_size=emg_batch, verbose=0)\n",
    "print('EMG classifier fitted')\n",
    "\n",
    "print('\\nDuration: {}'.format(time.time() - start_time))"
   ]
  },
  {
   "cell_type": "code",
   "execution_count": 38,
   "metadata": {
    "collapsed": true
   },
   "outputs": [],
   "source": [
    "config ={'acc_frames':acc_frames, 'gyro_frames':gyro_frames, 'ori_frames':ori_frames, 'emg_frames':emg_frames,\n",
    "         'loss':'sparse_categorical_crossentropy', 'optimizer':'adam', 'metrics':['accuracy']}\n",
    "\n",
    "save_path = '../Data/models/lstm/'\n",
    "os.makedirs(save_path, exist_ok=True)\n",
    "\n",
    "acc_model_json = acc_lstm.to_json()\n",
    "with open(save_path + 'all_acc_lstm.json', 'w') as json_file:\n",
    "    json_file.write(acc_model_json)\n",
    "acc_lstm.save_weights(save_path + 'all_acc_lstm_weights.h5')\n",
    "\n",
    "gyro_model_json = gyro_lstm.to_json()\n",
    "with open(save_path + 'all_gyro_lstm.json', 'w') as json_file:\n",
    "    json_file.write(gyro_model_json)\n",
    "gyro_lstm.save_weights(save_path + 'all_gyro_lstm_weights.h5')\n",
    "\n",
    "ori_model_json = ori_lstm.to_json()\n",
    "with open(save_path + 'all_ori_lstm.json', 'w') as json_file:\n",
    "    json_file.write(ori_model_json)\n",
    "ori_lstm.save_weights(save_path + 'all_ori_lstm_weights.h5')\n",
    "\n",
    "emg_model_json = emg_lstm.to_json()\n",
    "with open(save_path + 'all_emg_lstm.json', 'w') as json_file:\n",
    "    json_file.write(emg_model_json)\n",
    "emg_lstm.save_weights(save_path + 'all_emg_lstm_weights.h5')\n",
    "\n",
    "joblib.dump(config, save_path + 'all_config.p')\n",
    "joblib.dump(encoder, save_path + 'all_encoder.p')\n",
    "\n",
    "config = joblib.load(save_path + 'all_config.p')\n",
    "encoder = joblib.load(save_path + 'all_encoder.p')\n",
    "\n",
    "json_file = open(save_path + 'all_acc_lstm.json', 'r')\n",
    "acc_lstm_json = json_file.read()\n",
    "json_file.close()\n",
    "acc_lstm = model_from_json(acc_lstm_json)\n",
    "acc_lstm.load_weights(save_path + 'all_acc_lstm_weights.h5')\n",
    "acc_lstm.compile(loss=config['loss'], optimizer=config['optimizer'], metrics=config['metrics'])\n",
    "\n",
    "json_file = open(save_path + 'all_gyro_lstm.json', 'r')\n",
    "gyro_lstm_json = json_file.read()\n",
    "json_file.close()\n",
    "gyro_lstm = model_from_json(gyro_lstm_json)\n",
    "gyro_lstm.load_weights(save_path + 'all_gyro_lstm_weights.h5')\n",
    "gyro_lstm.compile(loss=config['loss'], optimizer=config['optimizer'], metrics=config['metrics'])\n",
    "\n",
    "json_file = open(save_path + 'all_ori_lstm.json', 'r')\n",
    "ori_lstm_json = json_file.read()\n",
    "json_file.close()\n",
    "ori_lstm = model_from_json(ori_lstm_json)\n",
    "ori_lstm.load_weights(save_path + 'all_ori_lstm_weights.h5')\n",
    "ori_lstm.compile(loss=config['loss'], optimizer=config['optimizer'], metrics=config['metrics'])\n",
    "\n",
    "json_file = open(save_path + 'all_emg_lstm.json', 'r')\n",
    "emg_lstm_json = json_file.read()\n",
    "json_file.close()\n",
    "emg_lstm = model_from_json(emg_lstm_json)\n",
    "emg_lstm.load_weights(save_path + 'all_emg_lstm_weights.h5')\n",
    "emg_lstm.compile(loss=config['loss'], optimizer=config['optimizer'], metrics=config['metrics'])"
   ]
  },
  {
   "cell_type": "code",
   "execution_count": 39,
   "metadata": {},
   "outputs": [
    {
     "name": "stdout",
     "output_type": "stream",
     "text": [
      "\n",
      "Duration: 2.0842297077178955\n"
     ]
    }
   ],
   "source": [
    "start_time = time.time()\n",
    "\n",
    "acc_pred_probs = acc_lstm.predict(acc_X_test)\n",
    "gyro_pred_probs = gyro_lstm.predict(gyro_X_test)\n",
    "ori_pred_probs = ori_lstm.predict(ori_X_test)\n",
    "emg_pred_probs = emg_lstm.predict(emg_X_test)\n",
    "\n",
    "result = []\n",
    "    \n",
    "for prediction in range(len(acc_pred_probs)):\n",
    "    acc_gyro = np.add(acc_pred_probs[prediction], gyro_pred_probs[prediction])\n",
    "    ori_emg = np.add(ori_pred_probs[prediction], emg_pred_probs[prediction])\n",
    "    final = np.divide(np.add(acc_gyro, ori_emg), 4)\n",
    "    result.append(encoder.classes_[np.argmax(final)])\n",
    "    \n",
    "print('\\nDuration: {}'.format(time.time() - start_time))"
   ]
  },
  {
   "cell_type": "code",
   "execution_count": 40,
   "metadata": {},
   "outputs": [
    {
     "name": "stdout",
     "output_type": "stream",
     "text": [
      "0.393822393822\n"
     ]
    }
   ],
   "source": [
    "print(accuracy_score(acc_test_label, result))"
   ]
  },
  {
   "cell_type": "code",
   "execution_count": 41,
   "metadata": {},
   "outputs": [
    {
     "name": "stdout",
     "output_type": "stream",
     "text": [
      "[[5 0 0 0 1 0 1 0 0 0 0 0 0 0 0 0 0 0 0 0 0 0 2 0]\n",
      " [0 5 0 4 0 0 0 0 0 0 0 0 0 0 0 0 0 0 0 0 0 0 0 0]\n",
      " [0 0 7 0 0 0 0 0 0 0 0 0 0 0 0 0 0 2 0 0 0 0 0 0]\n",
      " [0 1 0 6 0 0 0 0 0 0 0 0 0 0 0 1 0 0 0 0 0 0 1 0]\n",
      " [0 0 0 0 9 0 0 0 0 0 0 0 0 0 0 0 0 0 0 0 0 0 0 0]\n",
      " [0 0 0 0 0 3 0 0 1 1 0 0 0 0 0 0 0 0 1 0 0 0 0 3]\n",
      " [0 0 0 0 0 0 3 0 0 0 0 0 6 0 0 0 0 0 0 0 0 0 0 0]\n",
      " [0 0 0 0 0 0 0 0 0 0 3 0 0 4 0 0 1 0 0 1 0 0 0 0]\n",
      " [0 0 0 0 0 0 0 0 3 0 0 1 0 0 0 0 0 0 0 3 0 2 0 0]\n",
      " [0 0 0 0 0 0 2 0 0 6 1 0 1 0 0 0 0 0 0 0 0 0 0 0]\n",
      " [0 0 0 1 0 0 1 2 0 0 6 0 0 0 0 0 2 0 0 0 0 0 0 0]\n",
      " [0 0 0 0 0 1 0 0 1 0 0 9 0 0 0 0 0 0 0 0 0 1 0 0]\n",
      " [1 0 0 2 0 0 0 0 0 0 1 0 3 0 0 0 1 0 1 2 0 0 0 1]\n",
      " [0 0 0 0 0 1 0 0 0 0 0 0 0 3 1 0 1 0 2 0 3 0 0 1]\n",
      " [0 0 0 0 0 3 0 0 0 0 0 2 0 1 0 0 0 0 2 1 0 2 0 1]\n",
      " [0 1 0 0 0 0 2 0 0 2 0 0 1 0 0 2 0 0 0 0 0 0 3 1]\n",
      " [0 0 0 0 0 0 0 0 0 0 1 0 0 5 0 0 2 0 0 2 0 0 0 2]\n",
      " [1 1 3 0 0 0 0 0 0 0 0 0 0 0 0 0 0 7 0 0 0 0 0 0]\n",
      " [0 0 0 0 0 1 0 0 1 0 0 1 0 0 1 0 1 0 0 0 1 5 1 0]\n",
      " [0 1 0 0 0 0 1 1 0 0 0 0 1 0 0 0 0 0 2 5 1 0 0 0]\n",
      " [0 0 0 0 0 0 0 0 0 0 1 0 0 0 0 0 1 0 0 3 7 0 0 0]\n",
      " [0 0 0 0 0 0 0 0 4 0 0 1 0 0 0 0 0 0 0 0 0 7 0 0]\n",
      " [0 0 0 0 0 0 3 0 0 0 0 0 1 0 0 3 0 0 0 1 0 0 3 1]\n",
      " [0 0 0 0 0 0 0 1 0 0 2 0 0 1 0 0 4 0 0 3 0 0 0 1]]\n"
     ]
    },
    {
     "data": {
      "image/png": "[encoded data removed]",
      "text/plain": [
       "<matplotlib.figure.Figure at 0x22cf844da58>"
      ]
     },
     "metadata": {},
     "output_type": "display_data"
    }
   ],
   "source": [
    "cm = confusion_matrix(acc_test_label, result)\n",
    "labels = list(encoder.classes_)\n",
    "\n",
    "print(cm)\n",
    "\n",
    "print_confusion_matrix_colored(cm, labels, 20, 15)"
   ]
  },
  {
   "cell_type": "code",
   "execution_count": 42,
   "metadata": {},
   "outputs": [
    {
     "name": "stdout",
     "output_type": "stream",
     "text": [
      "             precision    recall  f1-score   support\n",
      "\n",
      "   big_stop       0.71      0.56      0.63         9\n",
      "  come_down       0.56      0.56      0.56         9\n",
      "  come_here       0.70      0.78      0.74         9\n",
      "    come_up       0.46      0.67      0.55         9\n",
      "       flip       0.90      1.00      0.95         9\n",
      "       hcch       0.33      0.33      0.33         9\n",
      "       hccs       0.23      0.33      0.27         9\n",
      "       hccv       0.00      0.00      0.00         9\n",
      "       hcwh       0.30      0.33      0.32         9\n",
      "       hcws       0.67      0.60      0.63        10\n",
      "       hcwv       0.40      0.50      0.44        12\n",
      "       lcch       0.64      0.75      0.69        12\n",
      "       lccs       0.23      0.25      0.24        12\n",
      "       lccv       0.21      0.25      0.23        12\n",
      "       lcwh       0.00      0.00      0.00        12\n",
      "       lcws       0.33      0.17      0.22        12\n",
      "       lcwv       0.15      0.17      0.16        12\n",
      " small_stop       0.78      0.58      0.67        12\n",
      "       tcch       0.00      0.00      0.00        12\n",
      "       tccs       0.24      0.42      0.30        12\n",
      "       tccv       0.58      0.58      0.58        12\n",
      "       tcwh       0.41      0.58      0.48        12\n",
      "       tcws       0.30      0.25      0.27        12\n",
      "       tcwv       0.09      0.08      0.09        12\n",
      "\n",
      "avg / total       0.37      0.39      0.38       259\n",
      "\n"
     ]
    }
   ],
   "source": [
    "clf_repo = classification_report(acc_test_label, result)\n",
    "\n",
    "print(clf_repo)\n",
    "\n",
    "parsed = parse_classification_report(clf_repo)\n",
    "output = report_to_latex_table(parsed)\n",
    "#print(output)"
   ]
  },
  {
   "cell_type": "code",
   "execution_count": null,
   "metadata": {
    "collapsed": true
   },
   "outputs": [],
   "source": []
  }
 ],
 "metadata": {
  "kernelspec": {
   "display_name": "Python 3",
   "language": "python",
   "name": "python3"
  },
  "language_info": {
   "codemirror_mode": {
    "name": "ipython",
    "version": 3
   },
   "file_extension": ".py",
   "mimetype": "text/x-python",
   "name": "python",
   "nbconvert_exporter": "python",
   "pygments_lexer": "ipython3",
   "version": "3.6.1"
  }
 },
 "nbformat": 4,
 "nbformat_minor": 2
}
