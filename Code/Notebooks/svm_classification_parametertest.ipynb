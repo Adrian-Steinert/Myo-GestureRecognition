{
 "cells": [
  {
   "cell_type": "markdown",
   "metadata": {},
   "source": [
    "# Klassifikation mit Support Vektor Maschinen"
   ]
  },
  {
   "cell_type": "code",
   "execution_count": 1,
   "metadata": {
    "collapsed": true
   },
   "outputs": [],
   "source": [
    "import os\n",
    "import sys\n",
    "import math\n",
    "import time\n",
    "import numpy as np\n",
    "\n",
    "from sklearn import svm\n",
    "from sklearn.model_selection import GridSearchCV, ShuffleSplit\n",
    "from sklearn.metrics import confusion_matrix, accuracy_score, classification_report"
   ]
  },
  {
   "cell_type": "code",
   "execution_count": 2,
   "metadata": {},
   "outputs": [
    {
     "name": "stderr",
     "output_type": "stream",
     "text": [
      "c:\\python36\\lib\\site-packages\\statsmodels\\compat\\pandas.py:56: FutureWarning: The pandas.core.datetools module is deprecated and will be removed in a future version. Please use the pandas.tseries module instead.\n",
      "  from pandas.core import datetools\n"
     ]
    }
   ],
   "source": [
    "module_path = os.path.abspath(os.path.join('..'))\n",
    "if module_path not in sys.path:\n",
    "    sys.path.append(module_path)\n",
    "from Utils.data_preparation_helper import load_data_for_classification, prepare_data"
   ]
  },
  {
   "cell_type": "code",
   "execution_count": 3,
   "metadata": {
    "collapsed": true
   },
   "outputs": [],
   "source": [
    "random_seed = 42"
   ]
  },
  {
   "cell_type": "code",
   "execution_count": 4,
   "metadata": {
    "collapsed": true
   },
   "outputs": [],
   "source": [
    "start_time = time.time()\n",
    "\n",
    "parameters = [{'C': [1, 10, 100, 1000], 'kernel': ['linear'], 'decision_function_shape': ['ovo', 'ovr']},\n",
    "              {'C': [1, 10, 100, 1000], 'kernel': ['rbf'], 'decision_function_shape': ['ovo', 'ovr']}]\n",
    "frame_numbers = list(range(1,13))\n",
    "\n",
    "cross_valid = ShuffleSplit(n_splits=1, test_size=0.2, random_state=random_seed)\n",
    "parallel_jobs = 1\n",
    "verbose_level = 3"
   ]
  },
  {
   "cell_type": "markdown",
   "metadata": {},
   "source": [
    "## Parametertest - own"
   ]
  },
  {
   "cell_type": "code",
   "execution_count": 5,
   "metadata": {
    "collapsed": true
   },
   "outputs": [],
   "source": [
    "train, valid, test = load_data_for_classification('own')\n",
    "\n",
    "# lists will be filled with (accuracy, frame_number, params)\n",
    "own_acc = []\n",
    "own_gyro = []\n",
    "own_ori = []\n",
    "own_emg = []"
   ]
  },
  {
   "cell_type": "markdown",
   "metadata": {},
   "source": [
    "### Accelerometer"
   ]
  },
  {
   "cell_type": "code",
   "execution_count": 6,
   "metadata": {
    "scrolled": true
   },
   "outputs": [
    {
     "name": "stdout",
     "output_type": "stream",
     "text": [
      "1\n",
      "Fitting 1 folds for each of 16 candidates, totalling 16 fits\n",
      "[CV] C=1, decision_function_shape=ovo, kernel=linear .................\n",
      "[CV]  C=1, decision_function_shape=ovo, kernel=linear, score=0.4230769230769231, total=   0.0s\n",
      "[CV] C=1, decision_function_shape=ovr, kernel=linear .................\n",
      "[CV]  C=1, decision_function_shape=ovr, kernel=linear, score=0.4230769230769231, total=   0.0s\n",
      "[CV] C=10, decision_function_shape=ovo, kernel=linear ................\n",
      "[CV]  C=10, decision_function_shape=ovo, kernel=linear, score=0.6538461538461539, total=   0.0s\n",
      "[CV] C=10, decision_function_shape=ovr, kernel=linear ................\n",
      "[CV]  C=10, decision_function_shape=ovr, kernel=linear, score=0.6538461538461539, total=   0.0s\n",
      "[CV] C=100, decision_function_shape=ovo, kernel=linear ...............\n",
      "[CV]  C=100, decision_function_shape=ovo, kernel=linear, score=0.7692307692307693, total=   0.0s\n",
      "[CV] C=100, decision_function_shape=ovr, kernel=linear ...............\n",
      "[CV]  C=100, decision_function_shape=ovr, kernel=linear, score=0.7692307692307693, total=   0.0s\n",
      "[CV] C=1000, decision_function_shape=ovo, kernel=linear ..............\n",
      "[CV]  C=1000, decision_function_shape=ovo, kernel=linear, score=0.7692307692307693, total=   0.0s\n",
      "[CV] C=1000, decision_function_shape=ovr, kernel=linear ..............\n",
      "[CV]  C=1000, decision_function_shape=ovr, kernel=linear, score=0.7692307692307693, total=   0.0s\n",
      "[CV] C=1, decision_function_shape=ovo, kernel=rbf ....................\n",
      "[CV]  C=1, decision_function_shape=ovo, kernel=rbf, score=0.40384615384615385, total=   0.0s\n",
      "[CV] C=1, decision_function_shape=ovr, kernel=rbf ....................\n",
      "[CV]  C=1, decision_function_shape=ovr, kernel=rbf, score=0.40384615384615385, total=   0.0s\n",
      "[CV] C=10, decision_function_shape=ovo, kernel=rbf ...................\n",
      "[CV]  C=10, decision_function_shape=ovo, kernel=rbf, score=0.5, total=   0.0s\n",
      "[CV] C=10, decision_function_shape=ovr, kernel=rbf ...................\n",
      "[CV]  C=10, decision_function_shape=ovr, kernel=rbf, score=0.5, total=   0.0s\n",
      "[CV] C=100, decision_function_shape=ovo, kernel=rbf ..................\n",
      "[CV]  C=100, decision_function_shape=ovo, kernel=rbf, score=0.6538461538461539, total=   0.0s\n",
      "[CV] C=100, decision_function_shape=ovr, kernel=rbf ..................\n",
      "[CV]  C=100, decision_function_shape=ovr, kernel=rbf, score=0.6538461538461539, total=   0.0s\n",
      "[CV] C=1000, decision_function_shape=ovo, kernel=rbf .................\n",
      "[CV]  C=1000, decision_function_shape=ovo, kernel=rbf, score=0.7884615384615384, total=   0.0s\n",
      "[CV] C=1000, decision_function_shape=ovr, kernel=rbf .................\n",
      "[CV]  C=1000, decision_function_shape=ovr, kernel=rbf, score=0.7884615384615384, total=   0.0s\n",
      "2\n"
     ]
    },
    {
     "name": "stderr",
     "output_type": "stream",
     "text": [
      "[Parallel(n_jobs=1)]: Done   1 out of   1 | elapsed:    0.0s remaining:    0.0s\n",
      "[Parallel(n_jobs=1)]: Done   2 out of   2 | elapsed:    0.0s remaining:    0.0s\n",
      "[Parallel(n_jobs=1)]: Done  16 out of  16 | elapsed:    0.0s finished\n"
     ]
    },
    {
     "name": "stdout",
     "output_type": "stream",
     "text": [
      "Fitting 1 folds for each of 16 candidates, totalling 16 fits\n",
      "[CV] C=1, decision_function_shape=ovo, kernel=linear .................\n",
      "[CV]  C=1, decision_function_shape=ovo, kernel=linear, score=0.5769230769230769, total=   0.0s\n",
      "[CV] C=1, decision_function_shape=ovr, kernel=linear .................\n",
      "[CV]  C=1, decision_function_shape=ovr, kernel=linear, score=0.5769230769230769, total=   0.0s\n",
      "[CV] C=10, decision_function_shape=ovo, kernel=linear ................\n",
      "[CV]  C=10, decision_function_shape=ovo, kernel=linear, score=0.7884615384615384, total=   0.0s\n",
      "[CV] C=10, decision_function_shape=ovr, kernel=linear ................\n",
      "[CV]  C=10, decision_function_shape=ovr, kernel=linear, score=0.7884615384615384, total=   0.0s\n",
      "[CV] C=100, decision_function_shape=ovo, kernel=linear ...............\n",
      "[CV]  C=100, decision_function_shape=ovo, kernel=linear, score=0.8653846153846154, total=   0.0s\n",
      "[CV] C=100, decision_function_shape=ovr, kernel=linear ...............\n",
      "[CV]  C=100, decision_function_shape=ovr, kernel=linear, score=0.8653846153846154, total=   0.0s\n",
      "[CV] C=1000, decision_function_shape=ovo, kernel=linear ..............\n",
      "[CV]  C=1000, decision_function_shape=ovo, kernel=linear, score=0.8461538461538461, total=   0.0s\n",
      "[CV] C=1000, decision_function_shape=ovr, kernel=linear ..............\n",
      "[CV]  C=1000, decision_function_shape=ovr, kernel=linear, score=0.8461538461538461, total=   0.0s\n",
      "[CV] C=1, decision_function_shape=ovo, kernel=rbf ....................\n",
      "[CV]  C=1, decision_function_shape=ovo, kernel=rbf, score=0.5384615384615384, total=   0.0s\n",
      "[CV] C=1, decision_function_shape=ovr, kernel=rbf ....................\n",
      "[CV]  C=1, decision_function_shape=ovr, kernel=rbf, score=0.5384615384615384, total=   0.0s\n",
      "[CV] C=10, decision_function_shape=ovo, kernel=rbf ...................\n",
      "[CV]  C=10, decision_function_shape=ovo, kernel=rbf, score=0.5769230769230769, total=   0.0s\n",
      "[CV] C=10, decision_function_shape=ovr, kernel=rbf ...................\n",
      "[CV]  C=10, decision_function_shape=ovr, kernel=rbf, score=0.5769230769230769, total=   0.0s\n",
      "[CV] C=100, decision_function_shape=ovo, kernel=rbf ..................\n",
      "[CV]  C=100, decision_function_shape=ovo, kernel=rbf, score=0.7884615384615384, total=   0.0s\n",
      "[CV] C=100, decision_function_shape=ovr, kernel=rbf ..................\n",
      "[CV]  C=100, decision_function_shape=ovr, kernel=rbf, score=0.7884615384615384, total=   0.0s\n",
      "[CV] C=1000, decision_function_shape=ovo, kernel=rbf .................\n",
      "[CV]  C=1000, decision_function_shape=ovo, kernel=rbf, score=0.9038461538461539, total=   0.0s\n",
      "[CV] C=1000, decision_function_shape=ovr, kernel=rbf .................\n",
      "[CV]  C=1000, decision_function_shape=ovr, kernel=rbf, score=0.9038461538461539, total=   0.0s\n",
      "3\n"
     ]
    },
    {
     "name": "stderr",
     "output_type": "stream",
     "text": [
      "[Parallel(n_jobs=1)]: Done   1 out of   1 | elapsed:    0.0s remaining:    0.0s\n",
      "[Parallel(n_jobs=1)]: Done   2 out of   2 | elapsed:    0.0s remaining:    0.0s\n",
      "[Parallel(n_jobs=1)]: Done  16 out of  16 | elapsed:    0.0s finished\n"
     ]
    },
    {
     "name": "stdout",
     "output_type": "stream",
     "text": [
      "Fitting 1 folds for each of 16 candidates, totalling 16 fits\n",
      "[CV] C=1, decision_function_shape=ovo, kernel=linear .................\n",
      "[CV]  C=1, decision_function_shape=ovo, kernel=linear, score=0.75, total=   0.0s\n",
      "[CV] C=1, decision_function_shape=ovr, kernel=linear .................\n",
      "[CV]  C=1, decision_function_shape=ovr, kernel=linear, score=0.75, total=   0.0s\n",
      "[CV] C=10, decision_function_shape=ovo, kernel=linear ................\n",
      "[CV]  C=10, decision_function_shape=ovo, kernel=linear, score=0.9615384615384616, total=   0.0s\n",
      "[CV] C=10, decision_function_shape=ovr, kernel=linear ................\n",
      "[CV]  C=10, decision_function_shape=ovr, kernel=linear, score=0.9615384615384616, total=   0.0s\n",
      "[CV] C=100, decision_function_shape=ovo, kernel=linear ...............\n",
      "[CV]  C=100, decision_function_shape=ovo, kernel=linear, score=0.9615384615384616, total=   0.0s\n",
      "[CV] C=100, decision_function_shape=ovr, kernel=linear ...............\n",
      "[CV]  C=100, decision_function_shape=ovr, kernel=linear, score=0.9615384615384616, total=   0.0s\n",
      "[CV] C=1000, decision_function_shape=ovo, kernel=linear ..............\n",
      "[CV]  C=1000, decision_function_shape=ovo, kernel=linear, score=0.9615384615384616, total=   0.0s\n",
      "[CV] C=1000, decision_function_shape=ovr, kernel=linear ..............\n",
      "[CV]  C=1000, decision_function_shape=ovr, kernel=linear, score=0.9615384615384616, total=   0.0s\n",
      "[CV] C=1, decision_function_shape=ovo, kernel=rbf ....................\n",
      "[CV]  C=1, decision_function_shape=ovo, kernel=rbf, score=0.4807692307692308, total=   0.0s\n",
      "[CV] C=1, decision_function_shape=ovr, kernel=rbf ....................\n",
      "[CV]  C=1, decision_function_shape=ovr, kernel=rbf, score=0.4807692307692308, total=   0.0s\n",
      "[CV] C=10, decision_function_shape=ovo, kernel=rbf ...................\n",
      "[CV]  C=10, decision_function_shape=ovo, kernel=rbf, score=0.6730769230769231, total=   0.0s\n",
      "[CV] C=10, decision_function_shape=ovr, kernel=rbf ...................\n",
      "[CV]  C=10, decision_function_shape=ovr, kernel=rbf, score=0.6730769230769231, total=   0.0s\n",
      "[CV] C=100, decision_function_shape=ovo, kernel=rbf ..................\n",
      "[CV]  C=100, decision_function_shape=ovo, kernel=rbf, score=0.9423076923076923, total=   0.0s\n",
      "[CV] C=100, decision_function_shape=ovr, kernel=rbf ..................\n",
      "[CV]  C=100, decision_function_shape=ovr, kernel=rbf, score=0.9423076923076923, total=   0.0s\n",
      "[CV] C=1000, decision_function_shape=ovo, kernel=rbf .................\n",
      "[CV]  C=1000, decision_function_shape=ovo, kernel=rbf, score=0.9807692307692307, total=   0.0s\n",
      "[CV] C=1000, decision_function_shape=ovr, kernel=rbf .................\n",
      "[CV]  C=1000, decision_function_shape=ovr, kernel=rbf, score=0.9807692307692307, total=   0.0s\n",
      "4\n"
     ]
    },
    {
     "name": "stderr",
     "output_type": "stream",
     "text": [
      "[Parallel(n_jobs=1)]: Done   1 out of   1 | elapsed:    0.0s remaining:    0.0s\n",
      "[Parallel(n_jobs=1)]: Done   2 out of   2 | elapsed:    0.0s remaining:    0.0s\n",
      "[Parallel(n_jobs=1)]: Done  16 out of  16 | elapsed:    0.0s finished\n"
     ]
    },
    {
     "name": "stdout",
     "output_type": "stream",
     "text": [
      "Fitting 1 folds for each of 16 candidates, totalling 16 fits\n",
      "[CV] C=1, decision_function_shape=ovo, kernel=linear .................\n",
      "[CV]  C=1, decision_function_shape=ovo, kernel=linear, score=0.8846153846153846, total=   0.0s\n",
      "[CV] C=1, decision_function_shape=ovr, kernel=linear .................\n",
      "[CV]  C=1, decision_function_shape=ovr, kernel=linear, score=0.8846153846153846, total=   0.0s\n",
      "[CV] C=10, decision_function_shape=ovo, kernel=linear ................\n",
      "[CV]  C=10, decision_function_shape=ovo, kernel=linear, score=0.9807692307692307, total=   0.0s\n",
      "[CV] C=10, decision_function_shape=ovr, kernel=linear ................\n",
      "[CV]  C=10, decision_function_shape=ovr, kernel=linear, score=0.9807692307692307, total=   0.0s\n",
      "[CV] C=100, decision_function_shape=ovo, kernel=linear ...............\n",
      "[CV]  C=100, decision_function_shape=ovo, kernel=linear, score=0.9423076923076923, total=   0.0s\n",
      "[CV] C=100, decision_function_shape=ovr, kernel=linear ...............\n",
      "[CV]  C=100, decision_function_shape=ovr, kernel=linear, score=0.9423076923076923, total=   0.0s\n",
      "[CV] C=1000, decision_function_shape=ovo, kernel=linear ..............\n",
      "[CV]  C=1000, decision_function_shape=ovo, kernel=linear, score=0.9423076923076923, total=   0.0s\n",
      "[CV] C=1000, decision_function_shape=ovr, kernel=linear ..............\n",
      "[CV]  C=1000, decision_function_shape=ovr, kernel=linear, score=0.9423076923076923, total=   0.0s\n",
      "[CV] C=1, decision_function_shape=ovo, kernel=rbf ....................\n",
      "[CV]  C=1, decision_function_shape=ovo, kernel=rbf, score=0.5384615384615384, total=   0.0s\n",
      "[CV] C=1, decision_function_shape=ovr, kernel=rbf ....................\n",
      "[CV]  C=1, decision_function_shape=ovr, kernel=rbf, score=0.5384615384615384, total=   0.0s\n",
      "[CV] C=10, decision_function_shape=ovo, kernel=rbf ...................\n",
      "[CV]  C=10, decision_function_shape=ovo, kernel=rbf, score=0.7307692307692307, total=   0.0s\n",
      "[CV] C=10, decision_function_shape=ovr, kernel=rbf ...................\n",
      "[CV]  C=10, decision_function_shape=ovr, kernel=rbf, score=0.7307692307692307, total=   0.0s\n",
      "[CV] C=100, decision_function_shape=ovo, kernel=rbf ..................\n",
      "[CV]  C=100, decision_function_shape=ovo, kernel=rbf, score=0.9423076923076923, total=   0.0s\n",
      "[CV] C=100, decision_function_shape=ovr, kernel=rbf ..................\n",
      "[CV]  C=100, decision_function_shape=ovr, kernel=rbf, score=0.9423076923076923, total=   0.0s\n",
      "[CV] C=1000, decision_function_shape=ovo, kernel=rbf .................\n",
      "[CV]  C=1000, decision_function_shape=ovo, kernel=rbf, score=0.9423076923076923, total=   0.0s\n",
      "[CV] C=1000, decision_function_shape=ovr, kernel=rbf .................\n",
      "[CV]  C=1000, decision_function_shape=ovr, kernel=rbf, score=0.9423076923076923, total=   0.0s\n",
      "5\n"
     ]
    },
    {
     "name": "stderr",
     "output_type": "stream",
     "text": [
      "[Parallel(n_jobs=1)]: Done   1 out of   1 | elapsed:    0.0s remaining:    0.0s\n",
      "[Parallel(n_jobs=1)]: Done   2 out of   2 | elapsed:    0.0s remaining:    0.0s\n",
      "[Parallel(n_jobs=1)]: Done  16 out of  16 | elapsed:    0.0s finished\n"
     ]
    },
    {
     "name": "stdout",
     "output_type": "stream",
     "text": [
      "Fitting 1 folds for each of 16 candidates, totalling 16 fits\n",
      "[CV] C=1, decision_function_shape=ovo, kernel=linear .................\n",
      "[CV]  C=1, decision_function_shape=ovo, kernel=linear, score=0.9615384615384616, total=   0.0s\n",
      "[CV] C=1, decision_function_shape=ovr, kernel=linear .................\n",
      "[CV]  C=1, decision_function_shape=ovr, kernel=linear, score=0.9615384615384616, total=   0.0s\n",
      "[CV] C=10, decision_function_shape=ovo, kernel=linear ................\n",
      "[CV]  C=10, decision_function_shape=ovo, kernel=linear, score=0.9807692307692307, total=   0.0s\n",
      "[CV] C=10, decision_function_shape=ovr, kernel=linear ................\n",
      "[CV]  C=10, decision_function_shape=ovr, kernel=linear, score=0.9807692307692307, total=   0.0s\n",
      "[CV] C=100, decision_function_shape=ovo, kernel=linear ...............\n",
      "[CV]  C=100, decision_function_shape=ovo, kernel=linear, score=0.9615384615384616, total=   0.0s\n",
      "[CV] C=100, decision_function_shape=ovr, kernel=linear ...............\n",
      "[CV]  C=100, decision_function_shape=ovr, kernel=linear, score=0.9615384615384616, total=   0.0s\n",
      "[CV] C=1000, decision_function_shape=ovo, kernel=linear ..............\n",
      "[CV]  C=1000, decision_function_shape=ovo, kernel=linear, score=0.9615384615384616, total=   0.0s\n",
      "[CV] C=1000, decision_function_shape=ovr, kernel=linear ..............\n",
      "[CV]  C=1000, decision_function_shape=ovr, kernel=linear, score=0.9615384615384616, total=   0.0s\n",
      "[CV] C=1, decision_function_shape=ovo, kernel=rbf ....................\n",
      "[CV]  C=1, decision_function_shape=ovo, kernel=rbf, score=0.7115384615384616, total=   0.0s\n",
      "[CV] C=1, decision_function_shape=ovr, kernel=rbf ....................\n",
      "[CV]  C=1, decision_function_shape=ovr, kernel=rbf, score=0.7115384615384616, total=   0.0s\n",
      "[CV] C=10, decision_function_shape=ovo, kernel=rbf ...................\n",
      "[CV]  C=10, decision_function_shape=ovo, kernel=rbf, score=0.8653846153846154, total=   0.0s\n",
      "[CV] C=10, decision_function_shape=ovr, kernel=rbf ...................\n",
      "[CV]  C=10, decision_function_shape=ovr, kernel=rbf, score=0.8653846153846154, total=   0.0s\n",
      "[CV] C=100, decision_function_shape=ovo, kernel=rbf ..................\n",
      "[CV]  C=100, decision_function_shape=ovo, kernel=rbf, score=0.9615384615384616, total=   0.0s\n",
      "[CV] C=100, decision_function_shape=ovr, kernel=rbf ..................\n",
      "[CV]  C=100, decision_function_shape=ovr, kernel=rbf, score=0.9615384615384616, total=   0.0s\n",
      "[CV] C=1000, decision_function_shape=ovo, kernel=rbf .................\n",
      "[CV]  C=1000, decision_function_shape=ovo, kernel=rbf, score=1.0, total=   0.0s\n",
      "[CV] C=1000, decision_function_shape=ovr, kernel=rbf .................\n",
      "[CV]  C=1000, decision_function_shape=ovr, kernel=rbf, score=1.0, total=   0.0s\n",
      "6\n"
     ]
    },
    {
     "name": "stderr",
     "output_type": "stream",
     "text": [
      "[Parallel(n_jobs=1)]: Done   1 out of   1 | elapsed:    0.0s remaining:    0.0s\n",
      "[Parallel(n_jobs=1)]: Done   2 out of   2 | elapsed:    0.0s remaining:    0.0s\n",
      "[Parallel(n_jobs=1)]: Done  16 out of  16 | elapsed:    0.0s finished\n"
     ]
    },
    {
     "name": "stdout",
     "output_type": "stream",
     "text": [
      "Fitting 1 folds for each of 16 candidates, totalling 16 fits\n",
      "[CV] C=1, decision_function_shape=ovo, kernel=linear .................\n",
      "[CV]  C=1, decision_function_shape=ovo, kernel=linear, score=0.9230769230769231, total=   0.0s\n",
      "[CV] C=1, decision_function_shape=ovr, kernel=linear .................\n",
      "[CV]  C=1, decision_function_shape=ovr, kernel=linear, score=0.9230769230769231, total=   0.0s\n",
      "[CV] C=10, decision_function_shape=ovo, kernel=linear ................\n",
      "[CV]  C=10, decision_function_shape=ovo, kernel=linear, score=0.9230769230769231, total=   0.0s\n",
      "[CV] C=10, decision_function_shape=ovr, kernel=linear ................\n",
      "[CV]  C=10, decision_function_shape=ovr, kernel=linear, score=0.9230769230769231, total=   0.0s\n",
      "[CV] C=100, decision_function_shape=ovo, kernel=linear ...............\n",
      "[CV]  C=100, decision_function_shape=ovo, kernel=linear, score=0.9423076923076923, total=   0.0s\n",
      "[CV] C=100, decision_function_shape=ovr, kernel=linear ...............\n",
      "[CV]  C=100, decision_function_shape=ovr, kernel=linear, score=0.9423076923076923, total=   0.0s\n",
      "[CV] C=1000, decision_function_shape=ovo, kernel=linear ..............\n",
      "[CV]  C=1000, decision_function_shape=ovo, kernel=linear, score=0.9423076923076923, total=   0.0s\n",
      "[CV] C=1000, decision_function_shape=ovr, kernel=linear ..............\n",
      "[CV]  C=1000, decision_function_shape=ovr, kernel=linear, score=0.9423076923076923, total=   0.0s\n",
      "[CV] C=1, decision_function_shape=ovo, kernel=rbf ....................\n",
      "[CV]  C=1, decision_function_shape=ovo, kernel=rbf, score=0.6538461538461539, total=   0.0s\n",
      "[CV] C=1, decision_function_shape=ovr, kernel=rbf ....................\n",
      "[CV]  C=1, decision_function_shape=ovr, kernel=rbf, score=0.6538461538461539, total=   0.0s\n",
      "[CV] C=10, decision_function_shape=ovo, kernel=rbf ...................\n",
      "[CV]  C=10, decision_function_shape=ovo, kernel=rbf, score=0.8653846153846154, total=   0.0s\n",
      "[CV] C=10, decision_function_shape=ovr, kernel=rbf ...................\n",
      "[CV]  C=10, decision_function_shape=ovr, kernel=rbf, score=0.8653846153846154, total=   0.0s\n",
      "[CV] C=100, decision_function_shape=ovo, kernel=rbf ..................\n",
      "[CV]  C=100, decision_function_shape=ovo, kernel=rbf, score=0.9230769230769231, total=   0.0s\n",
      "[CV] C=100, decision_function_shape=ovr, kernel=rbf ..................\n",
      "[CV]  C=100, decision_function_shape=ovr, kernel=rbf, score=0.9230769230769231, total=   0.0s\n",
      "[CV] C=1000, decision_function_shape=ovo, kernel=rbf .................\n",
      "[CV]  C=1000, decision_function_shape=ovo, kernel=rbf, score=0.9423076923076923, total=   0.0s\n",
      "[CV] C=1000, decision_function_shape=ovr, kernel=rbf .................\n",
      "[CV]  C=1000, decision_function_shape=ovr, kernel=rbf, score=0.9423076923076923, total=   0.0s\n",
      "7\n"
     ]
    },
    {
     "name": "stderr",
     "output_type": "stream",
     "text": [
      "[Parallel(n_jobs=1)]: Done   1 out of   1 | elapsed:    0.0s remaining:    0.0s\n",
      "[Parallel(n_jobs=1)]: Done   2 out of   2 | elapsed:    0.0s remaining:    0.0s\n",
      "[Parallel(n_jobs=1)]: Done  16 out of  16 | elapsed:    0.0s finished\n"
     ]
    },
    {
     "name": "stdout",
     "output_type": "stream",
     "text": [
      "Fitting 1 folds for each of 16 candidates, totalling 16 fits\n",
      "[CV] C=1, decision_function_shape=ovo, kernel=linear .................\n",
      "[CV]  C=1, decision_function_shape=ovo, kernel=linear, score=0.8846153846153846, total=   0.0s\n",
      "[CV] C=1, decision_function_shape=ovr, kernel=linear .................\n",
      "[CV]  C=1, decision_function_shape=ovr, kernel=linear, score=0.8846153846153846, total=   0.0s\n",
      "[CV] C=10, decision_function_shape=ovo, kernel=linear ................\n",
      "[CV]  C=10, decision_function_shape=ovo, kernel=linear, score=0.8461538461538461, total=   0.0s\n",
      "[CV] C=10, decision_function_shape=ovr, kernel=linear ................\n",
      "[CV]  C=10, decision_function_shape=ovr, kernel=linear, score=0.8461538461538461, total=   0.0s\n",
      "[CV] C=100, decision_function_shape=ovo, kernel=linear ...............\n",
      "[CV]  C=100, decision_function_shape=ovo, kernel=linear, score=0.9038461538461539, total=   0.0s\n",
      "[CV] C=100, decision_function_shape=ovr, kernel=linear ...............\n",
      "[CV]  C=100, decision_function_shape=ovr, kernel=linear, score=0.9038461538461539, total=   0.0s\n",
      "[CV] C=1000, decision_function_shape=ovo, kernel=linear ..............\n",
      "[CV]  C=1000, decision_function_shape=ovo, kernel=linear, score=0.9230769230769231, total=   0.0s\n",
      "[CV] C=1000, decision_function_shape=ovr, kernel=linear ..............\n",
      "[CV]  C=1000, decision_function_shape=ovr, kernel=linear, score=0.9230769230769231, total=   0.0s\n",
      "[CV] C=1, decision_function_shape=ovo, kernel=rbf ....................\n",
      "[CV]  C=1, decision_function_shape=ovo, kernel=rbf, score=0.5961538461538461, total=   0.0s\n",
      "[CV] C=1, decision_function_shape=ovr, kernel=rbf ....................\n",
      "[CV]  C=1, decision_function_shape=ovr, kernel=rbf, score=0.5961538461538461, total=   0.0s\n",
      "[CV] C=10, decision_function_shape=ovo, kernel=rbf ...................\n",
      "[CV]  C=10, decision_function_shape=ovo, kernel=rbf, score=0.8846153846153846, total=   0.0s\n",
      "[CV] C=10, decision_function_shape=ovr, kernel=rbf ...................\n",
      "[CV]  C=10, decision_function_shape=ovr, kernel=rbf, score=0.8846153846153846, total=   0.0s\n",
      "[CV] C=100, decision_function_shape=ovo, kernel=rbf ..................\n",
      "[CV]  C=100, decision_function_shape=ovo, kernel=rbf, score=0.9038461538461539, total=   0.0s\n",
      "[CV] C=100, decision_function_shape=ovr, kernel=rbf ..................\n",
      "[CV]  C=100, decision_function_shape=ovr, kernel=rbf, score=0.9038461538461539, total=   0.0s\n",
      "[CV] C=1000, decision_function_shape=ovo, kernel=rbf .................\n",
      "[CV]  C=1000, decision_function_shape=ovo, kernel=rbf, score=0.8846153846153846, total=   0.0s\n",
      "[CV] C=1000, decision_function_shape=ovr, kernel=rbf .................\n",
      "[CV]  C=1000, decision_function_shape=ovr, kernel=rbf, score=0.8846153846153846, total=   0.0s\n",
      "8\n"
     ]
    },
    {
     "name": "stderr",
     "output_type": "stream",
     "text": [
      "[Parallel(n_jobs=1)]: Done   1 out of   1 | elapsed:    0.0s remaining:    0.0s\n",
      "[Parallel(n_jobs=1)]: Done   2 out of   2 | elapsed:    0.0s remaining:    0.0s\n",
      "[Parallel(n_jobs=1)]: Done  16 out of  16 | elapsed:    0.0s finished\n"
     ]
    },
    {
     "name": "stdout",
     "output_type": "stream",
     "text": [
      "Fitting 1 folds for each of 16 candidates, totalling 16 fits\n",
      "[CV] C=1, decision_function_shape=ovo, kernel=linear .................\n",
      "[CV]  C=1, decision_function_shape=ovo, kernel=linear, score=0.8269230769230769, total=   0.0s\n",
      "[CV] C=1, decision_function_shape=ovr, kernel=linear .................\n",
      "[CV]  C=1, decision_function_shape=ovr, kernel=linear, score=0.8269230769230769, total=   0.0s\n",
      "[CV] C=10, decision_function_shape=ovo, kernel=linear ................\n",
      "[CV]  C=10, decision_function_shape=ovo, kernel=linear, score=0.8653846153846154, total=   0.0s\n",
      "[CV] C=10, decision_function_shape=ovr, kernel=linear ................\n",
      "[CV]  C=10, decision_function_shape=ovr, kernel=linear, score=0.8653846153846154, total=   0.0s\n",
      "[CV] C=100, decision_function_shape=ovo, kernel=linear ...............\n",
      "[CV]  C=100, decision_function_shape=ovo, kernel=linear, score=0.9038461538461539, total=   0.0s\n",
      "[CV] C=100, decision_function_shape=ovr, kernel=linear ...............\n",
      "[CV]  C=100, decision_function_shape=ovr, kernel=linear, score=0.9038461538461539, total=   0.0s\n",
      "[CV] C=1000, decision_function_shape=ovo, kernel=linear ..............\n",
      "[CV]  C=1000, decision_function_shape=ovo, kernel=linear, score=0.8846153846153846, total=   0.0s\n",
      "[CV] C=1000, decision_function_shape=ovr, kernel=linear ..............\n",
      "[CV]  C=1000, decision_function_shape=ovr, kernel=linear, score=0.8846153846153846, total=   0.0s\n",
      "[CV] C=1, decision_function_shape=ovo, kernel=rbf ....................\n",
      "[CV]  C=1, decision_function_shape=ovo, kernel=rbf, score=0.34615384615384615, total=   0.0s\n",
      "[CV] C=1, decision_function_shape=ovr, kernel=rbf ....................\n",
      "[CV]  C=1, decision_function_shape=ovr, kernel=rbf, score=0.34615384615384615, total=   0.0s\n",
      "[CV] C=10, decision_function_shape=ovo, kernel=rbf ...................\n",
      "[CV]  C=10, decision_function_shape=ovo, kernel=rbf, score=0.7307692307692307, total=   0.0s\n",
      "[CV] C=10, decision_function_shape=ovr, kernel=rbf ...................\n",
      "[CV]  C=10, decision_function_shape=ovr, kernel=rbf, score=0.7307692307692307, total=   0.0s\n",
      "[CV] C=100, decision_function_shape=ovo, kernel=rbf ..................\n",
      "[CV]  C=100, decision_function_shape=ovo, kernel=rbf, score=0.8269230769230769, total=   0.0s\n",
      "[CV] C=100, decision_function_shape=ovr, kernel=rbf ..................\n",
      "[CV]  C=100, decision_function_shape=ovr, kernel=rbf, score=0.8269230769230769, total=   0.0s\n",
      "[CV] C=1000, decision_function_shape=ovo, kernel=rbf .................\n",
      "[CV]  C=1000, decision_function_shape=ovo, kernel=rbf, score=0.8653846153846154, total=   0.0s\n",
      "[CV] C=1000, decision_function_shape=ovr, kernel=rbf .................\n",
      "[CV]  C=1000, decision_function_shape=ovr, kernel=rbf, score=0.8653846153846154, total=   0.0s\n",
      "9\n"
     ]
    },
    {
     "name": "stderr",
     "output_type": "stream",
     "text": [
      "[Parallel(n_jobs=1)]: Done   1 out of   1 | elapsed:    0.0s remaining:    0.0s\n",
      "[Parallel(n_jobs=1)]: Done   2 out of   2 | elapsed:    0.0s remaining:    0.0s\n",
      "[Parallel(n_jobs=1)]: Done  16 out of  16 | elapsed:    0.1s finished\n"
     ]
    },
    {
     "name": "stdout",
     "output_type": "stream",
     "text": [
      "Fitting 1 folds for each of 16 candidates, totalling 16 fits\n",
      "[CV] C=1, decision_function_shape=ovo, kernel=linear .................\n",
      "[CV]  C=1, decision_function_shape=ovo, kernel=linear, score=0.8076923076923077, total=   0.0s\n",
      "[CV] C=1, decision_function_shape=ovr, kernel=linear .................\n",
      "[CV]  C=1, decision_function_shape=ovr, kernel=linear, score=0.8076923076923077, total=   0.0s\n",
      "[CV] C=10, decision_function_shape=ovo, kernel=linear ................\n",
      "[CV]  C=10, decision_function_shape=ovo, kernel=linear, score=0.8076923076923077, total=   0.0s\n",
      "[CV] C=10, decision_function_shape=ovr, kernel=linear ................\n",
      "[CV]  C=10, decision_function_shape=ovr, kernel=linear, score=0.8076923076923077, total=   0.0s\n",
      "[CV] C=100, decision_function_shape=ovo, kernel=linear ...............\n",
      "[CV]  C=100, decision_function_shape=ovo, kernel=linear, score=0.8076923076923077, total=   0.0s\n",
      "[CV] C=100, decision_function_shape=ovr, kernel=linear ...............\n",
      "[CV]  C=100, decision_function_shape=ovr, kernel=linear, score=0.8076923076923077, total=   0.0s\n",
      "[CV] C=1000, decision_function_shape=ovo, kernel=linear ..............\n",
      "[CV]  C=1000, decision_function_shape=ovo, kernel=linear, score=0.8076923076923077, total=   0.0s\n",
      "[CV] C=1000, decision_function_shape=ovr, kernel=linear ..............\n",
      "[CV]  C=1000, decision_function_shape=ovr, kernel=linear, score=0.8076923076923077, total=   0.0s\n",
      "[CV] C=1, decision_function_shape=ovo, kernel=rbf ....................\n",
      "[CV]  C=1, decision_function_shape=ovo, kernel=rbf, score=0.34615384615384615, total=   0.0s\n",
      "[CV] C=1, decision_function_shape=ovr, kernel=rbf ....................\n",
      "[CV]  C=1, decision_function_shape=ovr, kernel=rbf, score=0.34615384615384615, total=   0.0s\n",
      "[CV] C=10, decision_function_shape=ovo, kernel=rbf ...................\n",
      "[CV]  C=10, decision_function_shape=ovo, kernel=rbf, score=0.6538461538461539, total=   0.0s\n",
      "[CV] C=10, decision_function_shape=ovr, kernel=rbf ...................\n",
      "[CV]  C=10, decision_function_shape=ovr, kernel=rbf, score=0.6538461538461539, total=   0.0s\n",
      "[CV] C=100, decision_function_shape=ovo, kernel=rbf ..................\n",
      "[CV]  C=100, decision_function_shape=ovo, kernel=rbf, score=0.8076923076923077, total=   0.0s\n",
      "[CV] C=100, decision_function_shape=ovr, kernel=rbf ..................\n",
      "[CV]  C=100, decision_function_shape=ovr, kernel=rbf, score=0.8076923076923077, total=   0.0s\n",
      "[CV] C=1000, decision_function_shape=ovo, kernel=rbf .................\n",
      "[CV]  C=1000, decision_function_shape=ovo, kernel=rbf, score=0.8269230769230769, total=   0.0s\n",
      "[CV] C=1000, decision_function_shape=ovr, kernel=rbf .................\n",
      "[CV]  C=1000, decision_function_shape=ovr, kernel=rbf, score=0.8269230769230769, total=   0.0s\n",
      "10\n"
     ]
    },
    {
     "name": "stderr",
     "output_type": "stream",
     "text": [
      "[Parallel(n_jobs=1)]: Done   1 out of   1 | elapsed:    0.0s remaining:    0.0s\n",
      "[Parallel(n_jobs=1)]: Done   2 out of   2 | elapsed:    0.0s remaining:    0.0s\n",
      "[Parallel(n_jobs=1)]: Done  16 out of  16 | elapsed:    0.1s finished\n"
     ]
    },
    {
     "name": "stdout",
     "output_type": "stream",
     "text": [
      "Fitting 1 folds for each of 16 candidates, totalling 16 fits\n",
      "[CV] C=1, decision_function_shape=ovo, kernel=linear .................\n",
      "[CV]  C=1, decision_function_shape=ovo, kernel=linear, score=0.7884615384615384, total=   0.0s\n",
      "[CV] C=1, decision_function_shape=ovr, kernel=linear .................\n",
      "[CV]  C=1, decision_function_shape=ovr, kernel=linear, score=0.7884615384615384, total=   0.0s\n",
      "[CV] C=10, decision_function_shape=ovo, kernel=linear ................\n",
      "[CV]  C=10, decision_function_shape=ovo, kernel=linear, score=0.8846153846153846, total=   0.0s\n",
      "[CV] C=10, decision_function_shape=ovr, kernel=linear ................\n",
      "[CV]  C=10, decision_function_shape=ovr, kernel=linear, score=0.8846153846153846, total=   0.0s\n",
      "[CV] C=100, decision_function_shape=ovo, kernel=linear ...............\n",
      "[CV]  C=100, decision_function_shape=ovo, kernel=linear, score=0.8846153846153846, total=   0.0s\n",
      "[CV] C=100, decision_function_shape=ovr, kernel=linear ...............\n",
      "[CV]  C=100, decision_function_shape=ovr, kernel=linear, score=0.8846153846153846, total=   0.0s\n",
      "[CV] C=1000, decision_function_shape=ovo, kernel=linear ..............\n",
      "[CV]  C=1000, decision_function_shape=ovo, kernel=linear, score=0.8461538461538461, total=   0.0s\n",
      "[CV] C=1000, decision_function_shape=ovr, kernel=linear ..............\n",
      "[CV]  C=1000, decision_function_shape=ovr, kernel=linear, score=0.8461538461538461, total=   0.0s\n",
      "[CV] C=1, decision_function_shape=ovo, kernel=rbf ....................\n",
      "[CV]  C=1, decision_function_shape=ovo, kernel=rbf, score=0.23076923076923078, total=   0.0s\n",
      "[CV] C=1, decision_function_shape=ovr, kernel=rbf ....................\n",
      "[CV]  C=1, decision_function_shape=ovr, kernel=rbf, score=0.23076923076923078, total=   0.0s\n",
      "[CV] C=10, decision_function_shape=ovo, kernel=rbf ...................\n",
      "[CV]  C=10, decision_function_shape=ovo, kernel=rbf, score=0.6346153846153846, total=   0.0s\n",
      "[CV] C=10, decision_function_shape=ovr, kernel=rbf ...................\n",
      "[CV]  C=10, decision_function_shape=ovr, kernel=rbf, score=0.6346153846153846, total=   0.0s\n",
      "[CV] C=100, decision_function_shape=ovo, kernel=rbf ..................\n",
      "[CV]  C=100, decision_function_shape=ovo, kernel=rbf, score=0.8076923076923077, total=   0.0s\n",
      "[CV] C=100, decision_function_shape=ovr, kernel=rbf ..................\n",
      "[CV]  C=100, decision_function_shape=ovr, kernel=rbf, score=0.8076923076923077, total=   0.0s\n",
      "[CV] C=1000, decision_function_shape=ovo, kernel=rbf .................\n",
      "[CV]  C=1000, decision_function_shape=ovo, kernel=rbf, score=0.8653846153846154, total=   0.0s\n",
      "[CV] C=1000, decision_function_shape=ovr, kernel=rbf .................\n"
     ]
    },
    {
     "name": "stderr",
     "output_type": "stream",
     "text": [
      "[Parallel(n_jobs=1)]: Done   1 out of   1 | elapsed:    0.0s remaining:    0.0s\n",
      "[Parallel(n_jobs=1)]: Done   2 out of   2 | elapsed:    0.0s remaining:    0.0s\n",
      "[Parallel(n_jobs=1)]: Done  16 out of  16 | elapsed:    0.1s finished\n"
     ]
    },
    {
     "name": "stdout",
     "output_type": "stream",
     "text": [
      "[CV]  C=1000, decision_function_shape=ovr, kernel=rbf, score=0.8653846153846154, total=   0.0s\n",
      "11\n",
      "Fitting 1 folds for each of 16 candidates, totalling 16 fits\n",
      "[CV] C=1, decision_function_shape=ovo, kernel=linear .................\n",
      "[CV]  C=1, decision_function_shape=ovo, kernel=linear, score=0.75, total=   0.0s\n",
      "[CV] C=1, decision_function_shape=ovr, kernel=linear .................\n",
      "[CV]  C=1, decision_function_shape=ovr, kernel=linear, score=0.75, total=   0.0s\n",
      "[CV] C=10, decision_function_shape=ovo, kernel=linear ................\n",
      "[CV]  C=10, decision_function_shape=ovo, kernel=linear, score=0.9038461538461539, total=   0.0s\n",
      "[CV] C=10, decision_function_shape=ovr, kernel=linear ................\n",
      "[CV]  C=10, decision_function_shape=ovr, kernel=linear, score=0.9038461538461539, total=   0.0s\n",
      "[CV] C=100, decision_function_shape=ovo, kernel=linear ...............\n",
      "[CV]  C=100, decision_function_shape=ovo, kernel=linear, score=0.9230769230769231, total=   0.0s\n",
      "[CV] C=100, decision_function_shape=ovr, kernel=linear ...............\n",
      "[CV]  C=100, decision_function_shape=ovr, kernel=linear, score=0.9230769230769231, total=   0.0s\n",
      "[CV] C=1000, decision_function_shape=ovo, kernel=linear ..............\n",
      "[CV]  C=1000, decision_function_shape=ovo, kernel=linear, score=0.9230769230769231, total=   0.0s\n",
      "[CV] C=1000, decision_function_shape=ovr, kernel=linear ..............\n",
      "[CV]  C=1000, decision_function_shape=ovr, kernel=linear, score=0.9230769230769231, total=   0.0s\n",
      "[CV] C=1, decision_function_shape=ovo, kernel=rbf ....................\n",
      "[CV]  C=1, decision_function_shape=ovo, kernel=rbf, score=0.11538461538461539, total=   0.0s\n",
      "[CV] C=1, decision_function_shape=ovr, kernel=rbf ....................\n",
      "[CV]  C=1, decision_function_shape=ovr, kernel=rbf, score=0.11538461538461539, total=   0.0s\n",
      "[CV] C=10, decision_function_shape=ovo, kernel=rbf ...................\n",
      "[CV]  C=10, decision_function_shape=ovo, kernel=rbf, score=0.6153846153846154, total=   0.0s\n",
      "[CV] C=10, decision_function_shape=ovr, kernel=rbf ...................\n",
      "[CV]  C=10, decision_function_shape=ovr, kernel=rbf, score=0.6153846153846154, total=   0.0s\n",
      "[CV] C=100, decision_function_shape=ovo, kernel=rbf ..................\n"
     ]
    },
    {
     "name": "stderr",
     "output_type": "stream",
     "text": [
      "[Parallel(n_jobs=1)]: Done   1 out of   1 | elapsed:    0.0s remaining:    0.0s\n",
      "[Parallel(n_jobs=1)]: Done   2 out of   2 | elapsed:    0.0s remaining:    0.0s\n"
     ]
    },
    {
     "name": "stdout",
     "output_type": "stream",
     "text": [
      "[CV]  C=100, decision_function_shape=ovo, kernel=rbf, score=0.8076923076923077, total=   0.0s\n",
      "[CV] C=100, decision_function_shape=ovr, kernel=rbf ..................\n",
      "[CV]  C=100, decision_function_shape=ovr, kernel=rbf, score=0.8076923076923077, total=   0.0s\n",
      "[CV] C=1000, decision_function_shape=ovo, kernel=rbf .................\n",
      "[CV]  C=1000, decision_function_shape=ovo, kernel=rbf, score=0.9423076923076923, total=   0.0s\n",
      "[CV] C=1000, decision_function_shape=ovr, kernel=rbf .................\n",
      "[CV]  C=1000, decision_function_shape=ovr, kernel=rbf, score=0.9423076923076923, total=   0.0s\n",
      "12\n"
     ]
    },
    {
     "name": "stderr",
     "output_type": "stream",
     "text": [
      "[Parallel(n_jobs=1)]: Done  16 out of  16 | elapsed:    0.1s finished\n"
     ]
    },
    {
     "name": "stdout",
     "output_type": "stream",
     "text": [
      "Fitting 1 folds for each of 16 candidates, totalling 16 fits\n",
      "[CV] C=1, decision_function_shape=ovo, kernel=linear .................\n",
      "[CV]  C=1, decision_function_shape=ovo, kernel=linear, score=0.7307692307692307, total=   0.0s\n",
      "[CV] C=1, decision_function_shape=ovr, kernel=linear .................\n",
      "[CV]  C=1, decision_function_shape=ovr, kernel=linear, score=0.7307692307692307, total=   0.0s\n",
      "[CV] C=10, decision_function_shape=ovo, kernel=linear ................\n",
      "[CV]  C=10, decision_function_shape=ovo, kernel=linear, score=0.8076923076923077, total=   0.0s\n",
      "[CV] C=10, decision_function_shape=ovr, kernel=linear ................\n",
      "[CV]  C=10, decision_function_shape=ovr, kernel=linear, score=0.8076923076923077, total=   0.0s\n",
      "[CV] C=100, decision_function_shape=ovo, kernel=linear ...............\n",
      "[CV]  C=100, decision_function_shape=ovo, kernel=linear, score=0.7884615384615384, total=   0.0s\n",
      "[CV] C=100, decision_function_shape=ovr, kernel=linear ...............\n",
      "[CV]  C=100, decision_function_shape=ovr, kernel=linear, score=0.7884615384615384, total=   0.0s\n",
      "[CV] C=1000, decision_function_shape=ovo, kernel=linear ..............\n",
      "[CV]  C=1000, decision_function_shape=ovo, kernel=linear, score=0.7692307692307693, total=   0.0s\n",
      "[CV] C=1000, decision_function_shape=ovr, kernel=linear ..............\n",
      "[CV]  C=1000, decision_function_shape=ovr, kernel=linear, score=0.7692307692307693, total=   0.0s\n",
      "[CV] C=1, decision_function_shape=ovo, kernel=rbf ....................\n",
      "[CV]  C=1, decision_function_shape=ovo, kernel=rbf, score=0.1346153846153846, total=   0.0s\n",
      "[CV] C=1, decision_function_shape=ovr, kernel=rbf ....................\n",
      "[CV]  C=1, decision_function_shape=ovr, kernel=rbf, score=0.1346153846153846, total=   0.0s\n",
      "[CV] C=10, decision_function_shape=ovo, kernel=rbf ...................\n",
      "[CV]  C=10, decision_function_shape=ovo, kernel=rbf, score=0.5192307692307693, total=   0.0s\n",
      "[CV] C=10, decision_function_shape=ovr, kernel=rbf ...................\n"
     ]
    },
    {
     "name": "stderr",
     "output_type": "stream",
     "text": [
      "[Parallel(n_jobs=1)]: Done   1 out of   1 | elapsed:    0.0s remaining:    0.0s\n",
      "[Parallel(n_jobs=1)]: Done   2 out of   2 | elapsed:    0.0s remaining:    0.0s\n"
     ]
    },
    {
     "name": "stdout",
     "output_type": "stream",
     "text": [
      "[CV]  C=10, decision_function_shape=ovr, kernel=rbf, score=0.5192307692307693, total=   0.0s\n",
      "[CV] C=100, decision_function_shape=ovo, kernel=rbf ..................\n",
      "[CV]  C=100, decision_function_shape=ovo, kernel=rbf, score=0.7307692307692307, total=   0.0s\n",
      "[CV] C=100, decision_function_shape=ovr, kernel=rbf ..................\n",
      "[CV]  C=100, decision_function_shape=ovr, kernel=rbf, score=0.7307692307692307, total=   0.0s\n",
      "[CV] C=1000, decision_function_shape=ovo, kernel=rbf .................\n",
      "[CV]  C=1000, decision_function_shape=ovo, kernel=rbf, score=0.8269230769230769, total=   0.0s\n",
      "[CV] C=1000, decision_function_shape=ovr, kernel=rbf .................\n",
      "[CV]  C=1000, decision_function_shape=ovr, kernel=rbf, score=0.8269230769230769, total=   0.0s\n"
     ]
    },
    {
     "name": "stderr",
     "output_type": "stream",
     "text": [
      "[Parallel(n_jobs=1)]: Done  16 out of  16 | elapsed:    0.2s finished\n"
     ]
    }
   ],
   "source": [
    "for nr in frame_numbers:\n",
    "    print(nr)\n",
    "    try:\n",
    "        acc_train_input, acc_train_label = prepare_data(train, nr, 'accelerometer', verbose=False)\n",
    "        acc_valid_input, acc_valid_label = prepare_data(valid, nr, 'accelerometer', verbose=False)\n",
    "    \n",
    "        svc = GridSearchCV(svm.SVC(random_state=random_seed), parameters, cv=cross_valid, scoring='accuracy',\n",
    "                           verbose=verbose_level, n_jobs=parallel_jobs).fit(\n",
    "                                                                        np.append(acc_train_input, acc_valid_input, axis=0),\n",
    "                                                                        np.append(acc_train_label, acc_valid_label))\n",
    "    \n",
    "        own_acc.append((svc.best_score_, nr, svc.best_params_))\n",
    "    \n",
    "    except ValueError as err:\n",
    "        own_acc.append((-1, nr, svc.best_params_))"
   ]
  },
  {
   "cell_type": "markdown",
   "metadata": {},
   "source": [
    "### Gyroskop"
   ]
  },
  {
   "cell_type": "code",
   "execution_count": 7,
   "metadata": {},
   "outputs": [
    {
     "name": "stdout",
     "output_type": "stream",
     "text": [
      "1\n",
      "Fitting 1 folds for each of 16 candidates, totalling 16 fits\n",
      "[CV] C=1, decision_function_shape=ovo, kernel=linear .................\n",
      "[CV]  C=1, decision_function_shape=ovo, kernel=linear, score=0.5384615384615384, total=   0.0s\n",
      "[CV] C=1, decision_function_shape=ovr, kernel=linear .................\n",
      "[CV]  C=1, decision_function_shape=ovr, kernel=linear, score=0.5384615384615384, total=   0.0s\n",
      "[CV] C=10, decision_function_shape=ovo, kernel=linear ................\n",
      "[CV]  C=10, decision_function_shape=ovo, kernel=linear, score=0.5769230769230769, total=   0.0s\n",
      "[CV] C=10, decision_function_shape=ovr, kernel=linear ................\n",
      "[CV]  C=10, decision_function_shape=ovr, kernel=linear, score=0.5769230769230769, total=   0.0s\n",
      "[CV] C=100, decision_function_shape=ovo, kernel=linear ...............\n",
      "[CV]  C=100, decision_function_shape=ovo, kernel=linear, score=0.5961538461538461, total=   0.0s\n",
      "[CV] C=100, decision_function_shape=ovr, kernel=linear ...............\n",
      "[CV]  C=100, decision_function_shape=ovr, kernel=linear, score=0.5961538461538461, total=   0.0s\n",
      "[CV] C=1000, decision_function_shape=ovo, kernel=linear ..............\n",
      "[CV]  C=1000, decision_function_shape=ovo, kernel=linear, score=0.5961538461538461, total=   0.0s\n",
      "[CV] C=1000, decision_function_shape=ovr, kernel=linear ..............\n",
      "[CV]  C=1000, decision_function_shape=ovr, kernel=linear, score=0.5961538461538461, total=   0.0s\n",
      "[CV] C=1, decision_function_shape=ovo, kernel=rbf ....................\n",
      "[CV]  C=1, decision_function_shape=ovo, kernel=rbf, score=0.4230769230769231, total=   0.0s\n",
      "[CV] C=1, decision_function_shape=ovr, kernel=rbf ....................\n",
      "[CV]  C=1, decision_function_shape=ovr, kernel=rbf, score=0.4230769230769231, total=   0.0s\n",
      "[CV] C=10, decision_function_shape=ovo, kernel=rbf ...................\n",
      "[CV]  C=10, decision_function_shape=ovo, kernel=rbf, score=0.5384615384615384, total=   0.0s\n",
      "[CV] C=10, decision_function_shape=ovr, kernel=rbf ...................\n",
      "[CV]  C=10, decision_function_shape=ovr, kernel=rbf, score=0.5384615384615384, total=   0.0s\n",
      "[CV] C=100, decision_function_shape=ovo, kernel=rbf ..................\n",
      "[CV]  C=100, decision_function_shape=ovo, kernel=rbf, score=0.5961538461538461, total=   0.0s\n",
      "[CV] C=100, decision_function_shape=ovr, kernel=rbf ..................\n",
      "[CV]  C=100, decision_function_shape=ovr, kernel=rbf, score=0.5961538461538461, total=   0.0s\n",
      "[CV] C=1000, decision_function_shape=ovo, kernel=rbf .................\n",
      "[CV]  C=1000, decision_function_shape=ovo, kernel=rbf, score=0.5961538461538461, total=   0.0s\n",
      "[CV] C=1000, decision_function_shape=ovr, kernel=rbf .................\n",
      "[CV]  C=1000, decision_function_shape=ovr, kernel=rbf, score=0.5961538461538461, total=   0.0s\n",
      "2\n"
     ]
    },
    {
     "name": "stderr",
     "output_type": "stream",
     "text": [
      "[Parallel(n_jobs=1)]: Done   1 out of   1 | elapsed:    0.0s remaining:    0.0s\n",
      "[Parallel(n_jobs=1)]: Done   2 out of   2 | elapsed:    0.0s remaining:    0.0s\n",
      "[Parallel(n_jobs=1)]: Done  16 out of  16 | elapsed:    0.0s finished\n"
     ]
    },
    {
     "name": "stdout",
     "output_type": "stream",
     "text": [
      "Fitting 1 folds for each of 16 candidates, totalling 16 fits\n",
      "[CV] C=1, decision_function_shape=ovo, kernel=linear .................\n",
      "[CV]  C=1, decision_function_shape=ovo, kernel=linear, score=0.5384615384615384, total=   0.0s\n",
      "[CV] C=1, decision_function_shape=ovr, kernel=linear .................\n",
      "[CV]  C=1, decision_function_shape=ovr, kernel=linear, score=0.5384615384615384, total=   0.0s\n",
      "[CV] C=10, decision_function_shape=ovo, kernel=linear ................\n",
      "[CV]  C=10, decision_function_shape=ovo, kernel=linear, score=0.6153846153846154, total=   0.0s\n",
      "[CV] C=10, decision_function_shape=ovr, kernel=linear ................\n",
      "[CV]  C=10, decision_function_shape=ovr, kernel=linear, score=0.6153846153846154, total=   0.0s\n",
      "[CV] C=100, decision_function_shape=ovo, kernel=linear ...............\n",
      "[CV]  C=100, decision_function_shape=ovo, kernel=linear, score=0.5961538461538461, total=   0.0s\n",
      "[CV] C=100, decision_function_shape=ovr, kernel=linear ...............\n",
      "[CV]  C=100, decision_function_shape=ovr, kernel=linear, score=0.5961538461538461, total=   0.0s\n",
      "[CV] C=1000, decision_function_shape=ovo, kernel=linear ..............\n",
      "[CV]  C=1000, decision_function_shape=ovo, kernel=linear, score=0.6346153846153846, total=   0.0s\n",
      "[CV] C=1000, decision_function_shape=ovr, kernel=linear ..............\n",
      "[CV]  C=1000, decision_function_shape=ovr, kernel=linear, score=0.6346153846153846, total=   0.0s\n",
      "[CV] C=1, decision_function_shape=ovo, kernel=rbf ....................\n",
      "[CV]  C=1, decision_function_shape=ovo, kernel=rbf, score=0.4423076923076923, total=   0.0s\n",
      "[CV] C=1, decision_function_shape=ovr, kernel=rbf ....................\n",
      "[CV]  C=1, decision_function_shape=ovr, kernel=rbf, score=0.4423076923076923, total=   0.0s\n",
      "[CV] C=10, decision_function_shape=ovo, kernel=rbf ...................\n",
      "[CV]  C=10, decision_function_shape=ovo, kernel=rbf, score=0.5384615384615384, total=   0.0s\n",
      "[CV] C=10, decision_function_shape=ovr, kernel=rbf ...................\n",
      "[CV]  C=10, decision_function_shape=ovr, kernel=rbf, score=0.5384615384615384, total=   0.0s\n",
      "[CV] C=100, decision_function_shape=ovo, kernel=rbf ..................\n",
      "[CV]  C=100, decision_function_shape=ovo, kernel=rbf, score=0.5769230769230769, total=   0.0s\n",
      "[CV] C=100, decision_function_shape=ovr, kernel=rbf ..................\n",
      "[CV]  C=100, decision_function_shape=ovr, kernel=rbf, score=0.5769230769230769, total=   0.0s\n",
      "[CV] C=1000, decision_function_shape=ovo, kernel=rbf .................\n",
      "[CV]  C=1000, decision_function_shape=ovo, kernel=rbf, score=0.6730769230769231, total=   0.0s\n",
      "[CV] C=1000, decision_function_shape=ovr, kernel=rbf .................\n",
      "[CV]  C=1000, decision_function_shape=ovr, kernel=rbf, score=0.6730769230769231, total=   0.0s\n",
      "3\n"
     ]
    },
    {
     "name": "stderr",
     "output_type": "stream",
     "text": [
      "[Parallel(n_jobs=1)]: Done   1 out of   1 | elapsed:    0.0s remaining:    0.0s\n",
      "[Parallel(n_jobs=1)]: Done   2 out of   2 | elapsed:    0.0s remaining:    0.0s\n",
      "[Parallel(n_jobs=1)]: Done  16 out of  16 | elapsed:    0.0s finished\n"
     ]
    },
    {
     "name": "stdout",
     "output_type": "stream",
     "text": [
      "Fitting 1 folds for each of 16 candidates, totalling 16 fits\n",
      "[CV] C=1, decision_function_shape=ovo, kernel=linear .................\n",
      "[CV]  C=1, decision_function_shape=ovo, kernel=linear, score=0.6538461538461539, total=   0.0s\n",
      "[CV] C=1, decision_function_shape=ovr, kernel=linear .................\n",
      "[CV]  C=1, decision_function_shape=ovr, kernel=linear, score=0.6538461538461539, total=   0.0s\n",
      "[CV] C=10, decision_function_shape=ovo, kernel=linear ................\n",
      "[CV]  C=10, decision_function_shape=ovo, kernel=linear, score=0.75, total=   0.0s\n",
      "[CV] C=10, decision_function_shape=ovr, kernel=linear ................\n",
      "[CV]  C=10, decision_function_shape=ovr, kernel=linear, score=0.75, total=   0.0s\n",
      "[CV] C=100, decision_function_shape=ovo, kernel=linear ...............\n",
      "[CV]  C=100, decision_function_shape=ovo, kernel=linear, score=0.7307692307692307, total=   0.0s\n",
      "[CV] C=100, decision_function_shape=ovr, kernel=linear ...............\n",
      "[CV]  C=100, decision_function_shape=ovr, kernel=linear, score=0.7307692307692307, total=   0.0s\n",
      "[CV] C=1000, decision_function_shape=ovo, kernel=linear ..............\n",
      "[CV]  C=1000, decision_function_shape=ovo, kernel=linear, score=0.7692307692307693, total=   0.0s\n",
      "[CV] C=1000, decision_function_shape=ovr, kernel=linear ..............\n",
      "[CV]  C=1000, decision_function_shape=ovr, kernel=linear, score=0.7692307692307693, total=   0.0s\n",
      "[CV] C=1, decision_function_shape=ovo, kernel=rbf ....................\n",
      "[CV]  C=1, decision_function_shape=ovo, kernel=rbf, score=0.38461538461538464, total=   0.0s\n",
      "[CV] C=1, decision_function_shape=ovr, kernel=rbf ....................\n",
      "[CV]  C=1, decision_function_shape=ovr, kernel=rbf, score=0.38461538461538464, total=   0.0s\n",
      "[CV] C=10, decision_function_shape=ovo, kernel=rbf ...................\n",
      "[CV]  C=10, decision_function_shape=ovo, kernel=rbf, score=0.6346153846153846, total=   0.0s\n",
      "[CV] C=10, decision_function_shape=ovr, kernel=rbf ...................\n",
      "[CV]  C=10, decision_function_shape=ovr, kernel=rbf, score=0.6346153846153846, total=   0.0s\n",
      "[CV] C=100, decision_function_shape=ovo, kernel=rbf ..................\n",
      "[CV]  C=100, decision_function_shape=ovo, kernel=rbf, score=0.75, total=   0.0s\n",
      "[CV] C=100, decision_function_shape=ovr, kernel=rbf ..................\n",
      "[CV]  C=100, decision_function_shape=ovr, kernel=rbf, score=0.75, total=   0.0s\n",
      "[CV] C=1000, decision_function_shape=ovo, kernel=rbf .................\n",
      "[CV]  C=1000, decision_function_shape=ovo, kernel=rbf, score=0.7692307692307693, total=   0.0s\n",
      "[CV] C=1000, decision_function_shape=ovr, kernel=rbf .................\n",
      "[CV]  C=1000, decision_function_shape=ovr, kernel=rbf, score=0.7692307692307693, total=   0.0s\n",
      "4\n"
     ]
    },
    {
     "name": "stderr",
     "output_type": "stream",
     "text": [
      "[Parallel(n_jobs=1)]: Done   1 out of   1 | elapsed:    0.0s remaining:    0.0s\n",
      "[Parallel(n_jobs=1)]: Done   2 out of   2 | elapsed:    0.0s remaining:    0.0s\n",
      "[Parallel(n_jobs=1)]: Done  16 out of  16 | elapsed:    0.0s finished\n"
     ]
    },
    {
     "name": "stdout",
     "output_type": "stream",
     "text": [
      "Fitting 1 folds for each of 16 candidates, totalling 16 fits\n",
      "[CV] C=1, decision_function_shape=ovo, kernel=linear .................\n",
      "[CV]  C=1, decision_function_shape=ovo, kernel=linear, score=0.7692307692307693, total=   0.0s\n",
      "[CV] C=1, decision_function_shape=ovr, kernel=linear .................\n",
      "[CV]  C=1, decision_function_shape=ovr, kernel=linear, score=0.7692307692307693, total=   0.0s\n",
      "[CV] C=10, decision_function_shape=ovo, kernel=linear ................\n",
      "[CV]  C=10, decision_function_shape=ovo, kernel=linear, score=0.8269230769230769, total=   0.0s\n",
      "[CV] C=10, decision_function_shape=ovr, kernel=linear ................\n",
      "[CV]  C=10, decision_function_shape=ovr, kernel=linear, score=0.8269230769230769, total=   0.0s\n",
      "[CV] C=100, decision_function_shape=ovo, kernel=linear ...............\n",
      "[CV]  C=100, decision_function_shape=ovo, kernel=linear, score=0.8846153846153846, total=   0.0s\n",
      "[CV] C=100, decision_function_shape=ovr, kernel=linear ...............\n",
      "[CV]  C=100, decision_function_shape=ovr, kernel=linear, score=0.8846153846153846, total=   0.0s\n",
      "[CV] C=1000, decision_function_shape=ovo, kernel=linear ..............\n",
      "[CV]  C=1000, decision_function_shape=ovo, kernel=linear, score=0.8846153846153846, total=   0.0s\n",
      "[CV] C=1000, decision_function_shape=ovr, kernel=linear ..............\n",
      "[CV]  C=1000, decision_function_shape=ovr, kernel=linear, score=0.8846153846153846, total=   0.0s\n",
      "[CV] C=1, decision_function_shape=ovo, kernel=rbf ....................\n",
      "[CV]  C=1, decision_function_shape=ovo, kernel=rbf, score=0.5769230769230769, total=   0.0s\n",
      "[CV] C=1, decision_function_shape=ovr, kernel=rbf ....................\n",
      "[CV]  C=1, decision_function_shape=ovr, kernel=rbf, score=0.5769230769230769, total=   0.0s\n",
      "[CV] C=10, decision_function_shape=ovo, kernel=rbf ...................\n",
      "[CV]  C=10, decision_function_shape=ovo, kernel=rbf, score=0.7307692307692307, total=   0.0s\n",
      "[CV] C=10, decision_function_shape=ovr, kernel=rbf ...................\n",
      "[CV]  C=10, decision_function_shape=ovr, kernel=rbf, score=0.7307692307692307, total=   0.0s\n",
      "[CV] C=100, decision_function_shape=ovo, kernel=rbf ..................\n",
      "[CV]  C=100, decision_function_shape=ovo, kernel=rbf, score=0.8461538461538461, total=   0.0s\n",
      "[CV] C=100, decision_function_shape=ovr, kernel=rbf ..................\n",
      "[CV]  C=100, decision_function_shape=ovr, kernel=rbf, score=0.8461538461538461, total=   0.0s\n",
      "[CV] C=1000, decision_function_shape=ovo, kernel=rbf .................\n",
      "[CV]  C=1000, decision_function_shape=ovo, kernel=rbf, score=0.8653846153846154, total=   0.0s\n",
      "[CV] C=1000, decision_function_shape=ovr, kernel=rbf .................\n",
      "[CV]  C=1000, decision_function_shape=ovr, kernel=rbf, score=0.8653846153846154, total=   0.0s\n",
      "5\n"
     ]
    },
    {
     "name": "stderr",
     "output_type": "stream",
     "text": [
      "[Parallel(n_jobs=1)]: Done   1 out of   1 | elapsed:    0.0s remaining:    0.0s\n",
      "[Parallel(n_jobs=1)]: Done   2 out of   2 | elapsed:    0.0s remaining:    0.0s\n",
      "[Parallel(n_jobs=1)]: Done  16 out of  16 | elapsed:    0.1s finished\n"
     ]
    },
    {
     "name": "stdout",
     "output_type": "stream",
     "text": [
      "Fitting 1 folds for each of 16 candidates, totalling 16 fits\n",
      "[CV] C=1, decision_function_shape=ovo, kernel=linear .................\n",
      "[CV]  C=1, decision_function_shape=ovo, kernel=linear, score=0.75, total=   0.0s\n",
      "[CV] C=1, decision_function_shape=ovr, kernel=linear .................\n",
      "[CV]  C=1, decision_function_shape=ovr, kernel=linear, score=0.75, total=   0.0s\n",
      "[CV] C=10, decision_function_shape=ovo, kernel=linear ................\n",
      "[CV]  C=10, decision_function_shape=ovo, kernel=linear, score=0.8269230769230769, total=   0.0s\n",
      "[CV] C=10, decision_function_shape=ovr, kernel=linear ................\n",
      "[CV]  C=10, decision_function_shape=ovr, kernel=linear, score=0.8269230769230769, total=   0.0s\n",
      "[CV] C=100, decision_function_shape=ovo, kernel=linear ...............\n",
      "[CV]  C=100, decision_function_shape=ovo, kernel=linear, score=0.7884615384615384, total=   0.0s\n",
      "[CV] C=100, decision_function_shape=ovr, kernel=linear ...............\n",
      "[CV]  C=100, decision_function_shape=ovr, kernel=linear, score=0.7884615384615384, total=   0.0s\n",
      "[CV] C=1000, decision_function_shape=ovo, kernel=linear ..............\n",
      "[CV]  C=1000, decision_function_shape=ovo, kernel=linear, score=0.8076923076923077, total=   0.0s\n",
      "[CV] C=1000, decision_function_shape=ovr, kernel=linear ..............\n",
      "[CV]  C=1000, decision_function_shape=ovr, kernel=linear, score=0.8076923076923077, total=   0.0s\n",
      "[CV] C=1, decision_function_shape=ovo, kernel=rbf ....................\n",
      "[CV]  C=1, decision_function_shape=ovo, kernel=rbf, score=0.5576923076923077, total=   0.0s\n",
      "[CV] C=1, decision_function_shape=ovr, kernel=rbf ....................\n",
      "[CV]  C=1, decision_function_shape=ovr, kernel=rbf, score=0.5576923076923077, total=   0.0s\n",
      "[CV] C=10, decision_function_shape=ovo, kernel=rbf ...................\n",
      "[CV]  C=10, decision_function_shape=ovo, kernel=rbf, score=0.7692307692307693, total=   0.0s\n",
      "[CV] C=10, decision_function_shape=ovr, kernel=rbf ...................\n",
      "[CV]  C=10, decision_function_shape=ovr, kernel=rbf, score=0.7692307692307693, total=   0.0s\n",
      "[CV] C=100, decision_function_shape=ovo, kernel=rbf ..................\n",
      "[CV]  C=100, decision_function_shape=ovo, kernel=rbf, score=0.8076923076923077, total=   0.0s\n",
      "[CV] C=100, decision_function_shape=ovr, kernel=rbf ..................\n",
      "[CV]  C=100, decision_function_shape=ovr, kernel=rbf, score=0.8076923076923077, total=   0.0s\n",
      "[CV] C=1000, decision_function_shape=ovo, kernel=rbf .................\n",
      "[CV]  C=1000, decision_function_shape=ovo, kernel=rbf, score=0.8076923076923077, total=   0.0s\n",
      "[CV] C=1000, decision_function_shape=ovr, kernel=rbf .................\n",
      "[CV]  C=1000, decision_function_shape=ovr, kernel=rbf, score=0.8076923076923077, total=   0.0s\n",
      "6\n"
     ]
    },
    {
     "name": "stderr",
     "output_type": "stream",
     "text": [
      "[Parallel(n_jobs=1)]: Done   1 out of   1 | elapsed:    0.0s remaining:    0.0s\n",
      "[Parallel(n_jobs=1)]: Done   2 out of   2 | elapsed:    0.0s remaining:    0.0s\n",
      "[Parallel(n_jobs=1)]: Done  16 out of  16 | elapsed:    0.1s finished\n"
     ]
    },
    {
     "name": "stdout",
     "output_type": "stream",
     "text": [
      "Fitting 1 folds for each of 16 candidates, totalling 16 fits\n",
      "[CV] C=1, decision_function_shape=ovo, kernel=linear .................\n",
      "[CV]  C=1, decision_function_shape=ovo, kernel=linear, score=0.8076923076923077, total=   0.0s\n",
      "[CV] C=1, decision_function_shape=ovr, kernel=linear .................\n",
      "[CV]  C=1, decision_function_shape=ovr, kernel=linear, score=0.8076923076923077, total=   0.0s\n",
      "[CV] C=10, decision_function_shape=ovo, kernel=linear ................\n",
      "[CV]  C=10, decision_function_shape=ovo, kernel=linear, score=0.8269230769230769, total=   0.0s\n",
      "[CV] C=10, decision_function_shape=ovr, kernel=linear ................\n",
      "[CV]  C=10, decision_function_shape=ovr, kernel=linear, score=0.8269230769230769, total=   0.0s\n",
      "[CV] C=100, decision_function_shape=ovo, kernel=linear ...............\n",
      "[CV]  C=100, decision_function_shape=ovo, kernel=linear, score=0.75, total=   0.0s\n",
      "[CV] C=100, decision_function_shape=ovr, kernel=linear ...............\n",
      "[CV]  C=100, decision_function_shape=ovr, kernel=linear, score=0.75, total=   0.0s\n",
      "[CV] C=1000, decision_function_shape=ovo, kernel=linear ..............\n",
      "[CV]  C=1000, decision_function_shape=ovo, kernel=linear, score=0.75, total=   0.0s\n",
      "[CV] C=1000, decision_function_shape=ovr, kernel=linear ..............\n",
      "[CV]  C=1000, decision_function_shape=ovr, kernel=linear, score=0.75, total=   0.0s\n",
      "[CV] C=1, decision_function_shape=ovo, kernel=rbf ....................\n",
      "[CV]  C=1, decision_function_shape=ovo, kernel=rbf, score=0.4807692307692308, total=   0.0s\n",
      "[CV] C=1, decision_function_shape=ovr, kernel=rbf ....................\n",
      "[CV]  C=1, decision_function_shape=ovr, kernel=rbf, score=0.4807692307692308, total=   0.0s\n",
      "[CV] C=10, decision_function_shape=ovo, kernel=rbf ...................\n",
      "[CV]  C=10, decision_function_shape=ovo, kernel=rbf, score=0.7692307692307693, total=   0.0s\n",
      "[CV] C=10, decision_function_shape=ovr, kernel=rbf ...................\n",
      "[CV]  C=10, decision_function_shape=ovr, kernel=rbf, score=0.7692307692307693, total=   0.0s\n",
      "[CV] C=100, decision_function_shape=ovo, kernel=rbf ..................\n",
      "[CV]  C=100, decision_function_shape=ovo, kernel=rbf, score=0.8269230769230769, total=   0.0s\n",
      "[CV] C=100, decision_function_shape=ovr, kernel=rbf ..................\n",
      "[CV]  C=100, decision_function_shape=ovr, kernel=rbf, score=0.8269230769230769, total=   0.0s\n",
      "[CV] C=1000, decision_function_shape=ovo, kernel=rbf .................\n",
      "[CV]  C=1000, decision_function_shape=ovo, kernel=rbf, score=0.7884615384615384, total=   0.0s\n",
      "[CV] C=1000, decision_function_shape=ovr, kernel=rbf .................\n",
      "[CV]  C=1000, decision_function_shape=ovr, kernel=rbf, score=0.7884615384615384, total=   0.0s\n",
      "7\n"
     ]
    },
    {
     "name": "stderr",
     "output_type": "stream",
     "text": [
      "[Parallel(n_jobs=1)]: Done   1 out of   1 | elapsed:    0.0s remaining:    0.0s\n",
      "[Parallel(n_jobs=1)]: Done   2 out of   2 | elapsed:    0.0s remaining:    0.0s\n",
      "[Parallel(n_jobs=1)]: Done  16 out of  16 | elapsed:    0.1s finished\n"
     ]
    },
    {
     "name": "stdout",
     "output_type": "stream",
     "text": [
      "Fitting 1 folds for each of 16 candidates, totalling 16 fits\n",
      "[CV] C=1, decision_function_shape=ovo, kernel=linear .................\n",
      "[CV]  C=1, decision_function_shape=ovo, kernel=linear, score=0.8846153846153846, total=   0.0s\n",
      "[CV] C=1, decision_function_shape=ovr, kernel=linear .................\n",
      "[CV]  C=1, decision_function_shape=ovr, kernel=linear, score=0.8846153846153846, total=   0.0s\n",
      "[CV] C=10, decision_function_shape=ovo, kernel=linear ................\n",
      "[CV]  C=10, decision_function_shape=ovo, kernel=linear, score=0.8269230769230769, total=   0.0s\n",
      "[CV] C=10, decision_function_shape=ovr, kernel=linear ................\n",
      "[CV]  C=10, decision_function_shape=ovr, kernel=linear, score=0.8269230769230769, total=   0.0s\n",
      "[CV] C=100, decision_function_shape=ovo, kernel=linear ...............\n",
      "[CV]  C=100, decision_function_shape=ovo, kernel=linear, score=0.8461538461538461, total=   0.0s\n",
      "[CV] C=100, decision_function_shape=ovr, kernel=linear ...............\n",
      "[CV]  C=100, decision_function_shape=ovr, kernel=linear, score=0.8461538461538461, total=   0.0s\n",
      "[CV] C=1000, decision_function_shape=ovo, kernel=linear ..............\n",
      "[CV]  C=1000, decision_function_shape=ovo, kernel=linear, score=0.7884615384615384, total=   0.0s\n",
      "[CV] C=1000, decision_function_shape=ovr, kernel=linear ..............\n",
      "[CV]  C=1000, decision_function_shape=ovr, kernel=linear, score=0.7884615384615384, total=   0.0s\n",
      "[CV] C=1, decision_function_shape=ovo, kernel=rbf ....................\n",
      "[CV]  C=1, decision_function_shape=ovo, kernel=rbf, score=0.40384615384615385, total=   0.0s\n",
      "[CV] C=1, decision_function_shape=ovr, kernel=rbf ....................\n",
      "[CV]  C=1, decision_function_shape=ovr, kernel=rbf, score=0.40384615384615385, total=   0.0s\n",
      "[CV] C=10, decision_function_shape=ovo, kernel=rbf ...................\n",
      "[CV]  C=10, decision_function_shape=ovo, kernel=rbf, score=0.7692307692307693, total=   0.0s\n",
      "[CV] C=10, decision_function_shape=ovr, kernel=rbf ...................\n",
      "[CV]  C=10, decision_function_shape=ovr, kernel=rbf, score=0.7692307692307693, total=   0.0s\n",
      "[CV] C=100, decision_function_shape=ovo, kernel=rbf ..................\n",
      "[CV]  C=100, decision_function_shape=ovo, kernel=rbf, score=0.8653846153846154, total=   0.0s\n",
      "[CV] C=100, decision_function_shape=ovr, kernel=rbf ..................\n",
      "[CV]  C=100, decision_function_shape=ovr, kernel=rbf, score=0.8653846153846154, total=   0.0s\n",
      "[CV] C=1000, decision_function_shape=ovo, kernel=rbf .................\n",
      "[CV]  C=1000, decision_function_shape=ovo, kernel=rbf, score=0.8269230769230769, total=   0.0s\n",
      "[CV] C=1000, decision_function_shape=ovr, kernel=rbf .................\n"
     ]
    },
    {
     "name": "stderr",
     "output_type": "stream",
     "text": [
      "[Parallel(n_jobs=1)]: Done   1 out of   1 | elapsed:    0.0s remaining:    0.0s\n",
      "[Parallel(n_jobs=1)]: Done   2 out of   2 | elapsed:    0.0s remaining:    0.0s\n",
      "[Parallel(n_jobs=1)]: Done  16 out of  16 | elapsed:    0.1s finished\n"
     ]
    },
    {
     "name": "stdout",
     "output_type": "stream",
     "text": [
      "[CV]  C=1000, decision_function_shape=ovr, kernel=rbf, score=0.8269230769230769, total=   0.0s\n",
      "8\n",
      "Fitting 1 folds for each of 16 candidates, totalling 16 fits\n",
      "[CV] C=1, decision_function_shape=ovo, kernel=linear .................\n",
      "[CV]  C=1, decision_function_shape=ovo, kernel=linear, score=0.8461538461538461, total=   0.0s\n",
      "[CV] C=1, decision_function_shape=ovr, kernel=linear .................\n",
      "[CV]  C=1, decision_function_shape=ovr, kernel=linear, score=0.8461538461538461, total=   0.0s\n",
      "[CV] C=10, decision_function_shape=ovo, kernel=linear ................\n",
      "[CV]  C=10, decision_function_shape=ovo, kernel=linear, score=0.8269230769230769, total=   0.0s\n",
      "[CV] C=10, decision_function_shape=ovr, kernel=linear ................\n",
      "[CV]  C=10, decision_function_shape=ovr, kernel=linear, score=0.8269230769230769, total=   0.0s\n",
      "[CV] C=100, decision_function_shape=ovo, kernel=linear ...............\n",
      "[CV]  C=100, decision_function_shape=ovo, kernel=linear, score=0.8269230769230769, total=   0.0s\n",
      "[CV] C=100, decision_function_shape=ovr, kernel=linear ...............\n",
      "[CV]  C=100, decision_function_shape=ovr, kernel=linear, score=0.8269230769230769, total=   0.0s\n",
      "[CV] C=1000, decision_function_shape=ovo, kernel=linear ..............\n",
      "[CV]  C=1000, decision_function_shape=ovo, kernel=linear, score=0.7884615384615384, total=   0.0s\n",
      "[CV] C=1000, decision_function_shape=ovr, kernel=linear ..............\n",
      "[CV]  C=1000, decision_function_shape=ovr, kernel=linear, score=0.7884615384615384, total=   0.0s\n",
      "[CV] C=1, decision_function_shape=ovo, kernel=rbf ....................\n",
      "[CV]  C=1, decision_function_shape=ovo, kernel=rbf, score=0.34615384615384615, total=   0.0s\n",
      "[CV] C=1, decision_function_shape=ovr, kernel=rbf ....................\n",
      "[CV]  C=1, decision_function_shape=ovr, kernel=rbf, score=0.34615384615384615, total=   0.0s\n",
      "[CV] C=10, decision_function_shape=ovo, kernel=rbf ...................\n",
      "[CV]  C=10, decision_function_shape=ovo, kernel=rbf, score=0.75, total=   0.0s\n",
      "[CV] C=10, decision_function_shape=ovr, kernel=rbf ...................\n",
      "[CV]  C=10, decision_function_shape=ovr, kernel=rbf, score=0.75, total=   0.0s\n",
      "[CV] C=100, decision_function_shape=ovo, kernel=rbf ..................\n",
      "[CV]  C=100, decision_function_shape=ovo, kernel=rbf, score=0.8461538461538461, total=   0.0s\n",
      "[CV] C=100, decision_function_shape=ovr, kernel=rbf ..................\n",
      "[CV]  C=100, decision_function_shape=ovr, kernel=rbf, score=0.8461538461538461, total=   0.0s\n",
      "[CV] C=1000, decision_function_shape=ovo, kernel=rbf .................\n",
      "[CV]  C=1000, decision_function_shape=ovo, kernel=rbf, score=0.8269230769230769, total=   0.0s\n",
      "[CV] C=1000, decision_function_shape=ovr, kernel=rbf .................\n",
      "[CV]  C=1000, decision_function_shape=ovr, kernel=rbf, score=0.8269230769230769, total=   0.0s\n",
      "9"
     ]
    },
    {
     "name": "stderr",
     "output_type": "stream",
     "text": [
      "[Parallel(n_jobs=1)]: Done   1 out of   1 | elapsed:    0.0s remaining:    0.0s\n",
      "[Parallel(n_jobs=1)]: Done   2 out of   2 | elapsed:    0.0s remaining:    0.0s\n",
      "[Parallel(n_jobs=1)]: Done  16 out of  16 | elapsed:    0.1s finished\n"
     ]
    },
    {
     "name": "stdout",
     "output_type": "stream",
     "text": [
      "\n",
      "Fitting 1 folds for each of 16 candidates, totalling 16 fits\n",
      "[CV] C=1, decision_function_shape=ovo, kernel=linear .................\n",
      "[CV]  C=1, decision_function_shape=ovo, kernel=linear, score=0.8076923076923077, total=   0.0s\n",
      "[CV] C=1, decision_function_shape=ovr, kernel=linear .................\n",
      "[CV]  C=1, decision_function_shape=ovr, kernel=linear, score=0.8076923076923077, total=   0.0s\n",
      "[CV] C=10, decision_function_shape=ovo, kernel=linear ................\n",
      "[CV]  C=10, decision_function_shape=ovo, kernel=linear, score=0.8461538461538461, total=   0.0s\n",
      "[CV] C=10, decision_function_shape=ovr, kernel=linear ................\n",
      "[CV]  C=10, decision_function_shape=ovr, kernel=linear, score=0.8461538461538461, total=   0.0s\n",
      "[CV] C=100, decision_function_shape=ovo, kernel=linear ...............\n",
      "[CV]  C=100, decision_function_shape=ovo, kernel=linear, score=0.8269230769230769, total=   0.0s\n",
      "[CV] C=100, decision_function_shape=ovr, kernel=linear ...............\n",
      "[CV]  C=100, decision_function_shape=ovr, kernel=linear, score=0.8269230769230769, total=   0.0s\n",
      "[CV] C=1000, decision_function_shape=ovo, kernel=linear ..............\n",
      "[CV]  C=1000, decision_function_shape=ovo, kernel=linear, score=0.8076923076923077, total=   0.0s\n",
      "[CV] C=1000, decision_function_shape=ovr, kernel=linear ..............\n",
      "[CV]  C=1000, decision_function_shape=ovr, kernel=linear, score=0.8076923076923077, total=   0.0s\n",
      "[CV] C=1, decision_function_shape=ovo, kernel=rbf ....................\n",
      "[CV]  C=1, decision_function_shape=ovo, kernel=rbf, score=0.2692307692307692, total=   0.0s\n",
      "[CV] C=1, decision_function_shape=ovr, kernel=rbf ....................\n",
      "[CV]  C=1, decision_function_shape=ovr, kernel=rbf, score=0.2692307692307692, total=   0.0s\n",
      "[CV] C=10, decision_function_shape=ovo, kernel=rbf ...................\n",
      "[CV]  C=10, decision_function_shape=ovo, kernel=rbf, score=0.7884615384615384, total=   0.0s\n",
      "[CV] C=10, decision_function_shape=ovr, kernel=rbf ...................\n",
      "[CV]  C=10, decision_function_shape=ovr, kernel=rbf, score=0.7884615384615384, total=   0.0s"
     ]
    },
    {
     "name": "stderr",
     "output_type": "stream",
     "text": [
      "[Parallel(n_jobs=1)]: Done   1 out of   1 | elapsed:    0.0s remaining:    0.0s\n",
      "[Parallel(n_jobs=1)]: Done   2 out of   2 | elapsed:    0.0s remaining:    0.0s\n"
     ]
    },
    {
     "name": "stdout",
     "output_type": "stream",
     "text": [
      "\n",
      "[CV] C=100, decision_function_shape=ovo, kernel=rbf ..................\n",
      "[CV]  C=100, decision_function_shape=ovo, kernel=rbf, score=0.8269230769230769, total=   0.0s\n",
      "[CV] C=100, decision_function_shape=ovr, kernel=rbf ..................\n",
      "[CV]  C=100, decision_function_shape=ovr, kernel=rbf, score=0.8269230769230769, total=   0.0s\n",
      "[CV] C=1000, decision_function_shape=ovo, kernel=rbf .................\n",
      "[CV]  C=1000, decision_function_shape=ovo, kernel=rbf, score=0.8461538461538461, total=   0.0s\n",
      "[CV] C=1000, decision_function_shape=ovr, kernel=rbf .................\n",
      "[CV]  C=1000, decision_function_shape=ovr, kernel=rbf, score=0.8461538461538461, total=   0.0s\n",
      "10\n"
     ]
    },
    {
     "name": "stderr",
     "output_type": "stream",
     "text": [
      "[Parallel(n_jobs=1)]: Done  16 out of  16 | elapsed:    0.2s finished\n"
     ]
    },
    {
     "name": "stdout",
     "output_type": "stream",
     "text": [
      "Fitting 1 folds for each of 16 candidates, totalling 16 fits\n",
      "[CV] C=1, decision_function_shape=ovo, kernel=linear .................\n",
      "[CV]  C=1, decision_function_shape=ovo, kernel=linear, score=0.8653846153846154, total=   0.0s\n",
      "[CV] C=1, decision_function_shape=ovr, kernel=linear .................\n",
      "[CV]  C=1, decision_function_shape=ovr, kernel=linear, score=0.8653846153846154, total=   0.0s\n",
      "[CV] C=10, decision_function_shape=ovo, kernel=linear ................\n",
      "[CV]  C=10, decision_function_shape=ovo, kernel=linear, score=0.8846153846153846, total=   0.0s\n",
      "[CV] C=10, decision_function_shape=ovr, kernel=linear ................\n",
      "[CV]  C=10, decision_function_shape=ovr, kernel=linear, score=0.8846153846153846, total=   0.0s\n",
      "[CV] C=100, decision_function_shape=ovo, kernel=linear ...............\n",
      "[CV]  C=100, decision_function_shape=ovo, kernel=linear, score=0.9230769230769231, total=   0.0s\n",
      "[CV] C=100, decision_function_shape=ovr, kernel=linear ...............\n",
      "[CV]  C=100, decision_function_shape=ovr, kernel=linear, score=0.9230769230769231, total=   0.0s\n",
      "[CV] C=1000, decision_function_shape=ovo, kernel=linear ..............\n",
      "[CV]  C=1000, decision_function_shape=ovo, kernel=linear, score=0.8846153846153846, total=   0.0s\n",
      "[CV] C=1000, decision_function_shape=ovr, kernel=linear ..............\n",
      "[CV]  C=1000, decision_function_shape=ovr, kernel=linear, score=0.8846153846153846, total=   0.0s\n",
      "[CV] C=1, decision_function_shape=ovo, kernel=rbf ....................\n",
      "[CV]  C=1, decision_function_shape=ovo, kernel=rbf, score=0.23076923076923078, total=   0.0s\n",
      "[CV] C=1, decision_function_shape=ovr, kernel=rbf ....................\n",
      "[CV]  C=1, decision_function_shape=ovr, kernel=rbf, score=0.23076923076923078, total=   0.0s\n",
      "[CV] C=10, decision_function_shape=ovo, kernel=rbf ...................\n",
      "[CV]  C=10, decision_function_shape=ovo, kernel=rbf, score=0.7884615384615384, total=   0.0s\n",
      "[CV] C=10, decision_function_shape=ovr, kernel=rbf ...................\n",
      "[CV]  C=10, decision_function_shape=ovr, kernel=rbf, score=0.7884615384615384, total=   0.0s\n",
      "[CV] C=100, decision_function_shape=ovo, kernel=rbf ..................\n",
      "[CV]  C=100, decision_function_shape=ovo, kernel=rbf, score=0.9038461538461539, total=   0.0s\n",
      "[CV] C=100, decision_function_shape=ovr, kernel=rbf ..................\n"
     ]
    },
    {
     "name": "stderr",
     "output_type": "stream",
     "text": [
      "[Parallel(n_jobs=1)]: Done   1 out of   1 | elapsed:    0.0s remaining:    0.0s\n",
      "[Parallel(n_jobs=1)]: Done   2 out of   2 | elapsed:    0.0s remaining:    0.0s\n"
     ]
    },
    {
     "name": "stdout",
     "output_type": "stream",
     "text": [
      "[CV]  C=100, decision_function_shape=ovr, kernel=rbf, score=0.9038461538461539, total=   0.0s\n",
      "[CV] C=1000, decision_function_shape=ovo, kernel=rbf .................\n",
      "[CV]  C=1000, decision_function_shape=ovo, kernel=rbf, score=0.8846153846153846, total=   0.0s\n",
      "[CV] C=1000, decision_function_shape=ovr, kernel=rbf .................\n",
      "[CV]  C=1000, decision_function_shape=ovr, kernel=rbf, score=0.8846153846153846, total=   0.0s\n",
      "11\n"
     ]
    },
    {
     "name": "stderr",
     "output_type": "stream",
     "text": [
      "[Parallel(n_jobs=1)]: Done  16 out of  16 | elapsed:    0.1s finished\n"
     ]
    },
    {
     "name": "stdout",
     "output_type": "stream",
     "text": [
      "Fitting 1 folds for each of 16 candidates, totalling 16 fits\n",
      "[CV] C=1, decision_function_shape=ovo, kernel=linear .................\n",
      "[CV]  C=1, decision_function_shape=ovo, kernel=linear, score=0.8461538461538461, total=   0.0s\n",
      "[CV] C=1, decision_function_shape=ovr, kernel=linear .................\n",
      "[CV]  C=1, decision_function_shape=ovr, kernel=linear, score=0.8461538461538461, total=   0.0s\n",
      "[CV] C=10, decision_function_shape=ovo, kernel=linear ................\n",
      "[CV]  C=10, decision_function_shape=ovo, kernel=linear, score=0.8846153846153846, total=   0.0s\n",
      "[CV] C=10, decision_function_shape=ovr, kernel=linear ................\n",
      "[CV]  C=10, decision_function_shape=ovr, kernel=linear, score=0.8846153846153846, total=   0.0s\n",
      "[CV] C=100, decision_function_shape=ovo, kernel=linear ...............\n",
      "[CV]  C=100, decision_function_shape=ovo, kernel=linear, score=0.8076923076923077, total=   0.0s\n",
      "[CV] C=100, decision_function_shape=ovr, kernel=linear ...............\n",
      "[CV]  C=100, decision_function_shape=ovr, kernel=linear, score=0.8076923076923077, total=   0.0s\n",
      "[CV] C=1000, decision_function_shape=ovo, kernel=linear ..............\n",
      "[CV]  C=1000, decision_function_shape=ovo, kernel=linear, score=0.8269230769230769, total=   0.0s\n",
      "[CV] C=1000, decision_function_shape=ovr, kernel=linear ..............\n",
      "[CV]  C=1000, decision_function_shape=ovr, kernel=linear, score=0.8269230769230769, total=   0.0s\n",
      "[CV] C=1, decision_function_shape=ovo, kernel=rbf ....................\n",
      "[CV]  C=1, decision_function_shape=ovo, kernel=rbf, score=0.11538461538461539, total=   0.0s\n",
      "[CV] C=1, decision_function_shape=ovr, kernel=rbf ....................\n",
      "[CV]  C=1, decision_function_shape=ovr, kernel=rbf, score=0.11538461538461539, total=   0.0s\n",
      "[CV] C=10, decision_function_shape=ovo, kernel=rbf ...................\n",
      "[CV]  C=10, decision_function_shape=ovo, kernel=rbf, score=0.7884615384615384, total=   0.0s\n",
      "[CV] C=10, decision_function_shape=ovr, kernel=rbf ...................\n",
      "[CV]  C=10, decision_function_shape=ovr, kernel=rbf, score=0.7884615384615384, total=   0.0s\n",
      "[CV] C=100, decision_function_shape=ovo, kernel=rbf ..................\n"
     ]
    },
    {
     "name": "stderr",
     "output_type": "stream",
     "text": [
      "[Parallel(n_jobs=1)]: Done   1 out of   1 | elapsed:    0.0s remaining:    0.0s\n",
      "[Parallel(n_jobs=1)]: Done   2 out of   2 | elapsed:    0.0s remaining:    0.0s\n"
     ]
    },
    {
     "name": "stdout",
     "output_type": "stream",
     "text": [
      "[CV]  C=100, decision_function_shape=ovo, kernel=rbf, score=0.8461538461538461, total=   0.0s\n",
      "[CV] C=100, decision_function_shape=ovr, kernel=rbf ..................\n",
      "[CV]  C=100, decision_function_shape=ovr, kernel=rbf, score=0.8461538461538461, total=   0.0s\n",
      "[CV] C=1000, decision_function_shape=ovo, kernel=rbf .................\n",
      "[CV]  C=1000, decision_function_shape=ovo, kernel=rbf, score=0.8846153846153846, total=   0.0s\n",
      "[CV] C=1000, decision_function_shape=ovr, kernel=rbf .................\n",
      "[CV]  C=1000, decision_function_shape=ovr, kernel=rbf, score=0.8846153846153846, total=   0.0s\n",
      "12\n"
     ]
    },
    {
     "name": "stderr",
     "output_type": "stream",
     "text": [
      "[Parallel(n_jobs=1)]: Done  16 out of  16 | elapsed:    0.2s finished\n"
     ]
    },
    {
     "name": "stdout",
     "output_type": "stream",
     "text": [
      "Fitting 1 folds for each of 16 candidates, totalling 16 fits\n",
      "[CV] C=1, decision_function_shape=ovo, kernel=linear .................\n",
      "[CV]  C=1, decision_function_shape=ovo, kernel=linear, score=0.75, total=   0.0s\n",
      "[CV] C=1, decision_function_shape=ovr, kernel=linear .................\n",
      "[CV]  C=1, decision_function_shape=ovr, kernel=linear, score=0.75, total=   0.0s\n",
      "[CV] C=10, decision_function_shape=ovo, kernel=linear ................\n",
      "[CV]  C=10, decision_function_shape=ovo, kernel=linear, score=0.8461538461538461, total=   0.0s\n",
      "[CV] C=10, decision_function_shape=ovr, kernel=linear ................\n",
      "[CV]  C=10, decision_function_shape=ovr, kernel=linear, score=0.8461538461538461, total=   0.0s\n",
      "[CV] C=100, decision_function_shape=ovo, kernel=linear ...............\n",
      "[CV]  C=100, decision_function_shape=ovo, kernel=linear, score=0.8461538461538461, total=   0.0s\n",
      "[CV] C=100, decision_function_shape=ovr, kernel=linear ...............\n",
      "[CV]  C=100, decision_function_shape=ovr, kernel=linear, score=0.8461538461538461, total=   0.0s\n",
      "[CV] C=1000, decision_function_shape=ovo, kernel=linear ..............\n",
      "[CV]  C=1000, decision_function_shape=ovo, kernel=linear, score=0.8653846153846154, total=   0.0s\n",
      "[CV] C=1000, decision_function_shape=ovr, kernel=linear ..............\n",
      "[CV]  C=1000, decision_function_shape=ovr, kernel=linear, score=0.8653846153846154, total=   0.0s\n",
      "[CV] C=1, decision_function_shape=ovo, kernel=rbf ....................\n",
      "[CV]  C=1, decision_function_shape=ovo, kernel=rbf, score=0.1346153846153846, total=   0.0s\n",
      "[CV] C=1, decision_function_shape=ovr, kernel=rbf ....................\n",
      "[CV]  C=1, decision_function_shape=ovr, kernel=rbf, score=0.1346153846153846, total=   0.0s\n",
      "[CV] C=10, decision_function_shape=ovo, kernel=rbf ...................\n",
      "[CV]  C=10, decision_function_shape=ovo, kernel=rbf, score=0.6730769230769231, total=   0.0s\n",
      "[CV] C=10, decision_function_shape=ovr, kernel=rbf ...................\n"
     ]
    },
    {
     "name": "stderr",
     "output_type": "stream",
     "text": [
      "[Parallel(n_jobs=1)]: Done   1 out of   1 | elapsed:    0.0s remaining:    0.0s\n",
      "[Parallel(n_jobs=1)]: Done   2 out of   2 | elapsed:    0.0s remaining:    0.0s\n"
     ]
    },
    {
     "name": "stdout",
     "output_type": "stream",
     "text": [
      "[CV]  C=10, decision_function_shape=ovr, kernel=rbf, score=0.6730769230769231, total=   0.0s\n",
      "[CV] C=100, decision_function_shape=ovo, kernel=rbf ..................\n",
      "[CV]  C=100, decision_function_shape=ovo, kernel=rbf, score=0.7692307692307693, total=   0.0s\n",
      "[CV] C=100, decision_function_shape=ovr, kernel=rbf ..................\n",
      "[CV]  C=100, decision_function_shape=ovr, kernel=rbf, score=0.7692307692307693, total=   0.0s\n",
      "[CV] C=1000, decision_function_shape=ovo, kernel=rbf .................\n",
      "[CV]  C=1000, decision_function_shape=ovo, kernel=rbf, score=0.8269230769230769, total=   0.0s\n",
      "[CV] C=1000, decision_function_shape=ovr, kernel=rbf .................\n",
      "[CV]  C=1000, decision_function_shape=ovr, kernel=rbf, score=0.8269230769230769, total=   0.0s\n"
     ]
    },
    {
     "name": "stderr",
     "output_type": "stream",
     "text": [
      "[Parallel(n_jobs=1)]: Done  16 out of  16 | elapsed:    0.2s finished\n"
     ]
    }
   ],
   "source": [
    "for nr in frame_numbers:\n",
    "    print(nr)\n",
    "    try:\n",
    "        gyro_train_input, gyro_train_label = prepare_data(train, nr, 'gyro', verbose=False)\n",
    "        gyro_valid_input, gyro_valid_label = prepare_data(valid, nr, 'gyro', verbose=False)\n",
    "\n",
    "        svc = GridSearchCV(svm.SVC(random_state=random_seed), parameters, cv=cross_valid, scoring='accuracy',\n",
    "                           verbose=verbose_level, n_jobs=parallel_jobs).fit(\n",
    "                                                                        np.append(gyro_train_input, gyro_valid_input, axis=0),\n",
    "                                                                        np.append(gyro_train_label, gyro_valid_label))\n",
    "\n",
    "        own_gyro.append((svc.best_score_, nr, svc.best_params_))\n",
    "    \n",
    "    except ValueError as err:\n",
    "        own_gyro.append((-1, nr, svc.best_params_))"
   ]
  },
  {
   "cell_type": "markdown",
   "metadata": {},
   "source": [
    "### Magnetometer"
   ]
  },
  {
   "cell_type": "code",
   "execution_count": 8,
   "metadata": {},
   "outputs": [
    {
     "name": "stdout",
     "output_type": "stream",
     "text": [
      "1\n",
      "Fitting 1 folds for each of 16 candidates, totalling 16 fits\n",
      "[CV] C=1, decision_function_shape=ovo, kernel=linear .................\n",
      "[CV]  C=1, decision_function_shape=ovo, kernel=linear, score=0.4423076923076923, total=   0.0s\n",
      "[CV] C=1, decision_function_shape=ovr, kernel=linear .................\n",
      "[CV]  C=1, decision_function_shape=ovr, kernel=linear, score=0.4423076923076923, total=   0.0s\n",
      "[CV] C=10, decision_function_shape=ovo, kernel=linear ................\n",
      "[CV]  C=10, decision_function_shape=ovo, kernel=linear, score=0.5769230769230769, total=   0.0s\n",
      "[CV] C=10, decision_function_shape=ovr, kernel=linear ................\n",
      "[CV]  C=10, decision_function_shape=ovr, kernel=linear, score=0.5769230769230769, total=   0.0s\n",
      "[CV] C=100, decision_function_shape=ovo, kernel=linear ...............\n",
      "[CV]  C=100, decision_function_shape=ovo, kernel=linear, score=0.6153846153846154, total=   0.0s\n",
      "[CV] C=100, decision_function_shape=ovr, kernel=linear ...............\n",
      "[CV]  C=100, decision_function_shape=ovr, kernel=linear, score=0.6153846153846154, total=   0.0s\n",
      "[CV] C=1000, decision_function_shape=ovo, kernel=linear ..............\n",
      "[CV]  C=1000, decision_function_shape=ovo, kernel=linear, score=0.6153846153846154, total=   0.0s\n",
      "[CV] C=1000, decision_function_shape=ovr, kernel=linear ..............\n",
      "[CV]  C=1000, decision_function_shape=ovr, kernel=linear, score=0.6153846153846154, total=   0.0s\n",
      "[CV] C=1, decision_function_shape=ovo, kernel=rbf ....................\n",
      "[CV]  C=1, decision_function_shape=ovo, kernel=rbf, score=0.25, total=   0.0s\n",
      "[CV] C=1, decision_function_shape=ovr, kernel=rbf ....................\n",
      "[CV]  C=1, decision_function_shape=ovr, kernel=rbf, score=0.25, total=   0.0s\n",
      "[CV] C=10, decision_function_shape=ovo, kernel=rbf ...................\n",
      "[CV]  C=10, decision_function_shape=ovo, kernel=rbf, score=0.5, total=   0.0s\n",
      "[CV] C=10, decision_function_shape=ovr, kernel=rbf ...................\n",
      "[CV]  C=10, decision_function_shape=ovr, kernel=rbf, score=0.5, total=   0.0s\n",
      "[CV] C=100, decision_function_shape=ovo, kernel=rbf ..................\n",
      "[CV]  C=100, decision_function_shape=ovo, kernel=rbf, score=0.5961538461538461, total=   0.0s\n",
      "[CV] C=100, decision_function_shape=ovr, kernel=rbf ..................\n",
      "[CV]  C=100, decision_function_shape=ovr, kernel=rbf, score=0.5961538461538461, total=   0.0s\n",
      "[CV] C=1000, decision_function_shape=ovo, kernel=rbf .................\n",
      "[CV]  C=1000, decision_function_shape=ovo, kernel=rbf, score=0.6923076923076923, total=   0.0s\n",
      "[CV] C=1000, decision_function_shape=ovr, kernel=rbf .................\n",
      "[CV]  C=1000, decision_function_shape=ovr, kernel=rbf, score=0.6923076923076923, total=   0.0s\n",
      "2\n"
     ]
    },
    {
     "name": "stderr",
     "output_type": "stream",
     "text": [
      "[Parallel(n_jobs=1)]: Done   1 out of   1 | elapsed:    0.0s remaining:    0.0s\n",
      "[Parallel(n_jobs=1)]: Done   2 out of   2 | elapsed:    0.0s remaining:    0.0s\n",
      "[Parallel(n_jobs=1)]: Done  16 out of  16 | elapsed:    0.1s finished\n"
     ]
    },
    {
     "name": "stdout",
     "output_type": "stream",
     "text": [
      "Fitting 1 folds for each of 16 candidates, totalling 16 fits\n",
      "[CV] C=1, decision_function_shape=ovo, kernel=linear .................\n",
      "[CV]  C=1, decision_function_shape=ovo, kernel=linear, score=0.5961538461538461, total=   0.0s\n",
      "[CV] C=1, decision_function_shape=ovr, kernel=linear .................\n",
      "[CV]  C=1, decision_function_shape=ovr, kernel=linear, score=0.5961538461538461, total=   0.0s\n",
      "[CV] C=10, decision_function_shape=ovo, kernel=linear ................\n",
      "[CV]  C=10, decision_function_shape=ovo, kernel=linear, score=0.6923076923076923, total=   0.0s\n",
      "[CV] C=10, decision_function_shape=ovr, kernel=linear ................\n",
      "[CV]  C=10, decision_function_shape=ovr, kernel=linear, score=0.6923076923076923, total=   0.0s\n",
      "[CV] C=100, decision_function_shape=ovo, kernel=linear ...............\n",
      "[CV]  C=100, decision_function_shape=ovo, kernel=linear, score=0.6538461538461539, total=   0.0s\n",
      "[CV] C=100, decision_function_shape=ovr, kernel=linear ...............\n",
      "[CV]  C=100, decision_function_shape=ovr, kernel=linear, score=0.6538461538461539, total=   0.0s\n",
      "[CV] C=1000, decision_function_shape=ovo, kernel=linear ..............\n",
      "[CV]  C=1000, decision_function_shape=ovo, kernel=linear, score=0.6923076923076923, total=   0.0s\n",
      "[CV] C=1000, decision_function_shape=ovr, kernel=linear ..............\n",
      "[CV]  C=1000, decision_function_shape=ovr, kernel=linear, score=0.6923076923076923, total=   0.0s\n",
      "[CV] C=1, decision_function_shape=ovo, kernel=rbf ....................\n",
      "[CV]  C=1, decision_function_shape=ovo, kernel=rbf, score=0.3076923076923077, total=   0.0s\n",
      "[CV] C=1, decision_function_shape=ovr, kernel=rbf ....................\n",
      "[CV]  C=1, decision_function_shape=ovr, kernel=rbf, score=0.3076923076923077, total=   0.0s\n",
      "[CV] C=10, decision_function_shape=ovo, kernel=rbf ...................\n",
      "[CV]  C=10, decision_function_shape=ovo, kernel=rbf, score=0.5384615384615384, total=   0.0s\n",
      "[CV] C=10, decision_function_shape=ovr, kernel=rbf ...................\n",
      "[CV]  C=10, decision_function_shape=ovr, kernel=rbf, score=0.5384615384615384, total=   0.0s\n",
      "[CV] C=100, decision_function_shape=ovo, kernel=rbf ..................\n",
      "[CV]  C=100, decision_function_shape=ovo, kernel=rbf, score=0.6538461538461539, total=   0.0s\n",
      "[CV] C=100, decision_function_shape=ovr, kernel=rbf ..................\n",
      "[CV]  C=100, decision_function_shape=ovr, kernel=rbf, score=0.6538461538461539, total=   0.0s\n",
      "[CV] C=1000, decision_function_shape=ovo, kernel=rbf .................\n",
      "[CV]  C=1000, decision_function_shape=ovo, kernel=rbf, score=0.7115384615384616, total=   0.0s\n",
      "[CV] C=1000, decision_function_shape=ovr, kernel=rbf .................\n",
      "[CV]  C=1000, decision_function_shape=ovr, kernel=rbf, score=0.7115384615384616, total=   0.0s\n",
      "3\n"
     ]
    },
    {
     "name": "stderr",
     "output_type": "stream",
     "text": [
      "[Parallel(n_jobs=1)]: Done   1 out of   1 | elapsed:    0.0s remaining:    0.0s\n",
      "[Parallel(n_jobs=1)]: Done   2 out of   2 | elapsed:    0.0s remaining:    0.0s\n",
      "[Parallel(n_jobs=1)]: Done  16 out of  16 | elapsed:    0.1s finished\n"
     ]
    },
    {
     "name": "stdout",
     "output_type": "stream",
     "text": [
      "Fitting 1 folds for each of 16 candidates, totalling 16 fits\n",
      "[CV] C=1, decision_function_shape=ovo, kernel=linear .................\n",
      "[CV]  C=1, decision_function_shape=ovo, kernel=linear, score=0.6538461538461539, total=   0.0s\n",
      "[CV] C=1, decision_function_shape=ovr, kernel=linear .................\n",
      "[CV]  C=1, decision_function_shape=ovr, kernel=linear, score=0.6538461538461539, total=   0.0s\n",
      "[CV] C=10, decision_function_shape=ovo, kernel=linear ................\n",
      "[CV]  C=10, decision_function_shape=ovo, kernel=linear, score=0.7115384615384616, total=   0.0s\n",
      "[CV] C=10, decision_function_shape=ovr, kernel=linear ................\n",
      "[CV]  C=10, decision_function_shape=ovr, kernel=linear, score=0.7115384615384616, total=   0.0s\n",
      "[CV] C=100, decision_function_shape=ovo, kernel=linear ...............\n",
      "[CV]  C=100, decision_function_shape=ovo, kernel=linear, score=0.8653846153846154, total=   0.0s\n",
      "[CV] C=100, decision_function_shape=ovr, kernel=linear ...............\n",
      "[CV]  C=100, decision_function_shape=ovr, kernel=linear, score=0.8653846153846154, total=   0.0s\n",
      "[CV] C=1000, decision_function_shape=ovo, kernel=linear ..............\n",
      "[CV]  C=1000, decision_function_shape=ovo, kernel=linear, score=0.75, total=   0.0s\n",
      "[CV] C=1000, decision_function_shape=ovr, kernel=linear ..............\n",
      "[CV]  C=1000, decision_function_shape=ovr, kernel=linear, score=0.75, total=   0.0s\n",
      "[CV] C=1, decision_function_shape=ovo, kernel=rbf ....................\n",
      "[CV]  C=1, decision_function_shape=ovo, kernel=rbf, score=0.23076923076923078, total=   0.0s\n",
      "[CV] C=1, decision_function_shape=ovr, kernel=rbf ....................\n",
      "[CV]  C=1, decision_function_shape=ovr, kernel=rbf, score=0.23076923076923078, total=   0.0s\n",
      "[CV] C=10, decision_function_shape=ovo, kernel=rbf ...................\n",
      "[CV]  C=10, decision_function_shape=ovo, kernel=rbf, score=0.5576923076923077, total=   0.0s\n",
      "[CV] C=10, decision_function_shape=ovr, kernel=rbf ...................\n",
      "[CV]  C=10, decision_function_shape=ovr, kernel=rbf, score=0.5576923076923077, total=   0.0s\n",
      "[CV] C=100, decision_function_shape=ovo, kernel=rbf ..................\n",
      "[CV]  C=100, decision_function_shape=ovo, kernel=rbf, score=0.75, total=   0.0s\n",
      "[CV] C=100, decision_function_shape=ovr, kernel=rbf ..................\n",
      "[CV]  C=100, decision_function_shape=ovr, kernel=rbf, score=0.75, total=   0.0s\n",
      "[CV] C=1000, decision_function_shape=ovo, kernel=rbf .................\n",
      "[CV]  C=1000, decision_function_shape=ovo, kernel=rbf, score=0.7884615384615384, total=   0.0s\n",
      "[CV] C=1000, decision_function_shape=ovr, kernel=rbf .................\n",
      "[CV]  C=1000, decision_function_shape=ovr, kernel=rbf, score=0.7884615384615384, total=   0.0s"
     ]
    },
    {
     "name": "stderr",
     "output_type": "stream",
     "text": [
      "[Parallel(n_jobs=1)]: Done   1 out of   1 | elapsed:    0.0s remaining:    0.0s\n",
      "[Parallel(n_jobs=1)]: Done   2 out of   2 | elapsed:    0.0s remaining:    0.0s\n",
      "[Parallel(n_jobs=1)]: Done  16 out of  16 | elapsed:    0.1s finished\n"
     ]
    },
    {
     "name": "stdout",
     "output_type": "stream",
     "text": [
      "\n",
      "4\n",
      "Fitting 1 folds for each of 16 candidates, totalling 16 fits\n",
      "[CV] C=1, decision_function_shape=ovo, kernel=linear .................\n",
      "[CV]  C=1, decision_function_shape=ovo, kernel=linear, score=0.6153846153846154, total=   0.0s\n",
      "[CV] C=1, decision_function_shape=ovr, kernel=linear .................\n",
      "[CV]  C=1, decision_function_shape=ovr, kernel=linear, score=0.6153846153846154, total=   0.0s\n",
      "[CV] C=10, decision_function_shape=ovo, kernel=linear ................\n",
      "[CV]  C=10, decision_function_shape=ovo, kernel=linear, score=0.6923076923076923, total=   0.0s\n",
      "[CV] C=10, decision_function_shape=ovr, kernel=linear ................\n",
      "[CV]  C=10, decision_function_shape=ovr, kernel=linear, score=0.6923076923076923, total=   0.0s\n",
      "[CV] C=100, decision_function_shape=ovo, kernel=linear ...............\n",
      "[CV]  C=100, decision_function_shape=ovo, kernel=linear, score=0.75, total=   0.0s\n",
      "[CV] C=100, decision_function_shape=ovr, kernel=linear ...............\n",
      "[CV]  C=100, decision_function_shape=ovr, kernel=linear, score=0.75, total=   0.0s\n",
      "[CV] C=1000, decision_function_shape=ovo, kernel=linear ..............\n",
      "[CV]  C=1000, decision_function_shape=ovo, kernel=linear, score=0.7692307692307693, total=   0.0s\n",
      "[CV] C=1000, decision_function_shape=ovr, kernel=linear ..............\n",
      "[CV]  C=1000, decision_function_shape=ovr, kernel=linear, score=0.7692307692307693, total=   0.0s\n",
      "[CV] C=1, decision_function_shape=ovo, kernel=rbf ....................\n",
      "[CV]  C=1, decision_function_shape=ovo, kernel=rbf, score=0.21153846153846154, total=   0.0s\n",
      "[CV] C=1, decision_function_shape=ovr, kernel=rbf ....................\n",
      "[CV]  C=1, decision_function_shape=ovr, kernel=rbf, score=0.21153846153846154, total=   0.0s\n",
      "[CV] C=10, decision_function_shape=ovo, kernel=rbf ...................\n",
      "[CV]  C=10, decision_function_shape=ovo, kernel=rbf, score=0.5576923076923077, total=   0.0s\n",
      "[CV] C=10, decision_function_shape=ovr, kernel=rbf ...................\n",
      "[CV]  C=10, decision_function_shape=ovr, kernel=rbf, score=0.5576923076923077, total=   0.0s\n",
      "[CV] C=100, decision_function_shape=ovo, kernel=rbf ..................\n",
      "[CV]  C=100, decision_function_shape=ovo, kernel=rbf, score=0.6730769230769231, total=   0.0s\n",
      "[CV] C=100, decision_function_shape=ovr, kernel=rbf ..................\n",
      "[CV]  C=100, decision_function_shape=ovr, kernel=rbf, score=0.6730769230769231, total=   0.0s\n",
      "[CV] C=1000, decision_function_shape=ovo, kernel=rbf .................\n"
     ]
    },
    {
     "name": "stderr",
     "output_type": "stream",
     "text": [
      "[Parallel(n_jobs=1)]: Done   1 out of   1 | elapsed:    0.0s remaining:    0.0s\n",
      "[Parallel(n_jobs=1)]: Done   2 out of   2 | elapsed:    0.0s remaining:    0.0s\n"
     ]
    },
    {
     "name": "stdout",
     "output_type": "stream",
     "text": [
      "[CV]  C=1000, decision_function_shape=ovo, kernel=rbf, score=0.75, total=   0.0s\n",
      "[CV] C=1000, decision_function_shape=ovr, kernel=rbf .................\n",
      "[CV]  C=1000, decision_function_shape=ovr, kernel=rbf, score=0.75, total=   0.0s\n",
      "5\n"
     ]
    },
    {
     "name": "stderr",
     "output_type": "stream",
     "text": [
      "[Parallel(n_jobs=1)]: Done  16 out of  16 | elapsed:    0.1s finished\n"
     ]
    },
    {
     "name": "stdout",
     "output_type": "stream",
     "text": [
      "Fitting 1 folds for each of 16 candidates, totalling 16 fits\n",
      "[CV] C=1, decision_function_shape=ovo, kernel=linear .................\n",
      "[CV]  C=1, decision_function_shape=ovo, kernel=linear, score=0.4807692307692308, total=   0.0s\n",
      "[CV] C=1, decision_function_shape=ovr, kernel=linear .................\n",
      "[CV]  C=1, decision_function_shape=ovr, kernel=linear, score=0.4807692307692308, total=   0.0s\n",
      "[CV] C=10, decision_function_shape=ovo, kernel=linear ................\n",
      "[CV]  C=10, decision_function_shape=ovo, kernel=linear, score=0.6153846153846154, total=   0.0s\n",
      "[CV] C=10, decision_function_shape=ovr, kernel=linear ................\n",
      "[CV]  C=10, decision_function_shape=ovr, kernel=linear, score=0.6153846153846154, total=   0.0s\n",
      "[CV] C=100, decision_function_shape=ovo, kernel=linear ...............\n",
      "[CV]  C=100, decision_function_shape=ovo, kernel=linear, score=0.6153846153846154, total=   0.0s\n",
      "[CV] C=100, decision_function_shape=ovr, kernel=linear ...............\n",
      "[CV]  C=100, decision_function_shape=ovr, kernel=linear, score=0.6153846153846154, total=   0.0s\n",
      "[CV] C=1000, decision_function_shape=ovo, kernel=linear ..............\n",
      "[CV]  C=1000, decision_function_shape=ovo, kernel=linear, score=0.6346153846153846, total=   0.0s\n",
      "[CV] C=1000, decision_function_shape=ovr, kernel=linear ..............\n",
      "[CV]  C=1000, decision_function_shape=ovr, kernel=linear, score=0.6346153846153846, total=   0.0s\n",
      "[CV] C=1, decision_function_shape=ovo, kernel=rbf ....................\n",
      "[CV]  C=1, decision_function_shape=ovo, kernel=rbf, score=0.1346153846153846, total=   0.0s\n",
      "[CV] C=1, decision_function_shape=ovr, kernel=rbf ....................\n",
      "[CV]  C=1, decision_function_shape=ovr, kernel=rbf, score=0.1346153846153846, total=   0.0s\n",
      "[CV] C=10, decision_function_shape=ovo, kernel=rbf ...................\n",
      "[CV]  C=10, decision_function_shape=ovo, kernel=rbf, score=0.5, total=   0.0s\n",
      "[CV] C=10, decision_function_shape=ovr, kernel=rbf ...................\n"
     ]
    },
    {
     "name": "stderr",
     "output_type": "stream",
     "text": [
      "[Parallel(n_jobs=1)]: Done   1 out of   1 | elapsed:    0.0s remaining:    0.0s\n",
      "[Parallel(n_jobs=1)]: Done   2 out of   2 | elapsed:    0.0s remaining:    0.0s\n"
     ]
    },
    {
     "name": "stdout",
     "output_type": "stream",
     "text": [
      "[CV]  C=10, decision_function_shape=ovr, kernel=rbf, score=0.5, total=   0.0s\n",
      "[CV] C=100, decision_function_shape=ovo, kernel=rbf ..................\n",
      "[CV]  C=100, decision_function_shape=ovo, kernel=rbf, score=0.5961538461538461, total=   0.0s\n",
      "[CV] C=100, decision_function_shape=ovr, kernel=rbf ..................\n",
      "[CV]  C=100, decision_function_shape=ovr, kernel=rbf, score=0.5961538461538461, total=   0.0s\n",
      "[CV] C=1000, decision_function_shape=ovo, kernel=rbf .................\n",
      "[CV]  C=1000, decision_function_shape=ovo, kernel=rbf, score=0.6538461538461539, total=   0.0s\n",
      "[CV] C=1000, decision_function_shape=ovr, kernel=rbf .................\n",
      "[CV]  C=1000, decision_function_shape=ovr, kernel=rbf, score=0.6538461538461539, total=   0.0s\n",
      "6\n"
     ]
    },
    {
     "name": "stderr",
     "output_type": "stream",
     "text": [
      "[Parallel(n_jobs=1)]: Done  16 out of  16 | elapsed:    0.2s finished\n"
     ]
    },
    {
     "name": "stdout",
     "output_type": "stream",
     "text": [
      "Fitting 1 folds for each of 16 candidates, totalling 16 fits\n",
      "[CV] C=1, decision_function_shape=ovo, kernel=linear .................\n",
      "[CV]  C=1, decision_function_shape=ovo, kernel=linear, score=0.46153846153846156, total=   0.0s\n",
      "[CV] C=1, decision_function_shape=ovr, kernel=linear .................\n",
      "[CV]  C=1, decision_function_shape=ovr, kernel=linear, score=0.46153846153846156, total=   0.0s\n",
      "[CV] C=10, decision_function_shape=ovo, kernel=linear ................\n",
      "[CV]  C=10, decision_function_shape=ovo, kernel=linear, score=0.6346153846153846, total=   0.0s\n",
      "[CV] C=10, decision_function_shape=ovr, kernel=linear ................\n",
      "[CV]  C=10, decision_function_shape=ovr, kernel=linear, score=0.6346153846153846, total=   0.0s\n",
      "[CV] C=100, decision_function_shape=ovo, kernel=linear ...............\n",
      "[CV]  C=100, decision_function_shape=ovo, kernel=linear, score=0.6538461538461539, total=   0.0s\n",
      "[CV] C=100, decision_function_shape=ovr, kernel=linear ...............\n",
      "[CV]  C=100, decision_function_shape=ovr, kernel=linear, score=0.6538461538461539, total=   0.0s\n",
      "[CV] C=1000, decision_function_shape=ovo, kernel=linear ..............\n",
      "[CV]  C=1000, decision_function_shape=ovo, kernel=linear, score=0.6153846153846154, total=   0.0s\n",
      "[CV] C=1000, decision_function_shape=ovr, kernel=linear ..............\n",
      "[CV]  C=1000, decision_function_shape=ovr, kernel=linear, score=0.6153846153846154, total=   0.0s\n",
      "[CV] C=1, decision_function_shape=ovo, kernel=rbf ....................\n",
      "[CV]  C=1, decision_function_shape=ovo, kernel=rbf, score=0.1346153846153846, total=   0.0s\n",
      "[CV] C=1, decision_function_shape=ovr, kernel=rbf ....................\n"
     ]
    },
    {
     "name": "stderr",
     "output_type": "stream",
     "text": [
      "[Parallel(n_jobs=1)]: Done   1 out of   1 | elapsed:    0.0s remaining:    0.0s\n",
      "[Parallel(n_jobs=1)]: Done   2 out of   2 | elapsed:    0.0s remaining:    0.0s\n"
     ]
    },
    {
     "name": "stdout",
     "output_type": "stream",
     "text": [
      "[CV]  C=1, decision_function_shape=ovr, kernel=rbf, score=0.1346153846153846, total=   0.0s\n",
      "[CV] C=10, decision_function_shape=ovo, kernel=rbf ...................\n",
      "[CV]  C=10, decision_function_shape=ovo, kernel=rbf, score=0.3269230769230769, total=   0.0s\n",
      "[CV] C=10, decision_function_shape=ovr, kernel=rbf ...................\n",
      "[CV]  C=10, decision_function_shape=ovr, kernel=rbf, score=0.3269230769230769, total=   0.0s\n",
      "[CV] C=100, decision_function_shape=ovo, kernel=rbf ..................\n",
      "[CV]  C=100, decision_function_shape=ovo, kernel=rbf, score=0.5, total=   0.0s\n",
      "[CV] C=100, decision_function_shape=ovr, kernel=rbf ..................\n",
      "[CV]  C=100, decision_function_shape=ovr, kernel=rbf, score=0.5, total=   0.0s\n",
      "[CV] C=1000, decision_function_shape=ovo, kernel=rbf .................\n",
      "[CV]  C=1000, decision_function_shape=ovo, kernel=rbf, score=0.6153846153846154, total=   0.0s\n",
      "[CV] C=1000, decision_function_shape=ovr, kernel=rbf .................\n",
      "[CV]  C=1000, decision_function_shape=ovr, kernel=rbf, score=0.6153846153846154, total=   0.0s\n",
      "7\n"
     ]
    },
    {
     "name": "stderr",
     "output_type": "stream",
     "text": [
      "[Parallel(n_jobs=1)]: Done  16 out of  16 | elapsed:    0.2s finished\n",
      "c:\\python36\\lib\\site-packages\\scipy\\stats\\stats.py:3021: RuntimeWarning: invalid value encountered in double_scalars\n",
      "  r = r_num / r_den\n",
      "c:\\python36\\lib\\site-packages\\scipy\\stats\\stats.py:5277: RuntimeWarning: invalid value encountered in less\n",
      "  x = np.where(x < 1.0, x, 1.0)  # if x > 1 then return 1.0\n"
     ]
    },
    {
     "name": "stdout",
     "output_type": "stream",
     "text": [
      "8\n",
      "9\n",
      "10\n",
      "11\n",
      "12\n"
     ]
    }
   ],
   "source": [
    "for nr in frame_numbers:\n",
    "    print(nr)\n",
    "    try:\n",
    "        ori_train_input, ori_train_label = prepare_data(train, nr, 'orientation', verbose=False)\n",
    "        ori_valid_input, ori_valid_label = prepare_data(valid, nr, 'orientation', verbose=False)\n",
    "\n",
    "        svc = GridSearchCV(svm.SVC(random_state=random_seed), parameters, cv=cross_valid, scoring='accuracy',\n",
    "                           verbose=verbose_level, n_jobs=parallel_jobs).fit(\n",
    "                                                                        np.append(ori_train_input, ori_valid_input, axis=0),\n",
    "                                                                        np.append(ori_train_label, ori_valid_label))\n",
    "\n",
    "        own_ori.append((svc.best_score_, nr, svc.best_params_))\n",
    "    \n",
    "    except ValueError as err:\n",
    "        own_ori.append((-1, nr, svc.best_params_))"
   ]
  },
  {
   "cell_type": "markdown",
   "metadata": {
    "collapsed": true
   },
   "source": [
    "### EMG"
   ]
  },
  {
   "cell_type": "code",
   "execution_count": 9,
   "metadata": {},
   "outputs": [
    {
     "name": "stdout",
     "output_type": "stream",
     "text": [
      "1\n",
      "Fitting 1 folds for each of 16 candidates, totalling 16 fits\n",
      "[CV] C=1, decision_function_shape=ovo, kernel=linear .................\n",
      "[CV]  C=1, decision_function_shape=ovo, kernel=linear, score=0.38461538461538464, total=   0.0s\n",
      "[CV] C=1, decision_function_shape=ovr, kernel=linear .................\n",
      "[CV]  C=1, decision_function_shape=ovr, kernel=linear, score=0.38461538461538464, total=   0.0s\n",
      "[CV] C=10, decision_function_shape=ovo, kernel=linear ................\n",
      "[CV]  C=10, decision_function_shape=ovo, kernel=linear, score=0.36538461538461536, total=   0.0s\n",
      "[CV] C=10, decision_function_shape=ovr, kernel=linear ................\n",
      "[CV]  C=10, decision_function_shape=ovr, kernel=linear, score=0.36538461538461536, total=   0.0s\n",
      "[CV] C=100, decision_function_shape=ovo, kernel=linear ...............\n",
      "[CV]  C=100, decision_function_shape=ovo, kernel=linear, score=0.5384615384615384, total=   0.0s\n",
      "[CV] C=100, decision_function_shape=ovr, kernel=linear ...............\n",
      "[CV]  C=100, decision_function_shape=ovr, kernel=linear, score=0.5384615384615384, total=   0.0s\n",
      "[CV] C=1000, decision_function_shape=ovo, kernel=linear ..............\n",
      "[CV]  C=1000, decision_function_shape=ovo, kernel=linear, score=0.5192307692307693, total=   0.0s\n",
      "[CV] C=1000, decision_function_shape=ovr, kernel=linear ..............\n",
      "[CV]  C=1000, decision_function_shape=ovr, kernel=linear, score=0.5192307692307693, total=   0.0s\n",
      "[CV] C=1, decision_function_shape=ovo, kernel=rbf ....................\n",
      "[CV]  C=1, decision_function_shape=ovo, kernel=rbf, score=0.1346153846153846, total=   0.0s\n",
      "[CV] C=1, decision_function_shape=ovr, kernel=rbf ....................\n",
      "[CV]  C=1, decision_function_shape=ovr, kernel=rbf, score=0.1346153846153846, total=   0.0s\n",
      "[CV] C=10, decision_function_shape=ovo, kernel=rbf ...................\n",
      "[CV]  C=10, decision_function_shape=ovo, kernel=rbf, score=0.36538461538461536, total=   0.0s\n",
      "[CV] C=10, decision_function_shape=ovr, kernel=rbf ...................\n",
      "[CV]  C=10, decision_function_shape=ovr, kernel=rbf, score=0.36538461538461536, total=   0.0s\n",
      "[CV] C=100, decision_function_shape=ovo, kernel=rbf ..................\n",
      "[CV]  C=100, decision_function_shape=ovo, kernel=rbf, score=0.4230769230769231, total=   0.0s"
     ]
    },
    {
     "name": "stderr",
     "output_type": "stream",
     "text": [
      "[Parallel(n_jobs=1)]: Done   1 out of   1 | elapsed:    0.0s remaining:    0.0s\n",
      "[Parallel(n_jobs=1)]: Done   2 out of   2 | elapsed:    0.0s remaining:    0.0s\n"
     ]
    },
    {
     "name": "stdout",
     "output_type": "stream",
     "text": [
      "\n",
      "[CV] C=100, decision_function_shape=ovr, kernel=rbf ..................\n",
      "[CV]  C=100, decision_function_shape=ovr, kernel=rbf, score=0.4230769230769231, total=   0.0s\n",
      "[CV] C=1000, decision_function_shape=ovo, kernel=rbf .................\n",
      "[CV]  C=1000, decision_function_shape=ovo, kernel=rbf, score=0.5192307692307693, total=   0.0s\n",
      "[CV] C=1000, decision_function_shape=ovr, kernel=rbf .................\n",
      "[CV]  C=1000, decision_function_shape=ovr, kernel=rbf, score=0.5192307692307693, total=   0.0s\n",
      "2\n"
     ]
    },
    {
     "name": "stderr",
     "output_type": "stream",
     "text": [
      "[Parallel(n_jobs=1)]: Done  16 out of  16 | elapsed:    0.1s finished\n"
     ]
    },
    {
     "name": "stdout",
     "output_type": "stream",
     "text": [
      "Fitting 1 folds for each of 16 candidates, totalling 16 fits\n",
      "[CV] C=1, decision_function_shape=ovo, kernel=linear .................\n",
      "[CV]  C=1, decision_function_shape=ovo, kernel=linear, score=0.4423076923076923, total=   0.0s\n",
      "[CV] C=1, decision_function_shape=ovr, kernel=linear .................\n",
      "[CV]  C=1, decision_function_shape=ovr, kernel=linear, score=0.4423076923076923, total=   0.0s\n",
      "[CV] C=10, decision_function_shape=ovo, kernel=linear ................\n",
      "[CV]  C=10, decision_function_shape=ovo, kernel=linear, score=0.5192307692307693, total=   0.0s\n",
      "[CV] C=10, decision_function_shape=ovr, kernel=linear ................\n",
      "[CV]  C=10, decision_function_shape=ovr, kernel=linear, score=0.5192307692307693, total=   0.0s\n",
      "[CV] C=100, decision_function_shape=ovo, kernel=linear ...............\n",
      "[CV]  C=100, decision_function_shape=ovo, kernel=linear, score=0.5961538461538461, total=   0.0s\n",
      "[CV] C=100, decision_function_shape=ovr, kernel=linear ...............\n",
      "[CV]  C=100, decision_function_shape=ovr, kernel=linear, score=0.5961538461538461, total=   0.0s\n",
      "[CV] C=1000, decision_function_shape=ovo, kernel=linear ..............\n",
      "[CV]  C=1000, decision_function_shape=ovo, kernel=linear, score=0.6346153846153846, total=   0.0s\n",
      "[CV] C=1000, decision_function_shape=ovr, kernel=linear ..............\n",
      "[CV]  C=1000, decision_function_shape=ovr, kernel=linear, score=0.6346153846153846, total=   0.0s\n",
      "[CV] C=1, decision_function_shape=ovo, kernel=rbf ....................\n",
      "[CV]  C=1, decision_function_shape=ovo, kernel=rbf, score=0.1346153846153846, total=   0.0s\n",
      "[CV] C=1, decision_function_shape=ovr, kernel=rbf ....................\n",
      "[CV]  C=1, decision_function_shape=ovr, kernel=rbf, score=0.1346153846153846, total=   0.0s\n",
      "[CV] C=10, decision_function_shape=ovo, kernel=rbf ...................\n",
      "[CV]  C=10, decision_function_shape=ovo, kernel=rbf, score=0.36538461538461536, total=   0.0s\n",
      "[CV] C=10, decision_function_shape=ovr, kernel=rbf ...................\n",
      "[CV]  C=10, decision_function_shape=ovr, kernel=rbf, score=0.36538461538461536, total=   0.0s\n",
      "[CV] C=100, decision_function_shape=ovo, kernel=rbf ..................\n",
      "[CV]  C=100, decision_function_shape=ovo, kernel=rbf, score=0.4423076923076923, total=   0.0s\n",
      "[CV] C=100, decision_function_shape=ovr, kernel=rbf ..................\n",
      "[CV]  C=100, decision_function_shape=ovr, kernel=rbf, score=0.4423076923076923, total=   0.0s\n",
      "[CV] C=1000, decision_function_shape=ovo, kernel=rbf .................\n",
      "[CV]  C=1000, decision_function_shape=ovo, kernel=rbf, score=0.5769230769230769, total=   0.0s\n",
      "[CV] C=1000, decision_function_shape=ovr, kernel=rbf .................\n",
      "[CV]  C=1000, decision_function_shape=ovr, kernel=rbf, score=0.5769230769230769, total=   0.0s"
     ]
    },
    {
     "name": "stderr",
     "output_type": "stream",
     "text": [
      "[Parallel(n_jobs=1)]: Done   1 out of   1 | elapsed:    0.0s remaining:    0.0s\n",
      "[Parallel(n_jobs=1)]: Done   2 out of   2 | elapsed:    0.0s remaining:    0.0s\n",
      "[Parallel(n_jobs=1)]: Done  16 out of  16 | elapsed:    0.1s finished\n"
     ]
    },
    {
     "name": "stdout",
     "output_type": "stream",
     "text": [
      "\n",
      "3\n",
      "Fitting 1 folds for each of 16 candidates, totalling 16 fits\n",
      "[CV] C=1, decision_function_shape=ovo, kernel=linear .................\n",
      "[CV]  C=1, decision_function_shape=ovo, kernel=linear, score=0.6346153846153846, total=   0.0s\n",
      "[CV] C=1, decision_function_shape=ovr, kernel=linear .................\n",
      "[CV]  C=1, decision_function_shape=ovr, kernel=linear, score=0.6346153846153846, total=   0.0s\n",
      "[CV] C=10, decision_function_shape=ovo, kernel=linear ................\n",
      "[CV]  C=10, decision_function_shape=ovo, kernel=linear, score=0.5769230769230769, total=   0.0s\n",
      "[CV] C=10, decision_function_shape=ovr, kernel=linear ................\n",
      "[CV]  C=10, decision_function_shape=ovr, kernel=linear, score=0.5769230769230769, total=   0.0s\n",
      "[CV] C=100, decision_function_shape=ovo, kernel=linear ...............\n",
      "[CV]  C=100, decision_function_shape=ovo, kernel=linear, score=0.6346153846153846, total=   0.0s\n",
      "[CV] C=100, decision_function_shape=ovr, kernel=linear ...............\n",
      "[CV]  C=100, decision_function_shape=ovr, kernel=linear, score=0.6346153846153846, total=   0.0s\n",
      "[CV] C=1000, decision_function_shape=ovo, kernel=linear ..............\n",
      "[CV]  C=1000, decision_function_shape=ovo, kernel=linear, score=0.6730769230769231, total=   0.0s\n",
      "[CV] C=1000, decision_function_shape=ovr, kernel=linear ..............\n",
      "[CV]  C=1000, decision_function_shape=ovr, kernel=linear, score=0.6730769230769231, total=   0.0s\n",
      "[CV] C=1, decision_function_shape=ovo, kernel=rbf ....................\n",
      "[CV]  C=1, decision_function_shape=ovo, kernel=rbf, score=0.1346153846153846, total=   0.0s\n",
      "[CV] C=1, decision_function_shape=ovr, kernel=rbf ....................\n",
      "[CV]  C=1, decision_function_shape=ovr, kernel=rbf, score=0.1346153846153846, total=   0.0s\n",
      "[CV] C=10, decision_function_shape=ovo, kernel=rbf ...................\n",
      "[CV]  C=10, decision_function_shape=ovo, kernel=rbf, score=0.5, total=   0.0s\n",
      "[CV] C=10, decision_function_shape=ovr, kernel=rbf ...................\n",
      "[CV]  C=10, decision_function_shape=ovr, kernel=rbf, score=0.5, total=   0.0s\n",
      "[CV] C=100, decision_function_shape=ovo, kernel=rbf ..................\n",
      "[CV]  C=100, decision_function_shape=ovo, kernel=rbf, score=0.5961538461538461, total=   0.0s\n",
      "[CV] C=100, decision_function_shape=ovr, kernel=rbf ..................\n",
      "[CV]  C=100, decision_function_shape=ovr, kernel=rbf, score=0.5961538461538461, total=   0.0s\n",
      "[CV] C=1000, decision_function_shape=ovo, kernel=rbf .................\n",
      "[CV]  C=1000, decision_function_shape=ovo, kernel=rbf, score=0.6153846153846154, total=   0.0s\n",
      "[CV] C=1000, decision_function_shape=ovr, kernel=rbf .................\n"
     ]
    },
    {
     "name": "stderr",
     "output_type": "stream",
     "text": [
      "[Parallel(n_jobs=1)]: Done   1 out of   1 | elapsed:    0.0s remaining:    0.0s\n",
      "[Parallel(n_jobs=1)]: Done   2 out of   2 | elapsed:    0.0s remaining:    0.0s\n",
      "[Parallel(n_jobs=1)]: Done  16 out of  16 | elapsed:    0.1s finished\n"
     ]
    },
    {
     "name": "stdout",
     "output_type": "stream",
     "text": [
      "[CV]  C=1000, decision_function_shape=ovr, kernel=rbf, score=0.6153846153846154, total=   0.0s\n",
      "4\n",
      "Fitting 1 folds for each of 16 candidates, totalling 16 fits\n",
      "[CV] C=1, decision_function_shape=ovo, kernel=linear .................\n",
      "[CV]  C=1, decision_function_shape=ovo, kernel=linear, score=0.6538461538461539, total=   0.0s\n",
      "[CV] C=1, decision_function_shape=ovr, kernel=linear .................\n",
      "[CV]  C=1, decision_function_shape=ovr, kernel=linear, score=0.6538461538461539, total=   0.0s\n",
      "[CV] C=10, decision_function_shape=ovo, kernel=linear ................\n",
      "[CV]  C=10, decision_function_shape=ovo, kernel=linear, score=0.6346153846153846, total=   0.0s\n",
      "[CV] C=10, decision_function_shape=ovr, kernel=linear ................\n",
      "[CV]  C=10, decision_function_shape=ovr, kernel=linear, score=0.6346153846153846, total=   0.0s\n",
      "[CV] C=100, decision_function_shape=ovo, kernel=linear ...............\n",
      "[CV]  C=100, decision_function_shape=ovo, kernel=linear, score=0.6923076923076923, total=   0.0s\n",
      "[CV] C=100, decision_function_shape=ovr, kernel=linear ...............\n",
      "[CV]  C=100, decision_function_shape=ovr, kernel=linear, score=0.6923076923076923, total=   0.0s\n",
      "[CV] C=1000, decision_function_shape=ovo, kernel=linear ..............\n",
      "[CV]  C=1000, decision_function_shape=ovo, kernel=linear, score=0.6923076923076923, total=   0.0s\n",
      "[CV] C=1000, decision_function_shape=ovr, kernel=linear ..............\n",
      "[CV]  C=1000, decision_function_shape=ovr, kernel=linear, score=0.6923076923076923, total=   0.0s\n",
      "[CV] C=1, decision_function_shape=ovo, kernel=rbf ....................\n",
      "[CV]  C=1, decision_function_shape=ovo, kernel=rbf, score=0.1346153846153846, total=   0.0s\n",
      "[CV] C=1, decision_function_shape=ovr, kernel=rbf ....................\n",
      "[CV]  C=1, decision_function_shape=ovr, kernel=rbf, score=0.1346153846153846, total=   0.0s\n",
      "[CV] C=10, decision_function_shape=ovo, kernel=rbf ...................\n",
      "[CV]  C=10, decision_function_shape=ovo, kernel=rbf, score=0.5192307692307693, total=   0.0s\n",
      "[CV] C=10, decision_function_shape=ovr, kernel=rbf ...................\n",
      "[CV]  C=10, decision_function_shape=ovr, kernel=rbf, score=0.5192307692307693, total=   0.0s\n",
      "[CV] C=100, decision_function_shape=ovo, kernel=rbf ..................\n"
     ]
    },
    {
     "name": "stderr",
     "output_type": "stream",
     "text": [
      "[Parallel(n_jobs=1)]: Done   1 out of   1 | elapsed:    0.0s remaining:    0.0s\n",
      "[Parallel(n_jobs=1)]: Done   2 out of   2 | elapsed:    0.0s remaining:    0.0s\n"
     ]
    },
    {
     "name": "stdout",
     "output_type": "stream",
     "text": [
      "[CV]  C=100, decision_function_shape=ovo, kernel=rbf, score=0.6538461538461539, total=   0.0s\n",
      "[CV] C=100, decision_function_shape=ovr, kernel=rbf ..................\n",
      "[CV]  C=100, decision_function_shape=ovr, kernel=rbf, score=0.6538461538461539, total=   0.0s\n",
      "[CV] C=1000, decision_function_shape=ovo, kernel=rbf .................\n",
      "[CV]  C=1000, decision_function_shape=ovo, kernel=rbf, score=0.6730769230769231, total=   0.0s\n",
      "[CV] C=1000, decision_function_shape=ovr, kernel=rbf .................\n",
      "[CV]  C=1000, decision_function_shape=ovr, kernel=rbf, score=0.6730769230769231, total=   0.0s\n",
      "5\n"
     ]
    },
    {
     "name": "stderr",
     "output_type": "stream",
     "text": [
      "[Parallel(n_jobs=1)]: Done  16 out of  16 | elapsed:    0.1s finished\n"
     ]
    },
    {
     "name": "stdout",
     "output_type": "stream",
     "text": [
      "Fitting 1 folds for each of 16 candidates, totalling 16 fits\n",
      "[CV] C=1, decision_function_shape=ovo, kernel=linear .................\n",
      "[CV]  C=1, decision_function_shape=ovo, kernel=linear, score=0.5576923076923077, total=   0.0s\n",
      "[CV] C=1, decision_function_shape=ovr, kernel=linear .................\n",
      "[CV]  C=1, decision_function_shape=ovr, kernel=linear, score=0.5576923076923077, total=   0.0s\n",
      "[CV] C=10, decision_function_shape=ovo, kernel=linear ................\n",
      "[CV]  C=10, decision_function_shape=ovo, kernel=linear, score=0.6346153846153846, total=   0.0s\n",
      "[CV] C=10, decision_function_shape=ovr, kernel=linear ................\n",
      "[CV]  C=10, decision_function_shape=ovr, kernel=linear, score=0.6346153846153846, total=   0.0s\n",
      "[CV] C=100, decision_function_shape=ovo, kernel=linear ...............\n",
      "[CV]  C=100, decision_function_shape=ovo, kernel=linear, score=0.7115384615384616, total=   0.0s\n",
      "[CV] C=100, decision_function_shape=ovr, kernel=linear ...............\n",
      "[CV]  C=100, decision_function_shape=ovr, kernel=linear, score=0.7115384615384616, total=   0.0s\n",
      "[CV] C=1000, decision_function_shape=ovo, kernel=linear ..............\n",
      "[CV]  C=1000, decision_function_shape=ovo, kernel=linear, score=0.7115384615384616, total=   0.0s\n",
      "[CV] C=1000, decision_function_shape=ovr, kernel=linear ..............\n",
      "[CV]  C=1000, decision_function_shape=ovr, kernel=linear, score=0.7115384615384616, total=   0.0s\n",
      "[CV] C=1, decision_function_shape=ovo, kernel=rbf ....................\n",
      "[CV]  C=1, decision_function_shape=ovo, kernel=rbf, score=0.1346153846153846, total=   0.0s\n",
      "[CV] C=1, decision_function_shape=ovr, kernel=rbf ....................\n",
      "[CV]  C=1, decision_function_shape=ovr, kernel=rbf, score=0.1346153846153846, total=   0.0s\n",
      "[CV] C=10, decision_function_shape=ovo, kernel=rbf ...................\n",
      "[CV]  C=10, decision_function_shape=ovo, kernel=rbf, score=0.5, total=   0.0s\n",
      "[CV] C=10, decision_function_shape=ovr, kernel=rbf ...................\n"
     ]
    },
    {
     "name": "stderr",
     "output_type": "stream",
     "text": [
      "[Parallel(n_jobs=1)]: Done   1 out of   1 | elapsed:    0.0s remaining:    0.0s\n",
      "[Parallel(n_jobs=1)]: Done   2 out of   2 | elapsed:    0.0s remaining:    0.0s\n"
     ]
    },
    {
     "name": "stdout",
     "output_type": "stream",
     "text": [
      "[CV]  C=10, decision_function_shape=ovr, kernel=rbf, score=0.5, total=   0.0s\n",
      "[CV] C=100, decision_function_shape=ovo, kernel=rbf ..................\n",
      "[CV]  C=100, decision_function_shape=ovo, kernel=rbf, score=0.5576923076923077, total=   0.0s\n",
      "[CV] C=100, decision_function_shape=ovr, kernel=rbf ..................\n",
      "[CV]  C=100, decision_function_shape=ovr, kernel=rbf, score=0.5576923076923077, total=   0.0s\n",
      "[CV] C=1000, decision_function_shape=ovo, kernel=rbf .................\n",
      "[CV]  C=1000, decision_function_shape=ovo, kernel=rbf, score=0.7115384615384616, total=   0.0s\n",
      "[CV] C=1000, decision_function_shape=ovr, kernel=rbf .................\n",
      "[CV]  C=1000, decision_function_shape=ovr, kernel=rbf, score=0.7115384615384616, total=   0.0s\n",
      "6\n"
     ]
    },
    {
     "name": "stderr",
     "output_type": "stream",
     "text": [
      "[Parallel(n_jobs=1)]: Done  16 out of  16 | elapsed:    0.2s finished\n"
     ]
    },
    {
     "name": "stdout",
     "output_type": "stream",
     "text": [
      "Fitting 1 folds for each of 16 candidates, totalling 16 fits\n",
      "[CV] C=1, decision_function_shape=ovo, kernel=linear .................\n",
      "[CV]  C=1, decision_function_shape=ovo, kernel=linear, score=0.6153846153846154, total=   0.0s\n",
      "[CV] C=1, decision_function_shape=ovr, kernel=linear .................\n",
      "[CV]  C=1, decision_function_shape=ovr, kernel=linear, score=0.6153846153846154, total=   0.0s\n",
      "[CV] C=10, decision_function_shape=ovo, kernel=linear ................\n",
      "[CV]  C=10, decision_function_shape=ovo, kernel=linear, score=0.7115384615384616, total=   0.0s\n",
      "[CV] C=10, decision_function_shape=ovr, kernel=linear ................\n",
      "[CV]  C=10, decision_function_shape=ovr, kernel=linear, score=0.7115384615384616, total=   0.0s\n",
      "[CV] C=100, decision_function_shape=ovo, kernel=linear ...............\n",
      "[CV]  C=100, decision_function_shape=ovo, kernel=linear, score=0.7692307692307693, total=   0.0s\n",
      "[CV] C=100, decision_function_shape=ovr, kernel=linear ...............\n",
      "[CV]  C=100, decision_function_shape=ovr, kernel=linear, score=0.7692307692307693, total=   0.0s\n",
      "[CV] C=1000, decision_function_shape=ovo, kernel=linear ..............\n",
      "[CV]  C=1000, decision_function_shape=ovo, kernel=linear, score=0.7692307692307693, total=   0.0s\n",
      "[CV] C=1000, decision_function_shape=ovr, kernel=linear ..............\n",
      "[CV]  C=1000, decision_function_shape=ovr, kernel=linear, score=0.7692307692307693, total=   0.0s\n",
      "[CV] C=1, decision_function_shape=ovo, kernel=rbf ....................\n",
      "[CV]  C=1, decision_function_shape=ovo, kernel=rbf, score=0.1346153846153846, total=   0.0s\n",
      "[CV] C=1, decision_function_shape=ovr, kernel=rbf ....................\n",
      "[CV]  C=1, decision_function_shape=ovr, kernel=rbf, score=0.1346153846153846, total=   0.0s\n",
      "[CV] C=10, decision_function_shape=ovo, kernel=rbf ...................\n"
     ]
    },
    {
     "name": "stderr",
     "output_type": "stream",
     "text": [
      "[Parallel(n_jobs=1)]: Done   1 out of   1 | elapsed:    0.0s remaining:    0.0s\n",
      "[Parallel(n_jobs=1)]: Done   2 out of   2 | elapsed:    0.0s remaining:    0.0s\n"
     ]
    },
    {
     "name": "stdout",
     "output_type": "stream",
     "text": [
      "[CV]  C=10, decision_function_shape=ovo, kernel=rbf, score=0.5769230769230769, total=   0.0s\n",
      "[CV] C=10, decision_function_shape=ovr, kernel=rbf ...................\n",
      "[CV]  C=10, decision_function_shape=ovr, kernel=rbf, score=0.5769230769230769, total=   0.0s\n",
      "[CV] C=100, decision_function_shape=ovo, kernel=rbf ..................\n",
      "[CV]  C=100, decision_function_shape=ovo, kernel=rbf, score=0.6346153846153846, total=   0.0s\n",
      "[CV] C=100, decision_function_shape=ovr, kernel=rbf ..................\n",
      "[CV]  C=100, decision_function_shape=ovr, kernel=rbf, score=0.6346153846153846, total=   0.0s\n",
      "[CV] C=1000, decision_function_shape=ovo, kernel=rbf .................\n",
      "[CV]  C=1000, decision_function_shape=ovo, kernel=rbf, score=0.7307692307692307, total=   0.0s\n",
      "[CV] C=1000, decision_function_shape=ovr, kernel=rbf .................\n",
      "[CV]  C=1000, decision_function_shape=ovr, kernel=rbf, score=0.7307692307692307, total=   0.0s\n",
      "7\n"
     ]
    },
    {
     "name": "stderr",
     "output_type": "stream",
     "text": [
      "[Parallel(n_jobs=1)]: Done  16 out of  16 | elapsed:    0.2s finished\n"
     ]
    },
    {
     "name": "stdout",
     "output_type": "stream",
     "text": [
      "Fitting 1 folds for each of 16 candidates, totalling 16 fits\n",
      "[CV] C=1, decision_function_shape=ovo, kernel=linear .................\n",
      "[CV]  C=1, decision_function_shape=ovo, kernel=linear, score=0.6346153846153846, total=   0.0s\n",
      "[CV] C=1, decision_function_shape=ovr, kernel=linear .................\n",
      "[CV]  C=1, decision_function_shape=ovr, kernel=linear, score=0.6346153846153846, total=   0.0s\n",
      "[CV] C=10, decision_function_shape=ovo, kernel=linear ................\n",
      "[CV]  C=10, decision_function_shape=ovo, kernel=linear, score=0.6730769230769231, total=   0.0s\n",
      "[CV] C=10, decision_function_shape=ovr, kernel=linear ................\n",
      "[CV]  C=10, decision_function_shape=ovr, kernel=linear, score=0.6730769230769231, total=   0.0s\n",
      "[CV] C=100, decision_function_shape=ovo, kernel=linear ...............\n",
      "[CV]  C=100, decision_function_shape=ovo, kernel=linear, score=0.6923076923076923, total=   0.0s\n",
      "[CV] C=100, decision_function_shape=ovr, kernel=linear ...............\n",
      "[CV]  C=100, decision_function_shape=ovr, kernel=linear, score=0.6923076923076923, total=   0.0s\n",
      "[CV] C=1000, decision_function_shape=ovo, kernel=linear ..............\n",
      "[CV]  C=1000, decision_function_shape=ovo, kernel=linear, score=0.6923076923076923, total=   0.0s\n",
      "[CV] C=1000, decision_function_shape=ovr, kernel=linear ..............\n",
      "[CV]  C=1000, decision_function_shape=ovr, kernel=linear, score=0.6923076923076923, total=   0.0s\n",
      "[CV] C=1, decision_function_shape=ovo, kernel=rbf ....................\n",
      "[CV]  C=1, decision_function_shape=ovo, kernel=rbf, score=0.1346153846153846, total=   0.0s\n",
      "[CV] C=1, decision_function_shape=ovr, kernel=rbf ....................\n"
     ]
    },
    {
     "name": "stderr",
     "output_type": "stream",
     "text": [
      "[Parallel(n_jobs=1)]: Done   1 out of   1 | elapsed:    0.0s remaining:    0.0s\n",
      "[Parallel(n_jobs=1)]: Done   2 out of   2 | elapsed:    0.0s remaining:    0.0s\n"
     ]
    },
    {
     "name": "stdout",
     "output_type": "stream",
     "text": [
      "[CV]  C=1, decision_function_shape=ovr, kernel=rbf, score=0.1346153846153846, total=   0.0s\n",
      "[CV] C=10, decision_function_shape=ovo, kernel=rbf ...................\n",
      "[CV]  C=10, decision_function_shape=ovo, kernel=rbf, score=0.5384615384615384, total=   0.0s\n",
      "[CV] C=10, decision_function_shape=ovr, kernel=rbf ...................\n",
      "[CV]  C=10, decision_function_shape=ovr, kernel=rbf, score=0.5384615384615384, total=   0.0s\n",
      "[CV] C=100, decision_function_shape=ovo, kernel=rbf ..................\n",
      "[CV]  C=100, decision_function_shape=ovo, kernel=rbf, score=0.6153846153846154, total=   0.0s\n",
      "[CV] C=100, decision_function_shape=ovr, kernel=rbf ..................\n",
      "[CV]  C=100, decision_function_shape=ovr, kernel=rbf, score=0.6153846153846154, total=   0.0s\n",
      "[CV] C=1000, decision_function_shape=ovo, kernel=rbf .................\n",
      "[CV]  C=1000, decision_function_shape=ovo, kernel=rbf, score=0.6923076923076923, total=   0.0s\n",
      "[CV] C=1000, decision_function_shape=ovr, kernel=rbf .................\n",
      "[CV]  C=1000, decision_function_shape=ovr, kernel=rbf, score=0.6923076923076923, total=   0.0s\n",
      "8\n"
     ]
    },
    {
     "name": "stderr",
     "output_type": "stream",
     "text": [
      "[Parallel(n_jobs=1)]: Done  16 out of  16 | elapsed:    0.3s finished\n"
     ]
    },
    {
     "name": "stdout",
     "output_type": "stream",
     "text": [
      "Fitting 1 folds for each of 16 candidates, totalling 16 fits\n",
      "[CV] C=1, decision_function_shape=ovo, kernel=linear .................\n",
      "[CV]  C=1, decision_function_shape=ovo, kernel=linear, score=0.5961538461538461, total=   0.0s\n",
      "[CV] C=1, decision_function_shape=ovr, kernel=linear .................\n",
      "[CV]  C=1, decision_function_shape=ovr, kernel=linear, score=0.5961538461538461, total=   0.0s\n",
      "[CV] C=10, decision_function_shape=ovo, kernel=linear ................\n",
      "[CV]  C=10, decision_function_shape=ovo, kernel=linear, score=0.7115384615384616, total=   0.0s\n",
      "[CV] C=10, decision_function_shape=ovr, kernel=linear ................\n",
      "[CV]  C=10, decision_function_shape=ovr, kernel=linear, score=0.7115384615384616, total=   0.0s\n",
      "[CV] C=100, decision_function_shape=ovo, kernel=linear ...............\n",
      "[CV]  C=100, decision_function_shape=ovo, kernel=linear, score=0.7692307692307693, total=   0.0s\n",
      "[CV] C=100, decision_function_shape=ovr, kernel=linear ...............\n",
      "[CV]  C=100, decision_function_shape=ovr, kernel=linear, score=0.7692307692307693, total=   0.0s\n",
      "[CV] C=1000, decision_function_shape=ovo, kernel=linear ..............\n",
      "[CV]  C=1000, decision_function_shape=ovo, kernel=linear, score=0.7692307692307693, total=   0.0s\n",
      "[CV] C=1000, decision_function_shape=ovr, kernel=linear ..............\n",
      "[CV]  C=1000, decision_function_shape=ovr, kernel=linear, score=0.7692307692307693, total=   0.0s\n",
      "[CV] C=1, decision_function_shape=ovo, kernel=rbf ....................\n"
     ]
    },
    {
     "name": "stderr",
     "output_type": "stream",
     "text": [
      "[Parallel(n_jobs=1)]: Done   1 out of   1 | elapsed:    0.0s remaining:    0.0s\n",
      "[Parallel(n_jobs=1)]: Done   2 out of   2 | elapsed:    0.0s remaining:    0.0s\n"
     ]
    },
    {
     "name": "stdout",
     "output_type": "stream",
     "text": [
      "[CV]  C=1, decision_function_shape=ovo, kernel=rbf, score=0.1346153846153846, total=   0.0s\n",
      "[CV] C=1, decision_function_shape=ovr, kernel=rbf ....................\n",
      "[CV]  C=1, decision_function_shape=ovr, kernel=rbf, score=0.1346153846153846, total=   0.0s\n",
      "[CV] C=10, decision_function_shape=ovo, kernel=rbf ...................\n",
      "[CV]  C=10, decision_function_shape=ovo, kernel=rbf, score=0.5384615384615384, total=   0.0s\n",
      "[CV] C=10, decision_function_shape=ovr, kernel=rbf ...................\n",
      "[CV]  C=10, decision_function_shape=ovr, kernel=rbf, score=0.5384615384615384, total=   0.0s\n",
      "[CV] C=100, decision_function_shape=ovo, kernel=rbf ..................\n",
      "[CV]  C=100, decision_function_shape=ovo, kernel=rbf, score=0.5961538461538461, total=   0.0s\n",
      "[CV] C=100, decision_function_shape=ovr, kernel=rbf ..................\n",
      "[CV]  C=100, decision_function_shape=ovr, kernel=rbf, score=0.5961538461538461, total=   0.0s\n",
      "[CV] C=1000, decision_function_shape=ovo, kernel=rbf .................\n",
      "[CV]  C=1000, decision_function_shape=ovo, kernel=rbf, score=0.7307692307692307, total=   0.0s\n",
      "[CV] C=1000, decision_function_shape=ovr, kernel=rbf .................\n",
      "[CV]  C=1000, decision_function_shape=ovr, kernel=rbf, score=0.7307692307692307, total=   0.0s\n",
      "9\n"
     ]
    },
    {
     "name": "stderr",
     "output_type": "stream",
     "text": [
      "[Parallel(n_jobs=1)]: Done  16 out of  16 | elapsed:    0.3s finished\n"
     ]
    },
    {
     "name": "stdout",
     "output_type": "stream",
     "text": [
      "Fitting 1 folds for each of 16 candidates, totalling 16 fits\n",
      "[CV] C=1, decision_function_shape=ovo, kernel=linear .................\n",
      "[CV]  C=1, decision_function_shape=ovo, kernel=linear, score=0.6730769230769231, total=   0.0s\n",
      "[CV] C=1, decision_function_shape=ovr, kernel=linear .................\n",
      "[CV]  C=1, decision_function_shape=ovr, kernel=linear, score=0.6730769230769231, total=   0.0s\n",
      "[CV] C=10, decision_function_shape=ovo, kernel=linear ................\n",
      "[CV]  C=10, decision_function_shape=ovo, kernel=linear, score=0.7692307692307693, total=   0.0s\n",
      "[CV] C=10, decision_function_shape=ovr, kernel=linear ................\n",
      "[CV]  C=10, decision_function_shape=ovr, kernel=linear, score=0.7692307692307693, total=   0.0s\n",
      "[CV] C=100, decision_function_shape=ovo, kernel=linear ...............\n",
      "[CV]  C=100, decision_function_shape=ovo, kernel=linear, score=0.7692307692307693, total=   0.0s\n",
      "[CV] C=100, decision_function_shape=ovr, kernel=linear ...............\n",
      "[CV]  C=100, decision_function_shape=ovr, kernel=linear, score=0.7692307692307693, total=   0.0s\n",
      "[CV] C=1000, decision_function_shape=ovo, kernel=linear ..............\n",
      "[CV]  C=1000, decision_function_shape=ovo, kernel=linear, score=0.7692307692307693, total=   0.0s\n",
      "[CV] C=1000, decision_function_shape=ovr, kernel=linear ..............\n",
      "[CV]  C=1000, decision_function_shape=ovr, kernel=linear, score=0.7692307692307693, total=   0.0s\n",
      "[CV] C=1, decision_function_shape=ovo, kernel=rbf ....................\n"
     ]
    },
    {
     "name": "stderr",
     "output_type": "stream",
     "text": [
      "[Parallel(n_jobs=1)]: Done   1 out of   1 | elapsed:    0.0s remaining:    0.0s\n",
      "[Parallel(n_jobs=1)]: Done   2 out of   2 | elapsed:    0.0s remaining:    0.0s\n"
     ]
    },
    {
     "name": "stdout",
     "output_type": "stream",
     "text": [
      "[CV]  C=1, decision_function_shape=ovo, kernel=rbf, score=0.1346153846153846, total=   0.0s\n",
      "[CV] C=1, decision_function_shape=ovr, kernel=rbf ....................\n",
      "[CV]  C=1, decision_function_shape=ovr, kernel=rbf, score=0.1346153846153846, total=   0.0s\n",
      "[CV] C=10, decision_function_shape=ovo, kernel=rbf ...................\n",
      "[CV]  C=10, decision_function_shape=ovo, kernel=rbf, score=0.5384615384615384, total=   0.0s\n",
      "[CV] C=10, decision_function_shape=ovr, kernel=rbf ...................\n",
      "[CV]  C=10, decision_function_shape=ovr, kernel=rbf, score=0.5384615384615384, total=   0.0s\n",
      "[CV] C=100, decision_function_shape=ovo, kernel=rbf ..................\n",
      "[CV]  C=100, decision_function_shape=ovo, kernel=rbf, score=0.6730769230769231, total=   0.0s\n",
      "[CV] C=100, decision_function_shape=ovr, kernel=rbf ..................\n",
      "[CV]  C=100, decision_function_shape=ovr, kernel=rbf, score=0.6730769230769231, total=   0.0s\n",
      "[CV] C=1000, decision_function_shape=ovo, kernel=rbf .................\n",
      "[CV]  C=1000, decision_function_shape=ovo, kernel=rbf, score=0.7692307692307693, total=   0.0s\n",
      "[CV] C=1000, decision_function_shape=ovr, kernel=rbf .................\n",
      "[CV]  C=1000, decision_function_shape=ovr, kernel=rbf, score=0.7692307692307693, total=   0.0s"
     ]
    },
    {
     "name": "stderr",
     "output_type": "stream",
     "text": [
      "[Parallel(n_jobs=1)]: Done  16 out of  16 | elapsed:    0.3s finished\n"
     ]
    },
    {
     "name": "stdout",
     "output_type": "stream",
     "text": [
      "\n",
      "10\n",
      "Fitting 1 folds for each of 16 candidates, totalling 16 fits\n",
      "[CV] C=1, decision_function_shape=ovo, kernel=linear .................\n",
      "[CV]  C=1, decision_function_shape=ovo, kernel=linear, score=0.7307692307692307, total=   0.0s\n",
      "[CV] C=1, decision_function_shape=ovr, kernel=linear .................\n",
      "[CV]  C=1, decision_function_shape=ovr, kernel=linear, score=0.7307692307692307, total=   0.0s\n",
      "[CV] C=10, decision_function_shape=ovo, kernel=linear ................\n",
      "[CV]  C=10, decision_function_shape=ovo, kernel=linear, score=0.75, total=   0.0s\n",
      "[CV] C=10, decision_function_shape=ovr, kernel=linear ................\n",
      "[CV]  C=10, decision_function_shape=ovr, kernel=linear, score=0.75, total=   0.0s\n",
      "[CV] C=100, decision_function_shape=ovo, kernel=linear ...............\n",
      "[CV]  C=100, decision_function_shape=ovo, kernel=linear, score=0.75, total=   0.0s\n",
      "[CV] C=100, decision_function_shape=ovr, kernel=linear ...............\n",
      "[CV]  C=100, decision_function_shape=ovr, kernel=linear, score=0.75, total=   0.0s\n",
      "[CV] C=1000, decision_function_shape=ovo, kernel=linear ..............\n",
      "[CV]  C=1000, decision_function_shape=ovo, kernel=linear, score=0.75, total=   0.0s\n",
      "[CV] C=1000, decision_function_shape=ovr, kernel=linear ..............\n"
     ]
    },
    {
     "name": "stderr",
     "output_type": "stream",
     "text": [
      "[Parallel(n_jobs=1)]: Done   1 out of   1 | elapsed:    0.0s remaining:    0.0s\n",
      "[Parallel(n_jobs=1)]: Done   2 out of   2 | elapsed:    0.0s remaining:    0.0s\n"
     ]
    },
    {
     "name": "stdout",
     "output_type": "stream",
     "text": [
      "[CV]  C=1000, decision_function_shape=ovr, kernel=linear, score=0.75, total=   0.0s\n",
      "[CV] C=1, decision_function_shape=ovo, kernel=rbf ....................\n",
      "[CV]  C=1, decision_function_shape=ovo, kernel=rbf, score=0.1346153846153846, total=   0.0s\n",
      "[CV] C=1, decision_function_shape=ovr, kernel=rbf ....................\n",
      "[CV]  C=1, decision_function_shape=ovr, kernel=rbf, score=0.1346153846153846, total=   0.0s\n",
      "[CV] C=10, decision_function_shape=ovo, kernel=rbf ...................\n",
      "[CV]  C=10, decision_function_shape=ovo, kernel=rbf, score=0.5384615384615384, total=   0.0s\n",
      "[CV] C=10, decision_function_shape=ovr, kernel=rbf ...................\n",
      "[CV]  C=10, decision_function_shape=ovr, kernel=rbf, score=0.5384615384615384, total=   0.0s\n",
      "[CV] C=100, decision_function_shape=ovo, kernel=rbf ..................\n",
      "[CV]  C=100, decision_function_shape=ovo, kernel=rbf, score=0.6346153846153846, total=   0.0s\n",
      "[CV] C=100, decision_function_shape=ovr, kernel=rbf ..................\n",
      "[CV]  C=100, decision_function_shape=ovr, kernel=rbf, score=0.6346153846153846, total=   0.0s\n",
      "[CV] C=1000, decision_function_shape=ovo, kernel=rbf .................\n",
      "[CV]  C=1000, decision_function_shape=ovo, kernel=rbf, score=0.75, total=   0.0s\n",
      "[CV] C=1000, decision_function_shape=ovr, kernel=rbf .................\n",
      "[CV]  C=1000, decision_function_shape=ovr, kernel=rbf, score=0.75, total=   0.0s\n",
      "11\n"
     ]
    },
    {
     "name": "stderr",
     "output_type": "stream",
     "text": [
      "[Parallel(n_jobs=1)]: Done  16 out of  16 | elapsed:    0.4s finished\n"
     ]
    },
    {
     "name": "stdout",
     "output_type": "stream",
     "text": [
      "Fitting 1 folds for each of 16 candidates, totalling 16 fits\n",
      "[CV] C=1, decision_function_shape=ovo, kernel=linear .................\n",
      "[CV]  C=1, decision_function_shape=ovo, kernel=linear, score=0.6923076923076923, total=   0.0s\n",
      "[CV] C=1, decision_function_shape=ovr, kernel=linear .................\n",
      "[CV]  C=1, decision_function_shape=ovr, kernel=linear, score=0.6923076923076923, total=   0.0s\n",
      "[CV] C=10, decision_function_shape=ovo, kernel=linear ................\n",
      "[CV]  C=10, decision_function_shape=ovo, kernel=linear, score=0.75, total=   0.0s\n",
      "[CV] C=10, decision_function_shape=ovr, kernel=linear ................\n",
      "[CV]  C=10, decision_function_shape=ovr, kernel=linear, score=0.75, total=   0.0s\n",
      "[CV] C=100, decision_function_shape=ovo, kernel=linear ...............\n",
      "[CV]  C=100, decision_function_shape=ovo, kernel=linear, score=0.7307692307692307, total=   0.0s\n",
      "[CV] C=100, decision_function_shape=ovr, kernel=linear ...............\n",
      "[CV]  C=100, decision_function_shape=ovr, kernel=linear, score=0.7307692307692307, total=   0.0s\n",
      "[CV] C=1000, decision_function_shape=ovo, kernel=linear ..............\n",
      "[CV]  C=1000, decision_function_shape=ovo, kernel=linear, score=0.7307692307692307, total=   0.0s\n",
      "[CV] C=1000, decision_function_shape=ovr, kernel=linear ..............\n",
      "[CV]  C=1000, decision_function_shape=ovr, kernel=linear, score=0.7307692307692307, total=   0.0s"
     ]
    },
    {
     "name": "stderr",
     "output_type": "stream",
     "text": [
      "[Parallel(n_jobs=1)]: Done   1 out of   1 | elapsed:    0.0s remaining:    0.0s\n",
      "[Parallel(n_jobs=1)]: Done   2 out of   2 | elapsed:    0.0s remaining:    0.0s\n"
     ]
    },
    {
     "name": "stdout",
     "output_type": "stream",
     "text": [
      "\n",
      "[CV] C=1, decision_function_shape=ovo, kernel=rbf ....................\n",
      "[CV]  C=1, decision_function_shape=ovo, kernel=rbf, score=0.1346153846153846, total=   0.0s\n",
      "[CV] C=1, decision_function_shape=ovr, kernel=rbf ....................\n",
      "[CV]  C=1, decision_function_shape=ovr, kernel=rbf, score=0.1346153846153846, total=   0.0s\n",
      "[CV] C=10, decision_function_shape=ovo, kernel=rbf ...................\n",
      "[CV]  C=10, decision_function_shape=ovo, kernel=rbf, score=0.5961538461538461, total=   0.0s\n",
      "[CV] C=10, decision_function_shape=ovr, kernel=rbf ...................\n",
      "[CV]  C=10, decision_function_shape=ovr, kernel=rbf, score=0.5961538461538461, total=   0.0s\n",
      "[CV] C=100, decision_function_shape=ovo, kernel=rbf ..................\n",
      "[CV]  C=100, decision_function_shape=ovo, kernel=rbf, score=0.6923076923076923, total=   0.0s\n",
      "[CV] C=100, decision_function_shape=ovr, kernel=rbf ..................\n",
      "[CV]  C=100, decision_function_shape=ovr, kernel=rbf, score=0.6923076923076923, total=   0.0s\n",
      "[CV] C=1000, decision_function_shape=ovo, kernel=rbf .................\n",
      "[CV]  C=1000, decision_function_shape=ovo, kernel=rbf, score=0.7884615384615384, total=   0.0s\n",
      "[CV] C=1000, decision_function_shape=ovr, kernel=rbf .................\n",
      "[CV]  C=1000, decision_function_shape=ovr, kernel=rbf, score=0.7884615384615384, total=   0.0s\n",
      "12\n"
     ]
    },
    {
     "name": "stderr",
     "output_type": "stream",
     "text": [
      "[Parallel(n_jobs=1)]: Done  16 out of  16 | elapsed:    0.4s finished\n"
     ]
    },
    {
     "name": "stdout",
     "output_type": "stream",
     "text": [
      "Fitting 1 folds for each of 16 candidates, totalling 16 fits\n",
      "[CV] C=1, decision_function_shape=ovo, kernel=linear .................\n",
      "[CV]  C=1, decision_function_shape=ovo, kernel=linear, score=0.7692307692307693, total=   0.0s\n",
      "[CV] C=1, decision_function_shape=ovr, kernel=linear .................\n",
      "[CV]  C=1, decision_function_shape=ovr, kernel=linear, score=0.7692307692307693, total=   0.0s\n",
      "[CV] C=10, decision_function_shape=ovo, kernel=linear ................\n",
      "[CV]  C=10, decision_function_shape=ovo, kernel=linear, score=0.7692307692307693, total=   0.0s\n",
      "[CV] C=10, decision_function_shape=ovr, kernel=linear ................\n",
      "[CV]  C=10, decision_function_shape=ovr, kernel=linear, score=0.7692307692307693, total=   0.0s\n",
      "[CV] C=100, decision_function_shape=ovo, kernel=linear ...............\n",
      "[CV]  C=100, decision_function_shape=ovo, kernel=linear, score=0.7692307692307693, total=   0.0s\n",
      "[CV] C=100, decision_function_shape=ovr, kernel=linear ...............\n",
      "[CV]  C=100, decision_function_shape=ovr, kernel=linear, score=0.7692307692307693, total=   0.0s\n",
      "[CV] C=1000, decision_function_shape=ovo, kernel=linear ..............\n",
      "[CV]  C=1000, decision_function_shape=ovo, kernel=linear, score=0.7692307692307693, total=   0.0s"
     ]
    },
    {
     "name": "stderr",
     "output_type": "stream",
     "text": [
      "[Parallel(n_jobs=1)]: Done   1 out of   1 | elapsed:    0.0s remaining:    0.0s\n",
      "[Parallel(n_jobs=1)]: Done   2 out of   2 | elapsed:    0.0s remaining:    0.0s\n"
     ]
    },
    {
     "name": "stdout",
     "output_type": "stream",
     "text": [
      "\n",
      "[CV] C=1000, decision_function_shape=ovr, kernel=linear ..............\n",
      "[CV]  C=1000, decision_function_shape=ovr, kernel=linear, score=0.7692307692307693, total=   0.0s\n",
      "[CV] C=1, decision_function_shape=ovo, kernel=rbf ....................\n",
      "[CV]  C=1, decision_function_shape=ovo, kernel=rbf, score=0.1346153846153846, total=   0.0s\n",
      "[CV] C=1, decision_function_shape=ovr, kernel=rbf ....................\n",
      "[CV]  C=1, decision_function_shape=ovr, kernel=rbf, score=0.1346153846153846, total=   0.0s\n",
      "[CV] C=10, decision_function_shape=ovo, kernel=rbf ...................\n",
      "[CV]  C=10, decision_function_shape=ovo, kernel=rbf, score=0.5384615384615384, total=   0.0s\n",
      "[CV] C=10, decision_function_shape=ovr, kernel=rbf ...................\n",
      "[CV]  C=10, decision_function_shape=ovr, kernel=rbf, score=0.5384615384615384, total=   0.0s\n",
      "[CV] C=100, decision_function_shape=ovo, kernel=rbf ..................\n",
      "[CV]  C=100, decision_function_shape=ovo, kernel=rbf, score=0.7307692307692307, total=   0.0s\n",
      "[CV] C=100, decision_function_shape=ovr, kernel=rbf ..................\n",
      "[CV]  C=100, decision_function_shape=ovr, kernel=rbf, score=0.7307692307692307, total=   0.0s\n",
      "[CV] C=1000, decision_function_shape=ovo, kernel=rbf .................\n",
      "[CV]  C=1000, decision_function_shape=ovo, kernel=rbf, score=0.7692307692307693, total=   0.0s\n",
      "[CV] C=1000, decision_function_shape=ovr, kernel=rbf .................\n",
      "[CV]  C=1000, decision_function_shape=ovr, kernel=rbf, score=0.7692307692307693, total=   0.0s\n"
     ]
    },
    {
     "name": "stderr",
     "output_type": "stream",
     "text": [
      "[Parallel(n_jobs=1)]: Done  16 out of  16 | elapsed:    0.4s finished\n"
     ]
    }
   ],
   "source": [
    "for nr in frame_numbers:\n",
    "    print(nr)\n",
    "    try:\n",
    "        emg_train_input, emg_train_label = prepare_data(train, nr, 'emg', verbose=False)\n",
    "        emg_valid_input, emg_valid_label = prepare_data(valid, nr, 'emg', verbose=False)\n",
    "\n",
    "        svc = GridSearchCV(svm.SVC(random_state=random_seed), parameters, cv=cross_valid, scoring='accuracy',\n",
    "                           verbose=verbose_level, n_jobs=parallel_jobs).fit(\n",
    "                                                                        np.append(emg_train_input, emg_valid_input, axis=0),\n",
    "                                                                        np.append(emg_train_label, emg_valid_label))\n",
    "\n",
    "        own_emg.append((svc.best_score_, nr, svc.best_params_))\n",
    "\n",
    "    except ValueError as err:\n",
    "        own_emg.append((-1, nr, svc.best_params_))"
   ]
  },
  {
   "cell_type": "code",
   "execution_count": 10,
   "metadata": {},
   "outputs": [
    {
     "name": "stdout",
     "output_type": "stream",
     "text": [
      "(1.0, 5, {'C': 1000, 'decision_function_shape': 'ovo', 'kernel': 'rbf'})\n",
      "(0.92307692307692313, 10, {'C': 100, 'decision_function_shape': 'ovo', 'kernel': 'linear'})\n",
      "(0.86538461538461542, 3, {'C': 100, 'decision_function_shape': 'ovo', 'kernel': 'linear'})\n",
      "(0.78846153846153844, 11, {'C': 1000, 'decision_function_shape': 'ovo', 'kernel': 'rbf'})\n"
     ]
    }
   ],
   "source": [
    "print(sorted(own_acc, reverse=True)[0], end='\\n')\n",
    "print(sorted(own_gyro, reverse=True)[0], end='\\n')\n",
    "print(sorted(own_ori, reverse=True)[0], end='\\n')\n",
    "print(sorted(own_emg, reverse=True)[0], end='\\n')"
   ]
  },
  {
   "cell_type": "markdown",
   "metadata": {},
   "source": [
    "## Parametertest - paper"
   ]
  },
  {
   "cell_type": "code",
   "execution_count": 11,
   "metadata": {
    "collapsed": true
   },
   "outputs": [],
   "source": [
    "train, valid, test = load_data_for_classification('paper')\n",
    "\n",
    "# lists will be filled with (accuracy, frame_number, params)\n",
    "paper_acc = []\n",
    "paper_gyro = []\n",
    "paper_ori = []\n",
    "paper_emg = []"
   ]
  },
  {
   "cell_type": "markdown",
   "metadata": {},
   "source": [
    "### Accelerometer"
   ]
  },
  {
   "cell_type": "code",
   "execution_count": 12,
   "metadata": {
    "scrolled": true
   },
   "outputs": [
    {
     "name": "stdout",
     "output_type": "stream",
     "text": [
      "1\n",
      "Fitting 1 folds for each of 16 candidates, totalling 16 fits\n",
      "[CV] C=1, decision_function_shape=ovo, kernel=linear .................\n",
      "[CV]  C=1, decision_function_shape=ovo, kernel=linear, score=0.08333333333333333, total=   0.0s\n",
      "[CV] C=1, decision_function_shape=ovr, kernel=linear .................\n",
      "[CV]  C=1, decision_function_shape=ovr, kernel=linear, score=0.08333333333333333, total=   0.0s\n",
      "[CV] C=10, decision_function_shape=ovo, kernel=linear ................\n",
      "[CV]  C=10, decision_function_shape=ovo, kernel=linear, score=0.15384615384615385, total=   0.0s\n",
      "[CV] C=10, decision_function_shape=ovr, kernel=linear ................\n",
      "[CV]  C=10, decision_function_shape=ovr, kernel=linear, score=0.15384615384615385, total=   0.0s\n",
      "[CV] C=100, decision_function_shape=ovo, kernel=linear ...............\n",
      "[CV]  C=100, decision_function_shape=ovo, kernel=linear, score=0.17307692307692307, total=   0.0s\n",
      "[CV] C=100, decision_function_shape=ovr, kernel=linear ...............\n",
      "[CV]  C=100, decision_function_shape=ovr, kernel=linear, score=0.17307692307692307, total=   0.0s"
     ]
    },
    {
     "name": "stderr",
     "output_type": "stream",
     "text": [
      "[Parallel(n_jobs=1)]: Done   1 out of   1 | elapsed:    0.0s remaining:    0.0s\n",
      "[Parallel(n_jobs=1)]: Done   2 out of   2 | elapsed:    0.0s remaining:    0.0s\n"
     ]
    },
    {
     "name": "stdout",
     "output_type": "stream",
     "text": [
      "\n",
      "[CV] C=1000, decision_function_shape=ovo, kernel=linear ..............\n",
      "[CV]  C=1000, decision_function_shape=ovo, kernel=linear, score=0.21153846153846154, total=   0.0s\n",
      "[CV] C=1000, decision_function_shape=ovr, kernel=linear ..............\n",
      "[CV]  C=1000, decision_function_shape=ovr, kernel=linear, score=0.21153846153846154, total=   0.0s\n",
      "[CV] C=1, decision_function_shape=ovo, kernel=rbf ....................\n",
      "[CV]  C=1, decision_function_shape=ovo, kernel=rbf, score=0.019230769230769232, total=   0.0s\n",
      "[CV] C=1, decision_function_shape=ovr, kernel=rbf ....................\n",
      "[CV]  C=1, decision_function_shape=ovr, kernel=rbf, score=0.019230769230769232, total=   0.0s\n",
      "[CV] C=10, decision_function_shape=ovo, kernel=rbf ...................\n",
      "[CV]  C=10, decision_function_shape=ovo, kernel=rbf, score=0.08974358974358974, total=   0.0s\n",
      "[CV] C=10, decision_function_shape=ovr, kernel=rbf ...................\n",
      "[CV]  C=10, decision_function_shape=ovr, kernel=rbf, score=0.08974358974358974, total=   0.0s\n",
      "[CV] C=100, decision_function_shape=ovo, kernel=rbf ..................\n",
      "[CV]  C=100, decision_function_shape=ovo, kernel=rbf, score=0.14743589743589744, total=   0.0s\n",
      "[CV] C=100, decision_function_shape=ovr, kernel=rbf ..................\n",
      "[CV]  C=100, decision_function_shape=ovr, kernel=rbf, score=0.14743589743589744, total=   0.0s\n",
      "[CV] C=1000, decision_function_shape=ovo, kernel=rbf .................\n",
      "[CV]  C=1000, decision_function_shape=ovo, kernel=rbf, score=0.17307692307692307, total=   0.0s\n",
      "[CV] C=1000, decision_function_shape=ovr, kernel=rbf .................\n",
      "[CV]  C=1000, decision_function_shape=ovr, kernel=rbf, score=0.17307692307692307, total=   0.0s\n"
     ]
    },
    {
     "name": "stderr",
     "output_type": "stream",
     "text": [
      "[Parallel(n_jobs=1)]: Done  16 out of  16 | elapsed:    0.9s finished\n"
     ]
    },
    {
     "name": "stdout",
     "output_type": "stream",
     "text": [
      "2\n",
      "Fitting 1 folds for each of 16 candidates, totalling 16 fits\n",
      "[CV] C=1, decision_function_shape=ovo, kernel=linear .................\n",
      "[CV]  C=1, decision_function_shape=ovo, kernel=linear, score=0.09615384615384616, total=   0.0s\n",
      "[CV] C=1, decision_function_shape=ovr, kernel=linear .................\n",
      "[CV]  C=1, decision_function_shape=ovr, kernel=linear, score=0.09615384615384616, total=   0.0s\n",
      "[CV] C=10, decision_function_shape=ovo, kernel=linear ................\n",
      "[CV]  C=10, decision_function_shape=ovo, kernel=linear, score=0.19230769230769232, total=   0.0s\n",
      "[CV] C=10, decision_function_shape=ovr, kernel=linear ................\n",
      "[CV]  C=10, decision_function_shape=ovr, kernel=linear, score=0.19230769230769232, total=   0.0s\n",
      "[CV] C=100, decision_function_shape=ovo, kernel=linear ...............\n"
     ]
    },
    {
     "name": "stderr",
     "output_type": "stream",
     "text": [
      "[Parallel(n_jobs=1)]: Done   1 out of   1 | elapsed:    0.0s remaining:    0.0s\n",
      "[Parallel(n_jobs=1)]: Done   2 out of   2 | elapsed:    0.0s remaining:    0.0s\n"
     ]
    },
    {
     "name": "stdout",
     "output_type": "stream",
     "text": [
      "[CV]  C=100, decision_function_shape=ovo, kernel=linear, score=0.3076923076923077, total=   0.0s\n",
      "[CV] C=100, decision_function_shape=ovr, kernel=linear ...............\n",
      "[CV]  C=100, decision_function_shape=ovr, kernel=linear, score=0.3076923076923077, total=   0.0s\n",
      "[CV] C=1000, decision_function_shape=ovo, kernel=linear ..............\n",
      "[CV]  C=1000, decision_function_shape=ovo, kernel=linear, score=0.3525641025641026, total=   0.2s\n",
      "[CV] C=1000, decision_function_shape=ovr, kernel=linear ..............\n",
      "[CV]  C=1000, decision_function_shape=ovr, kernel=linear, score=0.3525641025641026, total=   0.2s\n",
      "[CV] C=1, decision_function_shape=ovo, kernel=rbf ....................\n",
      "[CV]  C=1, decision_function_shape=ovo, kernel=rbf, score=0.02564102564102564, total=   0.0s\n",
      "[CV] C=1, decision_function_shape=ovr, kernel=rbf ....................\n",
      "[CV]  C=1, decision_function_shape=ovr, kernel=rbf, score=0.02564102564102564, total=   0.0s\n",
      "[CV] C=10, decision_function_shape=ovo, kernel=rbf ...................\n",
      "[CV]  C=10, decision_function_shape=ovo, kernel=rbf, score=0.07051282051282051, total=   0.0s\n",
      "[CV] C=10, decision_function_shape=ovr, kernel=rbf ...................\n",
      "[CV]  C=10, decision_function_shape=ovr, kernel=rbf, score=0.07051282051282051, total=   0.0s\n",
      "[CV] C=100, decision_function_shape=ovo, kernel=rbf ..................\n",
      "[CV]  C=100, decision_function_shape=ovo, kernel=rbf, score=0.1858974358974359, total=   0.0s\n",
      "[CV] C=100, decision_function_shape=ovr, kernel=rbf ..................\n",
      "[CV]  C=100, decision_function_shape=ovr, kernel=rbf, score=0.1858974358974359, total=   0.0s\n",
      "[CV] C=1000, decision_function_shape=ovo, kernel=rbf .................\n",
      "[CV]  C=1000, decision_function_shape=ovo, kernel=rbf, score=0.3141025641025641, total=   0.0s\n",
      "[CV] C=1000, decision_function_shape=ovr, kernel=rbf .................\n",
      "[CV]  C=1000, decision_function_shape=ovr, kernel=rbf, score=0.3141025641025641, total=   0.0s\n"
     ]
    },
    {
     "name": "stderr",
     "output_type": "stream",
     "text": [
      "[Parallel(n_jobs=1)]: Done  16 out of  16 | elapsed:    1.3s finished\n"
     ]
    },
    {
     "name": "stdout",
     "output_type": "stream",
     "text": [
      "3\n",
      "Fitting 1 folds for each of 16 candidates, totalling 16 fits\n",
      "[CV] C=1, decision_function_shape=ovo, kernel=linear .................\n",
      "[CV]  C=1, decision_function_shape=ovo, kernel=linear, score=0.1858974358974359, total=   0.0s\n",
      "[CV] C=1, decision_function_shape=ovr, kernel=linear .................\n",
      "[CV]  C=1, decision_function_shape=ovr, kernel=linear, score=0.1858974358974359, total=   0.0s\n",
      "[CV] C=10, decision_function_shape=ovo, kernel=linear ................\n",
      "[CV]  C=10, decision_function_shape=ovo, kernel=linear, score=0.3525641025641026, total=   0.0s\n",
      "[CV] C=10, decision_function_shape=ovr, kernel=linear ................\n"
     ]
    },
    {
     "name": "stderr",
     "output_type": "stream",
     "text": [
      "[Parallel(n_jobs=1)]: Done   1 out of   1 | elapsed:    0.0s remaining:    0.0s\n",
      "[Parallel(n_jobs=1)]: Done   2 out of   2 | elapsed:    0.0s remaining:    0.0s\n"
     ]
    },
    {
     "name": "stdout",
     "output_type": "stream",
     "text": [
      "[CV]  C=10, decision_function_shape=ovr, kernel=linear, score=0.3525641025641026, total=   0.0s\n",
      "[CV] C=100, decision_function_shape=ovo, kernel=linear ...............\n",
      "[CV]  C=100, decision_function_shape=ovo, kernel=linear, score=0.48717948717948717, total=   0.0s\n",
      "[CV] C=100, decision_function_shape=ovr, kernel=linear ...............\n",
      "[CV]  C=100, decision_function_shape=ovr, kernel=linear, score=0.48717948717948717, total=   0.0s\n",
      "[CV] C=1000, decision_function_shape=ovo, kernel=linear ..............\n",
      "[CV]  C=1000, decision_function_shape=ovo, kernel=linear, score=0.46153846153846156, total=   0.1s\n",
      "[CV] C=1000, decision_function_shape=ovr, kernel=linear ..............\n",
      "[CV]  C=1000, decision_function_shape=ovr, kernel=linear, score=0.46153846153846156, total=   0.1s\n",
      "[CV] C=1, decision_function_shape=ovo, kernel=rbf ....................\n",
      "[CV]  C=1, decision_function_shape=ovo, kernel=rbf, score=0.019230769230769232, total=   0.0s\n",
      "[CV] C=1, decision_function_shape=ovr, kernel=rbf ....................\n",
      "[CV]  C=1, decision_function_shape=ovr, kernel=rbf, score=0.019230769230769232, total=   0.0s\n",
      "[CV] C=10, decision_function_shape=ovo, kernel=rbf ...................\n",
      "[CV]  C=10, decision_function_shape=ovo, kernel=rbf, score=0.10256410256410256, total=   0.0s\n",
      "[CV] C=10, decision_function_shape=ovr, kernel=rbf ...................\n",
      "[CV]  C=10, decision_function_shape=ovr, kernel=rbf, score=0.10256410256410256, total=   0.0s\n",
      "[CV] C=100, decision_function_shape=ovo, kernel=rbf ..................\n",
      "[CV]  C=100, decision_function_shape=ovo, kernel=rbf, score=0.3076923076923077, total=   0.0s\n",
      "[CV] C=100, decision_function_shape=ovr, kernel=rbf ..................\n",
      "[CV]  C=100, decision_function_shape=ovr, kernel=rbf, score=0.3076923076923077, total=   0.0s\n",
      "[CV] C=1000, decision_function_shape=ovo, kernel=rbf .................\n",
      "[CV]  C=1000, decision_function_shape=ovo, kernel=rbf, score=0.44871794871794873, total=   0.0s\n",
      "[CV] C=1000, decision_function_shape=ovr, kernel=rbf .................\n",
      "[CV]  C=1000, decision_function_shape=ovr, kernel=rbf, score=0.44871794871794873, total=   0.0s\n"
     ]
    },
    {
     "name": "stderr",
     "output_type": "stream",
     "text": [
      "[Parallel(n_jobs=1)]: Done  16 out of  16 | elapsed:    1.5s finished\n"
     ]
    },
    {
     "name": "stdout",
     "output_type": "stream",
     "text": [
      "4\n",
      "Fitting 1 folds for each of 16 candidates, totalling 16 fits\n",
      "[CV] C=1, decision_function_shape=ovo, kernel=linear .................\n",
      "[CV]  C=1, decision_function_shape=ovo, kernel=linear, score=0.17307692307692307, total=   0.0s\n",
      "[CV] C=1, decision_function_shape=ovr, kernel=linear .................\n",
      "[CV]  C=1, decision_function_shape=ovr, kernel=linear, score=0.17307692307692307, total=   0.0s\n",
      "[CV] C=10, decision_function_shape=ovo, kernel=linear ................\n"
     ]
    },
    {
     "name": "stderr",
     "output_type": "stream",
     "text": [
      "[Parallel(n_jobs=1)]: Done   1 out of   1 | elapsed:    0.0s remaining:    0.0s\n",
      "[Parallel(n_jobs=1)]: Done   2 out of   2 | elapsed:    0.0s remaining:    0.0s\n"
     ]
    },
    {
     "name": "stdout",
     "output_type": "stream",
     "text": [
      "[CV]  C=10, decision_function_shape=ovo, kernel=linear, score=0.3076923076923077, total=   0.0s\n",
      "[CV] C=10, decision_function_shape=ovr, kernel=linear ................\n",
      "[CV]  C=10, decision_function_shape=ovr, kernel=linear, score=0.3076923076923077, total=   0.0s\n",
      "[CV] C=100, decision_function_shape=ovo, kernel=linear ...............\n",
      "[CV]  C=100, decision_function_shape=ovo, kernel=linear, score=0.40384615384615385, total=   0.0s\n",
      "[CV] C=100, decision_function_shape=ovr, kernel=linear ...............\n",
      "[CV]  C=100, decision_function_shape=ovr, kernel=linear, score=0.40384615384615385, total=   0.0s\n",
      "[CV] C=1000, decision_function_shape=ovo, kernel=linear ..............\n",
      "[CV]  C=1000, decision_function_shape=ovo, kernel=linear, score=0.46153846153846156, total=   0.1s\n",
      "[CV] C=1000, decision_function_shape=ovr, kernel=linear ..............\n",
      "[CV]  C=1000, decision_function_shape=ovr, kernel=linear, score=0.46153846153846156, total=   0.1s\n",
      "[CV] C=1, decision_function_shape=ovo, kernel=rbf ....................\n",
      "[CV]  C=1, decision_function_shape=ovo, kernel=rbf, score=0.019230769230769232, total=   0.0s\n",
      "[CV] C=1, decision_function_shape=ovr, kernel=rbf ....................\n",
      "[CV]  C=1, decision_function_shape=ovr, kernel=rbf, score=0.019230769230769232, total=   0.0s\n",
      "[CV] C=10, decision_function_shape=ovo, kernel=rbf ...................\n",
      "[CV]  C=10, decision_function_shape=ovo, kernel=rbf, score=0.08333333333333333, total=   0.0s\n",
      "[CV] C=10, decision_function_shape=ovr, kernel=rbf ...................\n",
      "[CV]  C=10, decision_function_shape=ovr, kernel=rbf, score=0.08333333333333333, total=   0.0s\n",
      "[CV] C=100, decision_function_shape=ovo, kernel=rbf ..................\n",
      "[CV]  C=100, decision_function_shape=ovo, kernel=rbf, score=0.27564102564102566, total=   0.0s\n",
      "[CV] C=100, decision_function_shape=ovr, kernel=rbf ..................\n",
      "[CV]  C=100, decision_function_shape=ovr, kernel=rbf, score=0.27564102564102566, total=   0.0s\n",
      "[CV] C=1000, decision_function_shape=ovo, kernel=rbf .................\n",
      "[CV]  C=1000, decision_function_shape=ovo, kernel=rbf, score=0.41025641025641024, total=   0.0s\n",
      "[CV] C=1000, decision_function_shape=ovr, kernel=rbf .................\n",
      "[CV]  C=1000, decision_function_shape=ovr, kernel=rbf, score=0.41025641025641024, total=   0.0s\n"
     ]
    },
    {
     "name": "stderr",
     "output_type": "stream",
     "text": [
      "[Parallel(n_jobs=1)]: Done  16 out of  16 | elapsed:    1.7s finished\n"
     ]
    },
    {
     "name": "stdout",
     "output_type": "stream",
     "text": [
      "5\n",
      "Fitting 1 folds for each of 16 candidates, totalling 16 fits\n",
      "[CV] C=1, decision_function_shape=ovo, kernel=linear .................\n",
      "[CV]  C=1, decision_function_shape=ovo, kernel=linear, score=0.26282051282051283, total=   0.0s\n",
      "[CV] C=1, decision_function_shape=ovr, kernel=linear .................\n",
      "[CV]  C=1, decision_function_shape=ovr, kernel=linear, score=0.26282051282051283, total=   0.0s\n",
      "[CV] C=10, decision_function_shape=ovo, kernel=linear ................\n"
     ]
    },
    {
     "name": "stderr",
     "output_type": "stream",
     "text": [
      "[Parallel(n_jobs=1)]: Done   1 out of   1 | elapsed:    0.0s remaining:    0.0s\n",
      "[Parallel(n_jobs=1)]: Done   2 out of   2 | elapsed:    0.1s remaining:    0.0s\n"
     ]
    },
    {
     "name": "stdout",
     "output_type": "stream",
     "text": [
      "[CV]  C=10, decision_function_shape=ovo, kernel=linear, score=0.4551282051282051, total=   0.0s\n",
      "[CV] C=10, decision_function_shape=ovr, kernel=linear ................\n",
      "[CV]  C=10, decision_function_shape=ovr, kernel=linear, score=0.4551282051282051, total=   0.0s\n",
      "[CV] C=100, decision_function_shape=ovo, kernel=linear ...............\n",
      "[CV]  C=100, decision_function_shape=ovo, kernel=linear, score=0.5, total=   0.0s\n",
      "[CV] C=100, decision_function_shape=ovr, kernel=linear ...............\n",
      "[CV]  C=100, decision_function_shape=ovr, kernel=linear, score=0.5, total=   0.0s\n",
      "[CV] C=1000, decision_function_shape=ovo, kernel=linear ..............\n",
      "[CV]  C=1000, decision_function_shape=ovo, kernel=linear, score=0.5384615384615384, total=   0.1s\n",
      "[CV] C=1000, decision_function_shape=ovr, kernel=linear ..............\n",
      "[CV]  C=1000, decision_function_shape=ovr, kernel=linear, score=0.5384615384615384, total=   0.1s\n",
      "[CV] C=1, decision_function_shape=ovo, kernel=rbf ....................\n",
      "[CV]  C=1, decision_function_shape=ovo, kernel=rbf, score=0.019230769230769232, total=   0.0s\n",
      "[CV] C=1, decision_function_shape=ovr, kernel=rbf ....................\n",
      "[CV]  C=1, decision_function_shape=ovr, kernel=rbf, score=0.019230769230769232, total=   0.0s\n",
      "[CV] C=10, decision_function_shape=ovo, kernel=rbf ...................\n",
      "[CV]  C=10, decision_function_shape=ovo, kernel=rbf, score=0.1346153846153846, total=   0.0s\n",
      "[CV] C=10, decision_function_shape=ovr, kernel=rbf ...................\n",
      "[CV]  C=10, decision_function_shape=ovr, kernel=rbf, score=0.1346153846153846, total=   0.0s\n",
      "[CV] C=100, decision_function_shape=ovo, kernel=rbf ..................\n",
      "[CV]  C=100, decision_function_shape=ovo, kernel=rbf, score=0.36538461538461536, total=   0.0s\n",
      "[CV] C=100, decision_function_shape=ovr, kernel=rbf ..................\n",
      "[CV]  C=100, decision_function_shape=ovr, kernel=rbf, score=0.36538461538461536, total=   0.0s\n",
      "[CV] C=1000, decision_function_shape=ovo, kernel=rbf .................\n",
      "[CV]  C=1000, decision_function_shape=ovo, kernel=rbf, score=0.48717948717948717, total=   0.0s\n",
      "[CV] C=1000, decision_function_shape=ovr, kernel=rbf .................\n",
      "[CV]  C=1000, decision_function_shape=ovr, kernel=rbf, score=0.48717948717948717, total=   0.0s\n"
     ]
    },
    {
     "name": "stderr",
     "output_type": "stream",
     "text": [
      "[Parallel(n_jobs=1)]: Done  16 out of  16 | elapsed:    1.9s finished\n"
     ]
    },
    {
     "name": "stdout",
     "output_type": "stream",
     "text": [
      "6\n",
      "Fitting 1 folds for each of 16 candidates, totalling 16 fits\n",
      "[CV] C=1, decision_function_shape=ovo, kernel=linear .................\n",
      "[CV]  C=1, decision_function_shape=ovo, kernel=linear, score=0.28205128205128205, total=   0.0s\n",
      "[CV] C=1, decision_function_shape=ovr, kernel=linear .................\n",
      "[CV]  C=1, decision_function_shape=ovr, kernel=linear, score=0.28205128205128205, total=   0.0s\n",
      "[CV] C=10, decision_function_shape=ovo, kernel=linear ................\n"
     ]
    },
    {
     "name": "stderr",
     "output_type": "stream",
     "text": [
      "[Parallel(n_jobs=1)]: Done   1 out of   1 | elapsed:    0.0s remaining:    0.0s\n",
      "[Parallel(n_jobs=1)]: Done   2 out of   2 | elapsed:    0.1s remaining:    0.0s\n"
     ]
    },
    {
     "name": "stdout",
     "output_type": "stream",
     "text": [
      "[CV]  C=10, decision_function_shape=ovo, kernel=linear, score=0.4230769230769231, total=   0.0s\n",
      "[CV] C=10, decision_function_shape=ovr, kernel=linear ................\n",
      "[CV]  C=10, decision_function_shape=ovr, kernel=linear, score=0.4230769230769231, total=   0.0s\n",
      "[CV] C=100, decision_function_shape=ovo, kernel=linear ...............\n",
      "[CV]  C=100, decision_function_shape=ovo, kernel=linear, score=0.5256410256410257, total=   0.0s\n",
      "[CV] C=100, decision_function_shape=ovr, kernel=linear ...............\n",
      "[CV]  C=100, decision_function_shape=ovr, kernel=linear, score=0.5256410256410257, total=   0.0s\n",
      "[CV] C=1000, decision_function_shape=ovo, kernel=linear ..............\n",
      "[CV]  C=1000, decision_function_shape=ovo, kernel=linear, score=0.4807692307692308, total=   0.1s\n",
      "[CV] C=1000, decision_function_shape=ovr, kernel=linear ..............\n",
      "[CV]  C=1000, decision_function_shape=ovr, kernel=linear, score=0.4807692307692308, total=   0.1s\n",
      "[CV] C=1, decision_function_shape=ovo, kernel=rbf ....................\n",
      "[CV]  C=1, decision_function_shape=ovo, kernel=rbf, score=0.019230769230769232, total=   0.0s\n",
      "[CV] C=1, decision_function_shape=ovr, kernel=rbf ....................\n",
      "[CV]  C=1, decision_function_shape=ovr, kernel=rbf, score=0.019230769230769232, total=   0.0s\n",
      "[CV] C=10, decision_function_shape=ovo, kernel=rbf ...................\n",
      "[CV]  C=10, decision_function_shape=ovo, kernel=rbf, score=0.14102564102564102, total=   0.0s\n",
      "[CV] C=10, decision_function_shape=ovr, kernel=rbf ...................\n",
      "[CV]  C=10, decision_function_shape=ovr, kernel=rbf, score=0.14102564102564102, total=   0.0s\n",
      "[CV] C=100, decision_function_shape=ovo, kernel=rbf ..................\n",
      "[CV]  C=100, decision_function_shape=ovo, kernel=rbf, score=0.3333333333333333, total=   0.0s\n",
      "[CV] C=100, decision_function_shape=ovr, kernel=rbf ..................\n",
      "[CV]  C=100, decision_function_shape=ovr, kernel=rbf, score=0.3333333333333333, total=   0.0s\n",
      "[CV] C=1000, decision_function_shape=ovo, kernel=rbf .................\n",
      "[CV]  C=1000, decision_function_shape=ovo, kernel=rbf, score=0.46794871794871795, total=   0.0s\n",
      "[CV] C=1000, decision_function_shape=ovr, kernel=rbf .................\n",
      "[CV]  C=1000, decision_function_shape=ovr, kernel=rbf, score=0.46794871794871795, total=   0.0s\n"
     ]
    },
    {
     "name": "stderr",
     "output_type": "stream",
     "text": [
      "[Parallel(n_jobs=1)]: Done  16 out of  16 | elapsed:    2.0s finished\n"
     ]
    },
    {
     "name": "stdout",
     "output_type": "stream",
     "text": [
      "7\n",
      "Fitting 1 folds for each of 16 candidates, totalling 16 fits\n",
      "[CV] C=1, decision_function_shape=ovo, kernel=linear .................\n",
      "[CV]  C=1, decision_function_shape=ovo, kernel=linear, score=0.2948717948717949, total=   0.0s\n",
      "[CV] C=1, decision_function_shape=ovr, kernel=linear .................\n"
     ]
    },
    {
     "name": "stderr",
     "output_type": "stream",
     "text": [
      "[Parallel(n_jobs=1)]: Done   1 out of   1 | elapsed:    0.0s remaining:    0.0s\n",
      "[Parallel(n_jobs=1)]: Done   2 out of   2 | elapsed:    0.1s remaining:    0.0s\n"
     ]
    },
    {
     "name": "stdout",
     "output_type": "stream",
     "text": [
      "[CV]  C=1, decision_function_shape=ovr, kernel=linear, score=0.2948717948717949, total=   0.0s\n",
      "[CV] C=10, decision_function_shape=ovo, kernel=linear ................\n",
      "[CV]  C=10, decision_function_shape=ovo, kernel=linear, score=0.4166666666666667, total=   0.0s\n",
      "[CV] C=10, decision_function_shape=ovr, kernel=linear ................\n",
      "[CV]  C=10, decision_function_shape=ovr, kernel=linear, score=0.4166666666666667, total=   0.0s\n",
      "[CV] C=100, decision_function_shape=ovo, kernel=linear ...............\n",
      "[CV]  C=100, decision_function_shape=ovo, kernel=linear, score=0.4423076923076923, total=   0.0s\n",
      "[CV] C=100, decision_function_shape=ovr, kernel=linear ...............\n",
      "[CV]  C=100, decision_function_shape=ovr, kernel=linear, score=0.4423076923076923, total=   0.0s\n",
      "[CV] C=1000, decision_function_shape=ovo, kernel=linear ..............\n",
      "[CV]  C=1000, decision_function_shape=ovo, kernel=linear, score=0.48717948717948717, total=   0.1s\n",
      "[CV] C=1000, decision_function_shape=ovr, kernel=linear ..............\n",
      "[CV]  C=1000, decision_function_shape=ovr, kernel=linear, score=0.48717948717948717, total=   0.1s\n",
      "[CV] C=1, decision_function_shape=ovo, kernel=rbf ....................\n",
      "[CV]  C=1, decision_function_shape=ovo, kernel=rbf, score=0.019230769230769232, total=   0.0s\n",
      "[CV] C=1, decision_function_shape=ovr, kernel=rbf ....................\n",
      "[CV]  C=1, decision_function_shape=ovr, kernel=rbf, score=0.019230769230769232, total=   0.0s\n",
      "[CV] C=10, decision_function_shape=ovo, kernel=rbf ...................\n",
      "[CV]  C=10, decision_function_shape=ovo, kernel=rbf, score=0.1346153846153846, total=   0.0s\n",
      "[CV] C=10, decision_function_shape=ovr, kernel=rbf ...................\n",
      "[CV]  C=10, decision_function_shape=ovr, kernel=rbf, score=0.1346153846153846, total=   0.0s\n",
      "[CV] C=100, decision_function_shape=ovo, kernel=rbf ..................\n",
      "[CV]  C=100, decision_function_shape=ovo, kernel=rbf, score=0.34615384615384615, total=   0.0s\n",
      "[CV] C=100, decision_function_shape=ovr, kernel=rbf ..................\n",
      "[CV]  C=100, decision_function_shape=ovr, kernel=rbf, score=0.34615384615384615, total=   0.0s\n",
      "[CV] C=1000, decision_function_shape=ovo, kernel=rbf .................\n",
      "[CV]  C=1000, decision_function_shape=ovo, kernel=rbf, score=0.46794871794871795, total=   0.0s\n",
      "[CV] C=1000, decision_function_shape=ovr, kernel=rbf .................\n",
      "[CV]  C=1000, decision_function_shape=ovr, kernel=rbf, score=0.46794871794871795, total=   0.0s\n"
     ]
    },
    {
     "name": "stderr",
     "output_type": "stream",
     "text": [
      "[Parallel(n_jobs=1)]: Done  16 out of  16 | elapsed:    2.4s finished\n"
     ]
    },
    {
     "name": "stdout",
     "output_type": "stream",
     "text": [
      "8\n",
      "Fitting 1 folds for each of 16 candidates, totalling 16 fits\n",
      "[CV] C=1, decision_function_shape=ovo, kernel=linear .................\n",
      "[CV]  C=1, decision_function_shape=ovo, kernel=linear, score=0.2948717948717949, total=   0.0s\n",
      "[CV] C=1, decision_function_shape=ovr, kernel=linear .................\n"
     ]
    },
    {
     "name": "stderr",
     "output_type": "stream",
     "text": [
      "[Parallel(n_jobs=1)]: Done   1 out of   1 | elapsed:    0.0s remaining:    0.0s\n",
      "[Parallel(n_jobs=1)]: Done   2 out of   2 | elapsed:    0.2s remaining:    0.0s\n"
     ]
    },
    {
     "name": "stdout",
     "output_type": "stream",
     "text": [
      "[CV]  C=1, decision_function_shape=ovr, kernel=linear, score=0.2948717948717949, total=   0.0s\n",
      "[CV] C=10, decision_function_shape=ovo, kernel=linear ................\n",
      "[CV]  C=10, decision_function_shape=ovo, kernel=linear, score=0.44871794871794873, total=   0.0s\n",
      "[CV] C=10, decision_function_shape=ovr, kernel=linear ................\n",
      "[CV]  C=10, decision_function_shape=ovr, kernel=linear, score=0.44871794871794873, total=   0.0s\n",
      "[CV] C=100, decision_function_shape=ovo, kernel=linear ...............\n",
      "[CV]  C=100, decision_function_shape=ovo, kernel=linear, score=0.4935897435897436, total=   0.1s\n",
      "[CV] C=100, decision_function_shape=ovr, kernel=linear ...............\n",
      "[CV]  C=100, decision_function_shape=ovr, kernel=linear, score=0.4935897435897436, total=   0.1s\n",
      "[CV] C=1000, decision_function_shape=ovo, kernel=linear ..............\n",
      "[CV]  C=1000, decision_function_shape=ovo, kernel=linear, score=0.4807692307692308, total=   0.1s\n",
      "[CV] C=1000, decision_function_shape=ovr, kernel=linear ..............\n",
      "[CV]  C=1000, decision_function_shape=ovr, kernel=linear, score=0.4807692307692308, total=   0.1s\n",
      "[CV] C=1, decision_function_shape=ovo, kernel=rbf ....................\n",
      "[CV]  C=1, decision_function_shape=ovo, kernel=rbf, score=0.019230769230769232, total=   0.0s\n",
      "[CV] C=1, decision_function_shape=ovr, kernel=rbf ....................\n",
      "[CV]  C=1, decision_function_shape=ovr, kernel=rbf, score=0.019230769230769232, total=   0.0s\n",
      "[CV] C=10, decision_function_shape=ovo, kernel=rbf ...................\n",
      "[CV]  C=10, decision_function_shape=ovo, kernel=rbf, score=0.16025641025641027, total=   0.0s\n",
      "[CV] C=10, decision_function_shape=ovr, kernel=rbf ...................\n",
      "[CV]  C=10, decision_function_shape=ovr, kernel=rbf, score=0.16025641025641027, total=   0.0s\n",
      "[CV] C=100, decision_function_shape=ovo, kernel=rbf ..................\n",
      "[CV]  C=100, decision_function_shape=ovo, kernel=rbf, score=0.34615384615384615, total=   0.0s\n",
      "[CV] C=100, decision_function_shape=ovr, kernel=rbf ..................\n",
      "[CV]  C=100, decision_function_shape=ovr, kernel=rbf, score=0.34615384615384615, total=   0.0s\n",
      "[CV] C=1000, decision_function_shape=ovo, kernel=rbf .................\n",
      "[CV]  C=1000, decision_function_shape=ovo, kernel=rbf, score=0.47435897435897434, total=   0.0s\n",
      "[CV] C=1000, decision_function_shape=ovr, kernel=rbf .................\n",
      "[CV]  C=1000, decision_function_shape=ovr, kernel=rbf, score=0.47435897435897434, total=   0.0s\n"
     ]
    },
    {
     "name": "stderr",
     "output_type": "stream",
     "text": [
      "[Parallel(n_jobs=1)]: Done  16 out of  16 | elapsed:    2.7s finished\n"
     ]
    },
    {
     "name": "stdout",
     "output_type": "stream",
     "text": [
      "9\n",
      "Fitting 1 folds for each of 16 candidates, totalling 16 fits\n",
      "[CV] C=1, decision_function_shape=ovo, kernel=linear .................\n",
      "[CV]  C=1, decision_function_shape=ovo, kernel=linear, score=0.24358974358974358, total=   0.0s\n",
      "[CV] C=1, decision_function_shape=ovr, kernel=linear .................\n"
     ]
    },
    {
     "name": "stderr",
     "output_type": "stream",
     "text": [
      "[Parallel(n_jobs=1)]: Done   1 out of   1 | elapsed:    0.0s remaining:    0.0s\n",
      "[Parallel(n_jobs=1)]: Done   2 out of   2 | elapsed:    0.2s remaining:    0.0s\n"
     ]
    },
    {
     "name": "stdout",
     "output_type": "stream",
     "text": [
      "[CV]  C=1, decision_function_shape=ovr, kernel=linear, score=0.24358974358974358, total=   0.0s\n",
      "[CV] C=10, decision_function_shape=ovo, kernel=linear ................\n",
      "[CV]  C=10, decision_function_shape=ovo, kernel=linear, score=0.33974358974358976, total=   0.0s\n",
      "[CV] C=10, decision_function_shape=ovr, kernel=linear ................\n",
      "[CV]  C=10, decision_function_shape=ovr, kernel=linear, score=0.33974358974358976, total=   0.0s\n",
      "[CV] C=100, decision_function_shape=ovo, kernel=linear ...............\n",
      "[CV]  C=100, decision_function_shape=ovo, kernel=linear, score=0.36538461538461536, total=   0.1s\n",
      "[CV] C=100, decision_function_shape=ovr, kernel=linear ...............\n",
      "[CV]  C=100, decision_function_shape=ovr, kernel=linear, score=0.36538461538461536, total=   0.1s\n",
      "[CV] C=1000, decision_function_shape=ovo, kernel=linear ..............\n",
      "[CV]  C=1000, decision_function_shape=ovo, kernel=linear, score=0.358974358974359, total=   0.1s\n",
      "[CV] C=1000, decision_function_shape=ovr, kernel=linear ..............\n",
      "[CV]  C=1000, decision_function_shape=ovr, kernel=linear, score=0.358974358974359, total=   0.2s\n",
      "[CV] C=1, decision_function_shape=ovo, kernel=rbf ....................\n",
      "[CV]  C=1, decision_function_shape=ovo, kernel=rbf, score=0.019230769230769232, total=   0.0s\n",
      "[CV] C=1, decision_function_shape=ovr, kernel=rbf ....................\n",
      "[CV]  C=1, decision_function_shape=ovr, kernel=rbf, score=0.019230769230769232, total=   0.0s\n",
      "[CV] C=10, decision_function_shape=ovo, kernel=rbf ...................\n",
      "[CV]  C=10, decision_function_shape=ovo, kernel=rbf, score=0.12179487179487179, total=   0.0s\n",
      "[CV] C=10, decision_function_shape=ovr, kernel=rbf ...................\n",
      "[CV]  C=10, decision_function_shape=ovr, kernel=rbf, score=0.12179487179487179, total=   0.0s\n",
      "[CV] C=100, decision_function_shape=ovo, kernel=rbf ..................\n",
      "[CV]  C=100, decision_function_shape=ovo, kernel=rbf, score=0.26282051282051283, total=   0.0s\n",
      "[CV] C=100, decision_function_shape=ovr, kernel=rbf ..................\n",
      "[CV]  C=100, decision_function_shape=ovr, kernel=rbf, score=0.26282051282051283, total=   0.0s\n",
      "[CV] C=1000, decision_function_shape=ovo, kernel=rbf .................\n",
      "[CV]  C=1000, decision_function_shape=ovo, kernel=rbf, score=0.38461538461538464, total=   0.0s\n",
      "[CV] C=1000, decision_function_shape=ovr, kernel=rbf .................\n",
      "[CV]  C=1000, decision_function_shape=ovr, kernel=rbf, score=0.38461538461538464, total=   0.0s\n",
      "10\n"
     ]
    },
    {
     "name": "stderr",
     "output_type": "stream",
     "text": [
      "[Parallel(n_jobs=1)]: Done  16 out of  16 | elapsed:    3.1s finished\n"
     ]
    },
    {
     "name": "stdout",
     "output_type": "stream",
     "text": [
      "Fitting 1 folds for each of 16 candidates, totalling 16 fits\n",
      "[CV] C=1, decision_function_shape=ovo, kernel=linear .................\n",
      "[CV]  C=1, decision_function_shape=ovo, kernel=linear, score=0.2564102564102564, total=   0.0s\n",
      "[CV] C=1, decision_function_shape=ovr, kernel=linear .................\n"
     ]
    },
    {
     "name": "stderr",
     "output_type": "stream",
     "text": [
      "[Parallel(n_jobs=1)]: Done   1 out of   1 | elapsed:    0.1s remaining:    0.0s\n",
      "[Parallel(n_jobs=1)]: Done   2 out of   2 | elapsed:    0.2s remaining:    0.0s\n"
     ]
    },
    {
     "name": "stdout",
     "output_type": "stream",
     "text": [
      "[CV]  C=1, decision_function_shape=ovr, kernel=linear, score=0.2564102564102564, total=   0.0s\n",
      "[CV] C=10, decision_function_shape=ovo, kernel=linear ................\n",
      "[CV]  C=10, decision_function_shape=ovo, kernel=linear, score=0.3525641025641026, total=   0.0s\n",
      "[CV] C=10, decision_function_shape=ovr, kernel=linear ................\n",
      "[CV]  C=10, decision_function_shape=ovr, kernel=linear, score=0.3525641025641026, total=   0.0s\n",
      "[CV] C=100, decision_function_shape=ovo, kernel=linear ...............\n",
      "[CV]  C=100, decision_function_shape=ovo, kernel=linear, score=0.3333333333333333, total=   0.1s\n",
      "[CV] C=100, decision_function_shape=ovr, kernel=linear ...............\n",
      "[CV]  C=100, decision_function_shape=ovr, kernel=linear, score=0.3333333333333333, total=   0.1s\n",
      "[CV] C=1000, decision_function_shape=ovo, kernel=linear ..............\n",
      "[CV]  C=1000, decision_function_shape=ovo, kernel=linear, score=0.3333333333333333, total=   0.2s\n",
      "[CV] C=1000, decision_function_shape=ovr, kernel=linear ..............\n",
      "[CV]  C=1000, decision_function_shape=ovr, kernel=linear, score=0.3333333333333333, total=   0.2s\n",
      "[CV] C=1, decision_function_shape=ovo, kernel=rbf ....................\n",
      "[CV]  C=1, decision_function_shape=ovo, kernel=rbf, score=0.019230769230769232, total=   0.0s\n",
      "[CV] C=1, decision_function_shape=ovr, kernel=rbf ....................\n",
      "[CV]  C=1, decision_function_shape=ovr, kernel=rbf, score=0.019230769230769232, total=   0.0s\n",
      "[CV] C=10, decision_function_shape=ovo, kernel=rbf ...................\n",
      "[CV]  C=10, decision_function_shape=ovo, kernel=rbf, score=0.14743589743589744, total=   0.0s\n",
      "[CV] C=10, decision_function_shape=ovr, kernel=rbf ...................\n",
      "[CV]  C=10, decision_function_shape=ovr, kernel=rbf, score=0.14743589743589744, total=   0.0s\n",
      "[CV] C=100, decision_function_shape=ovo, kernel=rbf ..................\n",
      "[CV]  C=100, decision_function_shape=ovo, kernel=rbf, score=0.28846153846153844, total=   0.0s\n",
      "[CV] C=100, decision_function_shape=ovr, kernel=rbf ..................\n",
      "[CV]  C=100, decision_function_shape=ovr, kernel=rbf, score=0.28846153846153844, total=   0.0s\n",
      "[CV] C=1000, decision_function_shape=ovo, kernel=rbf .................\n",
      "[CV]  C=1000, decision_function_shape=ovo, kernel=rbf, score=0.358974358974359, total=   0.0s\n",
      "[CV] C=1000, decision_function_shape=ovr, kernel=rbf .................\n",
      "[CV]  C=1000, decision_function_shape=ovr, kernel=rbf, score=0.358974358974359, total=   0.0s\n",
      "11\n"
     ]
    },
    {
     "name": "stderr",
     "output_type": "stream",
     "text": [
      "[Parallel(n_jobs=1)]: Done  16 out of  16 | elapsed:    3.4s finished\n"
     ]
    },
    {
     "name": "stdout",
     "output_type": "stream",
     "text": [
      "Fitting 1 folds for each of 16 candidates, totalling 16 fits\n",
      "[CV] C=1, decision_function_shape=ovo, kernel=linear .................\n",
      "[CV]  C=1, decision_function_shape=ovo, kernel=linear, score=0.2948717948717949, total=   0.0s\n",
      "[CV] C=1, decision_function_shape=ovr, kernel=linear .................\n"
     ]
    },
    {
     "name": "stderr",
     "output_type": "stream",
     "text": [
      "[Parallel(n_jobs=1)]: Done   1 out of   1 | elapsed:    0.1s remaining:    0.0s\n",
      "[Parallel(n_jobs=1)]: Done   2 out of   2 | elapsed:    0.3s remaining:    0.0s\n"
     ]
    },
    {
     "name": "stdout",
     "output_type": "stream",
     "text": [
      "[CV]  C=1, decision_function_shape=ovr, kernel=linear, score=0.2948717948717949, total=   0.0s\n",
      "[CV] C=10, decision_function_shape=ovo, kernel=linear ................\n",
      "[CV]  C=10, decision_function_shape=ovo, kernel=linear, score=0.3141025641025641, total=   0.0s\n",
      "[CV] C=10, decision_function_shape=ovr, kernel=linear ................\n",
      "[CV]  C=10, decision_function_shape=ovr, kernel=linear, score=0.3141025641025641, total=   0.0s\n",
      "[CV] C=100, decision_function_shape=ovo, kernel=linear ...............\n",
      "[CV]  C=100, decision_function_shape=ovo, kernel=linear, score=0.34615384615384615, total=   0.1s\n",
      "[CV] C=100, decision_function_shape=ovr, kernel=linear ...............\n",
      "[CV]  C=100, decision_function_shape=ovr, kernel=linear, score=0.34615384615384615, total=   0.1s\n",
      "[CV] C=1000, decision_function_shape=ovo, kernel=linear ..............\n",
      "[CV]  C=1000, decision_function_shape=ovo, kernel=linear, score=0.2948717948717949, total=   0.2s\n",
      "[CV] C=1000, decision_function_shape=ovr, kernel=linear ..............\n",
      "[CV]  C=1000, decision_function_shape=ovr, kernel=linear, score=0.2948717948717949, total=   0.2s\n",
      "[CV] C=1, decision_function_shape=ovo, kernel=rbf ....................\n",
      "[CV]  C=1, decision_function_shape=ovo, kernel=rbf, score=0.019230769230769232, total=   0.1s\n",
      "[CV] C=1, decision_function_shape=ovr, kernel=rbf ....................\n",
      "[CV]  C=1, decision_function_shape=ovr, kernel=rbf, score=0.019230769230769232, total=   0.1s\n",
      "[CV] C=10, decision_function_shape=ovo, kernel=rbf ...................\n",
      "[CV]  C=10, decision_function_shape=ovo, kernel=rbf, score=0.12179487179487179, total=   0.0s\n",
      "[CV] C=10, decision_function_shape=ovr, kernel=rbf ...................\n",
      "[CV]  C=10, decision_function_shape=ovr, kernel=rbf, score=0.12179487179487179, total=   0.0s\n",
      "[CV] C=100, decision_function_shape=ovo, kernel=rbf ..................\n",
      "[CV]  C=100, decision_function_shape=ovo, kernel=rbf, score=0.30128205128205127, total=   0.0s\n",
      "[CV] C=100, decision_function_shape=ovr, kernel=rbf ..................\n",
      "[CV]  C=100, decision_function_shape=ovr, kernel=rbf, score=0.30128205128205127, total=   0.0s\n",
      "[CV] C=1000, decision_function_shape=ovo, kernel=rbf .................\n",
      "[CV]  C=1000, decision_function_shape=ovo, kernel=rbf, score=0.3269230769230769, total=   0.0s\n",
      "[CV] C=1000, decision_function_shape=ovr, kernel=rbf .................\n",
      "[CV]  C=1000, decision_function_shape=ovr, kernel=rbf, score=0.3269230769230769, total=   0.0s\n"
     ]
    },
    {
     "name": "stderr",
     "output_type": "stream",
     "text": [
      "[Parallel(n_jobs=1)]: Done  16 out of  16 | elapsed:    3.5s finished\n"
     ]
    },
    {
     "name": "stdout",
     "output_type": "stream",
     "text": [
      "12\n",
      "Fitting 1 folds for each of 16 candidates, totalling 16 fits\n",
      "[CV] C=1, decision_function_shape=ovo, kernel=linear .................\n",
      "[CV]  C=1, decision_function_shape=ovo, kernel=linear, score=0.24516129032258063, total=   0.0s\n",
      "[CV] C=1, decision_function_shape=ovr, kernel=linear .................\n"
     ]
    },
    {
     "name": "stderr",
     "output_type": "stream",
     "text": [
      "[Parallel(n_jobs=1)]: Done   1 out of   1 | elapsed:    0.1s remaining:    0.0s\n",
      "[Parallel(n_jobs=1)]: Done   2 out of   2 | elapsed:    0.3s remaining:    0.0s\n"
     ]
    },
    {
     "name": "stdout",
     "output_type": "stream",
     "text": [
      "[CV]  C=1, decision_function_shape=ovr, kernel=linear, score=0.24516129032258063, total=   0.0s\n",
      "[CV] C=10, decision_function_shape=ovo, kernel=linear ................\n",
      "[CV]  C=10, decision_function_shape=ovo, kernel=linear, score=0.3225806451612903, total=   0.0s\n",
      "[CV] C=10, decision_function_shape=ovr, kernel=linear ................\n",
      "[CV]  C=10, decision_function_shape=ovr, kernel=linear, score=0.3225806451612903, total=   0.0s\n",
      "[CV] C=100, decision_function_shape=ovo, kernel=linear ...............\n",
      "[CV]  C=100, decision_function_shape=ovo, kernel=linear, score=0.3161290322580645, total=   0.1s\n",
      "[CV] C=100, decision_function_shape=ovr, kernel=linear ...............\n",
      "[CV]  C=100, decision_function_shape=ovr, kernel=linear, score=0.3161290322580645, total=   0.1s\n",
      "[CV] C=1000, decision_function_shape=ovo, kernel=linear ..............\n",
      "[CV]  C=1000, decision_function_shape=ovo, kernel=linear, score=0.33548387096774196, total=   0.2s\n",
      "[CV] C=1000, decision_function_shape=ovr, kernel=linear ..............\n",
      "[CV]  C=1000, decision_function_shape=ovr, kernel=linear, score=0.33548387096774196, total=   0.2s\n",
      "[CV] C=1, decision_function_shape=ovo, kernel=rbf ....................\n",
      "[CV]  C=1, decision_function_shape=ovo, kernel=rbf, score=0.05806451612903226, total=   0.1s\n",
      "[CV] C=1, decision_function_shape=ovr, kernel=rbf ....................\n",
      "[CV]  C=1, decision_function_shape=ovr, kernel=rbf, score=0.05806451612903226, total=   0.1s\n",
      "[CV] C=10, decision_function_shape=ovo, kernel=rbf ...................\n",
      "[CV]  C=10, decision_function_shape=ovo, kernel=rbf, score=0.11612903225806452, total=   0.1s\n",
      "[CV] C=10, decision_function_shape=ovr, kernel=rbf ...................\n",
      "[CV]  C=10, decision_function_shape=ovr, kernel=rbf, score=0.11612903225806452, total=   0.1s\n",
      "[CV] C=100, decision_function_shape=ovo, kernel=rbf ..................\n",
      "[CV]  C=100, decision_function_shape=ovo, kernel=rbf, score=0.2645161290322581, total=   0.0s\n",
      "[CV] C=100, decision_function_shape=ovr, kernel=rbf ..................\n",
      "[CV]  C=100, decision_function_shape=ovr, kernel=rbf, score=0.2645161290322581, total=   0.0s\n",
      "[CV] C=1000, decision_function_shape=ovo, kernel=rbf .................\n",
      "[CV]  C=1000, decision_function_shape=ovo, kernel=rbf, score=0.32903225806451614, total=   0.1s\n",
      "[CV] C=1000, decision_function_shape=ovr, kernel=rbf .................\n",
      "[CV]  C=1000, decision_function_shape=ovr, kernel=rbf, score=0.32903225806451614, total=   0.0s\n"
     ]
    },
    {
     "name": "stderr",
     "output_type": "stream",
     "text": [
      "[Parallel(n_jobs=1)]: Done  16 out of  16 | elapsed:    3.8s finished\n"
     ]
    }
   ],
   "source": [
    "for nr in frame_numbers:\n",
    "    print(nr)\n",
    "    try:\n",
    "        acc_train_input, acc_train_label = prepare_data(train, nr, 'accelerometer', verbose=False)\n",
    "        acc_valid_input, acc_valid_label = prepare_data(valid, nr, 'accelerometer', verbose=False)\n",
    "\n",
    "        svc = GridSearchCV(svm.SVC(random_state=random_seed), parameters, cv=cross_valid, scoring='accuracy',\n",
    "                           verbose=verbose_level, n_jobs=parallel_jobs).fit(\n",
    "                                                                        np.append(acc_train_input, acc_valid_input, axis=0),\n",
    "                                                                        np.append(acc_train_label, acc_valid_label))\n",
    "\n",
    "        paper_acc.append((svc.best_score_, nr, svc.best_params_))\n",
    "    \n",
    "    except ValueError as err:\n",
    "        paper_acc.append((-1, nr, svc.best_params_))"
   ]
  },
  {
   "cell_type": "markdown",
   "metadata": {},
   "source": [
    "### Gyroskop"
   ]
  },
  {
   "cell_type": "code",
   "execution_count": 13,
   "metadata": {},
   "outputs": [
    {
     "name": "stdout",
     "output_type": "stream",
     "text": [
      "1\n",
      "Fitting 1 folds for each of 16 candidates, totalling 16 fits\n",
      "[CV] C=1, decision_function_shape=ovo, kernel=linear .................\n",
      "[CV]  C=1, decision_function_shape=ovo, kernel=linear, score=0.12179487179487179, total=   0.0s\n",
      "[CV] C=1, decision_function_shape=ovr, kernel=linear .................\n",
      "[CV]  C=1, decision_function_shape=ovr, kernel=linear, score=0.12179487179487179, total=   0.0s\n",
      "[CV] C=10, decision_function_shape=ovo, kernel=linear ................\n",
      "[CV]  C=10, decision_function_shape=ovo, kernel=linear, score=0.10897435897435898, total=   0.0s\n",
      "[CV] C=10, decision_function_shape=ovr, kernel=linear ................\n",
      "[CV]  C=10, decision_function_shape=ovr, kernel=linear, score=0.10897435897435898, total=   0.0s\n",
      "[CV] C=100, decision_function_shape=ovo, kernel=linear ...............\n",
      "[CV]  C=100, decision_function_shape=ovo, kernel=linear, score=0.11538461538461539, total=   0.0s\n",
      "[CV] C=100, decision_function_shape=ovr, kernel=linear ...............\n",
      "[CV]  C=100, decision_function_shape=ovr, kernel=linear, score=0.11538461538461539, total=   0.0s\n",
      "[CV] C=1000, decision_function_shape=ovo, kernel=linear ..............\n"
     ]
    },
    {
     "name": "stderr",
     "output_type": "stream",
     "text": [
      "[Parallel(n_jobs=1)]: Done   1 out of   1 | elapsed:    0.0s remaining:    0.0s\n",
      "[Parallel(n_jobs=1)]: Done   2 out of   2 | elapsed:    0.0s remaining:    0.0s\n"
     ]
    },
    {
     "name": "stdout",
     "output_type": "stream",
     "text": [
      "[CV]  C=1000, decision_function_shape=ovo, kernel=linear, score=0.1282051282051282, total=   0.0s\n",
      "[CV] C=1000, decision_function_shape=ovr, kernel=linear ..............\n",
      "[CV]  C=1000, decision_function_shape=ovr, kernel=linear, score=0.1282051282051282, total=   0.0s\n",
      "[CV] C=1, decision_function_shape=ovo, kernel=rbf ....................\n",
      "[CV]  C=1, decision_function_shape=ovo, kernel=rbf, score=0.08333333333333333, total=   0.0s\n",
      "[CV] C=1, decision_function_shape=ovr, kernel=rbf ....................\n",
      "[CV]  C=1, decision_function_shape=ovr, kernel=rbf, score=0.08333333333333333, total=   0.0s\n",
      "[CV] C=10, decision_function_shape=ovo, kernel=rbf ...................\n",
      "[CV]  C=10, decision_function_shape=ovo, kernel=rbf, score=0.10897435897435898, total=   0.0s\n",
      "[CV] C=10, decision_function_shape=ovr, kernel=rbf ...................\n",
      "[CV]  C=10, decision_function_shape=ovr, kernel=rbf, score=0.10897435897435898, total=   0.0s\n",
      "[CV] C=100, decision_function_shape=ovo, kernel=rbf ..................\n",
      "[CV]  C=100, decision_function_shape=ovo, kernel=rbf, score=0.11538461538461539, total=   0.0s\n",
      "[CV] C=100, decision_function_shape=ovr, kernel=rbf ..................\n",
      "[CV]  C=100, decision_function_shape=ovr, kernel=rbf, score=0.11538461538461539, total=   0.0s\n",
      "[CV] C=1000, decision_function_shape=ovo, kernel=rbf .................\n",
      "[CV]  C=1000, decision_function_shape=ovo, kernel=rbf, score=0.1346153846153846, total=   0.0s\n",
      "[CV] C=1000, decision_function_shape=ovr, kernel=rbf .................\n",
      "[CV]  C=1000, decision_function_shape=ovr, kernel=rbf, score=0.1346153846153846, total=   0.0s"
     ]
    },
    {
     "name": "stderr",
     "output_type": "stream",
     "text": [
      "[Parallel(n_jobs=1)]: Done  16 out of  16 | elapsed:    0.6s finished\n"
     ]
    },
    {
     "name": "stdout",
     "output_type": "stream",
     "text": [
      "\n",
      "2\n",
      "Fitting 1 folds for each of 16 candidates, totalling 16 fits\n",
      "[CV] C=1, decision_function_shape=ovo, kernel=linear .................\n",
      "[CV]  C=1, decision_function_shape=ovo, kernel=linear, score=0.28846153846153844, total=   0.0s\n",
      "[CV] C=1, decision_function_shape=ovr, kernel=linear .................\n",
      "[CV]  C=1, decision_function_shape=ovr, kernel=linear, score=0.28846153846153844, total=   0.0s\n",
      "[CV] C=10, decision_function_shape=ovo, kernel=linear ................\n",
      "[CV]  C=10, decision_function_shape=ovo, kernel=linear, score=0.33974358974358976, total=   0.0s\n",
      "[CV] C=10, decision_function_shape=ovr, kernel=linear ................\n",
      "[CV]  C=10, decision_function_shape=ovr, kernel=linear, score=0.33974358974358976, total=   0.0s\n",
      "[CV] C=100, decision_function_shape=ovo, kernel=linear ...............\n",
      "[CV]  C=100, decision_function_shape=ovo, kernel=linear, score=0.3525641025641026, total=   0.0s\n",
      "[CV] C=100, decision_function_shape=ovr, kernel=linear ...............\n"
     ]
    },
    {
     "name": "stderr",
     "output_type": "stream",
     "text": [
      "[Parallel(n_jobs=1)]: Done   1 out of   1 | elapsed:    0.0s remaining:    0.0s\n",
      "[Parallel(n_jobs=1)]: Done   2 out of   2 | elapsed:    0.0s remaining:    0.0s\n"
     ]
    },
    {
     "name": "stdout",
     "output_type": "stream",
     "text": [
      "[CV]  C=100, decision_function_shape=ovr, kernel=linear, score=0.3525641025641026, total=   0.0s\n",
      "[CV] C=1000, decision_function_shape=ovo, kernel=linear ..............\n",
      "[CV]  C=1000, decision_function_shape=ovo, kernel=linear, score=0.32051282051282054, total=   0.0s\n",
      "[CV] C=1000, decision_function_shape=ovr, kernel=linear ..............\n",
      "[CV]  C=1000, decision_function_shape=ovr, kernel=linear, score=0.32051282051282054, total=   0.1s\n",
      "[CV] C=1, decision_function_shape=ovo, kernel=rbf ....................\n",
      "[CV]  C=1, decision_function_shape=ovo, kernel=rbf, score=0.14102564102564102, total=   0.0s\n",
      "[CV] C=1, decision_function_shape=ovr, kernel=rbf ....................\n",
      "[CV]  C=1, decision_function_shape=ovr, kernel=rbf, score=0.14102564102564102, total=   0.0s\n",
      "[CV] C=10, decision_function_shape=ovo, kernel=rbf ...................\n",
      "[CV]  C=10, decision_function_shape=ovo, kernel=rbf, score=0.26282051282051283, total=   0.0s\n",
      "[CV] C=10, decision_function_shape=ovr, kernel=rbf ...................\n",
      "[CV]  C=10, decision_function_shape=ovr, kernel=rbf, score=0.26282051282051283, total=   0.0s\n",
      "[CV] C=100, decision_function_shape=ovo, kernel=rbf ..................\n",
      "[CV]  C=100, decision_function_shape=ovo, kernel=rbf, score=0.34615384615384615, total=   0.0s\n",
      "[CV] C=100, decision_function_shape=ovr, kernel=rbf ..................\n",
      "[CV]  C=100, decision_function_shape=ovr, kernel=rbf, score=0.34615384615384615, total=   0.0s\n",
      "[CV] C=1000, decision_function_shape=ovo, kernel=rbf .................\n",
      "[CV]  C=1000, decision_function_shape=ovo, kernel=rbf, score=0.358974358974359, total=   0.0s\n",
      "[CV] C=1000, decision_function_shape=ovr, kernel=rbf .................\n",
      "[CV]  C=1000, decision_function_shape=ovr, kernel=rbf, score=0.358974358974359, total=   0.0s\n",
      "3\n"
     ]
    },
    {
     "name": "stderr",
     "output_type": "stream",
     "text": [
      "[Parallel(n_jobs=1)]: Done  16 out of  16 | elapsed:    0.9s finished\n"
     ]
    },
    {
     "name": "stdout",
     "output_type": "stream",
     "text": [
      "Fitting 1 folds for each of 16 candidates, totalling 16 fits\n",
      "[CV] C=1, decision_function_shape=ovo, kernel=linear .................\n",
      "[CV]  C=1, decision_function_shape=ovo, kernel=linear, score=0.2692307692307692, total=   0.0s\n",
      "[CV] C=1, decision_function_shape=ovr, kernel=linear .................\n",
      "[CV]  C=1, decision_function_shape=ovr, kernel=linear, score=0.2692307692307692, total=   0.0s\n",
      "[CV] C=10, decision_function_shape=ovo, kernel=linear ................\n",
      "[CV]  C=10, decision_function_shape=ovo, kernel=linear, score=0.33974358974358976, total=   0.0s\n",
      "[CV] C=10, decision_function_shape=ovr, kernel=linear ................\n",
      "[CV]  C=10, decision_function_shape=ovr, kernel=linear, score=0.33974358974358976, total=   0.0s\n",
      "[CV] C=100, decision_function_shape=ovo, kernel=linear ...............\n"
     ]
    },
    {
     "name": "stderr",
     "output_type": "stream",
     "text": [
      "[Parallel(n_jobs=1)]: Done   1 out of   1 | elapsed:    0.0s remaining:    0.0s\n",
      "[Parallel(n_jobs=1)]: Done   2 out of   2 | elapsed:    0.0s remaining:    0.0s\n"
     ]
    },
    {
     "name": "stdout",
     "output_type": "stream",
     "text": [
      "[CV]  C=100, decision_function_shape=ovo, kernel=linear, score=0.358974358974359, total=   0.0s\n",
      "[CV] C=100, decision_function_shape=ovr, kernel=linear ...............\n",
      "[CV]  C=100, decision_function_shape=ovr, kernel=linear, score=0.358974358974359, total=   0.0s\n",
      "[CV] C=1000, decision_function_shape=ovo, kernel=linear ..............\n",
      "[CV]  C=1000, decision_function_shape=ovo, kernel=linear, score=0.36538461538461536, total=   0.1s\n",
      "[CV] C=1000, decision_function_shape=ovr, kernel=linear ..............\n",
      "[CV]  C=1000, decision_function_shape=ovr, kernel=linear, score=0.36538461538461536, total=   0.1s\n",
      "[CV] C=1, decision_function_shape=ovo, kernel=rbf ....................\n",
      "[CV]  C=1, decision_function_shape=ovo, kernel=rbf, score=0.12179487179487179, total=   0.0s\n",
      "[CV] C=1, decision_function_shape=ovr, kernel=rbf ....................\n",
      "[CV]  C=1, decision_function_shape=ovr, kernel=rbf, score=0.12179487179487179, total=   0.0s\n",
      "[CV] C=10, decision_function_shape=ovo, kernel=rbf ...................\n",
      "[CV]  C=10, decision_function_shape=ovo, kernel=rbf, score=0.24358974358974358, total=   0.0s\n",
      "[CV] C=10, decision_function_shape=ovr, kernel=rbf ...................\n",
      "[CV]  C=10, decision_function_shape=ovr, kernel=rbf, score=0.24358974358974358, total=   0.0s\n",
      "[CV] C=100, decision_function_shape=ovo, kernel=rbf ..................\n",
      "[CV]  C=100, decision_function_shape=ovo, kernel=rbf, score=0.3076923076923077, total=   0.0s\n",
      "[CV] C=100, decision_function_shape=ovr, kernel=rbf ..................\n",
      "[CV]  C=100, decision_function_shape=ovr, kernel=rbf, score=0.3076923076923077, total=   0.0s\n",
      "[CV] C=1000, decision_function_shape=ovo, kernel=rbf .................\n",
      "[CV]  C=1000, decision_function_shape=ovo, kernel=rbf, score=0.358974358974359, total=   0.0s\n",
      "[CV] C=1000, decision_function_shape=ovr, kernel=rbf .................\n",
      "[CV]  C=1000, decision_function_shape=ovr, kernel=rbf, score=0.358974358974359, total=   0.0s\n"
     ]
    },
    {
     "name": "stderr",
     "output_type": "stream",
     "text": [
      "[Parallel(n_jobs=1)]: Done  16 out of  16 | elapsed:    1.1s finished\n"
     ]
    },
    {
     "name": "stdout",
     "output_type": "stream",
     "text": [
      "4\n",
      "Fitting 1 folds for each of 16 candidates, totalling 16 fits\n",
      "[CV] C=1, decision_function_shape=ovo, kernel=linear .................\n",
      "[CV]  C=1, decision_function_shape=ovo, kernel=linear, score=0.2948717948717949, total=   0.0s\n",
      "[CV] C=1, decision_function_shape=ovr, kernel=linear .................\n",
      "[CV]  C=1, decision_function_shape=ovr, kernel=linear, score=0.2948717948717949, total=   0.0s\n",
      "[CV] C=10, decision_function_shape=ovo, kernel=linear ................\n",
      "[CV]  C=10, decision_function_shape=ovo, kernel=linear, score=0.3717948717948718, total=   0.0s\n",
      "[CV] C=10, decision_function_shape=ovr, kernel=linear ................\n",
      "[CV]  C=10, decision_function_shape=ovr, kernel=linear, score=0.3717948717948718, total=   0.0s"
     ]
    },
    {
     "name": "stderr",
     "output_type": "stream",
     "text": [
      "[Parallel(n_jobs=1)]: Done   1 out of   1 | elapsed:    0.0s remaining:    0.0s\n",
      "[Parallel(n_jobs=1)]: Done   2 out of   2 | elapsed:    0.0s remaining:    0.0s\n"
     ]
    },
    {
     "name": "stdout",
     "output_type": "stream",
     "text": [
      "\n",
      "[CV] C=100, decision_function_shape=ovo, kernel=linear ...............\n",
      "[CV]  C=100, decision_function_shape=ovo, kernel=linear, score=0.4166666666666667, total=   0.0s\n",
      "[CV] C=100, decision_function_shape=ovr, kernel=linear ...............\n",
      "[CV]  C=100, decision_function_shape=ovr, kernel=linear, score=0.4166666666666667, total=   0.0s\n",
      "[CV] C=1000, decision_function_shape=ovo, kernel=linear ..............\n",
      "[CV]  C=1000, decision_function_shape=ovo, kernel=linear, score=0.4423076923076923, total=   0.1s\n",
      "[CV] C=1000, decision_function_shape=ovr, kernel=linear ..............\n",
      "[CV]  C=1000, decision_function_shape=ovr, kernel=linear, score=0.4423076923076923, total=   0.1s\n",
      "[CV] C=1, decision_function_shape=ovo, kernel=rbf ....................\n",
      "[CV]  C=1, decision_function_shape=ovo, kernel=rbf, score=0.1282051282051282, total=   0.0s\n",
      "[CV] C=1, decision_function_shape=ovr, kernel=rbf ....................\n",
      "[CV]  C=1, decision_function_shape=ovr, kernel=rbf, score=0.1282051282051282, total=   0.0s\n",
      "[CV] C=10, decision_function_shape=ovo, kernel=rbf ...................\n",
      "[CV]  C=10, decision_function_shape=ovo, kernel=rbf, score=0.26282051282051283, total=   0.0s\n",
      "[CV] C=10, decision_function_shape=ovr, kernel=rbf ...................\n",
      "[CV]  C=10, decision_function_shape=ovr, kernel=rbf, score=0.26282051282051283, total=   0.0s\n",
      "[CV] C=100, decision_function_shape=ovo, kernel=rbf ..................\n",
      "[CV]  C=100, decision_function_shape=ovo, kernel=rbf, score=0.33974358974358976, total=   0.0s\n",
      "[CV] C=100, decision_function_shape=ovr, kernel=rbf ..................\n",
      "[CV]  C=100, decision_function_shape=ovr, kernel=rbf, score=0.33974358974358976, total=   0.0s\n",
      "[CV] C=1000, decision_function_shape=ovo, kernel=rbf .................\n",
      "[CV]  C=1000, decision_function_shape=ovo, kernel=rbf, score=0.4166666666666667, total=   0.0s\n",
      "[CV] C=1000, decision_function_shape=ovr, kernel=rbf .................\n",
      "[CV]  C=1000, decision_function_shape=ovr, kernel=rbf, score=0.4166666666666667, total=   0.0s\n"
     ]
    },
    {
     "name": "stderr",
     "output_type": "stream",
     "text": [
      "[Parallel(n_jobs=1)]: Done  16 out of  16 | elapsed:    1.5s finished\n"
     ]
    },
    {
     "name": "stdout",
     "output_type": "stream",
     "text": [
      "5\n",
      "Fitting 1 folds for each of 16 candidates, totalling 16 fits\n",
      "[CV] C=1, decision_function_shape=ovo, kernel=linear .................\n",
      "[CV]  C=1, decision_function_shape=ovo, kernel=linear, score=0.32051282051282054, total=   0.0s\n",
      "[CV] C=1, decision_function_shape=ovr, kernel=linear .................\n",
      "[CV]  C=1, decision_function_shape=ovr, kernel=linear, score=0.32051282051282054, total=   0.0s\n",
      "[CV] C=10, decision_function_shape=ovo, kernel=linear ................\n",
      "[CV]  C=10, decision_function_shape=ovo, kernel=linear, score=0.38461538461538464, total=   0.0s\n",
      "[CV] C=10, decision_function_shape=ovr, kernel=linear ................\n"
     ]
    },
    {
     "name": "stderr",
     "output_type": "stream",
     "text": [
      "[Parallel(n_jobs=1)]: Done   1 out of   1 | elapsed:    0.0s remaining:    0.0s\n",
      "[Parallel(n_jobs=1)]: Done   2 out of   2 | elapsed:    0.0s remaining:    0.0s\n"
     ]
    },
    {
     "name": "stdout",
     "output_type": "stream",
     "text": [
      "[CV]  C=10, decision_function_shape=ovr, kernel=linear, score=0.38461538461538464, total=   0.0s\n",
      "[CV] C=100, decision_function_shape=ovo, kernel=linear ...............\n",
      "[CV]  C=100, decision_function_shape=ovo, kernel=linear, score=0.4423076923076923, total=   0.0s\n",
      "[CV] C=100, decision_function_shape=ovr, kernel=linear ...............\n",
      "[CV]  C=100, decision_function_shape=ovr, kernel=linear, score=0.4423076923076923, total=   0.0s\n",
      "[CV] C=1000, decision_function_shape=ovo, kernel=linear ..............\n",
      "[CV]  C=1000, decision_function_shape=ovo, kernel=linear, score=0.4166666666666667, total=   0.3s\n",
      "[CV] C=1000, decision_function_shape=ovr, kernel=linear ..............\n",
      "[CV]  C=1000, decision_function_shape=ovr, kernel=linear, score=0.4166666666666667, total=   0.3s\n",
      "[CV] C=1, decision_function_shape=ovo, kernel=rbf ....................\n",
      "[CV]  C=1, decision_function_shape=ovo, kernel=rbf, score=0.11538461538461539, total=   0.0s\n",
      "[CV] C=1, decision_function_shape=ovr, kernel=rbf ....................\n",
      "[CV]  C=1, decision_function_shape=ovr, kernel=rbf, score=0.11538461538461539, total=   0.0s\n",
      "[CV] C=10, decision_function_shape=ovo, kernel=rbf ...................\n",
      "[CV]  C=10, decision_function_shape=ovo, kernel=rbf, score=0.2692307692307692, total=   0.0s\n",
      "[CV] C=10, decision_function_shape=ovr, kernel=rbf ...................\n",
      "[CV]  C=10, decision_function_shape=ovr, kernel=rbf, score=0.2692307692307692, total=   0.0s\n",
      "[CV] C=100, decision_function_shape=ovo, kernel=rbf ..................\n",
      "[CV]  C=100, decision_function_shape=ovo, kernel=rbf, score=0.3333333333333333, total=   0.0s\n",
      "[CV] C=100, decision_function_shape=ovr, kernel=rbf ..................\n",
      "[CV]  C=100, decision_function_shape=ovr, kernel=rbf, score=0.3333333333333333, total=   0.0s\n",
      "[CV] C=1000, decision_function_shape=ovo, kernel=rbf .................\n",
      "[CV]  C=1000, decision_function_shape=ovo, kernel=rbf, score=0.391025641025641, total=   0.0s\n",
      "[CV] C=1000, decision_function_shape=ovr, kernel=rbf .................\n",
      "[CV]  C=1000, decision_function_shape=ovr, kernel=rbf, score=0.391025641025641, total=   0.0s\n",
      "6\n"
     ]
    },
    {
     "name": "stderr",
     "output_type": "stream",
     "text": [
      "[Parallel(n_jobs=1)]: Done  16 out of  16 | elapsed:    1.9s finished\n"
     ]
    },
    {
     "name": "stdout",
     "output_type": "stream",
     "text": [
      "Fitting 1 folds for each of 16 candidates, totalling 16 fits\n",
      "[CV] C=1, decision_function_shape=ovo, kernel=linear .................\n",
      "[CV]  C=1, decision_function_shape=ovo, kernel=linear, score=0.3141025641025641, total=   0.0s\n",
      "[CV] C=1, decision_function_shape=ovr, kernel=linear .................\n",
      "[CV]  C=1, decision_function_shape=ovr, kernel=linear, score=0.3141025641025641, total=   0.0s\n",
      "[CV] C=10, decision_function_shape=ovo, kernel=linear ................\n"
     ]
    },
    {
     "name": "stderr",
     "output_type": "stream",
     "text": [
      "[Parallel(n_jobs=1)]: Done   1 out of   1 | elapsed:    0.0s remaining:    0.0s\n",
      "[Parallel(n_jobs=1)]: Done   2 out of   2 | elapsed:    0.1s remaining:    0.0s\n"
     ]
    },
    {
     "name": "stdout",
     "output_type": "stream",
     "text": [
      "[CV]  C=10, decision_function_shape=ovo, kernel=linear, score=0.40384615384615385, total=   0.0s\n",
      "[CV] C=10, decision_function_shape=ovr, kernel=linear ................\n",
      "[CV]  C=10, decision_function_shape=ovr, kernel=linear, score=0.40384615384615385, total=   0.0s\n",
      "[CV] C=100, decision_function_shape=ovo, kernel=linear ...............\n",
      "[CV]  C=100, decision_function_shape=ovo, kernel=linear, score=0.3974358974358974, total=   0.0s\n",
      "[CV] C=100, decision_function_shape=ovr, kernel=linear ...............\n",
      "[CV]  C=100, decision_function_shape=ovr, kernel=linear, score=0.3974358974358974, total=   0.0s\n",
      "[CV] C=1000, decision_function_shape=ovo, kernel=linear ..............\n",
      "[CV]  C=1000, decision_function_shape=ovo, kernel=linear, score=0.3717948717948718, total=   0.4s\n",
      "[CV] C=1000, decision_function_shape=ovr, kernel=linear ..............\n",
      "[CV]  C=1000, decision_function_shape=ovr, kernel=linear, score=0.3717948717948718, total=   0.4s\n",
      "[CV] C=1, decision_function_shape=ovo, kernel=rbf ....................\n",
      "[CV]  C=1, decision_function_shape=ovo, kernel=rbf, score=0.10897435897435898, total=   0.0s\n",
      "[CV] C=1, decision_function_shape=ovr, kernel=rbf ....................\n",
      "[CV]  C=1, decision_function_shape=ovr, kernel=rbf, score=0.10897435897435898, total=   0.0s\n",
      "[CV] C=10, decision_function_shape=ovo, kernel=rbf ...................\n",
      "[CV]  C=10, decision_function_shape=ovo, kernel=rbf, score=0.30128205128205127, total=   0.0s\n",
      "[CV] C=10, decision_function_shape=ovr, kernel=rbf ...................\n",
      "[CV]  C=10, decision_function_shape=ovr, kernel=rbf, score=0.30128205128205127, total=   0.0s\n",
      "[CV] C=100, decision_function_shape=ovo, kernel=rbf ..................\n",
      "[CV]  C=100, decision_function_shape=ovo, kernel=rbf, score=0.3525641025641026, total=   0.0s\n",
      "[CV] C=100, decision_function_shape=ovr, kernel=rbf ..................\n",
      "[CV]  C=100, decision_function_shape=ovr, kernel=rbf, score=0.3525641025641026, total=   0.0s\n",
      "[CV] C=1000, decision_function_shape=ovo, kernel=rbf .................\n",
      "[CV]  C=1000, decision_function_shape=ovo, kernel=rbf, score=0.4166666666666667, total=   0.0s\n",
      "[CV] C=1000, decision_function_shape=ovr, kernel=rbf .................\n",
      "[CV]  C=1000, decision_function_shape=ovr, kernel=rbf, score=0.4166666666666667, total=   0.0s\n",
      "7\n"
     ]
    },
    {
     "name": "stderr",
     "output_type": "stream",
     "text": [
      "[Parallel(n_jobs=1)]: Done  16 out of  16 | elapsed:    2.5s finished\n"
     ]
    },
    {
     "name": "stdout",
     "output_type": "stream",
     "text": [
      "Fitting 1 folds for each of 16 candidates, totalling 16 fits\n",
      "[CV] C=1, decision_function_shape=ovo, kernel=linear .................\n",
      "[CV]  C=1, decision_function_shape=ovo, kernel=linear, score=0.32051282051282054, total=   0.0s\n",
      "[CV] C=1, decision_function_shape=ovr, kernel=linear .................\n",
      "[CV]  C=1, decision_function_shape=ovr, kernel=linear, score=0.32051282051282054, total=   0.0s\n",
      "[CV] C=10, decision_function_shape=ovo, kernel=linear ................\n"
     ]
    },
    {
     "name": "stderr",
     "output_type": "stream",
     "text": [
      "[Parallel(n_jobs=1)]: Done   1 out of   1 | elapsed:    0.0s remaining:    0.0s\n",
      "[Parallel(n_jobs=1)]: Done   2 out of   2 | elapsed:    0.1s remaining:    0.0s\n"
     ]
    },
    {
     "name": "stdout",
     "output_type": "stream",
     "text": [
      "[CV]  C=10, decision_function_shape=ovo, kernel=linear, score=0.4230769230769231, total=   0.0s\n",
      "[CV] C=10, decision_function_shape=ovr, kernel=linear ................\n",
      "[CV]  C=10, decision_function_shape=ovr, kernel=linear, score=0.4230769230769231, total=   0.0s\n",
      "[CV] C=100, decision_function_shape=ovo, kernel=linear ...............\n",
      "[CV]  C=100, decision_function_shape=ovo, kernel=linear, score=0.4423076923076923, total=   0.0s\n",
      "[CV] C=100, decision_function_shape=ovr, kernel=linear ...............\n",
      "[CV]  C=100, decision_function_shape=ovr, kernel=linear, score=0.4423076923076923, total=   0.0s\n",
      "[CV] C=1000, decision_function_shape=ovo, kernel=linear ..............\n",
      "[CV]  C=1000, decision_function_shape=ovo, kernel=linear, score=0.36538461538461536, total=   0.4s\n",
      "[CV] C=1000, decision_function_shape=ovr, kernel=linear ..............\n",
      "[CV]  C=1000, decision_function_shape=ovr, kernel=linear, score=0.36538461538461536, total=   0.4s\n",
      "[CV] C=1, decision_function_shape=ovo, kernel=rbf ....................\n",
      "[CV]  C=1, decision_function_shape=ovo, kernel=rbf, score=0.07692307692307693, total=   0.0s\n",
      "[CV] C=1, decision_function_shape=ovr, kernel=rbf ....................\n",
      "[CV]  C=1, decision_function_shape=ovr, kernel=rbf, score=0.07692307692307693, total=   0.0s\n",
      "[CV] C=10, decision_function_shape=ovo, kernel=rbf ...................\n",
      "[CV]  C=10, decision_function_shape=ovo, kernel=rbf, score=0.28205128205128205, total=   0.0s\n",
      "[CV] C=10, decision_function_shape=ovr, kernel=rbf ...................\n",
      "[CV]  C=10, decision_function_shape=ovr, kernel=rbf, score=0.28205128205128205, total=   0.0s\n",
      "[CV] C=100, decision_function_shape=ovo, kernel=rbf ..................\n",
      "[CV]  C=100, decision_function_shape=ovo, kernel=rbf, score=0.36538461538461536, total=   0.0s\n",
      "[CV] C=100, decision_function_shape=ovr, kernel=rbf ..................\n",
      "[CV]  C=100, decision_function_shape=ovr, kernel=rbf, score=0.36538461538461536, total=   0.0s\n",
      "[CV] C=1000, decision_function_shape=ovo, kernel=rbf .................\n",
      "[CV]  C=1000, decision_function_shape=ovo, kernel=rbf, score=0.4423076923076923, total=   0.0s\n",
      "[CV] C=1000, decision_function_shape=ovr, kernel=rbf .................\n",
      "[CV]  C=1000, decision_function_shape=ovr, kernel=rbf, score=0.4423076923076923, total=   0.0s\n"
     ]
    },
    {
     "name": "stderr",
     "output_type": "stream",
     "text": [
      "[Parallel(n_jobs=1)]: Done  16 out of  16 | elapsed:    2.5s finished\n"
     ]
    },
    {
     "name": "stdout",
     "output_type": "stream",
     "text": [
      "8\n",
      "Fitting 1 folds for each of 16 candidates, totalling 16 fits\n",
      "[CV] C=1, decision_function_shape=ovo, kernel=linear .................\n",
      "[CV]  C=1, decision_function_shape=ovo, kernel=linear, score=0.3717948717948718, total=   0.0s\n",
      "[CV] C=1, decision_function_shape=ovr, kernel=linear .................\n",
      "[CV]  C=1, decision_function_shape=ovr, kernel=linear, score=0.3717948717948718, total=   0.0s\n",
      "[CV] C=10, decision_function_shape=ovo, kernel=linear ................\n"
     ]
    },
    {
     "name": "stderr",
     "output_type": "stream",
     "text": [
      "[Parallel(n_jobs=1)]: Done   1 out of   1 | elapsed:    0.0s remaining:    0.0s\n",
      "[Parallel(n_jobs=1)]: Done   2 out of   2 | elapsed:    0.1s remaining:    0.0s\n"
     ]
    },
    {
     "name": "stdout",
     "output_type": "stream",
     "text": [
      "[CV]  C=10, decision_function_shape=ovo, kernel=linear, score=0.40384615384615385, total=   0.0s\n",
      "[CV] C=10, decision_function_shape=ovr, kernel=linear ................\n",
      "[CV]  C=10, decision_function_shape=ovr, kernel=linear, score=0.40384615384615385, total=   0.0s\n",
      "[CV] C=100, decision_function_shape=ovo, kernel=linear ...............\n",
      "[CV]  C=100, decision_function_shape=ovo, kernel=linear, score=0.391025641025641, total=   0.0s\n",
      "[CV] C=100, decision_function_shape=ovr, kernel=linear ...............\n",
      "[CV]  C=100, decision_function_shape=ovr, kernel=linear, score=0.391025641025641, total=   0.0s\n",
      "[CV] C=1000, decision_function_shape=ovo, kernel=linear ..............\n",
      "[CV]  C=1000, decision_function_shape=ovo, kernel=linear, score=0.34615384615384615, total=   0.4s\n",
      "[CV] C=1000, decision_function_shape=ovr, kernel=linear ..............\n",
      "[CV]  C=1000, decision_function_shape=ovr, kernel=linear, score=0.34615384615384615, total=   0.4s\n",
      "[CV] C=1, decision_function_shape=ovo, kernel=rbf ....................\n",
      "[CV]  C=1, decision_function_shape=ovo, kernel=rbf, score=0.07051282051282051, total=   0.0s\n",
      "[CV] C=1, decision_function_shape=ovr, kernel=rbf ....................\n",
      "[CV]  C=1, decision_function_shape=ovr, kernel=rbf, score=0.07051282051282051, total=   0.0s\n",
      "[CV] C=10, decision_function_shape=ovo, kernel=rbf ...................\n",
      "[CV]  C=10, decision_function_shape=ovo, kernel=rbf, score=0.28205128205128205, total=   0.0s\n",
      "[CV] C=10, decision_function_shape=ovr, kernel=rbf ...................\n",
      "[CV]  C=10, decision_function_shape=ovr, kernel=rbf, score=0.28205128205128205, total=   0.0s\n",
      "[CV] C=100, decision_function_shape=ovo, kernel=rbf ..................\n",
      "[CV]  C=100, decision_function_shape=ovo, kernel=rbf, score=0.36538461538461536, total=   0.0s\n",
      "[CV] C=100, decision_function_shape=ovr, kernel=rbf ..................\n",
      "[CV]  C=100, decision_function_shape=ovr, kernel=rbf, score=0.36538461538461536, total=   0.0s\n",
      "[CV] C=1000, decision_function_shape=ovo, kernel=rbf .................\n",
      "[CV]  C=1000, decision_function_shape=ovo, kernel=rbf, score=0.42948717948717946, total=   0.0s\n",
      "[CV] C=1000, decision_function_shape=ovr, kernel=rbf .................\n",
      "[CV]  C=1000, decision_function_shape=ovr, kernel=rbf, score=0.42948717948717946, total=   0.0s\n",
      "9\n"
     ]
    },
    {
     "name": "stderr",
     "output_type": "stream",
     "text": [
      "[Parallel(n_jobs=1)]: Done  16 out of  16 | elapsed:    2.9s finished\n"
     ]
    },
    {
     "name": "stdout",
     "output_type": "stream",
     "text": [
      "Fitting 1 folds for each of 16 candidates, totalling 16 fits\n",
      "[CV] C=1, decision_function_shape=ovo, kernel=linear .................\n",
      "[CV]  C=1, decision_function_shape=ovo, kernel=linear, score=0.3717948717948718, total=   0.0s\n",
      "[CV] C=1, decision_function_shape=ovr, kernel=linear .................\n"
     ]
    },
    {
     "name": "stderr",
     "output_type": "stream",
     "text": [
      "[Parallel(n_jobs=1)]: Done   1 out of   1 | elapsed:    0.0s remaining:    0.0s\n",
      "[Parallel(n_jobs=1)]: Done   2 out of   2 | elapsed:    0.1s remaining:    0.0s\n"
     ]
    },
    {
     "name": "stdout",
     "output_type": "stream",
     "text": [
      "[CV]  C=1, decision_function_shape=ovr, kernel=linear, score=0.3717948717948718, total=   0.0s\n",
      "[CV] C=10, decision_function_shape=ovo, kernel=linear ................\n",
      "[CV]  C=10, decision_function_shape=ovo, kernel=linear, score=0.4166666666666667, total=   0.0s\n",
      "[CV] C=10, decision_function_shape=ovr, kernel=linear ................\n",
      "[CV]  C=10, decision_function_shape=ovr, kernel=linear, score=0.4166666666666667, total=   0.0s\n",
      "[CV] C=100, decision_function_shape=ovo, kernel=linear ...............\n",
      "[CV]  C=100, decision_function_shape=ovo, kernel=linear, score=0.41025641025641024, total=   0.0s\n",
      "[CV] C=100, decision_function_shape=ovr, kernel=linear ...............\n",
      "[CV]  C=100, decision_function_shape=ovr, kernel=linear, score=0.41025641025641024, total=   0.0s\n",
      "[CV] C=1000, decision_function_shape=ovo, kernel=linear ..............\n",
      "[CV]  C=1000, decision_function_shape=ovo, kernel=linear, score=0.391025641025641, total=   0.5s\n",
      "[CV] C=1000, decision_function_shape=ovr, kernel=linear ..............\n",
      "[CV]  C=1000, decision_function_shape=ovr, kernel=linear, score=0.391025641025641, total=   0.5s\n",
      "[CV] C=1, decision_function_shape=ovo, kernel=rbf ....................\n",
      "[CV]  C=1, decision_function_shape=ovo, kernel=rbf, score=0.04487179487179487, total=   0.0s\n",
      "[CV] C=1, decision_function_shape=ovr, kernel=rbf ....................\n",
      "[CV]  C=1, decision_function_shape=ovr, kernel=rbf, score=0.04487179487179487, total=   0.0s\n",
      "[CV] C=10, decision_function_shape=ovo, kernel=rbf ...................\n",
      "[CV]  C=10, decision_function_shape=ovo, kernel=rbf, score=0.2564102564102564, total=   0.0s\n",
      "[CV] C=10, decision_function_shape=ovr, kernel=rbf ...................\n",
      "[CV]  C=10, decision_function_shape=ovr, kernel=rbf, score=0.2564102564102564, total=   0.0s\n",
      "[CV] C=100, decision_function_shape=ovo, kernel=rbf ..................\n",
      "[CV]  C=100, decision_function_shape=ovo, kernel=rbf, score=0.3782051282051282, total=   0.0s\n",
      "[CV] C=100, decision_function_shape=ovr, kernel=rbf ..................\n",
      "[CV]  C=100, decision_function_shape=ovr, kernel=rbf, score=0.3782051282051282, total=   0.0s\n",
      "[CV] C=1000, decision_function_shape=ovo, kernel=rbf .................\n",
      "[CV]  C=1000, decision_function_shape=ovo, kernel=rbf, score=0.4166666666666667, total=   0.0s\n",
      "[CV] C=1000, decision_function_shape=ovr, kernel=rbf .................\n",
      "[CV]  C=1000, decision_function_shape=ovr, kernel=rbf, score=0.4166666666666667, total=   0.0s\n",
      "10\n"
     ]
    },
    {
     "name": "stderr",
     "output_type": "stream",
     "text": [
      "[Parallel(n_jobs=1)]: Done  16 out of  16 | elapsed:    3.3s finished\n"
     ]
    },
    {
     "name": "stdout",
     "output_type": "stream",
     "text": [
      "Fitting 1 folds for each of 16 candidates, totalling 16 fits\n",
      "[CV] C=1, decision_function_shape=ovo, kernel=linear .................\n",
      "[CV]  C=1, decision_function_shape=ovo, kernel=linear, score=0.38461538461538464, total=   0.0s\n",
      "[CV] C=1, decision_function_shape=ovr, kernel=linear .................\n"
     ]
    },
    {
     "name": "stderr",
     "output_type": "stream",
     "text": [
      "[Parallel(n_jobs=1)]: Done   1 out of   1 | elapsed:    0.0s remaining:    0.0s\n",
      "[Parallel(n_jobs=1)]: Done   2 out of   2 | elapsed:    0.2s remaining:    0.0s\n"
     ]
    },
    {
     "name": "stdout",
     "output_type": "stream",
     "text": [
      "[CV]  C=1, decision_function_shape=ovr, kernel=linear, score=0.38461538461538464, total=   0.0s\n",
      "[CV] C=10, decision_function_shape=ovo, kernel=linear ................\n",
      "[CV]  C=10, decision_function_shape=ovo, kernel=linear, score=0.3974358974358974, total=   0.0s\n",
      "[CV] C=10, decision_function_shape=ovr, kernel=linear ................\n",
      "[CV]  C=10, decision_function_shape=ovr, kernel=linear, score=0.3974358974358974, total=   0.0s\n",
      "[CV] C=100, decision_function_shape=ovo, kernel=linear ...............\n",
      "[CV]  C=100, decision_function_shape=ovo, kernel=linear, score=0.4166666666666667, total=   0.0s\n",
      "[CV] C=100, decision_function_shape=ovr, kernel=linear ...............\n",
      "[CV]  C=100, decision_function_shape=ovr, kernel=linear, score=0.4166666666666667, total=   0.0s\n",
      "[CV] C=1000, decision_function_shape=ovo, kernel=linear ..............\n",
      "[CV]  C=1000, decision_function_shape=ovo, kernel=linear, score=0.41025641025641024, total=   0.5s\n",
      "[CV] C=1000, decision_function_shape=ovr, kernel=linear ..............\n",
      "[CV]  C=1000, decision_function_shape=ovr, kernel=linear, score=0.41025641025641024, total=   0.6s\n",
      "[CV] C=1, decision_function_shape=ovo, kernel=rbf ....................\n",
      "[CV]  C=1, decision_function_shape=ovo, kernel=rbf, score=0.03205128205128205, total=   0.0s\n",
      "[CV] C=1, decision_function_shape=ovr, kernel=rbf ....................\n",
      "[CV]  C=1, decision_function_shape=ovr, kernel=rbf, score=0.03205128205128205, total=   0.0s\n",
      "[CV] C=10, decision_function_shape=ovo, kernel=rbf ...................\n",
      "[CV]  C=10, decision_function_shape=ovo, kernel=rbf, score=0.27564102564102566, total=   0.0s\n",
      "[CV] C=10, decision_function_shape=ovr, kernel=rbf ...................\n",
      "[CV]  C=10, decision_function_shape=ovr, kernel=rbf, score=0.27564102564102566, total=   0.0s\n",
      "[CV] C=100, decision_function_shape=ovo, kernel=rbf ..................\n",
      "[CV]  C=100, decision_function_shape=ovo, kernel=rbf, score=0.358974358974359, total=   0.0s\n",
      "[CV] C=100, decision_function_shape=ovr, kernel=rbf ..................\n",
      "[CV]  C=100, decision_function_shape=ovr, kernel=rbf, score=0.358974358974359, total=   0.0s\n",
      "[CV] C=1000, decision_function_shape=ovo, kernel=rbf .................\n",
      "[CV]  C=1000, decision_function_shape=ovo, kernel=rbf, score=0.391025641025641, total=   0.0s\n",
      "[CV] C=1000, decision_function_shape=ovr, kernel=rbf .................\n",
      "[CV]  C=1000, decision_function_shape=ovr, kernel=rbf, score=0.391025641025641, total=   0.0s\n"
     ]
    },
    {
     "name": "stderr",
     "output_type": "stream",
     "text": [
      "[Parallel(n_jobs=1)]: Done  16 out of  16 | elapsed:    3.6s finished\n"
     ]
    },
    {
     "name": "stdout",
     "output_type": "stream",
     "text": [
      "11\n",
      "Fitting 1 folds for each of 16 candidates, totalling 16 fits\n",
      "[CV] C=1, decision_function_shape=ovo, kernel=linear .................\n",
      "[CV]  C=1, decision_function_shape=ovo, kernel=linear, score=0.33974358974358976, total=   0.0s\n",
      "[CV] C=1, decision_function_shape=ovr, kernel=linear .................\n"
     ]
    },
    {
     "name": "stderr",
     "output_type": "stream",
     "text": [
      "[Parallel(n_jobs=1)]: Done   1 out of   1 | elapsed:    0.0s remaining:    0.0s\n",
      "[Parallel(n_jobs=1)]: Done   2 out of   2 | elapsed:    0.2s remaining:    0.0s\n"
     ]
    },
    {
     "name": "stdout",
     "output_type": "stream",
     "text": [
      "[CV]  C=1, decision_function_shape=ovr, kernel=linear, score=0.33974358974358976, total=   0.0s\n",
      "[CV] C=10, decision_function_shape=ovo, kernel=linear ................\n",
      "[CV]  C=10, decision_function_shape=ovo, kernel=linear, score=0.38461538461538464, total=   0.0s\n",
      "[CV] C=10, decision_function_shape=ovr, kernel=linear ................\n",
      "[CV]  C=10, decision_function_shape=ovr, kernel=linear, score=0.38461538461538464, total=   0.0s\n",
      "[CV] C=100, decision_function_shape=ovo, kernel=linear ...............\n",
      "[CV]  C=100, decision_function_shape=ovo, kernel=linear, score=0.42948717948717946, total=   0.1s\n",
      "[CV] C=100, decision_function_shape=ovr, kernel=linear ...............\n",
      "[CV]  C=100, decision_function_shape=ovr, kernel=linear, score=0.42948717948717946, total=   0.1s\n",
      "[CV] C=1000, decision_function_shape=ovo, kernel=linear ..............\n",
      "[CV]  C=1000, decision_function_shape=ovo, kernel=linear, score=0.4230769230769231, total=   0.5s\n",
      "[CV] C=1000, decision_function_shape=ovr, kernel=linear ..............\n",
      "[CV]  C=1000, decision_function_shape=ovr, kernel=linear, score=0.4230769230769231, total=   0.5s\n",
      "[CV] C=1, decision_function_shape=ovo, kernel=rbf ....................\n",
      "[CV]  C=1, decision_function_shape=ovo, kernel=rbf, score=0.019230769230769232, total=   0.1s\n",
      "[CV] C=1, decision_function_shape=ovr, kernel=rbf ....................\n",
      "[CV]  C=1, decision_function_shape=ovr, kernel=rbf, score=0.019230769230769232, total=   0.1s\n",
      "[CV] C=10, decision_function_shape=ovo, kernel=rbf ...................\n",
      "[CV]  C=10, decision_function_shape=ovo, kernel=rbf, score=0.27564102564102566, total=   0.0s\n",
      "[CV] C=10, decision_function_shape=ovr, kernel=rbf ...................\n",
      "[CV]  C=10, decision_function_shape=ovr, kernel=rbf, score=0.27564102564102566, total=   0.0s\n",
      "[CV] C=100, decision_function_shape=ovo, kernel=rbf ..................\n",
      "[CV]  C=100, decision_function_shape=ovo, kernel=rbf, score=0.3525641025641026, total=   0.0s\n",
      "[CV] C=100, decision_function_shape=ovr, kernel=rbf ..................\n",
      "[CV]  C=100, decision_function_shape=ovr, kernel=rbf, score=0.3525641025641026, total=   0.0s\n",
      "[CV] C=1000, decision_function_shape=ovo, kernel=rbf .................\n",
      "[CV]  C=1000, decision_function_shape=ovo, kernel=rbf, score=0.3974358974358974, total=   0.0s\n",
      "[CV] C=1000, decision_function_shape=ovr, kernel=rbf .................\n",
      "[CV]  C=1000, decision_function_shape=ovr, kernel=rbf, score=0.3974358974358974, total=   0.0s\n",
      "12\n"
     ]
    },
    {
     "name": "stderr",
     "output_type": "stream",
     "text": [
      "[Parallel(n_jobs=1)]: Done  16 out of  16 | elapsed:    3.6s finished\n"
     ]
    },
    {
     "name": "stdout",
     "output_type": "stream",
     "text": [
      "Fitting 1 folds for each of 16 candidates, totalling 16 fits\n",
      "[CV] C=1, decision_function_shape=ovo, kernel=linear .................\n",
      "[CV]  C=1, decision_function_shape=ovo, kernel=linear, score=0.34838709677419355, total=   0.0s\n",
      "[CV] C=1, decision_function_shape=ovr, kernel=linear .................\n"
     ]
    },
    {
     "name": "stderr",
     "output_type": "stream",
     "text": [
      "[Parallel(n_jobs=1)]: Done   1 out of   1 | elapsed:    0.0s remaining:    0.0s\n",
      "[Parallel(n_jobs=1)]: Done   2 out of   2 | elapsed:    0.2s remaining:    0.0s\n"
     ]
    },
    {
     "name": "stdout",
     "output_type": "stream",
     "text": [
      "[CV]  C=1, decision_function_shape=ovr, kernel=linear, score=0.34838709677419355, total=   0.0s\n",
      "[CV] C=10, decision_function_shape=ovo, kernel=linear ................\n",
      "[CV]  C=10, decision_function_shape=ovo, kernel=linear, score=0.38064516129032255, total=   0.0s\n",
      "[CV] C=10, decision_function_shape=ovr, kernel=linear ................\n",
      "[CV]  C=10, decision_function_shape=ovr, kernel=linear, score=0.38064516129032255, total=   0.0s\n",
      "[CV] C=100, decision_function_shape=ovo, kernel=linear ...............\n",
      "[CV]  C=100, decision_function_shape=ovo, kernel=linear, score=0.3161290322580645, total=   0.1s\n",
      "[CV] C=100, decision_function_shape=ovr, kernel=linear ...............\n",
      "[CV]  C=100, decision_function_shape=ovr, kernel=linear, score=0.3161290322580645, total=   0.1s\n",
      "[CV] C=1000, decision_function_shape=ovo, kernel=linear ..............\n",
      "[CV]  C=1000, decision_function_shape=ovo, kernel=linear, score=0.3096774193548387, total=   0.3s\n",
      "[CV] C=1000, decision_function_shape=ovr, kernel=linear ..............\n",
      "[CV]  C=1000, decision_function_shape=ovr, kernel=linear, score=0.3096774193548387, total=   0.3s\n",
      "[CV] C=1, decision_function_shape=ovo, kernel=rbf ....................\n",
      "[CV]  C=1, decision_function_shape=ovo, kernel=rbf, score=0.07096774193548387, total=   0.1s\n",
      "[CV] C=1, decision_function_shape=ovr, kernel=rbf ....................\n",
      "[CV]  C=1, decision_function_shape=ovr, kernel=rbf, score=0.07096774193548387, total=   0.1s\n",
      "[CV] C=10, decision_function_shape=ovo, kernel=rbf ...................\n",
      "[CV]  C=10, decision_function_shape=ovo, kernel=rbf, score=0.25161290322580643, total=   0.0s\n",
      "[CV] C=10, decision_function_shape=ovr, kernel=rbf ...................\n",
      "[CV]  C=10, decision_function_shape=ovr, kernel=rbf, score=0.25161290322580643, total=   0.0s\n",
      "[CV] C=100, decision_function_shape=ovo, kernel=rbf ..................\n",
      "[CV]  C=100, decision_function_shape=ovo, kernel=rbf, score=0.34838709677419355, total=   0.0s\n",
      "[CV] C=100, decision_function_shape=ovr, kernel=rbf ..................\n",
      "[CV]  C=100, decision_function_shape=ovr, kernel=rbf, score=0.34838709677419355, total=   0.0s\n",
      "[CV] C=1000, decision_function_shape=ovo, kernel=rbf .................\n",
      "[CV]  C=1000, decision_function_shape=ovo, kernel=rbf, score=0.3935483870967742, total=   0.0s\n",
      "[CV] C=1000, decision_function_shape=ovr, kernel=rbf .................\n",
      "[CV]  C=1000, decision_function_shape=ovr, kernel=rbf, score=0.3935483870967742, total=   0.0s\n"
     ]
    },
    {
     "name": "stderr",
     "output_type": "stream",
     "text": [
      "[Parallel(n_jobs=1)]: Done  16 out of  16 | elapsed:    3.5s finished\n"
     ]
    }
   ],
   "source": [
    "for nr in frame_numbers:\n",
    "    print(nr)\n",
    "    try:\n",
    "        gyro_train_input, gyro_train_label = prepare_data(train, nr, 'gyro', verbose=False)\n",
    "        gyro_valid_input, gyro_valid_label = prepare_data(valid, nr, 'gyro', verbose=False)\n",
    "\n",
    "        svc = GridSearchCV(svm.SVC(random_state=random_seed), parameters, cv=cross_valid, scoring='accuracy',\n",
    "                           verbose=verbose_level, n_jobs=parallel_jobs).fit(\n",
    "                                                                        np.append(gyro_train_input, gyro_valid_input, axis=0),\n",
    "                                                                        np.append(gyro_train_label, gyro_valid_label))\n",
    "\n",
    "        paper_gyro.append((svc.best_score_, nr, svc.best_params_))\n",
    "    \n",
    "    except ValueError as err:\n",
    "        paper_gyro.append((-1, nr, svc.best_params_))"
   ]
  },
  {
   "cell_type": "markdown",
   "metadata": {},
   "source": [
    "### Magnetometer"
   ]
  },
  {
   "cell_type": "code",
   "execution_count": 14,
   "metadata": {},
   "outputs": [
    {
     "name": "stdout",
     "output_type": "stream",
     "text": [
      "1\n",
      "Fitting 1 folds for each of 16 candidates, totalling 16 fits\n",
      "[CV] C=1, decision_function_shape=ovo, kernel=linear .................\n",
      "[CV]  C=1, decision_function_shape=ovo, kernel=linear, score=0.057692307692307696, total=   0.0s\n",
      "[CV] C=1, decision_function_shape=ovr, kernel=linear .................\n",
      "[CV]  C=1, decision_function_shape=ovr, kernel=linear, score=0.057692307692307696, total=   0.0s\n",
      "[CV] C=10, decision_function_shape=ovo, kernel=linear ................\n",
      "[CV]  C=10, decision_function_shape=ovo, kernel=linear, score=0.08974358974358974, total=   0.0s\n",
      "[CV] C=10, decision_function_shape=ovr, kernel=linear ................\n",
      "[CV]  C=10, decision_function_shape=ovr, kernel=linear, score=0.08974358974358974, total=   0.0s\n",
      "[CV] C=100, decision_function_shape=ovo, kernel=linear ...............\n"
     ]
    },
    {
     "name": "stderr",
     "output_type": "stream",
     "text": [
      "[Parallel(n_jobs=1)]: Done   1 out of   1 | elapsed:    0.0s remaining:    0.0s\n",
      "[Parallel(n_jobs=1)]: Done   2 out of   2 | elapsed:    0.0s remaining:    0.0s\n"
     ]
    },
    {
     "name": "stdout",
     "output_type": "stream",
     "text": [
      "[CV]  C=100, decision_function_shape=ovo, kernel=linear, score=0.16025641025641027, total=   0.0s\n",
      "[CV] C=100, decision_function_shape=ovr, kernel=linear ...............\n",
      "[CV]  C=100, decision_function_shape=ovr, kernel=linear, score=0.16025641025641027, total=   0.0s\n",
      "[CV] C=1000, decision_function_shape=ovo, kernel=linear ..............\n",
      "[CV]  C=1000, decision_function_shape=ovo, kernel=linear, score=0.23076923076923078, total=   0.4s\n",
      "[CV] C=1000, decision_function_shape=ovr, kernel=linear ..............\n",
      "[CV]  C=1000, decision_function_shape=ovr, kernel=linear, score=0.23076923076923078, total=   0.4s\n",
      "[CV] C=1, decision_function_shape=ovo, kernel=rbf ....................\n",
      "[CV]  C=1, decision_function_shape=ovo, kernel=rbf, score=0.019230769230769232, total=   0.0s\n",
      "[CV] C=1, decision_function_shape=ovr, kernel=rbf ....................\n",
      "[CV]  C=1, decision_function_shape=ovr, kernel=rbf, score=0.019230769230769232, total=   0.0s\n",
      "[CV] C=10, decision_function_shape=ovo, kernel=rbf ...................\n",
      "[CV]  C=10, decision_function_shape=ovo, kernel=rbf, score=0.057692307692307696, total=   0.0s\n",
      "[CV] C=10, decision_function_shape=ovr, kernel=rbf ...................\n",
      "[CV]  C=10, decision_function_shape=ovr, kernel=rbf, score=0.057692307692307696, total=   0.0s\n",
      "[CV] C=100, decision_function_shape=ovo, kernel=rbf ..................\n",
      "[CV]  C=100, decision_function_shape=ovo, kernel=rbf, score=0.09615384615384616, total=   0.0s\n",
      "[CV] C=100, decision_function_shape=ovr, kernel=rbf ..................\n",
      "[CV]  C=100, decision_function_shape=ovr, kernel=rbf, score=0.09615384615384616, total=   0.0s\n",
      "[CV] C=1000, decision_function_shape=ovo, kernel=rbf .................\n",
      "[CV]  C=1000, decision_function_shape=ovo, kernel=rbf, score=0.16666666666666666, total=   0.0s\n",
      "[CV] C=1000, decision_function_shape=ovr, kernel=rbf .................\n",
      "[CV]  C=1000, decision_function_shape=ovr, kernel=rbf, score=0.16666666666666666, total=   0.0s\n"
     ]
    },
    {
     "name": "stderr",
     "output_type": "stream",
     "text": [
      "[Parallel(n_jobs=1)]: Done  16 out of  16 | elapsed:    2.0s finished\n"
     ]
    },
    {
     "name": "stdout",
     "output_type": "stream",
     "text": [
      "2\n",
      "Fitting 1 folds for each of 16 candidates, totalling 16 fits\n",
      "[CV] C=1, decision_function_shape=ovo, kernel=linear .................\n",
      "[CV]  C=1, decision_function_shape=ovo, kernel=linear, score=0.05128205128205128, total=   0.0s\n",
      "[CV] C=1, decision_function_shape=ovr, kernel=linear .................\n",
      "[CV]  C=1, decision_function_shape=ovr, kernel=linear, score=0.05128205128205128, total=   0.0s\n",
      "[CV] C=10, decision_function_shape=ovo, kernel=linear ................\n",
      "[CV]  C=10, decision_function_shape=ovo, kernel=linear, score=0.07051282051282051, total=   0.0s"
     ]
    },
    {
     "name": "stderr",
     "output_type": "stream",
     "text": [
      "[Parallel(n_jobs=1)]: Done   1 out of   1 | elapsed:    0.0s remaining:    0.0s\n",
      "[Parallel(n_jobs=1)]: Done   2 out of   2 | elapsed:    0.0s remaining:    0.0s\n"
     ]
    },
    {
     "name": "stdout",
     "output_type": "stream",
     "text": [
      "\n",
      "[CV] C=10, decision_function_shape=ovr, kernel=linear ................\n",
      "[CV]  C=10, decision_function_shape=ovr, kernel=linear, score=0.07051282051282051, total=   0.0s\n",
      "[CV] C=100, decision_function_shape=ovo, kernel=linear ...............\n",
      "[CV]  C=100, decision_function_shape=ovo, kernel=linear, score=0.1858974358974359, total=   0.1s\n",
      "[CV] C=100, decision_function_shape=ovr, kernel=linear ...............\n",
      "[CV]  C=100, decision_function_shape=ovr, kernel=linear, score=0.1858974358974359, total=   0.1s\n",
      "[CV] C=1000, decision_function_shape=ovo, kernel=linear ..............\n",
      "[CV]  C=1000, decision_function_shape=ovo, kernel=linear, score=0.30128205128205127, total=   0.7s\n",
      "[CV] C=1000, decision_function_shape=ovr, kernel=linear ..............\n",
      "[CV]  C=1000, decision_function_shape=ovr, kernel=linear, score=0.30128205128205127, total=   0.7s\n",
      "[CV] C=1, decision_function_shape=ovo, kernel=rbf ....................\n",
      "[CV]  C=1, decision_function_shape=ovo, kernel=rbf, score=0.019230769230769232, total=   0.0s\n",
      "[CV] C=1, decision_function_shape=ovr, kernel=rbf ....................\n",
      "[CV]  C=1, decision_function_shape=ovr, kernel=rbf, score=0.019230769230769232, total=   0.0s\n",
      "[CV] C=10, decision_function_shape=ovo, kernel=rbf ...................\n",
      "[CV]  C=10, decision_function_shape=ovo, kernel=rbf, score=0.07692307692307693, total=   0.0s\n",
      "[CV] C=10, decision_function_shape=ovr, kernel=rbf ...................\n",
      "[CV]  C=10, decision_function_shape=ovr, kernel=rbf, score=0.07692307692307693, total=   0.0s\n",
      "[CV] C=100, decision_function_shape=ovo, kernel=rbf ..................\n",
      "[CV]  C=100, decision_function_shape=ovo, kernel=rbf, score=0.09615384615384616, total=   0.0s\n",
      "[CV] C=100, decision_function_shape=ovr, kernel=rbf ..................\n",
      "[CV]  C=100, decision_function_shape=ovr, kernel=rbf, score=0.09615384615384616, total=   0.0s\n",
      "[CV] C=1000, decision_function_shape=ovo, kernel=rbf .................\n",
      "[CV]  C=1000, decision_function_shape=ovo, kernel=rbf, score=0.1794871794871795, total=   0.0s\n",
      "[CV] C=1000, decision_function_shape=ovr, kernel=rbf .................\n",
      "[CV]  C=1000, decision_function_shape=ovr, kernel=rbf, score=0.1794871794871795, total=   0.0s\n"
     ]
    },
    {
     "name": "stderr",
     "output_type": "stream",
     "text": [
      "[Parallel(n_jobs=1)]: Done  16 out of  16 | elapsed:    3.1s finished\n"
     ]
    },
    {
     "name": "stdout",
     "output_type": "stream",
     "text": [
      "3\n",
      "Fitting 1 folds for each of 16 candidates, totalling 16 fits\n",
      "[CV] C=1, decision_function_shape=ovo, kernel=linear .................\n",
      "[CV]  C=1, decision_function_shape=ovo, kernel=linear, score=0.12179487179487179, total=   0.0s\n",
      "[CV] C=1, decision_function_shape=ovr, kernel=linear .................\n",
      "[CV]  C=1, decision_function_shape=ovr, kernel=linear, score=0.12179487179487179, total=   0.0s\n",
      "[CV] C=10, decision_function_shape=ovo, kernel=linear ................\n"
     ]
    },
    {
     "name": "stderr",
     "output_type": "stream",
     "text": [
      "[Parallel(n_jobs=1)]: Done   1 out of   1 | elapsed:    0.0s remaining:    0.0s\n",
      "[Parallel(n_jobs=1)]: Done   2 out of   2 | elapsed:    0.1s remaining:    0.0s\n"
     ]
    },
    {
     "name": "stdout",
     "output_type": "stream",
     "text": [
      "[CV]  C=10, decision_function_shape=ovo, kernel=linear, score=0.19230769230769232, total=   0.0s\n",
      "[CV] C=10, decision_function_shape=ovr, kernel=linear ................\n",
      "[CV]  C=10, decision_function_shape=ovr, kernel=linear, score=0.19230769230769232, total=   0.0s\n",
      "[CV] C=100, decision_function_shape=ovo, kernel=linear ...............\n",
      "[CV]  C=100, decision_function_shape=ovo, kernel=linear, score=0.3269230769230769, total=   0.2s\n",
      "[CV] C=100, decision_function_shape=ovr, kernel=linear ...............\n",
      "[CV]  C=100, decision_function_shape=ovr, kernel=linear, score=0.3269230769230769, total=   0.2s\n",
      "[CV] C=1000, decision_function_shape=ovo, kernel=linear ..............\n",
      "[CV]  C=1000, decision_function_shape=ovo, kernel=linear, score=0.3782051282051282, total=   0.8s\n",
      "[CV] C=1000, decision_function_shape=ovr, kernel=linear ..............\n",
      "[CV]  C=1000, decision_function_shape=ovr, kernel=linear, score=0.3782051282051282, total=   0.8s\n",
      "[CV] C=1, decision_function_shape=ovo, kernel=rbf ....................\n",
      "[CV]  C=1, decision_function_shape=ovo, kernel=rbf, score=0.019230769230769232, total=   0.0s\n",
      "[CV] C=1, decision_function_shape=ovr, kernel=rbf ....................\n",
      "[CV]  C=1, decision_function_shape=ovr, kernel=rbf, score=0.019230769230769232, total=   0.0s\n",
      "[CV] C=10, decision_function_shape=ovo, kernel=rbf ...................\n",
      "[CV]  C=10, decision_function_shape=ovo, kernel=rbf, score=0.10897435897435898, total=   0.0s\n",
      "[CV] C=10, decision_function_shape=ovr, kernel=rbf ...................\n",
      "[CV]  C=10, decision_function_shape=ovr, kernel=rbf, score=0.10897435897435898, total=   0.0s\n",
      "[CV] C=100, decision_function_shape=ovo, kernel=rbf ..................\n",
      "[CV]  C=100, decision_function_shape=ovo, kernel=rbf, score=0.15384615384615385, total=   0.0s\n",
      "[CV] C=100, decision_function_shape=ovr, kernel=rbf ..................\n",
      "[CV]  C=100, decision_function_shape=ovr, kernel=rbf, score=0.15384615384615385, total=   0.0s\n",
      "[CV] C=1000, decision_function_shape=ovo, kernel=rbf .................\n",
      "[CV]  C=1000, decision_function_shape=ovo, kernel=rbf, score=0.30128205128205127, total=   0.0s\n",
      "[CV] C=1000, decision_function_shape=ovr, kernel=rbf .................\n",
      "[CV]  C=1000, decision_function_shape=ovr, kernel=rbf, score=0.30128205128205127, total=   0.0s\n"
     ]
    },
    {
     "name": "stderr",
     "output_type": "stream",
     "text": [
      "[Parallel(n_jobs=1)]: Done  16 out of  16 | elapsed:    3.7s finished\n"
     ]
    },
    {
     "name": "stdout",
     "output_type": "stream",
     "text": [
      "4\n",
      "Fitting 1 folds for each of 16 candidates, totalling 16 fits\n",
      "[CV] C=1, decision_function_shape=ovo, kernel=linear .................\n",
      "[CV]  C=1, decision_function_shape=ovo, kernel=linear, score=0.14743589743589744, total=   0.0s\n",
      "[CV] C=1, decision_function_shape=ovr, kernel=linear .................\n"
     ]
    },
    {
     "name": "stderr",
     "output_type": "stream",
     "text": [
      "[Parallel(n_jobs=1)]: Done   1 out of   1 | elapsed:    0.0s remaining:    0.0s\n",
      "[Parallel(n_jobs=1)]: Done   2 out of   2 | elapsed:    0.1s remaining:    0.0s\n"
     ]
    },
    {
     "name": "stdout",
     "output_type": "stream",
     "text": [
      "[CV]  C=1, decision_function_shape=ovr, kernel=linear, score=0.14743589743589744, total=   0.0s\n",
      "[CV] C=10, decision_function_shape=ovo, kernel=linear ................\n",
      "[CV]  C=10, decision_function_shape=ovo, kernel=linear, score=0.23076923076923078, total=   0.0s\n",
      "[CV] C=10, decision_function_shape=ovr, kernel=linear ................\n",
      "[CV]  C=10, decision_function_shape=ovr, kernel=linear, score=0.23076923076923078, total=   0.0s\n",
      "[CV] C=100, decision_function_shape=ovo, kernel=linear ...............\n",
      "[CV]  C=100, decision_function_shape=ovo, kernel=linear, score=0.2948717948717949, total=   0.2s\n",
      "[CV] C=100, decision_function_shape=ovr, kernel=linear ...............\n",
      "[CV]  C=100, decision_function_shape=ovr, kernel=linear, score=0.2948717948717949, total=   0.3s\n",
      "[CV] C=1000, decision_function_shape=ovo, kernel=linear ..............\n",
      "[CV]  C=1000, decision_function_shape=ovo, kernel=linear, score=0.3525641025641026, total=   1.1s\n",
      "[CV] C=1000, decision_function_shape=ovr, kernel=linear ..............\n",
      "[CV]  C=1000, decision_function_shape=ovr, kernel=linear, score=0.3525641025641026, total=   1.1s\n",
      "[CV] C=1, decision_function_shape=ovo, kernel=rbf ....................\n",
      "[CV]  C=1, decision_function_shape=ovo, kernel=rbf, score=0.019230769230769232, total=   0.0s\n",
      "[CV] C=1, decision_function_shape=ovr, kernel=rbf ....................\n",
      "[CV]  C=1, decision_function_shape=ovr, kernel=rbf, score=0.019230769230769232, total=   0.0s\n",
      "[CV] C=10, decision_function_shape=ovo, kernel=rbf ...................\n",
      "[CV]  C=10, decision_function_shape=ovo, kernel=rbf, score=0.11538461538461539, total=   0.0s\n",
      "[CV] C=10, decision_function_shape=ovr, kernel=rbf ...................\n",
      "[CV]  C=10, decision_function_shape=ovr, kernel=rbf, score=0.11538461538461539, total=   0.0s\n",
      "[CV] C=100, decision_function_shape=ovo, kernel=rbf ..................\n",
      "[CV]  C=100, decision_function_shape=ovo, kernel=rbf, score=0.16025641025641027, total=   0.0s\n",
      "[CV] C=100, decision_function_shape=ovr, kernel=rbf ..................\n",
      "[CV]  C=100, decision_function_shape=ovr, kernel=rbf, score=0.16025641025641027, total=   0.0s\n",
      "[CV] C=1000, decision_function_shape=ovo, kernel=rbf .................\n",
      "[CV]  C=1000, decision_function_shape=ovo, kernel=rbf, score=0.25, total=   0.0s\n",
      "[CV] C=1000, decision_function_shape=ovr, kernel=rbf .................\n",
      "[CV]  C=1000, decision_function_shape=ovr, kernel=rbf, score=0.25, total=   0.0s\n"
     ]
    },
    {
     "name": "stderr",
     "output_type": "stream",
     "text": [
      "[Parallel(n_jobs=1)]: Done  16 out of  16 | elapsed:    4.7s finished\n"
     ]
    },
    {
     "name": "stdout",
     "output_type": "stream",
     "text": [
      "5\n",
      "Fitting 1 folds for each of 16 candidates, totalling 16 fits\n",
      "[CV] C=1, decision_function_shape=ovo, kernel=linear .................\n",
      "[CV]  C=1, decision_function_shape=ovo, kernel=linear, score=0.1346153846153846, total=   0.0s\n",
      "[CV] C=1, decision_function_shape=ovr, kernel=linear .................\n"
     ]
    },
    {
     "name": "stderr",
     "output_type": "stream",
     "text": [
      "[Parallel(n_jobs=1)]: Done   1 out of   1 | elapsed:    0.0s remaining:    0.0s\n",
      "[Parallel(n_jobs=1)]: Done   2 out of   2 | elapsed:    0.1s remaining:    0.0s\n"
     ]
    },
    {
     "name": "stdout",
     "output_type": "stream",
     "text": [
      "[CV]  C=1, decision_function_shape=ovr, kernel=linear, score=0.1346153846153846, total=   0.0s\n",
      "[CV] C=10, decision_function_shape=ovo, kernel=linear ................\n",
      "[CV]  C=10, decision_function_shape=ovo, kernel=linear, score=0.21794871794871795, total=   0.0s\n",
      "[CV] C=10, decision_function_shape=ovr, kernel=linear ................\n",
      "[CV]  C=10, decision_function_shape=ovr, kernel=linear, score=0.21794871794871795, total=   0.0s\n",
      "[CV] C=100, decision_function_shape=ovo, kernel=linear ...............\n",
      "[CV]  C=100, decision_function_shape=ovo, kernel=linear, score=0.30128205128205127, total=   0.2s\n",
      "[CV] C=100, decision_function_shape=ovr, kernel=linear ...............\n",
      "[CV]  C=100, decision_function_shape=ovr, kernel=linear, score=0.30128205128205127, total=   0.2s\n",
      "[CV] C=1000, decision_function_shape=ovo, kernel=linear ..............\n",
      "[CV]  C=1000, decision_function_shape=ovo, kernel=linear, score=0.2948717948717949, total=   1.2s\n",
      "[CV] C=1000, decision_function_shape=ovr, kernel=linear ..............\n",
      "[CV]  C=1000, decision_function_shape=ovr, kernel=linear, score=0.2948717948717949, total=   1.2s\n",
      "[CV] C=1, decision_function_shape=ovo, kernel=rbf ....................\n",
      "[CV]  C=1, decision_function_shape=ovo, kernel=rbf, score=0.019230769230769232, total=   0.0s\n",
      "[CV] C=1, decision_function_shape=ovr, kernel=rbf ....................\n",
      "[CV]  C=1, decision_function_shape=ovr, kernel=rbf, score=0.019230769230769232, total=   0.0s\n",
      "[CV] C=10, decision_function_shape=ovo, kernel=rbf ...................\n",
      "[CV]  C=10, decision_function_shape=ovo, kernel=rbf, score=0.12179487179487179, total=   0.0s\n",
      "[CV] C=10, decision_function_shape=ovr, kernel=rbf ...................\n",
      "[CV]  C=10, decision_function_shape=ovr, kernel=rbf, score=0.12179487179487179, total=   0.0s\n",
      "[CV] C=100, decision_function_shape=ovo, kernel=rbf ..................\n",
      "[CV]  C=100, decision_function_shape=ovo, kernel=rbf, score=0.15384615384615385, total=   0.0s\n",
      "[CV] C=100, decision_function_shape=ovr, kernel=rbf ..................\n",
      "[CV]  C=100, decision_function_shape=ovr, kernel=rbf, score=0.15384615384615385, total=   0.0s\n",
      "[CV] C=1000, decision_function_shape=ovo, kernel=rbf .................\n",
      "[CV]  C=1000, decision_function_shape=ovo, kernel=rbf, score=0.24358974358974358, total=   0.0s\n",
      "[CV] C=1000, decision_function_shape=ovr, kernel=rbf .................\n",
      "[CV]  C=1000, decision_function_shape=ovr, kernel=rbf, score=0.24358974358974358, total=   0.1s\n"
     ]
    },
    {
     "name": "stderr",
     "output_type": "stream",
     "text": [
      "[Parallel(n_jobs=1)]: Done  16 out of  16 | elapsed:    5.3s finished\n"
     ]
    },
    {
     "name": "stdout",
     "output_type": "stream",
     "text": [
      "6\n",
      "Fitting 1 folds for each of 16 candidates, totalling 16 fits\n",
      "[CV] C=1, decision_function_shape=ovo, kernel=linear .................\n",
      "[CV]  C=1, decision_function_shape=ovo, kernel=linear, score=0.10256410256410256, total=   0.0s\n",
      "[CV] C=1, decision_function_shape=ovr, kernel=linear .................\n"
     ]
    },
    {
     "name": "stderr",
     "output_type": "stream",
     "text": [
      "[Parallel(n_jobs=1)]: Done   1 out of   1 | elapsed:    0.0s remaining:    0.0s\n",
      "[Parallel(n_jobs=1)]: Done   2 out of   2 | elapsed:    0.2s remaining:    0.0s\n"
     ]
    },
    {
     "name": "stdout",
     "output_type": "stream",
     "text": [
      "[CV]  C=1, decision_function_shape=ovr, kernel=linear, score=0.10256410256410256, total=   0.0s\n",
      "[CV] C=10, decision_function_shape=ovo, kernel=linear ................\n",
      "[CV]  C=10, decision_function_shape=ovo, kernel=linear, score=0.15384615384615385, total=   0.0s\n",
      "[CV] C=10, decision_function_shape=ovr, kernel=linear ................\n",
      "[CV]  C=10, decision_function_shape=ovr, kernel=linear, score=0.15384615384615385, total=   0.0s\n",
      "[CV] C=100, decision_function_shape=ovo, kernel=linear ...............\n",
      "[CV]  C=100, decision_function_shape=ovo, kernel=linear, score=0.21153846153846154, total=   0.2s\n",
      "[CV] C=100, decision_function_shape=ovr, kernel=linear ...............\n",
      "[CV]  C=100, decision_function_shape=ovr, kernel=linear, score=0.21153846153846154, total=   0.2s\n",
      "[CV] C=1000, decision_function_shape=ovo, kernel=linear ..............\n",
      "[CV]  C=1000, decision_function_shape=ovo, kernel=linear, score=0.23717948717948717, total=   1.2s\n",
      "[CV] C=1000, decision_function_shape=ovr, kernel=linear ..............\n",
      "[CV]  C=1000, decision_function_shape=ovr, kernel=linear, score=0.23717948717948717, total=   1.2s\n",
      "[CV] C=1, decision_function_shape=ovo, kernel=rbf ....................\n",
      "[CV]  C=1, decision_function_shape=ovo, kernel=rbf, score=0.019230769230769232, total=   0.0s\n",
      "[CV] C=1, decision_function_shape=ovr, kernel=rbf ....................\n",
      "[CV]  C=1, decision_function_shape=ovr, kernel=rbf, score=0.019230769230769232, total=   0.0s\n",
      "[CV] C=10, decision_function_shape=ovo, kernel=rbf ...................\n",
      "[CV]  C=10, decision_function_shape=ovo, kernel=rbf, score=0.09615384615384616, total=   0.0s\n",
      "[CV] C=10, decision_function_shape=ovr, kernel=rbf ...................\n",
      "[CV]  C=10, decision_function_shape=ovr, kernel=rbf, score=0.09615384615384616, total=   0.0s\n",
      "[CV] C=100, decision_function_shape=ovo, kernel=rbf ..................\n",
      "[CV]  C=100, decision_function_shape=ovo, kernel=rbf, score=0.12179487179487179, total=   0.0s\n",
      "[CV] C=100, decision_function_shape=ovr, kernel=rbf ..................\n",
      "[CV]  C=100, decision_function_shape=ovr, kernel=rbf, score=0.12179487179487179, total=   0.0s\n",
      "[CV] C=1000, decision_function_shape=ovo, kernel=rbf .................\n",
      "[CV]  C=1000, decision_function_shape=ovo, kernel=rbf, score=0.17307692307692307, total=   0.1s\n",
      "[CV] C=1000, decision_function_shape=ovr, kernel=rbf .................\n",
      "[CV]  C=1000, decision_function_shape=ovr, kernel=rbf, score=0.17307692307692307, total=   0.0s\n"
     ]
    },
    {
     "name": "stderr",
     "output_type": "stream",
     "text": [
      "[Parallel(n_jobs=1)]: Done  16 out of  16 | elapsed:    5.4s finished\n"
     ]
    },
    {
     "name": "stdout",
     "output_type": "stream",
     "text": [
      "7\n",
      "Fitting 1 folds for each of 16 candidates, totalling 16 fits\n",
      "[CV] C=1, decision_function_shape=ovo, kernel=linear .................\n",
      "[CV]  C=1, decision_function_shape=ovo, kernel=linear, score=0.12179487179487179, total=   0.0s\n",
      "[CV] C=1, decision_function_shape=ovr, kernel=linear .................\n"
     ]
    },
    {
     "name": "stderr",
     "output_type": "stream",
     "text": [
      "[Parallel(n_jobs=1)]: Done   1 out of   1 | elapsed:    0.1s remaining:    0.0s\n",
      "[Parallel(n_jobs=1)]: Done   2 out of   2 | elapsed:    0.2s remaining:    0.0s\n"
     ]
    },
    {
     "name": "stdout",
     "output_type": "stream",
     "text": [
      "[CV]  C=1, decision_function_shape=ovr, kernel=linear, score=0.12179487179487179, total=   0.0s\n",
      "[CV] C=10, decision_function_shape=ovo, kernel=linear ................\n",
      "[CV]  C=10, decision_function_shape=ovo, kernel=linear, score=0.16666666666666666, total=   0.0s\n",
      "[CV] C=10, decision_function_shape=ovr, kernel=linear ................\n",
      "[CV]  C=10, decision_function_shape=ovr, kernel=linear, score=0.16666666666666666, total=   0.0s\n",
      "[CV] C=100, decision_function_shape=ovo, kernel=linear ...............\n",
      "[CV]  C=100, decision_function_shape=ovo, kernel=linear, score=0.16025641025641027, total=   0.2s\n",
      "[CV] C=100, decision_function_shape=ovr, kernel=linear ...............\n",
      "[CV]  C=100, decision_function_shape=ovr, kernel=linear, score=0.16025641025641027, total=   0.2s\n",
      "[CV] C=1000, decision_function_shape=ovo, kernel=linear ..............\n",
      "[CV]  C=1000, decision_function_shape=ovo, kernel=linear, score=0.23717948717948717, total=   1.2s\n",
      "[CV] C=1000, decision_function_shape=ovr, kernel=linear ..............\n",
      "[CV]  C=1000, decision_function_shape=ovr, kernel=linear, score=0.23717948717948717, total=   1.2s\n",
      "[CV] C=1, decision_function_shape=ovo, kernel=rbf ....................\n",
      "[CV]  C=1, decision_function_shape=ovo, kernel=rbf, score=0.019230769230769232, total=   0.0s\n",
      "[CV] C=1, decision_function_shape=ovr, kernel=rbf ....................\n",
      "[CV]  C=1, decision_function_shape=ovr, kernel=rbf, score=0.019230769230769232, total=   0.0s\n",
      "[CV] C=10, decision_function_shape=ovo, kernel=rbf ...................\n",
      "[CV]  C=10, decision_function_shape=ovo, kernel=rbf, score=0.07051282051282051, total=   0.0s\n",
      "[CV] C=10, decision_function_shape=ovr, kernel=rbf ...................\n",
      "[CV]  C=10, decision_function_shape=ovr, kernel=rbf, score=0.07051282051282051, total=   0.0s\n",
      "[CV] C=100, decision_function_shape=ovo, kernel=rbf ..................\n",
      "[CV]  C=100, decision_function_shape=ovo, kernel=rbf, score=0.11538461538461539, total=   0.0s\n",
      "[CV] C=100, decision_function_shape=ovr, kernel=rbf ..................\n",
      "[CV]  C=100, decision_function_shape=ovr, kernel=rbf, score=0.11538461538461539, total=   0.0s\n",
      "[CV] C=1000, decision_function_shape=ovo, kernel=rbf .................\n",
      "[CV]  C=1000, decision_function_shape=ovo, kernel=rbf, score=0.16666666666666666, total=   0.1s\n",
      "[CV] C=1000, decision_function_shape=ovr, kernel=rbf .................\n",
      "[CV]  C=1000, decision_function_shape=ovr, kernel=rbf, score=0.16666666666666666, total=   0.1s\n"
     ]
    },
    {
     "name": "stderr",
     "output_type": "stream",
     "text": [
      "[Parallel(n_jobs=1)]: Done  16 out of  16 | elapsed:    5.7s finished\n"
     ]
    },
    {
     "name": "stdout",
     "output_type": "stream",
     "text": [
      "8\n",
      "Fitting 1 folds for each of 16 candidates, totalling 16 fits\n",
      "[CV] C=1, decision_function_shape=ovo, kernel=linear .................\n",
      "[CV]  C=1, decision_function_shape=ovo, kernel=linear, score=0.12179487179487179, total=   0.0s\n",
      "[CV] C=1, decision_function_shape=ovr, kernel=linear .................\n"
     ]
    },
    {
     "name": "stderr",
     "output_type": "stream",
     "text": [
      "[Parallel(n_jobs=1)]: Done   1 out of   1 | elapsed:    0.1s remaining:    0.0s\n",
      "[Parallel(n_jobs=1)]: Done   2 out of   2 | elapsed:    0.3s remaining:    0.0s\n"
     ]
    },
    {
     "name": "stdout",
     "output_type": "stream",
     "text": [
      "[CV]  C=1, decision_function_shape=ovr, kernel=linear, score=0.12179487179487179, total=   0.0s\n",
      "[CV] C=10, decision_function_shape=ovo, kernel=linear ................\n",
      "[CV]  C=10, decision_function_shape=ovo, kernel=linear, score=0.15384615384615385, total=   0.0s\n",
      "[CV] C=10, decision_function_shape=ovr, kernel=linear ................\n",
      "[CV]  C=10, decision_function_shape=ovr, kernel=linear, score=0.15384615384615385, total=   0.0s\n",
      "[CV] C=100, decision_function_shape=ovo, kernel=linear ...............\n",
      "[CV]  C=100, decision_function_shape=ovo, kernel=linear, score=0.15384615384615385, total=   0.2s\n",
      "[CV] C=100, decision_function_shape=ovr, kernel=linear ...............\n",
      "[CV]  C=100, decision_function_shape=ovr, kernel=linear, score=0.15384615384615385, total=   0.2s\n",
      "[CV] C=1000, decision_function_shape=ovo, kernel=linear ..............\n",
      "[CV]  C=1000, decision_function_shape=ovo, kernel=linear, score=0.23076923076923078, total=   1.2s\n",
      "[CV] C=1000, decision_function_shape=ovr, kernel=linear ..............\n",
      "[CV]  C=1000, decision_function_shape=ovr, kernel=linear, score=0.23076923076923078, total=   1.2s\n",
      "[CV] C=1, decision_function_shape=ovo, kernel=rbf ....................\n",
      "[CV]  C=1, decision_function_shape=ovo, kernel=rbf, score=0.019230769230769232, total=   0.1s\n",
      "[CV] C=1, decision_function_shape=ovr, kernel=rbf ....................\n",
      "[CV]  C=1, decision_function_shape=ovr, kernel=rbf, score=0.019230769230769232, total=   0.1s\n",
      "[CV] C=10, decision_function_shape=ovo, kernel=rbf ...................\n",
      "[CV]  C=10, decision_function_shape=ovo, kernel=rbf, score=0.0641025641025641, total=   0.1s\n",
      "[CV] C=10, decision_function_shape=ovr, kernel=rbf ...................\n",
      "[CV]  C=10, decision_function_shape=ovr, kernel=rbf, score=0.0641025641025641, total=   0.1s\n",
      "[CV] C=100, decision_function_shape=ovo, kernel=rbf ..................\n",
      "[CV]  C=100, decision_function_shape=ovo, kernel=rbf, score=0.12179487179487179, total=   0.1s\n",
      "[CV] C=100, decision_function_shape=ovr, kernel=rbf ..................\n",
      "[CV]  C=100, decision_function_shape=ovr, kernel=rbf, score=0.12179487179487179, total=   0.1s\n",
      "[CV] C=1000, decision_function_shape=ovo, kernel=rbf .................\n",
      "[CV]  C=1000, decision_function_shape=ovo, kernel=rbf, score=0.17307692307692307, total=   0.1s\n",
      "[CV] C=1000, decision_function_shape=ovr, kernel=rbf .................\n",
      "[CV]  C=1000, decision_function_shape=ovr, kernel=rbf, score=0.17307692307692307, total=   0.1s\n"
     ]
    },
    {
     "name": "stderr",
     "output_type": "stream",
     "text": [
      "[Parallel(n_jobs=1)]: Done  16 out of  16 | elapsed:    6.2s finished\n"
     ]
    },
    {
     "name": "stdout",
     "output_type": "stream",
     "text": [
      "9\n",
      "Fitting 1 folds for each of 16 candidates, totalling 16 fits\n",
      "[CV] C=1, decision_function_shape=ovo, kernel=linear .................\n",
      "[CV]  C=1, decision_function_shape=ovo, kernel=linear, score=0.07692307692307693, total=   0.0s\n",
      "[CV] C=1, decision_function_shape=ovr, kernel=linear .................\n"
     ]
    },
    {
     "name": "stderr",
     "output_type": "stream",
     "text": [
      "[Parallel(n_jobs=1)]: Done   1 out of   1 | elapsed:    0.1s remaining:    0.0s\n"
     ]
    },
    {
     "name": "stdout",
     "output_type": "stream",
     "text": [
      "[CV]  C=1, decision_function_shape=ovr, kernel=linear, score=0.07692307692307693, total=   0.0s\n",
      "[CV] C=10, decision_function_shape=ovo, kernel=linear ................\n"
     ]
    },
    {
     "name": "stderr",
     "output_type": "stream",
     "text": [
      "[Parallel(n_jobs=1)]: Done   2 out of   2 | elapsed:    0.3s remaining:    0.0s\n"
     ]
    },
    {
     "name": "stdout",
     "output_type": "stream",
     "text": [
      "[CV]  C=10, decision_function_shape=ovo, kernel=linear, score=0.1282051282051282, total=   0.1s\n",
      "[CV] C=10, decision_function_shape=ovr, kernel=linear ................\n",
      "[CV]  C=10, decision_function_shape=ovr, kernel=linear, score=0.1282051282051282, total=   0.1s\n",
      "[CV] C=100, decision_function_shape=ovo, kernel=linear ...............\n",
      "[CV]  C=100, decision_function_shape=ovo, kernel=linear, score=0.16666666666666666, total=   0.2s\n",
      "[CV] C=100, decision_function_shape=ovr, kernel=linear ...............\n",
      "[CV]  C=100, decision_function_shape=ovr, kernel=linear, score=0.16666666666666666, total=   0.2s\n",
      "[CV] C=1000, decision_function_shape=ovo, kernel=linear ..............\n",
      "[CV]  C=1000, decision_function_shape=ovo, kernel=linear, score=0.1794871794871795, total=   1.4s\n",
      "[CV] C=1000, decision_function_shape=ovr, kernel=linear ..............\n",
      "[CV]  C=1000, decision_function_shape=ovr, kernel=linear, score=0.1794871794871795, total=   1.4s\n",
      "[CV] C=1, decision_function_shape=ovo, kernel=rbf ....................\n",
      "[CV]  C=1, decision_function_shape=ovo, kernel=rbf, score=0.019230769230769232, total=   0.1s\n",
      "[CV] C=1, decision_function_shape=ovr, kernel=rbf ....................\n",
      "[CV]  C=1, decision_function_shape=ovr, kernel=rbf, score=0.019230769230769232, total=   0.1s\n",
      "[CV] C=10, decision_function_shape=ovo, kernel=rbf ...................\n",
      "[CV]  C=10, decision_function_shape=ovo, kernel=rbf, score=0.057692307692307696, total=   0.1s\n",
      "[CV] C=10, decision_function_shape=ovr, kernel=rbf ...................\n",
      "[CV]  C=10, decision_function_shape=ovr, kernel=rbf, score=0.057692307692307696, total=   0.1s\n",
      "[CV] C=100, decision_function_shape=ovo, kernel=rbf ..................\n",
      "[CV]  C=100, decision_function_shape=ovo, kernel=rbf, score=0.08333333333333333, total=   0.1s\n",
      "[CV] C=100, decision_function_shape=ovr, kernel=rbf ..................\n",
      "[CV]  C=100, decision_function_shape=ovr, kernel=rbf, score=0.08333333333333333, total=   0.1s\n",
      "[CV] C=1000, decision_function_shape=ovo, kernel=rbf .................\n",
      "[CV]  C=1000, decision_function_shape=ovo, kernel=rbf, score=0.1282051282051282, total=   0.1s\n",
      "[CV] C=1000, decision_function_shape=ovr, kernel=rbf .................\n",
      "[CV]  C=1000, decision_function_shape=ovr, kernel=rbf, score=0.1282051282051282, total=   0.1s\n"
     ]
    },
    {
     "name": "stderr",
     "output_type": "stream",
     "text": [
      "[Parallel(n_jobs=1)]: Done  16 out of  16 | elapsed:    6.8s finished\n"
     ]
    },
    {
     "name": "stdout",
     "output_type": "stream",
     "text": [
      "10\n",
      "Fitting 1 folds for each of 16 candidates, totalling 16 fits\n",
      "[CV] C=1, decision_function_shape=ovo, kernel=linear .................\n",
      "[CV]  C=1, decision_function_shape=ovo, kernel=linear, score=0.09615384615384616, total=   0.1s\n",
      "[CV] C=1, decision_function_shape=ovr, kernel=linear .................\n"
     ]
    },
    {
     "name": "stderr",
     "output_type": "stream",
     "text": [
      "[Parallel(n_jobs=1)]: Done   1 out of   1 | elapsed:    0.1s remaining:    0.0s\n"
     ]
    },
    {
     "name": "stdout",
     "output_type": "stream",
     "text": [
      "[CV]  C=1, decision_function_shape=ovr, kernel=linear, score=0.09615384615384616, total=   0.1s\n",
      "[CV] C=10, decision_function_shape=ovo, kernel=linear ................\n"
     ]
    },
    {
     "name": "stderr",
     "output_type": "stream",
     "text": [
      "[Parallel(n_jobs=1)]: Done   2 out of   2 | elapsed:    0.4s remaining:    0.0s\n"
     ]
    },
    {
     "name": "stdout",
     "output_type": "stream",
     "text": [
      "[CV]  C=10, decision_function_shape=ovo, kernel=linear, score=0.10897435897435898, total=   0.1s\n",
      "[CV] C=10, decision_function_shape=ovr, kernel=linear ................\n",
      "[CV]  C=10, decision_function_shape=ovr, kernel=linear, score=0.10897435897435898, total=   0.1s\n",
      "[CV] C=100, decision_function_shape=ovo, kernel=linear ...............\n",
      "[CV]  C=100, decision_function_shape=ovo, kernel=linear, score=0.1282051282051282, total=   0.2s\n",
      "[CV] C=100, decision_function_shape=ovr, kernel=linear ...............\n",
      "[CV]  C=100, decision_function_shape=ovr, kernel=linear, score=0.1282051282051282, total=   0.2s\n",
      "[CV] C=1000, decision_function_shape=ovo, kernel=linear ..............\n",
      "[CV]  C=1000, decision_function_shape=ovo, kernel=linear, score=0.16666666666666666, total=   1.2s\n",
      "[CV] C=1000, decision_function_shape=ovr, kernel=linear ..............\n",
      "[CV]  C=1000, decision_function_shape=ovr, kernel=linear, score=0.16666666666666666, total=   1.3s\n",
      "[CV] C=1, decision_function_shape=ovo, kernel=rbf ....................\n",
      "[CV]  C=1, decision_function_shape=ovo, kernel=rbf, score=0.019230769230769232, total=   0.1s\n",
      "[CV] C=1, decision_function_shape=ovr, kernel=rbf ....................\n",
      "[CV]  C=1, decision_function_shape=ovr, kernel=rbf, score=0.019230769230769232, total=   0.1s\n",
      "[CV] C=10, decision_function_shape=ovo, kernel=rbf ...................\n",
      "[CV]  C=10, decision_function_shape=ovo, kernel=rbf, score=0.07051282051282051, total=   0.1s\n",
      "[CV] C=10, decision_function_shape=ovr, kernel=rbf ...................\n",
      "[CV]  C=10, decision_function_shape=ovr, kernel=rbf, score=0.07051282051282051, total=   0.1s\n",
      "[CV] C=100, decision_function_shape=ovo, kernel=rbf ..................\n",
      "[CV]  C=100, decision_function_shape=ovo, kernel=rbf, score=0.08974358974358974, total=   0.1s\n",
      "[CV] C=100, decision_function_shape=ovr, kernel=rbf ..................\n",
      "[CV]  C=100, decision_function_shape=ovr, kernel=rbf, score=0.08974358974358974, total=   0.1s\n",
      "[CV] C=1000, decision_function_shape=ovo, kernel=rbf .................\n",
      "[CV]  C=1000, decision_function_shape=ovo, kernel=rbf, score=0.09615384615384616, total=   0.1s\n",
      "[CV] C=1000, decision_function_shape=ovr, kernel=rbf .................\n",
      "[CV]  C=1000, decision_function_shape=ovr, kernel=rbf, score=0.09615384615384616, total=   0.1s\n"
     ]
    },
    {
     "name": "stderr",
     "output_type": "stream",
     "text": [
      "[Parallel(n_jobs=1)]: Done  16 out of  16 | elapsed:    6.8s finished\n"
     ]
    },
    {
     "name": "stdout",
     "output_type": "stream",
     "text": [
      "11\n",
      "Fitting 1 folds for each of 16 candidates, totalling 16 fits\n",
      "[CV] C=1, decision_function_shape=ovo, kernel=linear .................\n",
      "[CV]  C=1, decision_function_shape=ovo, kernel=linear, score=0.0641025641025641, total=   0.1s\n",
      "[CV] C=1, decision_function_shape=ovr, kernel=linear .................\n"
     ]
    },
    {
     "name": "stderr",
     "output_type": "stream",
     "text": [
      "[Parallel(n_jobs=1)]: Done   1 out of   1 | elapsed:    0.2s remaining:    0.0s\n"
     ]
    },
    {
     "name": "stdout",
     "output_type": "stream",
     "text": [
      "[CV]  C=1, decision_function_shape=ovr, kernel=linear, score=0.0641025641025641, total=   0.1s\n",
      "[CV] C=10, decision_function_shape=ovo, kernel=linear ................\n"
     ]
    },
    {
     "name": "stderr",
     "output_type": "stream",
     "text": [
      "[Parallel(n_jobs=1)]: Done   2 out of   2 | elapsed:    0.4s remaining:    0.0s\n"
     ]
    },
    {
     "name": "stdout",
     "output_type": "stream",
     "text": [
      "[CV]  C=10, decision_function_shape=ovo, kernel=linear, score=0.10897435897435898, total=   0.1s\n",
      "[CV] C=10, decision_function_shape=ovr, kernel=linear ................\n",
      "[CV]  C=10, decision_function_shape=ovr, kernel=linear, score=0.10897435897435898, total=   0.1s\n",
      "[CV] C=100, decision_function_shape=ovo, kernel=linear ...............\n",
      "[CV]  C=100, decision_function_shape=ovo, kernel=linear, score=0.14102564102564102, total=   0.3s\n",
      "[CV] C=100, decision_function_shape=ovr, kernel=linear ...............\n",
      "[CV]  C=100, decision_function_shape=ovr, kernel=linear, score=0.14102564102564102, total=   0.3s\n",
      "[CV] C=1000, decision_function_shape=ovo, kernel=linear ..............\n",
      "[CV]  C=1000, decision_function_shape=ovo, kernel=linear, score=0.16666666666666666, total=   1.3s\n",
      "[CV] C=1000, decision_function_shape=ovr, kernel=linear ..............\n",
      "[CV]  C=1000, decision_function_shape=ovr, kernel=linear, score=0.16666666666666666, total=   1.3s\n",
      "[CV] C=1, decision_function_shape=ovo, kernel=rbf ....................\n",
      "[CV]  C=1, decision_function_shape=ovo, kernel=rbf, score=0.019230769230769232, total=   0.1s\n",
      "[CV] C=1, decision_function_shape=ovr, kernel=rbf ....................\n",
      "[CV]  C=1, decision_function_shape=ovr, kernel=rbf, score=0.019230769230769232, total=   0.1s\n",
      "[CV] C=10, decision_function_shape=ovo, kernel=rbf ...................\n",
      "[CV]  C=10, decision_function_shape=ovo, kernel=rbf, score=0.05128205128205128, total=   0.1s\n",
      "[CV] C=10, decision_function_shape=ovr, kernel=rbf ...................\n",
      "[CV]  C=10, decision_function_shape=ovr, kernel=rbf, score=0.05128205128205128, total=   0.1s\n",
      "[CV] C=100, decision_function_shape=ovo, kernel=rbf ..................\n",
      "[CV]  C=100, decision_function_shape=ovo, kernel=rbf, score=0.0641025641025641, total=   0.1s\n",
      "[CV] C=100, decision_function_shape=ovr, kernel=rbf ..................\n",
      "[CV]  C=100, decision_function_shape=ovr, kernel=rbf, score=0.0641025641025641, total=   0.1s\n",
      "[CV] C=1000, decision_function_shape=ovo, kernel=rbf .................\n",
      "[CV]  C=1000, decision_function_shape=ovo, kernel=rbf, score=0.08974358974358974, total=   0.1s\n",
      "[CV] C=1000, decision_function_shape=ovr, kernel=rbf .................\n",
      "[CV]  C=1000, decision_function_shape=ovr, kernel=rbf, score=0.08974358974358974, total=   0.1s\n"
     ]
    },
    {
     "name": "stderr",
     "output_type": "stream",
     "text": [
      "[Parallel(n_jobs=1)]: Done  16 out of  16 | elapsed:    7.3s finished\n"
     ]
    },
    {
     "name": "stdout",
     "output_type": "stream",
     "text": [
      "12\n"
     ]
    },
    {
     "name": "stderr",
     "output_type": "stream",
     "text": [
      "c:\\python36\\lib\\site-packages\\scipy\\stats\\stats.py:3021: RuntimeWarning: invalid value encountered in double_scalars\n",
      "  r = r_num / r_den\n",
      "c:\\python36\\lib\\site-packages\\scipy\\stats\\stats.py:5277: RuntimeWarning: invalid value encountered in less\n",
      "  x = np.where(x < 1.0, x, 1.0)  # if x > 1 then return 1.0\n"
     ]
    }
   ],
   "source": [
    "for nr in frame_numbers:\n",
    "    print(nr)\n",
    "    try:\n",
    "        ori_train_input, ori_train_label = prepare_data(train, nr, 'orientation', verbose=False)\n",
    "        ori_valid_input, ori_valid_label = prepare_data(valid, nr, 'orientation', verbose=False)\n",
    "\n",
    "        svc = GridSearchCV(svm.SVC(random_state=random_seed), parameters, cv=cross_valid, scoring='accuracy',\n",
    "                           verbose=verbose_level, n_jobs=parallel_jobs).fit(\n",
    "                                                                        np.append(ori_train_input, ori_valid_input, axis=0),\n",
    "                                                                        np.append(ori_train_label, ori_valid_label))\n",
    "\n",
    "        paper_ori.append((svc.best_score_, nr, svc.best_params_))\n",
    "    \n",
    "    except ValueError as err:\n",
    "        paper_ori.append((-1, nr, svc.best_params_))"
   ]
  },
  {
   "cell_type": "markdown",
   "metadata": {
    "collapsed": true
   },
   "source": [
    "### EMG"
   ]
  },
  {
   "cell_type": "code",
   "execution_count": 15,
   "metadata": {},
   "outputs": [
    {
     "name": "stdout",
     "output_type": "stream",
     "text": [
      "1\n",
      "Fitting 1 folds for each of 16 candidates, totalling 16 fits\n",
      "[CV] C=1, decision_function_shape=ovo, kernel=linear .................\n",
      "[CV]  C=1, decision_function_shape=ovo, kernel=linear, score=0.08333333333333333, total=   0.0s\n",
      "[CV] C=1, decision_function_shape=ovr, kernel=linear .................\n",
      "[CV]  C=1, decision_function_shape=ovr, kernel=linear, score=0.08333333333333333, total=   0.0s\n",
      "[CV] C=10, decision_function_shape=ovo, kernel=linear ................\n",
      "[CV]  C=10, decision_function_shape=ovo, kernel=linear, score=0.11538461538461539, total=   0.0s\n",
      "[CV] C=10, decision_function_shape=ovr, kernel=linear ................\n"
     ]
    },
    {
     "name": "stderr",
     "output_type": "stream",
     "text": [
      "[Parallel(n_jobs=1)]: Done   1 out of   1 | elapsed:    0.0s remaining:    0.0s\n",
      "[Parallel(n_jobs=1)]: Done   2 out of   2 | elapsed:    0.0s remaining:    0.0s\n"
     ]
    },
    {
     "name": "stdout",
     "output_type": "stream",
     "text": [
      "[CV]  C=10, decision_function_shape=ovr, kernel=linear, score=0.11538461538461539, total=   0.0s\n",
      "[CV] C=100, decision_function_shape=ovo, kernel=linear ...............\n",
      "[CV]  C=100, decision_function_shape=ovo, kernel=linear, score=0.11538461538461539, total=   0.0s\n",
      "[CV] C=100, decision_function_shape=ovr, kernel=linear ...............\n",
      "[CV]  C=100, decision_function_shape=ovr, kernel=linear, score=0.11538461538461539, total=   0.0s\n",
      "[CV] C=1000, decision_function_shape=ovo, kernel=linear ..............\n",
      "[CV]  C=1000, decision_function_shape=ovo, kernel=linear, score=0.16025641025641027, total=   0.5s\n",
      "[CV] C=1000, decision_function_shape=ovr, kernel=linear ..............\n",
      "[CV]  C=1000, decision_function_shape=ovr, kernel=linear, score=0.16025641025641027, total=   0.5s\n",
      "[CV] C=1, decision_function_shape=ovo, kernel=rbf ....................\n",
      "[CV]  C=1, decision_function_shape=ovo, kernel=rbf, score=0.057692307692307696, total=   0.0s\n",
      "[CV] C=1, decision_function_shape=ovr, kernel=rbf ....................\n",
      "[CV]  C=1, decision_function_shape=ovr, kernel=rbf, score=0.057692307692307696, total=   0.0s\n",
      "[CV] C=10, decision_function_shape=ovo, kernel=rbf ...................\n",
      "[CV]  C=10, decision_function_shape=ovo, kernel=rbf, score=0.07692307692307693, total=   0.0s\n",
      "[CV] C=10, decision_function_shape=ovr, kernel=rbf ...................\n",
      "[CV]  C=10, decision_function_shape=ovr, kernel=rbf, score=0.07692307692307693, total=   0.0s\n",
      "[CV] C=100, decision_function_shape=ovo, kernel=rbf ..................\n",
      "[CV]  C=100, decision_function_shape=ovo, kernel=rbf, score=0.1282051282051282, total=   0.0s\n",
      "[CV] C=100, decision_function_shape=ovr, kernel=rbf ..................\n",
      "[CV]  C=100, decision_function_shape=ovr, kernel=rbf, score=0.1282051282051282, total=   0.0s\n",
      "[CV] C=1000, decision_function_shape=ovo, kernel=rbf .................\n",
      "[CV]  C=1000, decision_function_shape=ovo, kernel=rbf, score=0.16025641025641027, total=   0.0s\n",
      "[CV] C=1000, decision_function_shape=ovr, kernel=rbf .................\n",
      "[CV]  C=1000, decision_function_shape=ovr, kernel=rbf, score=0.16025641025641027, total=   0.0s\n"
     ]
    },
    {
     "name": "stderr",
     "output_type": "stream",
     "text": [
      "[Parallel(n_jobs=1)]: Done  16 out of  16 | elapsed:    2.3s finished\n"
     ]
    },
    {
     "name": "stdout",
     "output_type": "stream",
     "text": [
      "2\n",
      "Fitting 1 folds for each of 16 candidates, totalling 16 fits\n",
      "[CV] C=1, decision_function_shape=ovo, kernel=linear .................\n",
      "[CV]  C=1, decision_function_shape=ovo, kernel=linear, score=0.12179487179487179, total=   0.0s\n",
      "[CV] C=1, decision_function_shape=ovr, kernel=linear .................\n",
      "[CV]  C=1, decision_function_shape=ovr, kernel=linear, score=0.12179487179487179, total=   0.0s\n",
      "[CV] C=10, decision_function_shape=ovo, kernel=linear ................\n"
     ]
    },
    {
     "name": "stderr",
     "output_type": "stream",
     "text": [
      "[Parallel(n_jobs=1)]: Done   1 out of   1 | elapsed:    0.0s remaining:    0.0s\n",
      "[Parallel(n_jobs=1)]: Done   2 out of   2 | elapsed:    0.1s remaining:    0.0s\n"
     ]
    },
    {
     "name": "stdout",
     "output_type": "stream",
     "text": [
      "[CV]  C=10, decision_function_shape=ovo, kernel=linear, score=0.17307692307692307, total=   0.0s\n",
      "[CV] C=10, decision_function_shape=ovr, kernel=linear ................\n",
      "[CV]  C=10, decision_function_shape=ovr, kernel=linear, score=0.17307692307692307, total=   0.0s\n",
      "[CV] C=100, decision_function_shape=ovo, kernel=linear ...............\n",
      "[CV]  C=100, decision_function_shape=ovo, kernel=linear, score=0.22435897435897437, total=   0.0s\n",
      "[CV] C=100, decision_function_shape=ovr, kernel=linear ...............\n",
      "[CV]  C=100, decision_function_shape=ovr, kernel=linear, score=0.22435897435897437, total=   0.0s\n",
      "[CV] C=1000, decision_function_shape=ovo, kernel=linear ..............\n",
      "[CV]  C=1000, decision_function_shape=ovo, kernel=linear, score=0.23717948717948717, total=   0.5s\n",
      "[CV] C=1000, decision_function_shape=ovr, kernel=linear ..............\n",
      "[CV]  C=1000, decision_function_shape=ovr, kernel=linear, score=0.23717948717948717, total=   0.5s\n",
      "[CV] C=1, decision_function_shape=ovo, kernel=rbf ....................\n",
      "[CV]  C=1, decision_function_shape=ovo, kernel=rbf, score=0.03205128205128205, total=   0.0s\n",
      "[CV] C=1, decision_function_shape=ovr, kernel=rbf ....................\n",
      "[CV]  C=1, decision_function_shape=ovr, kernel=rbf, score=0.03205128205128205, total=   0.0s\n",
      "[CV] C=10, decision_function_shape=ovo, kernel=rbf ...................\n",
      "[CV]  C=10, decision_function_shape=ovo, kernel=rbf, score=0.09615384615384616, total=   0.0s\n",
      "[CV] C=10, decision_function_shape=ovr, kernel=rbf ...................\n",
      "[CV]  C=10, decision_function_shape=ovr, kernel=rbf, score=0.09615384615384616, total=   0.0s\n",
      "[CV] C=100, decision_function_shape=ovo, kernel=rbf ..................\n",
      "[CV]  C=100, decision_function_shape=ovo, kernel=rbf, score=0.16025641025641027, total=   0.0s\n",
      "[CV] C=100, decision_function_shape=ovr, kernel=rbf ..................\n",
      "[CV]  C=100, decision_function_shape=ovr, kernel=rbf, score=0.16025641025641027, total=   0.0s\n",
      "[CV] C=1000, decision_function_shape=ovo, kernel=rbf .................\n",
      "[CV]  C=1000, decision_function_shape=ovo, kernel=rbf, score=0.22435897435897437, total=   0.0s\n",
      "[CV] C=1000, decision_function_shape=ovr, kernel=rbf .................\n",
      "[CV]  C=1000, decision_function_shape=ovr, kernel=rbf, score=0.22435897435897437, total=   0.0s\n"
     ]
    },
    {
     "name": "stderr",
     "output_type": "stream",
     "text": [
      "[Parallel(n_jobs=1)]: Done  16 out of  16 | elapsed:    2.7s finished\n"
     ]
    },
    {
     "name": "stdout",
     "output_type": "stream",
     "text": [
      "3\n",
      "Fitting 1 folds for each of 16 candidates, totalling 16 fits\n",
      "[CV] C=1, decision_function_shape=ovo, kernel=linear .................\n",
      "[CV]  C=1, decision_function_shape=ovo, kernel=linear, score=0.14102564102564102, total=   0.0s\n",
      "[CV] C=1, decision_function_shape=ovr, kernel=linear .................\n"
     ]
    },
    {
     "name": "stderr",
     "output_type": "stream",
     "text": [
      "[Parallel(n_jobs=1)]: Done   1 out of   1 | elapsed:    0.0s remaining:    0.0s\n",
      "[Parallel(n_jobs=1)]: Done   2 out of   2 | elapsed:    0.1s remaining:    0.0s\n"
     ]
    },
    {
     "name": "stdout",
     "output_type": "stream",
     "text": [
      "[CV]  C=1, decision_function_shape=ovr, kernel=linear, score=0.14102564102564102, total=   0.0s\n",
      "[CV] C=10, decision_function_shape=ovo, kernel=linear ................\n",
      "[CV]  C=10, decision_function_shape=ovo, kernel=linear, score=0.24358974358974358, total=   0.0s\n",
      "[CV] C=10, decision_function_shape=ovr, kernel=linear ................\n",
      "[CV]  C=10, decision_function_shape=ovr, kernel=linear, score=0.24358974358974358, total=   0.0s\n",
      "[CV] C=100, decision_function_shape=ovo, kernel=linear ...............\n",
      "[CV]  C=100, decision_function_shape=ovo, kernel=linear, score=0.27564102564102566, total=   0.1s\n",
      "[CV] C=100, decision_function_shape=ovr, kernel=linear ...............\n",
      "[CV]  C=100, decision_function_shape=ovr, kernel=linear, score=0.27564102564102566, total=   0.1s\n",
      "[CV] C=1000, decision_function_shape=ovo, kernel=linear ..............\n",
      "[CV]  C=1000, decision_function_shape=ovo, kernel=linear, score=0.24358974358974358, total=   0.3s\n",
      "[CV] C=1000, decision_function_shape=ovr, kernel=linear ..............\n",
      "[CV]  C=1000, decision_function_shape=ovr, kernel=linear, score=0.24358974358974358, total=   0.3s\n",
      "[CV] C=1, decision_function_shape=ovo, kernel=rbf ....................\n",
      "[CV]  C=1, decision_function_shape=ovo, kernel=rbf, score=0.03205128205128205, total=   0.0s\n",
      "[CV] C=1, decision_function_shape=ovr, kernel=rbf ....................\n",
      "[CV]  C=1, decision_function_shape=ovr, kernel=rbf, score=0.03205128205128205, total=   0.0s\n",
      "[CV] C=10, decision_function_shape=ovo, kernel=rbf ...................\n",
      "[CV]  C=10, decision_function_shape=ovo, kernel=rbf, score=0.10256410256410256, total=   0.0s\n",
      "[CV] C=10, decision_function_shape=ovr, kernel=rbf ...................\n",
      "[CV]  C=10, decision_function_shape=ovr, kernel=rbf, score=0.10256410256410256, total=   0.0s\n",
      "[CV] C=100, decision_function_shape=ovo, kernel=rbf ..................\n",
      "[CV]  C=100, decision_function_shape=ovo, kernel=rbf, score=0.1858974358974359, total=   0.0s\n",
      "[CV] C=100, decision_function_shape=ovr, kernel=rbf ..................\n",
      "[CV]  C=100, decision_function_shape=ovr, kernel=rbf, score=0.1858974358974359, total=   0.0s\n",
      "[CV] C=1000, decision_function_shape=ovo, kernel=rbf .................\n",
      "[CV]  C=1000, decision_function_shape=ovo, kernel=rbf, score=0.2692307692307692, total=   0.0s\n",
      "[CV] C=1000, decision_function_shape=ovr, kernel=rbf .................\n",
      "[CV]  C=1000, decision_function_shape=ovr, kernel=rbf, score=0.2692307692307692, total=   0.0s\n",
      "4"
     ]
    },
    {
     "name": "stderr",
     "output_type": "stream",
     "text": [
      "[Parallel(n_jobs=1)]: Done  16 out of  16 | elapsed:    2.8s finished\n"
     ]
    },
    {
     "name": "stdout",
     "output_type": "stream",
     "text": [
      "\n",
      "Fitting 1 folds for each of 16 candidates, totalling 16 fits\n",
      "[CV] C=1, decision_function_shape=ovo, kernel=linear .................\n",
      "[CV]  C=1, decision_function_shape=ovo, kernel=linear, score=0.1282051282051282, total=   0.0s\n",
      "[CV] C=1, decision_function_shape=ovr, kernel=linear .................\n"
     ]
    },
    {
     "name": "stderr",
     "output_type": "stream",
     "text": [
      "[Parallel(n_jobs=1)]: Done   1 out of   1 | elapsed:    0.0s remaining:    0.0s\n",
      "[Parallel(n_jobs=1)]: Done   2 out of   2 | elapsed:    0.2s remaining:    0.0s\n"
     ]
    },
    {
     "name": "stdout",
     "output_type": "stream",
     "text": [
      "[CV]  C=1, decision_function_shape=ovr, kernel=linear, score=0.1282051282051282, total=   0.0s\n",
      "[CV] C=10, decision_function_shape=ovo, kernel=linear ................\n",
      "[CV]  C=10, decision_function_shape=ovo, kernel=linear, score=0.24358974358974358, total=   0.0s\n",
      "[CV] C=10, decision_function_shape=ovr, kernel=linear ................\n",
      "[CV]  C=10, decision_function_shape=ovr, kernel=linear, score=0.24358974358974358, total=   0.0s\n",
      "[CV] C=100, decision_function_shape=ovo, kernel=linear ...............\n",
      "[CV]  C=100, decision_function_shape=ovo, kernel=linear, score=0.2948717948717949, total=   0.1s\n",
      "[CV] C=100, decision_function_shape=ovr, kernel=linear ...............\n",
      "[CV]  C=100, decision_function_shape=ovr, kernel=linear, score=0.2948717948717949, total=   0.1s\n",
      "[CV] C=1000, decision_function_shape=ovo, kernel=linear ..............\n",
      "[CV]  C=1000, decision_function_shape=ovo, kernel=linear, score=0.25, total=   0.2s\n",
      "[CV] C=1000, decision_function_shape=ovr, kernel=linear ..............\n",
      "[CV]  C=1000, decision_function_shape=ovr, kernel=linear, score=0.25, total=   0.2s\n",
      "[CV] C=1, decision_function_shape=ovo, kernel=rbf ....................\n",
      "[CV]  C=1, decision_function_shape=ovo, kernel=rbf, score=0.03205128205128205, total=   0.0s\n",
      "[CV] C=1, decision_function_shape=ovr, kernel=rbf ....................\n",
      "[CV]  C=1, decision_function_shape=ovr, kernel=rbf, score=0.03205128205128205, total=   0.0s\n",
      "[CV] C=10, decision_function_shape=ovo, kernel=rbf ...................\n",
      "[CV]  C=10, decision_function_shape=ovo, kernel=rbf, score=0.08974358974358974, total=   0.0s\n",
      "[CV] C=10, decision_function_shape=ovr, kernel=rbf ...................\n",
      "[CV]  C=10, decision_function_shape=ovr, kernel=rbf, score=0.08974358974358974, total=   0.0s\n",
      "[CV] C=100, decision_function_shape=ovo, kernel=rbf ..................\n",
      "[CV]  C=100, decision_function_shape=ovo, kernel=rbf, score=0.16666666666666666, total=   0.0s\n",
      "[CV] C=100, decision_function_shape=ovr, kernel=rbf ..................\n",
      "[CV]  C=100, decision_function_shape=ovr, kernel=rbf, score=0.16666666666666666, total=   0.0s\n",
      "[CV] C=1000, decision_function_shape=ovo, kernel=rbf .................\n",
      "[CV]  C=1000, decision_function_shape=ovo, kernel=rbf, score=0.30128205128205127, total=   0.0s\n",
      "[CV] C=1000, decision_function_shape=ovr, kernel=rbf .................\n",
      "[CV]  C=1000, decision_function_shape=ovr, kernel=rbf, score=0.30128205128205127, total=   0.0s\n",
      "5\n"
     ]
    },
    {
     "name": "stderr",
     "output_type": "stream",
     "text": [
      "[Parallel(n_jobs=1)]: Done  16 out of  16 | elapsed:    3.0s finished\n"
     ]
    },
    {
     "name": "stdout",
     "output_type": "stream",
     "text": [
      "Fitting 1 folds for each of 16 candidates, totalling 16 fits\n",
      "[CV] C=1, decision_function_shape=ovo, kernel=linear .................\n",
      "[CV]  C=1, decision_function_shape=ovo, kernel=linear, score=0.1346153846153846, total=   0.0s\n",
      "[CV] C=1, decision_function_shape=ovr, kernel=linear .................\n"
     ]
    },
    {
     "name": "stderr",
     "output_type": "stream",
     "text": [
      "[Parallel(n_jobs=1)]: Done   1 out of   1 | elapsed:    0.1s remaining:    0.0s\n",
      "[Parallel(n_jobs=1)]: Done   2 out of   2 | elapsed:    0.2s remaining:    0.0s\n"
     ]
    },
    {
     "name": "stdout",
     "output_type": "stream",
     "text": [
      "[CV]  C=1, decision_function_shape=ovr, kernel=linear, score=0.1346153846153846, total=   0.0s\n",
      "[CV] C=10, decision_function_shape=ovo, kernel=linear ................\n",
      "[CV]  C=10, decision_function_shape=ovo, kernel=linear, score=0.1987179487179487, total=   0.0s\n",
      "[CV] C=10, decision_function_shape=ovr, kernel=linear ................\n",
      "[CV]  C=10, decision_function_shape=ovr, kernel=linear, score=0.1987179487179487, total=   0.0s\n",
      "[CV] C=100, decision_function_shape=ovo, kernel=linear ...............\n",
      "[CV]  C=100, decision_function_shape=ovo, kernel=linear, score=0.26282051282051283, total=   0.1s\n",
      "[CV] C=100, decision_function_shape=ovr, kernel=linear ...............\n",
      "[CV]  C=100, decision_function_shape=ovr, kernel=linear, score=0.26282051282051283, total=   0.1s\n",
      "[CV] C=1000, decision_function_shape=ovo, kernel=linear ..............\n",
      "[CV]  C=1000, decision_function_shape=ovo, kernel=linear, score=0.23076923076923078, total=   0.1s\n",
      "[CV] C=1000, decision_function_shape=ovr, kernel=linear ..............\n",
      "[CV]  C=1000, decision_function_shape=ovr, kernel=linear, score=0.23076923076923078, total=   0.1s\n",
      "[CV] C=1, decision_function_shape=ovo, kernel=rbf ....................\n",
      "[CV]  C=1, decision_function_shape=ovo, kernel=rbf, score=0.019230769230769232, total=   0.1s\n",
      "[CV] C=1, decision_function_shape=ovr, kernel=rbf ....................\n",
      "[CV]  C=1, decision_function_shape=ovr, kernel=rbf, score=0.019230769230769232, total=   0.1s\n",
      "[CV] C=10, decision_function_shape=ovo, kernel=rbf ...................\n",
      "[CV]  C=10, decision_function_shape=ovo, kernel=rbf, score=0.08974358974358974, total=   0.0s\n",
      "[CV] C=10, decision_function_shape=ovr, kernel=rbf ...................\n",
      "[CV]  C=10, decision_function_shape=ovr, kernel=rbf, score=0.08974358974358974, total=   0.0s\n",
      "[CV] C=100, decision_function_shape=ovo, kernel=rbf ..................\n",
      "[CV]  C=100, decision_function_shape=ovo, kernel=rbf, score=0.14102564102564102, total=   0.0s\n",
      "[CV] C=100, decision_function_shape=ovr, kernel=rbf ..................\n",
      "[CV]  C=100, decision_function_shape=ovr, kernel=rbf, score=0.14102564102564102, total=   0.0s\n",
      "[CV] C=1000, decision_function_shape=ovo, kernel=rbf .................\n",
      "[CV]  C=1000, decision_function_shape=ovo, kernel=rbf, score=0.2692307692307692, total=   0.0s\n",
      "[CV] C=1000, decision_function_shape=ovr, kernel=rbf .................\n",
      "[CV]  C=1000, decision_function_shape=ovr, kernel=rbf, score=0.2692307692307692, total=   0.0s\n",
      "6\n"
     ]
    },
    {
     "name": "stderr",
     "output_type": "stream",
     "text": [
      "[Parallel(n_jobs=1)]: Done  16 out of  16 | elapsed:    3.2s finished\n"
     ]
    },
    {
     "name": "stdout",
     "output_type": "stream",
     "text": [
      "Fitting 1 folds for each of 16 candidates, totalling 16 fits\n",
      "[CV] C=1, decision_function_shape=ovo, kernel=linear .................\n",
      "[CV]  C=1, decision_function_shape=ovo, kernel=linear, score=0.14102564102564102, total=   0.0s"
     ]
    },
    {
     "name": "stderr",
     "output_type": "stream",
     "text": [
      "[Parallel(n_jobs=1)]: Done   1 out of   1 | elapsed:    0.1s remaining:    0.0s\n",
      "[Parallel(n_jobs=1)]: Done   2 out of   2 | elapsed:    0.3s remaining:    0.0s\n"
     ]
    },
    {
     "name": "stdout",
     "output_type": "stream",
     "text": [
      "\n",
      "[CV] C=1, decision_function_shape=ovr, kernel=linear .................\n",
      "[CV]  C=1, decision_function_shape=ovr, kernel=linear, score=0.14102564102564102, total=   0.0s\n",
      "[CV] C=10, decision_function_shape=ovo, kernel=linear ................\n",
      "[CV]  C=10, decision_function_shape=ovo, kernel=linear, score=0.21794871794871795, total=   0.0s\n",
      "[CV] C=10, decision_function_shape=ovr, kernel=linear ................\n",
      "[CV]  C=10, decision_function_shape=ovr, kernel=linear, score=0.21794871794871795, total=   0.0s\n",
      "[CV] C=100, decision_function_shape=ovo, kernel=linear ...............\n",
      "[CV]  C=100, decision_function_shape=ovo, kernel=linear, score=0.2564102564102564, total=   0.1s\n",
      "[CV] C=100, decision_function_shape=ovr, kernel=linear ...............\n",
      "[CV]  C=100, decision_function_shape=ovr, kernel=linear, score=0.2564102564102564, total=   0.1s\n",
      "[CV] C=1000, decision_function_shape=ovo, kernel=linear ..............\n",
      "[CV]  C=1000, decision_function_shape=ovo, kernel=linear, score=0.2564102564102564, total=   0.1s\n",
      "[CV] C=1000, decision_function_shape=ovr, kernel=linear ..............\n",
      "[CV]  C=1000, decision_function_shape=ovr, kernel=linear, score=0.2564102564102564, total=   0.1s\n",
      "[CV] C=1, decision_function_shape=ovo, kernel=rbf ....................\n",
      "[CV]  C=1, decision_function_shape=ovo, kernel=rbf, score=0.019230769230769232, total=   0.1s\n",
      "[CV] C=1, decision_function_shape=ovr, kernel=rbf ....................\n",
      "[CV]  C=1, decision_function_shape=ovr, kernel=rbf, score=0.019230769230769232, total=   0.1s\n",
      "[CV] C=10, decision_function_shape=ovo, kernel=rbf ...................\n",
      "[CV]  C=10, decision_function_shape=ovo, kernel=rbf, score=0.08333333333333333, total=   0.1s\n",
      "[CV] C=10, decision_function_shape=ovr, kernel=rbf ...................\n",
      "[CV]  C=10, decision_function_shape=ovr, kernel=rbf, score=0.08333333333333333, total=   0.1s\n",
      "[CV] C=100, decision_function_shape=ovo, kernel=rbf ..................\n",
      "[CV]  C=100, decision_function_shape=ovo, kernel=rbf, score=0.14102564102564102, total=   0.0s\n",
      "[CV] C=100, decision_function_shape=ovr, kernel=rbf ..................\n",
      "[CV]  C=100, decision_function_shape=ovr, kernel=rbf, score=0.14102564102564102, total=   0.0s\n",
      "[CV] C=1000, decision_function_shape=ovo, kernel=rbf .................\n",
      "[CV]  C=1000, decision_function_shape=ovo, kernel=rbf, score=0.25, total=   0.0s\n",
      "[CV] C=1000, decision_function_shape=ovr, kernel=rbf .................\n",
      "[CV]  C=1000, decision_function_shape=ovr, kernel=rbf, score=0.25, total=   0.0s\n"
     ]
    },
    {
     "name": "stderr",
     "output_type": "stream",
     "text": [
      "[Parallel(n_jobs=1)]: Done  16 out of  16 | elapsed:    3.6s finished\n"
     ]
    },
    {
     "name": "stdout",
     "output_type": "stream",
     "text": [
      "7\n",
      "Fitting 1 folds for each of 16 candidates, totalling 16 fits\n",
      "[CV] C=1, decision_function_shape=ovo, kernel=linear .................\n",
      "[CV]  C=1, decision_function_shape=ovo, kernel=linear, score=0.1346153846153846, total=   0.0s\n",
      "[CV] C=1, decision_function_shape=ovr, kernel=linear .................\n"
     ]
    },
    {
     "name": "stderr",
     "output_type": "stream",
     "text": [
      "[Parallel(n_jobs=1)]: Done   1 out of   1 | elapsed:    0.1s remaining:    0.0s\n"
     ]
    },
    {
     "name": "stdout",
     "output_type": "stream",
     "text": [
      "[CV]  C=1, decision_function_shape=ovr, kernel=linear, score=0.1346153846153846, total=   0.0s\n",
      "[CV] C=10, decision_function_shape=ovo, kernel=linear ................\n"
     ]
    },
    {
     "name": "stderr",
     "output_type": "stream",
     "text": [
      "[Parallel(n_jobs=1)]: Done   2 out of   2 | elapsed:    0.4s remaining:    0.0s\n"
     ]
    },
    {
     "name": "stdout",
     "output_type": "stream",
     "text": [
      "[CV]  C=10, decision_function_shape=ovo, kernel=linear, score=0.24358974358974358, total=   0.0s\n",
      "[CV] C=10, decision_function_shape=ovr, kernel=linear ................\n",
      "[CV]  C=10, decision_function_shape=ovr, kernel=linear, score=0.24358974358974358, total=   0.0s\n",
      "[CV] C=100, decision_function_shape=ovo, kernel=linear ...............\n",
      "[CV]  C=100, decision_function_shape=ovo, kernel=linear, score=0.28205128205128205, total=   0.1s\n",
      "[CV] C=100, decision_function_shape=ovr, kernel=linear ...............\n",
      "[CV]  C=100, decision_function_shape=ovr, kernel=linear, score=0.28205128205128205, total=   0.1s\n",
      "[CV] C=1000, decision_function_shape=ovo, kernel=linear ..............\n",
      "[CV]  C=1000, decision_function_shape=ovo, kernel=linear, score=0.2948717948717949, total=   0.1s\n",
      "[CV] C=1000, decision_function_shape=ovr, kernel=linear ..............\n",
      "[CV]  C=1000, decision_function_shape=ovr, kernel=linear, score=0.2948717948717949, total=   0.1s\n",
      "[CV] C=1, decision_function_shape=ovo, kernel=rbf ....................\n",
      "[CV]  C=1, decision_function_shape=ovo, kernel=rbf, score=0.019230769230769232, total=   0.1s\n",
      "[CV] C=1, decision_function_shape=ovr, kernel=rbf ....................\n",
      "[CV]  C=1, decision_function_shape=ovr, kernel=rbf, score=0.019230769230769232, total=   0.1s\n",
      "[CV] C=10, decision_function_shape=ovo, kernel=rbf ...................\n",
      "[CV]  C=10, decision_function_shape=ovo, kernel=rbf, score=0.07692307692307693, total=   0.1s\n",
      "[CV] C=10, decision_function_shape=ovr, kernel=rbf ...................\n",
      "[CV]  C=10, decision_function_shape=ovr, kernel=rbf, score=0.07692307692307693, total=   0.1s\n",
      "[CV] C=100, decision_function_shape=ovo, kernel=rbf ..................\n",
      "[CV]  C=100, decision_function_shape=ovo, kernel=rbf, score=0.10897435897435898, total=   0.0s\n",
      "[CV] C=100, decision_function_shape=ovr, kernel=rbf ..................\n",
      "[CV]  C=100, decision_function_shape=ovr, kernel=rbf, score=0.10897435897435898, total=   0.1s\n",
      "[CV] C=1000, decision_function_shape=ovo, kernel=rbf .................\n",
      "[CV]  C=1000, decision_function_shape=ovo, kernel=rbf, score=0.2564102564102564, total=   0.1s\n",
      "[CV] C=1000, decision_function_shape=ovr, kernel=rbf .................\n",
      "[CV]  C=1000, decision_function_shape=ovr, kernel=rbf, score=0.2564102564102564, total=   0.1s\n"
     ]
    },
    {
     "name": "stderr",
     "output_type": "stream",
     "text": [
      "[Parallel(n_jobs=1)]: Done  16 out of  16 | elapsed:    4.0s finished\n"
     ]
    },
    {
     "name": "stdout",
     "output_type": "stream",
     "text": [
      "8\n",
      "Fitting 1 folds for each of 16 candidates, totalling 16 fits\n",
      "[CV] C=1, decision_function_shape=ovo, kernel=linear .................\n",
      "[CV]  C=1, decision_function_shape=ovo, kernel=linear, score=0.17307692307692307, total=   0.1s\n",
      "[CV] C=1, decision_function_shape=ovr, kernel=linear .................\n"
     ]
    },
    {
     "name": "stderr",
     "output_type": "stream",
     "text": [
      "[Parallel(n_jobs=1)]: Done   1 out of   1 | elapsed:    0.2s remaining:    0.0s\n"
     ]
    },
    {
     "name": "stdout",
     "output_type": "stream",
     "text": [
      "[CV]  C=1, decision_function_shape=ovr, kernel=linear, score=0.17307692307692307, total=   0.0s\n",
      "[CV] C=10, decision_function_shape=ovo, kernel=linear ................\n"
     ]
    },
    {
     "name": "stderr",
     "output_type": "stream",
     "text": [
      "[Parallel(n_jobs=1)]: Done   2 out of   2 | elapsed:    0.4s remaining:    0.0s\n"
     ]
    },
    {
     "name": "stdout",
     "output_type": "stream",
     "text": [
      "[CV]  C=10, decision_function_shape=ovo, kernel=linear, score=0.21794871794871795, total=   0.1s\n",
      "[CV] C=10, decision_function_shape=ovr, kernel=linear ................\n",
      "[CV]  C=10, decision_function_shape=ovr, kernel=linear, score=0.21794871794871795, total=   0.1s\n",
      "[CV] C=100, decision_function_shape=ovo, kernel=linear ...............\n",
      "[CV]  C=100, decision_function_shape=ovo, kernel=linear, score=0.25, total=   0.1s\n",
      "[CV] C=100, decision_function_shape=ovr, kernel=linear ...............\n",
      "[CV]  C=100, decision_function_shape=ovr, kernel=linear, score=0.25, total=   0.1s\n",
      "[CV] C=1000, decision_function_shape=ovo, kernel=linear ..............\n",
      "[CV]  C=1000, decision_function_shape=ovo, kernel=linear, score=0.25, total=   0.1s\n",
      "[CV] C=1000, decision_function_shape=ovr, kernel=linear ..............\n",
      "[CV]  C=1000, decision_function_shape=ovr, kernel=linear, score=0.25, total=   0.1s\n",
      "[CV] C=1, decision_function_shape=ovo, kernel=rbf ....................\n",
      "[CV]  C=1, decision_function_shape=ovo, kernel=rbf, score=0.019230769230769232, total=   0.1s\n",
      "[CV] C=1, decision_function_shape=ovr, kernel=rbf ....................\n",
      "[CV]  C=1, decision_function_shape=ovr, kernel=rbf, score=0.019230769230769232, total=   0.1s\n",
      "[CV] C=10, decision_function_shape=ovo, kernel=rbf ...................\n",
      "[CV]  C=10, decision_function_shape=ovo, kernel=rbf, score=0.07051282051282051, total=   0.1s\n",
      "[CV] C=10, decision_function_shape=ovr, kernel=rbf ...................\n",
      "[CV]  C=10, decision_function_shape=ovr, kernel=rbf, score=0.07051282051282051, total=   0.1s\n",
      "[CV] C=100, decision_function_shape=ovo, kernel=rbf ..................\n",
      "[CV]  C=100, decision_function_shape=ovo, kernel=rbf, score=0.16666666666666666, total=   0.1s\n",
      "[CV] C=100, decision_function_shape=ovr, kernel=rbf ..................\n",
      "[CV]  C=100, decision_function_shape=ovr, kernel=rbf, score=0.16666666666666666, total=   0.1s\n",
      "[CV] C=1000, decision_function_shape=ovo, kernel=rbf .................\n",
      "[CV]  C=1000, decision_function_shape=ovo, kernel=rbf, score=0.24358974358974358, total=   0.1s\n",
      "[CV] C=1000, decision_function_shape=ovr, kernel=rbf .................\n",
      "[CV]  C=1000, decision_function_shape=ovr, kernel=rbf, score=0.24358974358974358, total=   0.1s\n"
     ]
    },
    {
     "name": "stderr",
     "output_type": "stream",
     "text": [
      "[Parallel(n_jobs=1)]: Done  16 out of  16 | elapsed:    4.4s finished\n"
     ]
    },
    {
     "name": "stdout",
     "output_type": "stream",
     "text": [
      "9\n",
      "Fitting 1 folds for each of 16 candidates, totalling 16 fits\n",
      "[CV] C=1, decision_function_shape=ovo, kernel=linear .................\n",
      "[CV]  C=1, decision_function_shape=ovo, kernel=linear, score=0.15384615384615385, total=   0.1s\n",
      "[CV] C=1, decision_function_shape=ovr, kernel=linear .................\n"
     ]
    },
    {
     "name": "stderr",
     "output_type": "stream",
     "text": [
      "[Parallel(n_jobs=1)]: Done   1 out of   1 | elapsed:    0.2s remaining:    0.0s\n"
     ]
    },
    {
     "name": "stdout",
     "output_type": "stream",
     "text": [
      "[CV]  C=1, decision_function_shape=ovr, kernel=linear, score=0.15384615384615385, total=   0.1s\n",
      "[CV] C=10, decision_function_shape=ovo, kernel=linear ................\n"
     ]
    },
    {
     "name": "stderr",
     "output_type": "stream",
     "text": [
      "[Parallel(n_jobs=1)]: Done   2 out of   2 | elapsed:    0.5s remaining:    0.0s\n"
     ]
    },
    {
     "name": "stdout",
     "output_type": "stream",
     "text": [
      "[CV]  C=10, decision_function_shape=ovo, kernel=linear, score=0.25, total=   0.1s\n",
      "[CV] C=10, decision_function_shape=ovr, kernel=linear ................\n",
      "[CV]  C=10, decision_function_shape=ovr, kernel=linear, score=0.25, total=   0.1s\n",
      "[CV] C=100, decision_function_shape=ovo, kernel=linear ...............\n",
      "[CV]  C=100, decision_function_shape=ovo, kernel=linear, score=0.28846153846153844, total=   0.1s\n",
      "[CV] C=100, decision_function_shape=ovr, kernel=linear ...............\n",
      "[CV]  C=100, decision_function_shape=ovr, kernel=linear, score=0.28846153846153844, total=   0.1s\n",
      "[CV] C=1000, decision_function_shape=ovo, kernel=linear ..............\n",
      "[CV]  C=1000, decision_function_shape=ovo, kernel=linear, score=0.28846153846153844, total=   0.1s\n",
      "[CV] C=1000, decision_function_shape=ovr, kernel=linear ..............\n",
      "[CV]  C=1000, decision_function_shape=ovr, kernel=linear, score=0.28846153846153844, total=   0.1s\n",
      "[CV] C=1, decision_function_shape=ovo, kernel=rbf ....................\n",
      "[CV]  C=1, decision_function_shape=ovo, kernel=rbf, score=0.019230769230769232, total=   0.2s\n",
      "[CV] C=1, decision_function_shape=ovr, kernel=rbf ....................\n",
      "[CV]  C=1, decision_function_shape=ovr, kernel=rbf, score=0.019230769230769232, total=   0.2s\n",
      "[CV] C=10, decision_function_shape=ovo, kernel=rbf ...................\n",
      "[CV]  C=10, decision_function_shape=ovo, kernel=rbf, score=0.07692307692307693, total=   0.1s\n",
      "[CV] C=10, decision_function_shape=ovr, kernel=rbf ...................\n",
      "[CV]  C=10, decision_function_shape=ovr, kernel=rbf, score=0.07692307692307693, total=   0.1s\n",
      "[CV] C=100, decision_function_shape=ovo, kernel=rbf ..................\n",
      "[CV]  C=100, decision_function_shape=ovo, kernel=rbf, score=0.14743589743589744, total=   0.1s\n",
      "[CV] C=100, decision_function_shape=ovr, kernel=rbf ..................\n",
      "[CV]  C=100, decision_function_shape=ovr, kernel=rbf, score=0.14743589743589744, total=   0.1s\n",
      "[CV] C=1000, decision_function_shape=ovo, kernel=rbf .................\n",
      "[CV]  C=1000, decision_function_shape=ovo, kernel=rbf, score=0.24358974358974358, total=   0.1s\n",
      "[CV] C=1000, decision_function_shape=ovr, kernel=rbf .................\n",
      "[CV]  C=1000, decision_function_shape=ovr, kernel=rbf, score=0.24358974358974358, total=   0.1s\n"
     ]
    },
    {
     "name": "stderr",
     "output_type": "stream",
     "text": [
      "[Parallel(n_jobs=1)]: Done  16 out of  16 | elapsed:    4.9s finished\n"
     ]
    },
    {
     "name": "stdout",
     "output_type": "stream",
     "text": [
      "10\n",
      "Fitting 1 folds for each of 16 candidates, totalling 16 fits\n",
      "[CV] C=1, decision_function_shape=ovo, kernel=linear .................\n",
      "[CV]  C=1, decision_function_shape=ovo, kernel=linear, score=0.2564102564102564, total=   0.1s\n",
      "[CV] C=1, decision_function_shape=ovr, kernel=linear .................\n"
     ]
    },
    {
     "name": "stderr",
     "output_type": "stream",
     "text": [
      "[Parallel(n_jobs=1)]: Done   1 out of   1 | elapsed:    0.2s remaining:    0.0s\n"
     ]
    },
    {
     "name": "stdout",
     "output_type": "stream",
     "text": [
      "[CV]  C=1, decision_function_shape=ovr, kernel=linear, score=0.2564102564102564, total=   0.1s\n",
      "[CV] C=10, decision_function_shape=ovo, kernel=linear ................\n"
     ]
    },
    {
     "name": "stderr",
     "output_type": "stream",
     "text": [
      "[Parallel(n_jobs=1)]: Done   2 out of   2 | elapsed:    0.5s remaining:    0.0s\n"
     ]
    },
    {
     "name": "stdout",
     "output_type": "stream",
     "text": [
      "[CV]  C=10, decision_function_shape=ovo, kernel=linear, score=0.3717948717948718, total=   0.1s\n",
      "[CV] C=10, decision_function_shape=ovr, kernel=linear ................\n",
      "[CV]  C=10, decision_function_shape=ovr, kernel=linear, score=0.3717948717948718, total=   0.1s\n",
      "[CV] C=100, decision_function_shape=ovo, kernel=linear ...............\n",
      "[CV]  C=100, decision_function_shape=ovo, kernel=linear, score=0.38461538461538464, total=   0.1s\n",
      "[CV] C=100, decision_function_shape=ovr, kernel=linear ...............\n",
      "[CV]  C=100, decision_function_shape=ovr, kernel=linear, score=0.38461538461538464, total=   0.1s\n",
      "[CV] C=1000, decision_function_shape=ovo, kernel=linear ..............\n",
      "[CV]  C=1000, decision_function_shape=ovo, kernel=linear, score=0.38461538461538464, total=   0.1s\n",
      "[CV] C=1000, decision_function_shape=ovr, kernel=linear ..............\n",
      "[CV]  C=1000, decision_function_shape=ovr, kernel=linear, score=0.38461538461538464, total=   0.1s\n",
      "[CV] C=1, decision_function_shape=ovo, kernel=rbf ....................\n",
      "[CV]  C=1, decision_function_shape=ovo, kernel=rbf, score=0.019230769230769232, total=   0.2s\n",
      "[CV] C=1, decision_function_shape=ovr, kernel=rbf ....................\n",
      "[CV]  C=1, decision_function_shape=ovr, kernel=rbf, score=0.019230769230769232, total=   0.2s\n",
      "[CV] C=10, decision_function_shape=ovo, kernel=rbf ...................\n",
      "[CV]  C=10, decision_function_shape=ovo, kernel=rbf, score=0.08333333333333333, total=   0.2s\n",
      "[CV] C=10, decision_function_shape=ovr, kernel=rbf ...................\n",
      "[CV]  C=10, decision_function_shape=ovr, kernel=rbf, score=0.08333333333333333, total=   0.2s\n",
      "[CV] C=100, decision_function_shape=ovo, kernel=rbf ..................\n",
      "[CV]  C=100, decision_function_shape=ovo, kernel=rbf, score=0.1987179487179487, total=   0.1s\n",
      "[CV] C=100, decision_function_shape=ovr, kernel=rbf ..................\n",
      "[CV]  C=100, decision_function_shape=ovr, kernel=rbf, score=0.1987179487179487, total=   0.1s\n",
      "[CV] C=1000, decision_function_shape=ovo, kernel=rbf .................\n",
      "[CV]  C=1000, decision_function_shape=ovo, kernel=rbf, score=0.3974358974358974, total=   0.1s\n",
      "[CV] C=1000, decision_function_shape=ovr, kernel=rbf .................\n",
      "[CV]  C=1000, decision_function_shape=ovr, kernel=rbf, score=0.3974358974358974, total=   0.1s\n"
     ]
    },
    {
     "name": "stderr",
     "output_type": "stream",
     "text": [
      "[Parallel(n_jobs=1)]: Done  16 out of  16 | elapsed:    5.4s finished\n"
     ]
    },
    {
     "name": "stdout",
     "output_type": "stream",
     "text": [
      "11\n",
      "Fitting 1 folds for each of 16 candidates, totalling 16 fits\n",
      "[CV] C=1, decision_function_shape=ovo, kernel=linear .................\n",
      "[CV]  C=1, decision_function_shape=ovo, kernel=linear, score=0.21794871794871795, total=   0.1s\n",
      "[CV] C=1, decision_function_shape=ovr, kernel=linear .................\n"
     ]
    },
    {
     "name": "stderr",
     "output_type": "stream",
     "text": [
      "[Parallel(n_jobs=1)]: Done   1 out of   1 | elapsed:    0.3s remaining:    0.0s\n"
     ]
    },
    {
     "name": "stdout",
     "output_type": "stream",
     "text": [
      "[CV]  C=1, decision_function_shape=ovr, kernel=linear, score=0.21794871794871795, total=   0.1s\n",
      "[CV] C=10, decision_function_shape=ovo, kernel=linear ................\n"
     ]
    },
    {
     "name": "stderr",
     "output_type": "stream",
     "text": [
      "[Parallel(n_jobs=1)]: Done   2 out of   2 | elapsed:    0.6s remaining:    0.0s\n"
     ]
    },
    {
     "name": "stdout",
     "output_type": "stream",
     "text": [
      "[CV]  C=10, decision_function_shape=ovo, kernel=linear, score=0.3525641025641026, total=   0.1s\n",
      "[CV] C=10, decision_function_shape=ovr, kernel=linear ................\n",
      "[CV]  C=10, decision_function_shape=ovr, kernel=linear, score=0.3525641025641026, total=   0.1s\n",
      "[CV] C=100, decision_function_shape=ovo, kernel=linear ...............\n",
      "[CV]  C=100, decision_function_shape=ovo, kernel=linear, score=0.32051282051282054, total=   0.2s\n",
      "[CV] C=100, decision_function_shape=ovr, kernel=linear ...............\n",
      "[CV]  C=100, decision_function_shape=ovr, kernel=linear, score=0.32051282051282054, total=   0.1s\n",
      "[CV] C=1000, decision_function_shape=ovo, kernel=linear ..............\n",
      "[CV]  C=1000, decision_function_shape=ovo, kernel=linear, score=0.32051282051282054, total=   0.1s\n",
      "[CV] C=1000, decision_function_shape=ovr, kernel=linear ..............\n",
      "[CV]  C=1000, decision_function_shape=ovr, kernel=linear, score=0.32051282051282054, total=   0.2s\n",
      "[CV] C=1, decision_function_shape=ovo, kernel=rbf ....................\n",
      "[CV]  C=1, decision_function_shape=ovo, kernel=rbf, score=0.019230769230769232, total=   0.2s\n",
      "[CV] C=1, decision_function_shape=ovr, kernel=rbf ....................\n",
      "[CV]  C=1, decision_function_shape=ovr, kernel=rbf, score=0.019230769230769232, total=   0.2s\n",
      "[CV] C=10, decision_function_shape=ovo, kernel=rbf ...................\n",
      "[CV]  C=10, decision_function_shape=ovo, kernel=rbf, score=0.08333333333333333, total=   0.2s\n",
      "[CV] C=10, decision_function_shape=ovr, kernel=rbf ...................\n",
      "[CV]  C=10, decision_function_shape=ovr, kernel=rbf, score=0.08333333333333333, total=   0.2s\n",
      "[CV] C=100, decision_function_shape=ovo, kernel=rbf ..................\n",
      "[CV]  C=100, decision_function_shape=ovo, kernel=rbf, score=0.1858974358974359, total=   0.1s\n",
      "[CV] C=100, decision_function_shape=ovr, kernel=rbf ..................\n",
      "[CV]  C=100, decision_function_shape=ovr, kernel=rbf, score=0.1858974358974359, total=   0.1s\n",
      "[CV] C=1000, decision_function_shape=ovo, kernel=rbf .................\n",
      "[CV]  C=1000, decision_function_shape=ovo, kernel=rbf, score=0.36538461538461536, total=   0.1s\n",
      "[CV] C=1000, decision_function_shape=ovr, kernel=rbf .................\n",
      "[CV]  C=1000, decision_function_shape=ovr, kernel=rbf, score=0.36538461538461536, total=   0.1s\n"
     ]
    },
    {
     "name": "stderr",
     "output_type": "stream",
     "text": [
      "[Parallel(n_jobs=1)]: Done  16 out of  16 | elapsed:    6.1s finished\n"
     ]
    },
    {
     "name": "stdout",
     "output_type": "stream",
     "text": [
      "12\n",
      "Fitting 1 folds for each of 16 candidates, totalling 16 fits\n",
      "[CV] C=1, decision_function_shape=ovo, kernel=linear .................\n",
      "[CV]  C=1, decision_function_shape=ovo, kernel=linear, score=0.2564102564102564, total=   0.1s\n",
      "[CV] C=1, decision_function_shape=ovr, kernel=linear .................\n"
     ]
    },
    {
     "name": "stderr",
     "output_type": "stream",
     "text": [
      "[Parallel(n_jobs=1)]: Done   1 out of   1 | elapsed:    0.3s remaining:    0.0s\n"
     ]
    },
    {
     "name": "stdout",
     "output_type": "stream",
     "text": [
      "[CV]  C=1, decision_function_shape=ovr, kernel=linear, score=0.2564102564102564, total=   0.1s\n",
      "[CV] C=10, decision_function_shape=ovo, kernel=linear ................\n"
     ]
    },
    {
     "name": "stderr",
     "output_type": "stream",
     "text": [
      "[Parallel(n_jobs=1)]: Done   2 out of   2 | elapsed:    0.7s remaining:    0.0s\n"
     ]
    },
    {
     "name": "stdout",
     "output_type": "stream",
     "text": [
      "[CV]  C=10, decision_function_shape=ovo, kernel=linear, score=0.3717948717948718, total=   0.2s\n",
      "[CV] C=10, decision_function_shape=ovr, kernel=linear ................\n",
      "[CV]  C=10, decision_function_shape=ovr, kernel=linear, score=0.3717948717948718, total=   0.2s\n",
      "[CV] C=100, decision_function_shape=ovo, kernel=linear ...............\n",
      "[CV]  C=100, decision_function_shape=ovo, kernel=linear, score=0.33974358974358976, total=   0.2s\n",
      "[CV] C=100, decision_function_shape=ovr, kernel=linear ...............\n",
      "[CV]  C=100, decision_function_shape=ovr, kernel=linear, score=0.33974358974358976, total=   0.2s\n",
      "[CV] C=1000, decision_function_shape=ovo, kernel=linear ..............\n",
      "[CV]  C=1000, decision_function_shape=ovo, kernel=linear, score=0.33974358974358976, total=   0.2s\n",
      "[CV] C=1000, decision_function_shape=ovr, kernel=linear ..............\n",
      "[CV]  C=1000, decision_function_shape=ovr, kernel=linear, score=0.33974358974358976, total=   0.2s\n",
      "[CV] C=1, decision_function_shape=ovo, kernel=rbf ....................\n",
      "[CV]  C=1, decision_function_shape=ovo, kernel=rbf, score=0.019230769230769232, total=   0.2s\n",
      "[CV] C=1, decision_function_shape=ovr, kernel=rbf ....................\n",
      "[CV]  C=1, decision_function_shape=ovr, kernel=rbf, score=0.019230769230769232, total=   0.2s\n",
      "[CV] C=10, decision_function_shape=ovo, kernel=rbf ...................\n",
      "[CV]  C=10, decision_function_shape=ovo, kernel=rbf, score=0.09615384615384616, total=   0.2s\n",
      "[CV] C=10, decision_function_shape=ovr, kernel=rbf ...................\n",
      "[CV]  C=10, decision_function_shape=ovr, kernel=rbf, score=0.09615384615384616, total=   0.2s\n",
      "[CV] C=100, decision_function_shape=ovo, kernel=rbf ..................\n",
      "[CV]  C=100, decision_function_shape=ovo, kernel=rbf, score=0.21153846153846154, total=   0.1s\n",
      "[CV] C=100, decision_function_shape=ovr, kernel=rbf ..................\n",
      "[CV]  C=100, decision_function_shape=ovr, kernel=rbf, score=0.21153846153846154, total=   0.2s\n",
      "[CV] C=1000, decision_function_shape=ovo, kernel=rbf .................\n",
      "[CV]  C=1000, decision_function_shape=ovo, kernel=rbf, score=0.358974358974359, total=   0.2s\n",
      "[CV] C=1000, decision_function_shape=ovr, kernel=rbf .................\n",
      "[CV]  C=1000, decision_function_shape=ovr, kernel=rbf, score=0.358974358974359, total=   0.1s\n"
     ]
    },
    {
     "name": "stderr",
     "output_type": "stream",
     "text": [
      "[Parallel(n_jobs=1)]: Done  16 out of  16 | elapsed:    6.5s finished\n"
     ]
    }
   ],
   "source": [
    "for nr in frame_numbers:\n",
    "    print(nr)\n",
    "    try:\n",
    "        emg_train_input, emg_train_label = prepare_data(train, nr, 'emg', verbose=False)\n",
    "        emg_valid_input, emg_valid_label = prepare_data(valid, nr, 'emg', verbose=False)\n",
    "\n",
    "        svc = GridSearchCV(svm.SVC(random_state=random_seed), parameters, cv=cross_valid, scoring='accuracy',\n",
    "                           verbose=verbose_level, n_jobs=parallel_jobs).fit(\n",
    "                                                                        np.append(emg_train_input, emg_valid_input, axis=0),\n",
    "                                                                        np.append(emg_train_label, emg_valid_label))\n",
    "\n",
    "        paper_emg.append((svc.best_score_, nr, svc.best_params_))\n",
    "\n",
    "    except ValueError as err:\n",
    "        paper_emg.append((-1, nr, svc.best_params_))"
   ]
  },
  {
   "cell_type": "code",
   "execution_count": 16,
   "metadata": {},
   "outputs": [
    {
     "name": "stdout",
     "output_type": "stream",
     "text": [
      "(0.53846153846153844, 5, {'C': 1000, 'decision_function_shape': 'ovo', 'kernel': 'linear'})\n",
      "(0.44230769230769229, 7, {'C': 100, 'decision_function_shape': 'ovo', 'kernel': 'linear'})\n",
      "(0.37820512820512819, 3, {'C': 1000, 'decision_function_shape': 'ovo', 'kernel': 'linear'})\n",
      "(0.39743589743589741, 10, {'C': 1000, 'decision_function_shape': 'ovo', 'kernel': 'rbf'})\n"
     ]
    }
   ],
   "source": [
    "print(sorted(paper_acc, reverse=True)[0], end='\\n')\n",
    "print(sorted(paper_gyro, reverse=True)[0], end='\\n')\n",
    "print(sorted(paper_ori, reverse=True)[0], end='\\n')\n",
    "print(sorted(paper_emg, reverse=True)[0], end='\\n')"
   ]
  },
  {
   "cell_type": "markdown",
   "metadata": {},
   "source": [
    "## Parametertest - all"
   ]
  },
  {
   "cell_type": "code",
   "execution_count": 17,
   "metadata": {
    "collapsed": true
   },
   "outputs": [],
   "source": [
    "train, valid, test = load_data_for_classification('all')\n",
    "\n",
    "# lists will be filled with (accuracy, frame_number, params)\n",
    "all_acc = []\n",
    "all_gyro = []\n",
    "all_ori = []\n",
    "all_emg = []"
   ]
  },
  {
   "cell_type": "markdown",
   "metadata": {},
   "source": [
    "### Accelerometer"
   ]
  },
  {
   "cell_type": "code",
   "execution_count": 18,
   "metadata": {
    "scrolled": true
   },
   "outputs": [
    {
     "name": "stdout",
     "output_type": "stream",
     "text": [
      "1\n",
      "Fitting 1 folds for each of 16 candidates, totalling 16 fits\n",
      "[CV] C=1, decision_function_shape=ovo, kernel=linear .................\n",
      "[CV]  C=1, decision_function_shape=ovo, kernel=linear, score=0.10576923076923077, total=   0.0s\n",
      "[CV] C=1, decision_function_shape=ovr, kernel=linear .................\n",
      "[CV]  C=1, decision_function_shape=ovr, kernel=linear, score=0.10576923076923077, total=   0.0s\n",
      "[CV] C=10, decision_function_shape=ovo, kernel=linear ................\n",
      "[CV]  C=10, decision_function_shape=ovo, kernel=linear, score=0.16826923076923078, total=   0.0s\n",
      "[CV] C=10, decision_function_shape=ovr, kernel=linear ................\n"
     ]
    },
    {
     "name": "stderr",
     "output_type": "stream",
     "text": [
      "[Parallel(n_jobs=1)]: Done   1 out of   1 | elapsed:    0.0s remaining:    0.0s\n",
      "[Parallel(n_jobs=1)]: Done   2 out of   2 | elapsed:    0.0s remaining:    0.0s\n"
     ]
    },
    {
     "name": "stdout",
     "output_type": "stream",
     "text": [
      "[CV]  C=10, decision_function_shape=ovr, kernel=linear, score=0.16826923076923078, total=   0.0s\n",
      "[CV] C=100, decision_function_shape=ovo, kernel=linear ...............\n",
      "[CV]  C=100, decision_function_shape=ovo, kernel=linear, score=0.22596153846153846, total=   0.0s\n",
      "[CV] C=100, decision_function_shape=ovr, kernel=linear ...............\n",
      "[CV]  C=100, decision_function_shape=ovr, kernel=linear, score=0.22596153846153846, total=   0.0s\n",
      "[CV] C=1000, decision_function_shape=ovo, kernel=linear ..............\n",
      "[CV]  C=1000, decision_function_shape=ovo, kernel=linear, score=0.28846153846153844, total=   0.1s\n",
      "[CV] C=1000, decision_function_shape=ovr, kernel=linear ..............\n",
      "[CV]  C=1000, decision_function_shape=ovr, kernel=linear, score=0.28846153846153844, total=   0.1s\n",
      "[CV] C=1, decision_function_shape=ovo, kernel=rbf ....................\n",
      "[CV]  C=1, decision_function_shape=ovo, kernel=rbf, score=0.0673076923076923, total=   0.0s\n",
      "[CV] C=1, decision_function_shape=ovr, kernel=rbf ....................\n",
      "[CV]  C=1, decision_function_shape=ovr, kernel=rbf, score=0.0673076923076923, total=   0.0s\n",
      "[CV] C=10, decision_function_shape=ovo, kernel=rbf ...................\n",
      "[CV]  C=10, decision_function_shape=ovo, kernel=rbf, score=0.11057692307692307, total=   0.0s\n",
      "[CV] C=10, decision_function_shape=ovr, kernel=rbf ...................\n",
      "[CV]  C=10, decision_function_shape=ovr, kernel=rbf, score=0.11057692307692307, total=   0.0s\n",
      "[CV] C=100, decision_function_shape=ovo, kernel=rbf ..................\n",
      "[CV]  C=100, decision_function_shape=ovo, kernel=rbf, score=0.18269230769230768, total=   0.0s\n",
      "[CV] C=100, decision_function_shape=ovr, kernel=rbf ..................\n",
      "[CV]  C=100, decision_function_shape=ovr, kernel=rbf, score=0.18269230769230768, total=   0.0s\n",
      "[CV] C=1000, decision_function_shape=ovo, kernel=rbf .................\n",
      "[CV]  C=1000, decision_function_shape=ovo, kernel=rbf, score=0.2548076923076923, total=   0.0s\n",
      "[CV] C=1000, decision_function_shape=ovr, kernel=rbf .................\n",
      "[CV]  C=1000, decision_function_shape=ovr, kernel=rbf, score=0.2548076923076923, total=   0.0s\n"
     ]
    },
    {
     "name": "stderr",
     "output_type": "stream",
     "text": [
      "[Parallel(n_jobs=1)]: Done  16 out of  16 | elapsed:    1.7s finished\n"
     ]
    },
    {
     "name": "stdout",
     "output_type": "stream",
     "text": [
      "2\n",
      "Fitting 1 folds for each of 16 candidates, totalling 16 fits\n",
      "[CV] C=1, decision_function_shape=ovo, kernel=linear .................\n",
      "[CV]  C=1, decision_function_shape=ovo, kernel=linear, score=0.17391304347826086, total=   0.0s\n",
      "[CV] C=1, decision_function_shape=ovr, kernel=linear .................\n",
      "[CV]  C=1, decision_function_shape=ovr, kernel=linear, score=0.17391304347826086, total=   0.0s\n",
      "[CV] C=10, decision_function_shape=ovo, kernel=linear ................\n"
     ]
    },
    {
     "name": "stderr",
     "output_type": "stream",
     "text": [
      "[Parallel(n_jobs=1)]: Done   1 out of   1 | elapsed:    0.0s remaining:    0.0s\n",
      "[Parallel(n_jobs=1)]: Done   2 out of   2 | elapsed:    0.1s remaining:    0.0s\n"
     ]
    },
    {
     "name": "stdout",
     "output_type": "stream",
     "text": [
      "[CV]  C=10, decision_function_shape=ovo, kernel=linear, score=0.2753623188405797, total=   0.0s\n",
      "[CV] C=10, decision_function_shape=ovr, kernel=linear ................\n",
      "[CV]  C=10, decision_function_shape=ovr, kernel=linear, score=0.2753623188405797, total=   0.0s\n",
      "[CV] C=100, decision_function_shape=ovo, kernel=linear ...............\n",
      "[CV]  C=100, decision_function_shape=ovo, kernel=linear, score=0.37681159420289856, total=   0.0s\n",
      "[CV] C=100, decision_function_shape=ovr, kernel=linear ...............\n",
      "[CV]  C=100, decision_function_shape=ovr, kernel=linear, score=0.37681159420289856, total=   0.0s\n",
      "[CV] C=1000, decision_function_shape=ovo, kernel=linear ..............\n",
      "[CV]  C=1000, decision_function_shape=ovo, kernel=linear, score=0.4057971014492754, total=   0.2s\n",
      "[CV] C=1000, decision_function_shape=ovr, kernel=linear ..............\n",
      "[CV]  C=1000, decision_function_shape=ovr, kernel=linear, score=0.4057971014492754, total=   0.2s\n",
      "[CV] C=1, decision_function_shape=ovo, kernel=rbf ....................\n",
      "[CV]  C=1, decision_function_shape=ovo, kernel=rbf, score=0.10144927536231885, total=   0.0s\n",
      "[CV] C=1, decision_function_shape=ovr, kernel=rbf ....................\n",
      "[CV]  C=1, decision_function_shape=ovr, kernel=rbf, score=0.10144927536231885, total=   0.0s\n",
      "[CV] C=10, decision_function_shape=ovo, kernel=rbf ...................\n",
      "[CV]  C=10, decision_function_shape=ovo, kernel=rbf, score=0.15458937198067632, total=   0.0s\n",
      "[CV] C=10, decision_function_shape=ovr, kernel=rbf ...................\n",
      "[CV]  C=10, decision_function_shape=ovr, kernel=rbf, score=0.15458937198067632, total=   0.0s\n",
      "[CV] C=100, decision_function_shape=ovo, kernel=rbf ..................\n",
      "[CV]  C=100, decision_function_shape=ovo, kernel=rbf, score=0.27053140096618356, total=   0.0s\n",
      "[CV] C=100, decision_function_shape=ovr, kernel=rbf ..................\n",
      "[CV]  C=100, decision_function_shape=ovr, kernel=rbf, score=0.27053140096618356, total=   0.0s\n",
      "[CV] C=1000, decision_function_shape=ovo, kernel=rbf .................\n",
      "[CV]  C=1000, decision_function_shape=ovo, kernel=rbf, score=0.36231884057971014, total=   0.0s\n",
      "[CV] C=1000, decision_function_shape=ovr, kernel=rbf .................\n",
      "[CV]  C=1000, decision_function_shape=ovr, kernel=rbf, score=0.36231884057971014, total=   0.0s\n"
     ]
    },
    {
     "name": "stderr",
     "output_type": "stream",
     "text": [
      "[Parallel(n_jobs=1)]: Done  16 out of  16 | elapsed:    2.1s finished\n"
     ]
    },
    {
     "name": "stdout",
     "output_type": "stream",
     "text": [
      "3\n",
      "Fitting 1 folds for each of 16 candidates, totalling 16 fits\n",
      "[CV] C=1, decision_function_shape=ovo, kernel=linear .................\n",
      "[CV]  C=1, decision_function_shape=ovo, kernel=linear, score=0.28019323671497587, total=   0.0s\n",
      "[CV] C=1, decision_function_shape=ovr, kernel=linear .................\n",
      "[CV]  C=1, decision_function_shape=ovr, kernel=linear, score=0.28019323671497587, total=   0.0s\n",
      "[CV] C=10, decision_function_shape=ovo, kernel=linear ................\n"
     ]
    },
    {
     "name": "stderr",
     "output_type": "stream",
     "text": [
      "[Parallel(n_jobs=1)]: Done   1 out of   1 | elapsed:    0.0s remaining:    0.0s\n",
      "[Parallel(n_jobs=1)]: Done   2 out of   2 | elapsed:    0.1s remaining:    0.0s\n"
     ]
    },
    {
     "name": "stdout",
     "output_type": "stream",
     "text": [
      "[CV]  C=10, decision_function_shape=ovo, kernel=linear, score=0.41545893719806765, total=   0.0s\n",
      "[CV] C=10, decision_function_shape=ovr, kernel=linear ................\n",
      "[CV]  C=10, decision_function_shape=ovr, kernel=linear, score=0.41545893719806765, total=   0.0s\n",
      "[CV] C=100, decision_function_shape=ovo, kernel=linear ...............\n",
      "[CV]  C=100, decision_function_shape=ovo, kernel=linear, score=0.5024154589371981, total=   0.0s\n",
      "[CV] C=100, decision_function_shape=ovr, kernel=linear ...............\n",
      "[CV]  C=100, decision_function_shape=ovr, kernel=linear, score=0.5024154589371981, total=   0.0s\n",
      "[CV] C=1000, decision_function_shape=ovo, kernel=linear ..............\n",
      "[CV]  C=1000, decision_function_shape=ovo, kernel=linear, score=0.5555555555555556, total=   0.2s\n",
      "[CV] C=1000, decision_function_shape=ovr, kernel=linear ..............\n",
      "[CV]  C=1000, decision_function_shape=ovr, kernel=linear, score=0.5555555555555556, total=   0.2s\n",
      "[CV] C=1, decision_function_shape=ovo, kernel=rbf ....................\n",
      "[CV]  C=1, decision_function_shape=ovo, kernel=rbf, score=0.10628019323671498, total=   0.0s\n",
      "[CV] C=1, decision_function_shape=ovr, kernel=rbf ....................\n",
      "[CV]  C=1, decision_function_shape=ovr, kernel=rbf, score=0.10628019323671498, total=   0.0s\n",
      "[CV] C=10, decision_function_shape=ovo, kernel=rbf ...................\n",
      "[CV]  C=10, decision_function_shape=ovo, kernel=rbf, score=0.19806763285024154, total=   0.0s\n",
      "[CV] C=10, decision_function_shape=ovr, kernel=rbf ...................\n",
      "[CV]  C=10, decision_function_shape=ovr, kernel=rbf, score=0.19806763285024154, total=   0.0s\n",
      "[CV] C=100, decision_function_shape=ovo, kernel=rbf ..................\n",
      "[CV]  C=100, decision_function_shape=ovo, kernel=rbf, score=0.3864734299516908, total=   0.0s\n",
      "[CV] C=100, decision_function_shape=ovr, kernel=rbf ..................\n",
      "[CV]  C=100, decision_function_shape=ovr, kernel=rbf, score=0.3864734299516908, total=   0.0s\n",
      "[CV] C=1000, decision_function_shape=ovo, kernel=rbf .................\n",
      "[CV]  C=1000, decision_function_shape=ovo, kernel=rbf, score=0.4927536231884058, total=   0.0s\n",
      "[CV] C=1000, decision_function_shape=ovr, kernel=rbf .................\n",
      "[CV]  C=1000, decision_function_shape=ovr, kernel=rbf, score=0.4927536231884058, total=   0.0s\n"
     ]
    },
    {
     "name": "stderr",
     "output_type": "stream",
     "text": [
      "[Parallel(n_jobs=1)]: Done  16 out of  16 | elapsed:    2.3s finished\n"
     ]
    },
    {
     "name": "stdout",
     "output_type": "stream",
     "text": [
      "4\n",
      "Fitting 1 folds for each of 16 candidates, totalling 16 fits\n",
      "[CV] C=1, decision_function_shape=ovo, kernel=linear .................\n",
      "[CV]  C=1, decision_function_shape=ovo, kernel=linear, score=0.28502415458937197, total=   0.0s\n",
      "[CV] C=1, decision_function_shape=ovr, kernel=linear .................\n"
     ]
    },
    {
     "name": "stderr",
     "output_type": "stream",
     "text": [
      "[Parallel(n_jobs=1)]: Done   1 out of   1 | elapsed:    0.0s remaining:    0.0s\n",
      "[Parallel(n_jobs=1)]: Done   2 out of   2 | elapsed:    0.1s remaining:    0.0s\n"
     ]
    },
    {
     "name": "stdout",
     "output_type": "stream",
     "text": [
      "[CV]  C=1, decision_function_shape=ovr, kernel=linear, score=0.28502415458937197, total=   0.0s\n",
      "[CV] C=10, decision_function_shape=ovo, kernel=linear ................\n",
      "[CV]  C=10, decision_function_shape=ovo, kernel=linear, score=0.40096618357487923, total=   0.0s\n",
      "[CV] C=10, decision_function_shape=ovr, kernel=linear ................\n",
      "[CV]  C=10, decision_function_shape=ovr, kernel=linear, score=0.40096618357487923, total=   0.0s\n",
      "[CV] C=100, decision_function_shape=ovo, kernel=linear ...............\n",
      "[CV]  C=100, decision_function_shape=ovo, kernel=linear, score=0.5120772946859904, total=   0.0s\n",
      "[CV] C=100, decision_function_shape=ovr, kernel=linear ...............\n",
      "[CV]  C=100, decision_function_shape=ovr, kernel=linear, score=0.5120772946859904, total=   0.0s\n",
      "[CV] C=1000, decision_function_shape=ovo, kernel=linear ..............\n",
      "[CV]  C=1000, decision_function_shape=ovo, kernel=linear, score=0.5314009661835749, total=   0.1s\n",
      "[CV] C=1000, decision_function_shape=ovr, kernel=linear ..............\n",
      "[CV]  C=1000, decision_function_shape=ovr, kernel=linear, score=0.5314009661835749, total=   0.1s\n",
      "[CV] C=1, decision_function_shape=ovo, kernel=rbf ....................\n",
      "[CV]  C=1, decision_function_shape=ovo, kernel=rbf, score=0.12560386473429952, total=   0.0s\n",
      "[CV] C=1, decision_function_shape=ovr, kernel=rbf ....................\n",
      "[CV]  C=1, decision_function_shape=ovr, kernel=rbf, score=0.12560386473429952, total=   0.1s\n",
      "[CV] C=10, decision_function_shape=ovo, kernel=rbf ...................\n",
      "[CV]  C=10, decision_function_shape=ovo, kernel=rbf, score=0.1932367149758454, total=   0.0s\n",
      "[CV] C=10, decision_function_shape=ovr, kernel=rbf ...................\n",
      "[CV]  C=10, decision_function_shape=ovr, kernel=rbf, score=0.1932367149758454, total=   0.0s\n",
      "[CV] C=100, decision_function_shape=ovo, kernel=rbf ..................\n",
      "[CV]  C=100, decision_function_shape=ovo, kernel=rbf, score=0.357487922705314, total=   0.0s\n",
      "[CV] C=100, decision_function_shape=ovr, kernel=rbf ..................\n",
      "[CV]  C=100, decision_function_shape=ovr, kernel=rbf, score=0.357487922705314, total=   0.0s\n",
      "[CV] C=1000, decision_function_shape=ovo, kernel=rbf .................\n",
      "[CV]  C=1000, decision_function_shape=ovo, kernel=rbf, score=0.463768115942029, total=   0.0s\n",
      "[CV] C=1000, decision_function_shape=ovr, kernel=rbf .................\n",
      "[CV]  C=1000, decision_function_shape=ovr, kernel=rbf, score=0.463768115942029, total=   0.0s\n"
     ]
    },
    {
     "name": "stderr",
     "output_type": "stream",
     "text": [
      "[Parallel(n_jobs=1)]: Done  16 out of  16 | elapsed:    2.6s finished\n"
     ]
    },
    {
     "name": "stdout",
     "output_type": "stream",
     "text": [
      "5\n",
      "Fitting 1 folds for each of 16 candidates, totalling 16 fits\n",
      "[CV] C=1, decision_function_shape=ovo, kernel=linear .................\n",
      "[CV]  C=1, decision_function_shape=ovo, kernel=linear, score=0.33816425120772947, total=   0.0s\n",
      "[CV] C=1, decision_function_shape=ovr, kernel=linear .................\n"
     ]
    },
    {
     "name": "stderr",
     "output_type": "stream",
     "text": [
      "[Parallel(n_jobs=1)]: Done   1 out of   1 | elapsed:    0.0s remaining:    0.0s\n",
      "[Parallel(n_jobs=1)]: Done   2 out of   2 | elapsed:    0.2s remaining:    0.0s\n"
     ]
    },
    {
     "name": "stdout",
     "output_type": "stream",
     "text": [
      "[CV]  C=1, decision_function_shape=ovr, kernel=linear, score=0.33816425120772947, total=   0.0s\n",
      "[CV] C=10, decision_function_shape=ovo, kernel=linear ................\n",
      "[CV]  C=10, decision_function_shape=ovo, kernel=linear, score=0.42028985507246375, total=   0.0s\n",
      "[CV] C=10, decision_function_shape=ovr, kernel=linear ................\n",
      "[CV]  C=10, decision_function_shape=ovr, kernel=linear, score=0.42028985507246375, total=   0.0s\n",
      "[CV] C=100, decision_function_shape=ovo, kernel=linear ...............\n",
      "[CV]  C=100, decision_function_shape=ovo, kernel=linear, score=0.4782608695652174, total=   0.0s\n",
      "[CV] C=100, decision_function_shape=ovr, kernel=linear ...............\n",
      "[CV]  C=100, decision_function_shape=ovr, kernel=linear, score=0.4782608695652174, total=   0.0s\n",
      "[CV] C=1000, decision_function_shape=ovo, kernel=linear ..............\n",
      "[CV]  C=1000, decision_function_shape=ovo, kernel=linear, score=0.5120772946859904, total=   0.1s\n",
      "[CV] C=1000, decision_function_shape=ovr, kernel=linear ..............\n",
      "[CV]  C=1000, decision_function_shape=ovr, kernel=linear, score=0.5120772946859904, total=   0.1s\n",
      "[CV] C=1, decision_function_shape=ovo, kernel=rbf ....................\n",
      "[CV]  C=1, decision_function_shape=ovo, kernel=rbf, score=0.14009661835748793, total=   0.1s\n",
      "[CV] C=1, decision_function_shape=ovr, kernel=rbf ....................\n",
      "[CV]  C=1, decision_function_shape=ovr, kernel=rbf, score=0.14009661835748793, total=   0.1s\n",
      "[CV] C=10, decision_function_shape=ovo, kernel=rbf ...................\n",
      "[CV]  C=10, decision_function_shape=ovo, kernel=rbf, score=0.22705314009661837, total=   0.0s\n",
      "[CV] C=10, decision_function_shape=ovr, kernel=rbf ...................\n",
      "[CV]  C=10, decision_function_shape=ovr, kernel=rbf, score=0.22705314009661837, total=   0.0s\n",
      "[CV] C=100, decision_function_shape=ovo, kernel=rbf ..................\n",
      "[CV]  C=100, decision_function_shape=ovo, kernel=rbf, score=0.37681159420289856, total=   0.0s\n",
      "[CV] C=100, decision_function_shape=ovr, kernel=rbf ..................\n",
      "[CV]  C=100, decision_function_shape=ovr, kernel=rbf, score=0.37681159420289856, total=   0.0s\n",
      "[CV] C=1000, decision_function_shape=ovo, kernel=rbf .................\n",
      "[CV]  C=1000, decision_function_shape=ovo, kernel=rbf, score=0.463768115942029, total=   0.0s\n",
      "[CV] C=1000, decision_function_shape=ovr, kernel=rbf .................\n",
      "[CV]  C=1000, decision_function_shape=ovr, kernel=rbf, score=0.463768115942029, total=   0.0s\n"
     ]
    },
    {
     "name": "stderr",
     "output_type": "stream",
     "text": [
      "[Parallel(n_jobs=1)]: Done  16 out of  16 | elapsed:    2.8s finished\n"
     ]
    },
    {
     "name": "stdout",
     "output_type": "stream",
     "text": [
      "6\n",
      "Fitting 1 folds for each of 16 candidates, totalling 16 fits\n",
      "[CV] C=1, decision_function_shape=ovo, kernel=linear .................\n",
      "[CV]  C=1, decision_function_shape=ovo, kernel=linear, score=0.357487922705314, total=   0.0s\n",
      "[CV] C=1, decision_function_shape=ovr, kernel=linear .................\n"
     ]
    },
    {
     "name": "stderr",
     "output_type": "stream",
     "text": [
      "[Parallel(n_jobs=1)]: Done   1 out of   1 | elapsed:    0.0s remaining:    0.0s\n",
      "[Parallel(n_jobs=1)]: Done   2 out of   2 | elapsed:    0.2s remaining:    0.0s\n"
     ]
    },
    {
     "name": "stdout",
     "output_type": "stream",
     "text": [
      "[CV]  C=1, decision_function_shape=ovr, kernel=linear, score=0.357487922705314, total=   0.0s\n",
      "[CV] C=10, decision_function_shape=ovo, kernel=linear ................\n",
      "[CV]  C=10, decision_function_shape=ovo, kernel=linear, score=0.4830917874396135, total=   0.0s\n",
      "[CV] C=10, decision_function_shape=ovr, kernel=linear ................\n",
      "[CV]  C=10, decision_function_shape=ovr, kernel=linear, score=0.4830917874396135, total=   0.0s\n",
      "[CV] C=100, decision_function_shape=ovo, kernel=linear ...............\n",
      "[CV]  C=100, decision_function_shape=ovo, kernel=linear, score=0.5362318840579711, total=   0.0s\n",
      "[CV] C=100, decision_function_shape=ovr, kernel=linear ...............\n",
      "[CV]  C=100, decision_function_shape=ovr, kernel=linear, score=0.5362318840579711, total=   0.1s\n",
      "[CV] C=1000, decision_function_shape=ovo, kernel=linear ..............\n",
      "[CV]  C=1000, decision_function_shape=ovo, kernel=linear, score=0.5700483091787439, total=   0.1s\n",
      "[CV] C=1000, decision_function_shape=ovr, kernel=linear ..............\n",
      "[CV]  C=1000, decision_function_shape=ovr, kernel=linear, score=0.5700483091787439, total=   0.1s\n",
      "[CV] C=1, decision_function_shape=ovo, kernel=rbf ....................\n",
      "[CV]  C=1, decision_function_shape=ovo, kernel=rbf, score=0.12560386473429952, total=   0.1s\n",
      "[CV] C=1, decision_function_shape=ovr, kernel=rbf ....................\n",
      "[CV]  C=1, decision_function_shape=ovr, kernel=rbf, score=0.12560386473429952, total=   0.1s\n",
      "[CV] C=10, decision_function_shape=ovo, kernel=rbf ...................\n",
      "[CV]  C=10, decision_function_shape=ovo, kernel=rbf, score=0.28019323671497587, total=   0.1s\n",
      "[CV] C=10, decision_function_shape=ovr, kernel=rbf ...................\n",
      "[CV]  C=10, decision_function_shape=ovr, kernel=rbf, score=0.28019323671497587, total=   0.0s\n",
      "[CV] C=100, decision_function_shape=ovo, kernel=rbf ..................\n",
      "[CV]  C=100, decision_function_shape=ovo, kernel=rbf, score=0.3961352657004831, total=   0.0s\n",
      "[CV] C=100, decision_function_shape=ovr, kernel=rbf ..................\n",
      "[CV]  C=100, decision_function_shape=ovr, kernel=rbf, score=0.3961352657004831, total=   0.0s\n",
      "[CV] C=1000, decision_function_shape=ovo, kernel=rbf .................\n",
      "[CV]  C=1000, decision_function_shape=ovo, kernel=rbf, score=0.5120772946859904, total=   0.0s\n",
      "[CV] C=1000, decision_function_shape=ovr, kernel=rbf .................\n",
      "[CV]  C=1000, decision_function_shape=ovr, kernel=rbf, score=0.5120772946859904, total=   0.0s\n"
     ]
    },
    {
     "name": "stderr",
     "output_type": "stream",
     "text": [
      "[Parallel(n_jobs=1)]: Done  16 out of  16 | elapsed:    3.2s finished\n"
     ]
    },
    {
     "name": "stdout",
     "output_type": "stream",
     "text": [
      "7\n",
      "Fitting 1 folds for each of 16 candidates, totalling 16 fits\n",
      "[CV] C=1, decision_function_shape=ovo, kernel=linear .................\n",
      "[CV]  C=1, decision_function_shape=ovo, kernel=linear, score=0.2946859903381642, total=   0.0s\n",
      "[CV] C=1, decision_function_shape=ovr, kernel=linear .................\n"
     ]
    },
    {
     "name": "stderr",
     "output_type": "stream",
     "text": [
      "[Parallel(n_jobs=1)]: Done   1 out of   1 | elapsed:    0.1s remaining:    0.0s\n",
      "[Parallel(n_jobs=1)]: Done   2 out of   2 | elapsed:    0.3s remaining:    0.0s\n"
     ]
    },
    {
     "name": "stdout",
     "output_type": "stream",
     "text": [
      "[CV]  C=1, decision_function_shape=ovr, kernel=linear, score=0.2946859903381642, total=   0.0s\n",
      "[CV] C=10, decision_function_shape=ovo, kernel=linear ................\n",
      "[CV]  C=10, decision_function_shape=ovo, kernel=linear, score=0.42028985507246375, total=   0.0s\n",
      "[CV] C=10, decision_function_shape=ovr, kernel=linear ................\n",
      "[CV]  C=10, decision_function_shape=ovr, kernel=linear, score=0.42028985507246375, total=   0.0s\n",
      "[CV] C=100, decision_function_shape=ovo, kernel=linear ...............\n",
      "[CV]  C=100, decision_function_shape=ovo, kernel=linear, score=0.47342995169082125, total=   0.1s\n",
      "[CV] C=100, decision_function_shape=ovr, kernel=linear ...............\n",
      "[CV]  C=100, decision_function_shape=ovr, kernel=linear, score=0.47342995169082125, total=   0.1s\n",
      "[CV] C=1000, decision_function_shape=ovo, kernel=linear ..............\n",
      "[CV]  C=1000, decision_function_shape=ovo, kernel=linear, score=0.4830917874396135, total=   0.1s\n",
      "[CV] C=1000, decision_function_shape=ovr, kernel=linear ..............\n",
      "[CV]  C=1000, decision_function_shape=ovr, kernel=linear, score=0.4830917874396135, total=   0.1s\n",
      "[CV] C=1, decision_function_shape=ovo, kernel=rbf ....................\n",
      "[CV]  C=1, decision_function_shape=ovo, kernel=rbf, score=0.0966183574879227, total=   0.1s\n",
      "[CV] C=1, decision_function_shape=ovr, kernel=rbf ....................\n",
      "[CV]  C=1, decision_function_shape=ovr, kernel=rbf, score=0.0966183574879227, total=   0.1s\n",
      "[CV] C=10, decision_function_shape=ovo, kernel=rbf ...................\n",
      "[CV]  C=10, decision_function_shape=ovo, kernel=rbf, score=0.21256038647342995, total=   0.1s\n",
      "[CV] C=10, decision_function_shape=ovr, kernel=rbf ...................\n",
      "[CV]  C=10, decision_function_shape=ovr, kernel=rbf, score=0.21256038647342995, total=   0.1s\n",
      "[CV] C=100, decision_function_shape=ovo, kernel=rbf ..................\n",
      "[CV]  C=100, decision_function_shape=ovo, kernel=rbf, score=0.357487922705314, total=   0.0s\n",
      "[CV] C=100, decision_function_shape=ovr, kernel=rbf ..................\n",
      "[CV]  C=100, decision_function_shape=ovr, kernel=rbf, score=0.357487922705314, total=   0.0s\n",
      "[CV] C=1000, decision_function_shape=ovo, kernel=rbf .................\n",
      "[CV]  C=1000, decision_function_shape=ovo, kernel=rbf, score=0.47342995169082125, total=   0.0s\n",
      "[CV] C=1000, decision_function_shape=ovr, kernel=rbf .................\n",
      "[CV]  C=1000, decision_function_shape=ovr, kernel=rbf, score=0.47342995169082125, total=   0.0s\n"
     ]
    },
    {
     "name": "stderr",
     "output_type": "stream",
     "text": [
      "[Parallel(n_jobs=1)]: Done  16 out of  16 | elapsed:    3.7s finished\n"
     ]
    },
    {
     "name": "stdout",
     "output_type": "stream",
     "text": [
      "8\n",
      "Fitting 1 folds for each of 16 candidates, totalling 16 fits\n",
      "[CV] C=1, decision_function_shape=ovo, kernel=linear .................\n",
      "[CV]  C=1, decision_function_shape=ovo, kernel=linear, score=0.3140096618357488, total=   0.0s\n",
      "[CV] C=1, decision_function_shape=ovr, kernel=linear .................\n"
     ]
    },
    {
     "name": "stderr",
     "output_type": "stream",
     "text": [
      "[Parallel(n_jobs=1)]: Done   1 out of   1 | elapsed:    0.1s remaining:    0.0s\n"
     ]
    },
    {
     "name": "stdout",
     "output_type": "stream",
     "text": [
      "[CV]  C=1, decision_function_shape=ovr, kernel=linear, score=0.3140096618357488, total=   0.0s\n",
      "[CV] C=10, decision_function_shape=ovo, kernel=linear ................\n",
      "[CV]  C=10, decision_function_shape=ovo, kernel=linear, score=0.42995169082125606, total=   0.0s\n",
      "[CV] C=10, decision_function_shape=ovr, kernel=linear ................\n",
      "[CV]  C=10, decision_function_shape=ovr, kernel=linear, score=0.42995169082125606, total=   0.0s\n",
      "[CV] C=100, decision_function_shape=ovo, kernel=linear ...............\n",
      "[CV]  C=100, decision_function_shape=ovo, kernel=linear, score=0.4444444444444444, total=   0.1s\n",
      "[CV] C=100, decision_function_shape=ovr, kernel=linear ...............\n",
      "[CV]  C=100, decision_function_shape=ovr, kernel=linear, score=0.4444444444444444, total=   0.1s\n",
      "[CV] C=1000, decision_function_shape=ovo, kernel=linear ..............\n",
      "[CV]  C=1000, decision_function_shape=ovo, kernel=linear, score=0.4396135265700483, total=   0.2s\n",
      "[CV] C=1000, decision_function_shape=ovr, kernel=linear ..............\n",
      "[CV]  C=1000, decision_function_shape=ovr, kernel=linear, score=0.4396135265700483, total=   0.2s\n",
      "[CV] C=1, decision_function_shape=ovo, kernel=rbf ....................\n",
      "[CV]  C=1, decision_function_shape=ovo, kernel=rbf, score=0.05314009661835749, total=   0.1s\n",
      "[CV] C=1, decision_function_shape=ovr, kernel=rbf ....................\n",
      "[CV]  C=1, decision_function_shape=ovr, kernel=rbf, score=0.05314009661835749, total=   0.1s\n",
      "[CV] C=10, decision_function_shape=ovo, kernel=rbf ...................\n",
      "[CV]  C=10, decision_function_shape=ovo, kernel=rbf, score=0.23671497584541062, total=   0.1s\n",
      "[CV] C=10, decision_function_shape=ovr, kernel=rbf ...................\n",
      "[CV]  C=10, decision_function_shape=ovr, kernel=rbf, score=0.23671497584541062, total=   0.1s\n",
      "[CV] C=100, decision_function_shape=ovo, kernel=rbf ..................\n",
      "[CV]  C=100, decision_function_shape=ovo, kernel=rbf, score=0.34782608695652173, total=   0.0s\n",
      "[CV] C=100, decision_function_shape=ovr, kernel=rbf ..................\n",
      "[CV]  C=100, decision_function_shape=ovr, kernel=rbf, score=0.34782608695652173, total=   0.0s\n",
      "[CV] C=1000, decision_function_shape=ovo, kernel=rbf .................\n",
      "[CV]  C=1000, decision_function_shape=ovo, kernel=rbf, score=0.41545893719806765, total=   0.1s\n",
      "[CV] C=1000, decision_function_shape=ovr, kernel=rbf .................\n",
      "[CV]  C=1000, decision_function_shape=ovr, kernel=rbf, score=0.41545893719806765, total=   0.1s\n"
     ]
    },
    {
     "name": "stderr",
     "output_type": "stream",
     "text": [
      "[Parallel(n_jobs=1)]: Done   2 out of   2 | elapsed:    0.3s remaining:    0.0s\n",
      "[Parallel(n_jobs=1)]: Done  16 out of  16 | elapsed:    4.0s finished\n"
     ]
    },
    {
     "name": "stdout",
     "output_type": "stream",
     "text": [
      "9\n",
      "Fitting 1 folds for each of 16 candidates, totalling 16 fits\n",
      "[CV] C=1, decision_function_shape=ovo, kernel=linear .................\n",
      "[CV]  C=1, decision_function_shape=ovo, kernel=linear, score=0.28019323671497587, total=   0.0s\n",
      "[CV] C=1, decision_function_shape=ovr, kernel=linear .................\n"
     ]
    },
    {
     "name": "stderr",
     "output_type": "stream",
     "text": [
      "[Parallel(n_jobs=1)]: Done   1 out of   1 | elapsed:    0.1s remaining:    0.0s\n"
     ]
    },
    {
     "name": "stdout",
     "output_type": "stream",
     "text": [
      "[CV]  C=1, decision_function_shape=ovr, kernel=linear, score=0.28019323671497587, total=   0.0s\n",
      "[CV] C=10, decision_function_shape=ovo, kernel=linear ................\n"
     ]
    },
    {
     "name": "stderr",
     "output_type": "stream",
     "text": [
      "[Parallel(n_jobs=1)]: Done   2 out of   2 | elapsed:    0.4s remaining:    0.0s\n"
     ]
    },
    {
     "name": "stdout",
     "output_type": "stream",
     "text": [
      "[CV]  C=10, decision_function_shape=ovo, kernel=linear, score=0.3719806763285024, total=   0.1s\n",
      "[CV] C=10, decision_function_shape=ovr, kernel=linear ................\n",
      "[CV]  C=10, decision_function_shape=ovr, kernel=linear, score=0.3719806763285024, total=   0.1s\n",
      "[CV] C=100, decision_function_shape=ovo, kernel=linear ...............\n",
      "[CV]  C=100, decision_function_shape=ovo, kernel=linear, score=0.40096618357487923, total=   0.1s\n",
      "[CV] C=100, decision_function_shape=ovr, kernel=linear ...............\n",
      "[CV]  C=100, decision_function_shape=ovr, kernel=linear, score=0.40096618357487923, total=   0.1s\n",
      "[CV] C=1000, decision_function_shape=ovo, kernel=linear ..............\n",
      "[CV]  C=1000, decision_function_shape=ovo, kernel=linear, score=0.41545893719806765, total=   0.2s\n",
      "[CV] C=1000, decision_function_shape=ovr, kernel=linear ..............\n",
      "[CV]  C=1000, decision_function_shape=ovr, kernel=linear, score=0.41545893719806765, total=   0.2s\n",
      "[CV] C=1, decision_function_shape=ovo, kernel=rbf ....................\n",
      "[CV]  C=1, decision_function_shape=ovo, kernel=rbf, score=0.05314009661835749, total=   0.1s\n",
      "[CV] C=1, decision_function_shape=ovr, kernel=rbf ....................\n",
      "[CV]  C=1, decision_function_shape=ovr, kernel=rbf, score=0.05314009661835749, total=   0.1s\n",
      "[CV] C=10, decision_function_shape=ovo, kernel=rbf ...................\n",
      "[CV]  C=10, decision_function_shape=ovo, kernel=rbf, score=0.20772946859903382, total=   0.1s\n",
      "[CV] C=10, decision_function_shape=ovr, kernel=rbf ...................\n",
      "[CV]  C=10, decision_function_shape=ovr, kernel=rbf, score=0.20772946859903382, total=   0.1s\n",
      "[CV] C=100, decision_function_shape=ovo, kernel=rbf ..................\n",
      "[CV]  C=100, decision_function_shape=ovo, kernel=rbf, score=0.28019323671497587, total=   0.1s\n",
      "[CV] C=100, decision_function_shape=ovr, kernel=rbf ..................\n",
      "[CV]  C=100, decision_function_shape=ovr, kernel=rbf, score=0.28019323671497587, total=   0.1s\n",
      "[CV] C=1000, decision_function_shape=ovo, kernel=rbf .................\n",
      "[CV]  C=1000, decision_function_shape=ovo, kernel=rbf, score=0.3719806763285024, total=   0.1s\n",
      "[CV] C=1000, decision_function_shape=ovr, kernel=rbf .................\n",
      "[CV]  C=1000, decision_function_shape=ovr, kernel=rbf, score=0.3719806763285024, total=   0.1s\n"
     ]
    },
    {
     "name": "stderr",
     "output_type": "stream",
     "text": [
      "[Parallel(n_jobs=1)]: Done  16 out of  16 | elapsed:    4.5s finished\n"
     ]
    },
    {
     "name": "stdout",
     "output_type": "stream",
     "text": [
      "10\n",
      "Fitting 1 folds for each of 16 candidates, totalling 16 fits\n",
      "[CV] C=1, decision_function_shape=ovo, kernel=linear .................\n",
      "[CV]  C=1, decision_function_shape=ovo, kernel=linear, score=0.30434782608695654, total=   0.1s\n",
      "[CV] C=1, decision_function_shape=ovr, kernel=linear .................\n"
     ]
    },
    {
     "name": "stderr",
     "output_type": "stream",
     "text": [
      "[Parallel(n_jobs=1)]: Done   1 out of   1 | elapsed:    0.2s remaining:    0.0s\n"
     ]
    },
    {
     "name": "stdout",
     "output_type": "stream",
     "text": [
      "[CV]  C=1, decision_function_shape=ovr, kernel=linear, score=0.30434782608695654, total=   0.1s\n",
      "[CV] C=10, decision_function_shape=ovo, kernel=linear ................\n"
     ]
    },
    {
     "name": "stderr",
     "output_type": "stream",
     "text": [
      "[Parallel(n_jobs=1)]: Done   2 out of   2 | elapsed:    0.4s remaining:    0.0s\n"
     ]
    },
    {
     "name": "stdout",
     "output_type": "stream",
     "text": [
      "[CV]  C=10, decision_function_shape=ovo, kernel=linear, score=0.357487922705314, total=   0.1s\n",
      "[CV] C=10, decision_function_shape=ovr, kernel=linear ................\n",
      "[CV]  C=10, decision_function_shape=ovr, kernel=linear, score=0.357487922705314, total=   0.1s\n",
      "[CV] C=100, decision_function_shape=ovo, kernel=linear ...............\n",
      "[CV]  C=100, decision_function_shape=ovo, kernel=linear, score=0.3719806763285024, total=   0.2s\n",
      "[CV] C=100, decision_function_shape=ovr, kernel=linear ...............\n",
      "[CV]  C=100, decision_function_shape=ovr, kernel=linear, score=0.3719806763285024, total=   0.1s\n",
      "[CV] C=1000, decision_function_shape=ovo, kernel=linear ..............\n",
      "[CV]  C=1000, decision_function_shape=ovo, kernel=linear, score=0.3719806763285024, total=   0.3s\n",
      "[CV] C=1000, decision_function_shape=ovr, kernel=linear ..............\n",
      "[CV]  C=1000, decision_function_shape=ovr, kernel=linear, score=0.3719806763285024, total=   0.2s\n",
      "[CV] C=1, decision_function_shape=ovo, kernel=rbf ....................\n",
      "[CV]  C=1, decision_function_shape=ovo, kernel=rbf, score=0.04830917874396135, total=   0.2s\n",
      "[CV] C=1, decision_function_shape=ovr, kernel=rbf ....................\n",
      "[CV]  C=1, decision_function_shape=ovr, kernel=rbf, score=0.04830917874396135, total=   0.2s\n",
      "[CV] C=10, decision_function_shape=ovo, kernel=rbf ...................\n",
      "[CV]  C=10, decision_function_shape=ovo, kernel=rbf, score=0.17391304347826086, total=   0.1s\n",
      "[CV] C=10, decision_function_shape=ovr, kernel=rbf ...................\n",
      "[CV]  C=10, decision_function_shape=ovr, kernel=rbf, score=0.17391304347826086, total=   0.1s\n",
      "[CV] C=100, decision_function_shape=ovo, kernel=rbf ..................\n",
      "[CV]  C=100, decision_function_shape=ovo, kernel=rbf, score=0.32367149758454106, total=   0.1s\n",
      "[CV] C=100, decision_function_shape=ovr, kernel=rbf ..................\n",
      "[CV]  C=100, decision_function_shape=ovr, kernel=rbf, score=0.32367149758454106, total=   0.1s\n",
      "[CV] C=1000, decision_function_shape=ovo, kernel=rbf .................\n",
      "[CV]  C=1000, decision_function_shape=ovo, kernel=rbf, score=0.36231884057971014, total=   0.1s\n",
      "[CV] C=1000, decision_function_shape=ovr, kernel=rbf .................\n",
      "[CV]  C=1000, decision_function_shape=ovr, kernel=rbf, score=0.36231884057971014, total=   0.1s\n"
     ]
    },
    {
     "name": "stderr",
     "output_type": "stream",
     "text": [
      "[Parallel(n_jobs=1)]: Done  16 out of  16 | elapsed:    5.1s finished\n"
     ]
    },
    {
     "name": "stdout",
     "output_type": "stream",
     "text": [
      "11\n",
      "Fitting 1 folds for each of 16 candidates, totalling 16 fits\n",
      "[CV] C=1, decision_function_shape=ovo, kernel=linear .................\n",
      "[CV]  C=1, decision_function_shape=ovo, kernel=linear, score=0.2946859903381642, total=   0.1s\n",
      "[CV] C=1, decision_function_shape=ovr, kernel=linear .................\n"
     ]
    },
    {
     "name": "stderr",
     "output_type": "stream",
     "text": [
      "[Parallel(n_jobs=1)]: Done   1 out of   1 | elapsed:    0.2s remaining:    0.0s\n"
     ]
    },
    {
     "name": "stdout",
     "output_type": "stream",
     "text": [
      "[CV]  C=1, decision_function_shape=ovr, kernel=linear, score=0.2946859903381642, total=   0.1s\n",
      "[CV] C=10, decision_function_shape=ovo, kernel=linear ................\n"
     ]
    },
    {
     "name": "stderr",
     "output_type": "stream",
     "text": [
      "[Parallel(n_jobs=1)]: Done   2 out of   2 | elapsed:    0.5s remaining:    0.0s\n"
     ]
    },
    {
     "name": "stdout",
     "output_type": "stream",
     "text": [
      "[CV]  C=10, decision_function_shape=ovo, kernel=linear, score=0.30434782608695654, total=   0.1s\n",
      "[CV] C=10, decision_function_shape=ovr, kernel=linear ................\n",
      "[CV]  C=10, decision_function_shape=ovr, kernel=linear, score=0.30434782608695654, total=   0.1s\n",
      "[CV] C=100, decision_function_shape=ovo, kernel=linear ...............\n",
      "[CV]  C=100, decision_function_shape=ovo, kernel=linear, score=0.391304347826087, total=   0.1s\n",
      "[CV] C=100, decision_function_shape=ovr, kernel=linear ...............\n",
      "[CV]  C=100, decision_function_shape=ovr, kernel=linear, score=0.391304347826087, total=   0.2s\n",
      "[CV] C=1000, decision_function_shape=ovo, kernel=linear ..............\n",
      "[CV]  C=1000, decision_function_shape=ovo, kernel=linear, score=0.34299516908212563, total=   0.2s\n",
      "[CV] C=1000, decision_function_shape=ovr, kernel=linear ..............\n",
      "[CV]  C=1000, decision_function_shape=ovr, kernel=linear, score=0.34299516908212563, total=   0.2s\n",
      "[CV] C=1, decision_function_shape=ovo, kernel=rbf ....................\n",
      "[CV]  C=1, decision_function_shape=ovo, kernel=rbf, score=0.04830917874396135, total=   0.2s\n",
      "[CV] C=1, decision_function_shape=ovr, kernel=rbf ....................\n",
      "[CV]  C=1, decision_function_shape=ovr, kernel=rbf, score=0.04830917874396135, total=   0.2s\n",
      "[CV] C=10, decision_function_shape=ovo, kernel=rbf ...................\n",
      "[CV]  C=10, decision_function_shape=ovo, kernel=rbf, score=0.1642512077294686, total=   0.2s\n",
      "[CV] C=10, decision_function_shape=ovr, kernel=rbf ...................\n",
      "[CV]  C=10, decision_function_shape=ovr, kernel=rbf, score=0.1642512077294686, total=   0.2s\n",
      "[CV] C=100, decision_function_shape=ovo, kernel=rbf ..................\n",
      "[CV]  C=100, decision_function_shape=ovo, kernel=rbf, score=0.3140096618357488, total=   0.1s\n",
      "[CV] C=100, decision_function_shape=ovr, kernel=rbf ..................\n",
      "[CV]  C=100, decision_function_shape=ovr, kernel=rbf, score=0.3140096618357488, total=   0.1s\n",
      "[CV] C=1000, decision_function_shape=ovo, kernel=rbf .................\n",
      "[CV]  C=1000, decision_function_shape=ovo, kernel=rbf, score=0.3526570048309179, total=   0.1s\n",
      "[CV] C=1000, decision_function_shape=ovr, kernel=rbf .................\n",
      "[CV]  C=1000, decision_function_shape=ovr, kernel=rbf, score=0.3526570048309179, total=   0.1s\n"
     ]
    },
    {
     "name": "stderr",
     "output_type": "stream",
     "text": [
      "[Parallel(n_jobs=1)]: Done  16 out of  16 | elapsed:    5.5s finished\n"
     ]
    },
    {
     "name": "stdout",
     "output_type": "stream",
     "text": [
      "12\n",
      "Fitting 1 folds for each of 16 candidates, totalling 16 fits\n",
      "[CV] C=1, decision_function_shape=ovo, kernel=linear .................\n",
      "[CV]  C=1, decision_function_shape=ovo, kernel=linear, score=0.32367149758454106, total=   0.1s\n",
      "[CV] C=1, decision_function_shape=ovr, kernel=linear .................\n"
     ]
    },
    {
     "name": "stderr",
     "output_type": "stream",
     "text": [
      "[Parallel(n_jobs=1)]: Done   1 out of   1 | elapsed:    0.2s remaining:    0.0s\n"
     ]
    },
    {
     "name": "stdout",
     "output_type": "stream",
     "text": [
      "[CV]  C=1, decision_function_shape=ovr, kernel=linear, score=0.32367149758454106, total=   0.1s\n",
      "[CV] C=10, decision_function_shape=ovo, kernel=linear ................\n"
     ]
    },
    {
     "name": "stderr",
     "output_type": "stream",
     "text": [
      "[Parallel(n_jobs=1)]: Done   2 out of   2 | elapsed:    0.6s remaining:    0.0s\n"
     ]
    },
    {
     "name": "stdout",
     "output_type": "stream",
     "text": [
      "[CV]  C=10, decision_function_shape=ovo, kernel=linear, score=0.3671497584541063, total=   0.1s\n",
      "[CV] C=10, decision_function_shape=ovr, kernel=linear ................\n",
      "[CV]  C=10, decision_function_shape=ovr, kernel=linear, score=0.3671497584541063, total=   0.1s\n",
      "[CV] C=100, decision_function_shape=ovo, kernel=linear ...............\n",
      "[CV]  C=100, decision_function_shape=ovo, kernel=linear, score=0.3961352657004831, total=   0.2s\n",
      "[CV] C=100, decision_function_shape=ovr, kernel=linear ...............\n",
      "[CV]  C=100, decision_function_shape=ovr, kernel=linear, score=0.3961352657004831, total=   0.2s\n",
      "[CV] C=1000, decision_function_shape=ovo, kernel=linear ..............\n",
      "[CV]  C=1000, decision_function_shape=ovo, kernel=linear, score=0.3961352657004831, total=   0.3s\n",
      "[CV] C=1000, decision_function_shape=ovr, kernel=linear ..............\n",
      "[CV]  C=1000, decision_function_shape=ovr, kernel=linear, score=0.3961352657004831, total=   0.3s\n",
      "[CV] C=1, decision_function_shape=ovo, kernel=rbf ....................\n",
      "[CV]  C=1, decision_function_shape=ovo, kernel=rbf, score=0.043478260869565216, total=   0.2s\n",
      "[CV] C=1, decision_function_shape=ovr, kernel=rbf ....................\n",
      "[CV]  C=1, decision_function_shape=ovr, kernel=rbf, score=0.043478260869565216, total=   0.2s\n",
      "[CV] C=10, decision_function_shape=ovo, kernel=rbf ...................\n",
      "[CV]  C=10, decision_function_shape=ovo, kernel=rbf, score=0.16908212560386474, total=   0.2s\n",
      "[CV] C=10, decision_function_shape=ovr, kernel=rbf ...................\n",
      "[CV]  C=10, decision_function_shape=ovr, kernel=rbf, score=0.16908212560386474, total=   0.2s\n",
      "[CV] C=100, decision_function_shape=ovo, kernel=rbf ..................\n",
      "[CV]  C=100, decision_function_shape=ovo, kernel=rbf, score=0.32367149758454106, total=   0.1s\n",
      "[CV] C=100, decision_function_shape=ovr, kernel=rbf ..................\n",
      "[CV]  C=100, decision_function_shape=ovr, kernel=rbf, score=0.32367149758454106, total=   0.1s\n",
      "[CV] C=1000, decision_function_shape=ovo, kernel=rbf .................\n",
      "[CV]  C=1000, decision_function_shape=ovo, kernel=rbf, score=0.3719806763285024, total=   0.1s\n",
      "[CV] C=1000, decision_function_shape=ovr, kernel=rbf .................\n",
      "[CV]  C=1000, decision_function_shape=ovr, kernel=rbf, score=0.3719806763285024, total=   0.1s\n"
     ]
    },
    {
     "name": "stderr",
     "output_type": "stream",
     "text": [
      "[Parallel(n_jobs=1)]: Done  16 out of  16 | elapsed:    6.0s finished\n"
     ]
    }
   ],
   "source": [
    "for nr in frame_numbers:\n",
    "    print(nr)\n",
    "    try:\n",
    "        acc_train_input, acc_train_label = prepare_data(train, nr, 'accelerometer', verbose=False)\n",
    "        acc_valid_input, acc_valid_label = prepare_data(valid, nr, 'accelerometer', verbose=False)\n",
    "\n",
    "        svc = GridSearchCV(svm.SVC(random_state=random_seed), parameters, cv=cross_valid, scoring='accuracy',\n",
    "                           verbose=verbose_level, n_jobs=parallel_jobs).fit(\n",
    "                                                                        np.append(acc_train_input, acc_valid_input, axis=0),\n",
    "                                                                        np.append(acc_train_label, acc_valid_label))\n",
    "\n",
    "        all_acc.append((svc.best_score_, nr, svc.best_params_))\n",
    "\n",
    "    except ValueError as err:\n",
    "        all_acc.append((-1, nr, svc.best_params_))"
   ]
  },
  {
   "cell_type": "markdown",
   "metadata": {},
   "source": [
    "### Gyroskop"
   ]
  },
  {
   "cell_type": "code",
   "execution_count": 19,
   "metadata": {},
   "outputs": [
    {
     "name": "stdout",
     "output_type": "stream",
     "text": [
      "1\n",
      "Fitting 1 folds for each of 16 candidates, totalling 16 fits\n",
      "[CV] C=1, decision_function_shape=ovo, kernel=linear .................\n",
      "[CV]  C=1, decision_function_shape=ovo, kernel=linear, score=0.15865384615384615, total=   0.0s\n",
      "[CV] C=1, decision_function_shape=ovr, kernel=linear .................\n",
      "[CV]  C=1, decision_function_shape=ovr, kernel=linear, score=0.15865384615384615, total=   0.0s\n",
      "[CV] C=10, decision_function_shape=ovo, kernel=linear ................\n",
      "[CV]  C=10, decision_function_shape=ovo, kernel=linear, score=0.21634615384615385, total=   0.0s\n",
      "[CV] C=10, decision_function_shape=ovr, kernel=linear ................\n",
      "[CV]  C=10, decision_function_shape=ovr, kernel=linear, score=0.21634615384615385, total=   0.0s\n",
      "[CV] C=100, decision_function_shape=ovo, kernel=linear ...............\n"
     ]
    },
    {
     "name": "stderr",
     "output_type": "stream",
     "text": [
      "[Parallel(n_jobs=1)]: Done   1 out of   1 | elapsed:    0.0s remaining:    0.0s\n",
      "[Parallel(n_jobs=1)]: Done   2 out of   2 | elapsed:    0.0s remaining:    0.0s\n"
     ]
    },
    {
     "name": "stdout",
     "output_type": "stream",
     "text": [
      "[CV]  C=100, decision_function_shape=ovo, kernel=linear, score=0.19230769230769232, total=   0.0s\n",
      "[CV] C=100, decision_function_shape=ovr, kernel=linear ...............\n",
      "[CV]  C=100, decision_function_shape=ovr, kernel=linear, score=0.19230769230769232, total=   0.0s\n",
      "[CV] C=1000, decision_function_shape=ovo, kernel=linear ..............\n",
      "[CV]  C=1000, decision_function_shape=ovo, kernel=linear, score=0.1875, total=   0.1s\n",
      "[CV] C=1000, decision_function_shape=ovr, kernel=linear ..............\n",
      "[CV]  C=1000, decision_function_shape=ovr, kernel=linear, score=0.1875, total=   0.1s\n",
      "[CV] C=1, decision_function_shape=ovo, kernel=rbf ....................\n",
      "[CV]  C=1, decision_function_shape=ovo, kernel=rbf, score=0.14903846153846154, total=   0.0s\n",
      "[CV] C=1, decision_function_shape=ovr, kernel=rbf ....................\n",
      "[CV]  C=1, decision_function_shape=ovr, kernel=rbf, score=0.14903846153846154, total=   0.0s\n",
      "[CV] C=10, decision_function_shape=ovo, kernel=rbf ...................\n",
      "[CV]  C=10, decision_function_shape=ovo, kernel=rbf, score=0.16826923076923078, total=   0.0s\n",
      "[CV] C=10, decision_function_shape=ovr, kernel=rbf ...................\n",
      "[CV]  C=10, decision_function_shape=ovr, kernel=rbf, score=0.16826923076923078, total=   0.0s\n",
      "[CV] C=100, decision_function_shape=ovo, kernel=rbf ..................\n",
      "[CV]  C=100, decision_function_shape=ovo, kernel=rbf, score=0.21634615384615385, total=   0.0s\n",
      "[CV] C=100, decision_function_shape=ovr, kernel=rbf ..................\n",
      "[CV]  C=100, decision_function_shape=ovr, kernel=rbf, score=0.21634615384615385, total=   0.0s\n",
      "[CV] C=1000, decision_function_shape=ovo, kernel=rbf .................\n",
      "[CV]  C=1000, decision_function_shape=ovo, kernel=rbf, score=0.21634615384615385, total=   0.0s\n",
      "[CV] C=1000, decision_function_shape=ovr, kernel=rbf .................\n",
      "[CV]  C=1000, decision_function_shape=ovr, kernel=rbf, score=0.21634615384615385, total=   0.0s\n",
      "2\n"
     ]
    },
    {
     "name": "stderr",
     "output_type": "stream",
     "text": [
      "[Parallel(n_jobs=1)]: Done  16 out of  16 | elapsed:    1.2s finished\n"
     ]
    },
    {
     "name": "stdout",
     "output_type": "stream",
     "text": [
      "Fitting 1 folds for each of 16 candidates, totalling 16 fits\n",
      "[CV] C=1, decision_function_shape=ovo, kernel=linear .................\n",
      "[CV]  C=1, decision_function_shape=ovo, kernel=linear, score=0.26570048309178745, total=   0.0s\n",
      "[CV] C=1, decision_function_shape=ovr, kernel=linear .................\n",
      "[CV]  C=1, decision_function_shape=ovr, kernel=linear, score=0.26570048309178745, total=   0.0s\n",
      "[CV] C=10, decision_function_shape=ovo, kernel=linear ................\n",
      "[CV]  C=10, decision_function_shape=ovo, kernel=linear, score=0.30434782608695654, total=   0.0s\n",
      "[CV] C=10, decision_function_shape=ovr, kernel=linear ................\n"
     ]
    },
    {
     "name": "stderr",
     "output_type": "stream",
     "text": [
      "[Parallel(n_jobs=1)]: Done   1 out of   1 | elapsed:    0.0s remaining:    0.0s\n",
      "[Parallel(n_jobs=1)]: Done   2 out of   2 | elapsed:    0.0s remaining:    0.0s\n"
     ]
    },
    {
     "name": "stdout",
     "output_type": "stream",
     "text": [
      "[CV]  C=10, decision_function_shape=ovr, kernel=linear, score=0.30434782608695654, total=   0.0s\n",
      "[CV] C=100, decision_function_shape=ovo, kernel=linear ...............\n",
      "[CV]  C=100, decision_function_shape=ovo, kernel=linear, score=0.3285024154589372, total=   0.0s\n",
      "[CV] C=100, decision_function_shape=ovr, kernel=linear ...............\n",
      "[CV]  C=100, decision_function_shape=ovr, kernel=linear, score=0.3285024154589372, total=   0.0s\n",
      "[CV] C=1000, decision_function_shape=ovo, kernel=linear ..............\n",
      "[CV]  C=1000, decision_function_shape=ovo, kernel=linear, score=0.3333333333333333, total=   0.1s\n",
      "[CV] C=1000, decision_function_shape=ovr, kernel=linear ..............\n",
      "[CV]  C=1000, decision_function_shape=ovr, kernel=linear, score=0.3333333333333333, total=   0.1s\n",
      "[CV] C=1, decision_function_shape=ovo, kernel=rbf ....................\n",
      "[CV]  C=1, decision_function_shape=ovo, kernel=rbf, score=0.13526570048309178, total=   0.0s\n",
      "[CV] C=1, decision_function_shape=ovr, kernel=rbf ....................\n",
      "[CV]  C=1, decision_function_shape=ovr, kernel=rbf, score=0.13526570048309178, total=   0.0s\n",
      "[CV] C=10, decision_function_shape=ovo, kernel=rbf ...................\n",
      "[CV]  C=10, decision_function_shape=ovo, kernel=rbf, score=0.25120772946859904, total=   0.0s\n",
      "[CV] C=10, decision_function_shape=ovr, kernel=rbf ...................\n",
      "[CV]  C=10, decision_function_shape=ovr, kernel=rbf, score=0.25120772946859904, total=   0.0s\n",
      "[CV] C=100, decision_function_shape=ovo, kernel=rbf ..................\n",
      "[CV]  C=100, decision_function_shape=ovo, kernel=rbf, score=0.3188405797101449, total=   0.0s\n",
      "[CV] C=100, decision_function_shape=ovr, kernel=rbf ..................\n",
      "[CV]  C=100, decision_function_shape=ovr, kernel=rbf, score=0.3188405797101449, total=   0.0s\n",
      "[CV] C=1000, decision_function_shape=ovo, kernel=rbf .................\n",
      "[CV]  C=1000, decision_function_shape=ovo, kernel=rbf, score=0.3140096618357488, total=   0.0s\n",
      "[CV] C=1000, decision_function_shape=ovr, kernel=rbf .................\n",
      "[CV]  C=1000, decision_function_shape=ovr, kernel=rbf, score=0.3140096618357488, total=   0.0s\n"
     ]
    },
    {
     "name": "stderr",
     "output_type": "stream",
     "text": [
      "[Parallel(n_jobs=1)]: Done  16 out of  16 | elapsed:    1.6s finished\n"
     ]
    },
    {
     "name": "stdout",
     "output_type": "stream",
     "text": [
      "3\n",
      "Fitting 1 folds for each of 16 candidates, totalling 16 fits\n",
      "[CV] C=1, decision_function_shape=ovo, kernel=linear .................\n",
      "[CV]  C=1, decision_function_shape=ovo, kernel=linear, score=0.2753623188405797, total=   0.0s\n",
      "[CV] C=1, decision_function_shape=ovr, kernel=linear .................\n",
      "[CV]  C=1, decision_function_shape=ovr, kernel=linear, score=0.2753623188405797, total=   0.0s\n",
      "[CV] C=10, decision_function_shape=ovo, kernel=linear ................\n"
     ]
    },
    {
     "name": "stderr",
     "output_type": "stream",
     "text": [
      "[Parallel(n_jobs=1)]: Done   1 out of   1 | elapsed:    0.0s remaining:    0.0s\n",
      "[Parallel(n_jobs=1)]: Done   2 out of   2 | elapsed:    0.1s remaining:    0.0s\n"
     ]
    },
    {
     "name": "stdout",
     "output_type": "stream",
     "text": [
      "[CV]  C=10, decision_function_shape=ovo, kernel=linear, score=0.36231884057971014, total=   0.0s\n",
      "[CV] C=10, decision_function_shape=ovr, kernel=linear ................\n",
      "[CV]  C=10, decision_function_shape=ovr, kernel=linear, score=0.36231884057971014, total=   0.0s\n",
      "[CV] C=100, decision_function_shape=ovo, kernel=linear ...............\n",
      "[CV]  C=100, decision_function_shape=ovo, kernel=linear, score=0.34299516908212563, total=   0.0s\n",
      "[CV] C=100, decision_function_shape=ovr, kernel=linear ...............\n",
      "[CV]  C=100, decision_function_shape=ovr, kernel=linear, score=0.34299516908212563, total=   0.0s\n",
      "[CV] C=1000, decision_function_shape=ovo, kernel=linear ..............\n",
      "[CV]  C=1000, decision_function_shape=ovo, kernel=linear, score=0.33816425120772947, total=   0.1s\n",
      "[CV] C=1000, decision_function_shape=ovr, kernel=linear ..............\n",
      "[CV]  C=1000, decision_function_shape=ovr, kernel=linear, score=0.33816425120772947, total=   0.1s\n",
      "[CV] C=1, decision_function_shape=ovo, kernel=rbf ....................\n",
      "[CV]  C=1, decision_function_shape=ovo, kernel=rbf, score=0.0966183574879227, total=   0.0s\n",
      "[CV] C=1, decision_function_shape=ovr, kernel=rbf ....................\n",
      "[CV]  C=1, decision_function_shape=ovr, kernel=rbf, score=0.0966183574879227, total=   0.0s\n",
      "[CV] C=10, decision_function_shape=ovo, kernel=rbf ...................\n",
      "[CV]  C=10, decision_function_shape=ovo, kernel=rbf, score=0.2318840579710145, total=   0.0s\n",
      "[CV] C=10, decision_function_shape=ovr, kernel=rbf ...................\n",
      "[CV]  C=10, decision_function_shape=ovr, kernel=rbf, score=0.2318840579710145, total=   0.0s\n",
      "[CV] C=100, decision_function_shape=ovo, kernel=rbf ..................\n",
      "[CV]  C=100, decision_function_shape=ovo, kernel=rbf, score=0.33816425120772947, total=   0.0s\n",
      "[CV] C=100, decision_function_shape=ovr, kernel=rbf ..................\n",
      "[CV]  C=100, decision_function_shape=ovr, kernel=rbf, score=0.33816425120772947, total=   0.0s\n",
      "[CV] C=1000, decision_function_shape=ovo, kernel=rbf .................\n",
      "[CV]  C=1000, decision_function_shape=ovo, kernel=rbf, score=0.3671497584541063, total=   0.0s\n",
      "[CV] C=1000, decision_function_shape=ovr, kernel=rbf .................\n",
      "[CV]  C=1000, decision_function_shape=ovr, kernel=rbf, score=0.3671497584541063, total=   0.0s\n",
      "4\n"
     ]
    },
    {
     "name": "stderr",
     "output_type": "stream",
     "text": [
      "[Parallel(n_jobs=1)]: Done  16 out of  16 | elapsed:    1.9s finished\n"
     ]
    },
    {
     "name": "stdout",
     "output_type": "stream",
     "text": [
      "Fitting 1 folds for each of 16 candidates, totalling 16 fits\n",
      "[CV] C=1, decision_function_shape=ovo, kernel=linear .................\n",
      "[CV]  C=1, decision_function_shape=ovo, kernel=linear, score=0.2946859903381642, total=   0.0s\n",
      "[CV] C=1, decision_function_shape=ovr, kernel=linear .................\n",
      "[CV]  C=1, decision_function_shape=ovr, kernel=linear, score=0.2946859903381642, total=   0.0s\n",
      "[CV] C=10, decision_function_shape=ovo, kernel=linear ................\n"
     ]
    },
    {
     "name": "stderr",
     "output_type": "stream",
     "text": [
      "[Parallel(n_jobs=1)]: Done   1 out of   1 | elapsed:    0.0s remaining:    0.0s\n",
      "[Parallel(n_jobs=1)]: Done   2 out of   2 | elapsed:    0.1s remaining:    0.0s\n"
     ]
    },
    {
     "name": "stdout",
     "output_type": "stream",
     "text": [
      "[CV]  C=10, decision_function_shape=ovo, kernel=linear, score=0.3719806763285024, total=   0.0s\n",
      "[CV] C=10, decision_function_shape=ovr, kernel=linear ................\n",
      "[CV]  C=10, decision_function_shape=ovr, kernel=linear, score=0.3719806763285024, total=   0.0s\n",
      "[CV] C=100, decision_function_shape=ovo, kernel=linear ...............\n",
      "[CV]  C=100, decision_function_shape=ovo, kernel=linear, score=0.4251207729468599, total=   0.0s\n",
      "[CV] C=100, decision_function_shape=ovr, kernel=linear ...............\n",
      "[CV]  C=100, decision_function_shape=ovr, kernel=linear, score=0.4251207729468599, total=   0.0s\n",
      "[CV] C=1000, decision_function_shape=ovo, kernel=linear ..............\n",
      "[CV]  C=1000, decision_function_shape=ovo, kernel=linear, score=0.42028985507246375, total=   0.2s\n",
      "[CV] C=1000, decision_function_shape=ovr, kernel=linear ..............\n",
      "[CV]  C=1000, decision_function_shape=ovr, kernel=linear, score=0.42028985507246375, total=   0.2s\n",
      "[CV] C=1, decision_function_shape=ovo, kernel=rbf ....................\n",
      "[CV]  C=1, decision_function_shape=ovo, kernel=rbf, score=0.16908212560386474, total=   0.0s\n",
      "[CV] C=1, decision_function_shape=ovr, kernel=rbf ....................\n",
      "[CV]  C=1, decision_function_shape=ovr, kernel=rbf, score=0.16908212560386474, total=   0.0s\n",
      "[CV] C=10, decision_function_shape=ovo, kernel=rbf ...................\n",
      "[CV]  C=10, decision_function_shape=ovo, kernel=rbf, score=0.2560386473429952, total=   0.0s\n",
      "[CV] C=10, decision_function_shape=ovr, kernel=rbf ...................\n",
      "[CV]  C=10, decision_function_shape=ovr, kernel=rbf, score=0.2560386473429952, total=   0.0s\n",
      "[CV] C=100, decision_function_shape=ovo, kernel=rbf ..................\n",
      "[CV]  C=100, decision_function_shape=ovo, kernel=rbf, score=0.34299516908212563, total=   0.0s\n",
      "[CV] C=100, decision_function_shape=ovr, kernel=rbf ..................\n",
      "[CV]  C=100, decision_function_shape=ovr, kernel=rbf, score=0.34299516908212563, total=   0.0s\n",
      "[CV] C=1000, decision_function_shape=ovo, kernel=rbf .................\n",
      "[CV]  C=1000, decision_function_shape=ovo, kernel=rbf, score=0.41545893719806765, total=   0.0s\n",
      "[CV] C=1000, decision_function_shape=ovr, kernel=rbf .................\n",
      "[CV]  C=1000, decision_function_shape=ovr, kernel=rbf, score=0.41545893719806765, total=   0.0s\n",
      "5\n"
     ]
    },
    {
     "name": "stderr",
     "output_type": "stream",
     "text": [
      "[Parallel(n_jobs=1)]: Done  16 out of  16 | elapsed:    2.2s finished\n"
     ]
    },
    {
     "name": "stdout",
     "output_type": "stream",
     "text": [
      "Fitting 1 folds for each of 16 candidates, totalling 16 fits\n",
      "[CV] C=1, decision_function_shape=ovo, kernel=linear .................\n",
      "[CV]  C=1, decision_function_shape=ovo, kernel=linear, score=0.3285024154589372, total=   0.0s\n",
      "[CV] C=1, decision_function_shape=ovr, kernel=linear .................\n"
     ]
    },
    {
     "name": "stderr",
     "output_type": "stream",
     "text": [
      "[Parallel(n_jobs=1)]: Done   1 out of   1 | elapsed:    0.0s remaining:    0.0s\n",
      "[Parallel(n_jobs=1)]: Done   2 out of   2 | elapsed:    0.1s remaining:    0.0s\n"
     ]
    },
    {
     "name": "stdout",
     "output_type": "stream",
     "text": [
      "[CV]  C=1, decision_function_shape=ovr, kernel=linear, score=0.3285024154589372, total=   0.0s\n",
      "[CV] C=10, decision_function_shape=ovo, kernel=linear ................\n",
      "[CV]  C=10, decision_function_shape=ovo, kernel=linear, score=0.4106280193236715, total=   0.0s\n",
      "[CV] C=10, decision_function_shape=ovr, kernel=linear ................\n",
      "[CV]  C=10, decision_function_shape=ovr, kernel=linear, score=0.4106280193236715, total=   0.0s\n",
      "[CV] C=100, decision_function_shape=ovo, kernel=linear ...............\n",
      "[CV]  C=100, decision_function_shape=ovo, kernel=linear, score=0.42995169082125606, total=   0.0s\n",
      "[CV] C=100, decision_function_shape=ovr, kernel=linear ...............\n",
      "[CV]  C=100, decision_function_shape=ovr, kernel=linear, score=0.42995169082125606, total=   0.0s\n",
      "[CV] C=1000, decision_function_shape=ovo, kernel=linear ..............\n",
      "[CV]  C=1000, decision_function_shape=ovo, kernel=linear, score=0.4396135265700483, total=   0.4s\n",
      "[CV] C=1000, decision_function_shape=ovr, kernel=linear ..............\n",
      "[CV]  C=1000, decision_function_shape=ovr, kernel=linear, score=0.4396135265700483, total=   0.4s\n",
      "[CV] C=1, decision_function_shape=ovo, kernel=rbf ....................\n",
      "[CV]  C=1, decision_function_shape=ovo, kernel=rbf, score=0.16908212560386474, total=   0.1s\n",
      "[CV] C=1, decision_function_shape=ovr, kernel=rbf ....................\n",
      "[CV]  C=1, decision_function_shape=ovr, kernel=rbf, score=0.16908212560386474, total=   0.1s\n",
      "[CV] C=10, decision_function_shape=ovo, kernel=rbf ...................\n",
      "[CV]  C=10, decision_function_shape=ovo, kernel=rbf, score=0.28502415458937197, total=   0.0s\n",
      "[CV] C=10, decision_function_shape=ovr, kernel=rbf ...................\n",
      "[CV]  C=10, decision_function_shape=ovr, kernel=rbf, score=0.28502415458937197, total=   0.0s\n",
      "[CV] C=100, decision_function_shape=ovo, kernel=rbf ..................\n",
      "[CV]  C=100, decision_function_shape=ovo, kernel=rbf, score=0.38164251207729466, total=   0.0s\n",
      "[CV] C=100, decision_function_shape=ovr, kernel=rbf ..................\n",
      "[CV]  C=100, decision_function_shape=ovr, kernel=rbf, score=0.38164251207729466, total=   0.0s\n",
      "[CV] C=1000, decision_function_shape=ovo, kernel=rbf .................\n",
      "[CV]  C=1000, decision_function_shape=ovo, kernel=rbf, score=0.4106280193236715, total=   0.0s\n",
      "[CV] C=1000, decision_function_shape=ovr, kernel=rbf .................\n",
      "[CV]  C=1000, decision_function_shape=ovr, kernel=rbf, score=0.4106280193236715, total=   0.0s\n"
     ]
    },
    {
     "name": "stderr",
     "output_type": "stream",
     "text": [
      "[Parallel(n_jobs=1)]: Done  16 out of  16 | elapsed:    3.0s finished\n"
     ]
    },
    {
     "name": "stdout",
     "output_type": "stream",
     "text": [
      "6\n",
      "Fitting 1 folds for each of 16 candidates, totalling 16 fits\n",
      "[CV] C=1, decision_function_shape=ovo, kernel=linear .................\n",
      "[CV]  C=1, decision_function_shape=ovo, kernel=linear, score=0.3671497584541063, total=   0.0s\n",
      "[CV] C=1, decision_function_shape=ovr, kernel=linear .................\n"
     ]
    },
    {
     "name": "stderr",
     "output_type": "stream",
     "text": [
      "[Parallel(n_jobs=1)]: Done   1 out of   1 | elapsed:    0.0s remaining:    0.0s\n",
      "[Parallel(n_jobs=1)]: Done   2 out of   2 | elapsed:    0.2s remaining:    0.0s\n"
     ]
    },
    {
     "name": "stdout",
     "output_type": "stream",
     "text": [
      "[CV]  C=1, decision_function_shape=ovr, kernel=linear, score=0.3671497584541063, total=   0.0s\n",
      "[CV] C=10, decision_function_shape=ovo, kernel=linear ................\n",
      "[CV]  C=10, decision_function_shape=ovo, kernel=linear, score=0.4251207729468599, total=   0.0s\n",
      "[CV] C=10, decision_function_shape=ovr, kernel=linear ................\n",
      "[CV]  C=10, decision_function_shape=ovr, kernel=linear, score=0.4251207729468599, total=   0.0s\n",
      "[CV] C=100, decision_function_shape=ovo, kernel=linear ...............\n",
      "[CV]  C=100, decision_function_shape=ovo, kernel=linear, score=0.4492753623188406, total=   0.0s\n",
      "[CV] C=100, decision_function_shape=ovr, kernel=linear ...............\n",
      "[CV]  C=100, decision_function_shape=ovr, kernel=linear, score=0.4492753623188406, total=   0.0s\n",
      "[CV] C=1000, decision_function_shape=ovo, kernel=linear ..............\n",
      "[CV]  C=1000, decision_function_shape=ovo, kernel=linear, score=0.4492753623188406, total=   0.5s\n",
      "[CV] C=1000, decision_function_shape=ovr, kernel=linear ..............\n",
      "[CV]  C=1000, decision_function_shape=ovr, kernel=linear, score=0.4492753623188406, total=   0.5s\n",
      "[CV] C=1, decision_function_shape=ovo, kernel=rbf ....................\n",
      "[CV]  C=1, decision_function_shape=ovo, kernel=rbf, score=0.15942028985507245, total=   0.1s\n",
      "[CV] C=1, decision_function_shape=ovr, kernel=rbf ....................\n",
      "[CV]  C=1, decision_function_shape=ovr, kernel=rbf, score=0.15942028985507245, total=   0.1s\n",
      "[CV] C=10, decision_function_shape=ovo, kernel=rbf ...................\n",
      "[CV]  C=10, decision_function_shape=ovo, kernel=rbf, score=0.2898550724637681, total=   0.0s\n",
      "[CV] C=10, decision_function_shape=ovr, kernel=rbf ...................\n",
      "[CV]  C=10, decision_function_shape=ovr, kernel=rbf, score=0.2898550724637681, total=   0.0s\n",
      "[CV] C=100, decision_function_shape=ovo, kernel=rbf ..................\n",
      "[CV]  C=100, decision_function_shape=ovo, kernel=rbf, score=0.4057971014492754, total=   0.0s\n",
      "[CV] C=100, decision_function_shape=ovr, kernel=rbf ..................\n",
      "[CV]  C=100, decision_function_shape=ovr, kernel=rbf, score=0.4057971014492754, total=   0.0s\n",
      "[CV] C=1000, decision_function_shape=ovo, kernel=rbf .................\n",
      "[CV]  C=1000, decision_function_shape=ovo, kernel=rbf, score=0.463768115942029, total=   0.0s\n",
      "[CV] C=1000, decision_function_shape=ovr, kernel=rbf .................\n",
      "[CV]  C=1000, decision_function_shape=ovr, kernel=rbf, score=0.463768115942029, total=   0.0s\n",
      "7\n"
     ]
    },
    {
     "name": "stderr",
     "output_type": "stream",
     "text": [
      "[Parallel(n_jobs=1)]: Done  16 out of  16 | elapsed:    3.6s finished\n"
     ]
    },
    {
     "name": "stdout",
     "output_type": "stream",
     "text": [
      "Fitting 1 folds for each of 16 candidates, totalling 16 fits\n",
      "[CV] C=1, decision_function_shape=ovo, kernel=linear .................\n",
      "[CV]  C=1, decision_function_shape=ovo, kernel=linear, score=0.38164251207729466, total=   0.0s\n",
      "[CV] C=1, decision_function_shape=ovr, kernel=linear .................\n"
     ]
    },
    {
     "name": "stderr",
     "output_type": "stream",
     "text": [
      "[Parallel(n_jobs=1)]: Done   1 out of   1 | elapsed:    0.1s remaining:    0.0s\n",
      "[Parallel(n_jobs=1)]: Done   2 out of   2 | elapsed:    0.2s remaining:    0.0s\n"
     ]
    },
    {
     "name": "stdout",
     "output_type": "stream",
     "text": [
      "[CV]  C=1, decision_function_shape=ovr, kernel=linear, score=0.38164251207729466, total=   0.0s\n",
      "[CV] C=10, decision_function_shape=ovo, kernel=linear ................\n",
      "[CV]  C=10, decision_function_shape=ovo, kernel=linear, score=0.3961352657004831, total=   0.0s\n",
      "[CV] C=10, decision_function_shape=ovr, kernel=linear ................\n",
      "[CV]  C=10, decision_function_shape=ovr, kernel=linear, score=0.3961352657004831, total=   0.0s\n",
      "[CV] C=100, decision_function_shape=ovo, kernel=linear ...............\n",
      "[CV]  C=100, decision_function_shape=ovo, kernel=linear, score=0.4106280193236715, total=   0.0s\n",
      "[CV] C=100, decision_function_shape=ovr, kernel=linear ...............\n",
      "[CV]  C=100, decision_function_shape=ovr, kernel=linear, score=0.4106280193236715, total=   0.0s\n",
      "[CV] C=1000, decision_function_shape=ovo, kernel=linear ..............\n",
      "[CV]  C=1000, decision_function_shape=ovo, kernel=linear, score=0.40096618357487923, total=   0.5s\n",
      "[CV] C=1000, decision_function_shape=ovr, kernel=linear ..............\n",
      "[CV]  C=1000, decision_function_shape=ovr, kernel=linear, score=0.40096618357487923, total=   0.4s\n",
      "[CV] C=1, decision_function_shape=ovo, kernel=rbf ....................\n",
      "[CV]  C=1, decision_function_shape=ovo, kernel=rbf, score=0.14009661835748793, total=   0.1s\n",
      "[CV] C=1, decision_function_shape=ovr, kernel=rbf ....................\n",
      "[CV]  C=1, decision_function_shape=ovr, kernel=rbf, score=0.14009661835748793, total=   0.1s\n",
      "[CV] C=10, decision_function_shape=ovo, kernel=rbf ...................\n",
      "[CV]  C=10, decision_function_shape=ovo, kernel=rbf, score=0.34782608695652173, total=   0.0s\n",
      "[CV] C=10, decision_function_shape=ovr, kernel=rbf ...................\n",
      "[CV]  C=10, decision_function_shape=ovr, kernel=rbf, score=0.34782608695652173, total=   0.0s\n",
      "[CV] C=100, decision_function_shape=ovo, kernel=rbf ..................\n",
      "[CV]  C=100, decision_function_shape=ovo, kernel=rbf, score=0.40096618357487923, total=   0.0s\n",
      "[CV] C=100, decision_function_shape=ovr, kernel=rbf ..................\n",
      "[CV]  C=100, decision_function_shape=ovr, kernel=rbf, score=0.40096618357487923, total=   0.0s\n",
      "[CV] C=1000, decision_function_shape=ovo, kernel=rbf .................\n",
      "[CV]  C=1000, decision_function_shape=ovo, kernel=rbf, score=0.4251207729468599, total=   0.0s\n",
      "[CV] C=1000, decision_function_shape=ovr, kernel=rbf .................\n",
      "[CV]  C=1000, decision_function_shape=ovr, kernel=rbf, score=0.4251207729468599, total=   0.0s\n",
      "8\n"
     ]
    },
    {
     "name": "stderr",
     "output_type": "stream",
     "text": [
      "[Parallel(n_jobs=1)]: Done  16 out of  16 | elapsed:    3.8s finished\n"
     ]
    },
    {
     "name": "stdout",
     "output_type": "stream",
     "text": [
      "Fitting 1 folds for each of 16 candidates, totalling 16 fits\n",
      "[CV] C=1, decision_function_shape=ovo, kernel=linear .................\n",
      "[CV]  C=1, decision_function_shape=ovo, kernel=linear, score=0.36231884057971014, total=   0.0s\n",
      "[CV] C=1, decision_function_shape=ovr, kernel=linear .................\n"
     ]
    },
    {
     "name": "stderr",
     "output_type": "stream",
     "text": [
      "[Parallel(n_jobs=1)]: Done   1 out of   1 | elapsed:    0.1s remaining:    0.0s\n",
      "[Parallel(n_jobs=1)]: Done   2 out of   2 | elapsed:    0.2s remaining:    0.0s\n"
     ]
    },
    {
     "name": "stdout",
     "output_type": "stream",
     "text": [
      "[CV]  C=1, decision_function_shape=ovr, kernel=linear, score=0.36231884057971014, total=   0.0s\n",
      "[CV] C=10, decision_function_shape=ovo, kernel=linear ................\n",
      "[CV]  C=10, decision_function_shape=ovo, kernel=linear, score=0.42995169082125606, total=   0.0s\n",
      "[CV] C=10, decision_function_shape=ovr, kernel=linear ................\n",
      "[CV]  C=10, decision_function_shape=ovr, kernel=linear, score=0.42995169082125606, total=   0.0s\n",
      "[CV] C=100, decision_function_shape=ovo, kernel=linear ...............\n",
      "[CV]  C=100, decision_function_shape=ovo, kernel=linear, score=0.42995169082125606, total=   0.1s\n",
      "[CV] C=100, decision_function_shape=ovr, kernel=linear ...............\n",
      "[CV]  C=100, decision_function_shape=ovr, kernel=linear, score=0.42995169082125606, total=   0.1s\n",
      "[CV] C=1000, decision_function_shape=ovo, kernel=linear ..............\n",
      "[CV]  C=1000, decision_function_shape=ovo, kernel=linear, score=0.4106280193236715, total=   0.6s\n",
      "[CV] C=1000, decision_function_shape=ovr, kernel=linear ..............\n",
      "[CV]  C=1000, decision_function_shape=ovr, kernel=linear, score=0.4106280193236715, total=   0.6s\n",
      "[CV] C=1, decision_function_shape=ovo, kernel=rbf ....................\n",
      "[CV]  C=1, decision_function_shape=ovo, kernel=rbf, score=0.1111111111111111, total=   0.1s\n",
      "[CV] C=1, decision_function_shape=ovr, kernel=rbf ....................\n",
      "[CV]  C=1, decision_function_shape=ovr, kernel=rbf, score=0.1111111111111111, total=   0.1s\n",
      "[CV] C=10, decision_function_shape=ovo, kernel=rbf ...................\n",
      "[CV]  C=10, decision_function_shape=ovo, kernel=rbf, score=0.3285024154589372, total=   0.1s\n",
      "[CV] C=10, decision_function_shape=ovr, kernel=rbf ...................\n",
      "[CV]  C=10, decision_function_shape=ovr, kernel=rbf, score=0.3285024154589372, total=   0.1s\n",
      "[CV] C=100, decision_function_shape=ovo, kernel=rbf ..................\n",
      "[CV]  C=100, decision_function_shape=ovo, kernel=rbf, score=0.36231884057971014, total=   0.0s\n",
      "[CV] C=100, decision_function_shape=ovr, kernel=rbf ..................\n",
      "[CV]  C=100, decision_function_shape=ovr, kernel=rbf, score=0.36231884057971014, total=   0.0s\n",
      "[CV] C=1000, decision_function_shape=ovo, kernel=rbf .................\n",
      "[CV]  C=1000, decision_function_shape=ovo, kernel=rbf, score=0.4444444444444444, total=   0.0s\n",
      "[CV] C=1000, decision_function_shape=ovr, kernel=rbf .................\n",
      "[CV]  C=1000, decision_function_shape=ovr, kernel=rbf, score=0.4444444444444444, total=   0.0s\n",
      "9\n"
     ]
    },
    {
     "name": "stderr",
     "output_type": "stream",
     "text": [
      "[Parallel(n_jobs=1)]: Done  16 out of  16 | elapsed:    4.6s finished\n"
     ]
    },
    {
     "name": "stdout",
     "output_type": "stream",
     "text": [
      "Fitting 1 folds for each of 16 candidates, totalling 16 fits\n",
      "[CV] C=1, decision_function_shape=ovo, kernel=linear .................\n",
      "[CV]  C=1, decision_function_shape=ovo, kernel=linear, score=0.391304347826087, total=   0.0s\n",
      "[CV] C=1, decision_function_shape=ovr, kernel=linear .................\n"
     ]
    },
    {
     "name": "stderr",
     "output_type": "stream",
     "text": [
      "[Parallel(n_jobs=1)]: Done   1 out of   1 | elapsed:    0.1s remaining:    0.0s\n",
      "[Parallel(n_jobs=1)]: Done   2 out of   2 | elapsed:    0.3s remaining:    0.0s\n"
     ]
    },
    {
     "name": "stdout",
     "output_type": "stream",
     "text": [
      "[CV]  C=1, decision_function_shape=ovr, kernel=linear, score=0.391304347826087, total=   0.0s\n",
      "[CV] C=10, decision_function_shape=ovo, kernel=linear ................\n",
      "[CV]  C=10, decision_function_shape=ovo, kernel=linear, score=0.3961352657004831, total=   0.0s\n",
      "[CV] C=10, decision_function_shape=ovr, kernel=linear ................\n",
      "[CV]  C=10, decision_function_shape=ovr, kernel=linear, score=0.3961352657004831, total=   0.0s\n",
      "[CV] C=100, decision_function_shape=ovo, kernel=linear ...............\n",
      "[CV]  C=100, decision_function_shape=ovo, kernel=linear, score=0.4106280193236715, total=   0.1s\n",
      "[CV] C=100, decision_function_shape=ovr, kernel=linear ...............\n",
      "[CV]  C=100, decision_function_shape=ovr, kernel=linear, score=0.4106280193236715, total=   0.1s\n",
      "[CV] C=1000, decision_function_shape=ovo, kernel=linear ..............\n",
      "[CV]  C=1000, decision_function_shape=ovo, kernel=linear, score=0.3671497584541063, total=   0.6s\n",
      "[CV] C=1000, decision_function_shape=ovr, kernel=linear ..............\n",
      "[CV]  C=1000, decision_function_shape=ovr, kernel=linear, score=0.3671497584541063, total=   0.7s\n",
      "[CV] C=1, decision_function_shape=ovo, kernel=rbf ....................\n",
      "[CV]  C=1, decision_function_shape=ovo, kernel=rbf, score=0.12077294685990338, total=   0.1s\n",
      "[CV] C=1, decision_function_shape=ovr, kernel=rbf ....................\n",
      "[CV]  C=1, decision_function_shape=ovr, kernel=rbf, score=0.12077294685990338, total=   0.1s\n",
      "[CV] C=10, decision_function_shape=ovo, kernel=rbf ...................\n",
      "[CV]  C=10, decision_function_shape=ovo, kernel=rbf, score=0.3526570048309179, total=   0.1s\n",
      "[CV] C=10, decision_function_shape=ovr, kernel=rbf ...................\n",
      "[CV]  C=10, decision_function_shape=ovr, kernel=rbf, score=0.3526570048309179, total=   0.1s\n",
      "[CV] C=100, decision_function_shape=ovo, kernel=rbf ..................\n",
      "[CV]  C=100, decision_function_shape=ovo, kernel=rbf, score=0.38164251207729466, total=   0.0s\n",
      "[CV] C=100, decision_function_shape=ovr, kernel=rbf ..................\n",
      "[CV]  C=100, decision_function_shape=ovr, kernel=rbf, score=0.38164251207729466, total=   0.0s\n",
      "[CV] C=1000, decision_function_shape=ovo, kernel=rbf .................\n",
      "[CV]  C=1000, decision_function_shape=ovo, kernel=rbf, score=0.40096618357487923, total=   0.0s\n",
      "[CV] C=1000, decision_function_shape=ovr, kernel=rbf .................\n",
      "[CV]  C=1000, decision_function_shape=ovr, kernel=rbf, score=0.40096618357487923, total=   0.0s\n"
     ]
    },
    {
     "name": "stderr",
     "output_type": "stream",
     "text": [
      "[Parallel(n_jobs=1)]: Done  16 out of  16 | elapsed:    4.9s finished\n"
     ]
    },
    {
     "name": "stdout",
     "output_type": "stream",
     "text": [
      "10\n",
      "Fitting 1 folds for each of 16 candidates, totalling 16 fits\n",
      "[CV] C=1, decision_function_shape=ovo, kernel=linear .................\n",
      "[CV]  C=1, decision_function_shape=ovo, kernel=linear, score=0.391304347826087, total=   0.0s\n",
      "[CV] C=1, decision_function_shape=ovr, kernel=linear .................\n"
     ]
    },
    {
     "name": "stderr",
     "output_type": "stream",
     "text": [
      "[Parallel(n_jobs=1)]: Done   1 out of   1 | elapsed:    0.1s remaining:    0.0s\n"
     ]
    },
    {
     "name": "stdout",
     "output_type": "stream",
     "text": [
      "[CV]  C=1, decision_function_shape=ovr, kernel=linear, score=0.391304347826087, total=   0.0s\n",
      "[CV] C=10, decision_function_shape=ovo, kernel=linear ................\n"
     ]
    },
    {
     "name": "stderr",
     "output_type": "stream",
     "text": [
      "[Parallel(n_jobs=1)]: Done   2 out of   2 | elapsed:    0.3s remaining:    0.0s\n"
     ]
    },
    {
     "name": "stdout",
     "output_type": "stream",
     "text": [
      "[CV]  C=10, decision_function_shape=ovo, kernel=linear, score=0.3961352657004831, total=   0.0s\n",
      "[CV] C=10, decision_function_shape=ovr, kernel=linear ................\n",
      "[CV]  C=10, decision_function_shape=ovr, kernel=linear, score=0.3961352657004831, total=   0.0s\n",
      "[CV] C=100, decision_function_shape=ovo, kernel=linear ...............\n",
      "[CV]  C=100, decision_function_shape=ovo, kernel=linear, score=0.3719806763285024, total=   0.1s\n",
      "[CV] C=100, decision_function_shape=ovr, kernel=linear ...............\n",
      "[CV]  C=100, decision_function_shape=ovr, kernel=linear, score=0.3719806763285024, total=   0.1s\n",
      "[CV] C=1000, decision_function_shape=ovo, kernel=linear ..............\n",
      "[CV]  C=1000, decision_function_shape=ovo, kernel=linear, score=0.3719806763285024, total=   0.5s\n",
      "[CV] C=1000, decision_function_shape=ovr, kernel=linear ..............\n",
      "[CV]  C=1000, decision_function_shape=ovr, kernel=linear, score=0.3719806763285024, total=   0.6s\n",
      "[CV] C=1, decision_function_shape=ovo, kernel=rbf ....................\n",
      "[CV]  C=1, decision_function_shape=ovo, kernel=rbf, score=0.05314009661835749, total=   0.2s\n",
      "[CV] C=1, decision_function_shape=ovr, kernel=rbf ....................\n",
      "[CV]  C=1, decision_function_shape=ovr, kernel=rbf, score=0.05314009661835749, total=   0.2s\n",
      "[CV] C=10, decision_function_shape=ovo, kernel=rbf ...................\n",
      "[CV]  C=10, decision_function_shape=ovo, kernel=rbf, score=0.34299516908212563, total=   0.1s\n",
      "[CV] C=10, decision_function_shape=ovr, kernel=rbf ...................\n",
      "[CV]  C=10, decision_function_shape=ovr, kernel=rbf, score=0.34299516908212563, total=   0.1s\n",
      "[CV] C=100, decision_function_shape=ovo, kernel=rbf ..................\n",
      "[CV]  C=100, decision_function_shape=ovo, kernel=rbf, score=0.4251207729468599, total=   0.0s\n",
      "[CV] C=100, decision_function_shape=ovr, kernel=rbf ..................\n",
      "[CV]  C=100, decision_function_shape=ovr, kernel=rbf, score=0.4251207729468599, total=   0.0s\n",
      "[CV] C=1000, decision_function_shape=ovo, kernel=rbf .................\n",
      "[CV]  C=1000, decision_function_shape=ovo, kernel=rbf, score=0.40096618357487923, total=   0.0s\n",
      "[CV] C=1000, decision_function_shape=ovr, kernel=rbf .................\n",
      "[CV]  C=1000, decision_function_shape=ovr, kernel=rbf, score=0.40096618357487923, total=   0.0s\n",
      "11\n"
     ]
    },
    {
     "name": "stderr",
     "output_type": "stream",
     "text": [
      "[Parallel(n_jobs=1)]: Done  16 out of  16 | elapsed:    5.1s finished\n"
     ]
    },
    {
     "name": "stdout",
     "output_type": "stream",
     "text": [
      "Fitting 1 folds for each of 16 candidates, totalling 16 fits\n",
      "[CV] C=1, decision_function_shape=ovo, kernel=linear .................\n",
      "[CV]  C=1, decision_function_shape=ovo, kernel=linear, score=0.391304347826087, total=   0.0s\n",
      "[CV] C=1, decision_function_shape=ovr, kernel=linear .................\n"
     ]
    },
    {
     "name": "stderr",
     "output_type": "stream",
     "text": [
      "[Parallel(n_jobs=1)]: Done   1 out of   1 | elapsed:    0.1s remaining:    0.0s\n"
     ]
    },
    {
     "name": "stdout",
     "output_type": "stream",
     "text": [
      "[CV]  C=1, decision_function_shape=ovr, kernel=linear, score=0.391304347826087, total=   0.0s\n",
      "[CV] C=10, decision_function_shape=ovo, kernel=linear ................\n"
     ]
    },
    {
     "name": "stderr",
     "output_type": "stream",
     "text": [
      "[Parallel(n_jobs=1)]: Done   2 out of   2 | elapsed:    0.4s remaining:    0.0s\n"
     ]
    },
    {
     "name": "stdout",
     "output_type": "stream",
     "text": [
      "[CV]  C=10, decision_function_shape=ovo, kernel=linear, score=0.41545893719806765, total=   0.0s\n",
      "[CV] C=10, decision_function_shape=ovr, kernel=linear ................\n",
      "[CV]  C=10, decision_function_shape=ovr, kernel=linear, score=0.41545893719806765, total=   0.0s\n",
      "[CV] C=100, decision_function_shape=ovo, kernel=linear ...............\n",
      "[CV]  C=100, decision_function_shape=ovo, kernel=linear, score=0.4057971014492754, total=   0.1s\n",
      "[CV] C=100, decision_function_shape=ovr, kernel=linear ...............\n",
      "[CV]  C=100, decision_function_shape=ovr, kernel=linear, score=0.4057971014492754, total=   0.1s\n",
      "[CV] C=1000, decision_function_shape=ovo, kernel=linear ..............\n",
      "[CV]  C=1000, decision_function_shape=ovo, kernel=linear, score=0.40096618357487923, total=   0.3s\n",
      "[CV] C=1000, decision_function_shape=ovr, kernel=linear ..............\n",
      "[CV]  C=1000, decision_function_shape=ovr, kernel=linear, score=0.40096618357487923, total=   0.4s\n",
      "[CV] C=1, decision_function_shape=ovo, kernel=rbf ....................\n",
      "[CV]  C=1, decision_function_shape=ovo, kernel=rbf, score=0.033816425120772944, total=   0.2s\n",
      "[CV] C=1, decision_function_shape=ovr, kernel=rbf ....................\n",
      "[CV]  C=1, decision_function_shape=ovr, kernel=rbf, score=0.033816425120772944, total=   0.2s\n",
      "[CV] C=10, decision_function_shape=ovo, kernel=rbf ...................\n",
      "[CV]  C=10, decision_function_shape=ovo, kernel=rbf, score=0.3333333333333333, total=   0.1s\n",
      "[CV] C=10, decision_function_shape=ovr, kernel=rbf ...................\n",
      "[CV]  C=10, decision_function_shape=ovr, kernel=rbf, score=0.3333333333333333, total=   0.1s\n",
      "[CV] C=100, decision_function_shape=ovo, kernel=rbf ..................\n",
      "[CV]  C=100, decision_function_shape=ovo, kernel=rbf, score=0.3864734299516908, total=   0.0s\n",
      "[CV] C=100, decision_function_shape=ovr, kernel=rbf ..................\n",
      "[CV]  C=100, decision_function_shape=ovr, kernel=rbf, score=0.3864734299516908, total=   0.0s\n",
      "[CV] C=1000, decision_function_shape=ovo, kernel=rbf .................\n",
      "[CV]  C=1000, decision_function_shape=ovo, kernel=rbf, score=0.4057971014492754, total=   0.1s\n",
      "[CV] C=1000, decision_function_shape=ovr, kernel=rbf .................\n",
      "[CV]  C=1000, decision_function_shape=ovr, kernel=rbf, score=0.4057971014492754, total=   0.0s\n",
      "12\n"
     ]
    },
    {
     "name": "stderr",
     "output_type": "stream",
     "text": [
      "[Parallel(n_jobs=1)]: Done  16 out of  16 | elapsed:    5.1s finished\n"
     ]
    },
    {
     "name": "stdout",
     "output_type": "stream",
     "text": [
      "Fitting 1 folds for each of 16 candidates, totalling 16 fits\n",
      "[CV] C=1, decision_function_shape=ovo, kernel=linear .................\n",
      "[CV]  C=1, decision_function_shape=ovo, kernel=linear, score=0.3961352657004831, total=   0.0s\n",
      "[CV] C=1, decision_function_shape=ovr, kernel=linear .................\n"
     ]
    },
    {
     "name": "stderr",
     "output_type": "stream",
     "text": [
      "[Parallel(n_jobs=1)]: Done   1 out of   1 | elapsed:    0.2s remaining:    0.0s\n"
     ]
    },
    {
     "name": "stdout",
     "output_type": "stream",
     "text": [
      "[CV]  C=1, decision_function_shape=ovr, kernel=linear, score=0.3961352657004831, total=   0.0s\n",
      "[CV] C=10, decision_function_shape=ovo, kernel=linear ................\n"
     ]
    },
    {
     "name": "stderr",
     "output_type": "stream",
     "text": [
      "[Parallel(n_jobs=1)]: Done   2 out of   2 | elapsed:    0.4s remaining:    0.0s\n"
     ]
    },
    {
     "name": "stdout",
     "output_type": "stream",
     "text": [
      "[CV]  C=10, decision_function_shape=ovo, kernel=linear, score=0.4057971014492754, total=   0.0s\n",
      "[CV] C=10, decision_function_shape=ovr, kernel=linear ................\n",
      "[CV]  C=10, decision_function_shape=ovr, kernel=linear, score=0.4057971014492754, total=   0.0s\n",
      "[CV] C=100, decision_function_shape=ovo, kernel=linear ...............\n",
      "[CV]  C=100, decision_function_shape=ovo, kernel=linear, score=0.4396135265700483, total=   0.1s\n",
      "[CV] C=100, decision_function_shape=ovr, kernel=linear ...............\n",
      "[CV]  C=100, decision_function_shape=ovr, kernel=linear, score=0.4396135265700483, total=   0.1s\n",
      "[CV] C=1000, decision_function_shape=ovo, kernel=linear ..............\n",
      "[CV]  C=1000, decision_function_shape=ovo, kernel=linear, score=0.46859903381642515, total=   0.4s\n",
      "[CV] C=1000, decision_function_shape=ovr, kernel=linear ..............\n",
      "[CV]  C=1000, decision_function_shape=ovr, kernel=linear, score=0.46859903381642515, total=   0.4s\n",
      "[CV] C=1, decision_function_shape=ovo, kernel=rbf ....................\n",
      "[CV]  C=1, decision_function_shape=ovo, kernel=rbf, score=0.03864734299516908, total=   0.2s\n",
      "[CV] C=1, decision_function_shape=ovr, kernel=rbf ....................\n",
      "[CV]  C=1, decision_function_shape=ovr, kernel=rbf, score=0.03864734299516908, total=   0.2s\n",
      "[CV] C=10, decision_function_shape=ovo, kernel=rbf ...................\n",
      "[CV]  C=10, decision_function_shape=ovo, kernel=rbf, score=0.3333333333333333, total=   0.1s\n",
      "[CV] C=10, decision_function_shape=ovr, kernel=rbf ...................\n",
      "[CV]  C=10, decision_function_shape=ovr, kernel=rbf, score=0.3333333333333333, total=   0.1s\n",
      "[CV] C=100, decision_function_shape=ovo, kernel=rbf ..................\n",
      "[CV]  C=100, decision_function_shape=ovo, kernel=rbf, score=0.391304347826087, total=   0.1s\n",
      "[CV] C=100, decision_function_shape=ovr, kernel=rbf ..................\n",
      "[CV]  C=100, decision_function_shape=ovr, kernel=rbf, score=0.391304347826087, total=   0.1s\n",
      "[CV] C=1000, decision_function_shape=ovo, kernel=rbf .................\n",
      "[CV]  C=1000, decision_function_shape=ovo, kernel=rbf, score=0.4106280193236715, total=   0.1s\n",
      "[CV] C=1000, decision_function_shape=ovr, kernel=rbf .................\n",
      "[CV]  C=1000, decision_function_shape=ovr, kernel=rbf, score=0.4106280193236715, total=   0.1s\n"
     ]
    },
    {
     "name": "stderr",
     "output_type": "stream",
     "text": [
      "[Parallel(n_jobs=1)]: Done  16 out of  16 | elapsed:    5.5s finished\n"
     ]
    }
   ],
   "source": [
    "for nr in frame_numbers:\n",
    "    print(nr)\n",
    "    try:\n",
    "        gyro_train_input, gyro_train_label = prepare_data(train, nr, 'gyro', verbose=False)\n",
    "        gyro_valid_input, gyro_valid_label = prepare_data(valid, nr, 'gyro', verbose=False)\n",
    "\n",
    "        svc = GridSearchCV(svm.SVC(random_state=random_seed), parameters, cv=cross_valid, scoring='accuracy',\n",
    "                           verbose=verbose_level, n_jobs=parallel_jobs).fit(\n",
    "                                                                        np.append(gyro_train_input, gyro_valid_input, axis=0),\n",
    "                                                                        np.append(gyro_train_label, gyro_valid_label))\n",
    "\n",
    "        all_gyro.append((svc.best_score_, nr, svc.best_params_))\n",
    "    \n",
    "    except ValueError as err:\n",
    "        all_gyro.append((-1, nr, svc.best_params_))"
   ]
  },
  {
   "cell_type": "markdown",
   "metadata": {},
   "source": [
    "### Magnetometer"
   ]
  },
  {
   "cell_type": "code",
   "execution_count": 20,
   "metadata": {},
   "outputs": [
    {
     "name": "stdout",
     "output_type": "stream",
     "text": [
      "1\n",
      "Fitting 1 folds for each of 16 candidates, totalling 16 fits\n",
      "[CV] C=1, decision_function_shape=ovo, kernel=linear .................\n",
      "[CV]  C=1, decision_function_shape=ovo, kernel=linear, score=0.1346153846153846, total=   0.0s\n",
      "[CV] C=1, decision_function_shape=ovr, kernel=linear .................\n",
      "[CV]  C=1, decision_function_shape=ovr, kernel=linear, score=0.1346153846153846, total=   0.0s\n",
      "[CV] C=10, decision_function_shape=ovo, kernel=linear ................\n"
     ]
    },
    {
     "name": "stderr",
     "output_type": "stream",
     "text": [
      "[Parallel(n_jobs=1)]: Done   1 out of   1 | elapsed:    0.0s remaining:    0.0s\n",
      "[Parallel(n_jobs=1)]: Done   2 out of   2 | elapsed:    0.0s remaining:    0.0s\n"
     ]
    },
    {
     "name": "stdout",
     "output_type": "stream",
     "text": [
      "[CV]  C=10, decision_function_shape=ovo, kernel=linear, score=0.13942307692307693, total=   0.0s\n",
      "[CV] C=10, decision_function_shape=ovr, kernel=linear ................\n",
      "[CV]  C=10, decision_function_shape=ovr, kernel=linear, score=0.13942307692307693, total=   0.0s\n",
      "[CV] C=100, decision_function_shape=ovo, kernel=linear ...............\n",
      "[CV]  C=100, decision_function_shape=ovo, kernel=linear, score=0.25961538461538464, total=   0.0s\n",
      "[CV] C=100, decision_function_shape=ovr, kernel=linear ...............\n",
      "[CV]  C=100, decision_function_shape=ovr, kernel=linear, score=0.25961538461538464, total=   0.1s\n",
      "[CV] C=1000, decision_function_shape=ovo, kernel=linear ..............\n",
      "[CV]  C=1000, decision_function_shape=ovo, kernel=linear, score=0.2692307692307692, total=   0.7s\n",
      "[CV] C=1000, decision_function_shape=ovr, kernel=linear ..............\n",
      "[CV]  C=1000, decision_function_shape=ovr, kernel=linear, score=0.2692307692307692, total=   0.7s\n",
      "[CV] C=1, decision_function_shape=ovo, kernel=rbf ....................\n",
      "[CV]  C=1, decision_function_shape=ovo, kernel=rbf, score=0.057692307692307696, total=   0.0s\n",
      "[CV] C=1, decision_function_shape=ovr, kernel=rbf ....................\n",
      "[CV]  C=1, decision_function_shape=ovr, kernel=rbf, score=0.057692307692307696, total=   0.0s\n",
      "[CV] C=10, decision_function_shape=ovo, kernel=rbf ...................\n",
      "[CV]  C=10, decision_function_shape=ovo, kernel=rbf, score=0.1201923076923077, total=   0.0s\n",
      "[CV] C=10, decision_function_shape=ovr, kernel=rbf ...................\n",
      "[CV]  C=10, decision_function_shape=ovr, kernel=rbf, score=0.1201923076923077, total=   0.0s\n",
      "[CV] C=100, decision_function_shape=ovo, kernel=rbf ..................\n",
      "[CV]  C=100, decision_function_shape=ovo, kernel=rbf, score=0.14903846153846154, total=   0.0s\n",
      "[CV] C=100, decision_function_shape=ovr, kernel=rbf ..................\n",
      "[CV]  C=100, decision_function_shape=ovr, kernel=rbf, score=0.14903846153846154, total=   0.0s\n",
      "[CV] C=1000, decision_function_shape=ovo, kernel=rbf .................\n",
      "[CV]  C=1000, decision_function_shape=ovo, kernel=rbf, score=0.2403846153846154, total=   0.0s\n",
      "[CV] C=1000, decision_function_shape=ovr, kernel=rbf .................\n",
      "[CV]  C=1000, decision_function_shape=ovr, kernel=rbf, score=0.2403846153846154, total=   0.0s\n"
     ]
    },
    {
     "name": "stderr",
     "output_type": "stream",
     "text": [
      "[Parallel(n_jobs=1)]: Done  16 out of  16 | elapsed:    3.2s finished\n"
     ]
    },
    {
     "name": "stdout",
     "output_type": "stream",
     "text": [
      "2\n",
      "Fitting 1 folds for each of 16 candidates, totalling 16 fits\n",
      "[CV] C=1, decision_function_shape=ovo, kernel=linear .................\n",
      "[CV]  C=1, decision_function_shape=ovo, kernel=linear, score=0.12560386473429952, total=   0.0s\n",
      "[CV] C=1, decision_function_shape=ovr, kernel=linear .................\n",
      "[CV]  C=1, decision_function_shape=ovr, kernel=linear, score=0.12560386473429952, total=   0.0s"
     ]
    },
    {
     "name": "stderr",
     "output_type": "stream",
     "text": [
      "[Parallel(n_jobs=1)]: Done   1 out of   1 | elapsed:    0.0s remaining:    0.0s\n",
      "[Parallel(n_jobs=1)]: Done   2 out of   2 | elapsed:    0.1s remaining:    0.0s\n"
     ]
    },
    {
     "name": "stdout",
     "output_type": "stream",
     "text": [
      "\n",
      "[CV] C=10, decision_function_shape=ovo, kernel=linear ................\n",
      "[CV]  C=10, decision_function_shape=ovo, kernel=linear, score=0.18840579710144928, total=   0.0s\n",
      "[CV] C=10, decision_function_shape=ovr, kernel=linear ................\n",
      "[CV]  C=10, decision_function_shape=ovr, kernel=linear, score=0.18840579710144928, total=   0.0s\n",
      "[CV] C=100, decision_function_shape=ovo, kernel=linear ...............\n",
      "[CV]  C=100, decision_function_shape=ovo, kernel=linear, score=0.2946859903381642, total=   0.2s\n",
      "[CV] C=100, decision_function_shape=ovr, kernel=linear ...............\n",
      "[CV]  C=100, decision_function_shape=ovr, kernel=linear, score=0.2946859903381642, total=   0.2s\n",
      "[CV] C=1000, decision_function_shape=ovo, kernel=linear ..............\n",
      "[CV]  C=1000, decision_function_shape=ovo, kernel=linear, score=0.4492753623188406, total=   1.2s\n",
      "[CV] C=1000, decision_function_shape=ovr, kernel=linear ..............\n",
      "[CV]  C=1000, decision_function_shape=ovr, kernel=linear, score=0.4492753623188406, total=   1.2s\n",
      "[CV] C=1, decision_function_shape=ovo, kernel=rbf ....................\n",
      "[CV]  C=1, decision_function_shape=ovo, kernel=rbf, score=0.07729468599033816, total=   0.0s\n",
      "[CV] C=1, decision_function_shape=ovr, kernel=rbf ....................\n",
      "[CV]  C=1, decision_function_shape=ovr, kernel=rbf, score=0.07729468599033816, total=   0.0s\n",
      "[CV] C=10, decision_function_shape=ovo, kernel=rbf ...................\n",
      "[CV]  C=10, decision_function_shape=ovo, kernel=rbf, score=0.0966183574879227, total=   0.0s\n",
      "[CV] C=10, decision_function_shape=ovr, kernel=rbf ...................\n",
      "[CV]  C=10, decision_function_shape=ovr, kernel=rbf, score=0.0966183574879227, total=   0.0s\n",
      "[CV] C=100, decision_function_shape=ovo, kernel=rbf ..................\n",
      "[CV]  C=100, decision_function_shape=ovo, kernel=rbf, score=0.15458937198067632, total=   0.0s\n",
      "[CV] C=100, decision_function_shape=ovr, kernel=rbf ..................\n",
      "[CV]  C=100, decision_function_shape=ovr, kernel=rbf, score=0.15458937198067632, total=   0.0s\n",
      "[CV] C=1000, decision_function_shape=ovo, kernel=rbf .................\n",
      "[CV]  C=1000, decision_function_shape=ovo, kernel=rbf, score=0.2753623188405797, total=   0.1s\n",
      "[CV] C=1000, decision_function_shape=ovr, kernel=rbf .................\n",
      "[CV]  C=1000, decision_function_shape=ovr, kernel=rbf, score=0.2753623188405797, total=   0.1s"
     ]
    },
    {
     "name": "stderr",
     "output_type": "stream",
     "text": [
      "[Parallel(n_jobs=1)]: Done  16 out of  16 | elapsed:    5.1s finished\n"
     ]
    },
    {
     "name": "stdout",
     "output_type": "stream",
     "text": [
      "\n",
      "3\n",
      "Fitting 1 folds for each of 16 candidates, totalling 16 fits\n",
      "[CV] C=1, decision_function_shape=ovo, kernel=linear .................\n",
      "[CV]  C=1, decision_function_shape=ovo, kernel=linear, score=0.18357487922705315, total=   0.0s\n",
      "[CV] C=1, decision_function_shape=ovr, kernel=linear .................\n"
     ]
    },
    {
     "name": "stderr",
     "output_type": "stream",
     "text": [
      "[Parallel(n_jobs=1)]: Done   1 out of   1 | elapsed:    0.0s remaining:    0.0s\n",
      "[Parallel(n_jobs=1)]: Done   2 out of   2 | elapsed:    0.2s remaining:    0.0s\n"
     ]
    },
    {
     "name": "stdout",
     "output_type": "stream",
     "text": [
      "[CV]  C=1, decision_function_shape=ovr, kernel=linear, score=0.18357487922705315, total=   0.0s\n",
      "[CV] C=10, decision_function_shape=ovo, kernel=linear ................\n",
      "[CV]  C=10, decision_function_shape=ovo, kernel=linear, score=0.2318840579710145, total=   0.0s\n",
      "[CV] C=10, decision_function_shape=ovr, kernel=linear ................\n",
      "[CV]  C=10, decision_function_shape=ovr, kernel=linear, score=0.2318840579710145, total=   0.0s\n",
      "[CV] C=100, decision_function_shape=ovo, kernel=linear ...............\n",
      "[CV]  C=100, decision_function_shape=ovo, kernel=linear, score=0.34299516908212563, total=   0.2s\n",
      "[CV] C=100, decision_function_shape=ovr, kernel=linear ...............\n",
      "[CV]  C=100, decision_function_shape=ovr, kernel=linear, score=0.34299516908212563, total=   0.2s\n",
      "[CV] C=1000, decision_function_shape=ovo, kernel=linear ..............\n",
      "[CV]  C=1000, decision_function_shape=ovo, kernel=linear, score=0.46859903381642515, total=   1.0s\n",
      "[CV] C=1000, decision_function_shape=ovr, kernel=linear ..............\n",
      "[CV]  C=1000, decision_function_shape=ovr, kernel=linear, score=0.46859903381642515, total=   1.0s\n",
      "[CV] C=1, decision_function_shape=ovo, kernel=rbf ....................\n",
      "[CV]  C=1, decision_function_shape=ovo, kernel=rbf, score=0.07246376811594203, total=   0.0s\n",
      "[CV] C=1, decision_function_shape=ovr, kernel=rbf ....................\n",
      "[CV]  C=1, decision_function_shape=ovr, kernel=rbf, score=0.07246376811594203, total=   0.0s\n",
      "[CV] C=10, decision_function_shape=ovo, kernel=rbf ...................\n",
      "[CV]  C=10, decision_function_shape=ovo, kernel=rbf, score=0.1497584541062802, total=   0.0s\n",
      "[CV] C=10, decision_function_shape=ovr, kernel=rbf ...................\n",
      "[CV]  C=10, decision_function_shape=ovr, kernel=rbf, score=0.1497584541062802, total=   0.0s\n",
      "[CV] C=100, decision_function_shape=ovo, kernel=rbf ..................\n",
      "[CV]  C=100, decision_function_shape=ovo, kernel=rbf, score=0.20772946859903382, total=   0.0s\n",
      "[CV] C=100, decision_function_shape=ovr, kernel=rbf ..................\n",
      "[CV]  C=100, decision_function_shape=ovr, kernel=rbf, score=0.20772946859903382, total=   0.0s\n",
      "[CV] C=1000, decision_function_shape=ovo, kernel=rbf .................\n",
      "[CV]  C=1000, decision_function_shape=ovo, kernel=rbf, score=0.34782608695652173, total=   0.1s\n",
      "[CV] C=1000, decision_function_shape=ovr, kernel=rbf .................\n",
      "[CV]  C=1000, decision_function_shape=ovr, kernel=rbf, score=0.34782608695652173, total=   0.1s\n"
     ]
    },
    {
     "name": "stderr",
     "output_type": "stream",
     "text": [
      "[Parallel(n_jobs=1)]: Done  16 out of  16 | elapsed:    5.3s finished\n"
     ]
    },
    {
     "name": "stdout",
     "output_type": "stream",
     "text": [
      "4\n",
      "Fitting 1 folds for each of 16 candidates, totalling 16 fits\n",
      "[CV] C=1, decision_function_shape=ovo, kernel=linear .................\n",
      "[CV]  C=1, decision_function_shape=ovo, kernel=linear, score=0.19806763285024154, total=   0.0s\n",
      "[CV] C=1, decision_function_shape=ovr, kernel=linear .................\n"
     ]
    },
    {
     "name": "stderr",
     "output_type": "stream",
     "text": [
      "[Parallel(n_jobs=1)]: Done   1 out of   1 | elapsed:    0.1s remaining:    0.0s\n",
      "[Parallel(n_jobs=1)]: Done   2 out of   2 | elapsed:    0.3s remaining:    0.0s\n"
     ]
    },
    {
     "name": "stdout",
     "output_type": "stream",
     "text": [
      "[CV]  C=1, decision_function_shape=ovr, kernel=linear, score=0.19806763285024154, total=   0.0s\n",
      "[CV] C=10, decision_function_shape=ovo, kernel=linear ................\n",
      "[CV]  C=10, decision_function_shape=ovo, kernel=linear, score=0.27053140096618356, total=   0.0s\n",
      "[CV] C=10, decision_function_shape=ovr, kernel=linear ................\n",
      "[CV]  C=10, decision_function_shape=ovr, kernel=linear, score=0.27053140096618356, total=   0.1s\n",
      "[CV] C=100, decision_function_shape=ovo, kernel=linear ...............\n",
      "[CV]  C=100, decision_function_shape=ovo, kernel=linear, score=0.357487922705314, total=   0.4s\n",
      "[CV] C=100, decision_function_shape=ovr, kernel=linear ...............\n",
      "[CV]  C=100, decision_function_shape=ovr, kernel=linear, score=0.357487922705314, total=   0.3s\n",
      "[CV] C=1000, decision_function_shape=ovo, kernel=linear ..............\n",
      "[CV]  C=1000, decision_function_shape=ovo, kernel=linear, score=0.4057971014492754, total=   1.3s\n",
      "[CV] C=1000, decision_function_shape=ovr, kernel=linear ..............\n",
      "[CV]  C=1000, decision_function_shape=ovr, kernel=linear, score=0.4057971014492754, total=   1.2s\n",
      "[CV] C=1, decision_function_shape=ovo, kernel=rbf ....................\n",
      "[CV]  C=1, decision_function_shape=ovo, kernel=rbf, score=0.057971014492753624, total=   0.1s\n",
      "[CV] C=1, decision_function_shape=ovr, kernel=rbf ....................\n",
      "[CV]  C=1, decision_function_shape=ovr, kernel=rbf, score=0.057971014492753624, total=   0.1s\n",
      "[CV] C=10, decision_function_shape=ovo, kernel=rbf ...................\n",
      "[CV]  C=10, decision_function_shape=ovo, kernel=rbf, score=0.15942028985507245, total=   0.1s\n",
      "[CV] C=10, decision_function_shape=ovr, kernel=rbf ...................\n",
      "[CV]  C=10, decision_function_shape=ovr, kernel=rbf, score=0.15942028985507245, total=   0.1s\n",
      "[CV] C=100, decision_function_shape=ovo, kernel=rbf ..................\n",
      "[CV]  C=100, decision_function_shape=ovo, kernel=rbf, score=0.2318840579710145, total=   0.1s\n",
      "[CV] C=100, decision_function_shape=ovr, kernel=rbf ..................\n",
      "[CV]  C=100, decision_function_shape=ovr, kernel=rbf, score=0.2318840579710145, total=   0.1s\n",
      "[CV] C=1000, decision_function_shape=ovo, kernel=rbf .................\n",
      "[CV]  C=1000, decision_function_shape=ovo, kernel=rbf, score=0.3526570048309179, total=   0.1s\n",
      "[CV] C=1000, decision_function_shape=ovr, kernel=rbf .................\n",
      "[CV]  C=1000, decision_function_shape=ovr, kernel=rbf, score=0.3526570048309179, total=   0.1s\n"
     ]
    },
    {
     "name": "stderr",
     "output_type": "stream",
     "text": [
      "[Parallel(n_jobs=1)]: Done  16 out of  16 | elapsed:    6.6s finished\n"
     ]
    },
    {
     "name": "stdout",
     "output_type": "stream",
     "text": [
      "5\n",
      "Fitting 1 folds for each of 16 candidates, totalling 16 fits\n",
      "[CV] C=1, decision_function_shape=ovo, kernel=linear .................\n",
      "[CV]  C=1, decision_function_shape=ovo, kernel=linear, score=0.12560386473429952, total=   0.0s"
     ]
    },
    {
     "name": "stderr",
     "output_type": "stream",
     "text": [
      "[Parallel(n_jobs=1)]: Done   1 out of   1 | elapsed:    0.1s remaining:    0.0s\n"
     ]
    },
    {
     "name": "stdout",
     "output_type": "stream",
     "text": [
      "\n",
      "[CV] C=1, decision_function_shape=ovr, kernel=linear .................\n",
      "[CV]  C=1, decision_function_shape=ovr, kernel=linear, score=0.12560386473429952, total=   0.0s\n",
      "[CV] C=10, decision_function_shape=ovo, kernel=linear ................\n"
     ]
    },
    {
     "name": "stderr",
     "output_type": "stream",
     "text": [
      "[Parallel(n_jobs=1)]: Done   2 out of   2 | elapsed:    0.3s remaining:    0.0s\n"
     ]
    },
    {
     "name": "stdout",
     "output_type": "stream",
     "text": [
      "[CV]  C=10, decision_function_shape=ovo, kernel=linear, score=0.21256038647342995, total=   0.1s\n",
      "[CV] C=10, decision_function_shape=ovr, kernel=linear ................\n",
      "[CV]  C=10, decision_function_shape=ovr, kernel=linear, score=0.21256038647342995, total=   0.1s\n",
      "[CV] C=100, decision_function_shape=ovo, kernel=linear ...............\n",
      "[CV]  C=100, decision_function_shape=ovo, kernel=linear, score=0.26570048309178745, total=   0.4s\n",
      "[CV] C=100, decision_function_shape=ovr, kernel=linear ...............\n",
      "[CV]  C=100, decision_function_shape=ovr, kernel=linear, score=0.26570048309178745, total=   0.3s\n",
      "[CV] C=1000, decision_function_shape=ovo, kernel=linear ..............\n",
      "[CV]  C=1000, decision_function_shape=ovo, kernel=linear, score=0.3719806763285024, total=   1.4s\n",
      "[CV] C=1000, decision_function_shape=ovr, kernel=linear ..............\n",
      "[CV]  C=1000, decision_function_shape=ovr, kernel=linear, score=0.3719806763285024, total=   1.4s\n",
      "[CV] C=1, decision_function_shape=ovo, kernel=rbf ....................\n",
      "[CV]  C=1, decision_function_shape=ovo, kernel=rbf, score=0.04830917874396135, total=   0.1s\n",
      "[CV] C=1, decision_function_shape=ovr, kernel=rbf ....................\n",
      "[CV]  C=1, decision_function_shape=ovr, kernel=rbf, score=0.04830917874396135, total=   0.1s\n",
      "[CV] C=10, decision_function_shape=ovo, kernel=rbf ...................\n",
      "[CV]  C=10, decision_function_shape=ovo, kernel=rbf, score=0.12077294685990338, total=   0.1s\n",
      "[CV] C=10, decision_function_shape=ovr, kernel=rbf ...................\n",
      "[CV]  C=10, decision_function_shape=ovr, kernel=rbf, score=0.12077294685990338, total=   0.1s\n",
      "[CV] C=100, decision_function_shape=ovo, kernel=rbf ..................\n",
      "[CV]  C=100, decision_function_shape=ovo, kernel=rbf, score=0.14492753623188406, total=   0.1s\n",
      "[CV] C=100, decision_function_shape=ovr, kernel=rbf ..................\n",
      "[CV]  C=100, decision_function_shape=ovr, kernel=rbf, score=0.14492753623188406, total=   0.1s\n",
      "[CV] C=1000, decision_function_shape=ovo, kernel=rbf .................\n",
      "[CV]  C=1000, decision_function_shape=ovo, kernel=rbf, score=0.2753623188405797, total=   0.1s\n",
      "[CV] C=1000, decision_function_shape=ovr, kernel=rbf .................\n",
      "[CV]  C=1000, decision_function_shape=ovr, kernel=rbf, score=0.2753623188405797, total=   0.1s\n"
     ]
    },
    {
     "name": "stderr",
     "output_type": "stream",
     "text": [
      "[Parallel(n_jobs=1)]: Done  16 out of  16 | elapsed:    7.4s finished\n"
     ]
    },
    {
     "name": "stdout",
     "output_type": "stream",
     "text": [
      "6\n",
      "Fitting 1 folds for each of 16 candidates, totalling 16 fits\n",
      "[CV] C=1, decision_function_shape=ovo, kernel=linear .................\n",
      "[CV]  C=1, decision_function_shape=ovo, kernel=linear, score=0.13526570048309178, total=   0.1s\n",
      "[CV] C=1, decision_function_shape=ovr, kernel=linear .................\n"
     ]
    },
    {
     "name": "stderr",
     "output_type": "stream",
     "text": [
      "[Parallel(n_jobs=1)]: Done   1 out of   1 | elapsed:    0.2s remaining:    0.0s\n"
     ]
    },
    {
     "name": "stdout",
     "output_type": "stream",
     "text": [
      "[CV]  C=1, decision_function_shape=ovr, kernel=linear, score=0.13526570048309178, total=   0.1s\n",
      "[CV] C=10, decision_function_shape=ovo, kernel=linear ................\n"
     ]
    },
    {
     "name": "stderr",
     "output_type": "stream",
     "text": [
      "[Parallel(n_jobs=1)]: Done   2 out of   2 | elapsed:    0.4s remaining:    0.0s\n"
     ]
    },
    {
     "name": "stdout",
     "output_type": "stream",
     "text": [
      "[CV]  C=10, decision_function_shape=ovo, kernel=linear, score=0.2318840579710145, total=   0.1s\n",
      "[CV] C=10, decision_function_shape=ovr, kernel=linear ................\n",
      "[CV]  C=10, decision_function_shape=ovr, kernel=linear, score=0.2318840579710145, total=   0.1s\n",
      "[CV] C=100, decision_function_shape=ovo, kernel=linear ...............\n",
      "[CV]  C=100, decision_function_shape=ovo, kernel=linear, score=0.28019323671497587, total=   0.4s\n",
      "[CV] C=100, decision_function_shape=ovr, kernel=linear ...............\n",
      "[CV]  C=100, decision_function_shape=ovr, kernel=linear, score=0.28019323671497587, total=   0.4s\n",
      "[CV] C=1000, decision_function_shape=ovo, kernel=linear ..............\n",
      "[CV]  C=1000, decision_function_shape=ovo, kernel=linear, score=0.3140096618357488, total=   1.6s\n",
      "[CV] C=1000, decision_function_shape=ovr, kernel=linear ..............\n",
      "[CV]  C=1000, decision_function_shape=ovr, kernel=linear, score=0.3140096618357488, total=   1.6s\n",
      "[CV] C=1, decision_function_shape=ovo, kernel=rbf ....................\n",
      "[CV]  C=1, decision_function_shape=ovo, kernel=rbf, score=0.028985507246376812, total=   0.1s\n",
      "[CV] C=1, decision_function_shape=ovr, kernel=rbf ....................\n",
      "[CV]  C=1, decision_function_shape=ovr, kernel=rbf, score=0.028985507246376812, total=   0.1s\n",
      "[CV] C=10, decision_function_shape=ovo, kernel=rbf ...................\n",
      "[CV]  C=10, decision_function_shape=ovo, kernel=rbf, score=0.10144927536231885, total=   0.1s\n",
      "[CV] C=10, decision_function_shape=ovr, kernel=rbf ...................\n",
      "[CV]  C=10, decision_function_shape=ovr, kernel=rbf, score=0.10144927536231885, total=   0.1s\n",
      "[CV] C=100, decision_function_shape=ovo, kernel=rbf ..................\n",
      "[CV]  C=100, decision_function_shape=ovo, kernel=rbf, score=0.15458937198067632, total=   0.1s\n",
      "[CV] C=100, decision_function_shape=ovr, kernel=rbf ..................\n",
      "[CV]  C=100, decision_function_shape=ovr, kernel=rbf, score=0.15458937198067632, total=   0.1s\n",
      "[CV] C=1000, decision_function_shape=ovo, kernel=rbf .................\n",
      "[CV]  C=1000, decision_function_shape=ovo, kernel=rbf, score=0.23671497584541062, total=   0.1s\n",
      "[CV] C=1000, decision_function_shape=ovr, kernel=rbf .................\n",
      "[CV]  C=1000, decision_function_shape=ovr, kernel=rbf, score=0.23671497584541062, total=   0.2s\n"
     ]
    },
    {
     "name": "stderr",
     "output_type": "stream",
     "text": [
      "[Parallel(n_jobs=1)]: Done  16 out of  16 | elapsed:    8.4s finished\n"
     ]
    },
    {
     "name": "stdout",
     "output_type": "stream",
     "text": [
      "7\n"
     ]
    },
    {
     "name": "stderr",
     "output_type": "stream",
     "text": [
      "c:\\python36\\lib\\site-packages\\scipy\\stats\\stats.py:3021: RuntimeWarning: invalid value encountered in double_scalars\n",
      "  r = r_num / r_den\n",
      "c:\\python36\\lib\\site-packages\\scipy\\stats\\stats.py:5277: RuntimeWarning: invalid value encountered in less\n",
      "  x = np.where(x < 1.0, x, 1.0)  # if x > 1 then return 1.0\n"
     ]
    },
    {
     "name": "stdout",
     "output_type": "stream",
     "text": [
      "8\n",
      "9\n",
      "10\n",
      "11\n",
      "12\n"
     ]
    }
   ],
   "source": [
    "for nr in frame_numbers:\n",
    "    print(nr)\n",
    "    try:\n",
    "        ori_train_input, ori_train_label = prepare_data(train, nr, 'orientation', verbose=False)\n",
    "        ori_valid_input, ori_valid_label = prepare_data(valid, nr, 'orientation', verbose=False)\n",
    "\n",
    "        svc = GridSearchCV(svm.SVC(random_state=random_seed), parameters, cv=cross_valid, scoring='accuracy',\n",
    "                           verbose=verbose_level, n_jobs=parallel_jobs).fit(\n",
    "                                                                        np.append(ori_train_input, ori_valid_input, axis=0),\n",
    "                                                                        np.append(ori_train_label, ori_valid_label))\n",
    "\n",
    "        all_ori.append((svc.best_score_, nr, svc.best_params_))\n",
    "    \n",
    "    except ValueError as err:\n",
    "        all_ori.append((-1, nr, svc.best_params_))"
   ]
  },
  {
   "cell_type": "markdown",
   "metadata": {
    "collapsed": true
   },
   "source": [
    "### EMG"
   ]
  },
  {
   "cell_type": "code",
   "execution_count": 21,
   "metadata": {},
   "outputs": [
    {
     "name": "stdout",
     "output_type": "stream",
     "text": [
      "1\n",
      "Fitting 1 folds for each of 16 candidates, totalling 16 fits\n",
      "[CV] C=1, decision_function_shape=ovo, kernel=linear .................\n",
      "[CV]  C=1, decision_function_shape=ovo, kernel=linear, score=0.125, total=   0.0s\n",
      "[CV] C=1, decision_function_shape=ovr, kernel=linear .................\n",
      "[CV]  C=1, decision_function_shape=ovr, kernel=linear, score=0.125, total=   0.0s\n",
      "[CV] C=10, decision_function_shape=ovo, kernel=linear ................\n"
     ]
    },
    {
     "name": "stderr",
     "output_type": "stream",
     "text": [
      "[Parallel(n_jobs=1)]: Done   1 out of   1 | elapsed:    0.0s remaining:    0.0s\n",
      "[Parallel(n_jobs=1)]: Done   2 out of   2 | elapsed:    0.1s remaining:    0.0s\n"
     ]
    },
    {
     "name": "stdout",
     "output_type": "stream",
     "text": [
      "[CV]  C=10, decision_function_shape=ovo, kernel=linear, score=0.15384615384615385, total=   0.0s\n",
      "[CV] C=10, decision_function_shape=ovr, kernel=linear ................\n",
      "[CV]  C=10, decision_function_shape=ovr, kernel=linear, score=0.15384615384615385, total=   0.0s\n",
      "[CV] C=100, decision_function_shape=ovo, kernel=linear ...............\n",
      "[CV]  C=100, decision_function_shape=ovo, kernel=linear, score=0.19230769230769232, total=   0.0s\n",
      "[CV] C=100, decision_function_shape=ovr, kernel=linear ...............\n",
      "[CV]  C=100, decision_function_shape=ovr, kernel=linear, score=0.19230769230769232, total=   0.0s\n",
      "[CV] C=1000, decision_function_shape=ovo, kernel=linear ..............\n",
      "[CV]  C=1000, decision_function_shape=ovo, kernel=linear, score=0.21634615384615385, total=   0.7s\n",
      "[CV] C=1000, decision_function_shape=ovr, kernel=linear ..............\n",
      "[CV]  C=1000, decision_function_shape=ovr, kernel=linear, score=0.21634615384615385, total=   0.7s\n",
      "[CV] C=1, decision_function_shape=ovo, kernel=rbf ....................\n",
      "[CV]  C=1, decision_function_shape=ovo, kernel=rbf, score=0.0625, total=   0.0s\n",
      "[CV] C=1, decision_function_shape=ovr, kernel=rbf ....................\n",
      "[CV]  C=1, decision_function_shape=ovr, kernel=rbf, score=0.0625, total=   0.0s\n",
      "[CV] C=10, decision_function_shape=ovo, kernel=rbf ...................\n",
      "[CV]  C=10, decision_function_shape=ovo, kernel=rbf, score=0.125, total=   0.0s\n",
      "[CV] C=10, decision_function_shape=ovr, kernel=rbf ...................\n",
      "[CV]  C=10, decision_function_shape=ovr, kernel=rbf, score=0.125, total=   0.0s\n",
      "[CV] C=100, decision_function_shape=ovo, kernel=rbf ..................\n",
      "[CV]  C=100, decision_function_shape=ovo, kernel=rbf, score=0.13942307692307693, total=   0.0s\n",
      "[CV] C=100, decision_function_shape=ovr, kernel=rbf ..................\n",
      "[CV]  C=100, decision_function_shape=ovr, kernel=rbf, score=0.13942307692307693, total=   0.0s\n",
      "[CV] C=1000, decision_function_shape=ovo, kernel=rbf .................\n",
      "[CV]  C=1000, decision_function_shape=ovo, kernel=rbf, score=0.23076923076923078, total=   0.0s\n",
      "[CV] C=1000, decision_function_shape=ovr, kernel=rbf .................\n",
      "[CV]  C=1000, decision_function_shape=ovr, kernel=rbf, score=0.23076923076923078, total=   0.0s\n",
      "2\n"
     ]
    },
    {
     "name": "stderr",
     "output_type": "stream",
     "text": [
      "[Parallel(n_jobs=1)]: Done  16 out of  16 | elapsed:    3.4s finished\n"
     ]
    },
    {
     "name": "stdout",
     "output_type": "stream",
     "text": [
      "Fitting 1 folds for each of 16 candidates, totalling 16 fits\n",
      "[CV] C=1, decision_function_shape=ovo, kernel=linear .................\n",
      "[CV]  C=1, decision_function_shape=ovo, kernel=linear, score=0.1875, total=   0.0s\n",
      "[CV] C=1, decision_function_shape=ovr, kernel=linear .................\n"
     ]
    },
    {
     "name": "stderr",
     "output_type": "stream",
     "text": [
      "[Parallel(n_jobs=1)]: Done   1 out of   1 | elapsed:    0.0s remaining:    0.0s\n",
      "[Parallel(n_jobs=1)]: Done   2 out of   2 | elapsed:    0.2s remaining:    0.0s\n"
     ]
    },
    {
     "name": "stdout",
     "output_type": "stream",
     "text": [
      "[CV]  C=1, decision_function_shape=ovr, kernel=linear, score=0.1875, total=   0.0s\n",
      "[CV] C=10, decision_function_shape=ovo, kernel=linear ................\n",
      "[CV]  C=10, decision_function_shape=ovo, kernel=linear, score=0.23076923076923078, total=   0.0s\n",
      "[CV] C=10, decision_function_shape=ovr, kernel=linear ................\n",
      "[CV]  C=10, decision_function_shape=ovr, kernel=linear, score=0.23076923076923078, total=   0.0s\n",
      "[CV] C=100, decision_function_shape=ovo, kernel=linear ...............\n",
      "[CV]  C=100, decision_function_shape=ovo, kernel=linear, score=0.28365384615384615, total=   0.1s\n",
      "[CV] C=100, decision_function_shape=ovr, kernel=linear ...............\n",
      "[CV]  C=100, decision_function_shape=ovr, kernel=linear, score=0.28365384615384615, total=   0.1s\n",
      "[CV] C=1000, decision_function_shape=ovo, kernel=linear ..............\n",
      "[CV]  C=1000, decision_function_shape=ovo, kernel=linear, score=0.3076923076923077, total=   0.6s\n",
      "[CV] C=1000, decision_function_shape=ovr, kernel=linear ..............\n",
      "[CV]  C=1000, decision_function_shape=ovr, kernel=linear, score=0.3076923076923077, total=   0.6s\n",
      "[CV] C=1, decision_function_shape=ovo, kernel=rbf ....................\n",
      "[CV]  C=1, decision_function_shape=ovo, kernel=rbf, score=0.057692307692307696, total=   0.0s\n",
      "[CV] C=1, decision_function_shape=ovr, kernel=rbf ....................\n",
      "[CV]  C=1, decision_function_shape=ovr, kernel=rbf, score=0.057692307692307696, total=   0.0s\n",
      "[CV] C=10, decision_function_shape=ovo, kernel=rbf ...................\n",
      "[CV]  C=10, decision_function_shape=ovo, kernel=rbf, score=0.14903846153846154, total=   0.0s\n",
      "[CV] C=10, decision_function_shape=ovr, kernel=rbf ...................\n",
      "[CV]  C=10, decision_function_shape=ovr, kernel=rbf, score=0.14903846153846154, total=   0.0s\n",
      "[CV] C=100, decision_function_shape=ovo, kernel=rbf ..................\n",
      "[CV]  C=100, decision_function_shape=ovo, kernel=rbf, score=0.21153846153846154, total=   0.0s\n",
      "[CV] C=100, decision_function_shape=ovr, kernel=rbf ..................\n",
      "[CV]  C=100, decision_function_shape=ovr, kernel=rbf, score=0.21153846153846154, total=   0.0s\n",
      "[CV] C=1000, decision_function_shape=ovo, kernel=rbf .................\n",
      "[CV]  C=1000, decision_function_shape=ovo, kernel=rbf, score=0.27884615384615385, total=   0.0s\n",
      "[CV] C=1000, decision_function_shape=ovr, kernel=rbf .................\n",
      "[CV]  C=1000, decision_function_shape=ovr, kernel=rbf, score=0.27884615384615385, total=   0.0s\n"
     ]
    },
    {
     "name": "stderr",
     "output_type": "stream",
     "text": [
      "[Parallel(n_jobs=1)]: Done  16 out of  16 | elapsed:    4.0s finished\n"
     ]
    },
    {
     "name": "stdout",
     "output_type": "stream",
     "text": [
      "3\n",
      "Fitting 1 folds for each of 16 candidates, totalling 16 fits\n",
      "[CV] C=1, decision_function_shape=ovo, kernel=linear .................\n",
      "[CV]  C=1, decision_function_shape=ovo, kernel=linear, score=0.22115384615384615, total=   0.0s\n",
      "[CV] C=1, decision_function_shape=ovr, kernel=linear .................\n"
     ]
    },
    {
     "name": "stderr",
     "output_type": "stream",
     "text": [
      "[Parallel(n_jobs=1)]: Done   1 out of   1 | elapsed:    0.1s remaining:    0.0s\n",
      "[Parallel(n_jobs=1)]: Done   2 out of   2 | elapsed:    0.3s remaining:    0.0s\n"
     ]
    },
    {
     "name": "stdout",
     "output_type": "stream",
     "text": [
      "[CV]  C=1, decision_function_shape=ovr, kernel=linear, score=0.22115384615384615, total=   0.0s\n",
      "[CV] C=10, decision_function_shape=ovo, kernel=linear ................\n",
      "[CV]  C=10, decision_function_shape=ovo, kernel=linear, score=0.27884615384615385, total=   0.0s\n",
      "[CV] C=10, decision_function_shape=ovr, kernel=linear ................\n",
      "[CV]  C=10, decision_function_shape=ovr, kernel=linear, score=0.27884615384615385, total=   0.0s\n",
      "[CV] C=100, decision_function_shape=ovo, kernel=linear ...............\n",
      "[CV]  C=100, decision_function_shape=ovo, kernel=linear, score=0.3605769230769231, total=   0.1s\n",
      "[CV] C=100, decision_function_shape=ovr, kernel=linear ...............\n",
      "[CV]  C=100, decision_function_shape=ovr, kernel=linear, score=0.3605769230769231, total=   0.1s\n",
      "[CV] C=1000, decision_function_shape=ovo, kernel=linear ..............\n",
      "[CV]  C=1000, decision_function_shape=ovo, kernel=linear, score=0.3942307692307692, total=   0.4s\n",
      "[CV] C=1000, decision_function_shape=ovr, kernel=linear ..............\n",
      "[CV]  C=1000, decision_function_shape=ovr, kernel=linear, score=0.3942307692307692, total=   0.4s\n",
      "[CV] C=1, decision_function_shape=ovo, kernel=rbf ....................\n",
      "[CV]  C=1, decision_function_shape=ovo, kernel=rbf, score=0.04326923076923077, total=   0.1s\n",
      "[CV] C=1, decision_function_shape=ovr, kernel=rbf ....................\n",
      "[CV]  C=1, decision_function_shape=ovr, kernel=rbf, score=0.04326923076923077, total=   0.1s\n",
      "[CV] C=10, decision_function_shape=ovo, kernel=rbf ...................\n",
      "[CV]  C=10, decision_function_shape=ovo, kernel=rbf, score=0.1875, total=   0.1s\n",
      "[CV] C=10, decision_function_shape=ovr, kernel=rbf ...................\n",
      "[CV]  C=10, decision_function_shape=ovr, kernel=rbf, score=0.1875, total=   0.1s\n",
      "[CV] C=100, decision_function_shape=ovo, kernel=rbf ..................\n",
      "[CV]  C=100, decision_function_shape=ovo, kernel=rbf, score=0.25, total=   0.0s\n",
      "[CV] C=100, decision_function_shape=ovr, kernel=rbf ..................\n",
      "[CV]  C=100, decision_function_shape=ovr, kernel=rbf, score=0.25, total=   0.0s\n",
      "[CV] C=1000, decision_function_shape=ovo, kernel=rbf .................\n",
      "[CV]  C=1000, decision_function_shape=ovo, kernel=rbf, score=0.3125, total=   0.1s\n",
      "[CV] C=1000, decision_function_shape=ovr, kernel=rbf .................\n",
      "[CV]  C=1000, decision_function_shape=ovr, kernel=rbf, score=0.3125, total=   0.0s\n"
     ]
    },
    {
     "name": "stderr",
     "output_type": "stream",
     "text": [
      "[Parallel(n_jobs=1)]: Done  16 out of  16 | elapsed:    4.2s finished\n"
     ]
    },
    {
     "name": "stdout",
     "output_type": "stream",
     "text": [
      "4\n",
      "Fitting 1 folds for each of 16 candidates, totalling 16 fits\n",
      "[CV] C=1, decision_function_shape=ovo, kernel=linear .................\n",
      "[CV]  C=1, decision_function_shape=ovo, kernel=linear, score=0.2403846153846154, total=   0.0s\n",
      "[CV] C=1, decision_function_shape=ovr, kernel=linear .................\n"
     ]
    },
    {
     "name": "stderr",
     "output_type": "stream",
     "text": [
      "[Parallel(n_jobs=1)]: Done   1 out of   1 | elapsed:    0.1s remaining:    0.0s\n"
     ]
    },
    {
     "name": "stdout",
     "output_type": "stream",
     "text": [
      "[CV]  C=1, decision_function_shape=ovr, kernel=linear, score=0.2403846153846154, total=   0.0s\n",
      "[CV] C=10, decision_function_shape=ovo, kernel=linear ................\n"
     ]
    },
    {
     "name": "stderr",
     "output_type": "stream",
     "text": [
      "[Parallel(n_jobs=1)]: Done   2 out of   2 | elapsed:    0.4s remaining:    0.0s\n"
     ]
    },
    {
     "name": "stdout",
     "output_type": "stream",
     "text": [
      "[CV]  C=10, decision_function_shape=ovo, kernel=linear, score=0.3557692307692308, total=   0.0s\n",
      "[CV] C=10, decision_function_shape=ovr, kernel=linear ................\n",
      "[CV]  C=10, decision_function_shape=ovr, kernel=linear, score=0.3557692307692308, total=   0.1s\n",
      "[CV] C=100, decision_function_shape=ovo, kernel=linear ...............\n",
      "[CV]  C=100, decision_function_shape=ovo, kernel=linear, score=0.39903846153846156, total=   0.1s\n",
      "[CV] C=100, decision_function_shape=ovr, kernel=linear ...............\n",
      "[CV]  C=100, decision_function_shape=ovr, kernel=linear, score=0.39903846153846156, total=   0.1s\n",
      "[CV] C=1000, decision_function_shape=ovo, kernel=linear ..............\n",
      "[CV]  C=1000, decision_function_shape=ovo, kernel=linear, score=0.3942307692307692, total=   0.2s\n",
      "[CV] C=1000, decision_function_shape=ovr, kernel=linear ..............\n",
      "[CV]  C=1000, decision_function_shape=ovr, kernel=linear, score=0.3942307692307692, total=   0.2s\n",
      "[CV] C=1, decision_function_shape=ovo, kernel=rbf ....................\n",
      "[CV]  C=1, decision_function_shape=ovo, kernel=rbf, score=0.038461538461538464, total=   0.1s\n",
      "[CV] C=1, decision_function_shape=ovr, kernel=rbf ....................\n",
      "[CV]  C=1, decision_function_shape=ovr, kernel=rbf, score=0.038461538461538464, total=   0.1s\n",
      "[CV] C=10, decision_function_shape=ovo, kernel=rbf ...................\n",
      "[CV]  C=10, decision_function_shape=ovo, kernel=rbf, score=0.1778846153846154, total=   0.1s\n",
      "[CV] C=10, decision_function_shape=ovr, kernel=rbf ...................\n",
      "[CV]  C=10, decision_function_shape=ovr, kernel=rbf, score=0.1778846153846154, total=   0.1s\n",
      "[CV] C=100, decision_function_shape=ovo, kernel=rbf ..................\n",
      "[CV]  C=100, decision_function_shape=ovo, kernel=rbf, score=0.2692307692307692, total=   0.1s\n",
      "[CV] C=100, decision_function_shape=ovr, kernel=rbf ..................\n",
      "[CV]  C=100, decision_function_shape=ovr, kernel=rbf, score=0.2692307692307692, total=   0.1s\n",
      "[CV] C=1000, decision_function_shape=ovo, kernel=rbf .................\n",
      "[CV]  C=1000, decision_function_shape=ovo, kernel=rbf, score=0.3701923076923077, total=   0.1s\n",
      "[CV] C=1000, decision_function_shape=ovr, kernel=rbf .................\n",
      "[CV]  C=1000, decision_function_shape=ovr, kernel=rbf, score=0.3701923076923077, total=   0.1s\n"
     ]
    },
    {
     "name": "stderr",
     "output_type": "stream",
     "text": [
      "[Parallel(n_jobs=1)]: Done  16 out of  16 | elapsed:    4.6s finished\n"
     ]
    },
    {
     "name": "stdout",
     "output_type": "stream",
     "text": [
      "5\n",
      "Fitting 1 folds for each of 16 candidates, totalling 16 fits\n",
      "[CV] C=1, decision_function_shape=ovo, kernel=linear .................\n",
      "[CV]  C=1, decision_function_shape=ovo, kernel=linear, score=0.22115384615384615, total=   0.1s\n",
      "[CV] C=1, decision_function_shape=ovr, kernel=linear .................\n"
     ]
    },
    {
     "name": "stderr",
     "output_type": "stream",
     "text": [
      "[Parallel(n_jobs=1)]: Done   1 out of   1 | elapsed:    0.2s remaining:    0.0s\n"
     ]
    },
    {
     "name": "stdout",
     "output_type": "stream",
     "text": [
      "[CV]  C=1, decision_function_shape=ovr, kernel=linear, score=0.22115384615384615, total=   0.1s\n",
      "[CV] C=10, decision_function_shape=ovo, kernel=linear ................\n"
     ]
    },
    {
     "name": "stderr",
     "output_type": "stream",
     "text": [
      "[Parallel(n_jobs=1)]: Done   2 out of   2 | elapsed:    0.4s remaining:    0.0s\n"
     ]
    },
    {
     "name": "stdout",
     "output_type": "stream",
     "text": [
      "[CV]  C=10, decision_function_shape=ovo, kernel=linear, score=0.3557692307692308, total=   0.1s\n",
      "[CV] C=10, decision_function_shape=ovr, kernel=linear ................\n",
      "[CV]  C=10, decision_function_shape=ovr, kernel=linear, score=0.3557692307692308, total=   0.1s\n",
      "[CV] C=100, decision_function_shape=ovo, kernel=linear ...............\n",
      "[CV]  C=100, decision_function_shape=ovo, kernel=linear, score=0.40865384615384615, total=   0.1s\n",
      "[CV] C=100, decision_function_shape=ovr, kernel=linear ...............\n",
      "[CV]  C=100, decision_function_shape=ovr, kernel=linear, score=0.40865384615384615, total=   0.2s\n",
      "[CV] C=1000, decision_function_shape=ovo, kernel=linear ..............\n",
      "[CV]  C=1000, decision_function_shape=ovo, kernel=linear, score=0.3942307692307692, total=   0.2s\n",
      "[CV] C=1000, decision_function_shape=ovr, kernel=linear ..............\n",
      "[CV]  C=1000, decision_function_shape=ovr, kernel=linear, score=0.3942307692307692, total=   0.2s\n",
      "[CV] C=1, decision_function_shape=ovo, kernel=rbf ....................\n",
      "[CV]  C=1, decision_function_shape=ovo, kernel=rbf, score=0.028846153846153848, total=   0.2s\n",
      "[CV] C=1, decision_function_shape=ovr, kernel=rbf ....................\n",
      "[CV]  C=1, decision_function_shape=ovr, kernel=rbf, score=0.028846153846153848, total=   0.2s\n",
      "[CV] C=10, decision_function_shape=ovo, kernel=rbf ...................\n",
      "[CV]  C=10, decision_function_shape=ovo, kernel=rbf, score=0.16826923076923078, total=   0.1s\n",
      "[CV] C=10, decision_function_shape=ovr, kernel=rbf ...................\n",
      "[CV]  C=10, decision_function_shape=ovr, kernel=rbf, score=0.16826923076923078, total=   0.1s\n",
      "[CV] C=100, decision_function_shape=ovo, kernel=rbf ..................\n",
      "[CV]  C=100, decision_function_shape=ovo, kernel=rbf, score=0.25, total=   0.1s\n",
      "[CV] C=100, decision_function_shape=ovr, kernel=rbf ..................\n",
      "[CV]  C=100, decision_function_shape=ovr, kernel=rbf, score=0.25, total=   0.1s\n",
      "[CV] C=1000, decision_function_shape=ovo, kernel=rbf .................\n",
      "[CV]  C=1000, decision_function_shape=ovo, kernel=rbf, score=0.375, total=   0.1s\n",
      "[CV] C=1000, decision_function_shape=ovr, kernel=rbf .................\n",
      "[CV]  C=1000, decision_function_shape=ovr, kernel=rbf, score=0.375, total=   0.1s\n"
     ]
    },
    {
     "name": "stderr",
     "output_type": "stream",
     "text": [
      "[Parallel(n_jobs=1)]: Done  16 out of  16 | elapsed:    5.1s finished\n"
     ]
    },
    {
     "name": "stdout",
     "output_type": "stream",
     "text": [
      "6\n",
      "Fitting 1 folds for each of 16 candidates, totalling 16 fits\n",
      "[CV] C=1, decision_function_shape=ovo, kernel=linear .................\n",
      "[CV]  C=1, decision_function_shape=ovo, kernel=linear, score=0.23557692307692307, total=   0.1s\n",
      "[CV] C=1, decision_function_shape=ovr, kernel=linear .................\n"
     ]
    },
    {
     "name": "stderr",
     "output_type": "stream",
     "text": [
      "[Parallel(n_jobs=1)]: Done   1 out of   1 | elapsed:    0.2s remaining:    0.0s\n"
     ]
    },
    {
     "name": "stdout",
     "output_type": "stream",
     "text": [
      "[CV]  C=1, decision_function_shape=ovr, kernel=linear, score=0.23557692307692307, total=   0.1s\n",
      "[CV] C=10, decision_function_shape=ovo, kernel=linear ................\n"
     ]
    },
    {
     "name": "stderr",
     "output_type": "stream",
     "text": [
      "[Parallel(n_jobs=1)]: Done   2 out of   2 | elapsed:    0.5s remaining:    0.0s\n"
     ]
    },
    {
     "name": "stdout",
     "output_type": "stream",
     "text": [
      "[CV]  C=10, decision_function_shape=ovo, kernel=linear, score=0.39903846153846156, total=   0.1s\n",
      "[CV] C=10, decision_function_shape=ovr, kernel=linear ................\n",
      "[CV]  C=10, decision_function_shape=ovr, kernel=linear, score=0.39903846153846156, total=   0.1s\n",
      "[CV] C=100, decision_function_shape=ovo, kernel=linear ...............\n",
      "[CV]  C=100, decision_function_shape=ovo, kernel=linear, score=0.4423076923076923, total=   0.1s\n",
      "[CV] C=100, decision_function_shape=ovr, kernel=linear ...............\n",
      "[CV]  C=100, decision_function_shape=ovr, kernel=linear, score=0.4423076923076923, total=   0.1s\n",
      "[CV] C=1000, decision_function_shape=ovo, kernel=linear ..............\n",
      "[CV]  C=1000, decision_function_shape=ovo, kernel=linear, score=0.42788461538461536, total=   0.2s\n",
      "[CV] C=1000, decision_function_shape=ovr, kernel=linear ..............\n",
      "[CV]  C=1000, decision_function_shape=ovr, kernel=linear, score=0.42788461538461536, total=   0.1s\n",
      "[CV] C=1, decision_function_shape=ovo, kernel=rbf ....................\n",
      "[CV]  C=1, decision_function_shape=ovo, kernel=rbf, score=0.028846153846153848, total=   0.2s\n",
      "[CV] C=1, decision_function_shape=ovr, kernel=rbf ....................\n",
      "[CV]  C=1, decision_function_shape=ovr, kernel=rbf, score=0.028846153846153848, total=   0.2s\n",
      "[CV] C=10, decision_function_shape=ovo, kernel=rbf ...................\n",
      "[CV]  C=10, decision_function_shape=ovo, kernel=rbf, score=0.16826923076923078, total=   0.2s\n",
      "[CV] C=10, decision_function_shape=ovr, kernel=rbf ...................\n",
      "[CV]  C=10, decision_function_shape=ovr, kernel=rbf, score=0.16826923076923078, total=   0.2s\n",
      "[CV] C=100, decision_function_shape=ovo, kernel=rbf ..................\n",
      "[CV]  C=100, decision_function_shape=ovo, kernel=rbf, score=0.24519230769230768, total=   0.1s\n",
      "[CV] C=100, decision_function_shape=ovr, kernel=rbf ..................\n",
      "[CV]  C=100, decision_function_shape=ovr, kernel=rbf, score=0.24519230769230768, total=   0.1s\n",
      "[CV] C=1000, decision_function_shape=ovo, kernel=rbf .................\n",
      "[CV]  C=1000, decision_function_shape=ovo, kernel=rbf, score=0.4326923076923077, total=   0.1s\n",
      "[CV] C=1000, decision_function_shape=ovr, kernel=rbf .................\n",
      "[CV]  C=1000, decision_function_shape=ovr, kernel=rbf, score=0.4326923076923077, total=   0.1s\n"
     ]
    },
    {
     "name": "stderr",
     "output_type": "stream",
     "text": [
      "[Parallel(n_jobs=1)]: Done  16 out of  16 | elapsed:    5.7s finished\n"
     ]
    },
    {
     "name": "stdout",
     "output_type": "stream",
     "text": [
      "7\n",
      "Fitting 1 folds for each of 16 candidates, totalling 16 fits\n",
      "[CV] C=1, decision_function_shape=ovo, kernel=linear .................\n",
      "[CV]  C=1, decision_function_shape=ovo, kernel=linear, score=0.2548076923076923, total=   0.1s\n",
      "[CV] C=1, decision_function_shape=ovr, kernel=linear .................\n"
     ]
    },
    {
     "name": "stderr",
     "output_type": "stream",
     "text": [
      "[Parallel(n_jobs=1)]: Done   1 out of   1 | elapsed:    0.3s remaining:    0.0s\n"
     ]
    },
    {
     "name": "stdout",
     "output_type": "stream",
     "text": [
      "[CV]  C=1, decision_function_shape=ovr, kernel=linear, score=0.2548076923076923, total=   0.1s\n",
      "[CV] C=10, decision_function_shape=ovo, kernel=linear ................\n"
     ]
    },
    {
     "name": "stderr",
     "output_type": "stream",
     "text": [
      "[Parallel(n_jobs=1)]: Done   2 out of   2 | elapsed:    0.6s remaining:    0.0s\n"
     ]
    },
    {
     "name": "stdout",
     "output_type": "stream",
     "text": [
      "[CV]  C=10, decision_function_shape=ovo, kernel=linear, score=0.39903846153846156, total=   0.1s\n",
      "[CV] C=10, decision_function_shape=ovr, kernel=linear ................\n",
      "[CV]  C=10, decision_function_shape=ovr, kernel=linear, score=0.39903846153846156, total=   0.1s\n",
      "[CV] C=100, decision_function_shape=ovo, kernel=linear ...............\n",
      "[CV]  C=100, decision_function_shape=ovo, kernel=linear, score=0.3798076923076923, total=   0.1s\n",
      "[CV] C=100, decision_function_shape=ovr, kernel=linear ...............\n",
      "[CV]  C=100, decision_function_shape=ovr, kernel=linear, score=0.3798076923076923, total=   0.2s\n",
      "[CV] C=1000, decision_function_shape=ovo, kernel=linear ..............\n",
      "[CV]  C=1000, decision_function_shape=ovo, kernel=linear, score=0.3798076923076923, total=   0.2s\n",
      "[CV] C=1000, decision_function_shape=ovr, kernel=linear ..............\n",
      "[CV]  C=1000, decision_function_shape=ovr, kernel=linear, score=0.3798076923076923, total=   0.2s\n",
      "[CV] C=1, decision_function_shape=ovo, kernel=rbf ....................\n",
      "[CV]  C=1, decision_function_shape=ovo, kernel=rbf, score=0.028846153846153848, total=   0.3s\n",
      "[CV] C=1, decision_function_shape=ovr, kernel=rbf ....................\n",
      "[CV]  C=1, decision_function_shape=ovr, kernel=rbf, score=0.028846153846153848, total=   0.3s\n",
      "[CV] C=10, decision_function_shape=ovo, kernel=rbf ...................\n",
      "[CV]  C=10, decision_function_shape=ovo, kernel=rbf, score=0.1778846153846154, total=   0.2s\n",
      "[CV] C=10, decision_function_shape=ovr, kernel=rbf ...................\n",
      "[CV]  C=10, decision_function_shape=ovr, kernel=rbf, score=0.1778846153846154, total=   0.2s\n",
      "[CV] C=100, decision_function_shape=ovo, kernel=rbf ..................\n",
      "[CV]  C=100, decision_function_shape=ovo, kernel=rbf, score=0.2548076923076923, total=   0.1s\n",
      "[CV] C=100, decision_function_shape=ovr, kernel=rbf ..................\n",
      "[CV]  C=100, decision_function_shape=ovr, kernel=rbf, score=0.2548076923076923, total=   0.1s\n",
      "[CV] C=1000, decision_function_shape=ovo, kernel=rbf .................\n",
      "[CV]  C=1000, decision_function_shape=ovo, kernel=rbf, score=0.4182692307692308, total=   0.1s\n",
      "[CV] C=1000, decision_function_shape=ovr, kernel=rbf .................\n",
      "[CV]  C=1000, decision_function_shape=ovr, kernel=rbf, score=0.4182692307692308, total=   0.1s\n"
     ]
    },
    {
     "name": "stderr",
     "output_type": "stream",
     "text": [
      "[Parallel(n_jobs=1)]: Done  16 out of  16 | elapsed:    6.4s finished\n"
     ]
    },
    {
     "name": "stdout",
     "output_type": "stream",
     "text": [
      "8\n",
      "Fitting 1 folds for each of 16 candidates, totalling 16 fits\n",
      "[CV] C=1, decision_function_shape=ovo, kernel=linear .................\n",
      "[CV]  C=1, decision_function_shape=ovo, kernel=linear, score=0.28365384615384615, total=   0.1s\n",
      "[CV] C=1, decision_function_shape=ovr, kernel=linear .................\n"
     ]
    },
    {
     "name": "stderr",
     "output_type": "stream",
     "text": [
      "[Parallel(n_jobs=1)]: Done   1 out of   1 | elapsed:    0.3s remaining:    0.0s\n"
     ]
    },
    {
     "name": "stdout",
     "output_type": "stream",
     "text": [
      "[CV]  C=1, decision_function_shape=ovr, kernel=linear, score=0.28365384615384615, total=   0.1s\n",
      "[CV] C=10, decision_function_shape=ovo, kernel=linear ................\n"
     ]
    },
    {
     "name": "stderr",
     "output_type": "stream",
     "text": [
      "[Parallel(n_jobs=1)]: Done   2 out of   2 | elapsed:    0.7s remaining:    0.0s\n"
     ]
    },
    {
     "name": "stdout",
     "output_type": "stream",
     "text": [
      "[CV]  C=10, decision_function_shape=ovo, kernel=linear, score=0.36538461538461536, total=   0.1s\n",
      "[CV] C=10, decision_function_shape=ovr, kernel=linear ................\n",
      "[CV]  C=10, decision_function_shape=ovr, kernel=linear, score=0.36538461538461536, total=   0.1s\n",
      "[CV] C=100, decision_function_shape=ovo, kernel=linear ...............\n",
      "[CV]  C=100, decision_function_shape=ovo, kernel=linear, score=0.3701923076923077, total=   0.2s\n",
      "[CV] C=100, decision_function_shape=ovr, kernel=linear ...............\n",
      "[CV]  C=100, decision_function_shape=ovr, kernel=linear, score=0.3701923076923077, total=   0.2s\n",
      "[CV] C=1000, decision_function_shape=ovo, kernel=linear ..............\n",
      "[CV]  C=1000, decision_function_shape=ovo, kernel=linear, score=0.3701923076923077, total=   0.2s\n",
      "[CV] C=1000, decision_function_shape=ovr, kernel=linear ..............\n",
      "[CV]  C=1000, decision_function_shape=ovr, kernel=linear, score=0.3701923076923077, total=   0.2s\n",
      "[CV] C=1, decision_function_shape=ovo, kernel=rbf ....................\n",
      "[CV]  C=1, decision_function_shape=ovo, kernel=rbf, score=0.028846153846153848, total=   0.3s\n",
      "[CV] C=1, decision_function_shape=ovr, kernel=rbf ....................\n",
      "[CV]  C=1, decision_function_shape=ovr, kernel=rbf, score=0.028846153846153848, total=   0.3s\n",
      "[CV] C=10, decision_function_shape=ovo, kernel=rbf ...................\n",
      "[CV]  C=10, decision_function_shape=ovo, kernel=rbf, score=0.18269230769230768, total=   0.2s\n",
      "[CV] C=10, decision_function_shape=ovr, kernel=rbf ...................\n",
      "[CV]  C=10, decision_function_shape=ovr, kernel=rbf, score=0.18269230769230768, total=   0.3s\n",
      "[CV] C=100, decision_function_shape=ovo, kernel=rbf ..................\n",
      "[CV]  C=100, decision_function_shape=ovo, kernel=rbf, score=0.28846153846153844, total=   0.2s\n",
      "[CV] C=100, decision_function_shape=ovr, kernel=rbf ..................\n",
      "[CV]  C=100, decision_function_shape=ovr, kernel=rbf, score=0.28846153846153844, total=   0.2s\n",
      "[CV] C=1000, decision_function_shape=ovo, kernel=rbf .................\n",
      "[CV]  C=1000, decision_function_shape=ovo, kernel=rbf, score=0.3605769230769231, total=   0.2s\n",
      "[CV] C=1000, decision_function_shape=ovr, kernel=rbf .................\n",
      "[CV]  C=1000, decision_function_shape=ovr, kernel=rbf, score=0.3605769230769231, total=   0.2s\n"
     ]
    },
    {
     "name": "stderr",
     "output_type": "stream",
     "text": [
      "[Parallel(n_jobs=1)]: Done  16 out of  16 | elapsed:    7.2s finished\n"
     ]
    },
    {
     "name": "stdout",
     "output_type": "stream",
     "text": [
      "9\n",
      "Fitting 1 folds for each of 16 candidates, totalling 16 fits\n",
      "[CV] C=1, decision_function_shape=ovo, kernel=linear .................\n",
      "[CV]  C=1, decision_function_shape=ovo, kernel=linear, score=0.2980769230769231, total=   0.2s\n",
      "[CV] C=1, decision_function_shape=ovr, kernel=linear .................\n"
     ]
    },
    {
     "name": "stderr",
     "output_type": "stream",
     "text": [
      "[Parallel(n_jobs=1)]: Done   1 out of   1 | elapsed:    0.4s remaining:    0.0s\n"
     ]
    },
    {
     "name": "stdout",
     "output_type": "stream",
     "text": [
      "[CV]  C=1, decision_function_shape=ovr, kernel=linear, score=0.2980769230769231, total=   0.2s\n",
      "[CV] C=10, decision_function_shape=ovo, kernel=linear ................\n"
     ]
    },
    {
     "name": "stderr",
     "output_type": "stream",
     "text": [
      "[Parallel(n_jobs=1)]: Done   2 out of   2 | elapsed:    0.8s remaining:    0.0s\n"
     ]
    },
    {
     "name": "stdout",
     "output_type": "stream",
     "text": [
      "[CV]  C=10, decision_function_shape=ovo, kernel=linear, score=0.4326923076923077, total=   0.2s\n",
      "[CV] C=10, decision_function_shape=ovr, kernel=linear ................\n",
      "[CV]  C=10, decision_function_shape=ovr, kernel=linear, score=0.4326923076923077, total=   0.2s\n",
      "[CV] C=100, decision_function_shape=ovo, kernel=linear ...............\n",
      "[CV]  C=100, decision_function_shape=ovo, kernel=linear, score=0.4182692307692308, total=   0.2s\n",
      "[CV] C=100, decision_function_shape=ovr, kernel=linear ...............\n",
      "[CV]  C=100, decision_function_shape=ovr, kernel=linear, score=0.4182692307692308, total=   0.2s\n",
      "[CV] C=1000, decision_function_shape=ovo, kernel=linear ..............\n",
      "[CV]  C=1000, decision_function_shape=ovo, kernel=linear, score=0.4182692307692308, total=   0.2s\n",
      "[CV] C=1000, decision_function_shape=ovr, kernel=linear ..............\n",
      "[CV]  C=1000, decision_function_shape=ovr, kernel=linear, score=0.4182692307692308, total=   0.2s\n",
      "[CV] C=1, decision_function_shape=ovo, kernel=rbf ....................\n",
      "[CV]  C=1, decision_function_shape=ovo, kernel=rbf, score=0.028846153846153848, total=   0.3s\n",
      "[CV] C=1, decision_function_shape=ovr, kernel=rbf ....................\n",
      "[CV]  C=1, decision_function_shape=ovr, kernel=rbf, score=0.028846153846153848, total=   0.3s\n",
      "[CV] C=10, decision_function_shape=ovo, kernel=rbf ...................\n",
      "[CV]  C=10, decision_function_shape=ovo, kernel=rbf, score=0.17307692307692307, total=   0.3s\n",
      "[CV] C=10, decision_function_shape=ovr, kernel=rbf ...................\n",
      "[CV]  C=10, decision_function_shape=ovr, kernel=rbf, score=0.17307692307692307, total=   0.3s\n",
      "[CV] C=100, decision_function_shape=ovo, kernel=rbf ..................\n",
      "[CV]  C=100, decision_function_shape=ovo, kernel=rbf, score=0.28365384615384615, total=   0.2s\n",
      "[CV] C=100, decision_function_shape=ovr, kernel=rbf ..................\n",
      "[CV]  C=100, decision_function_shape=ovr, kernel=rbf, score=0.28365384615384615, total=   0.2s\n",
      "[CV] C=1000, decision_function_shape=ovo, kernel=rbf .................\n",
      "[CV]  C=1000, decision_function_shape=ovo, kernel=rbf, score=0.4423076923076923, total=   0.2s\n",
      "[CV] C=1000, decision_function_shape=ovr, kernel=rbf .................\n",
      "[CV]  C=1000, decision_function_shape=ovr, kernel=rbf, score=0.4423076923076923, total=   0.2s\n"
     ]
    },
    {
     "name": "stderr",
     "output_type": "stream",
     "text": [
      "[Parallel(n_jobs=1)]: Done  16 out of  16 | elapsed:    7.9s finished\n"
     ]
    },
    {
     "name": "stdout",
     "output_type": "stream",
     "text": [
      "10\n",
      "Fitting 1 folds for each of 16 candidates, totalling 16 fits\n",
      "[CV] C=1, decision_function_shape=ovo, kernel=linear .................\n",
      "[CV]  C=1, decision_function_shape=ovo, kernel=linear, score=0.3188405797101449, total=   0.2s\n",
      "[CV] C=1, decision_function_shape=ovr, kernel=linear .................\n"
     ]
    },
    {
     "name": "stderr",
     "output_type": "stream",
     "text": [
      "[Parallel(n_jobs=1)]: Done   1 out of   1 | elapsed:    0.4s remaining:    0.0s\n"
     ]
    },
    {
     "name": "stdout",
     "output_type": "stream",
     "text": [
      "[CV]  C=1, decision_function_shape=ovr, kernel=linear, score=0.3188405797101449, total=   0.2s\n",
      "[CV] C=10, decision_function_shape=ovo, kernel=linear ................\n"
     ]
    },
    {
     "name": "stderr",
     "output_type": "stream",
     "text": [
      "[Parallel(n_jobs=1)]: Done   2 out of   2 | elapsed:    0.9s remaining:    0.0s\n"
     ]
    },
    {
     "name": "stdout",
     "output_type": "stream",
     "text": [
      "[CV]  C=10, decision_function_shape=ovo, kernel=linear, score=0.42028985507246375, total=   0.2s\n",
      "[CV] C=10, decision_function_shape=ovr, kernel=linear ................\n",
      "[CV]  C=10, decision_function_shape=ovr, kernel=linear, score=0.42028985507246375, total=   0.2s\n",
      "[CV] C=100, decision_function_shape=ovo, kernel=linear ...............\n",
      "[CV]  C=100, decision_function_shape=ovo, kernel=linear, score=0.42995169082125606, total=   0.2s\n",
      "[CV] C=100, decision_function_shape=ovr, kernel=linear ...............\n",
      "[CV]  C=100, decision_function_shape=ovr, kernel=linear, score=0.42995169082125606, total=   0.2s\n",
      "[CV] C=1000, decision_function_shape=ovo, kernel=linear ..............\n",
      "[CV]  C=1000, decision_function_shape=ovo, kernel=linear, score=0.42995169082125606, total=   0.3s\n",
      "[CV] C=1000, decision_function_shape=ovr, kernel=linear ..............\n",
      "[CV]  C=1000, decision_function_shape=ovr, kernel=linear, score=0.42995169082125606, total=   0.2s\n",
      "[CV] C=1, decision_function_shape=ovo, kernel=rbf ....................\n",
      "[CV]  C=1, decision_function_shape=ovo, kernel=rbf, score=0.04830917874396135, total=   0.4s\n",
      "[CV] C=1, decision_function_shape=ovr, kernel=rbf ....................\n",
      "[CV]  C=1, decision_function_shape=ovr, kernel=rbf, score=0.04830917874396135, total=   0.4s\n",
      "[CV] C=10, decision_function_shape=ovo, kernel=rbf ...................\n",
      "[CV]  C=10, decision_function_shape=ovo, kernel=rbf, score=0.18840579710144928, total=   0.3s\n",
      "[CV] C=10, decision_function_shape=ovr, kernel=rbf ...................\n",
      "[CV]  C=10, decision_function_shape=ovr, kernel=rbf, score=0.18840579710144928, total=   0.3s\n",
      "[CV] C=100, decision_function_shape=ovo, kernel=rbf ..................\n",
      "[CV]  C=100, decision_function_shape=ovo, kernel=rbf, score=0.2995169082125604, total=   0.2s\n",
      "[CV] C=100, decision_function_shape=ovr, kernel=rbf ..................\n",
      "[CV]  C=100, decision_function_shape=ovr, kernel=rbf, score=0.2995169082125604, total=   0.2s\n",
      "[CV] C=1000, decision_function_shape=ovo, kernel=rbf .................\n",
      "[CV]  C=1000, decision_function_shape=ovo, kernel=rbf, score=0.43478260869565216, total=   0.2s\n",
      "[CV] C=1000, decision_function_shape=ovr, kernel=rbf .................\n",
      "[CV]  C=1000, decision_function_shape=ovr, kernel=rbf, score=0.43478260869565216, total=   0.2s\n"
     ]
    },
    {
     "name": "stderr",
     "output_type": "stream",
     "text": [
      "[Parallel(n_jobs=1)]: Done  16 out of  16 | elapsed:    9.0s finished\n"
     ]
    },
    {
     "name": "stdout",
     "output_type": "stream",
     "text": [
      "11\n",
      "Fitting 1 folds for each of 16 candidates, totalling 16 fits\n",
      "[CV] C=1, decision_function_shape=ovo, kernel=linear .................\n",
      "[CV]  C=1, decision_function_shape=ovo, kernel=linear, score=0.3526570048309179, total=   0.2s\n",
      "[CV] C=1, decision_function_shape=ovr, kernel=linear .................\n"
     ]
    },
    {
     "name": "stderr",
     "output_type": "stream",
     "text": [
      "[Parallel(n_jobs=1)]: Done   1 out of   1 | elapsed:    0.4s remaining:    0.0s\n"
     ]
    },
    {
     "name": "stdout",
     "output_type": "stream",
     "text": [
      "[CV]  C=1, decision_function_shape=ovr, kernel=linear, score=0.3526570048309179, total=   0.2s\n",
      "[CV] C=10, decision_function_shape=ovo, kernel=linear ................\n"
     ]
    },
    {
     "name": "stderr",
     "output_type": "stream",
     "text": [
      "[Parallel(n_jobs=1)]: Done   2 out of   2 | elapsed:    1.0s remaining:    0.0s\n"
     ]
    },
    {
     "name": "stdout",
     "output_type": "stream",
     "text": [
      "[CV]  C=10, decision_function_shape=ovo, kernel=linear, score=0.45410628019323673, total=   0.2s\n",
      "[CV] C=10, decision_function_shape=ovr, kernel=linear ................\n",
      "[CV]  C=10, decision_function_shape=ovr, kernel=linear, score=0.45410628019323673, total=   0.2s\n",
      "[CV] C=100, decision_function_shape=ovo, kernel=linear ...............\n",
      "[CV]  C=100, decision_function_shape=ovo, kernel=linear, score=0.46859903381642515, total=   0.2s\n",
      "[CV] C=100, decision_function_shape=ovr, kernel=linear ...............\n",
      "[CV]  C=100, decision_function_shape=ovr, kernel=linear, score=0.46859903381642515, total=   0.2s\n",
      "[CV] C=1000, decision_function_shape=ovo, kernel=linear ..............\n",
      "[CV]  C=1000, decision_function_shape=ovo, kernel=linear, score=0.46859903381642515, total=   0.2s\n",
      "[CV] C=1000, decision_function_shape=ovr, kernel=linear ..............\n",
      "[CV]  C=1000, decision_function_shape=ovr, kernel=linear, score=0.46859903381642515, total=   0.2s\n",
      "[CV] C=1, decision_function_shape=ovo, kernel=rbf ....................\n",
      "[CV]  C=1, decision_function_shape=ovo, kernel=rbf, score=0.04830917874396135, total=   0.5s\n",
      "[CV] C=1, decision_function_shape=ovr, kernel=rbf ....................\n",
      "[CV]  C=1, decision_function_shape=ovr, kernel=rbf, score=0.04830917874396135, total=   0.5s\n",
      "[CV] C=10, decision_function_shape=ovo, kernel=rbf ...................\n",
      "[CV]  C=10, decision_function_shape=ovo, kernel=rbf, score=0.19806763285024154, total=   0.4s\n",
      "[CV] C=10, decision_function_shape=ovr, kernel=rbf ...................\n",
      "[CV]  C=10, decision_function_shape=ovr, kernel=rbf, score=0.19806763285024154, total=   0.4s\n",
      "[CV] C=100, decision_function_shape=ovo, kernel=rbf ..................\n",
      "[CV]  C=100, decision_function_shape=ovo, kernel=rbf, score=0.2946859903381642, total=   0.2s\n",
      "[CV] C=100, decision_function_shape=ovr, kernel=rbf ..................\n",
      "[CV]  C=100, decision_function_shape=ovr, kernel=rbf, score=0.2946859903381642, total=   0.3s\n",
      "[CV] C=1000, decision_function_shape=ovo, kernel=rbf .................\n",
      "[CV]  C=1000, decision_function_shape=ovo, kernel=rbf, score=0.43478260869565216, total=   0.3s\n",
      "[CV] C=1000, decision_function_shape=ovr, kernel=rbf .................\n",
      "[CV]  C=1000, decision_function_shape=ovr, kernel=rbf, score=0.43478260869565216, total=   0.3s\n"
     ]
    },
    {
     "name": "stderr",
     "output_type": "stream",
     "text": [
      "[Parallel(n_jobs=1)]: Done  16 out of  16 | elapsed:    9.8s finished\n"
     ]
    },
    {
     "name": "stdout",
     "output_type": "stream",
     "text": [
      "12\n",
      "Fitting 1 folds for each of 16 candidates, totalling 16 fits\n",
      "[CV] C=1, decision_function_shape=ovo, kernel=linear .................\n",
      "[CV]  C=1, decision_function_shape=ovo, kernel=linear, score=0.3526570048309179, total=   0.2s\n",
      "[CV] C=1, decision_function_shape=ovr, kernel=linear .................\n"
     ]
    },
    {
     "name": "stderr",
     "output_type": "stream",
     "text": [
      "[Parallel(n_jobs=1)]: Done   1 out of   1 | elapsed:    0.5s remaining:    0.0s\n"
     ]
    },
    {
     "name": "stdout",
     "output_type": "stream",
     "text": [
      "[CV]  C=1, decision_function_shape=ovr, kernel=linear, score=0.3526570048309179, total=   0.2s\n",
      "[CV] C=10, decision_function_shape=ovo, kernel=linear ................\n"
     ]
    },
    {
     "name": "stderr",
     "output_type": "stream",
     "text": [
      "[Parallel(n_jobs=1)]: Done   2 out of   2 | elapsed:    1.1s remaining:    0.0s\n"
     ]
    },
    {
     "name": "stdout",
     "output_type": "stream",
     "text": [
      "[CV]  C=10, decision_function_shape=ovo, kernel=linear, score=0.40096618357487923, total=   0.2s\n",
      "[CV] C=10, decision_function_shape=ovr, kernel=linear ................\n",
      "[CV]  C=10, decision_function_shape=ovr, kernel=linear, score=0.40096618357487923, total=   0.3s\n",
      "[CV] C=100, decision_function_shape=ovo, kernel=linear ...............\n",
      "[CV]  C=100, decision_function_shape=ovo, kernel=linear, score=0.4106280193236715, total=   0.3s\n",
      "[CV] C=100, decision_function_shape=ovr, kernel=linear ...............\n",
      "[CV]  C=100, decision_function_shape=ovr, kernel=linear, score=0.4106280193236715, total=   0.3s\n",
      "[CV] C=1000, decision_function_shape=ovo, kernel=linear ..............\n",
      "[CV]  C=1000, decision_function_shape=ovo, kernel=linear, score=0.4106280193236715, total=   0.3s\n",
      "[CV] C=1000, decision_function_shape=ovr, kernel=linear ..............\n",
      "[CV]  C=1000, decision_function_shape=ovr, kernel=linear, score=0.4106280193236715, total=   0.3s\n",
      "[CV] C=1, decision_function_shape=ovo, kernel=rbf ....................\n",
      "[CV]  C=1, decision_function_shape=ovo, kernel=rbf, score=0.04830917874396135, total=   0.5s\n",
      "[CV] C=1, decision_function_shape=ovr, kernel=rbf ....................\n",
      "[CV]  C=1, decision_function_shape=ovr, kernel=rbf, score=0.04830917874396135, total=   0.5s\n",
      "[CV] C=10, decision_function_shape=ovo, kernel=rbf ...................\n",
      "[CV]  C=10, decision_function_shape=ovo, kernel=rbf, score=0.2028985507246377, total=   0.4s\n",
      "[CV] C=10, decision_function_shape=ovr, kernel=rbf ...................\n",
      "[CV]  C=10, decision_function_shape=ovr, kernel=rbf, score=0.2028985507246377, total=   0.4s\n",
      "[CV] C=100, decision_function_shape=ovo, kernel=rbf ..................\n",
      "[CV]  C=100, decision_function_shape=ovo, kernel=rbf, score=0.3140096618357488, total=   0.3s\n",
      "[CV] C=100, decision_function_shape=ovr, kernel=rbf ..................\n",
      "[CV]  C=100, decision_function_shape=ovr, kernel=rbf, score=0.3140096618357488, total=   0.3s\n",
      "[CV] C=1000, decision_function_shape=ovo, kernel=rbf .................\n",
      "[CV]  C=1000, decision_function_shape=ovo, kernel=rbf, score=0.4492753623188406, total=   0.3s\n",
      "[CV] C=1000, decision_function_shape=ovr, kernel=rbf .................\n",
      "[CV]  C=1000, decision_function_shape=ovr, kernel=rbf, score=0.4492753623188406, total=   0.3s\n"
     ]
    },
    {
     "name": "stderr",
     "output_type": "stream",
     "text": [
      "[Parallel(n_jobs=1)]: Done  16 out of  16 | elapsed:   10.3s finished\n"
     ]
    }
   ],
   "source": [
    "for nr in frame_numbers:\n",
    "    print(nr)\n",
    "    try:\n",
    "        emg_train_input, emg_train_label = prepare_data(train, nr, 'emg', verbose=False)\n",
    "        emg_valid_input, emg_valid_label = prepare_data(valid, nr, 'emg', verbose=False)\n",
    "\n",
    "        svc = GridSearchCV(svm.SVC(random_state=random_seed), parameters, cv=cross_valid, scoring='accuracy',\n",
    "                           verbose=verbose_level, n_jobs=parallel_jobs).fit(\n",
    "                                                                        np.append(emg_train_input, emg_valid_input, axis=0),\n",
    "                                                                        np.append(emg_train_label, emg_valid_label))\n",
    "\n",
    "        all_emg.append((svc.best_score_, nr, svc.best_params_))\n",
    "\n",
    "    except ValueError as err:\n",
    "        all_emg.append((-1, nr, svc.best_params_))"
   ]
  },
  {
   "cell_type": "code",
   "execution_count": 22,
   "metadata": {},
   "outputs": [
    {
     "name": "stdout",
     "output_type": "stream",
     "text": [
      "(0.57004830917874394, 6, {'C': 1000, 'decision_function_shape': 'ovo', 'kernel': 'linear'})\n",
      "(0.46859903381642515, 12, {'C': 1000, 'decision_function_shape': 'ovo', 'kernel': 'linear'})\n",
      "(0.46859903381642515, 3, {'C': 1000, 'decision_function_shape': 'ovo', 'kernel': 'linear'})\n",
      "(0.46859903381642515, 11, {'C': 100, 'decision_function_shape': 'ovo', 'kernel': 'linear'})\n"
     ]
    }
   ],
   "source": [
    "print(sorted(all_acc, reverse=True)[0], end='\\n')\n",
    "print(sorted(all_gyro, reverse=True)[0], end='\\n')\n",
    "print(sorted(all_ori, reverse=True)[0], end='\\n')\n",
    "print(sorted(all_emg, reverse=True)[0], end='\\n')"
   ]
  },
  {
   "cell_type": "code",
   "execution_count": 23,
   "metadata": {},
   "outputs": [
    {
     "name": "stdout",
     "output_type": "stream",
     "text": [
      "Duration: 1914.326845407486\n"
     ]
    }
   ],
   "source": [
    "print('Duration: {}'.format(time.time() - start_time))"
   ]
  },
  {
   "cell_type": "code",
   "execution_count": null,
   "metadata": {
    "collapsed": true
   },
   "outputs": [],
   "source": []
  }
 ],
 "metadata": {
  "kernelspec": {
   "display_name": "Python 3",
   "language": "python",
   "name": "python3"
  },
  "language_info": {
   "codemirror_mode": {
    "name": "ipython",
    "version": 3
   },
   "file_extension": ".py",
   "mimetype": "text/x-python",
   "name": "python",
   "nbconvert_exporter": "python",
   "pygments_lexer": "ipython3",
   "version": "3.6.1"
  }
 },
 "nbformat": 4,
 "nbformat_minor": 2
}
